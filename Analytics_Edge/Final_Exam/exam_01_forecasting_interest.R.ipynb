{
 "cells": [
  {
   "cell_type": "code",
   "execution_count": 1,
   "metadata": {
    "collapsed": true
   },
   "outputs": [],
   "source": [
    "fedFunds = read.csv(\"federalFundsRate.csv\", stringsAsFactors = FALSE)"
   ]
  },
  {
   "cell_type": "code",
   "execution_count": 2,
   "metadata": {
    "collapsed": false
   },
   "outputs": [
    {
     "name": "stdout",
     "output_type": "stream",
     "text": [
      "'data.frame':\t585 obs. of  12 variables:\n",
      " $ Date               : chr  \"1966-02-01\" \"1966-03-01\" \"1966-04-01\" \"1966-05-01\" ...\n",
      " $ Chairman           : chr  \"Martin, William M.\" \"Martin, William M.\" \"Martin, William M.\" \"Martin, William M.\" ...\n",
      " $ PreviousRate       : num  4.42 4.6 4.65 4.67 4.9 5.17 5.3 5.53 5.4 5.53 ...\n",
      " $ Streak             : int  4 5 6 7 8 9 10 11 -1 1 ...\n",
      " $ GDP                : num  4202 4202 4202 4219 4219 ...\n",
      " $ Unemployment       : num  4 3.8 3.8 3.8 3.9 3.8 3.8 3.8 3.7 3.7 ...\n",
      " $ CPI                : num  31.9 32.1 32.2 32.3 32.4 ...\n",
      " $ HomeownershipRate  : num  63.5 63.5 63.5 63.2 63.2 63.2 63.3 63.3 63.3 63.8 ...\n",
      " $ DebtAsPctGDP       : num  40.3 4201.9 4201.9 39.2 4219.1 ...\n",
      " $ DemocraticPres     : int  1 1 1 1 1 1 1 1 1 1 ...\n",
      " $ MonthsUntilElection: int  33 32 31 30 29 28 27 26 25 24 ...\n",
      " $ RaisedFedFunds     : int  1 1 1 1 1 1 1 0 1 1 ...\n"
     ]
    }
   ],
   "source": [
    "str(fedFunds)"
   ]
  },
  {
   "cell_type": "code",
   "execution_count": 3,
   "metadata": {
    "collapsed": false
   },
   "outputs": [
    {
     "data": {
      "text/plain": [
       "\n",
       "  0   1 \n",
       "291 294 "
      ]
     },
     "execution_count": 3,
     "metadata": {},
     "output_type": "execute_result"
    }
   ],
   "source": [
    "table(fedFunds$RaisedFedFunds)"
   ]
  },
  {
   "cell_type": "code",
   "execution_count": 4,
   "metadata": {
    "collapsed": false
   },
   "outputs": [
    {
     "data": {
      "text/html": [
       "0.502564102564103"
      ],
      "text/latex": [
       "0.502564102564103"
      ],
      "text/markdown": [
       "0.502564102564103"
      ],
      "text/plain": [
       "[1] 0.5025641"
      ]
     },
     "execution_count": 4,
     "metadata": {},
     "output_type": "execute_result"
    }
   ],
   "source": [
    "294/(294+291)"
   ]
  },
  {
   "cell_type": "code",
   "execution_count": 5,
   "metadata": {
    "collapsed": false
   },
   "outputs": [
    {
     "data": {
      "text/plain": [
       "                    \n",
       "                       0   1\n",
       "  Bernanke, Ben       64  32\n",
       "  Burns, Arthur       46  50\n",
       "  Greenspan, Alan    111 110\n",
       "  Martin, William M.  16  32\n",
       "  Miller, G. William   2  15\n",
       "  N/A                  0   2\n",
       "  Volcker, Paul       46  50\n",
       "  Yellen, Janet        6   3"
      ]
     },
     "execution_count": 5,
     "metadata": {},
     "output_type": "execute_result"
    }
   ],
   "source": [
    "table(fedFunds$Chairman, fedFunds$RaisedFedFunds)"
   ]
  },
  {
   "cell_type": "code",
   "execution_count": 6,
   "metadata": {
    "collapsed": false
   },
   "outputs": [
    {
     "data": {
      "text/plain": [
       "\n",
       "     Bernanke, Ben      Burns, Arthur    Greenspan, Alan Martin, William M. \n",
       "                96                 96                221                 48 \n",
       "Miller, G. William                N/A      Volcker, Paul      Yellen, Janet \n",
       "                17                  2                 96                  9 "
      ]
     },
     "execution_count": 6,
     "metadata": {},
     "output_type": "execute_result"
    }
   ],
   "source": [
    "table(fedFunds$Chairman)"
   ]
  },
  {
   "cell_type": "code",
   "execution_count": 7,
   "metadata": {
    "collapsed": true
   },
   "outputs": [],
   "source": [
    "fedFunds$Chairman= as.factor(fedFunds$Chairman)\n",
    "fedFunds$DemocraticPres = as.factor(fedFunds$DemocraticPres)\n",
    "fedFunds$RaisedFedFunds = as.factor(fedFunds$RaisedFedFunds)"
   ]
  },
  {
   "cell_type": "code",
   "execution_count": 8,
   "metadata": {
    "collapsed": true
   },
   "outputs": [],
   "source": [
    "set.seed(201)\n",
    "library(caTools)\n"
   ]
  },
  {
   "cell_type": "code",
   "execution_count": 9,
   "metadata": {
    "collapsed": true
   },
   "outputs": [],
   "source": [
    "spl = sample.split(fedFunds$RaisedFedFunds, SplitRatio = 0.70)"
   ]
  },
  {
   "cell_type": "code",
   "execution_count": 10,
   "metadata": {
    "collapsed": true
   },
   "outputs": [],
   "source": [
    "training = subset(fedFunds, spl == TRUE)\n",
    "testing = subset(fedFunds, spl == FALSE)"
   ]
  },
  {
   "cell_type": "code",
   "execution_count": 11,
   "metadata": {
    "collapsed": false
   },
   "outputs": [],
   "source": [
    "LogRegModel1 = glm(RaisedFedFunds~PreviousRate+Streak+Unemployment\n",
    "                   +HomeownershipRate+DemocraticPres+MonthsUntilElection, data=training, family = binomial)"
   ]
  },
  {
   "cell_type": "code",
   "execution_count": 12,
   "metadata": {
    "collapsed": false
   },
   "outputs": [
    {
     "data": {
      "text/plain": [
       "\n",
       "Call:\n",
       "glm(formula = RaisedFedFunds ~ PreviousRate + Streak + Unemployment + \n",
       "    HomeownershipRate + DemocraticPres + MonthsUntilElection, \n",
       "    family = binomial, data = training)\n",
       "\n",
       "Deviance Residuals: \n",
       "    Min       1Q   Median       3Q      Max  \n",
       "-2.8177  -1.0121   0.2301   1.0491   2.5297  \n",
       "\n",
       "Coefficients:\n",
       "                     Estimate Std. Error z value Pr(>|z|)    \n",
       "(Intercept)          9.121012   5.155774   1.769   0.0769 .  \n",
       "PreviousRate        -0.003427   0.032350  -0.106   0.9156    \n",
       "Streak               0.157658   0.025147   6.270 3.62e-10 ***\n",
       "Unemployment        -0.047449   0.065438  -0.725   0.4684    \n",
       "HomeownershipRate   -0.136451   0.076872  -1.775   0.0759 .  \n",
       "DemocraticPres1      0.347829   0.233200   1.492   0.1358    \n",
       "MonthsUntilElection -0.006931   0.007678  -0.903   0.3666    \n",
       "---\n",
       "Signif. codes:  0 ‘***’ 0.001 ‘**’ 0.01 ‘*’ 0.05 ‘.’ 0.1 ‘ ’ 1\n",
       "\n",
       "(Dispersion parameter for binomial family taken to be 1)\n",
       "\n",
       "    Null deviance: 568.37  on 409  degrees of freedom\n",
       "Residual deviance: 492.69  on 403  degrees of freedom\n",
       "AIC: 506.69\n",
       "\n",
       "Number of Fisher Scoring iterations: 4\n"
      ]
     },
     "execution_count": 12,
     "metadata": {},
     "output_type": "execute_result"
    }
   ],
   "source": [
    "summary(LogRegModel1)"
   ]
  },
  {
   "cell_type": "code",
   "execution_count": 13,
   "metadata": {
    "collapsed": false
   },
   "outputs": [
    {
     "data": {
      "text/html": [
       "0.362920704171803"
      ],
      "text/latex": [
       "0.362920704171803"
      ],
      "text/markdown": [
       "0.362920704171803"
      ],
      "text/plain": [
       "[1] 0.3629207"
      ]
     },
     "execution_count": 13,
     "metadata": {},
     "output_type": "execute_result"
    }
   ],
   "source": [
    "cor(fedFunds$Streak,as.numeric(fedFunds$RaisedFedFunds))"
   ]
  },
  {
   "cell_type": "code",
   "execution_count": 14,
   "metadata": {
    "collapsed": false
   },
   "outputs": [],
   "source": [
    "v=9.121012+(-0.003427*1.7)+(0.157658*-3)+(-0.047449*5.1)+(-0.136451*65.3)+(0.347829*0)+(-0.006931*18)"
   ]
  },
  {
   "cell_type": "code",
   "execution_count": 38,
   "metadata": {
    "collapsed": false
   },
   "outputs": [
    {
     "data": {
      "text/html": [
       "<ol class=list-inline>\n",
       "\t<li>1</li>\n",
       "\t<li>1</li>\n",
       "\t<li>1</li>\n",
       "\t<li>1</li>\n",
       "\t<li>1</li>\n",
       "\t<li>1</li>\n",
       "\t<li>1</li>\n",
       "\t<li>1</li>\n",
       "\t<li>1</li>\n",
       "\t<li>1</li>\n",
       "</ol>\n"
      ],
      "text/latex": [
       "\\begin{enumerate*}\n",
       "\\item 1\n",
       "\\item 1\n",
       "\\item 1\n",
       "\\item 1\n",
       "\\item 1\n",
       "\\item 1\n",
       "\\item 1\n",
       "\\item 1\n",
       "\\item 1\n",
       "\\item 1\n",
       "\\end{enumerate*}\n"
      ],
      "text/markdown": [
       "1. 1\n",
       "2. 1\n",
       "3. 1\n",
       "4. 1\n",
       "5. 1\n",
       "6. 1\n",
       "7. 1\n",
       "8. 1\n",
       "9. 1\n",
       "10. 1\n",
       "\n",
       "\n"
      ],
      "text/plain": [
       " [1] 1 1 1 1 1 1 1 1 1 1\n",
       "Levels: 0 1"
      ]
     },
     "execution_count": 38,
     "metadata": {},
     "output_type": "execute_result"
    }
   ],
   "source": [
    "fedFunds$DemocraticPres[1:10]"
   ]
  },
  {
   "cell_type": "code",
   "execution_count": 35,
   "metadata": {
    "collapsed": false
   },
   "outputs": [
    {
     "data": {
      "text/html": [
       "175"
      ],
      "text/latex": [
       "175"
      ],
      "text/markdown": [
       "175"
      ],
      "text/plain": [
       "[1] 175"
      ]
     },
     "execution_count": 35,
     "metadata": {},
     "output_type": "execute_result"
    }
   ],
   "source": [
    "nrow(testing)"
   ]
  },
  {
   "cell_type": "code",
   "execution_count": 47,
   "metadata": {
    "collapsed": true
   },
   "outputs": [],
   "source": [
    "t = data.frame(Streak=-3,PreviousRate=1.7,Unemployment=5.1,HomeownershipRate=65.3,DemocraticPres=factor(0),MonthsUntilElection=18)"
   ]
  },
  {
   "cell_type": "code",
   "execution_count": 48,
   "metadata": {
    "collapsed": false
   },
   "outputs": [
    {
     "data": {
      "text/html": [
       "<table>\n",
       "<thead><tr><th></th><th scope=col>Streak</th><th scope=col>PreviousRate</th><th scope=col>Unemployment</th><th scope=col>HomeownershipRate</th><th scope=col>DemocraticPres</th><th scope=col>MonthsUntilElection</th></tr></thead>\n",
       "<tbody>\n",
       "\t<tr><th scope=row>1</th><td>-3</td><td>1.7</td><td>5.1</td><td>65.3</td><td>0</td><td>18</td></tr>\n",
       "</tbody>\n",
       "</table>\n"
      ],
      "text/latex": [
       "\\begin{tabular}{r|llllll}\n",
       "  & Streak & PreviousRate & Unemployment & HomeownershipRate & DemocraticPres & MonthsUntilElection\\\\\n",
       "\\hline\n",
       "\t1 & -3 & 1.7 & 5.1 & 65.3 & 0 & 18\\\\\n",
       "\\end{tabular}\n"
      ],
      "text/plain": [
       "  Streak PreviousRate Unemployment HomeownershipRate DemocraticPres\n",
       "1     -3          1.7          5.1              65.3              0\n",
       "  MonthsUntilElection\n",
       "1                  18"
      ]
     },
     "execution_count": 48,
     "metadata": {},
     "output_type": "execute_result"
    }
   ],
   "source": [
    "t"
   ]
  },
  {
   "cell_type": "code",
   "execution_count": 49,
   "metadata": {
    "collapsed": false
   },
   "outputs": [],
   "source": [
    "tres = predict(LogRegModel1,newdata = t,type = \"response\")"
   ]
  },
  {
   "cell_type": "code",
   "execution_count": 50,
   "metadata": {
    "collapsed": false
   },
   "outputs": [
    {
     "data": {
      "text/html": [
       "<strong>1:</strong> 0.346429739708451"
      ],
      "text/latex": [
       "\\textbf{1:} 0.346429739708451"
      ],
      "text/markdown": [
       "**1:** 0.346429739708451"
      ],
      "text/plain": [
       "        1 \n",
       "0.3464297 "
      ]
     },
     "execution_count": 50,
     "metadata": {},
     "output_type": "execute_result"
    }
   ],
   "source": [
    "tres"
   ]
  },
  {
   "cell_type": "code",
   "execution_count": 15,
   "metadata": {
    "collapsed": false
   },
   "outputs": [
    {
     "data": {
      "text/html": [
       "0.34642609769005"
      ],
      "text/latex": [
       "0.34642609769005"
      ],
      "text/markdown": [
       "0.34642609769005"
      ],
      "text/plain": [
       "[1] 0.3464261"
      ]
     },
     "execution_count": 15,
     "metadata": {},
     "output_type": "execute_result"
    }
   ],
   "source": [
    "p1=1/(1+exp(-v))\n",
    "p1"
   ]
  },
  {
   "cell_type": "code",
   "execution_count": 19,
   "metadata": {
    "collapsed": true
   },
   "outputs": [],
   "source": [
    "v2= 9.121012+(-0.003427*1.7)+(0.157658*-3)+(-0.047449*5.1)+(-0.136451*65.3)+(0.347829*1)+(-0.006931*18)"
   ]
  },
  {
   "cell_type": "code",
   "execution_count": 20,
   "metadata": {
    "collapsed": false
   },
   "outputs": [
    {
     "data": {
      "text/html": [
       "0.428748982031941"
      ],
      "text/latex": [
       "0.428748982031941"
      ],
      "text/markdown": [
       "0.428748982031941"
      ],
      "text/plain": [
       "[1] 0.428749"
      ]
     },
     "execution_count": 20,
     "metadata": {},
     "output_type": "execute_result"
    }
   ],
   "source": [
    "p2=1/(1+exp(-v2))\n",
    "p2"
   ]
  },
  {
   "cell_type": "code",
   "execution_count": 21,
   "metadata": {
    "collapsed": false
   },
   "outputs": [
    {
     "data": {
      "text/html": [
       "1.23763476507923"
      ],
      "text/latex": [
       "1.23763476507923"
      ],
      "text/markdown": [
       "1.23763476507923"
      ],
      "text/plain": [
       "[1] 1.237635"
      ]
     },
     "execution_count": 21,
     "metadata": {},
     "output_type": "execute_result"
    }
   ],
   "source": [
    "p2/p1"
   ]
  },
  {
   "cell_type": "code",
   "execution_count": 22,
   "metadata": {
    "collapsed": true
   },
   "outputs": [],
   "source": [
    "t=table(fedFunds$RaisedFedFunds)"
   ]
  },
  {
   "cell_type": "code",
   "execution_count": 23,
   "metadata": {
    "collapsed": false
   },
   "outputs": [
    {
     "data": {
      "text/plain": [
       "\n",
       "  0   1 \n",
       "291 294 "
      ]
     },
     "execution_count": 23,
     "metadata": {},
     "output_type": "execute_result"
    }
   ],
   "source": [
    "t"
   ]
  },
  {
   "cell_type": "code",
   "execution_count": 26,
   "metadata": {
    "collapsed": false
   },
   "outputs": [
    {
     "data": {
      "text/html": [
       "0.502564102564103"
      ],
      "text/latex": [
       "0.502564102564103"
      ],
      "text/markdown": [
       "0.502564102564103"
      ],
      "text/plain": [
       "[1] 0.5025641"
      ]
     },
     "execution_count": 26,
     "metadata": {},
     "output_type": "execute_result"
    }
   ],
   "source": [
    "294/(294+291)"
   ]
  },
  {
   "cell_type": "code",
   "execution_count": 27,
   "metadata": {
    "collapsed": true
   },
   "outputs": [],
   "source": [
    "predRes = predict(LogRegModel1, newdata = testing, type = \"response\")"
   ]
  },
  {
   "cell_type": "code",
   "execution_count": 28,
   "metadata": {
    "collapsed": true
   },
   "outputs": [],
   "source": [
    "t = table(testing$RaisedFedFunds,predRes>0.5)"
   ]
  },
  {
   "cell_type": "code",
   "execution_count": 29,
   "metadata": {
    "collapsed": false
   },
   "outputs": [
    {
     "data": {
      "text/plain": [
       "   \n",
       "    FALSE TRUE\n",
       "  0    60   27\n",
       "  1    31   57"
      ]
     },
     "execution_count": 29,
     "metadata": {},
     "output_type": "execute_result"
    }
   ],
   "source": [
    "t"
   ]
  },
  {
   "cell_type": "code",
   "execution_count": 40,
   "metadata": {
    "collapsed": false
   },
   "outputs": [
    {
     "data": {
      "text/html": [
       "91"
      ],
      "text/latex": [
       "91"
      ],
      "text/markdown": [
       "91"
      ],
      "text/plain": [
       "[1] 91"
      ]
     },
     "execution_count": 40,
     "metadata": {},
     "output_type": "execute_result"
    }
   ],
   "source": [
    "sum(predRes<0.5)"
   ]
  },
  {
   "cell_type": "code",
   "execution_count": 44,
   "metadata": {
    "collapsed": false
   },
   "outputs": [
    {
     "data": {
      "text/html": [
       "84"
      ],
      "text/latex": [
       "84"
      ],
      "text/markdown": [
       "84"
      ],
      "text/plain": [
       "[1] 84"
      ]
     },
     "execution_count": 44,
     "metadata": {},
     "output_type": "execute_result"
    }
   ],
   "source": [
    "predResBin = as.numeric(predRes>=0.5)\n",
    "sum(predResBin)"
   ]
  },
  {
   "cell_type": "code",
   "execution_count": 49,
   "metadata": {
    "collapsed": false
   },
   "outputs": [
    {
     "data": {
      "text/html": [
       "175"
      ],
      "text/latex": [
       "175"
      ],
      "text/markdown": [
       "175"
      ],
      "text/plain": [
       "[1] 175"
      ]
     },
     "execution_count": 49,
     "metadata": {},
     "output_type": "execute_result"
    }
   ],
   "source": [
    "length(predResBin)"
   ]
  },
  {
   "cell_type": "code",
   "execution_count": 46,
   "metadata": {
    "collapsed": false
   },
   "outputs": [
    {
     "name": "stderr",
     "output_type": "stream",
     "text": [
      "Loading required package: gplots\n",
      "\n",
      "Attaching package: ‘gplots’\n",
      "\n",
      "The following object is masked from ‘package:stats’:\n",
      "\n",
      "    lowess\n",
      "\n"
     ]
    }
   ],
   "source": [
    "library(ROCR)"
   ]
  },
  {
   "cell_type": "code",
   "execution_count": 54,
   "metadata": {
    "collapsed": false
   },
   "outputs": [],
   "source": [
    "ROCRpredTest = prediction(predRes, testing$RaisedFedFunds)"
   ]
  },
  {
   "cell_type": "code",
   "execution_count": 55,
   "metadata": {
    "collapsed": true
   },
   "outputs": [],
   "source": [
    "auc = as.numeric(performance(ROCRpredTest,\"auc\")@y.values)"
   ]
  },
  {
   "cell_type": "code",
   "execution_count": 56,
   "metadata": {
    "collapsed": false
   },
   "outputs": [
    {
     "data": {
      "text/html": [
       "0.704022988505748"
      ],
      "text/latex": [
       "0.704022988505748"
      ],
      "text/markdown": [
       "0.704022988505748"
      ],
      "text/plain": [
       "[1] 0.704023"
      ]
     },
     "execution_count": 56,
     "metadata": {},
     "output_type": "execute_result"
    }
   ],
   "source": [
    "auc"
   ]
  },
  {
   "cell_type": "code",
   "execution_count": 60,
   "metadata": {
    "collapsed": false
   },
   "outputs": [],
   "source": [
    "ROCRPerf = performance(ROCRpredTest,\"tpr\",\"fpr\")"
   ]
  },
  {
   "cell_type": "code",
   "execution_count": 62,
   "metadata": {
    "collapsed": false
   },
   "outputs": [
    {
     "data": {
      "image/png": "[encoded data removed]",
      "image/svg+xml": [
       "<?xml version=\"1.0\" encoding=\"UTF-8\"?>\n",
       "<svg xmlns=\"http://www.w3.org/2000/svg\" xmlns:xlink=\"http://www.w3.org/1999/xlink\" width=\"504pt\" height=\"504pt\" viewBox=\"0 0 504 504\" version=\"1.1\">\n",
       "<defs>\n",
       "<g>\n",
       "<symbol overflow=\"visible\" id=\"glyph0-0\">\n",
       "<path style=\"stroke:none;\" d=\"\"/>\n",
       "</symbol>\n",
       "<symbol overflow=\"visible\" id=\"glyph0-1\">\n",
       "<path style=\"stroke:none;\" d=\"M 2.203125 -3.984375 L 6.375 -3.984375 L 6.375 -4.96875 L 2.203125 -4.96875 L 2.203125 -7.765625 L 6.953125 -7.765625 L 6.953125 -8.75 L 1.078125 -8.75 L 1.078125 0 L 2.203125 0 Z \"/>\n",
       "</symbol>\n",
       "<symbol overflow=\"visible\" id=\"glyph0-2\">\n",
       "<path style=\"stroke:none;\" d=\"M 6.421875 -0.59375 C 6.3125 -0.5625 6.265625 -0.5625 6.203125 -0.5625 C 5.859375 -0.5625 5.65625 -0.75 5.65625 -1.0625 L 5.65625 -4.75 C 5.65625 -5.875 4.84375 -6.46875 3.296875 -6.46875 C 2.390625 -6.46875 1.625 -6.203125 1.21875 -5.734375 C 0.921875 -5.40625 0.796875 -5.046875 0.78125 -4.421875 L 1.78125 -4.421875 C 1.875 -5.203125 2.328125 -5.546875 3.265625 -5.546875 C 4.15625 -5.546875 4.671875 -5.203125 4.671875 -4.609375 L 4.671875 -4.34375 C 4.671875 -3.921875 4.421875 -3.75 3.625 -3.640625 C 2.203125 -3.46875 1.984375 -3.421875 1.609375 -3.265625 C 0.875 -2.96875 0.5 -2.40625 0.5 -1.578125 C 0.5 -0.4375 1.296875 0.28125 2.5625 0.28125 C 3.359375 0.28125 4 0 4.703125 -0.640625 C 4.78125 -0.015625 5.09375 0.28125 5.734375 0.28125 C 5.9375 0.28125 6.09375 0.25 6.421875 0.171875 Z M 4.671875 -1.984375 C 4.671875 -1.640625 4.578125 -1.4375 4.265625 -1.15625 C 3.859375 -0.796875 3.375 -0.59375 2.78125 -0.59375 C 2 -0.59375 1.546875 -0.96875 1.546875 -1.609375 C 1.546875 -2.265625 1.984375 -2.609375 3.0625 -2.765625 C 4.109375 -2.90625 4.328125 -2.953125 4.671875 -3.109375 Z \"/>\n",
       "</symbol>\n",
       "<symbol overflow=\"visible\" id=\"glyph0-3\">\n",
       "<path style=\"stroke:none;\" d=\"M 1.828125 -8.75 L 0.8125 -8.75 L 0.8125 0 L 1.828125 0 Z \"/>\n",
       "</symbol>\n",
       "<symbol overflow=\"visible\" id=\"glyph0-4\">\n",
       "<path style=\"stroke:none;\" d=\"M 5.25 -4.53125 C 5.25 -5.765625 4.421875 -6.46875 2.96875 -6.46875 C 1.515625 -6.46875 0.5625 -5.71875 0.5625 -4.546875 C 0.5625 -3.5625 1.0625 -3.09375 2.5625 -2.734375 L 3.484375 -2.515625 C 4.1875 -2.34375 4.46875 -2.09375 4.46875 -1.625 C 4.46875 -1.046875 3.875 -0.640625 3 -0.640625 C 2.453125 -0.640625 2 -0.796875 1.75 -1.0625 C 1.59375 -1.25 1.53125 -1.421875 1.46875 -1.875 L 0.40625 -1.875 C 0.453125 -0.421875 1.265625 0.28125 2.921875 0.28125 C 4.5 0.28125 5.515625 -0.5 5.515625 -1.71875 C 5.515625 -2.65625 4.984375 -3.171875 3.734375 -3.46875 L 2.765625 -3.703125 C 1.953125 -3.890625 1.609375 -4.15625 1.609375 -4.59375 C 1.609375 -5.171875 2.125 -5.546875 2.9375 -5.546875 C 3.75 -5.546875 4.171875 -5.203125 4.203125 -4.53125 Z \"/>\n",
       "</symbol>\n",
       "<symbol overflow=\"visible\" id=\"glyph0-5\">\n",
       "<path style=\"stroke:none;\" d=\"M 6.15625 -2.8125 C 6.15625 -3.765625 6.078125 -4.34375 5.90625 -4.8125 C 5.5 -5.84375 4.53125 -6.46875 3.359375 -6.46875 C 1.609375 -6.46875 0.484375 -5.125 0.484375 -3.0625 C 0.484375 -1 1.578125 0.28125 3.34375 0.28125 C 4.78125 0.28125 5.765625 -0.546875 6.03125 -1.90625 L 5.015625 -1.90625 C 4.734375 -1.078125 4.171875 -0.640625 3.375 -0.640625 C 2.734375 -0.640625 2.203125 -0.9375 1.859375 -1.46875 C 1.625 -1.828125 1.53125 -2.1875 1.53125 -2.8125 Z M 1.546875 -3.625 C 1.625 -4.78125 2.34375 -5.546875 3.34375 -5.546875 C 4.328125 -5.546875 5.09375 -4.734375 5.09375 -3.703125 C 5.09375 -3.671875 5.09375 -3.640625 5.078125 -3.625 Z \"/>\n",
       "</symbol>\n",
       "<symbol overflow=\"visible\" id=\"glyph0-6\">\n",
       "<path style=\"stroke:none;\" d=\"\"/>\n",
       "</symbol>\n",
       "<symbol overflow=\"visible\" id=\"glyph0-7\">\n",
       "<path style=\"stroke:none;\" d=\"M 0.640625 2.609375 L 1.65625 2.609375 L 1.65625 -0.65625 C 2.1875 -0.015625 2.765625 0.28125 3.59375 0.28125 C 5.203125 0.28125 6.28125 -1.03125 6.28125 -3.03125 C 6.28125 -5.140625 5.25 -6.46875 3.578125 -6.46875 C 2.71875 -6.46875 2.046875 -6.078125 1.578125 -5.34375 L 1.578125 -6.28125 L 0.640625 -6.28125 Z M 3.40625 -5.53125 C 4.515625 -5.53125 5.234375 -4.5625 5.234375 -3.0625 C 5.234375 -1.625 4.5 -0.65625 3.40625 -0.65625 C 2.359375 -0.65625 1.65625 -1.625 1.65625 -3.09375 C 1.65625 -4.578125 2.359375 -5.53125 3.40625 -5.53125 Z \"/>\n",
       "</symbol>\n",
       "<symbol overflow=\"visible\" id=\"glyph0-8\">\n",
       "<path style=\"stroke:none;\" d=\"M 3.265625 -6.46875 C 1.5 -6.46875 0.4375 -5.203125 0.4375 -3.09375 C 0.4375 -0.984375 1.484375 0.28125 3.28125 0.28125 C 5.046875 0.28125 6.125 -0.984375 6.125 -3.046875 C 6.125 -5.21875 5.078125 -6.46875 3.265625 -6.46875 Z M 3.28125 -5.546875 C 4.40625 -5.546875 5.078125 -4.625 5.078125 -3.0625 C 5.078125 -1.578125 4.375 -0.640625 3.28125 -0.640625 C 2.15625 -0.640625 1.46875 -1.578125 1.46875 -3.09375 C 1.46875 -4.609375 2.15625 -5.546875 3.28125 -5.546875 Z \"/>\n",
       "</symbol>\n",
       "<symbol overflow=\"visible\" id=\"glyph0-9\">\n",
       "<path style=\"stroke:none;\" d=\"M 1.796875 -6.28125 L 0.796875 -6.28125 L 0.796875 0 L 1.796875 0 Z M 1.796875 -8.75 L 0.796875 -8.75 L 0.796875 -7.484375 L 1.796875 -7.484375 Z \"/>\n",
       "</symbol>\n",
       "<symbol overflow=\"visible\" id=\"glyph0-10\">\n",
       "<path style=\"stroke:none;\" d=\"M 3.046875 -6.28125 L 2.015625 -6.28125 L 2.015625 -8.015625 L 1.015625 -8.015625 L 1.015625 -6.28125 L 0.171875 -6.28125 L 0.171875 -5.46875 L 1.015625 -5.46875 L 1.015625 -0.71875 C 1.015625 -0.078125 1.453125 0.28125 2.234375 0.28125 C 2.46875 0.28125 2.71875 0.25 3.046875 0.1875 L 3.046875 -0.640625 C 2.921875 -0.609375 2.765625 -0.59375 2.5625 -0.59375 C 2.140625 -0.59375 2.015625 -0.71875 2.015625 -1.15625 L 2.015625 -5.46875 L 3.046875 -5.46875 Z \"/>\n",
       "</symbol>\n",
       "<symbol overflow=\"visible\" id=\"glyph0-11\">\n",
       "<path style=\"stroke:none;\" d=\"M 3.421875 0 L 5.828125 -6.28125 L 4.703125 -6.28125 L 2.921875 -1.1875 L 1.25 -6.28125 L 0.125 -6.28125 L 2.328125 0 Z \"/>\n",
       "</symbol>\n",
       "<symbol overflow=\"visible\" id=\"glyph0-12\">\n",
       "<path style=\"stroke:none;\" d=\"M 0.828125 -6.28125 L 0.828125 0 L 1.84375 0 L 1.84375 -3.265625 C 1.84375 -4.15625 2.0625 -4.75 2.546875 -5.09375 C 2.859375 -5.328125 3.15625 -5.40625 3.859375 -5.40625 L 3.859375 -6.4375 C 3.6875 -6.453125 3.59375 -6.46875 3.46875 -6.46875 C 2.8125 -6.46875 2.328125 -6.078125 1.75 -5.140625 L 1.75 -6.28125 Z \"/>\n",
       "</symbol>\n",
       "<symbol overflow=\"visible\" id=\"glyph0-13\">\n",
       "<path style=\"stroke:none;\" d=\"M 3.296875 -8.515625 C 2.515625 -8.515625 1.78125 -8.15625 1.34375 -7.578125 C 0.796875 -6.828125 0.515625 -5.6875 0.515625 -4.109375 C 0.515625 -1.25 1.46875 0.28125 3.296875 0.28125 C 5.09375 0.28125 6.078125 -1.25 6.078125 -4.046875 C 6.078125 -5.703125 5.8125 -6.796875 5.25 -7.578125 C 4.8125 -8.171875 4.109375 -8.515625 3.296875 -8.515625 Z M 3.296875 -7.578125 C 4.4375 -7.578125 5 -6.421875 5 -4.140625 C 5 -1.734375 4.453125 -0.59375 3.28125 -0.59375 C 2.15625 -0.59375 1.59375 -1.78125 1.59375 -4.109375 C 1.59375 -6.4375 2.15625 -7.578125 3.296875 -7.578125 Z \"/>\n",
       "</symbol>\n",
       "<symbol overflow=\"visible\" id=\"glyph0-14\">\n",
       "<path style=\"stroke:none;\" d=\"M 2.296875 -1.25 L 1.046875 -1.25 L 1.046875 0 L 2.296875 0 Z \"/>\n",
       "</symbol>\n",
       "<symbol overflow=\"visible\" id=\"glyph0-15\">\n",
       "<path style=\"stroke:none;\" d=\"M 6.078125 -1.046875 L 1.59375 -1.046875 C 1.703125 -1.734375 2.09375 -2.1875 3.125 -2.796875 L 4.328125 -3.4375 C 5.515625 -4.09375 6.125 -4.96875 6.125 -6.015625 C 6.125 -6.71875 5.84375 -7.375 5.34375 -7.84375 C 4.84375 -8.296875 4.21875 -8.515625 3.40625 -8.515625 C 2.328125 -8.515625 1.53125 -8.125 1.0625 -7.40625 C 0.75 -6.953125 0.625 -6.421875 0.59375 -5.5625 L 1.65625 -5.5625 C 1.6875 -6.125 1.765625 -6.484375 1.90625 -6.75 C 2.1875 -7.265625 2.734375 -7.578125 3.375 -7.578125 C 4.328125 -7.578125 5.046875 -6.90625 5.046875 -5.984375 C 5.046875 -5.3125 4.65625 -4.734375 3.90625 -4.3125 L 2.796875 -3.6875 C 1.015625 -2.671875 0.5 -1.875 0.40625 0 L 6.078125 0 Z \"/>\n",
       "</symbol>\n",
       "<symbol overflow=\"visible\" id=\"glyph0-16\">\n",
       "<path style=\"stroke:none;\" d=\"M 3.921875 -2.046875 L 3.921875 0 L 4.984375 0 L 4.984375 -2.046875 L 6.234375 -2.046875 L 6.234375 -2.984375 L 4.984375 -2.984375 L 4.984375 -8.515625 L 4.203125 -8.515625 L 0.34375 -3.15625 L 0.34375 -2.046875 Z M 3.921875 -2.984375 L 1.265625 -2.984375 L 3.921875 -6.703125 Z \"/>\n",
       "</symbol>\n",
       "<symbol overflow=\"visible\" id=\"glyph0-17\">\n",
       "<path style=\"stroke:none;\" d=\"M 5.96875 -6.28125 C 5.765625 -7.6875 4.859375 -8.515625 3.5625 -8.515625 C 2.625 -8.515625 1.78125 -8.046875 1.28125 -7.296875 C 0.75 -6.46875 0.515625 -5.421875 0.515625 -3.875 C 0.515625 -2.453125 0.734375 -1.53125 1.234375 -0.78125 C 1.6875 -0.09375 2.4375 0.28125 3.375 0.28125 C 4.984375 0.28125 6.15625 -0.921875 6.15625 -2.59375 C 6.15625 -4.171875 5.078125 -5.296875 3.546875 -5.296875 C 2.71875 -5.296875 2.046875 -4.96875 1.59375 -4.34375 C 1.609375 -6.421875 2.28125 -7.578125 3.484375 -7.578125 C 4.234375 -7.578125 4.75 -7.109375 4.921875 -6.28125 Z M 3.421875 -4.359375 C 4.4375 -4.359375 5.078125 -3.640625 5.078125 -2.515625 C 5.078125 -1.4375 4.359375 -0.65625 3.390625 -0.65625 C 2.40625 -0.65625 1.65625 -1.46875 1.65625 -2.5625 C 1.65625 -3.625 2.375 -4.359375 3.421875 -4.359375 Z \"/>\n",
       "</symbol>\n",
       "<symbol overflow=\"visible\" id=\"glyph0-18\">\n",
       "<path style=\"stroke:none;\" d=\"M 4.6875 -4.46875 C 5.5625 -5 5.859375 -5.4375 5.859375 -6.234375 C 5.859375 -7.578125 4.8125 -8.515625 3.296875 -8.515625 C 1.796875 -8.515625 0.75 -7.578125 0.75 -6.234375 C 0.75 -5.453125 1.03125 -5.015625 1.890625 -4.46875 C 0.921875 -4.015625 0.4375 -3.296875 0.4375 -2.359375 C 0.4375 -0.796875 1.625 0.28125 3.296875 0.28125 C 4.984375 0.28125 6.15625 -0.796875 6.15625 -2.359375 C 6.15625 -3.296875 5.671875 -4.015625 4.6875 -4.46875 Z M 3.296875 -7.578125 C 4.203125 -7.578125 4.78125 -7.046875 4.78125 -6.21875 C 4.78125 -5.421875 4.1875 -4.890625 3.296875 -4.890625 C 2.40625 -4.890625 1.828125 -5.421875 1.828125 -6.234375 C 1.828125 -7.046875 2.40625 -7.578125 3.296875 -7.578125 Z M 3.296875 -4.015625 C 4.359375 -4.015625 5.078125 -3.34375 5.078125 -2.34375 C 5.078125 -1.328125 4.359375 -0.65625 3.28125 -0.65625 C 2.25 -0.65625 1.53125 -1.34375 1.53125 -2.34375 C 1.53125 -3.34375 2.25 -4.015625 3.296875 -4.015625 Z \"/>\n",
       "</symbol>\n",
       "<symbol overflow=\"visible\" id=\"glyph0-19\">\n",
       "<path style=\"stroke:none;\" d=\"M 3.109375 -6.0625 L 3.109375 0 L 4.15625 0 L 4.15625 -8.515625 L 3.46875 -8.515625 C 3.09375 -7.203125 2.859375 -7.015625 1.21875 -6.8125 L 1.21875 -6.0625 Z \"/>\n",
       "</symbol>\n",
       "<symbol overflow=\"visible\" id=\"glyph0-20\">\n",
       "<path style=\"stroke:none;\" d=\"M 2.65625 -3.90625 L 3.234375 -3.90625 C 4.390625 -3.90625 4.984375 -3.390625 4.984375 -2.359375 C 4.984375 -1.296875 4.328125 -0.65625 3.234375 -0.65625 C 2.078125 -0.65625 1.515625 -1.234375 1.4375 -2.46875 L 0.390625 -2.46875 C 0.4375 -1.78125 0.546875 -1.34375 0.75 -0.953125 C 1.1875 -0.140625 2.03125 0.28125 3.1875 0.28125 C 4.9375 0.28125 6.078125 -0.765625 6.078125 -2.375 C 6.078125 -3.453125 5.65625 -4.0625 4.625 -4.40625 C 5.421875 -4.71875 5.8125 -5.3125 5.8125 -6.171875 C 5.8125 -7.625 4.84375 -8.515625 3.234375 -8.515625 C 1.515625 -8.515625 0.59375 -7.578125 0.5625 -5.765625 L 1.625 -5.765625 C 1.625 -6.28125 1.6875 -6.5625 1.8125 -6.828125 C 2.046875 -7.296875 2.578125 -7.578125 3.234375 -7.578125 C 4.171875 -7.578125 4.734375 -7.03125 4.734375 -6.125 C 4.734375 -5.53125 4.53125 -5.171875 4.0625 -4.984375 C 3.765625 -4.859375 3.390625 -4.8125 2.65625 -4.796875 Z \"/>\n",
       "</symbol>\n",
       "<symbol overflow=\"visible\" id=\"glyph0-21\">\n",
       "<path style=\"stroke:none;\" d=\"M 5.71875 -8.515625 L 1.3125 -8.515625 L 0.6875 -3.875 L 1.65625 -3.875 C 2.140625 -4.46875 2.5625 -4.671875 3.21875 -4.671875 C 4.359375 -4.671875 5.078125 -3.890625 5.078125 -2.625 C 5.078125 -1.40625 4.375 -0.65625 3.21875 -0.65625 C 2.296875 -0.65625 1.734375 -1.125 1.46875 -2.09375 L 0.421875 -2.09375 C 0.5625 -1.390625 0.6875 -1.0625 0.9375 -0.75 C 1.421875 -0.09375 2.28125 0.28125 3.234375 0.28125 C 4.953125 0.28125 6.15625 -0.96875 6.15625 -2.765625 C 6.15625 -4.453125 5.046875 -5.609375 3.40625 -5.609375 C 2.8125 -5.609375 2.328125 -5.453125 1.84375 -5.09375 L 2.171875 -7.46875 L 5.71875 -7.46875 Z \"/>\n",
       "</symbol>\n",
       "<symbol overflow=\"visible\" id=\"glyph0-22\">\n",
       "<path style=\"stroke:none;\" d=\"M 6.234375 -8.515625 L 0.546875 -8.515625 L 0.546875 -7.46875 L 5.140625 -7.46875 C 3.125 -4.578125 2.296875 -2.796875 1.65625 0 L 2.78125 0 C 3.25 -2.71875 4.3125 -5.0625 6.234375 -7.625 Z \"/>\n",
       "</symbol>\n",
       "<symbol overflow=\"visible\" id=\"glyph0-23\">\n",
       "<path style=\"stroke:none;\" d=\"M 0.640625 -1.9375 C 0.84375 -0.546875 1.75 0.28125 3.046875 0.28125 C 3.984375 0.28125 4.84375 -0.1875 5.328125 -0.9375 C 5.875 -1.765625 6.109375 -2.8125 6.109375 -4.359375 C 6.109375 -5.78125 5.890625 -6.703125 5.390625 -7.453125 C 4.921875 -8.140625 4.171875 -8.515625 3.234375 -8.515625 C 1.625 -8.515625 0.453125 -7.3125 0.453125 -5.640625 C 0.453125 -4.0625 1.53125 -2.9375 3.078125 -2.9375 C 3.875 -2.9375 4.46875 -3.234375 5.015625 -3.890625 C 5 -1.8125 4.328125 -0.65625 3.125 -0.65625 C 2.375 -0.65625 1.859375 -1.125 1.6875 -1.9375 Z M 3.234375 -7.578125 C 4.21875 -7.578125 4.953125 -6.765625 4.953125 -5.65625 C 4.953125 -4.625 4.21875 -3.875 3.1875 -3.875 C 2.171875 -3.875 1.53125 -4.578125 1.53125 -5.71875 C 1.53125 -6.796875 2.25 -7.578125 3.234375 -7.578125 Z \"/>\n",
       "</symbol>\n",
       "<symbol overflow=\"visible\" id=\"glyph1-0\">\n",
       "<path style=\"stroke:none;\" d=\"\"/>\n",
       "</symbol>\n",
       "<symbol overflow=\"visible\" id=\"glyph1-1\">\n",
       "<path style=\"stroke:none;\" d=\"M -7.765625 -4.25 L -7.765625 -7.109375 L -8.75 -7.109375 L -8.75 -0.25 L -7.765625 -0.25 L -7.765625 -3.125 L 0 -3.125 L 0 -4.25 Z \"/>\n",
       "</symbol>\n",
       "<symbol overflow=\"visible\" id=\"glyph1-2\">\n",
       "<path style=\"stroke:none;\" d=\"M -6.28125 -0.828125 L 0 -0.828125 L 0 -1.84375 L -3.265625 -1.84375 C -4.15625 -1.84375 -4.75 -2.0625 -5.09375 -2.546875 C -5.328125 -2.859375 -5.40625 -3.15625 -5.40625 -3.859375 L -6.4375 -3.859375 C -6.453125 -3.6875 -6.46875 -3.59375 -6.46875 -3.46875 C -6.46875 -2.8125 -6.078125 -2.328125 -5.140625 -1.75 L -6.28125 -1.75 Z \"/>\n",
       "</symbol>\n",
       "<symbol overflow=\"visible\" id=\"glyph1-3\">\n",
       "<path style=\"stroke:none;\" d=\"M 0 -5.78125 L -6.28125 -5.78125 L -6.28125 -4.78125 L -2.71875 -4.78125 C -1.4375 -4.78125 -0.59375 -4.109375 -0.59375 -3.078125 C -0.59375 -2.28125 -1.078125 -1.78125 -1.84375 -1.78125 L -6.28125 -1.78125 L -6.28125 -0.78125 L -1.4375 -0.78125 C -0.390625 -0.78125 0.28125 -1.5625 0.28125 -2.78125 C 0.28125 -3.703125 -0.046875 -4.296875 -0.875 -4.890625 L 0 -4.890625 Z \"/>\n",
       "</symbol>\n",
       "<symbol overflow=\"visible\" id=\"glyph1-4\">\n",
       "<path style=\"stroke:none;\" d=\"M -2.8125 -6.15625 C -3.765625 -6.15625 -4.34375 -6.078125 -4.8125 -5.90625 C -5.84375 -5.5 -6.46875 -4.53125 -6.46875 -3.359375 C -6.46875 -1.609375 -5.125 -0.484375 -3.0625 -0.484375 C -1 -0.484375 0.28125 -1.578125 0.28125 -3.34375 C 0.28125 -4.78125 -0.546875 -5.765625 -1.90625 -6.03125 L -1.90625 -5.015625 C -1.078125 -4.734375 -0.640625 -4.171875 -0.640625 -3.375 C -0.640625 -2.734375 -0.9375 -2.203125 -1.46875 -1.859375 C -1.828125 -1.625 -2.1875 -1.53125 -2.8125 -1.53125 Z M -3.625 -1.546875 C -4.78125 -1.625 -5.546875 -2.34375 -5.546875 -3.34375 C -5.546875 -4.328125 -4.734375 -5.09375 -3.703125 -5.09375 C -3.671875 -5.09375 -3.640625 -5.09375 -3.625 -5.078125 Z \"/>\n",
       "</symbol>\n",
       "<symbol overflow=\"visible\" id=\"glyph1-5\">\n",
       "<path style=\"stroke:none;\" d=\"\"/>\n",
       "</symbol>\n",
       "<symbol overflow=\"visible\" id=\"glyph1-6\">\n",
       "<path style=\"stroke:none;\" d=\"M 2.609375 -0.640625 L 2.609375 -1.65625 L -0.65625 -1.65625 C -0.015625 -2.1875 0.28125 -2.765625 0.28125 -3.59375 C 0.28125 -5.203125 -1.03125 -6.28125 -3.03125 -6.28125 C -5.140625 -6.28125 -6.46875 -5.25 -6.46875 -3.578125 C -6.46875 -2.71875 -6.078125 -2.046875 -5.34375 -1.578125 L -6.28125 -1.578125 L -6.28125 -0.640625 Z M -5.53125 -3.40625 C -5.53125 -4.515625 -4.5625 -5.234375 -3.0625 -5.234375 C -1.625 -5.234375 -0.65625 -4.5 -0.65625 -3.40625 C -0.65625 -2.359375 -1.625 -1.65625 -3.09375 -1.65625 C -4.578125 -1.65625 -5.53125 -2.359375 -5.53125 -3.40625 Z \"/>\n",
       "</symbol>\n",
       "<symbol overflow=\"visible\" id=\"glyph1-7\">\n",
       "<path style=\"stroke:none;\" d=\"M -6.46875 -3.265625 C -6.46875 -1.5 -5.203125 -0.4375 -3.09375 -0.4375 C -0.984375 -0.4375 0.28125 -1.484375 0.28125 -3.28125 C 0.28125 -5.046875 -0.984375 -6.125 -3.046875 -6.125 C -5.21875 -6.125 -6.46875 -5.078125 -6.46875 -3.265625 Z M -5.546875 -3.28125 C -5.546875 -4.40625 -4.625 -5.078125 -3.0625 -5.078125 C -1.578125 -5.078125 -0.640625 -4.375 -0.640625 -3.28125 C -0.640625 -2.15625 -1.578125 -1.46875 -3.09375 -1.46875 C -4.609375 -1.46875 -5.546875 -2.15625 -5.546875 -3.28125 Z \"/>\n",
       "</symbol>\n",
       "<symbol overflow=\"visible\" id=\"glyph1-8\">\n",
       "<path style=\"stroke:none;\" d=\"M -4.53125 -5.25 C -5.765625 -5.25 -6.46875 -4.421875 -6.46875 -2.96875 C -6.46875 -1.515625 -5.71875 -0.5625 -4.546875 -0.5625 C -3.5625 -0.5625 -3.09375 -1.0625 -2.734375 -2.5625 L -2.515625 -3.484375 C -2.34375 -4.1875 -2.09375 -4.46875 -1.625 -4.46875 C -1.046875 -4.46875 -0.640625 -3.875 -0.640625 -3 C -0.640625 -2.453125 -0.796875 -2 -1.0625 -1.75 C -1.25 -1.59375 -1.421875 -1.53125 -1.875 -1.46875 L -1.875 -0.40625 C -0.421875 -0.453125 0.28125 -1.265625 0.28125 -2.921875 C 0.28125 -4.5 -0.5 -5.515625 -1.71875 -5.515625 C -2.65625 -5.515625 -3.171875 -4.984375 -3.46875 -3.734375 L -3.703125 -2.765625 C -3.890625 -1.953125 -4.15625 -1.609375 -4.59375 -1.609375 C -5.171875 -1.609375 -5.546875 -2.125 -5.546875 -2.9375 C -5.546875 -3.75 -5.203125 -4.171875 -4.53125 -4.203125 Z \"/>\n",
       "</symbol>\n",
       "<symbol overflow=\"visible\" id=\"glyph1-9\">\n",
       "<path style=\"stroke:none;\" d=\"M -6.28125 -1.796875 L -6.28125 -0.796875 L 0 -0.796875 L 0 -1.796875 Z M -8.75 -1.796875 L -8.75 -0.796875 L -7.484375 -0.796875 L -7.484375 -1.796875 Z \"/>\n",
       "</symbol>\n",
       "<symbol overflow=\"visible\" id=\"glyph1-10\">\n",
       "<path style=\"stroke:none;\" d=\"M -6.28125 -3.046875 L -6.28125 -2.015625 L -8.015625 -2.015625 L -8.015625 -1.015625 L -6.28125 -1.015625 L -6.28125 -0.171875 L -5.46875 -0.171875 L -5.46875 -1.015625 L -0.71875 -1.015625 C -0.078125 -1.015625 0.28125 -1.453125 0.28125 -2.234375 C 0.28125 -2.46875 0.25 -2.71875 0.1875 -3.046875 L -0.640625 -3.046875 C -0.609375 -2.921875 -0.59375 -2.765625 -0.59375 -2.5625 C -0.59375 -2.140625 -0.71875 -2.015625 -1.15625 -2.015625 L -5.46875 -2.015625 L -5.46875 -3.046875 Z \"/>\n",
       "</symbol>\n",
       "<symbol overflow=\"visible\" id=\"glyph1-11\">\n",
       "<path style=\"stroke:none;\" d=\"M 0 -3.421875 L -6.28125 -5.828125 L -6.28125 -4.703125 L -1.1875 -2.921875 L -6.28125 -1.25 L -6.28125 -0.125 L 0 -2.328125 Z \"/>\n",
       "</symbol>\n",
       "<symbol overflow=\"visible\" id=\"glyph1-12\">\n",
       "<path style=\"stroke:none;\" d=\"M -0.59375 -6.421875 C -0.5625 -6.3125 -0.5625 -6.265625 -0.5625 -6.203125 C -0.5625 -5.859375 -0.75 -5.65625 -1.0625 -5.65625 L -4.75 -5.65625 C -5.875 -5.65625 -6.46875 -4.84375 -6.46875 -3.296875 C -6.46875 -2.390625 -6.203125 -1.625 -5.734375 -1.21875 C -5.40625 -0.921875 -5.046875 -0.796875 -4.421875 -0.78125 L -4.421875 -1.78125 C -5.203125 -1.875 -5.546875 -2.328125 -5.546875 -3.265625 C -5.546875 -4.15625 -5.203125 -4.671875 -4.609375 -4.671875 L -4.34375 -4.671875 C -3.921875 -4.671875 -3.75 -4.421875 -3.640625 -3.625 C -3.46875 -2.203125 -3.421875 -1.984375 -3.265625 -1.609375 C -2.96875 -0.875 -2.40625 -0.5 -1.578125 -0.5 C -0.4375 -0.5 0.28125 -1.296875 0.28125 -2.5625 C 0.28125 -3.359375 0 -4 -0.640625 -4.703125 C -0.015625 -4.78125 0.28125 -5.09375 0.28125 -5.734375 C 0.28125 -5.9375 0.25 -6.09375 0.171875 -6.421875 Z M -1.984375 -4.671875 C -1.640625 -4.671875 -1.4375 -4.578125 -1.15625 -4.265625 C -0.796875 -3.859375 -0.59375 -3.375 -0.59375 -2.78125 C -0.59375 -2 -0.96875 -1.546875 -1.609375 -1.546875 C -2.265625 -1.546875 -2.609375 -1.984375 -2.765625 -3.0625 C -2.90625 -4.109375 -2.953125 -4.328125 -3.109375 -4.671875 Z \"/>\n",
       "</symbol>\n",
       "<symbol overflow=\"visible\" id=\"glyph1-13\">\n",
       "<path style=\"stroke:none;\" d=\"M -8.515625 -3.296875 C -8.515625 -2.515625 -8.15625 -1.78125 -7.578125 -1.34375 C -6.828125 -0.796875 -5.6875 -0.515625 -4.109375 -0.515625 C -1.25 -0.515625 0.28125 -1.46875 0.28125 -3.296875 C 0.28125 -5.09375 -1.25 -6.078125 -4.046875 -6.078125 C -5.703125 -6.078125 -6.796875 -5.8125 -7.578125 -5.25 C -8.171875 -4.8125 -8.515625 -4.109375 -8.515625 -3.296875 Z M -7.578125 -3.296875 C -7.578125 -4.4375 -6.421875 -5 -4.140625 -5 C -1.734375 -5 -0.59375 -4.453125 -0.59375 -3.28125 C -0.59375 -2.15625 -1.78125 -1.59375 -4.109375 -1.59375 C -6.4375 -1.59375 -7.578125 -2.15625 -7.578125 -3.296875 Z \"/>\n",
       "</symbol>\n",
       "<symbol overflow=\"visible\" id=\"glyph1-14\">\n",
       "<path style=\"stroke:none;\" d=\"M -1.25 -2.296875 L -1.25 -1.046875 L 0 -1.046875 L 0 -2.296875 Z \"/>\n",
       "</symbol>\n",
       "<symbol overflow=\"visible\" id=\"glyph1-15\">\n",
       "<path style=\"stroke:none;\" d=\"M -1.046875 -6.078125 L -1.046875 -1.59375 C -1.734375 -1.703125 -2.1875 -2.09375 -2.796875 -3.125 L -3.4375 -4.328125 C -4.09375 -5.515625 -4.96875 -6.125 -6.015625 -6.125 C -6.71875 -6.125 -7.375 -5.84375 -7.84375 -5.34375 C -8.296875 -4.84375 -8.515625 -4.21875 -8.515625 -3.40625 C -8.515625 -2.328125 -8.125 -1.53125 -7.40625 -1.0625 C -6.953125 -0.75 -6.421875 -0.625 -5.5625 -0.59375 L -5.5625 -1.65625 C -6.125 -1.6875 -6.484375 -1.765625 -6.75 -1.90625 C -7.265625 -2.1875 -7.578125 -2.734375 -7.578125 -3.375 C -7.578125 -4.328125 -6.90625 -5.046875 -5.984375 -5.046875 C -5.3125 -5.046875 -4.734375 -4.65625 -4.3125 -3.90625 L -3.6875 -2.796875 C -2.671875 -1.015625 -1.875 -0.5 0 -0.40625 L 0 -6.078125 Z \"/>\n",
       "</symbol>\n",
       "<symbol overflow=\"visible\" id=\"glyph1-16\">\n",
       "<path style=\"stroke:none;\" d=\"M -2.046875 -3.921875 L 0 -3.921875 L 0 -4.984375 L -2.046875 -4.984375 L -2.046875 -6.234375 L -2.984375 -6.234375 L -2.984375 -4.984375 L -8.515625 -4.984375 L -8.515625 -4.203125 L -3.15625 -0.34375 L -2.046875 -0.34375 Z M -2.984375 -3.921875 L -2.984375 -1.265625 L -6.703125 -3.921875 Z \"/>\n",
       "</symbol>\n",
       "<symbol overflow=\"visible\" id=\"glyph1-17\">\n",
       "<path style=\"stroke:none;\" d=\"M -6.28125 -5.96875 C -7.6875 -5.765625 -8.515625 -4.859375 -8.515625 -3.5625 C -8.515625 -2.625 -8.046875 -1.78125 -7.296875 -1.28125 C -6.46875 -0.75 -5.421875 -0.515625 -3.875 -0.515625 C -2.453125 -0.515625 -1.53125 -0.734375 -0.78125 -1.234375 C -0.09375 -1.6875 0.28125 -2.4375 0.28125 -3.375 C 0.28125 -4.984375 -0.921875 -6.15625 -2.59375 -6.15625 C -4.171875 -6.15625 -5.296875 -5.078125 -5.296875 -3.546875 C -5.296875 -2.71875 -4.96875 -2.046875 -4.34375 -1.59375 C -6.421875 -1.609375 -7.578125 -2.28125 -7.578125 -3.484375 C -7.578125 -4.234375 -7.109375 -4.75 -6.28125 -4.921875 Z M -4.359375 -3.421875 C -4.359375 -4.4375 -3.640625 -5.078125 -2.515625 -5.078125 C -1.4375 -5.078125 -0.65625 -4.359375 -0.65625 -3.390625 C -0.65625 -2.40625 -1.46875 -1.65625 -2.5625 -1.65625 C -3.625 -1.65625 -4.359375 -2.375 -4.359375 -3.421875 Z \"/>\n",
       "</symbol>\n",
       "<symbol overflow=\"visible\" id=\"glyph1-18\">\n",
       "<path style=\"stroke:none;\" d=\"M -4.46875 -4.6875 C -5 -5.5625 -5.4375 -5.859375 -6.234375 -5.859375 C -7.578125 -5.859375 -8.515625 -4.8125 -8.515625 -3.296875 C -8.515625 -1.796875 -7.578125 -0.75 -6.234375 -0.75 C -5.453125 -0.75 -5.015625 -1.03125 -4.46875 -1.890625 C -4.015625 -0.921875 -3.296875 -0.4375 -2.359375 -0.4375 C -0.796875 -0.4375 0.28125 -1.625 0.28125 -3.296875 C 0.28125 -4.984375 -0.796875 -6.15625 -2.359375 -6.15625 C -3.296875 -6.15625 -4.015625 -5.671875 -4.46875 -4.6875 Z M -7.578125 -3.296875 C -7.578125 -4.203125 -7.046875 -4.78125 -6.21875 -4.78125 C -5.421875 -4.78125 -4.890625 -4.1875 -4.890625 -3.296875 C -4.890625 -2.40625 -5.421875 -1.828125 -6.234375 -1.828125 C -7.046875 -1.828125 -7.578125 -2.40625 -7.578125 -3.296875 Z M -4.015625 -3.296875 C -4.015625 -4.359375 -3.34375 -5.078125 -2.34375 -5.078125 C -1.328125 -5.078125 -0.65625 -4.359375 -0.65625 -3.28125 C -0.65625 -2.25 -1.34375 -1.53125 -2.34375 -1.53125 C -3.34375 -1.53125 -4.015625 -2.25 -4.015625 -3.296875 Z \"/>\n",
       "</symbol>\n",
       "<symbol overflow=\"visible\" id=\"glyph1-19\">\n",
       "<path style=\"stroke:none;\" d=\"M -6.0625 -3.109375 L 0 -3.109375 L 0 -4.15625 L -8.515625 -4.15625 L -8.515625 -3.46875 C -7.203125 -3.09375 -7.015625 -2.859375 -6.8125 -1.21875 L -6.0625 -1.21875 Z \"/>\n",
       "</symbol>\n",
       "<symbol overflow=\"visible\" id=\"glyph1-20\">\n",
       "<path style=\"stroke:none;\" d=\"M -8.515625 -5.71875 L -8.515625 -1.3125 L -3.875 -0.6875 L -3.875 -1.65625 C -4.46875 -2.140625 -4.671875 -2.5625 -4.671875 -3.21875 C -4.671875 -4.359375 -3.890625 -5.078125 -2.625 -5.078125 C -1.40625 -5.078125 -0.65625 -4.375 -0.65625 -3.21875 C -0.65625 -2.296875 -1.125 -1.734375 -2.09375 -1.46875 L -2.09375 -0.421875 C -1.390625 -0.5625 -1.0625 -0.6875 -0.75 -0.9375 C -0.09375 -1.421875 0.28125 -2.28125 0.28125 -3.234375 C 0.28125 -4.953125 -0.96875 -6.15625 -2.765625 -6.15625 C -4.453125 -6.15625 -5.609375 -5.046875 -5.609375 -3.40625 C -5.609375 -2.8125 -5.453125 -2.328125 -5.09375 -1.84375 L -7.46875 -2.171875 L -7.46875 -5.71875 Z \"/>\n",
       "</symbol>\n",
       "<symbol overflow=\"visible\" id=\"glyph1-21\">\n",
       "<path style=\"stroke:none;\" d=\"M -3.90625 -2.65625 L -3.90625 -3.234375 C -3.90625 -4.390625 -3.390625 -4.984375 -2.359375 -4.984375 C -1.296875 -4.984375 -0.65625 -4.328125 -0.65625 -3.234375 C -0.65625 -2.078125 -1.234375 -1.515625 -2.46875 -1.4375 L -2.46875 -0.390625 C -1.78125 -0.4375 -1.34375 -0.546875 -0.953125 -0.75 C -0.140625 -1.1875 0.28125 -2.03125 0.28125 -3.1875 C 0.28125 -4.9375 -0.765625 -6.078125 -2.375 -6.078125 C -3.453125 -6.078125 -4.0625 -5.65625 -4.40625 -4.625 C -4.71875 -5.421875 -5.3125 -5.8125 -6.171875 -5.8125 C -7.625 -5.8125 -8.515625 -4.84375 -8.515625 -3.234375 C -8.515625 -1.515625 -7.578125 -0.59375 -5.765625 -0.5625 L -5.765625 -1.625 C -6.28125 -1.625 -6.5625 -1.6875 -6.828125 -1.8125 C -7.296875 -2.046875 -7.578125 -2.578125 -7.578125 -3.234375 C -7.578125 -4.171875 -7.03125 -4.734375 -6.125 -4.734375 C -5.53125 -4.734375 -5.171875 -4.53125 -4.984375 -4.0625 C -4.859375 -3.765625 -4.8125 -3.390625 -4.796875 -2.65625 Z \"/>\n",
       "</symbol>\n",
       "<symbol overflow=\"visible\" id=\"glyph1-22\">\n",
       "<path style=\"stroke:none;\" d=\"M -8.515625 -6.234375 L -8.515625 -0.546875 L -7.46875 -0.546875 L -7.46875 -5.140625 C -4.578125 -3.125 -2.796875 -2.296875 0 -1.65625 L 0 -2.78125 C -2.71875 -3.25 -5.0625 -4.3125 -7.625 -6.234375 Z \"/>\n",
       "</symbol>\n",
       "<symbol overflow=\"visible\" id=\"glyph1-23\">\n",
       "<path style=\"stroke:none;\" d=\"M -1.9375 -0.640625 C -0.546875 -0.84375 0.28125 -1.75 0.28125 -3.046875 C 0.28125 -3.984375 -0.1875 -4.84375 -0.9375 -5.328125 C -1.765625 -5.875 -2.8125 -6.109375 -4.359375 -6.109375 C -5.78125 -6.109375 -6.703125 -5.890625 -7.453125 -5.390625 C -8.140625 -4.921875 -8.515625 -4.171875 -8.515625 -3.234375 C -8.515625 -1.625 -7.3125 -0.453125 -5.640625 -0.453125 C -4.0625 -0.453125 -2.9375 -1.53125 -2.9375 -3.078125 C -2.9375 -3.875 -3.234375 -4.46875 -3.890625 -5.015625 C -1.8125 -5 -0.65625 -4.328125 -0.65625 -3.125 C -0.65625 -2.375 -1.125 -1.859375 -1.9375 -1.6875 Z M -7.578125 -3.234375 C -7.578125 -4.21875 -6.765625 -4.953125 -5.65625 -4.953125 C -4.625 -4.953125 -3.875 -4.21875 -3.875 -3.1875 C -3.875 -2.171875 -4.578125 -1.53125 -5.71875 -1.53125 C -6.796875 -1.53125 -7.578125 -2.25 -7.578125 -3.234375 Z \"/>\n",
       "</symbol>\n",
       "</g>\n",
       "<clipPath id=\"clip1\">\n",
       "  <path d=\"M 77 423 L 80 423 L 80 431.558594 L 77 431.558594 Z \"/>\n",
       "</clipPath>\n",
       "</defs>\n",
       "<g id=\"surface107\">\n",
       "<rect x=\"0\" y=\"0\" width=\"504\" height=\"504\" style=\"fill:rgb(100%,100%,100%);fill-opacity:1;stroke:none;\"/>\n",
       "<g style=\"fill:rgb(0%,0%,0%);fill-opacity:1;\">\n",
       "  <use xlink:href=\"#glyph0-1\" x=\"217.398438\" y=\"484.716797\"/>\n",
       "  <use xlink:href=\"#glyph0-2\" x=\"224.730469\" y=\"484.716797\"/>\n",
       "  <use xlink:href=\"#glyph0-3\" x=\"231.402344\" y=\"484.716797\"/>\n",
       "  <use xlink:href=\"#glyph0-4\" x=\"234.066406\" y=\"484.716797\"/>\n",
       "  <use xlink:href=\"#glyph0-5\" x=\"240.066406\" y=\"484.716797\"/>\n",
       "  <use xlink:href=\"#glyph0-6\" x=\"246.738281\" y=\"484.716797\"/>\n",
       "  <use xlink:href=\"#glyph0-7\" x=\"250.074219\" y=\"484.716797\"/>\n",
       "  <use xlink:href=\"#glyph0-8\" x=\"256.746094\" y=\"484.716797\"/>\n",
       "  <use xlink:href=\"#glyph0-4\" x=\"263.417969\" y=\"484.716797\"/>\n",
       "  <use xlink:href=\"#glyph0-9\" x=\"269.417969\" y=\"484.716797\"/>\n",
       "  <use xlink:href=\"#glyph0-10\" x=\"272.082031\" y=\"484.716797\"/>\n",
       "  <use xlink:href=\"#glyph0-9\" x=\"275.417969\" y=\"484.716797\"/>\n",
       "  <use xlink:href=\"#glyph0-11\" x=\"278.082031\" y=\"484.716797\"/>\n",
       "  <use xlink:href=\"#glyph0-5\" x=\"284.082031\" y=\"484.716797\"/>\n",
       "  <use xlink:href=\"#glyph0-6\" x=\"290.753906\" y=\"484.716797\"/>\n",
       "  <use xlink:href=\"#glyph0-12\" x=\"294.089844\" y=\"484.716797\"/>\n",
       "  <use xlink:href=\"#glyph0-2\" x=\"298.085938\" y=\"484.716797\"/>\n",
       "  <use xlink:href=\"#glyph0-10\" x=\"304.757812\" y=\"484.716797\"/>\n",
       "  <use xlink:href=\"#glyph0-5\" x=\"308.09375\" y=\"484.716797\"/>\n",
       "</g>\n",
       "<g style=\"fill:rgb(0%,0%,0%);fill-opacity:1;\">\n",
       "  <use xlink:href=\"#glyph1-1\" x=\"12.396484\" y=\"291.300781\"/>\n",
       "  <use xlink:href=\"#glyph1-2\" x=\"12.396484\" y=\"283.96875\"/>\n",
       "  <use xlink:href=\"#glyph1-3\" x=\"12.396484\" y=\"279.972656\"/>\n",
       "  <use xlink:href=\"#glyph1-4\" x=\"12.396484\" y=\"273.300781\"/>\n",
       "  <use xlink:href=\"#glyph1-5\" x=\"12.396484\" y=\"266.628906\"/>\n",
       "  <use xlink:href=\"#glyph1-6\" x=\"12.396484\" y=\"263.292969\"/>\n",
       "  <use xlink:href=\"#glyph1-7\" x=\"12.396484\" y=\"256.621094\"/>\n",
       "  <use xlink:href=\"#glyph1-8\" x=\"12.396484\" y=\"249.949219\"/>\n",
       "  <use xlink:href=\"#glyph1-9\" x=\"12.396484\" y=\"243.949219\"/>\n",
       "  <use xlink:href=\"#glyph1-10\" x=\"12.396484\" y=\"241.285156\"/>\n",
       "  <use xlink:href=\"#glyph1-9\" x=\"12.396484\" y=\"237.949219\"/>\n",
       "  <use xlink:href=\"#glyph1-11\" x=\"12.396484\" y=\"235.285156\"/>\n",
       "  <use xlink:href=\"#glyph1-4\" x=\"12.396484\" y=\"229.285156\"/>\n",
       "  <use xlink:href=\"#glyph1-5\" x=\"12.396484\" y=\"222.613281\"/>\n",
       "  <use xlink:href=\"#glyph1-2\" x=\"12.396484\" y=\"219.277344\"/>\n",
       "  <use xlink:href=\"#glyph1-12\" x=\"12.396484\" y=\"215.28125\"/>\n",
       "  <use xlink:href=\"#glyph1-10\" x=\"12.396484\" y=\"208.609375\"/>\n",
       "  <use xlink:href=\"#glyph1-4\" x=\"12.396484\" y=\"205.273438\"/>\n",
       "</g>\n",
       "<path style=\"fill:none;stroke-width:0.75;stroke-linecap:round;stroke-linejoin:round;stroke:rgb(0%,0%,0%);stroke-opacity:1;stroke-miterlimit:10;\" d=\"M 74.398438 430.558594 L 458.398438 430.558594 \"/>\n",
       "<path style=\"fill:none;stroke-width:0.75;stroke-linecap:round;stroke-linejoin:round;stroke:rgb(0%,0%,0%);stroke-opacity:1;stroke-miterlimit:10;\" d=\"M 74.398438 430.558594 L 74.398438 437.761719 \"/>\n",
       "<path style=\"fill:none;stroke-width:0.75;stroke-linecap:round;stroke-linejoin:round;stroke:rgb(0%,0%,0%);stroke-opacity:1;stroke-miterlimit:10;\" d=\"M 151.199219 430.558594 L 151.199219 437.761719 \"/>\n",
       "<path style=\"fill:none;stroke-width:0.75;stroke-linecap:round;stroke-linejoin:round;stroke:rgb(0%,0%,0%);stroke-opacity:1;stroke-miterlimit:10;\" d=\"M 228 430.558594 L 228 437.761719 \"/>\n",
       "<path style=\"fill:none;stroke-width:0.75;stroke-linecap:round;stroke-linejoin:round;stroke:rgb(0%,0%,0%);stroke-opacity:1;stroke-miterlimit:10;\" d=\"M 304.800781 430.558594 L 304.800781 437.761719 \"/>\n",
       "<path style=\"fill:none;stroke-width:0.75;stroke-linecap:round;stroke-linejoin:round;stroke:rgb(0%,0%,0%);stroke-opacity:1;stroke-miterlimit:10;\" d=\"M 381.601562 430.558594 L 381.601562 437.761719 \"/>\n",
       "<path style=\"fill:none;stroke-width:0.75;stroke-linecap:round;stroke-linejoin:round;stroke:rgb(0%,0%,0%);stroke-opacity:1;stroke-miterlimit:10;\" d=\"M 458.398438 430.558594 L 458.398438 437.761719 \"/>\n",
       "<g style=\"fill:rgb(0%,0%,0%);fill-opacity:1;\">\n",
       "  <use xlink:href=\"#glyph0-13\" x=\"65.898438\" y=\"455.916016\"/>\n",
       "  <use xlink:href=\"#glyph0-14\" x=\"72.570312\" y=\"455.916016\"/>\n",
       "  <use xlink:href=\"#glyph0-13\" x=\"75.90625\" y=\"455.916016\"/>\n",
       "</g>\n",
       "<g style=\"fill:rgb(0%,0%,0%);fill-opacity:1;\">\n",
       "  <use xlink:href=\"#glyph0-13\" x=\"142.699219\" y=\"455.916016\"/>\n",
       "  <use xlink:href=\"#glyph0-14\" x=\"149.371094\" y=\"455.916016\"/>\n",
       "  <use xlink:href=\"#glyph0-15\" x=\"152.707031\" y=\"455.916016\"/>\n",
       "</g>\n",
       "<g style=\"fill:rgb(0%,0%,0%);fill-opacity:1;\">\n",
       "  <use xlink:href=\"#glyph0-13\" x=\"219.5\" y=\"455.916016\"/>\n",
       "  <use xlink:href=\"#glyph0-14\" x=\"226.171875\" y=\"455.916016\"/>\n",
       "  <use xlink:href=\"#glyph0-16\" x=\"229.507812\" y=\"455.916016\"/>\n",
       "</g>\n",
       "<g style=\"fill:rgb(0%,0%,0%);fill-opacity:1;\">\n",
       "  <use xlink:href=\"#glyph0-13\" x=\"296.300781\" y=\"455.916016\"/>\n",
       "  <use xlink:href=\"#glyph0-14\" x=\"302.972656\" y=\"455.916016\"/>\n",
       "  <use xlink:href=\"#glyph0-17\" x=\"306.308594\" y=\"455.916016\"/>\n",
       "</g>\n",
       "<g style=\"fill:rgb(0%,0%,0%);fill-opacity:1;\">\n",
       "  <use xlink:href=\"#glyph0-13\" x=\"373.101562\" y=\"455.916016\"/>\n",
       "  <use xlink:href=\"#glyph0-14\" x=\"379.773438\" y=\"455.916016\"/>\n",
       "  <use xlink:href=\"#glyph0-18\" x=\"383.109375\" y=\"455.916016\"/>\n",
       "</g>\n",
       "<g style=\"fill:rgb(0%,0%,0%);fill-opacity:1;\">\n",
       "  <use xlink:href=\"#glyph0-19\" x=\"449.898438\" y=\"455.916016\"/>\n",
       "  <use xlink:href=\"#glyph0-14\" x=\"456.570312\" y=\"455.916016\"/>\n",
       "  <use xlink:href=\"#glyph0-13\" x=\"459.90625\" y=\"455.916016\"/>\n",
       "</g>\n",
       "<path style=\"fill:none;stroke-width:0.75;stroke-linecap:round;stroke-linejoin:round;stroke:rgb(0%,0%,0%);stroke-opacity:1;stroke-miterlimit:10;\" d=\"M 59.039062 416.800781 L 59.039062 72.800781 \"/>\n",
       "<path style=\"fill:none;stroke-width:0.75;stroke-linecap:round;stroke-linejoin:round;stroke:rgb(0%,0%,0%);stroke-opacity:1;stroke-miterlimit:10;\" d=\"M 59.039062 416.800781 L 51.839844 416.800781 \"/>\n",
       "<path style=\"fill:none;stroke-width:0.75;stroke-linecap:round;stroke-linejoin:round;stroke:rgb(0%,0%,0%);stroke-opacity:1;stroke-miterlimit:10;\" d=\"M 59.039062 348 L 51.839844 348 \"/>\n",
       "<path style=\"fill:none;stroke-width:0.75;stroke-linecap:round;stroke-linejoin:round;stroke:rgb(0%,0%,0%);stroke-opacity:1;stroke-miterlimit:10;\" d=\"M 59.039062 279.199219 L 51.839844 279.199219 \"/>\n",
       "<path style=\"fill:none;stroke-width:0.75;stroke-linecap:round;stroke-linejoin:round;stroke:rgb(0%,0%,0%);stroke-opacity:1;stroke-miterlimit:10;\" d=\"M 59.039062 210.398438 L 51.839844 210.398438 \"/>\n",
       "<path style=\"fill:none;stroke-width:0.75;stroke-linecap:round;stroke-linejoin:round;stroke:rgb(0%,0%,0%);stroke-opacity:1;stroke-miterlimit:10;\" d=\"M 59.039062 141.601562 L 51.839844 141.601562 \"/>\n",
       "<path style=\"fill:none;stroke-width:0.75;stroke-linecap:round;stroke-linejoin:round;stroke:rgb(0%,0%,0%);stroke-opacity:1;stroke-miterlimit:10;\" d=\"M 59.039062 72.800781 L 51.839844 72.800781 \"/>\n",
       "<g style=\"fill:rgb(0%,0%,0%);fill-opacity:1;\">\n",
       "  <use xlink:href=\"#glyph1-13\" x=\"41.197266\" y=\"425.300781\"/>\n",
       "  <use xlink:href=\"#glyph1-14\" x=\"41.197266\" y=\"418.628906\"/>\n",
       "  <use xlink:href=\"#glyph1-13\" x=\"41.197266\" y=\"415.292969\"/>\n",
       "</g>\n",
       "<g style=\"fill:rgb(0%,0%,0%);fill-opacity:1;\">\n",
       "  <use xlink:href=\"#glyph1-13\" x=\"41.197266\" y=\"356.5\"/>\n",
       "  <use xlink:href=\"#glyph1-14\" x=\"41.197266\" y=\"349.828125\"/>\n",
       "  <use xlink:href=\"#glyph1-15\" x=\"41.197266\" y=\"346.492188\"/>\n",
       "</g>\n",
       "<g style=\"fill:rgb(0%,0%,0%);fill-opacity:1;\">\n",
       "  <use xlink:href=\"#glyph1-13\" x=\"41.197266\" y=\"287.699219\"/>\n",
       "  <use xlink:href=\"#glyph1-14\" x=\"41.197266\" y=\"281.027344\"/>\n",
       "  <use xlink:href=\"#glyph1-16\" x=\"41.197266\" y=\"277.691406\"/>\n",
       "</g>\n",
       "<g style=\"fill:rgb(0%,0%,0%);fill-opacity:1;\">\n",
       "  <use xlink:href=\"#glyph1-13\" x=\"41.197266\" y=\"218.898438\"/>\n",
       "  <use xlink:href=\"#glyph1-14\" x=\"41.197266\" y=\"212.226562\"/>\n",
       "  <use xlink:href=\"#glyph1-17\" x=\"41.197266\" y=\"208.890625\"/>\n",
       "</g>\n",
       "<g style=\"fill:rgb(0%,0%,0%);fill-opacity:1;\">\n",
       "  <use xlink:href=\"#glyph1-13\" x=\"41.197266\" y=\"150.101562\"/>\n",
       "  <use xlink:href=\"#glyph1-14\" x=\"41.197266\" y=\"143.429688\"/>\n",
       "  <use xlink:href=\"#glyph1-18\" x=\"41.197266\" y=\"140.09375\"/>\n",
       "</g>\n",
       "<g style=\"fill:rgb(0%,0%,0%);fill-opacity:1;\">\n",
       "  <use xlink:href=\"#glyph1-19\" x=\"41.197266\" y=\"81.300781\"/>\n",
       "  <use xlink:href=\"#glyph1-14\" x=\"41.197266\" y=\"74.628906\"/>\n",
       "  <use xlink:href=\"#glyph1-13\" x=\"41.197266\" y=\"71.292969\"/>\n",
       "</g>\n",
       "<path style=\"fill:none;stroke-width:0.75;stroke-linecap:round;stroke-linejoin:round;stroke:rgb(0%,0%,0%);stroke-opacity:1;stroke-miterlimit:10;\" d=\"M 473.761719 416.800781 L 473.761719 72.800781 \"/>\n",
       "<path style=\"fill:none;stroke-width:0.75;stroke-linecap:round;stroke-linejoin:round;stroke:rgb(0%,0%,0%);stroke-opacity:1;stroke-miterlimit:10;\" d=\"M 473.761719 416.800781 L 480.960938 416.800781 \"/>\n",
       "<path style=\"fill:none;stroke-width:0.75;stroke-linecap:round;stroke-linejoin:round;stroke:rgb(0%,0%,0%);stroke-opacity:1;stroke-miterlimit:10;\" d=\"M 473.761719 348 L 480.960938 348 \"/>\n",
       "<path style=\"fill:none;stroke-width:0.75;stroke-linecap:round;stroke-linejoin:round;stroke:rgb(0%,0%,0%);stroke-opacity:1;stroke-miterlimit:10;\" d=\"M 473.761719 279.199219 L 480.960938 279.199219 \"/>\n",
       "<path style=\"fill:none;stroke-width:0.75;stroke-linecap:round;stroke-linejoin:round;stroke:rgb(0%,0%,0%);stroke-opacity:1;stroke-miterlimit:10;\" d=\"M 473.761719 210.398438 L 480.960938 210.398438 \"/>\n",
       "<path style=\"fill:none;stroke-width:0.75;stroke-linecap:round;stroke-linejoin:round;stroke:rgb(0%,0%,0%);stroke-opacity:1;stroke-miterlimit:10;\" d=\"M 473.761719 141.601562 L 480.960938 141.601562 \"/>\n",
       "<path style=\"fill:none;stroke-width:0.75;stroke-linecap:round;stroke-linejoin:round;stroke:rgb(0%,0%,0%);stroke-opacity:1;stroke-miterlimit:10;\" d=\"M 473.761719 72.800781 L 480.960938 72.800781 \"/>\n",
       "<g style=\"fill:rgb(0%,0%,0%);fill-opacity:1;\">\n",
       "  <use xlink:href=\"#glyph1-13\" x=\"499.115234\" y=\"428.800781\"/>\n",
       "  <use xlink:href=\"#glyph1-14\" x=\"499.115234\" y=\"422.128906\"/>\n",
       "  <use xlink:href=\"#glyph1-13\" x=\"499.115234\" y=\"418.792969\"/>\n",
       "  <use xlink:href=\"#glyph1-20\" x=\"499.115234\" y=\"412.121094\"/>\n",
       "</g>\n",
       "<g style=\"fill:rgb(0%,0%,0%);fill-opacity:1;\">\n",
       "  <use xlink:href=\"#glyph1-13\" x=\"499.115234\" y=\"360\"/>\n",
       "  <use xlink:href=\"#glyph1-14\" x=\"499.115234\" y=\"353.328125\"/>\n",
       "  <use xlink:href=\"#glyph1-15\" x=\"499.115234\" y=\"349.992188\"/>\n",
       "  <use xlink:href=\"#glyph1-21\" x=\"499.115234\" y=\"343.320312\"/>\n",
       "</g>\n",
       "<g style=\"fill:rgb(0%,0%,0%);fill-opacity:1;\">\n",
       "  <use xlink:href=\"#glyph1-13\" x=\"499.115234\" y=\"291.199219\"/>\n",
       "  <use xlink:href=\"#glyph1-14\" x=\"499.115234\" y=\"284.527344\"/>\n",
       "  <use xlink:href=\"#glyph1-16\" x=\"499.115234\" y=\"281.191406\"/>\n",
       "  <use xlink:href=\"#glyph1-15\" x=\"499.115234\" y=\"274.519531\"/>\n",
       "</g>\n",
       "<g style=\"fill:rgb(0%,0%,0%);fill-opacity:1;\">\n",
       "  <use xlink:href=\"#glyph1-13\" x=\"499.115234\" y=\"218.898438\"/>\n",
       "  <use xlink:href=\"#glyph1-14\" x=\"499.115234\" y=\"212.226562\"/>\n",
       "  <use xlink:href=\"#glyph1-17\" x=\"499.115234\" y=\"208.890625\"/>\n",
       "</g>\n",
       "<g style=\"fill:rgb(0%,0%,0%);fill-opacity:1;\">\n",
       "  <use xlink:href=\"#glyph1-13\" x=\"499.115234\" y=\"153.601562\"/>\n",
       "  <use xlink:href=\"#glyph1-14\" x=\"499.115234\" y=\"146.929688\"/>\n",
       "  <use xlink:href=\"#glyph1-22\" x=\"499.115234\" y=\"143.59375\"/>\n",
       "  <use xlink:href=\"#glyph1-23\" x=\"499.115234\" y=\"136.921875\"/>\n",
       "</g>\n",
       "<g style=\"fill:rgb(0%,0%,0%);fill-opacity:1;\">\n",
       "  <use xlink:href=\"#glyph1-13\" x=\"499.115234\" y=\"84.800781\"/>\n",
       "  <use xlink:href=\"#glyph1-14\" x=\"499.115234\" y=\"78.128906\"/>\n",
       "  <use xlink:href=\"#glyph1-23\" x=\"499.115234\" y=\"74.792969\"/>\n",
       "  <use xlink:href=\"#glyph1-18\" x=\"499.115234\" y=\"68.121094\"/>\n",
       "</g>\n",
       "<path style=\"fill-rule:nonzero;fill:rgb(100%,1.568627%,0%);fill-opacity:1;stroke-width:0.75;stroke-linecap:round;stroke-linejoin:round;stroke:rgb(100%,1.568627%,0%);stroke-opacity:1;stroke-miterlimit:10;\" d=\"M 469.921875 74.148438 L 473.761719 74.148438 L 473.761719 75.496094 L 469.921875 75.496094 Z \"/>\n",
       "<path style=\"fill-rule:nonzero;fill:rgb(100%,3.137255%,0%);fill-opacity:1;stroke-width:0.75;stroke-linecap:round;stroke-linejoin:round;stroke:rgb(100%,3.137255%,0%);stroke-opacity:1;stroke-miterlimit:10;\" d=\"M 469.921875 75.496094 L 473.761719 75.496094 L 473.761719 76.84375 L 469.921875 76.84375 Z \"/>\n",
       "<path style=\"fill-rule:nonzero;fill:rgb(100%,4.705882%,0%);fill-opacity:1;stroke-width:0.75;stroke-linecap:round;stroke-linejoin:round;stroke:rgb(100%,4.705882%,0%);stroke-opacity:1;stroke-miterlimit:10;\" d=\"M 469.921875 76.847656 L 473.761719 76.847656 L 473.761719 78.195312 L 469.921875 78.195312 Z \"/>\n",
       "<path style=\"fill-rule:nonzero;fill:rgb(100%,6.27451%,0%);fill-opacity:1;stroke-width:0.75;stroke-linecap:round;stroke-linejoin:round;stroke:rgb(100%,6.27451%,0%);stroke-opacity:1;stroke-miterlimit:10;\" d=\"M 469.921875 78.195312 L 473.761719 78.195312 L 473.761719 79.542969 L 469.921875 79.542969 Z \"/>\n",
       "<path style=\"fill-rule:nonzero;fill:rgb(100%,7.843137%,0%);fill-opacity:1;stroke-width:0.75;stroke-linecap:round;stroke-linejoin:round;stroke:rgb(100%,7.843137%,0%);stroke-opacity:1;stroke-miterlimit:10;\" d=\"M 469.921875 79.546875 L 473.761719 79.546875 L 473.761719 80.894531 L 469.921875 80.894531 Z \"/>\n",
       "<path style=\"fill-rule:nonzero;fill:rgb(100%,9.411765%,0%);fill-opacity:1;stroke-width:0.75;stroke-linecap:round;stroke-linejoin:round;stroke:rgb(100%,9.411765%,0%);stroke-opacity:1;stroke-miterlimit:10;\" d=\"M 469.921875 80.894531 L 473.761719 80.894531 L 473.761719 82.242188 L 469.921875 82.242188 Z \"/>\n",
       "<path style=\"fill-rule:nonzero;fill:rgb(100%,10.980392%,0%);fill-opacity:1;stroke-width:0.75;stroke-linecap:round;stroke-linejoin:round;stroke:rgb(100%,10.980392%,0%);stroke-opacity:1;stroke-miterlimit:10;\" d=\"M 469.921875 82.242188 L 473.761719 82.242188 L 473.761719 83.589844 L 469.921875 83.589844 Z \"/>\n",
       "<path style=\"fill-rule:nonzero;fill:rgb(100%,12.54902%,0%);fill-opacity:1;stroke-width:0.75;stroke-linecap:round;stroke-linejoin:round;stroke:rgb(100%,12.54902%,0%);stroke-opacity:1;stroke-miterlimit:10;\" d=\"M 469.921875 83.59375 L 473.761719 83.59375 L 473.761719 84.941406 L 469.921875 84.941406 Z \"/>\n",
       "<path style=\"fill-rule:nonzero;fill:rgb(100%,14.117647%,0%);fill-opacity:1;stroke-width:0.75;stroke-linecap:round;stroke-linejoin:round;stroke:rgb(100%,14.117647%,0%);stroke-opacity:1;stroke-miterlimit:10;\" d=\"M 469.921875 84.941406 L 473.761719 84.941406 L 473.761719 86.289062 L 469.921875 86.289062 Z \"/>\n",
       "<path style=\"fill-rule:nonzero;fill:rgb(100%,15.686275%,0%);fill-opacity:1;stroke-width:0.75;stroke-linecap:round;stroke-linejoin:round;stroke:rgb(100%,15.686275%,0%);stroke-opacity:1;stroke-miterlimit:10;\" d=\"M 469.921875 86.289062 L 473.761719 86.289062 L 473.761719 87.636719 L 469.921875 87.636719 Z \"/>\n",
       "<path style=\"fill-rule:nonzero;fill:rgb(100%,17.254902%,0%);fill-opacity:1;stroke-width:0.75;stroke-linecap:round;stroke-linejoin:round;stroke:rgb(100%,17.254902%,0%);stroke-opacity:1;stroke-miterlimit:10;\" d=\"M 469.921875 87.640625 L 473.761719 87.640625 L 473.761719 88.988281 L 469.921875 88.988281 Z \"/>\n",
       "<path style=\"fill-rule:nonzero;fill:rgb(100%,18.823529%,0%);fill-opacity:1;stroke-width:0.75;stroke-linecap:round;stroke-linejoin:round;stroke:rgb(100%,18.823529%,0%);stroke-opacity:1;stroke-miterlimit:10;\" d=\"M 469.921875 88.988281 L 473.761719 88.988281 L 473.761719 90.335938 L 469.921875 90.335938 Z \"/>\n",
       "<path style=\"fill-rule:nonzero;fill:rgb(100%,20.392157%,0%);fill-opacity:1;stroke-width:0.75;stroke-linecap:round;stroke-linejoin:round;stroke:rgb(100%,20.392157%,0%);stroke-opacity:1;stroke-miterlimit:10;\" d=\"M 469.921875 90.335938 L 473.761719 90.335938 L 473.761719 91.683594 L 469.921875 91.683594 Z \"/>\n",
       "<path style=\"fill-rule:nonzero;fill:rgb(100%,21.960784%,0%);fill-opacity:1;stroke-width:0.75;stroke-linecap:round;stroke-linejoin:round;stroke:rgb(100%,21.960784%,0%);stroke-opacity:1;stroke-miterlimit:10;\" d=\"M 469.921875 91.6875 L 473.761719 91.6875 L 473.761719 93.035156 L 469.921875 93.035156 Z \"/>\n",
       "<path style=\"fill-rule:nonzero;fill:rgb(100%,23.529412%,0%);fill-opacity:1;stroke-width:0.75;stroke-linecap:round;stroke-linejoin:round;stroke:rgb(100%,23.529412%,0%);stroke-opacity:1;stroke-miterlimit:10;\" d=\"M 469.921875 93.035156 L 473.761719 93.035156 L 473.761719 94.382812 L 469.921875 94.382812 Z \"/>\n",
       "<path style=\"fill-rule:nonzero;fill:rgb(100%,25.098039%,0%);fill-opacity:1;stroke-width:0.75;stroke-linecap:round;stroke-linejoin:round;stroke:rgb(100%,25.098039%,0%);stroke-opacity:1;stroke-miterlimit:10;\" d=\"M 469.921875 94.382812 L 473.761719 94.382812 L 473.761719 95.730469 L 469.921875 95.730469 Z \"/>\n",
       "<path style=\"fill-rule:nonzero;fill:rgb(100%,26.666667%,0%);fill-opacity:1;stroke-width:0.75;stroke-linecap:round;stroke-linejoin:round;stroke:rgb(100%,26.666667%,0%);stroke-opacity:1;stroke-miterlimit:10;\" d=\"M 469.921875 95.734375 L 473.761719 95.734375 L 473.761719 97.082031 L 469.921875 97.082031 Z \"/>\n",
       "<path style=\"fill-rule:nonzero;fill:rgb(100%,28.235294%,0%);fill-opacity:1;stroke-width:0.75;stroke-linecap:round;stroke-linejoin:round;stroke:rgb(100%,28.235294%,0%);stroke-opacity:1;stroke-miterlimit:10;\" d=\"M 469.921875 97.082031 L 473.761719 97.082031 L 473.761719 98.429688 L 469.921875 98.429688 Z \"/>\n",
       "<path style=\"fill-rule:nonzero;fill:rgb(100%,29.803922%,0%);fill-opacity:1;stroke-width:0.75;stroke-linecap:round;stroke-linejoin:round;stroke:rgb(100%,29.803922%,0%);stroke-opacity:1;stroke-miterlimit:10;\" d=\"M 469.921875 98.429688 L 473.761719 98.429688 L 473.761719 99.777344 L 469.921875 99.777344 Z \"/>\n",
       "<path style=\"fill-rule:nonzero;fill:rgb(100%,31.372549%,0%);fill-opacity:1;stroke-width:0.75;stroke-linecap:round;stroke-linejoin:round;stroke:rgb(100%,31.372549%,0%);stroke-opacity:1;stroke-miterlimit:10;\" d=\"M 469.921875 99.78125 L 473.761719 99.78125 L 473.761719 101.128906 L 469.921875 101.128906 Z \"/>\n",
       "<path style=\"fill-rule:nonzero;fill:rgb(100%,32.941176%,0%);fill-opacity:1;stroke-width:0.75;stroke-linecap:round;stroke-linejoin:round;stroke:rgb(100%,32.941176%,0%);stroke-opacity:1;stroke-miterlimit:10;\" d=\"M 469.921875 101.128906 L 473.761719 101.128906 L 473.761719 102.476562 L 469.921875 102.476562 Z \"/>\n",
       "<path style=\"fill-rule:nonzero;fill:rgb(100%,34.509804%,0%);fill-opacity:1;stroke-width:0.75;stroke-linecap:round;stroke-linejoin:round;stroke:rgb(100%,34.509804%,0%);stroke-opacity:1;stroke-miterlimit:10;\" d=\"M 469.921875 102.476562 L 473.761719 102.476562 L 473.761719 103.824219 L 469.921875 103.824219 Z \"/>\n",
       "<path style=\"fill-rule:nonzero;fill:rgb(100%,36.078431%,0%);fill-opacity:1;stroke-width:0.75;stroke-linecap:round;stroke-linejoin:round;stroke:rgb(100%,36.078431%,0%);stroke-opacity:1;stroke-miterlimit:10;\" d=\"M 469.921875 103.828125 L 473.761719 103.828125 L 473.761719 105.175781 L 469.921875 105.175781 Z \"/>\n",
       "<path style=\"fill-rule:nonzero;fill:rgb(100%,37.647059%,0%);fill-opacity:1;stroke-width:0.75;stroke-linecap:round;stroke-linejoin:round;stroke:rgb(100%,37.647059%,0%);stroke-opacity:1;stroke-miterlimit:10;\" d=\"M 469.921875 105.175781 L 473.761719 105.175781 L 473.761719 106.523438 L 469.921875 106.523438 Z \"/>\n",
       "<path style=\"fill-rule:nonzero;fill:rgb(100%,39.215686%,0%);fill-opacity:1;stroke-width:0.75;stroke-linecap:round;stroke-linejoin:round;stroke:rgb(100%,39.215686%,0%);stroke-opacity:1;stroke-miterlimit:10;\" d=\"M 469.921875 106.527344 L 473.761719 106.527344 L 473.761719 107.875 L 469.921875 107.875 Z \"/>\n",
       "<path style=\"fill-rule:nonzero;fill:rgb(100%,40.784314%,0%);fill-opacity:1;stroke-width:0.75;stroke-linecap:round;stroke-linejoin:round;stroke:rgb(100%,40.784314%,0%);stroke-opacity:1;stroke-miterlimit:10;\" d=\"M 469.921875 107.875 L 473.761719 107.875 L 473.761719 109.222656 L 469.921875 109.222656 Z \"/>\n",
       "<path style=\"fill-rule:nonzero;fill:rgb(100%,42.352941%,0%);fill-opacity:1;stroke-width:0.75;stroke-linecap:round;stroke-linejoin:round;stroke:rgb(100%,42.352941%,0%);stroke-opacity:1;stroke-miterlimit:10;\" d=\"M 469.921875 109.222656 L 473.761719 109.222656 L 473.761719 110.570312 L 469.921875 110.570312 Z \"/>\n",
       "<path style=\"fill-rule:nonzero;fill:rgb(100%,43.921569%,0%);fill-opacity:1;stroke-width:0.75;stroke-linecap:round;stroke-linejoin:round;stroke:rgb(100%,43.921569%,0%);stroke-opacity:1;stroke-miterlimit:10;\" d=\"M 469.921875 110.574219 L 473.761719 110.574219 L 473.761719 111.921875 L 469.921875 111.921875 Z \"/>\n",
       "<path style=\"fill-rule:nonzero;fill:rgb(100%,45.490196%,0%);fill-opacity:1;stroke-width:0.75;stroke-linecap:round;stroke-linejoin:round;stroke:rgb(100%,45.490196%,0%);stroke-opacity:1;stroke-miterlimit:10;\" d=\"M 469.921875 111.921875 L 473.761719 111.921875 L 473.761719 113.269531 L 469.921875 113.269531 Z \"/>\n",
       "<path style=\"fill-rule:nonzero;fill:rgb(100%,47.058824%,0%);fill-opacity:1;stroke-width:0.75;stroke-linecap:round;stroke-linejoin:round;stroke:rgb(100%,47.058824%,0%);stroke-opacity:1;stroke-miterlimit:10;\" d=\"M 469.921875 113.269531 L 473.761719 113.269531 L 473.761719 114.617188 L 469.921875 114.617188 Z \"/>\n",
       "<path style=\"fill-rule:nonzero;fill:rgb(100%,48.627451%,0%);fill-opacity:1;stroke-width:0.75;stroke-linecap:round;stroke-linejoin:round;stroke:rgb(100%,48.627451%,0%);stroke-opacity:1;stroke-miterlimit:10;\" d=\"M 469.921875 114.621094 L 473.761719 114.621094 L 473.761719 115.96875 L 469.921875 115.96875 Z \"/>\n",
       "<path style=\"fill-rule:nonzero;fill:rgb(100%,50.196078%,0%);fill-opacity:1;stroke-width:0.75;stroke-linecap:round;stroke-linejoin:round;stroke:rgb(100%,50.196078%,0%);stroke-opacity:1;stroke-miterlimit:10;\" d=\"M 469.921875 115.96875 L 473.761719 115.96875 L 473.761719 117.316406 L 469.921875 117.316406 Z \"/>\n",
       "<path style=\"fill-rule:nonzero;fill:rgb(100%,51.764706%,0%);fill-opacity:1;stroke-width:0.75;stroke-linecap:round;stroke-linejoin:round;stroke:rgb(100%,51.764706%,0%);stroke-opacity:1;stroke-miterlimit:10;\" d=\"M 469.921875 117.316406 L 473.761719 117.316406 L 473.761719 118.664062 L 469.921875 118.664062 Z \"/>\n",
       "<path style=\"fill-rule:nonzero;fill:rgb(100%,53.333333%,0%);fill-opacity:1;stroke-width:0.75;stroke-linecap:round;stroke-linejoin:round;stroke:rgb(100%,53.333333%,0%);stroke-opacity:1;stroke-miterlimit:10;\" d=\"M 469.921875 118.667969 L 473.761719 118.667969 L 473.761719 120.015625 L 469.921875 120.015625 Z \"/>\n",
       "<path style=\"fill-rule:nonzero;fill:rgb(100%,54.901961%,0%);fill-opacity:1;stroke-width:0.75;stroke-linecap:round;stroke-linejoin:round;stroke:rgb(100%,54.901961%,0%);stroke-opacity:1;stroke-miterlimit:10;\" d=\"M 469.921875 120.015625 L 473.761719 120.015625 L 473.761719 121.363281 L 469.921875 121.363281 Z \"/>\n",
       "<path style=\"fill-rule:nonzero;fill:rgb(100%,56.470588%,0%);fill-opacity:1;stroke-width:0.75;stroke-linecap:round;stroke-linejoin:round;stroke:rgb(100%,56.470588%,0%);stroke-opacity:1;stroke-miterlimit:10;\" d=\"M 469.921875 121.363281 L 473.761719 121.363281 L 473.761719 122.710938 L 469.921875 122.710938 Z \"/>\n",
       "<path style=\"fill-rule:nonzero;fill:rgb(100%,58.039216%,0%);fill-opacity:1;stroke-width:0.75;stroke-linecap:round;stroke-linejoin:round;stroke:rgb(100%,58.039216%,0%);stroke-opacity:1;stroke-miterlimit:10;\" d=\"M 469.921875 122.714844 L 473.761719 122.714844 L 473.761719 124.0625 L 469.921875 124.0625 Z \"/>\n",
       "<path style=\"fill-rule:nonzero;fill:rgb(100%,59.607843%,0%);fill-opacity:1;stroke-width:0.75;stroke-linecap:round;stroke-linejoin:round;stroke:rgb(100%,59.607843%,0%);stroke-opacity:1;stroke-miterlimit:10;\" d=\"M 469.921875 124.0625 L 473.761719 124.0625 L 473.761719 125.410156 L 469.921875 125.410156 Z \"/>\n",
       "<path style=\"fill-rule:nonzero;fill:rgb(100%,61.176471%,0%);fill-opacity:1;stroke-width:0.75;stroke-linecap:round;stroke-linejoin:round;stroke:rgb(100%,61.176471%,0%);stroke-opacity:1;stroke-miterlimit:10;\" d=\"M 469.921875 125.410156 L 473.761719 125.410156 L 473.761719 126.757812 L 469.921875 126.757812 Z \"/>\n",
       "<path style=\"fill-rule:nonzero;fill:rgb(100%,62.745098%,0%);fill-opacity:1;stroke-width:0.75;stroke-linecap:round;stroke-linejoin:round;stroke:rgb(100%,62.745098%,0%);stroke-opacity:1;stroke-miterlimit:10;\" d=\"M 469.921875 126.761719 L 473.761719 126.761719 L 473.761719 128.109375 L 469.921875 128.109375 Z \"/>\n",
       "<path style=\"fill-rule:nonzero;fill:rgb(100%,64.313725%,0%);fill-opacity:1;stroke-width:0.75;stroke-linecap:round;stroke-linejoin:round;stroke:rgb(100%,64.313725%,0%);stroke-opacity:1;stroke-miterlimit:10;\" d=\"M 469.921875 128.109375 L 473.761719 128.109375 L 473.761719 129.457031 L 469.921875 129.457031 Z \"/>\n",
       "<path style=\"fill-rule:nonzero;fill:rgb(100%,65.882353%,0%);fill-opacity:1;stroke-width:0.75;stroke-linecap:round;stroke-linejoin:round;stroke:rgb(100%,65.882353%,0%);stroke-opacity:1;stroke-miterlimit:10;\" d=\"M 469.921875 129.457031 L 473.761719 129.457031 L 473.761719 130.804688 L 469.921875 130.804688 Z \"/>\n",
       "<path style=\"fill-rule:nonzero;fill:rgb(100%,67.45098%,0%);fill-opacity:1;stroke-width:0.75;stroke-linecap:round;stroke-linejoin:round;stroke:rgb(100%,67.45098%,0%);stroke-opacity:1;stroke-miterlimit:10;\" d=\"M 469.921875 130.808594 L 473.761719 130.808594 L 473.761719 132.15625 L 469.921875 132.15625 Z \"/>\n",
       "<path style=\"fill-rule:nonzero;fill:rgb(100%,69.019608%,0%);fill-opacity:1;stroke-width:0.75;stroke-linecap:round;stroke-linejoin:round;stroke:rgb(100%,69.019608%,0%);stroke-opacity:1;stroke-miterlimit:10;\" d=\"M 469.921875 132.15625 L 473.761719 132.15625 L 473.761719 133.503906 L 469.921875 133.503906 Z \"/>\n",
       "<path style=\"fill-rule:nonzero;fill:rgb(100%,70.588235%,0%);fill-opacity:1;stroke-width:0.75;stroke-linecap:round;stroke-linejoin:round;stroke:rgb(100%,70.588235%,0%);stroke-opacity:1;stroke-miterlimit:10;\" d=\"M 469.921875 133.507812 L 473.761719 133.507812 L 473.761719 134.855469 L 469.921875 134.855469 Z \"/>\n",
       "<path style=\"fill-rule:nonzero;fill:rgb(100%,72.156863%,0%);fill-opacity:1;stroke-width:0.75;stroke-linecap:round;stroke-linejoin:round;stroke:rgb(100%,72.156863%,0%);stroke-opacity:1;stroke-miterlimit:10;\" d=\"M 469.921875 134.855469 L 473.761719 134.855469 L 473.761719 136.203125 L 469.921875 136.203125 Z \"/>\n",
       "<path style=\"fill-rule:nonzero;fill:rgb(100%,73.72549%,0%);fill-opacity:1;stroke-width:0.75;stroke-linecap:round;stroke-linejoin:round;stroke:rgb(100%,73.72549%,0%);stroke-opacity:1;stroke-miterlimit:10;\" d=\"M 469.921875 136.203125 L 473.761719 136.203125 L 473.761719 137.550781 L 469.921875 137.550781 Z \"/>\n",
       "<path style=\"fill-rule:nonzero;fill:rgb(100%,75.294118%,0%);fill-opacity:1;stroke-width:0.75;stroke-linecap:round;stroke-linejoin:round;stroke:rgb(100%,75.294118%,0%);stroke-opacity:1;stroke-miterlimit:10;\" d=\"M 469.921875 137.554688 L 473.761719 137.554688 L 473.761719 138.902344 L 469.921875 138.902344 Z \"/>\n",
       "<path style=\"fill-rule:nonzero;fill:rgb(100%,76.862745%,0%);fill-opacity:1;stroke-width:0.75;stroke-linecap:round;stroke-linejoin:round;stroke:rgb(100%,76.862745%,0%);stroke-opacity:1;stroke-miterlimit:10;\" d=\"M 469.921875 138.902344 L 473.761719 138.902344 L 473.761719 140.25 L 469.921875 140.25 Z \"/>\n",
       "<path style=\"fill-rule:nonzero;fill:rgb(100%,78.431373%,0%);fill-opacity:1;stroke-width:0.75;stroke-linecap:round;stroke-linejoin:round;stroke:rgb(100%,78.431373%,0%);stroke-opacity:1;stroke-miterlimit:10;\" d=\"M 469.921875 140.25 L 473.761719 140.25 L 473.761719 141.597656 L 469.921875 141.597656 Z \"/>\n",
       "<path style=\"fill-rule:nonzero;fill:rgb(100%,80%,0%);fill-opacity:1;stroke-width:0.75;stroke-linecap:round;stroke-linejoin:round;stroke:rgb(100%,80%,0%);stroke-opacity:1;stroke-miterlimit:10;\" d=\"M 469.921875 141.601562 L 473.761719 141.601562 L 473.761719 142.949219 L 469.921875 142.949219 Z \"/>\n",
       "<path style=\"fill-rule:nonzero;fill:rgb(100%,81.568627%,0%);fill-opacity:1;stroke-width:0.75;stroke-linecap:round;stroke-linejoin:round;stroke:rgb(100%,81.568627%,0%);stroke-opacity:1;stroke-miterlimit:10;\" d=\"M 469.921875 142.949219 L 473.761719 142.949219 L 473.761719 144.296875 L 469.921875 144.296875 Z \"/>\n",
       "<path style=\"fill-rule:nonzero;fill:rgb(100%,83.137255%,0%);fill-opacity:1;stroke-width:0.75;stroke-linecap:round;stroke-linejoin:round;stroke:rgb(100%,83.137255%,0%);stroke-opacity:1;stroke-miterlimit:10;\" d=\"M 469.921875 144.296875 L 473.761719 144.296875 L 473.761719 145.644531 L 469.921875 145.644531 Z \"/>\n",
       "<path style=\"fill-rule:nonzero;fill:rgb(100%,84.705882%,0%);fill-opacity:1;stroke-width:0.75;stroke-linecap:round;stroke-linejoin:round;stroke:rgb(100%,84.705882%,0%);stroke-opacity:1;stroke-miterlimit:10;\" d=\"M 469.921875 145.648438 L 473.761719 145.648438 L 473.761719 146.996094 L 469.921875 146.996094 Z \"/>\n",
       "<path style=\"fill-rule:nonzero;fill:rgb(100%,86.27451%,0%);fill-opacity:1;stroke-width:0.75;stroke-linecap:round;stroke-linejoin:round;stroke:rgb(100%,86.27451%,0%);stroke-opacity:1;stroke-miterlimit:10;\" d=\"M 469.921875 146.996094 L 473.761719 146.996094 L 473.761719 148.34375 L 469.921875 148.34375 Z \"/>\n",
       "<path style=\"fill-rule:nonzero;fill:rgb(100%,87.843137%,0%);fill-opacity:1;stroke-width:0.75;stroke-linecap:round;stroke-linejoin:round;stroke:rgb(100%,87.843137%,0%);stroke-opacity:1;stroke-miterlimit:10;\" d=\"M 469.921875 148.34375 L 473.761719 148.34375 L 473.761719 149.691406 L 469.921875 149.691406 Z \"/>\n",
       "<path style=\"fill-rule:nonzero;fill:rgb(100%,89.411765%,0%);fill-opacity:1;stroke-width:0.75;stroke-linecap:round;stroke-linejoin:round;stroke:rgb(100%,89.411765%,0%);stroke-opacity:1;stroke-miterlimit:10;\" d=\"M 469.921875 149.695312 L 473.761719 149.695312 L 473.761719 151.042969 L 469.921875 151.042969 Z \"/>\n",
       "<path style=\"fill-rule:nonzero;fill:rgb(100%,90.980392%,0%);fill-opacity:1;stroke-width:0.75;stroke-linecap:round;stroke-linejoin:round;stroke:rgb(100%,90.980392%,0%);stroke-opacity:1;stroke-miterlimit:10;\" d=\"M 469.921875 151.042969 L 473.761719 151.042969 L 473.761719 152.390625 L 469.921875 152.390625 Z \"/>\n",
       "<path style=\"fill-rule:nonzero;fill:rgb(100%,92.54902%,0%);fill-opacity:1;stroke-width:0.75;stroke-linecap:round;stroke-linejoin:round;stroke:rgb(100%,92.54902%,0%);stroke-opacity:1;stroke-miterlimit:10;\" d=\"M 469.921875 152.390625 L 473.761719 152.390625 L 473.761719 153.738281 L 469.921875 153.738281 Z \"/>\n",
       "<path style=\"fill-rule:nonzero;fill:rgb(100%,94.117647%,0%);fill-opacity:1;stroke-width:0.75;stroke-linecap:round;stroke-linejoin:round;stroke:rgb(100%,94.117647%,0%);stroke-opacity:1;stroke-miterlimit:10;\" d=\"M 469.921875 153.742188 L 473.761719 153.742188 L 473.761719 155.089844 L 469.921875 155.089844 Z \"/>\n",
       "<path style=\"fill-rule:nonzero;fill:rgb(100%,95.686275%,0%);fill-opacity:1;stroke-width:0.75;stroke-linecap:round;stroke-linejoin:round;stroke:rgb(100%,95.686275%,0%);stroke-opacity:1;stroke-miterlimit:10;\" d=\"M 469.921875 155.089844 L 473.761719 155.089844 L 473.761719 156.4375 L 469.921875 156.4375 Z \"/>\n",
       "<path style=\"fill-rule:nonzero;fill:rgb(100%,97.254902%,0%);fill-opacity:1;stroke-width:0.75;stroke-linecap:round;stroke-linejoin:round;stroke:rgb(100%,97.254902%,0%);stroke-opacity:1;stroke-miterlimit:10;\" d=\"M 469.921875 156.4375 L 473.761719 156.4375 L 473.761719 157.785156 L 469.921875 157.785156 Z \"/>\n",
       "<path style=\"fill-rule:nonzero;fill:rgb(100%,98.823529%,0%);fill-opacity:1;stroke-width:0.75;stroke-linecap:round;stroke-linejoin:round;stroke:rgb(100%,98.823529%,0%);stroke-opacity:1;stroke-miterlimit:10;\" d=\"M 469.921875 157.789062 L 473.761719 157.789062 L 473.761719 159.136719 L 469.921875 159.136719 Z \"/>\n",
       "<path style=\"fill-rule:nonzero;fill:rgb(99.607843%,100%,0%);fill-opacity:1;stroke-width:0.75;stroke-linecap:round;stroke-linejoin:round;stroke:rgb(99.607843%,100%,0%);stroke-opacity:1;stroke-miterlimit:10;\" d=\"M 469.921875 159.136719 L 473.761719 159.136719 L 473.761719 160.484375 L 469.921875 160.484375 Z \"/>\n",
       "<path style=\"fill-rule:nonzero;fill:rgb(98.039216%,100%,0%);fill-opacity:1;stroke-width:0.75;stroke-linecap:round;stroke-linejoin:round;stroke:rgb(98.039216%,100%,0%);stroke-opacity:1;stroke-miterlimit:10;\" d=\"M 469.921875 160.484375 L 473.761719 160.484375 L 473.761719 161.832031 L 469.921875 161.832031 Z \"/>\n",
       "<path style=\"fill-rule:nonzero;fill:rgb(96.470588%,100%,0%);fill-opacity:1;stroke-width:0.75;stroke-linecap:round;stroke-linejoin:round;stroke:rgb(96.470588%,100%,0%);stroke-opacity:1;stroke-miterlimit:10;\" d=\"M 469.921875 161.835938 L 473.761719 161.835938 L 473.761719 163.183594 L 469.921875 163.183594 Z \"/>\n",
       "<path style=\"fill-rule:nonzero;fill:rgb(94.901961%,100%,0%);fill-opacity:1;stroke-width:0.75;stroke-linecap:round;stroke-linejoin:round;stroke:rgb(94.901961%,100%,0%);stroke-opacity:1;stroke-miterlimit:10;\" d=\"M 469.921875 163.183594 L 473.761719 163.183594 L 473.761719 164.53125 L 469.921875 164.53125 Z \"/>\n",
       "<path style=\"fill-rule:nonzero;fill:rgb(93.333333%,100%,0%);fill-opacity:1;stroke-width:0.75;stroke-linecap:round;stroke-linejoin:round;stroke:rgb(93.333333%,100%,0%);stroke-opacity:1;stroke-miterlimit:10;\" d=\"M 469.921875 164.535156 L 473.761719 164.535156 L 473.761719 165.882812 L 469.921875 165.882812 Z \"/>\n",
       "<path style=\"fill-rule:nonzero;fill:rgb(91.764706%,100%,0%);fill-opacity:1;stroke-width:0.75;stroke-linecap:round;stroke-linejoin:round;stroke:rgb(91.764706%,100%,0%);stroke-opacity:1;stroke-miterlimit:10;\" d=\"M 469.921875 165.882812 L 473.761719 165.882812 L 473.761719 167.230469 L 469.921875 167.230469 Z \"/>\n",
       "<path style=\"fill-rule:nonzero;fill:rgb(90.196078%,100%,0%);fill-opacity:1;stroke-width:0.75;stroke-linecap:round;stroke-linejoin:round;stroke:rgb(90.196078%,100%,0%);stroke-opacity:1;stroke-miterlimit:10;\" d=\"M 469.921875 167.230469 L 473.761719 167.230469 L 473.761719 168.578125 L 469.921875 168.578125 Z \"/>\n",
       "<path style=\"fill-rule:nonzero;fill:rgb(88.627451%,100%,0%);fill-opacity:1;stroke-width:0.75;stroke-linecap:round;stroke-linejoin:round;stroke:rgb(88.627451%,100%,0%);stroke-opacity:1;stroke-miterlimit:10;\" d=\"M 469.921875 168.582031 L 473.761719 168.582031 L 473.761719 169.929688 L 469.921875 169.929688 Z \"/>\n",
       "<path style=\"fill-rule:nonzero;fill:rgb(87.058824%,100%,0%);fill-opacity:1;stroke-width:0.75;stroke-linecap:round;stroke-linejoin:round;stroke:rgb(87.058824%,100%,0%);stroke-opacity:1;stroke-miterlimit:10;\" d=\"M 469.921875 169.929688 L 473.761719 169.929688 L 473.761719 171.277344 L 469.921875 171.277344 Z \"/>\n",
       "<path style=\"fill-rule:nonzero;fill:rgb(85.490196%,100%,0%);fill-opacity:1;stroke-width:0.75;stroke-linecap:round;stroke-linejoin:round;stroke:rgb(85.490196%,100%,0%);stroke-opacity:1;stroke-miterlimit:10;\" d=\"M 469.921875 171.277344 L 473.761719 171.277344 L 473.761719 172.625 L 469.921875 172.625 Z \"/>\n",
       "<path style=\"fill-rule:nonzero;fill:rgb(83.921569%,100%,0%);fill-opacity:1;stroke-width:0.75;stroke-linecap:round;stroke-linejoin:round;stroke:rgb(83.921569%,100%,0%);stroke-opacity:1;stroke-miterlimit:10;\" d=\"M 469.921875 172.628906 L 473.761719 172.628906 L 473.761719 173.976562 L 469.921875 173.976562 Z \"/>\n",
       "<path style=\"fill-rule:nonzero;fill:rgb(82.352941%,100%,0%);fill-opacity:1;stroke-width:0.75;stroke-linecap:round;stroke-linejoin:round;stroke:rgb(82.352941%,100%,0%);stroke-opacity:1;stroke-miterlimit:10;\" d=\"M 469.921875 173.976562 L 473.761719 173.976562 L 473.761719 175.324219 L 469.921875 175.324219 Z \"/>\n",
       "<path style=\"fill-rule:nonzero;fill:rgb(80.784314%,100%,0%);fill-opacity:1;stroke-width:0.75;stroke-linecap:round;stroke-linejoin:round;stroke:rgb(80.784314%,100%,0%);stroke-opacity:1;stroke-miterlimit:10;\" d=\"M 469.921875 175.324219 L 473.761719 175.324219 L 473.761719 176.671875 L 469.921875 176.671875 Z \"/>\n",
       "<path style=\"fill-rule:nonzero;fill:rgb(79.215686%,100%,0%);fill-opacity:1;stroke-width:0.75;stroke-linecap:round;stroke-linejoin:round;stroke:rgb(79.215686%,100%,0%);stroke-opacity:1;stroke-miterlimit:10;\" d=\"M 469.921875 176.675781 L 473.761719 176.675781 L 473.761719 178.023438 L 469.921875 178.023438 Z \"/>\n",
       "<path style=\"fill-rule:nonzero;fill:rgb(77.647059%,100%,0%);fill-opacity:1;stroke-width:0.75;stroke-linecap:round;stroke-linejoin:round;stroke:rgb(77.647059%,100%,0%);stroke-opacity:1;stroke-miterlimit:10;\" d=\"M 469.921875 178.023438 L 473.761719 178.023438 L 473.761719 179.371094 L 469.921875 179.371094 Z \"/>\n",
       "<path style=\"fill-rule:nonzero;fill:rgb(76.078431%,100%,0%);fill-opacity:1;stroke-width:0.75;stroke-linecap:round;stroke-linejoin:round;stroke:rgb(76.078431%,100%,0%);stroke-opacity:1;stroke-miterlimit:10;\" d=\"M 469.921875 179.371094 L 473.761719 179.371094 L 473.761719 180.71875 L 469.921875 180.71875 Z \"/>\n",
       "<path style=\"fill-rule:nonzero;fill:rgb(74.509804%,100%,0%);fill-opacity:1;stroke-width:0.75;stroke-linecap:round;stroke-linejoin:round;stroke:rgb(74.509804%,100%,0%);stroke-opacity:1;stroke-miterlimit:10;\" d=\"M 469.921875 180.722656 L 473.761719 180.722656 L 473.761719 182.070312 L 469.921875 182.070312 Z \"/>\n",
       "<path style=\"fill-rule:nonzero;fill:rgb(72.941176%,100%,0%);fill-opacity:1;stroke-width:0.75;stroke-linecap:round;stroke-linejoin:round;stroke:rgb(72.941176%,100%,0%);stroke-opacity:1;stroke-miterlimit:10;\" d=\"M 469.921875 182.070312 L 473.761719 182.070312 L 473.761719 183.417969 L 469.921875 183.417969 Z \"/>\n",
       "<path style=\"fill-rule:nonzero;fill:rgb(71.372549%,100%,0%);fill-opacity:1;stroke-width:0.75;stroke-linecap:round;stroke-linejoin:round;stroke:rgb(71.372549%,100%,0%);stroke-opacity:1;stroke-miterlimit:10;\" d=\"M 469.921875 183.417969 L 473.761719 183.417969 L 473.761719 184.765625 L 469.921875 184.765625 Z \"/>\n",
       "<path style=\"fill-rule:nonzero;fill:rgb(69.803922%,100%,0%);fill-opacity:1;stroke-width:0.75;stroke-linecap:round;stroke-linejoin:round;stroke:rgb(69.803922%,100%,0%);stroke-opacity:1;stroke-miterlimit:10;\" d=\"M 469.921875 184.769531 L 473.761719 184.769531 L 473.761719 186.117188 L 469.921875 186.117188 Z \"/>\n",
       "<path style=\"fill-rule:nonzero;fill:rgb(68.235294%,100%,0%);fill-opacity:1;stroke-width:0.75;stroke-linecap:round;stroke-linejoin:round;stroke:rgb(68.235294%,100%,0%);stroke-opacity:1;stroke-miterlimit:10;\" d=\"M 469.921875 186.117188 L 473.761719 186.117188 L 473.761719 187.464844 L 469.921875 187.464844 Z \"/>\n",
       "<path style=\"fill-rule:nonzero;fill:rgb(66.666667%,100%,0%);fill-opacity:1;stroke-width:0.75;stroke-linecap:round;stroke-linejoin:round;stroke:rgb(66.666667%,100%,0%);stroke-opacity:1;stroke-miterlimit:10;\" d=\"M 469.921875 187.464844 L 473.761719 187.464844 L 473.761719 188.8125 L 469.921875 188.8125 Z \"/>\n",
       "<path style=\"fill-rule:nonzero;fill:rgb(65.098039%,100%,0%);fill-opacity:1;stroke-width:0.75;stroke-linecap:round;stroke-linejoin:round;stroke:rgb(65.098039%,100%,0%);stroke-opacity:1;stroke-miterlimit:10;\" d=\"M 469.921875 188.816406 L 473.761719 188.816406 L 473.761719 190.164062 L 469.921875 190.164062 Z \"/>\n",
       "<path style=\"fill-rule:nonzero;fill:rgb(63.529412%,100%,0%);fill-opacity:1;stroke-width:0.75;stroke-linecap:round;stroke-linejoin:round;stroke:rgb(63.529412%,100%,0%);stroke-opacity:1;stroke-miterlimit:10;\" d=\"M 469.921875 190.164062 L 473.761719 190.164062 L 473.761719 191.511719 L 469.921875 191.511719 Z \"/>\n",
       "<path style=\"fill-rule:nonzero;fill:rgb(61.960784%,100%,0%);fill-opacity:1;stroke-width:0.75;stroke-linecap:round;stroke-linejoin:round;stroke:rgb(61.960784%,100%,0%);stroke-opacity:1;stroke-miterlimit:10;\" d=\"M 469.921875 191.515625 L 473.761719 191.515625 L 473.761719 192.863281 L 469.921875 192.863281 Z \"/>\n",
       "<path style=\"fill-rule:nonzero;fill:rgb(60.392157%,100%,0%);fill-opacity:1;stroke-width:0.75;stroke-linecap:round;stroke-linejoin:round;stroke:rgb(60.392157%,100%,0%);stroke-opacity:1;stroke-miterlimit:10;\" d=\"M 469.921875 192.863281 L 473.761719 192.863281 L 473.761719 194.210938 L 469.921875 194.210938 Z \"/>\n",
       "<path style=\"fill-rule:nonzero;fill:rgb(58.823529%,100%,0%);fill-opacity:1;stroke-width:0.75;stroke-linecap:round;stroke-linejoin:round;stroke:rgb(58.823529%,100%,0%);stroke-opacity:1;stroke-miterlimit:10;\" d=\"M 469.921875 194.210938 L 473.761719 194.210938 L 473.761719 195.558594 L 469.921875 195.558594 Z \"/>\n",
       "<path style=\"fill-rule:nonzero;fill:rgb(57.254902%,100%,0%);fill-opacity:1;stroke-width:0.75;stroke-linecap:round;stroke-linejoin:round;stroke:rgb(57.254902%,100%,0%);stroke-opacity:1;stroke-miterlimit:10;\" d=\"M 469.921875 195.5625 L 473.761719 195.5625 L 473.761719 196.910156 L 469.921875 196.910156 Z \"/>\n",
       "<path style=\"fill-rule:nonzero;fill:rgb(55.686275%,100%,0%);fill-opacity:1;stroke-width:0.75;stroke-linecap:round;stroke-linejoin:round;stroke:rgb(55.686275%,100%,0%);stroke-opacity:1;stroke-miterlimit:10;\" d=\"M 469.921875 196.910156 L 473.761719 196.910156 L 473.761719 198.257812 L 469.921875 198.257812 Z \"/>\n",
       "<path style=\"fill-rule:nonzero;fill:rgb(54.117647%,100%,0%);fill-opacity:1;stroke-width:0.75;stroke-linecap:round;stroke-linejoin:round;stroke:rgb(54.117647%,100%,0%);stroke-opacity:1;stroke-miterlimit:10;\" d=\"M 469.921875 198.257812 L 473.761719 198.257812 L 473.761719 199.605469 L 469.921875 199.605469 Z \"/>\n",
       "<path style=\"fill-rule:nonzero;fill:rgb(52.54902%,100%,0%);fill-opacity:1;stroke-width:0.75;stroke-linecap:round;stroke-linejoin:round;stroke:rgb(52.54902%,100%,0%);stroke-opacity:1;stroke-miterlimit:10;\" d=\"M 469.921875 199.609375 L 473.761719 199.609375 L 473.761719 200.957031 L 469.921875 200.957031 Z \"/>\n",
       "<path style=\"fill-rule:nonzero;fill:rgb(50.980392%,100%,0%);fill-opacity:1;stroke-width:0.75;stroke-linecap:round;stroke-linejoin:round;stroke:rgb(50.980392%,100%,0%);stroke-opacity:1;stroke-miterlimit:10;\" d=\"M 469.921875 200.957031 L 473.761719 200.957031 L 473.761719 202.304688 L 469.921875 202.304688 Z \"/>\n",
       "<path style=\"fill-rule:nonzero;fill:rgb(49.411765%,100%,0%);fill-opacity:1;stroke-width:0.75;stroke-linecap:round;stroke-linejoin:round;stroke:rgb(49.411765%,100%,0%);stroke-opacity:1;stroke-miterlimit:10;\" d=\"M 469.921875 202.304688 L 473.761719 202.304688 L 473.761719 203.652344 L 469.921875 203.652344 Z \"/>\n",
       "<path style=\"fill-rule:nonzero;fill:rgb(47.843137%,100%,0%);fill-opacity:1;stroke-width:0.75;stroke-linecap:round;stroke-linejoin:round;stroke:rgb(47.843137%,100%,0%);stroke-opacity:1;stroke-miterlimit:10;\" d=\"M 469.921875 203.65625 L 473.761719 203.65625 L 473.761719 205.003906 L 469.921875 205.003906 Z \"/>\n",
       "<path style=\"fill-rule:nonzero;fill:rgb(46.27451%,100%,0%);fill-opacity:1;stroke-width:0.75;stroke-linecap:round;stroke-linejoin:round;stroke:rgb(46.27451%,100%,0%);stroke-opacity:1;stroke-miterlimit:10;\" d=\"M 469.921875 205.003906 L 473.761719 205.003906 L 473.761719 206.351562 L 469.921875 206.351562 Z \"/>\n",
       "<path style=\"fill-rule:nonzero;fill:rgb(44.705882%,100%,0%);fill-opacity:1;stroke-width:0.75;stroke-linecap:round;stroke-linejoin:round;stroke:rgb(44.705882%,100%,0%);stroke-opacity:1;stroke-miterlimit:10;\" d=\"M 469.921875 206.351562 L 473.761719 206.351562 L 473.761719 207.699219 L 469.921875 207.699219 Z \"/>\n",
       "<path style=\"fill-rule:nonzero;fill:rgb(43.137255%,100%,0%);fill-opacity:1;stroke-width:0.75;stroke-linecap:round;stroke-linejoin:round;stroke:rgb(43.137255%,100%,0%);stroke-opacity:1;stroke-miterlimit:10;\" d=\"M 469.921875 207.703125 L 473.761719 207.703125 L 473.761719 209.050781 L 469.921875 209.050781 Z \"/>\n",
       "<path style=\"fill-rule:nonzero;fill:rgb(41.568627%,100%,0%);fill-opacity:1;stroke-width:0.75;stroke-linecap:round;stroke-linejoin:round;stroke:rgb(41.568627%,100%,0%);stroke-opacity:1;stroke-miterlimit:10;\" d=\"M 469.921875 209.050781 L 473.761719 209.050781 L 473.761719 210.398438 L 469.921875 210.398438 Z \"/>\n",
       "<path style=\"fill-rule:nonzero;fill:rgb(40%,100%,0%);fill-opacity:1;stroke-width:0.75;stroke-linecap:round;stroke-linejoin:round;stroke:rgb(40%,100%,0%);stroke-opacity:1;stroke-miterlimit:10;\" d=\"M 469.921875 210.398438 L 473.761719 210.398438 L 473.761719 211.746094 L 469.921875 211.746094 Z \"/>\n",
       "<path style=\"fill-rule:nonzero;fill:rgb(38.431373%,100%,0%);fill-opacity:1;stroke-width:0.75;stroke-linecap:round;stroke-linejoin:round;stroke:rgb(38.431373%,100%,0%);stroke-opacity:1;stroke-miterlimit:10;\" d=\"M 469.921875 211.75 L 473.761719 211.75 L 473.761719 213.097656 L 469.921875 213.097656 Z \"/>\n",
       "<path style=\"fill-rule:nonzero;fill:rgb(36.862745%,100%,0%);fill-opacity:1;stroke-width:0.75;stroke-linecap:round;stroke-linejoin:round;stroke:rgb(36.862745%,100%,0%);stroke-opacity:1;stroke-miterlimit:10;\" d=\"M 469.921875 213.097656 L 473.761719 213.097656 L 473.761719 214.445312 L 469.921875 214.445312 Z \"/>\n",
       "<path style=\"fill-rule:nonzero;fill:rgb(35.294118%,100%,0%);fill-opacity:1;stroke-width:0.75;stroke-linecap:round;stroke-linejoin:round;stroke:rgb(35.294118%,100%,0%);stroke-opacity:1;stroke-miterlimit:10;\" d=\"M 469.921875 214.445312 L 473.761719 214.445312 L 473.761719 215.792969 L 469.921875 215.792969 Z \"/>\n",
       "<path style=\"fill-rule:nonzero;fill:rgb(33.72549%,100%,0%);fill-opacity:1;stroke-width:0.75;stroke-linecap:round;stroke-linejoin:round;stroke:rgb(33.72549%,100%,0%);stroke-opacity:1;stroke-miterlimit:10;\" d=\"M 469.921875 215.796875 L 473.761719 215.796875 L 473.761719 217.144531 L 469.921875 217.144531 Z \"/>\n",
       "<path style=\"fill-rule:nonzero;fill:rgb(32.156863%,100%,0%);fill-opacity:1;stroke-width:0.75;stroke-linecap:round;stroke-linejoin:round;stroke:rgb(32.156863%,100%,0%);stroke-opacity:1;stroke-miterlimit:10;\" d=\"M 469.921875 217.144531 L 473.761719 217.144531 L 473.761719 218.492188 L 469.921875 218.492188 Z \"/>\n",
       "<path style=\"fill-rule:nonzero;fill:rgb(30.588235%,100%,0%);fill-opacity:1;stroke-width:0.75;stroke-linecap:round;stroke-linejoin:round;stroke:rgb(30.588235%,100%,0%);stroke-opacity:1;stroke-miterlimit:10;\" d=\"M 469.921875 218.492188 L 473.761719 218.492188 L 473.761719 219.839844 L 469.921875 219.839844 Z \"/>\n",
       "<path style=\"fill-rule:nonzero;fill:rgb(29.019608%,100%,0%);fill-opacity:1;stroke-width:0.75;stroke-linecap:round;stroke-linejoin:round;stroke:rgb(29.019608%,100%,0%);stroke-opacity:1;stroke-miterlimit:10;\" d=\"M 469.921875 219.84375 L 473.761719 219.84375 L 473.761719 221.191406 L 469.921875 221.191406 Z \"/>\n",
       "<path style=\"fill-rule:nonzero;fill:rgb(27.45098%,100%,0%);fill-opacity:1;stroke-width:0.75;stroke-linecap:round;stroke-linejoin:round;stroke:rgb(27.45098%,100%,0%);stroke-opacity:1;stroke-miterlimit:10;\" d=\"M 469.921875 221.191406 L 473.761719 221.191406 L 473.761719 222.539062 L 469.921875 222.539062 Z \"/>\n",
       "<path style=\"fill-rule:nonzero;fill:rgb(25.882353%,100%,0%);fill-opacity:1;stroke-width:0.75;stroke-linecap:round;stroke-linejoin:round;stroke:rgb(25.882353%,100%,0%);stroke-opacity:1;stroke-miterlimit:10;\" d=\"M 469.921875 222.542969 L 473.761719 222.542969 L 473.761719 223.890625 L 469.921875 223.890625 Z \"/>\n",
       "<path style=\"fill-rule:nonzero;fill:rgb(24.313725%,100%,0%);fill-opacity:1;stroke-width:0.75;stroke-linecap:round;stroke-linejoin:round;stroke:rgb(24.313725%,100%,0%);stroke-opacity:1;stroke-miterlimit:10;\" d=\"M 469.921875 223.890625 L 473.761719 223.890625 L 473.761719 225.238281 L 469.921875 225.238281 Z \"/>\n",
       "<path style=\"fill-rule:nonzero;fill:rgb(22.745098%,100%,0%);fill-opacity:1;stroke-width:0.75;stroke-linecap:round;stroke-linejoin:round;stroke:rgb(22.745098%,100%,0%);stroke-opacity:1;stroke-miterlimit:10;\" d=\"M 469.921875 225.238281 L 473.761719 225.238281 L 473.761719 226.585938 L 469.921875 226.585938 Z \"/>\n",
       "<path style=\"fill-rule:nonzero;fill:rgb(21.176471%,100%,0%);fill-opacity:1;stroke-width:0.75;stroke-linecap:round;stroke-linejoin:round;stroke:rgb(21.176471%,100%,0%);stroke-opacity:1;stroke-miterlimit:10;\" d=\"M 469.921875 226.589844 L 473.761719 226.589844 L 473.761719 227.9375 L 469.921875 227.9375 Z \"/>\n",
       "<path style=\"fill-rule:nonzero;fill:rgb(19.607843%,100%,0%);fill-opacity:1;stroke-width:0.75;stroke-linecap:round;stroke-linejoin:round;stroke:rgb(19.607843%,100%,0%);stroke-opacity:1;stroke-miterlimit:10;\" d=\"M 469.921875 227.9375 L 473.761719 227.9375 L 473.761719 229.285156 L 469.921875 229.285156 Z \"/>\n",
       "<path style=\"fill-rule:nonzero;fill:rgb(18.039216%,100%,0%);fill-opacity:1;stroke-width:0.75;stroke-linecap:round;stroke-linejoin:round;stroke:rgb(18.039216%,100%,0%);stroke-opacity:1;stroke-miterlimit:10;\" d=\"M 469.921875 229.285156 L 473.761719 229.285156 L 473.761719 230.632812 L 469.921875 230.632812 Z \"/>\n",
       "<path style=\"fill-rule:nonzero;fill:rgb(16.470588%,100%,0%);fill-opacity:1;stroke-width:0.75;stroke-linecap:round;stroke-linejoin:round;stroke:rgb(16.470588%,100%,0%);stroke-opacity:1;stroke-miterlimit:10;\" d=\"M 469.921875 230.636719 L 473.761719 230.636719 L 473.761719 231.984375 L 469.921875 231.984375 Z \"/>\n",
       "<path style=\"fill-rule:nonzero;fill:rgb(14.901961%,100%,0%);fill-opacity:1;stroke-width:0.75;stroke-linecap:round;stroke-linejoin:round;stroke:rgb(14.901961%,100%,0%);stroke-opacity:1;stroke-miterlimit:10;\" d=\"M 469.921875 231.984375 L 473.761719 231.984375 L 473.761719 233.332031 L 469.921875 233.332031 Z \"/>\n",
       "<path style=\"fill-rule:nonzero;fill:rgb(13.333333%,100%,0%);fill-opacity:1;stroke-width:0.75;stroke-linecap:round;stroke-linejoin:round;stroke:rgb(13.333333%,100%,0%);stroke-opacity:1;stroke-miterlimit:10;\" d=\"M 469.921875 233.332031 L 473.761719 233.332031 L 473.761719 234.679688 L 469.921875 234.679688 Z \"/>\n",
       "<path style=\"fill-rule:nonzero;fill:rgb(11.764706%,100%,0%);fill-opacity:1;stroke-width:0.75;stroke-linecap:round;stroke-linejoin:round;stroke:rgb(11.764706%,100%,0%);stroke-opacity:1;stroke-miterlimit:10;\" d=\"M 469.921875 234.683594 L 473.761719 234.683594 L 473.761719 236.03125 L 469.921875 236.03125 Z \"/>\n",
       "<path style=\"fill-rule:nonzero;fill:rgb(10.196078%,100%,0%);fill-opacity:1;stroke-width:0.75;stroke-linecap:round;stroke-linejoin:round;stroke:rgb(10.196078%,100%,0%);stroke-opacity:1;stroke-miterlimit:10;\" d=\"M 469.921875 236.03125 L 473.761719 236.03125 L 473.761719 237.378906 L 469.921875 237.378906 Z \"/>\n",
       "<path style=\"fill-rule:nonzero;fill:rgb(8.627451%,100%,0%);fill-opacity:1;stroke-width:0.75;stroke-linecap:round;stroke-linejoin:round;stroke:rgb(8.627451%,100%,0%);stroke-opacity:1;stroke-miterlimit:10;\" d=\"M 469.921875 237.378906 L 473.761719 237.378906 L 473.761719 238.726562 L 469.921875 238.726562 Z \"/>\n",
       "<path style=\"fill-rule:nonzero;fill:rgb(7.058824%,100%,0%);fill-opacity:1;stroke-width:0.75;stroke-linecap:round;stroke-linejoin:round;stroke:rgb(7.058824%,100%,0%);stroke-opacity:1;stroke-miterlimit:10;\" d=\"M 469.921875 238.730469 L 473.761719 238.730469 L 473.761719 240.078125 L 469.921875 240.078125 Z \"/>\n",
       "<path style=\"fill-rule:nonzero;fill:rgb(5.490196%,100%,0%);fill-opacity:1;stroke-width:0.75;stroke-linecap:round;stroke-linejoin:round;stroke:rgb(5.490196%,100%,0%);stroke-opacity:1;stroke-miterlimit:10;\" d=\"M 469.921875 240.078125 L 473.761719 240.078125 L 473.761719 241.425781 L 469.921875 241.425781 Z \"/>\n",
       "<path style=\"fill-rule:nonzero;fill:rgb(3.921569%,100%,0%);fill-opacity:1;stroke-width:0.75;stroke-linecap:round;stroke-linejoin:round;stroke:rgb(3.921569%,100%,0%);stroke-opacity:1;stroke-miterlimit:10;\" d=\"M 469.921875 241.425781 L 473.761719 241.425781 L 473.761719 242.773438 L 469.921875 242.773438 Z \"/>\n",
       "<path style=\"fill-rule:nonzero;fill:rgb(2.352941%,100%,0%);fill-opacity:1;stroke-width:0.75;stroke-linecap:round;stroke-linejoin:round;stroke:rgb(2.352941%,100%,0%);stroke-opacity:1;stroke-miterlimit:10;\" d=\"M 469.921875 242.777344 L 473.761719 242.777344 L 473.761719 244.125 L 469.921875 244.125 Z \"/>\n",
       "<path style=\"fill-rule:nonzero;fill:rgb(0.784314%,100%,0%);fill-opacity:1;stroke-width:0.75;stroke-linecap:round;stroke-linejoin:round;stroke:rgb(0.784314%,100%,0%);stroke-opacity:1;stroke-miterlimit:10;\" d=\"M 469.921875 244.125 L 473.761719 244.125 L 473.761719 245.472656 L 469.921875 245.472656 Z \"/>\n",
       "<path style=\"fill-rule:nonzero;fill:rgb(0%,100%,0.784314%);fill-opacity:1;stroke-width:0.75;stroke-linecap:round;stroke-linejoin:round;stroke:rgb(0%,100%,0.784314%);stroke-opacity:1;stroke-miterlimit:10;\" d=\"M 469.921875 245.472656 L 473.761719 245.472656 L 473.761719 246.820312 L 469.921875 246.820312 Z \"/>\n",
       "<path style=\"fill-rule:nonzero;fill:rgb(0%,100%,2.352941%);fill-opacity:1;stroke-width:0.75;stroke-linecap:round;stroke-linejoin:round;stroke:rgb(0%,100%,2.352941%);stroke-opacity:1;stroke-miterlimit:10;\" d=\"M 469.921875 246.824219 L 473.761719 246.824219 L 473.761719 248.171875 L 469.921875 248.171875 Z \"/>\n",
       "<path style=\"fill-rule:nonzero;fill:rgb(0%,100%,3.921569%);fill-opacity:1;stroke-width:0.75;stroke-linecap:round;stroke-linejoin:round;stroke:rgb(0%,100%,3.921569%);stroke-opacity:1;stroke-miterlimit:10;\" d=\"M 469.921875 248.171875 L 473.761719 248.171875 L 473.761719 249.519531 L 469.921875 249.519531 Z \"/>\n",
       "<path style=\"fill-rule:nonzero;fill:rgb(0%,100%,5.490196%);fill-opacity:1;stroke-width:0.75;stroke-linecap:round;stroke-linejoin:round;stroke:rgb(0%,100%,5.490196%);stroke-opacity:1;stroke-miterlimit:10;\" d=\"M 469.921875 249.523438 L 473.761719 249.523438 L 473.761719 250.871094 L 469.921875 250.871094 Z \"/>\n",
       "<path style=\"fill-rule:nonzero;fill:rgb(0%,100%,7.058824%);fill-opacity:1;stroke-width:0.75;stroke-linecap:round;stroke-linejoin:round;stroke:rgb(0%,100%,7.058824%);stroke-opacity:1;stroke-miterlimit:10;\" d=\"M 469.921875 250.871094 L 473.761719 250.871094 L 473.761719 252.21875 L 469.921875 252.21875 Z \"/>\n",
       "<path style=\"fill-rule:nonzero;fill:rgb(0%,100%,8.627451%);fill-opacity:1;stroke-width:0.75;stroke-linecap:round;stroke-linejoin:round;stroke:rgb(0%,100%,8.627451%);stroke-opacity:1;stroke-miterlimit:10;\" d=\"M 469.921875 252.21875 L 473.761719 252.21875 L 473.761719 253.566406 L 469.921875 253.566406 Z \"/>\n",
       "<path style=\"fill-rule:nonzero;fill:rgb(0%,100%,10.196078%);fill-opacity:1;stroke-width:0.75;stroke-linecap:round;stroke-linejoin:round;stroke:rgb(0%,100%,10.196078%);stroke-opacity:1;stroke-miterlimit:10;\" d=\"M 469.921875 253.570312 L 473.761719 253.570312 L 473.761719 254.917969 L 469.921875 254.917969 Z \"/>\n",
       "<path style=\"fill-rule:nonzero;fill:rgb(0%,100%,11.764706%);fill-opacity:1;stroke-width:0.75;stroke-linecap:round;stroke-linejoin:round;stroke:rgb(0%,100%,11.764706%);stroke-opacity:1;stroke-miterlimit:10;\" d=\"M 469.921875 254.917969 L 473.761719 254.917969 L 473.761719 256.265625 L 469.921875 256.265625 Z \"/>\n",
       "<path style=\"fill-rule:nonzero;fill:rgb(0%,100%,13.333333%);fill-opacity:1;stroke-width:0.75;stroke-linecap:round;stroke-linejoin:round;stroke:rgb(0%,100%,13.333333%);stroke-opacity:1;stroke-miterlimit:10;\" d=\"M 469.921875 256.265625 L 473.761719 256.265625 L 473.761719 257.613281 L 469.921875 257.613281 Z \"/>\n",
       "<path style=\"fill-rule:nonzero;fill:rgb(0%,100%,14.901961%);fill-opacity:1;stroke-width:0.75;stroke-linecap:round;stroke-linejoin:round;stroke:rgb(0%,100%,14.901961%);stroke-opacity:1;stroke-miterlimit:10;\" d=\"M 469.921875 257.617188 L 473.761719 257.617188 L 473.761719 258.964844 L 469.921875 258.964844 Z \"/>\n",
       "<path style=\"fill-rule:nonzero;fill:rgb(0%,100%,16.470588%);fill-opacity:1;stroke-width:0.75;stroke-linecap:round;stroke-linejoin:round;stroke:rgb(0%,100%,16.470588%);stroke-opacity:1;stroke-miterlimit:10;\" d=\"M 469.921875 258.964844 L 473.761719 258.964844 L 473.761719 260.3125 L 469.921875 260.3125 Z \"/>\n",
       "<path style=\"fill-rule:nonzero;fill:rgb(0%,100%,18.039216%);fill-opacity:1;stroke-width:0.75;stroke-linecap:round;stroke-linejoin:round;stroke:rgb(0%,100%,18.039216%);stroke-opacity:1;stroke-miterlimit:10;\" d=\"M 469.921875 260.3125 L 473.761719 260.3125 L 473.761719 261.660156 L 469.921875 261.660156 Z \"/>\n",
       "<path style=\"fill-rule:nonzero;fill:rgb(0%,100%,19.607843%);fill-opacity:1;stroke-width:0.75;stroke-linecap:round;stroke-linejoin:round;stroke:rgb(0%,100%,19.607843%);stroke-opacity:1;stroke-miterlimit:10;\" d=\"M 469.921875 261.664062 L 473.761719 261.664062 L 473.761719 263.011719 L 469.921875 263.011719 Z \"/>\n",
       "<path style=\"fill-rule:nonzero;fill:rgb(0%,100%,21.176471%);fill-opacity:1;stroke-width:0.75;stroke-linecap:round;stroke-linejoin:round;stroke:rgb(0%,100%,21.176471%);stroke-opacity:1;stroke-miterlimit:10;\" d=\"M 469.921875 263.011719 L 473.761719 263.011719 L 473.761719 264.359375 L 469.921875 264.359375 Z \"/>\n",
       "<path style=\"fill-rule:nonzero;fill:rgb(0%,100%,22.745098%);fill-opacity:1;stroke-width:0.75;stroke-linecap:round;stroke-linejoin:round;stroke:rgb(0%,100%,22.745098%);stroke-opacity:1;stroke-miterlimit:10;\" d=\"M 469.921875 264.359375 L 473.761719 264.359375 L 473.761719 265.707031 L 469.921875 265.707031 Z \"/>\n",
       "<path style=\"fill-rule:nonzero;fill:rgb(0%,100%,24.313725%);fill-opacity:1;stroke-width:0.75;stroke-linecap:round;stroke-linejoin:round;stroke:rgb(0%,100%,24.313725%);stroke-opacity:1;stroke-miterlimit:10;\" d=\"M 469.921875 265.710938 L 473.761719 265.710938 L 473.761719 267.058594 L 469.921875 267.058594 Z \"/>\n",
       "<path style=\"fill-rule:nonzero;fill:rgb(0%,100%,25.882353%);fill-opacity:1;stroke-width:0.75;stroke-linecap:round;stroke-linejoin:round;stroke:rgb(0%,100%,25.882353%);stroke-opacity:1;stroke-miterlimit:10;\" d=\"M 469.921875 267.058594 L 473.761719 267.058594 L 473.761719 268.40625 L 469.921875 268.40625 Z \"/>\n",
       "<path style=\"fill-rule:nonzero;fill:rgb(0%,100%,27.45098%);fill-opacity:1;stroke-width:0.75;stroke-linecap:round;stroke-linejoin:round;stroke:rgb(0%,100%,27.45098%);stroke-opacity:1;stroke-miterlimit:10;\" d=\"M 469.921875 268.40625 L 473.761719 268.40625 L 473.761719 269.753906 L 469.921875 269.753906 Z \"/>\n",
       "<path style=\"fill-rule:nonzero;fill:rgb(0%,100%,29.019608%);fill-opacity:1;stroke-width:0.75;stroke-linecap:round;stroke-linejoin:round;stroke:rgb(0%,100%,29.019608%);stroke-opacity:1;stroke-miterlimit:10;\" d=\"M 469.921875 269.757812 L 473.761719 269.757812 L 473.761719 271.105469 L 469.921875 271.105469 Z \"/>\n",
       "<path style=\"fill-rule:nonzero;fill:rgb(0%,100%,30.588235%);fill-opacity:1;stroke-width:0.75;stroke-linecap:round;stroke-linejoin:round;stroke:rgb(0%,100%,30.588235%);stroke-opacity:1;stroke-miterlimit:10;\" d=\"M 469.921875 271.105469 L 473.761719 271.105469 L 473.761719 272.453125 L 469.921875 272.453125 Z \"/>\n",
       "<path style=\"fill-rule:nonzero;fill:rgb(0%,100%,32.156863%);fill-opacity:1;stroke-width:0.75;stroke-linecap:round;stroke-linejoin:round;stroke:rgb(0%,100%,32.156863%);stroke-opacity:1;stroke-miterlimit:10;\" d=\"M 469.921875 272.453125 L 473.761719 272.453125 L 473.761719 273.800781 L 469.921875 273.800781 Z \"/>\n",
       "<path style=\"fill-rule:nonzero;fill:rgb(0%,100%,33.72549%);fill-opacity:1;stroke-width:0.75;stroke-linecap:round;stroke-linejoin:round;stroke:rgb(0%,100%,33.72549%);stroke-opacity:1;stroke-miterlimit:10;\" d=\"M 469.921875 273.804688 L 473.761719 273.804688 L 473.761719 275.152344 L 469.921875 275.152344 Z \"/>\n",
       "<path style=\"fill-rule:nonzero;fill:rgb(0%,100%,35.294118%);fill-opacity:1;stroke-width:0.75;stroke-linecap:round;stroke-linejoin:round;stroke:rgb(0%,100%,35.294118%);stroke-opacity:1;stroke-miterlimit:10;\" d=\"M 469.921875 275.152344 L 473.761719 275.152344 L 473.761719 276.5 L 469.921875 276.5 Z \"/>\n",
       "<path style=\"fill-rule:nonzero;fill:rgb(0%,100%,36.862745%);fill-opacity:1;stroke-width:0.75;stroke-linecap:round;stroke-linejoin:round;stroke:rgb(0%,100%,36.862745%);stroke-opacity:1;stroke-miterlimit:10;\" d=\"M 469.921875 276.503906 L 473.761719 276.503906 L 473.761719 277.851562 L 469.921875 277.851562 Z \"/>\n",
       "<path style=\"fill-rule:nonzero;fill:rgb(0%,100%,38.431373%);fill-opacity:1;stroke-width:0.75;stroke-linecap:round;stroke-linejoin:round;stroke:rgb(0%,100%,38.431373%);stroke-opacity:1;stroke-miterlimit:10;\" d=\"M 469.921875 277.851562 L 473.761719 277.851562 L 473.761719 279.199219 L 469.921875 279.199219 Z \"/>\n",
       "<path style=\"fill-rule:nonzero;fill:rgb(0%,100%,40%);fill-opacity:1;stroke-width:0.75;stroke-linecap:round;stroke-linejoin:round;stroke:rgb(0%,100%,40%);stroke-opacity:1;stroke-miterlimit:10;\" d=\"M 469.921875 279.199219 L 473.761719 279.199219 L 473.761719 280.546875 L 469.921875 280.546875 Z \"/>\n",
       "<path style=\"fill-rule:nonzero;fill:rgb(0%,100%,41.568627%);fill-opacity:1;stroke-width:0.75;stroke-linecap:round;stroke-linejoin:round;stroke:rgb(0%,100%,41.568627%);stroke-opacity:1;stroke-miterlimit:10;\" d=\"M 469.921875 280.550781 L 473.761719 280.550781 L 473.761719 281.898438 L 469.921875 281.898438 Z \"/>\n",
       "<path style=\"fill-rule:nonzero;fill:rgb(0%,100%,43.137255%);fill-opacity:1;stroke-width:0.75;stroke-linecap:round;stroke-linejoin:round;stroke:rgb(0%,100%,43.137255%);stroke-opacity:1;stroke-miterlimit:10;\" d=\"M 469.921875 281.898438 L 473.761719 281.898438 L 473.761719 283.246094 L 469.921875 283.246094 Z \"/>\n",
       "<path style=\"fill-rule:nonzero;fill:rgb(0%,100%,44.705882%);fill-opacity:1;stroke-width:0.75;stroke-linecap:round;stroke-linejoin:round;stroke:rgb(0%,100%,44.705882%);stroke-opacity:1;stroke-miterlimit:10;\" d=\"M 469.921875 283.246094 L 473.761719 283.246094 L 473.761719 284.59375 L 469.921875 284.59375 Z \"/>\n",
       "<path style=\"fill-rule:nonzero;fill:rgb(0%,100%,46.27451%);fill-opacity:1;stroke-width:0.75;stroke-linecap:round;stroke-linejoin:round;stroke:rgb(0%,100%,46.27451%);stroke-opacity:1;stroke-miterlimit:10;\" d=\"M 469.921875 284.597656 L 473.761719 284.597656 L 473.761719 285.945312 L 469.921875 285.945312 Z \"/>\n",
       "<path style=\"fill-rule:nonzero;fill:rgb(0%,100%,47.843137%);fill-opacity:1;stroke-width:0.75;stroke-linecap:round;stroke-linejoin:round;stroke:rgb(0%,100%,47.843137%);stroke-opacity:1;stroke-miterlimit:10;\" d=\"M 469.921875 285.945312 L 473.761719 285.945312 L 473.761719 287.292969 L 469.921875 287.292969 Z \"/>\n",
       "<path style=\"fill-rule:nonzero;fill:rgb(0%,100%,49.411765%);fill-opacity:1;stroke-width:0.75;stroke-linecap:round;stroke-linejoin:round;stroke:rgb(0%,100%,49.411765%);stroke-opacity:1;stroke-miterlimit:10;\" d=\"M 469.921875 287.292969 L 473.761719 287.292969 L 473.761719 288.640625 L 469.921875 288.640625 Z \"/>\n",
       "<path style=\"fill-rule:nonzero;fill:rgb(0%,100%,50.980392%);fill-opacity:1;stroke-width:0.75;stroke-linecap:round;stroke-linejoin:round;stroke:rgb(0%,100%,50.980392%);stroke-opacity:1;stroke-miterlimit:10;\" d=\"M 469.921875 288.644531 L 473.761719 288.644531 L 473.761719 289.992188 L 469.921875 289.992188 Z \"/>\n",
       "<path style=\"fill-rule:nonzero;fill:rgb(0%,100%,52.54902%);fill-opacity:1;stroke-width:0.75;stroke-linecap:round;stroke-linejoin:round;stroke:rgb(0%,100%,52.54902%);stroke-opacity:1;stroke-miterlimit:10;\" d=\"M 469.921875 289.992188 L 473.761719 289.992188 L 473.761719 291.339844 L 469.921875 291.339844 Z \"/>\n",
       "<path style=\"fill-rule:nonzero;fill:rgb(0%,100%,54.117647%);fill-opacity:1;stroke-width:0.75;stroke-linecap:round;stroke-linejoin:round;stroke:rgb(0%,100%,54.117647%);stroke-opacity:1;stroke-miterlimit:10;\" d=\"M 469.921875 291.339844 L 473.761719 291.339844 L 473.761719 292.6875 L 469.921875 292.6875 Z \"/>\n",
       "<path style=\"fill-rule:nonzero;fill:rgb(0%,100%,55.686275%);fill-opacity:1;stroke-width:0.75;stroke-linecap:round;stroke-linejoin:round;stroke:rgb(0%,100%,55.686275%);stroke-opacity:1;stroke-miterlimit:10;\" d=\"M 469.921875 292.691406 L 473.761719 292.691406 L 473.761719 294.039062 L 469.921875 294.039062 Z \"/>\n",
       "<path style=\"fill-rule:nonzero;fill:rgb(0%,100%,57.254902%);fill-opacity:1;stroke-width:0.75;stroke-linecap:round;stroke-linejoin:round;stroke:rgb(0%,100%,57.254902%);stroke-opacity:1;stroke-miterlimit:10;\" d=\"M 469.921875 294.039062 L 473.761719 294.039062 L 473.761719 295.386719 L 469.921875 295.386719 Z \"/>\n",
       "<path style=\"fill-rule:nonzero;fill:rgb(0%,100%,58.823529%);fill-opacity:1;stroke-width:0.75;stroke-linecap:round;stroke-linejoin:round;stroke:rgb(0%,100%,58.823529%);stroke-opacity:1;stroke-miterlimit:10;\" d=\"M 469.921875 295.386719 L 473.761719 295.386719 L 473.761719 296.734375 L 469.921875 296.734375 Z \"/>\n",
       "<path style=\"fill-rule:nonzero;fill:rgb(0%,100%,60.392157%);fill-opacity:1;stroke-width:0.75;stroke-linecap:round;stroke-linejoin:round;stroke:rgb(0%,100%,60.392157%);stroke-opacity:1;stroke-miterlimit:10;\" d=\"M 469.921875 296.738281 L 473.761719 296.738281 L 473.761719 298.085938 L 469.921875 298.085938 Z \"/>\n",
       "<path style=\"fill-rule:nonzero;fill:rgb(0%,100%,61.960784%);fill-opacity:1;stroke-width:0.75;stroke-linecap:round;stroke-linejoin:round;stroke:rgb(0%,100%,61.960784%);stroke-opacity:1;stroke-miterlimit:10;\" d=\"M 469.921875 298.085938 L 473.761719 298.085938 L 473.761719 299.433594 L 469.921875 299.433594 Z \"/>\n",
       "<path style=\"fill-rule:nonzero;fill:rgb(0%,100%,63.529412%);fill-opacity:1;stroke-width:0.75;stroke-linecap:round;stroke-linejoin:round;stroke:rgb(0%,100%,63.529412%);stroke-opacity:1;stroke-miterlimit:10;\" d=\"M 469.921875 299.433594 L 473.761719 299.433594 L 473.761719 300.78125 L 469.921875 300.78125 Z \"/>\n",
       "<path style=\"fill-rule:nonzero;fill:rgb(0%,100%,65.098039%);fill-opacity:1;stroke-width:0.75;stroke-linecap:round;stroke-linejoin:round;stroke:rgb(0%,100%,65.098039%);stroke-opacity:1;stroke-miterlimit:10;\" d=\"M 469.921875 300.785156 L 473.761719 300.785156 L 473.761719 302.132812 L 469.921875 302.132812 Z \"/>\n",
       "<path style=\"fill-rule:nonzero;fill:rgb(0%,100%,66.666667%);fill-opacity:1;stroke-width:0.75;stroke-linecap:round;stroke-linejoin:round;stroke:rgb(0%,100%,66.666667%);stroke-opacity:1;stroke-miterlimit:10;\" d=\"M 469.921875 302.132812 L 473.761719 302.132812 L 473.761719 303.480469 L 469.921875 303.480469 Z \"/>\n",
       "<path style=\"fill-rule:nonzero;fill:rgb(0%,100%,68.235294%);fill-opacity:1;stroke-width:0.75;stroke-linecap:round;stroke-linejoin:round;stroke:rgb(0%,100%,68.235294%);stroke-opacity:1;stroke-miterlimit:10;\" d=\"M 469.921875 303.480469 L 473.761719 303.480469 L 473.761719 304.828125 L 469.921875 304.828125 Z \"/>\n",
       "<path style=\"fill-rule:nonzero;fill:rgb(0%,100%,69.803922%);fill-opacity:1;stroke-width:0.75;stroke-linecap:round;stroke-linejoin:round;stroke:rgb(0%,100%,69.803922%);stroke-opacity:1;stroke-miterlimit:10;\" d=\"M 469.921875 304.832031 L 473.761719 304.832031 L 473.761719 306.179688 L 469.921875 306.179688 Z \"/>\n",
       "<path style=\"fill-rule:nonzero;fill:rgb(0%,100%,71.372549%);fill-opacity:1;stroke-width:0.75;stroke-linecap:round;stroke-linejoin:round;stroke:rgb(0%,100%,71.372549%);stroke-opacity:1;stroke-miterlimit:10;\" d=\"M 469.921875 306.179688 L 473.761719 306.179688 L 473.761719 307.527344 L 469.921875 307.527344 Z \"/>\n",
       "<path style=\"fill-rule:nonzero;fill:rgb(0%,100%,72.941176%);fill-opacity:1;stroke-width:0.75;stroke-linecap:round;stroke-linejoin:round;stroke:rgb(0%,100%,72.941176%);stroke-opacity:1;stroke-miterlimit:10;\" d=\"M 469.921875 307.53125 L 473.761719 307.53125 L 473.761719 308.878906 L 469.921875 308.878906 Z \"/>\n",
       "<path style=\"fill-rule:nonzero;fill:rgb(0%,100%,74.509804%);fill-opacity:1;stroke-width:0.75;stroke-linecap:round;stroke-linejoin:round;stroke:rgb(0%,100%,74.509804%);stroke-opacity:1;stroke-miterlimit:10;\" d=\"M 469.921875 308.878906 L 473.761719 308.878906 L 473.761719 310.226562 L 469.921875 310.226562 Z \"/>\n",
       "<path style=\"fill-rule:nonzero;fill:rgb(0%,100%,76.078431%);fill-opacity:1;stroke-width:0.75;stroke-linecap:round;stroke-linejoin:round;stroke:rgb(0%,100%,76.078431%);stroke-opacity:1;stroke-miterlimit:10;\" d=\"M 469.921875 310.226562 L 473.761719 310.226562 L 473.761719 311.574219 L 469.921875 311.574219 Z \"/>\n",
       "<path style=\"fill-rule:nonzero;fill:rgb(0%,100%,77.647059%);fill-opacity:1;stroke-width:0.75;stroke-linecap:round;stroke-linejoin:round;stroke:rgb(0%,100%,77.647059%);stroke-opacity:1;stroke-miterlimit:10;\" d=\"M 469.921875 311.578125 L 473.761719 311.578125 L 473.761719 312.925781 L 469.921875 312.925781 Z \"/>\n",
       "<path style=\"fill-rule:nonzero;fill:rgb(0%,100%,79.215686%);fill-opacity:1;stroke-width:0.75;stroke-linecap:round;stroke-linejoin:round;stroke:rgb(0%,100%,79.215686%);stroke-opacity:1;stroke-miterlimit:10;\" d=\"M 469.921875 312.925781 L 473.761719 312.925781 L 473.761719 314.273438 L 469.921875 314.273438 Z \"/>\n",
       "<path style=\"fill-rule:nonzero;fill:rgb(0%,100%,80.784314%);fill-opacity:1;stroke-width:0.75;stroke-linecap:round;stroke-linejoin:round;stroke:rgb(0%,100%,80.784314%);stroke-opacity:1;stroke-miterlimit:10;\" d=\"M 469.921875 314.273438 L 473.761719 314.273438 L 473.761719 315.621094 L 469.921875 315.621094 Z \"/>\n",
       "<path style=\"fill-rule:nonzero;fill:rgb(0%,100%,82.352941%);fill-opacity:1;stroke-width:0.75;stroke-linecap:round;stroke-linejoin:round;stroke:rgb(0%,100%,82.352941%);stroke-opacity:1;stroke-miterlimit:10;\" d=\"M 469.921875 315.625 L 473.761719 315.625 L 473.761719 316.972656 L 469.921875 316.972656 Z \"/>\n",
       "<path style=\"fill-rule:nonzero;fill:rgb(0%,100%,83.921569%);fill-opacity:1;stroke-width:0.75;stroke-linecap:round;stroke-linejoin:round;stroke:rgb(0%,100%,83.921569%);stroke-opacity:1;stroke-miterlimit:10;\" d=\"M 469.921875 316.972656 L 473.761719 316.972656 L 473.761719 318.320312 L 469.921875 318.320312 Z \"/>\n",
       "<path style=\"fill-rule:nonzero;fill:rgb(0%,100%,85.490196%);fill-opacity:1;stroke-width:0.75;stroke-linecap:round;stroke-linejoin:round;stroke:rgb(0%,100%,85.490196%);stroke-opacity:1;stroke-miterlimit:10;\" d=\"M 469.921875 318.320312 L 473.761719 318.320312 L 473.761719 319.667969 L 469.921875 319.667969 Z \"/>\n",
       "<path style=\"fill-rule:nonzero;fill:rgb(0%,100%,87.058824%);fill-opacity:1;stroke-width:0.75;stroke-linecap:round;stroke-linejoin:round;stroke:rgb(0%,100%,87.058824%);stroke-opacity:1;stroke-miterlimit:10;\" d=\"M 469.921875 319.671875 L 473.761719 319.671875 L 473.761719 321.019531 L 469.921875 321.019531 Z \"/>\n",
       "<path style=\"fill-rule:nonzero;fill:rgb(0%,100%,88.627451%);fill-opacity:1;stroke-width:0.75;stroke-linecap:round;stroke-linejoin:round;stroke:rgb(0%,100%,88.627451%);stroke-opacity:1;stroke-miterlimit:10;\" d=\"M 469.921875 321.019531 L 473.761719 321.019531 L 473.761719 322.367188 L 469.921875 322.367188 Z \"/>\n",
       "<path style=\"fill-rule:nonzero;fill:rgb(0%,100%,90.196078%);fill-opacity:1;stroke-width:0.75;stroke-linecap:round;stroke-linejoin:round;stroke:rgb(0%,100%,90.196078%);stroke-opacity:1;stroke-miterlimit:10;\" d=\"M 469.921875 322.367188 L 473.761719 322.367188 L 473.761719 323.714844 L 469.921875 323.714844 Z \"/>\n",
       "<path style=\"fill-rule:nonzero;fill:rgb(0%,100%,91.764706%);fill-opacity:1;stroke-width:0.75;stroke-linecap:round;stroke-linejoin:round;stroke:rgb(0%,100%,91.764706%);stroke-opacity:1;stroke-miterlimit:10;\" d=\"M 469.921875 323.71875 L 473.761719 323.71875 L 473.761719 325.066406 L 469.921875 325.066406 Z \"/>\n",
       "<path style=\"fill-rule:nonzero;fill:rgb(0%,100%,93.333333%);fill-opacity:1;stroke-width:0.75;stroke-linecap:round;stroke-linejoin:round;stroke:rgb(0%,100%,93.333333%);stroke-opacity:1;stroke-miterlimit:10;\" d=\"M 469.921875 325.066406 L 473.761719 325.066406 L 473.761719 326.414062 L 469.921875 326.414062 Z \"/>\n",
       "<path style=\"fill-rule:nonzero;fill:rgb(0%,100%,94.901961%);fill-opacity:1;stroke-width:0.75;stroke-linecap:round;stroke-linejoin:round;stroke:rgb(0%,100%,94.901961%);stroke-opacity:1;stroke-miterlimit:10;\" d=\"M 469.921875 326.414062 L 473.761719 326.414062 L 473.761719 327.761719 L 469.921875 327.761719 Z \"/>\n",
       "<path style=\"fill-rule:nonzero;fill:rgb(0%,100%,96.470588%);fill-opacity:1;stroke-width:0.75;stroke-linecap:round;stroke-linejoin:round;stroke:rgb(0%,100%,96.470588%);stroke-opacity:1;stroke-miterlimit:10;\" d=\"M 469.921875 327.765625 L 473.761719 327.765625 L 473.761719 329.113281 L 469.921875 329.113281 Z \"/>\n",
       "<path style=\"fill-rule:nonzero;fill:rgb(0%,100%,98.039216%);fill-opacity:1;stroke-width:0.75;stroke-linecap:round;stroke-linejoin:round;stroke:rgb(0%,100%,98.039216%);stroke-opacity:1;stroke-miterlimit:10;\" d=\"M 469.921875 329.113281 L 473.761719 329.113281 L 473.761719 330.460938 L 469.921875 330.460938 Z \"/>\n",
       "<path style=\"fill-rule:nonzero;fill:rgb(0%,100%,99.607843%);fill-opacity:1;stroke-width:0.75;stroke-linecap:round;stroke-linejoin:round;stroke:rgb(0%,100%,99.607843%);stroke-opacity:1;stroke-miterlimit:10;\" d=\"M 469.921875 330.460938 L 473.761719 330.460938 L 473.761719 331.808594 L 469.921875 331.808594 Z \"/>\n",
       "<path style=\"fill-rule:nonzero;fill:rgb(0%,98.823529%,100%);fill-opacity:1;stroke-width:0.75;stroke-linecap:round;stroke-linejoin:round;stroke:rgb(0%,98.823529%,100%);stroke-opacity:1;stroke-miterlimit:10;\" d=\"M 469.921875 331.8125 L 473.761719 331.8125 L 473.761719 333.160156 L 469.921875 333.160156 Z \"/>\n",
       "<path style=\"fill-rule:nonzero;fill:rgb(0%,97.254902%,100%);fill-opacity:1;stroke-width:0.75;stroke-linecap:round;stroke-linejoin:round;stroke:rgb(0%,97.254902%,100%);stroke-opacity:1;stroke-miterlimit:10;\" d=\"M 469.921875 333.160156 L 473.761719 333.160156 L 473.761719 334.507812 L 469.921875 334.507812 Z \"/>\n",
       "<path style=\"fill-rule:nonzero;fill:rgb(0%,95.686275%,100%);fill-opacity:1;stroke-width:0.75;stroke-linecap:round;stroke-linejoin:round;stroke:rgb(0%,95.686275%,100%);stroke-opacity:1;stroke-miterlimit:10;\" d=\"M 469.921875 334.511719 L 473.761719 334.511719 L 473.761719 335.859375 L 469.921875 335.859375 Z \"/>\n",
       "<path style=\"fill-rule:nonzero;fill:rgb(0%,94.117647%,100%);fill-opacity:1;stroke-width:0.75;stroke-linecap:round;stroke-linejoin:round;stroke:rgb(0%,94.117647%,100%);stroke-opacity:1;stroke-miterlimit:10;\" d=\"M 469.921875 335.859375 L 473.761719 335.859375 L 473.761719 337.207031 L 469.921875 337.207031 Z \"/>\n",
       "<path style=\"fill-rule:nonzero;fill:rgb(0%,92.54902%,100%);fill-opacity:1;stroke-width:0.75;stroke-linecap:round;stroke-linejoin:round;stroke:rgb(0%,92.54902%,100%);stroke-opacity:1;stroke-miterlimit:10;\" d=\"M 469.921875 337.207031 L 473.761719 337.207031 L 473.761719 338.554688 L 469.921875 338.554688 Z \"/>\n",
       "<path style=\"fill-rule:nonzero;fill:rgb(0%,90.980392%,100%);fill-opacity:1;stroke-width:0.75;stroke-linecap:round;stroke-linejoin:round;stroke:rgb(0%,90.980392%,100%);stroke-opacity:1;stroke-miterlimit:10;\" d=\"M 469.921875 338.558594 L 473.761719 338.558594 L 473.761719 339.90625 L 469.921875 339.90625 Z \"/>\n",
       "<path style=\"fill-rule:nonzero;fill:rgb(0%,89.411765%,100%);fill-opacity:1;stroke-width:0.75;stroke-linecap:round;stroke-linejoin:round;stroke:rgb(0%,89.411765%,100%);stroke-opacity:1;stroke-miterlimit:10;\" d=\"M 469.921875 339.90625 L 473.761719 339.90625 L 473.761719 341.253906 L 469.921875 341.253906 Z \"/>\n",
       "<path style=\"fill-rule:nonzero;fill:rgb(0%,87.843137%,100%);fill-opacity:1;stroke-width:0.75;stroke-linecap:round;stroke-linejoin:round;stroke:rgb(0%,87.843137%,100%);stroke-opacity:1;stroke-miterlimit:10;\" d=\"M 469.921875 341.253906 L 473.761719 341.253906 L 473.761719 342.601562 L 469.921875 342.601562 Z \"/>\n",
       "<path style=\"fill-rule:nonzero;fill:rgb(0%,86.27451%,100%);fill-opacity:1;stroke-width:0.75;stroke-linecap:round;stroke-linejoin:round;stroke:rgb(0%,86.27451%,100%);stroke-opacity:1;stroke-miterlimit:10;\" d=\"M 469.921875 342.605469 L 473.761719 342.605469 L 473.761719 343.953125 L 469.921875 343.953125 Z \"/>\n",
       "<path style=\"fill-rule:nonzero;fill:rgb(0%,84.705882%,100%);fill-opacity:1;stroke-width:0.75;stroke-linecap:round;stroke-linejoin:round;stroke:rgb(0%,84.705882%,100%);stroke-opacity:1;stroke-miterlimit:10;\" d=\"M 469.921875 343.953125 L 473.761719 343.953125 L 473.761719 345.300781 L 469.921875 345.300781 Z \"/>\n",
       "<path style=\"fill-rule:nonzero;fill:rgb(0%,83.137255%,100%);fill-opacity:1;stroke-width:0.75;stroke-linecap:round;stroke-linejoin:round;stroke:rgb(0%,83.137255%,100%);stroke-opacity:1;stroke-miterlimit:10;\" d=\"M 469.921875 345.300781 L 473.761719 345.300781 L 473.761719 346.648438 L 469.921875 346.648438 Z \"/>\n",
       "<path style=\"fill-rule:nonzero;fill:rgb(0%,81.568627%,100%);fill-opacity:1;stroke-width:0.75;stroke-linecap:round;stroke-linejoin:round;stroke:rgb(0%,81.568627%,100%);stroke-opacity:1;stroke-miterlimit:10;\" d=\"M 469.921875 346.652344 L 473.761719 346.652344 L 473.761719 348 L 469.921875 348 Z \"/>\n",
       "<path style=\"fill-rule:nonzero;fill:rgb(0%,80%,100%);fill-opacity:1;stroke-width:0.75;stroke-linecap:round;stroke-linejoin:round;stroke:rgb(0%,80%,100%);stroke-opacity:1;stroke-miterlimit:10;\" d=\"M 469.921875 348 L 473.761719 348 L 473.761719 349.347656 L 469.921875 349.347656 Z \"/>\n",
       "<path style=\"fill-rule:nonzero;fill:rgb(0%,78.431373%,100%);fill-opacity:1;stroke-width:0.75;stroke-linecap:round;stroke-linejoin:round;stroke:rgb(0%,78.431373%,100%);stroke-opacity:1;stroke-miterlimit:10;\" d=\"M 469.921875 349.347656 L 473.761719 349.347656 L 473.761719 350.695312 L 469.921875 350.695312 Z \"/>\n",
       "<path style=\"fill-rule:nonzero;fill:rgb(0%,76.862745%,100%);fill-opacity:1;stroke-width:0.75;stroke-linecap:round;stroke-linejoin:round;stroke:rgb(0%,76.862745%,100%);stroke-opacity:1;stroke-miterlimit:10;\" d=\"M 469.921875 350.699219 L 473.761719 350.699219 L 473.761719 352.046875 L 469.921875 352.046875 Z \"/>\n",
       "<path style=\"fill-rule:nonzero;fill:rgb(0%,75.294118%,100%);fill-opacity:1;stroke-width:0.75;stroke-linecap:round;stroke-linejoin:round;stroke:rgb(0%,75.294118%,100%);stroke-opacity:1;stroke-miterlimit:10;\" d=\"M 469.921875 352.046875 L 473.761719 352.046875 L 473.761719 353.394531 L 469.921875 353.394531 Z \"/>\n",
       "<path style=\"fill-rule:nonzero;fill:rgb(0%,73.72549%,100%);fill-opacity:1;stroke-width:0.75;stroke-linecap:round;stroke-linejoin:round;stroke:rgb(0%,73.72549%,100%);stroke-opacity:1;stroke-miterlimit:10;\" d=\"M 469.921875 353.394531 L 473.761719 353.394531 L 473.761719 354.742188 L 469.921875 354.742188 Z \"/>\n",
       "<path style=\"fill-rule:nonzero;fill:rgb(0%,72.156863%,100%);fill-opacity:1;stroke-width:0.75;stroke-linecap:round;stroke-linejoin:round;stroke:rgb(0%,72.156863%,100%);stroke-opacity:1;stroke-miterlimit:10;\" d=\"M 469.921875 354.746094 L 473.761719 354.746094 L 473.761719 356.09375 L 469.921875 356.09375 Z \"/>\n",
       "<path style=\"fill-rule:nonzero;fill:rgb(0%,70.588235%,100%);fill-opacity:1;stroke-width:0.75;stroke-linecap:round;stroke-linejoin:round;stroke:rgb(0%,70.588235%,100%);stroke-opacity:1;stroke-miterlimit:10;\" d=\"M 469.921875 356.09375 L 473.761719 356.09375 L 473.761719 357.441406 L 469.921875 357.441406 Z \"/>\n",
       "<path style=\"fill-rule:nonzero;fill:rgb(0%,69.019608%,100%);fill-opacity:1;stroke-width:0.75;stroke-linecap:round;stroke-linejoin:round;stroke:rgb(0%,69.019608%,100%);stroke-opacity:1;stroke-miterlimit:10;\" d=\"M 469.921875 357.441406 L 473.761719 357.441406 L 473.761719 358.789062 L 469.921875 358.789062 Z \"/>\n",
       "<path style=\"fill-rule:nonzero;fill:rgb(0%,67.45098%,100%);fill-opacity:1;stroke-width:0.75;stroke-linecap:round;stroke-linejoin:round;stroke:rgb(0%,67.45098%,100%);stroke-opacity:1;stroke-miterlimit:10;\" d=\"M 469.921875 358.792969 L 473.761719 358.792969 L 473.761719 360.140625 L 469.921875 360.140625 Z \"/>\n",
       "<path style=\"fill-rule:nonzero;fill:rgb(0%,65.882353%,100%);fill-opacity:1;stroke-width:0.75;stroke-linecap:round;stroke-linejoin:round;stroke:rgb(0%,65.882353%,100%);stroke-opacity:1;stroke-miterlimit:10;\" d=\"M 469.921875 360.140625 L 473.761719 360.140625 L 473.761719 361.488281 L 469.921875 361.488281 Z \"/>\n",
       "<path style=\"fill-rule:nonzero;fill:rgb(0%,64.313725%,100%);fill-opacity:1;stroke-width:0.75;stroke-linecap:round;stroke-linejoin:round;stroke:rgb(0%,64.313725%,100%);stroke-opacity:1;stroke-miterlimit:10;\" d=\"M 469.921875 361.488281 L 473.761719 361.488281 L 473.761719 362.835938 L 469.921875 362.835938 Z \"/>\n",
       "<path style=\"fill-rule:nonzero;fill:rgb(0%,62.745098%,100%);fill-opacity:1;stroke-width:0.75;stroke-linecap:round;stroke-linejoin:round;stroke:rgb(0%,62.745098%,100%);stroke-opacity:1;stroke-miterlimit:10;\" d=\"M 469.921875 362.839844 L 473.761719 362.839844 L 473.761719 364.1875 L 469.921875 364.1875 Z \"/>\n",
       "<path style=\"fill-rule:nonzero;fill:rgb(0%,61.176471%,100%);fill-opacity:1;stroke-width:0.75;stroke-linecap:round;stroke-linejoin:round;stroke:rgb(0%,61.176471%,100%);stroke-opacity:1;stroke-miterlimit:10;\" d=\"M 469.921875 364.1875 L 473.761719 364.1875 L 473.761719 365.535156 L 469.921875 365.535156 Z \"/>\n",
       "<path style=\"fill-rule:nonzero;fill:rgb(0%,59.607843%,100%);fill-opacity:1;stroke-width:0.75;stroke-linecap:round;stroke-linejoin:round;stroke:rgb(0%,59.607843%,100%);stroke-opacity:1;stroke-miterlimit:10;\" d=\"M 469.921875 365.539062 L 473.761719 365.539062 L 473.761719 366.886719 L 469.921875 366.886719 Z \"/>\n",
       "<path style=\"fill-rule:nonzero;fill:rgb(0%,58.039216%,100%);fill-opacity:1;stroke-width:0.75;stroke-linecap:round;stroke-linejoin:round;stroke:rgb(0%,58.039216%,100%);stroke-opacity:1;stroke-miterlimit:10;\" d=\"M 469.921875 366.886719 L 473.761719 366.886719 L 473.761719 368.234375 L 469.921875 368.234375 Z \"/>\n",
       "<path style=\"fill-rule:nonzero;fill:rgb(0%,56.470588%,100%);fill-opacity:1;stroke-width:0.75;stroke-linecap:round;stroke-linejoin:round;stroke:rgb(0%,56.470588%,100%);stroke-opacity:1;stroke-miterlimit:10;\" d=\"M 469.921875 368.234375 L 473.761719 368.234375 L 473.761719 369.582031 L 469.921875 369.582031 Z \"/>\n",
       "<path style=\"fill-rule:nonzero;fill:rgb(0%,54.901961%,100%);fill-opacity:1;stroke-width:0.75;stroke-linecap:round;stroke-linejoin:round;stroke:rgb(0%,54.901961%,100%);stroke-opacity:1;stroke-miterlimit:10;\" d=\"M 469.921875 369.585938 L 473.761719 369.585938 L 473.761719 370.933594 L 469.921875 370.933594 Z \"/>\n",
       "<path style=\"fill-rule:nonzero;fill:rgb(0%,53.333333%,100%);fill-opacity:1;stroke-width:0.75;stroke-linecap:round;stroke-linejoin:round;stroke:rgb(0%,53.333333%,100%);stroke-opacity:1;stroke-miterlimit:10;\" d=\"M 469.921875 370.933594 L 473.761719 370.933594 L 473.761719 372.28125 L 469.921875 372.28125 Z \"/>\n",
       "<path style=\"fill-rule:nonzero;fill:rgb(0%,51.764706%,100%);fill-opacity:1;stroke-width:0.75;stroke-linecap:round;stroke-linejoin:round;stroke:rgb(0%,51.764706%,100%);stroke-opacity:1;stroke-miterlimit:10;\" d=\"M 469.921875 372.28125 L 473.761719 372.28125 L 473.761719 373.628906 L 469.921875 373.628906 Z \"/>\n",
       "<path style=\"fill-rule:nonzero;fill:rgb(0%,50.196078%,100%);fill-opacity:1;stroke-width:0.75;stroke-linecap:round;stroke-linejoin:round;stroke:rgb(0%,50.196078%,100%);stroke-opacity:1;stroke-miterlimit:10;\" d=\"M 469.921875 373.632812 L 473.761719 373.632812 L 473.761719 374.980469 L 469.921875 374.980469 Z \"/>\n",
       "<path style=\"fill-rule:nonzero;fill:rgb(0%,48.627451%,100%);fill-opacity:1;stroke-width:0.75;stroke-linecap:round;stroke-linejoin:round;stroke:rgb(0%,48.627451%,100%);stroke-opacity:1;stroke-miterlimit:10;\" d=\"M 469.921875 374.980469 L 473.761719 374.980469 L 473.761719 376.328125 L 469.921875 376.328125 Z \"/>\n",
       "<path style=\"fill-rule:nonzero;fill:rgb(0%,47.058824%,100%);fill-opacity:1;stroke-width:0.75;stroke-linecap:round;stroke-linejoin:round;stroke:rgb(0%,47.058824%,100%);stroke-opacity:1;stroke-miterlimit:10;\" d=\"M 469.921875 376.328125 L 473.761719 376.328125 L 473.761719 377.675781 L 469.921875 377.675781 Z \"/>\n",
       "<path style=\"fill-rule:nonzero;fill:rgb(0%,45.490196%,100%);fill-opacity:1;stroke-width:0.75;stroke-linecap:round;stroke-linejoin:round;stroke:rgb(0%,45.490196%,100%);stroke-opacity:1;stroke-miterlimit:10;\" d=\"M 469.921875 377.679688 L 473.761719 377.679688 L 473.761719 379.027344 L 469.921875 379.027344 Z \"/>\n",
       "<path style=\"fill-rule:nonzero;fill:rgb(0%,43.921569%,100%);fill-opacity:1;stroke-width:0.75;stroke-linecap:round;stroke-linejoin:round;stroke:rgb(0%,43.921569%,100%);stroke-opacity:1;stroke-miterlimit:10;\" d=\"M 469.921875 379.027344 L 473.761719 379.027344 L 473.761719 380.375 L 469.921875 380.375 Z \"/>\n",
       "<path style=\"fill-rule:nonzero;fill:rgb(0%,42.352941%,100%);fill-opacity:1;stroke-width:0.75;stroke-linecap:round;stroke-linejoin:round;stroke:rgb(0%,42.352941%,100%);stroke-opacity:1;stroke-miterlimit:10;\" d=\"M 469.921875 380.375 L 473.761719 380.375 L 473.761719 381.722656 L 469.921875 381.722656 Z \"/>\n",
       "<path style=\"fill-rule:nonzero;fill:rgb(0%,40.784314%,100%);fill-opacity:1;stroke-width:0.75;stroke-linecap:round;stroke-linejoin:round;stroke:rgb(0%,40.784314%,100%);stroke-opacity:1;stroke-miterlimit:10;\" d=\"M 469.921875 381.726562 L 473.761719 381.726562 L 473.761719 383.074219 L 469.921875 383.074219 Z \"/>\n",
       "<path style=\"fill-rule:nonzero;fill:rgb(0%,39.215686%,100%);fill-opacity:1;stroke-width:0.75;stroke-linecap:round;stroke-linejoin:round;stroke:rgb(0%,39.215686%,100%);stroke-opacity:1;stroke-miterlimit:10;\" d=\"M 469.921875 383.074219 L 473.761719 383.074219 L 473.761719 384.421875 L 469.921875 384.421875 Z \"/>\n",
       "<path style=\"fill-rule:nonzero;fill:rgb(0%,37.647059%,100%);fill-opacity:1;stroke-width:0.75;stroke-linecap:round;stroke-linejoin:round;stroke:rgb(0%,37.647059%,100%);stroke-opacity:1;stroke-miterlimit:10;\" d=\"M 469.921875 384.421875 L 473.761719 384.421875 L 473.761719 385.769531 L 469.921875 385.769531 Z \"/>\n",
       "<path style=\"fill-rule:nonzero;fill:rgb(0%,36.078431%,100%);fill-opacity:1;stroke-width:0.75;stroke-linecap:round;stroke-linejoin:round;stroke:rgb(0%,36.078431%,100%);stroke-opacity:1;stroke-miterlimit:10;\" d=\"M 469.921875 385.773438 L 473.761719 385.773438 L 473.761719 387.121094 L 469.921875 387.121094 Z \"/>\n",
       "<path style=\"fill-rule:nonzero;fill:rgb(0%,34.509804%,100%);fill-opacity:1;stroke-width:0.75;stroke-linecap:round;stroke-linejoin:round;stroke:rgb(0%,34.509804%,100%);stroke-opacity:1;stroke-miterlimit:10;\" d=\"M 469.921875 387.121094 L 473.761719 387.121094 L 473.761719 388.46875 L 469.921875 388.46875 Z \"/>\n",
       "<path style=\"fill-rule:nonzero;fill:rgb(0%,32.941176%,100%);fill-opacity:1;stroke-width:0.75;stroke-linecap:round;stroke-linejoin:round;stroke:rgb(0%,32.941176%,100%);stroke-opacity:1;stroke-miterlimit:10;\" d=\"M 469.921875 388.46875 L 473.761719 388.46875 L 473.761719 389.816406 L 469.921875 389.816406 Z \"/>\n",
       "<path style=\"fill-rule:nonzero;fill:rgb(0%,31.372549%,100%);fill-opacity:1;stroke-width:0.75;stroke-linecap:round;stroke-linejoin:round;stroke:rgb(0%,31.372549%,100%);stroke-opacity:1;stroke-miterlimit:10;\" d=\"M 469.921875 389.820312 L 473.761719 389.820312 L 473.761719 391.167969 L 469.921875 391.167969 Z \"/>\n",
       "<path style=\"fill-rule:nonzero;fill:rgb(0%,29.803922%,100%);fill-opacity:1;stroke-width:0.75;stroke-linecap:round;stroke-linejoin:round;stroke:rgb(0%,29.803922%,100%);stroke-opacity:1;stroke-miterlimit:10;\" d=\"M 469.921875 391.167969 L 473.761719 391.167969 L 473.761719 392.515625 L 469.921875 392.515625 Z \"/>\n",
       "<path style=\"fill-rule:nonzero;fill:rgb(0%,28.235294%,100%);fill-opacity:1;stroke-width:0.75;stroke-linecap:round;stroke-linejoin:round;stroke:rgb(0%,28.235294%,100%);stroke-opacity:1;stroke-miterlimit:10;\" d=\"M 469.921875 392.519531 L 473.761719 392.519531 L 473.761719 393.867188 L 469.921875 393.867188 Z \"/>\n",
       "<path style=\"fill-rule:nonzero;fill:rgb(0%,26.666667%,100%);fill-opacity:1;stroke-width:0.75;stroke-linecap:round;stroke-linejoin:round;stroke:rgb(0%,26.666667%,100%);stroke-opacity:1;stroke-miterlimit:10;\" d=\"M 469.921875 393.867188 L 473.761719 393.867188 L 473.761719 395.214844 L 469.921875 395.214844 Z \"/>\n",
       "<path style=\"fill-rule:nonzero;fill:rgb(0%,25.098039%,100%);fill-opacity:1;stroke-width:0.75;stroke-linecap:round;stroke-linejoin:round;stroke:rgb(0%,25.098039%,100%);stroke-opacity:1;stroke-miterlimit:10;\" d=\"M 469.921875 395.214844 L 473.761719 395.214844 L 473.761719 396.5625 L 469.921875 396.5625 Z \"/>\n",
       "<path style=\"fill-rule:nonzero;fill:rgb(0%,23.529412%,100%);fill-opacity:1;stroke-width:0.75;stroke-linecap:round;stroke-linejoin:round;stroke:rgb(0%,23.529412%,100%);stroke-opacity:1;stroke-miterlimit:10;\" d=\"M 469.921875 396.566406 L 473.761719 396.566406 L 473.761719 397.914062 L 469.921875 397.914062 Z \"/>\n",
       "<path style=\"fill-rule:nonzero;fill:rgb(0%,21.960784%,100%);fill-opacity:1;stroke-width:0.75;stroke-linecap:round;stroke-linejoin:round;stroke:rgb(0%,21.960784%,100%);stroke-opacity:1;stroke-miterlimit:10;\" d=\"M 469.921875 397.914062 L 473.761719 397.914062 L 473.761719 399.261719 L 469.921875 399.261719 Z \"/>\n",
       "<path style=\"fill-rule:nonzero;fill:rgb(0%,20.392157%,100%);fill-opacity:1;stroke-width:0.75;stroke-linecap:round;stroke-linejoin:round;stroke:rgb(0%,20.392157%,100%);stroke-opacity:1;stroke-miterlimit:10;\" d=\"M 469.921875 399.261719 L 473.761719 399.261719 L 473.761719 400.609375 L 469.921875 400.609375 Z \"/>\n",
       "<path style=\"fill-rule:nonzero;fill:rgb(0%,18.823529%,100%);fill-opacity:1;stroke-width:0.75;stroke-linecap:round;stroke-linejoin:round;stroke:rgb(0%,18.823529%,100%);stroke-opacity:1;stroke-miterlimit:10;\" d=\"M 469.921875 400.613281 L 473.761719 400.613281 L 473.761719 401.960938 L 469.921875 401.960938 Z \"/>\n",
       "<path style=\"fill-rule:nonzero;fill:rgb(0%,17.254902%,100%);fill-opacity:1;stroke-width:0.75;stroke-linecap:round;stroke-linejoin:round;stroke:rgb(0%,17.254902%,100%);stroke-opacity:1;stroke-miterlimit:10;\" d=\"M 469.921875 401.960938 L 473.761719 401.960938 L 473.761719 403.308594 L 469.921875 403.308594 Z \"/>\n",
       "<path style=\"fill-rule:nonzero;fill:rgb(0%,15.686275%,100%);fill-opacity:1;stroke-width:0.75;stroke-linecap:round;stroke-linejoin:round;stroke:rgb(0%,15.686275%,100%);stroke-opacity:1;stroke-miterlimit:10;\" d=\"M 469.921875 403.308594 L 473.761719 403.308594 L 473.761719 404.65625 L 469.921875 404.65625 Z \"/>\n",
       "<path style=\"fill-rule:nonzero;fill:rgb(0%,14.117647%,100%);fill-opacity:1;stroke-width:0.75;stroke-linecap:round;stroke-linejoin:round;stroke:rgb(0%,14.117647%,100%);stroke-opacity:1;stroke-miterlimit:10;\" d=\"M 469.921875 404.660156 L 473.761719 404.660156 L 473.761719 406.007812 L 469.921875 406.007812 Z \"/>\n",
       "<path style=\"fill-rule:nonzero;fill:rgb(0%,12.54902%,100%);fill-opacity:1;stroke-width:0.75;stroke-linecap:round;stroke-linejoin:round;stroke:rgb(0%,12.54902%,100%);stroke-opacity:1;stroke-miterlimit:10;\" d=\"M 469.921875 406.007812 L 473.761719 406.007812 L 473.761719 407.355469 L 469.921875 407.355469 Z \"/>\n",
       "<path style=\"fill-rule:nonzero;fill:rgb(0%,10.980392%,100%);fill-opacity:1;stroke-width:0.75;stroke-linecap:round;stroke-linejoin:round;stroke:rgb(0%,10.980392%,100%);stroke-opacity:1;stroke-miterlimit:10;\" d=\"M 469.921875 407.355469 L 473.761719 407.355469 L 473.761719 408.703125 L 469.921875 408.703125 Z \"/>\n",
       "<path style=\"fill-rule:nonzero;fill:rgb(0%,9.411765%,100%);fill-opacity:1;stroke-width:0.75;stroke-linecap:round;stroke-linejoin:round;stroke:rgb(0%,9.411765%,100%);stroke-opacity:1;stroke-miterlimit:10;\" d=\"M 469.921875 408.707031 L 473.761719 408.707031 L 473.761719 410.054688 L 469.921875 410.054688 Z \"/>\n",
       "<path style=\"fill-rule:nonzero;fill:rgb(0%,7.843137%,100%);fill-opacity:1;stroke-width:0.75;stroke-linecap:round;stroke-linejoin:round;stroke:rgb(0%,7.843137%,100%);stroke-opacity:1;stroke-miterlimit:10;\" d=\"M 469.921875 410.054688 L 473.761719 410.054688 L 473.761719 411.402344 L 469.921875 411.402344 Z \"/>\n",
       "<path style=\"fill-rule:nonzero;fill:rgb(0%,6.27451%,100%);fill-opacity:1;stroke-width:0.75;stroke-linecap:round;stroke-linejoin:round;stroke:rgb(0%,6.27451%,100%);stroke-opacity:1;stroke-miterlimit:10;\" d=\"M 469.921875 411.402344 L 473.761719 411.402344 L 473.761719 412.75 L 469.921875 412.75 Z \"/>\n",
       "<path style=\"fill-rule:nonzero;fill:rgb(0%,4.705882%,100%);fill-opacity:1;stroke-width:0.75;stroke-linecap:round;stroke-linejoin:round;stroke:rgb(0%,4.705882%,100%);stroke-opacity:1;stroke-miterlimit:10;\" d=\"M 469.921875 412.753906 L 473.761719 412.753906 L 473.761719 414.101562 L 469.921875 414.101562 Z \"/>\n",
       "<path style=\"fill-rule:nonzero;fill:rgb(0%,3.137255%,100%);fill-opacity:1;stroke-width:0.75;stroke-linecap:round;stroke-linejoin:round;stroke:rgb(0%,3.137255%,100%);stroke-opacity:1;stroke-miterlimit:10;\" d=\"M 469.921875 414.101562 L 473.761719 414.101562 L 473.761719 415.449219 L 469.921875 415.449219 Z \"/>\n",
       "<path style=\"fill-rule:nonzero;fill:rgb(0%,1.568627%,100%);fill-opacity:1;stroke-width:0.75;stroke-linecap:round;stroke-linejoin:round;stroke:rgb(0%,1.568627%,100%);stroke-opacity:1;stroke-miterlimit:10;\" d=\"M 469.921875 415.449219 L 473.761719 415.449219 L 473.761719 416.796875 L 469.921875 416.796875 Z \"/>\n",
       "<path style=\"fill-rule:nonzero;fill:rgb(0%,0%,100%);fill-opacity:1;stroke-width:0.75;stroke-linecap:round;stroke-linejoin:round;stroke:rgb(0%,0%,100%);stroke-opacity:1;stroke-miterlimit:10;\" d=\"M 469.921875 416.800781 L 473.761719 416.800781 L 473.761719 418.148438 L 469.921875 418.148438 Z \"/>\n",
       "<path style=\"fill:none;stroke-width:0.75;stroke-linecap:round;stroke-linejoin:round;stroke:rgb(0%,0%,0%);stroke-opacity:1;stroke-miterlimit:10;\" d=\"M 59.039062 430.558594 L 473.761719 430.558594 L 473.761719 59.039062 L 59.039062 59.039062 L 59.039062 430.558594 \"/>\n",
       "<path style=\"fill:none;stroke-width:0.75;stroke-linecap:round;stroke-linejoin:round;stroke:rgb(100%,0%,0%);stroke-opacity:1;stroke-miterlimit:10;\" d=\"M 74.398438 416.800781 L 78.8125 416.800781 \"/>\n",
       "<path style=\"fill:none;stroke-width:0.75;stroke-linecap:round;stroke-linejoin:round;stroke:rgb(100%,1.568627%,0%);stroke-opacity:1;stroke-miterlimit:10;\" d=\"M 78.8125 416.800781 L 78.8125 412.890625 \"/>\n",
       "<path style=\"fill:none;stroke-width:0.75;stroke-linecap:round;stroke-linejoin:round;stroke:rgb(100%,6.27451%,0%);stroke-opacity:1;stroke-miterlimit:10;\" d=\"M 78.8125 412.890625 L 78.8125 408.980469 \"/>\n",
       "<path style=\"fill:none;stroke-width:0.75;stroke-linecap:round;stroke-linejoin:round;stroke:rgb(100%,7.843137%,0%);stroke-opacity:1;stroke-miterlimit:10;\" d=\"M 78.8125 408.980469 L 78.8125 405.074219 \"/>\n",
       "<path style=\"fill:none;stroke-width:0.75;stroke-linecap:round;stroke-linejoin:round;stroke:rgb(100%,12.54902%,0%);stroke-opacity:1;stroke-miterlimit:10;\" d=\"M 78.8125 405.074219 L 78.8125 401.164062 \"/>\n",
       "<path style=\"fill:none;stroke-width:0.75;stroke-linecap:round;stroke-linejoin:round;stroke:rgb(100%,14.117647%,0%);stroke-opacity:1;stroke-miterlimit:10;\" d=\"M 78.8125 401.164062 L 78.8125 397.253906 \"/>\n",
       "<path style=\"fill:none;stroke-width:0.75;stroke-linecap:round;stroke-linejoin:round;stroke:rgb(100%,18.823529%,0%);stroke-opacity:1;stroke-miterlimit:10;\" d=\"M 78.8125 397.253906 L 78.8125 393.34375 \"/>\n",
       "<path style=\"fill:none;stroke-width:0.75;stroke-linecap:round;stroke-linejoin:round;stroke:rgb(100%,21.960784%,0%);stroke-opacity:1;stroke-miterlimit:10;\" d=\"M 78.8125 393.34375 L 78.8125 389.4375 \"/>\n",
       "<path style=\"fill:none;stroke-width:0.75;stroke-linecap:round;stroke-linejoin:round;stroke:rgb(100%,21.960784%,0%);stroke-opacity:1;stroke-miterlimit:10;\" d=\"M 78.8125 389.4375 L 78.8125 385.527344 \"/>\n",
       "<path style=\"fill:none;stroke-width:0.75;stroke-linecap:round;stroke-linejoin:round;stroke:rgb(100%,39.215686%,0%);stroke-opacity:1;stroke-miterlimit:10;\" d=\"M 78.8125 385.527344 L 78.8125 381.617188 \"/>\n",
       "<path style=\"fill:none;stroke-width:0.75;stroke-linecap:round;stroke-linejoin:round;stroke:rgb(100%,40.784314%,0%);stroke-opacity:1;stroke-miterlimit:10;\" d=\"M 78.8125 381.617188 L 78.8125 377.710938 \"/>\n",
       "<path style=\"fill:none;stroke-width:0.75;stroke-linecap:round;stroke-linejoin:round;stroke:rgb(100%,48.627451%,0%);stroke-opacity:1;stroke-miterlimit:10;\" d=\"M 78.8125 377.710938 L 83.226562 377.710938 \"/>\n",
       "<path style=\"fill:none;stroke-width:0.75;stroke-linecap:round;stroke-linejoin:round;stroke:rgb(100%,54.901961%,0%);stroke-opacity:1;stroke-miterlimit:10;\" d=\"M 83.226562 377.710938 L 83.226562 373.800781 \"/>\n",
       "<path style=\"fill:none;stroke-width:0.75;stroke-linecap:round;stroke-linejoin:round;stroke:rgb(100%,64.313725%,0%);stroke-opacity:1;stroke-miterlimit:10;\" d=\"M 83.226562 373.800781 L 83.226562 369.890625 \"/>\n",
       "<path style=\"fill:none;stroke-width:0.75;stroke-linecap:round;stroke-linejoin:round;stroke:rgb(100%,72.156863%,0%);stroke-opacity:1;stroke-miterlimit:10;\" d=\"M 83.226562 369.890625 L 83.226562 365.980469 \"/>\n",
       "<path style=\"fill:none;stroke-width:0.75;stroke-linecap:round;stroke-linejoin:round;stroke:rgb(100%,80%,0%);stroke-opacity:1;stroke-miterlimit:10;\" d=\"M 83.226562 365.980469 L 83.226562 362.074219 \"/>\n",
       "<path style=\"fill:none;stroke-width:0.75;stroke-linecap:round;stroke-linejoin:round;stroke:rgb(100%,80%,0%);stroke-opacity:1;stroke-miterlimit:10;\" d=\"M 83.226562 362.074219 L 83.226562 358.164062 \"/>\n",
       "<path style=\"fill:none;stroke-width:0.75;stroke-linecap:round;stroke-linejoin:round;stroke:rgb(100%,84.705882%,0%);stroke-opacity:1;stroke-miterlimit:10;\" d=\"M 83.226562 358.164062 L 83.226562 354.253906 \"/>\n",
       "<path style=\"fill:none;stroke-width:0.75;stroke-linecap:round;stroke-linejoin:round;stroke:rgb(100%,95.686275%,0%);stroke-opacity:1;stroke-miterlimit:10;\" d=\"M 83.226562 354.253906 L 83.226562 350.34375 \"/>\n",
       "<path style=\"fill:none;stroke-width:0.75;stroke-linecap:round;stroke-linejoin:round;stroke:rgb(100%,98.823529%,0%);stroke-opacity:1;stroke-miterlimit:10;\" d=\"M 83.226562 350.34375 L 83.226562 346.4375 \"/>\n",
       "<path style=\"fill:none;stroke-width:0.75;stroke-linecap:round;stroke-linejoin:round;stroke:rgb(100%,98.823529%,0%);stroke-opacity:1;stroke-miterlimit:10;\" d=\"M 83.226562 346.4375 L 83.226562 342.527344 \"/>\n",
       "<path style=\"fill:none;stroke-width:0.75;stroke-linecap:round;stroke-linejoin:round;stroke:rgb(98.039216%,100%,0%);stroke-opacity:1;stroke-miterlimit:10;\" d=\"M 83.226562 342.527344 L 83.226562 338.617188 \"/>\n",
       "<path style=\"fill:none;stroke-width:0.75;stroke-linecap:round;stroke-linejoin:round;stroke:rgb(94.901961%,100%,0%);stroke-opacity:1;stroke-miterlimit:10;\" d=\"M 83.226562 338.617188 L 87.640625 338.617188 \"/>\n",
       "<path style=\"fill:none;stroke-width:0.75;stroke-linecap:round;stroke-linejoin:round;stroke:rgb(85.490196%,100%,0%);stroke-opacity:1;stroke-miterlimit:10;\" d=\"M 87.640625 338.617188 L 87.640625 334.710938 \"/>\n",
       "<path style=\"fill:none;stroke-width:0.75;stroke-linecap:round;stroke-linejoin:round;stroke:rgb(83.921569%,100%,0%);stroke-opacity:1;stroke-miterlimit:10;\" d=\"M 87.640625 334.710938 L 87.640625 330.800781 \"/>\n",
       "<path style=\"fill:none;stroke-width:0.75;stroke-linecap:round;stroke-linejoin:round;stroke:rgb(80.784314%,100%,0%);stroke-opacity:1;stroke-miterlimit:10;\" d=\"M 87.640625 330.800781 L 87.640625 326.890625 \"/>\n",
       "<path style=\"fill:none;stroke-width:0.75;stroke-linecap:round;stroke-linejoin:round;stroke:rgb(72.941176%,100%,0%);stroke-opacity:1;stroke-miterlimit:10;\" d=\"M 87.640625 326.890625 L 92.054688 326.890625 \"/>\n",
       "<path style=\"fill:none;stroke-width:0.75;stroke-linecap:round;stroke-linejoin:round;stroke:rgb(69.803922%,100%,0%);stroke-opacity:1;stroke-miterlimit:10;\" d=\"M 92.054688 326.890625 L 92.054688 322.980469 \"/>\n",
       "<path style=\"fill:none;stroke-width:0.75;stroke-linecap:round;stroke-linejoin:round;stroke:rgb(68.235294%,100%,0%);stroke-opacity:1;stroke-miterlimit:10;\" d=\"M 92.054688 322.980469 L 92.054688 319.074219 \"/>\n",
       "<path style=\"fill:none;stroke-width:0.75;stroke-linecap:round;stroke-linejoin:round;stroke:rgb(66.666667%,100%,0%);stroke-opacity:1;stroke-miterlimit:10;\" d=\"M 92.054688 319.074219 L 96.46875 319.074219 \"/>\n",
       "<path style=\"fill:none;stroke-width:0.75;stroke-linecap:round;stroke-linejoin:round;stroke:rgb(65.098039%,100%,0%);stroke-opacity:1;stroke-miterlimit:10;\" d=\"M 96.46875 319.074219 L 100.882812 319.074219 \"/>\n",
       "<path style=\"fill:none;stroke-width:0.75;stroke-linecap:round;stroke-linejoin:round;stroke:rgb(63.529412%,100%,0%);stroke-opacity:1;stroke-miterlimit:10;\" d=\"M 100.882812 319.074219 L 100.882812 315.164062 \"/>\n",
       "<path style=\"fill:none;stroke-width:0.75;stroke-linecap:round;stroke-linejoin:round;stroke:rgb(63.529412%,100%,0%);stroke-opacity:1;stroke-miterlimit:10;\" d=\"M 100.882812 315.164062 L 100.882812 311.253906 \"/>\n",
       "<path style=\"fill:none;stroke-width:0.75;stroke-linecap:round;stroke-linejoin:round;stroke:rgb(61.960784%,100%,0%);stroke-opacity:1;stroke-miterlimit:10;\" d=\"M 100.882812 311.253906 L 105.296875 311.253906 \"/>\n",
       "<path style=\"fill:none;stroke-width:0.75;stroke-linecap:round;stroke-linejoin:round;stroke:rgb(57.254902%,100%,0%);stroke-opacity:1;stroke-miterlimit:10;\" d=\"M 105.296875 311.253906 L 105.296875 307.34375 \"/>\n",
       "<path style=\"fill:none;stroke-width:0.75;stroke-linecap:round;stroke-linejoin:round;stroke:rgb(57.254902%,100%,0%);stroke-opacity:1;stroke-miterlimit:10;\" d=\"M 105.296875 307.34375 L 105.296875 303.4375 \"/>\n",
       "<path style=\"fill:none;stroke-width:0.75;stroke-linecap:round;stroke-linejoin:round;stroke:rgb(52.54902%,100%,0%);stroke-opacity:1;stroke-miterlimit:10;\" d=\"M 105.296875 303.4375 L 105.296875 299.527344 \"/>\n",
       "<path style=\"fill:none;stroke-width:0.75;stroke-linecap:round;stroke-linejoin:round;stroke:rgb(50.980392%,100%,0%);stroke-opacity:1;stroke-miterlimit:10;\" d=\"M 105.296875 299.527344 L 105.296875 295.617188 \"/>\n",
       "<path style=\"fill:none;stroke-width:0.75;stroke-linecap:round;stroke-linejoin:round;stroke:rgb(49.411765%,100%,0%);stroke-opacity:1;stroke-miterlimit:10;\" d=\"M 105.296875 295.617188 L 109.710938 295.617188 \"/>\n",
       "<path style=\"fill:none;stroke-width:0.75;stroke-linecap:round;stroke-linejoin:round;stroke:rgb(46.27451%,100%,0%);stroke-opacity:1;stroke-miterlimit:10;\" d=\"M 109.710938 295.617188 L 109.710938 291.710938 \"/>\n",
       "<path style=\"fill:none;stroke-width:0.75;stroke-linecap:round;stroke-linejoin:round;stroke:rgb(44.705882%,100%,0%);stroke-opacity:1;stroke-miterlimit:10;\" d=\"M 109.710938 291.710938 L 114.125 291.710938 \"/>\n",
       "<path style=\"fill:none;stroke-width:0.75;stroke-linecap:round;stroke-linejoin:round;stroke:rgb(43.137255%,100%,0%);stroke-opacity:1;stroke-miterlimit:10;\" d=\"M 114.125 291.710938 L 114.125 287.800781 \"/>\n",
       "<path style=\"fill:none;stroke-width:0.75;stroke-linecap:round;stroke-linejoin:round;stroke:rgb(41.568627%,100%,0%);stroke-opacity:1;stroke-miterlimit:10;\" d=\"M 114.125 287.800781 L 118.539062 287.800781 \"/>\n",
       "<path style=\"fill:none;stroke-width:0.75;stroke-linecap:round;stroke-linejoin:round;stroke:rgb(40%,100%,0%);stroke-opacity:1;stroke-miterlimit:10;\" d=\"M 118.539062 287.800781 L 118.539062 283.890625 \"/>\n",
       "<path style=\"fill:none;stroke-width:0.75;stroke-linecap:round;stroke-linejoin:round;stroke:rgb(38.431373%,100%,0%);stroke-opacity:1;stroke-miterlimit:10;\" d=\"M 118.539062 283.890625 L 122.953125 283.890625 \"/>\n",
       "<path style=\"fill:none;stroke-width:0.75;stroke-linecap:round;stroke-linejoin:round;stroke:rgb(38.431373%,100%,0%);stroke-opacity:1;stroke-miterlimit:10;\" d=\"M 122.953125 283.890625 L 127.367188 283.890625 \"/>\n",
       "<path style=\"fill:none;stroke-width:0.75;stroke-linecap:round;stroke-linejoin:round;stroke:rgb(36.862745%,100%,0%);stroke-opacity:1;stroke-miterlimit:10;\" d=\"M 127.367188 283.890625 L 131.78125 283.890625 \"/>\n",
       "<path style=\"fill:none;stroke-width:0.75;stroke-linecap:round;stroke-linejoin:round;stroke:rgb(35.294118%,100%,0%);stroke-opacity:1;stroke-miterlimit:10;\" d=\"M 131.78125 283.890625 L 131.78125 279.980469 \"/>\n",
       "<path style=\"fill:none;stroke-width:0.75;stroke-linecap:round;stroke-linejoin:round;stroke:rgb(33.72549%,100%,0%);stroke-opacity:1;stroke-miterlimit:10;\" d=\"M 131.78125 279.980469 L 131.78125 276.074219 \"/>\n",
       "<path style=\"fill:none;stroke-width:0.75;stroke-linecap:round;stroke-linejoin:round;stroke:rgb(33.72549%,100%,0%);stroke-opacity:1;stroke-miterlimit:10;\" d=\"M 131.78125 276.074219 L 136.191406 276.074219 \"/>\n",
       "<path style=\"fill:none;stroke-width:0.75;stroke-linecap:round;stroke-linejoin:round;stroke:rgb(32.156863%,100%,0%);stroke-opacity:1;stroke-miterlimit:10;\" d=\"M 136.191406 276.074219 L 140.605469 276.074219 \"/>\n",
       "<path style=\"fill:none;stroke-width:0.75;stroke-linecap:round;stroke-linejoin:round;stroke:rgb(29.019608%,100%,0%);stroke-opacity:1;stroke-miterlimit:10;\" d=\"M 140.605469 276.074219 L 140.605469 272.164062 \"/>\n",
       "<path style=\"fill:none;stroke-width:0.75;stroke-linecap:round;stroke-linejoin:round;stroke:rgb(27.45098%,100%,0%);stroke-opacity:1;stroke-miterlimit:10;\" d=\"M 140.605469 272.164062 L 140.605469 268.253906 \"/>\n",
       "<path style=\"fill:none;stroke-width:0.75;stroke-linecap:round;stroke-linejoin:round;stroke:rgb(25.882353%,100%,0%);stroke-opacity:1;stroke-miterlimit:10;\" d=\"M 140.605469 268.253906 L 140.605469 264.34375 \"/>\n",
       "<path style=\"fill:none;stroke-width:0.75;stroke-linecap:round;stroke-linejoin:round;stroke:rgb(25.882353%,100%,0%);stroke-opacity:1;stroke-miterlimit:10;\" d=\"M 140.605469 264.34375 L 140.605469 260.4375 \"/>\n",
       "<path style=\"fill:none;stroke-width:0.75;stroke-linecap:round;stroke-linejoin:round;stroke:rgb(24.313725%,100%,0%);stroke-opacity:1;stroke-miterlimit:10;\" d=\"M 140.605469 260.4375 L 140.605469 256.527344 \"/>\n",
       "<path style=\"fill:none;stroke-width:0.75;stroke-linecap:round;stroke-linejoin:round;stroke:rgb(24.313725%,100%,0%);stroke-opacity:1;stroke-miterlimit:10;\" d=\"M 140.605469 256.527344 L 140.605469 252.617188 \"/>\n",
       "<path style=\"fill:none;stroke-width:0.75;stroke-linecap:round;stroke-linejoin:round;stroke:rgb(22.745098%,100%,0%);stroke-opacity:1;stroke-miterlimit:10;\" d=\"M 140.605469 252.617188 L 140.605469 248.710938 \"/>\n",
       "<path style=\"fill:none;stroke-width:0.75;stroke-linecap:round;stroke-linejoin:round;stroke:rgb(21.176471%,100%,0%);stroke-opacity:1;stroke-miterlimit:10;\" d=\"M 140.605469 248.710938 L 145.019531 248.710938 \"/>\n",
       "<path style=\"fill:none;stroke-width:0.75;stroke-linecap:round;stroke-linejoin:round;stroke:rgb(18.039216%,100%,0%);stroke-opacity:1;stroke-miterlimit:10;\" d=\"M 145.019531 248.710938 L 145.019531 244.800781 \"/>\n",
       "<path style=\"fill:none;stroke-width:0.75;stroke-linecap:round;stroke-linejoin:round;stroke:rgb(18.039216%,100%,0%);stroke-opacity:1;stroke-miterlimit:10;\" d=\"M 145.019531 244.800781 L 145.019531 240.890625 \"/>\n",
       "<path style=\"fill:none;stroke-width:0.75;stroke-linecap:round;stroke-linejoin:round;stroke:rgb(16.470588%,100%,0%);stroke-opacity:1;stroke-miterlimit:10;\" d=\"M 145.019531 240.890625 L 145.019531 236.980469 \"/>\n",
       "<path style=\"fill:none;stroke-width:0.75;stroke-linecap:round;stroke-linejoin:round;stroke:rgb(16.470588%,100%,0%);stroke-opacity:1;stroke-miterlimit:10;\" d=\"M 145.019531 236.980469 L 145.019531 233.074219 \"/>\n",
       "<path style=\"fill:none;stroke-width:0.75;stroke-linecap:round;stroke-linejoin:round;stroke:rgb(14.901961%,100%,0%);stroke-opacity:1;stroke-miterlimit:10;\" d=\"M 145.019531 233.074219 L 149.433594 233.074219 \"/>\n",
       "<path style=\"fill:none;stroke-width:0.75;stroke-linecap:round;stroke-linejoin:round;stroke:rgb(13.333333%,100%,0%);stroke-opacity:1;stroke-miterlimit:10;\" d=\"M 149.433594 233.074219 L 149.433594 229.164062 \"/>\n",
       "<path style=\"fill:none;stroke-width:0.75;stroke-linecap:round;stroke-linejoin:round;stroke:rgb(13.333333%,100%,0%);stroke-opacity:1;stroke-miterlimit:10;\" d=\"M 149.433594 229.164062 L 153.847656 229.164062 \"/>\n",
       "<path style=\"fill:none;stroke-width:0.75;stroke-linecap:round;stroke-linejoin:round;stroke:rgb(11.764706%,100%,0%);stroke-opacity:1;stroke-miterlimit:10;\" d=\"M 153.847656 229.164062 L 153.847656 225.253906 \"/>\n",
       "<path style=\"fill:none;stroke-width:0.75;stroke-linecap:round;stroke-linejoin:round;stroke:rgb(10.196078%,100%,0%);stroke-opacity:1;stroke-miterlimit:10;\" d=\"M 153.847656 225.253906 L 158.261719 225.253906 \"/>\n",
       "<path style=\"fill:none;stroke-width:0.75;stroke-linecap:round;stroke-linejoin:round;stroke:rgb(10.196078%,100%,0%);stroke-opacity:1;stroke-miterlimit:10;\" d=\"M 158.261719 225.253906 L 158.261719 221.34375 \"/>\n",
       "<path style=\"fill:none;stroke-width:0.75;stroke-linecap:round;stroke-linejoin:round;stroke:rgb(8.627451%,100%,0%);stroke-opacity:1;stroke-miterlimit:10;\" d=\"M 158.261719 221.34375 L 162.675781 221.34375 \"/>\n",
       "<path style=\"fill:none;stroke-width:0.75;stroke-linecap:round;stroke-linejoin:round;stroke:rgb(8.627451%,100%,0%);stroke-opacity:1;stroke-miterlimit:10;\" d=\"M 162.675781 221.34375 L 167.089844 221.34375 \"/>\n",
       "<path style=\"fill:none;stroke-width:0.75;stroke-linecap:round;stroke-linejoin:round;stroke:rgb(7.058824%,100%,0%);stroke-opacity:1;stroke-miterlimit:10;\" d=\"M 167.089844 221.34375 L 171.503906 221.34375 \"/>\n",
       "<path style=\"fill:none;stroke-width:0.75;stroke-linecap:round;stroke-linejoin:round;stroke:rgb(7.058824%,100%,0%);stroke-opacity:1;stroke-miterlimit:10;\" d=\"M 171.503906 221.34375 L 175.917969 221.34375 \"/>\n",
       "<path style=\"fill:none;stroke-width:0.75;stroke-linecap:round;stroke-linejoin:round;stroke:rgb(7.058824%,100%,0%);stroke-opacity:1;stroke-miterlimit:10;\" d=\"M 175.917969 221.34375 L 175.917969 217.4375 \"/>\n",
       "<path style=\"fill:none;stroke-width:0.75;stroke-linecap:round;stroke-linejoin:round;stroke:rgb(5.490196%,100%,0%);stroke-opacity:1;stroke-miterlimit:10;\" d=\"M 175.917969 217.4375 L 180.332031 217.4375 \"/>\n",
       "<path style=\"fill:none;stroke-width:0.75;stroke-linecap:round;stroke-linejoin:round;stroke:rgb(5.490196%,100%,0%);stroke-opacity:1;stroke-miterlimit:10;\" d=\"M 180.332031 217.4375 L 184.746094 217.4375 \"/>\n",
       "<path style=\"fill:none;stroke-width:0.75;stroke-linecap:round;stroke-linejoin:round;stroke:rgb(5.490196%,100%,0%);stroke-opacity:1;stroke-miterlimit:10;\" d=\"M 184.746094 217.4375 L 184.746094 213.527344 \"/>\n",
       "<path style=\"fill:none;stroke-width:0.75;stroke-linecap:round;stroke-linejoin:round;stroke:rgb(3.921569%,100%,0%);stroke-opacity:1;stroke-miterlimit:10;\" d=\"M 184.746094 213.527344 L 184.746094 209.617188 \"/>\n",
       "<path style=\"fill:none;stroke-width:0.75;stroke-linecap:round;stroke-linejoin:round;stroke:rgb(3.921569%,100%,0%);stroke-opacity:1;stroke-miterlimit:10;\" d=\"M 184.746094 209.617188 L 184.746094 205.710938 \"/>\n",
       "<path style=\"fill:none;stroke-width:0.75;stroke-linecap:round;stroke-linejoin:round;stroke:rgb(2.352941%,100%,0%);stroke-opacity:1;stroke-miterlimit:10;\" d=\"M 184.746094 205.710938 L 189.160156 205.710938 \"/>\n",
       "<path style=\"fill:none;stroke-width:0.75;stroke-linecap:round;stroke-linejoin:round;stroke:rgb(2.352941%,100%,0%);stroke-opacity:1;stroke-miterlimit:10;\" d=\"M 189.160156 205.710938 L 189.160156 201.800781 \"/>\n",
       "<path style=\"fill:none;stroke-width:0.75;stroke-linecap:round;stroke-linejoin:round;stroke:rgb(2.352941%,100%,0%);stroke-opacity:1;stroke-miterlimit:10;\" d=\"M 189.160156 201.800781 L 189.160156 197.890625 \"/>\n",
       "<path style=\"fill:none;stroke-width:0.75;stroke-linecap:round;stroke-linejoin:round;stroke:rgb(0.784314%,100%,0%);stroke-opacity:1;stroke-miterlimit:10;\" d=\"M 189.160156 197.890625 L 193.574219 197.890625 \"/>\n",
       "<path style=\"fill:none;stroke-width:0.75;stroke-linecap:round;stroke-linejoin:round;stroke:rgb(0%,100%,0.784314%);stroke-opacity:1;stroke-miterlimit:10;\" d=\"M 193.574219 197.890625 L 193.574219 193.980469 \"/>\n",
       "<path style=\"fill:none;stroke-width:0.75;stroke-linecap:round;stroke-linejoin:round;stroke:rgb(0%,100%,0.784314%);stroke-opacity:1;stroke-miterlimit:10;\" d=\"M 193.574219 193.980469 L 193.574219 190.074219 \"/>\n",
       "<path style=\"fill:none;stroke-width:0.75;stroke-linecap:round;stroke-linejoin:round;stroke:rgb(0%,100%,5.490196%);stroke-opacity:1;stroke-miterlimit:10;\" d=\"M 193.574219 190.074219 L 197.984375 190.074219 \"/>\n",
       "<path style=\"fill:none;stroke-width:0.75;stroke-linecap:round;stroke-linejoin:round;stroke:rgb(0%,100%,7.058824%);stroke-opacity:1;stroke-miterlimit:10;\" d=\"M 197.984375 190.074219 L 197.984375 186.164062 \"/>\n",
       "<path style=\"fill:none;stroke-width:0.75;stroke-linecap:round;stroke-linejoin:round;stroke:rgb(0%,100%,7.058824%);stroke-opacity:1;stroke-miterlimit:10;\" d=\"M 197.984375 186.164062 L 197.984375 182.253906 \"/>\n",
       "<path style=\"fill:none;stroke-width:0.75;stroke-linecap:round;stroke-linejoin:round;stroke:rgb(0%,100%,10.196078%);stroke-opacity:1;stroke-miterlimit:10;\" d=\"M 197.984375 182.253906 L 202.398438 182.253906 \"/>\n",
       "<path style=\"fill:none;stroke-width:0.75;stroke-linecap:round;stroke-linejoin:round;stroke:rgb(0%,100%,10.196078%);stroke-opacity:1;stroke-miterlimit:10;\" d=\"M 202.398438 182.253906 L 202.398438 178.34375 \"/>\n",
       "<path style=\"fill:none;stroke-width:0.75;stroke-linecap:round;stroke-linejoin:round;stroke:rgb(0%,100%,11.764706%);stroke-opacity:1;stroke-miterlimit:10;\" d=\"M 202.398438 178.34375 L 206.8125 178.34375 \"/>\n",
       "<path style=\"fill:none;stroke-width:0.75;stroke-linecap:round;stroke-linejoin:round;stroke:rgb(0%,100%,16.470588%);stroke-opacity:1;stroke-miterlimit:10;\" d=\"M 206.8125 178.34375 L 211.226562 178.34375 \"/>\n",
       "<path style=\"fill:none;stroke-width:0.75;stroke-linecap:round;stroke-linejoin:round;stroke:rgb(0%,100%,16.470588%);stroke-opacity:1;stroke-miterlimit:10;\" d=\"M 211.226562 178.34375 L 215.640625 178.34375 \"/>\n",
       "<path style=\"fill:none;stroke-width:0.75;stroke-linecap:round;stroke-linejoin:round;stroke:rgb(0%,100%,19.607843%);stroke-opacity:1;stroke-miterlimit:10;\" d=\"M 215.640625 178.34375 L 220.054688 178.34375 \"/>\n",
       "<path style=\"fill:none;stroke-width:0.75;stroke-linecap:round;stroke-linejoin:round;stroke:rgb(0%,100%,24.313725%);stroke-opacity:1;stroke-miterlimit:10;\" d=\"M 220.054688 178.34375 L 224.46875 178.34375 \"/>\n",
       "<path style=\"fill:none;stroke-width:0.75;stroke-linecap:round;stroke-linejoin:round;stroke:rgb(0%,100%,25.882353%);stroke-opacity:1;stroke-miterlimit:10;\" d=\"M 224.46875 178.34375 L 228.882812 178.34375 \"/>\n",
       "<path style=\"fill:none;stroke-width:0.75;stroke-linecap:round;stroke-linejoin:round;stroke:rgb(0%,100%,25.882353%);stroke-opacity:1;stroke-miterlimit:10;\" d=\"M 228.882812 178.34375 L 233.296875 178.34375 \"/>\n",
       "<path style=\"fill:none;stroke-width:0.75;stroke-linecap:round;stroke-linejoin:round;stroke:rgb(0%,100%,27.45098%);stroke-opacity:1;stroke-miterlimit:10;\" d=\"M 233.296875 178.34375 L 237.710938 178.34375 \"/>\n",
       "<path style=\"fill:none;stroke-width:0.75;stroke-linecap:round;stroke-linejoin:round;stroke:rgb(0%,100%,27.45098%);stroke-opacity:1;stroke-miterlimit:10;\" d=\"M 237.710938 178.34375 L 237.710938 174.4375 \"/>\n",
       "<path style=\"fill:none;stroke-width:0.75;stroke-linecap:round;stroke-linejoin:round;stroke:rgb(0%,100%,29.019608%);stroke-opacity:1;stroke-miterlimit:10;\" d=\"M 237.710938 174.4375 L 237.710938 170.527344 \"/>\n",
       "<path style=\"fill:none;stroke-width:0.75;stroke-linecap:round;stroke-linejoin:round;stroke:rgb(0%,100%,30.588235%);stroke-opacity:1;stroke-miterlimit:10;\" d=\"M 237.710938 170.527344 L 242.125 170.527344 \"/>\n",
       "<path style=\"fill:none;stroke-width:0.75;stroke-linecap:round;stroke-linejoin:round;stroke:rgb(0%,100%,30.588235%);stroke-opacity:1;stroke-miterlimit:10;\" d=\"M 242.125 170.527344 L 246.539062 170.527344 \"/>\n",
       "<path style=\"fill:none;stroke-width:0.75;stroke-linecap:round;stroke-linejoin:round;stroke:rgb(0%,100%,33.72549%);stroke-opacity:1;stroke-miterlimit:10;\" d=\"M 246.539062 170.527344 L 246.539062 166.617188 \"/>\n",
       "<path style=\"fill:none;stroke-width:0.75;stroke-linecap:round;stroke-linejoin:round;stroke:rgb(0%,100%,33.72549%);stroke-opacity:1;stroke-miterlimit:10;\" d=\"M 246.539062 166.617188 L 250.953125 166.617188 \"/>\n",
       "<path style=\"fill:none;stroke-width:0.75;stroke-linecap:round;stroke-linejoin:round;stroke:rgb(0%,100%,33.72549%);stroke-opacity:1;stroke-miterlimit:10;\" d=\"M 250.953125 166.617188 L 255.367188 166.617188 \"/>\n",
       "<path style=\"fill:none;stroke-width:0.75;stroke-linecap:round;stroke-linejoin:round;stroke:rgb(0%,100%,33.72549%);stroke-opacity:1;stroke-miterlimit:10;\" d=\"M 255.367188 166.617188 L 259.78125 166.617188 \"/>\n",
       "<path style=\"fill:none;stroke-width:0.75;stroke-linecap:round;stroke-linejoin:round;stroke:rgb(0%,100%,36.862745%);stroke-opacity:1;stroke-miterlimit:10;\" d=\"M 259.78125 166.617188 L 259.78125 162.710938 \"/>\n",
       "<path style=\"fill:none;stroke-width:0.75;stroke-linecap:round;stroke-linejoin:round;stroke:rgb(0%,100%,36.862745%);stroke-opacity:1;stroke-miterlimit:10;\" d=\"M 259.78125 162.710938 L 259.78125 158.800781 \"/>\n",
       "<path style=\"fill:none;stroke-width:0.75;stroke-linecap:round;stroke-linejoin:round;stroke:rgb(0%,100%,36.862745%);stroke-opacity:1;stroke-miterlimit:10;\" d=\"M 259.78125 158.800781 L 264.191406 158.800781 \"/>\n",
       "<path style=\"fill:none;stroke-width:0.75;stroke-linecap:round;stroke-linejoin:round;stroke:rgb(0%,100%,38.431373%);stroke-opacity:1;stroke-miterlimit:10;\" d=\"M 264.191406 158.800781 L 264.191406 154.890625 \"/>\n",
       "<path style=\"fill:none;stroke-width:0.75;stroke-linecap:round;stroke-linejoin:round;stroke:rgb(0%,100%,38.431373%);stroke-opacity:1;stroke-miterlimit:10;\" d=\"M 264.191406 154.890625 L 268.605469 154.890625 \"/>\n",
       "<path style=\"fill:none;stroke-width:0.75;stroke-linecap:round;stroke-linejoin:round;stroke:rgb(0%,100%,40%);stroke-opacity:1;stroke-miterlimit:10;\" d=\"M 268.605469 154.890625 L 273.019531 154.890625 \"/>\n",
       "<path style=\"fill:none;stroke-width:0.75;stroke-linecap:round;stroke-linejoin:round;stroke:rgb(0%,100%,43.137255%);stroke-opacity:1;stroke-miterlimit:10;\" d=\"M 273.019531 154.890625 L 273.019531 150.980469 \"/>\n",
       "<path style=\"fill:none;stroke-width:0.75;stroke-linecap:round;stroke-linejoin:round;stroke:rgb(0%,100%,44.705882%);stroke-opacity:1;stroke-miterlimit:10;\" d=\"M 273.019531 150.980469 L 277.433594 150.980469 \"/>\n",
       "<path style=\"fill:none;stroke-width:0.75;stroke-linecap:round;stroke-linejoin:round;stroke:rgb(0%,100%,44.705882%);stroke-opacity:1;stroke-miterlimit:10;\" d=\"M 277.433594 150.980469 L 277.433594 147.074219 \"/>\n",
       "<path style=\"fill:none;stroke-width:0.75;stroke-linecap:round;stroke-linejoin:round;stroke:rgb(0%,100%,47.843137%);stroke-opacity:1;stroke-miterlimit:10;\" d=\"M 277.433594 147.074219 L 277.433594 143.164062 \"/>\n",
       "<path style=\"fill:none;stroke-width:0.75;stroke-linecap:round;stroke-linejoin:round;stroke:rgb(0%,100%,49.411765%);stroke-opacity:1;stroke-miterlimit:10;\" d=\"M 277.433594 143.164062 L 281.847656 143.164062 \"/>\n",
       "<path style=\"fill:none;stroke-width:0.75;stroke-linecap:round;stroke-linejoin:round;stroke:rgb(0%,100%,50.980392%);stroke-opacity:1;stroke-miterlimit:10;\" d=\"M 281.847656 143.164062 L 286.261719 143.164062 \"/>\n",
       "<path style=\"fill:none;stroke-width:0.75;stroke-linecap:round;stroke-linejoin:round;stroke:rgb(0%,100%,50.980392%);stroke-opacity:1;stroke-miterlimit:10;\" d=\"M 286.261719 143.164062 L 290.675781 143.164062 \"/>\n",
       "<path style=\"fill:none;stroke-width:0.75;stroke-linecap:round;stroke-linejoin:round;stroke:rgb(0%,100%,50.980392%);stroke-opacity:1;stroke-miterlimit:10;\" d=\"M 290.675781 143.164062 L 290.675781 139.253906 \"/>\n",
       "<path style=\"fill:none;stroke-width:0.75;stroke-linecap:round;stroke-linejoin:round;stroke:rgb(0%,100%,50.980392%);stroke-opacity:1;stroke-miterlimit:10;\" d=\"M 290.675781 139.253906 L 295.089844 139.253906 \"/>\n",
       "<path style=\"fill:none;stroke-width:0.75;stroke-linecap:round;stroke-linejoin:round;stroke:rgb(0%,100%,52.54902%);stroke-opacity:1;stroke-miterlimit:10;\" d=\"M 295.089844 139.253906 L 295.089844 135.34375 \"/>\n",
       "<path style=\"fill:none;stroke-width:0.75;stroke-linecap:round;stroke-linejoin:round;stroke:rgb(0%,100%,54.117647%);stroke-opacity:1;stroke-miterlimit:10;\" d=\"M 295.089844 135.34375 L 299.503906 135.34375 \"/>\n",
       "<path style=\"fill:none;stroke-width:0.75;stroke-linecap:round;stroke-linejoin:round;stroke:rgb(0%,100%,54.117647%);stroke-opacity:1;stroke-miterlimit:10;\" d=\"M 299.503906 135.34375 L 299.503906 131.4375 \"/>\n",
       "<path style=\"fill:none;stroke-width:0.75;stroke-linecap:round;stroke-linejoin:round;stroke:rgb(0%,100%,57.254902%);stroke-opacity:1;stroke-miterlimit:10;\" d=\"M 299.503906 131.4375 L 299.503906 127.527344 \"/>\n",
       "<path style=\"fill:none;stroke-width:0.75;stroke-linecap:round;stroke-linejoin:round;stroke:rgb(0%,100%,57.254902%);stroke-opacity:1;stroke-miterlimit:10;\" d=\"M 299.503906 127.527344 L 303.917969 127.527344 \"/>\n",
       "<path style=\"fill:none;stroke-width:0.75;stroke-linecap:round;stroke-linejoin:round;stroke:rgb(0%,100%,61.960784%);stroke-opacity:1;stroke-miterlimit:10;\" d=\"M 303.917969 127.527344 L 303.917969 123.617188 \"/>\n",
       "<path style=\"fill:none;stroke-width:0.75;stroke-linecap:round;stroke-linejoin:round;stroke:rgb(0%,100%,65.098039%);stroke-opacity:1;stroke-miterlimit:10;\" d=\"M 303.917969 123.617188 L 308.332031 123.617188 \"/>\n",
       "<path style=\"fill:none;stroke-width:0.75;stroke-linecap:round;stroke-linejoin:round;stroke:rgb(0%,100%,66.666667%);stroke-opacity:1;stroke-miterlimit:10;\" d=\"M 308.332031 123.617188 L 312.746094 123.617188 \"/>\n",
       "<path style=\"fill:none;stroke-width:0.75;stroke-linecap:round;stroke-linejoin:round;stroke:rgb(0%,100%,66.666667%);stroke-opacity:1;stroke-miterlimit:10;\" d=\"M 312.746094 123.617188 L 317.160156 123.617188 \"/>\n",
       "<path style=\"fill:none;stroke-width:0.75;stroke-linecap:round;stroke-linejoin:round;stroke:rgb(0%,100%,66.666667%);stroke-opacity:1;stroke-miterlimit:10;\" d=\"M 317.160156 123.617188 L 321.574219 123.617188 \"/>\n",
       "<path style=\"fill:none;stroke-width:0.75;stroke-linecap:round;stroke-linejoin:round;stroke:rgb(0%,100%,68.235294%);stroke-opacity:1;stroke-miterlimit:10;\" d=\"M 321.574219 123.617188 L 325.984375 123.617188 \"/>\n",
       "<path style=\"fill:none;stroke-width:0.75;stroke-linecap:round;stroke-linejoin:round;stroke:rgb(0%,100%,68.235294%);stroke-opacity:1;stroke-miterlimit:10;\" d=\"M 325.984375 123.617188 L 330.398438 123.617188 \"/>\n",
       "<path style=\"fill:none;stroke-width:0.75;stroke-linecap:round;stroke-linejoin:round;stroke:rgb(0%,100%,74.509804%);stroke-opacity:1;stroke-miterlimit:10;\" d=\"M 330.398438 123.617188 L 334.8125 123.617188 \"/>\n",
       "<path style=\"fill:none;stroke-width:0.75;stroke-linecap:round;stroke-linejoin:round;stroke:rgb(0%,100%,77.647059%);stroke-opacity:1;stroke-miterlimit:10;\" d=\"M 334.8125 123.617188 L 339.226562 123.617188 \"/>\n",
       "<path style=\"fill:none;stroke-width:0.75;stroke-linecap:round;stroke-linejoin:round;stroke:rgb(0%,100%,80.784314%);stroke-opacity:1;stroke-miterlimit:10;\" d=\"M 339.226562 123.617188 L 343.640625 123.617188 \"/>\n",
       "<path style=\"fill:none;stroke-width:0.75;stroke-linecap:round;stroke-linejoin:round;stroke:rgb(0%,100%,80.784314%);stroke-opacity:1;stroke-miterlimit:10;\" d=\"M 343.640625 123.617188 L 348.054688 123.617188 \"/>\n",
       "<path style=\"fill:none;stroke-width:0.75;stroke-linecap:round;stroke-linejoin:round;stroke:rgb(0%,100%,80.784314%);stroke-opacity:1;stroke-miterlimit:10;\" d=\"M 348.054688 123.617188 L 352.46875 123.617188 \"/>\n",
       "<path style=\"fill:none;stroke-width:0.75;stroke-linecap:round;stroke-linejoin:round;stroke:rgb(0%,100%,82.352941%);stroke-opacity:1;stroke-miterlimit:10;\" d=\"M 352.46875 123.617188 L 356.882812 123.617188 \"/>\n",
       "<path style=\"fill:none;stroke-width:0.75;stroke-linecap:round;stroke-linejoin:round;stroke:rgb(0%,100%,83.921569%);stroke-opacity:1;stroke-miterlimit:10;\" d=\"M 356.882812 123.617188 L 356.882812 119.710938 \"/>\n",
       "<path style=\"fill:none;stroke-width:0.75;stroke-linecap:round;stroke-linejoin:round;stroke:rgb(0%,100%,83.921569%);stroke-opacity:1;stroke-miterlimit:10;\" d=\"M 356.882812 119.710938 L 356.882812 115.800781 \"/>\n",
       "<path style=\"fill:none;stroke-width:0.75;stroke-linecap:round;stroke-linejoin:round;stroke:rgb(0%,100%,85.490196%);stroke-opacity:1;stroke-miterlimit:10;\" d=\"M 356.882812 115.800781 L 361.296875 115.800781 \"/>\n",
       "<path style=\"fill:none;stroke-width:0.75;stroke-linecap:round;stroke-linejoin:round;stroke:rgb(0%,100%,87.058824%);stroke-opacity:1;stroke-miterlimit:10;\" d=\"M 361.296875 115.800781 L 365.710938 115.800781 \"/>\n",
       "<path style=\"fill:none;stroke-width:0.75;stroke-linecap:round;stroke-linejoin:round;stroke:rgb(0%,100%,90.196078%);stroke-opacity:1;stroke-miterlimit:10;\" d=\"M 365.710938 115.800781 L 370.125 115.800781 \"/>\n",
       "<path style=\"fill:none;stroke-width:0.75;stroke-linecap:round;stroke-linejoin:round;stroke:rgb(0%,100%,90.196078%);stroke-opacity:1;stroke-miterlimit:10;\" d=\"M 370.125 115.800781 L 374.539062 115.800781 \"/>\n",
       "<path style=\"fill:none;stroke-width:0.75;stroke-linecap:round;stroke-linejoin:round;stroke:rgb(0%,100%,91.764706%);stroke-opacity:1;stroke-miterlimit:10;\" d=\"M 374.539062 115.800781 L 378.953125 115.800781 \"/>\n",
       "<path style=\"fill:none;stroke-width:0.75;stroke-linecap:round;stroke-linejoin:round;stroke:rgb(0%,100%,91.764706%);stroke-opacity:1;stroke-miterlimit:10;\" d=\"M 378.953125 115.800781 L 383.367188 115.800781 \"/>\n",
       "<path style=\"fill:none;stroke-width:0.75;stroke-linecap:round;stroke-linejoin:round;stroke:rgb(0%,100%,91.764706%);stroke-opacity:1;stroke-miterlimit:10;\" d=\"M 383.367188 115.800781 L 387.78125 115.800781 \"/>\n",
       "<path style=\"fill:none;stroke-width:0.75;stroke-linecap:round;stroke-linejoin:round;stroke:rgb(0%,100%,91.764706%);stroke-opacity:1;stroke-miterlimit:10;\" d=\"M 387.78125 115.800781 L 387.78125 111.890625 \"/>\n",
       "<path style=\"fill:none;stroke-width:0.75;stroke-linecap:round;stroke-linejoin:round;stroke:rgb(0%,100%,99.607843%);stroke-opacity:1;stroke-miterlimit:10;\" d=\"M 387.78125 111.890625 L 392.191406 111.890625 \"/>\n",
       "<path style=\"fill:none;stroke-width:0.75;stroke-linecap:round;stroke-linejoin:round;stroke:rgb(0%,100%,99.607843%);stroke-opacity:1;stroke-miterlimit:10;\" d=\"M 392.191406 111.890625 L 392.191406 107.980469 \"/>\n",
       "<path style=\"fill:none;stroke-width:0.75;stroke-linecap:round;stroke-linejoin:round;stroke:rgb(0%,98.823529%,100%);stroke-opacity:1;stroke-miterlimit:10;\" d=\"M 392.191406 107.980469 L 396.605469 107.980469 \"/>\n",
       "<path style=\"fill:none;stroke-width:0.75;stroke-linecap:round;stroke-linejoin:round;stroke:rgb(0%,97.254902%,100%);stroke-opacity:1;stroke-miterlimit:10;\" d=\"M 396.605469 107.980469 L 401.019531 107.980469 \"/>\n",
       "<path style=\"fill:none;stroke-width:0.75;stroke-linecap:round;stroke-linejoin:round;stroke:rgb(0%,94.117647%,100%);stroke-opacity:1;stroke-miterlimit:10;\" d=\"M 401.019531 107.980469 L 405.433594 107.980469 \"/>\n",
       "<path style=\"fill:none;stroke-width:0.75;stroke-linecap:round;stroke-linejoin:round;stroke:rgb(0%,94.117647%,100%);stroke-opacity:1;stroke-miterlimit:10;\" d=\"M 405.433594 107.980469 L 409.847656 107.980469 \"/>\n",
       "<path style=\"fill:none;stroke-width:0.75;stroke-linecap:round;stroke-linejoin:round;stroke:rgb(0%,89.411765%,100%);stroke-opacity:1;stroke-miterlimit:10;\" d=\"M 409.847656 107.980469 L 409.847656 104.074219 \"/>\n",
       "<path style=\"fill:none;stroke-width:0.75;stroke-linecap:round;stroke-linejoin:round;stroke:rgb(0%,87.843137%,100%);stroke-opacity:1;stroke-miterlimit:10;\" d=\"M 409.847656 104.074219 L 414.261719 104.074219 \"/>\n",
       "<path style=\"fill:none;stroke-width:0.75;stroke-linecap:round;stroke-linejoin:round;stroke:rgb(0%,87.843137%,100%);stroke-opacity:1;stroke-miterlimit:10;\" d=\"M 414.261719 104.074219 L 414.261719 100.164062 \"/>\n",
       "<path style=\"fill:none;stroke-width:0.75;stroke-linecap:round;stroke-linejoin:round;stroke:rgb(0%,87.843137%,100%);stroke-opacity:1;stroke-miterlimit:10;\" d=\"M 414.261719 100.164062 L 414.261719 96.253906 \"/>\n",
       "<path style=\"fill:none;stroke-width:0.75;stroke-linecap:round;stroke-linejoin:round;stroke:rgb(0%,87.843137%,100%);stroke-opacity:1;stroke-miterlimit:10;\" d=\"M 414.261719 96.253906 L 418.675781 96.253906 \"/>\n",
       "<path style=\"fill:none;stroke-width:0.75;stroke-linecap:round;stroke-linejoin:round;stroke:rgb(0%,86.27451%,100%);stroke-opacity:1;stroke-miterlimit:10;\" d=\"M 418.675781 96.253906 L 418.675781 92.34375 \"/>\n",
       "<path style=\"fill:none;stroke-width:0.75;stroke-linecap:round;stroke-linejoin:round;stroke:rgb(0%,81.568627%,100%);stroke-opacity:1;stroke-miterlimit:10;\" d=\"M 418.675781 92.34375 L 418.675781 88.4375 \"/>\n",
       "<path style=\"fill:none;stroke-width:0.75;stroke-linecap:round;stroke-linejoin:round;stroke:rgb(0%,81.568627%,100%);stroke-opacity:1;stroke-miterlimit:10;\" d=\"M 418.675781 88.4375 L 423.089844 88.4375 \"/>\n",
       "<path style=\"fill:none;stroke-width:0.75;stroke-linecap:round;stroke-linejoin:round;stroke:rgb(0%,81.568627%,100%);stroke-opacity:1;stroke-miterlimit:10;\" d=\"M 423.089844 88.4375 L 423.089844 84.527344 \"/>\n",
       "<path style=\"fill:none;stroke-width:0.75;stroke-linecap:round;stroke-linejoin:round;stroke:rgb(0%,78.431373%,100%);stroke-opacity:1;stroke-miterlimit:10;\" d=\"M 423.089844 84.527344 L 427.503906 84.527344 \"/>\n",
       "<path style=\"fill:none;stroke-width:0.75;stroke-linecap:round;stroke-linejoin:round;stroke:rgb(0%,76.862745%,100%);stroke-opacity:1;stroke-miterlimit:10;\" d=\"M 427.503906 84.527344 L 427.503906 80.617188 \"/>\n",
       "<path style=\"fill:none;stroke-width:0.75;stroke-linecap:round;stroke-linejoin:round;stroke:rgb(0%,70.588235%,100%);stroke-opacity:1;stroke-miterlimit:10;\" d=\"M 427.503906 80.617188 L 431.917969 80.617188 \"/>\n",
       "<path style=\"fill:none;stroke-width:0.75;stroke-linecap:round;stroke-linejoin:round;stroke:rgb(0%,67.45098%,100%);stroke-opacity:1;stroke-miterlimit:10;\" d=\"M 431.917969 80.617188 L 436.332031 80.617188 \"/>\n",
       "<path style=\"fill:none;stroke-width:0.75;stroke-linecap:round;stroke-linejoin:round;stroke:rgb(0%,65.882353%,100%);stroke-opacity:1;stroke-miterlimit:10;\" d=\"M 436.332031 80.617188 L 436.332031 76.710938 \"/>\n",
       "<path style=\"fill:none;stroke-width:0.75;stroke-linecap:round;stroke-linejoin:round;stroke:rgb(0%,64.313725%,100%);stroke-opacity:1;stroke-miterlimit:10;\" d=\"M 436.332031 76.710938 L 440.746094 76.710938 \"/>\n",
       "<path style=\"fill:none;stroke-width:0.75;stroke-linecap:round;stroke-linejoin:round;stroke:rgb(0%,59.607843%,100%);stroke-opacity:1;stroke-miterlimit:10;\" d=\"M 440.746094 76.710938 L 445.160156 76.710938 \"/>\n",
       "<path style=\"fill:none;stroke-width:0.75;stroke-linecap:round;stroke-linejoin:round;stroke:rgb(0%,47.058824%,100%);stroke-opacity:1;stroke-miterlimit:10;\" d=\"M 445.160156 76.710938 L 449.574219 76.710938 \"/>\n",
       "<path style=\"fill:none;stroke-width:0.75;stroke-linecap:round;stroke-linejoin:round;stroke:rgb(0%,43.921569%,100%);stroke-opacity:1;stroke-miterlimit:10;\" d=\"M 449.574219 76.710938 L 453.984375 76.710938 \"/>\n",
       "<path style=\"fill:none;stroke-width:0.75;stroke-linecap:round;stroke-linejoin:round;stroke:rgb(0%,36.078431%,100%);stroke-opacity:1;stroke-miterlimit:10;\" d=\"M 453.984375 76.710938 L 453.984375 72.800781 \"/>\n",
       "<path style=\"fill:none;stroke-width:0.75;stroke-linecap:round;stroke-linejoin:round;stroke:rgb(0%,28.235294%,100%);stroke-opacity:1;stroke-miterlimit:10;\" d=\"M 453.984375 72.800781 L 458.398438 72.800781 \"/>\n",
       "<path style=\"fill:none;stroke-width:0.75;stroke-linecap:round;stroke-linejoin:round;stroke:rgb(0%,0%,0%);stroke-opacity:1;stroke-miterlimit:10;\" d=\"M 461.101562 72.800781 C 461.101562 76.398438 455.699219 76.398438 455.699219 72.800781 C 455.699219 69.199219 461.101562 69.199219 461.101562 72.800781 \"/>\n",
       "<path style=\"fill:none;stroke-width:0.75;stroke-linecap:round;stroke-linejoin:round;stroke:rgb(0%,0%,0%);stroke-opacity:1;stroke-miterlimit:10;\" d=\"M 457.617188 72.800781 C 457.617188 76.398438 452.21875 76.398438 452.21875 72.800781 C 452.21875 69.199219 457.617188 69.199219 457.617188 72.800781 \"/>\n",
       "<path style=\"fill:none;stroke-width:0.75;stroke-linecap:round;stroke-linejoin:round;stroke:rgb(0%,0%,0%);stroke-opacity:1;stroke-miterlimit:10;\" d=\"M 438.660156 80.617188 C 438.660156 84.21875 433.261719 84.21875 433.261719 80.617188 C 433.261719 77.019531 438.660156 77.019531 438.660156 80.617188 \"/>\n",
       "<path style=\"fill:none;stroke-width:0.75;stroke-linecap:round;stroke-linejoin:round;stroke:rgb(0%,0%,0%);stroke-opacity:1;stroke-miterlimit:10;\" d=\"M 376.914062 115.800781 C 376.914062 119.398438 371.515625 119.398438 371.515625 115.800781 C 371.515625 112.199219 376.914062 112.199219 376.914062 115.800781 \"/>\n",
       "<path style=\"fill:none;stroke-width:0.75;stroke-linecap:round;stroke-linejoin:round;stroke:rgb(0%,0%,0%);stroke-opacity:1;stroke-miterlimit:10;\" d=\"M 280.132812 147.105469 C 280.132812 150.707031 274.734375 150.707031 274.734375 147.105469 C 274.734375 143.503906 280.132812 143.503906 280.132812 147.105469 \"/>\n",
       "<path style=\"fill:none;stroke-width:0.75;stroke-linecap:round;stroke-linejoin:round;stroke:rgb(0%,0%,0%);stroke-opacity:1;stroke-miterlimit:10;\" d=\"M 196.273438 190.496094 C 196.273438 194.09375 190.871094 194.09375 190.871094 190.496094 C 190.871094 186.894531 196.273438 186.894531 196.273438 190.496094 \"/>\n",
       "<path style=\"fill:none;stroke-width:0.75;stroke-linecap:round;stroke-linejoin:round;stroke:rgb(0%,0%,0%);stroke-opacity:1;stroke-miterlimit:10;\" d=\"M 124.441406 283.890625 C 124.441406 287.492188 119.042969 287.492188 119.042969 283.890625 C 119.042969 280.289062 124.441406 280.289062 124.441406 283.890625 \"/>\n",
       "<path style=\"fill:none;stroke-width:0.75;stroke-linecap:round;stroke-linejoin:round;stroke:rgb(0%,0%,0%);stroke-opacity:1;stroke-miterlimit:10;\" d=\"M 90.339844 331.574219 C 90.339844 335.171875 84.941406 335.171875 84.941406 331.574219 C 84.941406 327.972656 90.339844 327.972656 90.339844 331.574219 \"/>\n",
       "<path style=\"fill:none;stroke-width:0.75;stroke-linecap:round;stroke-linejoin:round;stroke:rgb(0%,0%,0%);stroke-opacity:1;stroke-miterlimit:10;\" d=\"M 85.925781 367.96875 C 85.925781 371.566406 80.527344 371.566406 80.527344 367.96875 C 80.527344 364.367188 85.925781 364.367188 85.925781 367.96875 \"/>\n",
       "<path style=\"fill:none;stroke-width:0.75;stroke-linecap:round;stroke-linejoin:round;stroke:rgb(0%,0%,0%);stroke-opacity:1;stroke-miterlimit:10;\" d=\"M 81.515625 386.960938 C 81.515625 390.5625 76.113281 390.5625 76.113281 386.960938 C 76.113281 383.363281 81.515625 383.363281 81.515625 386.960938 \"/>\n",
       "<path style=\"fill:none;stroke-width:0.75;stroke-linecap:round;stroke-linejoin:round;stroke:rgb(0%,0%,0%);stroke-opacity:1;stroke-miterlimit:10;\" d=\"M 77.101562 416.800781 C 77.101562 420.398438 71.699219 420.398438 71.699219 416.800781 C 71.699219 413.199219 77.101562 413.199219 77.101562 416.800781 \"/>\n",
       "<g style=\"fill:rgb(0%,0%,0%);fill-opacity:1;\">\n",
       "  <use xlink:href=\"#glyph0-13\" x=\"459.796875\" y=\"87.537109\"/>\n",
       "</g>\n",
       "<g style=\"fill:rgb(0%,0%,0%);fill-opacity:1;\">\n",
       "  <use xlink:href=\"#glyph0-13\" x=\"458.316406\" y=\"87.537109\"/>\n",
       "  <use xlink:href=\"#glyph0-14\" x=\"464.988281\" y=\"87.537109\"/>\n",
       "  <use xlink:href=\"#glyph0-19\" x=\"468.324219\" y=\"87.537109\"/>\n",
       "</g>\n",
       "<g style=\"fill:rgb(0%,0%,0%);fill-opacity:1;\">\n",
       "  <use xlink:href=\"#glyph0-13\" x=\"439.359375\" y=\"95.353516\"/>\n",
       "  <use xlink:href=\"#glyph0-14\" x=\"446.03125\" y=\"95.353516\"/>\n",
       "  <use xlink:href=\"#glyph0-15\" x=\"449.367188\" y=\"95.353516\"/>\n",
       "</g>\n",
       "<g style=\"fill:rgb(0%,0%,0%);fill-opacity:1;\">\n",
       "  <use xlink:href=\"#glyph0-13\" x=\"377.613281\" y=\"130.537109\"/>\n",
       "  <use xlink:href=\"#glyph0-14\" x=\"384.285156\" y=\"130.537109\"/>\n",
       "  <use xlink:href=\"#glyph0-20\" x=\"387.621094\" y=\"130.537109\"/>\n",
       "</g>\n",
       "<g style=\"fill:rgb(0%,0%,0%);fill-opacity:1;\">\n",
       "  <use xlink:href=\"#glyph0-13\" x=\"280.832031\" y=\"161.841797\"/>\n",
       "  <use xlink:href=\"#glyph0-14\" x=\"287.503906\" y=\"161.841797\"/>\n",
       "  <use xlink:href=\"#glyph0-16\" x=\"290.839844\" y=\"161.841797\"/>\n",
       "</g>\n",
       "<g style=\"fill:rgb(0%,0%,0%);fill-opacity:1;\">\n",
       "  <use xlink:href=\"#glyph0-13\" x=\"196.972656\" y=\"205.228516\"/>\n",
       "  <use xlink:href=\"#glyph0-14\" x=\"203.644531\" y=\"205.228516\"/>\n",
       "  <use xlink:href=\"#glyph0-21\" x=\"206.980469\" y=\"205.228516\"/>\n",
       "</g>\n",
       "<g style=\"fill:rgb(0%,0%,0%);fill-opacity:1;\">\n",
       "  <use xlink:href=\"#glyph0-13\" x=\"125.140625\" y=\"298.626953\"/>\n",
       "  <use xlink:href=\"#glyph0-14\" x=\"131.8125\" y=\"298.626953\"/>\n",
       "  <use xlink:href=\"#glyph0-17\" x=\"135.148438\" y=\"298.626953\"/>\n",
       "</g>\n",
       "<g style=\"fill:rgb(0%,0%,0%);fill-opacity:1;\">\n",
       "  <use xlink:href=\"#glyph0-13\" x=\"91.039062\" y=\"346.310547\"/>\n",
       "  <use xlink:href=\"#glyph0-14\" x=\"97.710938\" y=\"346.310547\"/>\n",
       "  <use xlink:href=\"#glyph0-22\" x=\"101.046875\" y=\"346.310547\"/>\n",
       "</g>\n",
       "<g style=\"fill:rgb(0%,0%,0%);fill-opacity:1;\">\n",
       "  <use xlink:href=\"#glyph0-13\" x=\"86.625\" y=\"382.701172\"/>\n",
       "  <use xlink:href=\"#glyph0-14\" x=\"93.296875\" y=\"382.701172\"/>\n",
       "  <use xlink:href=\"#glyph0-18\" x=\"96.632812\" y=\"382.701172\"/>\n",
       "</g>\n",
       "<g style=\"fill:rgb(0%,0%,0%);fill-opacity:1;\">\n",
       "  <use xlink:href=\"#glyph0-13\" x=\"82.210938\" y=\"401.697266\"/>\n",
       "  <use xlink:href=\"#glyph0-14\" x=\"88.882812\" y=\"401.697266\"/>\n",
       "  <use xlink:href=\"#glyph0-23\" x=\"92.21875\" y=\"401.697266\"/>\n",
       "</g>\n",
       "<g clip-path=\"url(#clip1)\" clip-rule=\"nonzero\">\n",
       "<g style=\"fill:rgb(0%,0%,0%);fill-opacity:1;\">\n",
       "  <use xlink:href=\"#glyph0-19\" x=\"75.796875\" y=\"431.537109\"/>\n",
       "</g>\n",
       "</g>\n",
       "</g>\n",
       "</svg>\n"
      ],
      "text/plain": [
       "plot without title"
      ]
     },
     "metadata": {
      "image/svg+xml": {
       "isolated": true
      }
     },
     "output_type": "display_data"
    }
   ],
   "source": [
    "\n",
    "plot(ROCRPerf, colorize = TRUE,print.cutoffs.at = seq(0,1,0.1), text.adj=c(-0.2,1.7))"
   ]
  },
  {
   "cell_type": "code",
   "execution_count": 69,
   "metadata": {
    "collapsed": false
   },
   "outputs": [],
   "source": [
    "set.seed(201)\n",
    "library(caret)"
   ]
  },
  {
   "cell_type": "code",
   "execution_count": 70,
   "metadata": {
    "collapsed": true
   },
   "outputs": [],
   "source": [
    "numFolds = trainControl(method = \"cv\",number = 10)"
   ]
  },
  {
   "cell_type": "code",
   "execution_count": 71,
   "metadata": {
    "collapsed": true
   },
   "outputs": [],
   "source": [
    "cpGrid = expand.grid(.cp=seq(0.001,0.05,0.001))"
   ]
  },
  {
   "cell_type": "code",
   "execution_count": 72,
   "metadata": {
    "collapsed": false
   },
   "outputs": [
    {
     "data": {
      "text/html": [
       "<ol class=list-inline>\n",
       "\t<li>50</li>\n",
       "\t<li>1</li>\n",
       "</ol>\n"
      ],
      "text/latex": [
       "\\begin{enumerate*}\n",
       "\\item 50\n",
       "\\item 1\n",
       "\\end{enumerate*}\n"
      ],
      "text/markdown": [
       "1. 50\n",
       "2. 1\n",
       "\n",
       "\n"
      ],
      "text/plain": [
       "[1] 50  1"
      ]
     },
     "execution_count": 72,
     "metadata": {},
     "output_type": "execute_result"
    }
   ],
   "source": [
    "dim(cpGrid)"
   ]
  },
  {
   "cell_type": "code",
   "execution_count": 73,
   "metadata": {
    "collapsed": false
   },
   "outputs": [
    {
     "data": {
      "text/plain": [
       "CART \n",
       "\n",
       "410 samples\n",
       " 11 predictors\n",
       "  2 classes: '0', '1' \n",
       "\n",
       "No pre-processing\n",
       "Resampling: Cross-Validated (10 fold) \n",
       "Summary of sample sizes: 368, 368, 368, 370, 369, 369, ... \n",
       "Resampling results across tuning parameters:\n",
       "\n",
       "  cp     Accuracy   Kappa      Accuracy SD  Kappa SD \n",
       "  0.001  0.6221312  0.2448321  0.07032469   0.1404483\n",
       "  0.002  0.6221312  0.2448321  0.07032469   0.1404483\n",
       "  0.003  0.6365331  0.2734338  0.07269107   0.1452330\n",
       "  0.004  0.6340331  0.2684338  0.07989234   0.1596618\n",
       "  0.005  0.6340331  0.2684338  0.07989234   0.1596618\n",
       "  0.006  0.6487921  0.2980610  0.07527713   0.1506483\n",
       "  0.007  0.6487921  0.2980610  0.07527713   0.1506483\n",
       "  0.008  0.6487921  0.2980610  0.07527713   0.1506483\n",
       "  0.009  0.6537311  0.3080170  0.07647219   0.1530306\n",
       "  0.010  0.6537311  0.3080170  0.07647219   0.1530306\n",
       "  0.011  0.6583101  0.3173385  0.08708649   0.1745233\n",
       "  0.012  0.6583101  0.3173385  0.08708649   0.1745233\n",
       "  0.013  0.6583101  0.3173385  0.08708649   0.1745233\n",
       "  0.014  0.6632491  0.3272594  0.08455690   0.1695616\n",
       "  0.015  0.6632491  0.3272594  0.08455690   0.1695616\n",
       "  0.016  0.6632491  0.3272594  0.08455690   0.1695616\n",
       "  0.017  0.6609901  0.3231241  0.08079685   0.1618307\n",
       "  0.018  0.6609901  0.3231241  0.08079685   0.1618307\n",
       "  0.019  0.6609901  0.3231241  0.08079685   0.1618307\n",
       "  0.020  0.6560511  0.3137948  0.07942067   0.1592573\n",
       "  0.021  0.6512892  0.3042710  0.08322242   0.1669492\n",
       "  0.022  0.6437892  0.2892710  0.07911989   0.1589478\n",
       "  0.023  0.6437892  0.2892710  0.07911989   0.1589478\n",
       "  0.024  0.6583130  0.3183186  0.08348418   0.1673133\n",
       "  0.025  0.6583130  0.3183186  0.08348418   0.1673133\n",
       "  0.026  0.6583130  0.3183186  0.08348418   0.1673133\n",
       "  0.027  0.6583130  0.3183186  0.08348418   0.1673133\n",
       "  0.028  0.6583130  0.3183186  0.08348418   0.1673133\n",
       "  0.029  0.6583130  0.3183186  0.08348418   0.1673133\n",
       "  0.030  0.6583130  0.3183186  0.08348418   0.1673133\n",
       "  0.031  0.6583130  0.3183186  0.08348418   0.1673133\n",
       "  0.032  0.6583130  0.3183186  0.08348418   0.1673133\n",
       "  0.033  0.6583130  0.3183186  0.08348418   0.1673133\n",
       "  0.034  0.6583130  0.3183186  0.08348418   0.1673133\n",
       "  0.035  0.6583130  0.3183186  0.08348418   0.1673133\n",
       "  0.036  0.6583130  0.3183186  0.08348418   0.1673133\n",
       "  0.037  0.6583130  0.3183186  0.08348418   0.1673133\n",
       "  0.038  0.6583130  0.3183186  0.08348418   0.1673133\n",
       "  0.039  0.6583130  0.3183186  0.08348418   0.1673133\n",
       "  0.040  0.6583130  0.3183186  0.08348418   0.1673133\n",
       "  0.041  0.6583130  0.3183186  0.08348418   0.1673133\n",
       "  0.042  0.6583130  0.3183186  0.08348418   0.1673133\n",
       "  0.043  0.6583130  0.3183186  0.08348418   0.1673133\n",
       "  0.044  0.6583130  0.3183186  0.08348418   0.1673133\n",
       "  0.045  0.6583130  0.3183186  0.08348418   0.1673133\n",
       "  0.046  0.6583130  0.3183186  0.08348418   0.1673133\n",
       "  0.047  0.6583130  0.3183186  0.08348418   0.1673133\n",
       "  0.048  0.6583130  0.3183186  0.08348418   0.1673133\n",
       "  0.049  0.6583130  0.3183186  0.08348418   0.1673133\n",
       "  0.050  0.6583130  0.3183186  0.08348418   0.1673133\n",
       "\n",
       "Accuracy was used to select the optimal model using  the largest value.\n",
       "The final value used for the model was cp = 0.016. "
      ]
     },
     "execution_count": 73,
     "metadata": {},
     "output_type": "execute_result"
    }
   ],
   "source": [
    "train(RaisedFedFunds~PreviousRate+Streak+Unemployment\n",
    "                   +HomeownershipRate+DemocraticPres+MonthsUntilElection,data = training, method = \"rpart\", trControl = numFolds, \n",
    "      tuneGrid = cpGrid)"
   ]
  },
  {
   "cell_type": "code",
   "execution_count": 74,
   "metadata": {
    "collapsed": true
   },
   "outputs": [],
   "source": [
    "Tree1 = rpart(RaisedFedFunds~PreviousRate+Streak+Unemployment\n",
    "                   +HomeownershipRate+DemocraticPres+MonthsUntilElection,data = training,method = \"class\", cp=0.016)"
   ]
  },
  {
   "cell_type": "code",
   "execution_count": 76,
   "metadata": {
    "collapsed": false
   },
   "outputs": [
    {
     "name": "stderr",
     "output_type": "stream",
     "text": [
      "Warning message:\n",
      ": package ‘rpart.plot’ was built under R version 3.3.0"
     ]
    },
    {
     "data": {
      "image/png": "[encoded data removed]",
      "image/svg+xml": [
       "<?xml version=\"1.0\" encoding=\"UTF-8\"?>\n",
       "<svg xmlns=\"http://www.w3.org/2000/svg\" xmlns:xlink=\"http://www.w3.org/1999/xlink\" width=\"504pt\" height=\"504pt\" viewBox=\"0 0 504 504\" version=\"1.1\">\n",
       "<defs>\n",
       "<g>\n",
       "<symbol overflow=\"visible\" id=\"glyph0-0\">\n",
       "<path style=\"stroke:none;\" d=\"\"/>\n",
       "</symbol>\n",
       "<symbol overflow=\"visible\" id=\"glyph0-1\">\n",
       "<path style=\"stroke:none;\" d=\"M 7.28125 -6.078125 C 7.28125 -6.890625 7.109375 -7.421875 6.671875 -7.890625 C 6.078125 -8.546875 5.109375 -8.890625 3.859375 -8.890625 C 1.75 -8.890625 0.546875 -7.90625 0.546875 -6.203125 C 0.546875 -4.84375 1.21875 -4.1875 3 -3.859375 L 4.21875 -3.609375 C 5.421875 -3.390625 5.875 -3.046875 5.875 -2.34375 C 5.875 -1.609375 5.203125 -1.15625 4.109375 -1.15625 C 2.875 -1.15625 2.203125 -1.6875 2.140625 -2.609375 L 0.390625 -2.609375 C 0.484375 -0.75 1.78125 0.28125 4.015625 0.28125 C 6.265625 0.28125 7.59375 -0.78125 7.59375 -2.5625 C 7.59375 -3.9375 6.90625 -4.65625 5.28125 -4.96875 L 3.90625 -5.234375 C 2.625 -5.484375 2.25 -5.734375 2.25 -6.375 C 2.25 -7.03125 2.84375 -7.453125 3.765625 -7.453125 C 4.90625 -7.453125 5.546875 -6.96875 5.609375 -6.078125 Z \"/>\n",
       "</symbol>\n",
       "<symbol overflow=\"visible\" id=\"glyph0-2\">\n",
       "<path style=\"stroke:none;\" d=\"M 3.609375 -6.34375 L 2.671875 -6.34375 L 2.671875 -8.09375 L 1 -8.09375 L 1 -6.34375 L 0.171875 -6.34375 L 0.171875 -5.234375 L 1 -5.234375 L 1 -1.25 C 1 -0.234375 1.53125 0.28125 2.640625 0.28125 C 3.015625 0.28125 3.3125 0.234375 3.609375 0.140625 L 3.609375 -1.03125 C 3.4375 -1.015625 3.34375 -1 3.234375 -1 C 2.78125 -1 2.671875 -1.125 2.671875 -1.703125 L 2.671875 -5.234375 L 3.609375 -5.234375 Z \"/>\n",
       "</symbol>\n",
       "<symbol overflow=\"visible\" id=\"glyph0-3\">\n",
       "<path style=\"stroke:none;\" d=\"M 0.75 -6.484375 L 0.75 0 L 2.4375 0 L 2.4375 -3.4375 C 2.4375 -4.421875 2.921875 -4.921875 3.90625 -4.921875 C 4.09375 -4.921875 4.21875 -4.90625 4.4375 -4.875 L 4.4375 -6.578125 C 4.34375 -6.59375 4.28125 -6.59375 4.234375 -6.59375 C 3.46875 -6.59375 2.796875 -6.078125 2.4375 -5.203125 L 2.4375 -6.484375 Z \"/>\n",
       "</symbol>\n",
       "<symbol overflow=\"visible\" id=\"glyph0-4\">\n",
       "<path style=\"stroke:none;\" d=\"M 6.28125 -2.71875 C 6.296875 -2.859375 6.296875 -2.921875 6.296875 -3 C 6.296875 -3.640625 6.203125 -4.25 6.046875 -4.703125 C 5.609375 -5.875 4.578125 -6.59375 3.265625 -6.59375 C 1.40625 -6.59375 0.265625 -5.25 0.265625 -3.078125 C 0.265625 -1 1.390625 0.28125 3.234375 0.28125 C 4.6875 0.28125 5.859375 -0.546875 6.234375 -1.828125 L 4.578125 -1.828125 C 4.375 -1.3125 3.90625 -1.015625 3.28125 -1.015625 C 2.8125 -1.015625 2.421875 -1.21875 2.1875 -1.578125 C 2.03125 -1.8125 1.96875 -2.09375 1.9375 -2.71875 Z M 1.96875 -3.828125 C 2.078125 -4.8125 2.5 -5.296875 3.234375 -5.296875 C 3.65625 -5.296875 4.046875 -5.09375 4.28125 -4.765625 C 4.4375 -4.53125 4.515625 -4.265625 4.546875 -3.828125 Z \"/>\n",
       "</symbol>\n",
       "<symbol overflow=\"visible\" id=\"glyph0-5\">\n",
       "<path style=\"stroke:none;\" d=\"M 6.28125 -0.203125 C 5.984375 -0.484375 5.90625 -0.65625 5.90625 -1 L 5.90625 -4.59375 C 5.90625 -5.921875 5 -6.59375 3.25 -6.59375 C 1.5 -6.59375 0.59375 -5.84375 0.484375 -4.34375 L 2.09375 -4.34375 C 2.1875 -5.015625 2.453125 -5.234375 3.28125 -5.234375 C 3.9375 -5.234375 4.265625 -5.015625 4.265625 -4.578125 C 4.265625 -4.375 4.15625 -4.171875 3.96875 -4.078125 C 3.75 -3.953125 3.75 -3.953125 2.921875 -3.828125 L 2.25 -3.703125 C 0.953125 -3.484375 0.34375 -2.828125 0.34375 -1.671875 C 0.34375 -1.109375 0.484375 -0.65625 0.796875 -0.34375 C 1.15625 0.046875 1.734375 0.28125 2.296875 0.28125 C 3.03125 0.28125 3.6875 -0.03125 4.265625 -0.640625 C 4.265625 -0.3125 4.3125 -0.1875 4.46875 0 L 6.28125 0 Z M 4.265625 -2.609375 C 4.265625 -1.625 3.78125 -1.078125 2.921875 -1.078125 C 2.359375 -1.078125 2.015625 -1.375 2.015625 -1.859375 C 2.015625 -2.359375 2.28125 -2.609375 2.96875 -2.75 L 3.546875 -2.859375 C 4 -2.9375 4.0625 -2.96875 4.265625 -3.0625 Z \"/>\n",
       "</symbol>\n",
       "<symbol overflow=\"visible\" id=\"glyph0-6\">\n",
       "<path style=\"stroke:none;\" d=\"M 2.390625 -3.953125 L 2.390625 -8.75 L 0.703125 -8.75 L 0.703125 0 L 2.390625 0 L 2.390625 -2.125 L 3.0625 -2.859375 L 4.609375 0 L 6.578125 0 L 4.21875 -4.03125 L 6.421875 -6.484375 L 4.515625 -6.484375 Z \"/>\n",
       "</symbol>\n",
       "<symbol overflow=\"visible\" id=\"glyph0-7\">\n",
       "<path style=\"stroke:none;\" d=\"\"/>\n",
       "</symbol>\n",
       "<symbol overflow=\"visible\" id=\"glyph0-8\">\n",
       "<path style=\"stroke:none;\" d=\"M 6.34375 -5.6875 L 0.484375 -3.515625 L 0.484375 -2.0625 L 6.34375 0.125 L 6.34375 -1.21875 L 1.765625 -2.78125 L 6.34375 -4.375 Z \"/>\n",
       "</symbol>\n",
       "<symbol overflow=\"visible\" id=\"glyph0-9\">\n",
       "<path style=\"stroke:none;\" d=\"M 6.140625 -1.5 L 2.546875 -1.5 C 2.765625 -1.953125 3.03125 -2.203125 4.265625 -3.109375 C 5.75 -4.1875 6.1875 -4.84375 6.1875 -5.984375 C 6.1875 -7.625 5.046875 -8.6875 3.265625 -8.6875 C 1.5 -8.6875 0.46875 -7.640625 0.46875 -5.84375 C 0.46875 -5.765625 0.46875 -5.671875 0.484375 -5.546875 L 2.09375 -5.546875 L 2.09375 -5.8125 C 2.09375 -6.765625 2.53125 -7.3125 3.296875 -7.3125 C 4.046875 -7.3125 4.5 -6.796875 4.5 -5.953125 C 4.5 -5.015625 4.203125 -4.640625 2.328125 -3.3125 C 0.890625 -2.328125 0.4375 -1.578125 0.359375 0 L 6.140625 0 Z \"/>\n",
       "</symbol>\n",
       "<symbol overflow=\"visible\" id=\"glyph0-10\">\n",
       "<path style=\"stroke:none;\" d=\"M 2.5625 -1.75 L 0.765625 -1.75 L 0.765625 0 L 2.5625 0 Z \"/>\n",
       "</symbol>\n",
       "<symbol overflow=\"visible\" id=\"glyph0-11\">\n",
       "<path style=\"stroke:none;\" d=\"M 5.875 -8.515625 L 1.3125 -8.515625 L 0.5625 -3.765625 L 2.078125 -3.765625 C 2.25 -4.1875 2.640625 -4.421875 3.15625 -4.421875 C 4.015625 -4.421875 4.53125 -3.796875 4.53125 -2.765625 C 4.53125 -1.78125 4 -1.15625 3.15625 -1.15625 C 2.421875 -1.15625 2.015625 -1.53125 1.984375 -2.21875 L 0.328125 -2.21875 C 0.34375 -0.734375 1.46875 0.28125 3.125 0.28125 C 4.953125 0.28125 6.203125 -0.96875 6.203125 -2.8125 C 6.203125 -4.546875 5.125 -5.75 3.546875 -5.75 C 2.984375 -5.75 2.5625 -5.609375 2.078125 -5.234375 L 2.359375 -7.015625 L 5.875 -7.015625 Z \"/>\n",
       "</symbol>\n",
       "<symbol overflow=\"visible\" id=\"glyph0-12\">\n",
       "<path style=\"stroke:none;\" d=\"M 3.578125 -4.109375 L 0.3125 -4.109375 L 0.3125 -2.484375 L 3.578125 -2.484375 Z \"/>\n",
       "</symbol>\n",
       "<symbol overflow=\"visible\" id=\"glyph0-13\">\n",
       "<path style=\"stroke:none;\" d=\"M 2.859375 -5.875 L 2.859375 0 L 4.53125 0 L 4.53125 -8.515625 L 3.421875 -8.515625 C 3.15625 -7.5 2.28125 -6.984375 0.8125 -6.984375 L 0.8125 -5.875 Z \"/>\n",
       "</symbol>\n",
       "<symbol overflow=\"visible\" id=\"glyph0-14\">\n",
       "<path style=\"stroke:none;\" d=\"M 6.078125 -3.96875 L 6.078125 0 L 7.890625 0 L 7.890625 -8.75 L 6.078125 -8.75 L 6.078125 -5.46875 L 2.609375 -5.46875 L 2.609375 -8.75 L 0.8125 -8.75 L 0.8125 0 L 2.609375 0 L 2.609375 -3.96875 Z \"/>\n",
       "</symbol>\n",
       "<symbol overflow=\"visible\" id=\"glyph0-15\">\n",
       "<path style=\"stroke:none;\" d=\"M 3.609375 -6.59375 C 1.625 -6.59375 0.421875 -5.28125 0.421875 -3.15625 C 0.421875 -1.015625 1.625 0.28125 3.625 0.28125 C 5.59375 0.28125 6.828125 -1.03125 6.828125 -3.109375 C 6.828125 -5.296875 5.640625 -6.59375 3.609375 -6.59375 Z M 3.625 -5.234375 C 4.546875 -5.234375 5.140625 -4.40625 5.140625 -3.125 C 5.140625 -1.921875 4.53125 -1.078125 3.625 -1.078125 C 2.71875 -1.078125 2.09375 -1.921875 2.09375 -3.15625 C 2.09375 -4.390625 2.71875 -5.234375 3.625 -5.234375 Z \"/>\n",
       "</symbol>\n",
       "<symbol overflow=\"visible\" id=\"glyph0-16\">\n",
       "<path style=\"stroke:none;\" d=\"M 0.71875 -6.484375 L 0.71875 0 L 2.40625 0 L 2.40625 -3.890625 C 2.40625 -4.6875 2.828125 -5.15625 3.546875 -5.15625 C 4.109375 -5.15625 4.46875 -4.84375 4.46875 -4.3125 L 4.46875 0 L 6.140625 0 L 6.140625 -3.890625 C 6.140625 -4.6875 6.578125 -5.15625 7.296875 -5.15625 C 7.859375 -5.15625 8.203125 -4.84375 8.203125 -4.3125 L 8.203125 0 L 9.890625 0 L 9.890625 -4.578125 C 9.890625 -5.84375 9.125 -6.59375 7.828125 -6.59375 C 7.015625 -6.59375 6.4375 -6.296875 5.921875 -5.625 C 5.609375 -6.234375 4.96875 -6.59375 4.15625 -6.59375 C 3.421875 -6.59375 2.9375 -6.34375 2.390625 -5.671875 L 2.390625 -6.484375 Z \"/>\n",
       "</symbol>\n",
       "<symbol overflow=\"visible\" id=\"glyph0-17\">\n",
       "<path style=\"stroke:none;\" d=\"M 7.359375 0 L 9.1875 -6.484375 L 7.453125 -6.484375 L 6.46875 -1.9375 L 5.5 -6.484375 L 3.8125 -6.484375 L 2.828125 -1.9375 L 1.796875 -6.484375 L 0.0625 -6.484375 L 1.890625 0 L 3.609375 0 L 4.640625 -4.578125 L 5.609375 0 Z \"/>\n",
       "</symbol>\n",
       "<symbol overflow=\"visible\" id=\"glyph0-18\">\n",
       "<path style=\"stroke:none;\" d=\"M 0.75 -6.484375 L 0.75 0 L 2.4375 0 L 2.4375 -3.890625 C 2.4375 -4.65625 2.96875 -5.15625 3.796875 -5.15625 C 4.515625 -5.15625 4.875 -4.765625 4.875 -4 L 4.875 0 L 6.546875 0 L 6.546875 -4.34375 C 6.546875 -5.765625 5.765625 -6.59375 4.375 -6.59375 C 3.5 -6.59375 2.921875 -6.265625 2.4375 -5.546875 L 2.4375 -6.484375 Z \"/>\n",
       "</symbol>\n",
       "<symbol overflow=\"visible\" id=\"glyph0-19\">\n",
       "<path style=\"stroke:none;\" d=\"M 0.484375 0.125 L 6.34375 -2.046875 L 6.34375 -3.5 L 0.484375 -5.6875 L 0.484375 -4.359375 L 5.0625 -2.78125 L 0.484375 -1.1875 Z \"/>\n",
       "</symbol>\n",
       "<symbol overflow=\"visible\" id=\"glyph0-20\">\n",
       "<path style=\"stroke:none;\" d=\"M 6.40625 -4.9375 L 0.59375 -4.9375 L 0.59375 -3.5 L 6.40625 -3.5 Z M 6.40625 -2.046875 L 0.59375 -2.046875 L 0.59375 -0.625 L 6.40625 -0.625 Z \"/>\n",
       "</symbol>\n",
       "<symbol overflow=\"visible\" id=\"glyph0-21\">\n",
       "<path style=\"stroke:none;\" d=\"M 6.078125 -6.578125 C 6 -7.125 5.890625 -7.40625 5.671875 -7.71875 C 5.234375 -8.328125 4.453125 -8.6875 3.53125 -8.6875 C 2.46875 -8.6875 1.609375 -8.21875 1.09375 -7.375 C 0.59375 -6.546875 0.390625 -5.59375 0.390625 -4.046875 C 0.390625 -2.578125 0.5625 -1.671875 1 -0.984375 C 1.484375 -0.1875 2.375 0.28125 3.390625 0.28125 C 5.078125 0.28125 6.234375 -1 6.234375 -2.84375 C 6.234375 -4.46875 5.21875 -5.609375 3.75 -5.609375 C 3.0625 -5.609375 2.59375 -5.40625 2.0625 -4.84375 C 2.09375 -5.75 2.09375 -5.75 2.171875 -6.109375 C 2.328125 -6.875 2.8125 -7.328125 3.484375 -7.328125 C 4.015625 -7.328125 4.3125 -7.109375 4.53125 -6.578125 Z M 3.34375 -4.28125 C 4.125 -4.28125 4.625 -3.671875 4.625 -2.734375 C 4.625 -1.828125 4.078125 -1.15625 3.34375 -1.15625 C 2.5625 -1.15625 2.046875 -1.796875 2.046875 -2.703125 C 2.046875 -3.640625 2.5625 -4.28125 3.34375 -4.28125 Z \"/>\n",
       "</symbol>\n",
       "<symbol overflow=\"visible\" id=\"glyph0-22\">\n",
       "<path style=\"stroke:none;\" d=\"M 6.34375 -8.515625 L 0.34375 -8.515625 L 0.34375 -7.015625 L 4.578125 -7.015625 C 4.0625 -6.453125 3.046875 -4.90625 2.71875 -4.15625 C 2.125 -2.921875 1.828125 -1.8125 1.59375 0 L 3.28125 0 C 3.4375 -2.6875 4.3125 -4.75 6.34375 -7.1875 Z \"/>\n",
       "</symbol>\n",
       "<symbol overflow=\"visible\" id=\"glyph0-23\">\n",
       "<path style=\"stroke:none;\" d=\"M 2.71875 -3.125 L 4.953125 -3.125 C 6.5625 -3.125 7.59375 -4.265625 7.59375 -6.03125 C 7.59375 -7.78125 6.59375 -8.75 4.78125 -8.75 L 0.90625 -8.75 L 0.90625 0 L 2.71875 0 Z M 2.71875 -4.625 L 2.71875 -7.25 L 4.390625 -7.25 C 5.359375 -7.25 5.796875 -6.828125 5.796875 -5.921875 C 5.796875 -5.046875 5.359375 -4.625 4.390625 -4.625 Z \"/>\n",
       "</symbol>\n",
       "<symbol overflow=\"visible\" id=\"glyph0-24\">\n",
       "<path style=\"stroke:none;\" d=\"M 4.203125 0 L 6.4375 -6.484375 L 4.65625 -6.484375 L 3.34375 -1.734375 L 1.9375 -6.484375 L 0.171875 -6.484375 L 2.4375 0 Z \"/>\n",
       "</symbol>\n",
       "<symbol overflow=\"visible\" id=\"glyph0-25\">\n",
       "<path style=\"stroke:none;\" d=\"M 2.484375 -6.484375 L 0.796875 -6.484375 L 0.796875 0 L 2.484375 0 Z M 2.484375 -8.75 L 0.796875 -8.75 L 0.796875 -7.25 L 2.484375 -7.25 Z \"/>\n",
       "</symbol>\n",
       "<symbol overflow=\"visible\" id=\"glyph0-26\">\n",
       "<path style=\"stroke:none;\" d=\"M 6.484375 0 L 6.484375 -6.484375 L 4.8125 -6.484375 L 4.8125 -2.421875 C 4.8125 -1.65625 4.265625 -1.15625 3.453125 -1.15625 C 2.734375 -1.15625 2.375 -1.53125 2.375 -2.3125 L 2.375 -6.484375 L 0.703125 -6.484375 L 0.703125 -1.96875 C 0.703125 -0.546875 1.484375 0.28125 2.875 0.28125 C 3.75 0.28125 4.328125 -0.046875 4.8125 -0.765625 L 4.8125 0 Z \"/>\n",
       "</symbol>\n",
       "<symbol overflow=\"visible\" id=\"glyph0-27\">\n",
       "<path style=\"stroke:none;\" d=\"M 6.0625 -4.390625 C 6.03125 -5.765625 4.984375 -6.59375 3.234375 -6.59375 C 1.59375 -6.59375 0.578125 -5.765625 0.578125 -4.421875 C 0.578125 -4 0.703125 -3.625 0.9375 -3.375 C 1.15625 -3.140625 1.375 -3.03125 1.984375 -2.828125 L 4 -2.203125 C 4.421875 -2.078125 4.5625 -1.9375 4.5625 -1.6875 C 4.5625 -1.28125 4.09375 -1.046875 3.3125 -1.046875 C 2.875 -1.046875 2.53125 -1.125 2.3125 -1.265625 C 2.140625 -1.40625 2.0625 -1.53125 1.984375 -1.890625 L 0.34375 -1.890625 C 0.390625 -0.46875 1.4375 0.28125 3.40625 0.28125 C 4.3125 0.28125 4.984375 0.078125 5.46875 -0.296875 C 5.953125 -0.6875 6.234375 -1.28125 6.234375 -1.921875 C 6.234375 -2.765625 5.8125 -3.296875 4.96875 -3.546875 L 2.84375 -4.15625 C 2.375 -4.3125 2.25 -4.40625 2.25 -4.671875 C 2.25 -5.03125 2.640625 -5.265625 3.234375 -5.265625 C 4.03125 -5.265625 4.421875 -4.984375 4.4375 -4.390625 Z \"/>\n",
       "</symbol>\n",
       "<symbol overflow=\"visible\" id=\"glyph0-28\">\n",
       "<path style=\"stroke:none;\" d=\"M 2.609375 -3.796875 C 3.1875 -3.796875 3.296875 -3.796875 3.59375 -3.71875 C 4.15625 -3.5625 4.515625 -3.078125 4.515625 -2.453125 C 4.515625 -1.703125 3.984375 -1.15625 3.25 -1.15625 C 2.453125 -1.15625 2.03125 -1.625 1.984375 -2.5 L 0.34375 -2.5 C 0.359375 -0.796875 1.46875 0.28125 3.21875 0.28125 C 5.03125 0.28125 6.1875 -0.796875 6.1875 -2.453125 C 6.1875 -3.4375 5.765625 -4.09375 4.796875 -4.5625 C 5.59375 -5.046875 5.921875 -5.59375 5.921875 -6.375 C 5.921875 -7.78125 4.859375 -8.6875 3.21875 -8.6875 C 2.25 -8.6875 1.421875 -8.359375 0.953125 -7.734375 C 0.609375 -7.3125 0.453125 -6.734375 0.453125 -5.96875 L 0.453125 -5.828125 L 2.015625 -5.828125 C 2.03125 -6.28125 2.0625 -6.515625 2.140625 -6.734375 C 2.296875 -7.109375 2.6875 -7.328125 3.1875 -7.328125 C 3.859375 -7.328125 4.234375 -6.921875 4.234375 -6.21875 C 4.234375 -5.359375 3.75 -4.9375 2.75 -4.9375 L 2.609375 -4.9375 Z \"/>\n",
       "</symbol>\n",
       "<symbol overflow=\"visible\" id=\"glyph0-29\">\n",
       "<path style=\"stroke:none;\" d=\"M 4.90625 -4.625 C 5.203125 -4.78125 5.328125 -4.875 5.453125 -4.984375 C 5.8125 -5.3125 6.015625 -5.828125 6.015625 -6.390625 C 6.015625 -7.71875 4.859375 -8.6875 3.28125 -8.6875 C 1.703125 -8.6875 0.546875 -7.71875 0.546875 -6.375 C 0.546875 -5.5625 0.890625 -5.046875 1.65625 -4.625 C 0.671875 -4.109375 0.265625 -3.453125 0.265625 -2.453125 C 0.265625 -0.84375 1.5 0.28125 3.28125 0.28125 C 5.0625 0.28125 6.296875 -0.84375 6.296875 -2.453125 C 6.296875 -3.453125 5.890625 -4.109375 4.90625 -4.625 Z M 3.296875 -7.328125 C 4.046875 -7.328125 4.5625 -6.875 4.5625 -6.21875 C 4.5625 -5.5625 4.03125 -5.09375 3.296875 -5.09375 C 2.5625 -5.09375 2.03125 -5.5625 2.03125 -6.234375 C 2.03125 -6.875 2.546875 -7.328125 3.296875 -7.328125 Z M 3.28125 -3.953125 C 4.109375 -3.953125 4.625 -3.40625 4.625 -2.515625 C 4.625 -1.703125 4.09375 -1.15625 3.28125 -1.15625 C 2.453125 -1.15625 1.9375 -1.703125 1.9375 -2.546875 C 1.9375 -3.40625 2.46875 -3.953125 3.28125 -3.953125 Z \"/>\n",
       "</symbol>\n",
       "<symbol overflow=\"visible\" id=\"glyph0-30\">\n",
       "<path style=\"stroke:none;\" d=\"M 6.265625 -3.28125 L 5.375 -3.28125 L 5.375 -8.515625 L 3.390625 -8.515625 L 0.28125 -3.296875 L 0.28125 -1.890625 L 3.703125 -1.890625 L 3.703125 0 L 5.375 0 L 5.375 -1.890625 L 6.265625 -1.890625 Z M 3.703125 -3.28125 L 1.46875 -3.28125 L 3.703125 -6.90625 Z \"/>\n",
       "</symbol>\n",
       "<symbol overflow=\"visible\" id=\"glyph0-31\">\n",
       "<path style=\"stroke:none;\" d=\"M 6.046875 -8.75 L 6.046875 -2.8125 C 6.046875 -1.765625 5.515625 -1.265625 4.375 -1.265625 C 3.25 -1.265625 2.71875 -1.765625 2.71875 -2.8125 L 2.71875 -8.75 L 0.90625 -8.75 L 0.90625 -2.8125 C 0.90625 -1.84375 1.171875 -1.140625 1.765625 -0.609375 C 2.40625 -0.03125 3.328125 0.28125 4.375 0.28125 C 5.4375 0.28125 6.359375 -0.03125 7 -0.609375 C 7.578125 -1.140625 7.84375 -1.84375 7.84375 -2.8125 L 7.84375 -8.75 Z \"/>\n",
       "</symbol>\n",
       "<symbol overflow=\"visible\" id=\"glyph0-32\">\n",
       "<path style=\"stroke:none;\" d=\"M 2.375 -6.484375 L 0.703125 -6.484375 L 0.703125 2.609375 L 2.375 2.609375 L 2.375 -0.765625 C 2.78125 -0.046875 3.359375 0.28125 4.171875 0.28125 C 5.734375 0.28125 6.890625 -1.171875 6.890625 -3.140625 C 6.890625 -4.0625 6.625 -4.96875 6.1875 -5.5625 C 5.765625 -6.1875 4.953125 -6.59375 4.171875 -6.59375 C 3.359375 -6.59375 2.78125 -6.234375 2.375 -5.515625 Z M 3.796875 -5.1875 C 4.640625 -5.1875 5.203125 -4.359375 5.203125 -3.125 C 5.203125 -1.9375 4.625 -1.109375 3.796875 -1.109375 C 2.953125 -1.109375 2.375 -1.9375 2.375 -3.140625 C 2.375 -4.359375 2.953125 -5.1875 3.796875 -5.1875 Z \"/>\n",
       "</symbol>\n",
       "<symbol overflow=\"visible\" id=\"glyph0-33\">\n",
       "<path style=\"stroke:none;\" d=\"M 2.484375 -8.75 L 0.796875 -8.75 L 0.796875 0 L 2.484375 0 Z \"/>\n",
       "</symbol>\n",
       "<symbol overflow=\"visible\" id=\"glyph0-34\">\n",
       "<path style=\"stroke:none;\" d=\"M 4.734375 -6.484375 L 3.390625 -1.765625 L 1.953125 -6.484375 L 0.109375 -6.484375 L 2.515625 0.265625 L 2.515625 0.3125 C 2.515625 0.921875 2.0625 1.390625 1.46875 1.390625 C 1.34375 1.390625 1.25 1.375 1.03125 1.3125 L 1.03125 2.578125 C 1.28125 2.609375 1.421875 2.625 1.625 2.625 C 2.046875 2.625 2.5625 2.546875 2.84375 2.421875 C 3.3125 2.234375 3.515625 1.953125 3.796875 1.1875 L 6.453125 -6.484375 Z \"/>\n",
       "</symbol>\n",
       "<symbol overflow=\"visible\" id=\"glyph1-0\">\n",
       "<path style=\"stroke:none;\" d=\"\"/>\n",
       "</symbol>\n",
       "<symbol overflow=\"visible\" id=\"glyph1-1\">\n",
       "<path style=\"stroke:none;\" d=\"M 3.296875 -8.515625 C 2.515625 -8.515625 1.78125 -8.15625 1.34375 -7.578125 C 0.796875 -6.828125 0.515625 -5.6875 0.515625 -4.109375 C 0.515625 -1.25 1.46875 0.28125 3.296875 0.28125 C 5.09375 0.28125 6.078125 -1.25 6.078125 -4.046875 C 6.078125 -5.703125 5.8125 -6.796875 5.25 -7.578125 C 4.8125 -8.171875 4.109375 -8.515625 3.296875 -8.515625 Z M 3.296875 -7.578125 C 4.4375 -7.578125 5 -6.421875 5 -4.140625 C 5 -1.734375 4.453125 -0.59375 3.28125 -0.59375 C 2.15625 -0.59375 1.59375 -1.78125 1.59375 -4.109375 C 1.59375 -6.4375 2.15625 -7.578125 3.296875 -7.578125 Z \"/>\n",
       "</symbol>\n",
       "<symbol overflow=\"visible\" id=\"glyph1-2\">\n",
       "<path style=\"stroke:none;\" d=\"M 3.109375 -6.0625 L 3.109375 0 L 4.15625 0 L 4.15625 -8.515625 L 3.46875 -8.515625 C 3.09375 -7.203125 2.859375 -7.015625 1.21875 -6.8125 L 1.21875 -6.0625 Z \"/>\n",
       "</symbol>\n",
       "<symbol overflow=\"visible\" id=\"glyph2-0\">\n",
       "<path style=\"stroke:none;\" d=\"\"/>\n",
       "</symbol>\n",
       "<symbol overflow=\"visible\" id=\"glyph2-1\">\n",
       "<path style=\"stroke:none;\" d=\"M 4.8125 -5.03125 L 2.578125 -1.125 L 2.125 -5.03125 L 1.265625 -5.03125 L 1.921875 0.03125 L 1.421875 0.8125 C 1.15625 1.21875 1 1.3125 0.65625 1.3125 C 0.5625 1.3125 0.484375 1.3125 0.234375 1.28125 L 0.078125 2 C 0.25 2.078125 0.359375 2.09375 0.546875 2.09375 C 1.234375 2.09375 1.71875 1.765625 2.125 1.0625 L 5.65625 -5.03125 Z \"/>\n",
       "</symbol>\n",
       "<symbol overflow=\"visible\" id=\"glyph2-2\">\n",
       "<path style=\"stroke:none;\" d=\"M 5.40625 -2.25 L 5.4375 -2.40625 C 5.515625 -2.875 5.5625 -3.265625 5.5625 -3.53125 C 5.5625 -4.453125 4.765625 -5.171875 3.734375 -5.171875 C 2.890625 -5.171875 2.09375 -4.78125 1.609375 -4.140625 C 1.15625 -3.53125 0.8125 -2.4375 0.8125 -1.65625 C 0.8125 -1.140625 1.03125 -0.609375 1.40625 -0.265625 C 1.734375 0.0625 2.15625 0.21875 2.703125 0.21875 C 3.859375 0.21875 4.84375 -0.484375 5.140625 -1.53125 L 4.34375 -1.53125 C 3.984375 -0.859375 3.484375 -0.515625 2.84375 -0.515625 C 2.078125 -0.515625 1.65625 -0.984375 1.65625 -1.796875 C 1.65625 -2 1.65625 -2.09375 1.703125 -2.25 Z M 1.875 -2.9375 C 2.125 -3.8125 2.828125 -4.4375 3.609375 -4.4375 C 4.28125 -4.4375 4.71875 -3.96875 4.71875 -3.25 C 4.71875 -3.15625 4.703125 -3.09375 4.6875 -2.9375 Z \"/>\n",
       "</symbol>\n",
       "<symbol overflow=\"visible\" id=\"glyph2-3\">\n",
       "<path style=\"stroke:none;\" d=\"M 4.9375 -3.625 C 4.984375 -3.828125 4.984375 -3.921875 4.984375 -4.03125 C 4.984375 -4.703125 4.34375 -5.171875 3.421875 -5.171875 C 2.734375 -5.171875 2.15625 -4.96875 1.75 -4.59375 C 1.40625 -4.265625 1.1875 -3.765625 1.1875 -3.3125 C 1.1875 -2.71875 1.515625 -2.453125 2.5 -2.1875 L 3.21875 -2 C 3.53125 -1.921875 3.671875 -1.859375 3.765625 -1.75 C 3.828125 -1.671875 3.890625 -1.53125 3.890625 -1.4375 C 3.890625 -1.265625 3.734375 -0.96875 3.578125 -0.84375 C 3.34375 -0.640625 2.921875 -0.515625 2.515625 -0.515625 C 1.859375 -0.515625 1.484375 -0.78125 1.484375 -1.25 C 1.484375 -1.3125 1.484375 -1.40625 1.5 -1.5 L 0.640625 -1.5 C 0.59375 -1.28125 0.578125 -1.15625 0.578125 -1 C 0.578125 -0.234375 1.25 0.21875 2.375 0.21875 C 3.796875 0.21875 4.734375 -0.515625 4.734375 -1.65625 C 4.734375 -2.25 4.40625 -2.546875 3.5625 -2.765625 L 2.84375 -2.9375 C 2.296875 -3.078125 2.03125 -3.265625 2.03125 -3.515625 C 2.03125 -3.71875 2.140625 -3.953125 2.3125 -4.109375 C 2.546875 -4.34375 2.828125 -4.4375 3.25 -4.4375 C 3.8125 -4.4375 4.140625 -4.21875 4.140625 -3.84375 C 4.140625 -3.765625 4.140625 -3.703125 4.125 -3.625 Z \"/>\n",
       "</symbol>\n",
       "<symbol overflow=\"visible\" id=\"glyph2-4\">\n",
       "<path style=\"stroke:none;\" d=\"M 1.734375 -5.03125 L 0.671875 0 L 1.484375 0 L 2.0625 -2.765625 C 2.296875 -3.828125 2.96875 -4.484375 3.828125 -4.484375 C 4.3125 -4.484375 4.65625 -4.140625 4.65625 -3.703125 C 4.65625 -3.640625 4.640625 -3.5 4.609375 -3.34375 L 3.890625 0 L 4.703125 0 L 5.46875 -3.609375 C 5.5 -3.734375 5.5 -3.84375 5.5 -3.96875 C 5.5 -4.703125 5 -5.171875 4.203125 -5.171875 C 3.46875 -5.171875 2.84375 -4.90625 2.34375 -4.40625 L 2.46875 -5.03125 Z \"/>\n",
       "</symbol>\n",
       "<symbol overflow=\"visible\" id=\"glyph2-5\">\n",
       "<path style=\"stroke:none;\" d=\"M 3.6875 -5.171875 C 2.796875 -5.171875 2 -4.765625 1.515625 -4.0625 C 1.078125 -3.4375 0.765625 -2.390625 0.765625 -1.578125 C 0.765625 -0.515625 1.5 0.21875 2.578125 0.21875 C 3.5 0.21875 4.234375 -0.15625 4.765625 -0.890625 C 5.203125 -1.5 5.53125 -2.546875 5.53125 -3.375 C 5.53125 -3.890625 5.328125 -4.375 5 -4.703125 C 4.671875 -5.015625 4.234375 -5.171875 3.6875 -5.171875 Z M 3.5625 -4.4375 C 4.265625 -4.4375 4.6875 -3.96875 4.6875 -3.1875 C 4.6875 -2.625 4.515625 -2 4.265625 -1.53125 C 3.890625 -0.859375 3.375 -0.515625 2.71875 -0.515625 C 2.03125 -0.515625 1.609375 -1 1.609375 -1.765625 C 1.609375 -2.3125 1.78125 -2.9375 2.03125 -3.421875 C 2.390625 -4.078125 2.921875 -4.4375 3.5625 -4.4375 Z \"/>\n",
       "</symbol>\n",
       "</g>\n",
       "</defs>\n",
       "<g id=\"surface167\">\n",
       "<rect x=\"0\" y=\"0\" width=\"504\" height=\"504\" style=\"fill:rgb(100%,100%,100%);fill-opacity:1;stroke:none;\"/>\n",
       "<path style=\"fill:none;stroke-width:0.75;stroke-linecap:butt;stroke-linejoin:round;stroke:rgb(0%,0%,0%);stroke-opacity:1;stroke-miterlimit:10;\" d=\"M 153.792969 169.722656 L 195.394531 114.960938 L 205.796875 114.960938 \"/>\n",
       "<path style=\"fill:none;stroke-width:0.75;stroke-linecap:butt;stroke-linejoin:round;stroke:rgb(0%,0%,0%);stroke-opacity:1;stroke-miterlimit:10;\" d=\"M 101.417969 214.417969 L 143.316406 171.152344 L 153.792969 171.152344 \"/>\n",
       "<path style=\"fill:none;stroke-width:0.75;stroke-linecap:butt;stroke-linejoin:round;stroke:rgb(0%,0%,0%);stroke-opacity:1;stroke-miterlimit:10;\" d=\"M 206.171875 225.914062 L 164.269531 171.152344 L 153.792969 171.152344 \"/>\n",
       "<path style=\"fill:none;stroke-width:0.75;stroke-linecap:butt;stroke-linejoin:round;stroke:rgb(0%,0%,0%);stroke-opacity:1;stroke-miterlimit:10;\" d=\"M 150.050781 270.609375 L 194.945312 227.34375 L 206.171875 227.34375 \"/>\n",
       "<path style=\"fill:none;stroke-width:0.75;stroke-linecap:butt;stroke-linejoin:round;stroke:rgb(0%,0%,0%);stroke-opacity:1;stroke-miterlimit:10;\" d=\"M 262.289062 282.105469 L 217.394531 227.34375 L 206.171875 227.34375 \"/>\n",
       "<path style=\"fill:none;stroke-width:0.75;stroke-linecap:butt;stroke-linejoin:round;stroke:rgb(0%,0%,0%);stroke-opacity:1;stroke-miterlimit:10;\" d=\"M 168.757812 338.292969 L 243.582031 283.535156 L 262.289062 283.535156 \"/>\n",
       "<path style=\"fill:none;stroke-width:0.75;stroke-linecap:butt;stroke-linejoin:round;stroke:rgb(0%,0%,0%);stroke-opacity:1;stroke-miterlimit:10;\" d=\"M 121.992188 382.992188 L 159.40625 339.726562 L 168.757812 339.726562 \"/>\n",
       "<path style=\"fill:none;stroke-width:0.75;stroke-linecap:butt;stroke-linejoin:round;stroke:rgb(0%,0%,0%);stroke-opacity:1;stroke-miterlimit:10;\" d=\"M 215.523438 382.992188 L 178.109375 339.726562 L 168.757812 339.726562 \"/>\n",
       "<path style=\"fill:none;stroke-width:0.75;stroke-linecap:butt;stroke-linejoin:round;stroke:rgb(0%,0%,0%);stroke-opacity:1;stroke-miterlimit:10;\" d=\"M 355.816406 338.292969 L 280.996094 283.535156 L 262.289062 283.535156 \"/>\n",
       "<path style=\"fill:none;stroke-width:0.75;stroke-linecap:butt;stroke-linejoin:round;stroke:rgb(0%,0%,0%);stroke-opacity:1;stroke-miterlimit:10;\" d=\"M 309.054688 382.992188 L 346.464844 339.726562 L 355.816406 339.726562 \"/>\n",
       "<path style=\"fill:none;stroke-width:0.75;stroke-linecap:butt;stroke-linejoin:round;stroke:rgb(0%,0%,0%);stroke-opacity:1;stroke-miterlimit:10;\" d=\"M 402.582031 382.992188 L 365.171875 339.726562 L 355.816406 339.726562 \"/>\n",
       "<path style=\"fill:none;stroke-width:0.75;stroke-linecap:butt;stroke-linejoin:round;stroke:rgb(0%,0%,0%);stroke-opacity:1;stroke-miterlimit:10;\" d=\"M 257.800781 158.226562 L 216.195312 114.960938 L 205.796875 114.960938 \"/>\n",
       "<path style=\" stroke:none;fill-rule:nonzero;fill:rgb(100%,100%,100%);fill-opacity:1;\" d=\"M 167.277344 119.269531 L 167.277344 102.039062 L 244.316406 102.039062 L 244.316406 119.269531 Z \"/>\n",
       "<path style=\" stroke:none;fill-rule:nonzero;fill:rgb(100%,100%,100%);fill-opacity:1;\" d=\"M 111.769531 175.460938 L 111.769531 158.226562 L 195.816406 158.226562 L 195.816406 175.460938 Z \"/>\n",
       "<path style=\" stroke:none;fill-rule:nonzero;fill:rgb(100%,100%,100%);fill-opacity:1;\" d=\"M 152.242188 231.652344 L 152.242188 214.417969 L 260.097656 214.417969 L 260.097656 231.652344 Z \"/>\n",
       "<path style=\" stroke:none;fill-rule:nonzero;fill:rgb(100%,100%,100%);fill-opacity:1;\" d=\"M 213.351562 287.84375 L 213.351562 270.609375 L 311.222656 270.609375 L 311.222656 287.84375 Z \"/>\n",
       "<path style=\" stroke:none;fill-rule:nonzero;fill:rgb(100%,100%,100%);fill-opacity:1;\" d=\"M 123.328125 344.03125 L 123.328125 326.800781 L 214.191406 326.800781 L 214.191406 344.03125 Z \"/>\n",
       "<path style=\" stroke:none;fill-rule:nonzero;fill:rgb(100%,100%,100%);fill-opacity:1;\" d=\"M 303.253906 344.03125 L 303.253906 326.800781 L 408.382812 326.800781 L 408.382812 344.03125 Z \"/>\n",
       "<g style=\"fill:rgb(0%,0%,0%);fill-opacity:1;\">\n",
       "  <use xlink:href=\"#glyph0-1\" x=\"171.796875\" y=\"114.400391\"/>\n",
       "  <use xlink:href=\"#glyph0-2\" x=\"179.800781\" y=\"114.400391\"/>\n",
       "  <use xlink:href=\"#glyph0-3\" x=\"183.796875\" y=\"114.400391\"/>\n",
       "  <use xlink:href=\"#glyph0-4\" x=\"188.464844\" y=\"114.400391\"/>\n",
       "  <use xlink:href=\"#glyph0-5\" x=\"195.136719\" y=\"114.400391\"/>\n",
       "  <use xlink:href=\"#glyph0-6\" x=\"201.808594\" y=\"114.400391\"/>\n",
       "  <use xlink:href=\"#glyph0-7\" x=\"208.480469\" y=\"114.400391\"/>\n",
       "  <use xlink:href=\"#glyph0-8\" x=\"211.816406\" y=\"114.400391\"/>\n",
       "  <use xlink:href=\"#glyph0-7\" x=\"218.824219\" y=\"114.400391\"/>\n",
       "  <use xlink:href=\"#glyph0-9\" x=\"222.160156\" y=\"114.400391\"/>\n",
       "  <use xlink:href=\"#glyph0-10\" x=\"228.832031\" y=\"114.400391\"/>\n",
       "  <use xlink:href=\"#glyph0-11\" x=\"232.167969\" y=\"114.400391\"/>\n",
       "</g>\n",
       "<g style=\"fill:rgb(0%,0%,0%);fill-opacity:1;\">\n",
       "  <use xlink:href=\"#glyph0-1\" x=\"117.792969\" y=\"170.591797\"/>\n",
       "  <use xlink:href=\"#glyph0-2\" x=\"125.796875\" y=\"170.591797\"/>\n",
       "  <use xlink:href=\"#glyph0-3\" x=\"129.792969\" y=\"170.591797\"/>\n",
       "  <use xlink:href=\"#glyph0-4\" x=\"134.460938\" y=\"170.591797\"/>\n",
       "  <use xlink:href=\"#glyph0-5\" x=\"141.132812\" y=\"170.591797\"/>\n",
       "  <use xlink:href=\"#glyph0-6\" x=\"147.804688\" y=\"170.591797\"/>\n",
       "  <use xlink:href=\"#glyph0-7\" x=\"154.476562\" y=\"170.591797\"/>\n",
       "  <use xlink:href=\"#glyph0-8\" x=\"157.8125\" y=\"170.591797\"/>\n",
       "  <use xlink:href=\"#glyph0-7\" x=\"164.820312\" y=\"170.591797\"/>\n",
       "  <use xlink:href=\"#glyph0-12\" x=\"168.15625\" y=\"170.591797\"/>\n",
       "  <use xlink:href=\"#glyph0-13\" x=\"172.152344\" y=\"170.591797\"/>\n",
       "  <use xlink:href=\"#glyph0-10\" x=\"178.824219\" y=\"170.591797\"/>\n",
       "  <use xlink:href=\"#glyph0-11\" x=\"182.160156\" y=\"170.591797\"/>\n",
       "</g>\n",
       "<g style=\"fill:rgb(0%,0%,0%);fill-opacity:1;\">\n",
       "  <use xlink:href=\"#glyph0-14\" x=\"156.671875\" y=\"226.783203\"/>\n",
       "  <use xlink:href=\"#glyph0-15\" x=\"165.335938\" y=\"226.783203\"/>\n",
       "  <use xlink:href=\"#glyph0-16\" x=\"172.667969\" y=\"226.783203\"/>\n",
       "  <use xlink:href=\"#glyph0-4\" x=\"183.335938\" y=\"226.783203\"/>\n",
       "  <use xlink:href=\"#glyph0-15\" x=\"190.007812\" y=\"226.783203\"/>\n",
       "  <use xlink:href=\"#glyph0-17\" x=\"197.339844\" y=\"226.783203\"/>\n",
       "  <use xlink:href=\"#glyph0-18\" x=\"206.675781\" y=\"226.783203\"/>\n",
       "  <use xlink:href=\"#glyph0-4\" x=\"214.007812\" y=\"226.783203\"/>\n",
       "  <use xlink:href=\"#glyph0-7\" x=\"220.679688\" y=\"226.783203\"/>\n",
       "  <use xlink:href=\"#glyph0-19\" x=\"224.015625\" y=\"226.783203\"/>\n",
       "  <use xlink:href=\"#glyph0-20\" x=\"231.023438\" y=\"226.783203\"/>\n",
       "  <use xlink:href=\"#glyph0-7\" x=\"238.03125\" y=\"226.783203\"/>\n",
       "  <use xlink:href=\"#glyph0-21\" x=\"241.367188\" y=\"226.783203\"/>\n",
       "  <use xlink:href=\"#glyph0-22\" x=\"248.039062\" y=\"226.783203\"/>\n",
       "</g>\n",
       "<g style=\"fill:rgb(0%,0%,0%);fill-opacity:1;\">\n",
       "  <use xlink:href=\"#glyph0-23\" x=\"217.789062\" y=\"282.974609\"/>\n",
       "  <use xlink:href=\"#glyph0-3\" x=\"225.792969\" y=\"282.974609\"/>\n",
       "  <use xlink:href=\"#glyph0-4\" x=\"230.460938\" y=\"282.974609\"/>\n",
       "  <use xlink:href=\"#glyph0-24\" x=\"237.132812\" y=\"282.974609\"/>\n",
       "  <use xlink:href=\"#glyph0-25\" x=\"243.804688\" y=\"282.974609\"/>\n",
       "  <use xlink:href=\"#glyph0-15\" x=\"247.140625\" y=\"282.974609\"/>\n",
       "  <use xlink:href=\"#glyph0-26\" x=\"254.472656\" y=\"282.974609\"/>\n",
       "  <use xlink:href=\"#glyph0-27\" x=\"261.804688\" y=\"282.974609\"/>\n",
       "  <use xlink:href=\"#glyph0-7\" x=\"268.476562\" y=\"282.974609\"/>\n",
       "  <use xlink:href=\"#glyph0-19\" x=\"271.8125\" y=\"282.974609\"/>\n",
       "  <use xlink:href=\"#glyph0-20\" x=\"278.820312\" y=\"282.974609\"/>\n",
       "  <use xlink:href=\"#glyph0-7\" x=\"285.828125\" y=\"282.974609\"/>\n",
       "  <use xlink:href=\"#glyph0-11\" x=\"289.164062\" y=\"282.974609\"/>\n",
       "  <use xlink:href=\"#glyph0-10\" x=\"295.835938\" y=\"282.974609\"/>\n",
       "  <use xlink:href=\"#glyph0-28\" x=\"299.171875\" y=\"282.974609\"/>\n",
       "</g>\n",
       "<g style=\"fill:rgb(0%,0%,0%);fill-opacity:1;\">\n",
       "  <use xlink:href=\"#glyph0-23\" x=\"127.757812\" y=\"339.166016\"/>\n",
       "  <use xlink:href=\"#glyph0-3\" x=\"135.761719\" y=\"339.166016\"/>\n",
       "  <use xlink:href=\"#glyph0-4\" x=\"140.429688\" y=\"339.166016\"/>\n",
       "  <use xlink:href=\"#glyph0-24\" x=\"147.101562\" y=\"339.166016\"/>\n",
       "  <use xlink:href=\"#glyph0-25\" x=\"153.773438\" y=\"339.166016\"/>\n",
       "  <use xlink:href=\"#glyph0-15\" x=\"157.109375\" y=\"339.166016\"/>\n",
       "  <use xlink:href=\"#glyph0-26\" x=\"164.441406\" y=\"339.166016\"/>\n",
       "  <use xlink:href=\"#glyph0-27\" x=\"171.773438\" y=\"339.166016\"/>\n",
       "  <use xlink:href=\"#glyph0-7\" x=\"178.445312\" y=\"339.166016\"/>\n",
       "  <use xlink:href=\"#glyph0-8\" x=\"181.78125\" y=\"339.166016\"/>\n",
       "  <use xlink:href=\"#glyph0-7\" x=\"188.789062\" y=\"339.166016\"/>\n",
       "  <use xlink:href=\"#glyph0-29\" x=\"192.125\" y=\"339.166016\"/>\n",
       "  <use xlink:href=\"#glyph0-10\" x=\"198.796875\" y=\"339.166016\"/>\n",
       "  <use xlink:href=\"#glyph0-30\" x=\"202.132812\" y=\"339.166016\"/>\n",
       "</g>\n",
       "<g style=\"fill:rgb(0%,0%,0%);fill-opacity:1;\">\n",
       "  <use xlink:href=\"#glyph0-31\" x=\"307.816406\" y=\"338.166016\"/>\n",
       "  <use xlink:href=\"#glyph0-18\" x=\"316.480469\" y=\"338.166016\"/>\n",
       "  <use xlink:href=\"#glyph0-4\" x=\"323.8125\" y=\"338.166016\"/>\n",
       "  <use xlink:href=\"#glyph0-16\" x=\"330.484375\" y=\"338.166016\"/>\n",
       "  <use xlink:href=\"#glyph0-32\" x=\"341.152344\" y=\"338.166016\"/>\n",
       "  <use xlink:href=\"#glyph0-33\" x=\"348.484375\" y=\"338.166016\"/>\n",
       "  <use xlink:href=\"#glyph0-15\" x=\"351.820312\" y=\"338.166016\"/>\n",
       "  <use xlink:href=\"#glyph0-34\" x=\"359.152344\" y=\"338.166016\"/>\n",
       "  <use xlink:href=\"#glyph0-7\" x=\"365.824219\" y=\"338.166016\"/>\n",
       "  <use xlink:href=\"#glyph0-19\" x=\"369.160156\" y=\"338.166016\"/>\n",
       "  <use xlink:href=\"#glyph0-20\" x=\"376.167969\" y=\"338.166016\"/>\n",
       "  <use xlink:href=\"#glyph0-7\" x=\"383.175781\" y=\"338.166016\"/>\n",
       "  <use xlink:href=\"#glyph0-22\" x=\"386.511719\" y=\"338.166016\"/>\n",
       "  <use xlink:href=\"#glyph0-10\" x=\"393.183594\" y=\"338.166016\"/>\n",
       "  <use xlink:href=\"#glyph0-28\" x=\"396.519531\" y=\"338.166016\"/>\n",
       "</g>\n",
       "<path style=\"fill-rule:nonzero;fill:rgb(100%,100%,100%);fill-opacity:1;stroke-width:0.75;stroke-linecap:round;stroke-linejoin:round;stroke:rgb(0%,0%,0%);stroke-opacity:1;stroke-miterlimit:10;\" d=\"M 93.082031 222.199219 L 93.367188 220.183594 L 94.199219 218.308594 L 95.523438 216.699219 L 97.25 215.460938 L 99.257812 214.683594 L 101.417969 214.417969 L 103.574219 214.683594 L 105.582031 215.460938 L 107.308594 216.699219 L 108.632812 218.308594 L 109.464844 220.183594 L 109.75 222.199219 L 109.75 223.871094 L 109.464844 225.886719 L 108.632812 227.761719 L 107.308594 229.371094 L 105.582031 230.609375 L 103.574219 231.386719 L 101.417969 231.652344 L 99.257812 231.386719 L 97.25 230.609375 L 95.523438 229.371094 L 94.199219 227.761719 L 93.367188 225.886719 L 93.082031 223.871094 Z \"/>\n",
       "<path style=\"fill-rule:nonzero;fill:rgb(100%,100%,100%);fill-opacity:1;stroke-width:0.75;stroke-linecap:round;stroke-linejoin:round;stroke:rgb(0%,0%,0%);stroke-opacity:1;stroke-miterlimit:10;\" d=\"M 141.71875 278.386719 L 142.003906 276.375 L 142.835938 274.5 L 144.160156 272.886719 L 145.886719 271.652344 L 147.894531 270.875 L 150.050781 270.609375 L 152.210938 270.875 L 154.21875 271.652344 L 155.945312 272.886719 L 157.269531 274.5 L 158.101562 276.375 L 158.386719 278.386719 L 158.386719 280.0625 L 158.101562 282.078125 L 157.269531 283.953125 L 155.945312 285.5625 L 154.21875 286.800781 L 152.210938 287.578125 L 150.050781 287.84375 L 147.894531 287.578125 L 145.886719 286.800781 L 144.160156 285.5625 L 142.835938 283.953125 L 142.003906 282.078125 L 141.71875 280.0625 Z \"/>\n",
       "<path style=\"fill-rule:nonzero;fill:rgb(100%,100%,100%);fill-opacity:1;stroke-width:0.75;stroke-linecap:round;stroke-linejoin:round;stroke:rgb(0%,0%,0%);stroke-opacity:1;stroke-miterlimit:10;\" d=\"M 113.660156 390.769531 L 113.941406 388.757812 L 114.777344 386.882812 L 116.101562 385.269531 L 117.828125 384.035156 L 119.835938 383.257812 L 121.992188 382.992188 L 124.148438 383.257812 L 126.160156 384.035156 L 127.886719 385.269531 L 129.210938 386.882812 L 130.042969 388.757812 L 130.328125 390.769531 L 130.328125 392.445312 L 130.042969 394.457031 L 129.210938 396.335938 L 127.886719 397.945312 L 126.160156 399.183594 L 124.148438 399.957031 L 121.992188 400.222656 L 119.835938 399.957031 L 117.828125 399.183594 L 116.101562 397.945312 L 114.777344 396.335938 L 113.941406 394.457031 L 113.660156 392.445312 Z \"/>\n",
       "<path style=\"fill-rule:nonzero;fill:rgb(100%,100%,100%);fill-opacity:1;stroke-width:0.75;stroke-linecap:round;stroke-linejoin:round;stroke:rgb(0%,0%,0%);stroke-opacity:1;stroke-miterlimit:10;\" d=\"M 207.1875 390.769531 L 207.472656 388.757812 L 208.304688 386.882812 L 209.628906 385.269531 L 211.355469 384.035156 L 213.367188 383.257812 L 215.523438 382.992188 L 217.679688 383.257812 L 219.691406 384.035156 L 221.417969 385.269531 L 222.742188 386.882812 L 223.574219 388.757812 L 223.855469 390.769531 L 223.855469 392.445312 L 223.574219 394.457031 L 222.742188 396.335938 L 221.417969 397.945312 L 219.691406 399.183594 L 217.679688 399.957031 L 215.523438 400.222656 L 213.367188 399.957031 L 211.355469 399.183594 L 209.628906 397.945312 L 208.304688 396.335938 L 207.472656 394.457031 L 207.1875 392.445312 Z \"/>\n",
       "<path style=\"fill-rule:nonzero;fill:rgb(100%,100%,100%);fill-opacity:1;stroke-width:0.75;stroke-linecap:round;stroke-linejoin:round;stroke:rgb(0%,0%,0%);stroke-opacity:1;stroke-miterlimit:10;\" d=\"M 300.71875 390.769531 L 301.003906 388.757812 L 301.835938 386.882812 L 303.160156 385.269531 L 304.886719 384.035156 L 306.894531 383.257812 L 309.054688 382.992188 L 311.210938 383.257812 L 313.21875 384.035156 L 314.945312 385.269531 L 316.269531 386.882812 L 317.101562 388.757812 L 317.386719 390.769531 L 317.386719 392.445312 L 317.101562 394.457031 L 316.269531 396.335938 L 314.945312 397.945312 L 313.21875 399.183594 L 311.210938 399.957031 L 309.054688 400.222656 L 306.894531 399.957031 L 304.886719 399.183594 L 303.160156 397.945312 L 301.835938 396.335938 L 301.003906 394.457031 L 300.71875 392.445312 Z \"/>\n",
       "<path style=\"fill-rule:nonzero;fill:rgb(100%,100%,100%);fill-opacity:1;stroke-width:0.75;stroke-linecap:round;stroke-linejoin:round;stroke:rgb(0%,0%,0%);stroke-opacity:1;stroke-miterlimit:10;\" d=\"M 394.25 390.769531 L 394.535156 388.757812 L 395.367188 386.882812 L 396.691406 385.269531 L 398.417969 384.035156 L 400.425781 383.257812 L 402.582031 382.992188 L 404.742188 383.257812 L 406.75 384.035156 L 408.476562 385.269531 L 409.800781 386.882812 L 410.632812 388.757812 L 410.917969 390.769531 L 410.917969 392.445312 L 410.632812 394.457031 L 409.800781 396.335938 L 408.476562 397.945312 L 406.75 399.183594 L 404.742188 399.957031 L 402.582031 400.222656 L 400.425781 399.957031 L 398.417969 399.183594 L 396.691406 397.945312 L 395.367188 396.335938 L 394.535156 394.457031 L 394.25 392.445312 Z \"/>\n",
       "<path style=\"fill-rule:nonzero;fill:rgb(100%,100%,100%);fill-opacity:1;stroke-width:0.75;stroke-linecap:round;stroke-linejoin:round;stroke:rgb(0%,0%,0%);stroke-opacity:1;stroke-miterlimit:10;\" d=\"M 249.464844 166.007812 L 249.75 163.992188 L 250.582031 162.117188 L 251.90625 160.507812 L 253.632812 159.269531 L 255.640625 158.492188 L 257.800781 158.226562 L 259.957031 158.492188 L 261.964844 159.269531 L 263.691406 160.507812 L 265.015625 162.117188 L 265.847656 163.992188 L 266.132812 166.007812 L 266.132812 167.683594 L 265.847656 169.695312 L 265.015625 171.570312 L 263.691406 173.183594 L 261.964844 174.417969 L 259.957031 175.195312 L 257.800781 175.460938 L 255.640625 175.195312 L 253.632812 174.417969 L 251.90625 173.183594 L 250.582031 171.570312 L 249.75 169.695312 L 249.464844 167.683594 Z \"/>\n",
       "<g style=\"fill:rgb(0%,0%,0%);fill-opacity:1;\">\n",
       "  <use xlink:href=\"#glyph1-1\" x=\"97.917969\" y=\"226.470703\"/>\n",
       "</g>\n",
       "<g style=\"fill:rgb(0%,0%,0%);fill-opacity:1;\">\n",
       "  <use xlink:href=\"#glyph1-1\" x=\"146.550781\" y=\"282.662109\"/>\n",
       "</g>\n",
       "<g style=\"fill:rgb(0%,0%,0%);fill-opacity:1;\">\n",
       "  <use xlink:href=\"#glyph1-1\" x=\"118.492188\" y=\"395.044922\"/>\n",
       "</g>\n",
       "<g style=\"fill:rgb(0%,0%,0%);fill-opacity:1;\">\n",
       "  <use xlink:href=\"#glyph1-2\" x=\"212.023438\" y=\"395.544922\"/>\n",
       "</g>\n",
       "<g style=\"fill:rgb(0%,0%,0%);fill-opacity:1;\">\n",
       "  <use xlink:href=\"#glyph1-1\" x=\"305.554688\" y=\"395.044922\"/>\n",
       "</g>\n",
       "<g style=\"fill:rgb(0%,0%,0%);fill-opacity:1;\">\n",
       "  <use xlink:href=\"#glyph1-2\" x=\"399.082031\" y=\"395.544922\"/>\n",
       "</g>\n",
       "<g style=\"fill:rgb(0%,0%,0%);fill-opacity:1;\">\n",
       "  <use xlink:href=\"#glyph1-2\" x=\"254.300781\" y=\"170.779297\"/>\n",
       "</g>\n",
       "<path style=\"fill-rule:nonzero;fill:rgb(100%,100%,100%);fill-opacity:1;stroke-width:0.75;stroke-linecap:round;stroke-linejoin:round;stroke:rgb(0%,0%,0%);stroke-opacity:1;stroke-miterlimit:10;\" d=\"M 139.628906 110.113281 L 139.683594 109.695312 L 139.84375 109.308594 L 140.101562 108.972656 L 140.4375 108.714844 L 140.824219 108.554688 L 141.242188 108.5 L 161.050781 108.5 L 161.472656 108.554688 L 161.859375 108.714844 L 162.195312 108.972656 L 162.453125 109.308594 L 162.613281 109.695312 L 162.667969 110.113281 L 162.667969 119.808594 L 162.613281 120.226562 L 162.453125 120.617188 L 162.195312 120.949219 L 161.859375 121.207031 L 161.472656 121.367188 L 161.050781 121.421875 L 141.242188 121.421875 L 140.824219 121.367188 L 140.4375 121.207031 L 140.101562 120.949219 L 139.84375 120.617188 L 139.683594 120.226562 L 139.628906 119.808594 Z \"/>\n",
       "<path style=\"fill-rule:nonzero;fill:rgb(100%,100%,100%);fill-opacity:1;stroke-width:0.75;stroke-linecap:round;stroke-linejoin:round;stroke:rgb(0%,0%,0%);stroke-opacity:1;stroke-miterlimit:10;\" d=\"M 248.925781 110.113281 L 248.980469 109.695312 L 249.140625 109.308594 L 249.398438 108.972656 L 249.730469 108.714844 L 250.121094 108.554688 L 250.539062 108.5 L 270.347656 108.5 L 270.765625 108.554688 L 271.15625 108.714844 L 271.492188 108.972656 L 271.746094 109.308594 L 271.910156 109.695312 L 271.964844 110.113281 L 271.964844 119.808594 L 271.910156 120.226562 L 271.746094 120.617188 L 271.492188 120.949219 L 271.15625 121.207031 L 270.765625 121.367188 L 270.347656 121.421875 L 250.539062 121.421875 L 250.121094 121.367188 L 249.730469 121.207031 L 249.398438 120.949219 L 249.140625 120.617188 L 248.980469 120.226562 L 248.925781 119.808594 Z \"/>\n",
       "<g style=\"fill:rgb(0%,0%,0%);fill-opacity:1;\">\n",
       "  <use xlink:href=\"#glyph2-1\" x=\"143.648438\" y=\"116.936523\"/>\n",
       "  <use xlink:href=\"#glyph2-2\" x=\"148.445312\" y=\"116.936523\"/>\n",
       "  <use xlink:href=\"#glyph2-3\" x=\"153.779297\" y=\"116.936523\"/>\n",
       "</g>\n",
       "<g style=\"fill:rgb(0%,0%,0%);fill-opacity:1;\">\n",
       "  <use xlink:href=\"#glyph2-4\" x=\"254.945312\" y=\"116.858398\"/>\n",
       "  <use xlink:href=\"#glyph2-5\" x=\"260.279297\" y=\"116.858398\"/>\n",
       "</g>\n",
       "</g>\n",
       "</svg>\n"
      ],
      "text/plain": [
       "plot without title"
      ]
     },
     "metadata": {
      "image/svg+xml": {
       "isolated": true
      }
     },
     "output_type": "display_data"
    }
   ],
   "source": [
    "library(rpart.plot)\n",
    "prp(Tree1)"
   ]
  },
  {
   "cell_type": "code",
   "execution_count": 77,
   "metadata": {
    "collapsed": true
   },
   "outputs": [],
   "source": [
    "predCart = predict(Tree1, newdata = testing, type = \"class\")"
   ]
  },
  {
   "cell_type": "code",
   "execution_count": 78,
   "metadata": {
    "collapsed": false
   },
   "outputs": [
    {
     "data": {
      "text/plain": [
       "   predCart\n",
       "     0  1\n",
       "  0 64 23\n",
       "  1 40 48"
      ]
     },
     "execution_count": 78,
     "metadata": {},
     "output_type": "execute_result"
    }
   ],
   "source": [
    "t = table(testing$RaisedFedFunds,predCart)\n",
    "t"
   ]
  },
  {
   "cell_type": "code",
   "execution_count": 79,
   "metadata": {
    "collapsed": false
   },
   "outputs": [
    {
     "data": {
      "text/html": [
       "0.64"
      ],
      "text/latex": [
       "0.64"
      ],
      "text/markdown": [
       "0.64"
      ],
      "text/plain": [
       "[1] 0.64"
      ]
     },
     "execution_count": 79,
     "metadata": {},
     "output_type": "execute_result"
    }
   ],
   "source": [
    "sum(diag(t))/sum(t)"
   ]
  },
  {
   "cell_type": "code",
   "execution_count": null,
   "metadata": {
    "collapsed": true
   },
   "outputs": [],
   "source": []
  }
 ],
 "metadata": {
  "kernelspec": {
   "display_name": "R",
   "language": "R",
   "name": "ir"
  },
  "language_info": {
   "codemirror_mode": "r",
   "file_extension": ".r",
   "mimetype": "text/x-r-source",
   "name": "R",
   "pygments_lexer": "r",
   "version": "3.2.2"
  }
 },
 "nbformat": 4,
 "nbformat_minor": 0
}
