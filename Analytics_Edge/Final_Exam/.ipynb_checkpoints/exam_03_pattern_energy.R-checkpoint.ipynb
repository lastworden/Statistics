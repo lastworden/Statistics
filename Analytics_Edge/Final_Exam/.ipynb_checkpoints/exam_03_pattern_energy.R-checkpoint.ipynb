{
 "cells": [
  {
   "cell_type": "markdown",
   "metadata": {},
   "source": [
    "The use of coal in the United States peaked in 2005, and since then has decreased by 25%, being replaced by renewable energy sources and more efficient use (Lovins, 2014). As the United States pursues a portfolio of more diverse, sustainable and secure energy sources, there are many questions to consider. What are effective factors in incentivizing states to adopt more environmentally friendly energy generation methods? How do these factors vary by state? How can we direct resources to different places in the country and ensure that they effectively drive renewable energy sources adoption? To derive insights and answer these questions, we take a combination of generation, usage, and greenhouse emission data by state and combine it with macro-economic and political information.\n",
    "\n",
    "For this problem, we gathered data from various sources to include the following information for each state within the U.S. for the years spanning year 2000 to year 2013. The aggregated dataset energy.csv results in a total of 27 variables and 699 observations. Each observation contains one record per state per year. Here's a detailed description of the variables:\n",
    "\n",
    "- GenTotal: Annual generation of energy using all types of energy sources (coal, nuclear, hydroelectric, solar, etc.) normalized by the state population at a given year.\n",
    "\n",
    "- GenTotalRenewable: Annual generation of energy using all renewable energy sources normalized by the state population at a given year.\n",
    "\n",
    "- GenHydro, GenSolar: Annual generation of energy using each type of energy source as a percent of the total energy generation.\n",
    "\n",
    "- GenTotalRenewableBinary, GenSolarBinary: 1 if generation from solar or other renewable energy sources increased between a year n and a year n+1. 0 if it did not increase.\n",
    "\n",
    "- AllSourcesCO2, AllSourcesSO2 and AllSourcesNOx: Annual emissions per state in metric tons, normalized by the respective state population at a given year and caused by all energy generation sources.\n",
    "\n",
    "- EPriceResidential, EPriceCommercial, EPriceIndustrial, EPriceTransportation, EPriceTotal: Average electricity price per state, per sector (residential, industrial, commercial, etc.)\n",
    "\n",
    "- ESalesResidential, ESalesCommercial, ESalesIndustrial, ESalesTransportation, ESalesTotal: Annual normalized sales of electricity per state, per sector.\n",
    "\n",
    "- CumlRegulatory, CumlFinancial: Number of energy-related financial incentives and regulations created by a state per year.\n",
    "\n",
    "- Demographic data such as annual wages per capita and presidential results (0 if a state voted republican, 1 is democrat)."
   ]
  },
  {
   "cell_type": "code",
   "execution_count": 4,
   "metadata": {
    "collapsed": true
   },
   "outputs": [],
   "source": [
    "energy = read.csv(\"energy.csv\")"
   ]
  },
  {
   "cell_type": "code",
   "execution_count": 5,
   "metadata": {
    "collapsed": false
   },
   "outputs": [
    {
     "name": "stdout",
     "output_type": "stream",
     "text": [
      "'data.frame':\t699 obs. of  27 variables:\n",
      " $ STATE                  : Factor w/ 50 levels \"AK\",\"AL\",\"AR\",..: 1 1 1 1 1 1 1 1 1 1 ...\n",
      " $ YEAR                   : int  2000 2001 2002 2003 2004 2005 2006 2007 2008 2009 ...\n",
      " $ GenTotal               : num  9.81 10.64 10.54 9.79 9.9 ...\n",
      " $ GenHydro               : num  0.163 0.2 0.213 0.25 0.23 ...\n",
      " $ GenSolar               : num  0 0 0 0 0 0 0 0 0 0 ...\n",
      " $ GenTotalRenewable      : num  0.163 0.2 0.214 0.25 0.231 ...\n",
      " $ GenSolarBinary         : int  0 0 0 0 0 0 0 0 0 0 ...\n",
      " $ GenTotalRenewableBinary: int  1 1 1 0 0 0 1 0 1 1 ...\n",
      " $ AllSourcesCO2          : num  7.26 7.31 6.94 6.15 7.25 ...\n",
      " $ AllSourcesSO2          : num  0.0224 0.01193 0.01148 0.00675 0.00659 ...\n",
      " $ AllSourcesNOx          : num  0.0289 0.0277 0.0294 0.0242 0.0377 ...\n",
      " $ EPriceResidential      : num  11.4 12.1 12.1 12 12.4 ...\n",
      " $ EPriceCommercial       : num  9.77 10.29 10.13 10.49 10.99 ...\n",
      " $ EPriceIndustrial       : num  7.56 7.61 7.65 7.86 8.33 ...\n",
      " $ EPriceTransportation   : num  0 0 0 0 0 0 0 0 0 0 ...\n",
      " $ EPriceTotal            : num  10.1 10.5 10.5 10.5 11 ...\n",
      " $ EsalesResidential      : num  0.349 0.347 0.354 0.357 0.356 ...\n",
      " $ EsalesCommercial       : num  0.421 0.42 0.41 0.444 0.449 ...\n",
      " $ EsalesIndustrial       : num  0.195 0.198 0.199 0.198 0.195 ...\n",
      " $ EsalesTransportation   : num  0 0 0 0 0 0 0 0 0 0 ...\n",
      " $ EsalesOther            : num  0.0343 0.0356 0.0379 0 0 ...\n",
      " $ EsalesTotal            : num  8.46 8.61 8.51 8.59 8.78 ...\n",
      " $ CumlFinancial          : int  1 1 1 1 1 2 7 7 10 10 ...\n",
      " $ CumlRegulatory         : int  1 1 1 1 1 1 2 2 2 3 ...\n",
      " $ Total.salary           : num  17.6 18.7 19.6 20.4 21.4 ...\n",
      " $ presidential.results   : int  0 0 0 0 0 0 0 0 0 0 ...\n",
      " $ Import                 : int  0 0 0 0 0 0 0 0 0 0 ...\n"
     ]
    }
   ],
   "source": [
    "str(energy)"
   ]
  },
  {
   "cell_type": "code",
   "execution_count": 6,
   "metadata": {
    "collapsed": false
   },
   "outputs": [
    {
     "data": {
      "text/html": [
       "169"
      ],
      "text/latex": [
       "169"
      ],
      "text/markdown": [
       "169"
      ],
      "text/plain": [
       "[1] 169"
      ]
     },
     "execution_count": 6,
     "metadata": {},
     "output_type": "execute_result"
    }
   ],
   "source": [
    "which.max(energy$GenTotalRenewable)"
   ]
  },
  {
   "cell_type": "code",
   "execution_count": 8,
   "metadata": {
    "collapsed": false
   },
   "outputs": [
    {
     "data": {
      "text/html": [
       "<table>\n",
       "<thead><tr><th></th><th scope=col>STATE</th><th scope=col>YEAR</th><th scope=col>GenTotal</th><th scope=col>GenHydro</th><th scope=col>GenSolar</th><th scope=col>GenTotalRenewable</th><th scope=col>GenSolarBinary</th><th scope=col>GenTotalRenewableBinary</th><th scope=col>AllSourcesCO2</th><th scope=col>AllSourcesSO2</th><th scope=col>AllSourcesNOx</th><th scope=col>EPriceResidential</th><th scope=col>EPriceCommercial</th><th scope=col>EPriceIndustrial</th><th scope=col>EPriceTransportation</th><th scope=col>EPriceTotal</th><th scope=col>EsalesResidential</th><th scope=col>EsalesCommercial</th><th scope=col>EsalesIndustrial</th><th scope=col>EsalesTransportation</th><th scope=col>EsalesOther</th><th scope=col>EsalesTotal</th><th scope=col>CumlFinancial</th><th scope=col>CumlRegulatory</th><th scope=col>Total.salary</th><th scope=col>presidential.results</th><th scope=col>Import</th></tr></thead>\n",
       "<tbody>\n",
       "\t<tr><th scope=row>169</th><td>ID</td><td>2000</td><td>9.165016</td><td>0.9207631</td><td>0</td><td>0.9207631</td><td>0</td><td>0</td><td>0.6368657</td><td>0.004590802</td><td>0.002714775</td><td>5.39</td><td>4.24</td><td>3.11</td><td>0</td><td>4.17</td><td>0.3068433</td><td>0.3095307</td><td>0.368208</td><td>0</td><td>0.01541804</td><td>17.57071</td><td>2</td><td>2</td><td>12.81243</td><td>0</td><td>1</td></tr>\n",
       "</tbody>\n",
       "</table>\n"
      ],
      "text/latex": [
       "\\begin{tabular}{r|lllllllllllllllllllllllllll}\n",
       "  & STATE & YEAR & GenTotal & GenHydro & GenSolar & GenTotalRenewable & GenSolarBinary & GenTotalRenewableBinary & AllSourcesCO2 & AllSourcesSO2 & AllSourcesNOx & EPriceResidential & EPriceCommercial & EPriceIndustrial & EPriceTransportation & EPriceTotal & EsalesResidential & EsalesCommercial & EsalesIndustrial & EsalesTransportation & EsalesOther & EsalesTotal & CumlFinancial & CumlRegulatory & Total.salary & presidential.results & Import\\\\\n",
       "\\hline\n",
       "\t169 & ID & 2000 & 9.165016 & 0.9207631 & 0 & 0.9207631 & 0 & 0 & 0.6368657 & 0.004590802 & 0.002714775 & 5.39 & 4.24 & 3.11 & 0 & 4.17 & 0.3068433 & 0.3095307 & 0.368208 & 0 & 0.01541804 & 17.57071 & 2 & 2 & 12.81243 & 0 & 1\\\\\n",
       "\\end{tabular}\n"
      ],
      "text/plain": [
       "    STATE YEAR GenTotal  GenHydro GenSolar GenTotalRenewable GenSolarBinary\n",
       "169    ID 2000 9.165016 0.9207631        0         0.9207631              0\n",
       "    GenTotalRenewableBinary AllSourcesCO2 AllSourcesSO2 AllSourcesNOx\n",
       "169                       0     0.6368657   0.004590802   0.002714775\n",
       "    EPriceResidential EPriceCommercial EPriceIndustrial EPriceTransportation\n",
       "169              5.39             4.24             3.11                    0\n",
       "    EPriceTotal EsalesResidential EsalesCommercial EsalesIndustrial\n",
       "169        4.17         0.3068433        0.3095307         0.368208\n",
       "    EsalesTransportation EsalesOther EsalesTotal CumlFinancial CumlRegulatory\n",
       "169                    0  0.01541804    17.57071             2              2\n",
       "    Total.salary presidential.results Import\n",
       "169     12.81243                    0      1"
      ]
     },
     "execution_count": 8,
     "metadata": {},
     "output_type": "execute_result"
    }
   ],
   "source": [
    "energy[169,]"
   ]
  },
  {
   "cell_type": "markdown",
   "metadata": {},
   "source": [
    " ## Problem 1 - Total Renewable Energy Generation\n",
    "(2/2 points)\n",
    "\n",
    "Load energy.csv into a data frame called energy.\n",
    "\n",
    "Renewable energy sources are considered to include geothermal, hydroelectric, biomass, solar and wind.\n",
    "\n",
    "Which state in the United States seems to have the highest total generation of energy from renewable sources (use the variable GenTotalRenewable)?\n",
    "Arizona (AZ)\n",
    "California (CA)\n",
    "Idaho (ID) Idaho (ID) - correct\n",
    "Massachusetts (MA)\n",
    "\n",
    "Which year did the above state produce the highest energy generation from renewable resources?\n",
    "2000 2000 - correct\n",
    "2002\n",
    "2007\n",
    "2011\n"
   ]
  },
  {
   "cell_type": "markdown",
   "metadata": {},
   "source": [
    " ## Problem 2 - Relationship Between Politics and Greenhouse Emissions\n",
    "(3 points possible)\n",
    "\n",
    "What is the average CO2 emissions from all sources of energy for:\n",
    "\n",
    "- states during years in which they voted republican?\n",
    "unanswered\n",
    "\n",
    "Loading\n",
    "\n",
    "- states during years in which they voted democrat?\n",
    "unanswered\n",
    "\n",
    "Loading\n",
    "\n",
    "Note: Please use na.rm = TRUE in your calculations!\n",
    "\n",
    "States that voted democrat have on average higher NOx emissions than states that voted republican across all years. Is this statement true or false?\n",
    "True\n",
    "False\n",
    "- This answer is unanswered.\n"
   ]
  },
  {
   "cell_type": "code",
   "execution_count": 13,
   "metadata": {
    "collapsed": false
   },
   "outputs": [
    {
     "data": {
      "text/html": [
       "<dl class=dl-horizontal>\n",
       "\t<dt>FALSE</dt>\n",
       "\t\t<dd>5.78378094973129</dd>\n",
       "\t<dt>TRUE</dt>\n",
       "\t\t<dd>16.4429606285408</dd>\n",
       "</dl>\n"
      ],
      "text/latex": [
       "\\begin{description*}\n",
       "\\item[FALSE] 5.78378094973129\n",
       "\\item[TRUE] 16.4429606285408\n",
       "\\end{description*}\n"
      ],
      "text/markdown": [
       "FALSE\n",
       ":   5.78378094973129TRUE\n",
       ":   16.4429606285408\n",
       "\n"
      ],
      "text/plain": [
       "    FALSE      TRUE \n",
       " 5.783781 16.442961 "
      ]
     },
     "execution_count": 13,
     "metadata": {},
     "output_type": "execute_result"
    }
   ],
   "source": [
    "tapply(energy$AllSourcesCO2, energy$presidential.results==0, mean, na.rm=TRUE)"
   ]
  },
  {
   "cell_type": "code",
   "execution_count": 12,
   "metadata": {
    "collapsed": false
   },
   "outputs": [
    {
     "data": {
      "text/plain": [
       "    Min.  1st Qu.   Median     Mean  3rd Qu.     Max.     NA's \n",
       " 0.01059  4.84600  8.34000 11.61000 13.00000 93.96000       50 "
      ]
     },
     "execution_count": 12,
     "metadata": {},
     "output_type": "execute_result"
    }
   ],
   "source": [
    "summary(energy$AllSourcesCO2\n",
    "       )"
   ]
  },
  {
   "cell_type": "code",
   "execution_count": 16,
   "metadata": {
    "collapsed": false
   },
   "outputs": [
    {
     "data": {
      "text/html": [
       "<dl class=dl-horizontal>\n",
       "\t<dt>FALSE</dt>\n",
       "\t\t<dd>0.00937702819387755</dd>\n",
       "\t<dt>TRUE</dt>\n",
       "\t\t<dd>0.0298546102704225</dd>\n",
       "</dl>\n"
      ],
      "text/latex": [
       "\\begin{description*}\n",
       "\\item[FALSE] 0.00937702819387755\n",
       "\\item[TRUE] 0.0298546102704225\n",
       "\\end{description*}\n"
      ],
      "text/markdown": [
       "FALSE\n",
       ":   0.00937702819387755TRUE\n",
       ":   0.0298546102704225\n",
       "\n"
      ],
      "text/plain": [
       "      FALSE        TRUE \n",
       "0.009377028 0.029854610 "
      ]
     },
     "execution_count": 16,
     "metadata": {},
     "output_type": "execute_result"
    }
   ],
   "source": [
    "tapply(energy$AllSourcesNOx, energy$presidential.results==0, mean, na.rm=TRUE)"
   ]
  },
  {
   "cell_type": "code",
   "execution_count": 15,
   "metadata": {
    "collapsed": false
   },
   "outputs": [
    {
     "data": {
      "text/plain": [
       "   Min. 1st Qu.  Median    Mean 3rd Qu.    Max. \n",
       "   2000    2003    2006    2006    2010    2013 "
      ]
     },
     "execution_count": 15,
     "metadata": {},
     "output_type": "execute_result"
    }
   ],
   "source": [
    "summary(energy$YEAR)"
   ]
  },
  {
   "cell_type": "markdown",
   "metadata": {},
   "source": [
    " ## Problem 3 - Relationship Between Greenhouse Emissions and Energy Sales\n",
    "(2/2 points)\n",
    "\n",
    "What is the correlation between overall CO2 emissions and energy sales made to industrial facilities? Note that the variables AllSourcesCO2 and EsalesIndustrial contain NAs. Use the parameter: use=\"complete\" to handle NAs in this question.\n",
    "correct\n",
    "\n",
    "Loading\n",
    "\n",
    "Choose the correct answers from the following statements:\n",
    "Overall SO2 emissions are likely higher with increased industrial energy sales\n",
    "Overall NOx emissions are likely higher with increased residential energy sales\n",
    "Overall CO2 emissions are likely higher with increased commercial energy sales "
   ]
  },
  {
   "cell_type": "code",
   "execution_count": 18,
   "metadata": {
    "collapsed": false
   },
   "outputs": [
    {
     "data": {
      "text/html": [
       "0.538586699122344"
      ],
      "text/latex": [
       "0.538586699122344"
      ],
      "text/markdown": [
       "0.538586699122344"
      ],
      "text/plain": [
       "[1] 0.5385867"
      ]
     },
     "execution_count": 18,
     "metadata": {},
     "output_type": "execute_result"
    }
   ],
   "source": [
    "cor(energy$AllSourcesCO2,energy$EsalesIndustrial, use = \"complete\")"
   ]
  },
  {
   "cell_type": "code",
   "execution_count": 20,
   "metadata": {
    "collapsed": false
   },
   "outputs": [
    {
     "data": {
      "text/html": [
       "0.481231688247048"
      ],
      "text/latex": [
       "0.481231688247048"
      ],
      "text/markdown": [
       "0.481231688247048"
      ],
      "text/plain": [
       "[1] 0.4812317"
      ]
     },
     "execution_count": 20,
     "metadata": {},
     "output_type": "execute_result"
    }
   ],
   "source": [
    "cor(energy$AllSourcesSO2,energy$EsalesIndustrial, use = \"complete\")"
   ]
  },
  {
   "cell_type": "code",
   "execution_count": 21,
   "metadata": {
    "collapsed": false
   },
   "outputs": [
    {
     "data": {
      "text/html": [
       "-0.503882906116025"
      ],
      "text/latex": [
       "-0.503882906116025"
      ],
      "text/markdown": [
       "-0.503882906116025"
      ],
      "text/plain": [
       "[1] -0.5038829"
      ]
     },
     "execution_count": 21,
     "metadata": {},
     "output_type": "execute_result"
    }
   ],
   "source": [
    "cor(energy$AllSourcesNOx,energy$EsalesResidential, use = \"complete\")"
   ]
  },
  {
   "cell_type": "code",
   "execution_count": 22,
   "metadata": {
    "collapsed": false
   },
   "outputs": [
    {
     "data": {
      "text/html": [
       "-0.373383020293378"
      ],
      "text/latex": [
       "-0.373383020293378"
      ],
      "text/markdown": [
       "-0.373383020293378"
      ],
      "text/plain": [
       "[1] -0.373383"
      ]
     },
     "execution_count": 22,
     "metadata": {},
     "output_type": "execute_result"
    }
   ],
   "source": [
    "cor(energy$AllSourcesCO2,energy$EsalesCommercial, use = \"complete\")"
   ]
  },
  {
   "cell_type": "markdown",
   "metadata": {},
   "source": [
    " ## Problem 4 - Boxplot of Energy Prices per State\n",
    "(3/3 points)\n",
    "\n",
    "Create a boxplot of the total energy price (EPriceTotal) by State across the data, and a table summarizing the mean of EPriceTotal by State.\n",
    "\n",
    "What observations do you make?\n",
    "The boxplot shows a clear outlier, the state of California, with much higher energy price compared to the rest of the U.S.\n",
    "The boxplot shows a clear outlier, the state of Hawaii, with much higher energy price compared to the rest of the U.S.\n",
    "There are no clear outliers in the boxplot and prices seem to be equal among all states within the U.S.\n",
    "When looking at the average energy prices, there seems to be three price tiers ($5-$9, $10-$14, and $20+)\n",
    "The boxplot shows a clear outlier, the state of Hawaii, with much higher energy price compared to the rest of the U.S., When looking at the average energy prices, there seems to be three price tiers ($5-$9, $10-$14, and $20+), - This answer is correct.\n",
    "\n",
    "Which state has the lowest average energy price of all? You might want to make a table to answer this question.\n",
    "Alabama (AL)\n",
    "Texas (TX)\n",
    "California (CA)\n",
    "Wyoming (WY) Wyoming (WY) - correct\n",
    "\n",
    "Is this state associated with the highest mean total energy generation (GenTotal)?\n",
    "True\n",
    "False\n",
    "True, - This answer is correct.\n",
    "\n",
    "Explanation\n",
    "\n",
    "Use the boxplot function to plot EPriceTotal versus State and the table function to tabulate the mean values by State.\n"
   ]
  },
  {
   "cell_type": "code",
   "execution_count": 31,
   "metadata": {
    "collapsed": false
   },
   "outputs": [
    {
     "data": {
      "image/png": "[encoded data removed]",
      "image/svg+xml": [
       "<?xml version=\"1.0\" encoding=\"UTF-8\"?>\n",
       "<svg xmlns=\"http://www.w3.org/2000/svg\" xmlns:xlink=\"http://www.w3.org/1999/xlink\" width=\"504pt\" height=\"504pt\" viewBox=\"0 0 504 504\" version=\"1.1\">\n",
       "<defs>\n",
       "<g>\n",
       "<symbol overflow=\"visible\" id=\"glyph0-0\">\n",
       "<path style=\"stroke:none;\" d=\"\"/>\n",
       "</symbol>\n",
       "<symbol overflow=\"visible\" id=\"glyph0-1\">\n",
       "<path style=\"stroke:none;\" d=\"M 5.6875 -2.625 L 6.59375 0 L 7.84375 0 L 4.765625 -8.75 L 3.328125 -8.75 L 0.203125 0 L 1.390625 0 L 2.3125 -2.625 Z M 5.375 -3.5625 L 2.59375 -3.5625 L 4.03125 -7.546875 Z \"/>\n",
       "</symbol>\n",
       "<symbol overflow=\"visible\" id=\"glyph0-2\">\n",
       "<path style=\"stroke:none;\" d=\"M 2.0625 -3.0625 L 3.484375 -4.484375 L 6.578125 0 L 7.890625 0 L 4.296875 -5.1875 L 7.859375 -8.75 L 6.421875 -8.75 L 2.0625 -4.3125 L 2.0625 -8.75 L 0.953125 -8.75 L 0.953125 0 L 2.0625 0 Z \"/>\n",
       "</symbol>\n",
       "<symbol overflow=\"visible\" id=\"glyph0-3\">\n",
       "<path style=\"stroke:none;\" d=\"M 7.9375 -6.03125 C 7.59375 -7.953125 6.484375 -8.890625 4.578125 -8.890625 C 3.390625 -8.890625 2.453125 -8.515625 1.796875 -7.796875 C 1.015625 -6.9375 0.578125 -5.6875 0.578125 -4.265625 C 0.578125 -2.828125 1.015625 -1.59375 1.84375 -0.75 C 2.515625 -0.046875 3.390625 0.28125 4.53125 0.28125 C 6.65625 0.28125 7.859375 -0.875 8.125 -3.1875 L 6.96875 -3.1875 C 6.875 -2.59375 6.75 -2.1875 6.578125 -1.84375 C 6.21875 -1.109375 5.46875 -0.703125 4.53125 -0.703125 C 2.796875 -0.703125 1.6875 -2.09375 1.6875 -4.28125 C 1.6875 -6.53125 2.75 -7.90625 4.4375 -7.90625 C 5.140625 -7.90625 5.8125 -7.6875 6.171875 -7.359375 C 6.484375 -7.0625 6.671875 -6.6875 6.796875 -6.03125 Z \"/>\n",
       "</symbol>\n",
       "<symbol overflow=\"visible\" id=\"glyph0-4\">\n",
       "<path style=\"stroke:none;\" d=\"M 2.203125 -3.984375 L 6.375 -3.984375 L 6.375 -4.96875 L 2.203125 -4.96875 L 2.203125 -7.765625 L 6.953125 -7.765625 L 6.953125 -8.75 L 1.078125 -8.75 L 1.078125 0 L 2.203125 0 Z \"/>\n",
       "</symbol>\n",
       "<symbol overflow=\"visible\" id=\"glyph0-5\">\n",
       "<path style=\"stroke:none;\" d=\"M 2.078125 -8.75 L 0.953125 -8.75 L 0.953125 0 L 6.390625 0 L 6.390625 -0.984375 L 2.078125 -0.984375 Z \"/>\n",
       "</symbol>\n",
       "<symbol overflow=\"visible\" id=\"glyph0-6\">\n",
       "<path style=\"stroke:none;\" d=\"M 2.328125 -8.75 L 1.203125 -8.75 L 1.203125 0 L 2.328125 0 Z \"/>\n",
       "</symbol>\n",
       "<symbol overflow=\"visible\" id=\"glyph0-7\">\n",
       "<path style=\"stroke:none;\" d=\"M 1.0625 0 L 4.4375 0 C 6.640625 0 8 -1.65625 8 -4.375 C 8 -7.09375 6.65625 -8.75 4.4375 -8.75 L 1.0625 -8.75 Z M 2.1875 -0.984375 L 2.1875 -7.765625 L 4.25 -7.765625 C 5.96875 -7.765625 6.890625 -6.59375 6.890625 -4.375 C 6.890625 -2.15625 5.96875 -0.984375 4.25 -0.984375 Z \"/>\n",
       "</symbol>\n",
       "<symbol overflow=\"visible\" id=\"glyph0-8\">\n",
       "<path style=\"stroke:none;\" d=\"M 4.640625 -3.4375 L 7.9375 -8.75 L 6.59375 -8.75 L 4.109375 -4.484375 L 1.53125 -8.75 L 0.15625 -8.75 L 3.53125 -3.4375 L 3.53125 0 L 4.640625 0 Z \"/>\n",
       "</symbol>\n",
       "<symbol overflow=\"visible\" id=\"glyph0-9\">\n",
       "<path style=\"stroke:none;\" d=\"M 5.609375 0 L 8.078125 -7.328125 L 8.078125 0 L 9.125 0 L 9.125 -8.75 L 7.578125 -8.75 L 5.046875 -1.125 L 2.453125 -8.75 L 0.90625 -8.75 L 0.90625 0 L 1.953125 0 L 1.953125 -7.328125 L 4.4375 0 Z \"/>\n",
       "</symbol>\n",
       "<symbol overflow=\"visible\" id=\"glyph0-10\">\n",
       "<path style=\"stroke:none;\" d=\"M 2.203125 -3.984375 L 6.953125 -3.984375 L 6.953125 -4.96875 L 2.203125 -4.96875 L 2.203125 -7.765625 L 7.140625 -7.765625 L 7.140625 -8.75 L 1.078125 -8.75 L 1.078125 0 L 7.359375 0 L 7.359375 -0.984375 L 2.203125 -0.984375 Z \"/>\n",
       "</symbol>\n",
       "<symbol overflow=\"visible\" id=\"glyph0-11\">\n",
       "<path style=\"stroke:none;\" d=\"M 7.15625 -6.1875 C 7.140625 -7.890625 5.96875 -8.890625 3.953125 -8.890625 C 2.03125 -8.890625 0.84375 -7.90625 0.84375 -6.328125 C 0.84375 -5.25 1.40625 -4.578125 2.5625 -4.28125 L 4.734375 -3.703125 C 5.828125 -3.421875 6.34375 -2.96875 6.34375 -2.296875 C 6.34375 -1.828125 6.078125 -1.34375 5.71875 -1.078125 C 5.359375 -0.84375 4.8125 -0.703125 4.109375 -0.703125 C 3.15625 -0.703125 2.515625 -0.9375 2.09375 -1.4375 C 1.765625 -1.828125 1.625 -2.25 1.625 -2.78125 L 0.578125 -2.78125 C 0.59375 -1.984375 0.75 -1.453125 1.09375 -0.96875 C 1.6875 -0.15625 2.703125 0.28125 4.03125 0.28125 C 5.078125 0.28125 5.921875 0.03125 6.484375 -0.390625 C 7.078125 -0.859375 7.453125 -1.640625 7.453125 -2.40625 C 7.453125 -3.484375 6.78125 -4.265625 5.59375 -4.59375 L 3.390625 -5.1875 C 2.34375 -5.46875 1.953125 -5.8125 1.953125 -6.484375 C 1.953125 -7.375 2.734375 -7.953125 3.90625 -7.953125 C 5.296875 -7.953125 6.078125 -7.3125 6.09375 -6.1875 Z \"/>\n",
       "</symbol>\n",
       "<symbol overflow=\"visible\" id=\"glyph0-12\">\n",
       "<path style=\"stroke:none;\" d=\"M 7.75 -8.75 L 6.703125 -8.75 L 6.703125 -1.59375 L 2.125 -8.75 L 0.90625 -8.75 L 0.90625 0 L 1.96875 0 L 1.96875 -7.09375 L 6.484375 0 L 7.75 0 Z \"/>\n",
       "</symbol>\n",
       "<symbol overflow=\"visible\" id=\"glyph0-13\">\n",
       "<path style=\"stroke:none;\" d=\"M 4.703125 0 L 7.734375 -8.75 L 6.546875 -8.75 L 4.125 -1.34375 L 1.5625 -8.75 L 0.359375 -8.75 L 3.5 0 Z \"/>\n",
       "</symbol>\n",
       "<symbol overflow=\"visible\" id=\"glyph0-14\">\n",
       "<path style=\"stroke:none;\" d=\"M 4.671875 -8.890625 C 2.15625 -8.890625 0.453125 -7.046875 0.453125 -4.3125 C 0.453125 -1.578125 2.15625 0.28125 4.6875 0.28125 C 5.734375 0.28125 6.6875 -0.046875 7.390625 -0.640625 C 8.34375 -1.453125 8.90625 -2.8125 8.90625 -4.234375 C 8.90625 -7.0625 7.234375 -8.890625 4.671875 -8.890625 Z M 4.671875 -7.90625 C 6.5625 -7.90625 7.78125 -6.46875 7.78125 -4.265625 C 7.78125 -2.140625 6.53125 -0.703125 4.6875 -0.703125 C 2.8125 -0.703125 1.578125 -2.140625 1.578125 -4.3125 C 1.578125 -6.46875 2.8125 -7.90625 4.671875 -7.90625 Z \"/>\n",
       "</symbol>\n",
       "<symbol overflow=\"visible\" id=\"glyph0-15\">\n",
       "<path style=\"stroke:none;\" d=\"M 2.234375 -3.765625 L 5.109375 -3.765625 C 6.109375 -3.765625 6.546875 -3.28125 6.546875 -2.203125 L 6.546875 -1.421875 C 6.546875 -0.890625 6.640625 -0.359375 6.796875 0 L 8.140625 0 L 8.140625 -0.28125 C 7.734375 -0.5625 7.640625 -0.875 7.625 -2.046875 C 7.609375 -3.484375 7.375 -3.90625 6.4375 -4.3125 C 7.421875 -4.796875 7.8125 -5.40625 7.8125 -6.40625 C 7.8125 -7.921875 6.859375 -8.75 5.140625 -8.75 L 1.109375 -8.75 L 1.109375 0 L 2.234375 0 Z M 2.234375 -4.75 L 2.234375 -7.765625 L 4.9375 -7.765625 C 5.5625 -7.765625 5.921875 -7.671875 6.1875 -7.421875 C 6.484375 -7.171875 6.640625 -6.78125 6.640625 -6.25 C 6.640625 -5.21875 6.125 -4.75 4.9375 -4.75 Z \"/>\n",
       "</symbol>\n",
       "<symbol overflow=\"visible\" id=\"glyph0-16\">\n",
       "<path style=\"stroke:none;\" d=\"M 8.921875 0 L 11.140625 -8.75 L 9.90625 -8.75 L 8.296875 -1.640625 L 6.296875 -8.75 L 5.09375 -8.75 L 3.15625 -1.640625 L 1.515625 -8.75 L 0.265625 -8.75 L 2.515625 0 L 3.734375 0 L 5.6875 -7.1875 L 7.703125 0 Z \"/>\n",
       "</symbol>\n",
       "<symbol overflow=\"visible\" id=\"glyph1-0\">\n",
       "<path style=\"stroke:none;\" d=\"\"/>\n",
       "</symbol>\n",
       "<symbol overflow=\"visible\" id=\"glyph1-1\">\n",
       "<path style=\"stroke:none;\" d=\"M -8.515625 -5.71875 L -8.515625 -1.3125 L -3.875 -0.6875 L -3.875 -1.65625 C -4.46875 -2.140625 -4.671875 -2.5625 -4.671875 -3.21875 C -4.671875 -4.359375 -3.890625 -5.078125 -2.625 -5.078125 C -1.40625 -5.078125 -0.65625 -4.375 -0.65625 -3.21875 C -0.65625 -2.296875 -1.125 -1.734375 -2.09375 -1.46875 L -2.09375 -0.421875 C -1.390625 -0.5625 -1.0625 -0.6875 -0.75 -0.9375 C -0.09375 -1.421875 0.28125 -2.28125 0.28125 -3.234375 C 0.28125 -4.953125 -0.96875 -6.15625 -2.765625 -6.15625 C -4.453125 -6.15625 -5.609375 -5.046875 -5.609375 -3.40625 C -5.609375 -2.8125 -5.453125 -2.328125 -5.09375 -1.84375 L -7.46875 -2.171875 L -7.46875 -5.71875 Z \"/>\n",
       "</symbol>\n",
       "<symbol overflow=\"visible\" id=\"glyph1-2\">\n",
       "<path style=\"stroke:none;\" d=\"M -6.0625 -3.109375 L 0 -3.109375 L 0 -4.15625 L -8.515625 -4.15625 L -8.515625 -3.46875 C -7.203125 -3.09375 -7.015625 -2.859375 -6.8125 -1.21875 L -6.0625 -1.21875 Z \"/>\n",
       "</symbol>\n",
       "<symbol overflow=\"visible\" id=\"glyph1-3\">\n",
       "<path style=\"stroke:none;\" d=\"M -8.515625 -3.296875 C -8.515625 -2.515625 -8.15625 -1.78125 -7.578125 -1.34375 C -6.828125 -0.796875 -5.6875 -0.515625 -4.109375 -0.515625 C -1.25 -0.515625 0.28125 -1.46875 0.28125 -3.296875 C 0.28125 -5.09375 -1.25 -6.078125 -4.046875 -6.078125 C -5.703125 -6.078125 -6.796875 -5.8125 -7.578125 -5.25 C -8.171875 -4.8125 -8.515625 -4.109375 -8.515625 -3.296875 Z M -7.578125 -3.296875 C -7.578125 -4.4375 -6.421875 -5 -4.140625 -5 C -1.734375 -5 -0.59375 -4.453125 -0.59375 -3.28125 C -0.59375 -2.15625 -1.78125 -1.59375 -4.109375 -1.59375 C -6.4375 -1.59375 -7.578125 -2.15625 -7.578125 -3.296875 Z \"/>\n",
       "</symbol>\n",
       "<symbol overflow=\"visible\" id=\"glyph1-4\">\n",
       "<path style=\"stroke:none;\" d=\"M -1.046875 -6.078125 L -1.046875 -1.59375 C -1.734375 -1.703125 -2.1875 -2.09375 -2.796875 -3.125 L -3.4375 -4.328125 C -4.09375 -5.515625 -4.96875 -6.125 -6.015625 -6.125 C -6.71875 -6.125 -7.375 -5.84375 -7.84375 -5.34375 C -8.296875 -4.84375 -8.515625 -4.21875 -8.515625 -3.40625 C -8.515625 -2.328125 -8.125 -1.53125 -7.40625 -1.0625 C -6.953125 -0.75 -6.421875 -0.625 -5.5625 -0.59375 L -5.5625 -1.65625 C -6.125 -1.6875 -6.484375 -1.765625 -6.75 -1.90625 C -7.265625 -2.1875 -7.578125 -2.734375 -7.578125 -3.375 C -7.578125 -4.328125 -6.90625 -5.046875 -5.984375 -5.046875 C -5.3125 -5.046875 -4.734375 -4.65625 -4.3125 -3.90625 L -3.6875 -2.796875 C -2.671875 -1.015625 -1.875 -0.5 0 -0.40625 L 0 -6.078125 Z \"/>\n",
       "</symbol>\n",
       "<symbol overflow=\"visible\" id=\"glyph1-5\">\n",
       "<path style=\"stroke:none;\" d=\"M -3.90625 -2.65625 L -3.90625 -3.234375 C -3.90625 -4.390625 -3.390625 -4.984375 -2.359375 -4.984375 C -1.296875 -4.984375 -0.65625 -4.328125 -0.65625 -3.234375 C -0.65625 -2.078125 -1.234375 -1.515625 -2.46875 -1.4375 L -2.46875 -0.390625 C -1.78125 -0.4375 -1.34375 -0.546875 -0.953125 -0.75 C -0.140625 -1.1875 0.28125 -2.03125 0.28125 -3.1875 C 0.28125 -4.9375 -0.765625 -6.078125 -2.375 -6.078125 C -3.453125 -6.078125 -4.0625 -5.65625 -4.40625 -4.625 C -4.71875 -5.421875 -5.3125 -5.8125 -6.171875 -5.8125 C -7.625 -5.8125 -8.515625 -4.84375 -8.515625 -3.234375 C -8.515625 -1.515625 -7.578125 -0.59375 -5.765625 -0.5625 L -5.765625 -1.625 C -6.28125 -1.625 -6.5625 -1.6875 -6.828125 -1.8125 C -7.296875 -2.046875 -7.578125 -2.578125 -7.578125 -3.234375 C -7.578125 -4.171875 -7.03125 -4.734375 -6.125 -4.734375 C -5.53125 -4.734375 -5.171875 -4.53125 -4.984375 -4.0625 C -4.859375 -3.765625 -4.8125 -3.390625 -4.796875 -2.65625 Z \"/>\n",
       "</symbol>\n",
       "</g>\n",
       "</defs>\n",
       "<g id=\"surface94\">\n",
       "<rect x=\"0\" y=\"0\" width=\"504\" height=\"504\" style=\"fill:rgb(100%,100%,100%);fill-opacity:1;stroke:none;\"/>\n",
       "<path style=\"fill:none;stroke-width:2.25;stroke-linecap:butt;stroke-linejoin:round;stroke:rgb(0%,0%,0%);stroke-opacity:1;stroke-miterlimit:10;\" d=\"M 75.167969 314.417969 L 81.3125 314.417969 \"/>\n",
       "<path style=\"fill:none;stroke-width:0.75;stroke-linecap:round;stroke-linejoin:round;stroke:rgb(0%,0%,0%);stroke-opacity:1;stroke-dasharray:3,3;stroke-miterlimit:10;\" d=\"M 78.238281 348.738281 L 78.238281 343.4375 \"/>\n",
       "<path style=\"fill:none;stroke-width:0.75;stroke-linecap:round;stroke-linejoin:round;stroke:rgb(0%,0%,0%);stroke-opacity:1;stroke-dasharray:3,3;stroke-miterlimit:10;\" d=\"M 78.238281 274.914062 L 78.238281 291.039062 \"/>\n",
       "<path style=\"fill:none;stroke-width:0.75;stroke-linecap:round;stroke-linejoin:round;stroke:rgb(0%,0%,0%);stroke-opacity:1;stroke-miterlimit:10;\" d=\"M 76.703125 348.738281 L 79.777344 348.738281 \"/>\n",
       "<path style=\"fill:none;stroke-width:0.75;stroke-linecap:round;stroke-linejoin:round;stroke:rgb(0%,0%,0%);stroke-opacity:1;stroke-miterlimit:10;\" d=\"M 76.703125 274.914062 L 79.777344 274.914062 \"/>\n",
       "<path style=\"fill:none;stroke-width:0.75;stroke-linecap:round;stroke-linejoin:round;stroke:rgb(0%,0%,0%);stroke-opacity:1;stroke-miterlimit:10;\" d=\"M 75.167969 343.4375 L 81.3125 343.4375 L 81.3125 291.039062 L 75.167969 291.039062 L 75.167969 343.4375 \"/>\n",
       "<path style=\"fill:none;stroke-width:2.25;stroke-linecap:butt;stroke-linejoin:round;stroke:rgb(0%,0%,0%);stroke-opacity:1;stroke-miterlimit:10;\" d=\"M 82.847656 380.523438 L 88.992188 380.523438 \"/>\n",
       "<path style=\"fill:none;stroke-width:0.75;stroke-linecap:round;stroke-linejoin:round;stroke:rgb(0%,0%,0%);stroke-opacity:1;stroke-dasharray:3,3;stroke-miterlimit:10;\" d=\"M 85.921875 400.332031 L 85.921875 397.105469 \"/>\n",
       "<path style=\"fill:none;stroke-width:0.75;stroke-linecap:round;stroke-linejoin:round;stroke:rgb(0%,0%,0%);stroke-opacity:1;stroke-dasharray:3,3;stroke-miterlimit:10;\" d=\"M 85.921875 359.101562 L 85.921875 362.441406 \"/>\n",
       "<path style=\"fill:none;stroke-width:0.75;stroke-linecap:round;stroke-linejoin:round;stroke:rgb(0%,0%,0%);stroke-opacity:1;stroke-miterlimit:10;\" d=\"M 84.382812 400.332031 L 87.457031 400.332031 \"/>\n",
       "<path style=\"fill:none;stroke-width:0.75;stroke-linecap:round;stroke-linejoin:round;stroke:rgb(0%,0%,0%);stroke-opacity:1;stroke-miterlimit:10;\" d=\"M 84.382812 359.101562 L 87.457031 359.101562 \"/>\n",
       "<path style=\"fill:none;stroke-width:0.75;stroke-linecap:round;stroke-linejoin:round;stroke:rgb(0%,0%,0%);stroke-opacity:1;stroke-miterlimit:10;\" d=\"M 82.847656 397.105469 L 88.992188 397.105469 L 88.992188 362.441406 L 82.847656 362.441406 L 82.847656 397.105469 \"/>\n",
       "<path style=\"fill:none;stroke-width:2.25;stroke-linecap:butt;stroke-linejoin:round;stroke:rgb(0%,0%,0%);stroke-opacity:1;stroke-miterlimit:10;\" d=\"M 90.527344 384.496094 L 96.671875 384.496094 \"/>\n",
       "<path style=\"fill:none;stroke-width:0.75;stroke-linecap:round;stroke-linejoin:round;stroke:rgb(0%,0%,0%);stroke-opacity:1;stroke-dasharray:3,3;stroke-miterlimit:10;\" d=\"M 93.601562 400.675781 L 93.601562 398.375 \"/>\n",
       "<path style=\"fill:none;stroke-width:0.75;stroke-linecap:round;stroke-linejoin:round;stroke:rgb(0%,0%,0%);stroke-opacity:1;stroke-dasharray:3,3;stroke-miterlimit:10;\" d=\"M 93.601562 373.496094 L 93.601562 377.644531 \"/>\n",
       "<path style=\"fill:none;stroke-width:0.75;stroke-linecap:round;stroke-linejoin:round;stroke:rgb(0%,0%,0%);stroke-opacity:1;stroke-miterlimit:10;\" d=\"M 92.0625 400.675781 L 95.136719 400.675781 \"/>\n",
       "<path style=\"fill:none;stroke-width:0.75;stroke-linecap:round;stroke-linejoin:round;stroke:rgb(0%,0%,0%);stroke-opacity:1;stroke-miterlimit:10;\" d=\"M 92.0625 373.496094 L 95.136719 373.496094 \"/>\n",
       "<path style=\"fill:none;stroke-width:0.75;stroke-linecap:round;stroke-linejoin:round;stroke:rgb(0%,0%,0%);stroke-opacity:1;stroke-miterlimit:10;\" d=\"M 90.527344 398.375 L 96.671875 398.375 L 96.671875 377.644531 L 90.527344 377.644531 L 90.527344 398.375 \"/>\n",
       "<path style=\"fill:none;stroke-width:2.25;stroke-linecap:butt;stroke-linejoin:round;stroke:rgb(0%,0%,0%);stroke-opacity:1;stroke-miterlimit:10;\" d=\"M 98.207031 368.199219 L 104.351562 368.199219 \"/>\n",
       "<path style=\"fill:none;stroke-width:0.75;stroke-linecap:round;stroke-linejoin:round;stroke:rgb(0%,0%,0%);stroke-opacity:1;stroke-dasharray:3,3;stroke-miterlimit:10;\" d=\"M 101.28125 381.789062 L 101.28125 380.292969 \"/>\n",
       "<path style=\"fill:none;stroke-width:0.75;stroke-linecap:round;stroke-linejoin:round;stroke:rgb(0%,0%,0%);stroke-opacity:1;stroke-dasharray:3,3;stroke-miterlimit:10;\" d=\"M 101.28125 348.046875 L 101.28125 353.230469 \"/>\n",
       "<path style=\"fill:none;stroke-width:0.75;stroke-linecap:round;stroke-linejoin:round;stroke:rgb(0%,0%,0%);stroke-opacity:1;stroke-miterlimit:10;\" d=\"M 99.742188 381.789062 L 102.816406 381.789062 \"/>\n",
       "<path style=\"fill:none;stroke-width:0.75;stroke-linecap:round;stroke-linejoin:round;stroke:rgb(0%,0%,0%);stroke-opacity:1;stroke-miterlimit:10;\" d=\"M 99.742188 348.046875 L 102.816406 348.046875 \"/>\n",
       "<path style=\"fill:none;stroke-width:0.75;stroke-linecap:round;stroke-linejoin:round;stroke:rgb(0%,0%,0%);stroke-opacity:1;stroke-miterlimit:10;\" d=\"M 98.207031 380.292969 L 104.351562 380.292969 L 104.351562 353.230469 L 98.207031 353.230469 L 98.207031 380.292969 \"/>\n",
       "<path style=\"fill:none;stroke-width:2.25;stroke-linecap:butt;stroke-linejoin:round;stroke:rgb(0%,0%,0%);stroke-opacity:1;stroke-miterlimit:10;\" d=\"M 105.886719 319.195312 L 112.03125 319.195312 \"/>\n",
       "<path style=\"fill:none;stroke-width:0.75;stroke-linecap:round;stroke-linejoin:round;stroke:rgb(0%,0%,0%);stroke-opacity:1;stroke-dasharray:3,3;stroke-miterlimit:10;\" d=\"M 108.960938 335.609375 L 108.960938 330.886719 \"/>\n",
       "<path style=\"fill:none;stroke-width:0.75;stroke-linecap:round;stroke-linejoin:round;stroke:rgb(0%,0%,0%);stroke-opacity:1;stroke-dasharray:3,3;stroke-miterlimit:10;\" d=\"M 108.960938 300.367188 L 108.960938 314.53125 \"/>\n",
       "<path style=\"fill:none;stroke-width:0.75;stroke-linecap:round;stroke-linejoin:round;stroke:rgb(0%,0%,0%);stroke-opacity:1;stroke-miterlimit:10;\" d=\"M 107.425781 335.609375 L 110.496094 335.609375 \"/>\n",
       "<path style=\"fill:none;stroke-width:0.75;stroke-linecap:round;stroke-linejoin:round;stroke:rgb(0%,0%,0%);stroke-opacity:1;stroke-miterlimit:10;\" d=\"M 107.425781 300.367188 L 110.496094 300.367188 \"/>\n",
       "<path style=\"fill:none;stroke-width:0.75;stroke-linecap:round;stroke-linejoin:round;stroke:rgb(0%,0%,0%);stroke-opacity:1;stroke-miterlimit:10;\" d=\"M 105.886719 330.886719 L 112.03125 330.886719 L 112.03125 314.53125 L 105.886719 314.53125 L 105.886719 330.886719 \"/>\n",
       "<path style=\"fill:none;stroke-width:0.75;stroke-linecap:round;stroke-linejoin:round;stroke:rgb(0%,0%,0%);stroke-opacity:1;stroke-miterlimit:10;\" d=\"M 111.660156 355.761719 C 111.660156 359.363281 106.261719 359.363281 106.261719 355.761719 C 106.261719 352.164062 111.660156 352.164062 111.660156 355.761719 \"/>\n",
       "<path style=\"fill:none;stroke-width:2.25;stroke-linecap:butt;stroke-linejoin:round;stroke:rgb(0%,0%,0%);stroke-opacity:1;stroke-miterlimit:10;\" d=\"M 113.566406 376.148438 L 119.710938 376.148438 \"/>\n",
       "<path style=\"fill:none;stroke-width:0.75;stroke-linecap:round;stroke-linejoin:round;stroke:rgb(0%,0%,0%);stroke-opacity:1;stroke-dasharray:3,3;stroke-miterlimit:10;\" d=\"M 116.640625 397.105469 L 116.640625 386.855469 \"/>\n",
       "<path style=\"fill:none;stroke-width:0.75;stroke-linecap:round;stroke-linejoin:round;stroke:rgb(0%,0%,0%);stroke-opacity:1;stroke-dasharray:3,3;stroke-miterlimit:10;\" d=\"M 116.640625 351.039062 L 116.640625 359.449219 \"/>\n",
       "<path style=\"fill:none;stroke-width:0.75;stroke-linecap:round;stroke-linejoin:round;stroke:rgb(0%,0%,0%);stroke-opacity:1;stroke-miterlimit:10;\" d=\"M 115.105469 397.105469 L 118.175781 397.105469 \"/>\n",
       "<path style=\"fill:none;stroke-width:0.75;stroke-linecap:round;stroke-linejoin:round;stroke:rgb(0%,0%,0%);stroke-opacity:1;stroke-miterlimit:10;\" d=\"M 115.105469 351.039062 L 118.175781 351.039062 \"/>\n",
       "<path style=\"fill:none;stroke-width:0.75;stroke-linecap:round;stroke-linejoin:round;stroke:rgb(0%,0%,0%);stroke-opacity:1;stroke-miterlimit:10;\" d=\"M 113.566406 386.855469 L 119.710938 386.855469 L 119.710938 359.449219 L 113.566406 359.449219 L 113.566406 386.855469 \"/>\n",
       "<path style=\"fill:none;stroke-width:2.25;stroke-linecap:butt;stroke-linejoin:round;stroke:rgb(0%,0%,0%);stroke-opacity:1;stroke-miterlimit:10;\" d=\"M 121.246094 289.945312 L 127.390625 289.945312 \"/>\n",
       "<path style=\"fill:none;stroke-width:0.75;stroke-linecap:round;stroke-linejoin:round;stroke:rgb(0%,0%,0%);stroke-opacity:1;stroke-dasharray:3,3;stroke-miterlimit:10;\" d=\"M 124.320312 355.1875 L 124.320312 347.816406 \"/>\n",
       "<path style=\"fill:none;stroke-width:0.75;stroke-linecap:round;stroke-linejoin:round;stroke:rgb(0%,0%,0%);stroke-opacity:1;stroke-dasharray:3,3;stroke-miterlimit:10;\" d=\"M 124.320312 256.71875 L 124.320312 275.375 \"/>\n",
       "<path style=\"fill:none;stroke-width:0.75;stroke-linecap:round;stroke-linejoin:round;stroke:rgb(0%,0%,0%);stroke-opacity:1;stroke-miterlimit:10;\" d=\"M 122.785156 355.1875 L 125.855469 355.1875 \"/>\n",
       "<path style=\"fill:none;stroke-width:0.75;stroke-linecap:round;stroke-linejoin:round;stroke:rgb(0%,0%,0%);stroke-opacity:1;stroke-miterlimit:10;\" d=\"M 122.785156 256.71875 L 125.855469 256.71875 \"/>\n",
       "<path style=\"fill:none;stroke-width:0.75;stroke-linecap:round;stroke-linejoin:round;stroke:rgb(0%,0%,0%);stroke-opacity:1;stroke-miterlimit:10;\" d=\"M 121.246094 347.816406 L 127.390625 347.816406 L 127.390625 275.375 L 121.246094 275.375 L 121.246094 347.816406 \"/>\n",
       "<path style=\"fill:none;stroke-width:2.25;stroke-linecap:butt;stroke-linejoin:round;stroke:rgb(0%,0%,0%);stroke-opacity:1;stroke-miterlimit:10;\" d=\"M 128.929688 343.726562 L 135.070312 343.726562 \"/>\n",
       "<path style=\"fill:none;stroke-width:0.75;stroke-linecap:round;stroke-linejoin:round;stroke:rgb(0%,0%,0%);stroke-opacity:1;stroke-dasharray:3,3;stroke-miterlimit:10;\" d=\"M 132 394.804688 L 132 384.667969 \"/>\n",
       "<path style=\"fill:none;stroke-width:0.75;stroke-linecap:round;stroke-linejoin:round;stroke:rgb(0%,0%,0%);stroke-opacity:1;stroke-dasharray:3,3;stroke-miterlimit:10;\" d=\"M 132 322.25 L 132 332.613281 \"/>\n",
       "<path style=\"fill:none;stroke-width:0.75;stroke-linecap:round;stroke-linejoin:round;stroke:rgb(0%,0%,0%);stroke-opacity:1;stroke-miterlimit:10;\" d=\"M 130.464844 394.804688 L 133.535156 394.804688 \"/>\n",
       "<path style=\"fill:none;stroke-width:0.75;stroke-linecap:round;stroke-linejoin:round;stroke:rgb(0%,0%,0%);stroke-opacity:1;stroke-miterlimit:10;\" d=\"M 130.464844 322.25 L 133.535156 322.25 \"/>\n",
       "<path style=\"fill:none;stroke-width:0.75;stroke-linecap:round;stroke-linejoin:round;stroke:rgb(0%,0%,0%);stroke-opacity:1;stroke-miterlimit:10;\" d=\"M 128.929688 384.667969 L 135.070312 384.667969 L 135.070312 332.613281 L 128.929688 332.613281 L 128.929688 384.667969 \"/>\n",
       "<path style=\"fill:none;stroke-width:2.25;stroke-linecap:butt;stroke-linejoin:round;stroke:rgb(0%,0%,0%);stroke-opacity:1;stroke-miterlimit:10;\" d=\"M 136.609375 346.492188 L 142.753906 346.492188 \"/>\n",
       "<path style=\"fill:none;stroke-width:0.75;stroke-linecap:round;stroke-linejoin:round;stroke:rgb(0%,0%,0%);stroke-opacity:1;stroke-dasharray:3,3;stroke-miterlimit:10;\" d=\"M 139.679688 385.246094 L 139.679688 375.917969 \"/>\n",
       "<path style=\"fill:none;stroke-width:0.75;stroke-linecap:round;stroke-linejoin:round;stroke:rgb(0%,0%,0%);stroke-opacity:1;stroke-dasharray:3,3;stroke-miterlimit:10;\" d=\"M 139.679688 332.5 L 139.679688 342.980469 \"/>\n",
       "<path style=\"fill:none;stroke-width:0.75;stroke-linecap:round;stroke-linejoin:round;stroke:rgb(0%,0%,0%);stroke-opacity:1;stroke-miterlimit:10;\" d=\"M 138.144531 385.246094 L 141.214844 385.246094 \"/>\n",
       "<path style=\"fill:none;stroke-width:0.75;stroke-linecap:round;stroke-linejoin:round;stroke:rgb(0%,0%,0%);stroke-opacity:1;stroke-miterlimit:10;\" d=\"M 138.144531 332.5 L 141.214844 332.5 \"/>\n",
       "<path style=\"fill:none;stroke-width:0.75;stroke-linecap:round;stroke-linejoin:round;stroke:rgb(0%,0%,0%);stroke-opacity:1;stroke-miterlimit:10;\" d=\"M 136.609375 375.917969 L 142.753906 375.917969 L 142.753906 342.980469 L 136.609375 342.980469 L 136.609375 375.917969 \"/>\n",
       "<path style=\"fill:none;stroke-width:2.25;stroke-linecap:butt;stroke-linejoin:round;stroke:rgb(0%,0%,0%);stroke-opacity:1;stroke-miterlimit:10;\" d=\"M 144.289062 375.628906 L 150.433594 375.628906 \"/>\n",
       "<path style=\"fill:none;stroke-width:0.75;stroke-linecap:round;stroke-linejoin:round;stroke:rgb(0%,0%,0%);stroke-opacity:1;stroke-dasharray:3,3;stroke-miterlimit:10;\" d=\"M 147.359375 393.304688 L 147.359375 391.234375 \"/>\n",
       "<path style=\"fill:none;stroke-width:0.75;stroke-linecap:round;stroke-linejoin:round;stroke:rgb(0%,0%,0%);stroke-opacity:1;stroke-dasharray:3,3;stroke-miterlimit:10;\" d=\"M 147.359375 353.230469 L 147.359375 362.671875 \"/>\n",
       "<path style=\"fill:none;stroke-width:0.75;stroke-linecap:round;stroke-linejoin:round;stroke:rgb(0%,0%,0%);stroke-opacity:1;stroke-miterlimit:10;\" d=\"M 145.824219 393.304688 L 148.894531 393.304688 \"/>\n",
       "<path style=\"fill:none;stroke-width:0.75;stroke-linecap:round;stroke-linejoin:round;stroke:rgb(0%,0%,0%);stroke-opacity:1;stroke-miterlimit:10;\" d=\"M 145.824219 353.230469 L 148.894531 353.230469 \"/>\n",
       "<path style=\"fill:none;stroke-width:0.75;stroke-linecap:round;stroke-linejoin:round;stroke:rgb(0%,0%,0%);stroke-opacity:1;stroke-miterlimit:10;\" d=\"M 144.289062 391.234375 L 150.433594 391.234375 L 150.433594 362.671875 L 144.289062 362.671875 L 144.289062 391.234375 \"/>\n",
       "<path style=\"fill:none;stroke-width:2.25;stroke-linecap:butt;stroke-linejoin:round;stroke:rgb(0%,0%,0%);stroke-opacity:1;stroke-miterlimit:10;\" d=\"M 151.96875 223.378906 L 158.113281 223.378906 \"/>\n",
       "<path style=\"fill:none;stroke-width:0.75;stroke-linecap:round;stroke-linejoin:round;stroke:rgb(0%,0%,0%);stroke-opacity:1;stroke-dasharray:3,3;stroke-miterlimit:10;\" d=\"M 155.039062 310.617188 L 155.039062 298.179688 \"/>\n",
       "<path style=\"fill:none;stroke-width:0.75;stroke-linecap:round;stroke-linejoin:round;stroke:rgb(0%,0%,0%);stroke-opacity:1;stroke-dasharray:3,3;stroke-miterlimit:10;\" d=\"M 155.039062 72.800781 L 155.039062 128.539062 \"/>\n",
       "<path style=\"fill:none;stroke-width:0.75;stroke-linecap:round;stroke-linejoin:round;stroke:rgb(0%,0%,0%);stroke-opacity:1;stroke-miterlimit:10;\" d=\"M 153.503906 310.617188 L 156.574219 310.617188 \"/>\n",
       "<path style=\"fill:none;stroke-width:0.75;stroke-linecap:round;stroke-linejoin:round;stroke:rgb(0%,0%,0%);stroke-opacity:1;stroke-miterlimit:10;\" d=\"M 153.503906 72.800781 L 156.574219 72.800781 \"/>\n",
       "<path style=\"fill:none;stroke-width:0.75;stroke-linecap:round;stroke-linejoin:round;stroke:rgb(0%,0%,0%);stroke-opacity:1;stroke-miterlimit:10;\" d=\"M 151.96875 298.179688 L 158.113281 298.179688 L 158.113281 128.539062 L 151.96875 128.539062 L 151.96875 298.179688 \"/>\n",
       "<path style=\"fill:none;stroke-width:2.25;stroke-linecap:butt;stroke-linejoin:round;stroke:rgb(0%,0%,0%);stroke-opacity:1;stroke-miterlimit:10;\" d=\"M 159.648438 385.820312 L 165.792969 385.820312 \"/>\n",
       "<path style=\"fill:none;stroke-width:0.75;stroke-linecap:round;stroke-linejoin:round;stroke:rgb(0%,0%,0%);stroke-opacity:1;stroke-dasharray:3,3;stroke-miterlimit:10;\" d=\"M 162.71875 396.53125 L 162.71875 394.113281 \"/>\n",
       "<path style=\"fill:none;stroke-width:0.75;stroke-linecap:round;stroke-linejoin:round;stroke:rgb(0%,0%,0%);stroke-opacity:1;stroke-dasharray:3,3;stroke-miterlimit:10;\" d=\"M 162.71875 371.886719 L 162.71875 377.757812 \"/>\n",
       "<path style=\"fill:none;stroke-width:0.75;stroke-linecap:round;stroke-linejoin:round;stroke:rgb(0%,0%,0%);stroke-opacity:1;stroke-miterlimit:10;\" d=\"M 161.183594 396.53125 L 164.257812 396.53125 \"/>\n",
       "<path style=\"fill:none;stroke-width:0.75;stroke-linecap:round;stroke-linejoin:round;stroke:rgb(0%,0%,0%);stroke-opacity:1;stroke-miterlimit:10;\" d=\"M 161.183594 371.886719 L 164.257812 371.886719 \"/>\n",
       "<path style=\"fill:none;stroke-width:0.75;stroke-linecap:round;stroke-linejoin:round;stroke:rgb(0%,0%,0%);stroke-opacity:1;stroke-miterlimit:10;\" d=\"M 159.648438 394.113281 L 165.792969 394.113281 L 165.792969 377.757812 L 159.648438 377.757812 L 159.648438 394.113281 \"/>\n",
       "<path style=\"fill:none;stroke-width:2.25;stroke-linecap:butt;stroke-linejoin:round;stroke:rgb(0%,0%,0%);stroke-opacity:1;stroke-miterlimit:10;\" d=\"M 167.328125 402.632812 L 173.472656 402.632812 \"/>\n",
       "<path style=\"fill:none;stroke-width:0.75;stroke-linecap:round;stroke-linejoin:round;stroke:rgb(0%,0%,0%);stroke-opacity:1;stroke-dasharray:3,3;stroke-miterlimit:10;\" d=\"M 170.398438 416.800781 L 170.398438 407.585938 \"/>\n",
       "<path style=\"fill:none;stroke-width:0.75;stroke-linecap:round;stroke-linejoin:round;stroke:rgb(0%,0%,0%);stroke-opacity:1;stroke-dasharray:3,3;stroke-miterlimit:10;\" d=\"M 170.398438 377.527344 L 170.398438 389.851562 \"/>\n",
       "<path style=\"fill:none;stroke-width:0.75;stroke-linecap:round;stroke-linejoin:round;stroke:rgb(0%,0%,0%);stroke-opacity:1;stroke-miterlimit:10;\" d=\"M 168.863281 416.800781 L 171.9375 416.800781 \"/>\n",
       "<path style=\"fill:none;stroke-width:0.75;stroke-linecap:round;stroke-linejoin:round;stroke:rgb(0%,0%,0%);stroke-opacity:1;stroke-miterlimit:10;\" d=\"M 168.863281 377.527344 L 171.9375 377.527344 \"/>\n",
       "<path style=\"fill:none;stroke-width:0.75;stroke-linecap:round;stroke-linejoin:round;stroke:rgb(0%,0%,0%);stroke-opacity:1;stroke-miterlimit:10;\" d=\"M 167.328125 407.585938 L 173.472656 407.585938 L 173.472656 389.851562 L 167.328125 389.851562 L 167.328125 407.585938 \"/>\n",
       "<path style=\"fill:none;stroke-width:2.25;stroke-linecap:butt;stroke-linejoin:round;stroke:rgb(0%,0%,0%);stroke-opacity:1;stroke-miterlimit:10;\" d=\"M 175.007812 376.550781 L 181.152344 376.550781 \"/>\n",
       "<path style=\"fill:none;stroke-width:0.75;stroke-linecap:round;stroke-linejoin:round;stroke:rgb(0%,0%,0%);stroke-opacity:1;stroke-dasharray:3,3;stroke-miterlimit:10;\" d=\"M 178.078125 386.511719 L 178.078125 384.898438 \"/>\n",
       "<path style=\"fill:none;stroke-width:0.75;stroke-linecap:round;stroke-linejoin:round;stroke:rgb(0%,0%,0%);stroke-opacity:1;stroke-dasharray:3,3;stroke-miterlimit:10;\" d=\"M 178.078125 358.527344 L 178.078125 361.519531 \"/>\n",
       "<path style=\"fill:none;stroke-width:0.75;stroke-linecap:round;stroke-linejoin:round;stroke:rgb(0%,0%,0%);stroke-opacity:1;stroke-miterlimit:10;\" d=\"M 176.542969 386.511719 L 179.617188 386.511719 \"/>\n",
       "<path style=\"fill:none;stroke-width:0.75;stroke-linecap:round;stroke-linejoin:round;stroke:rgb(0%,0%,0%);stroke-opacity:1;stroke-miterlimit:10;\" d=\"M 176.542969 358.527344 L 179.617188 358.527344 \"/>\n",
       "<path style=\"fill:none;stroke-width:0.75;stroke-linecap:round;stroke-linejoin:round;stroke:rgb(0%,0%,0%);stroke-opacity:1;stroke-miterlimit:10;\" d=\"M 175.007812 384.898438 L 181.152344 384.898438 L 181.152344 361.519531 L 175.007812 361.519531 L 175.007812 384.898438 \"/>\n",
       "<path style=\"fill:none;stroke-width:2.25;stroke-linecap:butt;stroke-linejoin:round;stroke:rgb(0%,0%,0%);stroke-opacity:1;stroke-miterlimit:10;\" d=\"M 182.6875 390.195312 L 188.832031 390.195312 \"/>\n",
       "<path style=\"fill:none;stroke-width:0.75;stroke-linecap:round;stroke-linejoin:round;stroke:rgb(0%,0%,0%);stroke-opacity:1;stroke-dasharray:3,3;stroke-miterlimit:10;\" d=\"M 185.761719 405.167969 L 185.761719 402.980469 \"/>\n",
       "<path style=\"fill:none;stroke-width:0.75;stroke-linecap:round;stroke-linejoin:round;stroke:rgb(0%,0%,0%);stroke-opacity:1;stroke-dasharray:3,3;stroke-miterlimit:10;\" d=\"M 185.761719 364.285156 L 185.761719 376.492188 \"/>\n",
       "<path style=\"fill:none;stroke-width:0.75;stroke-linecap:round;stroke-linejoin:round;stroke:rgb(0%,0%,0%);stroke-opacity:1;stroke-miterlimit:10;\" d=\"M 184.222656 405.167969 L 187.296875 405.167969 \"/>\n",
       "<path style=\"fill:none;stroke-width:0.75;stroke-linecap:round;stroke-linejoin:round;stroke:rgb(0%,0%,0%);stroke-opacity:1;stroke-miterlimit:10;\" d=\"M 184.222656 364.285156 L 187.296875 364.285156 \"/>\n",
       "<path style=\"fill:none;stroke-width:0.75;stroke-linecap:round;stroke-linejoin:round;stroke:rgb(0%,0%,0%);stroke-opacity:1;stroke-miterlimit:10;\" d=\"M 182.6875 402.980469 L 188.832031 402.980469 L 188.832031 376.492188 L 182.6875 376.492188 L 182.6875 402.980469 \"/>\n",
       "<path style=\"fill:none;stroke-width:2.25;stroke-linecap:butt;stroke-linejoin:round;stroke:rgb(0%,0%,0%);stroke-opacity:1;stroke-miterlimit:10;\" d=\"M 190.367188 385.761719 L 196.511719 385.761719 \"/>\n",
       "<path style=\"fill:none;stroke-width:0.75;stroke-linecap:round;stroke-linejoin:round;stroke:rgb(0%,0%,0%);stroke-opacity:1;stroke-dasharray:3,3;stroke-miterlimit:10;\" d=\"M 193.441406 392.960938 L 193.441406 391.695312 \"/>\n",
       "<path style=\"fill:none;stroke-width:0.75;stroke-linecap:round;stroke-linejoin:round;stroke:rgb(0%,0%,0%);stroke-opacity:1;stroke-dasharray:3,3;stroke-miterlimit:10;\" d=\"M 193.441406 352.882812 L 193.441406 368.660156 \"/>\n",
       "<path style=\"fill:none;stroke-width:0.75;stroke-linecap:round;stroke-linejoin:round;stroke:rgb(0%,0%,0%);stroke-opacity:1;stroke-miterlimit:10;\" d=\"M 191.902344 392.960938 L 194.976562 392.960938 \"/>\n",
       "<path style=\"fill:none;stroke-width:0.75;stroke-linecap:round;stroke-linejoin:round;stroke:rgb(0%,0%,0%);stroke-opacity:1;stroke-miterlimit:10;\" d=\"M 191.902344 352.882812 L 194.976562 352.882812 \"/>\n",
       "<path style=\"fill:none;stroke-width:0.75;stroke-linecap:round;stroke-linejoin:round;stroke:rgb(0%,0%,0%);stroke-opacity:1;stroke-miterlimit:10;\" d=\"M 190.367188 391.695312 L 196.511719 391.695312 L 196.511719 368.660156 L 190.367188 368.660156 L 190.367188 391.695312 \"/>\n",
       "<path style=\"fill:none;stroke-width:2.25;stroke-linecap:butt;stroke-linejoin:round;stroke:rgb(0%,0%,0%);stroke-opacity:1;stroke-miterlimit:10;\" d=\"M 198.046875 399.929688 L 204.191406 399.929688 \"/>\n",
       "<path style=\"fill:none;stroke-width:0.75;stroke-linecap:round;stroke-linejoin:round;stroke:rgb(0%,0%,0%);stroke-opacity:1;stroke-dasharray:3,3;stroke-miterlimit:10;\" d=\"M 201.121094 416.683594 L 201.121094 413.921875 \"/>\n",
       "<path style=\"fill:none;stroke-width:0.75;stroke-linecap:round;stroke-linejoin:round;stroke:rgb(0%,0%,0%);stroke-opacity:1;stroke-dasharray:3,3;stroke-miterlimit:10;\" d=\"M 201.121094 376.261719 L 201.121094 387.316406 \"/>\n",
       "<path style=\"fill:none;stroke-width:0.75;stroke-linecap:round;stroke-linejoin:round;stroke:rgb(0%,0%,0%);stroke-opacity:1;stroke-miterlimit:10;\" d=\"M 199.585938 416.683594 L 202.65625 416.683594 \"/>\n",
       "<path style=\"fill:none;stroke-width:0.75;stroke-linecap:round;stroke-linejoin:round;stroke:rgb(0%,0%,0%);stroke-opacity:1;stroke-miterlimit:10;\" d=\"M 199.585938 376.261719 L 202.65625 376.261719 \"/>\n",
       "<path style=\"fill:none;stroke-width:0.75;stroke-linecap:round;stroke-linejoin:round;stroke:rgb(0%,0%,0%);stroke-opacity:1;stroke-miterlimit:10;\" d=\"M 198.046875 413.921875 L 204.191406 413.921875 L 204.191406 387.316406 L 198.046875 387.316406 L 198.046875 413.921875 \"/>\n",
       "<path style=\"fill:none;stroke-width:2.25;stroke-linecap:butt;stroke-linejoin:round;stroke:rgb(0%,0%,0%);stroke-opacity:1;stroke-miterlimit:10;\" d=\"M 205.726562 379.542969 L 211.871094 379.542969 \"/>\n",
       "<path style=\"fill:none;stroke-width:0.75;stroke-linecap:round;stroke-linejoin:round;stroke:rgb(0%,0%,0%);stroke-opacity:1;stroke-dasharray:3,3;stroke-miterlimit:10;\" d=\"M 208.800781 395.839844 L 208.800781 385.015625 \"/>\n",
       "<path style=\"fill:none;stroke-width:0.75;stroke-linecap:round;stroke-linejoin:round;stroke:rgb(0%,0%,0%);stroke-opacity:1;stroke-dasharray:3,3;stroke-miterlimit:10;\" d=\"M 208.800781 356.109375 L 208.800781 372.230469 \"/>\n",
       "<path style=\"fill:none;stroke-width:0.75;stroke-linecap:round;stroke-linejoin:round;stroke:rgb(0%,0%,0%);stroke-opacity:1;stroke-miterlimit:10;\" d=\"M 207.265625 395.839844 L 210.335938 395.839844 \"/>\n",
       "<path style=\"fill:none;stroke-width:0.75;stroke-linecap:round;stroke-linejoin:round;stroke:rgb(0%,0%,0%);stroke-opacity:1;stroke-miterlimit:10;\" d=\"M 207.265625 356.109375 L 210.335938 356.109375 \"/>\n",
       "<path style=\"fill:none;stroke-width:0.75;stroke-linecap:round;stroke-linejoin:round;stroke:rgb(0%,0%,0%);stroke-opacity:1;stroke-miterlimit:10;\" d=\"M 205.726562 385.015625 L 211.871094 385.015625 L 211.871094 372.230469 L 205.726562 372.230469 L 205.726562 385.015625 \"/>\n",
       "<path style=\"fill:none;stroke-width:2.25;stroke-linecap:butt;stroke-linejoin:round;stroke:rgb(0%,0%,0%);stroke-opacity:1;stroke-miterlimit:10;\" d=\"M 213.40625 304.167969 L 219.550781 304.167969 \"/>\n",
       "<path style=\"fill:none;stroke-width:0.75;stroke-linecap:round;stroke-linejoin:round;stroke:rgb(0%,0%,0%);stroke-opacity:1;stroke-dasharray:3,3;stroke-miterlimit:10;\" d=\"M 216.480469 355.53125 L 216.480469 340.789062 \"/>\n",
       "<path style=\"fill:none;stroke-width:0.75;stroke-linecap:round;stroke-linejoin:round;stroke:rgb(0%,0%,0%);stroke-opacity:1;stroke-dasharray:3,3;stroke-miterlimit:10;\" d=\"M 216.480469 277.910156 L 216.480469 290.234375 \"/>\n",
       "<path style=\"fill:none;stroke-width:0.75;stroke-linecap:round;stroke-linejoin:round;stroke:rgb(0%,0%,0%);stroke-opacity:1;stroke-miterlimit:10;\" d=\"M 214.945312 355.53125 L 218.015625 355.53125 \"/>\n",
       "<path style=\"fill:none;stroke-width:0.75;stroke-linecap:round;stroke-linejoin:round;stroke:rgb(0%,0%,0%);stroke-opacity:1;stroke-miterlimit:10;\" d=\"M 214.945312 277.910156 L 218.015625 277.910156 \"/>\n",
       "<path style=\"fill:none;stroke-width:0.75;stroke-linecap:round;stroke-linejoin:round;stroke:rgb(0%,0%,0%);stroke-opacity:1;stroke-miterlimit:10;\" d=\"M 213.40625 340.789062 L 219.550781 340.789062 L 219.550781 290.234375 L 213.40625 290.234375 L 213.40625 340.789062 \"/>\n",
       "<path style=\"fill:none;stroke-width:2.25;stroke-linecap:butt;stroke-linejoin:round;stroke:rgb(0%,0%,0%);stroke-opacity:1;stroke-miterlimit:10;\" d=\"M 221.089844 342.574219 L 227.230469 342.574219 \"/>\n",
       "<path style=\"fill:none;stroke-width:0.75;stroke-linecap:round;stroke-linejoin:round;stroke:rgb(0%,0%,0%);stroke-opacity:1;stroke-dasharray:3,3;stroke-miterlimit:10;\" d=\"M 224.160156 393.652344 L 224.160156 387.203125 \"/>\n",
       "<path style=\"fill:none;stroke-width:0.75;stroke-linecap:round;stroke-linejoin:round;stroke:rgb(0%,0%,0%);stroke-opacity:1;stroke-dasharray:3,3;stroke-miterlimit:10;\" d=\"M 224.160156 314.070312 L 224.160156 327.429688 \"/>\n",
       "<path style=\"fill:none;stroke-width:0.75;stroke-linecap:round;stroke-linejoin:round;stroke:rgb(0%,0%,0%);stroke-opacity:1;stroke-miterlimit:10;\" d=\"M 222.625 393.652344 L 225.695312 393.652344 \"/>\n",
       "<path style=\"fill:none;stroke-width:0.75;stroke-linecap:round;stroke-linejoin:round;stroke:rgb(0%,0%,0%);stroke-opacity:1;stroke-miterlimit:10;\" d=\"M 222.625 314.070312 L 225.695312 314.070312 \"/>\n",
       "<path style=\"fill:none;stroke-width:0.75;stroke-linecap:round;stroke-linejoin:round;stroke:rgb(0%,0%,0%);stroke-opacity:1;stroke-miterlimit:10;\" d=\"M 221.089844 387.203125 L 227.230469 387.203125 L 227.230469 327.429688 L 221.089844 327.429688 L 221.089844 387.203125 \"/>\n",
       "<path style=\"fill:none;stroke-width:2.25;stroke-linecap:butt;stroke-linejoin:round;stroke:rgb(0%,0%,0%);stroke-opacity:1;stroke-miterlimit:10;\" d=\"M 228.769531 328.871094 L 234.910156 328.871094 \"/>\n",
       "<path style=\"fill:none;stroke-width:0.75;stroke-linecap:round;stroke-linejoin:round;stroke:rgb(0%,0%,0%);stroke-opacity:1;stroke-dasharray:3,3;stroke-miterlimit:10;\" d=\"M 231.839844 353.230469 L 231.839844 345.628906 \"/>\n",
       "<path style=\"fill:none;stroke-width:0.75;stroke-linecap:round;stroke-linejoin:round;stroke:rgb(0%,0%,0%);stroke-opacity:1;stroke-dasharray:3,3;stroke-miterlimit:10;\" d=\"M 231.839844 296.796875 L 231.839844 316.953125 \"/>\n",
       "<path style=\"fill:none;stroke-width:0.75;stroke-linecap:round;stroke-linejoin:round;stroke:rgb(0%,0%,0%);stroke-opacity:1;stroke-miterlimit:10;\" d=\"M 230.304688 353.230469 L 233.375 353.230469 \"/>\n",
       "<path style=\"fill:none;stroke-width:0.75;stroke-linecap:round;stroke-linejoin:round;stroke:rgb(0%,0%,0%);stroke-opacity:1;stroke-miterlimit:10;\" d=\"M 230.304688 296.796875 L 233.375 296.796875 \"/>\n",
       "<path style=\"fill:none;stroke-width:0.75;stroke-linecap:round;stroke-linejoin:round;stroke:rgb(0%,0%,0%);stroke-opacity:1;stroke-miterlimit:10;\" d=\"M 228.769531 345.628906 L 234.910156 345.628906 L 234.910156 316.953125 L 228.769531 316.953125 L 228.769531 345.628906 \"/>\n",
       "<path style=\"fill:none;stroke-width:2.25;stroke-linecap:butt;stroke-linejoin:round;stroke:rgb(0%,0%,0%);stroke-opacity:1;stroke-miterlimit:10;\" d=\"M 236.449219 368.832031 L 242.59375 368.832031 \"/>\n",
       "<path style=\"fill:none;stroke-width:0.75;stroke-linecap:round;stroke-linejoin:round;stroke:rgb(0%,0%,0%);stroke-opacity:1;stroke-dasharray:3,3;stroke-miterlimit:10;\" d=\"M 239.519531 385.9375 L 239.519531 383.171875 \"/>\n",
       "<path style=\"fill:none;stroke-width:0.75;stroke-linecap:round;stroke-linejoin:round;stroke:rgb(0%,0%,0%);stroke-opacity:1;stroke-dasharray:3,3;stroke-miterlimit:10;\" d=\"M 239.519531 335.722656 L 239.519531 351.039062 \"/>\n",
       "<path style=\"fill:none;stroke-width:0.75;stroke-linecap:round;stroke-linejoin:round;stroke:rgb(0%,0%,0%);stroke-opacity:1;stroke-miterlimit:10;\" d=\"M 237.984375 385.9375 L 241.054688 385.9375 \"/>\n",
       "<path style=\"fill:none;stroke-width:0.75;stroke-linecap:round;stroke-linejoin:round;stroke:rgb(0%,0%,0%);stroke-opacity:1;stroke-miterlimit:10;\" d=\"M 237.984375 335.722656 L 241.054688 335.722656 \"/>\n",
       "<path style=\"fill:none;stroke-width:0.75;stroke-linecap:round;stroke-linejoin:round;stroke:rgb(0%,0%,0%);stroke-opacity:1;stroke-miterlimit:10;\" d=\"M 236.449219 383.171875 L 242.59375 383.171875 L 242.59375 351.039062 L 236.449219 351.039062 L 236.449219 383.171875 \"/>\n",
       "<path style=\"fill:none;stroke-width:2.25;stroke-linecap:butt;stroke-linejoin:round;stroke:rgb(0%,0%,0%);stroke-opacity:1;stroke-miterlimit:10;\" d=\"M 244.128906 381.789062 L 250.273438 381.789062 \"/>\n",
       "<path style=\"fill:none;stroke-width:0.75;stroke-linecap:round;stroke-linejoin:round;stroke:rgb(0%,0%,0%);stroke-opacity:1;stroke-dasharray:3,3;stroke-miterlimit:10;\" d=\"M 247.199219 398.027344 L 247.199219 395.609375 \"/>\n",
       "<path style=\"fill:none;stroke-width:0.75;stroke-linecap:round;stroke-linejoin:round;stroke:rgb(0%,0%,0%);stroke-opacity:1;stroke-dasharray:3,3;stroke-miterlimit:10;\" d=\"M 247.199219 356.453125 L 247.199219 367.96875 \"/>\n",
       "<path style=\"fill:none;stroke-width:0.75;stroke-linecap:round;stroke-linejoin:round;stroke:rgb(0%,0%,0%);stroke-opacity:1;stroke-miterlimit:10;\" d=\"M 245.664062 398.027344 L 248.734375 398.027344 \"/>\n",
       "<path style=\"fill:none;stroke-width:0.75;stroke-linecap:round;stroke-linejoin:round;stroke:rgb(0%,0%,0%);stroke-opacity:1;stroke-miterlimit:10;\" d=\"M 245.664062 356.453125 L 248.734375 356.453125 \"/>\n",
       "<path style=\"fill:none;stroke-width:0.75;stroke-linecap:round;stroke-linejoin:round;stroke:rgb(0%,0%,0%);stroke-opacity:1;stroke-miterlimit:10;\" d=\"M 244.128906 395.609375 L 250.273438 395.609375 L 250.273438 367.96875 L 244.128906 367.96875 L 244.128906 395.609375 \"/>\n",
       "<path style=\"fill:none;stroke-width:2.25;stroke-linecap:butt;stroke-linejoin:round;stroke:rgb(0%,0%,0%);stroke-opacity:1;stroke-miterlimit:10;\" d=\"M 251.808594 390.773438 L 257.953125 390.773438 \"/>\n",
       "<path style=\"fill:none;stroke-width:0.75;stroke-linecap:round;stroke-linejoin:round;stroke:rgb(0%,0%,0%);stroke-opacity:1;stroke-dasharray:3,3;stroke-miterlimit:10;\" d=\"M 254.878906 395.496094 L 254.878906 394.917969 \"/>\n",
       "<path style=\"fill:none;stroke-width:0.75;stroke-linecap:round;stroke-linejoin:round;stroke:rgb(0%,0%,0%);stroke-opacity:1;stroke-dasharray:3,3;stroke-miterlimit:10;\" d=\"M 254.878906 360.714844 L 254.878906 375.226562 \"/>\n",
       "<path style=\"fill:none;stroke-width:0.75;stroke-linecap:round;stroke-linejoin:round;stroke:rgb(0%,0%,0%);stroke-opacity:1;stroke-miterlimit:10;\" d=\"M 253.34375 395.496094 L 256.414062 395.496094 \"/>\n",
       "<path style=\"fill:none;stroke-width:0.75;stroke-linecap:round;stroke-linejoin:round;stroke:rgb(0%,0%,0%);stroke-opacity:1;stroke-miterlimit:10;\" d=\"M 253.34375 360.714844 L 256.414062 360.714844 \"/>\n",
       "<path style=\"fill:none;stroke-width:0.75;stroke-linecap:round;stroke-linejoin:round;stroke:rgb(0%,0%,0%);stroke-opacity:1;stroke-miterlimit:10;\" d=\"M 251.808594 394.917969 L 257.953125 394.917969 L 257.953125 375.226562 L 251.808594 375.226562 L 251.808594 394.917969 \"/>\n",
       "<path style=\"fill:none;stroke-width:2.25;stroke-linecap:butt;stroke-linejoin:round;stroke:rgb(0%,0%,0%);stroke-opacity:1;stroke-miterlimit:10;\" d=\"M 259.488281 370.617188 L 265.632812 370.617188 \"/>\n",
       "<path style=\"fill:none;stroke-width:0.75;stroke-linecap:round;stroke-linejoin:round;stroke:rgb(0%,0%,0%);stroke-opacity:1;stroke-dasharray:3,3;stroke-miterlimit:10;\" d=\"M 262.558594 397.453125 L 262.558594 390.425781 \"/>\n",
       "<path style=\"fill:none;stroke-width:0.75;stroke-linecap:round;stroke-linejoin:round;stroke:rgb(0%,0%,0%);stroke-opacity:1;stroke-dasharray:3,3;stroke-miterlimit:10;\" d=\"M 262.558594 359.90625 L 262.558594 363.707031 \"/>\n",
       "<path style=\"fill:none;stroke-width:0.75;stroke-linecap:round;stroke-linejoin:round;stroke:rgb(0%,0%,0%);stroke-opacity:1;stroke-miterlimit:10;\" d=\"M 261.023438 397.453125 L 264.097656 397.453125 \"/>\n",
       "<path style=\"fill:none;stroke-width:0.75;stroke-linecap:round;stroke-linejoin:round;stroke:rgb(0%,0%,0%);stroke-opacity:1;stroke-miterlimit:10;\" d=\"M 261.023438 359.90625 L 264.097656 359.90625 \"/>\n",
       "<path style=\"fill:none;stroke-width:0.75;stroke-linecap:round;stroke-linejoin:round;stroke:rgb(0%,0%,0%);stroke-opacity:1;stroke-miterlimit:10;\" d=\"M 259.488281 390.425781 L 265.632812 390.425781 L 265.632812 363.707031 L 259.488281 363.707031 L 259.488281 390.425781 \"/>\n",
       "<path style=\"fill:none;stroke-width:2.25;stroke-linecap:butt;stroke-linejoin:round;stroke:rgb(0%,0%,0%);stroke-opacity:1;stroke-miterlimit:10;\" d=\"M 267.167969 383.976562 L 273.3125 383.976562 \"/>\n",
       "<path style=\"fill:none;stroke-width:0.75;stroke-linecap:round;stroke-linejoin:round;stroke:rgb(0%,0%,0%);stroke-opacity:1;stroke-dasharray:3,3;stroke-miterlimit:10;\" d=\"M 270.238281 407.242188 L 270.238281 391.117188 \"/>\n",
       "<path style=\"fill:none;stroke-width:0.75;stroke-linecap:round;stroke-linejoin:round;stroke:rgb(0%,0%,0%);stroke-opacity:1;stroke-dasharray:3,3;stroke-miterlimit:10;\" d=\"M 270.238281 366.011719 L 270.238281 374.535156 \"/>\n",
       "<path style=\"fill:none;stroke-width:0.75;stroke-linecap:round;stroke-linejoin:round;stroke:rgb(0%,0%,0%);stroke-opacity:1;stroke-miterlimit:10;\" d=\"M 268.703125 407.242188 L 271.777344 407.242188 \"/>\n",
       "<path style=\"fill:none;stroke-width:0.75;stroke-linecap:round;stroke-linejoin:round;stroke:rgb(0%,0%,0%);stroke-opacity:1;stroke-miterlimit:10;\" d=\"M 268.703125 366.011719 L 271.777344 366.011719 \"/>\n",
       "<path style=\"fill:none;stroke-width:0.75;stroke-linecap:round;stroke-linejoin:round;stroke:rgb(0%,0%,0%);stroke-opacity:1;stroke-miterlimit:10;\" d=\"M 267.167969 391.117188 L 273.3125 391.117188 L 273.3125 374.535156 L 267.167969 374.535156 L 267.167969 391.117188 \"/>\n",
       "<path style=\"fill:none;stroke-width:2.25;stroke-linecap:butt;stroke-linejoin:round;stroke:rgb(0%,0%,0%);stroke-opacity:1;stroke-miterlimit:10;\" d=\"M 274.847656 376.375 L 280.992188 376.375 \"/>\n",
       "<path style=\"fill:none;stroke-width:0.75;stroke-linecap:round;stroke-linejoin:round;stroke:rgb(0%,0%,0%);stroke-opacity:1;stroke-dasharray:3,3;stroke-miterlimit:10;\" d=\"M 277.921875 390.195312 L 277.921875 385.820312 \"/>\n",
       "<path style=\"fill:none;stroke-width:0.75;stroke-linecap:round;stroke-linejoin:round;stroke:rgb(0%,0%,0%);stroke-opacity:1;stroke-dasharray:3,3;stroke-miterlimit:10;\" d=\"M 277.921875 358.410156 L 277.921875 365.207031 \"/>\n",
       "<path style=\"fill:none;stroke-width:0.75;stroke-linecap:round;stroke-linejoin:round;stroke:rgb(0%,0%,0%);stroke-opacity:1;stroke-miterlimit:10;\" d=\"M 276.382812 390.195312 L 279.457031 390.195312 \"/>\n",
       "<path style=\"fill:none;stroke-width:0.75;stroke-linecap:round;stroke-linejoin:round;stroke:rgb(0%,0%,0%);stroke-opacity:1;stroke-miterlimit:10;\" d=\"M 276.382812 358.410156 L 279.457031 358.410156 \"/>\n",
       "<path style=\"fill:none;stroke-width:0.75;stroke-linecap:round;stroke-linejoin:round;stroke:rgb(0%,0%,0%);stroke-opacity:1;stroke-miterlimit:10;\" d=\"M 274.847656 385.820312 L 280.992188 385.820312 L 280.992188 365.207031 L 274.847656 365.207031 L 274.847656 385.820312 \"/>\n",
       "<path style=\"fill:none;stroke-width:2.25;stroke-linecap:butt;stroke-linejoin:round;stroke:rgb(0%,0%,0%);stroke-opacity:1;stroke-miterlimit:10;\" d=\"M 282.527344 392.097656 L 288.671875 392.097656 \"/>\n",
       "<path style=\"fill:none;stroke-width:0.75;stroke-linecap:round;stroke-linejoin:round;stroke:rgb(0%,0%,0%);stroke-opacity:1;stroke-dasharray:3,3;stroke-miterlimit:10;\" d=\"M 285.601562 402.175781 L 285.601562 401.714844 \"/>\n",
       "<path style=\"fill:none;stroke-width:0.75;stroke-linecap:round;stroke-linejoin:round;stroke:rgb(0%,0%,0%);stroke-opacity:1;stroke-dasharray:3,3;stroke-miterlimit:10;\" d=\"M 285.601562 370.386719 L 285.601562 382.941406 \"/>\n",
       "<path style=\"fill:none;stroke-width:0.75;stroke-linecap:round;stroke-linejoin:round;stroke:rgb(0%,0%,0%);stroke-opacity:1;stroke-miterlimit:10;\" d=\"M 284.0625 402.175781 L 287.136719 402.175781 \"/>\n",
       "<path style=\"fill:none;stroke-width:0.75;stroke-linecap:round;stroke-linejoin:round;stroke:rgb(0%,0%,0%);stroke-opacity:1;stroke-miterlimit:10;\" d=\"M 284.0625 370.386719 L 287.136719 370.386719 \"/>\n",
       "<path style=\"fill:none;stroke-width:0.75;stroke-linecap:round;stroke-linejoin:round;stroke:rgb(0%,0%,0%);stroke-opacity:1;stroke-miterlimit:10;\" d=\"M 282.527344 401.714844 L 288.671875 401.714844 L 288.671875 382.941406 L 282.527344 382.941406 L 282.527344 401.714844 \"/>\n",
       "<path style=\"fill:none;stroke-width:2.25;stroke-linecap:butt;stroke-linejoin:round;stroke:rgb(0%,0%,0%);stroke-opacity:1;stroke-miterlimit:10;\" d=\"M 290.207031 393.710938 L 296.351562 393.710938 \"/>\n",
       "<path style=\"fill:none;stroke-width:0.75;stroke-linecap:round;stroke-linejoin:round;stroke:rgb(0%,0%,0%);stroke-opacity:1;stroke-dasharray:3,3;stroke-miterlimit:10;\" d=\"M 293.28125 403.671875 L 293.28125 399.871094 \"/>\n",
       "<path style=\"fill:none;stroke-width:0.75;stroke-linecap:round;stroke-linejoin:round;stroke:rgb(0%,0%,0%);stroke-opacity:1;stroke-dasharray:3,3;stroke-miterlimit:10;\" d=\"M 293.28125 364.167969 L 293.28125 378.21875 \"/>\n",
       "<path style=\"fill:none;stroke-width:0.75;stroke-linecap:round;stroke-linejoin:round;stroke:rgb(0%,0%,0%);stroke-opacity:1;stroke-miterlimit:10;\" d=\"M 291.742188 403.671875 L 294.816406 403.671875 \"/>\n",
       "<path style=\"fill:none;stroke-width:0.75;stroke-linecap:round;stroke-linejoin:round;stroke:rgb(0%,0%,0%);stroke-opacity:1;stroke-miterlimit:10;\" d=\"M 291.742188 364.167969 L 294.816406 364.167969 \"/>\n",
       "<path style=\"fill:none;stroke-width:0.75;stroke-linecap:round;stroke-linejoin:round;stroke:rgb(0%,0%,0%);stroke-opacity:1;stroke-miterlimit:10;\" d=\"M 290.207031 399.871094 L 296.351562 399.871094 L 296.351562 378.21875 L 290.207031 378.21875 L 290.207031 399.871094 \"/>\n",
       "<path style=\"fill:none;stroke-width:2.25;stroke-linecap:butt;stroke-linejoin:round;stroke:rgb(0%,0%,0%);stroke-opacity:1;stroke-miterlimit:10;\" d=\"M 297.886719 304.628906 L 304.03125 304.628906 \"/>\n",
       "<path style=\"fill:none;stroke-width:0.75;stroke-linecap:round;stroke-linejoin:round;stroke:rgb(0%,0%,0%);stroke-opacity:1;stroke-dasharray:3,3;stroke-miterlimit:10;\" d=\"M 300.960938 342.75 L 300.960938 335.261719 \"/>\n",
       "<path style=\"fill:none;stroke-width:0.75;stroke-linecap:round;stroke-linejoin:round;stroke:rgb(0%,0%,0%);stroke-opacity:1;stroke-dasharray:3,3;stroke-miterlimit:10;\" d=\"M 300.960938 291.039062 L 300.960938 296.335938 \"/>\n",
       "<path style=\"fill:none;stroke-width:0.75;stroke-linecap:round;stroke-linejoin:round;stroke:rgb(0%,0%,0%);stroke-opacity:1;stroke-miterlimit:10;\" d=\"M 299.425781 342.75 L 302.496094 342.75 \"/>\n",
       "<path style=\"fill:none;stroke-width:0.75;stroke-linecap:round;stroke-linejoin:round;stroke:rgb(0%,0%,0%);stroke-opacity:1;stroke-miterlimit:10;\" d=\"M 299.425781 291.039062 L 302.496094 291.039062 \"/>\n",
       "<path style=\"fill:none;stroke-width:0.75;stroke-linecap:round;stroke-linejoin:round;stroke:rgb(0%,0%,0%);stroke-opacity:1;stroke-miterlimit:10;\" d=\"M 297.886719 335.261719 L 304.03125 335.261719 L 304.03125 296.335938 L 297.886719 296.335938 L 297.886719 335.261719 \"/>\n",
       "<path style=\"fill:none;stroke-width:2.25;stroke-linecap:butt;stroke-linejoin:round;stroke:rgb(0%,0%,0%);stroke-opacity:1;stroke-miterlimit:10;\" d=\"M 305.566406 321.5 L 311.710938 321.5 \"/>\n",
       "<path style=\"fill:none;stroke-width:0.75;stroke-linecap:round;stroke-linejoin:round;stroke:rgb(0%,0%,0%);stroke-opacity:1;stroke-dasharray:3,3;stroke-miterlimit:10;\" d=\"M 308.640625 357.71875 L 308.640625 355.648438 \"/>\n",
       "<path style=\"fill:none;stroke-width:0.75;stroke-linecap:round;stroke-linejoin:round;stroke:rgb(0%,0%,0%);stroke-opacity:1;stroke-dasharray:3,3;stroke-miterlimit:10;\" d=\"M 308.640625 295.761719 L 308.640625 300.136719 \"/>\n",
       "<path style=\"fill:none;stroke-width:0.75;stroke-linecap:round;stroke-linejoin:round;stroke:rgb(0%,0%,0%);stroke-opacity:1;stroke-miterlimit:10;\" d=\"M 307.105469 357.71875 L 310.175781 357.71875 \"/>\n",
       "<path style=\"fill:none;stroke-width:0.75;stroke-linecap:round;stroke-linejoin:round;stroke:rgb(0%,0%,0%);stroke-opacity:1;stroke-miterlimit:10;\" d=\"M 307.105469 295.761719 L 310.175781 295.761719 \"/>\n",
       "<path style=\"fill:none;stroke-width:0.75;stroke-linecap:round;stroke-linejoin:round;stroke:rgb(0%,0%,0%);stroke-opacity:1;stroke-miterlimit:10;\" d=\"M 305.566406 355.648438 L 311.710938 355.648438 L 311.710938 300.136719 L 305.566406 300.136719 L 305.566406 355.648438 \"/>\n",
       "<path style=\"fill:none;stroke-width:2.25;stroke-linecap:butt;stroke-linejoin:round;stroke:rgb(0%,0%,0%);stroke-opacity:1;stroke-miterlimit:10;\" d=\"M 313.246094 378.738281 L 319.390625 378.738281 \"/>\n",
       "<path style=\"fill:none;stroke-width:0.75;stroke-linecap:round;stroke-linejoin:round;stroke:rgb(0%,0%,0%);stroke-opacity:1;stroke-dasharray:3,3;stroke-miterlimit:10;\" d=\"M 316.320312 389.046875 L 316.320312 383.054688 \"/>\n",
       "<path style=\"fill:none;stroke-width:0.75;stroke-linecap:round;stroke-linejoin:round;stroke:rgb(0%,0%,0%);stroke-opacity:1;stroke-dasharray:3,3;stroke-miterlimit:10;\" d=\"M 316.320312 358.296875 L 316.320312 368.085938 \"/>\n",
       "<path style=\"fill:none;stroke-width:0.75;stroke-linecap:round;stroke-linejoin:round;stroke:rgb(0%,0%,0%);stroke-opacity:1;stroke-miterlimit:10;\" d=\"M 314.785156 389.046875 L 317.855469 389.046875 \"/>\n",
       "<path style=\"fill:none;stroke-width:0.75;stroke-linecap:round;stroke-linejoin:round;stroke:rgb(0%,0%,0%);stroke-opacity:1;stroke-miterlimit:10;\" d=\"M 314.785156 358.296875 L 317.855469 358.296875 \"/>\n",
       "<path style=\"fill:none;stroke-width:0.75;stroke-linecap:round;stroke-linejoin:round;stroke:rgb(0%,0%,0%);stroke-opacity:1;stroke-miterlimit:10;\" d=\"M 313.246094 383.054688 L 319.390625 383.054688 L 319.390625 368.085938 L 313.246094 368.085938 L 313.246094 383.054688 \"/>\n",
       "<path style=\"fill:none;stroke-width:2.25;stroke-linecap:butt;stroke-linejoin:round;stroke:rgb(0%,0%,0%);stroke-opacity:1;stroke-miterlimit:10;\" d=\"M 320.929688 361.234375 L 327.070312 361.234375 \"/>\n",
       "<path style=\"fill:none;stroke-width:0.75;stroke-linecap:round;stroke-linejoin:round;stroke:rgb(0%,0%,0%);stroke-opacity:1;stroke-dasharray:3,3;stroke-miterlimit:10;\" d=\"M 324 374.304688 L 324 367.855469 \"/>\n",
       "<path style=\"fill:none;stroke-width:0.75;stroke-linecap:round;stroke-linejoin:round;stroke:rgb(0%,0%,0%);stroke-opacity:1;stroke-dasharray:3,3;stroke-miterlimit:10;\" d=\"M 324 345.511719 L 324 352.769531 \"/>\n",
       "<path style=\"fill:none;stroke-width:0.75;stroke-linecap:round;stroke-linejoin:round;stroke:rgb(0%,0%,0%);stroke-opacity:1;stroke-miterlimit:10;\" d=\"M 322.464844 374.304688 L 325.535156 374.304688 \"/>\n",
       "<path style=\"fill:none;stroke-width:0.75;stroke-linecap:round;stroke-linejoin:round;stroke:rgb(0%,0%,0%);stroke-opacity:1;stroke-miterlimit:10;\" d=\"M 322.464844 345.511719 L 325.535156 345.511719 \"/>\n",
       "<path style=\"fill:none;stroke-width:0.75;stroke-linecap:round;stroke-linejoin:round;stroke:rgb(0%,0%,0%);stroke-opacity:1;stroke-miterlimit:10;\" d=\"M 320.929688 367.855469 L 327.070312 367.855469 L 327.070312 352.769531 L 320.929688 352.769531 L 320.929688 367.855469 \"/>\n",
       "<path style=\"fill:none;stroke-width:0.75;stroke-linecap:round;stroke-linejoin:round;stroke:rgb(0%,0%,0%);stroke-opacity:1;stroke-miterlimit:10;\" d=\"M 326.699219 393.765625 C 326.699219 397.367188 321.300781 397.367188 321.300781 393.765625 C 321.300781 390.167969 326.699219 390.167969 326.699219 393.765625 \"/>\n",
       "<path style=\"fill:none;stroke-width:2.25;stroke-linecap:butt;stroke-linejoin:round;stroke:rgb(0%,0%,0%);stroke-opacity:1;stroke-miterlimit:10;\" d=\"M 328.609375 289.945312 L 334.753906 289.945312 \"/>\n",
       "<path style=\"fill:none;stroke-width:0.75;stroke-linecap:round;stroke-linejoin:round;stroke:rgb(0%,0%,0%);stroke-opacity:1;stroke-dasharray:3,3;stroke-miterlimit:10;\" d=\"M 331.679688 336.300781 L 331.679688 321.558594 \"/>\n",
       "<path style=\"fill:none;stroke-width:0.75;stroke-linecap:round;stroke-linejoin:round;stroke:rgb(0%,0%,0%);stroke-opacity:1;stroke-dasharray:3,3;stroke-miterlimit:10;\" d=\"M 331.679688 275.144531 L 331.679688 287.007812 \"/>\n",
       "<path style=\"fill:none;stroke-width:0.75;stroke-linecap:round;stroke-linejoin:round;stroke:rgb(0%,0%,0%);stroke-opacity:1;stroke-miterlimit:10;\" d=\"M 330.144531 336.300781 L 333.214844 336.300781 \"/>\n",
       "<path style=\"fill:none;stroke-width:0.75;stroke-linecap:round;stroke-linejoin:round;stroke:rgb(0%,0%,0%);stroke-opacity:1;stroke-miterlimit:10;\" d=\"M 330.144531 275.144531 L 333.214844 275.144531 \"/>\n",
       "<path style=\"fill:none;stroke-width:0.75;stroke-linecap:round;stroke-linejoin:round;stroke:rgb(0%,0%,0%);stroke-opacity:1;stroke-miterlimit:10;\" d=\"M 328.609375 321.558594 L 334.753906 321.558594 L 334.753906 287.007812 L 328.609375 287.007812 L 328.609375 321.558594 \"/>\n",
       "<path style=\"fill:none;stroke-width:2.25;stroke-linecap:butt;stroke-linejoin:round;stroke:rgb(0%,0%,0%);stroke-opacity:1;stroke-miterlimit:10;\" d=\"M 336.289062 374.878906 L 342.433594 374.878906 \"/>\n",
       "<path style=\"fill:none;stroke-width:0.75;stroke-linecap:round;stroke-linejoin:round;stroke:rgb(0%,0%,0%);stroke-opacity:1;stroke-dasharray:3,3;stroke-miterlimit:10;\" d=\"M 339.359375 391.003906 L 339.359375 386.855469 \"/>\n",
       "<path style=\"fill:none;stroke-width:0.75;stroke-linecap:round;stroke-linejoin:round;stroke:rgb(0%,0%,0%);stroke-opacity:1;stroke-dasharray:3,3;stroke-miterlimit:10;\" d=\"M 339.359375 358.871094 L 339.359375 360.828125 \"/>\n",
       "<path style=\"fill:none;stroke-width:0.75;stroke-linecap:round;stroke-linejoin:round;stroke:rgb(0%,0%,0%);stroke-opacity:1;stroke-miterlimit:10;\" d=\"M 337.824219 391.003906 L 340.894531 391.003906 \"/>\n",
       "<path style=\"fill:none;stroke-width:0.75;stroke-linecap:round;stroke-linejoin:round;stroke:rgb(0%,0%,0%);stroke-opacity:1;stroke-miterlimit:10;\" d=\"M 337.824219 358.871094 L 340.894531 358.871094 \"/>\n",
       "<path style=\"fill:none;stroke-width:0.75;stroke-linecap:round;stroke-linejoin:round;stroke:rgb(0%,0%,0%);stroke-opacity:1;stroke-miterlimit:10;\" d=\"M 336.289062 386.855469 L 342.433594 386.855469 L 342.433594 360.828125 L 336.289062 360.828125 L 336.289062 386.855469 \"/>\n",
       "<path style=\"fill:none;stroke-width:2.25;stroke-linecap:butt;stroke-linejoin:round;stroke:rgb(0%,0%,0%);stroke-opacity:1;stroke-miterlimit:10;\" d=\"M 343.96875 382.882812 L 350.113281 382.882812 \"/>\n",
       "<path style=\"fill:none;stroke-width:0.75;stroke-linecap:round;stroke-linejoin:round;stroke:rgb(0%,0%,0%);stroke-opacity:1;stroke-dasharray:3,3;stroke-miterlimit:10;\" d=\"M 347.039062 400.445312 L 347.039062 391.695312 \"/>\n",
       "<path style=\"fill:none;stroke-width:0.75;stroke-linecap:round;stroke-linejoin:round;stroke:rgb(0%,0%,0%);stroke-opacity:1;stroke-dasharray:3,3;stroke-miterlimit:10;\" d=\"M 347.039062 374.304688 L 347.039062 377.414062 \"/>\n",
       "<path style=\"fill:none;stroke-width:0.75;stroke-linecap:round;stroke-linejoin:round;stroke:rgb(0%,0%,0%);stroke-opacity:1;stroke-miterlimit:10;\" d=\"M 345.503906 400.445312 L 348.574219 400.445312 \"/>\n",
       "<path style=\"fill:none;stroke-width:0.75;stroke-linecap:round;stroke-linejoin:round;stroke:rgb(0%,0%,0%);stroke-opacity:1;stroke-miterlimit:10;\" d=\"M 345.503906 374.304688 L 348.574219 374.304688 \"/>\n",
       "<path style=\"fill:none;stroke-width:0.75;stroke-linecap:round;stroke-linejoin:round;stroke:rgb(0%,0%,0%);stroke-opacity:1;stroke-miterlimit:10;\" d=\"M 343.96875 391.695312 L 350.113281 391.695312 L 350.113281 377.414062 L 343.96875 377.414062 L 343.96875 391.695312 \"/>\n",
       "<path style=\"fill:none;stroke-width:2.25;stroke-linecap:butt;stroke-linejoin:round;stroke:rgb(0%,0%,0%);stroke-opacity:1;stroke-miterlimit:10;\" d=\"M 351.648438 386.800781 L 357.792969 386.800781 \"/>\n",
       "<path style=\"fill:none;stroke-width:0.75;stroke-linecap:round;stroke-linejoin:round;stroke:rgb(0%,0%,0%);stroke-opacity:1;stroke-dasharray:3,3;stroke-miterlimit:10;\" d=\"M 354.71875 408.507812 L 354.71875 393.304688 \"/>\n",
       "<path style=\"fill:none;stroke-width:0.75;stroke-linecap:round;stroke-linejoin:round;stroke:rgb(0%,0%,0%);stroke-opacity:1;stroke-dasharray:3,3;stroke-miterlimit:10;\" d=\"M 354.71875 367.625 L 354.71875 377.757812 \"/>\n",
       "<path style=\"fill:none;stroke-width:0.75;stroke-linecap:round;stroke-linejoin:round;stroke:rgb(0%,0%,0%);stroke-opacity:1;stroke-miterlimit:10;\" d=\"M 353.183594 408.507812 L 356.257812 408.507812 \"/>\n",
       "<path style=\"fill:none;stroke-width:0.75;stroke-linecap:round;stroke-linejoin:round;stroke:rgb(0%,0%,0%);stroke-opacity:1;stroke-miterlimit:10;\" d=\"M 353.183594 367.625 L 356.257812 367.625 \"/>\n",
       "<path style=\"fill:none;stroke-width:0.75;stroke-linecap:round;stroke-linejoin:round;stroke:rgb(0%,0%,0%);stroke-opacity:1;stroke-miterlimit:10;\" d=\"M 351.648438 393.304688 L 357.792969 393.304688 L 357.792969 377.757812 L 351.648438 377.757812 L 351.648438 393.304688 \"/>\n",
       "<path style=\"fill:none;stroke-width:2.25;stroke-linecap:butt;stroke-linejoin:round;stroke:rgb(0%,0%,0%);stroke-opacity:1;stroke-miterlimit:10;\" d=\"M 359.328125 362.558594 L 365.472656 362.558594 \"/>\n",
       "<path style=\"fill:none;stroke-width:0.75;stroke-linecap:round;stroke-linejoin:round;stroke:rgb(0%,0%,0%);stroke-opacity:1;stroke-dasharray:3,3;stroke-miterlimit:10;\" d=\"M 362.398438 376.722656 L 362.398438 372.460938 \"/>\n",
       "<path style=\"fill:none;stroke-width:0.75;stroke-linecap:round;stroke-linejoin:round;stroke:rgb(0%,0%,0%);stroke-opacity:1;stroke-dasharray:3,3;stroke-miterlimit:10;\" d=\"M 362.398438 344.476562 L 362.398438 351.847656 \"/>\n",
       "<path style=\"fill:none;stroke-width:0.75;stroke-linecap:round;stroke-linejoin:round;stroke:rgb(0%,0%,0%);stroke-opacity:1;stroke-miterlimit:10;\" d=\"M 360.863281 376.722656 L 363.9375 376.722656 \"/>\n",
       "<path style=\"fill:none;stroke-width:0.75;stroke-linecap:round;stroke-linejoin:round;stroke:rgb(0%,0%,0%);stroke-opacity:1;stroke-miterlimit:10;\" d=\"M 360.863281 344.476562 L 363.9375 344.476562 \"/>\n",
       "<path style=\"fill:none;stroke-width:0.75;stroke-linecap:round;stroke-linejoin:round;stroke:rgb(0%,0%,0%);stroke-opacity:1;stroke-miterlimit:10;\" d=\"M 359.328125 372.460938 L 365.472656 372.460938 L 365.472656 351.847656 L 359.328125 351.847656 L 359.328125 372.460938 \"/>\n",
       "<path style=\"fill:none;stroke-width:2.25;stroke-linecap:butt;stroke-linejoin:round;stroke:rgb(0%,0%,0%);stroke-opacity:1;stroke-miterlimit:10;\" d=\"M 367.007812 316.375 L 373.152344 316.375 \"/>\n",
       "<path style=\"fill:none;stroke-width:0.75;stroke-linecap:round;stroke-linejoin:round;stroke:rgb(0%,0%,0%);stroke-opacity:1;stroke-dasharray:3,3;stroke-miterlimit:10;\" d=\"M 370.078125 358.871094 L 370.078125 338.601562 \"/>\n",
       "<path style=\"fill:none;stroke-width:0.75;stroke-linecap:round;stroke-linejoin:round;stroke:rgb(0%,0%,0%);stroke-opacity:1;stroke-dasharray:3,3;stroke-miterlimit:10;\" d=\"M 370.078125 280.097656 L 370.078125 303.824219 \"/>\n",
       "<path style=\"fill:none;stroke-width:0.75;stroke-linecap:round;stroke-linejoin:round;stroke:rgb(0%,0%,0%);stroke-opacity:1;stroke-miterlimit:10;\" d=\"M 368.542969 358.871094 L 371.617188 358.871094 \"/>\n",
       "<path style=\"fill:none;stroke-width:0.75;stroke-linecap:round;stroke-linejoin:round;stroke:rgb(0%,0%,0%);stroke-opacity:1;stroke-miterlimit:10;\" d=\"M 368.542969 280.097656 L 371.617188 280.097656 \"/>\n",
       "<path style=\"fill:none;stroke-width:0.75;stroke-linecap:round;stroke-linejoin:round;stroke:rgb(0%,0%,0%);stroke-opacity:1;stroke-miterlimit:10;\" d=\"M 367.007812 338.601562 L 373.152344 338.601562 L 373.152344 303.824219 L 367.007812 303.824219 L 367.007812 338.601562 \"/>\n",
       "<path style=\"fill:none;stroke-width:2.25;stroke-linecap:butt;stroke-linejoin:round;stroke:rgb(0%,0%,0%);stroke-opacity:1;stroke-miterlimit:10;\" d=\"M 374.6875 383.285156 L 380.832031 383.285156 \"/>\n",
       "<path style=\"fill:none;stroke-width:0.75;stroke-linecap:round;stroke-linejoin:round;stroke:rgb(0%,0%,0%);stroke-opacity:1;stroke-dasharray:3,3;stroke-miterlimit:10;\" d=\"M 377.761719 400.101562 L 377.761719 394.804688 \"/>\n",
       "<path style=\"fill:none;stroke-width:0.75;stroke-linecap:round;stroke-linejoin:round;stroke:rgb(0%,0%,0%);stroke-opacity:1;stroke-dasharray:3,3;stroke-miterlimit:10;\" d=\"M 377.761719 358.410156 L 377.761719 367.046875 \"/>\n",
       "<path style=\"fill:none;stroke-width:0.75;stroke-linecap:round;stroke-linejoin:round;stroke:rgb(0%,0%,0%);stroke-opacity:1;stroke-miterlimit:10;\" d=\"M 376.222656 400.101562 L 379.296875 400.101562 \"/>\n",
       "<path style=\"fill:none;stroke-width:0.75;stroke-linecap:round;stroke-linejoin:round;stroke:rgb(0%,0%,0%);stroke-opacity:1;stroke-miterlimit:10;\" d=\"M 376.222656 358.410156 L 379.296875 358.410156 \"/>\n",
       "<path style=\"fill:none;stroke-width:0.75;stroke-linecap:round;stroke-linejoin:round;stroke:rgb(0%,0%,0%);stroke-opacity:1;stroke-miterlimit:10;\" d=\"M 374.6875 394.804688 L 380.832031 394.804688 L 380.832031 367.046875 L 374.6875 367.046875 L 374.6875 394.804688 \"/>\n",
       "<path style=\"fill:none;stroke-width:2.25;stroke-linecap:butt;stroke-linejoin:round;stroke:rgb(0%,0%,0%);stroke-opacity:1;stroke-miterlimit:10;\" d=\"M 382.367188 386.570312 L 388.511719 386.570312 \"/>\n",
       "<path style=\"fill:none;stroke-width:0.75;stroke-linecap:round;stroke-linejoin:round;stroke:rgb(0%,0%,0%);stroke-opacity:1;stroke-dasharray:3,3;stroke-miterlimit:10;\" d=\"M 385.441406 392.730469 L 385.441406 391.695312 \"/>\n",
       "<path style=\"fill:none;stroke-width:0.75;stroke-linecap:round;stroke-linejoin:round;stroke:rgb(0%,0%,0%);stroke-opacity:1;stroke-dasharray:3,3;stroke-miterlimit:10;\" d=\"M 385.441406 362.789062 L 385.441406 374.765625 \"/>\n",
       "<path style=\"fill:none;stroke-width:0.75;stroke-linecap:round;stroke-linejoin:round;stroke:rgb(0%,0%,0%);stroke-opacity:1;stroke-miterlimit:10;\" d=\"M 383.902344 392.730469 L 386.976562 392.730469 \"/>\n",
       "<path style=\"fill:none;stroke-width:0.75;stroke-linecap:round;stroke-linejoin:round;stroke:rgb(0%,0%,0%);stroke-opacity:1;stroke-miterlimit:10;\" d=\"M 383.902344 362.789062 L 386.976562 362.789062 \"/>\n",
       "<path style=\"fill:none;stroke-width:0.75;stroke-linecap:round;stroke-linejoin:round;stroke:rgb(0%,0%,0%);stroke-opacity:1;stroke-miterlimit:10;\" d=\"M 382.367188 391.695312 L 388.511719 391.695312 L 388.511719 374.765625 L 382.367188 374.765625 L 382.367188 391.695312 \"/>\n",
       "<path style=\"fill:none;stroke-width:2.25;stroke-linecap:butt;stroke-linejoin:round;stroke:rgb(0%,0%,0%);stroke-opacity:1;stroke-miterlimit:10;\" d=\"M 390.046875 383.976562 L 396.191406 383.976562 \"/>\n",
       "<path style=\"fill:none;stroke-width:0.75;stroke-linecap:round;stroke-linejoin:round;stroke:rgb(0%,0%,0%);stroke-opacity:1;stroke-dasharray:3,3;stroke-miterlimit:10;\" d=\"M 393.121094 400.5625 L 393.121094 397.566406 \"/>\n",
       "<path style=\"fill:none;stroke-width:0.75;stroke-linecap:round;stroke-linejoin:round;stroke:rgb(0%,0%,0%);stroke-opacity:1;stroke-dasharray:3,3;stroke-miterlimit:10;\" d=\"M 393.121094 357.949219 L 393.121094 364.746094 \"/>\n",
       "<path style=\"fill:none;stroke-width:0.75;stroke-linecap:round;stroke-linejoin:round;stroke:rgb(0%,0%,0%);stroke-opacity:1;stroke-miterlimit:10;\" d=\"M 391.585938 400.5625 L 394.65625 400.5625 \"/>\n",
       "<path style=\"fill:none;stroke-width:0.75;stroke-linecap:round;stroke-linejoin:round;stroke:rgb(0%,0%,0%);stroke-opacity:1;stroke-miterlimit:10;\" d=\"M 391.585938 357.949219 L 394.65625 357.949219 \"/>\n",
       "<path style=\"fill:none;stroke-width:0.75;stroke-linecap:round;stroke-linejoin:round;stroke:rgb(0%,0%,0%);stroke-opacity:1;stroke-miterlimit:10;\" d=\"M 390.046875 397.566406 L 396.191406 397.566406 L 396.191406 364.746094 L 390.046875 364.746094 L 390.046875 397.566406 \"/>\n",
       "<path style=\"fill:none;stroke-width:2.25;stroke-linecap:butt;stroke-linejoin:round;stroke:rgb(0%,0%,0%);stroke-opacity:1;stroke-miterlimit:10;\" d=\"M 397.726562 363.132812 L 403.871094 363.132812 \"/>\n",
       "<path style=\"fill:none;stroke-width:0.75;stroke-linecap:round;stroke-linejoin:round;stroke:rgb(0%,0%,0%);stroke-opacity:1;stroke-dasharray:3,3;stroke-miterlimit:10;\" d=\"M 400.800781 390.082031 L 400.800781 378.449219 \"/>\n",
       "<path style=\"fill:none;stroke-width:0.75;stroke-linecap:round;stroke-linejoin:round;stroke:rgb(0%,0%,0%);stroke-opacity:1;stroke-dasharray:3,3;stroke-miterlimit:10;\" d=\"M 400.800781 338.257812 L 400.800781 351.269531 \"/>\n",
       "<path style=\"fill:none;stroke-width:0.75;stroke-linecap:round;stroke-linejoin:round;stroke:rgb(0%,0%,0%);stroke-opacity:1;stroke-miterlimit:10;\" d=\"M 399.265625 390.082031 L 402.335938 390.082031 \"/>\n",
       "<path style=\"fill:none;stroke-width:0.75;stroke-linecap:round;stroke-linejoin:round;stroke:rgb(0%,0%,0%);stroke-opacity:1;stroke-miterlimit:10;\" d=\"M 399.265625 338.257812 L 402.335938 338.257812 \"/>\n",
       "<path style=\"fill:none;stroke-width:0.75;stroke-linecap:round;stroke-linejoin:round;stroke:rgb(0%,0%,0%);stroke-opacity:1;stroke-miterlimit:10;\" d=\"M 397.726562 378.449219 L 403.871094 378.449219 L 403.871094 351.269531 L 397.726562 351.269531 L 397.726562 378.449219 \"/>\n",
       "<path style=\"fill:none;stroke-width:2.25;stroke-linecap:butt;stroke-linejoin:round;stroke:rgb(0%,0%,0%);stroke-opacity:1;stroke-miterlimit:10;\" d=\"M 405.40625 393.421875 L 411.550781 393.421875 \"/>\n",
       "<path style=\"fill:none;stroke-width:0.75;stroke-linecap:round;stroke-linejoin:round;stroke:rgb(0%,0%,0%);stroke-opacity:1;stroke-dasharray:3,3;stroke-miterlimit:10;\" d=\"M 408.480469 409.082031 L 408.480469 402.519531 \"/>\n",
       "<path style=\"fill:none;stroke-width:0.75;stroke-linecap:round;stroke-linejoin:round;stroke:rgb(0%,0%,0%);stroke-opacity:1;stroke-dasharray:3,3;stroke-miterlimit:10;\" d=\"M 408.480469 370.964844 L 408.480469 384.898438 \"/>\n",
       "<path style=\"fill:none;stroke-width:0.75;stroke-linecap:round;stroke-linejoin:round;stroke:rgb(0%,0%,0%);stroke-opacity:1;stroke-miterlimit:10;\" d=\"M 406.945312 409.082031 L 410.015625 409.082031 \"/>\n",
       "<path style=\"fill:none;stroke-width:0.75;stroke-linecap:round;stroke-linejoin:round;stroke:rgb(0%,0%,0%);stroke-opacity:1;stroke-miterlimit:10;\" d=\"M 406.945312 370.964844 L 410.015625 370.964844 \"/>\n",
       "<path style=\"fill:none;stroke-width:0.75;stroke-linecap:round;stroke-linejoin:round;stroke:rgb(0%,0%,0%);stroke-opacity:1;stroke-miterlimit:10;\" d=\"M 405.40625 402.519531 L 411.550781 402.519531 L 411.550781 384.898438 L 405.40625 384.898438 L 405.40625 402.519531 \"/>\n",
       "<path style=\"fill:none;stroke-width:2.25;stroke-linecap:butt;stroke-linejoin:round;stroke:rgb(0%,0%,0%);stroke-opacity:1;stroke-miterlimit:10;\" d=\"M 413.089844 384.324219 L 419.230469 384.324219 \"/>\n",
       "<path style=\"fill:none;stroke-width:0.75;stroke-linecap:round;stroke-linejoin:round;stroke:rgb(0%,0%,0%);stroke-opacity:1;stroke-dasharray:3,3;stroke-miterlimit:10;\" d=\"M 416.160156 396.414062 L 416.160156 392.613281 \"/>\n",
       "<path style=\"fill:none;stroke-width:0.75;stroke-linecap:round;stroke-linejoin:round;stroke:rgb(0%,0%,0%);stroke-opacity:1;stroke-dasharray:3,3;stroke-miterlimit:10;\" d=\"M 416.160156 360.367188 L 416.160156 363.019531 \"/>\n",
       "<path style=\"fill:none;stroke-width:0.75;stroke-linecap:round;stroke-linejoin:round;stroke:rgb(0%,0%,0%);stroke-opacity:1;stroke-miterlimit:10;\" d=\"M 414.625 396.414062 L 417.695312 396.414062 \"/>\n",
       "<path style=\"fill:none;stroke-width:0.75;stroke-linecap:round;stroke-linejoin:round;stroke:rgb(0%,0%,0%);stroke-opacity:1;stroke-miterlimit:10;\" d=\"M 414.625 360.367188 L 417.695312 360.367188 \"/>\n",
       "<path style=\"fill:none;stroke-width:0.75;stroke-linecap:round;stroke-linejoin:round;stroke:rgb(0%,0%,0%);stroke-opacity:1;stroke-miterlimit:10;\" d=\"M 413.089844 392.613281 L 419.230469 392.613281 L 419.230469 363.019531 L 413.089844 363.019531 L 413.089844 392.613281 \"/>\n",
       "<path style=\"fill:none;stroke-width:2.25;stroke-linecap:butt;stroke-linejoin:round;stroke:rgb(0%,0%,0%);stroke-opacity:1;stroke-miterlimit:10;\" d=\"M 420.769531 330.023438 L 426.910156 330.023438 \"/>\n",
       "<path style=\"fill:none;stroke-width:0.75;stroke-linecap:round;stroke-linejoin:round;stroke:rgb(0%,0%,0%);stroke-opacity:1;stroke-dasharray:3,3;stroke-miterlimit:10;\" d=\"M 423.839844 346.550781 L 423.839844 338.71875 \"/>\n",
       "<path style=\"fill:none;stroke-width:0.75;stroke-linecap:round;stroke-linejoin:round;stroke:rgb(0%,0%,0%);stroke-opacity:1;stroke-dasharray:3,3;stroke-miterlimit:10;\" d=\"M 423.839844 296.453125 L 423.839844 312.34375 \"/>\n",
       "<path style=\"fill:none;stroke-width:0.75;stroke-linecap:round;stroke-linejoin:round;stroke:rgb(0%,0%,0%);stroke-opacity:1;stroke-miterlimit:10;\" d=\"M 422.304688 346.550781 L 425.375 346.550781 \"/>\n",
       "<path style=\"fill:none;stroke-width:0.75;stroke-linecap:round;stroke-linejoin:round;stroke:rgb(0%,0%,0%);stroke-opacity:1;stroke-miterlimit:10;\" d=\"M 422.304688 296.453125 L 425.375 296.453125 \"/>\n",
       "<path style=\"fill:none;stroke-width:0.75;stroke-linecap:round;stroke-linejoin:round;stroke:rgb(0%,0%,0%);stroke-opacity:1;stroke-miterlimit:10;\" d=\"M 420.769531 338.71875 L 426.910156 338.71875 L 426.910156 312.34375 L 420.769531 312.34375 L 420.769531 338.71875 \"/>\n",
       "<path style=\"fill:none;stroke-width:2.25;stroke-linecap:butt;stroke-linejoin:round;stroke:rgb(0%,0%,0%);stroke-opacity:1;stroke-miterlimit:10;\" d=\"M 428.449219 392.789062 L 434.59375 392.789062 \"/>\n",
       "<path style=\"fill:none;stroke-width:0.75;stroke-linecap:round;stroke-linejoin:round;stroke:rgb(0%,0%,0%);stroke-opacity:1;stroke-dasharray:3,3;stroke-miterlimit:10;\" d=\"M 431.519531 403.324219 L 431.519531 397.335938 \"/>\n",
       "<path style=\"fill:none;stroke-width:0.75;stroke-linecap:round;stroke-linejoin:round;stroke:rgb(0%,0%,0%);stroke-opacity:1;stroke-dasharray:3,3;stroke-miterlimit:10;\" d=\"M 431.519531 383.171875 L 431.519531 388.125 \"/>\n",
       "<path style=\"fill:none;stroke-width:0.75;stroke-linecap:round;stroke-linejoin:round;stroke:rgb(0%,0%,0%);stroke-opacity:1;stroke-miterlimit:10;\" d=\"M 429.984375 403.324219 L 433.054688 403.324219 \"/>\n",
       "<path style=\"fill:none;stroke-width:0.75;stroke-linecap:round;stroke-linejoin:round;stroke:rgb(0%,0%,0%);stroke-opacity:1;stroke-miterlimit:10;\" d=\"M 429.984375 383.171875 L 433.054688 383.171875 \"/>\n",
       "<path style=\"fill:none;stroke-width:0.75;stroke-linecap:round;stroke-linejoin:round;stroke:rgb(0%,0%,0%);stroke-opacity:1;stroke-miterlimit:10;\" d=\"M 428.449219 397.335938 L 434.59375 397.335938 L 434.59375 388.125 L 428.449219 388.125 L 428.449219 397.335938 \"/>\n",
       "<path style=\"fill:none;stroke-width:0.75;stroke-linecap:round;stroke-linejoin:round;stroke:rgb(0%,0%,0%);stroke-opacity:1;stroke-miterlimit:10;\" d=\"M 434.21875 414.957031 C 434.21875 418.558594 428.820312 418.558594 428.820312 414.957031 C 428.820312 411.355469 434.21875 411.355469 434.21875 414.957031 \"/>\n",
       "<path style=\"fill:none;stroke-width:2.25;stroke-linecap:butt;stroke-linejoin:round;stroke:rgb(0%,0%,0%);stroke-opacity:1;stroke-miterlimit:10;\" d=\"M 436.128906 369.179688 L 442.273438 369.179688 \"/>\n",
       "<path style=\"fill:none;stroke-width:0.75;stroke-linecap:round;stroke-linejoin:round;stroke:rgb(0%,0%,0%);stroke-opacity:1;stroke-dasharray:3,3;stroke-miterlimit:10;\" d=\"M 439.199219 399.066406 L 439.199219 388.355469 \"/>\n",
       "<path style=\"fill:none;stroke-width:0.75;stroke-linecap:round;stroke-linejoin:round;stroke:rgb(0%,0%,0%);stroke-opacity:1;stroke-dasharray:3,3;stroke-miterlimit:10;\" d=\"M 439.199219 343.785156 L 439.199219 352.191406 \"/>\n",
       "<path style=\"fill:none;stroke-width:0.75;stroke-linecap:round;stroke-linejoin:round;stroke:rgb(0%,0%,0%);stroke-opacity:1;stroke-miterlimit:10;\" d=\"M 437.664062 399.066406 L 440.734375 399.066406 \"/>\n",
       "<path style=\"fill:none;stroke-width:0.75;stroke-linecap:round;stroke-linejoin:round;stroke:rgb(0%,0%,0%);stroke-opacity:1;stroke-miterlimit:10;\" d=\"M 437.664062 343.785156 L 440.734375 343.785156 \"/>\n",
       "<path style=\"fill:none;stroke-width:0.75;stroke-linecap:round;stroke-linejoin:round;stroke:rgb(0%,0%,0%);stroke-opacity:1;stroke-miterlimit:10;\" d=\"M 436.128906 388.355469 L 442.273438 388.355469 L 442.273438 352.191406 L 436.128906 352.191406 L 436.128906 388.355469 \"/>\n",
       "<path style=\"fill:none;stroke-width:2.25;stroke-linecap:butt;stroke-linejoin:round;stroke:rgb(0%,0%,0%);stroke-opacity:1;stroke-miterlimit:10;\" d=\"M 443.808594 404.417969 L 449.953125 404.417969 \"/>\n",
       "<path style=\"fill:none;stroke-width:0.75;stroke-linecap:round;stroke-linejoin:round;stroke:rgb(0%,0%,0%);stroke-opacity:1;stroke-dasharray:3,3;stroke-miterlimit:10;\" d=\"M 446.878906 406.78125 L 446.878906 405.972656 \"/>\n",
       "<path style=\"fill:none;stroke-width:0.75;stroke-linecap:round;stroke-linejoin:round;stroke:rgb(0%,0%,0%);stroke-opacity:1;stroke-dasharray:3,3;stroke-miterlimit:10;\" d=\"M 446.878906 371.078125 L 446.878906 379.027344 \"/>\n",
       "<path style=\"fill:none;stroke-width:0.75;stroke-linecap:round;stroke-linejoin:round;stroke:rgb(0%,0%,0%);stroke-opacity:1;stroke-miterlimit:10;\" d=\"M 445.34375 406.78125 L 448.414062 406.78125 \"/>\n",
       "<path style=\"fill:none;stroke-width:0.75;stroke-linecap:round;stroke-linejoin:round;stroke:rgb(0%,0%,0%);stroke-opacity:1;stroke-miterlimit:10;\" d=\"M 445.34375 371.078125 L 448.414062 371.078125 \"/>\n",
       "<path style=\"fill:none;stroke-width:0.75;stroke-linecap:round;stroke-linejoin:round;stroke:rgb(0%,0%,0%);stroke-opacity:1;stroke-miterlimit:10;\" d=\"M 443.808594 405.972656 L 449.953125 405.972656 L 449.953125 379.027344 L 443.808594 379.027344 L 443.808594 405.972656 \"/>\n",
       "<path style=\"fill:none;stroke-width:2.25;stroke-linecap:butt;stroke-linejoin:round;stroke:rgb(0%,0%,0%);stroke-opacity:1;stroke-miterlimit:10;\" d=\"M 451.601562 404.132812 L 457.519531 404.132812 \"/>\n",
       "<path style=\"fill:none;stroke-width:0.75;stroke-linecap:round;stroke-linejoin:round;stroke:rgb(0%,0%,0%);stroke-opacity:1;stroke-dasharray:3,3;stroke-miterlimit:10;\" d=\"M 454.558594 414.84375 L 454.558594 410.003906 \"/>\n",
       "<path style=\"fill:none;stroke-width:0.75;stroke-linecap:round;stroke-linejoin:round;stroke:rgb(0%,0%,0%);stroke-opacity:1;stroke-dasharray:3,3;stroke-miterlimit:10;\" d=\"M 454.558594 377.875 L 454.558594 394.804688 \"/>\n",
       "<path style=\"fill:none;stroke-width:0.75;stroke-linecap:round;stroke-linejoin:round;stroke:rgb(0%,0%,0%);stroke-opacity:1;stroke-miterlimit:10;\" d=\"M 453.078125 414.84375 L 456.039062 414.84375 \"/>\n",
       "<path style=\"fill:none;stroke-width:0.75;stroke-linecap:round;stroke-linejoin:round;stroke:rgb(0%,0%,0%);stroke-opacity:1;stroke-miterlimit:10;\" d=\"M 453.078125 377.875 L 456.039062 377.875 \"/>\n",
       "<path style=\"fill:none;stroke-width:0.75;stroke-linecap:round;stroke-linejoin:round;stroke:rgb(0%,0%,0%);stroke-opacity:1;stroke-miterlimit:10;\" d=\"M 451.601562 410.003906 L 457.519531 410.003906 L 457.519531 394.804688 L 451.601562 394.804688 L 451.601562 410.003906 \"/>\n",
       "<path style=\"fill:none;stroke-width:0.75;stroke-linecap:round;stroke-linejoin:round;stroke:rgb(0%,0%,0%);stroke-opacity:1;stroke-miterlimit:10;\" d=\"M 78.238281 430.558594 L 454.558594 430.558594 \"/>\n",
       "<path style=\"fill:none;stroke-width:0.75;stroke-linecap:round;stroke-linejoin:round;stroke:rgb(0%,0%,0%);stroke-opacity:1;stroke-miterlimit:10;\" d=\"M 78.238281 430.558594 L 78.238281 437.761719 \"/>\n",
       "<path style=\"fill:none;stroke-width:0.75;stroke-linecap:round;stroke-linejoin:round;stroke:rgb(0%,0%,0%);stroke-opacity:1;stroke-miterlimit:10;\" d=\"M 85.921875 430.558594 L 85.921875 437.761719 \"/>\n",
       "<path style=\"fill:none;stroke-width:0.75;stroke-linecap:round;stroke-linejoin:round;stroke:rgb(0%,0%,0%);stroke-opacity:1;stroke-miterlimit:10;\" d=\"M 93.601562 430.558594 L 93.601562 437.761719 \"/>\n",
       "<path style=\"fill:none;stroke-width:0.75;stroke-linecap:round;stroke-linejoin:round;stroke:rgb(0%,0%,0%);stroke-opacity:1;stroke-miterlimit:10;\" d=\"M 101.28125 430.558594 L 101.28125 437.761719 \"/>\n",
       "<path style=\"fill:none;stroke-width:0.75;stroke-linecap:round;stroke-linejoin:round;stroke:rgb(0%,0%,0%);stroke-opacity:1;stroke-miterlimit:10;\" d=\"M 108.960938 430.558594 L 108.960938 437.761719 \"/>\n",
       "<path style=\"fill:none;stroke-width:0.75;stroke-linecap:round;stroke-linejoin:round;stroke:rgb(0%,0%,0%);stroke-opacity:1;stroke-miterlimit:10;\" d=\"M 116.640625 430.558594 L 116.640625 437.761719 \"/>\n",
       "<path style=\"fill:none;stroke-width:0.75;stroke-linecap:round;stroke-linejoin:round;stroke:rgb(0%,0%,0%);stroke-opacity:1;stroke-miterlimit:10;\" d=\"M 124.320312 430.558594 L 124.320312 437.761719 \"/>\n",
       "<path style=\"fill:none;stroke-width:0.75;stroke-linecap:round;stroke-linejoin:round;stroke:rgb(0%,0%,0%);stroke-opacity:1;stroke-miterlimit:10;\" d=\"M 132 430.558594 L 132 437.761719 \"/>\n",
       "<path style=\"fill:none;stroke-width:0.75;stroke-linecap:round;stroke-linejoin:round;stroke:rgb(0%,0%,0%);stroke-opacity:1;stroke-miterlimit:10;\" d=\"M 139.679688 430.558594 L 139.679688 437.761719 \"/>\n",
       "<path style=\"fill:none;stroke-width:0.75;stroke-linecap:round;stroke-linejoin:round;stroke:rgb(0%,0%,0%);stroke-opacity:1;stroke-miterlimit:10;\" d=\"M 147.359375 430.558594 L 147.359375 437.761719 \"/>\n",
       "<path style=\"fill:none;stroke-width:0.75;stroke-linecap:round;stroke-linejoin:round;stroke:rgb(0%,0%,0%);stroke-opacity:1;stroke-miterlimit:10;\" d=\"M 155.039062 430.558594 L 155.039062 437.761719 \"/>\n",
       "<path style=\"fill:none;stroke-width:0.75;stroke-linecap:round;stroke-linejoin:round;stroke:rgb(0%,0%,0%);stroke-opacity:1;stroke-miterlimit:10;\" d=\"M 162.71875 430.558594 L 162.71875 437.761719 \"/>\n",
       "<path style=\"fill:none;stroke-width:0.75;stroke-linecap:round;stroke-linejoin:round;stroke:rgb(0%,0%,0%);stroke-opacity:1;stroke-miterlimit:10;\" d=\"M 170.398438 430.558594 L 170.398438 437.761719 \"/>\n",
       "<path style=\"fill:none;stroke-width:0.75;stroke-linecap:round;stroke-linejoin:round;stroke:rgb(0%,0%,0%);stroke-opacity:1;stroke-miterlimit:10;\" d=\"M 178.078125 430.558594 L 178.078125 437.761719 \"/>\n",
       "<path style=\"fill:none;stroke-width:0.75;stroke-linecap:round;stroke-linejoin:round;stroke:rgb(0%,0%,0%);stroke-opacity:1;stroke-miterlimit:10;\" d=\"M 185.761719 430.558594 L 185.761719 437.761719 \"/>\n",
       "<path style=\"fill:none;stroke-width:0.75;stroke-linecap:round;stroke-linejoin:round;stroke:rgb(0%,0%,0%);stroke-opacity:1;stroke-miterlimit:10;\" d=\"M 193.441406 430.558594 L 193.441406 437.761719 \"/>\n",
       "<path style=\"fill:none;stroke-width:0.75;stroke-linecap:round;stroke-linejoin:round;stroke:rgb(0%,0%,0%);stroke-opacity:1;stroke-miterlimit:10;\" d=\"M 201.121094 430.558594 L 201.121094 437.761719 \"/>\n",
       "<path style=\"fill:none;stroke-width:0.75;stroke-linecap:round;stroke-linejoin:round;stroke:rgb(0%,0%,0%);stroke-opacity:1;stroke-miterlimit:10;\" d=\"M 208.800781 430.558594 L 208.800781 437.761719 \"/>\n",
       "<path style=\"fill:none;stroke-width:0.75;stroke-linecap:round;stroke-linejoin:round;stroke:rgb(0%,0%,0%);stroke-opacity:1;stroke-miterlimit:10;\" d=\"M 216.480469 430.558594 L 216.480469 437.761719 \"/>\n",
       "<path style=\"fill:none;stroke-width:0.75;stroke-linecap:round;stroke-linejoin:round;stroke:rgb(0%,0%,0%);stroke-opacity:1;stroke-miterlimit:10;\" d=\"M 224.160156 430.558594 L 224.160156 437.761719 \"/>\n",
       "<path style=\"fill:none;stroke-width:0.75;stroke-linecap:round;stroke-linejoin:round;stroke:rgb(0%,0%,0%);stroke-opacity:1;stroke-miterlimit:10;\" d=\"M 231.839844 430.558594 L 231.839844 437.761719 \"/>\n",
       "<path style=\"fill:none;stroke-width:0.75;stroke-linecap:round;stroke-linejoin:round;stroke:rgb(0%,0%,0%);stroke-opacity:1;stroke-miterlimit:10;\" d=\"M 239.519531 430.558594 L 239.519531 437.761719 \"/>\n",
       "<path style=\"fill:none;stroke-width:0.75;stroke-linecap:round;stroke-linejoin:round;stroke:rgb(0%,0%,0%);stroke-opacity:1;stroke-miterlimit:10;\" d=\"M 247.199219 430.558594 L 247.199219 437.761719 \"/>\n",
       "<path style=\"fill:none;stroke-width:0.75;stroke-linecap:round;stroke-linejoin:round;stroke:rgb(0%,0%,0%);stroke-opacity:1;stroke-miterlimit:10;\" d=\"M 254.878906 430.558594 L 254.878906 437.761719 \"/>\n",
       "<path style=\"fill:none;stroke-width:0.75;stroke-linecap:round;stroke-linejoin:round;stroke:rgb(0%,0%,0%);stroke-opacity:1;stroke-miterlimit:10;\" d=\"M 262.558594 430.558594 L 262.558594 437.761719 \"/>\n",
       "<path style=\"fill:none;stroke-width:0.75;stroke-linecap:round;stroke-linejoin:round;stroke:rgb(0%,0%,0%);stroke-opacity:1;stroke-miterlimit:10;\" d=\"M 270.238281 430.558594 L 270.238281 437.761719 \"/>\n",
       "<path style=\"fill:none;stroke-width:0.75;stroke-linecap:round;stroke-linejoin:round;stroke:rgb(0%,0%,0%);stroke-opacity:1;stroke-miterlimit:10;\" d=\"M 277.921875 430.558594 L 277.921875 437.761719 \"/>\n",
       "<path style=\"fill:none;stroke-width:0.75;stroke-linecap:round;stroke-linejoin:round;stroke:rgb(0%,0%,0%);stroke-opacity:1;stroke-miterlimit:10;\" d=\"M 285.601562 430.558594 L 285.601562 437.761719 \"/>\n",
       "<path style=\"fill:none;stroke-width:0.75;stroke-linecap:round;stroke-linejoin:round;stroke:rgb(0%,0%,0%);stroke-opacity:1;stroke-miterlimit:10;\" d=\"M 293.28125 430.558594 L 293.28125 437.761719 \"/>\n",
       "<path style=\"fill:none;stroke-width:0.75;stroke-linecap:round;stroke-linejoin:round;stroke:rgb(0%,0%,0%);stroke-opacity:1;stroke-miterlimit:10;\" d=\"M 300.960938 430.558594 L 300.960938 437.761719 \"/>\n",
       "<path style=\"fill:none;stroke-width:0.75;stroke-linecap:round;stroke-linejoin:round;stroke:rgb(0%,0%,0%);stroke-opacity:1;stroke-miterlimit:10;\" d=\"M 308.640625 430.558594 L 308.640625 437.761719 \"/>\n",
       "<path style=\"fill:none;stroke-width:0.75;stroke-linecap:round;stroke-linejoin:round;stroke:rgb(0%,0%,0%);stroke-opacity:1;stroke-miterlimit:10;\" d=\"M 316.320312 430.558594 L 316.320312 437.761719 \"/>\n",
       "<path style=\"fill:none;stroke-width:0.75;stroke-linecap:round;stroke-linejoin:round;stroke:rgb(0%,0%,0%);stroke-opacity:1;stroke-miterlimit:10;\" d=\"M 324 430.558594 L 324 437.761719 \"/>\n",
       "<path style=\"fill:none;stroke-width:0.75;stroke-linecap:round;stroke-linejoin:round;stroke:rgb(0%,0%,0%);stroke-opacity:1;stroke-miterlimit:10;\" d=\"M 331.679688 430.558594 L 331.679688 437.761719 \"/>\n",
       "<path style=\"fill:none;stroke-width:0.75;stroke-linecap:round;stroke-linejoin:round;stroke:rgb(0%,0%,0%);stroke-opacity:1;stroke-miterlimit:10;\" d=\"M 339.359375 430.558594 L 339.359375 437.761719 \"/>\n",
       "<path style=\"fill:none;stroke-width:0.75;stroke-linecap:round;stroke-linejoin:round;stroke:rgb(0%,0%,0%);stroke-opacity:1;stroke-miterlimit:10;\" d=\"M 347.039062 430.558594 L 347.039062 437.761719 \"/>\n",
       "<path style=\"fill:none;stroke-width:0.75;stroke-linecap:round;stroke-linejoin:round;stroke:rgb(0%,0%,0%);stroke-opacity:1;stroke-miterlimit:10;\" d=\"M 354.71875 430.558594 L 354.71875 437.761719 \"/>\n",
       "<path style=\"fill:none;stroke-width:0.75;stroke-linecap:round;stroke-linejoin:round;stroke:rgb(0%,0%,0%);stroke-opacity:1;stroke-miterlimit:10;\" d=\"M 362.398438 430.558594 L 362.398438 437.761719 \"/>\n",
       "<path style=\"fill:none;stroke-width:0.75;stroke-linecap:round;stroke-linejoin:round;stroke:rgb(0%,0%,0%);stroke-opacity:1;stroke-miterlimit:10;\" d=\"M 370.078125 430.558594 L 370.078125 437.761719 \"/>\n",
       "<path style=\"fill:none;stroke-width:0.75;stroke-linecap:round;stroke-linejoin:round;stroke:rgb(0%,0%,0%);stroke-opacity:1;stroke-miterlimit:10;\" d=\"M 377.761719 430.558594 L 377.761719 437.761719 \"/>\n",
       "<path style=\"fill:none;stroke-width:0.75;stroke-linecap:round;stroke-linejoin:round;stroke:rgb(0%,0%,0%);stroke-opacity:1;stroke-miterlimit:10;\" d=\"M 385.441406 430.558594 L 385.441406 437.761719 \"/>\n",
       "<path style=\"fill:none;stroke-width:0.75;stroke-linecap:round;stroke-linejoin:round;stroke:rgb(0%,0%,0%);stroke-opacity:1;stroke-miterlimit:10;\" d=\"M 393.121094 430.558594 L 393.121094 437.761719 \"/>\n",
       "<path style=\"fill:none;stroke-width:0.75;stroke-linecap:round;stroke-linejoin:round;stroke:rgb(0%,0%,0%);stroke-opacity:1;stroke-miterlimit:10;\" d=\"M 400.800781 430.558594 L 400.800781 437.761719 \"/>\n",
       "<path style=\"fill:none;stroke-width:0.75;stroke-linecap:round;stroke-linejoin:round;stroke:rgb(0%,0%,0%);stroke-opacity:1;stroke-miterlimit:10;\" d=\"M 408.480469 430.558594 L 408.480469 437.761719 \"/>\n",
       "<path style=\"fill:none;stroke-width:0.75;stroke-linecap:round;stroke-linejoin:round;stroke:rgb(0%,0%,0%);stroke-opacity:1;stroke-miterlimit:10;\" d=\"M 416.160156 430.558594 L 416.160156 437.761719 \"/>\n",
       "<path style=\"fill:none;stroke-width:0.75;stroke-linecap:round;stroke-linejoin:round;stroke:rgb(0%,0%,0%);stroke-opacity:1;stroke-miterlimit:10;\" d=\"M 423.839844 430.558594 L 423.839844 437.761719 \"/>\n",
       "<path style=\"fill:none;stroke-width:0.75;stroke-linecap:round;stroke-linejoin:round;stroke:rgb(0%,0%,0%);stroke-opacity:1;stroke-miterlimit:10;\" d=\"M 431.519531 430.558594 L 431.519531 437.761719 \"/>\n",
       "<path style=\"fill:none;stroke-width:0.75;stroke-linecap:round;stroke-linejoin:round;stroke:rgb(0%,0%,0%);stroke-opacity:1;stroke-miterlimit:10;\" d=\"M 439.199219 430.558594 L 439.199219 437.761719 \"/>\n",
       "<path style=\"fill:none;stroke-width:0.75;stroke-linecap:round;stroke-linejoin:round;stroke:rgb(0%,0%,0%);stroke-opacity:1;stroke-miterlimit:10;\" d=\"M 446.878906 430.558594 L 446.878906 437.761719 \"/>\n",
       "<path style=\"fill:none;stroke-width:0.75;stroke-linecap:round;stroke-linejoin:round;stroke:rgb(0%,0%,0%);stroke-opacity:1;stroke-miterlimit:10;\" d=\"M 454.558594 430.558594 L 454.558594 437.761719 \"/>\n",
       "<g style=\"fill:rgb(0%,0%,0%);fill-opacity:1;\">\n",
       "  <use xlink:href=\"#glyph0-1\" x=\"69.738281\" y=\"455.916016\"/>\n",
       "  <use xlink:href=\"#glyph0-2\" x=\"77.742188\" y=\"455.916016\"/>\n",
       "</g>\n",
       "<g style=\"fill:rgb(0%,0%,0%);fill-opacity:1;\">\n",
       "  <use xlink:href=\"#glyph0-3\" x=\"100.460938\" y=\"455.916016\"/>\n",
       "  <use xlink:href=\"#glyph0-1\" x=\"109.125\" y=\"455.916016\"/>\n",
       "</g>\n",
       "<g style=\"fill:rgb(0%,0%,0%);fill-opacity:1;\">\n",
       "  <use xlink:href=\"#glyph0-4\" x=\"132.179688\" y=\"455.916016\"/>\n",
       "  <use xlink:href=\"#glyph0-5\" x=\"139.511719\" y=\"455.916016\"/>\n",
       "</g>\n",
       "<g style=\"fill:rgb(0%,0%,0%);fill-opacity:1;\">\n",
       "  <use xlink:href=\"#glyph0-6\" x=\"164.398438\" y=\"455.916016\"/>\n",
       "  <use xlink:href=\"#glyph0-7\" x=\"167.734375\" y=\"455.916016\"/>\n",
       "</g>\n",
       "<g style=\"fill:rgb(0%,0%,0%);fill-opacity:1;\">\n",
       "  <use xlink:href=\"#glyph0-2\" x=\"192.621094\" y=\"455.916016\"/>\n",
       "  <use xlink:href=\"#glyph0-8\" x=\"200.625\" y=\"455.916016\"/>\n",
       "</g>\n",
       "<g style=\"fill:rgb(0%,0%,0%);fill-opacity:1;\">\n",
       "  <use xlink:href=\"#glyph0-9\" x=\"222.839844\" y=\"455.916016\"/>\n",
       "  <use xlink:href=\"#glyph0-10\" x=\"232.835938\" y=\"455.916016\"/>\n",
       "</g>\n",
       "<g style=\"fill:rgb(0%,0%,0%);fill-opacity:1;\">\n",
       "  <use xlink:href=\"#glyph0-9\" x=\"253.558594\" y=\"455.916016\"/>\n",
       "  <use xlink:href=\"#glyph0-11\" x=\"263.554688\" y=\"455.916016\"/>\n",
       "</g>\n",
       "<g style=\"fill:rgb(0%,0%,0%);fill-opacity:1;\">\n",
       "  <use xlink:href=\"#glyph0-12\" x=\"284.78125\" y=\"455.916016\"/>\n",
       "  <use xlink:href=\"#glyph0-10\" x=\"293.445312\" y=\"455.916016\"/>\n",
       "</g>\n",
       "<g style=\"fill:rgb(0%,0%,0%);fill-opacity:1;\">\n",
       "  <use xlink:href=\"#glyph0-12\" x=\"315.5\" y=\"455.916016\"/>\n",
       "  <use xlink:href=\"#glyph0-13\" x=\"324.164062\" y=\"455.916016\"/>\n",
       "</g>\n",
       "<g style=\"fill:rgb(0%,0%,0%);fill-opacity:1;\">\n",
       "  <use xlink:href=\"#glyph0-14\" x=\"345.71875\" y=\"455.916016\"/>\n",
       "  <use xlink:href=\"#glyph0-15\" x=\"355.054688\" y=\"455.916016\"/>\n",
       "</g>\n",
       "<g style=\"fill:rgb(0%,0%,0%);fill-opacity:1;\">\n",
       "  <use xlink:href=\"#glyph0-11\" x=\"376.941406\" y=\"455.916016\"/>\n",
       "  <use xlink:href=\"#glyph0-7\" x=\"384.945312\" y=\"455.916016\"/>\n",
       "</g>\n",
       "<g style=\"fill:rgb(0%,0%,0%);fill-opacity:1;\">\n",
       "  <use xlink:href=\"#glyph0-13\" x=\"407.660156\" y=\"455.916016\"/>\n",
       "  <use xlink:href=\"#glyph0-1\" x=\"415.664062\" y=\"455.916016\"/>\n",
       "</g>\n",
       "<g style=\"fill:rgb(0%,0%,0%);fill-opacity:1;\">\n",
       "  <use xlink:href=\"#glyph0-16\" x=\"436.878906\" y=\"455.916016\"/>\n",
       "  <use xlink:href=\"#glyph0-13\" x=\"448.207031\" y=\"455.916016\"/>\n",
       "</g>\n",
       "<path style=\"fill:none;stroke-width:0.75;stroke-linecap:round;stroke-linejoin:round;stroke:rgb(0%,0%,0%);stroke-opacity:1;stroke-miterlimit:10;\" d=\"M 59.039062 407.242188 L 59.039062 61.742188 \"/>\n",
       "<path style=\"fill:none;stroke-width:0.75;stroke-linecap:round;stroke-linejoin:round;stroke:rgb(0%,0%,0%);stroke-opacity:1;stroke-miterlimit:10;\" d=\"M 59.039062 407.242188 L 51.839844 407.242188 \"/>\n",
       "<path style=\"fill:none;stroke-width:0.75;stroke-linecap:round;stroke-linejoin:round;stroke:rgb(0%,0%,0%);stroke-opacity:1;stroke-miterlimit:10;\" d=\"M 59.039062 349.660156 L 51.839844 349.660156 \"/>\n",
       "<path style=\"fill:none;stroke-width:0.75;stroke-linecap:round;stroke-linejoin:round;stroke:rgb(0%,0%,0%);stroke-opacity:1;stroke-miterlimit:10;\" d=\"M 59.039062 292.074219 L 51.839844 292.074219 \"/>\n",
       "<path style=\"fill:none;stroke-width:0.75;stroke-linecap:round;stroke-linejoin:round;stroke:rgb(0%,0%,0%);stroke-opacity:1;stroke-miterlimit:10;\" d=\"M 59.039062 234.492188 L 51.839844 234.492188 \"/>\n",
       "<path style=\"fill:none;stroke-width:0.75;stroke-linecap:round;stroke-linejoin:round;stroke:rgb(0%,0%,0%);stroke-opacity:1;stroke-miterlimit:10;\" d=\"M 59.039062 176.910156 L 51.839844 176.910156 \"/>\n",
       "<path style=\"fill:none;stroke-width:0.75;stroke-linecap:round;stroke-linejoin:round;stroke:rgb(0%,0%,0%);stroke-opacity:1;stroke-miterlimit:10;\" d=\"M 59.039062 119.328125 L 51.839844 119.328125 \"/>\n",
       "<path style=\"fill:none;stroke-width:0.75;stroke-linecap:round;stroke-linejoin:round;stroke:rgb(0%,0%,0%);stroke-opacity:1;stroke-miterlimit:10;\" d=\"M 59.039062 61.742188 L 51.839844 61.742188 \"/>\n",
       "<g style=\"fill:rgb(0%,0%,0%);fill-opacity:1;\">\n",
       "  <use xlink:href=\"#glyph1-1\" x=\"41.197266\" y=\"410.742188\"/>\n",
       "</g>\n",
       "<g style=\"fill:rgb(0%,0%,0%);fill-opacity:1;\">\n",
       "  <use xlink:href=\"#glyph1-2\" x=\"41.197266\" y=\"356.660156\"/>\n",
       "  <use xlink:href=\"#glyph1-3\" x=\"41.197266\" y=\"349.988281\"/>\n",
       "</g>\n",
       "<g style=\"fill:rgb(0%,0%,0%);fill-opacity:1;\">\n",
       "  <use xlink:href=\"#glyph1-2\" x=\"41.197266\" y=\"299.074219\"/>\n",
       "  <use xlink:href=\"#glyph1-1\" x=\"41.197266\" y=\"292.402344\"/>\n",
       "</g>\n",
       "<g style=\"fill:rgb(0%,0%,0%);fill-opacity:1;\">\n",
       "  <use xlink:href=\"#glyph1-4\" x=\"41.197266\" y=\"241.492188\"/>\n",
       "  <use xlink:href=\"#glyph1-3\" x=\"41.197266\" y=\"234.820312\"/>\n",
       "</g>\n",
       "<g style=\"fill:rgb(0%,0%,0%);fill-opacity:1;\">\n",
       "  <use xlink:href=\"#glyph1-4\" x=\"41.197266\" y=\"183.910156\"/>\n",
       "  <use xlink:href=\"#glyph1-1\" x=\"41.197266\" y=\"177.238281\"/>\n",
       "</g>\n",
       "<g style=\"fill:rgb(0%,0%,0%);fill-opacity:1;\">\n",
       "  <use xlink:href=\"#glyph1-5\" x=\"41.197266\" y=\"126.328125\"/>\n",
       "  <use xlink:href=\"#glyph1-3\" x=\"41.197266\" y=\"119.65625\"/>\n",
       "</g>\n",
       "<g style=\"fill:rgb(0%,0%,0%);fill-opacity:1;\">\n",
       "  <use xlink:href=\"#glyph1-5\" x=\"41.197266\" y=\"68.742188\"/>\n",
       "  <use xlink:href=\"#glyph1-1\" x=\"41.197266\" y=\"62.070312\"/>\n",
       "</g>\n",
       "<path style=\"fill:none;stroke-width:0.75;stroke-linecap:round;stroke-linejoin:round;stroke:rgb(0%,0%,0%);stroke-opacity:1;stroke-miterlimit:10;\" d=\"M 59.039062 430.558594 L 473.761719 430.558594 L 473.761719 59.039062 L 59.039062 59.039062 L 59.039062 430.558594 \"/>\n",
       "</g>\n",
       "</svg>\n"
      ],
      "text/plain": [
       "plot without title"
      ]
     },
     "metadata": {
      "image/svg+xml": {
       "isolated": true
      }
     },
     "output_type": "display_data"
    }
   ],
   "source": [
    "boxplot(EPriceTotal~STATE,data = energy,varwidth=TRUE)"
   ]
  },
  {
   "cell_type": "code",
   "execution_count": 27,
   "metadata": {
    "collapsed": false
   },
   "outputs": [
    {
     "data": {
      "text/html": [
       "<dl class=dl-horizontal>\n",
       "\t<dt>WY</dt>\n",
       "\t\t<dd>5.51</dd>\n",
       "\t<dt>KY</dt>\n",
       "\t\t<dd>5.68857142857143</dd>\n",
       "\t<dt>ID</dt>\n",
       "\t\t<dd>5.68928571428571</dd>\n",
       "\t<dt>WV</dt>\n",
       "\t\t<dd>6.04857142857143</dd>\n",
       "\t<dt>WA</dt>\n",
       "\t\t<dd>6.15714285714286</dd>\n",
       "\t<dt>UT</dt>\n",
       "\t\t<dd>6.29857142857143</dd>\n",
       "\t<dt>ND</dt>\n",
       "\t\t<dd>6.43142857142857</dd>\n",
       "\t<dt>NE</dt>\n",
       "\t\t<dd>6.57928571428571</dd>\n",
       "\t<dt>IN</dt>\n",
       "\t\t<dd>6.64428571428571</dd>\n",
       "\t<dt>AR</dt>\n",
       "\t\t<dd>6.73928571428571</dd>\n",
       "\t<dt>OR</dt>\n",
       "\t\t<dd>6.84928571428571</dd>\n",
       "\t<dt>IA</dt>\n",
       "\t\t<dd>6.88428571428571</dd>\n",
       "\t<dt>MO</dt>\n",
       "\t\t<dd>6.93428571428571</dd>\n",
       "\t<dt>OK</dt>\n",
       "\t\t<dd>6.95714285714286</dd>\n",
       "\t<dt>MT</dt>\n",
       "\t\t<dd>7.04857142857143</dd>\n",
       "\t<dt>SD</dt>\n",
       "\t\t<dd>7.11857142857143</dd>\n",
       "\t<dt>MN</dt>\n",
       "\t\t<dd>7.29857142857143</dd>\n",
       "\t<dt>SC</dt>\n",
       "\t\t<dd>7.30714285714286</dd>\n",
       "\t<dt>TN</dt>\n",
       "\t\t<dd>7.31285714285714</dd>\n",
       "\t<dt>KS</dt>\n",
       "\t\t<dd>7.39571428571429</dd>\n",
       "\t<dt>AL</dt>\n",
       "\t\t<dd>7.39928571428571</dd>\n",
       "\t<dt>VA</dt>\n",
       "\t\t<dd>7.44</dd>\n",
       "\t<dt>LA</dt>\n",
       "\t\t<dd>7.50928571428571</dd>\n",
       "\t<dt>NC</dt>\n",
       "\t\t<dd>7.73785714285714</dd>\n",
       "\t<dt>NM</dt>\n",
       "\t\t<dd>7.75357142857143</dd>\n",
       "\t<dt>MS</dt>\n",
       "\t\t<dd>7.75928571428571</dd>\n",
       "\t<dt>CO</dt>\n",
       "\t\t<dd>7.81</dd>\n",
       "\t<dt>GA</dt>\n",
       "\t\t<dd>7.84642857142857</dd>\n",
       "\t<dt>OH</dt>\n",
       "\t\t<dd>7.85857142857143</dd>\n",
       "\t<dt>IL</dt>\n",
       "\t\t<dd>7.86142857142857</dd>\n",
       "\t<dt>WI</dt>\n",
       "\t\t<dd>8.20285714285714</dd>\n",
       "\t<dt>AZ</dt>\n",
       "\t\t<dd>8.50785714285714</dd>\n",
       "\t<dt>MI</dt>\n",
       "\t\t<dd>8.54714285714286</dd>\n",
       "\t<dt>TX</dt>\n",
       "\t\t<dd>8.70928571428571</dd>\n",
       "\t<dt>NV</dt>\n",
       "\t\t<dd>8.91928571428571</dd>\n",
       "\t<dt>PA</dt>\n",
       "\t\t<dd>8.94142857142857</dd>\n",
       "\t<dt>FL</dt>\n",
       "\t\t<dd>9.385</dd>\n",
       "\t<dt>DE</dt>\n",
       "\t\t<dd>9.53642857142857</dd>\n",
       "\t<dt>MD</dt>\n",
       "\t\t<dd>9.74142857142857</dd>\n",
       "\t<dt>ME</dt>\n",
       "\t\t<dd>11.6457142857143</dd>\n",
       "\t<dt>NJ</dt>\n",
       "\t\t<dd>12.0714285714286</dd>\n",
       "\t<dt>VT</dt>\n",
       "\t\t<dd>12.0942857142857</dd>\n",
       "\t<dt>CA</dt>\n",
       "\t\t<dd>12.3471428571429</dd>\n",
       "\t<dt>RI</dt>\n",
       "\t\t<dd>12.5114285714286</dd>\n",
       "\t<dt>NH</dt>\n",
       "\t\t<dd>13.0814285714286</dd>\n",
       "\t<dt>MA</dt>\n",
       "\t\t<dd>13.1121428571429</dd>\n",
       "\t<dt>AK</dt>\n",
       "\t\t<dd>13.1357142857143</dd>\n",
       "\t<dt>CT</dt>\n",
       "\t\t<dd>13.815</dd>\n",
       "\t<dt>NY</dt>\n",
       "\t\t<dd>14.1657142857143</dd>\n",
       "\t<dt>HI</dt>\n",
       "\t\t<dd>21.8857142857143</dd>\n",
       "</dl>\n"
      ],
      "text/latex": [
       "\\begin{description*}\n",
       "\\item[WY] 5.51\n",
       "\\item[KY] 5.68857142857143\n",
       "\\item[ID] 5.68928571428571\n",
       "\\item[WV] 6.04857142857143\n",
       "\\item[WA] 6.15714285714286\n",
       "\\item[UT] 6.29857142857143\n",
       "\\item[ND] 6.43142857142857\n",
       "\\item[NE] 6.57928571428571\n",
       "\\item[IN] 6.64428571428571\n",
       "\\item[AR] 6.73928571428571\n",
       "\\item[OR] 6.84928571428571\n",
       "\\item[IA] 6.88428571428571\n",
       "\\item[MO] 6.93428571428571\n",
       "\\item[OK] 6.95714285714286\n",
       "\\item[MT] 7.04857142857143\n",
       "\\item[SD] 7.11857142857143\n",
       "\\item[MN] 7.29857142857143\n",
       "\\item[SC] 7.30714285714286\n",
       "\\item[TN] 7.31285714285714\n",
       "\\item[KS] 7.39571428571429\n",
       "\\item[AL] 7.39928571428571\n",
       "\\item[VA] 7.44\n",
       "\\item[LA] 7.50928571428571\n",
       "\\item[NC] 7.73785714285714\n",
       "\\item[NM] 7.75357142857143\n",
       "\\item[MS] 7.75928571428571\n",
       "\\item[CO] 7.81\n",
       "\\item[GA] 7.84642857142857\n",
       "\\item[OH] 7.85857142857143\n",
       "\\item[IL] 7.86142857142857\n",
       "\\item[WI] 8.20285714285714\n",
       "\\item[AZ] 8.50785714285714\n",
       "\\item[MI] 8.54714285714286\n",
       "\\item[TX] 8.70928571428571\n",
       "\\item[NV] 8.91928571428571\n",
       "\\item[PA] 8.94142857142857\n",
       "\\item[FL] 9.385\n",
       "\\item[DE] 9.53642857142857\n",
       "\\item[MD] 9.74142857142857\n",
       "\\item[ME] 11.6457142857143\n",
       "\\item[NJ] 12.0714285714286\n",
       "\\item[VT] 12.0942857142857\n",
       "\\item[CA] 12.3471428571429\n",
       "\\item[RI] 12.5114285714286\n",
       "\\item[NH] 13.0814285714286\n",
       "\\item[MA] 13.1121428571429\n",
       "\\item[AK] 13.1357142857143\n",
       "\\item[CT] 13.815\n",
       "\\item[NY] 14.1657142857143\n",
       "\\item[HI] 21.8857142857143\n",
       "\\end{description*}\n"
      ],
      "text/markdown": [
       "WY\n",
       ":   5.51KY\n",
       ":   5.68857142857143ID\n",
       ":   5.68928571428571WV\n",
       ":   6.04857142857143WA\n",
       ":   6.15714285714286UT\n",
       ":   6.29857142857143ND\n",
       ":   6.43142857142857NE\n",
       ":   6.57928571428571IN\n",
       ":   6.64428571428571AR\n",
       ":   6.73928571428571OR\n",
       ":   6.84928571428571IA\n",
       ":   6.88428571428571MO\n",
       ":   6.93428571428571OK\n",
       ":   6.95714285714286MT\n",
       ":   7.04857142857143SD\n",
       ":   7.11857142857143MN\n",
       ":   7.29857142857143SC\n",
       ":   7.30714285714286TN\n",
       ":   7.31285714285714KS\n",
       ":   7.39571428571429AL\n",
       ":   7.39928571428571VA\n",
       ":   7.44LA\n",
       ":   7.50928571428571NC\n",
       ":   7.73785714285714NM\n",
       ":   7.75357142857143MS\n",
       ":   7.75928571428571CO\n",
       ":   7.81GA\n",
       ":   7.84642857142857OH\n",
       ":   7.85857142857143IL\n",
       ":   7.86142857142857WI\n",
       ":   8.20285714285714AZ\n",
       ":   8.50785714285714MI\n",
       ":   8.54714285714286TX\n",
       ":   8.70928571428571NV\n",
       ":   8.91928571428571PA\n",
       ":   8.94142857142857FL\n",
       ":   9.385DE\n",
       ":   9.53642857142857MD\n",
       ":   9.74142857142857ME\n",
       ":   11.6457142857143NJ\n",
       ":   12.0714285714286VT\n",
       ":   12.0942857142857CA\n",
       ":   12.3471428571429RI\n",
       ":   12.5114285714286NH\n",
       ":   13.0814285714286MA\n",
       ":   13.1121428571429AK\n",
       ":   13.1357142857143CT\n",
       ":   13.815NY\n",
       ":   14.1657142857143HI\n",
       ":   21.8857142857143\n",
       "\n"
      ],
      "text/plain": [
       "       WY        KY        ID        WV        WA        UT        ND        NE \n",
       " 5.510000  5.688571  5.689286  6.048571  6.157143  6.298571  6.431429  6.579286 \n",
       "       IN        AR        OR        IA        MO        OK        MT        SD \n",
       " 6.644286  6.739286  6.849286  6.884286  6.934286  6.957143  7.048571  7.118571 \n",
       "       MN        SC        TN        KS        AL        VA        LA        NC \n",
       " 7.298571  7.307143  7.312857  7.395714  7.399286  7.440000  7.509286  7.737857 \n",
       "       NM        MS        CO        GA        OH        IL        WI        AZ \n",
       " 7.753571  7.759286  7.810000  7.846429  7.858571  7.861429  8.202857  8.507857 \n",
       "       MI        TX        NV        PA        FL        DE        MD        ME \n",
       " 8.547143  8.709286  8.919286  8.941429  9.385000  9.536429  9.741429 11.645714 \n",
       "       NJ        VT        CA        RI        NH        MA        AK        CT \n",
       "12.071429 12.094286 12.347143 12.511429 13.081429 13.112143 13.135714 13.815000 \n",
       "       NY        HI \n",
       "14.165714 21.885714 "
      ]
     },
     "execution_count": 27,
     "metadata": {},
     "output_type": "execute_result"
    }
   ],
   "source": [
    "sort(tapply(energy$EPriceTotal,energy$STATE,mean))"
   ]
  },
  {
   "cell_type": "code",
   "execution_count": 28,
   "metadata": {
    "collapsed": false
   },
   "outputs": [
    {
     "data": {
      "text/html": [
       "<dl class=dl-horizontal>\n",
       "\t<dt>CA</dt>\n",
       "\t\t<dd>5.57628529978571</dd>\n",
       "\t<dt>MA</dt>\n",
       "\t\t<dd>6.43429463192857</dd>\n",
       "\t<dt>RI</dt>\n",
       "\t\t<dd>6.48862803392857</dd>\n",
       "\t<dt>NJ</dt>\n",
       "\t\t<dd>7.1087000365</dd>\n",
       "\t<dt>NY</dt>\n",
       "\t\t<dd>7.19738297621429</dd>\n",
       "\t<dt>DE</dt>\n",
       "\t\t<dd>8.25676093878571</dd>\n",
       "\t<dt>MD</dt>\n",
       "\t\t<dd>8.35253046321429</dd>\n",
       "\t<dt>ID</dt>\n",
       "\t\t<dd>8.35847144242857</dd>\n",
       "\t<dt>HI</dt>\n",
       "\t\t<dd>8.62356251442857</dd>\n",
       "\t<dt>CT</dt>\n",
       "\t\t<dd>9.35840936864286</dd>\n",
       "\t<dt>VA</dt>\n",
       "\t\t<dd>9.72036665964286</dd>\n",
       "\t<dt>AK</dt>\n",
       "\t\t<dd>9.81021785707143</dd>\n",
       "\t<dt>VT</dt>\n",
       "\t\t<dd>10.1770050477857</dd>\n",
       "\t<dt>MN</dt>\n",
       "\t\t<dd>10.1992825556429</dd>\n",
       "\t<dt>CO</dt>\n",
       "\t\t<dd>10.367633712</dd>\n",
       "\t<dt>SD</dt>\n",
       "\t\t<dd>10.7198634078571</dd>\n",
       "\t<dt>WI</dt>\n",
       "\t\t<dd>11.0793024935714</dd>\n",
       "\t<dt>MI</dt>\n",
       "\t\t<dd>11.2010833792857</dd>\n",
       "\t<dt>FL</dt>\n",
       "\t\t<dd>12.0270889092857</dd>\n",
       "\t<dt>OH</dt>\n",
       "\t\t<dd>12.6644612892857</dd>\n",
       "\t<dt>ME</dt>\n",
       "\t\t<dd>13.1487922307143</dd>\n",
       "\t<dt>NC</dt>\n",
       "\t\t<dd>13.9154436607143</dd>\n",
       "\t<dt>GA</dt>\n",
       "\t\t<dd>13.9691867157143</dd>\n",
       "\t<dt>NV</dt>\n",
       "\t\t<dd>14.3116246307143</dd>\n",
       "\t<dt>OR</dt>\n",
       "\t\t<dd>14.5372625457143</dd>\n",
       "\t<dt>TN</dt>\n",
       "\t\t<dd>14.7511320535714</dd>\n",
       "\t<dt>MO</dt>\n",
       "\t\t<dd>15.0627599764286</dd>\n",
       "\t<dt>IL</dt>\n",
       "\t\t<dd>15.1938577485714</dd>\n",
       "\t<dt>UT</dt>\n",
       "\t\t<dd>15.5876299071429</dd>\n",
       "\t<dt>NH</dt>\n",
       "\t\t<dd>15.6710558321429</dd>\n",
       "\t<dt>IA</dt>\n",
       "\t\t<dd>16.2701490992857</dd>\n",
       "\t<dt>MS</dt>\n",
       "\t\t<dd>16.3774092992857</dd>\n",
       "\t<dt>WA</dt>\n",
       "\t\t<dd>16.4263941621429</dd>\n",
       "\t<dt>KS</dt>\n",
       "\t\t<dd>16.732968485</dd>\n",
       "\t<dt>TX</dt>\n",
       "\t\t<dd>17.0200817285714</dd>\n",
       "\t<dt>AZ</dt>\n",
       "\t\t<dd>17.2116043807143</dd>\n",
       "\t<dt>PA</dt>\n",
       "\t\t<dd>17.3260796735714</dd>\n",
       "\t<dt>NM</dt>\n",
       "\t\t<dd>18.1305633942857</dd>\n",
       "\t<dt>NE</dt>\n",
       "\t\t<dd>18.4703521071429</dd>\n",
       "\t<dt>OK</dt>\n",
       "\t\t<dd>18.7871459471429</dd>\n",
       "\t<dt>AR</dt>\n",
       "\t\t<dd>19.0901325292857</dd>\n",
       "\t<dt>IN</dt>\n",
       "\t\t<dd>19.6641502007143</dd>\n",
       "\t<dt>LA</dt>\n",
       "\t\t<dd>21.3845158942857</dd>\n",
       "\t<dt>KY</dt>\n",
       "\t\t<dd>22.399998885</dd>\n",
       "\t<dt>SC</dt>\n",
       "\t\t<dd>22.4765698914286</dd>\n",
       "\t<dt>MT</dt>\n",
       "\t\t<dd>28.94235057</dd>\n",
       "\t<dt>AL</dt>\n",
       "\t\t<dd>30.5819996692857</dd>\n",
       "\t<dt>WV</dt>\n",
       "\t\t<dd>47.4171413371429</dd>\n",
       "\t<dt>ND</dt>\n",
       "\t\t<dd>49.9094624607143</dd>\n",
       "\t<dt>WY</dt>\n",
       "\t\t<dd>88.3930826515385</dd>\n",
       "</dl>\n"
      ],
      "text/latex": [
       "\\begin{description*}\n",
       "\\item[CA] 5.57628529978571\n",
       "\\item[MA] 6.43429463192857\n",
       "\\item[RI] 6.48862803392857\n",
       "\\item[NJ] 7.1087000365\n",
       "\\item[NY] 7.19738297621429\n",
       "\\item[DE] 8.25676093878571\n",
       "\\item[MD] 8.35253046321429\n",
       "\\item[ID] 8.35847144242857\n",
       "\\item[HI] 8.62356251442857\n",
       "\\item[CT] 9.35840936864286\n",
       "\\item[VA] 9.72036665964286\n",
       "\\item[AK] 9.81021785707143\n",
       "\\item[VT] 10.1770050477857\n",
       "\\item[MN] 10.1992825556429\n",
       "\\item[CO] 10.367633712\n",
       "\\item[SD] 10.7198634078571\n",
       "\\item[WI] 11.0793024935714\n",
       "\\item[MI] 11.2010833792857\n",
       "\\item[FL] 12.0270889092857\n",
       "\\item[OH] 12.6644612892857\n",
       "\\item[ME] 13.1487922307143\n",
       "\\item[NC] 13.9154436607143\n",
       "\\item[GA] 13.9691867157143\n",
       "\\item[NV] 14.3116246307143\n",
       "\\item[OR] 14.5372625457143\n",
       "\\item[TN] 14.7511320535714\n",
       "\\item[MO] 15.0627599764286\n",
       "\\item[IL] 15.1938577485714\n",
       "\\item[UT] 15.5876299071429\n",
       "\\item[NH] 15.6710558321429\n",
       "\\item[IA] 16.2701490992857\n",
       "\\item[MS] 16.3774092992857\n",
       "\\item[WA] 16.4263941621429\n",
       "\\item[KS] 16.732968485\n",
       "\\item[TX] 17.0200817285714\n",
       "\\item[AZ] 17.2116043807143\n",
       "\\item[PA] 17.3260796735714\n",
       "\\item[NM] 18.1305633942857\n",
       "\\item[NE] 18.4703521071429\n",
       "\\item[OK] 18.7871459471429\n",
       "\\item[AR] 19.0901325292857\n",
       "\\item[IN] 19.6641502007143\n",
       "\\item[LA] 21.3845158942857\n",
       "\\item[KY] 22.399998885\n",
       "\\item[SC] 22.4765698914286\n",
       "\\item[MT] 28.94235057\n",
       "\\item[AL] 30.5819996692857\n",
       "\\item[WV] 47.4171413371429\n",
       "\\item[ND] 49.9094624607143\n",
       "\\item[WY] 88.3930826515385\n",
       "\\end{description*}\n"
      ],
      "text/markdown": [
       "CA\n",
       ":   5.57628529978571MA\n",
       ":   6.43429463192857RI\n",
       ":   6.48862803392857NJ\n",
       ":   7.1087000365NY\n",
       ":   7.19738297621429DE\n",
       ":   8.25676093878571MD\n",
       ":   8.35253046321429ID\n",
       ":   8.35847144242857HI\n",
       ":   8.62356251442857CT\n",
       ":   9.35840936864286VA\n",
       ":   9.72036665964286AK\n",
       ":   9.81021785707143VT\n",
       ":   10.1770050477857MN\n",
       ":   10.1992825556429CO\n",
       ":   10.367633712SD\n",
       ":   10.7198634078571WI\n",
       ":   11.0793024935714MI\n",
       ":   11.2010833792857FL\n",
       ":   12.0270889092857OH\n",
       ":   12.6644612892857ME\n",
       ":   13.1487922307143NC\n",
       ":   13.9154436607143GA\n",
       ":   13.9691867157143NV\n",
       ":   14.3116246307143OR\n",
       ":   14.5372625457143TN\n",
       ":   14.7511320535714MO\n",
       ":   15.0627599764286IL\n",
       ":   15.1938577485714UT\n",
       ":   15.5876299071429NH\n",
       ":   15.6710558321429IA\n",
       ":   16.2701490992857MS\n",
       ":   16.3774092992857WA\n",
       ":   16.4263941621429KS\n",
       ":   16.732968485TX\n",
       ":   17.0200817285714AZ\n",
       ":   17.2116043807143PA\n",
       ":   17.3260796735714NM\n",
       ":   18.1305633942857NE\n",
       ":   18.4703521071429OK\n",
       ":   18.7871459471429AR\n",
       ":   19.0901325292857IN\n",
       ":   19.6641502007143LA\n",
       ":   21.3845158942857KY\n",
       ":   22.399998885SC\n",
       ":   22.4765698914286MT\n",
       ":   28.94235057AL\n",
       ":   30.5819996692857WV\n",
       ":   47.4171413371429ND\n",
       ":   49.9094624607143WY\n",
       ":   88.3930826515385\n",
       "\n"
      ],
      "text/plain": [
       "       CA        MA        RI        NJ        NY        DE        MD        ID \n",
       " 5.576285  6.434295  6.488628  7.108700  7.197383  8.256761  8.352530  8.358471 \n",
       "       HI        CT        VA        AK        VT        MN        CO        SD \n",
       " 8.623563  9.358409  9.720367  9.810218 10.177005 10.199283 10.367634 10.719863 \n",
       "       WI        MI        FL        OH        ME        NC        GA        NV \n",
       "11.079302 11.201083 12.027089 12.664461 13.148792 13.915444 13.969187 14.311625 \n",
       "       OR        TN        MO        IL        UT        NH        IA        MS \n",
       "14.537263 14.751132 15.062760 15.193858 15.587630 15.671056 16.270149 16.377409 \n",
       "       WA        KS        TX        AZ        PA        NM        NE        OK \n",
       "16.426394 16.732968 17.020082 17.211604 17.326080 18.130563 18.470352 18.787146 \n",
       "       AR        IN        LA        KY        SC        MT        AL        WV \n",
       "19.090133 19.664150 21.384516 22.399999 22.476570 28.942351 30.582000 47.417141 \n",
       "       ND        WY \n",
       "49.909462 88.393083 "
      ]
     },
     "execution_count": 28,
     "metadata": {},
     "output_type": "execute_result"
    }
   ],
   "source": [
    "sort(tapply(energy$GenTotal,energy$STATE,mean))"
   ]
  },
  {
   "cell_type": "code",
   "execution_count": 32,
   "metadata": {
    "collapsed": false
   },
   "outputs": [
    {
     "data": {
      "text/html": [
       "<dl class=dl-horizontal>\n",
       "\t<dt>WA</dt>\n",
       "\t\t<dd>7.09</dd>\n",
       "\t<dt>WY</dt>\n",
       "\t\t<dd>7.55</dd>\n",
       "\t<dt>ID</dt>\n",
       "\t\t<dd>7.58</dd>\n",
       "\t<dt>KY</dt>\n",
       "\t\t<dd>7.69</dd>\n",
       "\t<dt>OK</dt>\n",
       "\t\t<dd>7.86</dd>\n",
       "\t<dt>AR</dt>\n",
       "\t\t<dd>7.93</dd>\n",
       "\t<dt>IA</dt>\n",
       "\t\t<dd>8.07</dd>\n",
       "\t<dt>WV</dt>\n",
       "\t\t<dd>8.14</dd>\n",
       "\t<dt>UT</dt>\n",
       "\t\t<dd>8.15</dd>\n",
       "\t<dt>ND</dt>\n",
       "\t\t<dd>8.2</dd>\n",
       "\t<dt>OR</dt>\n",
       "\t\t<dd>8.44</dd>\n",
       "\t<dt>MT</dt>\n",
       "\t\t<dd>8.58</dd>\n",
       "\t<dt>IN</dt>\n",
       "\t\t<dd>8.73</dd>\n",
       "\t<dt>NE</dt>\n",
       "\t\t<dd>8.74</dd>\n",
       "\t<dt>SD</dt>\n",
       "\t\t<dd>8.86</dd>\n",
       "\t<dt>MO</dt>\n",
       "\t\t<dd>9.04</dd>\n",
       "\t<dt>VA</dt>\n",
       "\t\t<dd>9.07</dd>\n",
       "\t<dt>MS</dt>\n",
       "\t\t<dd>9.11</dd>\n",
       "\t<dt>AL</dt>\n",
       "\t\t<dd>9.18</dd>\n",
       "\t<dt>OH</dt>\n",
       "\t\t<dd>9.2</dd>\n",
       "\t<dt>IL</dt>\n",
       "\t\t<dd>9.23</dd>\n",
       "\t<dt>NC</dt>\n",
       "\t\t<dd>9.24</dd>\n",
       "\t<dt>SC</dt>\n",
       "\t\t<dd>9.24</dd>\n",
       "\t<dt>NM</dt>\n",
       "\t\t<dd>9.25</dd>\n",
       "\t<dt>TN</dt>\n",
       "\t\t<dd>9.28</dd>\n",
       "\t<dt>MN</dt>\n",
       "\t\t<dd>9.41</dd>\n",
       "\t<dt>LA</dt>\n",
       "\t\t<dd>9.44</dd>\n",
       "\t<dt>GA</dt>\n",
       "\t\t<dd>9.69</dd>\n",
       "\t<dt>KS</dt>\n",
       "\t\t<dd>9.72</dd>\n",
       "\t<dt>CO</dt>\n",
       "\t\t<dd>9.88</dd>\n",
       "\t<dt>AZ</dt>\n",
       "\t\t<dd>10.14</dd>\n",
       "\t<dt>NV</dt>\n",
       "\t\t<dd>10.36</dd>\n",
       "\t<dt>PA</dt>\n",
       "\t\t<dd>10.45</dd>\n",
       "\t<dt>WI</dt>\n",
       "\t\t<dd>10.51</dd>\n",
       "\t<dt>TX</dt>\n",
       "\t\t<dd>10.99</dd>\n",
       "\t<dt>MI</dt>\n",
       "\t\t<dd>11.21</dd>\n",
       "\t<dt>FL</dt>\n",
       "\t\t<dd>11.49</dd>\n",
       "\t<dt>DE</dt>\n",
       "\t\t<dd>12.38</dd>\n",
       "\t<dt>MD</dt>\n",
       "\t\t<dd>13.09</dd>\n",
       "\t<dt>CA</dt>\n",
       "\t\t<dd>14.28</dd>\n",
       "\t<dt>ME</dt>\n",
       "\t\t<dd>14.59</dd>\n",
       "\t<dt>VT</dt>\n",
       "\t\t<dd>14.62</dd>\n",
       "\t<dt>NJ</dt>\n",
       "\t\t<dd>14.68</dd>\n",
       "\t<dt>NH</dt>\n",
       "\t\t<dd>15.09</dd>\n",
       "\t<dt>RI</dt>\n",
       "\t\t<dd>16.04</dd>\n",
       "\t<dt>MA</dt>\n",
       "\t\t<dd>16.23</dd>\n",
       "\t<dt>NY</dt>\n",
       "\t\t<dd>16.47</dd>\n",
       "\t<dt>AK</dt>\n",
       "\t\t<dd>16.49</dd>\n",
       "\t<dt>CT</dt>\n",
       "\t\t<dd>18.07</dd>\n",
       "\t<dt>HI</dt>\n",
       "\t\t<dd>34.04</dd>\n",
       "</dl>\n"
      ],
      "text/latex": [
       "\\begin{description*}\n",
       "\\item[WA] 7.09\n",
       "\\item[WY] 7.55\n",
       "\\item[ID] 7.58\n",
       "\\item[KY] 7.69\n",
       "\\item[OK] 7.86\n",
       "\\item[AR] 7.93\n",
       "\\item[IA] 8.07\n",
       "\\item[WV] 8.14\n",
       "\\item[UT] 8.15\n",
       "\\item[ND] 8.2\n",
       "\\item[OR] 8.44\n",
       "\\item[MT] 8.58\n",
       "\\item[IN] 8.73\n",
       "\\item[NE] 8.74\n",
       "\\item[SD] 8.86\n",
       "\\item[MO] 9.04\n",
       "\\item[VA] 9.07\n",
       "\\item[MS] 9.11\n",
       "\\item[AL] 9.18\n",
       "\\item[OH] 9.2\n",
       "\\item[IL] 9.23\n",
       "\\item[NC] 9.24\n",
       "\\item[SC] 9.24\n",
       "\\item[NM] 9.25\n",
       "\\item[TN] 9.28\n",
       "\\item[MN] 9.41\n",
       "\\item[LA] 9.44\n",
       "\\item[GA] 9.69\n",
       "\\item[KS] 9.72\n",
       "\\item[CO] 9.88\n",
       "\\item[AZ] 10.14\n",
       "\\item[NV] 10.36\n",
       "\\item[PA] 10.45\n",
       "\\item[WI] 10.51\n",
       "\\item[TX] 10.99\n",
       "\\item[MI] 11.21\n",
       "\\item[FL] 11.49\n",
       "\\item[DE] 12.38\n",
       "\\item[MD] 13.09\n",
       "\\item[CA] 14.28\n",
       "\\item[ME] 14.59\n",
       "\\item[VT] 14.62\n",
       "\\item[NJ] 14.68\n",
       "\\item[NH] 15.09\n",
       "\\item[RI] 16.04\n",
       "\\item[MA] 16.23\n",
       "\\item[NY] 16.47\n",
       "\\item[AK] 16.49\n",
       "\\item[CT] 18.07\n",
       "\\item[HI] 34.04\n",
       "\\end{description*}\n"
      ],
      "text/markdown": [
       "WA\n",
       ":   7.09WY\n",
       ":   7.55ID\n",
       ":   7.58KY\n",
       ":   7.69OK\n",
       ":   7.86AR\n",
       ":   7.93IA\n",
       ":   8.07WV\n",
       ":   8.14UT\n",
       ":   8.15ND\n",
       ":   8.2OR\n",
       ":   8.44MT\n",
       ":   8.58IN\n",
       ":   8.73NE\n",
       ":   8.74SD\n",
       ":   8.86MO\n",
       ":   9.04VA\n",
       ":   9.07MS\n",
       ":   9.11AL\n",
       ":   9.18OH\n",
       ":   9.2IL\n",
       ":   9.23NC\n",
       ":   9.24SC\n",
       ":   9.24NM\n",
       ":   9.25TN\n",
       ":   9.28MN\n",
       ":   9.41LA\n",
       ":   9.44GA\n",
       ":   9.69KS\n",
       ":   9.72CO\n",
       ":   9.88AZ\n",
       ":   10.14NV\n",
       ":   10.36PA\n",
       ":   10.45WI\n",
       ":   10.51TX\n",
       ":   10.99MI\n",
       ":   11.21FL\n",
       ":   11.49DE\n",
       ":   12.38MD\n",
       ":   13.09CA\n",
       ":   14.28ME\n",
       ":   14.59VT\n",
       ":   14.62NJ\n",
       ":   14.68NH\n",
       ":   15.09RI\n",
       ":   16.04MA\n",
       ":   16.23NY\n",
       ":   16.47AK\n",
       ":   16.49CT\n",
       ":   18.07HI\n",
       ":   34.04\n",
       "\n"
      ],
      "text/plain": [
       "   WA    WY    ID    KY    OK    AR    IA    WV    UT    ND    OR    MT    IN \n",
       " 7.09  7.55  7.58  7.69  7.86  7.93  8.07  8.14  8.15  8.20  8.44  8.58  8.73 \n",
       "   NE    SD    MO    VA    MS    AL    OH    IL    NC    SC    NM    TN    MN \n",
       " 8.74  8.86  9.04  9.07  9.11  9.18  9.20  9.23  9.24  9.24  9.25  9.28  9.41 \n",
       "   LA    GA    KS    CO    AZ    NV    PA    WI    TX    MI    FL    DE    MD \n",
       " 9.44  9.69  9.72  9.88 10.14 10.36 10.45 10.51 10.99 11.21 11.49 12.38 13.09 \n",
       "   CA    ME    VT    NJ    NH    RI    MA    NY    AK    CT    HI \n",
       "14.28 14.59 14.62 14.68 15.09 16.04 16.23 16.47 16.49 18.07 34.04 "
      ]
     },
     "execution_count": 32,
     "metadata": {},
     "output_type": "execute_result"
    }
   ],
   "source": [
    "sort(tapply(energy$EPriceTotal,energy$STATE,max))"
   ]
  },
  {
   "cell_type": "markdown",
   "metadata": {},
   "source": [
    "##  Problem 5 - Prediction Model for Solar Generation\n",
    "(2/2 points)\n",
    "\n",
    "We are interested in predicting whether states are going to increase their solar energy generation over the next year. Let's subset our dataset into a training and a testing set by using the following commands:\n",
    "\n",
    "set.seed(144)\n",
    "\n",
    "spl = sample(1:nrow(energy), size = 0.7*nrow(energy))\n",
    "\n",
    "train = energy[spl,]\n",
    "\n",
    "test = energy[-spl,]\n",
    "\n",
    "Let's build now a logistic regression model \"mod\" using the train set to predict the binary variable GenSolarBinary. To do so, we consider the following as potential predictive variables: GenHydro, GenSolar, CumlFinancial, CumlRegulatory, Total.salary, Import.\n",
    "\n",
    "Which variable is most predictive in the model?\n",
    "GenHydro\n",
    "GenSolar\n",
    "Total.salary\n",
    "CumlRegulatory CumlRegulatory - correct\n",
    "CumlFinancial\n",
    "Import\n",
    "You have used 1 of 2 submissions\n",
    "Problem 6 - Performance on the Test Set\n",
    "(3 points possible)\n",
    "\n",
    "Compute the predictions on the test set. Using a threshold of 0.5, what is the accuracy of our model on the test set?\n",
    "unanswered\n",
    "\n",
    "Loading\n",
    "\n",
    "What is the accuracy for states voting republican?\n",
    "unanswered\n",
    "\n",
    "Loading\n",
    "\n",
    "What is the accuracy for states voting democrat?"
   ]
  },
  {
   "cell_type": "code",
   "execution_count": 50,
   "metadata": {
    "collapsed": true
   },
   "outputs": [],
   "source": [
    "set.seed(144)\n",
    "\n",
    "spl = sample(1:nrow(energy), size = 0.7*nrow(energy))\n",
    "\n",
    "train = energy[spl,]\n",
    "\n",
    "test = energy[-spl,]"
   ]
  },
  {
   "cell_type": "code",
   "execution_count": 51,
   "metadata": {
    "collapsed": true
   },
   "outputs": [],
   "source": [
    "LRM1 = glm(GenSolarBinary~GenHydro+GenSolar+CumlFinancial+CumlRegulatory+Total.salary+Import, data = train, family = binomial)"
   ]
  },
  {
   "cell_type": "code",
   "execution_count": 52,
   "metadata": {
    "collapsed": false
   },
   "outputs": [
    {
     "data": {
      "text/plain": [
       "\n",
       "Call:\n",
       "glm(formula = GenSolarBinary ~ GenHydro + GenSolar + CumlFinancial + \n",
       "    CumlRegulatory + Total.salary + Import, family = binomial, \n",
       "    data = train)\n",
       "\n",
       "Deviance Residuals: \n",
       "    Min       1Q   Median       3Q      Max  \n",
       "-4.0165  -0.4374  -0.2398  -0.0719   2.6342  \n",
       "\n",
       "Coefficients:\n",
       "                 Estimate Std. Error z value Pr(>|z|)    \n",
       "(Intercept)    -6.345e+00  9.148e-01  -6.935 4.05e-12 ***\n",
       "GenHydro       -3.652e+00  1.114e+00  -3.279  0.00104 ** \n",
       "GenSolar        1.076e+03  3.322e+02   3.238  0.00121 ** \n",
       "CumlFinancial   2.814e-02  9.563e-03   2.943  0.00325 ** \n",
       "CumlRegulatory  1.996e-01  5.045e-02   3.955 7.65e-05 ***\n",
       "Total.salary    1.393e-01  4.465e-02   3.119  0.00181 ** \n",
       "Import         -3.142e-01  3.447e-01  -0.912  0.36190    \n",
       "---\n",
       "Signif. codes:  0 ‘***’ 0.001 ‘**’ 0.01 ‘*’ 0.05 ‘.’ 0.1 ‘ ’ 1\n",
       "\n",
       "(Dispersion parameter for binomial family taken to be 1)\n",
       "\n",
       "    Null deviance: 528.69  on 488  degrees of freedom\n",
       "Residual deviance: 282.82  on 482  degrees of freedom\n",
       "AIC: 296.82\n",
       "\n",
       "Number of Fisher Scoring iterations: 7\n"
      ]
     },
     "execution_count": 52,
     "metadata": {},
     "output_type": "execute_result"
    }
   ],
   "source": [
    "summary(LRM1)"
   ]
  },
  {
   "cell_type": "code",
   "execution_count": 53,
   "metadata": {
    "collapsed": true
   },
   "outputs": [],
   "source": [
    "predReg1 = predict(LRM1, newdata = test, type = \"response\")"
   ]
  },
  {
   "cell_type": "code",
   "execution_count": 54,
   "metadata": {
    "collapsed": false
   },
   "outputs": [
    {
     "data": {
      "text/plain": [
       "   \n",
       "    FALSE TRUE\n",
       "  0   154    7\n",
       "  1    31   18"
      ]
     },
     "execution_count": 54,
     "metadata": {},
     "output_type": "execute_result"
    }
   ],
   "source": [
    "t = table(test$GenSolarBinary,predReg1>0.5)\n",
    "t"
   ]
  },
  {
   "cell_type": "code",
   "execution_count": 55,
   "metadata": {
    "collapsed": false
   },
   "outputs": [
    {
     "data": {
      "text/html": [
       "0.819047619047619"
      ],
      "text/latex": [
       "0.819047619047619"
      ],
      "text/markdown": [
       "0.819047619047619"
      ],
      "text/plain": [
       "[1] 0.8190476"
      ]
     },
     "execution_count": 55,
     "metadata": {},
     "output_type": "execute_result"
    }
   ],
   "source": [
    "sum(diag(t))/sum(t)"
   ]
  },
  {
   "cell_type": "code",
   "execution_count": 58,
   "metadata": {
    "collapsed": true
   },
   "outputs": [],
   "source": [
    "indDem = (test$presidential.results == 1)"
   ]
  },
  {
   "cell_type": "code",
   "execution_count": 59,
   "metadata": {
    "collapsed": false
   },
   "outputs": [
    {
     "data": {
      "text/plain": [
       "   Mode   FALSE    TRUE    NA's \n",
       "logical     110     100       0 "
      ]
     },
     "execution_count": 59,
     "metadata": {},
     "output_type": "execute_result"
    }
   ],
   "source": [
    "summary(indDem)"
   ]
  },
  {
   "cell_type": "code",
   "execution_count": 60,
   "metadata": {
    "collapsed": true
   },
   "outputs": [],
   "source": [
    "PredBin = predReg1>0.5"
   ]
  },
  {
   "cell_type": "code",
   "execution_count": 64,
   "metadata": {
    "collapsed": true
   },
   "outputs": [],
   "source": [
    "demOrig = test$GenSolarBinary[indDem]\n",
    "demPred = PredBin[indDem]"
   ]
  },
  {
   "cell_type": "code",
   "execution_count": 65,
   "metadata": {
    "collapsed": false
   },
   "outputs": [
    {
     "data": {
      "text/plain": [
       "       demPred\n",
       "demOrig FALSE TRUE\n",
       "      0    64    7\n",
       "      1    13   16"
      ]
     },
     "execution_count": 65,
     "metadata": {},
     "output_type": "execute_result"
    }
   ],
   "source": [
    "t = table(demOrig,demPred)\n",
    "t"
   ]
  },
  {
   "cell_type": "code",
   "execution_count": 66,
   "metadata": {
    "collapsed": false
   },
   "outputs": [
    {
     "data": {
      "text/html": [
       "0.8"
      ],
      "text/latex": [
       "0.8"
      ],
      "text/markdown": [
       "0.8"
      ],
      "text/plain": [
       "[1] 0.8"
      ]
     },
     "execution_count": 66,
     "metadata": {},
     "output_type": "execute_result"
    }
   ],
   "source": [
    "sum(diag(t))/sum(t)"
   ]
  },
  {
   "cell_type": "code",
   "execution_count": 67,
   "metadata": {
    "collapsed": true
   },
   "outputs": [],
   "source": [
    "repOrig = test$GenSolarBinary[!indDem]\n",
    "repPred = PredBin[!indDem]"
   ]
  },
  {
   "cell_type": "code",
   "execution_count": 68,
   "metadata": {
    "collapsed": false
   },
   "outputs": [
    {
     "data": {
      "text/plain": [
       "       repPred\n",
       "repOrig FALSE TRUE\n",
       "      0    90    0\n",
       "      1    18    2"
      ]
     },
     "execution_count": 68,
     "metadata": {},
     "output_type": "execute_result"
    }
   ],
   "source": [
    "t = table(repOrig,repPred)\n",
    "t"
   ]
  },
  {
   "cell_type": "code",
   "execution_count": 69,
   "metadata": {
    "collapsed": false
   },
   "outputs": [
    {
     "data": {
      "text/html": [
       "0.836363636363636"
      ],
      "text/latex": [
       "0.836363636363636"
      ],
      "text/markdown": [
       "0.836363636363636"
      ],
      "text/plain": [
       "[1] 0.8363636"
      ]
     },
     "execution_count": 69,
     "metadata": {},
     "output_type": "execute_result"
    }
   ],
   "source": [
    "sum(diag(t))/sum(t)"
   ]
  },
  {
   "cell_type": "code",
   "execution_count": 72,
   "metadata": {
    "collapsed": false
   },
   "outputs": [
    {
     "data": {
      "text/plain": [
       ", ,  = 0\n",
       "\n",
       "   \n",
       "    FALSE TRUE\n",
       "  0    90    0\n",
       "  1    18    2\n",
       "\n",
       ", ,  = 1\n",
       "\n",
       "   \n",
       "    FALSE TRUE\n",
       "  0    64    7\n",
       "  1    13   16\n"
      ]
     },
     "execution_count": 72,
     "metadata": {},
     "output_type": "execute_result"
    }
   ],
   "source": [
    "table(test$GenSolarBinary,predReg1>0.5,test$presidential.results)"
   ]
  },
  {
   "cell_type": "markdown",
   "metadata": {},
   "source": [
    "##  Problem 7 - Clustering of the Observations\n",
    "(3 points possible)\n",
    "\n",
    "We can perhaps improve our accuracy if we implement a cluster-the-predict approach. We are interested in clustering the observations based on information about the regulatory and financial incentives, the elections outcome and the population wealth in each state across the years, in addition to whether the state was an energy importer or not.\n",
    "\n",
    "Let us create a train.limited and test.limited datasets, where we only keep the variables CumlRegulatory, CumlFinancial, presidential.results, Total.salary, and Import.\n",
    "\n",
    "Using the \"preProcess\" function on the train.limited set, we can compute the train.norm and test.norm.\n",
    "\n",
    "Why didn't we include the dependent variable GenSolarBinary in this clustering phase?\n",
    "Leaving the dependent variable might lead to unbalanced clusters\n",
    "Needing to know the dependent variable value to assign an observation to a cluster defeats the purpose of the cluster-then-predict methodology\n",
    "Removing the dependent variable decreases the computational effort needed for the clustering algorithm\n",
    "\n",
    "Let's use kmeans clustering for this problem with a seed of 144, k=2 and keep the maximum number of iterations at 1,000.\n",
    "\n",
    "Using the flexclust package, identify the clusters and call train1 the subset of train corresponding to the first cluster, and train2 the subset of train corresponding to the second cluster.\n",
    "\n",
    "Select the correct statement(s) below:\n",
    "On average, train1 contains more republican states than train2\n",
    "On average, train1 contains states that have instituted considerably more financial and regulatory policies than train2\n",
    "On average, train1 contains states that have recorded more CO2, SO2 and NOx emissions than train2\n",
    "- This answer is unanswered.\n"
   ]
  },
  {
   "cell_type": "code",
   "execution_count": 73,
   "metadata": {
    "collapsed": true
   },
   "outputs": [],
   "source": [
    "train.limited = train[,c(\"CumlRegulatory\",\"CumlFinancial\",\"presidential.results\",\"Total.salary\",\"Import\")]\n",
    "test.limited = test[,c(\"CumlRegulatory\",\"CumlFinancial\",\"presidential.results\",\"Total.salary\",\"Import\")]"
   ]
  },
  {
   "cell_type": "code",
   "execution_count": 74,
   "metadata": {
    "collapsed": false
   },
   "outputs": [
    {
     "name": "stderr",
     "output_type": "stream",
     "text": [
      "Loading required package: lattice\n",
      "Loading required package: ggplot2\n",
      "Warning message:\n",
      ": package ‘ggplot2’ was built under R version 3.3.0"
     ]
    }
   ],
   "source": [
    "library(caret)"
   ]
  },
  {
   "cell_type": "code",
   "execution_count": 75,
   "metadata": {
    "collapsed": true
   },
   "outputs": [],
   "source": [
    "preproc = preProcess(train.limited)"
   ]
  },
  {
   "cell_type": "code",
   "execution_count": 76,
   "metadata": {
    "collapsed": true
   },
   "outputs": [],
   "source": [
    "normTrain = predict(preproc,train.limited)\n",
    "normTest = predict(preproc, test.limited)"
   ]
  },
  {
   "cell_type": "code",
   "execution_count": 77,
   "metadata": {
    "collapsed": true
   },
   "outputs": [],
   "source": [
    "set.seed(144)\n",
    "KMC = kmeans(normTrain, centers = 2, iter.max = 1000)"
   ]
  },
  {
   "cell_type": "code",
   "execution_count": 78,
   "metadata": {
    "collapsed": false
   },
   "outputs": [
    {
     "name": "stderr",
     "output_type": "stream",
     "text": [
      "Warning message:\n",
      ": package ‘flexclust’ was built under R version 3.3.0Loading required package: grid\n",
      "Loading required package: modeltools\n",
      "Warning message:\n",
      ": package ‘modeltools’ was built under R version 3.3.0Loading required package: stats4\n"
     ]
    }
   ],
   "source": [
    "library(flexclust)"
   ]
  },
  {
   "cell_type": "code",
   "execution_count": 79,
   "metadata": {
    "collapsed": true
   },
   "outputs": [],
   "source": [
    "KMC.kcca = as.kcca(KMC, normTrain)"
   ]
  },
  {
   "cell_type": "code",
   "execution_count": 81,
   "metadata": {
    "collapsed": false
   },
   "outputs": [],
   "source": [
    "trainClusters = predict(KMC.kcca, newdata = normTrain)"
   ]
  },
  {
   "cell_type": "code",
   "execution_count": 83,
   "metadata": {
    "collapsed": false
   },
   "outputs": [
    {
     "data": {
      "text/plain": [
       "trainClusters\n",
       "  1   2 \n",
       "308 181 "
      ]
     },
     "execution_count": 83,
     "metadata": {},
     "output_type": "execute_result"
    }
   ],
   "source": [
    "table(trainClusters)"
   ]
  },
  {
   "cell_type": "code",
   "execution_count": 84,
   "metadata": {
    "collapsed": false
   },
   "outputs": [
    {
     "data": {
      "text/plain": [
       "\n",
       "  1   2 \n",
       "308 181 "
      ]
     },
     "execution_count": 84,
     "metadata": {},
     "output_type": "execute_result"
    }
   ],
   "source": [
    "table(KMC$cluster)"
   ]
  },
  {
   "cell_type": "code",
   "execution_count": 85,
   "metadata": {
    "collapsed": true
   },
   "outputs": [],
   "source": [
    "train1 = train[trainClusters==1,]\n",
    "train2 = train[trainClusters==2,]"
   ]
  },
  {
   "cell_type": "code",
   "execution_count": 88,
   "metadata": {
    "collapsed": false
   },
   "outputs": [
    {
     "data": {
      "text/html": [
       "248"
      ],
      "text/latex": [
       "248"
      ],
      "text/markdown": [
       "248"
      ],
      "text/plain": [
       "[1] 248"
      ]
     },
     "execution_count": 88,
     "metadata": {},
     "output_type": "execute_result"
    }
   ],
   "source": [
    "sum(train1$presidential.results==0)"
   ]
  },
  {
   "cell_type": "code",
   "execution_count": 89,
   "metadata": {
    "collapsed": false
   },
   "outputs": [
    {
     "data": {
      "text/html": [
       "21"
      ],
      "text/latex": [
       "21"
      ],
      "text/markdown": [
       "21"
      ],
      "text/plain": [
       "[1] 21"
      ]
     },
     "execution_count": 89,
     "metadata": {},
     "output_type": "execute_result"
    }
   ],
   "source": [
    "sum(train2$presidential.results==0)"
   ]
  },
  {
   "cell_type": "code",
   "execution_count": 90,
   "metadata": {
    "collapsed": false
   },
   "outputs": [
    {
     "data": {
      "text/html": [
       "2392"
      ],
      "text/latex": [
       "2392"
      ],
      "text/markdown": [
       "2392"
      ],
      "text/plain": [
       "[1] 2392"
      ]
     },
     "execution_count": 90,
     "metadata": {},
     "output_type": "execute_result"
    },
    {
     "data": {
      "text/html": [
       "1227"
      ],
      "text/latex": [
       "1227"
      ],
      "text/markdown": [
       "1227"
      ],
      "text/plain": [
       "[1] 1227"
      ]
     },
     "execution_count": 90,
     "metadata": {},
     "output_type": "execute_result"
    }
   ],
   "source": [
    "sum(train1$CumlFinancial)\n",
    "sum(train1$CumlRegulatory)"
   ]
  },
  {
   "cell_type": "code",
   "execution_count": 91,
   "metadata": {
    "collapsed": false
   },
   "outputs": [
    {
     "data": {
      "text/html": [
       "6313"
      ],
      "text/latex": [
       "6313"
      ],
      "text/markdown": [
       "6313"
      ],
      "text/plain": [
       "[1] 6313"
      ]
     },
     "execution_count": 91,
     "metadata": {},
     "output_type": "execute_result"
    },
    {
     "data": {
      "text/html": [
       "2224"
      ],
      "text/latex": [
       "2224"
      ],
      "text/markdown": [
       "2224"
      ],
      "text/plain": [
       "[1] 2224"
      ]
     },
     "execution_count": 91,
     "metadata": {},
     "output_type": "execute_result"
    }
   ],
   "source": [
    "sum(train2$CumlFinancial)\n",
    "sum(train2$CumlRegulatory)"
   ]
  },
  {
   "cell_type": "code",
   "execution_count": 94,
   "metadata": {
    "collapsed": false
   },
   "outputs": [
    {
     "data": {
      "text/html": [
       "911.29020085"
      ],
      "text/latex": [
       "911.29020085"
      ],
      "text/markdown": [
       "911.29020085"
      ],
      "text/plain": [
       "[1] 911.2902"
      ]
     },
     "execution_count": 94,
     "metadata": {},
     "output_type": "execute_result"
    },
    {
     "data": {
      "text/html": [
       "2.391852068"
      ],
      "text/latex": [
       "2.391852068"
      ],
      "text/markdown": [
       "2.391852068"
      ],
      "text/plain": [
       "[1] 2.391852"
      ]
     },
     "execution_count": 94,
     "metadata": {},
     "output_type": "execute_result"
    },
    {
     "data": {
      "text/html": [
       "1.228023284"
      ],
      "text/latex": [
       "1.228023284"
      ],
      "text/markdown": [
       "1.228023284"
      ],
      "text/plain": [
       "[1] 1.228023"
      ]
     },
     "execution_count": 94,
     "metadata": {},
     "output_type": "execute_result"
    }
   ],
   "source": [
    "sum(train2$AllSourcesCO2, na.rm = TRUE)\n",
    "sum(train2$AllSourcesSO2, na.rm = TRUE)\n",
    "sum(train2$AllSourcesNOx, na.rm = TRUE)"
   ]
  },
  {
   "cell_type": "code",
   "execution_count": 95,
   "metadata": {
    "collapsed": false
   },
   "outputs": [
    {
     "data": {
      "text/html": [
       "4513.159235676"
      ],
      "text/latex": [
       "4513.159235676"
      ],
      "text/markdown": [
       "4513.159235676"
      ],
      "text/plain": [
       "[1] 4513.159"
      ]
     },
     "execution_count": 95,
     "metadata": {},
     "output_type": "execute_result"
    },
    {
     "data": {
      "text/html": [
       "14.720464228"
      ],
      "text/latex": [
       "14.720464228"
      ],
      "text/markdown": [
       "14.720464228"
      ],
      "text/plain": [
       "[1] 14.72046"
      ]
     },
     "execution_count": 95,
     "metadata": {},
     "output_type": "execute_result"
    },
    {
     "data": {
      "text/html": [
       "8.458441436"
      ],
      "text/latex": [
       "8.458441436"
      ],
      "text/markdown": [
       "8.458441436"
      ],
      "text/plain": [
       "[1] 8.458441"
      ]
     },
     "execution_count": 95,
     "metadata": {},
     "output_type": "execute_result"
    }
   ],
   "source": [
    "sum(train1$AllSourcesCO2, na.rm = TRUE)\n",
    "sum(train1$AllSourcesSO2, na.rm = TRUE)\n",
    "sum(train1$AllSourcesNOx, na.rm = TRUE)"
   ]
  },
  {
   "cell_type": "markdown",
   "metadata": {},
   "source": [
    "##  Problem 8 - Creating the Model on the First Cluster\n",
    "(1 point possible)\n",
    "\n",
    "Using the variable GenHydro, GenSolar, CumlFinancial, CumlRegulatory, Total.salary and Import, create mod1 using a logistic regression on train1.\n",
    "\n",
    "What variable is most predictive?"
   ]
  },
  {
   "cell_type": "code",
   "execution_count": 96,
   "metadata": {
    "collapsed": true
   },
   "outputs": [],
   "source": [
    "mod1 = glm(GenSolarBinary~GenHydro+GenSolar+CumlFinancial+CumlRegulatory+Total.salary+Import, data =  train1, family = binomial)"
   ]
  },
  {
   "cell_type": "code",
   "execution_count": 97,
   "metadata": {
    "collapsed": false
   },
   "outputs": [
    {
     "data": {
      "text/plain": [
       "\n",
       "Call:\n",
       "glm(formula = GenSolarBinary ~ GenHydro + GenSolar + CumlFinancial + \n",
       "    CumlRegulatory + Total.salary + Import, family = binomial, \n",
       "    data = train1)\n",
       "\n",
       "Deviance Residuals: \n",
       "    Min       1Q   Median       3Q      Max  \n",
       "-1.8654  -0.2715  -0.1692  -0.1194   2.8802  \n",
       "\n",
       "Coefficients:\n",
       "                 Estimate Std. Error z value Pr(>|z|)    \n",
       "(Intercept)    -7.574e+00  1.945e+00  -3.893 9.89e-05 ***\n",
       "GenHydro       -1.201e+00  2.082e+00  -0.577  0.56398    \n",
       "GenSolar        2.324e+04  1.104e+04   2.106  0.03524 *  \n",
       "CumlFinancial   6.836e-02  2.159e-02   3.166  0.00154 ** \n",
       "CumlRegulatory  1.589e-01  1.145e-01   1.388  0.16521    \n",
       "Total.salary    1.549e-01  9.190e-02   1.686  0.09188 .  \n",
       "Import         -3.323e-01  9.628e-01  -0.345  0.72995    \n",
       "---\n",
       "Signif. codes:  0 ‘***’ 0.001 ‘**’ 0.01 ‘*’ 0.05 ‘.’ 0.1 ‘ ’ 1\n",
       "\n",
       "(Dispersion parameter for binomial family taken to be 1)\n",
       "\n",
       "    Null deviance: 131.538  on 307  degrees of freedom\n",
       "Residual deviance:  90.376  on 301  degrees of freedom\n",
       "AIC: 104.38\n",
       "\n",
       "Number of Fisher Scoring iterations: 7\n"
      ]
     },
     "execution_count": 97,
     "metadata": {},
     "output_type": "execute_result"
    }
   ],
   "source": [
    "summary(mod1)"
   ]
  },
  {
   "cell_type": "markdown",
   "metadata": {},
   "source": [
    " ## Problem 9 - Evaluating the Model Obtained Using the First Cluster\n",
    "(2/2 points)\n",
    "\n",
    "What is the accuracy on test1, the subset of test corresponding to the first cluster?\n",
    "correct\n",
    "\n",
    "Loading\n",
    "\n",
    "We would like to know if mod1 gives us an edge over mod on the dataset test1. Using mod, predict GenSolarBinary for the observation in test1 and report the accuracy below:\n",
    "correct\n",
    "\n"
   ]
  },
  {
   "cell_type": "code",
   "execution_count": 99,
   "metadata": {
    "collapsed": true
   },
   "outputs": [],
   "source": [
    "testClusters = predict(KMC.kcca, newdata = normTest)\n"
   ]
  },
  {
   "cell_type": "code",
   "execution_count": 100,
   "metadata": {
    "collapsed": true
   },
   "outputs": [],
   "source": [
    "test1 = test[testClusters==1,]\n",
    "test2 = test[testClusters==2,]"
   ]
  },
  {
   "cell_type": "markdown",
   "metadata": {},
   "source": [
    "##  Problem 10 - Creating the Model on the Second Cluster\n",
    "(1/1 point)\n",
    "\n",
    "Using the variables GenHydro, GenSolar, CumlFinancial, CumlRegulatory, Total.salary and Import, create mod2 using a logistic regression on train2.\n",
    "\n",
    "Select the correct statement(s) below?\n",
    "Unlike mod1, the number of regulatory policies is more predictive than the number of financial incentives in mod2\n",
    "Unlike mod1, the number of regulatory policies is less predictive than the number of financial incentives in mod2\n",
    "Similarly to mod1, the number of regulatory policies is more predictive than the number of financial incentives in mod2\n",
    "Similarly to mod1, the number of regulatory policies is less predictive than the number of financial incentives in mod2 "
   ]
  },
  {
   "cell_type": "code",
   "execution_count": 101,
   "metadata": {
    "collapsed": true
   },
   "outputs": [],
   "source": [
    "predTest1 = predict(mod1, newdata = test1, type = \"response\")"
   ]
  },
  {
   "cell_type": "code",
   "execution_count": 102,
   "metadata": {
    "collapsed": false
   },
   "outputs": [
    {
     "data": {
      "text/plain": [
       "   \n",
       "    FALSE TRUE\n",
       "  0   115    1\n",
       "  1    11    4"
      ]
     },
     "execution_count": 102,
     "metadata": {},
     "output_type": "execute_result"
    },
    {
     "data": {
      "text/html": [
       "0.908396946564885"
      ],
      "text/latex": [
       "0.908396946564885"
      ],
      "text/markdown": [
       "0.908396946564885"
      ],
      "text/plain": [
       "[1] 0.9083969"
      ]
     },
     "execution_count": 102,
     "metadata": {},
     "output_type": "execute_result"
    }
   ],
   "source": [
    "t = table(test1$GenSolarBinary,predTest1>0.5)\n",
    "t\n",
    "sum(diag(t))/sum(t)"
   ]
  },
  {
   "cell_type": "code",
   "execution_count": 103,
   "metadata": {
    "collapsed": true
   },
   "outputs": [],
   "source": [
    "predTestOrig = predict(LRM1, newdata = test1, type = \"response\")"
   ]
  },
  {
   "cell_type": "code",
   "execution_count": 104,
   "metadata": {
    "collapsed": false
   },
   "outputs": [
    {
     "data": {
      "text/plain": [
       "   \n",
       "    FALSE\n",
       "  0   116\n",
       "  1    15"
      ]
     },
     "execution_count": 104,
     "metadata": {},
     "output_type": "execute_result"
    },
    {
     "data": {
      "text/html": [
       "0.885496183206107"
      ],
      "text/latex": [
       "0.885496183206107"
      ],
      "text/markdown": [
       "0.885496183206107"
      ],
      "text/plain": [
       "[1] 0.8854962"
      ]
     },
     "execution_count": 104,
     "metadata": {},
     "output_type": "execute_result"
    }
   ],
   "source": [
    "t = table(test1$GenSolarBinary,predTestOrig>0.5)\n",
    "t\n",
    "sum(diag(t))/sum(t)"
   ]
  },
  {
   "cell_type": "markdown",
   "metadata": {},
   "source": [
    "##  Problem 11 - Evaluating the Model Obtained Using the Second Cluster\n",
    "(2/2 points)\n",
    "\n",
    "Using the threshold of 0.5, what is the accuracy on test2, the subset of test corresponding to the second cluster?\n",
    "correct\n",
    "\n",
    "Loading\n",
    "\n",
    "We would like to know if mod2 gives us an edge over mod on the dataset test2. Using mod, predict GenSolarBinary for the observation in test2 and report the accuracy below:"
   ]
  },
  {
   "cell_type": "code",
   "execution_count": 105,
   "metadata": {
    "collapsed": true
   },
   "outputs": [],
   "source": [
    "mod2 = glm(GenSolarBinary~GenHydro+GenSolar+CumlFinancial+CumlRegulatory+Total.salary+Import, data =  train2, family = binomial)"
   ]
  },
  {
   "cell_type": "code",
   "execution_count": 106,
   "metadata": {
    "collapsed": false
   },
   "outputs": [
    {
     "data": {
      "text/plain": [
       "\n",
       "Call:\n",
       "glm(formula = GenSolarBinary ~ GenHydro + GenSolar + CumlFinancial + \n",
       "    CumlRegulatory + Total.salary + Import, family = binomial, \n",
       "    data = train2)\n",
       "\n",
       "Deviance Residuals: \n",
       "    Min       1Q   Median       3Q      Max  \n",
       "-3.6321  -0.7964   0.0083   0.8536   1.7143  \n",
       "\n",
       "Coefficients:\n",
       "                Estimate Std. Error z value Pr(>|z|)   \n",
       "(Intercept)     -4.14627    1.43969  -2.880  0.00398 **\n",
       "GenHydro        -3.88698    1.23196  -3.155  0.00160 **\n",
       "GenSolar       951.59397  322.86360   2.947  0.00321 **\n",
       "CumlFinancial    0.02077    0.01008   2.060  0.03939 * \n",
       "CumlRegulatory   0.17315    0.06541   2.647  0.00812 **\n",
       "Total.salary     0.08472    0.05576   1.519  0.12869   \n",
       "Import          -0.72189    0.40427  -1.786  0.07416 . \n",
       "---\n",
       "Signif. codes:  0 ‘***’ 0.001 ‘**’ 0.01 ‘*’ 0.05 ‘.’ 0.1 ‘ ’ 1\n",
       "\n",
       "(Dispersion parameter for binomial family taken to be 1)\n",
       "\n",
       "    Null deviance: 250.25  on 180  degrees of freedom\n",
       "Residual deviance: 173.65  on 174  degrees of freedom\n",
       "AIC: 187.65\n",
       "\n",
       "Number of Fisher Scoring iterations: 7\n"
      ]
     },
     "execution_count": 106,
     "metadata": {},
     "output_type": "execute_result"
    }
   ],
   "source": [
    "summary(mod2)"
   ]
  },
  {
   "cell_type": "code",
   "execution_count": 108,
   "metadata": {
    "collapsed": true
   },
   "outputs": [],
   "source": [
    "predTest2 = predict(mod2, newdata = test2, type = \"response\")"
   ]
  },
  {
   "cell_type": "code",
   "execution_count": 109,
   "metadata": {
    "collapsed": false
   },
   "outputs": [
    {
     "data": {
      "text/plain": [
       "   \n",
       "    FALSE TRUE\n",
       "  0    39    6\n",
       "  1    14   20"
      ]
     },
     "execution_count": 109,
     "metadata": {},
     "output_type": "execute_result"
    },
    {
     "data": {
      "text/html": [
       "0.746835443037975"
      ],
      "text/latex": [
       "0.746835443037975"
      ],
      "text/markdown": [
       "0.746835443037975"
      ],
      "text/plain": [
       "[1] 0.7468354"
      ]
     },
     "execution_count": 109,
     "metadata": {},
     "output_type": "execute_result"
    }
   ],
   "source": [
    "t = table(test2$GenSolarBinary,predTest2>0.5)\n",
    "t\n",
    "sum(diag(t))/sum(t)"
   ]
  },
  {
   "cell_type": "code",
   "execution_count": 110,
   "metadata": {
    "collapsed": true
   },
   "outputs": [],
   "source": [
    "predTestOrig2 = predict(LRM1, newdata = test2, type = \"response\")"
   ]
  },
  {
   "cell_type": "code",
   "execution_count": 111,
   "metadata": {
    "collapsed": false
   },
   "outputs": [
    {
     "data": {
      "text/plain": [
       "   \n",
       "    FALSE TRUE\n",
       "  0    38    7\n",
       "  1    16   18"
      ]
     },
     "execution_count": 111,
     "metadata": {},
     "output_type": "execute_result"
    },
    {
     "data": {
      "text/html": [
       "0.708860759493671"
      ],
      "text/latex": [
       "0.708860759493671"
      ],
      "text/markdown": [
       "0.708860759493671"
      ],
      "text/plain": [
       "[1] 0.7088608"
      ]
     },
     "execution_count": 111,
     "metadata": {},
     "output_type": "execute_result"
    }
   ],
   "source": [
    "t = table(test2$GenSolarBinary,predTestOrig2>0.5)\n",
    "t\n",
    "sum(diag(t))/sum(t)"
   ]
  },
  {
   "cell_type": "markdown",
   "metadata": {},
   "source": [
    "##  Problem 12 - Evaluating the Performance of the Cluster-the-Predict Algorithm\n",
    "(1/1 point)\n",
    "\n",
    "To compute the overall test-set accuracy of the cluster-the-predict approach, we can combine all the test-set predictions into a single vector \"AllPredictions\" and all the true outcomes into a single vector \"AllOutcomes\".\n",
    "\n",
    "What is the overall accuracy on the test set, using the cluster-then-predict approach, again using a threshold of 0.5?"
   ]
  },
  {
   "cell_type": "code",
   "execution_count": 118,
   "metadata": {
    "collapsed": false
   },
   "outputs": [
    {
     "data": {
      "text/html": [
       "131"
      ],
      "text/latex": [
       "131"
      ],
      "text/markdown": [
       "131"
      ],
      "text/plain": [
       "[1] 131"
      ]
     },
     "execution_count": 118,
     "metadata": {},
     "output_type": "execute_result"
    }
   ],
   "source": [
    "n1=nrow(test1)\n",
    "n1"
   ]
  },
  {
   "cell_type": "code",
   "execution_count": 120,
   "metadata": {
    "collapsed": false
   },
   "outputs": [
    {
     "data": {
      "text/html": [
       "79"
      ],
      "text/latex": [
       "79"
      ],
      "text/markdown": [
       "79"
      ],
      "text/plain": [
       "[1] 79"
      ]
     },
     "execution_count": 120,
     "metadata": {},
     "output_type": "execute_result"
    }
   ],
   "source": [
    "n2=nrow(test2)\n",
    "n2"
   ]
  },
  {
   "cell_type": "code",
   "execution_count": 121,
   "metadata": {
    "collapsed": false
   },
   "outputs": [
    {
     "data": {
      "text/html": [
       "0.847619047619047"
      ],
      "text/latex": [
       "0.847619047619047"
      ],
      "text/markdown": [
       "0.847619047619047"
      ],
      "text/plain": [
       "[1] 0.847619"
      ]
     },
     "execution_count": 121,
     "metadata": {},
     "output_type": "execute_result"
    }
   ],
   "source": [
    "(n1*0.908396946564885+n2*0.746835443037975)/(n1+n2)"
   ]
  },
  {
   "cell_type": "code",
   "execution_count": null,
   "metadata": {
    "collapsed": true
   },
   "outputs": [],
   "source": []
  }
 ],
 "metadata": {
  "kernelspec": {
   "display_name": "R",
   "language": "R",
   "name": "ir"
  },
  "language_info": {
   "codemirror_mode": "r",
   "file_extension": ".r",
   "mimetype": "text/x-r-source",
   "name": "R",
   "pygments_lexer": "r",
   "version": "3.2.2"
  }
 },
 "nbformat": 4,
 "nbformat_minor": 0
}
