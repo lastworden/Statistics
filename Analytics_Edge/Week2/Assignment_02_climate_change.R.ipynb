{
 "cells": [
  {
   "cell_type": "code",
   "execution_count": 52,
   "metadata": {
    "collapsed": true
   },
   "outputs": [],
   "source": [
    "climate_change = read.csv(\"climate_change.csv\")"
   ]
  },
  {
   "cell_type": "code",
   "execution_count": 56,
   "metadata": {
    "collapsed": false
   },
   "outputs": [
    {
     "name": "stdout",
     "output_type": "stream",
     "text": [
      "'data.frame':\t308 obs. of  11 variables:\n",
      " $ Year    : int  1983 1983 1983 1983 1983 1983 1983 1983 1984 1984 ...\n",
      " $ Month   : int  5 6 7 8 9 10 11 12 1 2 ...\n",
      " $ MEI     : num  2.556 2.167 1.741 1.13 0.428 ...\n",
      " $ CO2     : num  346 346 344 342 340 ...\n",
      " $ CH4     : num  1639 1634 1633 1631 1648 ...\n",
      " $ N2O     : num  304 304 304 304 304 ...\n",
      " $ CFC.11  : num  191 192 193 194 194 ...\n",
      " $ CFC.12  : num  350 352 354 356 357 ...\n",
      " $ TSI     : num  1366 1366 1366 1366 1366 ...\n",
      " $ Aerosols: num  0.0863 0.0794 0.0731 0.0673 0.0619 0.0569 0.0524 0.0486 0.0451 0.0416 ...\n",
      " $ Temp    : num  0.109 0.118 0.137 0.176 0.149 0.093 0.232 0.078 0.089 0.013 ...\n"
     ]
    }
   ],
   "source": [
    "str(climate_change)"
   ]
  },
  {
   "cell_type": "code",
   "execution_count": 57,
   "metadata": {
    "collapsed": false
   },
   "outputs": [
    {
     "name": "stdout",
     "output_type": "stream",
     "text": [
      "'data.frame':\t284 obs. of  11 variables:\n",
      " $ Year    : int  1983 1983 1983 1983 1983 1983 1983 1983 1984 1984 ...\n",
      " $ Month   : int  5 6 7 8 9 10 11 12 1 2 ...\n",
      " $ MEI     : num  2.556 2.167 1.741 1.13 0.428 ...\n",
      " $ CO2     : num  346 346 344 342 340 ...\n",
      " $ CH4     : num  1639 1634 1633 1631 1648 ...\n",
      " $ N2O     : num  304 304 304 304 304 ...\n",
      " $ CFC.11  : num  191 192 193 194 194 ...\n",
      " $ CFC.12  : num  350 352 354 356 357 ...\n",
      " $ TSI     : num  1366 1366 1366 1366 1366 ...\n",
      " $ Aerosols: num  0.0863 0.0794 0.0731 0.0673 0.0619 0.0569 0.0524 0.0486 0.0451 0.0416 ...\n",
      " $ Temp    : num  0.109 0.118 0.137 0.176 0.149 0.093 0.232 0.078 0.089 0.013 ...\n",
      "'data.frame':\t24 obs. of  11 variables:\n",
      " $ Year    : int  2007 2007 2007 2007 2007 2007 2007 2007 2007 2007 ...\n",
      " $ Month   : int  1 2 3 4 5 6 7 8 9 10 ...\n",
      " $ MEI     : num  0.974 0.51 0.074 -0.049 0.183 ...\n",
      " $ CO2     : num  383 384 385 386 387 ...\n",
      " $ CH4     : num  1800 1803 1803 1802 1796 ...\n",
      " $ N2O     : num  321 321 321 321 320 ...\n",
      " $ CFC.11  : num  248 248 248 248 247 ...\n",
      " $ CFC.12  : num  539 539 539 539 538 ...\n",
      " $ TSI     : num  1366 1366 1366 1366 1366 ...\n",
      " $ Aerosols: num  0.0054 0.0051 0.0045 0.0045 0.0041 0.004 0.004 0.0041 0.0042 0.0041 ...\n",
      " $ Temp    : num  0.601 0.498 0.435 0.466 0.372 0.382 0.394 0.358 0.402 0.362 ...\n"
     ]
    }
   ],
   "source": [
    "climate_train = subset(climate_change,Year <= 2006)\n",
    "climate_test = subset(climate_change,Year > 2006)\n",
    "str(climate_train)\n",
    "str(climate_test)"
   ]
  },
  {
   "cell_type": "markdown",
   "metadata": {},
   "source": [
    "Next, build a linear regression model to predict the dependent variable Temp, using MEI, CO2, CH4, N2O, CFC.11, CFC.12, TSI, and Aerosols as independent variables (Year and Month should NOT be used in the model). Use the training set to build the model.\n",
    "\n"
   ]
  },
  {
   "cell_type": "code",
   "execution_count": 58,
   "metadata": {
    "collapsed": true
   },
   "outputs": [],
   "source": [
    "cl_model1 = lm(Temp~MEI+CO2+CH4+N2O+CFC.11+CFC.12+TSI+Aerosols, data=climate_train)"
   ]
  },
  {
   "cell_type": "code",
   "execution_count": 59,
   "metadata": {
    "collapsed": false
   },
   "outputs": [
    {
     "data": {
      "text/plain": [
       "\n",
       "Call:\n",
       "lm(formula = Temp ~ MEI + CO2 + CH4 + N2O + CFC.11 + CFC.12 + \n",
       "    TSI + Aerosols, data = climate_train)\n",
       "\n",
       "Residuals:\n",
       "     Min       1Q   Median       3Q      Max \n",
       "-0.25888 -0.05913 -0.00082  0.05649  0.32433 \n",
       "\n",
       "Coefficients:\n",
       "              Estimate Std. Error t value Pr(>|t|)    \n",
       "(Intercept) -1.246e+02  1.989e+01  -6.265 1.43e-09 ***\n",
       "MEI          6.421e-02  6.470e-03   9.923  < 2e-16 ***\n",
       "CO2          6.457e-03  2.285e-03   2.826  0.00505 ** \n",
       "CH4          1.240e-04  5.158e-04   0.240  0.81015    \n",
       "N2O         -1.653e-02  8.565e-03  -1.930  0.05467 .  \n",
       "CFC.11      -6.631e-03  1.626e-03  -4.078 5.96e-05 ***\n",
       "CFC.12       3.808e-03  1.014e-03   3.757  0.00021 ***\n",
       "TSI          9.314e-02  1.475e-02   6.313 1.10e-09 ***\n",
       "Aerosols    -1.538e+00  2.133e-01  -7.210 5.41e-12 ***\n",
       "---\n",
       "Signif. codes:  0 ‘***’ 0.001 ‘**’ 0.01 ‘*’ 0.05 ‘.’ 0.1 ‘ ’ 1\n",
       "\n",
       "Residual standard error: 0.09171 on 275 degrees of freedom\n",
       "Multiple R-squared:  0.7509,\tAdjusted R-squared:  0.7436 \n",
       "F-statistic: 103.6 on 8 and 275 DF,  p-value: < 2.2e-16\n"
      ]
     },
     "execution_count": 59,
     "metadata": {},
     "output_type": "execute_result"
    }
   ],
   "source": [
    "summary(cl_model1)"
   ]
  },
  {
   "cell_type": "code",
   "execution_count": 60,
   "metadata": {
    "collapsed": false
   },
   "outputs": [
    {
     "data": {
      "text/html": [
       "<table>\n",
       "<thead><tr><th></th><th scope=col>Year</th><th scope=col>Month</th><th scope=col>MEI</th><th scope=col>CO2</th><th scope=col>CH4</th><th scope=col>N2O</th><th scope=col>CFC.11</th><th scope=col>CFC.12</th><th scope=col>TSI</th><th scope=col>Aerosols</th><th scope=col>Temp</th></tr></thead>\n",
       "<tbody>\n",
       "\t<tr><th scope=row>Year</th><td> TRUE</td><td>FALSE</td><td>FALSE</td><td> TRUE</td><td> TRUE</td><td> TRUE</td><td>FALSE</td><td> TRUE</td><td>FALSE</td><td>FALSE</td><td> TRUE</td></tr>\n",
       "\t<tr><th scope=row>Month</th><td>FALSE</td><td> TRUE</td><td>FALSE</td><td>FALSE</td><td>FALSE</td><td>FALSE</td><td>FALSE</td><td>FALSE</td><td>FALSE</td><td>FALSE</td><td>FALSE</td></tr>\n",
       "\t<tr><th scope=row>MEI</th><td>FALSE</td><td>FALSE</td><td> TRUE</td><td>FALSE</td><td>FALSE</td><td>FALSE</td><td>FALSE</td><td>FALSE</td><td>FALSE</td><td>FALSE</td><td>FALSE</td></tr>\n",
       "\t<tr><th scope=row>CO2</th><td> TRUE</td><td>FALSE</td><td>FALSE</td><td> TRUE</td><td> TRUE</td><td> TRUE</td><td>FALSE</td><td> TRUE</td><td>FALSE</td><td>FALSE</td><td> TRUE</td></tr>\n",
       "\t<tr><th scope=row>CH4</th><td> TRUE</td><td>FALSE</td><td>FALSE</td><td> TRUE</td><td> TRUE</td><td> TRUE</td><td> TRUE</td><td> TRUE</td><td>FALSE</td><td>FALSE</td><td>FALSE</td></tr>\n",
       "\t<tr><th scope=row>N2O</th><td> TRUE</td><td>FALSE</td><td>FALSE</td><td> TRUE</td><td> TRUE</td><td> TRUE</td><td>FALSE</td><td> TRUE</td><td>FALSE</td><td>FALSE</td><td> TRUE</td></tr>\n",
       "\t<tr><th scope=row>CFC.11</th><td>FALSE</td><td>FALSE</td><td>FALSE</td><td>FALSE</td><td> TRUE</td><td>FALSE</td><td> TRUE</td><td> TRUE</td><td>FALSE</td><td>FALSE</td><td>FALSE</td></tr>\n",
       "\t<tr><th scope=row>CFC.12</th><td> TRUE</td><td>FALSE</td><td>FALSE</td><td> TRUE</td><td> TRUE</td><td> TRUE</td><td> TRUE</td><td> TRUE</td><td>FALSE</td><td>FALSE</td><td>FALSE</td></tr>\n",
       "\t<tr><th scope=row>TSI</th><td>FALSE</td><td>FALSE</td><td>FALSE</td><td>FALSE</td><td>FALSE</td><td>FALSE</td><td>FALSE</td><td>FALSE</td><td> TRUE</td><td>FALSE</td><td>FALSE</td></tr>\n",
       "\t<tr><th scope=row>Aerosols</th><td>FALSE</td><td>FALSE</td><td>FALSE</td><td>FALSE</td><td>FALSE</td><td>FALSE</td><td>FALSE</td><td>FALSE</td><td>FALSE</td><td> TRUE</td><td>FALSE</td></tr>\n",
       "\t<tr><th scope=row>Temp</th><td> TRUE</td><td>FALSE</td><td>FALSE</td><td> TRUE</td><td>FALSE</td><td> TRUE</td><td>FALSE</td><td>FALSE</td><td>FALSE</td><td>FALSE</td><td> TRUE</td></tr>\n",
       "</tbody>\n",
       "</table>\n"
      ],
      "text/latex": [
       "\\begin{tabular}{r|lllllllllll}\n",
       "  & Year & Month & MEI & CO2 & CH4 & N2O & CFC.11 & CFC.12 & TSI & Aerosols & Temp\\\\\n",
       "\\hline\n",
       "\tYear &  TRUE & FALSE & FALSE &  TRUE &  TRUE &  TRUE & FALSE &  TRUE & FALSE & FALSE &  TRUE\\\\\n",
       "\tMonth & FALSE &  TRUE & FALSE & FALSE & FALSE & FALSE & FALSE & FALSE & FALSE & FALSE & FALSE\\\\\n",
       "\tMEI & FALSE & FALSE &  TRUE & FALSE & FALSE & FALSE & FALSE & FALSE & FALSE & FALSE & FALSE\\\\\n",
       "\tCO2 &  TRUE & FALSE & FALSE &  TRUE &  TRUE &  TRUE & FALSE &  TRUE & FALSE & FALSE &  TRUE\\\\\n",
       "\tCH4 &  TRUE & FALSE & FALSE &  TRUE &  TRUE &  TRUE &  TRUE &  TRUE & FALSE & FALSE & FALSE\\\\\n",
       "\tN2O &  TRUE & FALSE & FALSE &  TRUE &  TRUE &  TRUE & FALSE &  TRUE & FALSE & FALSE &  TRUE\\\\\n",
       "\tCFC.11 & FALSE & FALSE & FALSE & FALSE &  TRUE & FALSE &  TRUE &  TRUE & FALSE & FALSE & FALSE\\\\\n",
       "\tCFC.12 &  TRUE & FALSE & FALSE &  TRUE &  TRUE &  TRUE &  TRUE &  TRUE & FALSE & FALSE & FALSE\\\\\n",
       "\tTSI & FALSE & FALSE & FALSE & FALSE & FALSE & FALSE & FALSE & FALSE &  TRUE & FALSE & FALSE\\\\\n",
       "\tAerosols & FALSE & FALSE & FALSE & FALSE & FALSE & FALSE & FALSE & FALSE & FALSE &  TRUE & FALSE\\\\\n",
       "\tTemp &  TRUE & FALSE & FALSE &  TRUE & FALSE &  TRUE & FALSE & FALSE & FALSE & FALSE &  TRUE\\\\\n",
       "\\end{tabular}\n"
      ],
      "text/markdown": [
       "1. TRUE\n",
       "2. FALSE\n",
       "3. FALSE\n",
       "4. TRUE\n",
       "5. TRUE\n",
       "6. TRUE\n",
       "7. FALSE\n",
       "8. TRUE\n",
       "9. FALSE\n",
       "10. FALSE\n",
       "11. TRUE\n",
       "12. FALSE\n",
       "13. TRUE\n",
       "14. FALSE\n",
       "15. FALSE\n",
       "16. FALSE\n",
       "17. FALSE\n",
       "18. FALSE\n",
       "19. FALSE\n",
       "20. FALSE\n",
       "21. FALSE\n",
       "22. FALSE\n",
       "23. FALSE\n",
       "24. FALSE\n",
       "25. TRUE\n",
       "26. FALSE\n",
       "27. FALSE\n",
       "28. FALSE\n",
       "29. FALSE\n",
       "30. FALSE\n",
       "31. FALSE\n",
       "32. FALSE\n",
       "33. FALSE\n",
       "34. TRUE\n",
       "35. FALSE\n",
       "36. FALSE\n",
       "37. TRUE\n",
       "38. TRUE\n",
       "39. TRUE\n",
       "40. FALSE\n",
       "41. TRUE\n",
       "42. FALSE\n",
       "43. FALSE\n",
       "44. TRUE\n",
       "45. TRUE\n",
       "46. FALSE\n",
       "47. FALSE\n",
       "48. TRUE\n",
       "49. TRUE\n",
       "50. TRUE\n",
       "51. TRUE\n",
       "52. TRUE\n",
       "53. FALSE\n",
       "54. FALSE\n",
       "55. FALSE\n",
       "56. TRUE\n",
       "57. FALSE\n",
       "58. FALSE\n",
       "59. TRUE\n",
       "60. TRUE\n",
       "61. TRUE\n",
       "62. FALSE\n",
       "63. TRUE\n",
       "64. FALSE\n",
       "65. FALSE\n",
       "66. TRUE\n",
       "67. FALSE\n",
       "68. FALSE\n",
       "69. FALSE\n",
       "70. FALSE\n",
       "71. TRUE\n",
       "72. FALSE\n",
       "73. TRUE\n",
       "74. TRUE\n",
       "75. FALSE\n",
       "76. FALSE\n",
       "77. FALSE\n",
       "78. TRUE\n",
       "79. FALSE\n",
       "80. FALSE\n",
       "81. TRUE\n",
       "82. TRUE\n",
       "83. TRUE\n",
       "84. TRUE\n",
       "85. TRUE\n",
       "86. FALSE\n",
       "87. FALSE\n",
       "88. FALSE\n",
       "89. FALSE\n",
       "90. FALSE\n",
       "91. FALSE\n",
       "92. FALSE\n",
       "93. FALSE\n",
       "94. FALSE\n",
       "95. FALSE\n",
       "96. FALSE\n",
       "97. TRUE\n",
       "98. FALSE\n",
       "99. FALSE\n",
       "100. FALSE\n",
       "101. FALSE\n",
       "102. FALSE\n",
       "103. FALSE\n",
       "104. FALSE\n",
       "105. FALSE\n",
       "106. FALSE\n",
       "107. FALSE\n",
       "108. FALSE\n",
       "109. TRUE\n",
       "110. FALSE\n",
       "111. TRUE\n",
       "112. FALSE\n",
       "113. FALSE\n",
       "114. TRUE\n",
       "115. FALSE\n",
       "116. TRUE\n",
       "117. FALSE\n",
       "118. FALSE\n",
       "119. FALSE\n",
       "120. FALSE\n",
       "121. TRUE\n",
       "\n",
       "\n"
      ],
      "text/plain": [
       "          Year Month   MEI   CO2   CH4   N2O CFC.11 CFC.12   TSI Aerosols  Temp\n",
       "Year      TRUE FALSE FALSE  TRUE  TRUE  TRUE  FALSE   TRUE FALSE    FALSE  TRUE\n",
       "Month    FALSE  TRUE FALSE FALSE FALSE FALSE  FALSE  FALSE FALSE    FALSE FALSE\n",
       "MEI      FALSE FALSE  TRUE FALSE FALSE FALSE  FALSE  FALSE FALSE    FALSE FALSE\n",
       "CO2       TRUE FALSE FALSE  TRUE  TRUE  TRUE  FALSE   TRUE FALSE    FALSE  TRUE\n",
       "CH4       TRUE FALSE FALSE  TRUE  TRUE  TRUE   TRUE   TRUE FALSE    FALSE FALSE\n",
       "N2O       TRUE FALSE FALSE  TRUE  TRUE  TRUE  FALSE   TRUE FALSE    FALSE  TRUE\n",
       "CFC.11   FALSE FALSE FALSE FALSE  TRUE FALSE   TRUE   TRUE FALSE    FALSE FALSE\n",
       "CFC.12    TRUE FALSE FALSE  TRUE  TRUE  TRUE   TRUE   TRUE FALSE    FALSE FALSE\n",
       "TSI      FALSE FALSE FALSE FALSE FALSE FALSE  FALSE  FALSE  TRUE    FALSE FALSE\n",
       "Aerosols FALSE FALSE FALSE FALSE FALSE FALSE  FALSE  FALSE FALSE     TRUE FALSE\n",
       "Temp      TRUE FALSE FALSE  TRUE FALSE  TRUE  FALSE  FALSE FALSE    FALSE  TRUE"
      ]
     },
     "execution_count": 60,
     "metadata": {},
     "output_type": "execute_result"
    }
   ],
   "source": [
    "cor(climate_change)>0.7 | cor(climate_change) < -0.7"
   ]
  },
  {
   "cell_type": "code",
   "execution_count": 61,
   "metadata": {
    "collapsed": false
   },
   "outputs": [
    {
     "data": {
      "text/html": [
       "<table>\n",
       "<thead><tr><th></th><th scope=col>Year</th><th scope=col>Month</th><th scope=col>MEI</th><th scope=col>CO2</th><th scope=col>CH4</th><th scope=col>N2O</th><th scope=col>CFC.11</th><th scope=col>CFC.12</th><th scope=col>TSI</th><th scope=col>Aerosols</th><th scope=col>Temp</th></tr></thead>\n",
       "<tbody>\n",
       "\t<tr><th scope=row>Year</th><td> 1.00000000</td><td>-0.02578910</td><td>-0.14534485</td><td> 0.98537870</td><td> 0.91056328</td><td> 0.99484971</td><td> 0.46096457</td><td> 0.87006746</td><td> 0.02235316</td><td>-0.36188438</td><td> 0.75573115</td></tr>\n",
       "\t<tr><th scope=row>Month</th><td>-0.025789103</td><td> 1.000000000</td><td>-0.016345434</td><td>-0.096286676</td><td> 0.017558035</td><td> 0.012395210</td><td>-0.014913724</td><td>-0.001084139</td><td>-0.032754296</td><td> 0.014845187</td><td>-0.098015821</td></tr>\n",
       "\t<tr><th scope=row>MEI</th><td>-0.14534485</td><td>-0.01634543</td><td> 1.00000000</td><td>-0.15291104</td><td>-0.10555472</td><td>-0.16237531</td><td> 0.08817074</td><td>-0.03983567</td><td>-0.07682560</td><td> 0.35235073</td><td> 0.13529168</td></tr>\n",
       "\t<tr><th scope=row>CO2</th><td> 0.98537870</td><td>-0.09628668</td><td>-0.15291104</td><td> 1.00000000</td><td> 0.87225311</td><td> 0.98113544</td><td> 0.40128447</td><td> 0.82321031</td><td> 0.01786672</td><td>-0.36926514</td><td> 0.74850465</td></tr>\n",
       "\t<tr><th scope=row>CH4</th><td> 0.91056328</td><td> 0.01755804</td><td>-0.10555472</td><td> 0.87225311</td><td> 1.00000000</td><td> 0.89440921</td><td> 0.71350408</td><td> 0.95823718</td><td> 0.14633495</td><td>-0.29038142</td><td> 0.69969658</td></tr>\n",
       "\t<tr><th scope=row>N2O</th><td> 0.99484971</td><td> 0.01239521</td><td>-0.16237531</td><td> 0.98113544</td><td> 0.89440921</td><td> 1.00000000</td><td> 0.41215475</td><td> 0.83929545</td><td> 0.03989183</td><td>-0.35349882</td><td> 0.74324183</td></tr>\n",
       "\t<tr><th scope=row>CFC.11</th><td> 0.46096457</td><td>-0.01491372</td><td> 0.08817074</td><td> 0.40128447</td><td> 0.71350408</td><td> 0.41215475</td><td> 1.00000000</td><td> 0.83138131</td><td> 0.28462884</td><td>-0.03230227</td><td> 0.38011134</td></tr>\n",
       "\t<tr><th scope=row>CFC.12</th><td> 0.870067456</td><td>-0.001084139</td><td>-0.039835666</td><td> 0.823210310</td><td> 0.958237181</td><td> 0.839295454</td><td> 0.831381310</td><td> 1.000000000</td><td> 0.189270090</td><td>-0.243785082</td><td> 0.688944109</td></tr>\n",
       "\t<tr><th scope=row>TSI</th><td> 0.02235316</td><td>-0.03275430</td><td>-0.07682560</td><td> 0.01786672</td><td> 0.14633495</td><td> 0.03989183</td><td> 0.28462884</td><td> 0.18927009</td><td> 1.00000000</td><td> 0.08323812</td><td> 0.18218561</td></tr>\n",
       "\t<tr><th scope=row>Aerosols</th><td>-0.36188438</td><td> 0.01484519</td><td> 0.35235073</td><td>-0.36926514</td><td>-0.29038142</td><td>-0.35349882</td><td>-0.03230227</td><td>-0.24378508</td><td> 0.08323812</td><td> 1.00000000</td><td>-0.39206945</td></tr>\n",
       "\t<tr><th scope=row>Temp</th><td> 0.75573115</td><td>-0.09801582</td><td> 0.13529168</td><td> 0.74850465</td><td> 0.69969658</td><td> 0.74324183</td><td> 0.38011134</td><td> 0.68894411</td><td> 0.18218561</td><td>-0.39206945</td><td> 1.00000000</td></tr>\n",
       "</tbody>\n",
       "</table>\n"
      ],
      "text/latex": [
       "\\begin{tabular}{r|lllllllllll}\n",
       "  & Year & Month & MEI & CO2 & CH4 & N2O & CFC.11 & CFC.12 & TSI & Aerosols & Temp\\\\\n",
       "\\hline\n",
       "\tYear &  1.00000000 & -0.02578910 & -0.14534485 &  0.98537870 &  0.91056328 &  0.99484971 &  0.46096457 &  0.87006746 &  0.02235316 & -0.36188438 &  0.75573115\\\\\n",
       "\tMonth & -0.025789103 &  1.000000000 & -0.016345434 & -0.096286676 &  0.017558035 &  0.012395210 & -0.014913724 & -0.001084139 & -0.032754296 &  0.014845187 & -0.098015821\\\\\n",
       "\tMEI & -0.14534485 & -0.01634543 &  1.00000000 & -0.15291104 & -0.10555472 & -0.16237531 &  0.08817074 & -0.03983567 & -0.07682560 &  0.35235073 &  0.13529168\\\\\n",
       "\tCO2 &  0.98537870 & -0.09628668 & -0.15291104 &  1.00000000 &  0.87225311 &  0.98113544 &  0.40128447 &  0.82321031 &  0.01786672 & -0.36926514 &  0.74850465\\\\\n",
       "\tCH4 &  0.91056328 &  0.01755804 & -0.10555472 &  0.87225311 &  1.00000000 &  0.89440921 &  0.71350408 &  0.95823718 &  0.14633495 & -0.29038142 &  0.69969658\\\\\n",
       "\tN2O &  0.99484971 &  0.01239521 & -0.16237531 &  0.98113544 &  0.89440921 &  1.00000000 &  0.41215475 &  0.83929545 &  0.03989183 & -0.35349882 &  0.74324183\\\\\n",
       "\tCFC.11 &  0.46096457 & -0.01491372 &  0.08817074 &  0.40128447 &  0.71350408 &  0.41215475 &  1.00000000 &  0.83138131 &  0.28462884 & -0.03230227 &  0.38011134\\\\\n",
       "\tCFC.12 &  0.870067456 & -0.001084139 & -0.039835666 &  0.823210310 &  0.958237181 &  0.839295454 &  0.831381310 &  1.000000000 &  0.189270090 & -0.243785082 &  0.688944109\\\\\n",
       "\tTSI &  0.02235316 & -0.03275430 & -0.07682560 &  0.01786672 &  0.14633495 &  0.03989183 &  0.28462884 &  0.18927009 &  1.00000000 &  0.08323812 &  0.18218561\\\\\n",
       "\tAerosols & -0.36188438 &  0.01484519 &  0.35235073 & -0.36926514 & -0.29038142 & -0.35349882 & -0.03230227 & -0.24378508 &  0.08323812 &  1.00000000 & -0.39206945\\\\\n",
       "\tTemp &  0.75573115 & -0.09801582 &  0.13529168 &  0.74850465 &  0.69969658 &  0.74324183 &  0.38011134 &  0.68894411 &  0.18218561 & -0.39206945 &  1.00000000\\\\\n",
       "\\end{tabular}\n"
      ],
      "text/markdown": [
       "1. 1\n",
       "2. -0.0257891028731575\n",
       "3. -0.14534484845407\n",
       "4. 0.985378702303165\n",
       "5. 0.910563276824149\n",
       "6. 0.994849712852084\n",
       "7. 0.460964573822036\n",
       "8. 0.870067455547892\n",
       "9. 0.0223531565311079\n",
       "10. -0.361884381410163\n",
       "11. 0.755731146141559\n",
       "12. -0.0257891028731575\n",
       "13. 1\n",
       "14. -0.0163454340527713\n",
       "15. -0.0962866758554402\n",
       "16. 0.0175580350151951\n",
       "17. 0.0123952104919658\n",
       "18. -0.0149137242977081\n",
       "19. -0.00108413873952241\n",
       "20. -0.0327542955036231\n",
       "21. 0.0148451874032915\n",
       "22. -0.0980158208115976\n",
       "23. -0.14534484845407\n",
       "24. -0.0163454340527713\n",
       "25. 1\n",
       "26. -0.15291104093489\n",
       "27. -0.105554717218864\n",
       "28. -0.162375306195498\n",
       "29. 0.0881707446025491\n",
       "30. -0.0398356661633251\n",
       "31. -0.0768255985696605\n",
       "32. 0.35235072722957\n",
       "33. 0.135291684333511\n",
       "34. 0.985378702303165\n",
       "35. -0.0962866758554402\n",
       "36. -0.15291104093489\n",
       "37. 1\n",
       "38. 0.872253107599367\n",
       "39. 0.981135440675989\n",
       "40. 0.401284474025049\n",
       "41. 0.823210310080618\n",
       "42. 0.0178667166646123\n",
       "43. -0.369265137959421\n",
       "44. 0.748504645738021\n",
       "45. 0.910563276824149\n",
       "46. 0.0175580350151951\n",
       "47. -0.105554717218864\n",
       "48. 0.872253107599367\n",
       "49. 1\n",
       "50. 0.894409212131423\n",
       "51. 0.713504079752466\n",
       "52. 0.95823718088566\n",
       "53. 0.146334949132605\n",
       "54. -0.290381417347015\n",
       "55. 0.699696580363893\n",
       "56. 0.994849712852084\n",
       "57. 0.0123952104919658\n",
       "58. -0.162375306195498\n",
       "59. 0.981135440675989\n",
       "60. 0.894409212131423\n",
       "61. 1\n",
       "62. 0.41215475087863\n",
       "63. 0.839295454458107\n",
       "64. 0.0398918295083483\n",
       "65. -0.353498815399806\n",
       "66. 0.743241833736097\n",
       "67. 0.460964573822036\n",
       "68. -0.0149137242977081\n",
       "69. 0.0881707446025491\n",
       "70. 0.401284474025049\n",
       "71. 0.713504079752466\n",
       "72. 0.41215475087863\n",
       "73. 1\n",
       "74. 0.831381309936198\n",
       "75. 0.284628838359151\n",
       "76. -0.0323022696577776\n",
       "77. 0.38011134165322\n",
       "78. 0.870067455547892\n",
       "79. -0.00108413873952241\n",
       "80. -0.0398356661633251\n",
       "81. 0.823210310080618\n",
       "82. 0.95823718088566\n",
       "83. 0.839295454458107\n",
       "84. 0.831381309936198\n",
       "85. 1\n",
       "86. 0.189270090301674\n",
       "87. -0.243785081740474\n",
       "88. 0.688944108865674\n",
       "89. 0.0223531565311079\n",
       "90. -0.0327542955036231\n",
       "91. -0.0768255985696605\n",
       "92. 0.0178667166646123\n",
       "93. 0.146334949132605\n",
       "94. 0.0398918295083483\n",
       "95. 0.284628838359151\n",
       "96. 0.189270090301674\n",
       "97. 1\n",
       "98. 0.0832381193699818\n",
       "99. 0.182185606828757\n",
       "100. -0.361884381410163\n",
       "101. 0.0148451874032915\n",
       "102. 0.35235072722957\n",
       "103. -0.369265137959421\n",
       "104. -0.290381417347015\n",
       "105. -0.353498815399806\n",
       "106. -0.0323022696577776\n",
       "107. -0.243785081740474\n",
       "108. 0.0832381193699818\n",
       "109. 1\n",
       "110. -0.392069446275214\n",
       "111. 0.755731146141559\n",
       "112. -0.0980158208115976\n",
       "113. 0.135291684333511\n",
       "114. 0.748504645738021\n",
       "115. 0.699696580363893\n",
       "116. 0.743241833736097\n",
       "117. 0.38011134165322\n",
       "118. 0.688944108865674\n",
       "119. 0.182185606828757\n",
       "120. -0.392069446275214\n",
       "121. 1\n",
       "\n",
       "\n"
      ],
      "text/plain": [
       "                Year        Month         MEI         CO2         CH4\n",
       "Year      1.00000000 -0.025789103 -0.14534485  0.98537870  0.91056328\n",
       "Month    -0.02578910  1.000000000 -0.01634543 -0.09628668  0.01755804\n",
       "MEI      -0.14534485 -0.016345434  1.00000000 -0.15291104 -0.10555472\n",
       "CO2       0.98537870 -0.096286676 -0.15291104  1.00000000  0.87225311\n",
       "CH4       0.91056328  0.017558035 -0.10555472  0.87225311  1.00000000\n",
       "N2O       0.99484971  0.012395210 -0.16237531  0.98113544  0.89440921\n",
       "CFC.11    0.46096457 -0.014913724  0.08817074  0.40128447  0.71350408\n",
       "CFC.12    0.87006746 -0.001084139 -0.03983567  0.82321031  0.95823718\n",
       "TSI       0.02235316 -0.032754296 -0.07682560  0.01786672  0.14633495\n",
       "Aerosols -0.36188438  0.014845187  0.35235073 -0.36926514 -0.29038142\n",
       "Temp      0.75573115 -0.098015821  0.13529168  0.74850465  0.69969658\n",
       "                 N2O      CFC.11       CFC.12         TSI    Aerosols\n",
       "Year      0.99484971  0.46096457  0.870067456  0.02235316 -0.36188438\n",
       "Month     0.01239521 -0.01491372 -0.001084139 -0.03275430  0.01484519\n",
       "MEI      -0.16237531  0.08817074 -0.039835666 -0.07682560  0.35235073\n",
       "CO2       0.98113544  0.40128447  0.823210310  0.01786672 -0.36926514\n",
       "CH4       0.89440921  0.71350408  0.958237181  0.14633495 -0.29038142\n",
       "N2O       1.00000000  0.41215475  0.839295454  0.03989183 -0.35349882\n",
       "CFC.11    0.41215475  1.00000000  0.831381310  0.28462884 -0.03230227\n",
       "CFC.12    0.83929545  0.83138131  1.000000000  0.18927009 -0.24378508\n",
       "TSI       0.03989183  0.28462884  0.189270090  1.00000000  0.08323812\n",
       "Aerosols -0.35349882 -0.03230227 -0.243785082  0.08323812  1.00000000\n",
       "Temp      0.74324183  0.38011134  0.688944109  0.18218561 -0.39206945\n",
       "                Temp\n",
       "Year      0.75573115\n",
       "Month    -0.09801582\n",
       "MEI       0.13529168\n",
       "CO2       0.74850465\n",
       "CH4       0.69969658\n",
       "N2O       0.74324183\n",
       "CFC.11    0.38011134\n",
       "CFC.12    0.68894411\n",
       "TSI       0.18218561\n",
       "Aerosols -0.39206945\n",
       "Temp      1.00000000"
      ]
     },
     "execution_count": 61,
     "metadata": {},
     "output_type": "execute_result"
    }
   ],
   "source": [
    "cor(climate_change)"
   ]
  },
  {
   "cell_type": "code",
   "execution_count": 62,
   "metadata": {
    "collapsed": false
   },
   "outputs": [
    {
     "data": {
      "text/html": [
       "<dl class=dl-horizontal>\n",
       "\t<dt>Year</dt>\n",
       "\t\t<dd>0.460964573822036</dd>\n",
       "\t<dt>Month</dt>\n",
       "\t\t<dd>-0.0149137242977081</dd>\n",
       "\t<dt>MEI</dt>\n",
       "\t\t<dd>0.0881707446025491</dd>\n",
       "\t<dt>CO2</dt>\n",
       "\t\t<dd>0.401284474025049</dd>\n",
       "\t<dt>CH4</dt>\n",
       "\t\t<dd>0.713504079752466</dd>\n",
       "\t<dt>N2O</dt>\n",
       "\t\t<dd>0.41215475087863</dd>\n",
       "\t<dt>CFC.11</dt>\n",
       "\t\t<dd>1</dd>\n",
       "\t<dt>CFC.12</dt>\n",
       "\t\t<dd>0.831381309936198</dd>\n",
       "\t<dt>TSI</dt>\n",
       "\t\t<dd>0.284628838359151</dd>\n",
       "\t<dt>Aerosols</dt>\n",
       "\t\t<dd>-0.0323022696577776</dd>\n",
       "\t<dt>Temp</dt>\n",
       "\t\t<dd>0.38011134165322</dd>\n",
       "</dl>\n"
      ],
      "text/latex": [
       "\\begin{description*}\n",
       "\\item[Year] 0.460964573822036\n",
       "\\item[Month] -0.0149137242977081\n",
       "\\item[MEI] 0.0881707446025491\n",
       "\\item[CO2] 0.401284474025049\n",
       "\\item[CH4] 0.713504079752466\n",
       "\\item[N2O] 0.41215475087863\n",
       "\\item[CFC.11] 1\n",
       "\\item[CFC.12] 0.831381309936198\n",
       "\\item[TSI] 0.284628838359151\n",
       "\\item[Aerosols] -0.0323022696577776\n",
       "\\item[Temp] 0.38011134165322\n",
       "\\end{description*}\n"
      ],
      "text/markdown": [
       "Year\n",
       ":   0.460964573822036Month\n",
       ":   -0.0149137242977081MEI\n",
       ":   0.0881707446025491CO2\n",
       ":   0.401284474025049CH4\n",
       ":   0.713504079752466N2O\n",
       ":   0.41215475087863CFC.11\n",
       ":   1CFC.12\n",
       ":   0.831381309936198TSI\n",
       ":   0.284628838359151Aerosols\n",
       ":   -0.0323022696577776Temp\n",
       ":   0.38011134165322\n",
       "\n"
      ],
      "text/plain": [
       "       Year       Month         MEI         CO2         CH4         N2O \n",
       " 0.46096457 -0.01491372  0.08817074  0.40128447  0.71350408  0.41215475 \n",
       "     CFC.11      CFC.12         TSI    Aerosols        Temp \n",
       " 1.00000000  0.83138131  0.28462884 -0.03230227  0.38011134 "
      ]
     },
     "execution_count": 62,
     "metadata": {},
     "output_type": "execute_result"
    }
   ],
   "source": [
    "cor(climate_change)[\"CFC.11\", ]"
   ]
  },
  {
   "cell_type": "code",
   "execution_count": 63,
   "metadata": {
    "collapsed": false
   },
   "outputs": [
    {
     "data": {
      "text/plain": [
       "\n",
       "Call:\n",
       "lm(formula = Temp ~ MEI + CO2 + CH4 + N2O + CFC.11 + CFC.12 + \n",
       "    TSI + Aerosols, data = climate_train)\n",
       "\n",
       "Residuals:\n",
       "     Min       1Q   Median       3Q      Max \n",
       "-0.25888 -0.05913 -0.00082  0.05649  0.32433 \n",
       "\n",
       "Coefficients:\n",
       "              Estimate Std. Error t value Pr(>|t|)    \n",
       "(Intercept) -1.246e+02  1.989e+01  -6.265 1.43e-09 ***\n",
       "MEI          6.421e-02  6.470e-03   9.923  < 2e-16 ***\n",
       "CO2          6.457e-03  2.285e-03   2.826  0.00505 ** \n",
       "CH4          1.240e-04  5.158e-04   0.240  0.81015    \n",
       "N2O         -1.653e-02  8.565e-03  -1.930  0.05467 .  \n",
       "CFC.11      -6.631e-03  1.626e-03  -4.078 5.96e-05 ***\n",
       "CFC.12       3.808e-03  1.014e-03   3.757  0.00021 ***\n",
       "TSI          9.314e-02  1.475e-02   6.313 1.10e-09 ***\n",
       "Aerosols    -1.538e+00  2.133e-01  -7.210 5.41e-12 ***\n",
       "---\n",
       "Signif. codes:  0 ‘***’ 0.001 ‘**’ 0.01 ‘*’ 0.05 ‘.’ 0.1 ‘ ’ 1\n",
       "\n",
       "Residual standard error: 0.09171 on 275 degrees of freedom\n",
       "Multiple R-squared:  0.7509,\tAdjusted R-squared:  0.7436 \n",
       "F-statistic: 103.6 on 8 and 275 DF,  p-value: < 2.2e-16\n"
      ]
     },
     "execution_count": 63,
     "metadata": {},
     "output_type": "execute_result"
    }
   ],
   "source": [
    "summary(cl_model1)"
   ]
  },
  {
   "cell_type": "code",
   "execution_count": 64,
   "metadata": {
    "collapsed": true
   },
   "outputs": [],
   "source": [
    "cl_model2 = lm(Temp ~ MEI + N2O +  \n",
    "    TSI + Aerosols, data = climate_train)"
   ]
  },
  {
   "cell_type": "code",
   "execution_count": 65,
   "metadata": {
    "collapsed": false
   },
   "outputs": [
    {
     "data": {
      "text/plain": [
       "\n",
       "Call:\n",
       "lm(formula = Temp ~ MEI + N2O + TSI + Aerosols, data = climate_train)\n",
       "\n",
       "Residuals:\n",
       "     Min       1Q   Median       3Q      Max \n",
       "-0.27916 -0.05975 -0.00595  0.05672  0.34195 \n",
       "\n",
       "Coefficients:\n",
       "              Estimate Std. Error t value Pr(>|t|)    \n",
       "(Intercept) -1.162e+02  2.022e+01  -5.747 2.37e-08 ***\n",
       "MEI          6.419e-02  6.652e-03   9.649  < 2e-16 ***\n",
       "N2O          2.532e-02  1.311e-03  19.307  < 2e-16 ***\n",
       "TSI          7.949e-02  1.487e-02   5.344 1.89e-07 ***\n",
       "Aerosols    -1.702e+00  2.180e-01  -7.806 1.19e-13 ***\n",
       "---\n",
       "Signif. codes:  0 ‘***’ 0.001 ‘**’ 0.01 ‘*’ 0.05 ‘.’ 0.1 ‘ ’ 1\n",
       "\n",
       "Residual standard error: 0.09547 on 279 degrees of freedom\n",
       "Multiple R-squared:  0.7261,\tAdjusted R-squared:  0.7222 \n",
       "F-statistic: 184.9 on 4 and 279 DF,  p-value: < 2.2e-16\n"
      ]
     },
     "execution_count": 65,
     "metadata": {},
     "output_type": "execute_result"
    }
   ],
   "source": [
    "summary(cl_model2)"
   ]
  },
  {
   "cell_type": "code",
   "execution_count": 75,
   "metadata": {
    "collapsed": false
   },
   "outputs": [
    {
     "name": "stdout",
     "output_type": "stream",
     "text": [
      "Start:  AIC=-1348.16\n",
      "Temp ~ MEI + CO2 + CH4 + N2O + CFC.11 + CFC.12 + TSI + Aerosols\n",
      "\n",
      "           Df Sum of Sq    RSS     AIC\n",
      "- CH4       1   0.00049 2.3135 -1350.1\n",
      "<none>                  2.3130 -1348.2\n",
      "- N2O       1   0.03132 2.3443 -1346.3\n",
      "- CO2       1   0.06719 2.3802 -1342.0\n",
      "- CFC.12    1   0.11874 2.4318 -1335.9\n",
      "- CFC.11    1   0.13986 2.4529 -1333.5\n",
      "- TSI       1   0.33516 2.6482 -1311.7\n",
      "- Aerosols  1   0.43727 2.7503 -1301.0\n",
      "- MEI       1   0.82823 3.1412 -1263.2\n",
      "\n",
      "Step:  AIC=-1350.1\n",
      "Temp ~ MEI + CO2 + N2O + CFC.11 + CFC.12 + TSI + Aerosols\n",
      "\n",
      "           Df Sum of Sq    RSS     AIC\n",
      "<none>                  2.3135 -1350.1\n",
      "- N2O       1   0.03133 2.3448 -1348.3\n",
      "- CO2       1   0.06672 2.3802 -1344.0\n",
      "- CFC.12    1   0.13023 2.4437 -1336.5\n",
      "- CFC.11    1   0.13938 2.4529 -1335.5\n",
      "- TSI       1   0.33500 2.6485 -1313.7\n",
      "- Aerosols  1   0.43987 2.7534 -1302.7\n",
      "- MEI       1   0.83118 3.1447 -1264.9\n"
     ]
    }
   ],
   "source": [
    "cl_model3 = step(cl_model1)"
   ]
  },
  {
   "cell_type": "code",
   "execution_count": 76,
   "metadata": {
    "collapsed": false
   },
   "outputs": [
    {
     "data": {
      "text/plain": [
       "\n",
       "Call:\n",
       "lm(formula = Temp ~ MEI + CO2 + N2O + CFC.11 + CFC.12 + TSI + \n",
       "    Aerosols, data = climate_train)\n",
       "\n",
       "Residuals:\n",
       "     Min       1Q   Median       3Q      Max \n",
       "-0.25770 -0.05994 -0.00104  0.05588  0.32203 \n",
       "\n",
       "Coefficients:\n",
       "              Estimate Std. Error t value Pr(>|t|)    \n",
       "(Intercept) -1.245e+02  1.985e+01  -6.273 1.37e-09 ***\n",
       "MEI          6.407e-02  6.434e-03   9.958  < 2e-16 ***\n",
       "CO2          6.402e-03  2.269e-03   2.821 0.005129 ** \n",
       "N2O         -1.602e-02  8.287e-03  -1.933 0.054234 .  \n",
       "CFC.11      -6.609e-03  1.621e-03  -4.078 5.95e-05 ***\n",
       "CFC.12       3.868e-03  9.812e-04   3.942 0.000103 ***\n",
       "TSI          9.312e-02  1.473e-02   6.322 1.04e-09 ***\n",
       "Aerosols    -1.540e+00  2.126e-01  -7.244 4.36e-12 ***\n",
       "---\n",
       "Signif. codes:  0 ‘***’ 0.001 ‘**’ 0.01 ‘*’ 0.05 ‘.’ 0.1 ‘ ’ 1\n",
       "\n",
       "Residual standard error: 0.09155 on 276 degrees of freedom\n",
       "Multiple R-squared:  0.7508,\tAdjusted R-squared:  0.7445 \n",
       "F-statistic: 118.8 on 7 and 276 DF,  p-value: < 2.2e-16\n"
      ]
     },
     "execution_count": 76,
     "metadata": {},
     "output_type": "execute_result"
    }
   ],
   "source": [
    "summary(cl_model3)"
   ]
  },
  {
   "cell_type": "code",
   "execution_count": 77,
   "metadata": {
    "collapsed": false
   },
   "outputs": [
    {
     "data": {
      "text/html": [
       "<dl class=dl-horizontal>\n",
       "\t<dt>285</dt>\n",
       "\t\t<dd>0.467780765861991</dd>\n",
       "\t<dt>286</dt>\n",
       "\t\t<dd>0.443540423387133</dd>\n",
       "\t<dt>287</dt>\n",
       "\t\t<dd>0.426554059669449</dd>\n",
       "\t<dt>288</dt>\n",
       "\t\t<dd>0.429916210439607</dd>\n",
       "\t<dt>289</dt>\n",
       "\t\t<dd>0.445511274787286</dd>\n",
       "\t<dt>290</dt>\n",
       "\t\t<dd>0.415142182477776</dd>\n",
       "\t<dt>291</dt>\n",
       "\t\t<dd>0.409736650864371</dd>\n",
       "\t<dt>292</dt>\n",
       "\t\t<dd>0.383939042266441</dd>\n",
       "\t<dt>293</dt>\n",
       "\t\t<dd>0.325559538376982</dd>\n",
       "\t<dt>294</dt>\n",
       "\t\t<dd>0.327414734164129</dd>\n",
       "\t<dt>295</dt>\n",
       "\t\t<dd>0.323140084952644</dd>\n",
       "\t<dt>296</dt>\n",
       "\t\t<dd>0.331670396500439</dd>\n",
       "\t<dt>297</dt>\n",
       "\t\t<dd>0.35221341647517</dd>\n",
       "\t<dt>298</dt>\n",
       "\t\t<dd>0.331312852295039</dd>\n",
       "\t<dt>299</dt>\n",
       "\t\t<dd>0.31421117809764</dd>\n",
       "\t<dt>300</dt>\n",
       "\t\t<dd>0.370341011265858</dd>\n",
       "\t<dt>301</dt>\n",
       "\t\t<dd>0.416221271631927</dd>\n",
       "\t<dt>302</dt>\n",
       "\t\t<dd>0.439145790048386</dd>\n",
       "\t<dt>303</dt>\n",
       "\t\t<dd>0.423796533033106</dd>\n",
       "\t<dt>304</dt>\n",
       "\t\t<dd>0.391367909033573</dd>\n",
       "\t<dt>305</dt>\n",
       "\t\t<dd>0.358761466878704</dd>\n",
       "\t<dt>306</dt>\n",
       "\t\t<dd>0.345199074288675</dd>\n",
       "\t<dt>307</dt>\n",
       "\t\t<dd>0.360708690747695</dd>\n",
       "\t<dt>308</dt>\n",
       "\t\t<dd>0.363807628911263</dd>\n",
       "</dl>\n"
      ],
      "text/latex": [
       "\\begin{description*}\n",
       "\\item[285] 0.467780765861991\n",
       "\\item[286] 0.443540423387133\n",
       "\\item[287] 0.426554059669449\n",
       "\\item[288] 0.429916210439607\n",
       "\\item[289] 0.445511274787286\n",
       "\\item[290] 0.415142182477776\n",
       "\\item[291] 0.409736650864371\n",
       "\\item[292] 0.383939042266441\n",
       "\\item[293] 0.325559538376982\n",
       "\\item[294] 0.327414734164129\n",
       "\\item[295] 0.323140084952644\n",
       "\\item[296] 0.331670396500439\n",
       "\\item[297] 0.35221341647517\n",
       "\\item[298] 0.331312852295039\n",
       "\\item[299] 0.31421117809764\n",
       "\\item[300] 0.370341011265858\n",
       "\\item[301] 0.416221271631927\n",
       "\\item[302] 0.439145790048386\n",
       "\\item[303] 0.423796533033106\n",
       "\\item[304] 0.391367909033573\n",
       "\\item[305] 0.358761466878704\n",
       "\\item[306] 0.345199074288675\n",
       "\\item[307] 0.360708690747695\n",
       "\\item[308] 0.363807628911263\n",
       "\\end{description*}\n"
      ],
      "text/markdown": [
       "285\n",
       ":   0.467780765861991286\n",
       ":   0.443540423387133287\n",
       ":   0.426554059669449288\n",
       ":   0.429916210439607289\n",
       ":   0.445511274787286290\n",
       ":   0.415142182477776291\n",
       ":   0.409736650864371292\n",
       ":   0.383939042266441293\n",
       ":   0.325559538376982294\n",
       ":   0.327414734164129295\n",
       ":   0.323140084952644296\n",
       ":   0.331670396500439297\n",
       ":   0.35221341647517298\n",
       ":   0.331312852295039299\n",
       ":   0.31421117809764300\n",
       ":   0.370341011265858301\n",
       ":   0.416221271631927302\n",
       ":   0.439145790048386303\n",
       ":   0.423796533033106304\n",
       ":   0.391367909033573305\n",
       ":   0.358761466878704306\n",
       ":   0.345199074288675307\n",
       ":   0.360708690747695308\n",
       ":   0.363807628911263\n",
       "\n"
      ],
      "text/plain": [
       "      285       286       287       288       289       290       291       292 \n",
       "0.4677808 0.4435404 0.4265541 0.4299162 0.4455113 0.4151422 0.4097367 0.3839390 \n",
       "      293       294       295       296       297       298       299       300 \n",
       "0.3255595 0.3274147 0.3231401 0.3316704 0.3522134 0.3313129 0.3142112 0.3703410 \n",
       "      301       302       303       304       305       306       307       308 \n",
       "0.4162213 0.4391458 0.4237965 0.3913679 0.3587615 0.3451991 0.3607087 0.3638076 "
      ]
     },
     "execution_count": 77,
     "metadata": {},
     "output_type": "execute_result"
    }
   ],
   "source": [
    "pred_temp = predict(cl_model3,newdata = climate_test)\n",
    "pred_temp"
   ]
  },
  {
   "cell_type": "code",
   "execution_count": 70,
   "metadata": {
    "collapsed": false
   },
   "outputs": [
    {
     "data": {
      "text/html": [
       "0.256775974025974"
      ],
      "text/latex": [
       "0.256775974025974"
      ],
      "text/markdown": [
       "0.256775974025974"
      ],
      "text/plain": [
       "[1] 0.256776"
      ]
     },
     "execution_count": 70,
     "metadata": {},
     "output_type": "execute_result"
    }
   ],
   "source": [
    "mean(climate_change$Temp)"
   ]
  },
  {
   "cell_type": "code",
   "execution_count": 71,
   "metadata": {
    "collapsed": false
   },
   "outputs": [
    {
     "data": {
      "text/html": [
       "<ol class=list-inline>\n",
       "\t<li>0.601</li>\n",
       "\t<li>0.498</li>\n",
       "\t<li>0.435</li>\n",
       "\t<li>0.466</li>\n",
       "\t<li>0.372</li>\n",
       "\t<li>0.382</li>\n",
       "\t<li>0.394</li>\n",
       "\t<li>0.358</li>\n",
       "\t<li>0.402</li>\n",
       "\t<li>0.362</li>\n",
       "\t<li>0.266</li>\n",
       "\t<li>0.226</li>\n",
       "\t<li>0.074</li>\n",
       "\t<li>0.198</li>\n",
       "\t<li>0.447</li>\n",
       "\t<li>0.278</li>\n",
       "\t<li>0.283</li>\n",
       "\t<li>0.315</li>\n",
       "\t<li>0.406</li>\n",
       "\t<li>0.407</li>\n",
       "\t<li>0.378</li>\n",
       "\t<li>0.44</li>\n",
       "\t<li>0.394</li>\n",
       "\t<li>0.33</li>\n",
       "</ol>\n"
      ],
      "text/latex": [
       "\\begin{enumerate*}\n",
       "\\item 0.601\n",
       "\\item 0.498\n",
       "\\item 0.435\n",
       "\\item 0.466\n",
       "\\item 0.372\n",
       "\\item 0.382\n",
       "\\item 0.394\n",
       "\\item 0.358\n",
       "\\item 0.402\n",
       "\\item 0.362\n",
       "\\item 0.266\n",
       "\\item 0.226\n",
       "\\item 0.074\n",
       "\\item 0.198\n",
       "\\item 0.447\n",
       "\\item 0.278\n",
       "\\item 0.283\n",
       "\\item 0.315\n",
       "\\item 0.406\n",
       "\\item 0.407\n",
       "\\item 0.378\n",
       "\\item 0.44\n",
       "\\item 0.394\n",
       "\\item 0.33\n",
       "\\end{enumerate*}\n"
      ],
      "text/markdown": [
       "1. 0.601\n",
       "2. 0.498\n",
       "3. 0.435\n",
       "4. 0.466\n",
       "5. 0.372\n",
       "6. 0.382\n",
       "7. 0.394\n",
       "8. 0.358\n",
       "9. 0.402\n",
       "10. 0.362\n",
       "11. 0.266\n",
       "12. 0.226\n",
       "13. 0.074\n",
       "14. 0.198\n",
       "15. 0.447\n",
       "16. 0.278\n",
       "17. 0.283\n",
       "18. 0.315\n",
       "19. 0.406\n",
       "20. 0.407\n",
       "21. 0.378\n",
       "22. 0.44\n",
       "23. 0.394\n",
       "24. 0.33\n",
       "\n",
       "\n"
      ],
      "text/plain": [
       " [1] 0.601 0.498 0.435 0.466 0.372 0.382 0.394 0.358 0.402 0.362 0.266 0.226\n",
       "[13] 0.074 0.198 0.447 0.278 0.283 0.315 0.406 0.407 0.378 0.440 0.394 0.330"
      ]
     },
     "execution_count": 71,
     "metadata": {},
     "output_type": "execute_result"
    }
   ],
   "source": [
    "climate_test$Temp"
   ]
  },
  {
   "cell_type": "code",
   "execution_count": 69,
   "metadata": {
    "collapsed": false
   },
   "outputs": [
    {
     "data": {
      "text/html": [
       "<ol class=list-inline>\n",
       "\t<li>0.344224025974026</li>\n",
       "\t<li>0.241224025974026</li>\n",
       "\t<li>0.178224025974026</li>\n",
       "\t<li>0.209224025974026</li>\n",
       "\t<li>0.115224025974026</li>\n",
       "\t<li>0.125224025974026</li>\n",
       "\t<li>0.137224025974026</li>\n",
       "\t<li>0.101224025974026</li>\n",
       "\t<li>0.145224025974026</li>\n",
       "\t<li>0.105224025974026</li>\n",
       "\t<li>0.009224025974026</li>\n",
       "\t<li>-0.030775974025974</li>\n",
       "\t<li>-0.182775974025974</li>\n",
       "\t<li>-0.058775974025974</li>\n",
       "\t<li>0.190224025974026</li>\n",
       "\t<li>0.021224025974026</li>\n",
       "\t<li>0.026224025974026</li>\n",
       "\t<li>0.058224025974026</li>\n",
       "\t<li>0.149224025974026</li>\n",
       "\t<li>0.150224025974026</li>\n",
       "\t<li>0.121224025974026</li>\n",
       "\t<li>0.183224025974026</li>\n",
       "\t<li>0.137224025974026</li>\n",
       "\t<li>0.073224025974026</li>\n",
       "</ol>\n"
      ],
      "text/latex": [
       "\\begin{enumerate*}\n",
       "\\item 0.344224025974026\n",
       "\\item 0.241224025974026\n",
       "\\item 0.178224025974026\n",
       "\\item 0.209224025974026\n",
       "\\item 0.115224025974026\n",
       "\\item 0.125224025974026\n",
       "\\item 0.137224025974026\n",
       "\\item 0.101224025974026\n",
       "\\item 0.145224025974026\n",
       "\\item 0.105224025974026\n",
       "\\item 0.009224025974026\n",
       "\\item -0.030775974025974\n",
       "\\item -0.182775974025974\n",
       "\\item -0.058775974025974\n",
       "\\item 0.190224025974026\n",
       "\\item 0.021224025974026\n",
       "\\item 0.026224025974026\n",
       "\\item 0.058224025974026\n",
       "\\item 0.149224025974026\n",
       "\\item 0.150224025974026\n",
       "\\item 0.121224025974026\n",
       "\\item 0.183224025974026\n",
       "\\item 0.137224025974026\n",
       "\\item 0.073224025974026\n",
       "\\end{enumerate*}\n"
      ],
      "text/markdown": [
       "1. 0.344224025974026\n",
       "2. 0.241224025974026\n",
       "3. 0.178224025974026\n",
       "4. 0.209224025974026\n",
       "5. 0.115224025974026\n",
       "6. 0.125224025974026\n",
       "7. 0.137224025974026\n",
       "8. 0.101224025974026\n",
       "9. 0.145224025974026\n",
       "10. 0.105224025974026\n",
       "11. 0.009224025974026\n",
       "12. -0.030775974025974\n",
       "13. -0.182775974025974\n",
       "14. -0.058775974025974\n",
       "15. 0.190224025974026\n",
       "16. 0.021224025974026\n",
       "17. 0.026224025974026\n",
       "18. 0.058224025974026\n",
       "19. 0.149224025974026\n",
       "20. 0.150224025974026\n",
       "21. 0.121224025974026\n",
       "22. 0.183224025974026\n",
       "23. 0.137224025974026\n",
       "24. 0.073224025974026\n",
       "\n",
       "\n"
      ],
      "text/plain": [
       " [1]  0.344224026  0.241224026  0.178224026  0.209224026  0.115224026\n",
       " [6]  0.125224026  0.137224026  0.101224026  0.145224026  0.105224026\n",
       "[11]  0.009224026 -0.030775974 -0.182775974 -0.058775974  0.190224026\n",
       "[16]  0.021224026  0.026224026  0.058224026  0.149224026  0.150224026\n",
       "[21]  0.121224026  0.183224026  0.137224026  0.073224026"
      ]
     },
     "execution_count": 69,
     "metadata": {},
     "output_type": "execute_result"
    }
   ],
   "source": [
    "climate_test$Temp-mean(climate_change$Temp)"
   ]
  },
  {
   "cell_type": "code",
   "execution_count": 78,
   "metadata": {
    "collapsed": false
   },
   "outputs": [],
   "source": [
    "TE = sum((climate_test$Temp-mean(climate_train$Temp))^2)"
   ]
  },
  {
   "cell_type": "code",
   "execution_count": 80,
   "metadata": {
    "collapsed": false
   },
   "outputs": [
    {
     "data": {
      "text/html": [
       "0.58601885409641"
      ],
      "text/latex": [
       "0.58601885409641"
      ],
      "text/markdown": [
       "0.58601885409641"
      ],
      "text/plain": [
       "[1] 0.5860189"
      ]
     },
     "execution_count": 80,
     "metadata": {},
     "output_type": "execute_result"
    }
   ],
   "source": [
    "TE"
   ]
  },
  {
   "cell_type": "code",
   "execution_count": 81,
   "metadata": {
    "collapsed": false
   },
   "outputs": [
    {
     "data": {
      "text/html": [
       "0.217644400523986"
      ],
      "text/latex": [
       "0.217644400523986"
      ],
      "text/markdown": [
       "0.217644400523986"
      ],
      "text/plain": [
       "[1] 0.2176444"
      ]
     },
     "execution_count": 81,
     "metadata": {},
     "output_type": "execute_result"
    }
   ],
   "source": [
    "ME = sum((pred_temp-climate_test$Temp)^2)\n",
    "ME"
   ]
  },
  {
   "cell_type": "code",
   "execution_count": 82,
   "metadata": {
    "collapsed": false
   },
   "outputs": [
    {
     "data": {
      "text/html": [
       "0.628605122509965"
      ],
      "text/latex": [
       "0.628605122509965"
      ],
      "text/markdown": [
       "0.628605122509965"
      ],
      "text/plain": [
       "[1] 0.6286051"
      ]
     },
     "execution_count": 82,
     "metadata": {},
     "output_type": "execute_result"
    }
   ],
   "source": [
    "1-(ME/TE)"
   ]
  },
  {
   "cell_type": "code",
   "execution_count": null,
   "metadata": {
    "collapsed": true
   },
   "outputs": [],
   "source": []
  },
  {
   "cell_type": "code",
   "execution_count": null,
   "metadata": {
    "collapsed": true
   },
   "outputs": [],
   "source": []
  }
 ],
 "metadata": {
  "kernelspec": {
   "display_name": "R",
   "language": "R",
   "name": "ir"
  },
  "language_info": {
   "codemirror_mode": "r",
   "file_extension": ".r",
   "mimetype": "text/x-r-source",
   "name": "R",
   "pygments_lexer": "r",
   "version": "3.2.2"
  }
 },
 "nbformat": 4,
 "nbformat_minor": 0
}
