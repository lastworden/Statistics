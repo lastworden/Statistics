{
 "cells": [
  {
   "cell_type": "markdown",
   "metadata": {},
   "source": [
    "https://courses.edx.org/courses/course-v1:MITx+15.071x_3+1T2016/courseware/3372864201764d6d9f63931920e5152e/81e7350ea002415d9d76af945d7d0650/"
   ]
  },
  {
   "cell_type": "code",
   "execution_count": 85,
   "metadata": {
    "collapsed": true
   },
   "outputs": [],
   "source": [
    "stevens = read.csv(\"stevens.csv\")"
   ]
  },
  {
   "cell_type": "code",
   "execution_count": 86,
   "metadata": {
    "collapsed": false
   },
   "outputs": [
    {
     "name": "stdout",
     "output_type": "stream",
     "text": [
      "'data.frame':\t566 obs. of  9 variables:\n",
      " $ Docket    : Factor w/ 566 levels \"00-1011\",\"00-1045\",..: 63 69 70 145 97 181 242 289 334 436 ...\n",
      " $ Term      : int  1994 1994 1994 1994 1995 1995 1996 1997 1997 1999 ...\n",
      " $ Circuit   : Factor w/ 13 levels \"10th\",\"11th\",..: 4 11 7 3 9 11 13 11 12 2 ...\n",
      " $ Issue     : Factor w/ 11 levels \"Attorneys\",\"CivilRights\",..: 5 5 5 5 9 5 5 5 5 3 ...\n",
      " $ Petitioner: Factor w/ 12 levels \"AMERICAN.INDIAN\",..: 2 2 2 2 2 2 2 2 2 2 ...\n",
      " $ Respondent: Factor w/ 12 levels \"AMERICAN.INDIAN\",..: 2 2 2 2 2 2 2 2 2 2 ...\n",
      " $ LowerCourt: Factor w/ 2 levels \"conser\",\"liberal\": 2 2 2 1 1 1 1 1 1 1 ...\n",
      " $ Unconst   : int  0 0 0 0 0 1 0 1 0 0 ...\n",
      " $ Reverse   : int  1 1 1 1 1 0 1 1 1 1 ...\n"
     ]
    }
   ],
   "source": [
    "str(stevens)"
   ]
  },
  {
   "cell_type": "code",
   "execution_count": 87,
   "metadata": {
    "collapsed": false
   },
   "outputs": [
    {
     "data": {
      "text/plain": [
       "     Docket         Term         Circuit                  Issue    \n",
       " 00-1011:  1   Min.   :1994   9th    :122   CriminalProcedure:132  \n",
       " 00-1045:  1   1st Qu.:1995   5th    : 53   JudicialPower    :102  \n",
       " 00-1072:  1   Median :1997   11th   : 49   EconomicActivity : 98  \n",
       " 00-1073:  1   Mean   :1997   7th    : 47   CivilRights      : 74  \n",
       " 00-1089:  1   3rd Qu.:1999   4th    : 46   DueProcess       : 43  \n",
       " 00-121 :  1   Max.   :2001   8th    : 44   FirstAmendment   : 39  \n",
       " (Other):560                  (Other):205   (Other)          : 78  \n",
       "               Petitioner               Respondent    LowerCourt \n",
       " OTHER              :175   OTHER             :177   conser :293  \n",
       " CRIMINAL.DEFENDENT : 89   BUSINESS          : 80   liberal:273  \n",
       " BUSINESS           : 79   US                : 69                \n",
       " STATE              : 48   CRIMINAL.DEFENDENT: 58                \n",
       " US                 : 48   STATE             : 56                \n",
       " GOVERNMENT.OFFICIAL: 38   EMPLOYEE          : 28                \n",
       " (Other)            : 89   (Other)           : 98                \n",
       "    Unconst          Reverse      \n",
       " Min.   :0.0000   Min.   :0.0000  \n",
       " 1st Qu.:0.0000   1st Qu.:0.0000  \n",
       " Median :0.0000   Median :1.0000  \n",
       " Mean   :0.2473   Mean   :0.5459  \n",
       " 3rd Qu.:0.0000   3rd Qu.:1.0000  \n",
       " Max.   :1.0000   Max.   :1.0000  \n",
       "                                  "
      ]
     },
     "execution_count": 87,
     "metadata": {},
     "output_type": "execute_result"
    }
   ],
   "source": [
    "summary(stevens)"
   ]
  },
  {
   "cell_type": "code",
   "execution_count": 88,
   "metadata": {
    "collapsed": false
   },
   "outputs": [],
   "source": [
    "library(caTools)"
   ]
  },
  {
   "cell_type": "code",
   "execution_count": 89,
   "metadata": {
    "collapsed": true
   },
   "outputs": [],
   "source": [
    "set.seed(3000)"
   ]
  },
  {
   "cell_type": "code",
   "execution_count": 90,
   "metadata": {
    "collapsed": false
   },
   "outputs": [],
   "source": [
    "split = sample.split(stevens$Reverse, SplitRatio = 0.70)"
   ]
  },
  {
   "cell_type": "code",
   "execution_count": 91,
   "metadata": {
    "collapsed": true
   },
   "outputs": [],
   "source": [
    "Train = subset(stevens, split == TRUE)"
   ]
  },
  {
   "cell_type": "code",
   "execution_count": 92,
   "metadata": {
    "collapsed": true
   },
   "outputs": [],
   "source": [
    "Test = subset(stevens, split == FALSE)"
   ]
  },
  {
   "cell_type": "code",
   "execution_count": 93,
   "metadata": {
    "collapsed": false
   },
   "outputs": [
    {
     "name": "stdout",
     "output_type": "stream",
     "text": [
      "'data.frame':\t396 obs. of  9 variables:\n",
      " $ Docket    : Factor w/ 566 levels \"00-1011\",\"00-1045\",..: 69 97 242 334 436 504 507 526 155 426 ...\n",
      " $ Term      : int  1994 1995 1996 1997 1999 1999 2000 2000 1994 1999 ...\n",
      " $ Circuit   : Factor w/ 13 levels \"10th\",\"11th\",..: 11 9 13 12 2 4 8 11 9 5 ...\n",
      " $ Issue     : Factor w/ 11 levels \"Attorneys\",\"CivilRights\",..: 5 9 5 5 3 5 5 4 5 6 ...\n",
      " $ Petitioner: Factor w/ 12 levels \"AMERICAN.INDIAN\",..: 2 2 2 2 2 2 2 2 3 3 ...\n",
      " $ Respondent: Factor w/ 12 levels \"AMERICAN.INDIAN\",..: 2 2 2 2 2 2 2 2 2 2 ...\n",
      " $ LowerCourt: Factor w/ 2 levels \"conser\",\"liberal\": 2 1 1 1 1 1 1 2 2 2 ...\n",
      " $ Unconst   : int  0 0 0 0 0 0 1 1 0 0 ...\n",
      " $ Reverse   : int  1 1 1 1 1 1 1 1 0 0 ...\n"
     ]
    }
   ],
   "source": [
    "str(Train)"
   ]
  },
  {
   "cell_type": "code",
   "execution_count": 94,
   "metadata": {
    "collapsed": true
   },
   "outputs": [],
   "source": [
    "library(rpart)"
   ]
  },
  {
   "cell_type": "code",
   "execution_count": 95,
   "metadata": {
    "collapsed": false
   },
   "outputs": [
    {
     "data": {
      "text/html": [
       "'/home/varun/anaconda3/lib64/R/library'"
      ],
      "text/latex": [
       "'/home/varun/anaconda3/lib64/R/library'"
      ],
      "text/markdown": [
       "'/home/varun/anaconda3/lib64/R/library'"
      ],
      "text/plain": [
       "[1] \"/home/varun/anaconda3/lib64/R/library\""
      ]
     },
     "execution_count": 95,
     "metadata": {},
     "output_type": "execute_result"
    }
   ],
   "source": [
    ".Library"
   ]
  },
  {
   "cell_type": "code",
   "execution_count": 96,
   "metadata": {
    "collapsed": false
   },
   "outputs": [],
   "source": [
    "library(rpart.plot)"
   ]
  },
  {
   "cell_type": "code",
   "execution_count": 97,
   "metadata": {
    "collapsed": false
   },
   "outputs": [],
   "source": [
    "StevensTree = rpart(Reverse~ Circuit+Issue+Petitioner+Respondent+LowerCourt+Unconst, data = Train, method = \"class\", minbucket=25)"
   ]
  },
  {
   "cell_type": "code",
   "execution_count": 98,
   "metadata": {
    "collapsed": false
   },
   "outputs": [
    {
     "name": "stdout",
     "output_type": "stream",
     "text": [
      "Call:\n",
      "rpart(formula = Reverse ~ Circuit + Issue + Petitioner + Respondent + \n",
      "    LowerCourt + Unconst, data = Train, method = \"class\", minbucket = 25)\n",
      "  n= 396 \n",
      "\n",
      "          CP nsplit rel error    xerror       xstd\n",
      "1 0.21666667      0 1.0000000 1.0000000 0.05504819\n",
      "2 0.05277778      1 0.7833333 0.8833333 0.05419418\n",
      "3 0.02407407      3 0.6777778 0.8444444 0.05376462\n",
      "4 0.01666667      6 0.6055556 0.8611111 0.05395780\n",
      "5 0.01000000      7 0.5888889 0.8388889 0.05369717\n",
      "\n",
      "Variable importance\n",
      "Respondent Petitioner LowerCourt    Circuit      Issue    Unconst \n",
      "        29         20         20         15         14          1 \n",
      "\n",
      "Node number 1: 396 observations,    complexity param=0.2166667\n",
      "  predicted class=1  expected loss=0.4545455  P(node) =1\n",
      "    class counts:   180   216\n",
      "   probabilities: 0.455 0.545 \n",
      "  left son=2 (185 obs) right son=3 (211 obs)\n",
      "  Primary splits:\n",
      "      LowerCourt splits as  RL, improve=15.803830, (0 missing)\n",
      "      Respondent splits as  RRLLLRLLLLRL, improve=12.595160, (0 missing)\n",
      "      Petitioner splits as  LLLRRLLRRRLL, improve=12.309770, (0 missing)\n",
      "      Circuit    splits as  LLLRLRRRLLLLL, improve= 8.967202, (0 missing)\n",
      "      Issue      splits as  RRRRRRLLRRR, improve= 4.103407, (0 missing)\n",
      "  Surrogate splits:\n",
      "      Petitioner splits as  RLLRRLLRRRLL, agree=0.722, adj=0.405, (0 split)\n",
      "      Respondent splits as  LRRLLRRLLRRR, agree=0.720, adj=0.400, (0 split)\n",
      "      Circuit    splits as  LRLLRRRRRRLRL, agree=0.644, adj=0.238, (0 split)\n",
      "      Issue      splits as  RLRLRLRLRLR, agree=0.578, adj=0.097, (0 split)\n",
      "      Unconst    < 0.5 to the left,  agree=0.566, adj=0.070, (0 split)\n",
      "\n",
      "Node number 2: 185 observations,    complexity param=0.05277778\n",
      "  predicted class=0  expected loss=0.3945946  P(node) =0.4671717\n",
      "    class counts:   112    73\n",
      "   probabilities: 0.605 0.395 \n",
      "  left son=4 (67 obs) right son=5 (118 obs)\n",
      "  Primary splits:\n",
      "      Respondent splits as  RRRLR-RLRLLL, improve=7.23993500, (0 missing)\n",
      "      Circuit    splits as  LLLRLLLRLLRLR, improve=6.53187900, (0 missing)\n",
      "      Petitioner splits as  -RL-LLLRRLLR, improve=5.15027200, (0 missing)\n",
      "      Issue      splits as  LRLRRRLLLRL, improve=3.57553500, (0 missing)\n",
      "      Unconst    < 0.5 to the right, improve=0.06918919, (0 missing)\n",
      "  Surrogate splits:\n",
      "      Issue      splits as  RRLLRRRRRRR, agree=0.757, adj=0.328, (0 split)\n",
      "      Petitioner splits as  -RR-RRRRRLLL, agree=0.724, adj=0.239, (0 split)\n",
      "      Circuit    splits as  RRRRRRRRRLRRR, agree=0.654, adj=0.045, (0 split)\n",
      "\n",
      "Node number 3: 211 observations,    complexity param=0.02407407\n",
      "  predicted class=1  expected loss=0.3222749  P(node) =0.5328283\n",
      "    class counts:    68   143\n",
      "   probabilities: 0.322 0.678 \n",
      "  left son=6 (158 obs) right son=7 (53 obs)\n",
      "  Primary splits:\n",
      "      Respondent splits as  RLLLLRLRLRRL, improve=8.6224910, (0 missing)\n",
      "      Circuit    splits as  LLRLLRRLLLLLL, improve=7.6570520, (0 missing)\n",
      "      Issue      splits as  RRLLRLLLLRR, improve=3.6748010, (0 missing)\n",
      "      Petitioner splits as  LLLRRLLLLRLL, improve=2.5768780, (0 missing)\n",
      "      Unconst    < 0.5 to the left,  improve=0.1185328, (0 missing)\n",
      "  Surrogate splits:\n",
      "      Issue   splits as  LRLLLLLLLLL, agree=0.768, adj=0.075, (0 split)\n",
      "      Circuit splits as  LLRLLRLLLLLLL, agree=0.763, adj=0.057, (0 split)\n",
      "\n",
      "Node number 4: 67 observations\n",
      "  predicted class=0  expected loss=0.2089552  P(node) =0.1691919\n",
      "    class counts:    53    14\n",
      "   probabilities: 0.791 0.209 \n",
      "\n",
      "Node number 5: 118 observations,    complexity param=0.05277778\n",
      "  predicted class=0  expected loss=0.5  P(node) =0.2979798\n",
      "    class counts:    59    59\n",
      "   probabilities: 0.500 0.500 \n",
      "  left son=10 (33 obs) right son=11 (85 obs)\n",
      "  Primary splits:\n",
      "      Petitioner splits as  -RL-LLLRRLRR, improve=7.593226, (0 missing)\n",
      "      Circuit    splits as  LLLRLLRRLRRLR, improve=3.491546, (0 missing)\n",
      "      Issue      splits as  LRLRRRRLRRL, improve=2.466555, (0 missing)\n",
      "      Respondent splits as  RRR-L-L-L---, improve=1.645095, (0 missing)\n",
      "  Surrogate splits:\n",
      "      Issue   splits as  RRRRRRRRRRL, agree=0.754, adj=0.121, (0 split)\n",
      "      Circuit splits as  RRLRLRRRRRRRR, agree=0.737, adj=0.061, (0 split)\n",
      "\n",
      "Node number 6: 158 observations,    complexity param=0.02407407\n",
      "  predicted class=1  expected loss=0.4050633  P(node) =0.3989899\n",
      "    class counts:    64    94\n",
      "   probabilities: 0.405 0.595 \n",
      "  left son=12 (120 obs) right son=13 (38 obs)\n",
      "  Primary splits:\n",
      "      Circuit    splits as  LL-RLRRLLLLLL, improve=4.880846000, (0 missing)\n",
      "      Issue      splits as  RRLLRLLLRRR, improve=2.811689000, (0 missing)\n",
      "      Petitioner splits as  LLLRRLLRRRLL, improve=1.991333000, (0 missing)\n",
      "      Respondent splits as  -RLLR-L-R--L, improve=1.681096000, (0 missing)\n",
      "      Unconst    < 0.5 to the right, improve=0.001978479, (0 missing)\n",
      "  Surrogate splits:\n",
      "      Issue splits as  LLLLLLLLLLR, agree=0.766, adj=0.026, (0 split)\n",
      "\n",
      "Node number 7: 53 observations\n",
      "  predicted class=1  expected loss=0.0754717  P(node) =0.1338384\n",
      "    class counts:     4    49\n",
      "   probabilities: 0.075 0.925 \n",
      "\n",
      "Node number 10: 33 observations\n",
      "  predicted class=0  expected loss=0.2121212  P(node) =0.08333333\n",
      "    class counts:    26     7\n",
      "   probabilities: 0.788 0.212 \n",
      "\n",
      "Node number 11: 85 observations,    complexity param=0.01666667\n",
      "  predicted class=1  expected loss=0.3882353  P(node) =0.2146465\n",
      "    class counts:    33    52\n",
      "   probabilities: 0.388 0.612 \n",
      "  left son=22 (29 obs) right son=23 (56 obs)\n",
      "  Primary splits:\n",
      "      Circuit    splits as  LRLRLLRRRRRLL, improve=2.35307200, (0 missing)\n",
      "      Issue      splits as  LRLLLRLLLRL, improve=1.59576900, (0 missing)\n",
      "      Respondent splits as  RRR-R-R-L---, improve=0.93499900, (0 missing)\n",
      "      Petitioner splits as  -L-----RR-RL, improve=0.09451121, (0 missing)\n",
      "  Surrogate splits:\n",
      "      Issue      splits as  RRRLRRRRRRL,  agree=0.706, adj=0.138, (0 split)\n",
      "      Petitioner splits as  -R-----LR-RL, agree=0.682, adj=0.069, (0 split)\n",
      "\n",
      "Node number 12: 120 observations,    complexity param=0.02407407\n",
      "  predicted class=1  expected loss=0.475  P(node) =0.3030303\n",
      "    class counts:    57    63\n",
      "   probabilities: 0.475 0.525 \n",
      "  left son=24 (25 obs) right son=25 (95 obs)\n",
      "  Primary splits:\n",
      "      Issue      splits as  RRRLRLLLRRL, improve=5.1300000, (0 missing)\n",
      "      Respondent splits as  -RLLR-L-L--L, improve=1.5034090, (0 missing)\n",
      "      Petitioner splits as  LLLRRLLLRRLL, improve=1.2016480, (0 missing)\n",
      "      Circuit    splits as  LR--L--RLRRRL, improve=1.2000000, (0 missing)\n",
      "      Unconst    < 0.5 to the right, improve=0.1467607, (0 missing)\n",
      "  Surrogate splits:\n",
      "      Respondent splits as  -RLRR-L-R--R, agree=0.850, adj=0.28, (0 split)\n",
      "      Petitioner splits as  RRLRRLRRRRRR, agree=0.808, adj=0.08, (0 split)\n",
      "\n",
      "Node number 13: 38 observations\n",
      "  predicted class=1  expected loss=0.1842105  P(node) =0.0959596\n",
      "    class counts:     7    31\n",
      "   probabilities: 0.184 0.816 \n",
      "\n",
      "Node number 22: 29 observations\n",
      "  predicted class=0  expected loss=0.4482759  P(node) =0.07323232\n",
      "    class counts:    16    13\n",
      "   probabilities: 0.552 0.448 \n",
      "\n",
      "Node number 23: 56 observations\n",
      "  predicted class=1  expected loss=0.3035714  P(node) =0.1414141\n",
      "    class counts:    17    39\n",
      "   probabilities: 0.304 0.696 \n",
      "\n",
      "Node number 24: 25 observations\n",
      "  predicted class=0  expected loss=0.24  P(node) =0.06313131\n",
      "    class counts:    19     6\n",
      "   probabilities: 0.760 0.240 \n",
      "\n",
      "Node number 25: 95 observations\n",
      "  predicted class=1  expected loss=0.4  P(node) =0.239899\n",
      "    class counts:    38    57\n",
      "   probabilities: 0.400 0.600 \n",
      "\n"
     ]
    }
   ],
   "source": [
    "summary(StevensTree)"
   ]
  },
  {
   "cell_type": "code",
   "execution_count": 99,
   "metadata": {
    "collapsed": false
   },
   "outputs": [],
   "source": [
    "library(rpart.plot)"
   ]
  },
  {
   "cell_type": "code",
   "execution_count": 100,
   "metadata": {
    "collapsed": false
   },
   "outputs": [
    {
     "data": {
      "image/png": "[encoded data removed]",
      "image/svg+xml": [
       "<?xml version=\"1.0\" encoding=\"UTF-8\"?>\n",
       "<svg xmlns=\"http://www.w3.org/2000/svg\" xmlns:xlink=\"http://www.w3.org/1999/xlink\" width=\"504pt\" height=\"504pt\" viewBox=\"0 0 504 504\" version=\"1.1\">\n",
       "<defs>\n",
       "<g>\n",
       "<symbol overflow=\"visible\" id=\"glyph0-0\">\n",
       "<path style=\"stroke:none;\" d=\"\"/>\n",
       "</symbol>\n",
       "<symbol overflow=\"visible\" id=\"glyph0-1\">\n",
       "<path style=\"stroke:none;\" d=\"M 2.609375 -8.296875 L 0.90625 -8.296875 L 0.90625 0 L 6.59375 0 L 6.59375 -1.421875 L 2.609375 -1.421875 Z \"/>\n",
       "</symbol>\n",
       "<symbol overflow=\"visible\" id=\"glyph0-2\">\n",
       "<path style=\"stroke:none;\" d=\"M 3.421875 -6.25 C 1.546875 -6.25 0.390625 -5 0.390625 -2.984375 C 0.390625 -0.96875 1.546875 0.265625 3.4375 0.265625 C 5.296875 0.265625 6.46875 -0.984375 6.46875 -2.953125 C 6.46875 -5.03125 5.34375 -6.25 3.421875 -6.25 Z M 3.4375 -4.953125 C 4.3125 -4.953125 4.875 -4.171875 4.875 -2.96875 C 4.875 -1.8125 4.28125 -1.03125 3.4375 -1.03125 C 2.578125 -1.03125 1.984375 -1.8125 1.984375 -2.984375 C 1.984375 -4.15625 2.578125 -4.953125 3.4375 -4.953125 Z \"/>\n",
       "</symbol>\n",
       "<symbol overflow=\"visible\" id=\"glyph0-3\">\n",
       "<path style=\"stroke:none;\" d=\"M 6.96875 0 L 8.71875 -6.140625 L 7.0625 -6.140625 L 6.125 -1.84375 L 5.203125 -6.140625 L 3.625 -6.140625 L 2.6875 -1.84375 L 1.703125 -6.140625 L 0.0625 -6.140625 L 1.78125 0 L 3.421875 0 L 4.40625 -4.328125 L 5.328125 0 Z \"/>\n",
       "</symbol>\n",
       "<symbol overflow=\"visible\" id=\"glyph0-4\">\n",
       "<path style=\"stroke:none;\" d=\"M 5.953125 -2.578125 C 5.96875 -2.703125 5.96875 -2.765625 5.96875 -2.84375 C 5.96875 -3.453125 5.875 -4.03125 5.734375 -4.453125 C 5.328125 -5.578125 4.328125 -6.25 3.09375 -6.25 C 1.328125 -6.25 0.25 -4.96875 0.25 -2.90625 C 0.25 -0.9375 1.3125 0.265625 3.0625 0.265625 C 4.4375 0.265625 5.546875 -0.515625 5.90625 -1.734375 L 4.328125 -1.734375 C 4.140625 -1.234375 3.703125 -0.953125 3.109375 -0.953125 C 2.65625 -0.953125 2.296875 -1.15625 2.0625 -1.484375 C 1.921875 -1.71875 1.859375 -1.984375 1.84375 -2.578125 Z M 1.859375 -3.625 C 1.96875 -4.5625 2.359375 -5.03125 3.078125 -5.03125 C 3.46875 -5.03125 3.828125 -4.828125 4.0625 -4.515625 C 4.203125 -4.28125 4.28125 -4.046875 4.3125 -3.625 Z \"/>\n",
       "</symbol>\n",
       "<symbol overflow=\"visible\" id=\"glyph0-5\">\n",
       "<path style=\"stroke:none;\" d=\"M 0.71875 -6.140625 L 0.71875 0 L 2.3125 0 L 2.3125 -3.265625 C 2.3125 -4.203125 2.78125 -4.65625 3.703125 -4.65625 C 3.875 -4.65625 4 -4.65625 4.203125 -4.625 L 4.203125 -6.234375 C 4.125 -6.25 4.0625 -6.25 4.015625 -6.25 C 3.28125 -6.25 2.65625 -5.765625 2.3125 -4.9375 L 2.3125 -6.140625 Z \"/>\n",
       "</symbol>\n",
       "<symbol overflow=\"visible\" id=\"glyph0-6\">\n",
       "<path style=\"stroke:none;\" d=\"M 7.75 -5.484375 C 7.703125 -6.203125 7.546875 -6.65625 7.203125 -7.125 C 6.5625 -7.96875 5.546875 -8.421875 4.296875 -8.421875 C 1.953125 -8.421875 0.5 -6.75 0.5 -4.078125 C 0.5 -1.40625 1.9375 0.265625 4.25 0.265625 C 6.3125 0.265625 7.6875 -0.9375 7.796875 -2.828125 L 6.125 -2.828125 C 6.03125 -1.78125 5.359375 -1.171875 4.296875 -1.171875 C 2.984375 -1.171875 2.203125 -2.234375 2.203125 -4.046875 C 2.203125 -5.875 3.015625 -6.96875 4.359375 -6.96875 C 4.953125 -6.96875 5.4375 -6.765625 5.75 -6.375 C 5.9375 -6.140625 6.03125 -5.921875 6.125 -5.484375 Z \"/>\n",
       "</symbol>\n",
       "<symbol overflow=\"visible\" id=\"glyph0-7\">\n",
       "<path style=\"stroke:none;\" d=\"M 6.15625 0 L 6.15625 -6.140625 L 4.5625 -6.140625 L 4.5625 -2.296875 C 4.5625 -1.5625 4.046875 -1.09375 3.28125 -1.09375 C 2.59375 -1.09375 2.25 -1.453125 2.25 -2.203125 L 2.25 -6.140625 L 0.65625 -6.140625 L 0.65625 -1.859375 C 0.65625 -0.515625 1.40625 0.265625 2.71875 0.265625 C 3.546875 0.265625 4.109375 -0.046875 4.5625 -0.734375 L 4.5625 0 Z \"/>\n",
       "</symbol>\n",
       "<symbol overflow=\"visible\" id=\"glyph0-8\">\n",
       "<path style=\"stroke:none;\" d=\"\"/>\n",
       "</symbol>\n",
       "<symbol overflow=\"visible\" id=\"glyph0-9\">\n",
       "<path style=\"stroke:none;\" d=\"M 6.078125 -4.671875 L 0.5625 -4.671875 L 0.5625 -3.328125 L 6.078125 -3.328125 Z M 6.078125 -1.9375 L 0.5625 -1.9375 L 0.5625 -0.59375 L 6.078125 -0.59375 Z \"/>\n",
       "</symbol>\n",
       "<symbol overflow=\"visible\" id=\"glyph0-10\">\n",
       "<path style=\"stroke:none;\" d=\"M 2.359375 -8.296875 L 0.765625 -8.296875 L 0.765625 0 L 2.359375 0 Z \"/>\n",
       "</symbol>\n",
       "<symbol overflow=\"visible\" id=\"glyph0-11\">\n",
       "<path style=\"stroke:none;\" d=\"M 0.671875 -8.296875 L 0.671875 0 L 2.265625 0 L 2.265625 -0.625 C 2.65625 -0.015625 3.1875 0.265625 3.953125 0.265625 C 5.421875 0.265625 6.546875 -1.140625 6.546875 -2.984375 C 6.546875 -3.828125 6.296875 -4.65625 5.875 -5.25 C 5.453125 -5.859375 4.703125 -6.25 3.953125 -6.25 C 3.203125 -6.25 2.65625 -5.953125 2.265625 -5.34375 L 2.265625 -8.296875 Z M 3.609375 -4.90625 C 4.390625 -4.90625 4.953125 -4.125 4.953125 -2.984375 C 4.953125 -1.859375 4.390625 -1.0625 3.609375 -1.0625 C 2.796875 -1.0625 2.265625 -1.84375 2.265625 -3.015625 C 2.265625 -4.125 2.8125 -4.90625 3.609375 -4.90625 Z \"/>\n",
       "</symbol>\n",
       "<symbol overflow=\"visible\" id=\"glyph0-12\">\n",
       "<path style=\"stroke:none;\" d=\"M 2.609375 -3.28125 L 4.578125 -3.28125 C 5.3125 -3.28125 5.625 -2.984375 5.625 -2.296875 C 5.625 -2.234375 5.625 -2.109375 5.625 -1.96875 C 5.609375 -1.75 5.609375 -1.546875 5.609375 -1.421875 C 5.609375 -0.640625 5.65625 -0.390625 5.875 0 L 7.703125 0 L 7.703125 -0.3125 C 7.4375 -0.453125 7.34375 -0.625 7.34375 -0.984375 C 7.296875 -3.4375 7.25 -3.546875 6.1875 -4 C 7.125 -4.375 7.59375 -5.046875 7.59375 -6.046875 C 7.59375 -6.71875 7.359375 -7.3125 6.96875 -7.71875 C 6.59375 -8.109375 6.0625 -8.296875 5.359375 -8.296875 L 0.90625 -8.296875 L 0.90625 0 L 2.609375 0 Z M 2.609375 -4.703125 L 2.609375 -6.875 L 4.671875 -6.875 C 5.171875 -6.875 5.375 -6.828125 5.578125 -6.65625 C 5.78125 -6.484375 5.875 -6.203125 5.875 -5.8125 C 5.875 -5.421875 5.765625 -5.09375 5.578125 -4.921875 C 5.390625 -4.765625 5.171875 -4.703125 4.671875 -4.703125 Z \"/>\n",
       "</symbol>\n",
       "<symbol overflow=\"visible\" id=\"glyph0-13\">\n",
       "<path style=\"stroke:none;\" d=\"M 5.75 -4.15625 C 5.71875 -5.453125 4.71875 -6.25 3.078125 -6.25 C 1.515625 -6.25 0.546875 -5.453125 0.546875 -4.203125 C 0.546875 -3.78125 0.671875 -3.4375 0.890625 -3.203125 C 1.109375 -2.984375 1.296875 -2.875 1.890625 -2.6875 L 3.78125 -2.09375 C 4.1875 -1.96875 4.328125 -1.84375 4.328125 -1.59375 C 4.328125 -1.21875 3.875 -0.984375 3.140625 -0.984375 C 2.734375 -0.984375 2.40625 -1.0625 2.203125 -1.203125 C 2.03125 -1.328125 1.953125 -1.453125 1.890625 -1.78125 L 0.328125 -1.78125 C 0.375 -0.4375 1.359375 0.265625 3.234375 0.265625 C 4.078125 0.265625 4.734375 0.078125 5.1875 -0.28125 C 5.640625 -0.640625 5.921875 -1.21875 5.921875 -1.8125 C 5.921875 -2.609375 5.515625 -3.125 4.703125 -3.359375 L 2.703125 -3.953125 C 2.25 -4.078125 2.140625 -4.171875 2.140625 -4.421875 C 2.140625 -4.765625 2.5 -5 3.0625 -5 C 3.828125 -5 4.203125 -4.71875 4.203125 -4.15625 Z \"/>\n",
       "</symbol>\n",
       "<symbol overflow=\"visible\" id=\"glyph0-14\">\n",
       "<path style=\"stroke:none;\" d=\"M 2.25 -6.140625 L 0.65625 -6.140625 L 0.65625 2.484375 L 2.25 2.484375 L 2.25 -0.734375 C 2.640625 -0.046875 3.1875 0.265625 3.953125 0.265625 C 5.4375 0.265625 6.53125 -1.109375 6.53125 -2.984375 C 6.53125 -3.84375 6.28125 -4.703125 5.875 -5.28125 C 5.453125 -5.859375 4.703125 -6.25 3.953125 -6.25 C 3.1875 -6.25 2.640625 -5.921875 2.25 -5.234375 Z M 3.59375 -4.90625 C 4.40625 -4.90625 4.9375 -4.125 4.9375 -2.953125 C 4.9375 -1.84375 4.375 -1.0625 3.59375 -1.0625 C 2.796875 -1.0625 2.25 -1.828125 2.25 -2.984375 C 2.25 -4.125 2.796875 -4.90625 3.59375 -4.90625 Z \"/>\n",
       "</symbol>\n",
       "<symbol overflow=\"visible\" id=\"glyph0-15\">\n",
       "<path style=\"stroke:none;\" d=\"M 0.71875 -6.140625 L 0.71875 0 L 2.3125 0 L 2.3125 -3.6875 C 2.3125 -4.40625 2.828125 -4.890625 3.59375 -4.890625 C 4.28125 -4.890625 4.625 -4.515625 4.625 -3.78125 L 4.625 0 L 6.203125 0 L 6.203125 -4.125 C 6.203125 -5.46875 5.453125 -6.25 4.15625 -6.25 C 3.328125 -6.25 2.765625 -5.9375 2.3125 -5.25 L 2.3125 -6.140625 Z \"/>\n",
       "</symbol>\n",
       "<symbol overflow=\"visible\" id=\"glyph0-16\">\n",
       "<path style=\"stroke:none;\" d=\"M 4.609375 0 L 6.203125 0 L 6.203125 -8.296875 L 4.609375 -8.296875 L 4.609375 -5.34375 C 4.203125 -5.953125 3.671875 -6.25 2.90625 -6.25 C 1.4375 -6.25 0.328125 -4.828125 0.328125 -2.984375 C 0.328125 -2.15625 0.578125 -1.3125 0.984375 -0.71875 C 1.40625 -0.125 2.15625 0.265625 2.90625 0.265625 C 3.671875 0.265625 4.203125 -0.015625 4.609375 -0.625 Z M 3.265625 -4.90625 C 4.078125 -4.90625 4.609375 -4.125 4.609375 -2.953125 C 4.609375 -1.84375 4.0625 -1.0625 3.265625 -1.0625 C 2.46875 -1.0625 1.921875 -1.859375 1.921875 -2.984375 C 1.921875 -4.125 2.46875 -4.90625 3.265625 -4.90625 Z \"/>\n",
       "</symbol>\n",
       "<symbol overflow=\"visible\" id=\"glyph0-17\">\n",
       "<path style=\"stroke:none;\" d=\"M 2.421875 -8.296875 L 0.71875 -8.296875 L 0.71875 0 L 2.421875 0 Z \"/>\n",
       "</symbol>\n",
       "<symbol overflow=\"visible\" id=\"glyph0-18\">\n",
       "<path style=\"stroke:none;\" d=\"M 0.734375 -1.65625 L 0.734375 0 L 1.703125 0 L 1.703125 0.03125 C 1.703125 0.8125 1.40625 1.203125 0.734375 1.34375 L 0.734375 1.984375 C 1.1875 1.921875 1.515625 1.796875 1.8125 1.5625 C 2.28125 1.203125 2.4375 0.78125 2.4375 -0.109375 L 2.4375 -1.65625 Z \"/>\n",
       "</symbol>\n",
       "<symbol overflow=\"visible\" id=\"glyph0-19\">\n",
       "<path style=\"stroke:none;\" d=\"M 5.8125 0 L 7.515625 0 L 7.515625 -8.296875 L 5.8125 -8.296875 L 5.8125 -2.65625 L 2.53125 -8.296875 L 0.78125 -8.296875 L 0.78125 0 L 2.484375 0 L 2.484375 -5.734375 Z \"/>\n",
       "</symbol>\n",
       "<symbol overflow=\"visible\" id=\"glyph0-20\">\n",
       "<path style=\"stroke:none;\" d=\"M 3.828125 -8.296875 L 3.828125 -2.15625 C 3.828125 -1.53125 3.484375 -1.1875 2.90625 -1.1875 C 2.25 -1.1875 1.984375 -1.515625 1.984375 -2.28125 L 1.984375 -3.078125 L 0.265625 -3.078125 L 0.265625 -2.25 C 0.265625 -1.390625 0.484375 -0.859375 0.96875 -0.390625 C 1.4375 0.03125 2.078125 0.265625 2.859375 0.265625 C 4.5625 0.265625 5.53125 -0.609375 5.53125 -2.15625 L 5.53125 -8.296875 Z \"/>\n",
       "</symbol>\n",
       "<symbol overflow=\"visible\" id=\"glyph0-21\">\n",
       "<path style=\"stroke:none;\" d=\"M 2.578125 -2.953125 L 4.703125 -2.953125 C 6.21875 -2.953125 7.203125 -4.03125 7.203125 -5.71875 C 7.203125 -7.375 6.25 -8.296875 4.53125 -8.296875 L 0.859375 -8.296875 L 0.859375 0 L 2.578125 0 Z M 2.578125 -4.375 L 2.578125 -6.875 L 4.15625 -6.875 C 5.078125 -6.875 5.5 -6.46875 5.5 -5.625 C 5.5 -4.78125 5.078125 -4.375 4.15625 -4.375 Z \"/>\n",
       "</symbol>\n",
       "<symbol overflow=\"visible\" id=\"glyph0-22\">\n",
       "<path style=\"stroke:none;\" d=\"M 4.4375 -8.421875 C 3.28125 -8.421875 2.328125 -8.046875 1.609375 -7.28125 C 0.875 -6.484375 0.453125 -5.328125 0.453125 -4.078125 C 0.453125 -2.84375 0.875 -1.671875 1.609375 -0.890625 C 2.328125 -0.109375 3.265625 0.265625 4.453125 0.265625 C 5.625 0.265625 6.5625 -0.109375 7.28125 -0.890625 C 8 -1.65625 8.4375 -2.859375 8.4375 -4.03125 C 8.4375 -5.328125 8.015625 -6.484375 7.28125 -7.28125 C 6.546875 -8.0625 5.625 -8.421875 4.4375 -8.421875 Z M 4.453125 -6.96875 C 5.84375 -6.96875 6.734375 -5.828125 6.734375 -4.03125 C 6.734375 -2.34375 5.8125 -1.1875 4.453125 -1.1875 C 3.078125 -1.1875 2.15625 -2.34375 2.15625 -4.078125 C 2.15625 -5.828125 3.078125 -6.96875 4.453125 -6.96875 Z \"/>\n",
       "</symbol>\n",
       "<symbol overflow=\"visible\" id=\"glyph0-23\">\n",
       "<path style=\"stroke:none;\" d=\"M 6.90625 -5.765625 C 6.90625 -6.53125 6.734375 -7.03125 6.328125 -7.484375 C 5.765625 -8.09375 4.84375 -8.421875 3.65625 -8.421875 C 1.65625 -8.421875 0.515625 -7.5 0.515625 -5.875 C 0.515625 -4.59375 1.15625 -3.96875 2.84375 -3.65625 L 4 -3.421875 C 5.140625 -3.203125 5.5625 -2.890625 5.5625 -2.21875 C 5.5625 -1.53125 4.921875 -1.109375 3.890625 -1.109375 C 2.734375 -1.109375 2.078125 -1.59375 2.03125 -2.484375 L 0.359375 -2.484375 C 0.46875 -0.703125 1.6875 0.265625 3.796875 0.265625 C 5.9375 0.265625 7.203125 -0.734375 7.203125 -2.421875 C 7.203125 -3.734375 6.546875 -4.40625 5 -4.703125 L 3.703125 -4.953125 C 2.484375 -5.203125 2.140625 -5.4375 2.140625 -6.046875 C 2.140625 -6.671875 2.703125 -7.0625 3.578125 -7.0625 C 4.65625 -7.0625 5.25 -6.609375 5.3125 -5.765625 Z \"/>\n",
       "</symbol>\n",
       "<symbol overflow=\"visible\" id=\"glyph0-24\">\n",
       "<path style=\"stroke:none;\" d=\"M 4.375 -6.875 L 6.796875 -6.875 L 6.796875 -8.296875 L 0.15625 -8.296875 L 0.15625 -6.875 L 2.671875 -6.875 L 2.671875 0 L 4.375 0 Z \"/>\n",
       "</symbol>\n",
       "<symbol overflow=\"visible\" id=\"glyph0-25\">\n",
       "<path style=\"stroke:none;\" d=\"M 5.703125 -1.671875 L 6.25 0 L 8 0 L 5.125 -8.296875 L 3.234375 -8.296875 L 0.296875 0 L 2.03125 0 L 2.59375 -1.671875 Z M 5.234375 -3.09375 L 3.078125 -3.09375 L 4.15625 -6.328125 Z \"/>\n",
       "</symbol>\n",
       "<symbol overflow=\"visible\" id=\"glyph0-26\">\n",
       "<path style=\"stroke:none;\" d=\"M 5.734375 -8.296875 L 5.734375 -2.671875 C 5.734375 -1.671875 5.21875 -1.1875 4.15625 -1.1875 C 3.078125 -1.1875 2.578125 -1.671875 2.578125 -2.671875 L 2.578125 -8.296875 L 0.859375 -8.296875 L 0.859375 -2.671875 C 0.859375 -1.734375 1.109375 -1.078125 1.671875 -0.578125 C 2.28125 -0.03125 3.15625 0.265625 4.15625 0.265625 C 5.15625 0.265625 6.03125 -0.03125 6.625 -0.578125 C 7.1875 -1.078125 7.4375 -1.734375 7.4375 -2.671875 L 7.4375 -8.296875 Z \"/>\n",
       "</symbol>\n",
       "<symbol overflow=\"visible\" id=\"glyph0-27\">\n",
       "<path style=\"stroke:none;\" d=\"M 3.421875 -6.015625 L 2.53125 -6.015625 L 2.53125 -7.671875 L 0.9375 -7.671875 L 0.9375 -6.015625 L 0.15625 -6.015625 L 0.15625 -4.953125 L 0.9375 -4.953125 L 0.9375 -1.1875 C 0.9375 -0.21875 1.453125 0.265625 2.5 0.265625 C 2.859375 0.265625 3.140625 0.234375 3.421875 0.140625 L 3.421875 -0.984375 C 3.265625 -0.953125 3.171875 -0.9375 3.0625 -0.9375 C 2.640625 -0.9375 2.53125 -1.0625 2.53125 -1.609375 L 2.53125 -4.953125 L 3.421875 -4.953125 Z \"/>\n",
       "</symbol>\n",
       "<symbol overflow=\"visible\" id=\"glyph0-28\">\n",
       "<path style=\"stroke:none;\" d=\"M 2.359375 -6.140625 L 0.765625 -6.140625 L 0.765625 0 L 2.359375 0 Z M 2.359375 -8.296875 L 0.765625 -8.296875 L 0.765625 -6.875 L 2.359375 -6.875 Z \"/>\n",
       "</symbol>\n",
       "<symbol overflow=\"visible\" id=\"glyph0-29\">\n",
       "<path style=\"stroke:none;\" d=\"M 2.609375 -3.578125 L 6.578125 -3.578125 L 6.578125 -5 L 2.609375 -5 L 2.609375 -6.875 L 6.890625 -6.875 L 6.890625 -8.296875 L 0.90625 -8.296875 L 0.90625 0 L 7.09375 0 L 7.09375 -1.421875 L 2.609375 -1.421875 Z \"/>\n",
       "</symbol>\n",
       "<symbol overflow=\"visible\" id=\"glyph0-30\">\n",
       "<path style=\"stroke:none;\" d=\"M 2.453125 -6.46875 L 3.953125 0 L 5.65625 0 L 7.125 -6.46875 L 7.125 0 L 8.828125 0 L 8.828125 -8.296875 L 6.25 -8.296875 L 4.796875 -1.6875 L 3.296875 -8.296875 L 0.75 -8.296875 L 0.75 0 L 2.453125 0 Z \"/>\n",
       "</symbol>\n",
       "<symbol overflow=\"visible\" id=\"glyph0-31\">\n",
       "<path style=\"stroke:none;\" d=\"M 4.765625 -3.078125 L 7.390625 -8.296875 L 5.484375 -8.296875 L 3.90625 -4.625 L 2.203125 -8.296875 L 0.3125 -8.296875 L 3.0625 -3.078125 L 3.0625 0 L 4.765625 0 Z \"/>\n",
       "</symbol>\n",
       "<symbol overflow=\"visible\" id=\"glyph0-32\">\n",
       "<path style=\"stroke:none;\" d=\"M 8.09375 -4.453125 L 4.765625 -4.453125 L 4.765625 -3.03125 L 6.65625 -3.03125 C 6.609375 -2.578125 6.5 -2.28125 6.25 -1.984375 C 5.828125 -1.484375 5.203125 -1.1875 4.546875 -1.1875 C 3.171875 -1.1875 2.1875 -2.40625 2.1875 -4.109375 C 2.1875 -5.890625 3.0625 -6.96875 4.5 -6.96875 C 5.09375 -6.96875 5.59375 -6.796875 5.96875 -6.46875 C 6.203125 -6.265625 6.328125 -6.078125 6.484375 -5.640625 L 8.09375 -5.640625 C 7.890625 -7.34375 6.5 -8.421875 4.5 -8.421875 C 2.109375 -8.421875 0.484375 -6.671875 0.484375 -4.078125 C 0.484375 -1.5625 2.109375 0.265625 4.359375 0.265625 C 5.46875 0.265625 6.21875 -0.140625 6.859375 -1.0625 L 7.0625 0.015625 L 8.09375 0.015625 Z \"/>\n",
       "</symbol>\n",
       "<symbol overflow=\"visible\" id=\"glyph0-33\">\n",
       "<path style=\"stroke:none;\" d=\"M 4.515625 0 L 7.359375 -8.296875 L 5.640625 -8.296875 L 3.828125 -2.046875 L 1.984375 -8.296875 L 0.265625 -8.296875 L 3.078125 0 Z \"/>\n",
       "</symbol>\n",
       "<symbol overflow=\"visible\" id=\"glyph0-34\">\n",
       "<path style=\"stroke:none;\" d=\"M 5.9375 -3.84375 C 5.828125 -5.34375 4.828125 -6.25 3.28125 -6.25 C 1.453125 -6.25 0.390625 -5.046875 0.390625 -2.953125 C 0.390625 -0.921875 1.4375 0.265625 3.265625 0.265625 C 4.75 0.265625 5.796875 -0.65625 5.9375 -2.125 L 4.40625 -2.125 C 4.203125 -1.328125 3.890625 -1.03125 3.28125 -1.03125 C 2.46875 -1.03125 1.984375 -1.75 1.984375 -2.953125 C 1.984375 -3.53125 2.09375 -4.078125 2.28125 -4.4375 C 2.46875 -4.78125 2.828125 -4.953125 3.28125 -4.953125 C 3.921875 -4.953125 4.234375 -4.65625 4.40625 -3.84375 Z \"/>\n",
       "</symbol>\n",
       "<symbol overflow=\"visible\" id=\"glyph0-35\">\n",
       "<path style=\"stroke:none;\" d=\"M 2.703125 -5.5625 L 2.703125 0 L 4.296875 0 L 4.296875 -8.0625 L 3.234375 -8.0625 C 2.984375 -7.109375 2.15625 -6.625 0.78125 -6.625 L 0.78125 -5.5625 Z \"/>\n",
       "</symbol>\n",
       "<symbol overflow=\"visible\" id=\"glyph0-36\">\n",
       "<path style=\"stroke:none;\" d=\"M 3.109375 -8.234375 C 2.234375 -8.234375 1.5 -7.875 1.015625 -7.203125 C 0.546875 -6.578125 0.328125 -5.546875 0.328125 -3.984375 C 0.328125 -2.5625 0.515625 -1.546875 0.90625 -0.9375 C 1.375 -0.171875 2.15625 0.265625 3.109375 0.265625 C 3.984375 0.265625 4.703125 -0.09375 5.203125 -0.78125 C 5.65625 -1.390625 5.875 -2.4375 5.875 -3.9375 C 5.875 -5.421875 5.703125 -6.421875 5.3125 -7.046875 C 4.828125 -7.8125 4.046875 -8.234375 3.109375 -8.234375 Z M 3.109375 -6.953125 C 3.515625 -6.953125 3.84375 -6.71875 4.03125 -6.296875 C 4.203125 -5.953125 4.28125 -5.078125 4.28125 -3.96875 C 4.28125 -3.078125 4.203125 -2.15625 4.078125 -1.84375 C 3.90625 -1.359375 3.5625 -1.109375 3.109375 -1.109375 C 2.6875 -1.109375 2.359375 -1.3125 2.171875 -1.734375 C 2.015625 -2.0625 1.921875 -2.921875 1.921875 -4 C 1.921875 -4.9375 2.015625 -5.859375 2.125 -6.1875 C 2.3125 -6.671875 2.65625 -6.953125 3.109375 -6.953125 Z \"/>\n",
       "</symbol>\n",
       "<symbol overflow=\"visible\" id=\"glyph0-37\">\n",
       "<path style=\"stroke:none;\" d=\"M 2.46875 -3.609375 C 3.03125 -3.609375 3.125 -3.59375 3.40625 -3.53125 C 3.9375 -3.375 4.28125 -2.90625 4.28125 -2.328125 C 4.28125 -1.609375 3.78125 -1.109375 3.078125 -1.109375 C 2.328125 -1.109375 1.921875 -1.53125 1.875 -2.359375 L 0.328125 -2.359375 C 0.34375 -0.75 1.40625 0.265625 3.046875 0.265625 C 4.765625 0.265625 5.875 -0.75 5.875 -2.328125 C 5.875 -3.265625 5.453125 -3.875 4.546875 -4.328125 C 5.296875 -4.78125 5.609375 -5.296875 5.609375 -6.046875 C 5.609375 -7.375 4.609375 -8.234375 3.046875 -8.234375 C 2.125 -8.234375 1.359375 -7.921875 0.90625 -7.328125 C 0.578125 -6.921875 0.4375 -6.375 0.4375 -5.671875 L 0.4375 -5.53125 L 1.90625 -5.53125 C 1.921875 -5.953125 1.953125 -6.171875 2.03125 -6.375 C 2.1875 -6.734375 2.546875 -6.953125 3.015625 -6.953125 C 3.65625 -6.953125 4.015625 -6.5625 4.015625 -5.890625 C 4.015625 -5.078125 3.546875 -4.671875 2.609375 -4.671875 L 2.46875 -4.671875 Z \"/>\n",
       "</symbol>\n",
       "<symbol overflow=\"visible\" id=\"glyph0-38\">\n",
       "<path style=\"stroke:none;\" d=\"M 5.9375 -3.109375 L 5.09375 -3.109375 L 5.09375 -8.0625 L 3.21875 -8.0625 L 0.265625 -3.125 L 0.265625 -1.78125 L 3.5 -1.78125 L 3.5 0 L 5.09375 0 L 5.09375 -1.78125 L 5.9375 -1.78125 Z M 3.5 -3.109375 L 1.40625 -3.109375 L 3.5 -6.546875 Z \"/>\n",
       "</symbol>\n",
       "<symbol overflow=\"visible\" id=\"glyph0-39\">\n",
       "<path style=\"stroke:none;\" d=\"M 0.765625 -8.296875 L 0.765625 0 L 2.359375 0 L 2.359375 -3.6875 C 2.359375 -4.390625 2.859375 -4.890625 3.578125 -4.890625 C 3.921875 -4.890625 4.203125 -4.765625 4.375 -4.515625 C 4.515625 -4.3125 4.5625 -4.15625 4.5625 -3.75 L 4.5625 0 L 6.15625 0 L 6.15625 -4.125 C 6.15625 -4.875 5.953125 -5.421875 5.53125 -5.78125 C 5.171875 -6.078125 4.65625 -6.25 4.15625 -6.25 C 3.359375 -6.25 2.796875 -5.921875 2.359375 -5.25 L 2.359375 -8.296875 Z \"/>\n",
       "</symbol>\n",
       "<symbol overflow=\"visible\" id=\"glyph0-40\">\n",
       "<path style=\"stroke:none;\" d=\"M 0.875 0 L 4.125 0 C 5.375 0 6.171875 -0.296875 6.734375 -0.96875 C 7.390625 -1.734375 7.75 -2.859375 7.75 -4.15625 C 7.75 -5.421875 7.390625 -6.546875 6.734375 -7.34375 C 6.171875 -8.015625 5.390625 -8.296875 4.125 -8.296875 L 0.875 -8.296875 Z M 2.578125 -1.421875 L 2.578125 -6.875 L 4.125 -6.875 C 5.40625 -6.875 6.046875 -5.96875 6.046875 -4.140625 C 6.046875 -2.328125 5.40625 -1.421875 4.125 -1.421875 Z \"/>\n",
       "</symbol>\n",
       "<symbol overflow=\"visible\" id=\"glyph0-41\">\n",
       "<path style=\"stroke:none;\" d=\"M 2.546875 -3.578125 L 6.171875 -3.578125 L 6.171875 -5 L 2.546875 -5 L 2.546875 -6.875 L 6.671875 -6.875 L 6.671875 -8.296875 L 0.84375 -8.296875 L 0.84375 0 L 2.546875 0 Z \"/>\n",
       "</symbol>\n",
       "<symbol overflow=\"visible\" id=\"glyph0-42\">\n",
       "<path style=\"stroke:none;\" d=\"M 0.9375 0 L 4.65625 0 C 5.625 0 6.25 -0.1875 6.75 -0.609375 C 7.25 -1.03125 7.578125 -1.734375 7.578125 -2.390625 C 7.578125 -3.203125 7.125 -3.859375 6.203125 -4.40625 C 7.015625 -4.921875 7.34375 -5.40625 7.34375 -6.109375 C 7.34375 -6.671875 7.046875 -7.28125 6.59375 -7.6875 C 6.09375 -8.109375 5.515625 -8.296875 4.625 -8.296875 L 0.9375 -8.296875 Z M 2.640625 -6.875 L 4.5 -6.875 C 5.28125 -6.875 5.703125 -6.546875 5.703125 -5.921875 C 5.703125 -5.328125 5.28125 -5 4.5 -5 L 2.640625 -5 Z M 2.640625 -3.578125 L 4.671875 -3.578125 C 5.5 -3.578125 5.9375 -3.203125 5.9375 -2.484375 C 5.9375 -1.796875 5.5 -1.421875 4.671875 -1.421875 L 2.640625 -1.421875 Z \"/>\n",
       "</symbol>\n",
       "<symbol overflow=\"visible\" id=\"glyph0-43\">\n",
       "<path style=\"stroke:none;\" d=\"M 5.765625 -3.765625 L 5.765625 0 L 7.46875 0 L 7.46875 -8.296875 L 5.75 -8.296875 L 5.75 -5.1875 L 2.484375 -5.1875 L 2.484375 -8.296875 L 0.78125 -8.296875 L 0.78125 0 L 2.484375 0 L 2.484375 -3.765625 Z \"/>\n",
       "</symbol>\n",
       "<symbol overflow=\"visible\" id=\"glyph0-44\">\n",
       "<path style=\"stroke:none;\" d=\"M 5.765625 -6.234375 C 5.6875 -6.75 5.578125 -7.015625 5.375 -7.3125 C 4.953125 -7.890625 4.21875 -8.234375 3.34375 -8.234375 C 2.34375 -8.234375 1.53125 -7.796875 1.03125 -6.984375 C 0.5625 -6.203125 0.359375 -5.296875 0.359375 -3.828125 C 0.359375 -2.453125 0.53125 -1.578125 0.9375 -0.9375 C 1.40625 -0.1875 2.25 0.265625 3.203125 0.265625 C 4.8125 0.265625 5.90625 -0.9375 5.90625 -2.703125 C 5.90625 -4.25 4.953125 -5.3125 3.5625 -5.3125 C 2.90625 -5.3125 2.453125 -5.125 1.953125 -4.59375 C 1.984375 -5.453125 1.984375 -5.453125 2.0625 -5.796875 C 2.203125 -6.515625 2.65625 -6.953125 3.296875 -6.953125 C 3.8125 -6.953125 4.078125 -6.75 4.28125 -6.234375 Z M 3.171875 -4.0625 C 3.90625 -4.0625 4.390625 -3.484375 4.390625 -2.59375 C 4.390625 -1.734375 3.875 -1.109375 3.15625 -1.109375 C 2.4375 -1.109375 1.9375 -1.703125 1.9375 -2.5625 C 1.9375 -3.453125 2.4375 -4.0625 3.171875 -4.0625 Z \"/>\n",
       "</symbol>\n",
       "<symbol overflow=\"visible\" id=\"glyph0-45\">\n",
       "<path style=\"stroke:none;\" d=\"M 6 -8.0625 L 0.328125 -8.0625 L 0.328125 -6.640625 L 4.34375 -6.640625 C 3.859375 -6.125 2.890625 -4.65625 2.578125 -3.953125 C 2.015625 -2.78125 1.734375 -1.71875 1.515625 0 L 3.109375 0 C 3.265625 -2.546875 4.09375 -4.5 6 -6.8125 Z \"/>\n",
       "</symbol>\n",
       "<symbol overflow=\"visible\" id=\"glyph0-46\">\n",
       "<path style=\"stroke:none;\" d=\"M 4.65625 -4.390625 C 4.921875 -4.53125 5.046875 -4.625 5.171875 -4.734375 C 5.5 -5.046875 5.703125 -5.53125 5.703125 -6.046875 C 5.703125 -7.3125 4.609375 -8.234375 3.109375 -8.234375 C 1.609375 -8.234375 0.515625 -7.3125 0.515625 -6.046875 C 0.515625 -5.265625 0.84375 -4.78125 1.5625 -4.390625 C 0.640625 -3.890625 0.25 -3.28125 0.25 -2.328125 C 0.25 -0.796875 1.421875 0.265625 3.109375 0.265625 C 4.796875 0.265625 5.96875 -0.796875 5.96875 -2.328125 C 5.96875 -3.28125 5.578125 -3.890625 4.65625 -4.390625 Z M 3.125 -6.953125 C 3.828125 -6.953125 4.328125 -6.515625 4.328125 -5.890625 C 4.328125 -5.28125 3.828125 -4.828125 3.125 -4.828125 C 2.421875 -4.828125 1.921875 -5.28125 1.921875 -5.90625 C 1.921875 -6.515625 2.40625 -6.953125 3.125 -6.953125 Z M 3.109375 -3.75 C 3.890625 -3.75 4.375 -3.234375 4.375 -2.390625 C 4.375 -1.609375 3.875 -1.109375 3.109375 -1.109375 C 2.328125 -1.109375 1.84375 -1.609375 1.84375 -2.40625 C 1.84375 -3.234375 2.34375 -3.75 3.109375 -3.75 Z \"/>\n",
       "</symbol>\n",
       "<symbol overflow=\"visible\" id=\"glyph0-47\">\n",
       "<path style=\"stroke:none;\" d=\"M 0.4375 -1.875 C 0.46875 -0.640625 1.515625 0.265625 2.90625 0.265625 C 3.9375 0.265625 4.71875 -0.15625 5.203125 -0.984375 C 5.625 -1.6875 5.875 -2.90625 5.875 -4.203125 C 5.875 -5.375 5.671875 -6.3125 5.3125 -6.921875 C 4.796875 -7.78125 4 -8.234375 3.03125 -8.234375 C 1.421875 -8.234375 0.3125 -7.078125 0.3125 -5.390625 C 0.3125 -3.734375 1.296875 -2.59375 2.734375 -2.59375 C 3.140625 -2.59375 3.53125 -2.703125 3.78125 -2.890625 C 3.921875 -2.984375 4.015625 -3.09375 4.28125 -3.390625 C 4.28125 -1.859375 3.84375 -1.09375 2.953125 -1.09375 C 2.390625 -1.09375 2 -1.40625 1.96875 -1.875 Z M 2.984375 -6.9375 C 3.765625 -6.9375 4.25 -6.328125 4.25 -5.390625 C 4.25 -4.5 3.75 -3.90625 3.015625 -3.90625 C 2.28125 -3.90625 1.828125 -4.5 1.828125 -5.421875 C 1.828125 -6.34375 2.28125 -6.9375 2.984375 -6.9375 Z \"/>\n",
       "</symbol>\n",
       "<symbol overflow=\"visible\" id=\"glyph1-0\">\n",
       "<path style=\"stroke:none;\" d=\"\"/>\n",
       "</symbol>\n",
       "<symbol overflow=\"visible\" id=\"glyph1-1\">\n",
       "<path style=\"stroke:none;\" d=\"M 3.125 -8.0625 C 2.375 -8.0625 1.6875 -7.734375 1.28125 -7.171875 C 0.75 -6.46875 0.484375 -5.390625 0.484375 -3.90625 C 0.484375 -1.1875 1.40625 0.265625 3.125 0.265625 C 4.828125 0.265625 5.765625 -1.1875 5.765625 -3.828125 C 5.765625 -5.40625 5.515625 -6.453125 4.984375 -7.171875 C 4.5625 -7.75 3.890625 -8.0625 3.125 -8.0625 Z M 3.125 -7.171875 C 4.203125 -7.171875 4.75 -6.078125 4.75 -3.921875 C 4.75 -1.640625 4.21875 -0.5625 3.109375 -0.5625 C 2.046875 -0.5625 1.515625 -1.6875 1.515625 -3.890625 C 1.515625 -6.09375 2.046875 -7.171875 3.125 -7.171875 Z \"/>\n",
       "</symbol>\n",
       "<symbol overflow=\"visible\" id=\"glyph1-2\">\n",
       "<path style=\"stroke:none;\" d=\"M 2.953125 -5.75 L 2.953125 0 L 3.953125 0 L 3.953125 -8.0625 L 3.28125 -8.0625 C 2.9375 -6.828125 2.703125 -6.65625 1.15625 -6.46875 L 1.15625 -5.75 Z \"/>\n",
       "</symbol>\n",
       "<symbol overflow=\"visible\" id=\"glyph2-0\">\n",
       "<path style=\"stroke:none;\" d=\"\"/>\n",
       "</symbol>\n",
       "<symbol overflow=\"visible\" id=\"glyph2-1\">\n",
       "<path style=\"stroke:none;\" d=\"M 4.5625 -4.765625 L 2.4375 -1.0625 L 2.015625 -4.765625 L 1.203125 -4.765625 L 1.8125 0.03125 L 1.34375 0.765625 C 1.09375 1.15625 0.953125 1.25 0.625 1.25 C 0.53125 1.25 0.46875 1.234375 0.21875 1.203125 L 0.078125 1.890625 C 0.234375 1.96875 0.34375 1.984375 0.515625 1.984375 C 1.15625 1.984375 1.625 1.671875 2.015625 1 L 5.359375 -4.765625 Z \"/>\n",
       "</symbol>\n",
       "<symbol overflow=\"visible\" id=\"glyph2-2\">\n",
       "<path style=\"stroke:none;\" d=\"M 5.125 -2.125 L 5.140625 -2.28125 C 5.234375 -2.71875 5.28125 -3.09375 5.28125 -3.34375 C 5.28125 -4.21875 4.515625 -4.90625 3.53125 -4.90625 C 2.75 -4.90625 1.984375 -4.53125 1.53125 -3.921875 C 1.09375 -3.34375 0.765625 -2.3125 0.765625 -1.578125 C 0.765625 -1.078125 0.96875 -0.578125 1.328125 -0.25 C 1.640625 0.0625 2.046875 0.203125 2.5625 0.203125 C 3.65625 0.203125 4.59375 -0.46875 4.875 -1.453125 L 4.109375 -1.453125 C 3.78125 -0.8125 3.296875 -0.484375 2.6875 -0.484375 C 1.96875 -0.484375 1.5625 -0.9375 1.5625 -1.703125 C 1.5625 -1.90625 1.578125 -1.984375 1.609375 -2.125 Z M 1.765625 -2.78125 C 2.015625 -3.625 2.6875 -4.203125 3.421875 -4.203125 C 4.0625 -4.203125 4.46875 -3.765625 4.46875 -3.078125 C 4.46875 -2.984375 4.46875 -2.921875 4.453125 -2.78125 Z \"/>\n",
       "</symbol>\n",
       "<symbol overflow=\"visible\" id=\"glyph2-3\">\n",
       "<path style=\"stroke:none;\" d=\"M 4.671875 -3.4375 C 4.71875 -3.625 4.734375 -3.703125 4.734375 -3.828125 C 4.734375 -4.46875 4.125 -4.90625 3.234375 -4.90625 C 2.59375 -4.90625 2.03125 -4.703125 1.671875 -4.359375 C 1.34375 -4.03125 1.125 -3.5625 1.125 -3.140625 C 1.125 -2.578125 1.4375 -2.3125 2.375 -2.078125 L 3.046875 -1.90625 C 3.34375 -1.8125 3.484375 -1.765625 3.5625 -1.671875 C 3.625 -1.578125 3.6875 -1.453125 3.6875 -1.359375 C 3.6875 -1.203125 3.53125 -0.921875 3.390625 -0.796875 C 3.171875 -0.609375 2.78125 -0.484375 2.375 -0.484375 C 1.75 -0.484375 1.40625 -0.734375 1.40625 -1.1875 C 1.40625 -1.25 1.40625 -1.328125 1.421875 -1.421875 L 0.609375 -1.421875 C 0.5625 -1.203125 0.5625 -1.09375 0.5625 -0.953125 C 0.5625 -0.234375 1.1875 0.203125 2.25 0.203125 C 3.59375 0.203125 4.484375 -0.484375 4.484375 -1.578125 C 4.484375 -2.125 4.1875 -2.421875 3.390625 -2.625 L 2.6875 -2.796875 C 2.1875 -2.921875 1.921875 -3.09375 1.921875 -3.34375 C 1.921875 -3.515625 2.03125 -3.75 2.1875 -3.90625 C 2.40625 -4.109375 2.6875 -4.203125 3.078125 -4.203125 C 3.625 -4.203125 3.921875 -3.984375 3.921875 -3.640625 C 3.921875 -3.578125 3.921875 -3.515625 3.90625 -3.4375 Z \"/>\n",
       "</symbol>\n",
       "<symbol overflow=\"visible\" id=\"glyph2-4\">\n",
       "<path style=\"stroke:none;\" d=\"M 1.640625 -4.765625 L 0.640625 0 L 1.40625 0 L 1.953125 -2.625 C 2.171875 -3.625 2.8125 -4.25 3.625 -4.25 C 4.078125 -4.25 4.421875 -3.921875 4.421875 -3.515625 C 4.421875 -3.453125 4.40625 -3.3125 4.359375 -3.171875 L 3.6875 0 L 4.453125 0 L 5.1875 -3.421875 C 5.203125 -3.53125 5.21875 -3.640625 5.21875 -3.765625 C 5.21875 -4.453125 4.734375 -4.90625 3.984375 -4.90625 C 3.296875 -4.90625 2.6875 -4.65625 2.21875 -4.171875 L 2.34375 -4.765625 Z \"/>\n",
       "</symbol>\n",
       "<symbol overflow=\"visible\" id=\"glyph2-5\">\n",
       "<path style=\"stroke:none;\" d=\"M 3.484375 -4.90625 C 2.640625 -4.90625 1.90625 -4.515625 1.4375 -3.84375 C 1.03125 -3.265625 0.734375 -2.265625 0.734375 -1.484375 C 0.734375 -0.484375 1.421875 0.203125 2.453125 0.203125 C 3.3125 0.203125 4.015625 -0.140625 4.515625 -0.84375 C 4.9375 -1.421875 5.234375 -2.40625 5.234375 -3.203125 C 5.234375 -3.6875 5.0625 -4.140625 4.734375 -4.453125 C 4.421875 -4.75 4.015625 -4.90625 3.484375 -4.90625 Z M 3.375 -4.203125 C 4.046875 -4.203125 4.4375 -3.765625 4.4375 -3.03125 C 4.4375 -2.484375 4.28125 -1.90625 4.03125 -1.453125 C 3.6875 -0.8125 3.203125 -0.484375 2.578125 -0.484375 C 1.921875 -0.484375 1.53125 -0.953125 1.53125 -1.671875 C 1.53125 -2.1875 1.6875 -2.796875 1.921875 -3.25 C 2.265625 -3.859375 2.78125 -4.203125 3.375 -4.203125 Z \"/>\n",
       "</symbol>\n",
       "</g>\n",
       "</defs>\n",
       "<g id=\"surface321\">\n",
       "<rect x=\"0\" y=\"0\" width=\"504\" height=\"504\" style=\"fill:rgb(100%,100%,100%);fill-opacity:1;stroke:none;\"/>\n",
       "<path style=\"fill:none;stroke-width:0.710742;stroke-linecap:butt;stroke-linejoin:round;stroke:rgb(0%,0%,0%);stroke-opacity:1;stroke-miterlimit:10;\" d=\"M 102.09375 162.746094 L 208.121094 44.746094 L 234.628906 44.746094 \"/>\n",
       "<path style=\"fill:none;stroke-width:0.710742;stroke-linecap:butt;stroke-linejoin:round;stroke:rgb(0%,0%,0%);stroke-opacity:1;stroke-miterlimit:10;\" d=\"M 67.148438 253.644531 L 95.101562 164.054688 L 102.09375 164.054688 \"/>\n",
       "<path style=\"fill:none;stroke-width:0.710742;stroke-linecap:butt;stroke-linejoin:round;stroke:rgb(0%,0%,0%);stroke-opacity:1;stroke-miterlimit:10;\" d=\"M 137.035156 246.300781 L 109.082031 164.054688 L 102.09375 164.054688 \"/>\n",
       "<path style=\"fill:none;stroke-width:0.710742;stroke-linecap:butt;stroke-linejoin:round;stroke:rgb(0%,0%,0%);stroke-opacity:1;stroke-miterlimit:10;\" d=\"M 102.40625 355.078125 L 130.109375 247.613281 L 137.035156 247.613281 \"/>\n",
       "<path style=\"fill:none;stroke-width:0.710742;stroke-linecap:butt;stroke-linejoin:round;stroke:rgb(0%,0%,0%);stroke-opacity:1;stroke-miterlimit:10;\" d=\"M 171.667969 347.738281 L 143.964844 247.613281 L 137.035156 247.613281 \"/>\n",
       "<path style=\"fill:none;stroke-width:0.710742;stroke-linecap:butt;stroke-linejoin:round;stroke:rgb(0%,0%,0%);stroke-opacity:1;stroke-miterlimit:10;\" d=\"M 140.183594 456.511719 L 165.371094 349.046875 L 171.667969 349.046875 \"/>\n",
       "<path style=\"fill:none;stroke-width:0.710742;stroke-linecap:butt;stroke-linejoin:round;stroke:rgb(0%,0%,0%);stroke-opacity:1;stroke-miterlimit:10;\" d=\"M 203.148438 438.636719 L 177.964844 349.046875 L 171.667969 349.046875 \"/>\n",
       "<path style=\"fill:none;stroke-width:0.710742;stroke-linecap:butt;stroke-linejoin:round;stroke:rgb(0%,0%,0%);stroke-opacity:1;stroke-miterlimit:10;\" d=\"M 367.167969 144.867188 L 261.136719 44.746094 L 234.628906 44.746094 \"/>\n",
       "<path style=\"fill:none;stroke-width:0.710742;stroke-linecap:butt;stroke-linejoin:round;stroke:rgb(0%,0%,0%);stroke-opacity:1;stroke-miterlimit:10;\" d=\"M 332.222656 264.179688 L 360.179688 146.179688 L 367.167969 146.179688 \"/>\n",
       "<path style=\"fill:none;stroke-width:0.710742;stroke-linecap:butt;stroke-linejoin:round;stroke:rgb(0%,0%,0%);stroke-opacity:1;stroke-miterlimit:10;\" d=\"M 297.59375 365.613281 L 325.296875 265.488281 L 332.222656 265.488281 \"/>\n",
       "<path style=\"fill:none;stroke-width:0.710742;stroke-linecap:butt;stroke-linejoin:round;stroke:rgb(0%,0%,0%);stroke-opacity:1;stroke-miterlimit:10;\" d=\"M 266.113281 456.511719 L 291.296875 366.925781 L 297.59375 366.925781 \"/>\n",
       "<path style=\"fill:none;stroke-width:0.710742;stroke-linecap:butt;stroke-linejoin:round;stroke:rgb(0%,0%,0%);stroke-opacity:1;stroke-miterlimit:10;\" d=\"M 329.074219 438.636719 L 303.890625 366.925781 L 297.59375 366.925781 \"/>\n",
       "<path style=\"fill:none;stroke-width:0.710742;stroke-linecap:butt;stroke-linejoin:round;stroke:rgb(0%,0%,0%);stroke-opacity:1;stroke-miterlimit:10;\" d=\"M 366.851562 337.199219 L 339.148438 265.488281 L 332.222656 265.488281 \"/>\n",
       "<path style=\"fill:none;stroke-width:0.710742;stroke-linecap:butt;stroke-linejoin:round;stroke:rgb(0%,0%,0%);stroke-opacity:1;stroke-miterlimit:10;\" d=\"M 402.113281 235.765625 L 374.15625 146.179688 L 367.167969 146.179688 \"/>\n",
       "<path style=\" stroke:none;fill-rule:nonzero;fill:rgb(100%,100%,100%);fill-opacity:1;\" d=\"M 189.941406 48.695312 L 189.941406 32.898438 L 279.316406 32.898438 L 279.316406 48.695312 Z \"/>\n",
       "<path style=\" stroke:none;fill-rule:nonzero;fill:rgb(100%,100%,100%);fill-opacity:1;\" d=\"M 11.167969 168.003906 L 11.167969 152.207031 L 193.019531 152.207031 L 193.019531 168.003906 Z \"/>\n",
       "<path style=\" stroke:none;fill-rule:nonzero;fill:rgb(100%,100%,100%);fill-opacity:1;\" d=\"M 8.386719 251.5625 L 8.386719 235.765625 L 265.6875 235.765625 L 265.6875 251.5625 Z \"/>\n",
       "<path style=\" stroke:none;fill-rule:nonzero;fill:rgb(100%,100%,100%);fill-opacity:1;\" d=\"M 84.328125 352.996094 L 84.328125 337.199219 L 259.007812 337.199219 L 259.007812 352.996094 Z \"/>\n",
       "<path style=\" stroke:none;fill-rule:nonzero;fill:rgb(100%,100%,100%);fill-opacity:1;\" d=\"M 230.609375 150.128906 L 230.609375 134.332031 L 503.726562 134.332031 L 503.726562 150.128906 Z \"/>\n",
       "<path style=\" stroke:none;fill-rule:nonzero;fill:rgb(100%,100%,100%);fill-opacity:1;\" d=\"M 215.546875 269.4375 L 215.546875 253.644531 L 448.898438 253.644531 L 448.898438 269.4375 Z \"/>\n",
       "<path style=\" stroke:none;fill-rule:nonzero;fill:rgb(100%,100%,100%);fill-opacity:1;\" d=\"M 218.886719 370.875 L 218.886719 355.078125 L 376.296875 355.078125 L 376.296875 370.875 Z \"/>\n",
       "<g style=\"fill:rgb(0%,0%,0%);fill-opacity:1;\">\n",
       "  <use xlink:href=\"#glyph0-1\" x=\"192.628906\" y=\"43.928711\"/>\n",
       "  <use xlink:href=\"#glyph0-2\" x=\"199.579102\" y=\"43.928711\"/>\n",
       "  <use xlink:href=\"#glyph0-3\" x=\"206.529297\" y=\"43.928711\"/>\n",
       "  <use xlink:href=\"#glyph0-4\" x=\"215.378906\" y=\"43.928711\"/>\n",
       "  <use xlink:href=\"#glyph0-5\" x=\"221.703125\" y=\"43.928711\"/>\n",
       "  <use xlink:href=\"#glyph0-6\" x=\"226.12793\" y=\"43.928711\"/>\n",
       "  <use xlink:href=\"#glyph0-2\" x=\"234.34082\" y=\"43.928711\"/>\n",
       "  <use xlink:href=\"#glyph0-7\" x=\"241.291016\" y=\"43.928711\"/>\n",
       "  <use xlink:href=\"#glyph0-8\" x=\"248.241211\" y=\"43.928711\"/>\n",
       "  <use xlink:href=\"#glyph0-9\" x=\"251.40332\" y=\"43.928711\"/>\n",
       "  <use xlink:href=\"#glyph0-8\" x=\"258.045898\" y=\"43.928711\"/>\n",
       "  <use xlink:href=\"#glyph0-10\" x=\"261.208008\" y=\"43.928711\"/>\n",
       "  <use xlink:href=\"#glyph0-11\" x=\"264.370117\" y=\"43.928711\"/>\n",
       "  <use xlink:href=\"#glyph0-5\" x=\"271.320312\" y=\"43.928711\"/>\n",
       "</g>\n",
       "<g style=\"fill:rgb(0%,0%,0%);fill-opacity:1;\">\n",
       "  <use xlink:href=\"#glyph0-12\" x=\"12.09375\" y=\"162.237305\"/>\n",
       "  <use xlink:href=\"#glyph0-4\" x=\"20.306641\" y=\"162.237305\"/>\n",
       "  <use xlink:href=\"#glyph0-13\" x=\"26.630859\" y=\"162.237305\"/>\n",
       "  <use xlink:href=\"#glyph0-14\" x=\"32.955078\" y=\"162.237305\"/>\n",
       "  <use xlink:href=\"#glyph0-2\" x=\"39.905273\" y=\"162.237305\"/>\n",
       "  <use xlink:href=\"#glyph0-15\" x=\"46.855469\" y=\"162.237305\"/>\n",
       "  <use xlink:href=\"#glyph0-16\" x=\"53.805664\" y=\"162.237305\"/>\n",
       "  <use xlink:href=\"#glyph0-4\" x=\"60.755859\" y=\"162.237305\"/>\n",
       "  <use xlink:href=\"#glyph0-8\" x=\"67.080078\" y=\"162.237305\"/>\n",
       "  <use xlink:href=\"#glyph0-9\" x=\"70.242188\" y=\"162.237305\"/>\n",
       "  <use xlink:href=\"#glyph0-8\" x=\"76.884766\" y=\"162.237305\"/>\n",
       "  <use xlink:href=\"#glyph0-6\" x=\"80.046875\" y=\"162.237305\"/>\n",
       "  <use xlink:href=\"#glyph0-12\" x=\"88.259766\" y=\"162.237305\"/>\n",
       "  <use xlink:href=\"#glyph0-17\" x=\"96.472656\" y=\"162.237305\"/>\n",
       "  <use xlink:href=\"#glyph0-18\" x=\"99.634766\" y=\"162.237305\"/>\n",
       "  <use xlink:href=\"#glyph0-17\" x=\"102.796875\" y=\"162.237305\"/>\n",
       "  <use xlink:href=\"#glyph0-19\" x=\"105.958984\" y=\"162.237305\"/>\n",
       "  <use xlink:href=\"#glyph0-20\" x=\"114.171875\" y=\"162.237305\"/>\n",
       "  <use xlink:href=\"#glyph0-18\" x=\"120.496094\" y=\"162.237305\"/>\n",
       "  <use xlink:href=\"#glyph0-21\" x=\"123.658203\" y=\"162.237305\"/>\n",
       "  <use xlink:href=\"#glyph0-22\" x=\"131.245117\" y=\"162.237305\"/>\n",
       "  <use xlink:href=\"#glyph0-1\" x=\"140.094727\" y=\"162.237305\"/>\n",
       "  <use xlink:href=\"#glyph0-18\" x=\"147.044922\" y=\"162.237305\"/>\n",
       "  <use xlink:href=\"#glyph0-23\" x=\"150.207031\" y=\"162.237305\"/>\n",
       "  <use xlink:href=\"#glyph0-24\" x=\"157.793945\" y=\"162.237305\"/>\n",
       "  <use xlink:href=\"#glyph0-25\" x=\"164.744141\" y=\"162.237305\"/>\n",
       "  <use xlink:href=\"#glyph0-18\" x=\"172.957031\" y=\"162.237305\"/>\n",
       "  <use xlink:href=\"#glyph0-26\" x=\"176.119141\" y=\"162.237305\"/>\n",
       "  <use xlink:href=\"#glyph0-23\" x=\"184.332031\" y=\"162.237305\"/>\n",
       "</g>\n",
       "<g style=\"fill:rgb(0%,0%,0%);fill-opacity:1;\">\n",
       "  <use xlink:href=\"#glyph0-21\" x=\"6.035156\" y=\"246.295898\"/>\n",
       "  <use xlink:href=\"#glyph0-4\" x=\"13.62207\" y=\"246.295898\"/>\n",
       "  <use xlink:href=\"#glyph0-27\" x=\"19.946289\" y=\"246.295898\"/>\n",
       "  <use xlink:href=\"#glyph0-28\" x=\"23.734375\" y=\"246.295898\"/>\n",
       "  <use xlink:href=\"#glyph0-27\" x=\"26.896484\" y=\"246.295898\"/>\n",
       "  <use xlink:href=\"#glyph0-28\" x=\"30.68457\" y=\"246.295898\"/>\n",
       "  <use xlink:href=\"#glyph0-2\" x=\"33.84668\" y=\"246.295898\"/>\n",
       "  <use xlink:href=\"#glyph0-15\" x=\"40.796875\" y=\"246.295898\"/>\n",
       "  <use xlink:href=\"#glyph0-8\" x=\"47.74707\" y=\"246.295898\"/>\n",
       "  <use xlink:href=\"#glyph0-9\" x=\"50.90918\" y=\"246.295898\"/>\n",
       "  <use xlink:href=\"#glyph0-8\" x=\"57.551758\" y=\"246.295898\"/>\n",
       "  <use xlink:href=\"#glyph0-6\" x=\"60.713867\" y=\"246.295898\"/>\n",
       "  <use xlink:href=\"#glyph0-17\" x=\"68.926758\" y=\"246.295898\"/>\n",
       "  <use xlink:href=\"#glyph0-24\" x=\"72.088867\" y=\"246.295898\"/>\n",
       "  <use xlink:href=\"#glyph0-18\" x=\"79.039062\" y=\"246.295898\"/>\n",
       "  <use xlink:href=\"#glyph0-29\" x=\"82.201172\" y=\"246.295898\"/>\n",
       "  <use xlink:href=\"#glyph0-30\" x=\"89.788086\" y=\"246.295898\"/>\n",
       "  <use xlink:href=\"#glyph0-21\" x=\"99.263672\" y=\"246.295898\"/>\n",
       "  <use xlink:href=\"#glyph0-1\" x=\"106.850586\" y=\"246.295898\"/>\n",
       "  <use xlink:href=\"#glyph0-22\" x=\"113.800781\" y=\"246.295898\"/>\n",
       "  <use xlink:href=\"#glyph0-31\" x=\"122.650391\" y=\"246.295898\"/>\n",
       "  <use xlink:href=\"#glyph0-29\" x=\"130.237305\" y=\"246.295898\"/>\n",
       "  <use xlink:href=\"#glyph0-29\" x=\"137.824219\" y=\"246.295898\"/>\n",
       "  <use xlink:href=\"#glyph0-18\" x=\"145.411133\" y=\"246.295898\"/>\n",
       "  <use xlink:href=\"#glyph0-29\" x=\"148.573242\" y=\"246.295898\"/>\n",
       "  <use xlink:href=\"#glyph0-30\" x=\"156.160156\" y=\"246.295898\"/>\n",
       "  <use xlink:href=\"#glyph0-21\" x=\"165.635742\" y=\"246.295898\"/>\n",
       "  <use xlink:href=\"#glyph0-1\" x=\"173.222656\" y=\"246.295898\"/>\n",
       "  <use xlink:href=\"#glyph0-22\" x=\"180.172852\" y=\"246.295898\"/>\n",
       "  <use xlink:href=\"#glyph0-31\" x=\"189.022461\" y=\"246.295898\"/>\n",
       "  <use xlink:href=\"#glyph0-29\" x=\"196.609375\" y=\"246.295898\"/>\n",
       "  <use xlink:href=\"#glyph0-12\" x=\"204.196289\" y=\"246.295898\"/>\n",
       "  <use xlink:href=\"#glyph0-18\" x=\"212.40918\" y=\"246.295898\"/>\n",
       "  <use xlink:href=\"#glyph0-32\" x=\"215.571289\" y=\"246.295898\"/>\n",
       "  <use xlink:href=\"#glyph0-22\" x=\"224.420898\" y=\"246.295898\"/>\n",
       "  <use xlink:href=\"#glyph0-33\" x=\"233.270508\" y=\"246.295898\"/>\n",
       "  <use xlink:href=\"#glyph0-18\" x=\"240.857422\" y=\"246.295898\"/>\n",
       "  <use xlink:href=\"#glyph0-21\" x=\"244.019531\" y=\"246.295898\"/>\n",
       "  <use xlink:href=\"#glyph0-22\" x=\"251.606445\" y=\"246.295898\"/>\n",
       "  <use xlink:href=\"#glyph0-1\" x=\"260.456055\" y=\"246.295898\"/>\n",
       "</g>\n",
       "<g style=\"fill:rgb(0%,0%,0%);fill-opacity:1;\">\n",
       "  <use xlink:href=\"#glyph0-6\" x=\"85.667969\" y=\"347.729492\"/>\n",
       "  <use xlink:href=\"#glyph0-28\" x=\"93.880859\" y=\"347.729492\"/>\n",
       "  <use xlink:href=\"#glyph0-5\" x=\"97.042969\" y=\"347.729492\"/>\n",
       "  <use xlink:href=\"#glyph0-34\" x=\"101.467773\" y=\"347.729492\"/>\n",
       "  <use xlink:href=\"#glyph0-7\" x=\"107.791992\" y=\"347.729492\"/>\n",
       "  <use xlink:href=\"#glyph0-28\" x=\"114.742188\" y=\"347.729492\"/>\n",
       "  <use xlink:href=\"#glyph0-27\" x=\"117.904297\" y=\"347.729492\"/>\n",
       "  <use xlink:href=\"#glyph0-8\" x=\"121.692383\" y=\"347.729492\"/>\n",
       "  <use xlink:href=\"#glyph0-9\" x=\"124.854492\" y=\"347.729492\"/>\n",
       "  <use xlink:href=\"#glyph0-8\" x=\"131.49707\" y=\"347.729492\"/>\n",
       "  <use xlink:href=\"#glyph0-35\" x=\"134.65918\" y=\"347.729492\"/>\n",
       "  <use xlink:href=\"#glyph0-36\" x=\"140.983398\" y=\"347.729492\"/>\n",
       "  <use xlink:href=\"#glyph0-27\" x=\"147.307617\" y=\"347.729492\"/>\n",
       "  <use xlink:href=\"#glyph0-18\" x=\"151.095703\" y=\"347.729492\"/>\n",
       "  <use xlink:href=\"#glyph0-35\" x=\"154.257812\" y=\"347.729492\"/>\n",
       "  <use xlink:href=\"#glyph0-13\" x=\"160.582031\" y=\"347.729492\"/>\n",
       "  <use xlink:href=\"#glyph0-27\" x=\"166.90625\" y=\"347.729492\"/>\n",
       "  <use xlink:href=\"#glyph0-18\" x=\"170.694336\" y=\"347.729492\"/>\n",
       "  <use xlink:href=\"#glyph0-37\" x=\"173.856445\" y=\"347.729492\"/>\n",
       "  <use xlink:href=\"#glyph0-5\" x=\"180.180664\" y=\"347.729492\"/>\n",
       "  <use xlink:href=\"#glyph0-16\" x=\"184.605469\" y=\"347.729492\"/>\n",
       "  <use xlink:href=\"#glyph0-18\" x=\"191.555664\" y=\"347.729492\"/>\n",
       "  <use xlink:href=\"#glyph0-38\" x=\"194.717773\" y=\"347.729492\"/>\n",
       "  <use xlink:href=\"#glyph0-27\" x=\"201.041992\" y=\"347.729492\"/>\n",
       "  <use xlink:href=\"#glyph0-39\" x=\"204.830078\" y=\"347.729492\"/>\n",
       "  <use xlink:href=\"#glyph0-18\" x=\"211.780273\" y=\"347.729492\"/>\n",
       "  <use xlink:href=\"#glyph0-40\" x=\"214.942383\" y=\"347.729492\"/>\n",
       "  <use xlink:href=\"#glyph0-6\" x=\"223.155273\" y=\"347.729492\"/>\n",
       "  <use xlink:href=\"#glyph0-18\" x=\"231.368164\" y=\"347.729492\"/>\n",
       "  <use xlink:href=\"#glyph0-41\" x=\"234.530273\" y=\"347.729492\"/>\n",
       "  <use xlink:href=\"#glyph0-29\" x=\"241.480469\" y=\"347.729492\"/>\n",
       "  <use xlink:href=\"#glyph0-40\" x=\"249.067383\" y=\"347.729492\"/>\n",
       "</g>\n",
       "<g style=\"fill:rgb(0%,0%,0%);fill-opacity:1;\">\n",
       "  <use xlink:href=\"#glyph0-12\" x=\"228.167969\" y=\"144.362305\"/>\n",
       "  <use xlink:href=\"#glyph0-4\" x=\"236.380859\" y=\"144.362305\"/>\n",
       "  <use xlink:href=\"#glyph0-13\" x=\"242.705078\" y=\"144.362305\"/>\n",
       "  <use xlink:href=\"#glyph0-14\" x=\"249.029297\" y=\"144.362305\"/>\n",
       "  <use xlink:href=\"#glyph0-2\" x=\"255.979492\" y=\"144.362305\"/>\n",
       "  <use xlink:href=\"#glyph0-15\" x=\"262.929688\" y=\"144.362305\"/>\n",
       "  <use xlink:href=\"#glyph0-16\" x=\"269.879883\" y=\"144.362305\"/>\n",
       "  <use xlink:href=\"#glyph0-4\" x=\"276.830078\" y=\"144.362305\"/>\n",
       "  <use xlink:href=\"#glyph0-8\" x=\"283.154297\" y=\"144.362305\"/>\n",
       "  <use xlink:href=\"#glyph0-9\" x=\"286.316406\" y=\"144.362305\"/>\n",
       "  <use xlink:href=\"#glyph0-8\" x=\"292.958984\" y=\"144.362305\"/>\n",
       "  <use xlink:href=\"#glyph0-42\" x=\"296.121094\" y=\"144.362305\"/>\n",
       "  <use xlink:href=\"#glyph0-26\" x=\"304.333984\" y=\"144.362305\"/>\n",
       "  <use xlink:href=\"#glyph0-23\" x=\"312.546875\" y=\"144.362305\"/>\n",
       "  <use xlink:href=\"#glyph0-18\" x=\"320.133789\" y=\"144.362305\"/>\n",
       "  <use xlink:href=\"#glyph0-6\" x=\"323.295898\" y=\"144.362305\"/>\n",
       "  <use xlink:href=\"#glyph0-17\" x=\"331.508789\" y=\"144.362305\"/>\n",
       "  <use xlink:href=\"#glyph0-24\" x=\"334.670898\" y=\"144.362305\"/>\n",
       "  <use xlink:href=\"#glyph0-18\" x=\"341.621094\" y=\"144.362305\"/>\n",
       "  <use xlink:href=\"#glyph0-6\" x=\"344.783203\" y=\"144.362305\"/>\n",
       "  <use xlink:href=\"#glyph0-12\" x=\"352.996094\" y=\"144.362305\"/>\n",
       "  <use xlink:href=\"#glyph0-17\" x=\"361.208984\" y=\"144.362305\"/>\n",
       "  <use xlink:href=\"#glyph0-18\" x=\"364.371094\" y=\"144.362305\"/>\n",
       "  <use xlink:href=\"#glyph0-29\" x=\"367.533203\" y=\"144.362305\"/>\n",
       "  <use xlink:href=\"#glyph0-30\" x=\"375.120117\" y=\"144.362305\"/>\n",
       "  <use xlink:href=\"#glyph0-21\" x=\"384.595703\" y=\"144.362305\"/>\n",
       "  <use xlink:href=\"#glyph0-1\" x=\"392.182617\" y=\"144.362305\"/>\n",
       "  <use xlink:href=\"#glyph0-22\" x=\"399.132812\" y=\"144.362305\"/>\n",
       "  <use xlink:href=\"#glyph0-31\" x=\"407.982422\" y=\"144.362305\"/>\n",
       "  <use xlink:href=\"#glyph0-29\" x=\"415.569336\" y=\"144.362305\"/>\n",
       "  <use xlink:href=\"#glyph0-29\" x=\"423.15625\" y=\"144.362305\"/>\n",
       "  <use xlink:href=\"#glyph0-18\" x=\"430.743164\" y=\"144.362305\"/>\n",
       "  <use xlink:href=\"#glyph0-32\" x=\"433.905273\" y=\"144.362305\"/>\n",
       "  <use xlink:href=\"#glyph0-22\" x=\"442.754883\" y=\"144.362305\"/>\n",
       "  <use xlink:href=\"#glyph0-33\" x=\"451.604492\" y=\"144.362305\"/>\n",
       "  <use xlink:href=\"#glyph0-18\" x=\"459.191406\" y=\"144.362305\"/>\n",
       "  <use xlink:href=\"#glyph0-22\" x=\"462.353516\" y=\"144.362305\"/>\n",
       "  <use xlink:href=\"#glyph0-24\" x=\"471.203125\" y=\"144.362305\"/>\n",
       "  <use xlink:href=\"#glyph0-43\" x=\"478.15332\" y=\"144.362305\"/>\n",
       "  <use xlink:href=\"#glyph0-18\" x=\"486.366211\" y=\"144.362305\"/>\n",
       "  <use xlink:href=\"#glyph0-26\" x=\"489.52832\" y=\"144.362305\"/>\n",
       "  <use xlink:href=\"#glyph0-23\" x=\"497.741211\" y=\"144.362305\"/>\n",
       "</g>\n",
       "<g style=\"fill:rgb(0%,0%,0%);fill-opacity:1;\">\n",
       "  <use xlink:href=\"#glyph0-6\" x=\"215.722656\" y=\"264.174805\"/>\n",
       "  <use xlink:href=\"#glyph0-28\" x=\"223.935547\" y=\"264.174805\"/>\n",
       "  <use xlink:href=\"#glyph0-5\" x=\"227.097656\" y=\"264.174805\"/>\n",
       "  <use xlink:href=\"#glyph0-34\" x=\"231.522461\" y=\"264.174805\"/>\n",
       "  <use xlink:href=\"#glyph0-7\" x=\"237.84668\" y=\"264.174805\"/>\n",
       "  <use xlink:href=\"#glyph0-28\" x=\"244.796875\" y=\"264.174805\"/>\n",
       "  <use xlink:href=\"#glyph0-27\" x=\"247.958984\" y=\"264.174805\"/>\n",
       "  <use xlink:href=\"#glyph0-8\" x=\"251.74707\" y=\"264.174805\"/>\n",
       "  <use xlink:href=\"#glyph0-9\" x=\"254.90918\" y=\"264.174805\"/>\n",
       "  <use xlink:href=\"#glyph0-8\" x=\"261.551758\" y=\"264.174805\"/>\n",
       "  <use xlink:href=\"#glyph0-35\" x=\"264.713867\" y=\"264.174805\"/>\n",
       "  <use xlink:href=\"#glyph0-36\" x=\"271.038086\" y=\"264.174805\"/>\n",
       "  <use xlink:href=\"#glyph0-27\" x=\"277.362305\" y=\"264.174805\"/>\n",
       "  <use xlink:href=\"#glyph0-18\" x=\"281.150391\" y=\"264.174805\"/>\n",
       "  <use xlink:href=\"#glyph0-35\" x=\"284.3125\" y=\"264.174805\"/>\n",
       "  <use xlink:href=\"#glyph0-35\" x=\"290.636719\" y=\"264.174805\"/>\n",
       "  <use xlink:href=\"#glyph0-27\" x=\"296.960938\" y=\"264.174805\"/>\n",
       "  <use xlink:href=\"#glyph0-18\" x=\"300.749023\" y=\"264.174805\"/>\n",
       "  <use xlink:href=\"#glyph0-37\" x=\"303.911133\" y=\"264.174805\"/>\n",
       "  <use xlink:href=\"#glyph0-5\" x=\"310.235352\" y=\"264.174805\"/>\n",
       "  <use xlink:href=\"#glyph0-16\" x=\"314.660156\" y=\"264.174805\"/>\n",
       "  <use xlink:href=\"#glyph0-18\" x=\"321.610352\" y=\"264.174805\"/>\n",
       "  <use xlink:href=\"#glyph0-44\" x=\"324.772461\" y=\"264.174805\"/>\n",
       "  <use xlink:href=\"#glyph0-27\" x=\"331.09668\" y=\"264.174805\"/>\n",
       "  <use xlink:href=\"#glyph0-39\" x=\"334.884766\" y=\"264.174805\"/>\n",
       "  <use xlink:href=\"#glyph0-18\" x=\"341.834961\" y=\"264.174805\"/>\n",
       "  <use xlink:href=\"#glyph0-45\" x=\"344.99707\" y=\"264.174805\"/>\n",
       "  <use xlink:href=\"#glyph0-27\" x=\"351.321289\" y=\"264.174805\"/>\n",
       "  <use xlink:href=\"#glyph0-39\" x=\"355.109375\" y=\"264.174805\"/>\n",
       "  <use xlink:href=\"#glyph0-18\" x=\"362.05957\" y=\"264.174805\"/>\n",
       "  <use xlink:href=\"#glyph0-46\" x=\"365.22168\" y=\"264.174805\"/>\n",
       "  <use xlink:href=\"#glyph0-27\" x=\"371.545898\" y=\"264.174805\"/>\n",
       "  <use xlink:href=\"#glyph0-39\" x=\"375.333984\" y=\"264.174805\"/>\n",
       "  <use xlink:href=\"#glyph0-18\" x=\"382.28418\" y=\"264.174805\"/>\n",
       "  <use xlink:href=\"#glyph0-47\" x=\"385.446289\" y=\"264.174805\"/>\n",
       "  <use xlink:href=\"#glyph0-27\" x=\"391.770508\" y=\"264.174805\"/>\n",
       "  <use xlink:href=\"#glyph0-39\" x=\"395.558594\" y=\"264.174805\"/>\n",
       "  <use xlink:href=\"#glyph0-18\" x=\"402.508789\" y=\"264.174805\"/>\n",
       "  <use xlink:href=\"#glyph0-40\" x=\"405.670898\" y=\"264.174805\"/>\n",
       "  <use xlink:href=\"#glyph0-6\" x=\"413.883789\" y=\"264.174805\"/>\n",
       "  <use xlink:href=\"#glyph0-18\" x=\"422.09668\" y=\"264.174805\"/>\n",
       "  <use xlink:href=\"#glyph0-41\" x=\"425.258789\" y=\"264.174805\"/>\n",
       "  <use xlink:href=\"#glyph0-29\" x=\"432.208984\" y=\"264.174805\"/>\n",
       "  <use xlink:href=\"#glyph0-40\" x=\"439.795898\" y=\"264.174805\"/>\n",
       "</g>\n",
       "<g style=\"fill:rgb(0%,0%,0%);fill-opacity:1;\">\n",
       "  <use xlink:href=\"#glyph0-17\" x=\"219.59375\" y=\"365.608398\"/>\n",
       "  <use xlink:href=\"#glyph0-13\" x=\"222.755859\" y=\"365.608398\"/>\n",
       "  <use xlink:href=\"#glyph0-13\" x=\"229.080078\" y=\"365.608398\"/>\n",
       "  <use xlink:href=\"#glyph0-7\" x=\"235.404297\" y=\"365.608398\"/>\n",
       "  <use xlink:href=\"#glyph0-4\" x=\"242.354492\" y=\"365.608398\"/>\n",
       "  <use xlink:href=\"#glyph0-8\" x=\"248.678711\" y=\"365.608398\"/>\n",
       "  <use xlink:href=\"#glyph0-9\" x=\"251.84082\" y=\"365.608398\"/>\n",
       "  <use xlink:href=\"#glyph0-8\" x=\"258.483398\" y=\"365.608398\"/>\n",
       "  <use xlink:href=\"#glyph0-40\" x=\"261.645508\" y=\"365.608398\"/>\n",
       "  <use xlink:href=\"#glyph0-21\" x=\"269.858398\" y=\"365.608398\"/>\n",
       "  <use xlink:href=\"#glyph0-5\" x=\"277.445312\" y=\"365.608398\"/>\n",
       "  <use xlink:href=\"#glyph0-18\" x=\"281.870117\" y=\"365.608398\"/>\n",
       "  <use xlink:href=\"#glyph0-41\" x=\"285.032227\" y=\"365.608398\"/>\n",
       "  <use xlink:href=\"#glyph0-25\" x=\"291.982422\" y=\"365.608398\"/>\n",
       "  <use xlink:href=\"#glyph0-17\" x=\"300.195312\" y=\"365.608398\"/>\n",
       "  <use xlink:href=\"#glyph0-18\" x=\"303.357422\" y=\"365.608398\"/>\n",
       "  <use xlink:href=\"#glyph0-41\" x=\"306.519531\" y=\"365.608398\"/>\n",
       "  <use xlink:href=\"#glyph0-16\" x=\"313.469727\" y=\"365.608398\"/>\n",
       "  <use xlink:href=\"#glyph0-24\" x=\"320.419922\" y=\"365.608398\"/>\n",
       "  <use xlink:href=\"#glyph0-18\" x=\"327.370117\" y=\"365.608398\"/>\n",
       "  <use xlink:href=\"#glyph0-41\" x=\"330.532227\" y=\"365.608398\"/>\n",
       "  <use xlink:href=\"#glyph0-5\" x=\"337.482422\" y=\"365.608398\"/>\n",
       "  <use xlink:href=\"#glyph0-25\" x=\"341.907227\" y=\"365.608398\"/>\n",
       "  <use xlink:href=\"#glyph0-18\" x=\"350.120117\" y=\"365.608398\"/>\n",
       "  <use xlink:href=\"#glyph0-26\" x=\"353.282227\" y=\"365.608398\"/>\n",
       "  <use xlink:href=\"#glyph0-15\" x=\"361.495117\" y=\"365.608398\"/>\n",
       "  <use xlink:href=\"#glyph0-15\" x=\"368.445312\" y=\"365.608398\"/>\n",
       "</g>\n",
       "<path style=\"fill-rule:nonzero;fill:rgb(100%,100%,100%);fill-opacity:1;stroke-width:0.710742;stroke-linecap:round;stroke-linejoin:round;stroke:rgb(0%,0%,0%);stroke-opacity:1;stroke-miterlimit:10;\" d=\"M 59.507812 261.28125 L 59.769531 259.304688 L 60.53125 257.460938 L 61.746094 255.878906 L 63.328125 254.667969 L 65.171875 253.902344 L 67.148438 253.644531 L 69.125 253.902344 L 70.96875 254.667969 L 72.550781 255.878906 L 73.765625 257.460938 L 74.527344 259.304688 L 74.789062 261.28125 L 74.789062 261.800781 L 74.527344 263.777344 L 73.765625 265.621094 L 72.550781 267.203125 L 70.96875 268.414062 L 69.125 269.179688 L 67.148438 269.4375 L 65.171875 269.179688 L 63.328125 268.414062 L 61.746094 267.203125 L 60.53125 265.621094 L 59.769531 263.777344 L 59.507812 261.800781 Z \"/>\n",
       "<path style=\"fill-rule:nonzero;fill:rgb(100%,100%,100%);fill-opacity:1;stroke-width:0.710742;stroke-linecap:round;stroke-linejoin:round;stroke:rgb(0%,0%,0%);stroke-opacity:1;stroke-miterlimit:10;\" d=\"M 94.769531 362.714844 L 95.027344 360.738281 L 95.792969 358.898438 L 97.003906 357.316406 L 98.585938 356.101562 L 100.429688 355.335938 L 102.40625 355.078125 L 104.382812 355.335938 L 106.226562 356.101562 L 107.808594 357.316406 L 109.023438 358.898438 L 109.785156 360.738281 L 110.046875 362.714844 L 110.046875 363.234375 L 109.785156 365.210938 L 109.023438 367.054688 L 107.808594 368.636719 L 106.226562 369.851562 L 104.382812 370.613281 L 102.40625 370.875 L 100.429688 370.613281 L 98.585938 369.851562 L 97.003906 368.636719 L 95.792969 367.054688 L 95.027344 365.210938 L 94.769531 363.234375 Z \"/>\n",
       "<path style=\"fill-rule:nonzero;fill:rgb(100%,100%,100%);fill-opacity:1;stroke-width:0.710742;stroke-linecap:round;stroke-linejoin:round;stroke:rgb(0%,0%,0%);stroke-opacity:1;stroke-miterlimit:10;\" d=\"M 132.546875 464.152344 L 132.804688 462.171875 L 133.570312 460.332031 L 134.78125 458.75 L 136.367188 457.535156 L 138.207031 456.773438 L 140.183594 456.511719 L 142.164062 456.773438 L 144.003906 457.535156 L 145.585938 458.75 L 146.800781 460.332031 L 147.5625 462.171875 L 147.824219 464.152344 L 147.824219 464.667969 L 147.5625 466.644531 L 146.800781 468.488281 L 145.585938 470.070312 L 144.003906 471.285156 L 142.164062 472.046875 L 140.183594 472.308594 L 138.207031 472.046875 L 136.367188 471.285156 L 134.78125 470.070312 L 133.570312 468.488281 L 132.804688 466.644531 L 132.546875 464.667969 Z \"/>\n",
       "<path style=\"fill-rule:nonzero;fill:rgb(100%,100%,100%);fill-opacity:1;stroke-width:0.710742;stroke-linecap:round;stroke-linejoin:round;stroke:rgb(0%,0%,0%);stroke-opacity:1;stroke-miterlimit:10;\" d=\"M 195.507812 446.273438 L 195.769531 444.296875 L 196.53125 442.453125 L 197.746094 440.871094 L 199.328125 439.660156 L 201.171875 438.894531 L 203.148438 438.636719 L 205.125 438.894531 L 206.96875 439.660156 L 208.550781 440.871094 L 209.765625 442.453125 L 210.527344 444.296875 L 210.789062 446.273438 L 210.789062 446.792969 L 210.527344 448.769531 L 209.765625 450.613281 L 208.550781 452.195312 L 206.96875 453.40625 L 205.125 454.171875 L 203.148438 454.429688 L 201.171875 454.171875 L 199.328125 453.40625 L 197.746094 452.195312 L 196.53125 450.613281 L 195.769531 448.769531 L 195.507812 446.792969 Z \"/>\n",
       "<path style=\"fill-rule:nonzero;fill:rgb(100%,100%,100%);fill-opacity:1;stroke-width:0.710742;stroke-linecap:round;stroke-linejoin:round;stroke:rgb(0%,0%,0%);stroke-opacity:1;stroke-miterlimit:10;\" d=\"M 258.472656 464.152344 L 258.734375 462.171875 L 259.496094 460.332031 L 260.710938 458.75 L 262.292969 457.535156 L 264.132812 456.773438 L 266.113281 456.511719 L 268.089844 456.773438 L 269.929688 457.535156 L 271.511719 458.75 L 272.726562 460.332031 L 273.492188 462.171875 L 273.75 464.152344 L 273.75 464.667969 L 273.492188 466.644531 L 272.726562 468.488281 L 271.511719 470.070312 L 269.929688 471.285156 L 268.089844 472.046875 L 266.113281 472.308594 L 264.132812 472.046875 L 262.292969 471.285156 L 260.710938 470.070312 L 259.496094 468.488281 L 258.734375 466.644531 L 258.472656 464.667969 Z \"/>\n",
       "<path style=\"fill-rule:nonzero;fill:rgb(100%,100%,100%);fill-opacity:1;stroke-width:0.710742;stroke-linecap:round;stroke-linejoin:round;stroke:rgb(0%,0%,0%);stroke-opacity:1;stroke-miterlimit:10;\" d=\"M 321.433594 446.273438 L 321.695312 444.296875 L 322.457031 442.453125 L 323.671875 440.871094 L 325.253906 439.660156 L 327.097656 438.894531 L 329.074219 438.636719 L 331.050781 438.894531 L 332.894531 439.660156 L 334.476562 440.871094 L 335.691406 442.453125 L 336.453125 444.296875 L 336.714844 446.273438 L 336.714844 446.792969 L 336.453125 448.769531 L 335.691406 450.613281 L 334.476562 452.195312 L 332.894531 453.40625 L 331.050781 454.171875 L 329.074219 454.429688 L 327.097656 454.171875 L 325.253906 453.40625 L 323.671875 452.195312 L 322.457031 450.613281 L 321.695312 448.769531 L 321.433594 446.792969 Z \"/>\n",
       "<path style=\"fill-rule:nonzero;fill:rgb(100%,100%,100%);fill-opacity:1;stroke-width:0.710742;stroke-linecap:round;stroke-linejoin:round;stroke:rgb(0%,0%,0%);stroke-opacity:1;stroke-miterlimit:10;\" d=\"M 359.214844 344.839844 L 359.472656 342.863281 L 360.238281 341.019531 L 361.449219 339.4375 L 363.03125 338.222656 L 364.875 337.460938 L 366.851562 337.199219 L 368.828125 337.460938 L 370.671875 338.222656 L 372.253906 339.4375 L 373.46875 341.019531 L 374.230469 342.863281 L 374.492188 344.839844 L 374.492188 345.355469 L 374.230469 347.335938 L 373.46875 349.175781 L 372.253906 350.757812 L 370.671875 351.972656 L 368.828125 352.738281 L 366.851562 352.996094 L 364.875 352.738281 L 363.03125 351.972656 L 361.449219 350.757812 L 360.238281 349.175781 L 359.472656 347.335938 L 359.214844 345.355469 Z \"/>\n",
       "<path style=\"fill-rule:nonzero;fill:rgb(100%,100%,100%);fill-opacity:1;stroke-width:0.710742;stroke-linecap:round;stroke-linejoin:round;stroke:rgb(0%,0%,0%);stroke-opacity:1;stroke-miterlimit:10;\" d=\"M 394.472656 243.40625 L 394.734375 241.429688 L 395.496094 239.585938 L 396.710938 238.003906 L 398.292969 236.789062 L 400.136719 236.027344 L 402.113281 235.765625 L 404.089844 236.027344 L 405.933594 236.789062 L 407.515625 238.003906 L 408.726562 239.585938 L 409.492188 241.429688 L 409.75 243.40625 L 409.75 243.921875 L 409.492188 245.902344 L 408.726562 247.742188 L 407.515625 249.324219 L 405.933594 250.539062 L 404.089844 251.300781 L 402.113281 251.5625 L 400.136719 251.300781 L 398.292969 250.539062 L 396.710938 249.324219 L 395.496094 247.742188 L 394.734375 245.902344 L 394.472656 243.921875 Z \"/>\n",
       "<g style=\"fill:rgb(0%,0%,0%);fill-opacity:1;\">\n",
       "  <use xlink:href=\"#glyph1-1\" x=\"63.648438\" y=\"265.379883\"/>\n",
       "</g>\n",
       "<g style=\"fill:rgb(0%,0%,0%);fill-opacity:1;\">\n",
       "  <use xlink:href=\"#glyph1-1\" x=\"98.90625\" y=\"366.813477\"/>\n",
       "</g>\n",
       "<g style=\"fill:rgb(0%,0%,0%);fill-opacity:1;\">\n",
       "  <use xlink:href=\"#glyph1-1\" x=\"136.683594\" y=\"468.24707\"/>\n",
       "</g>\n",
       "<g style=\"fill:rgb(0%,0%,0%);fill-opacity:1;\">\n",
       "  <use xlink:href=\"#glyph1-2\" x=\"199.648438\" y=\"450.868164\"/>\n",
       "</g>\n",
       "<g style=\"fill:rgb(0%,0%,0%);fill-opacity:1;\">\n",
       "  <use xlink:href=\"#glyph1-1\" x=\"262.613281\" y=\"468.24707\"/>\n",
       "</g>\n",
       "<g style=\"fill:rgb(0%,0%,0%);fill-opacity:1;\">\n",
       "  <use xlink:href=\"#glyph1-2\" x=\"325.574219\" y=\"450.868164\"/>\n",
       "</g>\n",
       "<g style=\"fill:rgb(0%,0%,0%);fill-opacity:1;\">\n",
       "  <use xlink:href=\"#glyph1-2\" x=\"363.351562\" y=\"349.43457\"/>\n",
       "</g>\n",
       "<g style=\"fill:rgb(0%,0%,0%);fill-opacity:1;\">\n",
       "  <use xlink:href=\"#glyph1-2\" x=\"398.613281\" y=\"248.000977\"/>\n",
       "</g>\n",
       "<path style=\"fill-rule:nonzero;fill:rgb(100%,100%,100%);fill-opacity:1;stroke-width:0.710742;stroke-linecap:round;stroke-linejoin:round;stroke:rgb(0%,0%,0%);stroke-opacity:1;stroke-miterlimit:10;\" d=\"M 165.058594 40.382812 L 165.109375 40.007812 L 165.253906 39.65625 L 165.484375 39.355469 L 165.785156 39.125 L 166.136719 38.980469 L 166.511719 38.929688 L 184.339844 38.929688 L 184.71875 38.980469 L 185.066406 39.125 L 185.371094 39.355469 L 185.601562 39.65625 L 185.746094 40.007812 L 185.796875 40.382812 L 185.796875 49.105469 L 185.746094 49.484375 L 185.601562 49.835938 L 185.371094 50.136719 L 185.066406 50.367188 L 184.71875 50.511719 L 184.339844 50.5625 L 166.511719 50.5625 L 166.136719 50.511719 L 165.785156 50.367188 L 165.484375 50.136719 L 165.253906 49.835938 L 165.109375 49.484375 L 165.058594 49.105469 Z \"/>\n",
       "<path style=\"fill-rule:nonzero;fill:rgb(100%,100%,100%);fill-opacity:1;stroke-width:0.710742;stroke-linecap:round;stroke-linejoin:round;stroke:rgb(0%,0%,0%);stroke-opacity:1;stroke-miterlimit:10;\" d=\"M 283.464844 40.382812 L 283.515625 40.007812 L 283.660156 39.65625 L 283.890625 39.355469 L 284.191406 39.125 L 284.542969 38.980469 L 284.917969 38.929688 L 302.746094 38.929688 L 303.125 38.980469 L 303.472656 39.125 L 303.773438 39.355469 L 304.007812 39.65625 L 304.152344 40.007812 L 304.199219 40.382812 L 304.199219 49.105469 L 304.152344 49.484375 L 304.007812 49.835938 L 303.773438 50.136719 L 303.472656 50.367188 L 303.125 50.511719 L 302.746094 50.5625 L 284.917969 50.5625 L 284.542969 50.511719 L 284.191406 50.367188 L 283.890625 50.136719 L 283.660156 49.835938 L 283.515625 49.484375 L 283.464844 49.105469 Z \"/>\n",
       "<g style=\"fill:rgb(0%,0%,0%);fill-opacity:1;\">\n",
       "  <use xlink:href=\"#glyph2-1\" x=\"167.925781\" y=\"47.120117\"/>\n",
       "  <use xlink:href=\"#glyph2-2\" x=\"172.472656\" y=\"47.120117\"/>\n",
       "  <use xlink:href=\"#glyph2-3\" x=\"177.52832\" y=\"47.120117\"/>\n",
       "</g>\n",
       "<g style=\"fill:rgb(0%,0%,0%);fill-opacity:1;\">\n",
       "  <use xlink:href=\"#glyph2-4\" x=\"288.332031\" y=\"46.651367\"/>\n",
       "  <use xlink:href=\"#glyph2-5\" x=\"293.387695\" y=\"46.651367\"/>\n",
       "</g>\n",
       "</g>\n",
       "</svg>\n"
      ],
      "text/plain": [
       "plot without title"
      ]
     },
     "metadata": {
      "image/svg+xml": {
       "isolated": true
      }
     },
     "output_type": "display_data"
    }
   ],
   "source": [
    "prp(StevensTree)"
   ]
  },
  {
   "cell_type": "code",
   "execution_count": 101,
   "metadata": {
    "collapsed": true
   },
   "outputs": [],
   "source": [
    "PredictCart = predict(StevensTree,newdata = Test,type = \"class\")"
   ]
  },
  {
   "cell_type": "code",
   "execution_count": 102,
   "metadata": {
    "collapsed": false
   },
   "outputs": [
    {
     "data": {
      "text/plain": [
       "   PredictCart\n",
       "     0  1\n",
       "  0 41 36\n",
       "  1 22 71"
      ]
     },
     "execution_count": 102,
     "metadata": {},
     "output_type": "execute_result"
    }
   ],
   "source": [
    "table(Test$Reverse,PredictCart)"
   ]
  },
  {
   "cell_type": "code",
   "execution_count": 103,
   "metadata": {
    "collapsed": false
   },
   "outputs": [
    {
     "data": {
      "text/html": [
       "0.658823529411765"
      ],
      "text/latex": [
       "0.658823529411765"
      ],
      "text/markdown": [
       "0.658823529411765"
      ],
      "text/plain": [
       "[1] 0.6588235"
      ]
     },
     "execution_count": 103,
     "metadata": {},
     "output_type": "execute_result"
    }
   ],
   "source": [
    "(41+71)/(41+71+36+22)"
   ]
  },
  {
   "cell_type": "code",
   "execution_count": 104,
   "metadata": {
    "collapsed": false
   },
   "outputs": [],
   "source": [
    "library(ROCR)"
   ]
  },
  {
   "cell_type": "code",
   "execution_count": 105,
   "metadata": {
    "collapsed": true
   },
   "outputs": [],
   "source": [
    "PredictROC = predict(StevensTree,newdata = Test)"
   ]
  },
  {
   "cell_type": "code",
   "execution_count": 106,
   "metadata": {
    "collapsed": false
   },
   "outputs": [
    {
     "name": "stdout",
     "output_type": "stream",
     "text": [
      " num [1:170, 1:2] 0.304 0.304 0.4 0.4 0.4 ...\n",
      " - attr(*, \"dimnames\")=List of 2\n",
      "  ..$ : chr [1:170] \"1\" \"3\" \"4\" \"6\" ...\n",
      "  ..$ : chr [1:2] \"0\" \"1\"\n"
     ]
    }
   ],
   "source": [
    "str(PredictROC)"
   ]
  },
  {
   "cell_type": "code",
   "execution_count": 107,
   "metadata": {
    "collapsed": false
   },
   "outputs": [
    {
     "data": {
      "text/plain": [
       "       0                 1         \n",
       " Min.   :0.07547   Min.   :0.2090  \n",
       " 1st Qu.:0.30357   1st Qu.:0.2400  \n",
       " Median :0.40000   Median :0.6000  \n",
       " Mean   :0.42934   Mean   :0.5707  \n",
       " 3rd Qu.:0.76000   3rd Qu.:0.6964  \n",
       " Max.   :0.79104   Max.   :0.9245  "
      ]
     },
     "execution_count": 107,
     "metadata": {},
     "output_type": "execute_result"
    }
   ],
   "source": [
    "summary(PredictROC)"
   ]
  },
  {
   "cell_type": "code",
   "execution_count": 108,
   "metadata": {
    "collapsed": false
   },
   "outputs": [],
   "source": [
    "pred = prediction(PredictROC[,2],Test$Reverse)"
   ]
  },
  {
   "cell_type": "code",
   "execution_count": 109,
   "metadata": {
    "collapsed": false
   },
   "outputs": [],
   "source": [
    "perf = performance(pred,\"tpr\",\"fpr\")"
   ]
  },
  {
   "cell_type": "code",
   "execution_count": 110,
   "metadata": {
    "collapsed": false
   },
   "outputs": [
    {
     "data": {
      "image/png": "[encoded data removed]",
      "image/svg+xml": [
       "<?xml version=\"1.0\" encoding=\"UTF-8\"?>\n",
       "<svg xmlns=\"http://www.w3.org/2000/svg\" xmlns:xlink=\"http://www.w3.org/1999/xlink\" width=\"504pt\" height=\"504pt\" viewBox=\"0 0 504 504\" version=\"1.1\">\n",
       "<defs>\n",
       "<g>\n",
       "<symbol overflow=\"visible\" id=\"glyph0-0\">\n",
       "<path style=\"stroke:none;\" d=\"\"/>\n",
       "</symbol>\n",
       "<symbol overflow=\"visible\" id=\"glyph0-1\">\n",
       "<path style=\"stroke:none;\" d=\"M 2.203125 -3.984375 L 6.375 -3.984375 L 6.375 -4.96875 L 2.203125 -4.96875 L 2.203125 -7.765625 L 6.953125 -7.765625 L 6.953125 -8.75 L 1.078125 -8.75 L 1.078125 0 L 2.203125 0 Z \"/>\n",
       "</symbol>\n",
       "<symbol overflow=\"visible\" id=\"glyph0-2\">\n",
       "<path style=\"stroke:none;\" d=\"M 6.421875 -0.59375 C 6.3125 -0.5625 6.265625 -0.5625 6.203125 -0.5625 C 5.859375 -0.5625 5.65625 -0.75 5.65625 -1.0625 L 5.65625 -4.75 C 5.65625 -5.875 4.84375 -6.46875 3.296875 -6.46875 C 2.390625 -6.46875 1.625 -6.203125 1.21875 -5.734375 C 0.921875 -5.40625 0.796875 -5.046875 0.78125 -4.421875 L 1.78125 -4.421875 C 1.875 -5.203125 2.328125 -5.546875 3.265625 -5.546875 C 4.15625 -5.546875 4.671875 -5.203125 4.671875 -4.609375 L 4.671875 -4.34375 C 4.671875 -3.921875 4.421875 -3.75 3.625 -3.640625 C 2.203125 -3.46875 1.984375 -3.421875 1.609375 -3.265625 C 0.875 -2.96875 0.5 -2.40625 0.5 -1.578125 C 0.5 -0.4375 1.296875 0.28125 2.5625 0.28125 C 3.359375 0.28125 4 0 4.703125 -0.640625 C 4.78125 -0.015625 5.09375 0.28125 5.734375 0.28125 C 5.9375 0.28125 6.09375 0.25 6.421875 0.171875 Z M 4.671875 -1.984375 C 4.671875 -1.640625 4.578125 -1.4375 4.265625 -1.15625 C 3.859375 -0.796875 3.375 -0.59375 2.78125 -0.59375 C 2 -0.59375 1.546875 -0.96875 1.546875 -1.609375 C 1.546875 -2.265625 1.984375 -2.609375 3.0625 -2.765625 C 4.109375 -2.90625 4.328125 -2.953125 4.671875 -3.109375 Z \"/>\n",
       "</symbol>\n",
       "<symbol overflow=\"visible\" id=\"glyph0-3\">\n",
       "<path style=\"stroke:none;\" d=\"M 1.828125 -8.75 L 0.8125 -8.75 L 0.8125 0 L 1.828125 0 Z \"/>\n",
       "</symbol>\n",
       "<symbol overflow=\"visible\" id=\"glyph0-4\">\n",
       "<path style=\"stroke:none;\" d=\"M 5.25 -4.53125 C 5.25 -5.765625 4.421875 -6.46875 2.96875 -6.46875 C 1.515625 -6.46875 0.5625 -5.71875 0.5625 -4.546875 C 0.5625 -3.5625 1.0625 -3.09375 2.5625 -2.734375 L 3.484375 -2.515625 C 4.1875 -2.34375 4.46875 -2.09375 4.46875 -1.625 C 4.46875 -1.046875 3.875 -0.640625 3 -0.640625 C 2.453125 -0.640625 2 -0.796875 1.75 -1.0625 C 1.59375 -1.25 1.53125 -1.421875 1.46875 -1.875 L 0.40625 -1.875 C 0.453125 -0.421875 1.265625 0.28125 2.921875 0.28125 C 4.5 0.28125 5.515625 -0.5 5.515625 -1.71875 C 5.515625 -2.65625 4.984375 -3.171875 3.734375 -3.46875 L 2.765625 -3.703125 C 1.953125 -3.890625 1.609375 -4.15625 1.609375 -4.59375 C 1.609375 -5.171875 2.125 -5.546875 2.9375 -5.546875 C 3.75 -5.546875 4.171875 -5.203125 4.203125 -4.53125 Z \"/>\n",
       "</symbol>\n",
       "<symbol overflow=\"visible\" id=\"glyph0-5\">\n",
       "<path style=\"stroke:none;\" d=\"M 6.15625 -2.8125 C 6.15625 -3.765625 6.078125 -4.34375 5.90625 -4.8125 C 5.5 -5.84375 4.53125 -6.46875 3.359375 -6.46875 C 1.609375 -6.46875 0.484375 -5.125 0.484375 -3.0625 C 0.484375 -1 1.578125 0.28125 3.34375 0.28125 C 4.78125 0.28125 5.765625 -0.546875 6.03125 -1.90625 L 5.015625 -1.90625 C 4.734375 -1.078125 4.171875 -0.640625 3.375 -0.640625 C 2.734375 -0.640625 2.203125 -0.9375 1.859375 -1.46875 C 1.625 -1.828125 1.53125 -2.1875 1.53125 -2.8125 Z M 1.546875 -3.625 C 1.625 -4.78125 2.34375 -5.546875 3.34375 -5.546875 C 4.328125 -5.546875 5.09375 -4.734375 5.09375 -3.703125 C 5.09375 -3.671875 5.09375 -3.640625 5.078125 -3.625 Z \"/>\n",
       "</symbol>\n",
       "<symbol overflow=\"visible\" id=\"glyph0-6\">\n",
       "<path style=\"stroke:none;\" d=\"\"/>\n",
       "</symbol>\n",
       "<symbol overflow=\"visible\" id=\"glyph0-7\">\n",
       "<path style=\"stroke:none;\" d=\"M 0.640625 2.609375 L 1.65625 2.609375 L 1.65625 -0.65625 C 2.1875 -0.015625 2.765625 0.28125 3.59375 0.28125 C 5.203125 0.28125 6.28125 -1.03125 6.28125 -3.03125 C 6.28125 -5.140625 5.25 -6.46875 3.578125 -6.46875 C 2.71875 -6.46875 2.046875 -6.078125 1.578125 -5.34375 L 1.578125 -6.28125 L 0.640625 -6.28125 Z M 3.40625 -5.53125 C 4.515625 -5.53125 5.234375 -4.5625 5.234375 -3.0625 C 5.234375 -1.625 4.5 -0.65625 3.40625 -0.65625 C 2.359375 -0.65625 1.65625 -1.625 1.65625 -3.09375 C 1.65625 -4.578125 2.359375 -5.53125 3.40625 -5.53125 Z \"/>\n",
       "</symbol>\n",
       "<symbol overflow=\"visible\" id=\"glyph0-8\">\n",
       "<path style=\"stroke:none;\" d=\"M 3.265625 -6.46875 C 1.5 -6.46875 0.4375 -5.203125 0.4375 -3.09375 C 0.4375 -0.984375 1.484375 0.28125 3.28125 0.28125 C 5.046875 0.28125 6.125 -0.984375 6.125 -3.046875 C 6.125 -5.21875 5.078125 -6.46875 3.265625 -6.46875 Z M 3.28125 -5.546875 C 4.40625 -5.546875 5.078125 -4.625 5.078125 -3.0625 C 5.078125 -1.578125 4.375 -0.640625 3.28125 -0.640625 C 2.15625 -0.640625 1.46875 -1.578125 1.46875 -3.09375 C 1.46875 -4.609375 2.15625 -5.546875 3.28125 -5.546875 Z \"/>\n",
       "</symbol>\n",
       "<symbol overflow=\"visible\" id=\"glyph0-9\">\n",
       "<path style=\"stroke:none;\" d=\"M 1.796875 -6.28125 L 0.796875 -6.28125 L 0.796875 0 L 1.796875 0 Z M 1.796875 -8.75 L 0.796875 -8.75 L 0.796875 -7.484375 L 1.796875 -7.484375 Z \"/>\n",
       "</symbol>\n",
       "<symbol overflow=\"visible\" id=\"glyph0-10\">\n",
       "<path style=\"stroke:none;\" d=\"M 3.046875 -6.28125 L 2.015625 -6.28125 L 2.015625 -8.015625 L 1.015625 -8.015625 L 1.015625 -6.28125 L 0.171875 -6.28125 L 0.171875 -5.46875 L 1.015625 -5.46875 L 1.015625 -0.71875 C 1.015625 -0.078125 1.453125 0.28125 2.234375 0.28125 C 2.46875 0.28125 2.71875 0.25 3.046875 0.1875 L 3.046875 -0.640625 C 2.921875 -0.609375 2.765625 -0.59375 2.5625 -0.59375 C 2.140625 -0.59375 2.015625 -0.71875 2.015625 -1.15625 L 2.015625 -5.46875 L 3.046875 -5.46875 Z \"/>\n",
       "</symbol>\n",
       "<symbol overflow=\"visible\" id=\"glyph0-11\">\n",
       "<path style=\"stroke:none;\" d=\"M 3.421875 0 L 5.828125 -6.28125 L 4.703125 -6.28125 L 2.921875 -1.1875 L 1.25 -6.28125 L 0.125 -6.28125 L 2.328125 0 Z \"/>\n",
       "</symbol>\n",
       "<symbol overflow=\"visible\" id=\"glyph0-12\">\n",
       "<path style=\"stroke:none;\" d=\"M 0.828125 -6.28125 L 0.828125 0 L 1.84375 0 L 1.84375 -3.265625 C 1.84375 -4.15625 2.0625 -4.75 2.546875 -5.09375 C 2.859375 -5.328125 3.15625 -5.40625 3.859375 -5.40625 L 3.859375 -6.4375 C 3.6875 -6.453125 3.59375 -6.46875 3.46875 -6.46875 C 2.8125 -6.46875 2.328125 -6.078125 1.75 -5.140625 L 1.75 -6.28125 Z \"/>\n",
       "</symbol>\n",
       "<symbol overflow=\"visible\" id=\"glyph0-13\">\n",
       "<path style=\"stroke:none;\" d=\"M 3.296875 -8.515625 C 2.515625 -8.515625 1.78125 -8.15625 1.34375 -7.578125 C 0.796875 -6.828125 0.515625 -5.6875 0.515625 -4.109375 C 0.515625 -1.25 1.46875 0.28125 3.296875 0.28125 C 5.09375 0.28125 6.078125 -1.25 6.078125 -4.046875 C 6.078125 -5.703125 5.8125 -6.796875 5.25 -7.578125 C 4.8125 -8.171875 4.109375 -8.515625 3.296875 -8.515625 Z M 3.296875 -7.578125 C 4.4375 -7.578125 5 -6.421875 5 -4.140625 C 5 -1.734375 4.453125 -0.59375 3.28125 -0.59375 C 2.15625 -0.59375 1.59375 -1.78125 1.59375 -4.109375 C 1.59375 -6.4375 2.15625 -7.578125 3.296875 -7.578125 Z \"/>\n",
       "</symbol>\n",
       "<symbol overflow=\"visible\" id=\"glyph0-14\">\n",
       "<path style=\"stroke:none;\" d=\"M 2.296875 -1.25 L 1.046875 -1.25 L 1.046875 0 L 2.296875 0 Z \"/>\n",
       "</symbol>\n",
       "<symbol overflow=\"visible\" id=\"glyph0-15\">\n",
       "<path style=\"stroke:none;\" d=\"M 6.078125 -1.046875 L 1.59375 -1.046875 C 1.703125 -1.734375 2.09375 -2.1875 3.125 -2.796875 L 4.328125 -3.4375 C 5.515625 -4.09375 6.125 -4.96875 6.125 -6.015625 C 6.125 -6.71875 5.84375 -7.375 5.34375 -7.84375 C 4.84375 -8.296875 4.21875 -8.515625 3.40625 -8.515625 C 2.328125 -8.515625 1.53125 -8.125 1.0625 -7.40625 C 0.75 -6.953125 0.625 -6.421875 0.59375 -5.5625 L 1.65625 -5.5625 C 1.6875 -6.125 1.765625 -6.484375 1.90625 -6.75 C 2.1875 -7.265625 2.734375 -7.578125 3.375 -7.578125 C 4.328125 -7.578125 5.046875 -6.90625 5.046875 -5.984375 C 5.046875 -5.3125 4.65625 -4.734375 3.90625 -4.3125 L 2.796875 -3.6875 C 1.015625 -2.671875 0.5 -1.875 0.40625 0 L 6.078125 0 Z \"/>\n",
       "</symbol>\n",
       "<symbol overflow=\"visible\" id=\"glyph0-16\">\n",
       "<path style=\"stroke:none;\" d=\"M 3.921875 -2.046875 L 3.921875 0 L 4.984375 0 L 4.984375 -2.046875 L 6.234375 -2.046875 L 6.234375 -2.984375 L 4.984375 -2.984375 L 4.984375 -8.515625 L 4.203125 -8.515625 L 0.34375 -3.15625 L 0.34375 -2.046875 Z M 3.921875 -2.984375 L 1.265625 -2.984375 L 3.921875 -6.703125 Z \"/>\n",
       "</symbol>\n",
       "<symbol overflow=\"visible\" id=\"glyph0-17\">\n",
       "<path style=\"stroke:none;\" d=\"M 5.96875 -6.28125 C 5.765625 -7.6875 4.859375 -8.515625 3.5625 -8.515625 C 2.625 -8.515625 1.78125 -8.046875 1.28125 -7.296875 C 0.75 -6.46875 0.515625 -5.421875 0.515625 -3.875 C 0.515625 -2.453125 0.734375 -1.53125 1.234375 -0.78125 C 1.6875 -0.09375 2.4375 0.28125 3.375 0.28125 C 4.984375 0.28125 6.15625 -0.921875 6.15625 -2.59375 C 6.15625 -4.171875 5.078125 -5.296875 3.546875 -5.296875 C 2.71875 -5.296875 2.046875 -4.96875 1.59375 -4.34375 C 1.609375 -6.421875 2.28125 -7.578125 3.484375 -7.578125 C 4.234375 -7.578125 4.75 -7.109375 4.921875 -6.28125 Z M 3.421875 -4.359375 C 4.4375 -4.359375 5.078125 -3.640625 5.078125 -2.515625 C 5.078125 -1.4375 4.359375 -0.65625 3.390625 -0.65625 C 2.40625 -0.65625 1.65625 -1.46875 1.65625 -2.5625 C 1.65625 -3.625 2.375 -4.359375 3.421875 -4.359375 Z \"/>\n",
       "</symbol>\n",
       "<symbol overflow=\"visible\" id=\"glyph0-18\">\n",
       "<path style=\"stroke:none;\" d=\"M 4.6875 -4.46875 C 5.5625 -5 5.859375 -5.4375 5.859375 -6.234375 C 5.859375 -7.578125 4.8125 -8.515625 3.296875 -8.515625 C 1.796875 -8.515625 0.75 -7.578125 0.75 -6.234375 C 0.75 -5.453125 1.03125 -5.015625 1.890625 -4.46875 C 0.921875 -4.015625 0.4375 -3.296875 0.4375 -2.359375 C 0.4375 -0.796875 1.625 0.28125 3.296875 0.28125 C 4.984375 0.28125 6.15625 -0.796875 6.15625 -2.359375 C 6.15625 -3.296875 5.671875 -4.015625 4.6875 -4.46875 Z M 3.296875 -7.578125 C 4.203125 -7.578125 4.78125 -7.046875 4.78125 -6.21875 C 4.78125 -5.421875 4.1875 -4.890625 3.296875 -4.890625 C 2.40625 -4.890625 1.828125 -5.421875 1.828125 -6.234375 C 1.828125 -7.046875 2.40625 -7.578125 3.296875 -7.578125 Z M 3.296875 -4.015625 C 4.359375 -4.015625 5.078125 -3.34375 5.078125 -2.34375 C 5.078125 -1.328125 4.359375 -0.65625 3.28125 -0.65625 C 2.25 -0.65625 1.53125 -1.34375 1.53125 -2.34375 C 1.53125 -3.34375 2.25 -4.015625 3.296875 -4.015625 Z \"/>\n",
       "</symbol>\n",
       "<symbol overflow=\"visible\" id=\"glyph0-19\">\n",
       "<path style=\"stroke:none;\" d=\"M 3.109375 -6.0625 L 3.109375 0 L 4.15625 0 L 4.15625 -8.515625 L 3.46875 -8.515625 C 3.09375 -7.203125 2.859375 -7.015625 1.21875 -6.8125 L 1.21875 -6.0625 Z \"/>\n",
       "</symbol>\n",
       "<symbol overflow=\"visible\" id=\"glyph1-0\">\n",
       "<path style=\"stroke:none;\" d=\"\"/>\n",
       "</symbol>\n",
       "<symbol overflow=\"visible\" id=\"glyph1-1\">\n",
       "<path style=\"stroke:none;\" d=\"M -7.765625 -4.25 L -7.765625 -7.109375 L -8.75 -7.109375 L -8.75 -0.25 L -7.765625 -0.25 L -7.765625 -3.125 L 0 -3.125 L 0 -4.25 Z \"/>\n",
       "</symbol>\n",
       "<symbol overflow=\"visible\" id=\"glyph1-2\">\n",
       "<path style=\"stroke:none;\" d=\"M -6.28125 -0.828125 L 0 -0.828125 L 0 -1.84375 L -3.265625 -1.84375 C -4.15625 -1.84375 -4.75 -2.0625 -5.09375 -2.546875 C -5.328125 -2.859375 -5.40625 -3.15625 -5.40625 -3.859375 L -6.4375 -3.859375 C -6.453125 -3.6875 -6.46875 -3.59375 -6.46875 -3.46875 C -6.46875 -2.8125 -6.078125 -2.328125 -5.140625 -1.75 L -6.28125 -1.75 Z \"/>\n",
       "</symbol>\n",
       "<symbol overflow=\"visible\" id=\"glyph1-3\">\n",
       "<path style=\"stroke:none;\" d=\"M 0 -5.78125 L -6.28125 -5.78125 L -6.28125 -4.78125 L -2.71875 -4.78125 C -1.4375 -4.78125 -0.59375 -4.109375 -0.59375 -3.078125 C -0.59375 -2.28125 -1.078125 -1.78125 -1.84375 -1.78125 L -6.28125 -1.78125 L -6.28125 -0.78125 L -1.4375 -0.78125 C -0.390625 -0.78125 0.28125 -1.5625 0.28125 -2.78125 C 0.28125 -3.703125 -0.046875 -4.296875 -0.875 -4.890625 L 0 -4.890625 Z \"/>\n",
       "</symbol>\n",
       "<symbol overflow=\"visible\" id=\"glyph1-4\">\n",
       "<path style=\"stroke:none;\" d=\"M -2.8125 -6.15625 C -3.765625 -6.15625 -4.34375 -6.078125 -4.8125 -5.90625 C -5.84375 -5.5 -6.46875 -4.53125 -6.46875 -3.359375 C -6.46875 -1.609375 -5.125 -0.484375 -3.0625 -0.484375 C -1 -0.484375 0.28125 -1.578125 0.28125 -3.34375 C 0.28125 -4.78125 -0.546875 -5.765625 -1.90625 -6.03125 L -1.90625 -5.015625 C -1.078125 -4.734375 -0.640625 -4.171875 -0.640625 -3.375 C -0.640625 -2.734375 -0.9375 -2.203125 -1.46875 -1.859375 C -1.828125 -1.625 -2.1875 -1.53125 -2.8125 -1.53125 Z M -3.625 -1.546875 C -4.78125 -1.625 -5.546875 -2.34375 -5.546875 -3.34375 C -5.546875 -4.328125 -4.734375 -5.09375 -3.703125 -5.09375 C -3.671875 -5.09375 -3.640625 -5.09375 -3.625 -5.078125 Z \"/>\n",
       "</symbol>\n",
       "<symbol overflow=\"visible\" id=\"glyph1-5\">\n",
       "<path style=\"stroke:none;\" d=\"\"/>\n",
       "</symbol>\n",
       "<symbol overflow=\"visible\" id=\"glyph1-6\">\n",
       "<path style=\"stroke:none;\" d=\"M 2.609375 -0.640625 L 2.609375 -1.65625 L -0.65625 -1.65625 C -0.015625 -2.1875 0.28125 -2.765625 0.28125 -3.59375 C 0.28125 -5.203125 -1.03125 -6.28125 -3.03125 -6.28125 C -5.140625 -6.28125 -6.46875 -5.25 -6.46875 -3.578125 C -6.46875 -2.71875 -6.078125 -2.046875 -5.34375 -1.578125 L -6.28125 -1.578125 L -6.28125 -0.640625 Z M -5.53125 -3.40625 C -5.53125 -4.515625 -4.5625 -5.234375 -3.0625 -5.234375 C -1.625 -5.234375 -0.65625 -4.5 -0.65625 -3.40625 C -0.65625 -2.359375 -1.625 -1.65625 -3.09375 -1.65625 C -4.578125 -1.65625 -5.53125 -2.359375 -5.53125 -3.40625 Z \"/>\n",
       "</symbol>\n",
       "<symbol overflow=\"visible\" id=\"glyph1-7\">\n",
       "<path style=\"stroke:none;\" d=\"M -6.46875 -3.265625 C -6.46875 -1.5 -5.203125 -0.4375 -3.09375 -0.4375 C -0.984375 -0.4375 0.28125 -1.484375 0.28125 -3.28125 C 0.28125 -5.046875 -0.984375 -6.125 -3.046875 -6.125 C -5.21875 -6.125 -6.46875 -5.078125 -6.46875 -3.265625 Z M -5.546875 -3.28125 C -5.546875 -4.40625 -4.625 -5.078125 -3.0625 -5.078125 C -1.578125 -5.078125 -0.640625 -4.375 -0.640625 -3.28125 C -0.640625 -2.15625 -1.578125 -1.46875 -3.09375 -1.46875 C -4.609375 -1.46875 -5.546875 -2.15625 -5.546875 -3.28125 Z \"/>\n",
       "</symbol>\n",
       "<symbol overflow=\"visible\" id=\"glyph1-8\">\n",
       "<path style=\"stroke:none;\" d=\"M -4.53125 -5.25 C -5.765625 -5.25 -6.46875 -4.421875 -6.46875 -2.96875 C -6.46875 -1.515625 -5.71875 -0.5625 -4.546875 -0.5625 C -3.5625 -0.5625 -3.09375 -1.0625 -2.734375 -2.5625 L -2.515625 -3.484375 C -2.34375 -4.1875 -2.09375 -4.46875 -1.625 -4.46875 C -1.046875 -4.46875 -0.640625 -3.875 -0.640625 -3 C -0.640625 -2.453125 -0.796875 -2 -1.0625 -1.75 C -1.25 -1.59375 -1.421875 -1.53125 -1.875 -1.46875 L -1.875 -0.40625 C -0.421875 -0.453125 0.28125 -1.265625 0.28125 -2.921875 C 0.28125 -4.5 -0.5 -5.515625 -1.71875 -5.515625 C -2.65625 -5.515625 -3.171875 -4.984375 -3.46875 -3.734375 L -3.703125 -2.765625 C -3.890625 -1.953125 -4.15625 -1.609375 -4.59375 -1.609375 C -5.171875 -1.609375 -5.546875 -2.125 -5.546875 -2.9375 C -5.546875 -3.75 -5.203125 -4.171875 -4.53125 -4.203125 Z \"/>\n",
       "</symbol>\n",
       "<symbol overflow=\"visible\" id=\"glyph1-9\">\n",
       "<path style=\"stroke:none;\" d=\"M -6.28125 -1.796875 L -6.28125 -0.796875 L 0 -0.796875 L 0 -1.796875 Z M -8.75 -1.796875 L -8.75 -0.796875 L -7.484375 -0.796875 L -7.484375 -1.796875 Z \"/>\n",
       "</symbol>\n",
       "<symbol overflow=\"visible\" id=\"glyph1-10\">\n",
       "<path style=\"stroke:none;\" d=\"M -6.28125 -3.046875 L -6.28125 -2.015625 L -8.015625 -2.015625 L -8.015625 -1.015625 L -6.28125 -1.015625 L -6.28125 -0.171875 L -5.46875 -0.171875 L -5.46875 -1.015625 L -0.71875 -1.015625 C -0.078125 -1.015625 0.28125 -1.453125 0.28125 -2.234375 C 0.28125 -2.46875 0.25 -2.71875 0.1875 -3.046875 L -0.640625 -3.046875 C -0.609375 -2.921875 -0.59375 -2.765625 -0.59375 -2.5625 C -0.59375 -2.140625 -0.71875 -2.015625 -1.15625 -2.015625 L -5.46875 -2.015625 L -5.46875 -3.046875 Z \"/>\n",
       "</symbol>\n",
       "<symbol overflow=\"visible\" id=\"glyph1-11\">\n",
       "<path style=\"stroke:none;\" d=\"M 0 -3.421875 L -6.28125 -5.828125 L -6.28125 -4.703125 L -1.1875 -2.921875 L -6.28125 -1.25 L -6.28125 -0.125 L 0 -2.328125 Z \"/>\n",
       "</symbol>\n",
       "<symbol overflow=\"visible\" id=\"glyph1-12\">\n",
       "<path style=\"stroke:none;\" d=\"M -0.59375 -6.421875 C -0.5625 -6.3125 -0.5625 -6.265625 -0.5625 -6.203125 C -0.5625 -5.859375 -0.75 -5.65625 -1.0625 -5.65625 L -4.75 -5.65625 C -5.875 -5.65625 -6.46875 -4.84375 -6.46875 -3.296875 C -6.46875 -2.390625 -6.203125 -1.625 -5.734375 -1.21875 C -5.40625 -0.921875 -5.046875 -0.796875 -4.421875 -0.78125 L -4.421875 -1.78125 C -5.203125 -1.875 -5.546875 -2.328125 -5.546875 -3.265625 C -5.546875 -4.15625 -5.203125 -4.671875 -4.609375 -4.671875 L -4.34375 -4.671875 C -3.921875 -4.671875 -3.75 -4.421875 -3.640625 -3.625 C -3.46875 -2.203125 -3.421875 -1.984375 -3.265625 -1.609375 C -2.96875 -0.875 -2.40625 -0.5 -1.578125 -0.5 C -0.4375 -0.5 0.28125 -1.296875 0.28125 -2.5625 C 0.28125 -3.359375 0 -4 -0.640625 -4.703125 C -0.015625 -4.78125 0.28125 -5.09375 0.28125 -5.734375 C 0.28125 -5.9375 0.25 -6.09375 0.171875 -6.421875 Z M -1.984375 -4.671875 C -1.640625 -4.671875 -1.4375 -4.578125 -1.15625 -4.265625 C -0.796875 -3.859375 -0.59375 -3.375 -0.59375 -2.78125 C -0.59375 -2 -0.96875 -1.546875 -1.609375 -1.546875 C -2.265625 -1.546875 -2.609375 -1.984375 -2.765625 -3.0625 C -2.90625 -4.109375 -2.953125 -4.328125 -3.109375 -4.671875 Z \"/>\n",
       "</symbol>\n",
       "<symbol overflow=\"visible\" id=\"glyph1-13\">\n",
       "<path style=\"stroke:none;\" d=\"M -8.515625 -3.296875 C -8.515625 -2.515625 -8.15625 -1.78125 -7.578125 -1.34375 C -6.828125 -0.796875 -5.6875 -0.515625 -4.109375 -0.515625 C -1.25 -0.515625 0.28125 -1.46875 0.28125 -3.296875 C 0.28125 -5.09375 -1.25 -6.078125 -4.046875 -6.078125 C -5.703125 -6.078125 -6.796875 -5.8125 -7.578125 -5.25 C -8.171875 -4.8125 -8.515625 -4.109375 -8.515625 -3.296875 Z M -7.578125 -3.296875 C -7.578125 -4.4375 -6.421875 -5 -4.140625 -5 C -1.734375 -5 -0.59375 -4.453125 -0.59375 -3.28125 C -0.59375 -2.15625 -1.78125 -1.59375 -4.109375 -1.59375 C -6.4375 -1.59375 -7.578125 -2.15625 -7.578125 -3.296875 Z \"/>\n",
       "</symbol>\n",
       "<symbol overflow=\"visible\" id=\"glyph1-14\">\n",
       "<path style=\"stroke:none;\" d=\"M -1.25 -2.296875 L -1.25 -1.046875 L 0 -1.046875 L 0 -2.296875 Z \"/>\n",
       "</symbol>\n",
       "<symbol overflow=\"visible\" id=\"glyph1-15\">\n",
       "<path style=\"stroke:none;\" d=\"M -1.046875 -6.078125 L -1.046875 -1.59375 C -1.734375 -1.703125 -2.1875 -2.09375 -2.796875 -3.125 L -3.4375 -4.328125 C -4.09375 -5.515625 -4.96875 -6.125 -6.015625 -6.125 C -6.71875 -6.125 -7.375 -5.84375 -7.84375 -5.34375 C -8.296875 -4.84375 -8.515625 -4.21875 -8.515625 -3.40625 C -8.515625 -2.328125 -8.125 -1.53125 -7.40625 -1.0625 C -6.953125 -0.75 -6.421875 -0.625 -5.5625 -0.59375 L -5.5625 -1.65625 C -6.125 -1.6875 -6.484375 -1.765625 -6.75 -1.90625 C -7.265625 -2.1875 -7.578125 -2.734375 -7.578125 -3.375 C -7.578125 -4.328125 -6.90625 -5.046875 -5.984375 -5.046875 C -5.3125 -5.046875 -4.734375 -4.65625 -4.3125 -3.90625 L -3.6875 -2.796875 C -2.671875 -1.015625 -1.875 -0.5 0 -0.40625 L 0 -6.078125 Z \"/>\n",
       "</symbol>\n",
       "<symbol overflow=\"visible\" id=\"glyph1-16\">\n",
       "<path style=\"stroke:none;\" d=\"M -2.046875 -3.921875 L 0 -3.921875 L 0 -4.984375 L -2.046875 -4.984375 L -2.046875 -6.234375 L -2.984375 -6.234375 L -2.984375 -4.984375 L -8.515625 -4.984375 L -8.515625 -4.203125 L -3.15625 -0.34375 L -2.046875 -0.34375 Z M -2.984375 -3.921875 L -2.984375 -1.265625 L -6.703125 -3.921875 Z \"/>\n",
       "</symbol>\n",
       "<symbol overflow=\"visible\" id=\"glyph1-17\">\n",
       "<path style=\"stroke:none;\" d=\"M -6.28125 -5.96875 C -7.6875 -5.765625 -8.515625 -4.859375 -8.515625 -3.5625 C -8.515625 -2.625 -8.046875 -1.78125 -7.296875 -1.28125 C -6.46875 -0.75 -5.421875 -0.515625 -3.875 -0.515625 C -2.453125 -0.515625 -1.53125 -0.734375 -0.78125 -1.234375 C -0.09375 -1.6875 0.28125 -2.4375 0.28125 -3.375 C 0.28125 -4.984375 -0.921875 -6.15625 -2.59375 -6.15625 C -4.171875 -6.15625 -5.296875 -5.078125 -5.296875 -3.546875 C -5.296875 -2.71875 -4.96875 -2.046875 -4.34375 -1.59375 C -6.421875 -1.609375 -7.578125 -2.28125 -7.578125 -3.484375 C -7.578125 -4.234375 -7.109375 -4.75 -6.28125 -4.921875 Z M -4.359375 -3.421875 C -4.359375 -4.4375 -3.640625 -5.078125 -2.515625 -5.078125 C -1.4375 -5.078125 -0.65625 -4.359375 -0.65625 -3.390625 C -0.65625 -2.40625 -1.46875 -1.65625 -2.5625 -1.65625 C -3.625 -1.65625 -4.359375 -2.375 -4.359375 -3.421875 Z \"/>\n",
       "</symbol>\n",
       "<symbol overflow=\"visible\" id=\"glyph1-18\">\n",
       "<path style=\"stroke:none;\" d=\"M -4.46875 -4.6875 C -5 -5.5625 -5.4375 -5.859375 -6.234375 -5.859375 C -7.578125 -5.859375 -8.515625 -4.8125 -8.515625 -3.296875 C -8.515625 -1.796875 -7.578125 -0.75 -6.234375 -0.75 C -5.453125 -0.75 -5.015625 -1.03125 -4.46875 -1.890625 C -4.015625 -0.921875 -3.296875 -0.4375 -2.359375 -0.4375 C -0.796875 -0.4375 0.28125 -1.625 0.28125 -3.296875 C 0.28125 -4.984375 -0.796875 -6.15625 -2.359375 -6.15625 C -3.296875 -6.15625 -4.015625 -5.671875 -4.46875 -4.6875 Z M -7.578125 -3.296875 C -7.578125 -4.203125 -7.046875 -4.78125 -6.21875 -4.78125 C -5.421875 -4.78125 -4.890625 -4.1875 -4.890625 -3.296875 C -4.890625 -2.40625 -5.421875 -1.828125 -6.234375 -1.828125 C -7.046875 -1.828125 -7.578125 -2.40625 -7.578125 -3.296875 Z M -4.015625 -3.296875 C -4.015625 -4.359375 -3.34375 -5.078125 -2.34375 -5.078125 C -1.328125 -5.078125 -0.65625 -4.359375 -0.65625 -3.28125 C -0.65625 -2.25 -1.34375 -1.53125 -2.34375 -1.53125 C -3.34375 -1.53125 -4.015625 -2.25 -4.015625 -3.296875 Z \"/>\n",
       "</symbol>\n",
       "<symbol overflow=\"visible\" id=\"glyph1-19\">\n",
       "<path style=\"stroke:none;\" d=\"M -6.0625 -3.109375 L 0 -3.109375 L 0 -4.15625 L -8.515625 -4.15625 L -8.515625 -3.46875 C -7.203125 -3.09375 -7.015625 -2.859375 -6.8125 -1.21875 L -6.0625 -1.21875 Z \"/>\n",
       "</symbol>\n",
       "</g>\n",
       "</defs>\n",
       "<g id=\"surface341\">\n",
       "<rect x=\"0\" y=\"0\" width=\"504\" height=\"504\" style=\"fill:rgb(100%,100%,100%);fill-opacity:1;stroke:none;\"/>\n",
       "<g style=\"fill:rgb(0%,0%,0%);fill-opacity:1;\">\n",
       "  <use xlink:href=\"#glyph0-1\" x=\"217.398438\" y=\"484.716797\"/>\n",
       "  <use xlink:href=\"#glyph0-2\" x=\"224.730469\" y=\"484.716797\"/>\n",
       "  <use xlink:href=\"#glyph0-3\" x=\"231.402344\" y=\"484.716797\"/>\n",
       "  <use xlink:href=\"#glyph0-4\" x=\"234.066406\" y=\"484.716797\"/>\n",
       "  <use xlink:href=\"#glyph0-5\" x=\"240.066406\" y=\"484.716797\"/>\n",
       "  <use xlink:href=\"#glyph0-6\" x=\"246.738281\" y=\"484.716797\"/>\n",
       "  <use xlink:href=\"#glyph0-7\" x=\"250.074219\" y=\"484.716797\"/>\n",
       "  <use xlink:href=\"#glyph0-8\" x=\"256.746094\" y=\"484.716797\"/>\n",
       "  <use xlink:href=\"#glyph0-4\" x=\"263.417969\" y=\"484.716797\"/>\n",
       "  <use xlink:href=\"#glyph0-9\" x=\"269.417969\" y=\"484.716797\"/>\n",
       "  <use xlink:href=\"#glyph0-10\" x=\"272.082031\" y=\"484.716797\"/>\n",
       "  <use xlink:href=\"#glyph0-9\" x=\"275.417969\" y=\"484.716797\"/>\n",
       "  <use xlink:href=\"#glyph0-11\" x=\"278.082031\" y=\"484.716797\"/>\n",
       "  <use xlink:href=\"#glyph0-5\" x=\"284.082031\" y=\"484.716797\"/>\n",
       "  <use xlink:href=\"#glyph0-6\" x=\"290.753906\" y=\"484.716797\"/>\n",
       "  <use xlink:href=\"#glyph0-12\" x=\"294.089844\" y=\"484.716797\"/>\n",
       "  <use xlink:href=\"#glyph0-2\" x=\"298.085938\" y=\"484.716797\"/>\n",
       "  <use xlink:href=\"#glyph0-10\" x=\"304.757812\" y=\"484.716797\"/>\n",
       "  <use xlink:href=\"#glyph0-5\" x=\"308.09375\" y=\"484.716797\"/>\n",
       "</g>\n",
       "<g style=\"fill:rgb(0%,0%,0%);fill-opacity:1;\">\n",
       "  <use xlink:href=\"#glyph1-1\" x=\"12.396484\" y=\"291.300781\"/>\n",
       "  <use xlink:href=\"#glyph1-2\" x=\"12.396484\" y=\"283.96875\"/>\n",
       "  <use xlink:href=\"#glyph1-3\" x=\"12.396484\" y=\"279.972656\"/>\n",
       "  <use xlink:href=\"#glyph1-4\" x=\"12.396484\" y=\"273.300781\"/>\n",
       "  <use xlink:href=\"#glyph1-5\" x=\"12.396484\" y=\"266.628906\"/>\n",
       "  <use xlink:href=\"#glyph1-6\" x=\"12.396484\" y=\"263.292969\"/>\n",
       "  <use xlink:href=\"#glyph1-7\" x=\"12.396484\" y=\"256.621094\"/>\n",
       "  <use xlink:href=\"#glyph1-8\" x=\"12.396484\" y=\"249.949219\"/>\n",
       "  <use xlink:href=\"#glyph1-9\" x=\"12.396484\" y=\"243.949219\"/>\n",
       "  <use xlink:href=\"#glyph1-10\" x=\"12.396484\" y=\"241.285156\"/>\n",
       "  <use xlink:href=\"#glyph1-9\" x=\"12.396484\" y=\"237.949219\"/>\n",
       "  <use xlink:href=\"#glyph1-11\" x=\"12.396484\" y=\"235.285156\"/>\n",
       "  <use xlink:href=\"#glyph1-4\" x=\"12.396484\" y=\"229.285156\"/>\n",
       "  <use xlink:href=\"#glyph1-5\" x=\"12.396484\" y=\"222.613281\"/>\n",
       "  <use xlink:href=\"#glyph1-2\" x=\"12.396484\" y=\"219.277344\"/>\n",
       "  <use xlink:href=\"#glyph1-12\" x=\"12.396484\" y=\"215.28125\"/>\n",
       "  <use xlink:href=\"#glyph1-10\" x=\"12.396484\" y=\"208.609375\"/>\n",
       "  <use xlink:href=\"#glyph1-4\" x=\"12.396484\" y=\"205.273438\"/>\n",
       "</g>\n",
       "<path style=\"fill:none;stroke-width:0.75;stroke-linecap:round;stroke-linejoin:round;stroke:rgb(0%,0%,0%);stroke-opacity:1;stroke-miterlimit:10;\" d=\"M 74.398438 430.558594 L 458.398438 430.558594 \"/>\n",
       "<path style=\"fill:none;stroke-width:0.75;stroke-linecap:round;stroke-linejoin:round;stroke:rgb(0%,0%,0%);stroke-opacity:1;stroke-miterlimit:10;\" d=\"M 74.398438 430.558594 L 74.398438 437.761719 \"/>\n",
       "<path style=\"fill:none;stroke-width:0.75;stroke-linecap:round;stroke-linejoin:round;stroke:rgb(0%,0%,0%);stroke-opacity:1;stroke-miterlimit:10;\" d=\"M 151.199219 430.558594 L 151.199219 437.761719 \"/>\n",
       "<path style=\"fill:none;stroke-width:0.75;stroke-linecap:round;stroke-linejoin:round;stroke:rgb(0%,0%,0%);stroke-opacity:1;stroke-miterlimit:10;\" d=\"M 228 430.558594 L 228 437.761719 \"/>\n",
       "<path style=\"fill:none;stroke-width:0.75;stroke-linecap:round;stroke-linejoin:round;stroke:rgb(0%,0%,0%);stroke-opacity:1;stroke-miterlimit:10;\" d=\"M 304.800781 430.558594 L 304.800781 437.761719 \"/>\n",
       "<path style=\"fill:none;stroke-width:0.75;stroke-linecap:round;stroke-linejoin:round;stroke:rgb(0%,0%,0%);stroke-opacity:1;stroke-miterlimit:10;\" d=\"M 381.601562 430.558594 L 381.601562 437.761719 \"/>\n",
       "<path style=\"fill:none;stroke-width:0.75;stroke-linecap:round;stroke-linejoin:round;stroke:rgb(0%,0%,0%);stroke-opacity:1;stroke-miterlimit:10;\" d=\"M 458.398438 430.558594 L 458.398438 437.761719 \"/>\n",
       "<g style=\"fill:rgb(0%,0%,0%);fill-opacity:1;\">\n",
       "  <use xlink:href=\"#glyph0-13\" x=\"65.898438\" y=\"455.916016\"/>\n",
       "  <use xlink:href=\"#glyph0-14\" x=\"72.570312\" y=\"455.916016\"/>\n",
       "  <use xlink:href=\"#glyph0-13\" x=\"75.90625\" y=\"455.916016\"/>\n",
       "</g>\n",
       "<g style=\"fill:rgb(0%,0%,0%);fill-opacity:1;\">\n",
       "  <use xlink:href=\"#glyph0-13\" x=\"142.699219\" y=\"455.916016\"/>\n",
       "  <use xlink:href=\"#glyph0-14\" x=\"149.371094\" y=\"455.916016\"/>\n",
       "  <use xlink:href=\"#glyph0-15\" x=\"152.707031\" y=\"455.916016\"/>\n",
       "</g>\n",
       "<g style=\"fill:rgb(0%,0%,0%);fill-opacity:1;\">\n",
       "  <use xlink:href=\"#glyph0-13\" x=\"219.5\" y=\"455.916016\"/>\n",
       "  <use xlink:href=\"#glyph0-14\" x=\"226.171875\" y=\"455.916016\"/>\n",
       "  <use xlink:href=\"#glyph0-16\" x=\"229.507812\" y=\"455.916016\"/>\n",
       "</g>\n",
       "<g style=\"fill:rgb(0%,0%,0%);fill-opacity:1;\">\n",
       "  <use xlink:href=\"#glyph0-13\" x=\"296.300781\" y=\"455.916016\"/>\n",
       "  <use xlink:href=\"#glyph0-14\" x=\"302.972656\" y=\"455.916016\"/>\n",
       "  <use xlink:href=\"#glyph0-17\" x=\"306.308594\" y=\"455.916016\"/>\n",
       "</g>\n",
       "<g style=\"fill:rgb(0%,0%,0%);fill-opacity:1;\">\n",
       "  <use xlink:href=\"#glyph0-13\" x=\"373.101562\" y=\"455.916016\"/>\n",
       "  <use xlink:href=\"#glyph0-14\" x=\"379.773438\" y=\"455.916016\"/>\n",
       "  <use xlink:href=\"#glyph0-18\" x=\"383.109375\" y=\"455.916016\"/>\n",
       "</g>\n",
       "<g style=\"fill:rgb(0%,0%,0%);fill-opacity:1;\">\n",
       "  <use xlink:href=\"#glyph0-19\" x=\"449.898438\" y=\"455.916016\"/>\n",
       "  <use xlink:href=\"#glyph0-14\" x=\"456.570312\" y=\"455.916016\"/>\n",
       "  <use xlink:href=\"#glyph0-13\" x=\"459.90625\" y=\"455.916016\"/>\n",
       "</g>\n",
       "<path style=\"fill:none;stroke-width:0.75;stroke-linecap:round;stroke-linejoin:round;stroke:rgb(0%,0%,0%);stroke-opacity:1;stroke-miterlimit:10;\" d=\"M 59.039062 416.800781 L 59.039062 72.800781 \"/>\n",
       "<path style=\"fill:none;stroke-width:0.75;stroke-linecap:round;stroke-linejoin:round;stroke:rgb(0%,0%,0%);stroke-opacity:1;stroke-miterlimit:10;\" d=\"M 59.039062 416.800781 L 51.839844 416.800781 \"/>\n",
       "<path style=\"fill:none;stroke-width:0.75;stroke-linecap:round;stroke-linejoin:round;stroke:rgb(0%,0%,0%);stroke-opacity:1;stroke-miterlimit:10;\" d=\"M 59.039062 348 L 51.839844 348 \"/>\n",
       "<path style=\"fill:none;stroke-width:0.75;stroke-linecap:round;stroke-linejoin:round;stroke:rgb(0%,0%,0%);stroke-opacity:1;stroke-miterlimit:10;\" d=\"M 59.039062 279.199219 L 51.839844 279.199219 \"/>\n",
       "<path style=\"fill:none;stroke-width:0.75;stroke-linecap:round;stroke-linejoin:round;stroke:rgb(0%,0%,0%);stroke-opacity:1;stroke-miterlimit:10;\" d=\"M 59.039062 210.398438 L 51.839844 210.398438 \"/>\n",
       "<path style=\"fill:none;stroke-width:0.75;stroke-linecap:round;stroke-linejoin:round;stroke:rgb(0%,0%,0%);stroke-opacity:1;stroke-miterlimit:10;\" d=\"M 59.039062 141.601562 L 51.839844 141.601562 \"/>\n",
       "<path style=\"fill:none;stroke-width:0.75;stroke-linecap:round;stroke-linejoin:round;stroke:rgb(0%,0%,0%);stroke-opacity:1;stroke-miterlimit:10;\" d=\"M 59.039062 72.800781 L 51.839844 72.800781 \"/>\n",
       "<g style=\"fill:rgb(0%,0%,0%);fill-opacity:1;\">\n",
       "  <use xlink:href=\"#glyph1-13\" x=\"41.197266\" y=\"425.300781\"/>\n",
       "  <use xlink:href=\"#glyph1-14\" x=\"41.197266\" y=\"418.628906\"/>\n",
       "  <use xlink:href=\"#glyph1-13\" x=\"41.197266\" y=\"415.292969\"/>\n",
       "</g>\n",
       "<g style=\"fill:rgb(0%,0%,0%);fill-opacity:1;\">\n",
       "  <use xlink:href=\"#glyph1-13\" x=\"41.197266\" y=\"356.5\"/>\n",
       "  <use xlink:href=\"#glyph1-14\" x=\"41.197266\" y=\"349.828125\"/>\n",
       "  <use xlink:href=\"#glyph1-15\" x=\"41.197266\" y=\"346.492188\"/>\n",
       "</g>\n",
       "<g style=\"fill:rgb(0%,0%,0%);fill-opacity:1;\">\n",
       "  <use xlink:href=\"#glyph1-13\" x=\"41.197266\" y=\"287.699219\"/>\n",
       "  <use xlink:href=\"#glyph1-14\" x=\"41.197266\" y=\"281.027344\"/>\n",
       "  <use xlink:href=\"#glyph1-16\" x=\"41.197266\" y=\"277.691406\"/>\n",
       "</g>\n",
       "<g style=\"fill:rgb(0%,0%,0%);fill-opacity:1;\">\n",
       "  <use xlink:href=\"#glyph1-13\" x=\"41.197266\" y=\"218.898438\"/>\n",
       "  <use xlink:href=\"#glyph1-14\" x=\"41.197266\" y=\"212.226562\"/>\n",
       "  <use xlink:href=\"#glyph1-17\" x=\"41.197266\" y=\"208.890625\"/>\n",
       "</g>\n",
       "<g style=\"fill:rgb(0%,0%,0%);fill-opacity:1;\">\n",
       "  <use xlink:href=\"#glyph1-13\" x=\"41.197266\" y=\"150.101562\"/>\n",
       "  <use xlink:href=\"#glyph1-14\" x=\"41.197266\" y=\"143.429688\"/>\n",
       "  <use xlink:href=\"#glyph1-18\" x=\"41.197266\" y=\"140.09375\"/>\n",
       "</g>\n",
       "<g style=\"fill:rgb(0%,0%,0%);fill-opacity:1;\">\n",
       "  <use xlink:href=\"#glyph1-19\" x=\"41.197266\" y=\"81.300781\"/>\n",
       "  <use xlink:href=\"#glyph1-14\" x=\"41.197266\" y=\"74.628906\"/>\n",
       "  <use xlink:href=\"#glyph1-13\" x=\"41.197266\" y=\"71.292969\"/>\n",
       "</g>\n",
       "<path style=\"fill:none;stroke-width:0.75;stroke-linecap:round;stroke-linejoin:round;stroke:rgb(0%,0%,0%);stroke-opacity:1;stroke-miterlimit:10;\" d=\"M 59.039062 430.558594 L 473.761719 430.558594 L 473.761719 59.039062 L 59.039062 59.039062 L 59.039062 430.558594 \"/>\n",
       "<path style=\"fill:none;stroke-width:0.75;stroke-linecap:round;stroke-linejoin:round;stroke:rgb(0%,0%,0%);stroke-opacity:1;stroke-miterlimit:10;\" d=\"M 74.398438 416.800781 L 99.335938 320.628906 L 109.308594 287.335938 L 214.035156 231.855469 L 253.933594 154.175781 L 308.789062 143.078125 L 323.75 113.488281 L 363.648438 83.898438 L 458.398438 72.800781 \"/>\n",
       "</g>\n",
       "</svg>\n"
      ],
      "text/plain": [
       "plot without title"
      ]
     },
     "metadata": {
      "image/svg+xml": {
       "isolated": true
      }
     },
     "output_type": "display_data"
    }
   ],
   "source": [
    "plot(perf)"
   ]
  },
  {
   "cell_type": "code",
   "execution_count": 111,
   "metadata": {
    "collapsed": true
   },
   "outputs": [],
   "source": [
    "auc = as.numeric(performance(pred,\"auc\")@y.values)"
   ]
  },
  {
   "cell_type": "code",
   "execution_count": 112,
   "metadata": {
    "collapsed": false
   },
   "outputs": [
    {
     "data": {
      "text/html": [
       "0.69271051529116"
      ],
      "text/latex": [
       "0.69271051529116"
      ],
      "text/markdown": [
       "0.69271051529116"
      ],
      "text/plain": [
       "[1] 0.6927105"
      ]
     },
     "execution_count": 112,
     "metadata": {},
     "output_type": "execute_result"
    }
   ],
   "source": [
    "auc"
   ]
  },
  {
   "cell_type": "code",
   "execution_count": 113,
   "metadata": {
    "collapsed": true
   },
   "outputs": [],
   "source": [
    "StevensTree2 = rpart(Reverse~ Circuit+Issue+Petitioner+Respondent+LowerCourt+Unconst, data = Train, method = \"class\", minbucket=100)"
   ]
  },
  {
   "cell_type": "code",
   "execution_count": 114,
   "metadata": {
    "collapsed": false
   },
   "outputs": [
    {
     "data": {
      "image/png": "[encoded data removed]",
      "image/svg+xml": [
       "<?xml version=\"1.0\" encoding=\"UTF-8\"?>\n",
       "<svg xmlns=\"http://www.w3.org/2000/svg\" xmlns:xlink=\"http://www.w3.org/1999/xlink\" width=\"504pt\" height=\"504pt\" viewBox=\"0 0 504 504\" version=\"1.1\">\n",
       "<defs>\n",
       "<g>\n",
       "<symbol overflow=\"visible\" id=\"glyph0-0\">\n",
       "<path style=\"stroke:none;\" d=\"\"/>\n",
       "</symbol>\n",
       "<symbol overflow=\"visible\" id=\"glyph0-1\">\n",
       "<path style=\"stroke:none;\" d=\"M 2.765625 -8.75 L 0.953125 -8.75 L 0.953125 0 L 6.953125 0 L 6.953125 -1.5 L 2.765625 -1.5 Z \"/>\n",
       "</symbol>\n",
       "<symbol overflow=\"visible\" id=\"glyph0-2\">\n",
       "<path style=\"stroke:none;\" d=\"M 3.609375 -6.59375 C 1.625 -6.59375 0.421875 -5.28125 0.421875 -3.15625 C 0.421875 -1.015625 1.625 0.28125 3.625 0.28125 C 5.59375 0.28125 6.828125 -1.03125 6.828125 -3.109375 C 6.828125 -5.296875 5.640625 -6.59375 3.609375 -6.59375 Z M 3.625 -5.234375 C 4.546875 -5.234375 5.140625 -4.40625 5.140625 -3.125 C 5.140625 -1.921875 4.53125 -1.078125 3.625 -1.078125 C 2.71875 -1.078125 2.09375 -1.921875 2.09375 -3.15625 C 2.09375 -4.390625 2.71875 -5.234375 3.625 -5.234375 Z \"/>\n",
       "</symbol>\n",
       "<symbol overflow=\"visible\" id=\"glyph0-3\">\n",
       "<path style=\"stroke:none;\" d=\"M 7.359375 0 L 9.1875 -6.484375 L 7.453125 -6.484375 L 6.46875 -1.9375 L 5.5 -6.484375 L 3.8125 -6.484375 L 2.828125 -1.9375 L 1.796875 -6.484375 L 0.0625 -6.484375 L 1.890625 0 L 3.609375 0 L 4.640625 -4.578125 L 5.609375 0 Z \"/>\n",
       "</symbol>\n",
       "<symbol overflow=\"visible\" id=\"glyph0-4\">\n",
       "<path style=\"stroke:none;\" d=\"M 6.28125 -2.71875 C 6.296875 -2.859375 6.296875 -2.921875 6.296875 -3 C 6.296875 -3.640625 6.203125 -4.25 6.046875 -4.703125 C 5.609375 -5.875 4.578125 -6.59375 3.265625 -6.59375 C 1.40625 -6.59375 0.265625 -5.25 0.265625 -3.078125 C 0.265625 -1 1.390625 0.28125 3.234375 0.28125 C 4.6875 0.28125 5.859375 -0.546875 6.234375 -1.828125 L 4.578125 -1.828125 C 4.375 -1.3125 3.90625 -1.015625 3.28125 -1.015625 C 2.8125 -1.015625 2.421875 -1.21875 2.1875 -1.578125 C 2.03125 -1.8125 1.96875 -2.09375 1.9375 -2.71875 Z M 1.96875 -3.828125 C 2.078125 -4.8125 2.5 -5.296875 3.234375 -5.296875 C 3.65625 -5.296875 4.046875 -5.09375 4.28125 -4.765625 C 4.4375 -4.53125 4.515625 -4.265625 4.546875 -3.828125 Z \"/>\n",
       "</symbol>\n",
       "<symbol overflow=\"visible\" id=\"glyph0-5\">\n",
       "<path style=\"stroke:none;\" d=\"M 0.75 -6.484375 L 0.75 0 L 2.4375 0 L 2.4375 -3.4375 C 2.4375 -4.421875 2.921875 -4.921875 3.90625 -4.921875 C 4.09375 -4.921875 4.21875 -4.90625 4.4375 -4.875 L 4.4375 -6.578125 C 4.34375 -6.59375 4.28125 -6.59375 4.234375 -6.59375 C 3.46875 -6.59375 2.796875 -6.078125 2.4375 -5.203125 L 2.4375 -6.484375 Z \"/>\n",
       "</symbol>\n",
       "<symbol overflow=\"visible\" id=\"glyph0-6\">\n",
       "<path style=\"stroke:none;\" d=\"M 8.1875 -5.78125 C 8.125 -6.546875 7.96875 -7.015625 7.59375 -7.515625 C 6.921875 -8.40625 5.84375 -8.890625 4.53125 -8.890625 C 2.0625 -8.890625 0.53125 -7.125 0.53125 -4.296875 C 0.53125 -1.484375 2.046875 0.28125 4.484375 0.28125 C 6.65625 0.28125 8.109375 -0.984375 8.21875 -2.984375 L 6.46875 -2.984375 C 6.359375 -1.875 5.65625 -1.234375 4.53125 -1.234375 C 3.140625 -1.234375 2.328125 -2.359375 2.328125 -4.265625 C 2.328125 -6.203125 3.1875 -7.359375 4.59375 -7.359375 C 5.21875 -7.359375 5.734375 -7.140625 6.078125 -6.71875 C 6.265625 -6.484375 6.359375 -6.25 6.46875 -5.78125 Z \"/>\n",
       "</symbol>\n",
       "<symbol overflow=\"visible\" id=\"glyph0-7\">\n",
       "<path style=\"stroke:none;\" d=\"M 6.484375 0 L 6.484375 -6.484375 L 4.8125 -6.484375 L 4.8125 -2.421875 C 4.8125 -1.65625 4.265625 -1.15625 3.453125 -1.15625 C 2.734375 -1.15625 2.375 -1.53125 2.375 -2.3125 L 2.375 -6.484375 L 0.703125 -6.484375 L 0.703125 -1.96875 C 0.703125 -0.546875 1.484375 0.28125 2.875 0.28125 C 3.75 0.28125 4.328125 -0.046875 4.8125 -0.765625 L 4.8125 0 Z \"/>\n",
       "</symbol>\n",
       "<symbol overflow=\"visible\" id=\"glyph0-8\">\n",
       "<path style=\"stroke:none;\" d=\"\"/>\n",
       "</symbol>\n",
       "<symbol overflow=\"visible\" id=\"glyph0-9\">\n",
       "<path style=\"stroke:none;\" d=\"M 6.40625 -4.9375 L 0.59375 -4.9375 L 0.59375 -3.5 L 6.40625 -3.5 Z M 6.40625 -2.046875 L 0.59375 -2.046875 L 0.59375 -0.625 L 6.40625 -0.625 Z \"/>\n",
       "</symbol>\n",
       "<symbol overflow=\"visible\" id=\"glyph0-10\">\n",
       "<path style=\"stroke:none;\" d=\"M 2.484375 -8.75 L 0.796875 -8.75 L 0.796875 0 L 2.484375 0 Z \"/>\n",
       "</symbol>\n",
       "<symbol overflow=\"visible\" id=\"glyph0-11\">\n",
       "<path style=\"stroke:none;\" d=\"M 0.703125 -8.75 L 0.703125 0 L 2.390625 0 L 2.390625 -0.65625 C 2.796875 -0.03125 3.359375 0.28125 4.171875 0.28125 C 5.71875 0.28125 6.90625 -1.203125 6.90625 -3.15625 C 6.90625 -4.03125 6.640625 -4.921875 6.203125 -5.546875 C 5.765625 -6.1875 4.96875 -6.59375 4.171875 -6.59375 C 3.375 -6.59375 2.796875 -6.28125 2.390625 -5.640625 L 2.390625 -8.75 Z M 3.796875 -5.1875 C 4.625 -5.1875 5.21875 -4.34375 5.21875 -3.140625 C 5.21875 -1.96875 4.625 -1.125 3.796875 -1.125 C 2.953125 -1.125 2.390625 -1.9375 2.390625 -3.1875 C 2.390625 -4.359375 2.96875 -5.1875 3.796875 -5.1875 Z \"/>\n",
       "</symbol>\n",
       "<symbol overflow=\"visible\" id=\"glyph1-0\">\n",
       "<path style=\"stroke:none;\" d=\"\"/>\n",
       "</symbol>\n",
       "<symbol overflow=\"visible\" id=\"glyph1-1\">\n",
       "<path style=\"stroke:none;\" d=\"M 3.296875 -8.515625 C 2.515625 -8.515625 1.78125 -8.15625 1.34375 -7.578125 C 0.796875 -6.828125 0.515625 -5.6875 0.515625 -4.109375 C 0.515625 -1.25 1.46875 0.28125 3.296875 0.28125 C 5.09375 0.28125 6.078125 -1.25 6.078125 -4.046875 C 6.078125 -5.703125 5.8125 -6.796875 5.25 -7.578125 C 4.8125 -8.171875 4.109375 -8.515625 3.296875 -8.515625 Z M 3.296875 -7.578125 C 4.4375 -7.578125 5 -6.421875 5 -4.140625 C 5 -1.734375 4.453125 -0.59375 3.28125 -0.59375 C 2.15625 -0.59375 1.59375 -1.78125 1.59375 -4.109375 C 1.59375 -6.4375 2.15625 -7.578125 3.296875 -7.578125 Z \"/>\n",
       "</symbol>\n",
       "<symbol overflow=\"visible\" id=\"glyph1-2\">\n",
       "<path style=\"stroke:none;\" d=\"M 3.109375 -6.0625 L 3.109375 0 L 4.15625 0 L 4.15625 -8.515625 L 3.46875 -8.515625 C 3.09375 -7.203125 2.859375 -7.015625 1.21875 -6.8125 L 1.21875 -6.0625 Z \"/>\n",
       "</symbol>\n",
       "<symbol overflow=\"visible\" id=\"glyph2-0\">\n",
       "<path style=\"stroke:none;\" d=\"\"/>\n",
       "</symbol>\n",
       "<symbol overflow=\"visible\" id=\"glyph2-1\">\n",
       "<path style=\"stroke:none;\" d=\"M 4.8125 -5.03125 L 2.578125 -1.125 L 2.125 -5.03125 L 1.265625 -5.03125 L 1.921875 0.03125 L 1.421875 0.8125 C 1.15625 1.21875 1 1.3125 0.65625 1.3125 C 0.5625 1.3125 0.484375 1.3125 0.234375 1.28125 L 0.078125 2 C 0.25 2.078125 0.359375 2.09375 0.546875 2.09375 C 1.234375 2.09375 1.71875 1.765625 2.125 1.0625 L 5.65625 -5.03125 Z \"/>\n",
       "</symbol>\n",
       "<symbol overflow=\"visible\" id=\"glyph2-2\">\n",
       "<path style=\"stroke:none;\" d=\"M 5.40625 -2.25 L 5.4375 -2.40625 C 5.515625 -2.875 5.5625 -3.265625 5.5625 -3.53125 C 5.5625 -4.453125 4.765625 -5.171875 3.734375 -5.171875 C 2.890625 -5.171875 2.09375 -4.78125 1.609375 -4.140625 C 1.15625 -3.53125 0.8125 -2.4375 0.8125 -1.65625 C 0.8125 -1.140625 1.03125 -0.609375 1.40625 -0.265625 C 1.734375 0.0625 2.15625 0.21875 2.703125 0.21875 C 3.859375 0.21875 4.84375 -0.484375 5.140625 -1.53125 L 4.34375 -1.53125 C 3.984375 -0.859375 3.484375 -0.515625 2.84375 -0.515625 C 2.078125 -0.515625 1.65625 -0.984375 1.65625 -1.796875 C 1.65625 -2 1.65625 -2.09375 1.703125 -2.25 Z M 1.875 -2.9375 C 2.125 -3.8125 2.828125 -4.4375 3.609375 -4.4375 C 4.28125 -4.4375 4.71875 -3.96875 4.71875 -3.25 C 4.71875 -3.15625 4.703125 -3.09375 4.6875 -2.9375 Z \"/>\n",
       "</symbol>\n",
       "<symbol overflow=\"visible\" id=\"glyph2-3\">\n",
       "<path style=\"stroke:none;\" d=\"M 4.9375 -3.625 C 4.984375 -3.828125 4.984375 -3.921875 4.984375 -4.03125 C 4.984375 -4.703125 4.34375 -5.171875 3.421875 -5.171875 C 2.734375 -5.171875 2.15625 -4.96875 1.75 -4.59375 C 1.40625 -4.265625 1.1875 -3.765625 1.1875 -3.3125 C 1.1875 -2.71875 1.515625 -2.453125 2.5 -2.1875 L 3.21875 -2 C 3.53125 -1.921875 3.671875 -1.859375 3.765625 -1.75 C 3.828125 -1.671875 3.890625 -1.53125 3.890625 -1.4375 C 3.890625 -1.265625 3.734375 -0.96875 3.578125 -0.84375 C 3.34375 -0.640625 2.921875 -0.515625 2.515625 -0.515625 C 1.859375 -0.515625 1.484375 -0.78125 1.484375 -1.25 C 1.484375 -1.3125 1.484375 -1.40625 1.5 -1.5 L 0.640625 -1.5 C 0.59375 -1.28125 0.578125 -1.15625 0.578125 -1 C 0.578125 -0.234375 1.25 0.21875 2.375 0.21875 C 3.796875 0.21875 4.734375 -0.515625 4.734375 -1.65625 C 4.734375 -2.25 4.40625 -2.546875 3.5625 -2.765625 L 2.84375 -2.9375 C 2.296875 -3.078125 2.03125 -3.265625 2.03125 -3.515625 C 2.03125 -3.71875 2.140625 -3.953125 2.3125 -4.109375 C 2.546875 -4.34375 2.828125 -4.4375 3.25 -4.4375 C 3.8125 -4.4375 4.140625 -4.21875 4.140625 -3.84375 C 4.140625 -3.765625 4.140625 -3.703125 4.125 -3.625 Z \"/>\n",
       "</symbol>\n",
       "<symbol overflow=\"visible\" id=\"glyph2-4\">\n",
       "<path style=\"stroke:none;\" d=\"M 1.734375 -5.03125 L 0.671875 0 L 1.484375 0 L 2.0625 -2.765625 C 2.296875 -3.828125 2.96875 -4.484375 3.828125 -4.484375 C 4.3125 -4.484375 4.65625 -4.140625 4.65625 -3.703125 C 4.65625 -3.640625 4.640625 -3.5 4.609375 -3.34375 L 3.890625 0 L 4.703125 0 L 5.46875 -3.609375 C 5.5 -3.734375 5.5 -3.84375 5.5 -3.96875 C 5.5 -4.703125 5 -5.171875 4.203125 -5.171875 C 3.46875 -5.171875 2.84375 -4.90625 2.34375 -4.40625 L 2.46875 -5.03125 Z \"/>\n",
       "</symbol>\n",
       "<symbol overflow=\"visible\" id=\"glyph2-5\">\n",
       "<path style=\"stroke:none;\" d=\"M 3.6875 -5.171875 C 2.796875 -5.171875 2 -4.765625 1.515625 -4.0625 C 1.078125 -3.4375 0.765625 -2.390625 0.765625 -1.578125 C 0.765625 -0.515625 1.5 0.21875 2.578125 0.21875 C 3.5 0.21875 4.234375 -0.15625 4.765625 -0.890625 C 5.203125 -1.5 5.53125 -2.546875 5.53125 -3.375 C 5.53125 -3.890625 5.328125 -4.375 5 -4.703125 C 4.671875 -5.015625 4.234375 -5.171875 3.6875 -5.171875 Z M 3.5625 -4.4375 C 4.265625 -4.4375 4.6875 -3.96875 4.6875 -3.1875 C 4.6875 -2.625 4.515625 -2 4.265625 -1.53125 C 3.890625 -0.859375 3.375 -0.515625 2.71875 -0.515625 C 2.03125 -0.515625 1.609375 -1 1.609375 -1.765625 C 1.609375 -2.3125 1.78125 -2.9375 2.03125 -3.421875 C 2.390625 -4.078125 2.921875 -4.4375 3.5625 -4.4375 Z \"/>\n",
       "</symbol>\n",
       "</g>\n",
       "</defs>\n",
       "<g id=\"surface352\">\n",
       "<rect x=\"0\" y=\"0\" width=\"504\" height=\"504\" style=\"fill:rgb(100%,100%,100%);fill-opacity:1;stroke:none;\"/>\n",
       "<path style=\"fill:none;stroke-width:0.75;stroke-linecap:butt;stroke-linejoin:round;stroke:rgb(0%,0%,0%);stroke-opacity:1;stroke-miterlimit:10;\" d=\"M 160.339844 283.132812 L 233.667969 210.050781 L 252 210.050781 \"/>\n",
       "<path style=\"fill:none;stroke-width:0.75;stroke-linecap:butt;stroke-linejoin:round;stroke:rgb(0%,0%,0%);stroke-opacity:1;stroke-miterlimit:10;\" d=\"M 343.660156 283.132812 L 270.332031 210.050781 L 252 210.050781 \"/>\n",
       "<path style=\" stroke:none;fill-rule:nonzero;fill:rgb(100%,100%,100%);fill-opacity:1;\" d=\"M 203.25 214.355469 L 203.25 197.125 L 300.75 197.125 L 300.75 214.355469 Z \"/>\n",
       "<g style=\"fill:rgb(0%,0%,0%);fill-opacity:1;\">\n",
       "  <use xlink:href=\"#glyph0-1\" x=\"208\" y=\"209.490234\"/>\n",
       "  <use xlink:href=\"#glyph0-2\" x=\"215.332031\" y=\"209.490234\"/>\n",
       "  <use xlink:href=\"#glyph0-3\" x=\"222.664062\" y=\"209.490234\"/>\n",
       "  <use xlink:href=\"#glyph0-4\" x=\"232\" y=\"209.490234\"/>\n",
       "  <use xlink:href=\"#glyph0-5\" x=\"238.671875\" y=\"209.490234\"/>\n",
       "  <use xlink:href=\"#glyph0-6\" x=\"243.339844\" y=\"209.490234\"/>\n",
       "  <use xlink:href=\"#glyph0-2\" x=\"252.003906\" y=\"209.490234\"/>\n",
       "  <use xlink:href=\"#glyph0-7\" x=\"259.335938\" y=\"209.490234\"/>\n",
       "  <use xlink:href=\"#glyph0-8\" x=\"266.667969\" y=\"209.490234\"/>\n",
       "  <use xlink:href=\"#glyph0-9\" x=\"270.003906\" y=\"209.490234\"/>\n",
       "  <use xlink:href=\"#glyph0-8\" x=\"277.011719\" y=\"209.490234\"/>\n",
       "  <use xlink:href=\"#glyph0-10\" x=\"280.347656\" y=\"209.490234\"/>\n",
       "  <use xlink:href=\"#glyph0-11\" x=\"283.683594\" y=\"209.490234\"/>\n",
       "  <use xlink:href=\"#glyph0-5\" x=\"291.015625\" y=\"209.490234\"/>\n",
       "</g>\n",
       "<path style=\"fill-rule:nonzero;fill:rgb(100%,100%,100%);fill-opacity:1;stroke-width:0.75;stroke-linecap:round;stroke-linejoin:round;stroke:rgb(0%,0%,0%);stroke-opacity:1;stroke-miterlimit:10;\" d=\"M 152.007812 287.042969 L 152.289062 286.03125 L 153.125 285.085938 L 154.449219 284.277344 L 156.171875 283.65625 L 158.183594 283.265625 L 160.339844 283.132812 L 162.496094 283.265625 L 164.507812 283.65625 L 166.234375 284.277344 L 167.558594 285.085938 L 168.390625 286.03125 L 168.675781 287.042969 L 168.675781 296.453125 L 168.390625 297.464844 L 167.558594 298.40625 L 166.234375 299.21875 L 164.507812 299.839844 L 162.496094 300.230469 L 160.339844 300.363281 L 158.183594 300.230469 L 156.171875 299.839844 L 154.449219 299.21875 L 153.125 298.40625 L 152.289062 297.464844 L 152.007812 296.453125 Z \"/>\n",
       "<path style=\"fill-rule:nonzero;fill:rgb(100%,100%,100%);fill-opacity:1;stroke-width:0.75;stroke-linecap:round;stroke-linejoin:round;stroke:rgb(0%,0%,0%);stroke-opacity:1;stroke-miterlimit:10;\" d=\"M 335.324219 287.042969 L 335.609375 286.03125 L 336.441406 285.085938 L 337.765625 284.277344 L 339.492188 283.65625 L 341.503906 283.265625 L 343.660156 283.132812 L 345.816406 283.265625 L 347.828125 283.65625 L 349.550781 284.277344 L 350.875 285.085938 L 351.710938 286.03125 L 351.992188 287.042969 L 351.992188 296.453125 L 351.710938 297.464844 L 350.875 298.40625 L 349.550781 299.21875 L 347.828125 299.839844 L 345.816406 300.230469 L 343.660156 300.363281 L 341.503906 300.230469 L 339.492188 299.839844 L 337.765625 299.21875 L 336.441406 298.40625 L 335.609375 297.464844 L 335.324219 296.453125 Z \"/>\n",
       "<g style=\"fill:rgb(0%,0%,0%);fill-opacity:1;\">\n",
       "  <use xlink:href=\"#glyph1-1\" x=\"156.839844\" y=\"295.181641\"/>\n",
       "</g>\n",
       "<g style=\"fill:rgb(0%,0%,0%);fill-opacity:1;\">\n",
       "  <use xlink:href=\"#glyph1-2\" x=\"340.160156\" y=\"295.681641\"/>\n",
       "</g>\n",
       "<path style=\"fill-rule:nonzero;fill:rgb(100%,100%,100%);fill-opacity:1;stroke-width:0.75;stroke-linecap:round;stroke-linejoin:round;stroke:rgb(0%,0%,0%);stroke-opacity:1;stroke-miterlimit:10;\" d=\"M 175.601562 205.203125 L 175.65625 204.785156 L 175.820312 204.394531 L 176.074219 204.058594 L 176.410156 203.804688 L 176.800781 203.640625 L 177.21875 203.585938 L 197.027344 203.585938 L 197.445312 203.640625 L 197.835938 203.804688 L 198.167969 204.058594 L 198.425781 204.394531 L 198.585938 204.785156 L 198.640625 205.203125 L 198.640625 214.894531 L 198.585938 215.3125 L 198.425781 215.703125 L 198.167969 216.039062 L 197.835938 216.292969 L 197.445312 216.457031 L 197.027344 216.511719 L 177.21875 216.511719 L 176.800781 216.457031 L 176.410156 216.292969 L 176.074219 216.039062 L 175.820312 215.703125 L 175.65625 215.3125 L 175.601562 214.894531 Z \"/>\n",
       "<path style=\"fill-rule:nonzero;fill:rgb(100%,100%,100%);fill-opacity:1;stroke-width:0.75;stroke-linecap:round;stroke-linejoin:round;stroke:rgb(0%,0%,0%);stroke-opacity:1;stroke-miterlimit:10;\" d=\"M 305.359375 205.203125 L 305.414062 204.785156 L 305.574219 204.394531 L 305.832031 204.058594 L 306.164062 203.804688 L 306.554688 203.640625 L 306.972656 203.585938 L 326.78125 203.585938 L 327.199219 203.640625 L 327.589844 203.804688 L 327.925781 204.058594 L 328.179688 204.394531 L 328.34375 204.785156 L 328.398438 205.203125 L 328.398438 214.894531 L 328.34375 215.3125 L 328.179688 215.703125 L 327.925781 216.039062 L 327.589844 216.292969 L 327.199219 216.457031 L 326.78125 216.511719 L 306.972656 216.511719 L 306.554688 216.457031 L 306.164062 216.292969 L 305.832031 216.039062 L 305.574219 215.703125 L 305.414062 215.3125 L 305.359375 214.894531 Z \"/>\n",
       "<g style=\"fill:rgb(0%,0%,0%);fill-opacity:1;\">\n",
       "  <use xlink:href=\"#glyph2-1\" x=\"179.621094\" y=\"212.022461\"/>\n",
       "  <use xlink:href=\"#glyph2-2\" x=\"184.417969\" y=\"212.022461\"/>\n",
       "  <use xlink:href=\"#glyph2-3\" x=\"189.751953\" y=\"212.022461\"/>\n",
       "</g>\n",
       "<g style=\"fill:rgb(0%,0%,0%);fill-opacity:1;\">\n",
       "  <use xlink:href=\"#glyph2-4\" x=\"311.378906\" y=\"211.948242\"/>\n",
       "  <use xlink:href=\"#glyph2-5\" x=\"316.712891\" y=\"211.948242\"/>\n",
       "</g>\n",
       "</g>\n",
       "</svg>\n"
      ],
      "text/plain": [
       "plot without title"
      ]
     },
     "metadata": {
      "image/svg+xml": {
       "isolated": true
      }
     },
     "output_type": "display_data"
    }
   ],
   "source": [
    "prp(StevensTree2)"
   ]
  },
  {
   "cell_type": "code",
   "execution_count": 115,
   "metadata": {
    "collapsed": true
   },
   "outputs": [],
   "source": [
    "StevensTree3 = rpart(Reverse~ Circuit+Issue+Petitioner+Respondent+LowerCourt+Unconst, data = Train, method = \"class\", minbucket=5)"
   ]
  },
  {
   "cell_type": "code",
   "execution_count": 116,
   "metadata": {
    "collapsed": false
   },
   "outputs": [
    {
     "data": {
      "image/png": "[encoded data removed]",
      "image/svg+xml": [
       "<?xml version=\"1.0\" encoding=\"UTF-8\"?>\n",
       "<svg xmlns=\"http://www.w3.org/2000/svg\" xmlns:xlink=\"http://www.w3.org/1999/xlink\" width=\"504pt\" height=\"504pt\" viewBox=\"0 0 504 504\" version=\"1.1\">\n",
       "<defs>\n",
       "<g>\n",
       "<symbol overflow=\"visible\" id=\"glyph0-0\">\n",
       "<path style=\"stroke:none;\" d=\"\"/>\n",
       "</symbol>\n",
       "<symbol overflow=\"visible\" id=\"glyph0-1\">\n",
       "<path style=\"stroke:none;\" d=\"M 1.484375 -4.703125 L 0.515625 -4.703125 L 0.515625 0 L 3.734375 0 L 3.734375 -0.8125 L 1.484375 -0.8125 Z \"/>\n",
       "</symbol>\n",
       "<symbol overflow=\"visible\" id=\"glyph0-2\">\n",
       "<path style=\"stroke:none;\" d=\"M 1.9375 -3.546875 C 0.875 -3.546875 0.21875 -2.84375 0.21875 -1.703125 C 0.21875 -0.546875 0.875 0.140625 1.953125 0.140625 C 3 0.140625 3.671875 -0.5625 3.671875 -1.671875 C 3.671875 -2.859375 3.03125 -3.546875 1.9375 -3.546875 Z M 1.953125 -2.8125 C 2.453125 -2.8125 2.765625 -2.375 2.765625 -1.6875 C 2.765625 -1.03125 2.4375 -0.578125 1.953125 -0.578125 C 1.453125 -0.578125 1.125 -1.03125 1.125 -1.703125 C 1.125 -2.359375 1.453125 -2.8125 1.953125 -2.8125 Z \"/>\n",
       "</symbol>\n",
       "<symbol overflow=\"visible\" id=\"glyph0-3\">\n",
       "<path style=\"stroke:none;\" d=\"M 3.953125 0 L 4.9375 -3.484375 L 4 -3.484375 L 3.484375 -1.046875 L 2.953125 -3.484375 L 2.046875 -3.484375 L 1.515625 -1.046875 L 0.96875 -3.484375 L 0.03125 -3.484375 L 1.015625 0 L 1.9375 0 L 2.5 -2.453125 L 3.015625 0 Z \"/>\n",
       "</symbol>\n",
       "<symbol overflow=\"visible\" id=\"glyph0-4\">\n",
       "<path style=\"stroke:none;\" d=\"M 3.375 -1.453125 C 3.390625 -1.53125 3.390625 -1.5625 3.390625 -1.609375 C 3.390625 -1.96875 3.34375 -2.28125 3.25 -2.53125 C 3.015625 -3.15625 2.453125 -3.546875 1.75 -3.546875 C 0.75 -3.546875 0.140625 -2.8125 0.140625 -1.65625 C 0.140625 -0.53125 0.75 0.140625 1.734375 0.140625 C 2.515625 0.140625 3.15625 -0.296875 3.34375 -0.984375 L 2.453125 -0.984375 C 2.34375 -0.703125 2.09375 -0.546875 1.765625 -0.546875 C 1.515625 -0.546875 1.296875 -0.65625 1.171875 -0.84375 C 1.09375 -0.96875 1.0625 -1.125 1.046875 -1.453125 Z M 1.0625 -2.0625 C 1.109375 -2.59375 1.34375 -2.859375 1.75 -2.859375 C 1.96875 -2.859375 2.171875 -2.75 2.296875 -2.5625 C 2.390625 -2.4375 2.421875 -2.296875 2.453125 -2.0625 Z \"/>\n",
       "</symbol>\n",
       "<symbol overflow=\"visible\" id=\"glyph0-5\">\n",
       "<path style=\"stroke:none;\" d=\"M 0.40625 -3.484375 L 0.40625 0 L 1.3125 0 L 1.3125 -1.859375 C 1.3125 -2.375 1.578125 -2.640625 2.109375 -2.640625 C 2.203125 -2.640625 2.265625 -2.640625 2.390625 -2.625 L 2.390625 -3.53125 C 2.34375 -3.546875 2.296875 -3.546875 2.28125 -3.546875 C 1.859375 -3.546875 1.5 -3.265625 1.3125 -2.796875 L 1.3125 -3.484375 Z \"/>\n",
       "</symbol>\n",
       "<symbol overflow=\"visible\" id=\"glyph0-6\">\n",
       "<path style=\"stroke:none;\" d=\"M 4.40625 -3.109375 C 4.375 -3.515625 4.28125 -3.78125 4.078125 -4.046875 C 3.71875 -4.515625 3.140625 -4.78125 2.4375 -4.78125 C 1.109375 -4.78125 0.28125 -3.828125 0.28125 -2.3125 C 0.28125 -0.796875 1.109375 0.140625 2.40625 0.140625 C 3.578125 0.140625 4.359375 -0.53125 4.421875 -1.609375 L 3.484375 -1.609375 C 3.421875 -1 3.046875 -0.671875 2.4375 -0.671875 C 1.6875 -0.671875 1.25 -1.265625 1.25 -2.296875 C 1.25 -3.34375 1.703125 -3.953125 2.46875 -3.953125 C 2.8125 -3.953125 3.078125 -3.84375 3.265625 -3.609375 C 3.375 -3.484375 3.421875 -3.359375 3.484375 -3.109375 Z \"/>\n",
       "</symbol>\n",
       "<symbol overflow=\"visible\" id=\"glyph0-7\">\n",
       "<path style=\"stroke:none;\" d=\"M 3.484375 0 L 3.484375 -3.484375 L 2.59375 -3.484375 L 2.59375 -1.296875 C 2.59375 -0.890625 2.296875 -0.625 1.859375 -0.625 C 1.46875 -0.625 1.28125 -0.828125 1.28125 -1.25 L 1.28125 -3.484375 L 0.375 -3.484375 L 0.375 -1.0625 C 0.375 -0.296875 0.796875 0.140625 1.546875 0.140625 C 2.015625 0.140625 2.328125 -0.03125 2.59375 -0.40625 L 2.59375 0 Z \"/>\n",
       "</symbol>\n",
       "<symbol overflow=\"visible\" id=\"glyph0-8\">\n",
       "<path style=\"stroke:none;\" d=\"\"/>\n",
       "</symbol>\n",
       "<symbol overflow=\"visible\" id=\"glyph0-9\">\n",
       "<path style=\"stroke:none;\" d=\"M 3.453125 -2.65625 L 0.328125 -2.65625 L 0.328125 -1.890625 L 3.453125 -1.890625 Z M 3.453125 -1.109375 L 0.328125 -1.109375 L 0.328125 -0.328125 L 3.453125 -0.328125 Z \"/>\n",
       "</symbol>\n",
       "<symbol overflow=\"visible\" id=\"glyph0-10\">\n",
       "<path style=\"stroke:none;\" d=\"M 1.328125 -4.703125 L 0.4375 -4.703125 L 0.4375 0 L 1.328125 0 Z \"/>\n",
       "</symbol>\n",
       "<symbol overflow=\"visible\" id=\"glyph0-11\">\n",
       "<path style=\"stroke:none;\" d=\"M 0.375 -4.703125 L 0.375 0 L 1.28125 0 L 1.28125 -0.359375 C 1.5 -0.015625 1.8125 0.140625 2.25 0.140625 C 3.078125 0.140625 3.703125 -0.640625 3.703125 -1.703125 C 3.703125 -2.171875 3.5625 -2.640625 3.34375 -2.984375 C 3.09375 -3.328125 2.671875 -3.546875 2.25 -3.546875 C 1.8125 -3.546875 1.5 -3.375 1.28125 -3.03125 L 1.28125 -4.703125 Z M 2.046875 -2.78125 C 2.484375 -2.78125 2.8125 -2.34375 2.8125 -1.6875 C 2.8125 -1.0625 2.484375 -0.609375 2.046875 -0.609375 C 1.59375 -0.609375 1.28125 -1.046875 1.28125 -1.703125 C 1.28125 -2.34375 1.59375 -2.78125 2.046875 -2.78125 Z \"/>\n",
       "</symbol>\n",
       "<symbol overflow=\"visible\" id=\"glyph0-12\">\n",
       "<path style=\"stroke:none;\" d=\"M 1.484375 -1.859375 L 2.59375 -1.859375 C 3.015625 -1.859375 3.1875 -1.703125 3.1875 -1.296875 C 3.1875 -1.265625 3.1875 -1.203125 3.1875 -1.109375 C 3.1875 -1 3.1875 -0.875 3.1875 -0.8125 C 3.1875 -0.375 3.203125 -0.21875 3.328125 0 L 4.375 0 L 4.375 -0.171875 C 4.21875 -0.265625 4.15625 -0.359375 4.15625 -0.5625 C 4.140625 -1.953125 4.109375 -2.015625 3.515625 -2.265625 C 4.046875 -2.484375 4.296875 -2.859375 4.296875 -3.4375 C 4.296875 -3.8125 4.171875 -4.15625 3.953125 -4.375 C 3.734375 -4.59375 3.4375 -4.703125 3.046875 -4.703125 L 0.515625 -4.703125 L 0.515625 0 L 1.484375 0 Z M 1.484375 -2.671875 L 1.484375 -3.890625 L 2.65625 -3.890625 C 2.921875 -3.890625 3.046875 -3.875 3.15625 -3.78125 C 3.28125 -3.671875 3.34375 -3.515625 3.34375 -3.296875 C 3.34375 -3.078125 3.265625 -2.890625 3.15625 -2.796875 C 3.0625 -2.703125 2.921875 -2.671875 2.65625 -2.671875 Z \"/>\n",
       "</symbol>\n",
       "<symbol overflow=\"visible\" id=\"glyph0-13\">\n",
       "<path style=\"stroke:none;\" d=\"M 3.265625 -2.359375 C 3.25 -3.09375 2.671875 -3.546875 1.75 -3.546875 C 0.859375 -3.546875 0.3125 -3.09375 0.3125 -2.375 C 0.3125 -2.15625 0.375 -1.953125 0.5 -1.8125 C 0.625 -1.6875 0.734375 -1.625 1.078125 -1.515625 L 2.15625 -1.1875 C 2.375 -1.109375 2.453125 -1.046875 2.453125 -0.90625 C 2.453125 -0.6875 2.203125 -0.5625 1.78125 -0.5625 C 1.546875 -0.5625 1.359375 -0.609375 1.25 -0.6875 C 1.15625 -0.75 1.109375 -0.828125 1.078125 -1.015625 L 0.1875 -1.015625 C 0.21875 -0.25 0.78125 0.140625 1.828125 0.140625 C 2.3125 0.140625 2.6875 0.046875 2.9375 -0.15625 C 3.203125 -0.375 3.359375 -0.6875 3.359375 -1.03125 C 3.359375 -1.484375 3.125 -1.78125 2.671875 -1.90625 L 1.53125 -2.234375 C 1.28125 -2.3125 1.21875 -2.375 1.21875 -2.515625 C 1.21875 -2.703125 1.421875 -2.828125 1.734375 -2.828125 C 2.171875 -2.828125 2.375 -2.671875 2.390625 -2.359375 Z \"/>\n",
       "</symbol>\n",
       "<symbol overflow=\"visible\" id=\"glyph0-14\">\n",
       "<path style=\"stroke:none;\" d=\"M 1.28125 -3.484375 L 0.375 -3.484375 L 0.375 1.40625 L 1.28125 1.40625 L 1.28125 -0.40625 C 1.5 -0.03125 1.8125 0.15625 2.25 0.15625 C 3.078125 0.15625 3.703125 -0.625 3.703125 -1.6875 C 3.703125 -2.1875 3.5625 -2.671875 3.328125 -3 C 3.09375 -3.328125 2.671875 -3.546875 2.25 -3.546875 C 1.8125 -3.546875 1.5 -3.359375 1.28125 -2.96875 Z M 2.046875 -2.78125 C 2.5 -2.78125 2.796875 -2.34375 2.796875 -1.671875 C 2.796875 -1.046875 2.484375 -0.59375 2.046875 -0.59375 C 1.59375 -0.59375 1.28125 -1.03125 1.28125 -1.6875 C 1.28125 -2.34375 1.59375 -2.78125 2.046875 -2.78125 Z \"/>\n",
       "</symbol>\n",
       "<symbol overflow=\"visible\" id=\"glyph0-15\">\n",
       "<path style=\"stroke:none;\" d=\"M 0.40625 -3.484375 L 0.40625 0 L 1.3125 0 L 1.3125 -2.09375 C 1.3125 -2.5 1.59375 -2.78125 2.046875 -2.78125 C 2.421875 -2.78125 2.625 -2.5625 2.625 -2.15625 L 2.625 0 L 3.515625 0 L 3.515625 -2.34375 C 3.515625 -3.109375 3.09375 -3.546875 2.359375 -3.546875 C 1.890625 -3.546875 1.5625 -3.375 1.3125 -2.984375 L 1.3125 -3.484375 Z \"/>\n",
       "</symbol>\n",
       "<symbol overflow=\"visible\" id=\"glyph0-16\">\n",
       "<path style=\"stroke:none;\" d=\"M 2.609375 0 L 3.515625 0 L 3.515625 -4.703125 L 2.609375 -4.703125 L 2.609375 -3.03125 C 2.390625 -3.375 2.078125 -3.546875 1.65625 -3.546875 C 0.8125 -3.546875 0.1875 -2.75 0.1875 -1.6875 C 0.1875 -1.21875 0.328125 -0.734375 0.5625 -0.40625 C 0.796875 -0.078125 1.21875 0.140625 1.65625 0.140625 C 2.078125 0.140625 2.390625 -0.015625 2.609375 -0.359375 Z M 1.859375 -2.78125 C 2.3125 -2.78125 2.609375 -2.34375 2.609375 -1.671875 C 2.609375 -1.046875 2.296875 -0.609375 1.859375 -0.609375 C 1.40625 -0.609375 1.09375 -1.046875 1.09375 -1.6875 C 1.09375 -2.34375 1.40625 -2.78125 1.859375 -2.78125 Z \"/>\n",
       "</symbol>\n",
       "<symbol overflow=\"visible\" id=\"glyph0-17\">\n",
       "<path style=\"stroke:none;\" d=\"M 1.375 -4.703125 L 0.40625 -4.703125 L 0.40625 0 L 1.375 0 Z \"/>\n",
       "</symbol>\n",
       "<symbol overflow=\"visible\" id=\"glyph0-18\">\n",
       "<path style=\"stroke:none;\" d=\"M 0.40625 -0.9375 L 0.40625 0 L 0.96875 0 L 0.96875 0.015625 C 0.96875 0.453125 0.796875 0.6875 0.40625 0.765625 L 0.40625 1.125 C 0.671875 1.09375 0.859375 1.015625 1.03125 0.890625 C 1.296875 0.6875 1.375 0.4375 1.375 -0.0625 L 1.375 -0.9375 Z \"/>\n",
       "</symbol>\n",
       "<symbol overflow=\"visible\" id=\"glyph0-19\">\n",
       "<path style=\"stroke:none;\" d=\"M 3.296875 0 L 4.265625 0 L 4.265625 -4.703125 L 3.296875 -4.703125 L 3.296875 -1.5 L 1.4375 -4.703125 L 0.4375 -4.703125 L 0.4375 0 L 1.40625 0 L 1.40625 -3.25 Z \"/>\n",
       "</symbol>\n",
       "<symbol overflow=\"visible\" id=\"glyph0-20\">\n",
       "<path style=\"stroke:none;\" d=\"M 2.171875 -4.703125 L 2.171875 -1.21875 C 2.171875 -0.875 1.984375 -0.671875 1.640625 -0.671875 C 1.28125 -0.671875 1.125 -0.859375 1.125 -1.296875 L 1.125 -1.75 L 0.15625 -1.75 L 0.15625 -1.28125 C 0.15625 -0.78125 0.265625 -0.484375 0.546875 -0.21875 C 0.8125 0.015625 1.1875 0.140625 1.625 0.140625 C 2.59375 0.140625 3.140625 -0.34375 3.140625 -1.21875 L 3.140625 -4.703125 Z \"/>\n",
       "</symbol>\n",
       "<symbol overflow=\"visible\" id=\"glyph0-21\">\n",
       "<path style=\"stroke:none;\" d=\"M 1.453125 -1.671875 L 2.671875 -1.671875 C 3.53125 -1.671875 4.078125 -2.296875 4.078125 -3.25 C 4.078125 -4.1875 3.546875 -4.703125 2.5625 -4.703125 L 0.484375 -4.703125 L 0.484375 0 L 1.453125 0 Z M 1.453125 -2.484375 L 1.453125 -3.890625 L 2.359375 -3.890625 C 2.875 -3.890625 3.109375 -3.671875 3.109375 -3.1875 C 3.109375 -2.703125 2.875 -2.484375 2.359375 -2.484375 Z \"/>\n",
       "</symbol>\n",
       "<symbol overflow=\"visible\" id=\"glyph0-22\">\n",
       "<path style=\"stroke:none;\" d=\"M 2.515625 -4.78125 C 1.859375 -4.78125 1.3125 -4.5625 0.921875 -4.125 C 0.5 -3.671875 0.265625 -3.015625 0.265625 -2.3125 C 0.265625 -1.609375 0.5 -0.953125 0.921875 -0.5 C 1.328125 -0.0625 1.859375 0.140625 2.515625 0.140625 C 3.1875 0.140625 3.71875 -0.0625 4.125 -0.5 C 4.53125 -0.9375 4.78125 -1.625 4.78125 -2.28125 C 4.78125 -3.015625 4.546875 -3.671875 4.125 -4.125 C 3.71875 -4.578125 3.1875 -4.78125 2.515625 -4.78125 Z M 2.515625 -3.953125 C 3.3125 -3.953125 3.8125 -3.3125 3.8125 -2.296875 C 3.8125 -1.328125 3.296875 -0.671875 2.515625 -0.671875 C 1.75 -0.671875 1.21875 -1.328125 1.21875 -2.3125 C 1.21875 -3.296875 1.75 -3.953125 2.515625 -3.953125 Z \"/>\n",
       "</symbol>\n",
       "<symbol overflow=\"visible\" id=\"glyph0-23\">\n",
       "<path style=\"stroke:none;\" d=\"M 3.921875 -3.265625 C 3.921875 -3.703125 3.8125 -3.984375 3.59375 -4.25 C 3.265625 -4.59375 2.75 -4.78125 2.078125 -4.78125 C 0.9375 -4.78125 0.296875 -4.25 0.296875 -3.34375 C 0.296875 -2.609375 0.65625 -2.25 1.609375 -2.078125 L 2.265625 -1.9375 C 2.921875 -1.8125 3.15625 -1.640625 3.15625 -1.265625 C 3.15625 -0.859375 2.796875 -0.625 2.203125 -0.625 C 1.546875 -0.625 1.1875 -0.90625 1.15625 -1.40625 L 0.203125 -1.40625 C 0.265625 -0.40625 0.953125 0.140625 2.15625 0.140625 C 3.375 0.140625 4.078125 -0.421875 4.078125 -1.375 C 4.078125 -2.109375 3.703125 -2.5 2.84375 -2.671875 L 2.109375 -2.8125 C 1.40625 -2.953125 1.21875 -3.078125 1.21875 -3.421875 C 1.21875 -3.78125 1.53125 -4 2.03125 -4 C 2.640625 -4 2.984375 -3.75 3.015625 -3.265625 Z \"/>\n",
       "</symbol>\n",
       "<symbol overflow=\"visible\" id=\"glyph0-24\">\n",
       "<path style=\"stroke:none;\" d=\"M 2.484375 -3.890625 L 3.859375 -3.890625 L 3.859375 -4.703125 L 0.09375 -4.703125 L 0.09375 -3.890625 L 1.515625 -3.890625 L 1.515625 0 L 2.484375 0 Z \"/>\n",
       "</symbol>\n",
       "<symbol overflow=\"visible\" id=\"glyph0-25\">\n",
       "<path style=\"stroke:none;\" d=\"M 3.234375 -0.953125 L 3.546875 0 L 4.53125 0 L 2.90625 -4.703125 L 1.84375 -4.703125 L 0.171875 0 L 1.15625 0 L 1.46875 -0.953125 Z M 2.96875 -1.75 L 1.75 -1.75 L 2.359375 -3.59375 Z \"/>\n",
       "</symbol>\n",
       "<symbol overflow=\"visible\" id=\"glyph0-26\">\n",
       "<path style=\"stroke:none;\" d=\"M 3.25 -4.703125 L 3.25 -1.515625 C 3.25 -0.953125 2.96875 -0.671875 2.359375 -0.671875 C 1.75 -0.671875 1.453125 -0.953125 1.453125 -1.515625 L 1.453125 -4.703125 L 0.484375 -4.703125 L 0.484375 -1.515625 C 0.484375 -0.984375 0.625 -0.609375 0.953125 -0.328125 C 1.296875 -0.015625 1.78125 0.140625 2.359375 0.140625 C 2.921875 0.140625 3.421875 -0.015625 3.765625 -0.328125 C 4.078125 -0.609375 4.21875 -0.984375 4.21875 -1.515625 L 4.21875 -4.703125 Z \"/>\n",
       "</symbol>\n",
       "<symbol overflow=\"visible\" id=\"glyph0-27\">\n",
       "<path style=\"stroke:none;\" d=\"M 1.9375 -3.40625 L 1.4375 -3.40625 L 1.4375 -4.34375 L 0.53125 -4.34375 L 0.53125 -3.40625 L 0.09375 -3.40625 L 0.09375 -2.8125 L 0.53125 -2.8125 L 0.53125 -0.671875 C 0.53125 -0.125 0.828125 0.140625 1.421875 0.140625 C 1.625 0.140625 1.78125 0.125 1.9375 0.078125 L 1.9375 -0.5625 C 1.859375 -0.546875 1.796875 -0.53125 1.734375 -0.53125 C 1.5 -0.53125 1.4375 -0.609375 1.4375 -0.921875 L 1.4375 -2.8125 L 1.9375 -2.8125 Z \"/>\n",
       "</symbol>\n",
       "<symbol overflow=\"visible\" id=\"glyph0-28\">\n",
       "<path style=\"stroke:none;\" d=\"M 1.328125 -3.484375 L 0.4375 -3.484375 L 0.4375 0 L 1.328125 0 Z M 1.328125 -4.703125 L 0.4375 -4.703125 L 0.4375 -3.890625 L 1.328125 -3.890625 Z \"/>\n",
       "</symbol>\n",
       "<symbol overflow=\"visible\" id=\"glyph0-29\">\n",
       "<path style=\"stroke:none;\" d=\"M 1.484375 -2.03125 L 3.734375 -2.03125 L 3.734375 -2.828125 L 1.484375 -2.828125 L 1.484375 -3.890625 L 3.90625 -3.890625 L 3.90625 -4.703125 L 0.515625 -4.703125 L 0.515625 0 L 4.03125 0 L 4.03125 -0.8125 L 1.484375 -0.8125 Z \"/>\n",
       "</symbol>\n",
       "<symbol overflow=\"visible\" id=\"glyph0-30\">\n",
       "<path style=\"stroke:none;\" d=\"M 1.390625 -3.671875 L 2.234375 0 L 3.203125 0 L 4.046875 -3.671875 L 4.046875 0 L 5 0 L 5 -4.703125 L 3.546875 -4.703125 L 2.71875 -0.96875 L 1.875 -4.703125 L 0.421875 -4.703125 L 0.421875 0 L 1.390625 0 Z \"/>\n",
       "</symbol>\n",
       "<symbol overflow=\"visible\" id=\"glyph0-31\">\n",
       "<path style=\"stroke:none;\" d=\"M 2.703125 -1.75 L 4.1875 -4.703125 L 3.109375 -4.703125 L 2.21875 -2.625 L 1.25 -4.703125 L 0.171875 -4.703125 L 1.734375 -1.75 L 1.734375 0 L 2.703125 0 Z \"/>\n",
       "</symbol>\n",
       "<symbol overflow=\"visible\" id=\"glyph0-32\">\n",
       "<path style=\"stroke:none;\" d=\"M 4.59375 -2.53125 L 2.703125 -2.53125 L 2.703125 -1.71875 L 3.78125 -1.71875 C 3.75 -1.453125 3.6875 -1.296875 3.546875 -1.125 C 3.3125 -0.84375 2.953125 -0.671875 2.578125 -0.671875 C 1.796875 -0.671875 1.234375 -1.359375 1.234375 -2.328125 C 1.234375 -3.34375 1.734375 -3.953125 2.5625 -3.953125 C 2.890625 -3.953125 3.171875 -3.859375 3.390625 -3.671875 C 3.515625 -3.5625 3.59375 -3.453125 3.671875 -3.203125 L 4.59375 -3.203125 C 4.46875 -4.171875 3.6875 -4.78125 2.546875 -4.78125 C 1.1875 -4.78125 0.265625 -3.78125 0.265625 -2.3125 C 0.265625 -0.890625 1.203125 0.140625 2.46875 0.140625 C 3.109375 0.140625 3.53125 -0.078125 3.890625 -0.609375 L 4 0.015625 L 4.59375 0.015625 Z \"/>\n",
       "</symbol>\n",
       "<symbol overflow=\"visible\" id=\"glyph0-33\">\n",
       "<path style=\"stroke:none;\" d=\"M 2.5625 0 L 4.171875 -4.703125 L 3.203125 -4.703125 L 2.171875 -1.15625 L 1.125 -4.703125 L 0.15625 -4.703125 L 1.75 0 Z \"/>\n",
       "</symbol>\n",
       "<symbol overflow=\"visible\" id=\"glyph0-34\">\n",
       "<path style=\"stroke:none;\" d=\"M 2.265625 0 L 3.453125 -3.484375 L 2.5 -3.484375 L 1.796875 -0.9375 L 1.046875 -3.484375 L 0.09375 -3.484375 L 1.3125 0 Z \"/>\n",
       "</symbol>\n",
       "<symbol overflow=\"visible\" id=\"glyph0-35\">\n",
       "<path style=\"stroke:none;\" d=\"M 0.5 0 L 2.34375 0 C 3.046875 0 3.5 -0.171875 3.8125 -0.546875 C 4.1875 -0.984375 4.390625 -1.625 4.390625 -2.359375 C 4.390625 -3.078125 4.1875 -3.71875 3.8125 -4.15625 C 3.5 -4.546875 3.0625 -4.703125 2.34375 -4.703125 L 0.5 -4.703125 Z M 1.46875 -0.8125 L 1.46875 -3.890625 L 2.34375 -3.890625 C 3.0625 -3.890625 3.421875 -3.390625 3.421875 -2.34375 C 3.421875 -1.3125 3.0625 -0.8125 2.34375 -0.8125 Z \"/>\n",
       "</symbol>\n",
       "<symbol overflow=\"visible\" id=\"glyph0-36\">\n",
       "<path style=\"stroke:none;\" d=\"M 3.375 -2.1875 C 3.296875 -3.03125 2.734375 -3.546875 1.859375 -3.546875 C 0.828125 -3.546875 0.21875 -2.859375 0.21875 -1.671875 C 0.21875 -0.515625 0.8125 0.140625 1.859375 0.140625 C 2.703125 0.140625 3.28125 -0.375 3.375 -1.203125 L 2.5 -1.203125 C 2.390625 -0.75 2.203125 -0.578125 1.859375 -0.578125 C 1.40625 -0.578125 1.125 -1 1.125 -1.671875 C 1.125 -2 1.1875 -2.3125 1.296875 -2.515625 C 1.40625 -2.703125 1.59375 -2.8125 1.859375 -2.8125 C 2.21875 -2.8125 2.40625 -2.640625 2.5 -2.1875 Z \"/>\n",
       "</symbol>\n",
       "<symbol overflow=\"visible\" id=\"glyph0-37\">\n",
       "<path style=\"stroke:none;\" d=\"M 1.453125 -2.03125 L 3.5 -2.03125 L 3.5 -2.828125 L 1.453125 -2.828125 L 1.453125 -3.890625 L 3.78125 -3.890625 L 3.78125 -4.703125 L 0.484375 -4.703125 L 0.484375 0 L 1.453125 0 Z \"/>\n",
       "</symbol>\n",
       "<symbol overflow=\"visible\" id=\"glyph0-38\">\n",
       "<path style=\"stroke:none;\" d=\"M 1.53125 -3.15625 L 1.53125 0 L 2.4375 0 L 2.4375 -4.578125 L 1.84375 -4.578125 C 1.703125 -4.03125 1.21875 -3.75 0.4375 -3.75 L 0.4375 -3.15625 Z \"/>\n",
       "</symbol>\n",
       "<symbol overflow=\"visible\" id=\"glyph0-39\">\n",
       "<path style=\"stroke:none;\" d=\"M 1.765625 -4.671875 C 1.265625 -4.671875 0.859375 -4.46875 0.578125 -4.078125 C 0.3125 -3.734375 0.1875 -3.140625 0.1875 -2.265625 C 0.1875 -1.453125 0.296875 -0.875 0.515625 -0.53125 C 0.78125 -0.09375 1.21875 0.140625 1.765625 0.140625 C 2.265625 0.140625 2.671875 -0.046875 2.953125 -0.4375 C 3.203125 -0.78125 3.34375 -1.375 3.34375 -2.234375 C 3.34375 -3.078125 3.234375 -3.640625 3.015625 -4 C 2.75 -4.4375 2.296875 -4.671875 1.765625 -4.671875 Z M 1.765625 -3.9375 C 2 -3.9375 2.1875 -3.8125 2.296875 -3.578125 C 2.375 -3.375 2.4375 -2.875 2.4375 -2.25 C 2.4375 -1.75 2.375 -1.21875 2.3125 -1.046875 C 2.21875 -0.78125 2.015625 -0.625 1.765625 -0.625 C 1.515625 -0.625 1.34375 -0.75 1.234375 -0.984375 C 1.140625 -1.171875 1.09375 -1.65625 1.09375 -2.265625 C 1.09375 -2.796875 1.140625 -3.328125 1.203125 -3.515625 C 1.3125 -3.78125 1.5 -3.9375 1.765625 -3.9375 Z \"/>\n",
       "</symbol>\n",
       "<symbol overflow=\"visible\" id=\"glyph0-40\">\n",
       "<path style=\"stroke:none;\" d=\"M 1.40625 -2.046875 C 1.71875 -2.046875 1.78125 -2.046875 1.921875 -2 C 2.234375 -1.921875 2.421875 -1.65625 2.421875 -1.3125 C 2.421875 -0.921875 2.140625 -0.625 1.75 -0.625 C 1.328125 -0.625 1.09375 -0.875 1.0625 -1.34375 L 0.1875 -1.34375 C 0.1875 -0.421875 0.796875 0.140625 1.734375 0.140625 C 2.703125 0.140625 3.328125 -0.421875 3.328125 -1.3125 C 3.328125 -1.859375 3.09375 -2.203125 2.578125 -2.453125 C 3 -2.71875 3.1875 -3 3.1875 -3.421875 C 3.1875 -4.1875 2.609375 -4.671875 1.734375 -4.671875 C 1.203125 -4.671875 0.765625 -4.484375 0.515625 -4.15625 C 0.328125 -3.9375 0.25 -3.625 0.25 -3.21875 L 0.25 -3.140625 L 1.078125 -3.140625 C 1.09375 -3.375 1.109375 -3.5 1.15625 -3.625 C 1.234375 -3.8125 1.453125 -3.9375 1.703125 -3.9375 C 2.078125 -3.9375 2.28125 -3.71875 2.28125 -3.34375 C 2.28125 -2.890625 2.015625 -2.65625 1.484375 -2.65625 L 1.40625 -2.65625 Z \"/>\n",
       "</symbol>\n",
       "<symbol overflow=\"visible\" id=\"glyph0-41\">\n",
       "<path style=\"stroke:none;\" d=\"M 3.375 -1.765625 L 2.890625 -1.765625 L 2.890625 -4.578125 L 1.828125 -4.578125 L 0.15625 -1.78125 L 0.15625 -1.015625 L 1.984375 -1.015625 L 1.984375 0 L 2.890625 0 L 2.890625 -1.015625 L 3.375 -1.015625 Z M 1.984375 -1.765625 L 0.796875 -1.765625 L 1.984375 -3.71875 Z \"/>\n",
       "</symbol>\n",
       "<symbol overflow=\"visible\" id=\"glyph0-42\">\n",
       "<path style=\"stroke:none;\" d=\"M 0.4375 -4.703125 L 0.4375 0 L 1.328125 0 L 1.328125 -2.09375 C 1.328125 -2.484375 1.625 -2.78125 2.03125 -2.78125 C 2.21875 -2.78125 2.375 -2.703125 2.484375 -2.5625 C 2.5625 -2.453125 2.59375 -2.359375 2.59375 -2.125 L 2.59375 0 L 3.484375 0 L 3.484375 -2.34375 C 3.484375 -2.765625 3.375 -3.078125 3.140625 -3.28125 C 2.9375 -3.453125 2.640625 -3.546875 2.359375 -3.546875 C 1.90625 -3.546875 1.59375 -3.359375 1.328125 -2.984375 L 1.328125 -4.703125 Z \"/>\n",
       "</symbol>\n",
       "<symbol overflow=\"visible\" id=\"glyph0-43\">\n",
       "<path style=\"stroke:none;\" d=\"M 0.53125 0 L 2.640625 0 C 3.1875 0 3.546875 -0.109375 3.828125 -0.34375 C 4.109375 -0.578125 4.296875 -0.984375 4.296875 -1.359375 C 4.296875 -1.8125 4.046875 -2.1875 3.515625 -2.5 C 3.984375 -2.796875 4.15625 -3.0625 4.15625 -3.46875 C 4.15625 -3.78125 4 -4.125 3.734375 -4.359375 C 3.453125 -4.59375 3.125 -4.703125 2.625 -4.703125 L 0.53125 -4.703125 Z M 1.5 -3.890625 L 2.546875 -3.890625 C 3 -3.890625 3.234375 -3.703125 3.234375 -3.359375 C 3.234375 -3.015625 3 -2.828125 2.546875 -2.828125 L 1.5 -2.828125 Z M 1.5 -2.03125 L 2.65625 -2.03125 C 3.125 -2.03125 3.375 -1.8125 3.375 -1.40625 C 3.375 -1.015625 3.125 -0.8125 2.65625 -0.8125 L 1.5 -0.8125 Z \"/>\n",
       "</symbol>\n",
       "<symbol overflow=\"visible\" id=\"glyph0-44\">\n",
       "<path style=\"stroke:none;\" d=\"M 3.265625 -2.140625 L 3.265625 0 L 4.234375 0 L 4.234375 -4.703125 L 3.265625 -4.703125 L 3.265625 -2.9375 L 1.40625 -2.9375 L 1.40625 -4.703125 L 0.4375 -4.703125 L 0.4375 0 L 1.40625 0 L 1.40625 -2.140625 Z \"/>\n",
       "</symbol>\n",
       "<symbol overflow=\"visible\" id=\"glyph0-45\">\n",
       "<path style=\"stroke:none;\" d=\"M 3.265625 -3.53125 C 3.21875 -3.828125 3.171875 -3.984375 3.046875 -4.15625 C 2.8125 -4.484375 2.390625 -4.671875 1.890625 -4.671875 C 1.328125 -4.671875 0.859375 -4.421875 0.59375 -3.96875 C 0.3125 -3.515625 0.203125 -3 0.203125 -2.171875 C 0.203125 -1.390625 0.296875 -0.890625 0.53125 -0.53125 C 0.796875 -0.109375 1.28125 0.140625 1.8125 0.140625 C 2.734375 0.140625 3.34375 -0.53125 3.34375 -1.53125 C 3.34375 -2.40625 2.8125 -3.015625 2.015625 -3.015625 C 1.640625 -3.015625 1.390625 -2.90625 1.109375 -2.609375 C 1.125 -3.09375 1.125 -3.09375 1.171875 -3.28125 C 1.25 -3.703125 1.515625 -3.9375 1.875 -3.9375 C 2.15625 -3.9375 2.3125 -3.828125 2.4375 -3.53125 Z M 1.796875 -2.296875 C 2.21875 -2.296875 2.484375 -1.96875 2.484375 -1.46875 C 2.484375 -0.984375 2.1875 -0.625 1.796875 -0.625 C 1.375 -0.625 1.09375 -0.96875 1.09375 -1.453125 C 1.09375 -1.953125 1.375 -2.296875 1.796875 -2.296875 Z \"/>\n",
       "</symbol>\n",
       "<symbol overflow=\"visible\" id=\"glyph0-46\">\n",
       "<path style=\"stroke:none;\" d=\"M 3.40625 -4.578125 L 0.1875 -4.578125 L 0.1875 -3.765625 L 2.46875 -3.765625 C 2.1875 -3.46875 1.640625 -2.640625 1.453125 -2.234375 C 1.140625 -1.578125 0.984375 -0.96875 0.859375 0 L 1.765625 0 C 1.859375 -1.453125 2.328125 -2.5625 3.40625 -3.859375 Z \"/>\n",
       "</symbol>\n",
       "<symbol overflow=\"visible\" id=\"glyph0-47\">\n",
       "<path style=\"stroke:none;\" d=\"M 2.640625 -2.484375 C 2.796875 -2.578125 2.859375 -2.625 2.9375 -2.6875 C 3.125 -2.859375 3.234375 -3.140625 3.234375 -3.4375 C 3.234375 -4.15625 2.609375 -4.671875 1.765625 -4.671875 C 0.921875 -4.671875 0.296875 -4.15625 0.296875 -3.421875 C 0.296875 -2.984375 0.484375 -2.703125 0.890625 -2.484375 C 0.359375 -2.203125 0.140625 -1.859375 0.140625 -1.3125 C 0.140625 -0.453125 0.8125 0.140625 1.765625 0.140625 C 2.71875 0.140625 3.390625 -0.453125 3.390625 -1.3125 C 3.390625 -1.859375 3.171875 -2.203125 2.640625 -2.484375 Z M 1.78125 -3.9375 C 2.171875 -3.9375 2.453125 -3.703125 2.453125 -3.34375 C 2.453125 -3 2.171875 -2.75 1.78125 -2.75 C 1.375 -2.75 1.09375 -3 1.09375 -3.34375 C 1.09375 -3.703125 1.375 -3.9375 1.78125 -3.9375 Z M 1.765625 -2.125 C 2.203125 -2.125 2.484375 -1.828125 2.484375 -1.359375 C 2.484375 -0.921875 2.203125 -0.625 1.765625 -0.625 C 1.328125 -0.625 1.046875 -0.921875 1.046875 -1.375 C 1.046875 -1.828125 1.328125 -2.125 1.765625 -2.125 Z \"/>\n",
       "</symbol>\n",
       "<symbol overflow=\"visible\" id=\"glyph0-48\">\n",
       "<path style=\"stroke:none;\" d=\"M 0.25 -1.0625 C 0.265625 -0.359375 0.859375 0.15625 1.640625 0.15625 C 2.234375 0.15625 2.671875 -0.09375 2.953125 -0.5625 C 3.1875 -0.96875 3.328125 -1.65625 3.328125 -2.390625 C 3.328125 -3.046875 3.21875 -3.578125 3.015625 -3.921875 C 2.71875 -4.40625 2.265625 -4.671875 1.71875 -4.671875 C 0.8125 -4.671875 0.1875 -4.015625 0.1875 -3.0625 C 0.1875 -2.109375 0.734375 -1.46875 1.546875 -1.46875 C 1.78125 -1.46875 2 -1.53125 2.140625 -1.640625 C 2.21875 -1.703125 2.28125 -1.75 2.421875 -1.921875 C 2.421875 -1.046875 2.1875 -0.625 1.671875 -0.625 C 1.359375 -0.625 1.140625 -0.796875 1.109375 -1.0625 Z M 1.703125 -3.9375 C 2.140625 -3.9375 2.40625 -3.59375 2.40625 -3.0625 C 2.40625 -2.5625 2.125 -2.21875 1.703125 -2.21875 C 1.296875 -2.21875 1.03125 -2.546875 1.03125 -3.078125 C 1.03125 -3.59375 1.296875 -3.9375 1.703125 -3.9375 Z \"/>\n",
       "</symbol>\n",
       "<symbol overflow=\"visible\" id=\"glyph0-49\">\n",
       "<path style=\"stroke:none;\" d=\"M 3.40625 -3.0625 L 0.265625 -1.890625 L 0.265625 -1.109375 L 3.40625 0.0625 L 3.40625 -0.65625 L 0.953125 -1.5 L 3.40625 -2.359375 Z \"/>\n",
       "</symbol>\n",
       "<symbol overflow=\"visible\" id=\"glyph0-50\">\n",
       "<path style=\"stroke:none;\" d=\"M 1.375 -0.9375 L 0.40625 -0.9375 L 0.40625 0 L 1.375 0 Z \"/>\n",
       "</symbol>\n",
       "<symbol overflow=\"visible\" id=\"glyph0-51\">\n",
       "<path style=\"stroke:none;\" d=\"M 3.15625 -4.578125 L 0.703125 -4.578125 L 0.296875 -2.03125 L 1.109375 -2.03125 C 1.21875 -2.25 1.421875 -2.375 1.703125 -2.375 C 2.15625 -2.375 2.4375 -2.046875 2.4375 -1.484375 C 2.4375 -0.953125 2.15625 -0.625 1.703125 -0.625 C 1.296875 -0.625 1.078125 -0.828125 1.0625 -1.1875 L 0.171875 -1.1875 C 0.1875 -0.390625 0.796875 0.140625 1.6875 0.140625 C 2.671875 0.140625 3.34375 -0.515625 3.34375 -1.515625 C 3.34375 -2.453125 2.75 -3.09375 1.90625 -3.09375 C 1.609375 -3.09375 1.375 -3.015625 1.109375 -2.8125 L 1.265625 -3.765625 L 3.15625 -3.765625 Z \"/>\n",
       "</symbol>\n",
       "<symbol overflow=\"visible\" id=\"glyph1-0\">\n",
       "<path style=\"stroke:none;\" d=\"\"/>\n",
       "</symbol>\n",
       "<symbol overflow=\"visible\" id=\"glyph1-1\">\n",
       "<path style=\"stroke:none;\" d=\"M 1.78125 -4.578125 C 1.34375 -4.578125 0.96875 -4.390625 0.71875 -4.078125 C 0.421875 -3.671875 0.28125 -3.0625 0.28125 -2.21875 C 0.28125 -0.671875 0.796875 0.140625 1.78125 0.140625 C 2.75 0.140625 3.265625 -0.671875 3.265625 -2.171875 C 3.265625 -3.0625 3.125 -3.65625 2.828125 -4.078125 C 2.59375 -4.390625 2.203125 -4.578125 1.78125 -4.578125 Z M 1.78125 -4.078125 C 2.390625 -4.078125 2.6875 -3.453125 2.6875 -2.21875 C 2.6875 -0.921875 2.390625 -0.328125 1.765625 -0.328125 C 1.15625 -0.328125 0.859375 -0.953125 0.859375 -2.203125 C 0.859375 -3.453125 1.15625 -4.078125 1.78125 -4.078125 Z \"/>\n",
       "</symbol>\n",
       "<symbol overflow=\"visible\" id=\"glyph1-2\">\n",
       "<path style=\"stroke:none;\" d=\"M 1.671875 -3.265625 L 1.671875 0 L 2.234375 0 L 2.234375 -4.578125 L 1.859375 -4.578125 C 1.671875 -3.875 1.53125 -3.78125 0.65625 -3.671875 L 0.65625 -3.265625 Z \"/>\n",
       "</symbol>\n",
       "<symbol overflow=\"visible\" id=\"glyph2-0\">\n",
       "<path style=\"stroke:none;\" d=\"\"/>\n",
       "</symbol>\n",
       "<symbol overflow=\"visible\" id=\"glyph2-1\">\n",
       "<path style=\"stroke:none;\" d=\"M 2.578125 -2.703125 L 1.375 -0.609375 L 1.140625 -2.703125 L 0.6875 -2.703125 L 1.03125 0.015625 L 0.765625 0.4375 C 0.625 0.65625 0.546875 0.703125 0.34375 0.703125 C 0.296875 0.703125 0.265625 0.703125 0.125 0.6875 L 0.046875 1.078125 C 0.140625 1.109375 0.203125 1.125 0.296875 1.125 C 0.65625 1.125 0.921875 0.953125 1.140625 0.5625 L 3.046875 -2.703125 Z \"/>\n",
       "</symbol>\n",
       "<symbol overflow=\"visible\" id=\"glyph2-2\">\n",
       "<path style=\"stroke:none;\" d=\"M 2.90625 -1.203125 L 2.921875 -1.296875 C 2.96875 -1.546875 2.984375 -1.765625 2.984375 -1.890625 C 2.984375 -2.390625 2.5625 -2.78125 2 -2.78125 C 1.5625 -2.78125 1.125 -2.5625 0.859375 -2.21875 C 0.625 -1.890625 0.4375 -1.3125 0.4375 -0.890625 C 0.4375 -0.609375 0.546875 -0.328125 0.75 -0.140625 C 0.9375 0.03125 1.15625 0.125 1.453125 0.125 C 2.078125 0.125 2.609375 -0.265625 2.765625 -0.8125 L 2.328125 -0.8125 C 2.140625 -0.46875 1.875 -0.28125 1.53125 -0.28125 C 1.125 -0.28125 0.890625 -0.53125 0.890625 -0.96875 C 0.890625 -1.078125 0.890625 -1.125 0.90625 -1.203125 Z M 1 -1.578125 C 1.140625 -2.046875 1.515625 -2.375 1.9375 -2.375 C 2.3125 -2.375 2.53125 -2.140625 2.53125 -1.75 C 2.53125 -1.703125 2.53125 -1.65625 2.515625 -1.578125 Z \"/>\n",
       "</symbol>\n",
       "<symbol overflow=\"visible\" id=\"glyph2-3\">\n",
       "<path style=\"stroke:none;\" d=\"M 2.65625 -1.953125 C 2.671875 -2.0625 2.6875 -2.109375 2.6875 -2.171875 C 2.6875 -2.53125 2.328125 -2.78125 1.828125 -2.78125 C 1.46875 -2.78125 1.15625 -2.671875 0.9375 -2.46875 C 0.765625 -2.296875 0.640625 -2.015625 0.640625 -1.78125 C 0.640625 -1.46875 0.8125 -1.3125 1.34375 -1.171875 L 1.734375 -1.078125 C 1.890625 -1.03125 1.96875 -1 2.015625 -0.9375 C 2.0625 -0.890625 2.09375 -0.8125 2.09375 -0.78125 C 2.09375 -0.6875 2 -0.515625 1.921875 -0.453125 C 1.796875 -0.34375 1.578125 -0.28125 1.34375 -0.28125 C 1 -0.28125 0.796875 -0.421875 0.796875 -0.671875 C 0.796875 -0.703125 0.796875 -0.75 0.796875 -0.796875 L 0.34375 -0.796875 C 0.3125 -0.6875 0.3125 -0.625 0.3125 -0.546875 C 0.3125 -0.125 0.671875 0.125 1.28125 0.125 C 2.046875 0.125 2.546875 -0.28125 2.546875 -0.890625 C 2.546875 -1.203125 2.375 -1.375 1.921875 -1.484375 L 1.53125 -1.578125 C 1.234375 -1.65625 1.09375 -1.765625 1.09375 -1.890625 C 1.09375 -2 1.15625 -2.125 1.25 -2.21875 C 1.359375 -2.328125 1.515625 -2.375 1.75 -2.375 C 2.046875 -2.375 2.21875 -2.265625 2.21875 -2.0625 C 2.21875 -2.03125 2.21875 -1.984375 2.21875 -1.953125 Z \"/>\n",
       "</symbol>\n",
       "<symbol overflow=\"visible\" id=\"glyph2-4\">\n",
       "<path style=\"stroke:none;\" d=\"M 0.9375 -2.703125 L 0.359375 0 L 0.796875 0 L 1.109375 -1.484375 C 1.234375 -2.0625 1.59375 -2.40625 2.0625 -2.40625 C 2.3125 -2.40625 2.5 -2.234375 2.5 -1.984375 C 2.5 -1.953125 2.5 -1.875 2.46875 -1.796875 L 2.09375 0 L 2.53125 0 L 2.9375 -1.9375 C 2.953125 -2 2.953125 -2.0625 2.953125 -2.140625 C 2.953125 -2.53125 2.6875 -2.78125 2.265625 -2.78125 C 1.859375 -2.78125 1.53125 -2.640625 1.265625 -2.359375 L 1.328125 -2.703125 Z \"/>\n",
       "</symbol>\n",
       "<symbol overflow=\"visible\" id=\"glyph2-5\">\n",
       "<path style=\"stroke:none;\" d=\"M 1.984375 -2.78125 C 1.5 -2.78125 1.078125 -2.5625 0.8125 -2.1875 C 0.578125 -1.84375 0.40625 -1.28125 0.40625 -0.84375 C 0.40625 -0.265625 0.8125 0.125 1.390625 0.125 C 1.875 0.125 2.28125 -0.078125 2.5625 -0.484375 C 2.796875 -0.796875 2.96875 -1.359375 2.96875 -1.8125 C 2.96875 -2.09375 2.859375 -2.34375 2.6875 -2.53125 C 2.515625 -2.703125 2.28125 -2.78125 1.984375 -2.78125 Z M 1.90625 -2.375 C 2.296875 -2.375 2.515625 -2.140625 2.515625 -1.71875 C 2.515625 -1.40625 2.421875 -1.078125 2.296875 -0.8125 C 2.09375 -0.46875 1.8125 -0.28125 1.453125 -0.28125 C 1.09375 -0.28125 0.859375 -0.53125 0.859375 -0.953125 C 0.859375 -1.25 0.953125 -1.578125 1.09375 -1.84375 C 1.28125 -2.1875 1.578125 -2.375 1.90625 -2.375 Z \"/>\n",
       "</symbol>\n",
       "</g>\n",
       "</defs>\n",
       "<g id=\"surface393\">\n",
       "<rect x=\"0\" y=\"0\" width=\"504\" height=\"504\" style=\"fill:rgb(100%,100%,100%);fill-opacity:1;stroke:none;\"/>\n",
       "<path style=\"fill:none;stroke-width:0.403125;stroke-linecap:butt;stroke-linejoin:round;stroke:rgb(0%,0%,0%);stroke-opacity:1;stroke-miterlimit:10;\" d=\"M 76.675781 96.59375 L 200.644531 39.183594 L 231.636719 39.183594 \"/>\n",
       "<path style=\"fill:none;stroke-width:0.403125;stroke-linecap:butt;stroke-linejoin:round;stroke:rgb(0%,0%,0%);stroke-opacity:1;stroke-miterlimit:10;\" d=\"M 45.824219 137.425781 L 70.507812 97.308594 L 76.675781 97.308594 \"/>\n",
       "<path style=\"fill:none;stroke-width:0.403125;stroke-linecap:butt;stroke-linejoin:round;stroke:rgb(0%,0%,0%);stroke-opacity:1;stroke-miterlimit:10;\" d=\"M 107.53125 131.628906 L 82.847656 97.308594 L 76.675781 97.308594 \"/>\n",
       "<path style=\"fill:none;stroke-width:0.403125;stroke-linecap:butt;stroke-linejoin:round;stroke:rgb(0%,0%,0%);stroke-opacity:1;stroke-miterlimit:10;\" d=\"M 76.679688 184.003906 L 101.359375 132.34375 L 107.53125 132.34375 \"/>\n",
       "<path style=\"fill:none;stroke-width:0.403125;stroke-linecap:butt;stroke-linejoin:round;stroke:rgb(0%,0%,0%);stroke-opacity:1;stroke-miterlimit:10;\" d=\"M 138.382812 178.207031 L 113.703125 132.34375 L 107.53125 132.34375 \"/>\n",
       "<path style=\"fill:none;stroke-width:0.403125;stroke-linecap:butt;stroke-linejoin:round;stroke:rgb(0%,0%,0%);stroke-opacity:1;stroke-miterlimit:10;\" d=\"M 107.558594 236.332031 L 132.21875 178.921875 L 138.382812 178.921875 \"/>\n",
       "<path style=\"fill:none;stroke-width:0.403125;stroke-linecap:butt;stroke-linejoin:round;stroke:rgb(0%,0%,0%);stroke-opacity:1;stroke-miterlimit:10;\" d=\"M 77.015625 282.914062 L 101.449219 237.046875 L 107.558594 237.046875 \"/>\n",
       "<path style=\"fill:none;stroke-width:0.403125;stroke-linecap:butt;stroke-linejoin:round;stroke:rgb(0%,0%,0%);stroke-opacity:1;stroke-miterlimit:10;\" d=\"M 49.246094 323.746094 L 71.460938 283.628906 L 77.015625 283.628906 \"/>\n",
       "<path style=\"fill:none;stroke-width:0.403125;stroke-linecap:butt;stroke-linejoin:round;stroke:rgb(0%,0%,0%);stroke-opacity:1;stroke-miterlimit:10;\" d=\"M 104.78125 312.203125 L 82.566406 283.628906 L 77.015625 283.628906 \"/>\n",
       "<path style=\"fill:none;stroke-width:0.403125;stroke-linecap:butt;stroke-linejoin:round;stroke:rgb(0%,0%,0%);stroke-opacity:1;stroke-miterlimit:10;\" d=\"M 138.105469 265.621094 L 113.667969 237.046875 L 107.558594 237.046875 \"/>\n",
       "<path style=\"fill:none;stroke-width:0.403125;stroke-linecap:butt;stroke-linejoin:round;stroke:rgb(0%,0%,0%);stroke-opacity:1;stroke-miterlimit:10;\" d=\"M 169.207031 219.042969 L 144.546875 178.921875 L 138.382812 178.921875 \"/>\n",
       "<path style=\"fill:none;stroke-width:0.403125;stroke-linecap:butt;stroke-linejoin:round;stroke:rgb(0%,0%,0%);stroke-opacity:1;stroke-miterlimit:10;\" d=\"M 386.597656 85.046875 L 262.628906 39.183594 L 231.636719 39.183594 \"/>\n",
       "<path style=\"fill:none;stroke-width:0.403125;stroke-linecap:butt;stroke-linejoin:round;stroke:rgb(0%,0%,0%);stroke-opacity:1;stroke-miterlimit:10;\" d=\"M 355.175781 143.171875 L 380.3125 85.761719 L 386.597656 85.761719 \"/>\n",
       "<path style=\"fill:none;stroke-width:0.403125;stroke-linecap:butt;stroke-linejoin:round;stroke:rgb(0%,0%,0%);stroke-opacity:1;stroke-miterlimit:10;\" d=\"M 318.628906 189.753906 L 347.867188 143.886719 L 355.175781 143.886719 \"/>\n",
       "<path style=\"fill:none;stroke-width:0.403125;stroke-linecap:butt;stroke-linejoin:round;stroke:rgb(0%,0%,0%);stroke-opacity:1;stroke-miterlimit:10;\" d=\"M 230.851562 236.332031 L 301.074219 190.46875 L 318.628906 190.46875 \"/>\n",
       "<path style=\"fill:none;stroke-width:0.403125;stroke-linecap:butt;stroke-linejoin:round;stroke:rgb(0%,0%,0%);stroke-opacity:1;stroke-miterlimit:10;\" d=\"M 200.304688 277.164062 L 224.742188 237.046875 L 230.851562 237.046875 \"/>\n",
       "<path style=\"fill:none;stroke-width:0.403125;stroke-linecap:butt;stroke-linejoin:round;stroke:rgb(0%,0%,0%);stroke-opacity:1;stroke-miterlimit:10;\" d=\"M 261.394531 271.367188 L 236.960938 237.046875 L 230.851562 237.046875 \"/>\n",
       "<path style=\"fill:none;stroke-width:0.403125;stroke-linecap:butt;stroke-linejoin:round;stroke:rgb(0%,0%,0%);stroke-opacity:1;stroke-miterlimit:10;\" d=\"M 233.628906 323.746094 L 255.84375 272.082031 L 261.394531 272.082031 \"/>\n",
       "<path style=\"fill:none;stroke-width:0.403125;stroke-linecap:butt;stroke-linejoin:round;stroke:rgb(0%,0%,0%);stroke-opacity:1;stroke-miterlimit:10;\" d=\"M 289.164062 312.203125 L 266.949219 272.082031 L 261.394531 272.082031 \"/>\n",
       "<path style=\"fill:none;stroke-width:0.403125;stroke-linecap:butt;stroke-linejoin:round;stroke:rgb(0%,0%,0%);stroke-opacity:1;stroke-miterlimit:10;\" d=\"M 406.40625 224.789062 L 336.183594 190.46875 L 318.628906 190.46875 \"/>\n",
       "<path style=\"fill:none;stroke-width:0.403125;stroke-linecap:butt;stroke-linejoin:round;stroke:rgb(0%,0%,0%);stroke-opacity:1;stroke-miterlimit:10;\" d=\"M 375.550781 282.914062 L 400.234375 225.503906 L 406.40625 225.503906 \"/>\n",
       "<path style=\"fill:none;stroke-width:0.403125;stroke-linecap:butt;stroke-linejoin:round;stroke:rgb(0%,0%,0%);stroke-opacity:1;stroke-miterlimit:10;\" d=\"M 344.703125 323.746094 L 369.382812 283.628906 L 375.550781 283.628906 \"/>\n",
       "<path style=\"fill:none;stroke-width:0.403125;stroke-linecap:butt;stroke-linejoin:round;stroke:rgb(0%,0%,0%);stroke-opacity:1;stroke-miterlimit:10;\" d=\"M 406.402344 317.949219 L 381.722656 283.628906 L 375.550781 283.628906 \"/>\n",
       "<path style=\"fill:none;stroke-width:0.403125;stroke-linecap:butt;stroke-linejoin:round;stroke:rgb(0%,0%,0%);stroke-opacity:1;stroke-miterlimit:10;\" d=\"M 375.582031 376.074219 L 400.238281 318.664062 L 406.402344 318.664062 \"/>\n",
       "<path style=\"fill:none;stroke-width:0.403125;stroke-linecap:butt;stroke-linejoin:round;stroke:rgb(0%,0%,0%);stroke-opacity:1;stroke-miterlimit:10;\" d=\"M 345.035156 422.652344 L 369.472656 376.789062 L 375.582031 376.789062 \"/>\n",
       "<path style=\"fill:none;stroke-width:0.403125;stroke-linecap:butt;stroke-linejoin:round;stroke:rgb(0%,0%,0%);stroke-opacity:1;stroke-miterlimit:10;\" d=\"M 317.265625 463.484375 L 339.480469 423.367188 L 345.035156 423.367188 \"/>\n",
       "<path style=\"fill:none;stroke-width:0.403125;stroke-linecap:butt;stroke-linejoin:round;stroke:rgb(0%,0%,0%);stroke-opacity:1;stroke-miterlimit:10;\" d=\"M 372.804688 451.941406 L 350.589844 423.367188 L 345.035156 423.367188 \"/>\n",
       "<path style=\"fill:none;stroke-width:0.403125;stroke-linecap:butt;stroke-linejoin:round;stroke:rgb(0%,0%,0%);stroke-opacity:1;stroke-miterlimit:10;\" d=\"M 406.125 405.363281 L 381.691406 376.789062 L 375.582031 376.789062 \"/>\n",
       "<path style=\"fill:none;stroke-width:0.403125;stroke-linecap:butt;stroke-linejoin:round;stroke:rgb(0%,0%,0%);stroke-opacity:1;stroke-miterlimit:10;\" d=\"M 437.226562 358.78125 L 412.566406 318.664062 L 406.402344 318.664062 \"/>\n",
       "<path style=\"fill:none;stroke-width:0.403125;stroke-linecap:butt;stroke-linejoin:round;stroke:rgb(0%,0%,0%);stroke-opacity:1;stroke-miterlimit:10;\" d=\"M 437.261719 265.621094 L 412.578125 225.503906 L 406.40625 225.503906 \"/>\n",
       "<path style=\"fill:none;stroke-width:0.403125;stroke-linecap:butt;stroke-linejoin:round;stroke:rgb(0%,0%,0%);stroke-opacity:1;stroke-miterlimit:10;\" d=\"M 391.722656 172.460938 L 362.484375 143.886719 L 355.175781 143.886719 \"/>\n",
       "<path style=\"fill:none;stroke-width:0.403125;stroke-linecap:butt;stroke-linejoin:round;stroke:rgb(0%,0%,0%);stroke-opacity:1;stroke-miterlimit:10;\" d=\"M 418.019531 125.882812 L 392.882812 85.761719 L 386.597656 85.761719 \"/>\n",
       "<path style=\" stroke:none;fill-rule:nonzero;fill:rgb(100%,100%,100%);fill-opacity:1;\" d=\"M 207.261719 41.335938 L 207.261719 32.722656 L 256.011719 32.722656 L 256.011719 41.335938 Z \"/>\n",
       "<path style=\" stroke:none;fill-rule:nonzero;fill:rgb(100%,100%,100%);fill-opacity:1;\" d=\"M 27.082031 99.460938 L 27.082031 90.84375 L 126.273438 90.84375 L 126.273438 99.460938 Z \"/>\n",
       "<path style=\" stroke:none;fill-rule:nonzero;fill:rgb(100%,100%,100%);fill-opacity:1;\" d=\"M 37.359375 134.496094 L 37.359375 125.882812 L 177.703125 125.882812 L 177.703125 134.496094 Z \"/>\n",
       "<path style=\" stroke:none;fill-rule:nonzero;fill:rgb(100%,100%,100%);fill-opacity:1;\" d=\"M 70.59375 181.078125 L 70.59375 172.460938 L 206.171875 172.460938 L 206.171875 181.078125 Z \"/>\n",
       "<path style=\" stroke:none;fill-rule:nonzero;fill:rgb(100%,100%,100%);fill-opacity:1;\" d=\"M 54.75 239.203125 L 54.75 230.585938 L 160.367188 230.585938 L 160.367188 239.203125 Z \"/>\n",
       "<path style=\" stroke:none;fill-rule:nonzero;fill:rgb(100%,100%,100%);fill-opacity:1;\" d=\"M 43.242188 285.78125 L 43.242188 277.164062 L 110.785156 277.164062 L 110.785156 285.78125 Z \"/>\n",
       "<path style=\" stroke:none;fill-rule:nonzero;fill:rgb(100%,100%,100%);fill-opacity:1;\" d=\"M 312.109375 87.917969 L 312.109375 79.300781 L 461.085938 79.300781 L 461.085938 87.917969 Z \"/>\n",
       "<path style=\" stroke:none;fill-rule:nonzero;fill:rgb(100%,100%,100%);fill-opacity:1;\" d=\"M 291.53125 146.042969 L 291.53125 137.425781 L 418.816406 137.425781 L 418.816406 146.042969 Z \"/>\n",
       "<path style=\" stroke:none;fill-rule:nonzero;fill:rgb(100%,100%,100%);fill-opacity:1;\" d=\"M 275.699219 192.621094 L 275.699219 184.003906 L 361.558594 184.003906 L 361.558594 192.621094 Z \"/>\n",
       "<path style=\" stroke:none;fill-rule:nonzero;fill:rgb(100%,100%,100%);fill-opacity:1;\" d=\"M 168.839844 239.203125 L 168.839844 230.585938 L 292.863281 230.585938 L 292.863281 239.203125 Z \"/>\n",
       "<path style=\" stroke:none;fill-rule:nonzero;fill:rgb(100%,100%,100%);fill-opacity:1;\" d=\"M 219.035156 274.238281 L 219.035156 265.621094 L 303.757812 265.621094 L 303.757812 274.238281 Z \"/>\n",
       "<path style=\" stroke:none;fill-rule:nonzero;fill:rgb(100%,100%,100%);fill-opacity:1;\" d=\"M 333.300781 227.65625 L 333.300781 219.042969 L 479.511719 219.042969 L 479.511719 227.65625 Z \"/>\n",
       "<path style=\" stroke:none;fill-rule:nonzero;fill:rgb(100%,100%,100%);fill-opacity:1;\" d=\"M 327.628906 285.78125 L 327.628906 277.164062 L 423.476562 277.164062 L 423.476562 285.78125 Z \"/>\n",
       "<path style=\" stroke:none;fill-rule:nonzero;fill:rgb(100%,100%,100%);fill-opacity:1;\" d=\"M 363.765625 320.816406 L 363.765625 312.203125 L 449.042969 312.203125 L 449.042969 320.816406 Z \"/>\n",
       "<path style=\" stroke:none;fill-rule:nonzero;fill:rgb(100%,100%,100%);fill-opacity:1;\" d=\"M 337.945312 378.941406 L 337.945312 370.324219 L 413.214844 370.324219 L 413.214844 378.941406 Z \"/>\n",
       "<path style=\" stroke:none;fill-rule:nonzero;fill:rgb(100%,100%,100%);fill-opacity:1;\" d=\"M 322.945312 425.523438 L 322.945312 416.90625 L 367.125 416.90625 L 367.125 425.523438 Z \"/>\n",
       "<g style=\"fill:rgb(0%,0%,0%);fill-opacity:1;\">\n",
       "  <use xlink:href=\"#glyph0-1\" x=\"207.636719\" y=\"38.34082\"/>\n",
       "  <use xlink:href=\"#glyph0-2\" x=\"211.579102\" y=\"38.34082\"/>\n",
       "  <use xlink:href=\"#glyph0-3\" x=\"215.521484\" y=\"38.34082\"/>\n",
       "  <use xlink:href=\"#glyph0-4\" x=\"220.541992\" y=\"38.34082\"/>\n",
       "  <use xlink:href=\"#glyph0-5\" x=\"224.129883\" y=\"38.34082\"/>\n",
       "  <use xlink:href=\"#glyph0-6\" x=\"226.639648\" y=\"38.34082\"/>\n",
       "  <use xlink:href=\"#glyph0-2\" x=\"231.298828\" y=\"38.34082\"/>\n",
       "  <use xlink:href=\"#glyph0-7\" x=\"235.241211\" y=\"38.34082\"/>\n",
       "  <use xlink:href=\"#glyph0-8\" x=\"239.183594\" y=\"38.34082\"/>\n",
       "  <use xlink:href=\"#glyph0-9\" x=\"240.977539\" y=\"38.34082\"/>\n",
       "  <use xlink:href=\"#glyph0-8\" x=\"244.746094\" y=\"38.34082\"/>\n",
       "  <use xlink:href=\"#glyph0-10\" x=\"246.540039\" y=\"38.34082\"/>\n",
       "  <use xlink:href=\"#glyph0-11\" x=\"248.333984\" y=\"38.34082\"/>\n",
       "  <use xlink:href=\"#glyph0-5\" x=\"252.276367\" y=\"38.34082\"/>\n",
       "</g>\n",
       "<g style=\"fill:rgb(0%,0%,0%);fill-opacity:1;\">\n",
       "  <use xlink:href=\"#glyph0-12\" x=\"25.175781\" y=\"95.96582\"/>\n",
       "  <use xlink:href=\"#glyph0-4\" x=\"29.834961\" y=\"95.96582\"/>\n",
       "  <use xlink:href=\"#glyph0-13\" x=\"33.422852\" y=\"95.96582\"/>\n",
       "  <use xlink:href=\"#glyph0-14\" x=\"37.010742\" y=\"95.96582\"/>\n",
       "  <use xlink:href=\"#glyph0-2\" x=\"40.953125\" y=\"95.96582\"/>\n",
       "  <use xlink:href=\"#glyph0-15\" x=\"44.895508\" y=\"95.96582\"/>\n",
       "  <use xlink:href=\"#glyph0-16\" x=\"48.837891\" y=\"95.96582\"/>\n",
       "  <use xlink:href=\"#glyph0-4\" x=\"52.780273\" y=\"95.96582\"/>\n",
       "  <use xlink:href=\"#glyph0-8\" x=\"56.368164\" y=\"95.96582\"/>\n",
       "  <use xlink:href=\"#glyph0-9\" x=\"58.162109\" y=\"95.96582\"/>\n",
       "  <use xlink:href=\"#glyph0-8\" x=\"61.930664\" y=\"95.96582\"/>\n",
       "  <use xlink:href=\"#glyph0-6\" x=\"63.724609\" y=\"95.96582\"/>\n",
       "  <use xlink:href=\"#glyph0-12\" x=\"68.383789\" y=\"95.96582\"/>\n",
       "  <use xlink:href=\"#glyph0-17\" x=\"73.042969\" y=\"95.96582\"/>\n",
       "  <use xlink:href=\"#glyph0-18\" x=\"74.836914\" y=\"95.96582\"/>\n",
       "  <use xlink:href=\"#glyph0-17\" x=\"76.630859\" y=\"95.96582\"/>\n",
       "  <use xlink:href=\"#glyph0-19\" x=\"78.424805\" y=\"95.96582\"/>\n",
       "  <use xlink:href=\"#glyph0-20\" x=\"83.083984\" y=\"95.96582\"/>\n",
       "  <use xlink:href=\"#glyph0-18\" x=\"86.671875\" y=\"95.96582\"/>\n",
       "  <use xlink:href=\"#glyph0-21\" x=\"88.46582\" y=\"95.96582\"/>\n",
       "  <use xlink:href=\"#glyph0-22\" x=\"92.769531\" y=\"95.96582\"/>\n",
       "  <use xlink:href=\"#glyph0-1\" x=\"97.790039\" y=\"95.96582\"/>\n",
       "  <use xlink:href=\"#glyph0-18\" x=\"101.732422\" y=\"95.96582\"/>\n",
       "  <use xlink:href=\"#glyph0-23\" x=\"103.526367\" y=\"95.96582\"/>\n",
       "  <use xlink:href=\"#glyph0-24\" x=\"107.830078\" y=\"95.96582\"/>\n",
       "  <use xlink:href=\"#glyph0-25\" x=\"111.772461\" y=\"95.96582\"/>\n",
       "  <use xlink:href=\"#glyph0-18\" x=\"116.431641\" y=\"95.96582\"/>\n",
       "  <use xlink:href=\"#glyph0-26\" x=\"118.225586\" y=\"95.96582\"/>\n",
       "  <use xlink:href=\"#glyph0-23\" x=\"122.884766\" y=\"95.96582\"/>\n",
       "</g>\n",
       "<g style=\"fill:rgb(0%,0%,0%);fill-opacity:1;\">\n",
       "  <use xlink:href=\"#glyph0-21\" x=\"33.03125\" y=\"131.000977\"/>\n",
       "  <use xlink:href=\"#glyph0-4\" x=\"37.334961\" y=\"131.000977\"/>\n",
       "  <use xlink:href=\"#glyph0-27\" x=\"40.922852\" y=\"131.000977\"/>\n",
       "  <use xlink:href=\"#glyph0-28\" x=\"43.071289\" y=\"131.000977\"/>\n",
       "  <use xlink:href=\"#glyph0-27\" x=\"44.865234\" y=\"131.000977\"/>\n",
       "  <use xlink:href=\"#glyph0-28\" x=\"47.013672\" y=\"131.000977\"/>\n",
       "  <use xlink:href=\"#glyph0-2\" x=\"48.807617\" y=\"131.000977\"/>\n",
       "  <use xlink:href=\"#glyph0-15\" x=\"52.75\" y=\"131.000977\"/>\n",
       "  <use xlink:href=\"#glyph0-8\" x=\"56.692383\" y=\"131.000977\"/>\n",
       "  <use xlink:href=\"#glyph0-9\" x=\"58.486328\" y=\"131.000977\"/>\n",
       "  <use xlink:href=\"#glyph0-8\" x=\"62.254883\" y=\"131.000977\"/>\n",
       "  <use xlink:href=\"#glyph0-6\" x=\"64.048828\" y=\"131.000977\"/>\n",
       "  <use xlink:href=\"#glyph0-17\" x=\"68.708008\" y=\"131.000977\"/>\n",
       "  <use xlink:href=\"#glyph0-24\" x=\"70.501953\" y=\"131.000977\"/>\n",
       "  <use xlink:href=\"#glyph0-18\" x=\"74.444336\" y=\"131.000977\"/>\n",
       "  <use xlink:href=\"#glyph0-29\" x=\"76.238281\" y=\"131.000977\"/>\n",
       "  <use xlink:href=\"#glyph0-30\" x=\"80.541992\" y=\"131.000977\"/>\n",
       "  <use xlink:href=\"#glyph0-21\" x=\"85.916992\" y=\"131.000977\"/>\n",
       "  <use xlink:href=\"#glyph0-1\" x=\"90.220703\" y=\"131.000977\"/>\n",
       "  <use xlink:href=\"#glyph0-22\" x=\"94.163086\" y=\"131.000977\"/>\n",
       "  <use xlink:href=\"#glyph0-31\" x=\"99.183594\" y=\"131.000977\"/>\n",
       "  <use xlink:href=\"#glyph0-29\" x=\"103.487305\" y=\"131.000977\"/>\n",
       "  <use xlink:href=\"#glyph0-29\" x=\"107.791016\" y=\"131.000977\"/>\n",
       "  <use xlink:href=\"#glyph0-18\" x=\"112.094727\" y=\"131.000977\"/>\n",
       "  <use xlink:href=\"#glyph0-29\" x=\"113.888672\" y=\"131.000977\"/>\n",
       "  <use xlink:href=\"#glyph0-30\" x=\"118.192383\" y=\"131.000977\"/>\n",
       "  <use xlink:href=\"#glyph0-21\" x=\"123.567383\" y=\"131.000977\"/>\n",
       "  <use xlink:href=\"#glyph0-1\" x=\"127.871094\" y=\"131.000977\"/>\n",
       "  <use xlink:href=\"#glyph0-22\" x=\"131.813477\" y=\"131.000977\"/>\n",
       "  <use xlink:href=\"#glyph0-31\" x=\"136.833984\" y=\"131.000977\"/>\n",
       "  <use xlink:href=\"#glyph0-29\" x=\"141.137695\" y=\"131.000977\"/>\n",
       "  <use xlink:href=\"#glyph0-12\" x=\"145.441406\" y=\"131.000977\"/>\n",
       "  <use xlink:href=\"#glyph0-18\" x=\"150.100586\" y=\"131.000977\"/>\n",
       "  <use xlink:href=\"#glyph0-32\" x=\"151.894531\" y=\"131.000977\"/>\n",
       "  <use xlink:href=\"#glyph0-22\" x=\"156.915039\" y=\"131.000977\"/>\n",
       "  <use xlink:href=\"#glyph0-33\" x=\"161.935547\" y=\"131.000977\"/>\n",
       "  <use xlink:href=\"#glyph0-18\" x=\"166.239258\" y=\"131.000977\"/>\n",
       "  <use xlink:href=\"#glyph0-21\" x=\"168.033203\" y=\"131.000977\"/>\n",
       "  <use xlink:href=\"#glyph0-22\" x=\"172.336914\" y=\"131.000977\"/>\n",
       "  <use xlink:href=\"#glyph0-1\" x=\"177.357422\" y=\"131.000977\"/>\n",
       "</g>\n",
       "<g style=\"fill:rgb(0%,0%,0%);fill-opacity:1;\">\n",
       "  <use xlink:href=\"#glyph0-17\" x=\"66.882812\" y=\"177.583008\"/>\n",
       "  <use xlink:href=\"#glyph0-13\" x=\"68.676758\" y=\"177.583008\"/>\n",
       "  <use xlink:href=\"#glyph0-13\" x=\"72.264648\" y=\"177.583008\"/>\n",
       "  <use xlink:href=\"#glyph0-7\" x=\"75.852539\" y=\"177.583008\"/>\n",
       "  <use xlink:href=\"#glyph0-4\" x=\"79.794922\" y=\"177.583008\"/>\n",
       "  <use xlink:href=\"#glyph0-8\" x=\"83.382812\" y=\"177.583008\"/>\n",
       "  <use xlink:href=\"#glyph0-9\" x=\"85.176758\" y=\"177.583008\"/>\n",
       "  <use xlink:href=\"#glyph0-8\" x=\"88.945312\" y=\"177.583008\"/>\n",
       "  <use xlink:href=\"#glyph0-25\" x=\"90.739258\" y=\"177.583008\"/>\n",
       "  <use xlink:href=\"#glyph0-27\" x=\"95.398438\" y=\"177.583008\"/>\n",
       "  <use xlink:href=\"#glyph0-27\" x=\"97.546875\" y=\"177.583008\"/>\n",
       "  <use xlink:href=\"#glyph0-18\" x=\"99.695312\" y=\"177.583008\"/>\n",
       "  <use xlink:href=\"#glyph0-6\" x=\"101.489258\" y=\"177.583008\"/>\n",
       "  <use xlink:href=\"#glyph0-34\" x=\"106.148438\" y=\"177.583008\"/>\n",
       "  <use xlink:href=\"#glyph0-12\" x=\"109.736328\" y=\"177.583008\"/>\n",
       "  <use xlink:href=\"#glyph0-18\" x=\"114.395508\" y=\"177.583008\"/>\n",
       "  <use xlink:href=\"#glyph0-6\" x=\"116.189453\" y=\"177.583008\"/>\n",
       "  <use xlink:href=\"#glyph0-5\" x=\"120.848633\" y=\"177.583008\"/>\n",
       "  <use xlink:href=\"#glyph0-21\" x=\"123.358398\" y=\"177.583008\"/>\n",
       "  <use xlink:href=\"#glyph0-18\" x=\"127.662109\" y=\"177.583008\"/>\n",
       "  <use xlink:href=\"#glyph0-35\" x=\"129.456055\" y=\"177.583008\"/>\n",
       "  <use xlink:href=\"#glyph0-21\" x=\"134.115234\" y=\"177.583008\"/>\n",
       "  <use xlink:href=\"#glyph0-5\" x=\"138.418945\" y=\"177.583008\"/>\n",
       "  <use xlink:href=\"#glyph0-18\" x=\"140.928711\" y=\"177.583008\"/>\n",
       "  <use xlink:href=\"#glyph0-29\" x=\"142.722656\" y=\"177.583008\"/>\n",
       "  <use xlink:href=\"#glyph0-36\" x=\"147.026367\" y=\"177.583008\"/>\n",
       "  <use xlink:href=\"#glyph0-25\" x=\"150.614258\" y=\"177.583008\"/>\n",
       "  <use xlink:href=\"#glyph0-18\" x=\"155.273438\" y=\"177.583008\"/>\n",
       "  <use xlink:href=\"#glyph0-37\" x=\"157.067383\" y=\"177.583008\"/>\n",
       "  <use xlink:href=\"#glyph0-16\" x=\"161.009766\" y=\"177.583008\"/>\n",
       "  <use xlink:href=\"#glyph0-24\" x=\"164.952148\" y=\"177.583008\"/>\n",
       "  <use xlink:href=\"#glyph0-18\" x=\"168.894531\" y=\"177.583008\"/>\n",
       "  <use xlink:href=\"#glyph0-37\" x=\"170.688477\" y=\"177.583008\"/>\n",
       "  <use xlink:href=\"#glyph0-5\" x=\"174.630859\" y=\"177.583008\"/>\n",
       "  <use xlink:href=\"#glyph0-25\" x=\"177.140625\" y=\"177.583008\"/>\n",
       "  <use xlink:href=\"#glyph0-18\" x=\"181.799805\" y=\"177.583008\"/>\n",
       "  <use xlink:href=\"#glyph0-20\" x=\"183.59375\" y=\"177.583008\"/>\n",
       "  <use xlink:href=\"#glyph0-16\" x=\"187.181641\" y=\"177.583008\"/>\n",
       "  <use xlink:href=\"#glyph0-21\" x=\"191.124023\" y=\"177.583008\"/>\n",
       "  <use xlink:href=\"#glyph0-18\" x=\"195.427734\" y=\"177.583008\"/>\n",
       "  <use xlink:href=\"#glyph0-26\" x=\"197.22168\" y=\"177.583008\"/>\n",
       "  <use xlink:href=\"#glyph0-15\" x=\"201.880859\" y=\"177.583008\"/>\n",
       "  <use xlink:href=\"#glyph0-15\" x=\"205.823242\" y=\"177.583008\"/>\n",
       "</g>\n",
       "<g style=\"fill:rgb(0%,0%,0%);fill-opacity:1;\">\n",
       "  <use xlink:href=\"#glyph0-6\" x=\"53.058594\" y=\"235.708008\"/>\n",
       "  <use xlink:href=\"#glyph0-28\" x=\"57.717773\" y=\"235.708008\"/>\n",
       "  <use xlink:href=\"#glyph0-5\" x=\"59.511719\" y=\"235.708008\"/>\n",
       "  <use xlink:href=\"#glyph0-36\" x=\"62.021484\" y=\"235.708008\"/>\n",
       "  <use xlink:href=\"#glyph0-7\" x=\"65.609375\" y=\"235.708008\"/>\n",
       "  <use xlink:href=\"#glyph0-28\" x=\"69.551758\" y=\"235.708008\"/>\n",
       "  <use xlink:href=\"#glyph0-27\" x=\"71.345703\" y=\"235.708008\"/>\n",
       "  <use xlink:href=\"#glyph0-8\" x=\"73.494141\" y=\"235.708008\"/>\n",
       "  <use xlink:href=\"#glyph0-9\" x=\"75.288086\" y=\"235.708008\"/>\n",
       "  <use xlink:href=\"#glyph0-8\" x=\"79.056641\" y=\"235.708008\"/>\n",
       "  <use xlink:href=\"#glyph0-38\" x=\"80.850586\" y=\"235.708008\"/>\n",
       "  <use xlink:href=\"#glyph0-39\" x=\"84.438477\" y=\"235.708008\"/>\n",
       "  <use xlink:href=\"#glyph0-27\" x=\"88.026367\" y=\"235.708008\"/>\n",
       "  <use xlink:href=\"#glyph0-18\" x=\"90.174805\" y=\"235.708008\"/>\n",
       "  <use xlink:href=\"#glyph0-38\" x=\"91.96875\" y=\"235.708008\"/>\n",
       "  <use xlink:href=\"#glyph0-38\" x=\"95.556641\" y=\"235.708008\"/>\n",
       "  <use xlink:href=\"#glyph0-27\" x=\"99.144531\" y=\"235.708008\"/>\n",
       "  <use xlink:href=\"#glyph0-18\" x=\"101.292969\" y=\"235.708008\"/>\n",
       "  <use xlink:href=\"#glyph0-38\" x=\"103.086914\" y=\"235.708008\"/>\n",
       "  <use xlink:href=\"#glyph0-13\" x=\"106.674805\" y=\"235.708008\"/>\n",
       "  <use xlink:href=\"#glyph0-27\" x=\"110.262695\" y=\"235.708008\"/>\n",
       "  <use xlink:href=\"#glyph0-18\" x=\"112.411133\" y=\"235.708008\"/>\n",
       "  <use xlink:href=\"#glyph0-40\" x=\"114.205078\" y=\"235.708008\"/>\n",
       "  <use xlink:href=\"#glyph0-5\" x=\"117.792969\" y=\"235.708008\"/>\n",
       "  <use xlink:href=\"#glyph0-16\" x=\"120.302734\" y=\"235.708008\"/>\n",
       "  <use xlink:href=\"#glyph0-18\" x=\"124.245117\" y=\"235.708008\"/>\n",
       "  <use xlink:href=\"#glyph0-41\" x=\"126.039062\" y=\"235.708008\"/>\n",
       "  <use xlink:href=\"#glyph0-27\" x=\"129.626953\" y=\"235.708008\"/>\n",
       "  <use xlink:href=\"#glyph0-42\" x=\"131.775391\" y=\"235.708008\"/>\n",
       "  <use xlink:href=\"#glyph0-18\" x=\"135.717773\" y=\"235.708008\"/>\n",
       "  <use xlink:href=\"#glyph0-35\" x=\"137.511719\" y=\"235.708008\"/>\n",
       "  <use xlink:href=\"#glyph0-6\" x=\"142.170898\" y=\"235.708008\"/>\n",
       "  <use xlink:href=\"#glyph0-18\" x=\"146.830078\" y=\"235.708008\"/>\n",
       "  <use xlink:href=\"#glyph0-37\" x=\"148.624023\" y=\"235.708008\"/>\n",
       "  <use xlink:href=\"#glyph0-29\" x=\"152.566406\" y=\"235.708008\"/>\n",
       "  <use xlink:href=\"#glyph0-35\" x=\"156.870117\" y=\"235.708008\"/>\n",
       "</g>\n",
       "<g style=\"fill:rgb(0%,0%,0%);fill-opacity:1;\">\n",
       "  <use xlink:href=\"#glyph0-12\" x=\"43.015625\" y=\"282.286133\"/>\n",
       "  <use xlink:href=\"#glyph0-4\" x=\"47.674805\" y=\"282.286133\"/>\n",
       "  <use xlink:href=\"#glyph0-13\" x=\"51.262695\" y=\"282.286133\"/>\n",
       "  <use xlink:href=\"#glyph0-14\" x=\"54.850586\" y=\"282.286133\"/>\n",
       "  <use xlink:href=\"#glyph0-2\" x=\"58.792969\" y=\"282.286133\"/>\n",
       "  <use xlink:href=\"#glyph0-15\" x=\"62.735352\" y=\"282.286133\"/>\n",
       "  <use xlink:href=\"#glyph0-16\" x=\"66.677734\" y=\"282.286133\"/>\n",
       "  <use xlink:href=\"#glyph0-4\" x=\"70.620117\" y=\"282.286133\"/>\n",
       "  <use xlink:href=\"#glyph0-8\" x=\"74.208008\" y=\"282.286133\"/>\n",
       "  <use xlink:href=\"#glyph0-9\" x=\"76.001953\" y=\"282.286133\"/>\n",
       "  <use xlink:href=\"#glyph0-8\" x=\"79.770508\" y=\"282.286133\"/>\n",
       "  <use xlink:href=\"#glyph0-43\" x=\"81.564453\" y=\"282.286133\"/>\n",
       "  <use xlink:href=\"#glyph0-26\" x=\"86.223633\" y=\"282.286133\"/>\n",
       "  <use xlink:href=\"#glyph0-23\" x=\"90.882812\" y=\"282.286133\"/>\n",
       "  <use xlink:href=\"#glyph0-18\" x=\"95.186523\" y=\"282.286133\"/>\n",
       "  <use xlink:href=\"#glyph0-22\" x=\"96.980469\" y=\"282.286133\"/>\n",
       "  <use xlink:href=\"#glyph0-24\" x=\"102.000977\" y=\"282.286133\"/>\n",
       "  <use xlink:href=\"#glyph0-44\" x=\"105.943359\" y=\"282.286133\"/>\n",
       "</g>\n",
       "<g style=\"fill:rgb(0%,0%,0%);fill-opacity:1;\">\n",
       "  <use xlink:href=\"#glyph0-12\" x=\"307.597656\" y=\"84.422852\"/>\n",
       "  <use xlink:href=\"#glyph0-4\" x=\"312.256836\" y=\"84.422852\"/>\n",
       "  <use xlink:href=\"#glyph0-13\" x=\"315.844727\" y=\"84.422852\"/>\n",
       "  <use xlink:href=\"#glyph0-14\" x=\"319.432617\" y=\"84.422852\"/>\n",
       "  <use xlink:href=\"#glyph0-2\" x=\"323.375\" y=\"84.422852\"/>\n",
       "  <use xlink:href=\"#glyph0-15\" x=\"327.317383\" y=\"84.422852\"/>\n",
       "  <use xlink:href=\"#glyph0-16\" x=\"331.259766\" y=\"84.422852\"/>\n",
       "  <use xlink:href=\"#glyph0-4\" x=\"335.202148\" y=\"84.422852\"/>\n",
       "  <use xlink:href=\"#glyph0-8\" x=\"338.790039\" y=\"84.422852\"/>\n",
       "  <use xlink:href=\"#glyph0-9\" x=\"340.583984\" y=\"84.422852\"/>\n",
       "  <use xlink:href=\"#glyph0-8\" x=\"344.352539\" y=\"84.422852\"/>\n",
       "  <use xlink:href=\"#glyph0-43\" x=\"346.146484\" y=\"84.422852\"/>\n",
       "  <use xlink:href=\"#glyph0-26\" x=\"350.805664\" y=\"84.422852\"/>\n",
       "  <use xlink:href=\"#glyph0-23\" x=\"355.464844\" y=\"84.422852\"/>\n",
       "  <use xlink:href=\"#glyph0-18\" x=\"359.768555\" y=\"84.422852\"/>\n",
       "  <use xlink:href=\"#glyph0-6\" x=\"361.5625\" y=\"84.422852\"/>\n",
       "  <use xlink:href=\"#glyph0-17\" x=\"366.22168\" y=\"84.422852\"/>\n",
       "  <use xlink:href=\"#glyph0-24\" x=\"368.015625\" y=\"84.422852\"/>\n",
       "  <use xlink:href=\"#glyph0-18\" x=\"371.958008\" y=\"84.422852\"/>\n",
       "  <use xlink:href=\"#glyph0-6\" x=\"373.751953\" y=\"84.422852\"/>\n",
       "  <use xlink:href=\"#glyph0-12\" x=\"378.411133\" y=\"84.422852\"/>\n",
       "  <use xlink:href=\"#glyph0-17\" x=\"383.070312\" y=\"84.422852\"/>\n",
       "  <use xlink:href=\"#glyph0-18\" x=\"384.864258\" y=\"84.422852\"/>\n",
       "  <use xlink:href=\"#glyph0-29\" x=\"386.658203\" y=\"84.422852\"/>\n",
       "  <use xlink:href=\"#glyph0-30\" x=\"390.961914\" y=\"84.422852\"/>\n",
       "  <use xlink:href=\"#glyph0-21\" x=\"396.336914\" y=\"84.422852\"/>\n",
       "  <use xlink:href=\"#glyph0-1\" x=\"400.640625\" y=\"84.422852\"/>\n",
       "  <use xlink:href=\"#glyph0-22\" x=\"404.583008\" y=\"84.422852\"/>\n",
       "  <use xlink:href=\"#glyph0-31\" x=\"409.603516\" y=\"84.422852\"/>\n",
       "  <use xlink:href=\"#glyph0-29\" x=\"413.907227\" y=\"84.422852\"/>\n",
       "  <use xlink:href=\"#glyph0-29\" x=\"418.210938\" y=\"84.422852\"/>\n",
       "  <use xlink:href=\"#glyph0-18\" x=\"422.514648\" y=\"84.422852\"/>\n",
       "  <use xlink:href=\"#glyph0-32\" x=\"424.308594\" y=\"84.422852\"/>\n",
       "  <use xlink:href=\"#glyph0-22\" x=\"429.329102\" y=\"84.422852\"/>\n",
       "  <use xlink:href=\"#glyph0-33\" x=\"434.349609\" y=\"84.422852\"/>\n",
       "  <use xlink:href=\"#glyph0-18\" x=\"438.65332\" y=\"84.422852\"/>\n",
       "  <use xlink:href=\"#glyph0-22\" x=\"440.447266\" y=\"84.422852\"/>\n",
       "  <use xlink:href=\"#glyph0-24\" x=\"445.467773\" y=\"84.422852\"/>\n",
       "  <use xlink:href=\"#glyph0-44\" x=\"449.410156\" y=\"84.422852\"/>\n",
       "  <use xlink:href=\"#glyph0-18\" x=\"454.069336\" y=\"84.422852\"/>\n",
       "  <use xlink:href=\"#glyph0-26\" x=\"455.863281\" y=\"84.422852\"/>\n",
       "  <use xlink:href=\"#glyph0-23\" x=\"460.522461\" y=\"84.422852\"/>\n",
       "</g>\n",
       "<g style=\"fill:rgb(0%,0%,0%);fill-opacity:1;\">\n",
       "  <use xlink:href=\"#glyph0-6\" x=\"289.175781\" y=\"142.547852\"/>\n",
       "  <use xlink:href=\"#glyph0-28\" x=\"293.834961\" y=\"142.547852\"/>\n",
       "  <use xlink:href=\"#glyph0-5\" x=\"295.628906\" y=\"142.547852\"/>\n",
       "  <use xlink:href=\"#glyph0-36\" x=\"298.138672\" y=\"142.547852\"/>\n",
       "  <use xlink:href=\"#glyph0-7\" x=\"301.726562\" y=\"142.547852\"/>\n",
       "  <use xlink:href=\"#glyph0-28\" x=\"305.668945\" y=\"142.547852\"/>\n",
       "  <use xlink:href=\"#glyph0-27\" x=\"307.462891\" y=\"142.547852\"/>\n",
       "  <use xlink:href=\"#glyph0-8\" x=\"309.611328\" y=\"142.547852\"/>\n",
       "  <use xlink:href=\"#glyph0-9\" x=\"311.405273\" y=\"142.547852\"/>\n",
       "  <use xlink:href=\"#glyph0-8\" x=\"315.173828\" y=\"142.547852\"/>\n",
       "  <use xlink:href=\"#glyph0-38\" x=\"316.967773\" y=\"142.547852\"/>\n",
       "  <use xlink:href=\"#glyph0-39\" x=\"320.555664\" y=\"142.547852\"/>\n",
       "  <use xlink:href=\"#glyph0-27\" x=\"324.143555\" y=\"142.547852\"/>\n",
       "  <use xlink:href=\"#glyph0-18\" x=\"326.291992\" y=\"142.547852\"/>\n",
       "  <use xlink:href=\"#glyph0-38\" x=\"328.085938\" y=\"142.547852\"/>\n",
       "  <use xlink:href=\"#glyph0-38\" x=\"331.673828\" y=\"142.547852\"/>\n",
       "  <use xlink:href=\"#glyph0-27\" x=\"335.261719\" y=\"142.547852\"/>\n",
       "  <use xlink:href=\"#glyph0-18\" x=\"337.410156\" y=\"142.547852\"/>\n",
       "  <use xlink:href=\"#glyph0-40\" x=\"339.204102\" y=\"142.547852\"/>\n",
       "  <use xlink:href=\"#glyph0-5\" x=\"342.791992\" y=\"142.547852\"/>\n",
       "  <use xlink:href=\"#glyph0-16\" x=\"345.301758\" y=\"142.547852\"/>\n",
       "  <use xlink:href=\"#glyph0-18\" x=\"349.244141\" y=\"142.547852\"/>\n",
       "  <use xlink:href=\"#glyph0-45\" x=\"351.038086\" y=\"142.547852\"/>\n",
       "  <use xlink:href=\"#glyph0-27\" x=\"354.625977\" y=\"142.547852\"/>\n",
       "  <use xlink:href=\"#glyph0-42\" x=\"356.774414\" y=\"142.547852\"/>\n",
       "  <use xlink:href=\"#glyph0-18\" x=\"360.716797\" y=\"142.547852\"/>\n",
       "  <use xlink:href=\"#glyph0-46\" x=\"362.510742\" y=\"142.547852\"/>\n",
       "  <use xlink:href=\"#glyph0-27\" x=\"366.098633\" y=\"142.547852\"/>\n",
       "  <use xlink:href=\"#glyph0-42\" x=\"368.24707\" y=\"142.547852\"/>\n",
       "  <use xlink:href=\"#glyph0-18\" x=\"372.189453\" y=\"142.547852\"/>\n",
       "  <use xlink:href=\"#glyph0-47\" x=\"373.983398\" y=\"142.547852\"/>\n",
       "  <use xlink:href=\"#glyph0-27\" x=\"377.571289\" y=\"142.547852\"/>\n",
       "  <use xlink:href=\"#glyph0-42\" x=\"379.719727\" y=\"142.547852\"/>\n",
       "  <use xlink:href=\"#glyph0-18\" x=\"383.662109\" y=\"142.547852\"/>\n",
       "  <use xlink:href=\"#glyph0-48\" x=\"385.456055\" y=\"142.547852\"/>\n",
       "  <use xlink:href=\"#glyph0-27\" x=\"389.043945\" y=\"142.547852\"/>\n",
       "  <use xlink:href=\"#glyph0-42\" x=\"391.192383\" y=\"142.547852\"/>\n",
       "  <use xlink:href=\"#glyph0-18\" x=\"395.134766\" y=\"142.547852\"/>\n",
       "  <use xlink:href=\"#glyph0-35\" x=\"396.928711\" y=\"142.547852\"/>\n",
       "  <use xlink:href=\"#glyph0-6\" x=\"401.587891\" y=\"142.547852\"/>\n",
       "  <use xlink:href=\"#glyph0-18\" x=\"406.24707\" y=\"142.547852\"/>\n",
       "  <use xlink:href=\"#glyph0-37\" x=\"408.041016\" y=\"142.547852\"/>\n",
       "  <use xlink:href=\"#glyph0-29\" x=\"411.983398\" y=\"142.547852\"/>\n",
       "  <use xlink:href=\"#glyph0-35\" x=\"416.287109\" y=\"142.547852\"/>\n",
       "</g>\n",
       "<g style=\"fill:rgb(0%,0%,0%);fill-opacity:1;\">\n",
       "  <use xlink:href=\"#glyph0-17\" x=\"274.128906\" y=\"189.125977\"/>\n",
       "  <use xlink:href=\"#glyph0-13\" x=\"275.922852\" y=\"189.125977\"/>\n",
       "  <use xlink:href=\"#glyph0-13\" x=\"279.510742\" y=\"189.125977\"/>\n",
       "  <use xlink:href=\"#glyph0-7\" x=\"283.098633\" y=\"189.125977\"/>\n",
       "  <use xlink:href=\"#glyph0-4\" x=\"287.041016\" y=\"189.125977\"/>\n",
       "  <use xlink:href=\"#glyph0-8\" x=\"290.628906\" y=\"189.125977\"/>\n",
       "  <use xlink:href=\"#glyph0-9\" x=\"292.422852\" y=\"189.125977\"/>\n",
       "  <use xlink:href=\"#glyph0-8\" x=\"296.191406\" y=\"189.125977\"/>\n",
       "  <use xlink:href=\"#glyph0-35\" x=\"297.985352\" y=\"189.125977\"/>\n",
       "  <use xlink:href=\"#glyph0-21\" x=\"302.644531\" y=\"189.125977\"/>\n",
       "  <use xlink:href=\"#glyph0-5\" x=\"306.948242\" y=\"189.125977\"/>\n",
       "  <use xlink:href=\"#glyph0-18\" x=\"309.458008\" y=\"189.125977\"/>\n",
       "  <use xlink:href=\"#glyph0-37\" x=\"311.251953\" y=\"189.125977\"/>\n",
       "  <use xlink:href=\"#glyph0-25\" x=\"315.194336\" y=\"189.125977\"/>\n",
       "  <use xlink:href=\"#glyph0-17\" x=\"319.853516\" y=\"189.125977\"/>\n",
       "  <use xlink:href=\"#glyph0-18\" x=\"321.647461\" y=\"189.125977\"/>\n",
       "  <use xlink:href=\"#glyph0-37\" x=\"323.441406\" y=\"189.125977\"/>\n",
       "  <use xlink:href=\"#glyph0-16\" x=\"327.383789\" y=\"189.125977\"/>\n",
       "  <use xlink:href=\"#glyph0-24\" x=\"331.326172\" y=\"189.125977\"/>\n",
       "  <use xlink:href=\"#glyph0-18\" x=\"335.268555\" y=\"189.125977\"/>\n",
       "  <use xlink:href=\"#glyph0-37\" x=\"337.0625\" y=\"189.125977\"/>\n",
       "  <use xlink:href=\"#glyph0-5\" x=\"341.004883\" y=\"189.125977\"/>\n",
       "  <use xlink:href=\"#glyph0-25\" x=\"343.514648\" y=\"189.125977\"/>\n",
       "  <use xlink:href=\"#glyph0-18\" x=\"348.173828\" y=\"189.125977\"/>\n",
       "  <use xlink:href=\"#glyph0-26\" x=\"349.967773\" y=\"189.125977\"/>\n",
       "  <use xlink:href=\"#glyph0-15\" x=\"354.626953\" y=\"189.125977\"/>\n",
       "  <use xlink:href=\"#glyph0-15\" x=\"358.569336\" y=\"189.125977\"/>\n",
       "</g>\n",
       "<g style=\"fill:rgb(0%,0%,0%);fill-opacity:1;\">\n",
       "  <use xlink:href=\"#glyph0-12\" x=\"165.851562\" y=\"235.708008\"/>\n",
       "  <use xlink:href=\"#glyph0-4\" x=\"170.510742\" y=\"235.708008\"/>\n",
       "  <use xlink:href=\"#glyph0-13\" x=\"174.098633\" y=\"235.708008\"/>\n",
       "  <use xlink:href=\"#glyph0-14\" x=\"177.686523\" y=\"235.708008\"/>\n",
       "  <use xlink:href=\"#glyph0-2\" x=\"181.628906\" y=\"235.708008\"/>\n",
       "  <use xlink:href=\"#glyph0-15\" x=\"185.571289\" y=\"235.708008\"/>\n",
       "  <use xlink:href=\"#glyph0-16\" x=\"189.513672\" y=\"235.708008\"/>\n",
       "  <use xlink:href=\"#glyph0-4\" x=\"193.456055\" y=\"235.708008\"/>\n",
       "  <use xlink:href=\"#glyph0-8\" x=\"197.043945\" y=\"235.708008\"/>\n",
       "  <use xlink:href=\"#glyph0-9\" x=\"198.837891\" y=\"235.708008\"/>\n",
       "  <use xlink:href=\"#glyph0-8\" x=\"202.606445\" y=\"235.708008\"/>\n",
       "  <use xlink:href=\"#glyph0-43\" x=\"204.400391\" y=\"235.708008\"/>\n",
       "  <use xlink:href=\"#glyph0-26\" x=\"209.05957\" y=\"235.708008\"/>\n",
       "  <use xlink:href=\"#glyph0-23\" x=\"213.71875\" y=\"235.708008\"/>\n",
       "  <use xlink:href=\"#glyph0-18\" x=\"218.022461\" y=\"235.708008\"/>\n",
       "  <use xlink:href=\"#glyph0-6\" x=\"219.816406\" y=\"235.708008\"/>\n",
       "  <use xlink:href=\"#glyph0-12\" x=\"224.475586\" y=\"235.708008\"/>\n",
       "  <use xlink:href=\"#glyph0-17\" x=\"229.134766\" y=\"235.708008\"/>\n",
       "  <use xlink:href=\"#glyph0-18\" x=\"230.928711\" y=\"235.708008\"/>\n",
       "  <use xlink:href=\"#glyph0-29\" x=\"232.722656\" y=\"235.708008\"/>\n",
       "  <use xlink:href=\"#glyph0-30\" x=\"237.026367\" y=\"235.708008\"/>\n",
       "  <use xlink:href=\"#glyph0-21\" x=\"242.401367\" y=\"235.708008\"/>\n",
       "  <use xlink:href=\"#glyph0-1\" x=\"246.705078\" y=\"235.708008\"/>\n",
       "  <use xlink:href=\"#glyph0-22\" x=\"250.647461\" y=\"235.708008\"/>\n",
       "  <use xlink:href=\"#glyph0-31\" x=\"255.667969\" y=\"235.708008\"/>\n",
       "  <use xlink:href=\"#glyph0-29\" x=\"259.97168\" y=\"235.708008\"/>\n",
       "  <use xlink:href=\"#glyph0-29\" x=\"264.275391\" y=\"235.708008\"/>\n",
       "  <use xlink:href=\"#glyph0-18\" x=\"268.579102\" y=\"235.708008\"/>\n",
       "  <use xlink:href=\"#glyph0-32\" x=\"270.373047\" y=\"235.708008\"/>\n",
       "  <use xlink:href=\"#glyph0-22\" x=\"275.393555\" y=\"235.708008\"/>\n",
       "  <use xlink:href=\"#glyph0-33\" x=\"280.414062\" y=\"235.708008\"/>\n",
       "  <use xlink:href=\"#glyph0-18\" x=\"284.717773\" y=\"235.708008\"/>\n",
       "  <use xlink:href=\"#glyph0-26\" x=\"286.511719\" y=\"235.708008\"/>\n",
       "  <use xlink:href=\"#glyph0-23\" x=\"291.170898\" y=\"235.708008\"/>\n",
       "</g>\n",
       "<g style=\"fill:rgb(0%,0%,0%);fill-opacity:1;\">\n",
       "  <use xlink:href=\"#glyph0-6\" x=\"218.394531\" y=\"270.743164\"/>\n",
       "  <use xlink:href=\"#glyph0-28\" x=\"223.053711\" y=\"270.743164\"/>\n",
       "  <use xlink:href=\"#glyph0-5\" x=\"224.847656\" y=\"270.743164\"/>\n",
       "  <use xlink:href=\"#glyph0-36\" x=\"227.357422\" y=\"270.743164\"/>\n",
       "  <use xlink:href=\"#glyph0-7\" x=\"230.945312\" y=\"270.743164\"/>\n",
       "  <use xlink:href=\"#glyph0-28\" x=\"234.887695\" y=\"270.743164\"/>\n",
       "  <use xlink:href=\"#glyph0-27\" x=\"236.681641\" y=\"270.743164\"/>\n",
       "  <use xlink:href=\"#glyph0-8\" x=\"238.830078\" y=\"270.743164\"/>\n",
       "  <use xlink:href=\"#glyph0-9\" x=\"240.624023\" y=\"270.743164\"/>\n",
       "  <use xlink:href=\"#glyph0-8\" x=\"244.392578\" y=\"270.743164\"/>\n",
       "  <use xlink:href=\"#glyph0-38\" x=\"246.186523\" y=\"270.743164\"/>\n",
       "  <use xlink:href=\"#glyph0-39\" x=\"249.774414\" y=\"270.743164\"/>\n",
       "  <use xlink:href=\"#glyph0-27\" x=\"253.362305\" y=\"270.743164\"/>\n",
       "  <use xlink:href=\"#glyph0-18\" x=\"255.510742\" y=\"270.743164\"/>\n",
       "  <use xlink:href=\"#glyph0-47\" x=\"257.304688\" y=\"270.743164\"/>\n",
       "  <use xlink:href=\"#glyph0-27\" x=\"260.892578\" y=\"270.743164\"/>\n",
       "  <use xlink:href=\"#glyph0-42\" x=\"263.041016\" y=\"270.743164\"/>\n",
       "  <use xlink:href=\"#glyph0-18\" x=\"266.983398\" y=\"270.743164\"/>\n",
       "  <use xlink:href=\"#glyph0-48\" x=\"268.777344\" y=\"270.743164\"/>\n",
       "  <use xlink:href=\"#glyph0-27\" x=\"272.365234\" y=\"270.743164\"/>\n",
       "  <use xlink:href=\"#glyph0-42\" x=\"274.513672\" y=\"270.743164\"/>\n",
       "  <use xlink:href=\"#glyph0-18\" x=\"278.456055\" y=\"270.743164\"/>\n",
       "  <use xlink:href=\"#glyph0-35\" x=\"280.25\" y=\"270.743164\"/>\n",
       "  <use xlink:href=\"#glyph0-6\" x=\"284.90918\" y=\"270.743164\"/>\n",
       "  <use xlink:href=\"#glyph0-18\" x=\"289.568359\" y=\"270.743164\"/>\n",
       "  <use xlink:href=\"#glyph0-37\" x=\"291.362305\" y=\"270.743164\"/>\n",
       "  <use xlink:href=\"#glyph0-29\" x=\"295.304688\" y=\"270.743164\"/>\n",
       "  <use xlink:href=\"#glyph0-35\" x=\"299.608398\" y=\"270.743164\"/>\n",
       "</g>\n",
       "<g style=\"fill:rgb(0%,0%,0%);fill-opacity:1;\">\n",
       "  <use xlink:href=\"#glyph0-21\" x=\"328.90625\" y=\"224.161133\"/>\n",
       "  <use xlink:href=\"#glyph0-4\" x=\"333.209961\" y=\"224.161133\"/>\n",
       "  <use xlink:href=\"#glyph0-27\" x=\"336.797852\" y=\"224.161133\"/>\n",
       "  <use xlink:href=\"#glyph0-28\" x=\"338.946289\" y=\"224.161133\"/>\n",
       "  <use xlink:href=\"#glyph0-27\" x=\"340.740234\" y=\"224.161133\"/>\n",
       "  <use xlink:href=\"#glyph0-28\" x=\"342.888672\" y=\"224.161133\"/>\n",
       "  <use xlink:href=\"#glyph0-2\" x=\"344.682617\" y=\"224.161133\"/>\n",
       "  <use xlink:href=\"#glyph0-15\" x=\"348.625\" y=\"224.161133\"/>\n",
       "  <use xlink:href=\"#glyph0-8\" x=\"352.567383\" y=\"224.161133\"/>\n",
       "  <use xlink:href=\"#glyph0-9\" x=\"354.361328\" y=\"224.161133\"/>\n",
       "  <use xlink:href=\"#glyph0-8\" x=\"358.129883\" y=\"224.161133\"/>\n",
       "  <use xlink:href=\"#glyph0-25\" x=\"359.923828\" y=\"224.161133\"/>\n",
       "  <use xlink:href=\"#glyph0-30\" x=\"364.583008\" y=\"224.161133\"/>\n",
       "  <use xlink:href=\"#glyph0-29\" x=\"369.958008\" y=\"224.161133\"/>\n",
       "  <use xlink:href=\"#glyph0-18\" x=\"374.261719\" y=\"224.161133\"/>\n",
       "  <use xlink:href=\"#glyph0-43\" x=\"376.055664\" y=\"224.161133\"/>\n",
       "  <use xlink:href=\"#glyph0-26\" x=\"380.714844\" y=\"224.161133\"/>\n",
       "  <use xlink:href=\"#glyph0-23\" x=\"385.374023\" y=\"224.161133\"/>\n",
       "  <use xlink:href=\"#glyph0-18\" x=\"389.677734\" y=\"224.161133\"/>\n",
       "  <use xlink:href=\"#glyph0-6\" x=\"391.47168\" y=\"224.161133\"/>\n",
       "  <use xlink:href=\"#glyph0-17\" x=\"396.130859\" y=\"224.161133\"/>\n",
       "  <use xlink:href=\"#glyph0-24\" x=\"397.924805\" y=\"224.161133\"/>\n",
       "  <use xlink:href=\"#glyph0-18\" x=\"401.867188\" y=\"224.161133\"/>\n",
       "  <use xlink:href=\"#glyph0-6\" x=\"403.661133\" y=\"224.161133\"/>\n",
       "  <use xlink:href=\"#glyph0-12\" x=\"408.320312\" y=\"224.161133\"/>\n",
       "  <use xlink:href=\"#glyph0-17\" x=\"412.979492\" y=\"224.161133\"/>\n",
       "  <use xlink:href=\"#glyph0-18\" x=\"414.773438\" y=\"224.161133\"/>\n",
       "  <use xlink:href=\"#glyph0-32\" x=\"416.567383\" y=\"224.161133\"/>\n",
       "  <use xlink:href=\"#glyph0-22\" x=\"421.587891\" y=\"224.161133\"/>\n",
       "  <use xlink:href=\"#glyph0-33\" x=\"426.608398\" y=\"224.161133\"/>\n",
       "  <use xlink:href=\"#glyph0-18\" x=\"430.912109\" y=\"224.161133\"/>\n",
       "  <use xlink:href=\"#glyph0-17\" x=\"432.706055\" y=\"224.161133\"/>\n",
       "  <use xlink:href=\"#glyph0-19\" x=\"434.5\" y=\"224.161133\"/>\n",
       "  <use xlink:href=\"#glyph0-20\" x=\"439.15918\" y=\"224.161133\"/>\n",
       "  <use xlink:href=\"#glyph0-18\" x=\"442.74707\" y=\"224.161133\"/>\n",
       "  <use xlink:href=\"#glyph0-22\" x=\"444.541016\" y=\"224.161133\"/>\n",
       "  <use xlink:href=\"#glyph0-24\" x=\"449.561523\" y=\"224.161133\"/>\n",
       "  <use xlink:href=\"#glyph0-44\" x=\"453.503906\" y=\"224.161133\"/>\n",
       "  <use xlink:href=\"#glyph0-18\" x=\"458.163086\" y=\"224.161133\"/>\n",
       "  <use xlink:href=\"#glyph0-23\" x=\"459.957031\" y=\"224.161133\"/>\n",
       "  <use xlink:href=\"#glyph0-24\" x=\"464.260742\" y=\"224.161133\"/>\n",
       "  <use xlink:href=\"#glyph0-25\" x=\"468.203125\" y=\"224.161133\"/>\n",
       "  <use xlink:href=\"#glyph0-18\" x=\"472.862305\" y=\"224.161133\"/>\n",
       "  <use xlink:href=\"#glyph0-26\" x=\"474.65625\" y=\"224.161133\"/>\n",
       "  <use xlink:href=\"#glyph0-23\" x=\"479.31543\" y=\"224.161133\"/>\n",
       "</g>\n",
       "<g style=\"fill:rgb(0%,0%,0%);fill-opacity:1;\">\n",
       "  <use xlink:href=\"#glyph0-21\" x=\"325.050781\" y=\"282.286133\"/>\n",
       "  <use xlink:href=\"#glyph0-4\" x=\"329.354492\" y=\"282.286133\"/>\n",
       "  <use xlink:href=\"#glyph0-27\" x=\"332.942383\" y=\"282.286133\"/>\n",
       "  <use xlink:href=\"#glyph0-28\" x=\"335.09082\" y=\"282.286133\"/>\n",
       "  <use xlink:href=\"#glyph0-27\" x=\"336.884766\" y=\"282.286133\"/>\n",
       "  <use xlink:href=\"#glyph0-28\" x=\"339.033203\" y=\"282.286133\"/>\n",
       "  <use xlink:href=\"#glyph0-2\" x=\"340.827148\" y=\"282.286133\"/>\n",
       "  <use xlink:href=\"#glyph0-15\" x=\"344.769531\" y=\"282.286133\"/>\n",
       "  <use xlink:href=\"#glyph0-8\" x=\"348.711914\" y=\"282.286133\"/>\n",
       "  <use xlink:href=\"#glyph0-9\" x=\"350.505859\" y=\"282.286133\"/>\n",
       "  <use xlink:href=\"#glyph0-8\" x=\"354.274414\" y=\"282.286133\"/>\n",
       "  <use xlink:href=\"#glyph0-25\" x=\"356.068359\" y=\"282.286133\"/>\n",
       "  <use xlink:href=\"#glyph0-30\" x=\"360.727539\" y=\"282.286133\"/>\n",
       "  <use xlink:href=\"#glyph0-29\" x=\"366.102539\" y=\"282.286133\"/>\n",
       "  <use xlink:href=\"#glyph0-18\" x=\"370.40625\" y=\"282.286133\"/>\n",
       "  <use xlink:href=\"#glyph0-6\" x=\"372.200195\" y=\"282.286133\"/>\n",
       "  <use xlink:href=\"#glyph0-17\" x=\"376.859375\" y=\"282.286133\"/>\n",
       "  <use xlink:href=\"#glyph0-24\" x=\"378.65332\" y=\"282.286133\"/>\n",
       "  <use xlink:href=\"#glyph0-18\" x=\"382.595703\" y=\"282.286133\"/>\n",
       "  <use xlink:href=\"#glyph0-32\" x=\"384.389648\" y=\"282.286133\"/>\n",
       "  <use xlink:href=\"#glyph0-22\" x=\"389.410156\" y=\"282.286133\"/>\n",
       "  <use xlink:href=\"#glyph0-33\" x=\"394.430664\" y=\"282.286133\"/>\n",
       "  <use xlink:href=\"#glyph0-18\" x=\"398.734375\" y=\"282.286133\"/>\n",
       "  <use xlink:href=\"#glyph0-17\" x=\"400.52832\" y=\"282.286133\"/>\n",
       "  <use xlink:href=\"#glyph0-19\" x=\"402.322266\" y=\"282.286133\"/>\n",
       "  <use xlink:href=\"#glyph0-20\" x=\"406.981445\" y=\"282.286133\"/>\n",
       "  <use xlink:href=\"#glyph0-18\" x=\"410.569336\" y=\"282.286133\"/>\n",
       "  <use xlink:href=\"#glyph0-23\" x=\"412.363281\" y=\"282.286133\"/>\n",
       "  <use xlink:href=\"#glyph0-24\" x=\"416.666992\" y=\"282.286133\"/>\n",
       "  <use xlink:href=\"#glyph0-25\" x=\"420.609375\" y=\"282.286133\"/>\n",
       "</g>\n",
       "<g style=\"fill:rgb(0%,0%,0%);fill-opacity:1;\">\n",
       "  <use xlink:href=\"#glyph0-6\" x=\"362.902344\" y=\"317.321289\"/>\n",
       "  <use xlink:href=\"#glyph0-28\" x=\"367.561523\" y=\"317.321289\"/>\n",
       "  <use xlink:href=\"#glyph0-5\" x=\"369.355469\" y=\"317.321289\"/>\n",
       "  <use xlink:href=\"#glyph0-36\" x=\"371.865234\" y=\"317.321289\"/>\n",
       "  <use xlink:href=\"#glyph0-7\" x=\"375.453125\" y=\"317.321289\"/>\n",
       "  <use xlink:href=\"#glyph0-28\" x=\"379.395508\" y=\"317.321289\"/>\n",
       "  <use xlink:href=\"#glyph0-27\" x=\"381.189453\" y=\"317.321289\"/>\n",
       "  <use xlink:href=\"#glyph0-8\" x=\"383.337891\" y=\"317.321289\"/>\n",
       "  <use xlink:href=\"#glyph0-9\" x=\"385.131836\" y=\"317.321289\"/>\n",
       "  <use xlink:href=\"#glyph0-8\" x=\"388.900391\" y=\"317.321289\"/>\n",
       "  <use xlink:href=\"#glyph0-38\" x=\"390.694336\" y=\"317.321289\"/>\n",
       "  <use xlink:href=\"#glyph0-39\" x=\"394.282227\" y=\"317.321289\"/>\n",
       "  <use xlink:href=\"#glyph0-27\" x=\"397.870117\" y=\"317.321289\"/>\n",
       "  <use xlink:href=\"#glyph0-18\" x=\"400.018555\" y=\"317.321289\"/>\n",
       "  <use xlink:href=\"#glyph0-40\" x=\"401.8125\" y=\"317.321289\"/>\n",
       "  <use xlink:href=\"#glyph0-5\" x=\"405.400391\" y=\"317.321289\"/>\n",
       "  <use xlink:href=\"#glyph0-16\" x=\"407.910156\" y=\"317.321289\"/>\n",
       "  <use xlink:href=\"#glyph0-18\" x=\"411.852539\" y=\"317.321289\"/>\n",
       "  <use xlink:href=\"#glyph0-45\" x=\"413.646484\" y=\"317.321289\"/>\n",
       "  <use xlink:href=\"#glyph0-27\" x=\"417.234375\" y=\"317.321289\"/>\n",
       "  <use xlink:href=\"#glyph0-42\" x=\"419.382812\" y=\"317.321289\"/>\n",
       "  <use xlink:href=\"#glyph0-18\" x=\"423.325195\" y=\"317.321289\"/>\n",
       "  <use xlink:href=\"#glyph0-46\" x=\"425.119141\" y=\"317.321289\"/>\n",
       "  <use xlink:href=\"#glyph0-27\" x=\"428.707031\" y=\"317.321289\"/>\n",
       "  <use xlink:href=\"#glyph0-42\" x=\"430.855469\" y=\"317.321289\"/>\n",
       "  <use xlink:href=\"#glyph0-18\" x=\"434.797852\" y=\"317.321289\"/>\n",
       "  <use xlink:href=\"#glyph0-37\" x=\"436.591797\" y=\"317.321289\"/>\n",
       "  <use xlink:href=\"#glyph0-29\" x=\"440.53418\" y=\"317.321289\"/>\n",
       "  <use xlink:href=\"#glyph0-35\" x=\"444.837891\" y=\"317.321289\"/>\n",
       "</g>\n",
       "<g style=\"fill:rgb(0%,0%,0%);fill-opacity:1;\">\n",
       "  <use xlink:href=\"#glyph0-12\" x=\"337.582031\" y=\"375.446289\"/>\n",
       "  <use xlink:href=\"#glyph0-4\" x=\"342.241211\" y=\"375.446289\"/>\n",
       "  <use xlink:href=\"#glyph0-13\" x=\"345.829102\" y=\"375.446289\"/>\n",
       "  <use xlink:href=\"#glyph0-14\" x=\"349.416992\" y=\"375.446289\"/>\n",
       "  <use xlink:href=\"#glyph0-2\" x=\"353.359375\" y=\"375.446289\"/>\n",
       "  <use xlink:href=\"#glyph0-15\" x=\"357.301758\" y=\"375.446289\"/>\n",
       "  <use xlink:href=\"#glyph0-16\" x=\"361.244141\" y=\"375.446289\"/>\n",
       "  <use xlink:href=\"#glyph0-4\" x=\"365.186523\" y=\"375.446289\"/>\n",
       "  <use xlink:href=\"#glyph0-8\" x=\"368.774414\" y=\"375.446289\"/>\n",
       "  <use xlink:href=\"#glyph0-9\" x=\"370.568359\" y=\"375.446289\"/>\n",
       "  <use xlink:href=\"#glyph0-8\" x=\"374.336914\" y=\"375.446289\"/>\n",
       "  <use xlink:href=\"#glyph0-6\" x=\"376.130859\" y=\"375.446289\"/>\n",
       "  <use xlink:href=\"#glyph0-12\" x=\"380.790039\" y=\"375.446289\"/>\n",
       "  <use xlink:href=\"#glyph0-17\" x=\"385.449219\" y=\"375.446289\"/>\n",
       "  <use xlink:href=\"#glyph0-18\" x=\"387.243164\" y=\"375.446289\"/>\n",
       "  <use xlink:href=\"#glyph0-22\" x=\"389.037109\" y=\"375.446289\"/>\n",
       "  <use xlink:href=\"#glyph0-24\" x=\"394.057617\" y=\"375.446289\"/>\n",
       "  <use xlink:href=\"#glyph0-44\" x=\"398\" y=\"375.446289\"/>\n",
       "  <use xlink:href=\"#glyph0-18\" x=\"402.65918\" y=\"375.446289\"/>\n",
       "  <use xlink:href=\"#glyph0-26\" x=\"404.453125\" y=\"375.446289\"/>\n",
       "  <use xlink:href=\"#glyph0-23\" x=\"409.112305\" y=\"375.446289\"/>\n",
       "</g>\n",
       "<g style=\"fill:rgb(0%,0%,0%);fill-opacity:1;\">\n",
       "  <use xlink:href=\"#glyph0-26\" x=\"323.535156\" y=\"422.52832\"/>\n",
       "  <use xlink:href=\"#glyph0-15\" x=\"328.194336\" y=\"422.52832\"/>\n",
       "  <use xlink:href=\"#glyph0-36\" x=\"332.136719\" y=\"422.52832\"/>\n",
       "  <use xlink:href=\"#glyph0-2\" x=\"335.724609\" y=\"422.52832\"/>\n",
       "  <use xlink:href=\"#glyph0-15\" x=\"339.666992\" y=\"422.52832\"/>\n",
       "  <use xlink:href=\"#glyph0-13\" x=\"343.609375\" y=\"422.52832\"/>\n",
       "  <use xlink:href=\"#glyph0-27\" x=\"347.197266\" y=\"422.52832\"/>\n",
       "  <use xlink:href=\"#glyph0-8\" x=\"349.345703\" y=\"422.52832\"/>\n",
       "  <use xlink:href=\"#glyph0-49\" x=\"351.139648\" y=\"422.52832\"/>\n",
       "  <use xlink:href=\"#glyph0-8\" x=\"354.908203\" y=\"422.52832\"/>\n",
       "  <use xlink:href=\"#glyph0-39\" x=\"356.702148\" y=\"422.52832\"/>\n",
       "  <use xlink:href=\"#glyph0-50\" x=\"360.290039\" y=\"422.52832\"/>\n",
       "  <use xlink:href=\"#glyph0-51\" x=\"362.083984\" y=\"422.52832\"/>\n",
       "</g>\n",
       "<path style=\"fill-rule:nonzero;fill:rgb(100%,100%,100%);fill-opacity:1;stroke-width:0.403125;stroke-linecap:round;stroke-linejoin:round;stroke:rgb(0%,0%,0%);stroke-opacity:1;stroke-miterlimit:10;\" d=\"M 41.65625 141.59375 L 41.800781 140.515625 L 42.214844 139.507812 L 42.878906 138.644531 L 43.742188 137.984375 L 44.746094 137.566406 L 45.824219 137.425781 L 46.902344 137.566406 L 47.90625 137.984375 L 48.769531 138.644531 L 49.433594 139.507812 L 49.847656 140.515625 L 49.992188 141.59375 L 49.992188 141.875 L 49.847656 142.953125 L 49.433594 143.957031 L 48.769531 144.820312 L 47.90625 145.484375 L 46.902344 145.898438 L 45.824219 146.042969 L 44.746094 145.898438 L 43.742188 145.484375 L 42.878906 144.820312 L 42.214844 143.957031 L 41.800781 142.953125 L 41.65625 141.875 Z \"/>\n",
       "<path style=\"fill-rule:nonzero;fill:rgb(100%,100%,100%);fill-opacity:1;stroke-width:0.403125;stroke-linecap:round;stroke-linejoin:round;stroke:rgb(0%,0%,0%);stroke-opacity:1;stroke-miterlimit:10;\" d=\"M 72.511719 188.171875 L 72.65625 187.09375 L 73.070312 186.089844 L 73.734375 185.226562 L 74.597656 184.5625 L 75.601562 184.148438 L 76.679688 184.003906 L 77.757812 184.148438 L 78.765625 184.5625 L 79.628906 185.226562 L 80.289062 186.089844 L 80.707031 187.09375 L 80.847656 188.171875 L 80.847656 188.453125 L 80.707031 189.53125 L 80.289062 190.539062 L 79.628906 191.402344 L 78.765625 192.0625 L 77.757812 192.480469 L 76.679688 192.621094 L 75.601562 192.480469 L 74.597656 192.0625 L 73.734375 191.402344 L 73.070312 190.539062 L 72.65625 189.53125 L 72.511719 188.453125 Z \"/>\n",
       "<path style=\"fill-rule:nonzero;fill:rgb(100%,100%,100%);fill-opacity:1;stroke-width:0.403125;stroke-linecap:round;stroke-linejoin:round;stroke:rgb(0%,0%,0%);stroke-opacity:1;stroke-miterlimit:10;\" d=\"M 45.078125 327.914062 L 45.21875 326.835938 L 45.636719 325.828125 L 46.296875 324.964844 L 47.160156 324.304688 L 48.167969 323.886719 L 49.246094 323.746094 L 50.324219 323.886719 L 51.328125 324.304688 L 52.191406 324.964844 L 52.855469 325.828125 L 53.269531 326.835938 L 53.414062 327.914062 L 53.414062 328.195312 L 53.269531 329.273438 L 52.855469 330.277344 L 52.191406 331.140625 L 51.328125 331.804688 L 50.324219 332.21875 L 49.246094 332.363281 L 48.167969 332.21875 L 47.160156 331.804688 L 46.296875 331.140625 L 45.636719 330.277344 L 45.21875 329.273438 L 45.078125 328.195312 Z \"/>\n",
       "<path style=\"fill-rule:nonzero;fill:rgb(100%,100%,100%);fill-opacity:1;stroke-width:0.403125;stroke-linecap:round;stroke-linejoin:round;stroke:rgb(0%,0%,0%);stroke-opacity:1;stroke-miterlimit:10;\" d=\"M 100.613281 316.367188 L 100.757812 315.289062 L 101.171875 314.285156 L 101.835938 313.421875 L 102.699219 312.757812 L 103.703125 312.34375 L 104.78125 312.203125 L 105.859375 312.34375 L 106.867188 312.757812 L 107.730469 313.421875 L 108.390625 314.285156 L 108.808594 315.289062 L 108.949219 316.367188 L 108.949219 316.652344 L 108.808594 317.730469 L 108.390625 318.734375 L 107.730469 319.597656 L 106.867188 320.257812 L 105.859375 320.675781 L 104.78125 320.816406 L 103.703125 320.675781 L 102.699219 320.257812 L 101.835938 319.597656 L 101.171875 318.734375 L 100.757812 317.730469 L 100.613281 316.652344 Z \"/>\n",
       "<path style=\"fill-rule:nonzero;fill:rgb(100%,100%,100%);fill-opacity:1;stroke-width:0.403125;stroke-linecap:round;stroke-linejoin:round;stroke:rgb(0%,0%,0%);stroke-opacity:1;stroke-miterlimit:10;\" d=\"M 133.9375 269.789062 L 134.078125 268.710938 L 134.496094 267.703125 L 135.15625 266.84375 L 136.019531 266.179688 L 137.027344 265.761719 L 138.105469 265.621094 L 139.183594 265.761719 L 140.1875 266.179688 L 141.050781 266.84375 L 141.714844 267.703125 L 142.128906 268.710938 L 142.269531 269.789062 L 142.269531 270.070312 L 142.128906 271.148438 L 141.714844 272.152344 L 141.050781 273.015625 L 140.1875 273.679688 L 139.183594 274.09375 L 138.105469 274.238281 L 137.027344 274.09375 L 136.019531 273.679688 L 135.15625 273.015625 L 134.496094 272.152344 L 134.078125 271.148438 L 133.9375 270.070312 Z \"/>\n",
       "<path style=\"fill-rule:nonzero;fill:rgb(100%,100%,100%);fill-opacity:1;stroke-width:0.403125;stroke-linecap:round;stroke-linejoin:round;stroke:rgb(0%,0%,0%);stroke-opacity:1;stroke-miterlimit:10;\" d=\"M 165.039062 223.207031 L 165.179688 222.128906 L 165.597656 221.125 L 166.257812 220.261719 L 167.121094 219.597656 L 168.125 219.183594 L 169.207031 219.042969 L 170.285156 219.183594 L 171.289062 219.597656 L 172.152344 220.261719 L 172.8125 221.125 L 173.230469 222.128906 L 173.371094 223.207031 L 173.371094 223.492188 L 173.230469 224.570312 L 172.8125 225.574219 L 172.152344 226.4375 L 171.289062 227.097656 L 170.285156 227.515625 L 169.207031 227.65625 L 168.125 227.515625 L 167.121094 227.097656 L 166.257812 226.4375 L 165.597656 225.574219 L 165.179688 224.570312 L 165.039062 223.492188 Z \"/>\n",
       "<path style=\"fill-rule:nonzero;fill:rgb(100%,100%,100%);fill-opacity:1;stroke-width:0.403125;stroke-linecap:round;stroke-linejoin:round;stroke:rgb(0%,0%,0%);stroke-opacity:1;stroke-miterlimit:10;\" d=\"M 196.140625 281.332031 L 196.28125 280.253906 L 196.695312 279.25 L 197.359375 278.386719 L 198.222656 277.722656 L 199.226562 277.308594 L 200.304688 277.164062 L 201.382812 277.308594 L 202.390625 277.722656 L 203.253906 278.386719 L 203.914062 279.25 L 204.332031 280.253906 L 204.472656 281.332031 L 204.472656 281.613281 L 204.332031 282.691406 L 203.914062 283.699219 L 203.253906 284.5625 L 202.390625 285.222656 L 201.382812 285.640625 L 200.304688 285.78125 L 199.226562 285.640625 L 198.222656 285.222656 L 197.359375 284.5625 L 196.695312 283.699219 L 196.28125 282.691406 L 196.140625 281.613281 Z \"/>\n",
       "<path style=\"fill-rule:nonzero;fill:rgb(100%,100%,100%);fill-opacity:1;stroke-width:0.403125;stroke-linecap:round;stroke-linejoin:round;stroke:rgb(0%,0%,0%);stroke-opacity:1;stroke-miterlimit:10;\" d=\"M 229.460938 327.914062 L 229.601562 326.835938 L 230.019531 325.828125 L 230.679688 324.964844 L 231.542969 324.304688 L 232.550781 323.886719 L 233.628906 323.746094 L 234.707031 323.886719 L 235.710938 324.304688 L 236.574219 324.964844 L 237.238281 325.828125 L 237.652344 326.835938 L 237.796875 327.914062 L 237.796875 328.195312 L 237.652344 329.273438 L 237.238281 330.277344 L 236.574219 331.140625 L 235.710938 331.804688 L 234.707031 332.21875 L 233.628906 332.363281 L 232.550781 332.21875 L 231.542969 331.804688 L 230.679688 331.140625 L 230.019531 330.277344 L 229.601562 329.273438 L 229.460938 328.195312 Z \"/>\n",
       "<path style=\"fill-rule:nonzero;fill:rgb(100%,100%,100%);fill-opacity:1;stroke-width:0.403125;stroke-linecap:round;stroke-linejoin:round;stroke:rgb(0%,0%,0%);stroke-opacity:1;stroke-miterlimit:10;\" d=\"M 284.996094 316.367188 L 285.140625 315.289062 L 285.554688 314.285156 L 286.21875 313.421875 L 287.082031 312.757812 L 288.085938 312.34375 L 289.164062 312.203125 L 290.242188 312.34375 L 291.25 312.757812 L 292.113281 313.421875 L 292.773438 314.285156 L 293.191406 315.289062 L 293.332031 316.367188 L 293.332031 316.652344 L 293.191406 317.730469 L 292.773438 318.734375 L 292.113281 319.597656 L 291.25 320.257812 L 290.242188 320.675781 L 289.164062 320.816406 L 288.085938 320.675781 L 287.082031 320.257812 L 286.21875 319.597656 L 285.554688 318.734375 L 285.140625 317.730469 L 284.996094 316.652344 Z \"/>\n",
       "<path style=\"fill-rule:nonzero;fill:rgb(100%,100%,100%);fill-opacity:1;stroke-width:0.403125;stroke-linecap:round;stroke-linejoin:round;stroke:rgb(0%,0%,0%);stroke-opacity:1;stroke-miterlimit:10;\" d=\"M 340.535156 327.914062 L 340.675781 326.835938 L 341.09375 325.828125 L 341.753906 324.964844 L 342.617188 324.304688 L 343.625 323.886719 L 344.703125 323.746094 L 345.78125 323.886719 L 346.785156 324.304688 L 347.648438 324.964844 L 348.3125 325.828125 L 348.726562 326.835938 L 348.867188 327.914062 L 348.867188 328.195312 L 348.726562 329.273438 L 348.3125 330.277344 L 347.648438 331.140625 L 346.785156 331.804688 L 345.78125 332.21875 L 344.703125 332.363281 L 343.625 332.21875 L 342.617188 331.804688 L 341.753906 331.140625 L 341.09375 330.277344 L 340.675781 329.273438 L 340.535156 328.195312 Z \"/>\n",
       "<path style=\"fill-rule:nonzero;fill:rgb(100%,100%,100%);fill-opacity:1;stroke-width:0.403125;stroke-linecap:round;stroke-linejoin:round;stroke:rgb(0%,0%,0%);stroke-opacity:1;stroke-miterlimit:10;\" d=\"M 313.101562 467.652344 L 313.242188 466.574219 L 313.65625 465.570312 L 314.320312 464.707031 L 315.183594 464.042969 L 316.1875 463.628906 L 317.265625 463.484375 L 318.34375 463.628906 L 319.351562 464.042969 L 320.214844 464.707031 L 320.875 465.570312 L 321.292969 466.574219 L 321.433594 467.652344 L 321.433594 467.933594 L 321.292969 469.011719 L 320.875 470.019531 L 320.214844 470.882812 L 319.351562 471.542969 L 318.34375 471.960938 L 317.265625 472.101562 L 316.1875 471.960938 L 315.183594 471.542969 L 314.320312 470.882812 L 313.65625 470.019531 L 313.242188 469.011719 L 313.101562 467.933594 Z \"/>\n",
       "<path style=\"fill-rule:nonzero;fill:rgb(100%,100%,100%);fill-opacity:1;stroke-width:0.403125;stroke-linecap:round;stroke-linejoin:round;stroke:rgb(0%,0%,0%);stroke-opacity:1;stroke-miterlimit:10;\" d=\"M 368.636719 456.109375 L 368.777344 455.03125 L 369.195312 454.023438 L 369.855469 453.164062 L 370.71875 452.5 L 371.726562 452.082031 L 372.804688 451.941406 L 373.882812 452.082031 L 374.886719 452.5 L 375.75 453.164062 L 376.414062 454.023438 L 376.828125 455.03125 L 376.96875 456.109375 L 376.96875 456.390625 L 376.828125 457.46875 L 376.414062 458.472656 L 375.75 459.335938 L 374.886719 460 L 373.882812 460.414062 L 372.804688 460.558594 L 371.726562 460.414062 L 370.71875 460 L 369.855469 459.335938 L 369.195312 458.472656 L 368.777344 457.46875 L 368.636719 456.390625 Z \"/>\n",
       "<path style=\"fill-rule:nonzero;fill:rgb(100%,100%,100%);fill-opacity:1;stroke-width:0.403125;stroke-linecap:round;stroke-linejoin:round;stroke:rgb(0%,0%,0%);stroke-opacity:1;stroke-miterlimit:10;\" d=\"M 401.957031 409.527344 L 402.101562 408.449219 L 402.515625 407.445312 L 403.179688 406.582031 L 404.042969 405.917969 L 405.046875 405.503906 L 406.125 405.363281 L 407.203125 405.503906 L 408.210938 405.917969 L 409.074219 406.582031 L 409.734375 407.445312 L 410.152344 408.449219 L 410.292969 409.527344 L 410.292969 409.8125 L 410.152344 410.890625 L 409.734375 411.894531 L 409.074219 412.757812 L 408.210938 413.417969 L 407.203125 413.835938 L 406.125 413.976562 L 405.046875 413.835938 L 404.042969 413.417969 L 403.179688 412.757812 L 402.515625 411.894531 L 402.101562 410.890625 L 401.957031 409.8125 Z \"/>\n",
       "<path style=\"fill-rule:nonzero;fill:rgb(100%,100%,100%);fill-opacity:1;stroke-width:0.403125;stroke-linecap:round;stroke-linejoin:round;stroke:rgb(0%,0%,0%);stroke-opacity:1;stroke-miterlimit:10;\" d=\"M 433.058594 362.949219 L 433.203125 361.871094 L 433.617188 360.863281 L 434.28125 360.003906 L 435.144531 359.339844 L 436.148438 358.921875 L 437.226562 358.78125 L 438.304688 358.921875 L 439.308594 359.339844 L 440.171875 360.003906 L 440.835938 360.863281 L 441.25 361.871094 L 441.394531 362.949219 L 441.394531 363.230469 L 441.25 364.308594 L 440.835938 365.3125 L 440.171875 366.175781 L 439.308594 366.839844 L 438.304688 367.253906 L 437.226562 367.398438 L 436.148438 367.253906 L 435.144531 366.839844 L 434.28125 366.175781 L 433.617188 365.3125 L 433.203125 364.308594 L 433.058594 363.230469 Z \"/>\n",
       "<path style=\"fill-rule:nonzero;fill:rgb(100%,100%,100%);fill-opacity:1;stroke-width:0.403125;stroke-linecap:round;stroke-linejoin:round;stroke:rgb(0%,0%,0%);stroke-opacity:1;stroke-miterlimit:10;\" d=\"M 433.09375 269.789062 L 433.234375 268.710938 L 433.652344 267.703125 L 434.3125 266.84375 L 435.175781 266.179688 L 436.179688 265.761719 L 437.261719 265.621094 L 438.339844 265.761719 L 439.34375 266.179688 L 440.207031 266.84375 L 440.867188 267.703125 L 441.285156 268.710938 L 441.425781 269.789062 L 441.425781 270.070312 L 441.285156 271.148438 L 440.867188 272.152344 L 440.207031 273.015625 L 439.34375 273.679688 L 438.339844 274.09375 L 437.261719 274.238281 L 436.179688 274.09375 L 435.175781 273.679688 L 434.3125 273.015625 L 433.652344 272.152344 L 433.234375 271.148438 L 433.09375 270.070312 Z \"/>\n",
       "<path style=\"fill-rule:nonzero;fill:rgb(100%,100%,100%);fill-opacity:1;stroke-width:0.403125;stroke-linecap:round;stroke-linejoin:round;stroke:rgb(0%,0%,0%);stroke-opacity:1;stroke-miterlimit:10;\" d=\"M 387.554688 176.628906 L 387.695312 175.550781 L 388.113281 174.542969 L 388.773438 173.683594 L 389.636719 173.019531 L 390.644531 172.601562 L 391.722656 172.460938 L 392.800781 172.601562 L 393.804688 173.019531 L 394.667969 173.683594 L 395.328125 174.542969 L 395.746094 175.550781 L 395.886719 176.628906 L 395.886719 176.910156 L 395.746094 177.988281 L 395.328125 178.992188 L 394.667969 179.855469 L 393.804688 180.519531 L 392.800781 180.933594 L 391.722656 181.078125 L 390.644531 180.933594 L 389.636719 180.519531 L 388.773438 179.855469 L 388.113281 178.992188 L 387.695312 177.988281 L 387.554688 176.910156 Z \"/>\n",
       "<path style=\"fill-rule:nonzero;fill:rgb(100%,100%,100%);fill-opacity:1;stroke-width:0.403125;stroke-linecap:round;stroke-linejoin:round;stroke:rgb(0%,0%,0%);stroke-opacity:1;stroke-miterlimit:10;\" d=\"M 413.855469 130.046875 L 413.996094 128.96875 L 414.414062 127.964844 L 415.074219 127.101562 L 415.9375 126.4375 L 416.941406 126.023438 L 418.019531 125.882812 L 419.101562 126.023438 L 420.105469 126.4375 L 420.96875 127.101562 L 421.628906 127.964844 L 422.046875 128.96875 L 422.1875 130.046875 L 422.1875 130.332031 L 422.046875 131.410156 L 421.628906 132.414062 L 420.96875 133.277344 L 420.105469 133.9375 L 419.101562 134.355469 L 418.019531 134.496094 L 416.941406 134.355469 L 415.9375 133.9375 L 415.074219 133.277344 L 414.414062 132.414062 L 413.996094 131.410156 L 413.855469 130.332031 Z \"/>\n",
       "<g style=\"fill:rgb(0%,0%,0%);fill-opacity:1;\">\n",
       "  <use xlink:href=\"#glyph1-1\" x=\"43.824219\" y=\"142.880859\"/>\n",
       "</g>\n",
       "<g style=\"fill:rgb(0%,0%,0%);fill-opacity:1;\">\n",
       "  <use xlink:href=\"#glyph1-1\" x=\"74.679688\" y=\"189.458984\"/>\n",
       "</g>\n",
       "<g style=\"fill:rgb(0%,0%,0%);fill-opacity:1;\">\n",
       "  <use xlink:href=\"#glyph1-1\" x=\"47.246094\" y=\"329.201172\"/>\n",
       "</g>\n",
       "<g style=\"fill:rgb(0%,0%,0%);fill-opacity:1;\">\n",
       "  <use xlink:href=\"#glyph1-2\" x=\"102.78125\" y=\"318.154297\"/>\n",
       "</g>\n",
       "<g style=\"fill:rgb(0%,0%,0%);fill-opacity:1;\">\n",
       "  <use xlink:href=\"#glyph1-2\" x=\"136.105469\" y=\"271.576172\"/>\n",
       "</g>\n",
       "<g style=\"fill:rgb(0%,0%,0%);fill-opacity:1;\">\n",
       "  <use xlink:href=\"#glyph1-2\" x=\"167.207031\" y=\"224.994141\"/>\n",
       "</g>\n",
       "<g style=\"fill:rgb(0%,0%,0%);fill-opacity:1;\">\n",
       "  <use xlink:href=\"#glyph1-1\" x=\"198.304688\" y=\"282.619141\"/>\n",
       "</g>\n",
       "<g style=\"fill:rgb(0%,0%,0%);fill-opacity:1;\">\n",
       "  <use xlink:href=\"#glyph1-1\" x=\"231.628906\" y=\"329.201172\"/>\n",
       "</g>\n",
       "<g style=\"fill:rgb(0%,0%,0%);fill-opacity:1;\">\n",
       "  <use xlink:href=\"#glyph1-2\" x=\"287.164062\" y=\"318.154297\"/>\n",
       "</g>\n",
       "<g style=\"fill:rgb(0%,0%,0%);fill-opacity:1;\">\n",
       "  <use xlink:href=\"#glyph1-1\" x=\"342.703125\" y=\"329.201172\"/>\n",
       "</g>\n",
       "<g style=\"fill:rgb(0%,0%,0%);fill-opacity:1;\">\n",
       "  <use xlink:href=\"#glyph1-1\" x=\"315.265625\" y=\"468.939453\"/>\n",
       "</g>\n",
       "<g style=\"fill:rgb(0%,0%,0%);fill-opacity:1;\">\n",
       "  <use xlink:href=\"#glyph1-2\" x=\"370.804688\" y=\"457.896484\"/>\n",
       "</g>\n",
       "<g style=\"fill:rgb(0%,0%,0%);fill-opacity:1;\">\n",
       "  <use xlink:href=\"#glyph1-2\" x=\"404.125\" y=\"411.314453\"/>\n",
       "</g>\n",
       "<g style=\"fill:rgb(0%,0%,0%);fill-opacity:1;\">\n",
       "  <use xlink:href=\"#glyph1-2\" x=\"435.226562\" y=\"364.736328\"/>\n",
       "</g>\n",
       "<g style=\"fill:rgb(0%,0%,0%);fill-opacity:1;\">\n",
       "  <use xlink:href=\"#glyph1-2\" x=\"435.261719\" y=\"271.576172\"/>\n",
       "</g>\n",
       "<g style=\"fill:rgb(0%,0%,0%);fill-opacity:1;\">\n",
       "  <use xlink:href=\"#glyph1-2\" x=\"389.722656\" y=\"178.416016\"/>\n",
       "</g>\n",
       "<g style=\"fill:rgb(0%,0%,0%);fill-opacity:1;\">\n",
       "  <use xlink:href=\"#glyph1-2\" x=\"416.019531\" y=\"131.833984\"/>\n",
       "</g>\n",
       "<path style=\"fill-rule:nonzero;fill:rgb(100%,100%,100%);fill-opacity:1;stroke-width:0.403125;stroke-linecap:round;stroke-linejoin:round;stroke:rgb(0%,0%,0%);stroke-opacity:1;stroke-miterlimit:10;\" d=\"M 193.4375 36.757812 L 193.464844 36.550781 L 193.546875 36.355469 L 193.675781 36.1875 L 193.84375 36.058594 L 194.039062 35.980469 L 194.246094 35.953125 L 204.152344 35.953125 L 204.359375 35.980469 L 204.554688 36.058594 L 204.722656 36.1875 L 204.851562 36.355469 L 204.929688 36.550781 L 204.957031 36.757812 L 204.957031 41.605469 L 204.929688 41.816406 L 204.851562 42.011719 L 204.722656 42.175781 L 204.554688 42.304688 L 204.359375 42.386719 L 204.152344 42.414062 L 194.246094 42.414062 L 194.039062 42.386719 L 193.84375 42.304688 L 193.675781 42.175781 L 193.546875 42.011719 L 193.464844 41.816406 L 193.4375 41.605469 Z \"/>\n",
       "<path style=\"fill-rule:nonzero;fill:rgb(100%,100%,100%);fill-opacity:1;stroke-width:0.403125;stroke-linecap:round;stroke-linejoin:round;stroke:rgb(0%,0%,0%);stroke-opacity:1;stroke-miterlimit:10;\" d=\"M 258.316406 36.757812 L 258.34375 36.550781 L 258.425781 36.355469 L 258.554688 36.1875 L 258.722656 36.058594 L 258.914062 35.980469 L 259.125 35.953125 L 269.027344 35.953125 L 269.238281 35.980469 L 269.433594 36.058594 L 269.601562 36.1875 L 269.730469 36.355469 L 269.808594 36.550781 L 269.835938 36.757812 L 269.835938 41.605469 L 269.808594 41.816406 L 269.730469 42.011719 L 269.601562 42.175781 L 269.433594 42.304688 L 269.238281 42.386719 L 269.027344 42.414062 L 259.125 42.414062 L 258.914062 42.386719 L 258.722656 42.304688 L 258.554688 42.175781 L 258.425781 42.011719 L 258.34375 41.816406 L 258.316406 41.605469 Z \"/>\n",
       "<g style=\"fill:rgb(0%,0%,0%);fill-opacity:1;\">\n",
       "  <use xlink:href=\"#glyph2-1\" x=\"194.699219\" y=\"39.273438\"/>\n",
       "  <use xlink:href=\"#glyph2-2\" x=\"197.277344\" y=\"39.273438\"/>\n",
       "  <use xlink:href=\"#glyph2-3\" x=\"200.144531\" y=\"39.273438\"/>\n",
       "</g>\n",
       "<g style=\"fill:rgb(0%,0%,0%);fill-opacity:1;\">\n",
       "  <use xlink:href=\"#glyph2-4\" x=\"261.078125\" y=\"39.234375\"/>\n",
       "  <use xlink:href=\"#glyph2-5\" x=\"263.945312\" y=\"39.234375\"/>\n",
       "</g>\n",
       "</g>\n",
       "</svg>\n"
      ],
      "text/plain": [
       "plot without title"
      ]
     },
     "metadata": {
      "image/svg+xml": {
       "isolated": true
      }
     },
     "output_type": "display_data"
    }
   ],
   "source": [
    "prp(StevensTree3)"
   ]
  },
  {
   "cell_type": "code",
   "execution_count": 117,
   "metadata": {
    "collapsed": false
   },
   "outputs": [],
   "source": [
    "library(randomForest)"
   ]
  },
  {
   "cell_type": "code",
   "execution_count": 118,
   "metadata": {
    "collapsed": false
   },
   "outputs": [
    {
     "name": "stderr",
     "output_type": "stream",
     "text": [
      "Warning message:\n",
      "In randomForest.default(m, y, ...): The response has five or fewer unique values.  Are you sure you want to do regression?"
     ]
    }
   ],
   "source": [
    "StevensForest = randomForest(Reverse~ Circuit+Issue+Petitioner+Respondent+LowerCourt+Unconst, data = Train, nodesize = 25, ntree = 200)"
   ]
  },
  {
   "cell_type": "markdown",
   "metadata": {},
   "source": [
    "### You should see an interesting warning message here.\n",
    "In CART, we added the argument method=\"class\",\n",
    "so that it was clear that we're doing a classification problem.\n",
    "As I mentioned earlier, trees can also\n",
    "be used for regression problems, which\n",
    "you'll see in the recitation.\n",
    "The randomForest function does not have a method argument.\n",
    "So when we want to do a classification problem,\n",
    "we need to make sure outcome is a factor.\n",
    "Let's convert the variable Reverse to a factor variable"
   ]
  },
  {
   "cell_type": "code",
   "execution_count": 119,
   "metadata": {
    "collapsed": true
   },
   "outputs": [],
   "source": [
    "Train$Reverse = as.factor(Train$Reverse)\n",
    "Test$Reverse = as.factor(Test$Reverse)"
   ]
  },
  {
   "cell_type": "code",
   "execution_count": 120,
   "metadata": {
    "collapsed": false
   },
   "outputs": [],
   "source": [
    "StevensForest = randomForest(Reverse~ Circuit+Issue+Petitioner+Respondent+LowerCourt+Unconst, data = Train, nodesize = 25, ntree = 200)"
   ]
  },
  {
   "cell_type": "code",
   "execution_count": 121,
   "metadata": {
    "collapsed": false
   },
   "outputs": [],
   "source": [
    "PredictForest = predict(StevensForest, newdata = Test)"
   ]
  },
  {
   "cell_type": "code",
   "execution_count": 122,
   "metadata": {
    "collapsed": false
   },
   "outputs": [
    {
     "data": {
      "text/plain": [
       "   PredictForest\n",
       "     0  1\n",
       "  0 40 37\n",
       "  1 19 74"
      ]
     },
     "execution_count": 122,
     "metadata": {},
     "output_type": "execute_result"
    }
   ],
   "source": [
    "table(Test$Reverse,PredictForest)"
   ]
  },
  {
   "cell_type": "code",
   "execution_count": 123,
   "metadata": {
    "collapsed": false
   },
   "outputs": [
    {
     "data": {
      "text/html": [
       "0.670588235294118"
      ],
      "text/latex": [
       "0.670588235294118"
      ],
      "text/markdown": [
       "0.670588235294118"
      ],
      "text/plain": [
       "[1] 0.6705882"
      ]
     },
     "execution_count": 123,
     "metadata": {},
     "output_type": "execute_result"
    }
   ],
   "source": [
    "(40+74)/(40+74+37+19)"
   ]
  },
  {
   "cell_type": "code",
   "execution_count": 124,
   "metadata": {
    "collapsed": true
   },
   "outputs": [],
   "source": [
    "set.seed(100)"
   ]
  },
  {
   "cell_type": "code",
   "execution_count": 125,
   "metadata": {
    "collapsed": true
   },
   "outputs": [],
   "source": [
    "StevensForest = randomForest(Reverse~ Circuit+Issue+Petitioner+Respondent+LowerCourt+Unconst, data = Train, nodesize = 25, ntree = 200)"
   ]
  },
  {
   "cell_type": "code",
   "execution_count": 126,
   "metadata": {
    "collapsed": true
   },
   "outputs": [],
   "source": [
    "PredictForest = predict(StevensForest, newdata = Test)"
   ]
  },
  {
   "cell_type": "code",
   "execution_count": 127,
   "metadata": {
    "collapsed": false
   },
   "outputs": [
    {
     "data": {
      "text/plain": [
       "   PredictForest\n",
       "     0  1\n",
       "  0 43 34\n",
       "  1 19 74"
      ]
     },
     "execution_count": 127,
     "metadata": {},
     "output_type": "execute_result"
    }
   ],
   "source": [
    "table(Test$Reverse,PredictForest)"
   ]
  },
  {
   "cell_type": "code",
   "execution_count": 128,
   "metadata": {
    "collapsed": false
   },
   "outputs": [
    {
     "data": {
      "text/html": [
       "0.688235294117647"
      ],
      "text/latex": [
       "0.688235294117647"
      ],
      "text/markdown": [
       "0.688235294117647"
      ],
      "text/plain": [
       "[1] 0.6882353"
      ]
     },
     "execution_count": 128,
     "metadata": {},
     "output_type": "execute_result"
    }
   ],
   "source": [
    "(43+74)/(43+74+34+19)"
   ]
  },
  {
   "cell_type": "code",
   "execution_count": 129,
   "metadata": {
    "collapsed": true
   },
   "outputs": [],
   "source": [
    "set.seed(200)"
   ]
  },
  {
   "cell_type": "code",
   "execution_count": 130,
   "metadata": {
    "collapsed": true
   },
   "outputs": [],
   "source": [
    "StevensForest = randomForest(Reverse~ Circuit+Issue+Petitioner+Respondent+LowerCourt+Unconst, data = Train, nodesize = 25, ntree = 200)"
   ]
  },
  {
   "cell_type": "code",
   "execution_count": 131,
   "metadata": {
    "collapsed": true
   },
   "outputs": [],
   "source": [
    "PredictForest = predict(StevensForest, newdata = Test)"
   ]
  },
  {
   "cell_type": "code",
   "execution_count": 132,
   "metadata": {
    "collapsed": false
   },
   "outputs": [
    {
     "data": {
      "text/plain": [
       "   PredictForest\n",
       "     0  1\n",
       "  0 44 33\n",
       "  1 17 76"
      ]
     },
     "execution_count": 132,
     "metadata": {},
     "output_type": "execute_result"
    }
   ],
   "source": [
    "table(Test$Reverse,PredictForest)"
   ]
  },
  {
   "cell_type": "code",
   "execution_count": 133,
   "metadata": {
    "collapsed": false
   },
   "outputs": [
    {
     "data": {
      "text/html": [
       "0.705882352941177"
      ],
      "text/latex": [
       "0.705882352941177"
      ],
      "text/markdown": [
       "0.705882352941177"
      ],
      "text/plain": [
       "[1] 0.7058824"
      ]
     },
     "execution_count": 133,
     "metadata": {},
     "output_type": "execute_result"
    }
   ],
   "source": [
    "(44+76)/(44+76+33+17)"
   ]
  },
  {
   "cell_type": "markdown",
   "metadata": {},
   "source": [
    "### CROSS VALIDATION"
   ]
  },
  {
   "cell_type": "code",
   "execution_count": 134,
   "metadata": {
    "collapsed": false,
    "scrolled": true
   },
   "outputs": [
    {
     "data": {
      "text/html": [
       "'/home/varun/Projects/Statistics/Analytics_Edge/Week4'"
      ],
      "text/latex": [
       "'/home/varun/Projects/Statistics/Analytics_Edge/Week4'"
      ],
      "text/markdown": [
       "'/home/varun/Projects/Statistics/Analytics_Edge/Week4'"
      ],
      "text/plain": [
       "[1] \"/home/varun/Projects/Statistics/Analytics_Edge/Week4\""
      ]
     },
     "execution_count": 134,
     "metadata": {},
     "output_type": "execute_result"
    }
   ],
   "source": [
    "getwd()"
   ]
  },
  {
   "cell_type": "code",
   "execution_count": 135,
   "metadata": {
    "collapsed": false
   },
   "outputs": [],
   "source": [
    "library(caret)"
   ]
  },
  {
   "cell_type": "code",
   "execution_count": 136,
   "metadata": {
    "collapsed": true
   },
   "outputs": [],
   "source": [
    "library(e1071)"
   ]
  },
  {
   "cell_type": "code",
   "execution_count": 137,
   "metadata": {
    "collapsed": true
   },
   "outputs": [],
   "source": [
    "numFolds = trainControl(method = \"cv\",number = 10)"
   ]
  },
  {
   "cell_type": "code",
   "execution_count": 138,
   "metadata": {
    "collapsed": true
   },
   "outputs": [],
   "source": [
    "cpGrid = expand.grid(.cp=seq(0.01,0.5,0.01))"
   ]
  },
  {
   "cell_type": "code",
   "execution_count": 139,
   "metadata": {
    "collapsed": false
   },
   "outputs": [
    {
     "data": {
      "text/plain": [
       "      .cp        \n",
       " Min.   :0.0100  \n",
       " 1st Qu.:0.1325  \n",
       " Median :0.2550  \n",
       " Mean   :0.2550  \n",
       " 3rd Qu.:0.3775  \n",
       " Max.   :0.5000  "
      ]
     },
     "execution_count": 139,
     "metadata": {},
     "output_type": "execute_result"
    }
   ],
   "source": [
    "summary(cpGrid)"
   ]
  },
  {
   "cell_type": "code",
   "execution_count": 140,
   "metadata": {
    "collapsed": false
   },
   "outputs": [
    {
     "data": {
      "text/html": [
       "'data.frame'"
      ],
      "text/latex": [
       "'data.frame'"
      ],
      "text/markdown": [
       "'data.frame'"
      ],
      "text/plain": [
       "[1] \"data.frame\""
      ]
     },
     "execution_count": 140,
     "metadata": {},
     "output_type": "execute_result"
    }
   ],
   "source": [
    "class(cpGrid)"
   ]
  },
  {
   "cell_type": "code",
   "execution_count": 141,
   "metadata": {
    "collapsed": false
   },
   "outputs": [
    {
     "data": {
      "text/plain": [
       "CART \n",
       "\n",
       "396 samples\n",
       "  8 predictors\n",
       "  2 classes: '0', '1' \n",
       "\n",
       "No pre-processing\n",
       "Resampling: Cross-Validated (10 fold) \n",
       "Summary of sample sizes: 357, 356, 357, 356, 357, 356, ... \n",
       "Resampling results across tuning parameters:\n",
       "\n",
       "  cp    Accuracy   Kappa        Accuracy SD  Kappa SD  \n",
       "  0.01  0.6433974  0.267916905  0.081763121  0.16808126\n",
       "  0.02  0.6359615  0.248964339  0.067658798  0.14237916\n",
       "  0.03  0.6208974  0.225208239  0.068926868  0.14482911\n",
       "  0.04  0.6333974  0.258053232  0.072912702  0.15300304\n",
       "  0.05  0.6436538  0.283134471  0.064841503  0.13050800\n",
       "  0.06  0.6436538  0.283134471  0.064841503  0.13050800\n",
       "  0.07  0.6436538  0.283134471  0.064841503  0.13050800\n",
       "  0.08  0.6436538  0.283134471  0.064841503  0.13050800\n",
       "  0.09  0.6436538  0.283134471  0.064841503  0.13050800\n",
       "  0.10  0.6436538  0.283134471  0.064841503  0.13050800\n",
       "  0.11  0.6436538  0.283134471  0.064841503  0.13050800\n",
       "  0.12  0.6436538  0.283134471  0.064841503  0.13050800\n",
       "  0.13  0.6436538  0.283134471  0.064841503  0.13050800\n",
       "  0.14  0.6436538  0.283134471  0.064841503  0.13050800\n",
       "  0.15  0.6436538  0.283134471  0.064841503  0.13050800\n",
       "  0.16  0.6436538  0.283134471  0.064841503  0.13050800\n",
       "  0.17  0.6436538  0.283134471  0.064841503  0.13050800\n",
       "  0.18  0.6436538  0.283134471  0.064841503  0.13050800\n",
       "  0.19  0.6436538  0.283134471  0.064841503  0.13050800\n",
       "  0.20  0.6061538  0.188881247  0.050982207  0.13051644\n",
       "  0.21  0.5808333  0.122201772  0.042577112  0.12398113\n",
       "  0.22  0.5605769  0.063162246  0.026979405  0.09019812\n",
       "  0.23  0.5479487  0.021739130  0.007861390  0.04659079\n",
       "  0.24  0.5453846  0.009090909  0.005958436  0.02874798\n",
       "  0.25  0.5453846  0.000000000  0.005958436  0.00000000\n",
       "  0.26  0.5453846  0.000000000  0.005958436  0.00000000\n",
       "  0.27  0.5453846  0.000000000  0.005958436  0.00000000\n",
       "  0.28  0.5453846  0.000000000  0.005958436  0.00000000\n",
       "  0.29  0.5453846  0.000000000  0.005958436  0.00000000\n",
       "  0.30  0.5453846  0.000000000  0.005958436  0.00000000\n",
       "  0.31  0.5453846  0.000000000  0.005958436  0.00000000\n",
       "  0.32  0.5453846  0.000000000  0.005958436  0.00000000\n",
       "  0.33  0.5453846  0.000000000  0.005958436  0.00000000\n",
       "  0.34  0.5453846  0.000000000  0.005958436  0.00000000\n",
       "  0.35  0.5453846  0.000000000  0.005958436  0.00000000\n",
       "  0.36  0.5453846  0.000000000  0.005958436  0.00000000\n",
       "  0.37  0.5453846  0.000000000  0.005958436  0.00000000\n",
       "  0.38  0.5453846  0.000000000  0.005958436  0.00000000\n",
       "  0.39  0.5453846  0.000000000  0.005958436  0.00000000\n",
       "  0.40  0.5453846  0.000000000  0.005958436  0.00000000\n",
       "  0.41  0.5453846  0.000000000  0.005958436  0.00000000\n",
       "  0.42  0.5453846  0.000000000  0.005958436  0.00000000\n",
       "  0.43  0.5453846  0.000000000  0.005958436  0.00000000\n",
       "  0.44  0.5453846  0.000000000  0.005958436  0.00000000\n",
       "  0.45  0.5453846  0.000000000  0.005958436  0.00000000\n",
       "  0.46  0.5453846  0.000000000  0.005958436  0.00000000\n",
       "  0.47  0.5453846  0.000000000  0.005958436  0.00000000\n",
       "  0.48  0.5453846  0.000000000  0.005958436  0.00000000\n",
       "  0.49  0.5453846  0.000000000  0.005958436  0.00000000\n",
       "  0.50  0.5453846  0.000000000  0.005958436  0.00000000\n",
       "\n",
       "Accuracy was used to select the optimal model using  the largest value.\n",
       "The final value used for the model was cp = 0.19. "
      ]
     },
     "execution_count": 141,
     "metadata": {},
     "output_type": "execute_result"
    }
   ],
   "source": [
    "train(Reverse~ Circuit+Issue+Petitioner+Respondent+LowerCourt+Unconst,data = Train, method = \"rpart\", trControl = numFolds, \n",
    "      tuneGrid = cpGrid)"
   ]
  },
  {
   "cell_type": "code",
   "execution_count": 142,
   "metadata": {
    "collapsed": true
   },
   "outputs": [],
   "source": [
    "StevensTreeCV = rpart(Reverse~ Circuit+Issue+Petitioner+Respondent+LowerCourt+Unconst, data = Train, method = \"class\", cp=0.19)"
   ]
  },
  {
   "cell_type": "code",
   "execution_count": 143,
   "metadata": {
    "collapsed": true
   },
   "outputs": [],
   "source": [
    "PredictCV = predict(StevensTreeCV,newdata = Test, type = \"class\")"
   ]
  },
  {
   "cell_type": "code",
   "execution_count": 144,
   "metadata": {
    "collapsed": false
   },
   "outputs": [
    {
     "data": {
      "text/plain": [
       "   PredictCV\n",
       "     0  1\n",
       "  0 59 18\n",
       "  1 29 64"
      ]
     },
     "execution_count": 144,
     "metadata": {},
     "output_type": "execute_result"
    }
   ],
   "source": [
    "table(Test$Reverse,PredictCV)"
   ]
  },
  {
   "cell_type": "code",
   "execution_count": 146,
   "metadata": {
    "collapsed": false
   },
   "outputs": [
    {
     "data": {
      "text/html": [
       "0.723529411764706"
      ],
      "text/latex": [
       "0.723529411764706"
      ],
      "text/markdown": [
       "0.723529411764706"
      ],
      "text/plain": [
       "[1] 0.7235294"
      ]
     },
     "execution_count": 146,
     "metadata": {},
     "output_type": "execute_result"
    }
   ],
   "source": [
    "(59+64)/(59+18+29+64)"
   ]
  },
  {
   "cell_type": "code",
   "execution_count": 148,
   "metadata": {
    "collapsed": false
   },
   "outputs": [
    {
     "data": {
      "image/png": "[encoded data removed]",
      "image/svg+xml": [
       "<?xml version=\"1.0\" encoding=\"UTF-8\"?>\n",
       "<svg xmlns=\"http://www.w3.org/2000/svg\" xmlns:xlink=\"http://www.w3.org/1999/xlink\" width=\"504pt\" height=\"504pt\" viewBox=\"0 0 504 504\" version=\"1.1\">\n",
       "<defs>\n",
       "<g>\n",
       "<symbol overflow=\"visible\" id=\"glyph0-0\">\n",
       "<path style=\"stroke:none;\" d=\"\"/>\n",
       "</symbol>\n",
       "<symbol overflow=\"visible\" id=\"glyph0-1\">\n",
       "<path style=\"stroke:none;\" d=\"M 2.765625 -8.75 L 0.953125 -8.75 L 0.953125 0 L 6.953125 0 L 6.953125 -1.5 L 2.765625 -1.5 Z \"/>\n",
       "</symbol>\n",
       "<symbol overflow=\"visible\" id=\"glyph0-2\">\n",
       "<path style=\"stroke:none;\" d=\"M 3.609375 -6.59375 C 1.625 -6.59375 0.421875 -5.28125 0.421875 -3.15625 C 0.421875 -1.015625 1.625 0.28125 3.625 0.28125 C 5.59375 0.28125 6.828125 -1.03125 6.828125 -3.109375 C 6.828125 -5.296875 5.640625 -6.59375 3.609375 -6.59375 Z M 3.625 -5.234375 C 4.546875 -5.234375 5.140625 -4.40625 5.140625 -3.125 C 5.140625 -1.921875 4.53125 -1.078125 3.625 -1.078125 C 2.71875 -1.078125 2.09375 -1.921875 2.09375 -3.15625 C 2.09375 -4.390625 2.71875 -5.234375 3.625 -5.234375 Z \"/>\n",
       "</symbol>\n",
       "<symbol overflow=\"visible\" id=\"glyph0-3\">\n",
       "<path style=\"stroke:none;\" d=\"M 7.359375 0 L 9.1875 -6.484375 L 7.453125 -6.484375 L 6.46875 -1.9375 L 5.5 -6.484375 L 3.8125 -6.484375 L 2.828125 -1.9375 L 1.796875 -6.484375 L 0.0625 -6.484375 L 1.890625 0 L 3.609375 0 L 4.640625 -4.578125 L 5.609375 0 Z \"/>\n",
       "</symbol>\n",
       "<symbol overflow=\"visible\" id=\"glyph0-4\">\n",
       "<path style=\"stroke:none;\" d=\"M 6.28125 -2.71875 C 6.296875 -2.859375 6.296875 -2.921875 6.296875 -3 C 6.296875 -3.640625 6.203125 -4.25 6.046875 -4.703125 C 5.609375 -5.875 4.578125 -6.59375 3.265625 -6.59375 C 1.40625 -6.59375 0.265625 -5.25 0.265625 -3.078125 C 0.265625 -1 1.390625 0.28125 3.234375 0.28125 C 4.6875 0.28125 5.859375 -0.546875 6.234375 -1.828125 L 4.578125 -1.828125 C 4.375 -1.3125 3.90625 -1.015625 3.28125 -1.015625 C 2.8125 -1.015625 2.421875 -1.21875 2.1875 -1.578125 C 2.03125 -1.8125 1.96875 -2.09375 1.9375 -2.71875 Z M 1.96875 -3.828125 C 2.078125 -4.8125 2.5 -5.296875 3.234375 -5.296875 C 3.65625 -5.296875 4.046875 -5.09375 4.28125 -4.765625 C 4.4375 -4.53125 4.515625 -4.265625 4.546875 -3.828125 Z \"/>\n",
       "</symbol>\n",
       "<symbol overflow=\"visible\" id=\"glyph0-5\">\n",
       "<path style=\"stroke:none;\" d=\"M 0.75 -6.484375 L 0.75 0 L 2.4375 0 L 2.4375 -3.4375 C 2.4375 -4.421875 2.921875 -4.921875 3.90625 -4.921875 C 4.09375 -4.921875 4.21875 -4.90625 4.4375 -4.875 L 4.4375 -6.578125 C 4.34375 -6.59375 4.28125 -6.59375 4.234375 -6.59375 C 3.46875 -6.59375 2.796875 -6.078125 2.4375 -5.203125 L 2.4375 -6.484375 Z \"/>\n",
       "</symbol>\n",
       "<symbol overflow=\"visible\" id=\"glyph0-6\">\n",
       "<path style=\"stroke:none;\" d=\"M 8.1875 -5.78125 C 8.125 -6.546875 7.96875 -7.015625 7.59375 -7.515625 C 6.921875 -8.40625 5.84375 -8.890625 4.53125 -8.890625 C 2.0625 -8.890625 0.53125 -7.125 0.53125 -4.296875 C 0.53125 -1.484375 2.046875 0.28125 4.484375 0.28125 C 6.65625 0.28125 8.109375 -0.984375 8.21875 -2.984375 L 6.46875 -2.984375 C 6.359375 -1.875 5.65625 -1.234375 4.53125 -1.234375 C 3.140625 -1.234375 2.328125 -2.359375 2.328125 -4.265625 C 2.328125 -6.203125 3.1875 -7.359375 4.59375 -7.359375 C 5.21875 -7.359375 5.734375 -7.140625 6.078125 -6.71875 C 6.265625 -6.484375 6.359375 -6.25 6.46875 -5.78125 Z \"/>\n",
       "</symbol>\n",
       "<symbol overflow=\"visible\" id=\"glyph0-7\">\n",
       "<path style=\"stroke:none;\" d=\"M 6.484375 0 L 6.484375 -6.484375 L 4.8125 -6.484375 L 4.8125 -2.421875 C 4.8125 -1.65625 4.265625 -1.15625 3.453125 -1.15625 C 2.734375 -1.15625 2.375 -1.53125 2.375 -2.3125 L 2.375 -6.484375 L 0.703125 -6.484375 L 0.703125 -1.96875 C 0.703125 -0.546875 1.484375 0.28125 2.875 0.28125 C 3.75 0.28125 4.328125 -0.046875 4.8125 -0.765625 L 4.8125 0 Z \"/>\n",
       "</symbol>\n",
       "<symbol overflow=\"visible\" id=\"glyph0-8\">\n",
       "<path style=\"stroke:none;\" d=\"\"/>\n",
       "</symbol>\n",
       "<symbol overflow=\"visible\" id=\"glyph0-9\">\n",
       "<path style=\"stroke:none;\" d=\"M 6.40625 -4.9375 L 0.59375 -4.9375 L 0.59375 -3.5 L 6.40625 -3.5 Z M 6.40625 -2.046875 L 0.59375 -2.046875 L 0.59375 -0.625 L 6.40625 -0.625 Z \"/>\n",
       "</symbol>\n",
       "<symbol overflow=\"visible\" id=\"glyph0-10\">\n",
       "<path style=\"stroke:none;\" d=\"M 2.484375 -8.75 L 0.796875 -8.75 L 0.796875 0 L 2.484375 0 Z \"/>\n",
       "</symbol>\n",
       "<symbol overflow=\"visible\" id=\"glyph0-11\">\n",
       "<path style=\"stroke:none;\" d=\"M 0.703125 -8.75 L 0.703125 0 L 2.390625 0 L 2.390625 -0.65625 C 2.796875 -0.03125 3.359375 0.28125 4.171875 0.28125 C 5.71875 0.28125 6.90625 -1.203125 6.90625 -3.15625 C 6.90625 -4.03125 6.640625 -4.921875 6.203125 -5.546875 C 5.765625 -6.1875 4.96875 -6.59375 4.171875 -6.59375 C 3.375 -6.59375 2.796875 -6.28125 2.390625 -5.640625 L 2.390625 -8.75 Z M 3.796875 -5.1875 C 4.625 -5.1875 5.21875 -4.34375 5.21875 -3.140625 C 5.21875 -1.96875 4.625 -1.125 3.796875 -1.125 C 2.953125 -1.125 2.390625 -1.9375 2.390625 -3.1875 C 2.390625 -4.359375 2.96875 -5.1875 3.796875 -5.1875 Z \"/>\n",
       "</symbol>\n",
       "<symbol overflow=\"visible\" id=\"glyph1-0\">\n",
       "<path style=\"stroke:none;\" d=\"\"/>\n",
       "</symbol>\n",
       "<symbol overflow=\"visible\" id=\"glyph1-1\">\n",
       "<path style=\"stroke:none;\" d=\"M 3.296875 -8.515625 C 2.515625 -8.515625 1.78125 -8.15625 1.34375 -7.578125 C 0.796875 -6.828125 0.515625 -5.6875 0.515625 -4.109375 C 0.515625 -1.25 1.46875 0.28125 3.296875 0.28125 C 5.09375 0.28125 6.078125 -1.25 6.078125 -4.046875 C 6.078125 -5.703125 5.8125 -6.796875 5.25 -7.578125 C 4.8125 -8.171875 4.109375 -8.515625 3.296875 -8.515625 Z M 3.296875 -7.578125 C 4.4375 -7.578125 5 -6.421875 5 -4.140625 C 5 -1.734375 4.453125 -0.59375 3.28125 -0.59375 C 2.15625 -0.59375 1.59375 -1.78125 1.59375 -4.109375 C 1.59375 -6.4375 2.15625 -7.578125 3.296875 -7.578125 Z \"/>\n",
       "</symbol>\n",
       "<symbol overflow=\"visible\" id=\"glyph1-2\">\n",
       "<path style=\"stroke:none;\" d=\"M 3.109375 -6.0625 L 3.109375 0 L 4.15625 0 L 4.15625 -8.515625 L 3.46875 -8.515625 C 3.09375 -7.203125 2.859375 -7.015625 1.21875 -6.8125 L 1.21875 -6.0625 Z \"/>\n",
       "</symbol>\n",
       "<symbol overflow=\"visible\" id=\"glyph2-0\">\n",
       "<path style=\"stroke:none;\" d=\"\"/>\n",
       "</symbol>\n",
       "<symbol overflow=\"visible\" id=\"glyph2-1\">\n",
       "<path style=\"stroke:none;\" d=\"M 4.8125 -5.03125 L 2.578125 -1.125 L 2.125 -5.03125 L 1.265625 -5.03125 L 1.921875 0.03125 L 1.421875 0.8125 C 1.15625 1.21875 1 1.3125 0.65625 1.3125 C 0.5625 1.3125 0.484375 1.3125 0.234375 1.28125 L 0.078125 2 C 0.25 2.078125 0.359375 2.09375 0.546875 2.09375 C 1.234375 2.09375 1.71875 1.765625 2.125 1.0625 L 5.65625 -5.03125 Z \"/>\n",
       "</symbol>\n",
       "<symbol overflow=\"visible\" id=\"glyph2-2\">\n",
       "<path style=\"stroke:none;\" d=\"M 5.40625 -2.25 L 5.4375 -2.40625 C 5.515625 -2.875 5.5625 -3.265625 5.5625 -3.53125 C 5.5625 -4.453125 4.765625 -5.171875 3.734375 -5.171875 C 2.890625 -5.171875 2.09375 -4.78125 1.609375 -4.140625 C 1.15625 -3.53125 0.8125 -2.4375 0.8125 -1.65625 C 0.8125 -1.140625 1.03125 -0.609375 1.40625 -0.265625 C 1.734375 0.0625 2.15625 0.21875 2.703125 0.21875 C 3.859375 0.21875 4.84375 -0.484375 5.140625 -1.53125 L 4.34375 -1.53125 C 3.984375 -0.859375 3.484375 -0.515625 2.84375 -0.515625 C 2.078125 -0.515625 1.65625 -0.984375 1.65625 -1.796875 C 1.65625 -2 1.65625 -2.09375 1.703125 -2.25 Z M 1.875 -2.9375 C 2.125 -3.8125 2.828125 -4.4375 3.609375 -4.4375 C 4.28125 -4.4375 4.71875 -3.96875 4.71875 -3.25 C 4.71875 -3.15625 4.703125 -3.09375 4.6875 -2.9375 Z \"/>\n",
       "</symbol>\n",
       "<symbol overflow=\"visible\" id=\"glyph2-3\">\n",
       "<path style=\"stroke:none;\" d=\"M 4.9375 -3.625 C 4.984375 -3.828125 4.984375 -3.921875 4.984375 -4.03125 C 4.984375 -4.703125 4.34375 -5.171875 3.421875 -5.171875 C 2.734375 -5.171875 2.15625 -4.96875 1.75 -4.59375 C 1.40625 -4.265625 1.1875 -3.765625 1.1875 -3.3125 C 1.1875 -2.71875 1.515625 -2.453125 2.5 -2.1875 L 3.21875 -2 C 3.53125 -1.921875 3.671875 -1.859375 3.765625 -1.75 C 3.828125 -1.671875 3.890625 -1.53125 3.890625 -1.4375 C 3.890625 -1.265625 3.734375 -0.96875 3.578125 -0.84375 C 3.34375 -0.640625 2.921875 -0.515625 2.515625 -0.515625 C 1.859375 -0.515625 1.484375 -0.78125 1.484375 -1.25 C 1.484375 -1.3125 1.484375 -1.40625 1.5 -1.5 L 0.640625 -1.5 C 0.59375 -1.28125 0.578125 -1.15625 0.578125 -1 C 0.578125 -0.234375 1.25 0.21875 2.375 0.21875 C 3.796875 0.21875 4.734375 -0.515625 4.734375 -1.65625 C 4.734375 -2.25 4.40625 -2.546875 3.5625 -2.765625 L 2.84375 -2.9375 C 2.296875 -3.078125 2.03125 -3.265625 2.03125 -3.515625 C 2.03125 -3.71875 2.140625 -3.953125 2.3125 -4.109375 C 2.546875 -4.34375 2.828125 -4.4375 3.25 -4.4375 C 3.8125 -4.4375 4.140625 -4.21875 4.140625 -3.84375 C 4.140625 -3.765625 4.140625 -3.703125 4.125 -3.625 Z \"/>\n",
       "</symbol>\n",
       "<symbol overflow=\"visible\" id=\"glyph2-4\">\n",
       "<path style=\"stroke:none;\" d=\"M 1.734375 -5.03125 L 0.671875 0 L 1.484375 0 L 2.0625 -2.765625 C 2.296875 -3.828125 2.96875 -4.484375 3.828125 -4.484375 C 4.3125 -4.484375 4.65625 -4.140625 4.65625 -3.703125 C 4.65625 -3.640625 4.640625 -3.5 4.609375 -3.34375 L 3.890625 0 L 4.703125 0 L 5.46875 -3.609375 C 5.5 -3.734375 5.5 -3.84375 5.5 -3.96875 C 5.5 -4.703125 5 -5.171875 4.203125 -5.171875 C 3.46875 -5.171875 2.84375 -4.90625 2.34375 -4.40625 L 2.46875 -5.03125 Z \"/>\n",
       "</symbol>\n",
       "<symbol overflow=\"visible\" id=\"glyph2-5\">\n",
       "<path style=\"stroke:none;\" d=\"M 3.6875 -5.171875 C 2.796875 -5.171875 2 -4.765625 1.515625 -4.0625 C 1.078125 -3.4375 0.765625 -2.390625 0.765625 -1.578125 C 0.765625 -0.515625 1.5 0.21875 2.578125 0.21875 C 3.5 0.21875 4.234375 -0.15625 4.765625 -0.890625 C 5.203125 -1.5 5.53125 -2.546875 5.53125 -3.375 C 5.53125 -3.890625 5.328125 -4.375 5 -4.703125 C 4.671875 -5.015625 4.234375 -5.171875 3.6875 -5.171875 Z M 3.5625 -4.4375 C 4.265625 -4.4375 4.6875 -3.96875 4.6875 -3.1875 C 4.6875 -2.625 4.515625 -2 4.265625 -1.53125 C 3.890625 -0.859375 3.375 -0.515625 2.71875 -0.515625 C 2.03125 -0.515625 1.609375 -1 1.609375 -1.765625 C 1.609375 -2.3125 1.78125 -2.9375 2.03125 -3.421875 C 2.390625 -4.078125 2.921875 -4.4375 3.5625 -4.4375 Z \"/>\n",
       "</symbol>\n",
       "</g>\n",
       "</defs>\n",
       "<g id=\"surface415\">\n",
       "<rect x=\"0\" y=\"0\" width=\"504\" height=\"504\" style=\"fill:rgb(100%,100%,100%);fill-opacity:1;stroke:none;\"/>\n",
       "<path style=\"fill:none;stroke-width:0.75;stroke-linecap:butt;stroke-linejoin:round;stroke:rgb(0%,0%,0%);stroke-opacity:1;stroke-miterlimit:10;\" d=\"M 160.339844 283.132812 L 233.667969 210.050781 L 252 210.050781 \"/>\n",
       "<path style=\"fill:none;stroke-width:0.75;stroke-linecap:butt;stroke-linejoin:round;stroke:rgb(0%,0%,0%);stroke-opacity:1;stroke-miterlimit:10;\" d=\"M 343.660156 283.132812 L 270.332031 210.050781 L 252 210.050781 \"/>\n",
       "<path style=\" stroke:none;fill-rule:nonzero;fill:rgb(100%,100%,100%);fill-opacity:1;\" d=\"M 203.25 214.355469 L 203.25 197.125 L 300.75 197.125 L 300.75 214.355469 Z \"/>\n",
       "<g style=\"fill:rgb(0%,0%,0%);fill-opacity:1;\">\n",
       "  <use xlink:href=\"#glyph0-1\" x=\"208\" y=\"209.490234\"/>\n",
       "  <use xlink:href=\"#glyph0-2\" x=\"215.332031\" y=\"209.490234\"/>\n",
       "  <use xlink:href=\"#glyph0-3\" x=\"222.664062\" y=\"209.490234\"/>\n",
       "  <use xlink:href=\"#glyph0-4\" x=\"232\" y=\"209.490234\"/>\n",
       "  <use xlink:href=\"#glyph0-5\" x=\"238.671875\" y=\"209.490234\"/>\n",
       "  <use xlink:href=\"#glyph0-6\" x=\"243.339844\" y=\"209.490234\"/>\n",
       "  <use xlink:href=\"#glyph0-2\" x=\"252.003906\" y=\"209.490234\"/>\n",
       "  <use xlink:href=\"#glyph0-7\" x=\"259.335938\" y=\"209.490234\"/>\n",
       "  <use xlink:href=\"#glyph0-8\" x=\"266.667969\" y=\"209.490234\"/>\n",
       "  <use xlink:href=\"#glyph0-9\" x=\"270.003906\" y=\"209.490234\"/>\n",
       "  <use xlink:href=\"#glyph0-8\" x=\"277.011719\" y=\"209.490234\"/>\n",
       "  <use xlink:href=\"#glyph0-10\" x=\"280.347656\" y=\"209.490234\"/>\n",
       "  <use xlink:href=\"#glyph0-11\" x=\"283.683594\" y=\"209.490234\"/>\n",
       "  <use xlink:href=\"#glyph0-5\" x=\"291.015625\" y=\"209.490234\"/>\n",
       "</g>\n",
       "<path style=\"fill-rule:nonzero;fill:rgb(100%,100%,100%);fill-opacity:1;stroke-width:0.75;stroke-linecap:round;stroke-linejoin:round;stroke:rgb(0%,0%,0%);stroke-opacity:1;stroke-miterlimit:10;\" d=\"M 152.007812 287.042969 L 152.289062 286.03125 L 153.125 285.085938 L 154.449219 284.277344 L 156.171875 283.65625 L 158.183594 283.265625 L 160.339844 283.132812 L 162.496094 283.265625 L 164.507812 283.65625 L 166.234375 284.277344 L 167.558594 285.085938 L 168.390625 286.03125 L 168.675781 287.042969 L 168.675781 296.453125 L 168.390625 297.464844 L 167.558594 298.40625 L 166.234375 299.21875 L 164.507812 299.839844 L 162.496094 300.230469 L 160.339844 300.363281 L 158.183594 300.230469 L 156.171875 299.839844 L 154.449219 299.21875 L 153.125 298.40625 L 152.289062 297.464844 L 152.007812 296.453125 Z \"/>\n",
       "<path style=\"fill-rule:nonzero;fill:rgb(100%,100%,100%);fill-opacity:1;stroke-width:0.75;stroke-linecap:round;stroke-linejoin:round;stroke:rgb(0%,0%,0%);stroke-opacity:1;stroke-miterlimit:10;\" d=\"M 335.324219 287.042969 L 335.609375 286.03125 L 336.441406 285.085938 L 337.765625 284.277344 L 339.492188 283.65625 L 341.503906 283.265625 L 343.660156 283.132812 L 345.816406 283.265625 L 347.828125 283.65625 L 349.550781 284.277344 L 350.875 285.085938 L 351.710938 286.03125 L 351.992188 287.042969 L 351.992188 296.453125 L 351.710938 297.464844 L 350.875 298.40625 L 349.550781 299.21875 L 347.828125 299.839844 L 345.816406 300.230469 L 343.660156 300.363281 L 341.503906 300.230469 L 339.492188 299.839844 L 337.765625 299.21875 L 336.441406 298.40625 L 335.609375 297.464844 L 335.324219 296.453125 Z \"/>\n",
       "<g style=\"fill:rgb(0%,0%,0%);fill-opacity:1;\">\n",
       "  <use xlink:href=\"#glyph1-1\" x=\"156.839844\" y=\"295.181641\"/>\n",
       "</g>\n",
       "<g style=\"fill:rgb(0%,0%,0%);fill-opacity:1;\">\n",
       "  <use xlink:href=\"#glyph1-2\" x=\"340.160156\" y=\"295.681641\"/>\n",
       "</g>\n",
       "<path style=\"fill-rule:nonzero;fill:rgb(100%,100%,100%);fill-opacity:1;stroke-width:0.75;stroke-linecap:round;stroke-linejoin:round;stroke:rgb(0%,0%,0%);stroke-opacity:1;stroke-miterlimit:10;\" d=\"M 175.601562 205.203125 L 175.65625 204.785156 L 175.820312 204.394531 L 176.074219 204.058594 L 176.410156 203.804688 L 176.800781 203.640625 L 177.21875 203.585938 L 197.027344 203.585938 L 197.445312 203.640625 L 197.835938 203.804688 L 198.167969 204.058594 L 198.425781 204.394531 L 198.585938 204.785156 L 198.640625 205.203125 L 198.640625 214.894531 L 198.585938 215.3125 L 198.425781 215.703125 L 198.167969 216.039062 L 197.835938 216.292969 L 197.445312 216.457031 L 197.027344 216.511719 L 177.21875 216.511719 L 176.800781 216.457031 L 176.410156 216.292969 L 176.074219 216.039062 L 175.820312 215.703125 L 175.65625 215.3125 L 175.601562 214.894531 Z \"/>\n",
       "<path style=\"fill-rule:nonzero;fill:rgb(100%,100%,100%);fill-opacity:1;stroke-width:0.75;stroke-linecap:round;stroke-linejoin:round;stroke:rgb(0%,0%,0%);stroke-opacity:1;stroke-miterlimit:10;\" d=\"M 305.359375 205.203125 L 305.414062 204.785156 L 305.574219 204.394531 L 305.832031 204.058594 L 306.164062 203.804688 L 306.554688 203.640625 L 306.972656 203.585938 L 326.78125 203.585938 L 327.199219 203.640625 L 327.589844 203.804688 L 327.925781 204.058594 L 328.179688 204.394531 L 328.34375 204.785156 L 328.398438 205.203125 L 328.398438 214.894531 L 328.34375 215.3125 L 328.179688 215.703125 L 327.925781 216.039062 L 327.589844 216.292969 L 327.199219 216.457031 L 326.78125 216.511719 L 306.972656 216.511719 L 306.554688 216.457031 L 306.164062 216.292969 L 305.832031 216.039062 L 305.574219 215.703125 L 305.414062 215.3125 L 305.359375 214.894531 Z \"/>\n",
       "<g style=\"fill:rgb(0%,0%,0%);fill-opacity:1;\">\n",
       "  <use xlink:href=\"#glyph2-1\" x=\"179.621094\" y=\"212.022461\"/>\n",
       "  <use xlink:href=\"#glyph2-2\" x=\"184.417969\" y=\"212.022461\"/>\n",
       "  <use xlink:href=\"#glyph2-3\" x=\"189.751953\" y=\"212.022461\"/>\n",
       "</g>\n",
       "<g style=\"fill:rgb(0%,0%,0%);fill-opacity:1;\">\n",
       "  <use xlink:href=\"#glyph2-4\" x=\"311.378906\" y=\"211.948242\"/>\n",
       "  <use xlink:href=\"#glyph2-5\" x=\"316.712891\" y=\"211.948242\"/>\n",
       "</g>\n",
       "</g>\n",
       "</svg>\n"
      ],
      "text/plain": [
       "plot without title"
      ]
     },
     "metadata": {
      "image/svg+xml": {
       "isolated": true
      }
     },
     "output_type": "display_data"
    }
   ],
   "source": [
    "prp(StevensTreeCV)"
   ]
  },
  {
   "cell_type": "code",
   "execution_count": null,
   "metadata": {
    "collapsed": true
   },
   "outputs": [],
   "source": []
  }
 ],
 "metadata": {
  "kernelspec": {
   "display_name": "R",
   "language": "R",
   "name": "ir"
  },
  "language_info": {
   "codemirror_mode": "r",
   "file_extension": ".r",
   "mimetype": "text/x-r-source",
   "name": "R",
   "pygments_lexer": "r",
   "version": "3.2.2"
  }
 },
 "nbformat": 4,
 "nbformat_minor": 0
}
