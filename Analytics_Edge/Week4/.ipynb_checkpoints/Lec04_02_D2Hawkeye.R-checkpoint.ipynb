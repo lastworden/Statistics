{
 "cells": [
  {
   "cell_type": "code",
   "execution_count": 1,
   "metadata": {
    "collapsed": true
   },
   "outputs": [],
   "source": [
    "Claims = read.csv(\"ClaimsData.csv\")"
   ]
  },
  {
   "cell_type": "code",
   "execution_count": 2,
   "metadata": {
    "collapsed": false
   },
   "outputs": [
    {
     "name": "stdout",
     "output_type": "stream",
     "text": [
      "'data.frame':\t458005 obs. of  16 variables:\n",
      " $ age              : int  85 59 67 52 67 68 75 70 67 67 ...\n",
      " $ alzheimers       : int  0 0 0 0 0 0 0 0 0 0 ...\n",
      " $ arthritis        : int  0 0 0 0 0 0 0 0 0 0 ...\n",
      " $ cancer           : int  0 0 0 0 0 0 0 0 0 0 ...\n",
      " $ copd             : int  0 0 0 0 0 0 0 0 0 0 ...\n",
      " $ depression       : int  0 0 0 0 0 0 0 0 0 0 ...\n",
      " $ diabetes         : int  0 0 0 0 0 0 0 0 0 0 ...\n",
      " $ heart.failure    : int  0 0 0 0 0 0 0 0 0 0 ...\n",
      " $ ihd              : int  0 0 0 0 0 0 0 0 0 0 ...\n",
      " $ kidney           : int  0 0 0 0 0 0 0 0 0 0 ...\n",
      " $ osteoporosis     : int  0 0 0 0 0 0 0 0 0 0 ...\n",
      " $ stroke           : int  0 0 0 0 0 0 0 0 0 0 ...\n",
      " $ reimbursement2008: int  0 0 0 0 0 0 0 0 0 0 ...\n",
      " $ bucket2008       : int  1 1 1 1 1 1 1 1 1 1 ...\n",
      " $ reimbursement2009: int  0 0 0 0 0 0 0 0 0 0 ...\n",
      " $ bucket2009       : int  1 1 1 1 1 1 1 1 1 1 ...\n"
     ]
    }
   ],
   "source": [
    "str(Claims)"
   ]
  },
  {
   "cell_type": "code",
   "execution_count": 3,
   "metadata": {
    "collapsed": false
   },
   "outputs": [
    {
     "data": {
      "text/plain": [
       "\n",
       "          1           2           3           4           5 \n",
       "0.671267781 0.190170413 0.089466272 0.043324855 0.005770679 "
      ]
     },
     "execution_count": 3,
     "metadata": {},
     "output_type": "execute_result"
    }
   ],
   "source": [
    "table(Claims$bucket2009)/nrow(Claims)"
   ]
  },
  {
   "cell_type": "code",
   "execution_count": 4,
   "metadata": {
    "collapsed": true
   },
   "outputs": [],
   "source": [
    "library(caTools)"
   ]
  },
  {
   "cell_type": "code",
   "execution_count": 5,
   "metadata": {
    "collapsed": true
   },
   "outputs": [],
   "source": [
    "set.seed(88)"
   ]
  },
  {
   "cell_type": "code",
   "execution_count": 6,
   "metadata": {
    "collapsed": true
   },
   "outputs": [],
   "source": [
    "split = sample.split(Claims$bucket2009, SplitRatio = 0.6 )"
   ]
  },
  {
   "cell_type": "code",
   "execution_count": 10,
   "metadata": {
    "collapsed": false
   },
   "outputs": [],
   "source": [
    "\n",
    "claimsTrain = subset(Claims, split == TRUE)"
   ]
  },
  {
   "cell_type": "code",
   "execution_count": 11,
   "metadata": {
    "collapsed": true
   },
   "outputs": [],
   "source": [
    "claimsTest = subset(Claims, split == FALSE)"
   ]
  },
  {
   "cell_type": "code",
   "execution_count": 12,
   "metadata": {
    "collapsed": false
   },
   "outputs": [
    {
     "data": {
      "text/html": [
       "72.6377259345786"
      ],
      "text/latex": [
       "72.6377259345786"
      ],
      "text/markdown": [
       "72.6377259345786"
      ],
      "text/plain": [
       "[1] 72.63773"
      ]
     },
     "execution_count": 12,
     "metadata": {},
     "output_type": "execute_result"
    }
   ],
   "source": [
    "mean(claimsTrain$age)"
   ]
  },
  {
   "cell_type": "code",
   "execution_count": 14,
   "metadata": {
    "collapsed": false
   },
   "outputs": [
    {
     "data": {
      "text/html": [
       "0.380898316248367"
      ],
      "text/latex": [
       "0.380898316248367"
      ],
      "text/markdown": [
       "0.380898316248367"
      ],
      "text/plain": [
       "[1] 0.3808983"
      ]
     },
     "execution_count": 14,
     "metadata": {},
     "output_type": "execute_result"
    }
   ],
   "source": [
    "mean(claimsTrain$diabetes)"
   ]
  },
  {
   "cell_type": "code",
   "execution_count": null,
   "metadata": {
    "collapsed": true
   },
   "outputs": [],
   "source": []
  }
 ],
 "metadata": {
  "kernelspec": {
   "display_name": "R",
   "language": "R",
   "name": "ir"
  },
  "language_info": {
   "codemirror_mode": "r",
   "file_extension": ".r",
   "mimetype": "text/x-r-source",
   "name": "R",
   "pygments_lexer": "r",
   "version": "3.2.2"
  }
 },
 "nbformat": 4,
 "nbformat_minor": 0
}
