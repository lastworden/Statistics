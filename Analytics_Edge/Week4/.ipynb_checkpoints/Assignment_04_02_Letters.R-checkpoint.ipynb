{
 "cells": [
  {
   "cell_type": "markdown",
   "metadata": {},
   "source": [
    "https://courses.edx.org/courses/course-v1:MITx+15.071x_3+1T2016/courseware/3372864201764d6d9f63931920e5152e/ab08d73980f046479d3bcd105a55b0c2/"
   ]
  },
  {
   "cell_type": "markdown",
   "metadata": {},
   "source": [
    "One of the earliest applications of the predictive analytics methods we have studied so far in this class was to automatically recognize letters, which post office machines use to sort mail. In this problem, we will build a model that uses statistics of images of four letters in the Roman alphabet -- A, B, P, and R -- to predict which letter a particular image corresponds to.\n",
    "\n",
    "Note that this is a multiclass classification problem. We have mostly focused on binary classification problems (e.g., predicting whether an individual voted or not, whether the Supreme Court will affirm or reverse a case, whether or not a person is at risk for a certain disease, etc.). In this problem, we have more than two classifications that are possible for each observation, like in the D2Hawkeye lecture. \n",
    "\n",
    "The file letters_ABPR.csv contains 3116 observations, each of which corresponds to a certain image of one of the four letters A, B, P and R. The images came from 20 different fonts, which were then randomly distorted to produce the final images; each such distorted image is represented as a collection of pixels, each of which is \"on\" or \"off\". For each such distorted image, we have available certain statistics of the image in terms of these pixels, as well as which of the four letters the image is. This data comes from the UCI Machine Learning Repository.\n",
    "\n",
    "This dataset contains the following 17 variables:\n",
    "\n",
    "    letter = the letter that the image corresponds to (A, B, P or R)\n",
    "    xbox = the horizontal position of where the smallest box covering the letter shape begins.\n",
    "    ybox = the vertical position of where the smallest box covering the letter shape begins.\n",
    "    width = the width of this smallest box.\n",
    "    height = the height of this smallest box.\n",
    "    onpix = the total number of \"on\" pixels in the character image\n",
    "    xbar = the mean horizontal position of all of the \"on\" pixels\n",
    "    ybar = the mean vertical position of all of the \"on\" pixels\n",
    "    x2bar = the mean squared horizontal position of all of the \"on\" pixels in the image\n",
    "    y2bar = the mean squared vertical position of all of the \"on\" pixels in the image\n",
    "    xybar = the mean of the product of the horizontal and vertical position of all of the \"on\" pixels in the image\n",
    "    x2ybar = the mean of the product of the squared horizontal position and the vertical position of all of the \"on\" pixels\n",
    "    xy2bar = the mean of the product of the horizontal position and the squared vertical position of all of the \"on\" pixels\n",
    "    xedge = the mean number of edges (the number of times an \"off\" pixel is followed by an \"on\" pixel, or the image boundary is hit) as the image is scanned from left to right, along the whole vertical length of the image\n",
    "    xedgeycor = the mean of the product of the number of horizontal edges at each vertical position and the vertical position\n",
    "    yedge = the mean number of edges as the images is scanned from top to bottom, along the whole horizontal length of the image\n",
    "    yedgexcor = the mean of the product of the number of vertical edges at each horizontal position and the horizontal position\n"
   ]
  },
  {
   "cell_type": "code",
   "execution_count": 1,
   "metadata": {
    "collapsed": true
   },
   "outputs": [],
   "source": [
    "letters = read.csv(\"letters_ABPR.csv\")"
   ]
  },
  {
   "cell_type": "code",
   "execution_count": 2,
   "metadata": {
    "collapsed": false
   },
   "outputs": [
    {
     "name": "stdout",
     "output_type": "stream",
     "text": [
      "'data.frame':\t3116 obs. of  17 variables:\n",
      " $ letter   : Factor w/ 4 levels \"A\",\"B\",\"P\",\"R\": 2 1 4 2 3 4 4 1 3 3 ...\n",
      " $ xbox     : int  4 1 5 5 3 8 2 3 8 6 ...\n",
      " $ ybox     : int  2 1 9 9 6 10 6 7 14 10 ...\n",
      " $ width    : int  5 3 5 7 4 8 4 5 7 8 ...\n",
      " $ height   : int  4 2 7 7 4 6 4 5 8 8 ...\n",
      " $ onpix    : int  4 1 6 10 2 6 3 3 4 7 ...\n",
      " $ xbar     : int  8 8 6 9 4 7 6 12 5 8 ...\n",
      " $ ybar     : int  7 2 11 8 14 7 7 2 10 5 ...\n",
      " $ x2bar    : int  6 2 7 4 8 3 5 3 6 7 ...\n",
      " $ y2bar    : int  6 2 3 4 1 5 5 2 3 5 ...\n",
      " $ xybar    : int  7 8 7 6 11 8 6 10 12 7 ...\n",
      " $ x2ybar   : int  6 2 3 8 6 4 5 2 5 6 ...\n",
      " $ xy2bar   : int  6 8 9 6 3 8 7 9 4 6 ...\n",
      " $ xedge    : int  2 1 2 6 0 6 3 2 4 3 ...\n",
      " $ xedgeycor: int  8 6 7 11 10 6 7 6 10 9 ...\n",
      " $ yedge    : int  7 2 5 8 4 7 5 3 4 8 ...\n",
      " $ yedgexcor: int  10 7 11 7 8 7 8 8 8 9 ...\n"
     ]
    }
   ],
   "source": [
    "str(letters)"
   ]
  },
  {
   "cell_type": "code",
   "execution_count": 4,
   "metadata": {
    "collapsed": false
   },
   "outputs": [
    {
     "data": {
      "text/html": [
       "<dl class=dl-horizontal>\n",
       "\t<dt>A</dt>\n",
       "\t\t<dd>789</dd>\n",
       "\t<dt>B</dt>\n",
       "\t\t<dd>766</dd>\n",
       "\t<dt>P</dt>\n",
       "\t\t<dd>803</dd>\n",
       "\t<dt>R</dt>\n",
       "\t\t<dd>758</dd>\n",
       "</dl>\n"
      ],
      "text/latex": [
       "\\begin{description*}\n",
       "\\item[A] 789\n",
       "\\item[B] 766\n",
       "\\item[P] 803\n",
       "\\item[R] 758\n",
       "\\end{description*}\n"
      ],
      "text/markdown": [
       "A\n",
       ":   789B\n",
       ":   766P\n",
       ":   803R\n",
       ":   758\n",
       "\n"
      ],
      "text/plain": [
       "  A   B   P   R \n",
       "789 766 803 758 "
      ]
     },
     "execution_count": 4,
     "metadata": {},
     "output_type": "execute_result"
    }
   ],
   "source": [
    "summary(letters$letter)"
   ]
  },
  {
   "cell_type": "code",
   "execution_count": 5,
   "metadata": {
    "collapsed": false
   },
   "outputs": [
    {
     "data": {
      "text/html": [
       "<ol class=list-inline>\n",
       "\t<li>'A'</li>\n",
       "\t<li>'B'</li>\n",
       "\t<li>'P'</li>\n",
       "\t<li>'R'</li>\n",
       "</ol>\n"
      ],
      "text/latex": [
       "\\begin{enumerate*}\n",
       "\\item 'A'\n",
       "\\item 'B'\n",
       "\\item 'P'\n",
       "\\item 'R'\n",
       "\\end{enumerate*}\n"
      ],
      "text/markdown": [
       "1. 'A'\n",
       "2. 'B'\n",
       "3. 'P'\n",
       "4. 'R'\n",
       "\n",
       "\n"
      ],
      "text/plain": [
       "[1] \"A\" \"B\" \"P\" \"R\""
      ]
     },
     "execution_count": 5,
     "metadata": {},
     "output_type": "execute_result"
    }
   ],
   "source": [
    "levels(letters$letter)"
   ]
  },
  {
   "cell_type": "code",
   "execution_count": 6,
   "metadata": {
    "collapsed": true
   },
   "outputs": [],
   "source": [
    "letters$isB = as.factor(letters$letter == \"B\")"
   ]
  },
  {
   "cell_type": "code",
   "execution_count": 8,
   "metadata": {
    "collapsed": true
   },
   "outputs": [],
   "source": [
    "library(caTools)"
   ]
  },
  {
   "cell_type": "code",
   "execution_count": 9,
   "metadata": {
    "collapsed": true
   },
   "outputs": [],
   "source": [
    "set.seed(1000)"
   ]
  },
  {
   "cell_type": "code",
   "execution_count": null,
   "metadata": {
    "collapsed": true
   },
   "outputs": [],
   "source": []
  }
 ],
 "metadata": {
  "kernelspec": {
   "display_name": "R",
   "language": "R",
   "name": "ir"
  },
  "language_info": {
   "codemirror_mode": "r",
   "file_extension": ".r",
   "mimetype": "text/x-r-source",
   "name": "R",
   "pygments_lexer": "r",
   "version": "3.2.2"
  }
 },
 "nbformat": 4,
 "nbformat_minor": 0
}
