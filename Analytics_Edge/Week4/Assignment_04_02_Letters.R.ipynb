{
 "cells": [
  {
   "cell_type": "markdown",
   "metadata": {},
   "source": [
    "https://courses.edx.org/courses/course-v1:MITx+15.071x_3+1T2016/courseware/3372864201764d6d9f63931920e5152e/ab08d73980f046479d3bcd105a55b0c2/"
   ]
  },
  {
   "cell_type": "markdown",
   "metadata": {},
   "source": [
    "One of the earliest applications of the predictive analytics methods we have studied so far in this class was to automatically recognize letters, which post office machines use to sort mail. In this problem, we will build a model that uses statistics of images of four letters in the Roman alphabet -- A, B, P, and R -- to predict which letter a particular image corresponds to.\n",
    "\n",
    "Note that this is a multiclass classification problem. We have mostly focused on binary classification problems (e.g., predicting whether an individual voted or not, whether the Supreme Court will affirm or reverse a case, whether or not a person is at risk for a certain disease, etc.). In this problem, we have more than two classifications that are possible for each observation, like in the D2Hawkeye lecture. \n",
    "\n",
    "The file letters_ABPR.csv contains 3116 observations, each of which corresponds to a certain image of one of the four letters A, B, P and R. The images came from 20 different fonts, which were then randomly distorted to produce the final images; each such distorted image is represented as a collection of pixels, each of which is \"on\" or \"off\". For each such distorted image, we have available certain statistics of the image in terms of these pixels, as well as which of the four letters the image is. This data comes from the UCI Machine Learning Repository.\n",
    "\n",
    "This dataset contains the following 17 variables:\n",
    "\n",
    "    letter = the letter that the image corresponds to (A, B, P or R)\n",
    "    xbox = the horizontal position of where the smallest box covering the letter shape begins.\n",
    "    ybox = the vertical position of where the smallest box covering the letter shape begins.\n",
    "    width = the width of this smallest box.\n",
    "    height = the height of this smallest box.\n",
    "    onpix = the total number of \"on\" pixels in the character image\n",
    "    xbar = the mean horizontal position of all of the \"on\" pixels\n",
    "    ybar = the mean vertical position of all of the \"on\" pixels\n",
    "    x2bar = the mean squared horizontal position of all of the \"on\" pixels in the image\n",
    "    y2bar = the mean squared vertical position of all of the \"on\" pixels in the image\n",
    "    xybar = the mean of the product of the horizontal and vertical position of all of the \"on\" pixels in the image\n",
    "    x2ybar = the mean of the product of the squared horizontal position and the vertical position of all of the \"on\" pixels\n",
    "    xy2bar = the mean of the product of the horizontal position and the squared vertical position of all of the \"on\" pixels\n",
    "    xedge = the mean number of edges (the number of times an \"off\" pixel is followed by an \"on\" pixel, or the image boundary is hit) as the image is scanned from left to right, along the whole vertical length of the image\n",
    "    xedgeycor = the mean of the product of the number of horizontal edges at each vertical position and the vertical position\n",
    "    yedge = the mean number of edges as the images is scanned from top to bottom, along the whole horizontal length of the image\n",
    "    yedgexcor = the mean of the product of the number of vertical edges at each horizontal position and the horizontal position\n"
   ]
  },
  {
   "cell_type": "code",
   "execution_count": 1,
   "metadata": {
    "collapsed": true
   },
   "outputs": [],
   "source": [
    "letters = read.csv(\"letters_ABPR.csv\")"
   ]
  },
  {
   "cell_type": "code",
   "execution_count": 2,
   "metadata": {
    "collapsed": false
   },
   "outputs": [
    {
     "name": "stdout",
     "output_type": "stream",
     "text": [
      "'data.frame':\t3116 obs. of  17 variables:\n",
      " $ letter   : Factor w/ 4 levels \"A\",\"B\",\"P\",\"R\": 2 1 4 2 3 4 4 1 3 3 ...\n",
      " $ xbox     : int  4 1 5 5 3 8 2 3 8 6 ...\n",
      " $ ybox     : int  2 1 9 9 6 10 6 7 14 10 ...\n",
      " $ width    : int  5 3 5 7 4 8 4 5 7 8 ...\n",
      " $ height   : int  4 2 7 7 4 6 4 5 8 8 ...\n",
      " $ onpix    : int  4 1 6 10 2 6 3 3 4 7 ...\n",
      " $ xbar     : int  8 8 6 9 4 7 6 12 5 8 ...\n",
      " $ ybar     : int  7 2 11 8 14 7 7 2 10 5 ...\n",
      " $ x2bar    : int  6 2 7 4 8 3 5 3 6 7 ...\n",
      " $ y2bar    : int  6 2 3 4 1 5 5 2 3 5 ...\n",
      " $ xybar    : int  7 8 7 6 11 8 6 10 12 7 ...\n",
      " $ x2ybar   : int  6 2 3 8 6 4 5 2 5 6 ...\n",
      " $ xy2bar   : int  6 8 9 6 3 8 7 9 4 6 ...\n",
      " $ xedge    : int  2 1 2 6 0 6 3 2 4 3 ...\n",
      " $ xedgeycor: int  8 6 7 11 10 6 7 6 10 9 ...\n",
      " $ yedge    : int  7 2 5 8 4 7 5 3 4 8 ...\n",
      " $ yedgexcor: int  10 7 11 7 8 7 8 8 8 9 ...\n"
     ]
    }
   ],
   "source": [
    "str(letters)"
   ]
  },
  {
   "cell_type": "code",
   "execution_count": 4,
   "metadata": {
    "collapsed": false
   },
   "outputs": [
    {
     "data": {
      "text/html": [
       "<dl class=dl-horizontal>\n",
       "\t<dt>A</dt>\n",
       "\t\t<dd>789</dd>\n",
       "\t<dt>B</dt>\n",
       "\t\t<dd>766</dd>\n",
       "\t<dt>P</dt>\n",
       "\t\t<dd>803</dd>\n",
       "\t<dt>R</dt>\n",
       "\t\t<dd>758</dd>\n",
       "</dl>\n"
      ],
      "text/latex": [
       "\\begin{description*}\n",
       "\\item[A] 789\n",
       "\\item[B] 766\n",
       "\\item[P] 803\n",
       "\\item[R] 758\n",
       "\\end{description*}\n"
      ],
      "text/markdown": [
       "A\n",
       ":   789B\n",
       ":   766P\n",
       ":   803R\n",
       ":   758\n",
       "\n"
      ],
      "text/plain": [
       "  A   B   P   R \n",
       "789 766 803 758 "
      ]
     },
     "execution_count": 4,
     "metadata": {},
     "output_type": "execute_result"
    }
   ],
   "source": [
    "summary(letters$letter)"
   ]
  },
  {
   "cell_type": "code",
   "execution_count": 5,
   "metadata": {
    "collapsed": false
   },
   "outputs": [
    {
     "data": {
      "text/html": [
       "<ol class=list-inline>\n",
       "\t<li>'A'</li>\n",
       "\t<li>'B'</li>\n",
       "\t<li>'P'</li>\n",
       "\t<li>'R'</li>\n",
       "</ol>\n"
      ],
      "text/latex": [
       "\\begin{enumerate*}\n",
       "\\item 'A'\n",
       "\\item 'B'\n",
       "\\item 'P'\n",
       "\\item 'R'\n",
       "\\end{enumerate*}\n"
      ],
      "text/markdown": [
       "1. 'A'\n",
       "2. 'B'\n",
       "3. 'P'\n",
       "4. 'R'\n",
       "\n",
       "\n"
      ],
      "text/plain": [
       "[1] \"A\" \"B\" \"P\" \"R\""
      ]
     },
     "execution_count": 5,
     "metadata": {},
     "output_type": "execute_result"
    }
   ],
   "source": [
    "levels(letters$letter)"
   ]
  },
  {
   "cell_type": "code",
   "execution_count": 6,
   "metadata": {
    "collapsed": true
   },
   "outputs": [],
   "source": [
    "letters$isB = as.factor(letters$letter == \"B\")"
   ]
  },
  {
   "cell_type": "code",
   "execution_count": 8,
   "metadata": {
    "collapsed": true
   },
   "outputs": [],
   "source": [
    "library(caTools)"
   ]
  },
  {
   "cell_type": "code",
   "execution_count": 9,
   "metadata": {
    "collapsed": true
   },
   "outputs": [],
   "source": [
    "set.seed(1000)"
   ]
  },
  {
   "cell_type": "code",
   "execution_count": 10,
   "metadata": {
    "collapsed": true
   },
   "outputs": [],
   "source": [
    "split = sample.split(letters$isB, SplitRatio = 0.5)"
   ]
  },
  {
   "cell_type": "code",
   "execution_count": 12,
   "metadata": {
    "collapsed": false
   },
   "outputs": [
    {
     "data": {
      "text/html": [
       "1558"
      ],
      "text/latex": [
       "1558"
      ],
      "text/markdown": [
       "1558"
      ],
      "text/plain": [
       "[1] 1558"
      ]
     },
     "execution_count": 12,
     "metadata": {},
     "output_type": "execute_result"
    },
    {
     "data": {
      "text/html": [
       "1558"
      ],
      "text/latex": [
       "1558"
      ],
      "text/markdown": [
       "1558"
      ],
      "text/plain": [
       "[1] 1558"
      ]
     },
     "execution_count": 12,
     "metadata": {},
     "output_type": "execute_result"
    }
   ],
   "source": [
    "Train = subset(letters, split == TRUE)\n",
    "nrow(Train)\n",
    "Test = subset(letters, split == FALSE)\n",
    "nrow(Test)"
   ]
  },
  {
   "cell_type": "code",
   "execution_count": 14,
   "metadata": {
    "collapsed": false
   },
   "outputs": [
    {
     "data": {
      "text/plain": [
       "\n",
       "FALSE  TRUE \n",
       " 1175   383 "
      ]
     },
     "execution_count": 14,
     "metadata": {},
     "output_type": "execute_result"
    }
   ],
   "source": [
    "table(Train$isB)"
   ]
  },
  {
   "cell_type": "code",
   "execution_count": 15,
   "metadata": {
    "collapsed": false
   },
   "outputs": [
    {
     "data": {
      "text/html": [
       "0.754172015404365"
      ],
      "text/latex": [
       "0.754172015404365"
      ],
      "text/markdown": [
       "0.754172015404365"
      ],
      "text/plain": [
       "[1] 0.754172"
      ]
     },
     "execution_count": 15,
     "metadata": {},
     "output_type": "execute_result"
    }
   ],
   "source": [
    "1175/(1175+383)"
   ]
  },
  {
   "cell_type": "code",
   "execution_count": 16,
   "metadata": {
    "collapsed": false
   },
   "outputs": [
    {
     "name": "stderr",
     "output_type": "stream",
     "text": [
      "Warning message:\n",
      ": package ‘rpart.plot’ was built under R version 3.3.0"
     ]
    }
   ],
   "source": [
    "library(\"rpart\")\n",
    "library(\"rpart.plot\")"
   ]
  },
  {
   "cell_type": "code",
   "execution_count": 19,
   "metadata": {
    "collapsed": false
   },
   "outputs": [],
   "source": [
    "CARTb = rpart(isB ~ . - letter, data = Train, method = \"class\")"
   ]
  },
  {
   "cell_type": "code",
   "execution_count": 21,
   "metadata": {
    "collapsed": true
   },
   "outputs": [],
   "source": [
    "bPredTest = predict(CARTb, newdata = Test, type = \"class\")"
   ]
  },
  {
   "cell_type": "code",
   "execution_count": 22,
   "metadata": {
    "collapsed": true
   },
   "outputs": [],
   "source": [
    "t = table(Test$isB,bPredTest)"
   ]
  },
  {
   "cell_type": "code",
   "execution_count": 23,
   "metadata": {
    "collapsed": false
   },
   "outputs": [
    {
     "data": {
      "text/plain": [
       "       bPredTest\n",
       "        FALSE TRUE\n",
       "  FALSE  1118   57\n",
       "  TRUE     43  340"
      ]
     },
     "execution_count": 23,
     "metadata": {},
     "output_type": "execute_result"
    }
   ],
   "source": [
    "t"
   ]
  },
  {
   "cell_type": "code",
   "execution_count": 24,
   "metadata": {
    "collapsed": false
   },
   "outputs": [
    {
     "data": {
      "text/html": [
       "0.93581514762516"
      ],
      "text/latex": [
       "0.93581514762516"
      ],
      "text/markdown": [
       "0.93581514762516"
      ],
      "text/plain": [
       "[1] 0.9358151"
      ]
     },
     "execution_count": 24,
     "metadata": {},
     "output_type": "execute_result"
    }
   ],
   "source": [
    "sum(diag(t))/sum(t)"
   ]
  },
  {
   "cell_type": "code",
   "execution_count": 25,
   "metadata": {
    "collapsed": false
   },
   "outputs": [
    {
     "name": "stderr",
     "output_type": "stream",
     "text": [
      "randomForest 4.6-12\n",
      "Type rfNews() to see new features/changes/bug fixes.\n"
     ]
    }
   ],
   "source": [
    "library(\"randomForest\")"
   ]
  },
  {
   "cell_type": "code",
   "execution_count": 26,
   "metadata": {
    "collapsed": true
   },
   "outputs": [],
   "source": [
    "set.seed(1000)\n",
    "bForest = randomForest(isB ~ . - letter, data = Train)"
   ]
  },
  {
   "cell_type": "code",
   "execution_count": 27,
   "metadata": {
    "collapsed": true
   },
   "outputs": [],
   "source": [
    "bForestPredTest = predict(bForest, newdata = Test)"
   ]
  },
  {
   "cell_type": "code",
   "execution_count": 28,
   "metadata": {
    "collapsed": true
   },
   "outputs": [],
   "source": [
    "t = table(Test$isB,bForestPredTest)"
   ]
  },
  {
   "cell_type": "code",
   "execution_count": 29,
   "metadata": {
    "collapsed": false
   },
   "outputs": [
    {
     "data": {
      "text/plain": [
       "       bForestPredTest\n",
       "        FALSE TRUE\n",
       "  FALSE  1165   10\n",
       "  TRUE      9  374"
      ]
     },
     "execution_count": 29,
     "metadata": {},
     "output_type": "execute_result"
    }
   ],
   "source": [
    "t"
   ]
  },
  {
   "cell_type": "code",
   "execution_count": 30,
   "metadata": {
    "collapsed": false
   },
   "outputs": [
    {
     "data": {
      "text/html": [
       "0.98780487804878"
      ],
      "text/latex": [
       "0.98780487804878"
      ],
      "text/markdown": [
       "0.98780487804878"
      ],
      "text/plain": [
       "[1] 0.9878049"
      ]
     },
     "execution_count": 30,
     "metadata": {},
     "output_type": "execute_result"
    }
   ],
   "source": [
    "sum(diag(t))/sum(t)"
   ]
  },
  {
   "cell_type": "markdown",
   "metadata": {},
   "source": [
    "Let us now move on to the problem that we were originally interested in, which is to predict whether or not a letter is one of the four letters A, B, P or R.\n",
    "\n",
    "As we saw in the D2Hawkeye lecture, building a multiclass classification CART model in R is no harder than building the models for binary classification problems. Fortunately, building a random forest model is just as easy.\n",
    "\n",
    "The variable in our data frame which we will be trying to predict is \"letter\". Start by converting letter in the original data set (letters) to a factor by running the following command in R:\n",
    "\n"
   ]
  },
  {
   "cell_type": "code",
   "execution_count": 31,
   "metadata": {
    "collapsed": true
   },
   "outputs": [],
   "source": [
    "letters$letter = as.factor(letters$letter)"
   ]
  },
  {
   "cell_type": "code",
   "execution_count": 32,
   "metadata": {
    "collapsed": true
   },
   "outputs": [],
   "source": [
    "set.seed(2000)"
   ]
  },
  {
   "cell_type": "code",
   "execution_count": 33,
   "metadata": {
    "collapsed": true
   },
   "outputs": [],
   "source": [
    "split = sample.split(letters$letter, SplitRatio =  0.5)"
   ]
  },
  {
   "cell_type": "code",
   "execution_count": 34,
   "metadata": {
    "collapsed": true
   },
   "outputs": [],
   "source": [
    "Train1 = subset(letters, split == TRUE)\n",
    "Test1 = subset(letters, split == FALSE)"
   ]
  },
  {
   "cell_type": "code",
   "execution_count": 36,
   "metadata": {
    "collapsed": false
   },
   "outputs": [
    {
     "data": {
      "text/plain": [
       "\n",
       "  A   B   P   R \n",
       "394 383 402 379 "
      ]
     },
     "execution_count": 36,
     "metadata": {},
     "output_type": "execute_result"
    }
   ],
   "source": [
    "table(Train1$letter)"
   ]
  },
  {
   "cell_type": "code",
   "execution_count": 37,
   "metadata": {
    "collapsed": false
   },
   "outputs": [
    {
     "data": {
      "text/html": [
       "0.258023106546855"
      ],
      "text/latex": [
       "0.258023106546855"
      ],
      "text/markdown": [
       "0.258023106546855"
      ],
      "text/plain": [
       "[1] 0.2580231"
      ]
     },
     "execution_count": 37,
     "metadata": {},
     "output_type": "execute_result"
    }
   ],
   "source": [
    "402/nrow(Train1)"
   ]
  },
  {
   "cell_type": "code",
   "execution_count": 38,
   "metadata": {
    "collapsed": true
   },
   "outputs": [],
   "source": [
    "CARTall = rpart(letter~.-isB, data = Train1, method = \"class\")"
   ]
  },
  {
   "cell_type": "code",
   "execution_count": 39,
   "metadata": {
    "collapsed": true
   },
   "outputs": [],
   "source": [
    "allPredTest = predict(CARTall, newdata = Test1, type = \"class\")"
   ]
  },
  {
   "cell_type": "code",
   "execution_count": 40,
   "metadata": {
    "collapsed": false
   },
   "outputs": [
    {
     "data": {
      "text/plain": [
       "   allPredTest\n",
       "      A   B   P   R\n",
       "  A 348   4   0  43\n",
       "  B   8 318  12  45\n",
       "  P   2  21 363  15\n",
       "  R  10  24   5 340"
      ]
     },
     "execution_count": 40,
     "metadata": {},
     "output_type": "execute_result"
    }
   ],
   "source": [
    "t = table(Test1$letter, allPredTest)\n",
    "t"
   ]
  },
  {
   "cell_type": "code",
   "execution_count": 41,
   "metadata": {
    "collapsed": false
   },
   "outputs": [
    {
     "data": {
      "text/html": [
       "0.878690629011553"
      ],
      "text/latex": [
       "0.878690629011553"
      ],
      "text/markdown": [
       "0.878690629011553"
      ],
      "text/plain": [
       "[1] 0.8786906"
      ]
     },
     "execution_count": 41,
     "metadata": {},
     "output_type": "execute_result"
    }
   ],
   "source": [
    "sum(diag(t))/sum(t)"
   ]
  },
  {
   "cell_type": "code",
   "execution_count": 42,
   "metadata": {
    "collapsed": true
   },
   "outputs": [],
   "source": [
    "set.seed(1000)\n",
    "allForest = randomForest(letter~.-isB, data = Train1)"
   ]
  },
  {
   "cell_type": "code",
   "execution_count": 43,
   "metadata": {
    "collapsed": true
   },
   "outputs": [],
   "source": [
    "allPredForestTest = predict(allForest, newdata = Test1)"
   ]
  },
  {
   "cell_type": "code",
   "execution_count": 44,
   "metadata": {
    "collapsed": true
   },
   "outputs": [],
   "source": [
    "t = table(Test1$letter,allPredForestTest)"
   ]
  },
  {
   "cell_type": "code",
   "execution_count": 45,
   "metadata": {
    "collapsed": false
   },
   "outputs": [
    {
     "data": {
      "text/plain": [
       "   allPredForestTest\n",
       "      A   B   P   R\n",
       "  A 390   0   3   2\n",
       "  B   0 380   1   2\n",
       "  P   0   5 393   3\n",
       "  R   3  12   0 364"
      ]
     },
     "execution_count": 45,
     "metadata": {},
     "output_type": "execute_result"
    }
   ],
   "source": [
    "t"
   ]
  },
  {
   "cell_type": "code",
   "execution_count": 46,
   "metadata": {
    "collapsed": false
   },
   "outputs": [
    {
     "data": {
      "text/html": [
       "0.9801026957638"
      ],
      "text/latex": [
       "0.9801026957638"
      ],
      "text/markdown": [
       "0.9801026957638"
      ],
      "text/plain": [
       "[1] 0.9801027"
      ]
     },
     "execution_count": 46,
     "metadata": {},
     "output_type": "execute_result"
    }
   ],
   "source": [
    "sum(diag(t))/sum(t)"
   ]
  },
  {
   "cell_type": "code",
   "execution_count": null,
   "metadata": {
    "collapsed": true
   },
   "outputs": [],
   "source": []
  }
 ],
 "metadata": {
  "kernelspec": {
   "display_name": "R",
   "language": "R",
   "name": "ir"
  },
  "language_info": {
   "codemirror_mode": "r",
   "file_extension": ".r",
   "mimetype": "text/x-r-source",
   "name": "R",
   "pygments_lexer": "r",
   "version": "3.2.2"
  }
 },
 "nbformat": 4,
 "nbformat_minor": 0
}
