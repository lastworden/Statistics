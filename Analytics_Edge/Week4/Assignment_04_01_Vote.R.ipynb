{
 "cells": [
  {
   "cell_type": "markdown",
   "metadata": {},
   "source": [
    "https://courses.edx.org/courses/course-v1:MITx+15.071x_3+1T2016/courseware/3372864201764d6d9f63931920e5152e/ab08d73980f046479d3bcd105a55b0c2/"
   ]
  },
  {
   "cell_type": "code",
   "execution_count": 2,
   "metadata": {
    "collapsed": false
   },
   "outputs": [
    {
     "name": "stdout",
     "output_type": "stream",
     "text": [
      "'data.frame':\t344084 obs. of  8 variables:\n",
      " $ sex      : int  0 1 1 1 0 1 0 0 1 0 ...\n",
      " $ yob      : int  1941 1947 1982 1950 1951 1959 1956 1981 1968 1967 ...\n",
      " $ voting   : int  0 0 1 1 1 1 1 0 0 0 ...\n",
      " $ hawthorne: int  0 0 1 1 1 0 0 0 0 0 ...\n",
      " $ civicduty: int  1 1 0 0 0 0 0 0 0 0 ...\n",
      " $ neighbors: int  0 0 0 0 0 0 0 0 0 0 ...\n",
      " $ self     : int  0 0 0 0 0 0 0 0 0 0 ...\n",
      " $ control  : int  0 0 0 0 0 1 1 1 1 1 ...\n"
     ]
    },
    {
     "data": {
      "text/plain": [
       "\n",
       "     0      1 \n",
       "152841 191243 "
      ]
     },
     "execution_count": 2,
     "metadata": {},
     "output_type": "execute_result"
    },
    {
     "data": {
      "text/html": [
       "0.315899605910185"
      ],
      "text/latex": [
       "0.315899605910185"
      ],
      "text/markdown": [
       "0.315899605910185"
      ],
      "text/plain": [
       "[1] 0.3158996"
      ]
     },
     "execution_count": 2,
     "metadata": {},
     "output_type": "execute_result"
    }
   ],
   "source": [
    "\n",
    "gerber = read.csv(\"gerber.csv\")\n",
    "\n",
    "str(gerber)\n",
    "\n",
    "table(gerber$control)\n",
    "\n",
    "mean(gerber$voting)\n"
   ]
  },
  {
   "cell_type": "code",
   "execution_count": 19,
   "metadata": {
    "collapsed": false
   },
   "outputs": [
    {
     "data": {
      "text/plain": [
       "   \n",
       "         0      1\n",
       "  0 211625  23763\n",
       "  1  94258  14438"
      ]
     },
     "execution_count": 19,
     "metadata": {},
     "output_type": "execute_result"
    }
   ],
   "source": [
    "table(gerber$voting, gerber$neighbors)\n"
   ]
  },
  {
   "cell_type": "code",
   "execution_count": 14,
   "metadata": {
    "collapsed": false
   },
   "outputs": [
    {
     "data": {
      "text/html": [
       "0.314537652415092"
      ],
      "text/latex": [
       "0.314537652415092"
      ],
      "text/markdown": [
       "0.314537652415092"
      ],
      "text/plain": [
       "[1] 0.3145377"
      ]
     },
     "execution_count": 14,
     "metadata": {},
     "output_type": "execute_result"
    }
   ],
   "source": [
    "12021/(12021+26197)"
   ]
  },
  {
   "cell_type": "code",
   "execution_count": 16,
   "metadata": {
    "collapsed": false
   },
   "outputs": [
    {
     "data": {
      "text/html": [
       "0.322374620458591"
      ],
      "text/latex": [
       "0.322374620458591"
      ],
      "text/markdown": [
       "0.322374620458591"
      ],
      "text/plain": [
       "[1] 0.3223746"
      ]
     },
     "execution_count": 16,
     "metadata": {},
     "output_type": "execute_result"
    }
   ],
   "source": [
    "12316/(12316+25888)"
   ]
  },
  {
   "cell_type": "code",
   "execution_count": 18,
   "metadata": {
    "collapsed": false
   },
   "outputs": [
    {
     "data": {
      "text/html": [
       "0.345151499293527"
      ],
      "text/latex": [
       "0.345151499293527"
      ],
      "text/markdown": [
       "0.345151499293527"
      ],
      "text/plain": [
       "[1] 0.3451515"
      ]
     },
     "execution_count": 18,
     "metadata": {},
     "output_type": "execute_result"
    }
   ],
   "source": [
    "13191/(13191+25027)"
   ]
  },
  {
   "cell_type": "code",
   "execution_count": 20,
   "metadata": {
    "collapsed": false
   },
   "outputs": [
    {
     "data": {
      "text/html": [
       "0.377948221250753"
      ],
      "text/latex": [
       "0.377948221250753"
      ],
      "text/markdown": [
       "0.377948221250753"
      ],
      "text/plain": [
       "[1] 0.3779482"
      ]
     },
     "execution_count": 20,
     "metadata": {},
     "output_type": "execute_result"
    }
   ],
   "source": [
    "14438/(14438+23763)"
   ]
  },
  {
   "cell_type": "code",
   "execution_count": 21,
   "metadata": {
    "collapsed": false
   },
   "outputs": [
    {
     "data": {
      "text/html": [
       "<dl class=dl-horizontal>\n",
       "\t<dt>0</dt>\n",
       "\t\t<dd>0.316069782192202</dd>\n",
       "\t<dt>1</dt>\n",
       "\t\t<dd>0.314537652415092</dd>\n",
       "</dl>\n"
      ],
      "text/latex": [
       "\\begin{description*}\n",
       "\\item[0] 0.316069782192202\n",
       "\\item[1] 0.314537652415092\n",
       "\\end{description*}\n"
      ],
      "text/markdown": [
       "0\n",
       ":   0.3160697821922021\n",
       ":   0.314537652415092\n",
       "\n"
      ],
      "text/plain": [
       "        0         1 \n",
       "0.3160698 0.3145377 "
      ]
     },
     "execution_count": 21,
     "metadata": {},
     "output_type": "execute_result"
    }
   ],
   "source": [
    "tapply(gerber$voting, gerber$civicduty, mean)"
   ]
  },
  {
   "cell_type": "code",
   "execution_count": 26,
   "metadata": {
    "collapsed": true
   },
   "outputs": [],
   "source": [
    "gerberLog = glm(voting~hawthorne+civicduty+self+neighbors, data = gerber, family = binomial)"
   ]
  },
  {
   "cell_type": "code",
   "execution_count": 27,
   "metadata": {
    "collapsed": false
   },
   "outputs": [
    {
     "data": {
      "text/plain": [
       "\n",
       "Call:\n",
       "glm(formula = voting ~ hawthorne + civicduty + self + neighbors, \n",
       "    family = binomial, data = gerber)\n",
       "\n",
       "Deviance Residuals: \n",
       "    Min       1Q   Median       3Q      Max  \n",
       "-0.9744  -0.8691  -0.8389   1.4586   1.5590  \n",
       "\n",
       "Coefficients:\n",
       "             Estimate Std. Error  z value Pr(>|z|)    \n",
       "(Intercept) -0.863358   0.005006 -172.459  < 2e-16 ***\n",
       "hawthorne    0.120477   0.012037   10.009  < 2e-16 ***\n",
       "civicduty    0.084368   0.012100    6.972 3.12e-12 ***\n",
       "self         0.222937   0.011867   18.786  < 2e-16 ***\n",
       "neighbors    0.365092   0.011679   31.260  < 2e-16 ***\n",
       "---\n",
       "Signif. codes:  0 ‘***’ 0.001 ‘**’ 0.01 ‘*’ 0.05 ‘.’ 0.1 ‘ ’ 1\n",
       "\n",
       "(Dispersion parameter for binomial family taken to be 1)\n",
       "\n",
       "    Null deviance: 429238  on 344083  degrees of freedom\n",
       "Residual deviance: 428090  on 344079  degrees of freedom\n",
       "AIC: 428100\n",
       "\n",
       "Number of Fisher Scoring iterations: 4\n"
      ]
     },
     "execution_count": 27,
     "metadata": {},
     "output_type": "execute_result"
    }
   ],
   "source": [
    "summary(gerberLog)"
   ]
  },
  {
   "cell_type": "code",
   "execution_count": 29,
   "metadata": {
    "collapsed": false
   },
   "outputs": [],
   "source": [
    "predGerber1 = predict(gerberLog, type = \"response\")"
   ]
  },
  {
   "cell_type": "code",
   "execution_count": 42,
   "metadata": {
    "collapsed": false
   },
   "outputs": [
    {
     "data": {
      "text/plain": [
       "   \n",
       "     FALSE\n",
       "  0 235388\n",
       "  1 108696"
      ]
     },
     "execution_count": 42,
     "metadata": {},
     "output_type": "execute_result"
    }
   ],
   "source": [
    "t = table(gerber$voting,predGerber1>0.5)\n",
    "t"
   ]
  },
  {
   "cell_type": "code",
   "execution_count": 43,
   "metadata": {
    "collapsed": false
   },
   "outputs": [
    {
     "data": {
      "text/html": [
       "0.684100394089815"
      ],
      "text/latex": [
       "0.684100394089815"
      ],
      "text/markdown": [
       "0.684100394089815"
      ],
      "text/plain": [
       "[1] 0.6841004"
      ]
     },
     "execution_count": 43,
     "metadata": {},
     "output_type": "execute_result"
    }
   ],
   "source": [
    "235388/sum(t)"
   ]
  },
  {
   "cell_type": "code",
   "execution_count": 44,
   "metadata": {
    "collapsed": false
   },
   "outputs": [
    {
     "data": {
      "text/html": [
       "0.541957777751944"
      ],
      "text/latex": [
       "0.541957777751944"
      ],
      "text/markdown": [
       "0.541957777751944"
      ],
      "text/plain": [
       "[1] 0.5419578"
      ]
     },
     "execution_count": 44,
     "metadata": {},
     "output_type": "execute_result"
    }
   ],
   "source": [
    "0.541957777751944"
   ]
  },
  {
   "cell_type": "code",
   "execution_count": 45,
   "metadata": {
    "collapsed": false
   },
   "outputs": [
    {
     "name": "stderr",
     "output_type": "stream",
     "text": [
      "Loading required package: gplots\n",
      "\n",
      "Attaching package: ‘gplots’\n",
      "\n",
      "The following object is masked from ‘package:stats’:\n",
      "\n",
      "    lowess\n",
      "\n"
     ]
    }
   ],
   "source": [
    "library(ROCR)"
   ]
  },
  {
   "cell_type": "code",
   "execution_count": 46,
   "metadata": {
    "collapsed": true
   },
   "outputs": [],
   "source": [
    "ROCRPred = prediction(predGerber1,gerber$voting)"
   ]
  },
  {
   "cell_type": "code",
   "execution_count": 47,
   "metadata": {
    "collapsed": true
   },
   "outputs": [],
   "source": [
    "auc = as.numeric(performance(ROCRPred,\"auc\")@y.values)"
   ]
  },
  {
   "cell_type": "code",
   "execution_count": 48,
   "metadata": {
    "collapsed": false
   },
   "outputs": [
    {
     "data": {
      "text/html": [
       "0.530846149206405"
      ],
      "text/latex": [
       "0.530846149206405"
      ],
      "text/markdown": [
       "0.530846149206405"
      ],
      "text/plain": [
       "[1] 0.5308461"
      ]
     },
     "execution_count": 48,
     "metadata": {},
     "output_type": "execute_result"
    }
   ],
   "source": [
    "auc"
   ]
  },
  {
   "cell_type": "code",
   "execution_count": 51,
   "metadata": {
    "collapsed": false
   },
   "outputs": [
    {
     "data": {
      "text/html": [
       "0.684100394089815"
      ],
      "text/latex": [
       "0.684100394089815"
      ],
      "text/markdown": [
       "0.684100394089815"
      ],
      "text/plain": [
       "[1] 0.6841004"
      ]
     },
     "execution_count": 51,
     "metadata": {},
     "output_type": "execute_result"
    }
   ],
   "source": [
    "1-mean(gerber$voting)"
   ]
  },
  {
   "cell_type": "code",
   "execution_count": 53,
   "metadata": {
    "collapsed": true
   },
   "outputs": [],
   "source": [
    "library(\"rpart\")"
   ]
  },
  {
   "cell_type": "code",
   "execution_count": 54,
   "metadata": {
    "collapsed": false
   },
   "outputs": [
    {
     "name": "stderr",
     "output_type": "stream",
     "text": [
      "Warning message:\n",
      ": package ‘rpart.plot’ was built under R version 3.3.0"
     ]
    }
   ],
   "source": [
    "library(\"rpart.plot\")"
   ]
  },
  {
   "cell_type": "code",
   "execution_count": 55,
   "metadata": {
    "collapsed": false
   },
   "outputs": [],
   "source": [
    "CARTmodel = rpart(voting ~ civicduty + hawthorne + self + neighbors, data=gerber)"
   ]
  },
  {
   "cell_type": "code",
   "execution_count": 58,
   "metadata": {
    "collapsed": false
   },
   "outputs": [
    {
     "data": {
      "image/png": "[encoded data removed]",
      "image/svg+xml": [
       "<?xml version=\"1.0\" encoding=\"UTF-8\"?>\n",
       "<svg xmlns=\"http://www.w3.org/2000/svg\" xmlns:xlink=\"http://www.w3.org/1999/xlink\" width=\"504pt\" height=\"504pt\" viewBox=\"0 0 504 504\" version=\"1.1\">\n",
       "<defs>\n",
       "<g>\n",
       "<symbol overflow=\"visible\" id=\"glyph0-0\">\n",
       "<path style=\"stroke:none;\" d=\"\"/>\n",
       "</symbol>\n",
       "<symbol overflow=\"visible\" id=\"glyph0-1\">\n",
       "<path style=\"stroke:none;\" d=\"M 3.296875 -8.515625 C 2.515625 -8.515625 1.78125 -8.15625 1.34375 -7.578125 C 0.796875 -6.828125 0.515625 -5.6875 0.515625 -4.109375 C 0.515625 -1.25 1.46875 0.28125 3.296875 0.28125 C 5.09375 0.28125 6.078125 -1.25 6.078125 -4.046875 C 6.078125 -5.703125 5.8125 -6.796875 5.25 -7.578125 C 4.8125 -8.171875 4.109375 -8.515625 3.296875 -8.515625 Z M 3.296875 -7.578125 C 4.4375 -7.578125 5 -6.421875 5 -4.140625 C 5 -1.734375 4.453125 -0.59375 3.28125 -0.59375 C 2.15625 -0.59375 1.59375 -1.78125 1.59375 -4.109375 C 1.59375 -6.4375 2.15625 -7.578125 3.296875 -7.578125 Z \"/>\n",
       "</symbol>\n",
       "<symbol overflow=\"visible\" id=\"glyph0-2\">\n",
       "<path style=\"stroke:none;\" d=\"M 2.296875 -1.25 L 1.046875 -1.25 L 1.046875 0 L 2.296875 0 Z \"/>\n",
       "</symbol>\n",
       "<symbol overflow=\"visible\" id=\"glyph0-3\">\n",
       "<path style=\"stroke:none;\" d=\"M 2.65625 -3.90625 L 3.234375 -3.90625 C 4.390625 -3.90625 4.984375 -3.390625 4.984375 -2.359375 C 4.984375 -1.296875 4.328125 -0.65625 3.234375 -0.65625 C 2.078125 -0.65625 1.515625 -1.234375 1.4375 -2.46875 L 0.390625 -2.46875 C 0.4375 -1.78125 0.546875 -1.34375 0.75 -0.953125 C 1.1875 -0.140625 2.03125 0.28125 3.1875 0.28125 C 4.9375 0.28125 6.078125 -0.765625 6.078125 -2.375 C 6.078125 -3.453125 5.65625 -4.0625 4.625 -4.40625 C 5.421875 -4.71875 5.8125 -5.3125 5.8125 -6.171875 C 5.8125 -7.625 4.84375 -8.515625 3.234375 -8.515625 C 1.515625 -8.515625 0.59375 -7.578125 0.5625 -5.765625 L 1.625 -5.765625 C 1.625 -6.28125 1.6875 -6.5625 1.8125 -6.828125 C 2.046875 -7.296875 2.578125 -7.578125 3.234375 -7.578125 C 4.171875 -7.578125 4.734375 -7.03125 4.734375 -6.125 C 4.734375 -5.53125 4.53125 -5.171875 4.0625 -4.984375 C 3.765625 -4.859375 3.390625 -4.8125 2.65625 -4.796875 Z \"/>\n",
       "</symbol>\n",
       "<symbol overflow=\"visible\" id=\"glyph0-4\">\n",
       "<path style=\"stroke:none;\" d=\"M 6.078125 -1.046875 L 1.59375 -1.046875 C 1.703125 -1.734375 2.09375 -2.1875 3.125 -2.796875 L 4.328125 -3.4375 C 5.515625 -4.09375 6.125 -4.96875 6.125 -6.015625 C 6.125 -6.71875 5.84375 -7.375 5.34375 -7.84375 C 4.84375 -8.296875 4.21875 -8.515625 3.40625 -8.515625 C 2.328125 -8.515625 1.53125 -8.125 1.0625 -7.40625 C 0.75 -6.953125 0.625 -6.421875 0.59375 -5.5625 L 1.65625 -5.5625 C 1.6875 -6.125 1.765625 -6.484375 1.90625 -6.75 C 2.1875 -7.265625 2.734375 -7.578125 3.375 -7.578125 C 4.328125 -7.578125 5.046875 -6.90625 5.046875 -5.984375 C 5.046875 -5.3125 4.65625 -4.734375 3.90625 -4.3125 L 2.796875 -3.6875 C 1.015625 -2.671875 0.5 -1.875 0.40625 0 L 6.078125 0 Z \"/>\n",
       "</symbol>\n",
       "</g>\n",
       "</defs>\n",
       "<g id=\"surface14\">\n",
       "<rect x=\"0\" y=\"0\" width=\"504\" height=\"504\" style=\"fill:rgb(100%,100%,100%);fill-opacity:1;stroke:none;\"/>\n",
       "<path style=\"fill-rule:nonzero;fill:rgb(100%,100%,100%);fill-opacity:1;stroke-width:0.75;stroke-linecap:round;stroke-linejoin:round;stroke:rgb(0%,0%,0%);stroke-opacity:1;stroke-miterlimit:10;\" d=\"M 235.324219 247.691406 L 235.621094 245.460938 L 236.480469 243.382812 L 237.847656 241.597656 L 239.632812 240.230469 L 241.710938 239.371094 L 243.941406 239.074219 L 260.058594 239.074219 L 262.289062 239.371094 L 264.367188 240.230469 L 266.152344 241.597656 L 267.519531 243.382812 L 268.378906 245.460938 L 268.675781 247.691406 L 268.378906 249.921875 L 267.519531 252 L 266.152344 253.785156 L 264.367188 255.152344 L 262.289062 256.015625 L 260.058594 256.308594 L 243.941406 256.308594 L 241.710938 256.015625 L 239.632812 255.152344 L 237.847656 253.785156 L 236.480469 252 L 235.621094 249.921875 Z \"/>\n",
       "<g style=\"fill:rgb(0%,0%,0%);fill-opacity:1;\">\n",
       "  <use xlink:href=\"#glyph0-1\" x=\"240\" y=\"251.126953\"/>\n",
       "  <use xlink:href=\"#glyph0-2\" x=\"246.671875\" y=\"251.126953\"/>\n",
       "  <use xlink:href=\"#glyph0-3\" x=\"250.007812\" y=\"251.126953\"/>\n",
       "  <use xlink:href=\"#glyph0-4\" x=\"256.679688\" y=\"251.126953\"/>\n",
       "</g>\n",
       "</g>\n",
       "</svg>\n"
      ],
      "text/plain": [
       "plot without title"
      ]
     },
     "metadata": {
      "image/svg+xml": {
       "isolated": true
      }
     },
     "output_type": "display_data"
    }
   ],
   "source": [
    "prp(CARTmodel)"
   ]
  },
  {
   "cell_type": "code",
   "execution_count": 59,
   "metadata": {
    "collapsed": true
   },
   "outputs": [],
   "source": [
    "CARTmodel2 = rpart(voting ~ civicduty + hawthorne + self + neighbors, data=gerber, cp=0.0)"
   ]
  },
  {
   "cell_type": "code",
   "execution_count": 60,
   "metadata": {
    "collapsed": false
   },
   "outputs": [
    {
     "data": {
      "image/png": "[encoded data removed]",
      "image/svg+xml": [
       "<?xml version=\"1.0\" encoding=\"UTF-8\"?>\n",
       "<svg xmlns=\"http://www.w3.org/2000/svg\" xmlns:xlink=\"http://www.w3.org/1999/xlink\" width=\"504pt\" height=\"504pt\" viewBox=\"0 0 504 504\" version=\"1.1\">\n",
       "<defs>\n",
       "<g>\n",
       "<symbol overflow=\"visible\" id=\"glyph0-0\">\n",
       "<path style=\"stroke:none;\" d=\"\"/>\n",
       "</symbol>\n",
       "<symbol overflow=\"visible\" id=\"glyph0-1\">\n",
       "<path style=\"stroke:none;\" d=\"M 0.75 -6.484375 L 0.75 0 L 2.4375 0 L 2.4375 -3.890625 C 2.4375 -4.65625 2.96875 -5.15625 3.796875 -5.15625 C 4.515625 -5.15625 4.875 -4.765625 4.875 -4 L 4.875 0 L 6.546875 0 L 6.546875 -4.34375 C 6.546875 -5.765625 5.765625 -6.59375 4.375 -6.59375 C 3.5 -6.59375 2.921875 -6.265625 2.4375 -5.546875 L 2.4375 -6.484375 Z \"/>\n",
       "</symbol>\n",
       "<symbol overflow=\"visible\" id=\"glyph0-2\">\n",
       "<path style=\"stroke:none;\" d=\"M 6.28125 -2.71875 C 6.296875 -2.859375 6.296875 -2.921875 6.296875 -3 C 6.296875 -3.640625 6.203125 -4.25 6.046875 -4.703125 C 5.609375 -5.875 4.578125 -6.59375 3.265625 -6.59375 C 1.40625 -6.59375 0.265625 -5.25 0.265625 -3.078125 C 0.265625 -1 1.390625 0.28125 3.234375 0.28125 C 4.6875 0.28125 5.859375 -0.546875 6.234375 -1.828125 L 4.578125 -1.828125 C 4.375 -1.3125 3.90625 -1.015625 3.28125 -1.015625 C 2.8125 -1.015625 2.421875 -1.21875 2.1875 -1.578125 C 2.03125 -1.8125 1.96875 -2.09375 1.9375 -2.71875 Z M 1.96875 -3.828125 C 2.078125 -4.8125 2.5 -5.296875 3.234375 -5.296875 C 3.65625 -5.296875 4.046875 -5.09375 4.28125 -4.765625 C 4.4375 -4.53125 4.515625 -4.265625 4.546875 -3.828125 Z \"/>\n",
       "</symbol>\n",
       "<symbol overflow=\"visible\" id=\"glyph0-3\">\n",
       "<path style=\"stroke:none;\" d=\"M 2.484375 -6.484375 L 0.796875 -6.484375 L 0.796875 0 L 2.484375 0 Z M 2.484375 -8.75 L 0.796875 -8.75 L 0.796875 -7.25 L 2.484375 -7.25 Z \"/>\n",
       "</symbol>\n",
       "<symbol overflow=\"visible\" id=\"glyph0-4\">\n",
       "<path style=\"stroke:none;\" d=\"M 4.890625 -6.484375 L 4.890625 -5.484375 C 4.390625 -6.25 3.84375 -6.59375 3.09375 -6.59375 C 1.5625 -6.59375 0.40625 -5.09375 0.40625 -3.078125 C 0.40625 -1.0625 1.46875 0.28125 3.0625 0.28125 C 3.8125 0.28125 4.265625 0.046875 4.890625 -0.65625 L 4.890625 0.21875 C 4.890625 1 4.3125 1.53125 3.46875 1.53125 C 2.828125 1.53125 2.40625 1.265625 2.28125 0.78125 L 0.546875 0.78125 C 0.546875 1.28125 0.75 1.625 1.171875 1.984375 C 1.6875 2.40625 2.40625 2.609375 3.40625 2.609375 C 5.359375 2.609375 6.484375 1.734375 6.484375 0.21875 L 6.484375 -6.484375 Z M 3.453125 -5.1875 C 4.296875 -5.1875 4.921875 -4.3125 4.921875 -3.109375 C 4.921875 -1.9375 4.3125 -1.125 3.4375 -1.125 C 2.640625 -1.125 2.09375 -1.9375 2.09375 -3.109375 C 2.09375 -4.328125 2.640625 -5.1875 3.453125 -5.1875 Z \"/>\n",
       "</symbol>\n",
       "<symbol overflow=\"visible\" id=\"glyph0-5\">\n",
       "<path style=\"stroke:none;\" d=\"M 0.796875 -8.75 L 0.796875 0 L 2.484375 0 L 2.484375 -3.890625 C 2.484375 -4.625 3.03125 -5.15625 3.78125 -5.15625 C 4.140625 -5.15625 4.421875 -5.03125 4.625 -4.765625 C 4.765625 -4.546875 4.8125 -4.375 4.8125 -3.953125 L 4.8125 0 L 6.484375 0 L 6.484375 -4.34375 C 6.484375 -5.140625 6.28125 -5.71875 5.828125 -6.09375 C 5.453125 -6.40625 4.921875 -6.59375 4.375 -6.59375 C 3.546875 -6.59375 2.953125 -6.25 2.484375 -5.546875 L 2.484375 -8.75 Z \"/>\n",
       "</symbol>\n",
       "<symbol overflow=\"visible\" id=\"glyph0-6\">\n",
       "<path style=\"stroke:none;\" d=\"M 0.703125 -8.75 L 0.703125 0 L 2.390625 0 L 2.390625 -0.65625 C 2.796875 -0.03125 3.359375 0.28125 4.171875 0.28125 C 5.71875 0.28125 6.90625 -1.203125 6.90625 -3.15625 C 6.90625 -4.03125 6.640625 -4.921875 6.203125 -5.546875 C 5.765625 -6.1875 4.96875 -6.59375 4.171875 -6.59375 C 3.375 -6.59375 2.796875 -6.28125 2.390625 -5.640625 L 2.390625 -8.75 Z M 3.796875 -5.1875 C 4.625 -5.1875 5.21875 -4.34375 5.21875 -3.140625 C 5.21875 -1.96875 4.625 -1.125 3.796875 -1.125 C 2.953125 -1.125 2.390625 -1.9375 2.390625 -3.1875 C 2.390625 -4.359375 2.96875 -5.1875 3.796875 -5.1875 Z \"/>\n",
       "</symbol>\n",
       "<symbol overflow=\"visible\" id=\"glyph0-7\">\n",
       "<path style=\"stroke:none;\" d=\"M 3.609375 -6.59375 C 1.625 -6.59375 0.421875 -5.28125 0.421875 -3.15625 C 0.421875 -1.015625 1.625 0.28125 3.625 0.28125 C 5.59375 0.28125 6.828125 -1.03125 6.828125 -3.109375 C 6.828125 -5.296875 5.640625 -6.59375 3.609375 -6.59375 Z M 3.625 -5.234375 C 4.546875 -5.234375 5.140625 -4.40625 5.140625 -3.125 C 5.140625 -1.921875 4.53125 -1.078125 3.625 -1.078125 C 2.71875 -1.078125 2.09375 -1.921875 2.09375 -3.15625 C 2.09375 -4.390625 2.71875 -5.234375 3.625 -5.234375 Z \"/>\n",
       "</symbol>\n",
       "<symbol overflow=\"visible\" id=\"glyph0-8\">\n",
       "<path style=\"stroke:none;\" d=\"M 0.75 -6.484375 L 0.75 0 L 2.4375 0 L 2.4375 -3.4375 C 2.4375 -4.421875 2.921875 -4.921875 3.90625 -4.921875 C 4.09375 -4.921875 4.21875 -4.90625 4.4375 -4.875 L 4.4375 -6.578125 C 4.34375 -6.59375 4.28125 -6.59375 4.234375 -6.59375 C 3.46875 -6.59375 2.796875 -6.078125 2.4375 -5.203125 L 2.4375 -6.484375 Z \"/>\n",
       "</symbol>\n",
       "<symbol overflow=\"visible\" id=\"glyph0-9\">\n",
       "<path style=\"stroke:none;\" d=\"\"/>\n",
       "</symbol>\n",
       "<symbol overflow=\"visible\" id=\"glyph0-10\">\n",
       "<path style=\"stroke:none;\" d=\"M 6.34375 -5.6875 L 0.484375 -3.515625 L 0.484375 -2.0625 L 6.34375 0.125 L 6.34375 -1.21875 L 1.765625 -2.78125 L 6.34375 -4.375 Z \"/>\n",
       "</symbol>\n",
       "<symbol overflow=\"visible\" id=\"glyph0-11\">\n",
       "<path style=\"stroke:none;\" d=\"M 3.28125 -8.6875 C 2.359375 -8.6875 1.578125 -8.296875 1.0625 -7.59375 C 0.578125 -6.9375 0.34375 -5.84375 0.34375 -4.203125 C 0.34375 -2.703125 0.546875 -1.625 0.953125 -0.984375 C 1.453125 -0.1875 2.28125 0.28125 3.28125 0.28125 C 4.203125 0.28125 4.953125 -0.09375 5.484375 -0.8125 C 5.96875 -1.46875 6.203125 -2.5625 6.203125 -4.15625 C 6.203125 -5.71875 6.015625 -6.765625 5.609375 -7.421875 C 5.09375 -8.25 4.265625 -8.6875 3.28125 -8.6875 Z M 3.28125 -7.328125 C 3.703125 -7.328125 4.0625 -7.09375 4.265625 -6.640625 C 4.421875 -6.28125 4.53125 -5.359375 4.53125 -4.1875 C 4.53125 -3.234375 4.421875 -2.28125 4.3125 -1.9375 C 4.109375 -1.4375 3.75 -1.15625 3.28125 -1.15625 C 2.828125 -1.15625 2.5 -1.390625 2.296875 -1.828125 C 2.125 -2.1875 2.03125 -3.078125 2.03125 -4.21875 C 2.03125 -5.203125 2.125 -6.1875 2.25 -6.53125 C 2.4375 -7.046875 2.796875 -7.328125 3.28125 -7.328125 Z \"/>\n",
       "</symbol>\n",
       "<symbol overflow=\"visible\" id=\"glyph0-12\">\n",
       "<path style=\"stroke:none;\" d=\"M 2.5625 -1.75 L 0.765625 -1.75 L 0.765625 0 L 2.5625 0 Z \"/>\n",
       "</symbol>\n",
       "<symbol overflow=\"visible\" id=\"glyph0-13\">\n",
       "<path style=\"stroke:none;\" d=\"M 5.875 -8.515625 L 1.3125 -8.515625 L 0.5625 -3.765625 L 2.078125 -3.765625 C 2.25 -4.1875 2.640625 -4.421875 3.15625 -4.421875 C 4.015625 -4.421875 4.53125 -3.796875 4.53125 -2.765625 C 4.53125 -1.78125 4 -1.15625 3.15625 -1.15625 C 2.421875 -1.15625 2.015625 -1.53125 1.984375 -2.21875 L 0.328125 -2.21875 C 0.34375 -0.734375 1.46875 0.28125 3.125 0.28125 C 4.953125 0.28125 6.203125 -0.96875 6.203125 -2.8125 C 6.203125 -4.546875 5.125 -5.75 3.546875 -5.75 C 2.984375 -5.75 2.5625 -5.609375 2.078125 -5.234375 L 2.359375 -7.015625 L 5.875 -7.015625 Z \"/>\n",
       "</symbol>\n",
       "<symbol overflow=\"visible\" id=\"glyph0-14\">\n",
       "<path style=\"stroke:none;\" d=\"M 6.0625 -4.390625 C 6.03125 -5.765625 4.984375 -6.59375 3.234375 -6.59375 C 1.59375 -6.59375 0.578125 -5.765625 0.578125 -4.421875 C 0.578125 -4 0.703125 -3.625 0.9375 -3.375 C 1.15625 -3.140625 1.375 -3.03125 1.984375 -2.828125 L 4 -2.203125 C 4.421875 -2.078125 4.5625 -1.9375 4.5625 -1.6875 C 4.5625 -1.28125 4.09375 -1.046875 3.3125 -1.046875 C 2.875 -1.046875 2.53125 -1.125 2.3125 -1.265625 C 2.140625 -1.40625 2.0625 -1.53125 1.984375 -1.890625 L 0.34375 -1.890625 C 0.390625 -0.46875 1.4375 0.28125 3.40625 0.28125 C 4.3125 0.28125 4.984375 0.078125 5.46875 -0.296875 C 5.953125 -0.6875 6.234375 -1.28125 6.234375 -1.921875 C 6.234375 -2.765625 5.8125 -3.296875 4.96875 -3.546875 L 2.84375 -4.15625 C 2.375 -4.3125 2.25 -4.40625 2.25 -4.671875 C 2.25 -5.03125 2.640625 -5.265625 3.234375 -5.265625 C 4.03125 -5.265625 4.421875 -4.984375 4.4375 -4.390625 Z \"/>\n",
       "</symbol>\n",
       "<symbol overflow=\"visible\" id=\"glyph0-15\">\n",
       "<path style=\"stroke:none;\" d=\"M 2.484375 -8.75 L 0.796875 -8.75 L 0.796875 0 L 2.484375 0 Z \"/>\n",
       "</symbol>\n",
       "<symbol overflow=\"visible\" id=\"glyph0-16\">\n",
       "<path style=\"stroke:none;\" d=\"M 3.75 -6.34375 L 2.765625 -6.34375 L 2.765625 -6.984375 C 2.765625 -7.3125 2.90625 -7.484375 3.21875 -7.484375 C 3.359375 -7.484375 3.546875 -7.46875 3.703125 -7.453125 L 3.703125 -8.71875 C 3.390625 -8.734375 2.96875 -8.75 2.734375 -8.75 C 1.625 -8.75 1.078125 -8.21875 1.078125 -7.125 L 1.078125 -6.34375 L 0.171875 -6.34375 L 0.171875 -5.234375 L 1.078125 -5.234375 L 1.078125 0 L 2.765625 0 L 2.765625 -5.234375 L 3.75 -5.234375 Z \"/>\n",
       "</symbol>\n",
       "<symbol overflow=\"visible\" id=\"glyph0-17\">\n",
       "<path style=\"stroke:none;\" d=\"M 6.28125 -0.203125 C 5.984375 -0.484375 5.90625 -0.65625 5.90625 -1 L 5.90625 -4.59375 C 5.90625 -5.921875 5 -6.59375 3.25 -6.59375 C 1.5 -6.59375 0.59375 -5.84375 0.484375 -4.34375 L 2.09375 -4.34375 C 2.1875 -5.015625 2.453125 -5.234375 3.28125 -5.234375 C 3.9375 -5.234375 4.265625 -5.015625 4.265625 -4.578125 C 4.265625 -4.375 4.15625 -4.171875 3.96875 -4.078125 C 3.75 -3.953125 3.75 -3.953125 2.921875 -3.828125 L 2.25 -3.703125 C 0.953125 -3.484375 0.34375 -2.828125 0.34375 -1.671875 C 0.34375 -1.109375 0.484375 -0.65625 0.796875 -0.34375 C 1.15625 0.046875 1.734375 0.28125 2.296875 0.28125 C 3.03125 0.28125 3.6875 -0.03125 4.265625 -0.640625 C 4.265625 -0.3125 4.3125 -0.1875 4.46875 0 L 6.28125 0 Z M 4.265625 -2.609375 C 4.265625 -1.625 3.78125 -1.078125 2.921875 -1.078125 C 2.359375 -1.078125 2.015625 -1.375 2.015625 -1.859375 C 2.015625 -2.359375 2.28125 -2.609375 2.96875 -2.75 L 3.546875 -2.859375 C 4 -2.9375 4.0625 -2.96875 4.265625 -3.0625 Z \"/>\n",
       "</symbol>\n",
       "<symbol overflow=\"visible\" id=\"glyph0-18\">\n",
       "<path style=\"stroke:none;\" d=\"M 7.359375 0 L 9.1875 -6.484375 L 7.453125 -6.484375 L 6.46875 -1.9375 L 5.5 -6.484375 L 3.8125 -6.484375 L 2.828125 -1.9375 L 1.796875 -6.484375 L 0.0625 -6.484375 L 1.890625 0 L 3.609375 0 L 4.640625 -4.578125 L 5.609375 0 Z \"/>\n",
       "</symbol>\n",
       "<symbol overflow=\"visible\" id=\"glyph0-19\">\n",
       "<path style=\"stroke:none;\" d=\"M 3.609375 -6.34375 L 2.671875 -6.34375 L 2.671875 -8.09375 L 1 -8.09375 L 1 -6.34375 L 0.171875 -6.34375 L 0.171875 -5.234375 L 1 -5.234375 L 1 -1.25 C 1 -0.234375 1.53125 0.28125 2.640625 0.28125 C 3.015625 0.28125 3.3125 0.234375 3.609375 0.140625 L 3.609375 -1.03125 C 3.4375 -1.015625 3.34375 -1 3.234375 -1 C 2.78125 -1 2.671875 -1.125 2.671875 -1.703125 L 2.671875 -5.234375 L 3.609375 -5.234375 Z \"/>\n",
       "</symbol>\n",
       "<symbol overflow=\"visible\" id=\"glyph0-20\">\n",
       "<path style=\"stroke:none;\" d=\"M 6.265625 -4.0625 C 6.140625 -5.640625 5.09375 -6.59375 3.46875 -6.59375 C 1.53125 -6.59375 0.40625 -5.3125 0.40625 -3.109375 C 0.40625 -0.96875 1.53125 0.28125 3.4375 0.28125 C 5.015625 0.28125 6.109375 -0.703125 6.265625 -2.25 L 4.65625 -2.25 C 4.4375 -1.40625 4.109375 -1.078125 3.453125 -1.078125 C 2.609375 -1.078125 2.09375 -1.84375 2.09375 -3.109375 C 2.09375 -3.71875 2.203125 -4.296875 2.40625 -4.6875 C 2.609375 -5.046875 2.96875 -5.234375 3.453125 -5.234375 C 4.140625 -5.234375 4.46875 -4.90625 4.65625 -4.0625 Z \"/>\n",
       "</symbol>\n",
       "<symbol overflow=\"visible\" id=\"glyph0-21\">\n",
       "<path style=\"stroke:none;\" d=\"M 4.203125 0 L 6.4375 -6.484375 L 4.65625 -6.484375 L 3.34375 -1.734375 L 1.9375 -6.484375 L 0.171875 -6.484375 L 2.4375 0 Z \"/>\n",
       "</symbol>\n",
       "<symbol overflow=\"visible\" id=\"glyph0-22\">\n",
       "<path style=\"stroke:none;\" d=\"M 4.859375 0 L 6.546875 0 L 6.546875 -8.75 L 4.859375 -8.75 L 4.859375 -5.640625 C 4.4375 -6.28125 3.875 -6.59375 3.078125 -6.59375 C 1.53125 -6.59375 0.34375 -5.09375 0.34375 -3.140625 C 0.34375 -2.265625 0.609375 -1.375 1.046875 -0.75 C 1.484375 -0.125 2.28125 0.28125 3.078125 0.28125 C 3.875 0.28125 4.4375 -0.03125 4.859375 -0.65625 Z M 3.4375 -5.1875 C 4.296875 -5.1875 4.859375 -4.359375 4.859375 -3.125 C 4.859375 -1.9375 4.28125 -1.125 3.4375 -1.125 C 2.609375 -1.125 2.03125 -1.953125 2.03125 -3.140625 C 2.03125 -4.34375 2.609375 -5.1875 3.4375 -5.1875 Z \"/>\n",
       "</symbol>\n",
       "<symbol overflow=\"visible\" id=\"glyph0-23\">\n",
       "<path style=\"stroke:none;\" d=\"M 6.484375 0 L 6.484375 -6.484375 L 4.8125 -6.484375 L 4.8125 -2.421875 C 4.8125 -1.65625 4.265625 -1.15625 3.453125 -1.15625 C 2.734375 -1.15625 2.375 -1.53125 2.375 -2.3125 L 2.375 -6.484375 L 0.703125 -6.484375 L 0.703125 -1.96875 C 0.703125 -0.546875 1.484375 0.28125 2.875 0.28125 C 3.75 0.28125 4.328125 -0.046875 4.8125 -0.765625 L 4.8125 0 Z \"/>\n",
       "</symbol>\n",
       "<symbol overflow=\"visible\" id=\"glyph1-0\">\n",
       "<path style=\"stroke:none;\" d=\"\"/>\n",
       "</symbol>\n",
       "<symbol overflow=\"visible\" id=\"glyph1-1\">\n",
       "<path style=\"stroke:none;\" d=\"M 3.296875 -8.515625 C 2.515625 -8.515625 1.78125 -8.15625 1.34375 -7.578125 C 0.796875 -6.828125 0.515625 -5.6875 0.515625 -4.109375 C 0.515625 -1.25 1.46875 0.28125 3.296875 0.28125 C 5.09375 0.28125 6.078125 -1.25 6.078125 -4.046875 C 6.078125 -5.703125 5.8125 -6.796875 5.25 -7.578125 C 4.8125 -8.171875 4.109375 -8.515625 3.296875 -8.515625 Z M 3.296875 -7.578125 C 4.4375 -7.578125 5 -6.421875 5 -4.140625 C 5 -1.734375 4.453125 -0.59375 3.28125 -0.59375 C 2.15625 -0.59375 1.59375 -1.78125 1.59375 -4.109375 C 1.59375 -6.4375 2.15625 -7.578125 3.296875 -7.578125 Z \"/>\n",
       "</symbol>\n",
       "<symbol overflow=\"visible\" id=\"glyph1-2\">\n",
       "<path style=\"stroke:none;\" d=\"M 2.296875 -1.25 L 1.046875 -1.25 L 1.046875 0 L 2.296875 0 Z \"/>\n",
       "</symbol>\n",
       "<symbol overflow=\"visible\" id=\"glyph1-3\">\n",
       "<path style=\"stroke:none;\" d=\"M 2.65625 -3.90625 L 3.234375 -3.90625 C 4.390625 -3.90625 4.984375 -3.390625 4.984375 -2.359375 C 4.984375 -1.296875 4.328125 -0.65625 3.234375 -0.65625 C 2.078125 -0.65625 1.515625 -1.234375 1.4375 -2.46875 L 0.390625 -2.46875 C 0.4375 -1.78125 0.546875 -1.34375 0.75 -0.953125 C 1.1875 -0.140625 2.03125 0.28125 3.1875 0.28125 C 4.9375 0.28125 6.078125 -0.765625 6.078125 -2.375 C 6.078125 -3.453125 5.65625 -4.0625 4.625 -4.40625 C 5.421875 -4.71875 5.8125 -5.3125 5.8125 -6.171875 C 5.8125 -7.625 4.84375 -8.515625 3.234375 -8.515625 C 1.515625 -8.515625 0.59375 -7.578125 0.5625 -5.765625 L 1.625 -5.765625 C 1.625 -6.28125 1.6875 -6.5625 1.8125 -6.828125 C 2.046875 -7.296875 2.578125 -7.578125 3.234375 -7.578125 C 4.171875 -7.578125 4.734375 -7.03125 4.734375 -6.125 C 4.734375 -5.53125 4.53125 -5.171875 4.0625 -4.984375 C 3.765625 -4.859375 3.390625 -4.8125 2.65625 -4.796875 Z \"/>\n",
       "</symbol>\n",
       "<symbol overflow=\"visible\" id=\"glyph1-4\">\n",
       "<path style=\"stroke:none;\" d=\"M 3.109375 -6.0625 L 3.109375 0 L 4.15625 0 L 4.15625 -8.515625 L 3.46875 -8.515625 C 3.09375 -7.203125 2.859375 -7.015625 1.21875 -6.8125 L 1.21875 -6.0625 Z \"/>\n",
       "</symbol>\n",
       "<symbol overflow=\"visible\" id=\"glyph1-5\">\n",
       "<path style=\"stroke:none;\" d=\"M 6.078125 -1.046875 L 1.59375 -1.046875 C 1.703125 -1.734375 2.09375 -2.1875 3.125 -2.796875 L 4.328125 -3.4375 C 5.515625 -4.09375 6.125 -4.96875 6.125 -6.015625 C 6.125 -6.71875 5.84375 -7.375 5.34375 -7.84375 C 4.84375 -8.296875 4.21875 -8.515625 3.40625 -8.515625 C 2.328125 -8.515625 1.53125 -8.125 1.0625 -7.40625 C 0.75 -6.953125 0.625 -6.421875 0.59375 -5.5625 L 1.65625 -5.5625 C 1.6875 -6.125 1.765625 -6.484375 1.90625 -6.75 C 2.1875 -7.265625 2.734375 -7.578125 3.375 -7.578125 C 4.328125 -7.578125 5.046875 -6.90625 5.046875 -5.984375 C 5.046875 -5.3125 4.65625 -4.734375 3.90625 -4.3125 L 2.796875 -3.6875 C 1.015625 -2.671875 0.5 -1.875 0.40625 0 L 6.078125 0 Z \"/>\n",
       "</symbol>\n",
       "<symbol overflow=\"visible\" id=\"glyph1-6\">\n",
       "<path style=\"stroke:none;\" d=\"M 5.71875 -8.515625 L 1.3125 -8.515625 L 0.6875 -3.875 L 1.65625 -3.875 C 2.140625 -4.46875 2.5625 -4.671875 3.21875 -4.671875 C 4.359375 -4.671875 5.078125 -3.890625 5.078125 -2.625 C 5.078125 -1.40625 4.375 -0.65625 3.21875 -0.65625 C 2.296875 -0.65625 1.734375 -1.125 1.46875 -2.09375 L 0.421875 -2.09375 C 0.5625 -1.390625 0.6875 -1.0625 0.9375 -0.75 C 1.421875 -0.09375 2.28125 0.28125 3.234375 0.28125 C 4.953125 0.28125 6.15625 -0.96875 6.15625 -2.765625 C 6.15625 -4.453125 5.046875 -5.609375 3.40625 -5.609375 C 2.8125 -5.609375 2.328125 -5.453125 1.84375 -5.09375 L 2.171875 -7.46875 L 5.71875 -7.46875 Z \"/>\n",
       "</symbol>\n",
       "<symbol overflow=\"visible\" id=\"glyph1-7\">\n",
       "<path style=\"stroke:none;\" d=\"M 4.6875 -4.46875 C 5.5625 -5 5.859375 -5.4375 5.859375 -6.234375 C 5.859375 -7.578125 4.8125 -8.515625 3.296875 -8.515625 C 1.796875 -8.515625 0.75 -7.578125 0.75 -6.234375 C 0.75 -5.453125 1.03125 -5.015625 1.890625 -4.46875 C 0.921875 -4.015625 0.4375 -3.296875 0.4375 -2.359375 C 0.4375 -0.796875 1.625 0.28125 3.296875 0.28125 C 4.984375 0.28125 6.15625 -0.796875 6.15625 -2.359375 C 6.15625 -3.296875 5.671875 -4.015625 4.6875 -4.46875 Z M 3.296875 -7.578125 C 4.203125 -7.578125 4.78125 -7.046875 4.78125 -6.21875 C 4.78125 -5.421875 4.1875 -4.890625 3.296875 -4.890625 C 2.40625 -4.890625 1.828125 -5.421875 1.828125 -6.234375 C 1.828125 -7.046875 2.40625 -7.578125 3.296875 -7.578125 Z M 3.296875 -4.015625 C 4.359375 -4.015625 5.078125 -3.34375 5.078125 -2.34375 C 5.078125 -1.328125 4.359375 -0.65625 3.28125 -0.65625 C 2.25 -0.65625 1.53125 -1.34375 1.53125 -2.34375 C 1.53125 -3.34375 2.25 -4.015625 3.296875 -4.015625 Z \"/>\n",
       "</symbol>\n",
       "<symbol overflow=\"visible\" id=\"glyph2-0\">\n",
       "<path style=\"stroke:none;\" d=\"\"/>\n",
       "</symbol>\n",
       "<symbol overflow=\"visible\" id=\"glyph2-1\">\n",
       "<path style=\"stroke:none;\" d=\"M 4.8125 -5.03125 L 2.578125 -1.125 L 2.125 -5.03125 L 1.265625 -5.03125 L 1.921875 0.03125 L 1.421875 0.8125 C 1.15625 1.21875 1 1.3125 0.65625 1.3125 C 0.5625 1.3125 0.484375 1.3125 0.234375 1.28125 L 0.078125 2 C 0.25 2.078125 0.359375 2.09375 0.546875 2.09375 C 1.234375 2.09375 1.71875 1.765625 2.125 1.0625 L 5.65625 -5.03125 Z \"/>\n",
       "</symbol>\n",
       "<symbol overflow=\"visible\" id=\"glyph2-2\">\n",
       "<path style=\"stroke:none;\" d=\"M 5.40625 -2.25 L 5.4375 -2.40625 C 5.515625 -2.875 5.5625 -3.265625 5.5625 -3.53125 C 5.5625 -4.453125 4.765625 -5.171875 3.734375 -5.171875 C 2.890625 -5.171875 2.09375 -4.78125 1.609375 -4.140625 C 1.15625 -3.53125 0.8125 -2.4375 0.8125 -1.65625 C 0.8125 -1.140625 1.03125 -0.609375 1.40625 -0.265625 C 1.734375 0.0625 2.15625 0.21875 2.703125 0.21875 C 3.859375 0.21875 4.84375 -0.484375 5.140625 -1.53125 L 4.34375 -1.53125 C 3.984375 -0.859375 3.484375 -0.515625 2.84375 -0.515625 C 2.078125 -0.515625 1.65625 -0.984375 1.65625 -1.796875 C 1.65625 -2 1.65625 -2.09375 1.703125 -2.25 Z M 1.875 -2.9375 C 2.125 -3.8125 2.828125 -4.4375 3.609375 -4.4375 C 4.28125 -4.4375 4.71875 -3.96875 4.71875 -3.25 C 4.71875 -3.15625 4.703125 -3.09375 4.6875 -2.9375 Z \"/>\n",
       "</symbol>\n",
       "<symbol overflow=\"visible\" id=\"glyph2-3\">\n",
       "<path style=\"stroke:none;\" d=\"M 4.9375 -3.625 C 4.984375 -3.828125 4.984375 -3.921875 4.984375 -4.03125 C 4.984375 -4.703125 4.34375 -5.171875 3.421875 -5.171875 C 2.734375 -5.171875 2.15625 -4.96875 1.75 -4.59375 C 1.40625 -4.265625 1.1875 -3.765625 1.1875 -3.3125 C 1.1875 -2.71875 1.515625 -2.453125 2.5 -2.1875 L 3.21875 -2 C 3.53125 -1.921875 3.671875 -1.859375 3.765625 -1.75 C 3.828125 -1.671875 3.890625 -1.53125 3.890625 -1.4375 C 3.890625 -1.265625 3.734375 -0.96875 3.578125 -0.84375 C 3.34375 -0.640625 2.921875 -0.515625 2.515625 -0.515625 C 1.859375 -0.515625 1.484375 -0.78125 1.484375 -1.25 C 1.484375 -1.3125 1.484375 -1.40625 1.5 -1.5 L 0.640625 -1.5 C 0.59375 -1.28125 0.578125 -1.15625 0.578125 -1 C 0.578125 -0.234375 1.25 0.21875 2.375 0.21875 C 3.796875 0.21875 4.734375 -0.515625 4.734375 -1.65625 C 4.734375 -2.25 4.40625 -2.546875 3.5625 -2.765625 L 2.84375 -2.9375 C 2.296875 -3.078125 2.03125 -3.265625 2.03125 -3.515625 C 2.03125 -3.71875 2.140625 -3.953125 2.3125 -4.109375 C 2.546875 -4.34375 2.828125 -4.4375 3.25 -4.4375 C 3.8125 -4.4375 4.140625 -4.21875 4.140625 -3.84375 C 4.140625 -3.765625 4.140625 -3.703125 4.125 -3.625 Z \"/>\n",
       "</symbol>\n",
       "<symbol overflow=\"visible\" id=\"glyph2-4\">\n",
       "<path style=\"stroke:none;\" d=\"M 1.734375 -5.03125 L 0.671875 0 L 1.484375 0 L 2.0625 -2.765625 C 2.296875 -3.828125 2.96875 -4.484375 3.828125 -4.484375 C 4.3125 -4.484375 4.65625 -4.140625 4.65625 -3.703125 C 4.65625 -3.640625 4.640625 -3.5 4.609375 -3.34375 L 3.890625 0 L 4.703125 0 L 5.46875 -3.609375 C 5.5 -3.734375 5.5 -3.84375 5.5 -3.96875 C 5.5 -4.703125 5 -5.171875 4.203125 -5.171875 C 3.46875 -5.171875 2.84375 -4.90625 2.34375 -4.40625 L 2.46875 -5.03125 Z \"/>\n",
       "</symbol>\n",
       "<symbol overflow=\"visible\" id=\"glyph2-5\">\n",
       "<path style=\"stroke:none;\" d=\"M 3.6875 -5.171875 C 2.796875 -5.171875 2 -4.765625 1.515625 -4.0625 C 1.078125 -3.4375 0.765625 -2.390625 0.765625 -1.578125 C 0.765625 -0.515625 1.5 0.21875 2.578125 0.21875 C 3.5 0.21875 4.234375 -0.15625 4.765625 -0.890625 C 5.203125 -1.5 5.53125 -2.546875 5.53125 -3.375 C 5.53125 -3.890625 5.328125 -4.375 5 -4.703125 C 4.671875 -5.015625 4.234375 -5.171875 3.6875 -5.171875 Z M 3.5625 -4.4375 C 4.265625 -4.4375 4.6875 -3.96875 4.6875 -3.1875 C 4.6875 -2.625 4.515625 -2 4.265625 -1.53125 C 3.890625 -0.859375 3.375 -0.515625 2.71875 -0.515625 C 2.03125 -0.515625 1.609375 -1 1.609375 -1.765625 C 1.609375 -2.3125 1.78125 -2.9375 2.03125 -3.421875 C 2.390625 -4.078125 2.921875 -4.4375 3.5625 -4.4375 Z \"/>\n",
       "</symbol>\n",
       "</g>\n",
       "</defs>\n",
       "<g id=\"surface62\">\n",
       "<rect x=\"0\" y=\"0\" width=\"504\" height=\"504\" style=\"fill:rgb(100%,100%,100%);fill-opacity:1;stroke:none;\"/>\n",
       "<path style=\"fill:none;stroke-width:0.75;stroke-linecap:butt;stroke-linejoin:round;stroke:rgb(0%,0%,0%);stroke-opacity:1;stroke-miterlimit:10;\" d=\"M 277.507812 197.832031 L 325.390625 143.8125 L 337.363281 143.8125 \"/>\n",
       "<path style=\"fill:none;stroke-width:0.75;stroke-linecap:butt;stroke-linejoin:round;stroke:rgb(0%,0%,0%);stroke-opacity:1;stroke-miterlimit:10;\" d=\"M 217.703125 253.285156 L 265.546875 199.261719 L 277.507812 199.261719 \"/>\n",
       "<path style=\"fill:none;stroke-width:0.75;stroke-linecap:butt;stroke-linejoin:round;stroke:rgb(0%,0%,0%);stroke-opacity:1;stroke-miterlimit:10;\" d=\"M 158.4375 308.734375 L 205.847656 254.714844 L 217.703125 254.714844 \"/>\n",
       "<path style=\"fill:none;stroke-width:0.75;stroke-linecap:butt;stroke-linejoin:round;stroke:rgb(0%,0%,0%);stroke-opacity:1;stroke-miterlimit:10;\" d=\"M 104.558594 352.695312 L 147.660156 310.167969 L 158.4375 310.167969 \"/>\n",
       "<path style=\"fill:none;stroke-width:0.75;stroke-linecap:butt;stroke-linejoin:round;stroke:rgb(0%,0%,0%);stroke-opacity:1;stroke-miterlimit:10;\" d=\"M 212.3125 352.695312 L 169.210938 310.167969 L 158.4375 310.167969 \"/>\n",
       "<path style=\"fill:none;stroke-width:0.75;stroke-linecap:butt;stroke-linejoin:round;stroke:rgb(0%,0%,0%);stroke-opacity:1;stroke-miterlimit:10;\" d=\"M 276.96875 297.242188 L 229.554688 254.714844 L 217.703125 254.714844 \"/>\n",
       "<path style=\"fill:none;stroke-width:0.75;stroke-linecap:butt;stroke-linejoin:round;stroke:rgb(0%,0%,0%);stroke-opacity:1;stroke-miterlimit:10;\" d=\"M 337.308594 241.789062 L 289.464844 199.261719 L 277.507812 199.261719 \"/>\n",
       "<path style=\"fill:none;stroke-width:0.75;stroke-linecap:butt;stroke-linejoin:round;stroke:rgb(0%,0%,0%);stroke-opacity:1;stroke-miterlimit:10;\" d=\"M 397.222656 186.339844 L 349.335938 143.8125 L 337.363281 143.8125 \"/>\n",
       "<path style=\" stroke:none;fill-rule:nonzero;fill:rgb(100%,100%,100%);fill-opacity:1;\" d=\"M 291.515625 148.121094 L 291.515625 130.886719 L 383.210938 130.886719 L 383.210938 148.121094 Z \"/>\n",
       "<path style=\" stroke:none;fill-rule:nonzero;fill:rgb(100%,100%,100%);fill-opacity:1;\" d=\"M 246.988281 203.570312 L 246.988281 186.339844 L 308.023438 186.339844 L 308.023438 203.570312 Z \"/>\n",
       "<path style=\" stroke:none;fill-rule:nonzero;fill:rgb(100%,100%,100%);fill-opacity:1;\" d=\"M 170.613281 259.023438 L 170.613281 241.789062 L 264.789062 241.789062 L 264.789062 259.023438 Z \"/>\n",
       "<path style=\" stroke:none;fill-rule:nonzero;fill:rgb(100%,100%,100%);fill-opacity:1;\" d=\"M 115.585938 314.472656 L 115.585938 297.242188 L 201.289062 297.242188 L 201.289062 314.472656 Z \"/>\n",
       "<g style=\"fill:rgb(0%,0%,0%);fill-opacity:1;\">\n",
       "  <use xlink:href=\"#glyph0-1\" x=\"296.363281\" y=\"142.251953\"/>\n",
       "  <use xlink:href=\"#glyph0-2\" x=\"303.695312\" y=\"142.251953\"/>\n",
       "  <use xlink:href=\"#glyph0-3\" x=\"310.367188\" y=\"142.251953\"/>\n",
       "  <use xlink:href=\"#glyph0-4\" x=\"313.703125\" y=\"142.251953\"/>\n",
       "  <use xlink:href=\"#glyph0-5\" x=\"321.035156\" y=\"142.251953\"/>\n",
       "  <use xlink:href=\"#glyph0-6\" x=\"328.367188\" y=\"142.251953\"/>\n",
       "  <use xlink:href=\"#glyph0-7\" x=\"335.699219\" y=\"142.251953\"/>\n",
       "  <use xlink:href=\"#glyph0-8\" x=\"343.03125\" y=\"142.251953\"/>\n",
       "  <use xlink:href=\"#glyph0-9\" x=\"347.699219\" y=\"142.251953\"/>\n",
       "  <use xlink:href=\"#glyph0-10\" x=\"351.035156\" y=\"142.251953\"/>\n",
       "  <use xlink:href=\"#glyph0-9\" x=\"358.042969\" y=\"142.251953\"/>\n",
       "  <use xlink:href=\"#glyph0-11\" x=\"361.378906\" y=\"142.251953\"/>\n",
       "  <use xlink:href=\"#glyph0-12\" x=\"368.050781\" y=\"142.251953\"/>\n",
       "  <use xlink:href=\"#glyph0-13\" x=\"371.386719\" y=\"142.251953\"/>\n",
       "</g>\n",
       "<g style=\"fill:rgb(0%,0%,0%);fill-opacity:1;\">\n",
       "  <use xlink:href=\"#glyph0-14\" x=\"251.507812\" y=\"198.701172\"/>\n",
       "  <use xlink:href=\"#glyph0-2\" x=\"258.179688\" y=\"198.701172\"/>\n",
       "  <use xlink:href=\"#glyph0-15\" x=\"264.851562\" y=\"198.701172\"/>\n",
       "  <use xlink:href=\"#glyph0-16\" x=\"268.1875\" y=\"198.701172\"/>\n",
       "  <use xlink:href=\"#glyph0-9\" x=\"272.183594\" y=\"198.701172\"/>\n",
       "  <use xlink:href=\"#glyph0-10\" x=\"275.519531\" y=\"198.701172\"/>\n",
       "  <use xlink:href=\"#glyph0-9\" x=\"282.527344\" y=\"198.701172\"/>\n",
       "  <use xlink:href=\"#glyph0-11\" x=\"285.863281\" y=\"198.701172\"/>\n",
       "  <use xlink:href=\"#glyph0-12\" x=\"292.535156\" y=\"198.701172\"/>\n",
       "  <use xlink:href=\"#glyph0-13\" x=\"295.871094\" y=\"198.701172\"/>\n",
       "</g>\n",
       "<g style=\"fill:rgb(0%,0%,0%);fill-opacity:1;\">\n",
       "  <use xlink:href=\"#glyph0-5\" x=\"175.203125\" y=\"254.154297\"/>\n",
       "  <use xlink:href=\"#glyph0-17\" x=\"182.535156\" y=\"254.154297\"/>\n",
       "  <use xlink:href=\"#glyph0-18\" x=\"189.207031\" y=\"254.154297\"/>\n",
       "  <use xlink:href=\"#glyph0-19\" x=\"198.542969\" y=\"254.154297\"/>\n",
       "  <use xlink:href=\"#glyph0-5\" x=\"202.539062\" y=\"254.154297\"/>\n",
       "  <use xlink:href=\"#glyph0-7\" x=\"209.871094\" y=\"254.154297\"/>\n",
       "  <use xlink:href=\"#glyph0-8\" x=\"217.203125\" y=\"254.154297\"/>\n",
       "  <use xlink:href=\"#glyph0-1\" x=\"221.871094\" y=\"254.154297\"/>\n",
       "  <use xlink:href=\"#glyph0-9\" x=\"229.203125\" y=\"254.154297\"/>\n",
       "  <use xlink:href=\"#glyph0-10\" x=\"232.539062\" y=\"254.154297\"/>\n",
       "  <use xlink:href=\"#glyph0-9\" x=\"239.546875\" y=\"254.154297\"/>\n",
       "  <use xlink:href=\"#glyph0-11\" x=\"242.882812\" y=\"254.154297\"/>\n",
       "  <use xlink:href=\"#glyph0-12\" x=\"249.554688\" y=\"254.154297\"/>\n",
       "  <use xlink:href=\"#glyph0-13\" x=\"252.890625\" y=\"254.154297\"/>\n",
       "</g>\n",
       "<g style=\"fill:rgb(0%,0%,0%);fill-opacity:1;\">\n",
       "  <use xlink:href=\"#glyph0-20\" x=\"120.4375\" y=\"309.607422\"/>\n",
       "  <use xlink:href=\"#glyph0-3\" x=\"127.109375\" y=\"309.607422\"/>\n",
       "  <use xlink:href=\"#glyph0-21\" x=\"130.445312\" y=\"309.607422\"/>\n",
       "  <use xlink:href=\"#glyph0-3\" x=\"137.117188\" y=\"309.607422\"/>\n",
       "  <use xlink:href=\"#glyph0-20\" x=\"140.453125\" y=\"309.607422\"/>\n",
       "  <use xlink:href=\"#glyph0-22\" x=\"147.125\" y=\"309.607422\"/>\n",
       "  <use xlink:href=\"#glyph0-23\" x=\"154.457031\" y=\"309.607422\"/>\n",
       "  <use xlink:href=\"#glyph0-19\" x=\"161.789062\" y=\"309.607422\"/>\n",
       "  <use xlink:href=\"#glyph0-9\" x=\"165.785156\" y=\"309.607422\"/>\n",
       "  <use xlink:href=\"#glyph0-10\" x=\"169.121094\" y=\"309.607422\"/>\n",
       "  <use xlink:href=\"#glyph0-9\" x=\"176.128906\" y=\"309.607422\"/>\n",
       "  <use xlink:href=\"#glyph0-11\" x=\"179.464844\" y=\"309.607422\"/>\n",
       "  <use xlink:href=\"#glyph0-12\" x=\"186.136719\" y=\"309.607422\"/>\n",
       "  <use xlink:href=\"#glyph0-13\" x=\"189.472656\" y=\"309.607422\"/>\n",
       "</g>\n",
       "<path style=\"fill-rule:nonzero;fill:rgb(100%,100%,100%);fill-opacity:1;stroke-width:0.75;stroke-linecap:round;stroke-linejoin:round;stroke:rgb(0%,0%,0%);stroke-opacity:1;stroke-miterlimit:10;\" d=\"M 91.222656 361.308594 L 91.515625 359.078125 L 92.375 357 L 93.746094 355.21875 L 95.53125 353.847656 L 97.609375 352.988281 L 99.835938 352.695312 L 109.28125 352.695312 L 111.511719 352.988281 L 113.589844 353.847656 L 115.375 355.21875 L 116.742188 357 L 117.605469 359.078125 L 117.898438 361.308594 L 117.605469 363.539062 L 116.742188 365.617188 L 115.375 367.402344 L 113.589844 368.769531 L 111.511719 369.632812 L 109.28125 369.925781 L 99.835938 369.925781 L 97.609375 369.632812 L 95.53125 368.769531 L 93.746094 367.402344 L 92.375 365.617188 L 91.515625 363.539062 Z \"/>\n",
       "<path style=\"fill-rule:nonzero;fill:rgb(100%,100%,100%);fill-opacity:1;stroke-width:0.75;stroke-linecap:round;stroke-linejoin:round;stroke:rgb(0%,0%,0%);stroke-opacity:1;stroke-miterlimit:10;\" d=\"M 195.640625 361.308594 L 195.933594 359.078125 L 196.792969 357 L 198.164062 355.21875 L 199.949219 353.847656 L 202.027344 352.988281 L 204.257812 352.695312 L 220.371094 352.695312 L 222.601562 352.988281 L 224.679688 353.847656 L 226.464844 355.21875 L 227.835938 357 L 228.695312 359.078125 L 228.988281 361.308594 L 228.695312 363.539062 L 227.835938 365.617188 L 226.464844 367.402344 L 224.679688 368.769531 L 222.601562 369.632812 L 220.371094 369.925781 L 204.257812 369.925781 L 202.027344 369.632812 L 199.949219 368.769531 L 198.164062 367.402344 L 196.792969 365.617188 L 195.933594 363.539062 Z \"/>\n",
       "<path style=\"fill-rule:nonzero;fill:rgb(100%,100%,100%);fill-opacity:1;stroke-width:0.75;stroke-linecap:round;stroke-linejoin:round;stroke:rgb(0%,0%,0%);stroke-opacity:1;stroke-miterlimit:10;\" d=\"M 260.292969 305.859375 L 260.585938 303.628906 L 261.449219 301.550781 L 262.816406 299.765625 L 264.601562 298.398438 L 266.679688 297.535156 L 268.910156 297.242188 L 285.023438 297.242188 L 287.253906 297.535156 L 289.332031 298.398438 L 291.117188 299.765625 L 292.488281 301.550781 L 293.347656 303.628906 L 293.640625 305.859375 L 293.347656 308.089844 L 292.488281 310.167969 L 291.117188 311.949219 L 289.332031 313.320312 L 287.253906 314.179688 L 285.023438 314.472656 L 268.910156 314.472656 L 266.679688 314.179688 L 264.601562 313.320312 L 262.816406 311.949219 L 261.449219 310.167969 L 260.585938 308.089844 Z \"/>\n",
       "<path style=\"fill-rule:nonzero;fill:rgb(100%,100%,100%);fill-opacity:1;stroke-width:0.75;stroke-linecap:round;stroke-linejoin:round;stroke:rgb(0%,0%,0%);stroke-opacity:1;stroke-miterlimit:10;\" d=\"M 320.636719 250.40625 L 320.929688 248.175781 L 321.789062 246.097656 L 323.160156 244.3125 L 324.945312 242.945312 L 327.023438 242.085938 L 329.25 241.789062 L 345.367188 241.789062 L 347.597656 242.085938 L 349.675781 242.945312 L 351.460938 244.3125 L 352.828125 246.097656 L 353.691406 248.175781 L 353.984375 250.40625 L 353.691406 252.636719 L 352.828125 254.714844 L 351.460938 256.5 L 349.675781 257.867188 L 347.597656 258.730469 L 345.367188 259.023438 L 329.25 259.023438 L 327.023438 258.730469 L 324.945312 257.867188 L 323.160156 256.5 L 321.789062 254.714844 L 320.929688 252.636719 Z \"/>\n",
       "<path style=\"fill-rule:nonzero;fill:rgb(100%,100%,100%);fill-opacity:1;stroke-width:0.75;stroke-linecap:round;stroke-linejoin:round;stroke:rgb(0%,0%,0%);stroke-opacity:1;stroke-miterlimit:10;\" d=\"M 380.546875 194.953125 L 380.839844 192.726562 L 381.703125 190.648438 L 383.070312 188.863281 L 384.855469 187.492188 L 386.933594 186.632812 L 389.164062 186.339844 L 405.277344 186.339844 L 407.507812 186.632812 L 409.585938 187.492188 L 411.371094 188.863281 L 412.742188 190.648438 L 413.601562 192.726562 L 413.894531 194.953125 L 413.601562 197.183594 L 412.742188 199.261719 L 411.371094 201.046875 L 409.585938 202.417969 L 407.507812 203.277344 L 405.277344 203.570312 L 389.164062 203.570312 L 386.933594 203.277344 L 384.855469 202.417969 L 383.070312 201.046875 L 381.703125 199.261719 L 380.839844 197.183594 Z \"/>\n",
       "<g style=\"fill:rgb(0%,0%,0%);fill-opacity:1;\">\n",
       "  <use xlink:href=\"#glyph1-1\" x=\"96.058594\" y=\"364.744141\"/>\n",
       "  <use xlink:href=\"#glyph1-2\" x=\"102.730469\" y=\"364.744141\"/>\n",
       "  <use xlink:href=\"#glyph1-3\" x=\"106.066406\" y=\"364.744141\"/>\n",
       "</g>\n",
       "<g style=\"fill:rgb(0%,0%,0%);fill-opacity:1;\">\n",
       "  <use xlink:href=\"#glyph1-1\" x=\"200.3125\" y=\"364.744141\"/>\n",
       "  <use xlink:href=\"#glyph1-2\" x=\"206.984375\" y=\"364.744141\"/>\n",
       "  <use xlink:href=\"#glyph1-3\" x=\"210.320312\" y=\"364.744141\"/>\n",
       "  <use xlink:href=\"#glyph1-4\" x=\"216.992188\" y=\"364.744141\"/>\n",
       "</g>\n",
       "<g style=\"fill:rgb(0%,0%,0%);fill-opacity:1;\">\n",
       "  <use xlink:href=\"#glyph1-1\" x=\"264.96875\" y=\"309.294922\"/>\n",
       "  <use xlink:href=\"#glyph1-2\" x=\"271.640625\" y=\"309.294922\"/>\n",
       "  <use xlink:href=\"#glyph1-3\" x=\"274.976562\" y=\"309.294922\"/>\n",
       "  <use xlink:href=\"#glyph1-5\" x=\"281.648438\" y=\"309.294922\"/>\n",
       "</g>\n",
       "<g style=\"fill:rgb(0%,0%,0%);fill-opacity:1;\">\n",
       "  <use xlink:href=\"#glyph1-1\" x=\"325.308594\" y=\"253.841797\"/>\n",
       "  <use xlink:href=\"#glyph1-2\" x=\"331.980469\" y=\"253.841797\"/>\n",
       "  <use xlink:href=\"#glyph1-3\" x=\"335.316406\" y=\"253.841797\"/>\n",
       "  <use xlink:href=\"#glyph1-6\" x=\"341.988281\" y=\"253.841797\"/>\n",
       "</g>\n",
       "<g style=\"fill:rgb(0%,0%,0%);fill-opacity:1;\">\n",
       "  <use xlink:href=\"#glyph1-1\" x=\"385.222656\" y=\"198.388672\"/>\n",
       "  <use xlink:href=\"#glyph1-2\" x=\"391.894531\" y=\"198.388672\"/>\n",
       "  <use xlink:href=\"#glyph1-3\" x=\"395.230469\" y=\"198.388672\"/>\n",
       "  <use xlink:href=\"#glyph1-7\" x=\"401.902344\" y=\"198.388672\"/>\n",
       "</g>\n",
       "<path style=\"fill-rule:nonzero;fill:rgb(100%,100%,100%);fill-opacity:1;stroke-width:0.75;stroke-linecap:round;stroke-linejoin:round;stroke:rgb(0%,0%,0%);stroke-opacity:1;stroke-miterlimit:10;\" d=\"M 263.871094 138.964844 L 263.925781 138.546875 L 264.085938 138.15625 L 264.34375 137.824219 L 264.675781 137.566406 L 265.066406 137.40625 L 265.484375 137.347656 L 285.292969 137.347656 L 285.710938 137.40625 L 286.101562 137.566406 L 286.4375 137.824219 L 286.691406 138.15625 L 286.855469 138.546875 L 286.910156 138.964844 L 286.910156 148.65625 L 286.855469 149.074219 L 286.691406 149.464844 L 286.4375 149.800781 L 286.101562 150.058594 L 285.710938 150.21875 L 285.292969 150.273438 L 265.484375 150.273438 L 265.066406 150.21875 L 264.675781 150.058594 L 264.34375 149.800781 L 264.085938 149.464844 L 263.925781 149.074219 L 263.871094 148.65625 Z \"/>\n",
       "<path style=\"fill-rule:nonzero;fill:rgb(100%,100%,100%);fill-opacity:1;stroke-width:0.75;stroke-linecap:round;stroke-linejoin:round;stroke:rgb(0%,0%,0%);stroke-opacity:1;stroke-miterlimit:10;\" d=\"M 387.816406 138.964844 L 387.871094 138.546875 L 388.035156 138.15625 L 388.289062 137.824219 L 388.625 137.566406 L 389.015625 137.40625 L 389.433594 137.347656 L 409.242188 137.347656 L 409.660156 137.40625 L 410.050781 137.566406 L 410.382812 137.824219 L 410.640625 138.15625 L 410.800781 138.546875 L 410.859375 138.964844 L 410.859375 148.65625 L 410.800781 149.074219 L 410.640625 149.464844 L 410.382812 149.800781 L 410.050781 150.058594 L 409.660156 150.21875 L 409.242188 150.273438 L 389.433594 150.273438 L 389.015625 150.21875 L 388.625 150.058594 L 388.289062 149.800781 L 388.035156 149.464844 L 387.871094 149.074219 L 387.816406 148.65625 Z \"/>\n",
       "<g style=\"fill:rgb(0%,0%,0%);fill-opacity:1;\">\n",
       "  <use xlink:href=\"#glyph2-1\" x=\"267.890625\" y=\"145.78418\"/>\n",
       "  <use xlink:href=\"#glyph2-2\" x=\"272.6875\" y=\"145.78418\"/>\n",
       "  <use xlink:href=\"#glyph2-3\" x=\"278.021484\" y=\"145.78418\"/>\n",
       "</g>\n",
       "<g style=\"fill:rgb(0%,0%,0%);fill-opacity:1;\">\n",
       "  <use xlink:href=\"#glyph2-4\" x=\"393.835938\" y=\"145.709961\"/>\n",
       "  <use xlink:href=\"#glyph2-5\" x=\"399.169922\" y=\"145.709961\"/>\n",
       "</g>\n",
       "</g>\n",
       "</svg>\n"
      ],
      "text/plain": [
       "plot without title"
      ]
     },
     "metadata": {
      "image/svg+xml": {
       "isolated": true
      }
     },
     "output_type": "display_data"
    }
   ],
   "source": [
    "prp(CARTmodel2)"
   ]
  },
  {
   "cell_type": "code",
   "execution_count": 61,
   "metadata": {
    "collapsed": true
   },
   "outputs": [],
   "source": [
    "CARTmodel3 = rpart(voting ~ civicduty + hawthorne + self + neighbors + sex, data=gerber, cp=0.0)"
   ]
  },
  {
   "cell_type": "code",
   "execution_count": 62,
   "metadata": {
    "collapsed": false
   },
   "outputs": [
    {
     "data": {
      "image/png": "[encoded data removed]",
      "image/svg+xml": [
       "<?xml version=\"1.0\" encoding=\"UTF-8\"?>\n",
       "<svg xmlns=\"http://www.w3.org/2000/svg\" xmlns:xlink=\"http://www.w3.org/1999/xlink\" width=\"504pt\" height=\"504pt\" viewBox=\"0 0 504 504\" version=\"1.1\">\n",
       "<defs>\n",
       "<g>\n",
       "<symbol overflow=\"visible\" id=\"glyph0-0\">\n",
       "<path style=\"stroke:none;\" d=\"\"/>\n",
       "</symbol>\n",
       "<symbol overflow=\"visible\" id=\"glyph0-1\">\n",
       "<path style=\"stroke:none;\" d=\"M 0.75 -6.484375 L 0.75 0 L 2.4375 0 L 2.4375 -3.890625 C 2.4375 -4.65625 2.96875 -5.15625 3.796875 -5.15625 C 4.515625 -5.15625 4.875 -4.765625 4.875 -4 L 4.875 0 L 6.546875 0 L 6.546875 -4.34375 C 6.546875 -5.765625 5.765625 -6.59375 4.375 -6.59375 C 3.5 -6.59375 2.921875 -6.265625 2.4375 -5.546875 L 2.4375 -6.484375 Z \"/>\n",
       "</symbol>\n",
       "<symbol overflow=\"visible\" id=\"glyph0-2\">\n",
       "<path style=\"stroke:none;\" d=\"M 6.28125 -2.71875 C 6.296875 -2.859375 6.296875 -2.921875 6.296875 -3 C 6.296875 -3.640625 6.203125 -4.25 6.046875 -4.703125 C 5.609375 -5.875 4.578125 -6.59375 3.265625 -6.59375 C 1.40625 -6.59375 0.265625 -5.25 0.265625 -3.078125 C 0.265625 -1 1.390625 0.28125 3.234375 0.28125 C 4.6875 0.28125 5.859375 -0.546875 6.234375 -1.828125 L 4.578125 -1.828125 C 4.375 -1.3125 3.90625 -1.015625 3.28125 -1.015625 C 2.8125 -1.015625 2.421875 -1.21875 2.1875 -1.578125 C 2.03125 -1.8125 1.96875 -2.09375 1.9375 -2.71875 Z M 1.96875 -3.828125 C 2.078125 -4.8125 2.5 -5.296875 3.234375 -5.296875 C 3.65625 -5.296875 4.046875 -5.09375 4.28125 -4.765625 C 4.4375 -4.53125 4.515625 -4.265625 4.546875 -3.828125 Z \"/>\n",
       "</symbol>\n",
       "<symbol overflow=\"visible\" id=\"glyph0-3\">\n",
       "<path style=\"stroke:none;\" d=\"M 2.484375 -6.484375 L 0.796875 -6.484375 L 0.796875 0 L 2.484375 0 Z M 2.484375 -8.75 L 0.796875 -8.75 L 0.796875 -7.25 L 2.484375 -7.25 Z \"/>\n",
       "</symbol>\n",
       "<symbol overflow=\"visible\" id=\"glyph0-4\">\n",
       "<path style=\"stroke:none;\" d=\"M 4.890625 -6.484375 L 4.890625 -5.484375 C 4.390625 -6.25 3.84375 -6.59375 3.09375 -6.59375 C 1.5625 -6.59375 0.40625 -5.09375 0.40625 -3.078125 C 0.40625 -1.0625 1.46875 0.28125 3.0625 0.28125 C 3.8125 0.28125 4.265625 0.046875 4.890625 -0.65625 L 4.890625 0.21875 C 4.890625 1 4.3125 1.53125 3.46875 1.53125 C 2.828125 1.53125 2.40625 1.265625 2.28125 0.78125 L 0.546875 0.78125 C 0.546875 1.28125 0.75 1.625 1.171875 1.984375 C 1.6875 2.40625 2.40625 2.609375 3.40625 2.609375 C 5.359375 2.609375 6.484375 1.734375 6.484375 0.21875 L 6.484375 -6.484375 Z M 3.453125 -5.1875 C 4.296875 -5.1875 4.921875 -4.3125 4.921875 -3.109375 C 4.921875 -1.9375 4.3125 -1.125 3.4375 -1.125 C 2.640625 -1.125 2.09375 -1.9375 2.09375 -3.109375 C 2.09375 -4.328125 2.640625 -5.1875 3.453125 -5.1875 Z \"/>\n",
       "</symbol>\n",
       "<symbol overflow=\"visible\" id=\"glyph0-5\">\n",
       "<path style=\"stroke:none;\" d=\"M 0.796875 -8.75 L 0.796875 0 L 2.484375 0 L 2.484375 -3.890625 C 2.484375 -4.625 3.03125 -5.15625 3.78125 -5.15625 C 4.140625 -5.15625 4.421875 -5.03125 4.625 -4.765625 C 4.765625 -4.546875 4.8125 -4.375 4.8125 -3.953125 L 4.8125 0 L 6.484375 0 L 6.484375 -4.34375 C 6.484375 -5.140625 6.28125 -5.71875 5.828125 -6.09375 C 5.453125 -6.40625 4.921875 -6.59375 4.375 -6.59375 C 3.546875 -6.59375 2.953125 -6.25 2.484375 -5.546875 L 2.484375 -8.75 Z \"/>\n",
       "</symbol>\n",
       "<symbol overflow=\"visible\" id=\"glyph0-6\">\n",
       "<path style=\"stroke:none;\" d=\"M 0.703125 -8.75 L 0.703125 0 L 2.390625 0 L 2.390625 -0.65625 C 2.796875 -0.03125 3.359375 0.28125 4.171875 0.28125 C 5.71875 0.28125 6.90625 -1.203125 6.90625 -3.15625 C 6.90625 -4.03125 6.640625 -4.921875 6.203125 -5.546875 C 5.765625 -6.1875 4.96875 -6.59375 4.171875 -6.59375 C 3.375 -6.59375 2.796875 -6.28125 2.390625 -5.640625 L 2.390625 -8.75 Z M 3.796875 -5.1875 C 4.625 -5.1875 5.21875 -4.34375 5.21875 -3.140625 C 5.21875 -1.96875 4.625 -1.125 3.796875 -1.125 C 2.953125 -1.125 2.390625 -1.9375 2.390625 -3.1875 C 2.390625 -4.359375 2.96875 -5.1875 3.796875 -5.1875 Z \"/>\n",
       "</symbol>\n",
       "<symbol overflow=\"visible\" id=\"glyph0-7\">\n",
       "<path style=\"stroke:none;\" d=\"M 3.609375 -6.59375 C 1.625 -6.59375 0.421875 -5.28125 0.421875 -3.15625 C 0.421875 -1.015625 1.625 0.28125 3.625 0.28125 C 5.59375 0.28125 6.828125 -1.03125 6.828125 -3.109375 C 6.828125 -5.296875 5.640625 -6.59375 3.609375 -6.59375 Z M 3.625 -5.234375 C 4.546875 -5.234375 5.140625 -4.40625 5.140625 -3.125 C 5.140625 -1.921875 4.53125 -1.078125 3.625 -1.078125 C 2.71875 -1.078125 2.09375 -1.921875 2.09375 -3.15625 C 2.09375 -4.390625 2.71875 -5.234375 3.625 -5.234375 Z \"/>\n",
       "</symbol>\n",
       "<symbol overflow=\"visible\" id=\"glyph0-8\">\n",
       "<path style=\"stroke:none;\" d=\"M 0.75 -6.484375 L 0.75 0 L 2.4375 0 L 2.4375 -3.4375 C 2.4375 -4.421875 2.921875 -4.921875 3.90625 -4.921875 C 4.09375 -4.921875 4.21875 -4.90625 4.4375 -4.875 L 4.4375 -6.578125 C 4.34375 -6.59375 4.28125 -6.59375 4.234375 -6.59375 C 3.46875 -6.59375 2.796875 -6.078125 2.4375 -5.203125 L 2.4375 -6.484375 Z \"/>\n",
       "</symbol>\n",
       "<symbol overflow=\"visible\" id=\"glyph0-9\">\n",
       "<path style=\"stroke:none;\" d=\"\"/>\n",
       "</symbol>\n",
       "<symbol overflow=\"visible\" id=\"glyph0-10\">\n",
       "<path style=\"stroke:none;\" d=\"M 6.34375 -5.6875 L 0.484375 -3.515625 L 0.484375 -2.0625 L 6.34375 0.125 L 6.34375 -1.21875 L 1.765625 -2.78125 L 6.34375 -4.375 Z \"/>\n",
       "</symbol>\n",
       "<symbol overflow=\"visible\" id=\"glyph0-11\">\n",
       "<path style=\"stroke:none;\" d=\"M 3.28125 -8.6875 C 2.359375 -8.6875 1.578125 -8.296875 1.0625 -7.59375 C 0.578125 -6.9375 0.34375 -5.84375 0.34375 -4.203125 C 0.34375 -2.703125 0.546875 -1.625 0.953125 -0.984375 C 1.453125 -0.1875 2.28125 0.28125 3.28125 0.28125 C 4.203125 0.28125 4.953125 -0.09375 5.484375 -0.8125 C 5.96875 -1.46875 6.203125 -2.5625 6.203125 -4.15625 C 6.203125 -5.71875 6.015625 -6.765625 5.609375 -7.421875 C 5.09375 -8.25 4.265625 -8.6875 3.28125 -8.6875 Z M 3.28125 -7.328125 C 3.703125 -7.328125 4.0625 -7.09375 4.265625 -6.640625 C 4.421875 -6.28125 4.53125 -5.359375 4.53125 -4.1875 C 4.53125 -3.234375 4.421875 -2.28125 4.3125 -1.9375 C 4.109375 -1.4375 3.75 -1.15625 3.28125 -1.15625 C 2.828125 -1.15625 2.5 -1.390625 2.296875 -1.828125 C 2.125 -2.1875 2.03125 -3.078125 2.03125 -4.21875 C 2.03125 -5.203125 2.125 -6.1875 2.25 -6.53125 C 2.4375 -7.046875 2.796875 -7.328125 3.28125 -7.328125 Z \"/>\n",
       "</symbol>\n",
       "<symbol overflow=\"visible\" id=\"glyph0-12\">\n",
       "<path style=\"stroke:none;\" d=\"M 2.5625 -1.75 L 0.765625 -1.75 L 0.765625 0 L 2.5625 0 Z \"/>\n",
       "</symbol>\n",
       "<symbol overflow=\"visible\" id=\"glyph0-13\">\n",
       "<path style=\"stroke:none;\" d=\"M 5.875 -8.515625 L 1.3125 -8.515625 L 0.5625 -3.765625 L 2.078125 -3.765625 C 2.25 -4.1875 2.640625 -4.421875 3.15625 -4.421875 C 4.015625 -4.421875 4.53125 -3.796875 4.53125 -2.765625 C 4.53125 -1.78125 4 -1.15625 3.15625 -1.15625 C 2.421875 -1.15625 2.015625 -1.53125 1.984375 -2.21875 L 0.328125 -2.21875 C 0.34375 -0.734375 1.46875 0.28125 3.125 0.28125 C 4.953125 0.28125 6.203125 -0.96875 6.203125 -2.8125 C 6.203125 -4.546875 5.125 -5.75 3.546875 -5.75 C 2.984375 -5.75 2.5625 -5.609375 2.078125 -5.234375 L 2.359375 -7.015625 L 5.875 -7.015625 Z \"/>\n",
       "</symbol>\n",
       "<symbol overflow=\"visible\" id=\"glyph0-14\">\n",
       "<path style=\"stroke:none;\" d=\"M 6.0625 -4.390625 C 6.03125 -5.765625 4.984375 -6.59375 3.234375 -6.59375 C 1.59375 -6.59375 0.578125 -5.765625 0.578125 -4.421875 C 0.578125 -4 0.703125 -3.625 0.9375 -3.375 C 1.15625 -3.140625 1.375 -3.03125 1.984375 -2.828125 L 4 -2.203125 C 4.421875 -2.078125 4.5625 -1.9375 4.5625 -1.6875 C 4.5625 -1.28125 4.09375 -1.046875 3.3125 -1.046875 C 2.875 -1.046875 2.53125 -1.125 2.3125 -1.265625 C 2.140625 -1.40625 2.0625 -1.53125 1.984375 -1.890625 L 0.34375 -1.890625 C 0.390625 -0.46875 1.4375 0.28125 3.40625 0.28125 C 4.3125 0.28125 4.984375 0.078125 5.46875 -0.296875 C 5.953125 -0.6875 6.234375 -1.28125 6.234375 -1.921875 C 6.234375 -2.765625 5.8125 -3.296875 4.96875 -3.546875 L 2.84375 -4.15625 C 2.375 -4.3125 2.25 -4.40625 2.25 -4.671875 C 2.25 -5.03125 2.640625 -5.265625 3.234375 -5.265625 C 4.03125 -5.265625 4.421875 -4.984375 4.4375 -4.390625 Z \"/>\n",
       "</symbol>\n",
       "<symbol overflow=\"visible\" id=\"glyph0-15\">\n",
       "<path style=\"stroke:none;\" d=\"M 2.484375 -8.75 L 0.796875 -8.75 L 0.796875 0 L 2.484375 0 Z \"/>\n",
       "</symbol>\n",
       "<symbol overflow=\"visible\" id=\"glyph0-16\">\n",
       "<path style=\"stroke:none;\" d=\"M 3.75 -6.34375 L 2.765625 -6.34375 L 2.765625 -6.984375 C 2.765625 -7.3125 2.90625 -7.484375 3.21875 -7.484375 C 3.359375 -7.484375 3.546875 -7.46875 3.703125 -7.453125 L 3.703125 -8.71875 C 3.390625 -8.734375 2.96875 -8.75 2.734375 -8.75 C 1.625 -8.75 1.078125 -8.21875 1.078125 -7.125 L 1.078125 -6.34375 L 0.171875 -6.34375 L 0.171875 -5.234375 L 1.078125 -5.234375 L 1.078125 0 L 2.765625 0 L 2.765625 -5.234375 L 3.75 -5.234375 Z \"/>\n",
       "</symbol>\n",
       "<symbol overflow=\"visible\" id=\"glyph0-17\">\n",
       "<path style=\"stroke:none;\" d=\"M 6.28125 -0.203125 C 5.984375 -0.484375 5.90625 -0.65625 5.90625 -1 L 5.90625 -4.59375 C 5.90625 -5.921875 5 -6.59375 3.25 -6.59375 C 1.5 -6.59375 0.59375 -5.84375 0.484375 -4.34375 L 2.09375 -4.34375 C 2.1875 -5.015625 2.453125 -5.234375 3.28125 -5.234375 C 3.9375 -5.234375 4.265625 -5.015625 4.265625 -4.578125 C 4.265625 -4.375 4.15625 -4.171875 3.96875 -4.078125 C 3.75 -3.953125 3.75 -3.953125 2.921875 -3.828125 L 2.25 -3.703125 C 0.953125 -3.484375 0.34375 -2.828125 0.34375 -1.671875 C 0.34375 -1.109375 0.484375 -0.65625 0.796875 -0.34375 C 1.15625 0.046875 1.734375 0.28125 2.296875 0.28125 C 3.03125 0.28125 3.6875 -0.03125 4.265625 -0.640625 C 4.265625 -0.3125 4.3125 -0.1875 4.46875 0 L 6.28125 0 Z M 4.265625 -2.609375 C 4.265625 -1.625 3.78125 -1.078125 2.921875 -1.078125 C 2.359375 -1.078125 2.015625 -1.375 2.015625 -1.859375 C 2.015625 -2.359375 2.28125 -2.609375 2.96875 -2.75 L 3.546875 -2.859375 C 4 -2.9375 4.0625 -2.96875 4.265625 -3.0625 Z \"/>\n",
       "</symbol>\n",
       "<symbol overflow=\"visible\" id=\"glyph0-18\">\n",
       "<path style=\"stroke:none;\" d=\"M 7.359375 0 L 9.1875 -6.484375 L 7.453125 -6.484375 L 6.46875 -1.9375 L 5.5 -6.484375 L 3.8125 -6.484375 L 2.828125 -1.9375 L 1.796875 -6.484375 L 0.0625 -6.484375 L 1.890625 0 L 3.609375 0 L 4.640625 -4.578125 L 5.609375 0 Z \"/>\n",
       "</symbol>\n",
       "<symbol overflow=\"visible\" id=\"glyph0-19\">\n",
       "<path style=\"stroke:none;\" d=\"M 3.609375 -6.34375 L 2.671875 -6.34375 L 2.671875 -8.09375 L 1 -8.09375 L 1 -6.34375 L 0.171875 -6.34375 L 0.171875 -5.234375 L 1 -5.234375 L 1 -1.25 C 1 -0.234375 1.53125 0.28125 2.640625 0.28125 C 3.015625 0.28125 3.3125 0.234375 3.609375 0.140625 L 3.609375 -1.03125 C 3.4375 -1.015625 3.34375 -1 3.234375 -1 C 2.78125 -1 2.671875 -1.125 2.671875 -1.703125 L 2.671875 -5.234375 L 3.609375 -5.234375 Z \"/>\n",
       "</symbol>\n",
       "<symbol overflow=\"visible\" id=\"glyph0-20\">\n",
       "<path style=\"stroke:none;\" d=\"M 6.265625 -4.0625 C 6.140625 -5.640625 5.09375 -6.59375 3.46875 -6.59375 C 1.53125 -6.59375 0.40625 -5.3125 0.40625 -3.109375 C 0.40625 -0.96875 1.53125 0.28125 3.4375 0.28125 C 5.015625 0.28125 6.109375 -0.703125 6.265625 -2.25 L 4.65625 -2.25 C 4.4375 -1.40625 4.109375 -1.078125 3.453125 -1.078125 C 2.609375 -1.078125 2.09375 -1.84375 2.09375 -3.109375 C 2.09375 -3.71875 2.203125 -4.296875 2.40625 -4.6875 C 2.609375 -5.046875 2.96875 -5.234375 3.453125 -5.234375 C 4.140625 -5.234375 4.46875 -4.90625 4.65625 -4.0625 Z \"/>\n",
       "</symbol>\n",
       "<symbol overflow=\"visible\" id=\"glyph0-21\">\n",
       "<path style=\"stroke:none;\" d=\"M 4.203125 0 L 6.4375 -6.484375 L 4.65625 -6.484375 L 3.34375 -1.734375 L 1.9375 -6.484375 L 0.171875 -6.484375 L 2.4375 0 Z \"/>\n",
       "</symbol>\n",
       "<symbol overflow=\"visible\" id=\"glyph0-22\">\n",
       "<path style=\"stroke:none;\" d=\"M 4.859375 0 L 6.546875 0 L 6.546875 -8.75 L 4.859375 -8.75 L 4.859375 -5.640625 C 4.4375 -6.28125 3.875 -6.59375 3.078125 -6.59375 C 1.53125 -6.59375 0.34375 -5.09375 0.34375 -3.140625 C 0.34375 -2.265625 0.609375 -1.375 1.046875 -0.75 C 1.484375 -0.125 2.28125 0.28125 3.078125 0.28125 C 3.875 0.28125 4.4375 -0.03125 4.859375 -0.65625 Z M 3.4375 -5.1875 C 4.296875 -5.1875 4.859375 -4.359375 4.859375 -3.125 C 4.859375 -1.9375 4.28125 -1.125 3.4375 -1.125 C 2.609375 -1.125 2.03125 -1.953125 2.03125 -3.140625 C 2.03125 -4.34375 2.609375 -5.1875 3.4375 -5.1875 Z \"/>\n",
       "</symbol>\n",
       "<symbol overflow=\"visible\" id=\"glyph0-23\">\n",
       "<path style=\"stroke:none;\" d=\"M 6.484375 0 L 6.484375 -6.484375 L 4.8125 -6.484375 L 4.8125 -2.421875 C 4.8125 -1.65625 4.265625 -1.15625 3.453125 -1.15625 C 2.734375 -1.15625 2.375 -1.53125 2.375 -2.3125 L 2.375 -6.484375 L 0.703125 -6.484375 L 0.703125 -1.96875 C 0.703125 -0.546875 1.484375 0.28125 2.875 0.28125 C 3.75 0.28125 4.328125 -0.046875 4.8125 -0.765625 L 4.8125 0 Z \"/>\n",
       "</symbol>\n",
       "<symbol overflow=\"visible\" id=\"glyph0-24\">\n",
       "<path style=\"stroke:none;\" d=\"M 4.265625 -3.265625 L 6.375 -6.484375 L 4.359375 -6.484375 L 3.3125 -4.53125 L 2.25 -6.484375 L 0.234375 -6.484375 L 2.359375 -3.265625 L 0.1875 0 L 2.203125 0 L 3.3125 -2.015625 L 4.40625 0 L 6.421875 0 Z \"/>\n",
       "</symbol>\n",
       "<symbol overflow=\"visible\" id=\"glyph0-25\">\n",
       "<path style=\"stroke:none;\" d=\"M 0.484375 0.125 L 6.34375 -2.046875 L 6.34375 -3.5 L 0.484375 -5.6875 L 0.484375 -4.359375 L 5.0625 -2.78125 L 0.484375 -1.1875 Z \"/>\n",
       "</symbol>\n",
       "<symbol overflow=\"visible\" id=\"glyph0-26\">\n",
       "<path style=\"stroke:none;\" d=\"M 6.40625 -4.9375 L 0.59375 -4.9375 L 0.59375 -3.5 L 6.40625 -3.5 Z M 6.40625 -2.046875 L 0.59375 -2.046875 L 0.59375 -0.625 L 6.40625 -0.625 Z \"/>\n",
       "</symbol>\n",
       "<symbol overflow=\"visible\" id=\"glyph1-0\">\n",
       "<path style=\"stroke:none;\" d=\"\"/>\n",
       "</symbol>\n",
       "<symbol overflow=\"visible\" id=\"glyph1-1\">\n",
       "<path style=\"stroke:none;\" d=\"M 3.296875 -8.515625 C 2.515625 -8.515625 1.78125 -8.15625 1.34375 -7.578125 C 0.796875 -6.828125 0.515625 -5.6875 0.515625 -4.109375 C 0.515625 -1.25 1.46875 0.28125 3.296875 0.28125 C 5.09375 0.28125 6.078125 -1.25 6.078125 -4.046875 C 6.078125 -5.703125 5.8125 -6.796875 5.25 -7.578125 C 4.8125 -8.171875 4.109375 -8.515625 3.296875 -8.515625 Z M 3.296875 -7.578125 C 4.4375 -7.578125 5 -6.421875 5 -4.140625 C 5 -1.734375 4.453125 -0.59375 3.28125 -0.59375 C 2.15625 -0.59375 1.59375 -1.78125 1.59375 -4.109375 C 1.59375 -6.4375 2.15625 -7.578125 3.296875 -7.578125 Z \"/>\n",
       "</symbol>\n",
       "<symbol overflow=\"visible\" id=\"glyph1-2\">\n",
       "<path style=\"stroke:none;\" d=\"M 2.296875 -1.25 L 1.046875 -1.25 L 1.046875 0 L 2.296875 0 Z \"/>\n",
       "</symbol>\n",
       "<symbol overflow=\"visible\" id=\"glyph1-3\">\n",
       "<path style=\"stroke:none;\" d=\"M 6.078125 -1.046875 L 1.59375 -1.046875 C 1.703125 -1.734375 2.09375 -2.1875 3.125 -2.796875 L 4.328125 -3.4375 C 5.515625 -4.09375 6.125 -4.96875 6.125 -6.015625 C 6.125 -6.71875 5.84375 -7.375 5.34375 -7.84375 C 4.84375 -8.296875 4.21875 -8.515625 3.40625 -8.515625 C 2.328125 -8.515625 1.53125 -8.125 1.0625 -7.40625 C 0.75 -6.953125 0.625 -6.421875 0.59375 -5.5625 L 1.65625 -5.5625 C 1.6875 -6.125 1.765625 -6.484375 1.90625 -6.75 C 2.1875 -7.265625 2.734375 -7.578125 3.375 -7.578125 C 4.328125 -7.578125 5.046875 -6.90625 5.046875 -5.984375 C 5.046875 -5.3125 4.65625 -4.734375 3.90625 -4.3125 L 2.796875 -3.6875 C 1.015625 -2.671875 0.5 -1.875 0.40625 0 L 6.078125 0 Z \"/>\n",
       "</symbol>\n",
       "<symbol overflow=\"visible\" id=\"glyph1-4\">\n",
       "<path style=\"stroke:none;\" d=\"M 0.640625 -1.9375 C 0.84375 -0.546875 1.75 0.28125 3.046875 0.28125 C 3.984375 0.28125 4.84375 -0.1875 5.328125 -0.9375 C 5.875 -1.765625 6.109375 -2.8125 6.109375 -4.359375 C 6.109375 -5.78125 5.890625 -6.703125 5.390625 -7.453125 C 4.921875 -8.140625 4.171875 -8.515625 3.234375 -8.515625 C 1.625 -8.515625 0.453125 -7.3125 0.453125 -5.640625 C 0.453125 -4.0625 1.53125 -2.9375 3.078125 -2.9375 C 3.875 -2.9375 4.46875 -3.234375 5.015625 -3.890625 C 5 -1.8125 4.328125 -0.65625 3.125 -0.65625 C 2.375 -0.65625 1.859375 -1.125 1.6875 -1.9375 Z M 3.234375 -7.578125 C 4.21875 -7.578125 4.953125 -6.765625 4.953125 -5.65625 C 4.953125 -4.625 4.21875 -3.875 3.1875 -3.875 C 2.171875 -3.875 1.53125 -4.578125 1.53125 -5.71875 C 1.53125 -6.796875 2.25 -7.578125 3.234375 -7.578125 Z \"/>\n",
       "</symbol>\n",
       "<symbol overflow=\"visible\" id=\"glyph1-5\">\n",
       "<path style=\"stroke:none;\" d=\"M 2.65625 -3.90625 L 3.234375 -3.90625 C 4.390625 -3.90625 4.984375 -3.390625 4.984375 -2.359375 C 4.984375 -1.296875 4.328125 -0.65625 3.234375 -0.65625 C 2.078125 -0.65625 1.515625 -1.234375 1.4375 -2.46875 L 0.390625 -2.46875 C 0.4375 -1.78125 0.546875 -1.34375 0.75 -0.953125 C 1.1875 -0.140625 2.03125 0.28125 3.1875 0.28125 C 4.9375 0.28125 6.078125 -0.765625 6.078125 -2.375 C 6.078125 -3.453125 5.65625 -4.0625 4.625 -4.40625 C 5.421875 -4.71875 5.8125 -5.3125 5.8125 -6.171875 C 5.8125 -7.625 4.84375 -8.515625 3.234375 -8.515625 C 1.515625 -8.515625 0.59375 -7.578125 0.5625 -5.765625 L 1.625 -5.765625 C 1.625 -6.28125 1.6875 -6.5625 1.8125 -6.828125 C 2.046875 -7.296875 2.578125 -7.578125 3.234375 -7.578125 C 4.171875 -7.578125 4.734375 -7.03125 4.734375 -6.125 C 4.734375 -5.53125 4.53125 -5.171875 4.0625 -4.984375 C 3.765625 -4.859375 3.390625 -4.8125 2.65625 -4.796875 Z \"/>\n",
       "</symbol>\n",
       "<symbol overflow=\"visible\" id=\"glyph1-6\">\n",
       "<path style=\"stroke:none;\" d=\"M 3.109375 -6.0625 L 3.109375 0 L 4.15625 0 L 4.15625 -8.515625 L 3.46875 -8.515625 C 3.09375 -7.203125 2.859375 -7.015625 1.21875 -6.8125 L 1.21875 -6.0625 Z \"/>\n",
       "</symbol>\n",
       "<symbol overflow=\"visible\" id=\"glyph1-7\">\n",
       "<path style=\"stroke:none;\" d=\"M 3.921875 -2.046875 L 3.921875 0 L 4.984375 0 L 4.984375 -2.046875 L 6.234375 -2.046875 L 6.234375 -2.984375 L 4.984375 -2.984375 L 4.984375 -8.515625 L 4.203125 -8.515625 L 0.34375 -3.15625 L 0.34375 -2.046875 Z M 3.921875 -2.984375 L 1.265625 -2.984375 L 3.921875 -6.703125 Z \"/>\n",
       "</symbol>\n",
       "<symbol overflow=\"visible\" id=\"glyph1-8\">\n",
       "<path style=\"stroke:none;\" d=\"M 5.71875 -8.515625 L 1.3125 -8.515625 L 0.6875 -3.875 L 1.65625 -3.875 C 2.140625 -4.46875 2.5625 -4.671875 3.21875 -4.671875 C 4.359375 -4.671875 5.078125 -3.890625 5.078125 -2.625 C 5.078125 -1.40625 4.375 -0.65625 3.21875 -0.65625 C 2.296875 -0.65625 1.734375 -1.125 1.46875 -2.09375 L 0.421875 -2.09375 C 0.5625 -1.390625 0.6875 -1.0625 0.9375 -0.75 C 1.421875 -0.09375 2.28125 0.28125 3.234375 0.28125 C 4.953125 0.28125 6.15625 -0.96875 6.15625 -2.765625 C 6.15625 -4.453125 5.046875 -5.609375 3.40625 -5.609375 C 2.8125 -5.609375 2.328125 -5.453125 1.84375 -5.09375 L 2.171875 -7.46875 L 5.71875 -7.46875 Z \"/>\n",
       "</symbol>\n",
       "<symbol overflow=\"visible\" id=\"glyph1-9\">\n",
       "<path style=\"stroke:none;\" d=\"M 6.234375 -8.515625 L 0.546875 -8.515625 L 0.546875 -7.46875 L 5.140625 -7.46875 C 3.125 -4.578125 2.296875 -2.796875 1.65625 0 L 2.78125 0 C 3.25 -2.71875 4.3125 -5.0625 6.234375 -7.625 Z \"/>\n",
       "</symbol>\n",
       "<symbol overflow=\"visible\" id=\"glyph1-10\">\n",
       "<path style=\"stroke:none;\" d=\"M 4.6875 -4.46875 C 5.5625 -5 5.859375 -5.4375 5.859375 -6.234375 C 5.859375 -7.578125 4.8125 -8.515625 3.296875 -8.515625 C 1.796875 -8.515625 0.75 -7.578125 0.75 -6.234375 C 0.75 -5.453125 1.03125 -5.015625 1.890625 -4.46875 C 0.921875 -4.015625 0.4375 -3.296875 0.4375 -2.359375 C 0.4375 -0.796875 1.625 0.28125 3.296875 0.28125 C 4.984375 0.28125 6.15625 -0.796875 6.15625 -2.359375 C 6.15625 -3.296875 5.671875 -4.015625 4.6875 -4.46875 Z M 3.296875 -7.578125 C 4.203125 -7.578125 4.78125 -7.046875 4.78125 -6.21875 C 4.78125 -5.421875 4.1875 -4.890625 3.296875 -4.890625 C 2.40625 -4.890625 1.828125 -5.421875 1.828125 -6.234375 C 1.828125 -7.046875 2.40625 -7.578125 3.296875 -7.578125 Z M 3.296875 -4.015625 C 4.359375 -4.015625 5.078125 -3.34375 5.078125 -2.34375 C 5.078125 -1.328125 4.359375 -0.65625 3.28125 -0.65625 C 2.25 -0.65625 1.53125 -1.34375 1.53125 -2.34375 C 1.53125 -3.34375 2.25 -4.015625 3.296875 -4.015625 Z \"/>\n",
       "</symbol>\n",
       "<symbol overflow=\"visible\" id=\"glyph2-0\">\n",
       "<path style=\"stroke:none;\" d=\"\"/>\n",
       "</symbol>\n",
       "<symbol overflow=\"visible\" id=\"glyph2-1\">\n",
       "<path style=\"stroke:none;\" d=\"M 4.8125 -5.03125 L 2.578125 -1.125 L 2.125 -5.03125 L 1.265625 -5.03125 L 1.921875 0.03125 L 1.421875 0.8125 C 1.15625 1.21875 1 1.3125 0.65625 1.3125 C 0.5625 1.3125 0.484375 1.3125 0.234375 1.28125 L 0.078125 2 C 0.25 2.078125 0.359375 2.09375 0.546875 2.09375 C 1.234375 2.09375 1.71875 1.765625 2.125 1.0625 L 5.65625 -5.03125 Z \"/>\n",
       "</symbol>\n",
       "<symbol overflow=\"visible\" id=\"glyph2-2\">\n",
       "<path style=\"stroke:none;\" d=\"M 5.40625 -2.25 L 5.4375 -2.40625 C 5.515625 -2.875 5.5625 -3.265625 5.5625 -3.53125 C 5.5625 -4.453125 4.765625 -5.171875 3.734375 -5.171875 C 2.890625 -5.171875 2.09375 -4.78125 1.609375 -4.140625 C 1.15625 -3.53125 0.8125 -2.4375 0.8125 -1.65625 C 0.8125 -1.140625 1.03125 -0.609375 1.40625 -0.265625 C 1.734375 0.0625 2.15625 0.21875 2.703125 0.21875 C 3.859375 0.21875 4.84375 -0.484375 5.140625 -1.53125 L 4.34375 -1.53125 C 3.984375 -0.859375 3.484375 -0.515625 2.84375 -0.515625 C 2.078125 -0.515625 1.65625 -0.984375 1.65625 -1.796875 C 1.65625 -2 1.65625 -2.09375 1.703125 -2.25 Z M 1.875 -2.9375 C 2.125 -3.8125 2.828125 -4.4375 3.609375 -4.4375 C 4.28125 -4.4375 4.71875 -3.96875 4.71875 -3.25 C 4.71875 -3.15625 4.703125 -3.09375 4.6875 -2.9375 Z \"/>\n",
       "</symbol>\n",
       "<symbol overflow=\"visible\" id=\"glyph2-3\">\n",
       "<path style=\"stroke:none;\" d=\"M 4.9375 -3.625 C 4.984375 -3.828125 4.984375 -3.921875 4.984375 -4.03125 C 4.984375 -4.703125 4.34375 -5.171875 3.421875 -5.171875 C 2.734375 -5.171875 2.15625 -4.96875 1.75 -4.59375 C 1.40625 -4.265625 1.1875 -3.765625 1.1875 -3.3125 C 1.1875 -2.71875 1.515625 -2.453125 2.5 -2.1875 L 3.21875 -2 C 3.53125 -1.921875 3.671875 -1.859375 3.765625 -1.75 C 3.828125 -1.671875 3.890625 -1.53125 3.890625 -1.4375 C 3.890625 -1.265625 3.734375 -0.96875 3.578125 -0.84375 C 3.34375 -0.640625 2.921875 -0.515625 2.515625 -0.515625 C 1.859375 -0.515625 1.484375 -0.78125 1.484375 -1.25 C 1.484375 -1.3125 1.484375 -1.40625 1.5 -1.5 L 0.640625 -1.5 C 0.59375 -1.28125 0.578125 -1.15625 0.578125 -1 C 0.578125 -0.234375 1.25 0.21875 2.375 0.21875 C 3.796875 0.21875 4.734375 -0.515625 4.734375 -1.65625 C 4.734375 -2.25 4.40625 -2.546875 3.5625 -2.765625 L 2.84375 -2.9375 C 2.296875 -3.078125 2.03125 -3.265625 2.03125 -3.515625 C 2.03125 -3.71875 2.140625 -3.953125 2.3125 -4.109375 C 2.546875 -4.34375 2.828125 -4.4375 3.25 -4.4375 C 3.8125 -4.4375 4.140625 -4.21875 4.140625 -3.84375 C 4.140625 -3.765625 4.140625 -3.703125 4.125 -3.625 Z \"/>\n",
       "</symbol>\n",
       "<symbol overflow=\"visible\" id=\"glyph2-4\">\n",
       "<path style=\"stroke:none;\" d=\"M 1.734375 -5.03125 L 0.671875 0 L 1.484375 0 L 2.0625 -2.765625 C 2.296875 -3.828125 2.96875 -4.484375 3.828125 -4.484375 C 4.3125 -4.484375 4.65625 -4.140625 4.65625 -3.703125 C 4.65625 -3.640625 4.640625 -3.5 4.609375 -3.34375 L 3.890625 0 L 4.703125 0 L 5.46875 -3.609375 C 5.5 -3.734375 5.5 -3.84375 5.5 -3.96875 C 5.5 -4.703125 5 -5.171875 4.203125 -5.171875 C 3.46875 -5.171875 2.84375 -4.90625 2.34375 -4.40625 L 2.46875 -5.03125 Z \"/>\n",
       "</symbol>\n",
       "<symbol overflow=\"visible\" id=\"glyph2-5\">\n",
       "<path style=\"stroke:none;\" d=\"M 3.6875 -5.171875 C 2.796875 -5.171875 2 -4.765625 1.515625 -4.0625 C 1.078125 -3.4375 0.765625 -2.390625 0.765625 -1.578125 C 0.765625 -0.515625 1.5 0.21875 2.578125 0.21875 C 3.5 0.21875 4.234375 -0.15625 4.765625 -0.890625 C 5.203125 -1.5 5.53125 -2.546875 5.53125 -3.375 C 5.53125 -3.890625 5.328125 -4.375 5 -4.703125 C 4.671875 -5.015625 4.234375 -5.171875 3.6875 -5.171875 Z M 3.5625 -4.4375 C 4.265625 -4.4375 4.6875 -3.96875 4.6875 -3.1875 C 4.6875 -2.625 4.515625 -2 4.265625 -1.53125 C 3.890625 -0.859375 3.375 -0.515625 2.71875 -0.515625 C 2.03125 -0.515625 1.609375 -1 1.609375 -1.765625 C 1.609375 -2.3125 1.78125 -2.9375 2.03125 -3.421875 C 2.390625 -4.078125 2.921875 -4.4375 3.5625 -4.4375 Z \"/>\n",
       "</symbol>\n",
       "</g>\n",
       "</defs>\n",
       "<g id=\"surface95\">\n",
       "<rect x=\"0\" y=\"0\" width=\"504\" height=\"504\" style=\"fill:rgb(100%,100%,100%);fill-opacity:1;stroke:none;\"/>\n",
       "<path style=\"fill:none;stroke-width:0.75;stroke-linecap:butt;stroke-linejoin:round;stroke:rgb(0%,0%,0%);stroke-opacity:1;stroke-miterlimit:10;\" d=\"M 270.257812 169.722656 L 333.890625 114.960938 L 349.800781 114.960938 \"/>\n",
       "<path style=\"fill:none;stroke-width:0.75;stroke-linecap:butt;stroke-linejoin:round;stroke:rgb(0%,0%,0%);stroke-opacity:1;stroke-miterlimit:10;\" d=\"M 194.625 225.914062 L 255.128906 171.152344 L 270.257812 171.152344 \"/>\n",
       "<path style=\"fill:none;stroke-width:0.75;stroke-linecap:butt;stroke-linejoin:round;stroke:rgb(0%,0%,0%);stroke-opacity:1;stroke-miterlimit:10;\" d=\"M 126.8125 282.105469 L 181.0625 227.34375 L 194.625 227.34375 \"/>\n",
       "<path style=\"fill:none;stroke-width:0.75;stroke-linecap:butt;stroke-linejoin:round;stroke:rgb(0%,0%,0%);stroke-opacity:1;stroke-miterlimit:10;\" d=\"M 74.652344 338.292969 L 116.382812 283.535156 L 126.8125 283.535156 \"/>\n",
       "<path style=\"fill:none;stroke-width:0.75;stroke-linecap:butt;stroke-linejoin:round;stroke:rgb(0%,0%,0%);stroke-opacity:1;stroke-miterlimit:10;\" d=\"M 48.574219 382.992188 L 69.4375 339.726562 L 74.652344 339.726562 \"/>\n",
       "<path style=\"fill:none;stroke-width:0.75;stroke-linecap:butt;stroke-linejoin:round;stroke:rgb(0%,0%,0%);stroke-opacity:1;stroke-miterlimit:10;\" d=\"M 100.734375 382.992188 L 79.871094 339.726562 L 74.652344 339.726562 \"/>\n",
       "<path style=\"fill:none;stroke-width:0.75;stroke-linecap:butt;stroke-linejoin:round;stroke:rgb(0%,0%,0%);stroke-opacity:1;stroke-miterlimit:10;\" d=\"M 178.976562 338.292969 L 137.246094 283.535156 L 126.8125 283.535156 \"/>\n",
       "<path style=\"fill:none;stroke-width:0.75;stroke-linecap:butt;stroke-linejoin:round;stroke:rgb(0%,0%,0%);stroke-opacity:1;stroke-miterlimit:10;\" d=\"M 152.894531 382.992188 L 173.757812 339.726562 L 178.976562 339.726562 \"/>\n",
       "<path style=\"fill:none;stroke-width:0.75;stroke-linecap:butt;stroke-linejoin:round;stroke:rgb(0%,0%,0%);stroke-opacity:1;stroke-miterlimit:10;\" d=\"M 205.054688 382.992188 L 184.191406 339.726562 L 178.976562 339.726562 \"/>\n",
       "<path style=\"fill:none;stroke-width:0.75;stroke-linecap:butt;stroke-linejoin:round;stroke:rgb(0%,0%,0%);stroke-opacity:1;stroke-miterlimit:10;\" d=\"M 262.433594 282.105469 L 208.183594 227.34375 L 194.625 227.34375 \"/>\n",
       "<path style=\"fill:none;stroke-width:0.75;stroke-linecap:butt;stroke-linejoin:round;stroke:rgb(0%,0%,0%);stroke-opacity:1;stroke-miterlimit:10;\" d=\"M 236.351562 326.800781 L 257.214844 283.535156 L 262.433594 283.535156 \"/>\n",
       "<path style=\"fill:none;stroke-width:0.75;stroke-linecap:butt;stroke-linejoin:round;stroke:rgb(0%,0%,0%);stroke-opacity:1;stroke-miterlimit:10;\" d=\"M 288.511719 326.800781 L 267.648438 283.535156 L 262.433594 283.535156 \"/>\n",
       "<path style=\"fill:none;stroke-width:0.75;stroke-linecap:butt;stroke-linejoin:round;stroke:rgb(0%,0%,0%);stroke-opacity:1;stroke-miterlimit:10;\" d=\"M 345.890625 225.914062 L 285.382812 171.152344 L 270.257812 171.152344 \"/>\n",
       "<path style=\"fill:none;stroke-width:0.75;stroke-linecap:butt;stroke-linejoin:round;stroke:rgb(0%,0%,0%);stroke-opacity:1;stroke-miterlimit:10;\" d=\"M 319.808594 270.609375 L 340.671875 227.34375 L 345.890625 227.34375 \"/>\n",
       "<path style=\"fill:none;stroke-width:0.75;stroke-linecap:butt;stroke-linejoin:round;stroke:rgb(0%,0%,0%);stroke-opacity:1;stroke-miterlimit:10;\" d=\"M 371.96875 270.609375 L 351.105469 227.34375 L 345.890625 227.34375 \"/>\n",
       "<path style=\"fill:none;stroke-width:0.75;stroke-linecap:butt;stroke-linejoin:round;stroke:rgb(0%,0%,0%);stroke-opacity:1;stroke-miterlimit:10;\" d=\"M 429.347656 169.722656 L 365.710938 114.960938 L 349.800781 114.960938 \"/>\n",
       "<path style=\"fill:none;stroke-width:0.75;stroke-linecap:butt;stroke-linejoin:round;stroke:rgb(0%,0%,0%);stroke-opacity:1;stroke-miterlimit:10;\" d=\"M 403.265625 214.417969 L 424.128906 171.152344 L 429.347656 171.152344 \"/>\n",
       "<path style=\"fill:none;stroke-width:0.75;stroke-linecap:butt;stroke-linejoin:round;stroke:rgb(0%,0%,0%);stroke-opacity:1;stroke-miterlimit:10;\" d=\"M 455.425781 214.417969 L 434.5625 171.152344 L 429.347656 171.152344 \"/>\n",
       "<path style=\" stroke:none;fill-rule:nonzero;fill:rgb(100%,100%,100%);fill-opacity:1;\" d=\"M 303.957031 119.269531 L 303.957031 102.039062 L 395.648438 102.039062 L 395.648438 119.269531 Z \"/>\n",
       "<path style=\" stroke:none;fill-rule:nonzero;fill:rgb(100%,100%,100%);fill-opacity:1;\" d=\"M 239.742188 175.460938 L 239.742188 158.226562 L 300.773438 158.226562 L 300.773438 175.460938 Z \"/>\n",
       "<path style=\" stroke:none;fill-rule:nonzero;fill:rgb(100%,100%,100%);fill-opacity:1;\" d=\"M 147.535156 231.652344 L 147.535156 214.417969 L 241.710938 214.417969 L 241.710938 231.652344 Z \"/>\n",
       "<path style=\" stroke:none;fill-rule:nonzero;fill:rgb(100%,100%,100%);fill-opacity:1;\" d=\"M 83.960938 287.84375 L 83.960938 270.609375 L 169.667969 270.609375 L 169.667969 287.84375 Z \"/>\n",
       "<path style=\" stroke:none;fill-rule:nonzero;fill:rgb(100%,100%,100%);fill-opacity:1;\" d=\"M 41.054688 344.03125 L 41.054688 326.800781 L 108.253906 326.800781 L 108.253906 344.03125 Z \"/>\n",
       "<path style=\" stroke:none;fill-rule:nonzero;fill:rgb(100%,100%,100%);fill-opacity:1;\" d=\"M 145.375 344.03125 L 145.375 326.800781 L 212.574219 326.800781 L 212.574219 344.03125 Z \"/>\n",
       "<path style=\" stroke:none;fill-rule:nonzero;fill:rgb(100%,100%,100%);fill-opacity:1;\" d=\"M 228.832031 287.84375 L 228.832031 270.609375 L 296.03125 270.609375 L 296.03125 287.84375 Z \"/>\n",
       "<path style=\" stroke:none;fill-rule:nonzero;fill:rgb(100%,100%,100%);fill-opacity:1;\" d=\"M 312.289062 231.652344 L 312.289062 214.417969 L 379.488281 214.417969 L 379.488281 231.652344 Z \"/>\n",
       "<path style=\" stroke:none;fill-rule:nonzero;fill:rgb(100%,100%,100%);fill-opacity:1;\" d=\"M 395.746094 175.460938 L 395.746094 158.226562 L 462.945312 158.226562 L 462.945312 175.460938 Z \"/>\n",
       "<g style=\"fill:rgb(0%,0%,0%);fill-opacity:1;\">\n",
       "  <use xlink:href=\"#glyph0-1\" x=\"308.800781\" y=\"113.400391\"/>\n",
       "  <use xlink:href=\"#glyph0-2\" x=\"316.132812\" y=\"113.400391\"/>\n",
       "  <use xlink:href=\"#glyph0-3\" x=\"322.804688\" y=\"113.400391\"/>\n",
       "  <use xlink:href=\"#glyph0-4\" x=\"326.140625\" y=\"113.400391\"/>\n",
       "  <use xlink:href=\"#glyph0-5\" x=\"333.472656\" y=\"113.400391\"/>\n",
       "  <use xlink:href=\"#glyph0-6\" x=\"340.804688\" y=\"113.400391\"/>\n",
       "  <use xlink:href=\"#glyph0-7\" x=\"348.136719\" y=\"113.400391\"/>\n",
       "  <use xlink:href=\"#glyph0-8\" x=\"355.46875\" y=\"113.400391\"/>\n",
       "  <use xlink:href=\"#glyph0-9\" x=\"360.136719\" y=\"113.400391\"/>\n",
       "  <use xlink:href=\"#glyph0-10\" x=\"363.472656\" y=\"113.400391\"/>\n",
       "  <use xlink:href=\"#glyph0-9\" x=\"370.480469\" y=\"113.400391\"/>\n",
       "  <use xlink:href=\"#glyph0-11\" x=\"373.816406\" y=\"113.400391\"/>\n",
       "  <use xlink:href=\"#glyph0-12\" x=\"380.488281\" y=\"113.400391\"/>\n",
       "  <use xlink:href=\"#glyph0-13\" x=\"383.824219\" y=\"113.400391\"/>\n",
       "</g>\n",
       "<g style=\"fill:rgb(0%,0%,0%);fill-opacity:1;\">\n",
       "  <use xlink:href=\"#glyph0-14\" x=\"244.257812\" y=\"170.591797\"/>\n",
       "  <use xlink:href=\"#glyph0-2\" x=\"250.929688\" y=\"170.591797\"/>\n",
       "  <use xlink:href=\"#glyph0-15\" x=\"257.601562\" y=\"170.591797\"/>\n",
       "  <use xlink:href=\"#glyph0-16\" x=\"260.9375\" y=\"170.591797\"/>\n",
       "  <use xlink:href=\"#glyph0-9\" x=\"264.933594\" y=\"170.591797\"/>\n",
       "  <use xlink:href=\"#glyph0-10\" x=\"268.269531\" y=\"170.591797\"/>\n",
       "  <use xlink:href=\"#glyph0-9\" x=\"275.277344\" y=\"170.591797\"/>\n",
       "  <use xlink:href=\"#glyph0-11\" x=\"278.613281\" y=\"170.591797\"/>\n",
       "  <use xlink:href=\"#glyph0-12\" x=\"285.285156\" y=\"170.591797\"/>\n",
       "  <use xlink:href=\"#glyph0-13\" x=\"288.621094\" y=\"170.591797\"/>\n",
       "</g>\n",
       "<g style=\"fill:rgb(0%,0%,0%);fill-opacity:1;\">\n",
       "  <use xlink:href=\"#glyph0-5\" x=\"152.125\" y=\"226.783203\"/>\n",
       "  <use xlink:href=\"#glyph0-17\" x=\"159.457031\" y=\"226.783203\"/>\n",
       "  <use xlink:href=\"#glyph0-18\" x=\"166.128906\" y=\"226.783203\"/>\n",
       "  <use xlink:href=\"#glyph0-19\" x=\"175.464844\" y=\"226.783203\"/>\n",
       "  <use xlink:href=\"#glyph0-5\" x=\"179.460938\" y=\"226.783203\"/>\n",
       "  <use xlink:href=\"#glyph0-7\" x=\"186.792969\" y=\"226.783203\"/>\n",
       "  <use xlink:href=\"#glyph0-8\" x=\"194.125\" y=\"226.783203\"/>\n",
       "  <use xlink:href=\"#glyph0-1\" x=\"198.792969\" y=\"226.783203\"/>\n",
       "  <use xlink:href=\"#glyph0-9\" x=\"206.125\" y=\"226.783203\"/>\n",
       "  <use xlink:href=\"#glyph0-10\" x=\"209.460938\" y=\"226.783203\"/>\n",
       "  <use xlink:href=\"#glyph0-9\" x=\"216.46875\" y=\"226.783203\"/>\n",
       "  <use xlink:href=\"#glyph0-11\" x=\"219.804688\" y=\"226.783203\"/>\n",
       "  <use xlink:href=\"#glyph0-12\" x=\"226.476562\" y=\"226.783203\"/>\n",
       "  <use xlink:href=\"#glyph0-13\" x=\"229.8125\" y=\"226.783203\"/>\n",
       "</g>\n",
       "<g style=\"fill:rgb(0%,0%,0%);fill-opacity:1;\">\n",
       "  <use xlink:href=\"#glyph0-20\" x=\"88.8125\" y=\"282.974609\"/>\n",
       "  <use xlink:href=\"#glyph0-3\" x=\"95.484375\" y=\"282.974609\"/>\n",
       "  <use xlink:href=\"#glyph0-21\" x=\"98.820312\" y=\"282.974609\"/>\n",
       "  <use xlink:href=\"#glyph0-3\" x=\"105.492188\" y=\"282.974609\"/>\n",
       "  <use xlink:href=\"#glyph0-20\" x=\"108.828125\" y=\"282.974609\"/>\n",
       "  <use xlink:href=\"#glyph0-22\" x=\"115.5\" y=\"282.974609\"/>\n",
       "  <use xlink:href=\"#glyph0-23\" x=\"122.832031\" y=\"282.974609\"/>\n",
       "  <use xlink:href=\"#glyph0-19\" x=\"130.164062\" y=\"282.974609\"/>\n",
       "  <use xlink:href=\"#glyph0-9\" x=\"134.160156\" y=\"282.974609\"/>\n",
       "  <use xlink:href=\"#glyph0-10\" x=\"137.496094\" y=\"282.974609\"/>\n",
       "  <use xlink:href=\"#glyph0-9\" x=\"144.503906\" y=\"282.974609\"/>\n",
       "  <use xlink:href=\"#glyph0-11\" x=\"147.839844\" y=\"282.974609\"/>\n",
       "  <use xlink:href=\"#glyph0-12\" x=\"154.511719\" y=\"282.974609\"/>\n",
       "  <use xlink:href=\"#glyph0-13\" x=\"157.847656\" y=\"282.974609\"/>\n",
       "</g>\n",
       "<g style=\"fill:rgb(0%,0%,0%);fill-opacity:1;\">\n",
       "  <use xlink:href=\"#glyph0-14\" x=\"45.652344\" y=\"339.166016\"/>\n",
       "  <use xlink:href=\"#glyph0-2\" x=\"52.324219\" y=\"339.166016\"/>\n",
       "  <use xlink:href=\"#glyph0-24\" x=\"58.996094\" y=\"339.166016\"/>\n",
       "  <use xlink:href=\"#glyph0-9\" x=\"65.667969\" y=\"339.166016\"/>\n",
       "  <use xlink:href=\"#glyph0-25\" x=\"69.003906\" y=\"339.166016\"/>\n",
       "  <use xlink:href=\"#glyph0-26\" x=\"76.011719\" y=\"339.166016\"/>\n",
       "  <use xlink:href=\"#glyph0-9\" x=\"83.019531\" y=\"339.166016\"/>\n",
       "  <use xlink:href=\"#glyph0-11\" x=\"86.355469\" y=\"339.166016\"/>\n",
       "  <use xlink:href=\"#glyph0-12\" x=\"93.027344\" y=\"339.166016\"/>\n",
       "  <use xlink:href=\"#glyph0-13\" x=\"96.363281\" y=\"339.166016\"/>\n",
       "</g>\n",
       "<g style=\"fill:rgb(0%,0%,0%);fill-opacity:1;\">\n",
       "  <use xlink:href=\"#glyph0-14\" x=\"149.976562\" y=\"339.166016\"/>\n",
       "  <use xlink:href=\"#glyph0-2\" x=\"156.648438\" y=\"339.166016\"/>\n",
       "  <use xlink:href=\"#glyph0-24\" x=\"163.320312\" y=\"339.166016\"/>\n",
       "  <use xlink:href=\"#glyph0-9\" x=\"169.992188\" y=\"339.166016\"/>\n",
       "  <use xlink:href=\"#glyph0-25\" x=\"173.328125\" y=\"339.166016\"/>\n",
       "  <use xlink:href=\"#glyph0-26\" x=\"180.335938\" y=\"339.166016\"/>\n",
       "  <use xlink:href=\"#glyph0-9\" x=\"187.34375\" y=\"339.166016\"/>\n",
       "  <use xlink:href=\"#glyph0-11\" x=\"190.679688\" y=\"339.166016\"/>\n",
       "  <use xlink:href=\"#glyph0-12\" x=\"197.351562\" y=\"339.166016\"/>\n",
       "  <use xlink:href=\"#glyph0-13\" x=\"200.6875\" y=\"339.166016\"/>\n",
       "</g>\n",
       "<g style=\"fill:rgb(0%,0%,0%);fill-opacity:1;\">\n",
       "  <use xlink:href=\"#glyph0-14\" x=\"233.433594\" y=\"282.974609\"/>\n",
       "  <use xlink:href=\"#glyph0-2\" x=\"240.105469\" y=\"282.974609\"/>\n",
       "  <use xlink:href=\"#glyph0-24\" x=\"246.777344\" y=\"282.974609\"/>\n",
       "  <use xlink:href=\"#glyph0-9\" x=\"253.449219\" y=\"282.974609\"/>\n",
       "  <use xlink:href=\"#glyph0-25\" x=\"256.785156\" y=\"282.974609\"/>\n",
       "  <use xlink:href=\"#glyph0-26\" x=\"263.792969\" y=\"282.974609\"/>\n",
       "  <use xlink:href=\"#glyph0-9\" x=\"270.800781\" y=\"282.974609\"/>\n",
       "  <use xlink:href=\"#glyph0-11\" x=\"274.136719\" y=\"282.974609\"/>\n",
       "  <use xlink:href=\"#glyph0-12\" x=\"280.808594\" y=\"282.974609\"/>\n",
       "  <use xlink:href=\"#glyph0-13\" x=\"284.144531\" y=\"282.974609\"/>\n",
       "</g>\n",
       "<g style=\"fill:rgb(0%,0%,0%);fill-opacity:1;\">\n",
       "  <use xlink:href=\"#glyph0-14\" x=\"316.890625\" y=\"226.783203\"/>\n",
       "  <use xlink:href=\"#glyph0-2\" x=\"323.5625\" y=\"226.783203\"/>\n",
       "  <use xlink:href=\"#glyph0-24\" x=\"330.234375\" y=\"226.783203\"/>\n",
       "  <use xlink:href=\"#glyph0-9\" x=\"336.90625\" y=\"226.783203\"/>\n",
       "  <use xlink:href=\"#glyph0-25\" x=\"340.242188\" y=\"226.783203\"/>\n",
       "  <use xlink:href=\"#glyph0-26\" x=\"347.25\" y=\"226.783203\"/>\n",
       "  <use xlink:href=\"#glyph0-9\" x=\"354.257812\" y=\"226.783203\"/>\n",
       "  <use xlink:href=\"#glyph0-11\" x=\"357.59375\" y=\"226.783203\"/>\n",
       "  <use xlink:href=\"#glyph0-12\" x=\"364.265625\" y=\"226.783203\"/>\n",
       "  <use xlink:href=\"#glyph0-13\" x=\"367.601562\" y=\"226.783203\"/>\n",
       "</g>\n",
       "<g style=\"fill:rgb(0%,0%,0%);fill-opacity:1;\">\n",
       "  <use xlink:href=\"#glyph0-14\" x=\"400.347656\" y=\"170.591797\"/>\n",
       "  <use xlink:href=\"#glyph0-2\" x=\"407.019531\" y=\"170.591797\"/>\n",
       "  <use xlink:href=\"#glyph0-24\" x=\"413.691406\" y=\"170.591797\"/>\n",
       "  <use xlink:href=\"#glyph0-9\" x=\"420.363281\" y=\"170.591797\"/>\n",
       "  <use xlink:href=\"#glyph0-25\" x=\"423.699219\" y=\"170.591797\"/>\n",
       "  <use xlink:href=\"#glyph0-26\" x=\"430.707031\" y=\"170.591797\"/>\n",
       "  <use xlink:href=\"#glyph0-9\" x=\"437.714844\" y=\"170.591797\"/>\n",
       "  <use xlink:href=\"#glyph0-11\" x=\"441.050781\" y=\"170.591797\"/>\n",
       "  <use xlink:href=\"#glyph0-12\" x=\"447.722656\" y=\"170.591797\"/>\n",
       "  <use xlink:href=\"#glyph0-13\" x=\"451.058594\" y=\"170.591797\"/>\n",
       "</g>\n",
       "<path style=\"fill-rule:nonzero;fill:rgb(100%,100%,100%);fill-opacity:1;stroke-width:0.75;stroke-linecap:round;stroke-linejoin:round;stroke:rgb(0%,0%,0%);stroke-opacity:1;stroke-miterlimit:10;\" d=\"M 31.898438 391.609375 L 32.191406 389.378906 L 33.054688 387.300781 L 34.421875 385.515625 L 36.207031 384.144531 L 38.285156 383.285156 L 40.515625 382.992188 L 56.632812 382.992188 L 58.859375 383.285156 L 60.9375 384.144531 L 62.722656 385.515625 L 64.09375 387.300781 L 64.953125 389.378906 L 65.246094 391.609375 L 64.953125 393.835938 L 64.09375 395.914062 L 62.722656 397.699219 L 60.9375 399.070312 L 58.859375 399.929688 L 56.632812 400.222656 L 40.515625 400.222656 L 38.285156 399.929688 L 36.207031 399.070312 L 34.421875 397.699219 L 33.054688 395.914062 L 32.191406 393.835938 Z \"/>\n",
       "<path style=\"fill-rule:nonzero;fill:rgb(100%,100%,100%);fill-opacity:1;stroke-width:0.75;stroke-linecap:round;stroke-linejoin:round;stroke:rgb(0%,0%,0%);stroke-opacity:1;stroke-miterlimit:10;\" d=\"M 87.394531 391.609375 L 87.691406 389.378906 L 88.550781 387.300781 L 89.917969 385.515625 L 91.703125 384.144531 L 93.78125 383.285156 L 96.011719 382.992188 L 105.457031 382.992188 L 107.6875 383.285156 L 109.765625 384.144531 L 111.546875 385.515625 L 112.917969 387.300781 L 113.777344 389.378906 L 114.070312 391.609375 L 113.777344 393.835938 L 112.917969 395.914062 L 111.546875 397.699219 L 109.765625 399.070312 L 107.6875 399.929688 L 105.457031 400.222656 L 96.011719 400.222656 L 93.78125 399.929688 L 91.703125 399.070312 L 89.917969 397.699219 L 88.550781 395.914062 L 87.691406 393.835938 Z \"/>\n",
       "<path style=\"fill-rule:nonzero;fill:rgb(100%,100%,100%);fill-opacity:1;stroke-width:0.75;stroke-linecap:round;stroke-linejoin:round;stroke:rgb(0%,0%,0%);stroke-opacity:1;stroke-miterlimit:10;\" d=\"M 136.21875 391.609375 L 136.515625 389.378906 L 137.375 387.300781 L 138.746094 385.515625 L 140.527344 384.144531 L 142.605469 383.285156 L 144.835938 382.992188 L 160.953125 382.992188 L 163.183594 383.285156 L 165.261719 384.144531 L 167.046875 385.515625 L 168.414062 387.300781 L 169.273438 389.378906 L 169.570312 391.609375 L 169.273438 393.835938 L 168.414062 395.914062 L 167.046875 397.699219 L 165.261719 399.070312 L 163.183594 399.929688 L 160.953125 400.222656 L 144.835938 400.222656 L 142.605469 399.929688 L 140.527344 399.070312 L 138.746094 397.699219 L 137.375 395.914062 L 136.515625 393.835938 Z \"/>\n",
       "<path style=\"fill-rule:nonzero;fill:rgb(100%,100%,100%);fill-opacity:1;stroke-width:0.75;stroke-linecap:round;stroke-linejoin:round;stroke:rgb(0%,0%,0%);stroke-opacity:1;stroke-miterlimit:10;\" d=\"M 188.382812 391.609375 L 188.675781 389.378906 L 189.535156 387.300781 L 190.90625 385.515625 L 192.6875 384.144531 L 194.765625 383.285156 L 196.996094 382.992188 L 213.113281 382.992188 L 215.34375 383.285156 L 217.421875 384.144531 L 219.207031 385.515625 L 220.574219 387.300781 L 221.4375 389.378906 L 221.730469 391.609375 L 221.4375 393.835938 L 220.574219 395.914062 L 219.207031 397.699219 L 217.421875 399.070312 L 215.34375 399.929688 L 213.113281 400.222656 L 196.996094 400.222656 L 194.765625 399.929688 L 192.6875 399.070312 L 190.90625 397.699219 L 189.535156 395.914062 L 188.675781 393.835938 Z \"/>\n",
       "<path style=\"fill-rule:nonzero;fill:rgb(100%,100%,100%);fill-opacity:1;stroke-width:0.75;stroke-linecap:round;stroke-linejoin:round;stroke:rgb(0%,0%,0%);stroke-opacity:1;stroke-miterlimit:10;\" d=\"M 219.679688 335.417969 L 219.972656 333.1875 L 220.832031 331.109375 L 222.203125 329.324219 L 223.984375 327.957031 L 226.0625 327.09375 L 228.292969 326.800781 L 244.410156 326.800781 L 246.640625 327.09375 L 248.71875 327.957031 L 250.503906 329.324219 L 251.871094 331.109375 L 252.730469 333.1875 L 253.027344 335.417969 L 252.730469 337.648438 L 251.871094 339.726562 L 250.503906 341.507812 L 248.71875 342.878906 L 246.640625 343.738281 L 244.410156 344.03125 L 228.292969 344.03125 L 226.0625 343.738281 L 223.984375 342.878906 L 222.203125 341.507812 L 220.832031 339.726562 L 219.972656 337.648438 Z \"/>\n",
       "<path style=\"fill-rule:nonzero;fill:rgb(100%,100%,100%);fill-opacity:1;stroke-width:0.75;stroke-linecap:round;stroke-linejoin:round;stroke:rgb(0%,0%,0%);stroke-opacity:1;stroke-miterlimit:10;\" d=\"M 271.839844 335.417969 L 272.132812 333.1875 L 272.992188 331.109375 L 274.363281 329.324219 L 276.148438 327.957031 L 278.222656 327.09375 L 280.453125 326.800781 L 296.570312 326.800781 L 298.800781 327.09375 L 300.878906 327.957031 L 302.664062 329.324219 L 304.03125 331.109375 L 304.894531 333.1875 L 305.1875 335.417969 L 304.894531 337.648438 L 304.03125 339.726562 L 302.664062 341.507812 L 300.878906 342.878906 L 298.800781 343.738281 L 296.570312 344.03125 L 280.453125 344.03125 L 278.222656 343.738281 L 276.148438 342.878906 L 274.363281 341.507812 L 272.992188 339.726562 L 272.132812 337.648438 Z \"/>\n",
       "<path style=\"fill-rule:nonzero;fill:rgb(100%,100%,100%);fill-opacity:1;stroke-width:0.75;stroke-linecap:round;stroke-linejoin:round;stroke:rgb(0%,0%,0%);stroke-opacity:1;stroke-miterlimit:10;\" d=\"M 303.136719 279.226562 L 303.429688 276.996094 L 304.289062 274.917969 L 305.660156 273.132812 L 307.441406 271.765625 L 309.519531 270.902344 L 311.75 270.609375 L 327.867188 270.609375 L 330.097656 270.902344 L 332.175781 271.765625 L 333.960938 273.132812 L 335.328125 274.917969 L 336.1875 276.996094 L 336.484375 279.226562 L 336.1875 281.457031 L 335.328125 283.535156 L 333.960938 285.320312 L 332.175781 286.6875 L 330.097656 287.546875 L 327.867188 287.84375 L 311.75 287.84375 L 309.519531 287.546875 L 307.441406 286.6875 L 305.660156 285.320312 L 304.289062 283.535156 L 303.429688 281.457031 Z \"/>\n",
       "<path style=\"fill-rule:nonzero;fill:rgb(100%,100%,100%);fill-opacity:1;stroke-width:0.75;stroke-linecap:round;stroke-linejoin:round;stroke:rgb(0%,0%,0%);stroke-opacity:1;stroke-miterlimit:10;\" d=\"M 355.296875 279.226562 L 355.589844 276.996094 L 356.449219 274.917969 L 357.820312 273.132812 L 359.605469 271.765625 L 361.679688 270.902344 L 363.910156 270.609375 L 380.027344 270.609375 L 382.257812 270.902344 L 384.335938 271.765625 L 386.121094 273.132812 L 387.488281 274.917969 L 388.351562 276.996094 L 388.644531 279.226562 L 388.351562 281.457031 L 387.488281 283.535156 L 386.121094 285.320312 L 384.335938 286.6875 L 382.257812 287.546875 L 380.027344 287.84375 L 363.910156 287.84375 L 361.679688 287.546875 L 359.605469 286.6875 L 357.820312 285.320312 L 356.449219 283.535156 L 355.589844 281.457031 Z \"/>\n",
       "<path style=\"fill-rule:nonzero;fill:rgb(100%,100%,100%);fill-opacity:1;stroke-width:0.75;stroke-linecap:round;stroke-linejoin:round;stroke:rgb(0%,0%,0%);stroke-opacity:1;stroke-miterlimit:10;\" d=\"M 386.59375 223.035156 L 386.886719 220.804688 L 387.746094 218.726562 L 389.117188 216.941406 L 390.898438 215.574219 L 392.976562 214.710938 L 395.207031 214.417969 L 411.324219 214.417969 L 413.554688 214.710938 L 415.632812 215.574219 L 417.417969 216.941406 L 418.785156 218.726562 L 419.644531 220.804688 L 419.941406 223.035156 L 419.644531 225.265625 L 418.785156 227.34375 L 417.417969 229.128906 L 415.632812 230.496094 L 413.554688 231.359375 L 411.324219 231.652344 L 395.207031 231.652344 L 392.976562 231.359375 L 390.898438 230.496094 L 389.117188 229.128906 L 387.746094 227.34375 L 386.886719 225.265625 Z \"/>\n",
       "<path style=\"fill-rule:nonzero;fill:rgb(100%,100%,100%);fill-opacity:1;stroke-width:0.75;stroke-linecap:round;stroke-linejoin:round;stroke:rgb(0%,0%,0%);stroke-opacity:1;stroke-miterlimit:10;\" d=\"M 438.753906 223.035156 L 439.046875 220.804688 L 439.90625 218.726562 L 441.277344 216.941406 L 443.0625 215.574219 L 445.140625 214.710938 L 447.367188 214.417969 L 463.484375 214.417969 L 465.714844 214.710938 L 467.792969 215.574219 L 469.578125 216.941406 L 470.945312 218.726562 L 471.808594 220.804688 L 472.101562 223.035156 L 471.808594 225.265625 L 470.945312 227.34375 L 469.578125 229.128906 L 467.792969 230.496094 L 465.714844 231.359375 L 463.484375 231.652344 L 447.367188 231.652344 L 445.140625 231.359375 L 443.0625 230.496094 L 441.277344 229.128906 L 439.90625 227.34375 L 439.046875 225.265625 Z \"/>\n",
       "<g style=\"fill:rgb(0%,0%,0%);fill-opacity:1;\">\n",
       "  <use xlink:href=\"#glyph1-1\" x=\"36.574219\" y=\"395.044922\"/>\n",
       "  <use xlink:href=\"#glyph1-2\" x=\"43.246094\" y=\"395.044922\"/>\n",
       "  <use xlink:href=\"#glyph1-3\" x=\"46.582031\" y=\"395.044922\"/>\n",
       "  <use xlink:href=\"#glyph1-4\" x=\"53.253906\" y=\"395.044922\"/>\n",
       "</g>\n",
       "<g style=\"fill:rgb(0%,0%,0%);fill-opacity:1;\">\n",
       "  <use xlink:href=\"#glyph1-1\" x=\"92.234375\" y=\"395.044922\"/>\n",
       "  <use xlink:href=\"#glyph1-2\" x=\"98.90625\" y=\"395.044922\"/>\n",
       "  <use xlink:href=\"#glyph1-5\" x=\"102.242188\" y=\"395.044922\"/>\n",
       "</g>\n",
       "<g style=\"fill:rgb(0%,0%,0%);fill-opacity:1;\">\n",
       "  <use xlink:href=\"#glyph1-1\" x=\"140.894531\" y=\"395.044922\"/>\n",
       "  <use xlink:href=\"#glyph1-2\" x=\"147.566406\" y=\"395.044922\"/>\n",
       "  <use xlink:href=\"#glyph1-5\" x=\"150.902344\" y=\"395.044922\"/>\n",
       "  <use xlink:href=\"#glyph1-6\" x=\"157.574219\" y=\"395.044922\"/>\n",
       "</g>\n",
       "<g style=\"fill:rgb(0%,0%,0%);fill-opacity:1;\">\n",
       "  <use xlink:href=\"#glyph1-1\" x=\"193.054688\" y=\"395.044922\"/>\n",
       "  <use xlink:href=\"#glyph1-2\" x=\"199.726562\" y=\"395.044922\"/>\n",
       "  <use xlink:href=\"#glyph1-5\" x=\"203.0625\" y=\"395.044922\"/>\n",
       "  <use xlink:href=\"#glyph1-3\" x=\"209.734375\" y=\"395.044922\"/>\n",
       "</g>\n",
       "<g style=\"fill:rgb(0%,0%,0%);fill-opacity:1;\">\n",
       "  <use xlink:href=\"#glyph1-1\" x=\"224.351562\" y=\"338.853516\"/>\n",
       "  <use xlink:href=\"#glyph1-2\" x=\"231.023438\" y=\"338.853516\"/>\n",
       "  <use xlink:href=\"#glyph1-5\" x=\"234.359375\" y=\"338.853516\"/>\n",
       "  <use xlink:href=\"#glyph1-3\" x=\"241.03125\" y=\"338.853516\"/>\n",
       "</g>\n",
       "<g style=\"fill:rgb(0%,0%,0%);fill-opacity:1;\">\n",
       "  <use xlink:href=\"#glyph1-1\" x=\"276.511719\" y=\"338.853516\"/>\n",
       "  <use xlink:href=\"#glyph1-2\" x=\"283.183594\" y=\"338.853516\"/>\n",
       "  <use xlink:href=\"#glyph1-5\" x=\"286.519531\" y=\"338.853516\"/>\n",
       "  <use xlink:href=\"#glyph1-5\" x=\"293.191406\" y=\"338.853516\"/>\n",
       "</g>\n",
       "<g style=\"fill:rgb(0%,0%,0%);fill-opacity:1;\">\n",
       "  <use xlink:href=\"#glyph1-1\" x=\"307.808594\" y=\"282.662109\"/>\n",
       "  <use xlink:href=\"#glyph1-2\" x=\"314.480469\" y=\"282.662109\"/>\n",
       "  <use xlink:href=\"#glyph1-5\" x=\"317.816406\" y=\"282.662109\"/>\n",
       "  <use xlink:href=\"#glyph1-7\" x=\"324.488281\" y=\"282.662109\"/>\n",
       "</g>\n",
       "<g style=\"fill:rgb(0%,0%,0%);fill-opacity:1;\">\n",
       "  <use xlink:href=\"#glyph1-1\" x=\"359.96875\" y=\"282.662109\"/>\n",
       "  <use xlink:href=\"#glyph1-2\" x=\"366.640625\" y=\"282.662109\"/>\n",
       "  <use xlink:href=\"#glyph1-5\" x=\"369.976562\" y=\"282.662109\"/>\n",
       "  <use xlink:href=\"#glyph1-8\" x=\"376.648438\" y=\"282.662109\"/>\n",
       "</g>\n",
       "<g style=\"fill:rgb(0%,0%,0%);fill-opacity:1;\">\n",
       "  <use xlink:href=\"#glyph1-1\" x=\"391.265625\" y=\"226.470703\"/>\n",
       "  <use xlink:href=\"#glyph1-2\" x=\"397.9375\" y=\"226.470703\"/>\n",
       "  <use xlink:href=\"#glyph1-5\" x=\"401.273438\" y=\"226.470703\"/>\n",
       "  <use xlink:href=\"#glyph1-9\" x=\"407.945312\" y=\"226.470703\"/>\n",
       "</g>\n",
       "<g style=\"fill:rgb(0%,0%,0%);fill-opacity:1;\">\n",
       "  <use xlink:href=\"#glyph1-1\" x=\"443.425781\" y=\"226.470703\"/>\n",
       "  <use xlink:href=\"#glyph1-2\" x=\"450.097656\" y=\"226.470703\"/>\n",
       "  <use xlink:href=\"#glyph1-5\" x=\"453.433594\" y=\"226.470703\"/>\n",
       "  <use xlink:href=\"#glyph1-10\" x=\"460.105469\" y=\"226.470703\"/>\n",
       "</g>\n",
       "<path style=\"fill-rule:nonzero;fill:rgb(100%,100%,100%);fill-opacity:1;stroke-width:0.75;stroke-linecap:round;stroke-linejoin:round;stroke:rgb(0%,0%,0%);stroke-opacity:1;stroke-miterlimit:10;\" d=\"M 276.308594 110.113281 L 276.363281 109.695312 L 276.523438 109.308594 L 276.78125 108.972656 L 277.113281 108.714844 L 277.503906 108.554688 L 277.921875 108.5 L 297.730469 108.5 L 298.148438 108.554688 L 298.539062 108.714844 L 298.875 108.972656 L 299.132812 109.308594 L 299.292969 109.695312 L 299.347656 110.113281 L 299.347656 119.808594 L 299.292969 120.226562 L 299.132812 120.617188 L 298.875 120.949219 L 298.539062 121.207031 L 298.148438 121.367188 L 297.730469 121.421875 L 277.921875 121.421875 L 277.503906 121.367188 L 277.113281 121.207031 L 276.78125 120.949219 L 276.523438 120.617188 L 276.363281 120.226562 L 276.308594 119.808594 Z \"/>\n",
       "<path style=\"fill-rule:nonzero;fill:rgb(100%,100%,100%);fill-opacity:1;stroke-width:0.75;stroke-linecap:round;stroke-linejoin:round;stroke:rgb(0%,0%,0%);stroke-opacity:1;stroke-miterlimit:10;\" d=\"M 400.253906 110.113281 L 400.308594 109.695312 L 400.472656 109.308594 L 400.726562 108.972656 L 401.0625 108.714844 L 401.453125 108.554688 L 401.871094 108.5 L 421.679688 108.5 L 422.097656 108.554688 L 422.488281 108.714844 L 422.820312 108.972656 L 423.078125 109.308594 L 423.242188 109.695312 L 423.296875 110.113281 L 423.296875 119.808594 L 423.242188 120.226562 L 423.078125 120.617188 L 422.820312 120.949219 L 422.488281 121.207031 L 422.097656 121.367188 L 421.679688 121.421875 L 401.871094 121.421875 L 401.453125 121.367188 L 401.0625 121.207031 L 400.726562 120.949219 L 400.472656 120.617188 L 400.308594 120.226562 L 400.253906 119.808594 Z \"/>\n",
       "<g style=\"fill:rgb(0%,0%,0%);fill-opacity:1;\">\n",
       "  <use xlink:href=\"#glyph2-1\" x=\"280.328125\" y=\"116.936523\"/>\n",
       "  <use xlink:href=\"#glyph2-2\" x=\"285.125\" y=\"116.936523\"/>\n",
       "  <use xlink:href=\"#glyph2-3\" x=\"290.458984\" y=\"116.936523\"/>\n",
       "</g>\n",
       "<g style=\"fill:rgb(0%,0%,0%);fill-opacity:1;\">\n",
       "  <use xlink:href=\"#glyph2-4\" x=\"406.273438\" y=\"116.858398\"/>\n",
       "  <use xlink:href=\"#glyph2-5\" x=\"411.607422\" y=\"116.858398\"/>\n",
       "</g>\n",
       "</g>\n",
       "</svg>\n"
      ],
      "text/plain": [
       "plot without title"
      ]
     },
     "metadata": {
      "image/svg+xml": {
       "isolated": true
      }
     },
     "output_type": "display_data"
    }
   ],
   "source": [
    "prp(CARTmodel3)"
   ]
  },
  {
   "cell_type": "code",
   "execution_count": 63,
   "metadata": {
    "collapsed": true
   },
   "outputs": [],
   "source": [
    "CARTcontrol = rpart(voting ~ control, data=gerber, cp=0.0)"
   ]
  },
  {
   "cell_type": "code",
   "execution_count": 64,
   "metadata": {
    "collapsed": true
   },
   "outputs": [],
   "source": [
    "CARTgender = rpart(voting ~ control+sex, data=gerber, cp=0.0)"
   ]
  },
  {
   "cell_type": "code",
   "execution_count": 67,
   "metadata": {
    "collapsed": false
   },
   "outputs": [
    {
     "data": {
      "image/png": "[encoded data removed]",
      "image/svg+xml": [
       "<?xml version=\"1.0\" encoding=\"UTF-8\"?>\n",
       "<svg xmlns=\"http://www.w3.org/2000/svg\" xmlns:xlink=\"http://www.w3.org/1999/xlink\" width=\"504pt\" height=\"504pt\" viewBox=\"0 0 504 504\" version=\"1.1\">\n",
       "<defs>\n",
       "<g>\n",
       "<symbol overflow=\"visible\" id=\"glyph0-0\">\n",
       "<path style=\"stroke:none;\" d=\"\"/>\n",
       "</symbol>\n",
       "<symbol overflow=\"visible\" id=\"glyph0-1\">\n",
       "<path style=\"stroke:none;\" d=\"M 6.265625 -4.0625 C 6.140625 -5.640625 5.09375 -6.59375 3.46875 -6.59375 C 1.53125 -6.59375 0.40625 -5.3125 0.40625 -3.109375 C 0.40625 -0.96875 1.53125 0.28125 3.4375 0.28125 C 5.015625 0.28125 6.109375 -0.703125 6.265625 -2.25 L 4.65625 -2.25 C 4.4375 -1.40625 4.109375 -1.078125 3.453125 -1.078125 C 2.609375 -1.078125 2.09375 -1.84375 2.09375 -3.109375 C 2.09375 -3.71875 2.203125 -4.296875 2.40625 -4.6875 C 2.609375 -5.046875 2.96875 -5.234375 3.453125 -5.234375 C 4.140625 -5.234375 4.46875 -4.90625 4.65625 -4.0625 Z \"/>\n",
       "</symbol>\n",
       "<symbol overflow=\"visible\" id=\"glyph0-2\">\n",
       "<path style=\"stroke:none;\" d=\"M 3.609375 -6.59375 C 1.625 -6.59375 0.421875 -5.28125 0.421875 -3.15625 C 0.421875 -1.015625 1.625 0.28125 3.625 0.28125 C 5.59375 0.28125 6.828125 -1.03125 6.828125 -3.109375 C 6.828125 -5.296875 5.640625 -6.59375 3.609375 -6.59375 Z M 3.625 -5.234375 C 4.546875 -5.234375 5.140625 -4.40625 5.140625 -3.125 C 5.140625 -1.921875 4.53125 -1.078125 3.625 -1.078125 C 2.71875 -1.078125 2.09375 -1.921875 2.09375 -3.15625 C 2.09375 -4.390625 2.71875 -5.234375 3.625 -5.234375 Z \"/>\n",
       "</symbol>\n",
       "<symbol overflow=\"visible\" id=\"glyph0-3\">\n",
       "<path style=\"stroke:none;\" d=\"M 0.75 -6.484375 L 0.75 0 L 2.4375 0 L 2.4375 -3.890625 C 2.4375 -4.65625 2.96875 -5.15625 3.796875 -5.15625 C 4.515625 -5.15625 4.875 -4.765625 4.875 -4 L 4.875 0 L 6.546875 0 L 6.546875 -4.34375 C 6.546875 -5.765625 5.765625 -6.59375 4.375 -6.59375 C 3.5 -6.59375 2.921875 -6.265625 2.4375 -5.546875 L 2.4375 -6.484375 Z \"/>\n",
       "</symbol>\n",
       "<symbol overflow=\"visible\" id=\"glyph0-4\">\n",
       "<path style=\"stroke:none;\" d=\"M 3.609375 -6.34375 L 2.671875 -6.34375 L 2.671875 -8.09375 L 1 -8.09375 L 1 -6.34375 L 0.171875 -6.34375 L 0.171875 -5.234375 L 1 -5.234375 L 1 -1.25 C 1 -0.234375 1.53125 0.28125 2.640625 0.28125 C 3.015625 0.28125 3.3125 0.234375 3.609375 0.140625 L 3.609375 -1.03125 C 3.4375 -1.015625 3.34375 -1 3.234375 -1 C 2.78125 -1 2.671875 -1.125 2.671875 -1.703125 L 2.671875 -5.234375 L 3.609375 -5.234375 Z \"/>\n",
       "</symbol>\n",
       "<symbol overflow=\"visible\" id=\"glyph0-5\">\n",
       "<path style=\"stroke:none;\" d=\"M 0.75 -6.484375 L 0.75 0 L 2.4375 0 L 2.4375 -3.4375 C 2.4375 -4.421875 2.921875 -4.921875 3.90625 -4.921875 C 4.09375 -4.921875 4.21875 -4.90625 4.4375 -4.875 L 4.4375 -6.578125 C 4.34375 -6.59375 4.28125 -6.59375 4.234375 -6.59375 C 3.46875 -6.59375 2.796875 -6.078125 2.4375 -5.203125 L 2.4375 -6.484375 Z \"/>\n",
       "</symbol>\n",
       "<symbol overflow=\"visible\" id=\"glyph0-6\">\n",
       "<path style=\"stroke:none;\" d=\"M 2.484375 -8.75 L 0.796875 -8.75 L 0.796875 0 L 2.484375 0 Z \"/>\n",
       "</symbol>\n",
       "<symbol overflow=\"visible\" id=\"glyph0-7\">\n",
       "<path style=\"stroke:none;\" d=\"\"/>\n",
       "</symbol>\n",
       "<symbol overflow=\"visible\" id=\"glyph0-8\">\n",
       "<path style=\"stroke:none;\" d=\"M 0.484375 0.125 L 6.34375 -2.046875 L 6.34375 -3.5 L 0.484375 -5.6875 L 0.484375 -4.359375 L 5.0625 -2.78125 L 0.484375 -1.1875 Z \"/>\n",
       "</symbol>\n",
       "<symbol overflow=\"visible\" id=\"glyph0-9\">\n",
       "<path style=\"stroke:none;\" d=\"M 6.40625 -4.9375 L 0.59375 -4.9375 L 0.59375 -3.5 L 6.40625 -3.5 Z M 6.40625 -2.046875 L 0.59375 -2.046875 L 0.59375 -0.625 L 6.40625 -0.625 Z \"/>\n",
       "</symbol>\n",
       "<symbol overflow=\"visible\" id=\"glyph0-10\">\n",
       "<path style=\"stroke:none;\" d=\"M 3.28125 -8.6875 C 2.359375 -8.6875 1.578125 -8.296875 1.0625 -7.59375 C 0.578125 -6.9375 0.34375 -5.84375 0.34375 -4.203125 C 0.34375 -2.703125 0.546875 -1.625 0.953125 -0.984375 C 1.453125 -0.1875 2.28125 0.28125 3.28125 0.28125 C 4.203125 0.28125 4.953125 -0.09375 5.484375 -0.8125 C 5.96875 -1.46875 6.203125 -2.5625 6.203125 -4.15625 C 6.203125 -5.71875 6.015625 -6.765625 5.609375 -7.421875 C 5.09375 -8.25 4.265625 -8.6875 3.28125 -8.6875 Z M 3.28125 -7.328125 C 3.703125 -7.328125 4.0625 -7.09375 4.265625 -6.640625 C 4.421875 -6.28125 4.53125 -5.359375 4.53125 -4.1875 C 4.53125 -3.234375 4.421875 -2.28125 4.3125 -1.9375 C 4.109375 -1.4375 3.75 -1.15625 3.28125 -1.15625 C 2.828125 -1.15625 2.5 -1.390625 2.296875 -1.828125 C 2.125 -2.1875 2.03125 -3.078125 2.03125 -4.21875 C 2.03125 -5.203125 2.125 -6.1875 2.25 -6.53125 C 2.4375 -7.046875 2.796875 -7.328125 3.28125 -7.328125 Z \"/>\n",
       "</symbol>\n",
       "<symbol overflow=\"visible\" id=\"glyph0-11\">\n",
       "<path style=\"stroke:none;\" d=\"M 2.5625 -1.75 L 0.765625 -1.75 L 0.765625 0 L 2.5625 0 Z \"/>\n",
       "</symbol>\n",
       "<symbol overflow=\"visible\" id=\"glyph0-12\">\n",
       "<path style=\"stroke:none;\" d=\"M 5.875 -8.515625 L 1.3125 -8.515625 L 0.5625 -3.765625 L 2.078125 -3.765625 C 2.25 -4.1875 2.640625 -4.421875 3.15625 -4.421875 C 4.015625 -4.421875 4.53125 -3.796875 4.53125 -2.765625 C 4.53125 -1.78125 4 -1.15625 3.15625 -1.15625 C 2.421875 -1.15625 2.015625 -1.53125 1.984375 -2.21875 L 0.328125 -2.21875 C 0.34375 -0.734375 1.46875 0.28125 3.125 0.28125 C 4.953125 0.28125 6.203125 -0.96875 6.203125 -2.8125 C 6.203125 -4.546875 5.125 -5.75 3.546875 -5.75 C 2.984375 -5.75 2.5625 -5.609375 2.078125 -5.234375 L 2.359375 -7.015625 L 5.875 -7.015625 Z \"/>\n",
       "</symbol>\n",
       "<symbol overflow=\"visible\" id=\"glyph1-0\">\n",
       "<path style=\"stroke:none;\" d=\"\"/>\n",
       "</symbol>\n",
       "<symbol overflow=\"visible\" id=\"glyph1-1\">\n",
       "<path style=\"stroke:none;\" d=\"M 3.296875 -8.515625 C 2.515625 -8.515625 1.78125 -8.15625 1.34375 -7.578125 C 0.796875 -6.828125 0.515625 -5.6875 0.515625 -4.109375 C 0.515625 -1.25 1.46875 0.28125 3.296875 0.28125 C 5.09375 0.28125 6.078125 -1.25 6.078125 -4.046875 C 6.078125 -5.703125 5.8125 -6.796875 5.25 -7.578125 C 4.8125 -8.171875 4.109375 -8.515625 3.296875 -8.515625 Z M 3.296875 -7.578125 C 4.4375 -7.578125 5 -6.421875 5 -4.140625 C 5 -1.734375 4.453125 -0.59375 3.28125 -0.59375 C 2.15625 -0.59375 1.59375 -1.78125 1.59375 -4.109375 C 1.59375 -6.4375 2.15625 -7.578125 3.296875 -7.578125 Z \"/>\n",
       "</symbol>\n",
       "<symbol overflow=\"visible\" id=\"glyph1-2\">\n",
       "<path style=\"stroke:none;\" d=\"M 2.296875 -1.25 L 1.046875 -1.25 L 1.046875 0 L 2.296875 0 Z \"/>\n",
       "</symbol>\n",
       "<symbol overflow=\"visible\" id=\"glyph1-3\">\n",
       "<path style=\"stroke:none;\" d=\"M 6.078125 -1.046875 L 1.59375 -1.046875 C 1.703125 -1.734375 2.09375 -2.1875 3.125 -2.796875 L 4.328125 -3.4375 C 5.515625 -4.09375 6.125 -4.96875 6.125 -6.015625 C 6.125 -6.71875 5.84375 -7.375 5.34375 -7.84375 C 4.84375 -8.296875 4.21875 -8.515625 3.40625 -8.515625 C 2.328125 -8.515625 1.53125 -8.125 1.0625 -7.40625 C 0.75 -6.953125 0.625 -6.421875 0.59375 -5.5625 L 1.65625 -5.5625 C 1.6875 -6.125 1.765625 -6.484375 1.90625 -6.75 C 2.1875 -7.265625 2.734375 -7.578125 3.375 -7.578125 C 4.328125 -7.578125 5.046875 -6.90625 5.046875 -5.984375 C 5.046875 -5.3125 4.65625 -4.734375 3.90625 -4.3125 L 2.796875 -3.6875 C 1.015625 -2.671875 0.5 -1.875 0.40625 0 L 6.078125 0 Z \"/>\n",
       "</symbol>\n",
       "<symbol overflow=\"visible\" id=\"glyph1-4\">\n",
       "<path style=\"stroke:none;\" d=\"M 0.640625 -1.9375 C 0.84375 -0.546875 1.75 0.28125 3.046875 0.28125 C 3.984375 0.28125 4.84375 -0.1875 5.328125 -0.9375 C 5.875 -1.765625 6.109375 -2.8125 6.109375 -4.359375 C 6.109375 -5.78125 5.890625 -6.703125 5.390625 -7.453125 C 4.921875 -8.140625 4.171875 -8.515625 3.234375 -8.515625 C 1.625 -8.515625 0.453125 -7.3125 0.453125 -5.640625 C 0.453125 -4.0625 1.53125 -2.9375 3.078125 -2.9375 C 3.875 -2.9375 4.46875 -3.234375 5.015625 -3.890625 C 5 -1.8125 4.328125 -0.65625 3.125 -0.65625 C 2.375 -0.65625 1.859375 -1.125 1.6875 -1.9375 Z M 3.234375 -7.578125 C 4.21875 -7.578125 4.953125 -6.765625 4.953125 -5.65625 C 4.953125 -4.625 4.21875 -3.875 3.1875 -3.875 C 2.171875 -3.875 1.53125 -4.578125 1.53125 -5.71875 C 1.53125 -6.796875 2.25 -7.578125 3.234375 -7.578125 Z \"/>\n",
       "</symbol>\n",
       "<symbol overflow=\"visible\" id=\"glyph1-5\">\n",
       "<path style=\"stroke:none;\" d=\"M 5.96875 -6.28125 C 5.765625 -7.6875 4.859375 -8.515625 3.5625 -8.515625 C 2.625 -8.515625 1.78125 -8.046875 1.28125 -7.296875 C 0.75 -6.46875 0.515625 -5.421875 0.515625 -3.875 C 0.515625 -2.453125 0.734375 -1.53125 1.234375 -0.78125 C 1.6875 -0.09375 2.4375 0.28125 3.375 0.28125 C 4.984375 0.28125 6.15625 -0.921875 6.15625 -2.59375 C 6.15625 -4.171875 5.078125 -5.296875 3.546875 -5.296875 C 2.71875 -5.296875 2.046875 -4.96875 1.59375 -4.34375 C 1.609375 -6.421875 2.28125 -7.578125 3.484375 -7.578125 C 4.234375 -7.578125 4.75 -7.109375 4.921875 -6.28125 Z M 3.421875 -4.359375 C 4.4375 -4.359375 5.078125 -3.640625 5.078125 -2.515625 C 5.078125 -1.4375 4.359375 -0.65625 3.390625 -0.65625 C 2.40625 -0.65625 1.65625 -1.46875 1.65625 -2.5625 C 1.65625 -3.625 2.375 -4.359375 3.421875 -4.359375 Z \"/>\n",
       "</symbol>\n",
       "<symbol overflow=\"visible\" id=\"glyph1-6\">\n",
       "<path style=\"stroke:none;\" d=\"M 2.65625 -3.90625 L 3.234375 -3.90625 C 4.390625 -3.90625 4.984375 -3.390625 4.984375 -2.359375 C 4.984375 -1.296875 4.328125 -0.65625 3.234375 -0.65625 C 2.078125 -0.65625 1.515625 -1.234375 1.4375 -2.46875 L 0.390625 -2.46875 C 0.4375 -1.78125 0.546875 -1.34375 0.75 -0.953125 C 1.1875 -0.140625 2.03125 0.28125 3.1875 0.28125 C 4.9375 0.28125 6.078125 -0.765625 6.078125 -2.375 C 6.078125 -3.453125 5.65625 -4.0625 4.625 -4.40625 C 5.421875 -4.71875 5.8125 -5.3125 5.8125 -6.171875 C 5.8125 -7.625 4.84375 -8.515625 3.234375 -8.515625 C 1.515625 -8.515625 0.59375 -7.578125 0.5625 -5.765625 L 1.625 -5.765625 C 1.625 -6.28125 1.6875 -6.5625 1.8125 -6.828125 C 2.046875 -7.296875 2.578125 -7.578125 3.234375 -7.578125 C 4.171875 -7.578125 4.734375 -7.03125 4.734375 -6.125 C 4.734375 -5.53125 4.53125 -5.171875 4.0625 -4.984375 C 3.765625 -4.859375 3.390625 -4.8125 2.65625 -4.796875 Z \"/>\n",
       "</symbol>\n",
       "<symbol overflow=\"visible\" id=\"glyph1-7\">\n",
       "<path style=\"stroke:none;\" d=\"M 4.6875 -4.46875 C 5.5625 -5 5.859375 -5.4375 5.859375 -6.234375 C 5.859375 -7.578125 4.8125 -8.515625 3.296875 -8.515625 C 1.796875 -8.515625 0.75 -7.578125 0.75 -6.234375 C 0.75 -5.453125 1.03125 -5.015625 1.890625 -4.46875 C 0.921875 -4.015625 0.4375 -3.296875 0.4375 -2.359375 C 0.4375 -0.796875 1.625 0.28125 3.296875 0.28125 C 4.984375 0.28125 6.15625 -0.796875 6.15625 -2.359375 C 6.15625 -3.296875 5.671875 -4.015625 4.6875 -4.46875 Z M 3.296875 -7.578125 C 4.203125 -7.578125 4.78125 -7.046875 4.78125 -6.21875 C 4.78125 -5.421875 4.1875 -4.890625 3.296875 -4.890625 C 2.40625 -4.890625 1.828125 -5.421875 1.828125 -6.234375 C 1.828125 -7.046875 2.40625 -7.578125 3.296875 -7.578125 Z M 3.296875 -4.015625 C 4.359375 -4.015625 5.078125 -3.34375 5.078125 -2.34375 C 5.078125 -1.328125 4.359375 -0.65625 3.28125 -0.65625 C 2.25 -0.65625 1.53125 -1.34375 1.53125 -2.34375 C 1.53125 -3.34375 2.25 -4.015625 3.296875 -4.015625 Z \"/>\n",
       "</symbol>\n",
       "<symbol overflow=\"visible\" id=\"glyph1-8\">\n",
       "<path style=\"stroke:none;\" d=\"M 3.921875 -2.046875 L 3.921875 0 L 4.984375 0 L 4.984375 -2.046875 L 6.234375 -2.046875 L 6.234375 -2.984375 L 4.984375 -2.984375 L 4.984375 -8.515625 L 4.203125 -8.515625 L 0.34375 -3.15625 L 0.34375 -2.046875 Z M 3.921875 -2.984375 L 1.265625 -2.984375 L 3.921875 -6.703125 Z \"/>\n",
       "</symbol>\n",
       "<symbol overflow=\"visible\" id=\"glyph2-0\">\n",
       "<path style=\"stroke:none;\" d=\"\"/>\n",
       "</symbol>\n",
       "<symbol overflow=\"visible\" id=\"glyph2-1\">\n",
       "<path style=\"stroke:none;\" d=\"M 4.8125 -5.03125 L 2.578125 -1.125 L 2.125 -5.03125 L 1.265625 -5.03125 L 1.921875 0.03125 L 1.421875 0.8125 C 1.15625 1.21875 1 1.3125 0.65625 1.3125 C 0.5625 1.3125 0.484375 1.3125 0.234375 1.28125 L 0.078125 2 C 0.25 2.078125 0.359375 2.09375 0.546875 2.09375 C 1.234375 2.09375 1.71875 1.765625 2.125 1.0625 L 5.65625 -5.03125 Z \"/>\n",
       "</symbol>\n",
       "<symbol overflow=\"visible\" id=\"glyph2-2\">\n",
       "<path style=\"stroke:none;\" d=\"M 5.40625 -2.25 L 5.4375 -2.40625 C 5.515625 -2.875 5.5625 -3.265625 5.5625 -3.53125 C 5.5625 -4.453125 4.765625 -5.171875 3.734375 -5.171875 C 2.890625 -5.171875 2.09375 -4.78125 1.609375 -4.140625 C 1.15625 -3.53125 0.8125 -2.4375 0.8125 -1.65625 C 0.8125 -1.140625 1.03125 -0.609375 1.40625 -0.265625 C 1.734375 0.0625 2.15625 0.21875 2.703125 0.21875 C 3.859375 0.21875 4.84375 -0.484375 5.140625 -1.53125 L 4.34375 -1.53125 C 3.984375 -0.859375 3.484375 -0.515625 2.84375 -0.515625 C 2.078125 -0.515625 1.65625 -0.984375 1.65625 -1.796875 C 1.65625 -2 1.65625 -2.09375 1.703125 -2.25 Z M 1.875 -2.9375 C 2.125 -3.8125 2.828125 -4.4375 3.609375 -4.4375 C 4.28125 -4.4375 4.71875 -3.96875 4.71875 -3.25 C 4.71875 -3.15625 4.703125 -3.09375 4.6875 -2.9375 Z \"/>\n",
       "</symbol>\n",
       "<symbol overflow=\"visible\" id=\"glyph2-3\">\n",
       "<path style=\"stroke:none;\" d=\"M 4.9375 -3.625 C 4.984375 -3.828125 4.984375 -3.921875 4.984375 -4.03125 C 4.984375 -4.703125 4.34375 -5.171875 3.421875 -5.171875 C 2.734375 -5.171875 2.15625 -4.96875 1.75 -4.59375 C 1.40625 -4.265625 1.1875 -3.765625 1.1875 -3.3125 C 1.1875 -2.71875 1.515625 -2.453125 2.5 -2.1875 L 3.21875 -2 C 3.53125 -1.921875 3.671875 -1.859375 3.765625 -1.75 C 3.828125 -1.671875 3.890625 -1.53125 3.890625 -1.4375 C 3.890625 -1.265625 3.734375 -0.96875 3.578125 -0.84375 C 3.34375 -0.640625 2.921875 -0.515625 2.515625 -0.515625 C 1.859375 -0.515625 1.484375 -0.78125 1.484375 -1.25 C 1.484375 -1.3125 1.484375 -1.40625 1.5 -1.5 L 0.640625 -1.5 C 0.59375 -1.28125 0.578125 -1.15625 0.578125 -1 C 0.578125 -0.234375 1.25 0.21875 2.375 0.21875 C 3.796875 0.21875 4.734375 -0.515625 4.734375 -1.65625 C 4.734375 -2.25 4.40625 -2.546875 3.5625 -2.765625 L 2.84375 -2.9375 C 2.296875 -3.078125 2.03125 -3.265625 2.03125 -3.515625 C 2.03125 -3.71875 2.140625 -3.953125 2.3125 -4.109375 C 2.546875 -4.34375 2.828125 -4.4375 3.25 -4.4375 C 3.8125 -4.4375 4.140625 -4.21875 4.140625 -3.84375 C 4.140625 -3.765625 4.140625 -3.703125 4.125 -3.625 Z \"/>\n",
       "</symbol>\n",
       "<symbol overflow=\"visible\" id=\"glyph2-4\">\n",
       "<path style=\"stroke:none;\" d=\"M 1.734375 -5.03125 L 0.671875 0 L 1.484375 0 L 2.0625 -2.765625 C 2.296875 -3.828125 2.96875 -4.484375 3.828125 -4.484375 C 4.3125 -4.484375 4.65625 -4.140625 4.65625 -3.703125 C 4.65625 -3.640625 4.640625 -3.5 4.609375 -3.34375 L 3.890625 0 L 4.703125 0 L 5.46875 -3.609375 C 5.5 -3.734375 5.5 -3.84375 5.5 -3.96875 C 5.5 -4.703125 5 -5.171875 4.203125 -5.171875 C 3.46875 -5.171875 2.84375 -4.90625 2.34375 -4.40625 L 2.46875 -5.03125 Z \"/>\n",
       "</symbol>\n",
       "<symbol overflow=\"visible\" id=\"glyph2-5\">\n",
       "<path style=\"stroke:none;\" d=\"M 3.6875 -5.171875 C 2.796875 -5.171875 2 -4.765625 1.515625 -4.0625 C 1.078125 -3.4375 0.765625 -2.390625 0.765625 -1.578125 C 0.765625 -0.515625 1.5 0.21875 2.578125 0.21875 C 3.5 0.21875 4.234375 -0.15625 4.765625 -0.890625 C 5.203125 -1.5 5.53125 -2.546875 5.53125 -3.375 C 5.53125 -3.890625 5.328125 -4.375 5 -4.703125 C 4.671875 -5.015625 4.234375 -5.171875 3.6875 -5.171875 Z M 3.5625 -4.4375 C 4.265625 -4.4375 4.6875 -3.96875 4.6875 -3.1875 C 4.6875 -2.625 4.515625 -2 4.265625 -1.53125 C 3.890625 -0.859375 3.375 -0.515625 2.71875 -0.515625 C 2.03125 -0.515625 1.609375 -1 1.609375 -1.765625 C 1.609375 -2.3125 1.78125 -2.9375 2.03125 -3.421875 C 2.390625 -4.078125 2.921875 -4.4375 3.5625 -4.4375 Z \"/>\n",
       "</symbol>\n",
       "</g>\n",
       "</defs>\n",
       "<g id=\"surface118\">\n",
       "<rect x=\"0\" y=\"0\" width=\"504\" height=\"504\" style=\"fill:rgb(100%,100%,100%);fill-opacity:1;stroke:none;\"/>\n",
       "<path style=\"fill:none;stroke-width:0.75;stroke-linecap:butt;stroke-linejoin:round;stroke:rgb(0%,0%,0%);stroke-opacity:1;stroke-miterlimit:10;\" d=\"M 168.574219 283.132812 L 237.402344 210.050781 L 254.609375 210.050781 \"/>\n",
       "<path style=\"fill:none;stroke-width:0.75;stroke-linecap:butt;stroke-linejoin:round;stroke:rgb(0%,0%,0%);stroke-opacity:1;stroke-miterlimit:10;\" d=\"M 340.644531 283.132812 L 271.816406 210.050781 L 254.609375 210.050781 \"/>\n",
       "<path style=\" stroke:none;fill-rule:nonzero;fill:rgb(100%,100%,100%);fill-opacity:1;\" d=\"M 210.714844 214.355469 L 210.714844 197.125 L 298.503906 197.125 L 298.503906 214.355469 Z \"/>\n",
       "<g style=\"fill:rgb(0%,0%,0%);fill-opacity:1;\">\n",
       "  <use xlink:href=\"#glyph0-1\" x=\"215.109375\" y=\"209.490234\"/>\n",
       "  <use xlink:href=\"#glyph0-2\" x=\"221.78125\" y=\"209.490234\"/>\n",
       "  <use xlink:href=\"#glyph0-3\" x=\"229.113281\" y=\"209.490234\"/>\n",
       "  <use xlink:href=\"#glyph0-4\" x=\"236.445312\" y=\"209.490234\"/>\n",
       "  <use xlink:href=\"#glyph0-5\" x=\"240.441406\" y=\"209.490234\"/>\n",
       "  <use xlink:href=\"#glyph0-2\" x=\"245.109375\" y=\"209.490234\"/>\n",
       "  <use xlink:href=\"#glyph0-6\" x=\"252.441406\" y=\"209.490234\"/>\n",
       "  <use xlink:href=\"#glyph0-7\" x=\"255.777344\" y=\"209.490234\"/>\n",
       "  <use xlink:href=\"#glyph0-8\" x=\"259.113281\" y=\"209.490234\"/>\n",
       "  <use xlink:href=\"#glyph0-9\" x=\"266.121094\" y=\"209.490234\"/>\n",
       "  <use xlink:href=\"#glyph0-7\" x=\"273.128906\" y=\"209.490234\"/>\n",
       "  <use xlink:href=\"#glyph0-10\" x=\"276.464844\" y=\"209.490234\"/>\n",
       "  <use xlink:href=\"#glyph0-11\" x=\"283.136719\" y=\"209.490234\"/>\n",
       "  <use xlink:href=\"#glyph0-12\" x=\"286.472656\" y=\"209.490234\"/>\n",
       "</g>\n",
       "<path style=\"fill-rule:nonzero;fill:rgb(100%,100%,100%);fill-opacity:1;stroke-width:0.75;stroke-linecap:round;stroke-linejoin:round;stroke:rgb(0%,0%,0%);stroke-opacity:1;stroke-miterlimit:10;\" d=\"M 138.558594 291.746094 L 138.851562 289.519531 L 139.710938 287.441406 L 141.082031 285.65625 L 142.867188 284.285156 L 144.945312 283.425781 L 147.171875 283.132812 L 189.976562 283.132812 L 192.207031 283.425781 L 194.285156 284.285156 L 196.070312 285.65625 L 197.4375 287.441406 L 198.300781 289.519531 L 198.59375 291.746094 L 198.300781 293.976562 L 197.4375 296.054688 L 196.070312 297.839844 L 194.285156 299.210938 L 192.207031 300.070312 L 189.976562 300.363281 L 147.171875 300.363281 L 144.945312 300.070312 L 142.867188 299.210938 L 141.082031 297.839844 L 139.710938 296.054688 L 138.851562 293.976562 Z \"/>\n",
       "<path style=\"fill-rule:nonzero;fill:rgb(100%,100%,100%);fill-opacity:1;stroke-width:0.75;stroke-linecap:round;stroke-linejoin:round;stroke:rgb(0%,0%,0%);stroke-opacity:1;stroke-miterlimit:10;\" d=\"M 323.96875 290.957031 L 324.261719 288.933594 L 325.125 287.046875 L 326.492188 285.425781 L 328.277344 284.179688 L 330.355469 283.398438 L 332.585938 283.132812 L 348.699219 283.132812 L 350.929688 283.398438 L 353.007812 284.179688 L 354.792969 285.425781 L 356.164062 287.046875 L 357.023438 288.933594 L 357.316406 290.957031 L 357.316406 292.539062 L 357.023438 294.5625 L 356.164062 296.449219 L 354.792969 298.070312 L 353.007812 299.316406 L 350.929688 300.097656 L 348.699219 300.363281 L 332.585938 300.363281 L 330.355469 300.097656 L 328.277344 299.316406 L 326.492188 298.070312 L 325.125 296.449219 L 324.261719 294.5625 L 323.96875 292.539062 Z \"/>\n",
       "<g style=\"fill:rgb(0%,0%,0%);fill-opacity:1;\">\n",
       "  <use xlink:href=\"#glyph1-1\" x=\"143.074219\" y=\"295.181641\"/>\n",
       "  <use xlink:href=\"#glyph1-2\" x=\"149.746094\" y=\"295.181641\"/>\n",
       "  <use xlink:href=\"#glyph1-3\" x=\"153.082031\" y=\"295.181641\"/>\n",
       "  <use xlink:href=\"#glyph1-4\" x=\"159.753906\" y=\"295.181641\"/>\n",
       "  <use xlink:href=\"#glyph1-5\" x=\"166.425781\" y=\"295.181641\"/>\n",
       "  <use xlink:href=\"#glyph1-5\" x=\"173.097656\" y=\"295.181641\"/>\n",
       "  <use xlink:href=\"#glyph1-6\" x=\"179.769531\" y=\"295.181641\"/>\n",
       "  <use xlink:href=\"#glyph1-7\" x=\"186.441406\" y=\"295.181641\"/>\n",
       "</g>\n",
       "<g style=\"fill:rgb(0%,0%,0%);fill-opacity:1;\">\n",
       "  <use xlink:href=\"#glyph1-1\" x=\"328.644531\" y=\"295.181641\"/>\n",
       "  <use xlink:href=\"#glyph1-2\" x=\"335.316406\" y=\"295.181641\"/>\n",
       "  <use xlink:href=\"#glyph1-6\" x=\"338.652344\" y=\"295.181641\"/>\n",
       "  <use xlink:href=\"#glyph1-8\" x=\"345.324219\" y=\"295.181641\"/>\n",
       "</g>\n",
       "<path style=\"fill-rule:nonzero;fill:rgb(100%,100%,100%);fill-opacity:1;stroke-width:0.75;stroke-linecap:round;stroke-linejoin:round;stroke:rgb(0%,0%,0%);stroke-opacity:1;stroke-miterlimit:10;\" d=\"M 183.066406 205.203125 L 183.121094 204.785156 L 183.28125 204.394531 L 183.539062 204.058594 L 183.871094 203.804688 L 184.261719 203.640625 L 184.679688 203.585938 L 204.488281 203.585938 L 204.90625 203.640625 L 205.296875 203.804688 L 205.632812 204.058594 L 205.890625 204.394531 L 206.050781 204.785156 L 206.105469 205.203125 L 206.105469 214.894531 L 206.050781 215.3125 L 205.890625 215.703125 L 205.632812 216.039062 L 205.296875 216.292969 L 204.90625 216.457031 L 204.488281 216.511719 L 184.679688 216.511719 L 184.261719 216.457031 L 183.871094 216.292969 L 183.539062 216.039062 L 183.28125 215.703125 L 183.121094 215.3125 L 183.066406 214.894531 Z \"/>\n",
       "<path style=\"fill-rule:nonzero;fill:rgb(100%,100%,100%);fill-opacity:1;stroke-width:0.75;stroke-linecap:round;stroke-linejoin:round;stroke:rgb(0%,0%,0%);stroke-opacity:1;stroke-miterlimit:10;\" d=\"M 303.113281 205.203125 L 303.167969 204.785156 L 303.328125 204.394531 L 303.585938 204.058594 L 303.921875 203.804688 L 304.3125 203.640625 L 304.730469 203.585938 L 324.539062 203.585938 L 324.957031 203.640625 L 325.34375 203.804688 L 325.679688 204.058594 L 325.9375 204.394531 L 326.097656 204.785156 L 326.152344 205.203125 L 326.152344 214.894531 L 326.097656 215.3125 L 325.9375 215.703125 L 325.679688 216.039062 L 325.34375 216.292969 L 324.957031 216.457031 L 324.539062 216.511719 L 304.730469 216.511719 L 304.3125 216.457031 L 303.921875 216.292969 L 303.585938 216.039062 L 303.328125 215.703125 L 303.167969 215.3125 L 303.113281 214.894531 Z \"/>\n",
       "<g style=\"fill:rgb(0%,0%,0%);fill-opacity:1;\">\n",
       "  <use xlink:href=\"#glyph2-1\" x=\"187.085938\" y=\"212.022461\"/>\n",
       "  <use xlink:href=\"#glyph2-2\" x=\"191.882812\" y=\"212.022461\"/>\n",
       "  <use xlink:href=\"#glyph2-3\" x=\"197.216797\" y=\"212.022461\"/>\n",
       "</g>\n",
       "<g style=\"fill:rgb(0%,0%,0%);fill-opacity:1;\">\n",
       "  <use xlink:href=\"#glyph2-4\" x=\"309.132812\" y=\"211.948242\"/>\n",
       "  <use xlink:href=\"#glyph2-5\" x=\"314.466797\" y=\"211.948242\"/>\n",
       "</g>\n",
       "</g>\n",
       "</svg>\n"
      ],
      "text/plain": [
       "plot without title"
      ]
     },
     "metadata": {
      "image/svg+xml": {
       "isolated": true
      }
     },
     "output_type": "display_data"
    }
   ],
   "source": [
    "prp(CARTcontrol,digits = 6)"
   ]
  },
  {
   "cell_type": "code",
   "execution_count": 68,
   "metadata": {
    "collapsed": false
   },
   "outputs": [
    {
     "data": {
      "text/html": [
       "0.043362"
      ],
      "text/latex": [
       "0.043362"
      ],
      "text/markdown": [
       "0.043362"
      ],
      "text/plain": [
       "[1] 0.043362"
      ]
     },
     "execution_count": 68,
     "metadata": {},
     "output_type": "execute_result"
    }
   ],
   "source": [
    "abs(0.296638-0.34)"
   ]
  },
  {
   "cell_type": "code",
   "execution_count": 69,
   "metadata": {
    "collapsed": false
   },
   "outputs": [
    {
     "data": {
      "image/png": "[encoded data removed]",
      "image/svg+xml": [
       "<?xml version=\"1.0\" encoding=\"UTF-8\"?>\n",
       "<svg xmlns=\"http://www.w3.org/2000/svg\" xmlns:xlink=\"http://www.w3.org/1999/xlink\" width=\"504pt\" height=\"504pt\" viewBox=\"0 0 504 504\" version=\"1.1\">\n",
       "<defs>\n",
       "<g>\n",
       "<symbol overflow=\"visible\" id=\"glyph0-0\">\n",
       "<path style=\"stroke:none;\" d=\"\"/>\n",
       "</symbol>\n",
       "<symbol overflow=\"visible\" id=\"glyph0-1\">\n",
       "<path style=\"stroke:none;\" d=\"M 6.265625 -4.0625 C 6.140625 -5.640625 5.09375 -6.59375 3.46875 -6.59375 C 1.53125 -6.59375 0.40625 -5.3125 0.40625 -3.109375 C 0.40625 -0.96875 1.53125 0.28125 3.4375 0.28125 C 5.015625 0.28125 6.109375 -0.703125 6.265625 -2.25 L 4.65625 -2.25 C 4.4375 -1.40625 4.109375 -1.078125 3.453125 -1.078125 C 2.609375 -1.078125 2.09375 -1.84375 2.09375 -3.109375 C 2.09375 -3.71875 2.203125 -4.296875 2.40625 -4.6875 C 2.609375 -5.046875 2.96875 -5.234375 3.453125 -5.234375 C 4.140625 -5.234375 4.46875 -4.90625 4.65625 -4.0625 Z \"/>\n",
       "</symbol>\n",
       "<symbol overflow=\"visible\" id=\"glyph0-2\">\n",
       "<path style=\"stroke:none;\" d=\"M 3.609375 -6.59375 C 1.625 -6.59375 0.421875 -5.28125 0.421875 -3.15625 C 0.421875 -1.015625 1.625 0.28125 3.625 0.28125 C 5.59375 0.28125 6.828125 -1.03125 6.828125 -3.109375 C 6.828125 -5.296875 5.640625 -6.59375 3.609375 -6.59375 Z M 3.625 -5.234375 C 4.546875 -5.234375 5.140625 -4.40625 5.140625 -3.125 C 5.140625 -1.921875 4.53125 -1.078125 3.625 -1.078125 C 2.71875 -1.078125 2.09375 -1.921875 2.09375 -3.15625 C 2.09375 -4.390625 2.71875 -5.234375 3.625 -5.234375 Z \"/>\n",
       "</symbol>\n",
       "<symbol overflow=\"visible\" id=\"glyph0-3\">\n",
       "<path style=\"stroke:none;\" d=\"M 0.75 -6.484375 L 0.75 0 L 2.4375 0 L 2.4375 -3.890625 C 2.4375 -4.65625 2.96875 -5.15625 3.796875 -5.15625 C 4.515625 -5.15625 4.875 -4.765625 4.875 -4 L 4.875 0 L 6.546875 0 L 6.546875 -4.34375 C 6.546875 -5.765625 5.765625 -6.59375 4.375 -6.59375 C 3.5 -6.59375 2.921875 -6.265625 2.4375 -5.546875 L 2.4375 -6.484375 Z \"/>\n",
       "</symbol>\n",
       "<symbol overflow=\"visible\" id=\"glyph0-4\">\n",
       "<path style=\"stroke:none;\" d=\"M 3.609375 -6.34375 L 2.671875 -6.34375 L 2.671875 -8.09375 L 1 -8.09375 L 1 -6.34375 L 0.171875 -6.34375 L 0.171875 -5.234375 L 1 -5.234375 L 1 -1.25 C 1 -0.234375 1.53125 0.28125 2.640625 0.28125 C 3.015625 0.28125 3.3125 0.234375 3.609375 0.140625 L 3.609375 -1.03125 C 3.4375 -1.015625 3.34375 -1 3.234375 -1 C 2.78125 -1 2.671875 -1.125 2.671875 -1.703125 L 2.671875 -5.234375 L 3.609375 -5.234375 Z \"/>\n",
       "</symbol>\n",
       "<symbol overflow=\"visible\" id=\"glyph0-5\">\n",
       "<path style=\"stroke:none;\" d=\"M 0.75 -6.484375 L 0.75 0 L 2.4375 0 L 2.4375 -3.4375 C 2.4375 -4.421875 2.921875 -4.921875 3.90625 -4.921875 C 4.09375 -4.921875 4.21875 -4.90625 4.4375 -4.875 L 4.4375 -6.578125 C 4.34375 -6.59375 4.28125 -6.59375 4.234375 -6.59375 C 3.46875 -6.59375 2.796875 -6.078125 2.4375 -5.203125 L 2.4375 -6.484375 Z \"/>\n",
       "</symbol>\n",
       "<symbol overflow=\"visible\" id=\"glyph0-6\">\n",
       "<path style=\"stroke:none;\" d=\"M 2.484375 -8.75 L 0.796875 -8.75 L 0.796875 0 L 2.484375 0 Z \"/>\n",
       "</symbol>\n",
       "<symbol overflow=\"visible\" id=\"glyph0-7\">\n",
       "<path style=\"stroke:none;\" d=\"\"/>\n",
       "</symbol>\n",
       "<symbol overflow=\"visible\" id=\"glyph0-8\">\n",
       "<path style=\"stroke:none;\" d=\"M 0.484375 0.125 L 6.34375 -2.046875 L 6.34375 -3.5 L 0.484375 -5.6875 L 0.484375 -4.359375 L 5.0625 -2.78125 L 0.484375 -1.1875 Z \"/>\n",
       "</symbol>\n",
       "<symbol overflow=\"visible\" id=\"glyph0-9\">\n",
       "<path style=\"stroke:none;\" d=\"M 6.40625 -4.9375 L 0.59375 -4.9375 L 0.59375 -3.5 L 6.40625 -3.5 Z M 6.40625 -2.046875 L 0.59375 -2.046875 L 0.59375 -0.625 L 6.40625 -0.625 Z \"/>\n",
       "</symbol>\n",
       "<symbol overflow=\"visible\" id=\"glyph0-10\">\n",
       "<path style=\"stroke:none;\" d=\"M 3.28125 -8.6875 C 2.359375 -8.6875 1.578125 -8.296875 1.0625 -7.59375 C 0.578125 -6.9375 0.34375 -5.84375 0.34375 -4.203125 C 0.34375 -2.703125 0.546875 -1.625 0.953125 -0.984375 C 1.453125 -0.1875 2.28125 0.28125 3.28125 0.28125 C 4.203125 0.28125 4.953125 -0.09375 5.484375 -0.8125 C 5.96875 -1.46875 6.203125 -2.5625 6.203125 -4.15625 C 6.203125 -5.71875 6.015625 -6.765625 5.609375 -7.421875 C 5.09375 -8.25 4.265625 -8.6875 3.28125 -8.6875 Z M 3.28125 -7.328125 C 3.703125 -7.328125 4.0625 -7.09375 4.265625 -6.640625 C 4.421875 -6.28125 4.53125 -5.359375 4.53125 -4.1875 C 4.53125 -3.234375 4.421875 -2.28125 4.3125 -1.9375 C 4.109375 -1.4375 3.75 -1.15625 3.28125 -1.15625 C 2.828125 -1.15625 2.5 -1.390625 2.296875 -1.828125 C 2.125 -2.1875 2.03125 -3.078125 2.03125 -4.21875 C 2.03125 -5.203125 2.125 -6.1875 2.25 -6.53125 C 2.4375 -7.046875 2.796875 -7.328125 3.28125 -7.328125 Z \"/>\n",
       "</symbol>\n",
       "<symbol overflow=\"visible\" id=\"glyph0-11\">\n",
       "<path style=\"stroke:none;\" d=\"M 2.5625 -1.75 L 0.765625 -1.75 L 0.765625 0 L 2.5625 0 Z \"/>\n",
       "</symbol>\n",
       "<symbol overflow=\"visible\" id=\"glyph0-12\">\n",
       "<path style=\"stroke:none;\" d=\"M 5.875 -8.515625 L 1.3125 -8.515625 L 0.5625 -3.765625 L 2.078125 -3.765625 C 2.25 -4.1875 2.640625 -4.421875 3.15625 -4.421875 C 4.015625 -4.421875 4.53125 -3.796875 4.53125 -2.765625 C 4.53125 -1.78125 4 -1.15625 3.15625 -1.15625 C 2.421875 -1.15625 2.015625 -1.53125 1.984375 -2.21875 L 0.328125 -2.21875 C 0.34375 -0.734375 1.46875 0.28125 3.125 0.28125 C 4.953125 0.28125 6.203125 -0.96875 6.203125 -2.8125 C 6.203125 -4.546875 5.125 -5.75 3.546875 -5.75 C 2.984375 -5.75 2.5625 -5.609375 2.078125 -5.234375 L 2.359375 -7.015625 L 5.875 -7.015625 Z \"/>\n",
       "</symbol>\n",
       "<symbol overflow=\"visible\" id=\"glyph0-13\">\n",
       "<path style=\"stroke:none;\" d=\"M 6.0625 -4.390625 C 6.03125 -5.765625 4.984375 -6.59375 3.234375 -6.59375 C 1.59375 -6.59375 0.578125 -5.765625 0.578125 -4.421875 C 0.578125 -4 0.703125 -3.625 0.9375 -3.375 C 1.15625 -3.140625 1.375 -3.03125 1.984375 -2.828125 L 4 -2.203125 C 4.421875 -2.078125 4.5625 -1.9375 4.5625 -1.6875 C 4.5625 -1.28125 4.09375 -1.046875 3.3125 -1.046875 C 2.875 -1.046875 2.53125 -1.125 2.3125 -1.265625 C 2.140625 -1.40625 2.0625 -1.53125 1.984375 -1.890625 L 0.34375 -1.890625 C 0.390625 -0.46875 1.4375 0.28125 3.40625 0.28125 C 4.3125 0.28125 4.984375 0.078125 5.46875 -0.296875 C 5.953125 -0.6875 6.234375 -1.28125 6.234375 -1.921875 C 6.234375 -2.765625 5.8125 -3.296875 4.96875 -3.546875 L 2.84375 -4.15625 C 2.375 -4.3125 2.25 -4.40625 2.25 -4.671875 C 2.25 -5.03125 2.640625 -5.265625 3.234375 -5.265625 C 4.03125 -5.265625 4.421875 -4.984375 4.4375 -4.390625 Z \"/>\n",
       "</symbol>\n",
       "<symbol overflow=\"visible\" id=\"glyph0-14\">\n",
       "<path style=\"stroke:none;\" d=\"M 6.28125 -2.71875 C 6.296875 -2.859375 6.296875 -2.921875 6.296875 -3 C 6.296875 -3.640625 6.203125 -4.25 6.046875 -4.703125 C 5.609375 -5.875 4.578125 -6.59375 3.265625 -6.59375 C 1.40625 -6.59375 0.265625 -5.25 0.265625 -3.078125 C 0.265625 -1 1.390625 0.28125 3.234375 0.28125 C 4.6875 0.28125 5.859375 -0.546875 6.234375 -1.828125 L 4.578125 -1.828125 C 4.375 -1.3125 3.90625 -1.015625 3.28125 -1.015625 C 2.8125 -1.015625 2.421875 -1.21875 2.1875 -1.578125 C 2.03125 -1.8125 1.96875 -2.09375 1.9375 -2.71875 Z M 1.96875 -3.828125 C 2.078125 -4.8125 2.5 -5.296875 3.234375 -5.296875 C 3.65625 -5.296875 4.046875 -5.09375 4.28125 -4.765625 C 4.4375 -4.53125 4.515625 -4.265625 4.546875 -3.828125 Z \"/>\n",
       "</symbol>\n",
       "<symbol overflow=\"visible\" id=\"glyph0-15\">\n",
       "<path style=\"stroke:none;\" d=\"M 4.265625 -3.265625 L 6.375 -6.484375 L 4.359375 -6.484375 L 3.3125 -4.53125 L 2.25 -6.484375 L 0.234375 -6.484375 L 2.359375 -3.265625 L 0.1875 0 L 2.203125 0 L 3.3125 -2.015625 L 4.40625 0 L 6.421875 0 Z \"/>\n",
       "</symbol>\n",
       "<symbol overflow=\"visible\" id=\"glyph1-0\">\n",
       "<path style=\"stroke:none;\" d=\"\"/>\n",
       "</symbol>\n",
       "<symbol overflow=\"visible\" id=\"glyph1-1\">\n",
       "<path style=\"stroke:none;\" d=\"M 3.296875 -8.515625 C 2.515625 -8.515625 1.78125 -8.15625 1.34375 -7.578125 C 0.796875 -6.828125 0.515625 -5.6875 0.515625 -4.109375 C 0.515625 -1.25 1.46875 0.28125 3.296875 0.28125 C 5.09375 0.28125 6.078125 -1.25 6.078125 -4.046875 C 6.078125 -5.703125 5.8125 -6.796875 5.25 -7.578125 C 4.8125 -8.171875 4.109375 -8.515625 3.296875 -8.515625 Z M 3.296875 -7.578125 C 4.4375 -7.578125 5 -6.421875 5 -4.140625 C 5 -1.734375 4.453125 -0.59375 3.28125 -0.59375 C 2.15625 -0.59375 1.59375 -1.78125 1.59375 -4.109375 C 1.59375 -6.4375 2.15625 -7.578125 3.296875 -7.578125 Z \"/>\n",
       "</symbol>\n",
       "<symbol overflow=\"visible\" id=\"glyph1-2\">\n",
       "<path style=\"stroke:none;\" d=\"M 2.296875 -1.25 L 1.046875 -1.25 L 1.046875 0 L 2.296875 0 Z \"/>\n",
       "</symbol>\n",
       "<symbol overflow=\"visible\" id=\"glyph1-3\">\n",
       "<path style=\"stroke:none;\" d=\"M 6.078125 -1.046875 L 1.59375 -1.046875 C 1.703125 -1.734375 2.09375 -2.1875 3.125 -2.796875 L 4.328125 -3.4375 C 5.515625 -4.09375 6.125 -4.96875 6.125 -6.015625 C 6.125 -6.71875 5.84375 -7.375 5.34375 -7.84375 C 4.84375 -8.296875 4.21875 -8.515625 3.40625 -8.515625 C 2.328125 -8.515625 1.53125 -8.125 1.0625 -7.40625 C 0.75 -6.953125 0.625 -6.421875 0.59375 -5.5625 L 1.65625 -5.5625 C 1.6875 -6.125 1.765625 -6.484375 1.90625 -6.75 C 2.1875 -7.265625 2.734375 -7.578125 3.375 -7.578125 C 4.328125 -7.578125 5.046875 -6.90625 5.046875 -5.984375 C 5.046875 -5.3125 4.65625 -4.734375 3.90625 -4.3125 L 2.796875 -3.6875 C 1.015625 -2.671875 0.5 -1.875 0.40625 0 L 6.078125 0 Z \"/>\n",
       "</symbol>\n",
       "<symbol overflow=\"visible\" id=\"glyph1-4\">\n",
       "<path style=\"stroke:none;\" d=\"M 0.640625 -1.9375 C 0.84375 -0.546875 1.75 0.28125 3.046875 0.28125 C 3.984375 0.28125 4.84375 -0.1875 5.328125 -0.9375 C 5.875 -1.765625 6.109375 -2.8125 6.109375 -4.359375 C 6.109375 -5.78125 5.890625 -6.703125 5.390625 -7.453125 C 4.921875 -8.140625 4.171875 -8.515625 3.234375 -8.515625 C 1.625 -8.515625 0.453125 -7.3125 0.453125 -5.640625 C 0.453125 -4.0625 1.53125 -2.9375 3.078125 -2.9375 C 3.875 -2.9375 4.46875 -3.234375 5.015625 -3.890625 C 5 -1.8125 4.328125 -0.65625 3.125 -0.65625 C 2.375 -0.65625 1.859375 -1.125 1.6875 -1.9375 Z M 3.234375 -7.578125 C 4.21875 -7.578125 4.953125 -6.765625 4.953125 -5.65625 C 4.953125 -4.625 4.21875 -3.875 3.1875 -3.875 C 2.171875 -3.875 1.53125 -4.578125 1.53125 -5.71875 C 1.53125 -6.796875 2.25 -7.578125 3.234375 -7.578125 Z \"/>\n",
       "</symbol>\n",
       "<symbol overflow=\"visible\" id=\"glyph1-5\">\n",
       "<path style=\"stroke:none;\" d=\"M 3.921875 -2.046875 L 3.921875 0 L 4.984375 0 L 4.984375 -2.046875 L 6.234375 -2.046875 L 6.234375 -2.984375 L 4.984375 -2.984375 L 4.984375 -8.515625 L 4.203125 -8.515625 L 0.34375 -3.15625 L 0.34375 -2.046875 Z M 3.921875 -2.984375 L 1.265625 -2.984375 L 3.921875 -6.703125 Z \"/>\n",
       "</symbol>\n",
       "<symbol overflow=\"visible\" id=\"glyph1-6\">\n",
       "<path style=\"stroke:none;\" d=\"M 5.71875 -8.515625 L 1.3125 -8.515625 L 0.6875 -3.875 L 1.65625 -3.875 C 2.140625 -4.46875 2.5625 -4.671875 3.21875 -4.671875 C 4.359375 -4.671875 5.078125 -3.890625 5.078125 -2.625 C 5.078125 -1.40625 4.375 -0.65625 3.21875 -0.65625 C 2.296875 -0.65625 1.734375 -1.125 1.46875 -2.09375 L 0.421875 -2.09375 C 0.5625 -1.390625 0.6875 -1.0625 0.9375 -0.75 C 1.421875 -0.09375 2.28125 0.28125 3.234375 0.28125 C 4.953125 0.28125 6.15625 -0.96875 6.15625 -2.765625 C 6.15625 -4.453125 5.046875 -5.609375 3.40625 -5.609375 C 2.8125 -5.609375 2.328125 -5.453125 1.84375 -5.09375 L 2.171875 -7.46875 L 5.71875 -7.46875 Z \"/>\n",
       "</symbol>\n",
       "<symbol overflow=\"visible\" id=\"glyph1-7\">\n",
       "<path style=\"stroke:none;\" d=\"M 5.96875 -6.28125 C 5.765625 -7.6875 4.859375 -8.515625 3.5625 -8.515625 C 2.625 -8.515625 1.78125 -8.046875 1.28125 -7.296875 C 0.75 -6.46875 0.515625 -5.421875 0.515625 -3.875 C 0.515625 -2.453125 0.734375 -1.53125 1.234375 -0.78125 C 1.6875 -0.09375 2.4375 0.28125 3.375 0.28125 C 4.984375 0.28125 6.15625 -0.921875 6.15625 -2.59375 C 6.15625 -4.171875 5.078125 -5.296875 3.546875 -5.296875 C 2.71875 -5.296875 2.046875 -4.96875 1.59375 -4.34375 C 1.609375 -6.421875 2.28125 -7.578125 3.484375 -7.578125 C 4.234375 -7.578125 4.75 -7.109375 4.921875 -6.28125 Z M 3.421875 -4.359375 C 4.4375 -4.359375 5.078125 -3.640625 5.078125 -2.515625 C 5.078125 -1.4375 4.359375 -0.65625 3.390625 -0.65625 C 2.40625 -0.65625 1.65625 -1.46875 1.65625 -2.5625 C 1.65625 -3.625 2.375 -4.359375 3.421875 -4.359375 Z \"/>\n",
       "</symbol>\n",
       "<symbol overflow=\"visible\" id=\"glyph1-8\">\n",
       "<path style=\"stroke:none;\" d=\"M 2.65625 -3.90625 L 3.234375 -3.90625 C 4.390625 -3.90625 4.984375 -3.390625 4.984375 -2.359375 C 4.984375 -1.296875 4.328125 -0.65625 3.234375 -0.65625 C 2.078125 -0.65625 1.515625 -1.234375 1.4375 -2.46875 L 0.390625 -2.46875 C 0.4375 -1.78125 0.546875 -1.34375 0.75 -0.953125 C 1.1875 -0.140625 2.03125 0.28125 3.1875 0.28125 C 4.9375 0.28125 6.078125 -0.765625 6.078125 -2.375 C 6.078125 -3.453125 5.65625 -4.0625 4.625 -4.40625 C 5.421875 -4.71875 5.8125 -5.3125 5.8125 -6.171875 C 5.8125 -7.625 4.84375 -8.515625 3.234375 -8.515625 C 1.515625 -8.515625 0.59375 -7.578125 0.5625 -5.765625 L 1.625 -5.765625 C 1.625 -6.28125 1.6875 -6.5625 1.8125 -6.828125 C 2.046875 -7.296875 2.578125 -7.578125 3.234375 -7.578125 C 4.171875 -7.578125 4.734375 -7.03125 4.734375 -6.125 C 4.734375 -5.53125 4.53125 -5.171875 4.0625 -4.984375 C 3.765625 -4.859375 3.390625 -4.8125 2.65625 -4.796875 Z \"/>\n",
       "</symbol>\n",
       "<symbol overflow=\"visible\" id=\"glyph1-9\">\n",
       "<path style=\"stroke:none;\" d=\"M 6.234375 -8.515625 L 0.546875 -8.515625 L 0.546875 -7.46875 L 5.140625 -7.46875 C 3.125 -4.578125 2.296875 -2.796875 1.65625 0 L 2.78125 0 C 3.25 -2.71875 4.3125 -5.0625 6.234375 -7.625 Z \"/>\n",
       "</symbol>\n",
       "<symbol overflow=\"visible\" id=\"glyph1-10\">\n",
       "<path style=\"stroke:none;\" d=\"M 3.109375 -6.0625 L 3.109375 0 L 4.15625 0 L 4.15625 -8.515625 L 3.46875 -8.515625 C 3.09375 -7.203125 2.859375 -7.015625 1.21875 -6.8125 L 1.21875 -6.0625 Z \"/>\n",
       "</symbol>\n",
       "<symbol overflow=\"visible\" id=\"glyph1-11\">\n",
       "<path style=\"stroke:none;\" d=\"M 4.6875 -4.46875 C 5.5625 -5 5.859375 -5.4375 5.859375 -6.234375 C 5.859375 -7.578125 4.8125 -8.515625 3.296875 -8.515625 C 1.796875 -8.515625 0.75 -7.578125 0.75 -6.234375 C 0.75 -5.453125 1.03125 -5.015625 1.890625 -4.46875 C 0.921875 -4.015625 0.4375 -3.296875 0.4375 -2.359375 C 0.4375 -0.796875 1.625 0.28125 3.296875 0.28125 C 4.984375 0.28125 6.15625 -0.796875 6.15625 -2.359375 C 6.15625 -3.296875 5.671875 -4.015625 4.6875 -4.46875 Z M 3.296875 -7.578125 C 4.203125 -7.578125 4.78125 -7.046875 4.78125 -6.21875 C 4.78125 -5.421875 4.1875 -4.890625 3.296875 -4.890625 C 2.40625 -4.890625 1.828125 -5.421875 1.828125 -6.234375 C 1.828125 -7.046875 2.40625 -7.578125 3.296875 -7.578125 Z M 3.296875 -4.015625 C 4.359375 -4.015625 5.078125 -3.34375 5.078125 -2.34375 C 5.078125 -1.328125 4.359375 -0.65625 3.28125 -0.65625 C 2.25 -0.65625 1.53125 -1.34375 1.53125 -2.34375 C 1.53125 -3.34375 2.25 -4.015625 3.296875 -4.015625 Z \"/>\n",
       "</symbol>\n",
       "<symbol overflow=\"visible\" id=\"glyph2-0\">\n",
       "<path style=\"stroke:none;\" d=\"\"/>\n",
       "</symbol>\n",
       "<symbol overflow=\"visible\" id=\"glyph2-1\">\n",
       "<path style=\"stroke:none;\" d=\"M 4.8125 -5.03125 L 2.578125 -1.125 L 2.125 -5.03125 L 1.265625 -5.03125 L 1.921875 0.03125 L 1.421875 0.8125 C 1.15625 1.21875 1 1.3125 0.65625 1.3125 C 0.5625 1.3125 0.484375 1.3125 0.234375 1.28125 L 0.078125 2 C 0.25 2.078125 0.359375 2.09375 0.546875 2.09375 C 1.234375 2.09375 1.71875 1.765625 2.125 1.0625 L 5.65625 -5.03125 Z \"/>\n",
       "</symbol>\n",
       "<symbol overflow=\"visible\" id=\"glyph2-2\">\n",
       "<path style=\"stroke:none;\" d=\"M 5.40625 -2.25 L 5.4375 -2.40625 C 5.515625 -2.875 5.5625 -3.265625 5.5625 -3.53125 C 5.5625 -4.453125 4.765625 -5.171875 3.734375 -5.171875 C 2.890625 -5.171875 2.09375 -4.78125 1.609375 -4.140625 C 1.15625 -3.53125 0.8125 -2.4375 0.8125 -1.65625 C 0.8125 -1.140625 1.03125 -0.609375 1.40625 -0.265625 C 1.734375 0.0625 2.15625 0.21875 2.703125 0.21875 C 3.859375 0.21875 4.84375 -0.484375 5.140625 -1.53125 L 4.34375 -1.53125 C 3.984375 -0.859375 3.484375 -0.515625 2.84375 -0.515625 C 2.078125 -0.515625 1.65625 -0.984375 1.65625 -1.796875 C 1.65625 -2 1.65625 -2.09375 1.703125 -2.25 Z M 1.875 -2.9375 C 2.125 -3.8125 2.828125 -4.4375 3.609375 -4.4375 C 4.28125 -4.4375 4.71875 -3.96875 4.71875 -3.25 C 4.71875 -3.15625 4.703125 -3.09375 4.6875 -2.9375 Z \"/>\n",
       "</symbol>\n",
       "<symbol overflow=\"visible\" id=\"glyph2-3\">\n",
       "<path style=\"stroke:none;\" d=\"M 4.9375 -3.625 C 4.984375 -3.828125 4.984375 -3.921875 4.984375 -4.03125 C 4.984375 -4.703125 4.34375 -5.171875 3.421875 -5.171875 C 2.734375 -5.171875 2.15625 -4.96875 1.75 -4.59375 C 1.40625 -4.265625 1.1875 -3.765625 1.1875 -3.3125 C 1.1875 -2.71875 1.515625 -2.453125 2.5 -2.1875 L 3.21875 -2 C 3.53125 -1.921875 3.671875 -1.859375 3.765625 -1.75 C 3.828125 -1.671875 3.890625 -1.53125 3.890625 -1.4375 C 3.890625 -1.265625 3.734375 -0.96875 3.578125 -0.84375 C 3.34375 -0.640625 2.921875 -0.515625 2.515625 -0.515625 C 1.859375 -0.515625 1.484375 -0.78125 1.484375 -1.25 C 1.484375 -1.3125 1.484375 -1.40625 1.5 -1.5 L 0.640625 -1.5 C 0.59375 -1.28125 0.578125 -1.15625 0.578125 -1 C 0.578125 -0.234375 1.25 0.21875 2.375 0.21875 C 3.796875 0.21875 4.734375 -0.515625 4.734375 -1.65625 C 4.734375 -2.25 4.40625 -2.546875 3.5625 -2.765625 L 2.84375 -2.9375 C 2.296875 -3.078125 2.03125 -3.265625 2.03125 -3.515625 C 2.03125 -3.71875 2.140625 -3.953125 2.3125 -4.109375 C 2.546875 -4.34375 2.828125 -4.4375 3.25 -4.4375 C 3.8125 -4.4375 4.140625 -4.21875 4.140625 -3.84375 C 4.140625 -3.765625 4.140625 -3.703125 4.125 -3.625 Z \"/>\n",
       "</symbol>\n",
       "<symbol overflow=\"visible\" id=\"glyph2-4\">\n",
       "<path style=\"stroke:none;\" d=\"M 1.734375 -5.03125 L 0.671875 0 L 1.484375 0 L 2.0625 -2.765625 C 2.296875 -3.828125 2.96875 -4.484375 3.828125 -4.484375 C 4.3125 -4.484375 4.65625 -4.140625 4.65625 -3.703125 C 4.65625 -3.640625 4.640625 -3.5 4.609375 -3.34375 L 3.890625 0 L 4.703125 0 L 5.46875 -3.609375 C 5.5 -3.734375 5.5 -3.84375 5.5 -3.96875 C 5.5 -4.703125 5 -5.171875 4.203125 -5.171875 C 3.46875 -5.171875 2.84375 -4.90625 2.34375 -4.40625 L 2.46875 -5.03125 Z \"/>\n",
       "</symbol>\n",
       "<symbol overflow=\"visible\" id=\"glyph2-5\">\n",
       "<path style=\"stroke:none;\" d=\"M 3.6875 -5.171875 C 2.796875 -5.171875 2 -4.765625 1.515625 -4.0625 C 1.078125 -3.4375 0.765625 -2.390625 0.765625 -1.578125 C 0.765625 -0.515625 1.5 0.21875 2.578125 0.21875 C 3.5 0.21875 4.234375 -0.15625 4.765625 -0.890625 C 5.203125 -1.5 5.53125 -2.546875 5.53125 -3.375 C 5.53125 -3.890625 5.328125 -4.375 5 -4.703125 C 4.671875 -5.015625 4.234375 -5.171875 3.6875 -5.171875 Z M 3.5625 -4.4375 C 4.265625 -4.4375 4.6875 -3.96875 4.6875 -3.1875 C 4.6875 -2.625 4.515625 -2 4.265625 -1.53125 C 3.890625 -0.859375 3.375 -0.515625 2.71875 -0.515625 C 2.03125 -0.515625 1.609375 -1 1.609375 -1.765625 C 1.609375 -2.3125 1.78125 -2.9375 2.03125 -3.421875 C 2.390625 -4.078125 2.921875 -4.4375 3.5625 -4.4375 Z \"/>\n",
       "</symbol>\n",
       "</g>\n",
       "</defs>\n",
       "<g id=\"surface133\">\n",
       "<rect x=\"0\" y=\"0\" width=\"504\" height=\"504\" style=\"fill:rgb(100%,100%,100%);fill-opacity:1;stroke:none;\"/>\n",
       "<path style=\"fill:none;stroke-width:0.75;stroke-linecap:butt;stroke-linejoin:round;stroke:rgb(0%,0%,0%);stroke-opacity:1;stroke-miterlimit:10;\" d=\"M 123.585938 252.042969 L 226.316406 193.269531 L 252 193.269531 \"/>\n",
       "<path style=\"fill:none;stroke-width:0.75;stroke-linecap:butt;stroke-linejoin:round;stroke:rgb(0%,0%,0%);stroke-opacity:1;stroke-miterlimit:10;\" d=\"M 59.375 300.753906 L 110.742188 253.472656 L 123.585938 253.472656 \"/>\n",
       "<path style=\"fill:none;stroke-width:0.75;stroke-linecap:butt;stroke-linejoin:round;stroke:rgb(0%,0%,0%);stroke-opacity:1;stroke-miterlimit:10;\" d=\"M 187.792969 300.753906 L 136.425781 253.472656 L 123.585938 253.472656 \"/>\n",
       "<path style=\"fill:none;stroke-width:0.75;stroke-linecap:butt;stroke-linejoin:round;stroke:rgb(0%,0%,0%);stroke-opacity:1;stroke-miterlimit:10;\" d=\"M 380.414062 252.042969 L 277.683594 193.269531 L 252 193.269531 \"/>\n",
       "<path style=\"fill:none;stroke-width:0.75;stroke-linecap:butt;stroke-linejoin:round;stroke:rgb(0%,0%,0%);stroke-opacity:1;stroke-miterlimit:10;\" d=\"M 316.207031 300.753906 L 367.574219 253.472656 L 380.414062 253.472656 \"/>\n",
       "<path style=\"fill:none;stroke-width:0.75;stroke-linecap:butt;stroke-linejoin:round;stroke:rgb(0%,0%,0%);stroke-opacity:1;stroke-miterlimit:10;\" d=\"M 444.625 300.753906 L 393.257812 253.472656 L 380.414062 253.472656 \"/>\n",
       "<path style=\" stroke:none;fill-rule:nonzero;fill:rgb(100%,100%,100%);fill-opacity:1;\" d=\"M 208.105469 197.578125 L 208.105469 180.34375 L 295.894531 180.34375 L 295.894531 197.578125 Z \"/>\n",
       "<path style=\" stroke:none;fill-rule:nonzero;fill:rgb(100%,100%,100%);fill-opacity:1;\" d=\"M 89.984375 257.78125 L 89.984375 240.550781 L 157.183594 240.550781 L 157.183594 257.78125 Z \"/>\n",
       "<path style=\" stroke:none;fill-rule:nonzero;fill:rgb(100%,100%,100%);fill-opacity:1;\" d=\"M 346.816406 257.78125 L 346.816406 240.550781 L 414.015625 240.550781 L 414.015625 257.78125 Z \"/>\n",
       "<g style=\"fill:rgb(0%,0%,0%);fill-opacity:1;\">\n",
       "  <use xlink:href=\"#glyph0-1\" x=\"212.5\" y=\"192.708984\"/>\n",
       "  <use xlink:href=\"#glyph0-2\" x=\"219.171875\" y=\"192.708984\"/>\n",
       "  <use xlink:href=\"#glyph0-3\" x=\"226.503906\" y=\"192.708984\"/>\n",
       "  <use xlink:href=\"#glyph0-4\" x=\"233.835938\" y=\"192.708984\"/>\n",
       "  <use xlink:href=\"#glyph0-5\" x=\"237.832031\" y=\"192.708984\"/>\n",
       "  <use xlink:href=\"#glyph0-2\" x=\"242.5\" y=\"192.708984\"/>\n",
       "  <use xlink:href=\"#glyph0-6\" x=\"249.832031\" y=\"192.708984\"/>\n",
       "  <use xlink:href=\"#glyph0-7\" x=\"253.167969\" y=\"192.708984\"/>\n",
       "  <use xlink:href=\"#glyph0-8\" x=\"256.503906\" y=\"192.708984\"/>\n",
       "  <use xlink:href=\"#glyph0-9\" x=\"263.511719\" y=\"192.708984\"/>\n",
       "  <use xlink:href=\"#glyph0-7\" x=\"270.519531\" y=\"192.708984\"/>\n",
       "  <use xlink:href=\"#glyph0-10\" x=\"273.855469\" y=\"192.708984\"/>\n",
       "  <use xlink:href=\"#glyph0-11\" x=\"280.527344\" y=\"192.708984\"/>\n",
       "  <use xlink:href=\"#glyph0-12\" x=\"283.863281\" y=\"192.708984\"/>\n",
       "</g>\n",
       "<g style=\"fill:rgb(0%,0%,0%);fill-opacity:1;\">\n",
       "  <use xlink:href=\"#glyph0-13\" x=\"94.585938\" y=\"252.912109\"/>\n",
       "  <use xlink:href=\"#glyph0-14\" x=\"101.257812\" y=\"252.912109\"/>\n",
       "  <use xlink:href=\"#glyph0-15\" x=\"107.929688\" y=\"252.912109\"/>\n",
       "  <use xlink:href=\"#glyph0-7\" x=\"114.601562\" y=\"252.912109\"/>\n",
       "  <use xlink:href=\"#glyph0-8\" x=\"117.9375\" y=\"252.912109\"/>\n",
       "  <use xlink:href=\"#glyph0-9\" x=\"124.945312\" y=\"252.912109\"/>\n",
       "  <use xlink:href=\"#glyph0-7\" x=\"131.953125\" y=\"252.912109\"/>\n",
       "  <use xlink:href=\"#glyph0-10\" x=\"135.289062\" y=\"252.912109\"/>\n",
       "  <use xlink:href=\"#glyph0-11\" x=\"141.960938\" y=\"252.912109\"/>\n",
       "  <use xlink:href=\"#glyph0-12\" x=\"145.296875\" y=\"252.912109\"/>\n",
       "</g>\n",
       "<g style=\"fill:rgb(0%,0%,0%);fill-opacity:1;\">\n",
       "  <use xlink:href=\"#glyph0-13\" x=\"351.414062\" y=\"252.912109\"/>\n",
       "  <use xlink:href=\"#glyph0-14\" x=\"358.085938\" y=\"252.912109\"/>\n",
       "  <use xlink:href=\"#glyph0-15\" x=\"364.757812\" y=\"252.912109\"/>\n",
       "  <use xlink:href=\"#glyph0-7\" x=\"371.429688\" y=\"252.912109\"/>\n",
       "  <use xlink:href=\"#glyph0-8\" x=\"374.765625\" y=\"252.912109\"/>\n",
       "  <use xlink:href=\"#glyph0-9\" x=\"381.773438\" y=\"252.912109\"/>\n",
       "  <use xlink:href=\"#glyph0-7\" x=\"388.78125\" y=\"252.912109\"/>\n",
       "  <use xlink:href=\"#glyph0-10\" x=\"392.117188\" y=\"252.912109\"/>\n",
       "  <use xlink:href=\"#glyph0-11\" x=\"398.789062\" y=\"252.912109\"/>\n",
       "  <use xlink:href=\"#glyph0-12\" x=\"402.125\" y=\"252.912109\"/>\n",
       "</g>\n",
       "<path style=\"fill-rule:nonzero;fill:rgb(100%,100%,100%);fill-opacity:1;stroke-width:0.75;stroke-linecap:round;stroke-linejoin:round;stroke:rgb(0%,0%,0%);stroke-opacity:1;stroke-miterlimit:10;\" d=\"M 29.359375 309.332031 L 29.652344 307.109375 L 30.511719 305.042969 L 31.882812 303.265625 L 33.667969 301.902344 L 35.746094 301.046875 L 37.972656 300.753906 L 80.777344 300.753906 L 83.007812 301.046875 L 85.085938 301.902344 L 86.871094 303.265625 L 88.242188 305.042969 L 89.101562 307.109375 L 89.394531 309.332031 L 89.394531 309.410156 L 89.101562 311.628906 L 88.242188 313.699219 L 86.871094 315.472656 L 85.085938 316.835938 L 83.007812 317.695312 L 80.777344 317.984375 L 37.972656 317.984375 L 35.746094 317.695312 L 33.667969 316.835938 L 31.882812 315.472656 L 30.511719 313.699219 L 29.652344 311.628906 L 29.359375 309.410156 Z \"/>\n",
       "<path style=\"fill-rule:nonzero;fill:rgb(100%,100%,100%);fill-opacity:1;stroke-width:0.75;stroke-linecap:round;stroke-linejoin:round;stroke:rgb(0%,0%,0%);stroke-opacity:1;stroke-miterlimit:10;\" d=\"M 157.773438 309.332031 L 158.066406 307.109375 L 158.929688 305.042969 L 160.296875 303.265625 L 162.082031 301.902344 L 164.160156 301.046875 L 166.390625 300.753906 L 209.195312 300.753906 L 211.425781 301.046875 L 213.503906 301.902344 L 215.285156 303.265625 L 216.65625 305.042969 L 217.515625 307.109375 L 217.808594 309.332031 L 217.808594 309.410156 L 217.515625 311.628906 L 216.65625 313.699219 L 215.285156 315.472656 L 213.503906 316.835938 L 211.425781 317.695312 L 209.195312 317.984375 L 166.390625 317.984375 L 164.160156 317.695312 L 162.082031 316.835938 L 160.296875 315.472656 L 158.929688 313.699219 L 158.066406 311.628906 L 157.773438 309.410156 Z \"/>\n",
       "<path style=\"fill-rule:nonzero;fill:rgb(100%,100%,100%);fill-opacity:1;stroke-width:0.75;stroke-linecap:round;stroke-linejoin:round;stroke:rgb(0%,0%,0%);stroke-opacity:1;stroke-miterlimit:10;\" d=\"M 286.191406 309.332031 L 286.484375 307.109375 L 287.34375 305.042969 L 288.714844 303.265625 L 290.496094 301.902344 L 292.574219 301.046875 L 294.804688 300.753906 L 337.609375 300.753906 L 339.839844 301.046875 L 341.917969 301.902344 L 343.703125 303.265625 L 345.070312 305.042969 L 345.933594 307.109375 L 346.226562 309.332031 L 346.226562 309.410156 L 345.933594 311.628906 L 345.070312 313.699219 L 343.703125 315.472656 L 341.917969 316.835938 L 339.839844 317.695312 L 337.609375 317.984375 L 294.804688 317.984375 L 292.574219 317.695312 L 290.496094 316.835938 L 288.714844 315.472656 L 287.34375 313.699219 L 286.484375 311.628906 L 286.191406 309.410156 Z \"/>\n",
       "<path style=\"fill-rule:nonzero;fill:rgb(100%,100%,100%);fill-opacity:1;stroke-width:0.75;stroke-linecap:round;stroke-linejoin:round;stroke:rgb(0%,0%,0%);stroke-opacity:1;stroke-miterlimit:10;\" d=\"M 414.605469 309.332031 L 414.898438 307.109375 L 415.757812 305.042969 L 417.128906 303.265625 L 418.914062 301.902344 L 420.992188 301.046875 L 423.222656 300.753906 L 466.027344 300.753906 L 468.253906 301.046875 L 470.332031 301.902344 L 472.117188 303.265625 L 473.488281 305.042969 L 474.347656 307.109375 L 474.640625 309.332031 L 474.640625 309.410156 L 474.347656 311.628906 L 473.488281 313.699219 L 472.117188 315.472656 L 470.332031 316.835938 L 468.253906 317.695312 L 466.027344 317.984375 L 423.222656 317.984375 L 420.992188 317.695312 L 418.914062 316.835938 L 417.128906 315.472656 L 415.757812 313.699219 L 414.898438 311.628906 L 414.605469 309.410156 Z \"/>\n",
       "<g style=\"fill:rgb(0%,0%,0%);fill-opacity:1;\">\n",
       "  <use xlink:href=\"#glyph1-1\" x=\"33.875\" y=\"312.806641\"/>\n",
       "  <use xlink:href=\"#glyph1-2\" x=\"40.546875\" y=\"312.806641\"/>\n",
       "  <use xlink:href=\"#glyph1-3\" x=\"43.882812\" y=\"312.806641\"/>\n",
       "  <use xlink:href=\"#glyph1-4\" x=\"50.554688\" y=\"312.806641\"/>\n",
       "  <use xlink:href=\"#glyph1-1\" x=\"57.226562\" y=\"312.806641\"/>\n",
       "  <use xlink:href=\"#glyph1-5\" x=\"63.898438\" y=\"312.806641\"/>\n",
       "  <use xlink:href=\"#glyph1-6\" x=\"70.570312\" y=\"312.806641\"/>\n",
       "  <use xlink:href=\"#glyph1-7\" x=\"77.242188\" y=\"312.806641\"/>\n",
       "</g>\n",
       "<g style=\"fill:rgb(0%,0%,0%);fill-opacity:1;\">\n",
       "  <use xlink:href=\"#glyph1-1\" x=\"162.292969\" y=\"312.806641\"/>\n",
       "  <use xlink:href=\"#glyph1-2\" x=\"168.964844\" y=\"312.806641\"/>\n",
       "  <use xlink:href=\"#glyph1-8\" x=\"172.300781\" y=\"312.806641\"/>\n",
       "  <use xlink:href=\"#glyph1-1\" x=\"178.972656\" y=\"312.806641\"/>\n",
       "  <use xlink:href=\"#glyph1-3\" x=\"185.644531\" y=\"312.806641\"/>\n",
       "  <use xlink:href=\"#glyph1-9\" x=\"192.316406\" y=\"312.806641\"/>\n",
       "  <use xlink:href=\"#glyph1-4\" x=\"198.988281\" y=\"312.806641\"/>\n",
       "  <use xlink:href=\"#glyph1-6\" x=\"205.660156\" y=\"312.806641\"/>\n",
       "</g>\n",
       "<g style=\"fill:rgb(0%,0%,0%);fill-opacity:1;\">\n",
       "  <use xlink:href=\"#glyph1-1\" x=\"290.707031\" y=\"312.806641\"/>\n",
       "  <use xlink:href=\"#glyph1-2\" x=\"297.378906\" y=\"312.806641\"/>\n",
       "  <use xlink:href=\"#glyph1-8\" x=\"300.714844\" y=\"312.806641\"/>\n",
       "  <use xlink:href=\"#glyph1-8\" x=\"307.386719\" y=\"312.806641\"/>\n",
       "  <use xlink:href=\"#glyph1-5\" x=\"314.058594\" y=\"312.806641\"/>\n",
       "  <use xlink:href=\"#glyph1-10\" x=\"320.730469\" y=\"312.806641\"/>\n",
       "  <use xlink:href=\"#glyph1-9\" x=\"327.402344\" y=\"312.806641\"/>\n",
       "  <use xlink:href=\"#glyph1-7\" x=\"334.074219\" y=\"312.806641\"/>\n",
       "</g>\n",
       "<g style=\"fill:rgb(0%,0%,0%);fill-opacity:1;\">\n",
       "  <use xlink:href=\"#glyph1-1\" x=\"419.125\" y=\"312.806641\"/>\n",
       "  <use xlink:href=\"#glyph1-2\" x=\"425.796875\" y=\"312.806641\"/>\n",
       "  <use xlink:href=\"#glyph1-8\" x=\"429.132812\" y=\"312.806641\"/>\n",
       "  <use xlink:href=\"#glyph1-5\" x=\"435.804688\" y=\"312.806641\"/>\n",
       "  <use xlink:href=\"#glyph1-6\" x=\"442.476562\" y=\"312.806641\"/>\n",
       "  <use xlink:href=\"#glyph1-11\" x=\"449.148438\" y=\"312.806641\"/>\n",
       "  <use xlink:href=\"#glyph1-10\" x=\"455.820312\" y=\"312.806641\"/>\n",
       "  <use xlink:href=\"#glyph1-11\" x=\"462.492188\" y=\"312.806641\"/>\n",
       "</g>\n",
       "<path style=\"fill-rule:nonzero;fill:rgb(100%,100%,100%);fill-opacity:1;stroke-width:0.75;stroke-linecap:round;stroke-linejoin:round;stroke:rgb(0%,0%,0%);stroke-opacity:1;stroke-miterlimit:10;\" d=\"M 180.457031 188.421875 L 180.511719 188.003906 L 180.671875 187.613281 L 180.929688 187.28125 L 181.265625 187.023438 L 181.652344 186.863281 L 182.070312 186.808594 L 201.878906 186.808594 L 202.296875 186.863281 L 202.6875 187.023438 L 203.023438 187.28125 L 203.28125 187.613281 L 203.441406 188.003906 L 203.496094 188.421875 L 203.496094 198.117188 L 203.441406 198.535156 L 203.28125 198.921875 L 203.023438 199.257812 L 202.6875 199.515625 L 202.296875 199.675781 L 201.878906 199.730469 L 182.070312 199.730469 L 181.652344 199.675781 L 181.265625 199.515625 L 180.929688 199.257812 L 180.671875 198.921875 L 180.511719 198.535156 L 180.457031 198.117188 Z \"/>\n",
       "<path style=\"fill-rule:nonzero;fill:rgb(100%,100%,100%);fill-opacity:1;stroke-width:0.75;stroke-linecap:round;stroke-linejoin:round;stroke:rgb(0%,0%,0%);stroke-opacity:1;stroke-miterlimit:10;\" d=\"M 300.503906 188.421875 L 300.558594 188.003906 L 300.71875 187.613281 L 300.976562 187.28125 L 301.3125 187.023438 L 301.703125 186.863281 L 302.121094 186.808594 L 321.929688 186.808594 L 322.347656 186.863281 L 322.734375 187.023438 L 323.070312 187.28125 L 323.328125 187.613281 L 323.488281 188.003906 L 323.542969 188.421875 L 323.542969 198.117188 L 323.488281 198.535156 L 323.328125 198.921875 L 323.070312 199.257812 L 322.734375 199.515625 L 322.347656 199.675781 L 321.929688 199.730469 L 302.121094 199.730469 L 301.703125 199.675781 L 301.3125 199.515625 L 300.976562 199.257812 L 300.71875 198.921875 L 300.558594 198.535156 L 300.503906 198.117188 Z \"/>\n",
       "<g style=\"fill:rgb(0%,0%,0%);fill-opacity:1;\">\n",
       "  <use xlink:href=\"#glyph2-1\" x=\"184.476562\" y=\"195.245117\"/>\n",
       "  <use xlink:href=\"#glyph2-2\" x=\"189.273438\" y=\"195.245117\"/>\n",
       "  <use xlink:href=\"#glyph2-3\" x=\"194.607422\" y=\"195.245117\"/>\n",
       "</g>\n",
       "<g style=\"fill:rgb(0%,0%,0%);fill-opacity:1;\">\n",
       "  <use xlink:href=\"#glyph2-4\" x=\"306.523438\" y=\"195.166992\"/>\n",
       "  <use xlink:href=\"#glyph2-5\" x=\"311.857422\" y=\"195.166992\"/>\n",
       "</g>\n",
       "</g>\n",
       "</svg>\n"
      ],
      "text/plain": [
       "plot without title"
      ]
     },
     "metadata": {
      "image/svg+xml": {
       "isolated": true
      }
     },
     "output_type": "display_data"
    }
   ],
   "source": [
    "prp(CARTgender, digits = 6)"
   ]
  },
  {
   "cell_type": "code",
   "execution_count": 70,
   "metadata": {
    "collapsed": false
   },
   "outputs": [
    {
     "data": {
      "text/html": [
       "0.00581799999999999"
      ],
      "text/latex": [
       "0.00581799999999999"
      ],
      "text/markdown": [
       "0.00581799999999999"
      ],
      "text/plain": [
       "[1] 0.005818"
      ]
     },
     "execution_count": 70,
     "metadata": {},
     "output_type": "execute_result"
    }
   ],
   "source": [
    "abs(0.34-0.345818)"
   ]
  },
  {
   "cell_type": "code",
   "execution_count": 71,
   "metadata": {
    "collapsed": false
   },
   "outputs": [
    {
     "data": {
      "text/html": [
       "0.00582400000000005"
      ],
      "text/latex": [
       "0.00582400000000005"
      ],
      "text/markdown": [
       "0.00582400000000005"
      ],
      "text/plain": [
       "[1] 0.005824"
      ]
     },
     "execution_count": 71,
     "metadata": {},
     "output_type": "execute_result"
    }
   ],
   "source": [
    "abs(0.34-0.334176)"
   ]
  },
  {
   "cell_type": "code",
   "execution_count": 72,
   "metadata": {
    "collapsed": true
   },
   "outputs": [],
   "source": [
    "gerberLog2 = glm(voting~control+sex, data = gerber, family = binomial)"
   ]
  },
  {
   "cell_type": "code",
   "execution_count": 73,
   "metadata": {
    "collapsed": false
   },
   "outputs": [
    {
     "data": {
      "text/plain": [
       "\n",
       "Call:\n",
       "glm(formula = voting ~ control + sex, family = binomial, data = gerber)\n",
       "\n",
       "Deviance Residuals: \n",
       "    Min       1Q   Median       3Q      Max  \n",
       "-0.9220  -0.9012  -0.8290   1.4564   1.5717  \n",
       "\n",
       "Coefficients:\n",
       "             Estimate Std. Error z value Pr(>|z|)    \n",
       "(Intercept) -0.635538   0.006511 -97.616  < 2e-16 ***\n",
       "control     -0.200142   0.007364 -27.179  < 2e-16 ***\n",
       "sex         -0.055791   0.007343  -7.597 3.02e-14 ***\n",
       "---\n",
       "Signif. codes:  0 ‘***’ 0.001 ‘**’ 0.01 ‘*’ 0.05 ‘.’ 0.1 ‘ ’ 1\n",
       "\n",
       "(Dispersion parameter for binomial family taken to be 1)\n",
       "\n",
       "    Null deviance: 429238  on 344083  degrees of freedom\n",
       "Residual deviance: 428443  on 344081  degrees of freedom\n",
       "AIC: 428449\n",
       "\n",
       "Number of Fisher Scoring iterations: 4\n"
      ]
     },
     "execution_count": 73,
     "metadata": {},
     "output_type": "execute_result"
    }
   ],
   "source": [
    "summary(gerberLog2)"
   ]
  },
  {
   "cell_type": "code",
   "execution_count": 75,
   "metadata": {
    "collapsed": false
   },
   "outputs": [
    {
     "data": {
      "text/html": [
       "<dl class=dl-horizontal>\n",
       "\t<dt>1</dt>\n",
       "\t\t<dd>0.346255945755913</dd>\n",
       "\t<dt>2</dt>\n",
       "\t\t<dd>0.302445515818848</dd>\n",
       "\t<dt>3</dt>\n",
       "\t\t<dd>0.333737549856149</dd>\n",
       "\t<dt>4</dt>\n",
       "\t\t<dd>0.290806452512016</dd>\n",
       "</dl>\n"
      ],
      "text/latex": [
       "\\begin{description*}\n",
       "\\item[1] 0.346255945755913\n",
       "\\item[2] 0.302445515818848\n",
       "\\item[3] 0.333737549856149\n",
       "\\item[4] 0.290806452512016\n",
       "\\end{description*}\n"
      ],
      "text/markdown": [
       "1\n",
       ":   0.3462559457559132\n",
       ":   0.3024455158188483\n",
       ":   0.3337375498561494\n",
       ":   0.290806452512016\n",
       "\n"
      ],
      "text/plain": [
       "        1         2         3         4 \n",
       "0.3462559 0.3024455 0.3337375 0.2908065 "
      ]
     },
     "execution_count": 75,
     "metadata": {},
     "output_type": "execute_result"
    }
   ],
   "source": [
    "Possibilities = data.frame(sex=c(0,0,1,1),control=c(0,1,0,1))\n",
    "predict(gerberLog2, newdata=Possibilities, type=\"response\")"
   ]
  },
  {
   "cell_type": "code",
   "execution_count": 76,
   "metadata": {
    "collapsed": false
   },
   "outputs": [
    {
     "data": {
      "text/html": [
       "<table>\n",
       "<thead><tr><th></th><th scope=col>sex</th><th scope=col>control</th></tr></thead>\n",
       "<tbody>\n",
       "\t<tr><th scope=row>1</th><td>0</td><td>0</td></tr>\n",
       "\t<tr><th scope=row>2</th><td>0</td><td>1</td></tr>\n",
       "\t<tr><th scope=row>3</th><td>1</td><td>0</td></tr>\n",
       "\t<tr><th scope=row>4</th><td>1</td><td>1</td></tr>\n",
       "</tbody>\n",
       "</table>\n"
      ],
      "text/latex": [
       "\\begin{tabular}{r|ll}\n",
       "  & sex & control\\\\\n",
       "\\hline\n",
       "\t1 & 0 & 0\\\\\n",
       "\t2 & 0 & 1\\\\\n",
       "\t3 & 1 & 0\\\\\n",
       "\t4 & 1 & 1\\\\\n",
       "\\end{tabular}\n"
      ],
      "text/plain": [
       "  sex control\n",
       "1   0       0\n",
       "2   0       1\n",
       "3   1       0\n",
       "4   1       1"
      ]
     },
     "execution_count": 76,
     "metadata": {},
     "output_type": "execute_result"
    }
   ],
   "source": [
    "Possibilities"
   ]
  },
  {
   "cell_type": "code",
   "execution_count": 77,
   "metadata": {
    "collapsed": false
   },
   "outputs": [
    {
     "data": {
      "text/html": [
       "0.000350452512015986"
      ],
      "text/latex": [
       "0.000350452512015986"
      ],
      "text/markdown": [
       "0.000350452512015986"
      ],
      "text/plain": [
       "[1] 0.0003504525"
      ]
     },
     "execution_count": 77,
     "metadata": {},
     "output_type": "execute_result"
    }
   ],
   "source": [
    "abs(0.290806452512016-0.290456)"
   ]
  },
  {
   "cell_type": "code",
   "execution_count": 78,
   "metadata": {
    "collapsed": true
   },
   "outputs": [],
   "source": [
    "LogModel2 = glm(voting ~ sex + control + sex:control, data=gerber, family=\"binomial\")"
   ]
  },
  {
   "cell_type": "code",
   "execution_count": 79,
   "metadata": {
    "collapsed": false
   },
   "outputs": [
    {
     "data": {
      "text/plain": [
       "\n",
       "Call:\n",
       "glm(formula = voting ~ sex + control + sex:control, family = \"binomial\", \n",
       "    data = gerber)\n",
       "\n",
       "Deviance Residuals: \n",
       "    Min       1Q   Median       3Q      Max  \n",
       "-0.9213  -0.9019  -0.8284   1.4573   1.5724  \n",
       "\n",
       "Coefficients:\n",
       "             Estimate Std. Error z value Pr(>|z|)    \n",
       "(Intercept) -0.637471   0.007603 -83.843  < 2e-16 ***\n",
       "sex         -0.051888   0.010801  -4.804 1.55e-06 ***\n",
       "control     -0.196553   0.010356 -18.980  < 2e-16 ***\n",
       "sex:control -0.007259   0.014729  -0.493    0.622    \n",
       "---\n",
       "Signif. codes:  0 ‘***’ 0.001 ‘**’ 0.01 ‘*’ 0.05 ‘.’ 0.1 ‘ ’ 1\n",
       "\n",
       "(Dispersion parameter for binomial family taken to be 1)\n",
       "\n",
       "    Null deviance: 429238  on 344083  degrees of freedom\n",
       "Residual deviance: 428442  on 344080  degrees of freedom\n",
       "AIC: 428450\n",
       "\n",
       "Number of Fisher Scoring iterations: 4\n"
      ]
     },
     "execution_count": 79,
     "metadata": {},
     "output_type": "execute_result"
    }
   ],
   "source": [
    "summary(LogModel2)"
   ]
  },
  {
   "cell_type": "code",
   "execution_count": 80,
   "metadata": {
    "collapsed": false
   },
   "outputs": [
    {
     "data": {
      "text/html": [
       "<dl class=dl-horizontal>\n",
       "\t<dt>1</dt>\n",
       "\t\t<dd>0.345818348263925</dd>\n",
       "\t<dt>2</dt>\n",
       "\t\t<dd>0.302794706962995</dd>\n",
       "\t<dt>3</dt>\n",
       "\t\t<dd>0.334175657274637</dd>\n",
       "\t<dt>4</dt>\n",
       "\t\t<dd>0.290455779247779</dd>\n",
       "</dl>\n"
      ],
      "text/latex": [
       "\\begin{description*}\n",
       "\\item[1] 0.345818348263925\n",
       "\\item[2] 0.302794706962995\n",
       "\\item[3] 0.334175657274637\n",
       "\\item[4] 0.290455779247779\n",
       "\\end{description*}\n"
      ],
      "text/markdown": [
       "1\n",
       ":   0.3458183482639252\n",
       ":   0.3027947069629953\n",
       ":   0.3341756572746374\n",
       ":   0.290455779247779\n",
       "\n"
      ],
      "text/plain": [
       "        1         2         3         4 \n",
       "0.3458183 0.3027947 0.3341757 0.2904558 "
      ]
     },
     "execution_count": 80,
     "metadata": {},
     "output_type": "execute_result"
    }
   ],
   "source": [
    "predict(LogModel2, newdata=Possibilities, type=\"response\")"
   ]
  },
  {
   "cell_type": "code",
   "execution_count": 81,
   "metadata": {
    "collapsed": false
   },
   "outputs": [
    {
     "data": {
      "text/html": [
       "2.20752221002929e-07"
      ],
      "text/latex": [
       "2.20752221002929e-07"
      ],
      "text/markdown": [
       "2.20752221002929e-07"
      ],
      "text/plain": [
       "[1] 2.207522e-07"
      ]
     },
     "execution_count": 81,
     "metadata": {},
     "output_type": "execute_result"
    }
   ],
   "source": [
    "abs(0.290455779247779-0.290456)"
   ]
  },
  {
   "cell_type": "code",
   "execution_count": null,
   "metadata": {
    "collapsed": true
   },
   "outputs": [],
   "source": []
  }
 ],
 "metadata": {
  "kernelspec": {
   "display_name": "R",
   "language": "R",
   "name": "ir"
  },
  "language_info": {
   "codemirror_mode": "r",
   "file_extension": ".r",
   "mimetype": "text/x-r-source",
   "name": "R",
   "pygments_lexer": "r",
   "version": "3.2.2"
  }
 },
 "nbformat": 4,
 "nbformat_minor": 0
}
