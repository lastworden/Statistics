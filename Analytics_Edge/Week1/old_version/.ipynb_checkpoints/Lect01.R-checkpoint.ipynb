{
 "cells": [
  {
   "cell_type": "code",
   "execution_count": 1,
   "metadata": {
    "collapsed": false
   },
   "outputs": [
    {
     "data": {
      "text/html": [
       "5"
      ],
      "text/latex": [
       "5"
      ],
      "text/markdown": [
       "5"
      ],
      "text/plain": [
       "[1] 5"
      ]
     },
     "execution_count": 1,
     "metadata": {},
     "output_type": "execute_result"
    }
   ],
   "source": [
    "2+3"
   ]
  },
  {
   "cell_type": "code",
   "execution_count": 2,
   "metadata": {
    "collapsed": false
   },
   "outputs": [
    {
     "data": {
      "text/html": [
       "<ol class=list-inline>\n",
       "\t<li>1</li>\n",
       "\t<li>2</li>\n",
       "\t<li>3</li>\n",
       "\t<li>4</li>\n",
       "\t<li>5</li>\n",
       "\t<li>6</li>\n",
       "\t<li>7</li>\n",
       "\t<li>8</li>\n",
       "\t<li>9</li>\n",
       "\t<li>10</li>\n",
       "</ol>\n"
      ],
      "text/latex": [
       "\\begin{enumerate*}\n",
       "\\item 1\n",
       "\\item 2\n",
       "\\item 3\n",
       "\\item 4\n",
       "\\item 5\n",
       "\\item 6\n",
       "\\item 7\n",
       "\\item 8\n",
       "\\item 9\n",
       "\\item 10\n",
       "\\end{enumerate*}\n"
      ],
      "text/markdown": [
       "1. 1\n",
       "2. 2\n",
       "3. 3\n",
       "4. 4\n",
       "5. 5\n",
       "6. 6\n",
       "7. 7\n",
       "8. 8\n",
       "9. 9\n",
       "10. 10\n",
       "\n",
       "\n"
      ],
      "text/plain": [
       " [1]  1  2  3  4  5  6  7  8  9 10"
      ]
     },
     "execution_count": 2,
     "metadata": {},
     "output_type": "execute_result"
    }
   ],
   "source": [
    "1:10"
   ]
  },
  {
   "cell_type": "markdown",
   "metadata": {},
   "source": [
    "## 1.Creating Vectors#"
   ]
  },
  {
   "cell_type": "code",
   "execution_count": 4,
   "metadata": {
    "collapsed": false
   },
   "outputs": [
    {
     "data": {
      "text/html": [
       "<ol class=list-inline>\n",
       "\t<li>'India'</li>\n",
       "\t<li>'China'</li>\n",
       "\t<li>'USA'</li>\n",
       "\t<li>'Australia'</li>\n",
       "</ol>\n"
      ],
      "text/latex": [
       "\\begin{enumerate*}\n",
       "\\item 'India'\n",
       "\\item 'China'\n",
       "\\item 'USA'\n",
       "\\item 'Australia'\n",
       "\\end{enumerate*}\n"
      ],
      "text/markdown": [
       "1. 'India'\n",
       "2. 'China'\n",
       "3. 'USA'\n",
       "4. 'Australia'\n",
       "\n",
       "\n"
      ],
      "text/plain": [
       "[1] \"India\"     \"China\"     \"USA\"       \"Australia\""
      ]
     },
     "execution_count": 4,
     "metadata": {},
     "output_type": "execute_result"
    }
   ],
   "source": [
    "Countries = c(\"India\",\"China\",\"USA\",\"Australia\")\n",
    "Countries"
   ]
  },
  {
   "cell_type": "code",
   "execution_count": 5,
   "metadata": {
    "collapsed": true
   },
   "outputs": [],
   "source": [
    "Population = c(2000,3000,200,50)"
   ]
  },
  {
   "cell_type": "markdown",
   "metadata": {},
   "source": [
    "## 2.Creating Data Frames"
   ]
  },
  {
   "cell_type": "code",
   "execution_count": 9,
   "metadata": {
    "collapsed": false
   },
   "outputs": [
    {
     "data": {
      "text/html": [
       "<table>\n",
       "<thead><tr><th></th><th scope=col>Countries</th><th scope=col>Population</th></tr></thead>\n",
       "<tbody>\n",
       "\t<tr><th scope=row>1</th><td>India</td><td>2000</td></tr>\n",
       "\t<tr><th scope=row>2</th><td>China</td><td>3000</td></tr>\n",
       "\t<tr><th scope=row>3</th><td>USA</td><td>200</td></tr>\n",
       "\t<tr><th scope=row>4</th><td>Australia</td><td>50</td></tr>\n",
       "</tbody>\n",
       "</table>\n"
      ],
      "text/latex": [
       "\\begin{tabular}{r|ll}\n",
       "  & Countries & Population\\\\\n",
       "\\hline\n",
       "\t1 & India & 2000\\\\\n",
       "\t2 & China & 3000\\\\\n",
       "\t3 & USA & 200\\\\\n",
       "\t4 & Australia & 50\\\\\n",
       "\\end{tabular}\n"
      ],
      "text/plain": [
       "  Countries Population\n",
       "1     India       2000\n",
       "2     China       3000\n",
       "3       USA        200\n",
       "4 Australia         50"
      ]
     },
     "execution_count": 9,
     "metadata": {},
     "output_type": "execute_result"
    }
   ],
   "source": [
    "CountryData1 = data.frame(Countries,Population)\n",
    "CountryData1"
   ]
  },
  {
   "cell_type": "code",
   "execution_count": 15,
   "metadata": {
    "collapsed": false
   },
   "outputs": [
    {
     "name": "stdout",
     "output_type": "stream",
     "text": [
      "'data.frame':\t4 obs. of  2 variables:\n",
      " $ Countries : Factor w/ 4 levels \"Australia\",\"China\",..: 3 2 4 1\n",
      " $ Population: num  2000 3000 200 50\n"
     ]
    }
   ],
   "source": [
    "str(CountryData1)"
   ]
  },
  {
   "cell_type": "code",
   "execution_count": 16,
   "metadata": {
    "collapsed": true
   },
   "outputs": [],
   "source": [
    "Countries = c(\"England\",\"Cuba\")\n",
    "Population = c(100,15)"
   ]
  },
  {
   "cell_type": "code",
   "execution_count": 17,
   "metadata": {
    "collapsed": true
   },
   "outputs": [],
   "source": [
    "CountryData2 = data.frame(Countries,Population)"
   ]
  },
  {
   "cell_type": "code",
   "execution_count": 18,
   "metadata": {
    "collapsed": false
   },
   "outputs": [
    {
     "data": {
      "text/html": [
       "<table>\n",
       "<thead><tr><th></th><th scope=col>Countries</th><th scope=col>Population</th></tr></thead>\n",
       "<tbody>\n",
       "\t<tr><th scope=row>1</th><td>England</td><td>100</td></tr>\n",
       "\t<tr><th scope=row>2</th><td>Cuba</td><td>15</td></tr>\n",
       "</tbody>\n",
       "</table>\n"
      ],
      "text/latex": [
       "\\begin{tabular}{r|ll}\n",
       "  & Countries & Population\\\\\n",
       "\\hline\n",
       "\t1 & England & 100\\\\\n",
       "\t2 & Cuba & 15\\\\\n",
       "\\end{tabular}\n"
      ],
      "text/plain": [
       "  Countries Population\n",
       "1   England        100\n",
       "2      Cuba         15"
      ]
     },
     "execution_count": 18,
     "metadata": {},
     "output_type": "execute_result"
    }
   ],
   "source": [
    "CountryData2"
   ]
  },
  {
   "cell_type": "markdown",
   "metadata": {},
   "source": [
    "### Mergeing 2 dataframes row wise "
   ]
  },
  {
   "cell_type": "code",
   "execution_count": 19,
   "metadata": {
    "collapsed": false
   },
   "outputs": [
    {
     "data": {
      "text/html": [
       "<table>\n",
       "<thead><tr><th></th><th scope=col>Countries</th><th scope=col>Population</th></tr></thead>\n",
       "<tbody>\n",
       "\t<tr><th scope=row>1</th><td>India</td><td>2000</td></tr>\n",
       "\t<tr><th scope=row>2</th><td>China</td><td>3000</td></tr>\n",
       "\t<tr><th scope=row>3</th><td>USA</td><td>200</td></tr>\n",
       "\t<tr><th scope=row>4</th><td>Australia</td><td>50</td></tr>\n",
       "\t<tr><th scope=row>5</th><td>England</td><td>100</td></tr>\n",
       "\t<tr><th scope=row>6</th><td>Cuba</td><td>15</td></tr>\n",
       "</tbody>\n",
       "</table>\n"
      ],
      "text/latex": [
       "\\begin{tabular}{r|ll}\n",
       "  & Countries & Population\\\\\n",
       "\\hline\n",
       "\t1 & India & 2000\\\\\n",
       "\t2 & China & 3000\\\\\n",
       "\t3 & USA & 200\\\\\n",
       "\t4 & Australia & 50\\\\\n",
       "\t5 & England & 100\\\\\n",
       "\t6 & Cuba & 15\\\\\n",
       "\\end{tabular}\n"
      ],
      "text/plain": [
       "  Countries Population\n",
       "1     India       2000\n",
       "2     China       3000\n",
       "3       USA        200\n",
       "4 Australia         50\n",
       "5   England        100\n",
       "6      Cuba         15"
      ]
     },
     "execution_count": 19,
     "metadata": {},
     "output_type": "execute_result"
    }
   ],
   "source": [
    "CountryTot = rbind(CountryData1,CountryData2)\n",
    "CountryTot"
   ]
  },
  {
   "cell_type": "markdown",
   "metadata": {},
   "source": [
    "### Adding a new variable/coloumn to data frame"
   ]
  },
  {
   "cell_type": "code",
   "execution_count": 20,
   "metadata": {
    "collapsed": true
   },
   "outputs": [],
   "source": [
    "CountryTot$NGI = c(12,45,12,32,15,20)"
   ]
  },
  {
   "cell_type": "code",
   "execution_count": 21,
   "metadata": {
    "collapsed": false
   },
   "outputs": [
    {
     "data": {
      "text/html": [
       "<table>\n",
       "<thead><tr><th></th><th scope=col>Countries</th><th scope=col>Population</th><th scope=col>NGI</th></tr></thead>\n",
       "<tbody>\n",
       "\t<tr><th scope=row>1</th><td>India</td><td>2000</td><td>12</td></tr>\n",
       "\t<tr><th scope=row>2</th><td>China</td><td>3000</td><td>45</td></tr>\n",
       "\t<tr><th scope=row>3</th><td>USA</td><td>200</td><td>12</td></tr>\n",
       "\t<tr><th scope=row>4</th><td>Australia</td><td>50</td><td>32</td></tr>\n",
       "\t<tr><th scope=row>5</th><td>England</td><td>100</td><td>15</td></tr>\n",
       "\t<tr><th scope=row>6</th><td>Cuba</td><td>15</td><td>20</td></tr>\n",
       "</tbody>\n",
       "</table>\n"
      ],
      "text/latex": [
       "\\begin{tabular}{r|lll}\n",
       "  & Countries & Population & NGI\\\\\n",
       "\\hline\n",
       "\t1 & India & 2000 & 12\\\\\n",
       "\t2 & China & 3000 & 45\\\\\n",
       "\t3 & USA & 200 & 12\\\\\n",
       "\t4 & Australia & 50 & 32\\\\\n",
       "\t5 & England & 100 & 15\\\\\n",
       "\t6 & Cuba & 15 & 20\\\\\n",
       "\\end{tabular}\n"
      ],
      "text/plain": [
       "  Countries Population NGI\n",
       "1     India       2000  12\n",
       "2     China       3000  45\n",
       "3       USA        200  12\n",
       "4 Australia         50  32\n",
       "5   England        100  15\n",
       "6      Cuba         15  20"
      ]
     },
     "execution_count": 21,
     "metadata": {},
     "output_type": "execute_result"
    }
   ],
   "source": [
    "CountryTot"
   ]
  },
  {
   "cell_type": "code",
   "execution_count": 22,
   "metadata": {
    "collapsed": false
   },
   "outputs": [
    {
     "data": {
      "text/plain": [
       "     Countries   Population          NGI       \n",
       " Australia:1   Min.   :  15.0   Min.   :12.00  \n",
       " China    :1   1st Qu.:  62.5   1st Qu.:12.75  \n",
       " India    :1   Median : 150.0   Median :17.50  \n",
       " USA      :1   Mean   : 894.2   Mean   :22.67  \n",
       " Cuba     :1   3rd Qu.:1550.0   3rd Qu.:29.00  \n",
       " England  :1   Max.   :3000.0   Max.   :45.00  "
      ]
     },
     "execution_count": 22,
     "metadata": {},
     "output_type": "execute_result"
    }
   ],
   "source": [
    "summary(CountryTot)"
   ]
  },
  {
   "cell_type": "code",
   "execution_count": 25,
   "metadata": {
    "collapsed": false
   },
   "outputs": [
    {
     "name": "stdout",
     "output_type": "stream",
     "text": [
      "'data.frame':\t6 obs. of  3 variables:\n",
      " $ Countries : Factor w/ 6 levels \"Australia\",\"China\",..: 3 2 4 1 6 5\n",
      " $ Population: num  2000 3000 200 50 100 15\n",
      " $ NGI       : num  12 45 12 32 15 20\n"
     ]
    }
   ],
   "source": [
    "str(CountryTot)"
   ]
  },
  {
   "cell_type": "code",
   "execution_count": 26,
   "metadata": {
    "collapsed": false
   },
   "outputs": [
    {
     "data": {
      "text/html": [
       "'/Users/varunm/Projects/vm/R'"
      ],
      "text/latex": [
       "'/Users/varunm/Projects/vm/R'"
      ],
      "text/markdown": [
       "'/Users/varunm/Projects/vm/R'"
      ],
      "text/plain": [
       "[1] \"/Users/varunm/Projects/vm/R\""
      ]
     },
     "execution_count": 26,
     "metadata": {},
     "output_type": "execute_result"
    }
   ],
   "source": [
    "getwd()"
   ]
  },
  {
   "cell_type": "markdown",
   "metadata": {},
   "source": [
    "## Reading From csv File"
   ]
  },
  {
   "cell_type": "code",
   "execution_count": 29,
   "metadata": {
    "collapsed": false
   },
   "outputs": [],
   "source": [
    "WHO = read.csv(\"WHO.csv\")"
   ]
  },
  {
   "cell_type": "code",
   "execution_count": 31,
   "metadata": {
    "collapsed": false
   },
   "outputs": [
    {
     "name": "stdout",
     "output_type": "stream",
     "text": [
      "'data.frame':\t194 obs. of  13 variables:\n",
      " $ Country                      : Factor w/ 194 levels \"Afghanistan\",..: 1 2 3 4 5 6 7 8 9 10 ...\n",
      " $ Region                       : Factor w/ 6 levels \"Africa\",\"Americas\",..: 3 4 1 4 1 2 2 4 6 4 ...\n",
      " $ Population                   : int  29825 3162 38482 78 20821 89 41087 2969 23050 8464 ...\n",
      " $ Under15                      : num  47.4 21.3 27.4 15.2 47.6 ...\n",
      " $ Over60                       : num  3.82 14.93 7.17 22.86 3.84 ...\n",
      " $ FertilityRate                : num  5.4 1.75 2.83 NA 6.1 2.12 2.2 1.74 1.89 1.44 ...\n",
      " $ LifeExpectancy               : int  60 74 73 82 51 75 76 71 82 81 ...\n",
      " $ ChildMortality               : num  98.5 16.7 20 3.2 163.5 ...\n",
      " $ CellularSubscribers          : num  54.3 96.4 99 75.5 48.4 ...\n",
      " $ LiteracyRate                 : num  NA NA NA NA 70.1 99 97.8 99.6 NA NA ...\n",
      " $ GNI                          : num  1140 8820 8310 NA 5230 ...\n",
      " $ PrimarySchoolEnrollmentMale  : num  NA NA 98.2 78.4 93.1 91.1 NA NA 96.9 NA ...\n",
      " $ PrimarySchoolEnrollmentFemale: num  NA NA 96.4 79.4 78.2 84.5 NA NA 97.5 NA ...\n"
     ]
    }
   ],
   "source": [
    "str(WHO)"
   ]
  },
  {
   "cell_type": "code",
   "execution_count": 32,
   "metadata": {
    "collapsed": false
   },
   "outputs": [
    {
     "data": {
      "text/plain": [
       "                Country                      Region     Population     \n",
       " Afghanistan        :  1   Africa               :46   Min.   :      1  \n",
       " Albania            :  1   Americas             :35   1st Qu.:   1696  \n",
       " Algeria            :  1   Eastern Mediterranean:22   Median :   7790  \n",
       " Andorra            :  1   Europe               :53   Mean   :  36360  \n",
       " Angola             :  1   South-East Asia      :11   3rd Qu.:  24535  \n",
       " Antigua and Barbuda:  1   Western Pacific      :27   Max.   :1390000  \n",
       " (Other)            :188                                               \n",
       "    Under15          Over60      FertilityRate   LifeExpectancy \n",
       " Min.   :13.12   Min.   : 0.81   Min.   :1.260   Min.   :47.00  \n",
       " 1st Qu.:18.72   1st Qu.: 5.20   1st Qu.:1.835   1st Qu.:64.00  \n",
       " Median :28.65   Median : 8.53   Median :2.400   Median :72.50  \n",
       " Mean   :28.73   Mean   :11.16   Mean   :2.941   Mean   :70.01  \n",
       " 3rd Qu.:37.75   3rd Qu.:16.69   3rd Qu.:3.905   3rd Qu.:76.00  \n",
       " Max.   :49.99   Max.   :31.92   Max.   :7.580   Max.   :83.00  \n",
       "                                 NA's   :11                     \n",
       " ChildMortality    CellularSubscribers  LiteracyRate        GNI       \n",
       " Min.   :  2.200   Min.   :  2.57      Min.   :31.10   Min.   :  340  \n",
       " 1st Qu.:  8.425   1st Qu.: 63.57      1st Qu.:71.60   1st Qu.: 2335  \n",
       " Median : 18.600   Median : 97.75      Median :91.80   Median : 7870  \n",
       " Mean   : 36.149   Mean   : 93.64      Mean   :83.71   Mean   :13321  \n",
       " 3rd Qu.: 55.975   3rd Qu.:120.81      3rd Qu.:97.85   3rd Qu.:17558  \n",
       " Max.   :181.600   Max.   :196.41      Max.   :99.80   Max.   :86440  \n",
       "                   NA's   :10          NA's   :91      NA's   :32     \n",
       " PrimarySchoolEnrollmentMale PrimarySchoolEnrollmentFemale\n",
       " Min.   : 37.20              Min.   : 32.50               \n",
       " 1st Qu.: 87.70              1st Qu.: 87.30               \n",
       " Median : 94.70              Median : 95.10               \n",
       " Mean   : 90.85              Mean   : 89.63               \n",
       " 3rd Qu.: 98.10              3rd Qu.: 97.90               \n",
       " Max.   :100.00              Max.   :100.00               \n",
       " NA's   :93                  NA's   :93                   "
      ]
     },
     "execution_count": 32,
     "metadata": {},
     "output_type": "execute_result"
    }
   ],
   "source": [
    "summary(WHO)"
   ]
  },
  {
   "cell_type": "code",
   "execution_count": 39,
   "metadata": {
    "collapsed": true
   },
   "outputs": [],
   "source": [
    "WHO_Europe = subset(WHO,Region == \"Europe\")"
   ]
  },
  {
   "cell_type": "code",
   "execution_count": 41,
   "metadata": {
    "collapsed": false
   },
   "outputs": [
    {
     "data": {
      "text/html": [
       "<table>\n",
       "<thead><tr><th></th><th scope=col>Country</th><th scope=col>Region</th><th scope=col>Population</th><th scope=col>Under15</th><th scope=col>Over60</th><th scope=col>FertilityRate</th><th scope=col>LifeExpectancy</th><th scope=col>ChildMortality</th><th scope=col>CellularSubscribers</th><th scope=col>LiteracyRate</th><th scope=col>GNI</th><th scope=col>PrimarySchoolEnrollmentMale</th><th scope=col>PrimarySchoolEnrollmentFemale</th></tr></thead>\n",
       "<tbody>\n",
       "\t<tr><th scope=row>2</th><td>Albania</td><td>Europe</td><td>3162</td><td>21.33</td><td>14.93</td><td>1.75</td><td>74</td><td>16.7</td><td>96.39</td><td>NA</td><td>8820</td><td>NA</td><td>NA</td></tr>\n",
       "\t<tr><th scope=row>4</th><td>Andorra</td><td>Europe</td><td>78</td><td>15.2</td><td>22.86</td><td>NA</td><td>82</td><td>3.2</td><td>75.49</td><td>NA</td><td>NA</td><td>78.4</td><td>79.4</td></tr>\n",
       "\t<tr><th scope=row>8</th><td>Armenia</td><td>Europe</td><td>2969</td><td>20.34</td><td>14.06</td><td>1.74</td><td>71</td><td>16.4</td><td>103.57</td><td>99.6</td><td>6100</td><td>NA</td><td>NA</td></tr>\n",
       "\t<tr><th scope=row>10</th><td>Austria</td><td>Europe</td><td>8464</td><td>14.51</td><td>23.52</td><td>1.44</td><td>81</td><td>4</td><td>154.78</td><td>NA</td><td>42050</td><td>NA</td><td>NA</td></tr>\n",
       "\t<tr><th scope=row>11</th><td>Azerbaijan</td><td>Europe</td><td>9309</td><td>22.25</td><td>8.24</td><td>1.96</td><td>71</td><td>35.2</td><td>108.75</td><td>NA</td><td>8960</td><td>85.3</td><td>84.1</td></tr>\n",
       "\t<tr><th scope=row>16</th><td>Belarus</td><td>Europe</td><td>9405</td><td>15.1</td><td>19.31</td><td>1.47</td><td>71</td><td>5.2</td><td>111.88</td><td>NA</td><td>14460</td><td>NA</td><td>NA</td></tr>\n",
       "\t<tr><th scope=row>17</th><td>Belgium</td><td>Europe</td><td>11060</td><td>16.88</td><td>23.81</td><td>1.85</td><td>80</td><td>4.2</td><td>116.61</td><td>NA</td><td>39190</td><td>98.9</td><td>99.2</td></tr>\n",
       "\t<tr><th scope=row>22</th><td>Bosnia and Herzegovina</td><td>Europe</td><td>3834</td><td>16.35</td><td>20.52</td><td>1.26</td><td>76</td><td>6.7</td><td>84.52</td><td>97.9</td><td>9190</td><td>86.5</td><td>88.4</td></tr>\n",
       "\t<tr><th scope=row>26</th><td>Bulgaria</td><td>Europe</td><td>7278</td><td>13.53</td><td>26.11</td><td>1.51</td><td>74</td><td>12.1</td><td>140.68</td><td>NA</td><td>14160</td><td>99.3</td><td>99.7</td></tr>\n",
       "\t<tr><th scope=row>43</th><td>Croatia</td><td>Europe</td><td>4307</td><td>14.98</td><td>24.69</td><td>1.48</td><td>77</td><td>4.7</td><td>116.37</td><td>98.8</td><td>18760</td><td>94.8</td><td>97</td></tr>\n",
       "\t<tr><th scope=row>45</th><td>Cyprus</td><td>Europe</td><td>1129</td><td>17.16</td><td>16.92</td><td>1.47</td><td>81</td><td>3.2</td><td>97.71</td><td>98.3</td><td>NA</td><td>99.1</td><td>99.5</td></tr>\n",
       "\t<tr><th scope=row>46</th><td>Czech Republic</td><td>Europe</td><td>10660</td><td>14.56</td><td>23.23</td><td>1.53</td><td>78</td><td>3.8</td><td>123.44</td><td>NA</td><td>24370</td><td>NA</td><td>NA</td></tr>\n",
       "\t<tr><th scope=row>49</th><td>Denmark</td><td>Europe</td><td>5598</td><td>17.66</td><td>23.9</td><td>1.88</td><td>79</td><td>3.7</td><td>128.47</td><td>NA</td><td>41900</td><td>94.8</td><td>96.9</td></tr>\n",
       "\t<tr><th scope=row>58</th><td>Estonia</td><td>Europe</td><td>1291</td><td>15.69</td><td>23.92</td><td>1.62</td><td>76</td><td>3.6</td><td>138.98</td><td>99.8</td><td>20850</td><td>97.7</td><td>97</td></tr>\n",
       "\t<tr><th scope=row>61</th><td>Finland</td><td>Europe</td><td>5408</td><td>16.42</td><td>25.9</td><td>1.85</td><td>81</td><td>2.9</td><td>166.02</td><td>NA</td><td>37670</td><td>97.7</td><td>97.9</td></tr>\n",
       "\t<tr><th scope=row>62</th><td>France</td><td>Europe</td><td>63937</td><td>18.26</td><td>23.82</td><td>1.98</td><td>82</td><td>4.1</td><td>94.79</td><td>NA</td><td>35910</td><td>99.1</td><td>99.3</td></tr>\n",
       "\t<tr><th scope=row>65</th><td>Georgia</td><td>Europe</td><td>4358</td><td>17.62</td><td>19.47</td><td>1.82</td><td>72</td><td>19.9</td><td>102.31</td><td>99.7</td><td>5350</td><td>NA</td><td>NA</td></tr>\n",
       "\t<tr><th scope=row>66</th><td>Germany</td><td>Europe</td><td>82800</td><td>13.17</td><td>26.72</td><td>1.4</td><td>81</td><td>4.1</td><td>132.3</td><td>NA</td><td>40230</td><td>NA</td><td>NA</td></tr>\n",
       "\t<tr><th scope=row>68</th><td>Greece</td><td>Europe</td><td>11125</td><td>14.6</td><td>25.41</td><td>1.51</td><td>81</td><td>4.8</td><td>106.48</td><td>97.2</td><td>25100</td><td>98.8</td><td>99.3</td></tr>\n",
       "\t<tr><th scope=row>76</th><td>Hungary</td><td>Europe</td><td>9976</td><td>14.62</td><td>23.41</td><td>1.38</td><td>75</td><td>6.2</td><td>117.3</td><td>99</td><td>20310</td><td>97.8</td><td>98.3</td></tr>\n",
       "\t<tr><th scope=row>77</th><td>Iceland</td><td>Europe</td><td>326</td><td>20.71</td><td>17.62</td><td>2.11</td><td>82</td><td>2.3</td><td>106.08</td><td>NA</td><td>31020</td><td>98.8</td><td>99.2</td></tr>\n",
       "\t<tr><th scope=row>82</th><td>Ireland</td><td>Europe</td><td>4576</td><td>21.54</td><td>16.59</td><td>2</td><td>81</td><td>4</td><td>108.41</td><td>NA</td><td>34180</td><td>99.4</td><td>100</td></tr>\n",
       "\t<tr><th scope=row>83</th><td>Israel</td><td>Europe</td><td>7644</td><td>27.53</td><td>15.15</td><td>2.92</td><td>82</td><td>4.2</td><td>121.66</td><td>NA</td><td>27110</td><td>97</td><td>97.8</td></tr>\n",
       "\t<tr><th scope=row>84</th><td>Italy</td><td>Europe</td><td>60885</td><td>14.04</td><td>26.97</td><td>1.45</td><td>82</td><td>3.8</td><td>157.93</td><td>98.9</td><td>32400</td><td>99.6</td><td>98.5</td></tr>\n",
       "\t<tr><th scope=row>88</th><td>Kazakhstan</td><td>Europe</td><td>16271</td><td>25.46</td><td>10.04</td><td>2.52</td><td>67</td><td>18.7</td><td>155.74</td><td>99.7</td><td>11250</td><td>NA</td><td>NA</td></tr>\n",
       "\t<tr><th scope=row>92</th><td>Kyrgyzstan</td><td>Europe</td><td>5474</td><td>30.21</td><td>6.34</td><td>3.03</td><td>69</td><td>26.6</td><td>116.4</td><td>NA</td><td>2180</td><td>95.5</td><td>95.1</td></tr>\n",
       "\t<tr><th scope=row>94</th><td>Latvia</td><td>Europe</td><td>2060</td><td>14.57</td><td>24.24</td><td>1.57</td><td>74</td><td>8.7</td><td>102.94</td><td>99.8</td><td>17700</td><td>95</td><td>96.8</td></tr>\n",
       "\t<tr><th scope=row>99</th><td>Lithuania</td><td>Europe</td><td>3028</td><td>15.13</td><td>20.57</td><td>1.49</td><td>74</td><td>5.4</td><td>151.3</td><td>99.7</td><td>19640</td><td>95.6</td><td>95.8</td></tr>\n",
       "\t<tr><th scope=row>100</th><td>Luxembourg</td><td>Europe</td><td>524</td><td>17.46</td><td>19.15</td><td>1.65</td><td>82</td><td>2.2</td><td>148.27</td><td>NA</td><td>64260</td><td>93.6</td><td>95.7</td></tr>\n",
       "\t<tr><th scope=row>106</th><td>Malta</td><td>Europe</td><td>428</td><td>14.98</td><td>22.87</td><td>1.37</td><td>80</td><td>6.8</td><td>124.86</td><td>NA</td><td>NA</td><td>93.3</td><td>94.3</td></tr>\n",
       "\t<tr><th scope=row>112</th><td>Monaco</td><td>Europe</td><td>38</td><td>18.26</td><td>23.82</td><td>NA</td><td>82</td><td>3.8</td><td>89.73</td><td>NA</td><td>NA</td><td>NA</td><td>NA</td></tr>\n",
       "\t<tr><th scope=row>114</th><td>Montenegro</td><td>Europe</td><td>621</td><td>19.01</td><td>18.58</td><td>1.69</td><td>76</td><td>5.9</td><td>NA</td><td>98.4</td><td>13700</td><td>NA</td><td>NA</td></tr>\n",
       "\t<tr><th scope=row>121</th><td>Netherlands</td><td>Europe</td><td>16714</td><td>17.21</td><td>23.02</td><td>1.76</td><td>81</td><td>4.1</td><td>NA</td><td>NA</td><td>43140</td><td>NA</td><td>NA</td></tr>\n",
       "\t<tr><th scope=row>127</th><td>Norway</td><td>Europe</td><td>4994</td><td>18.64</td><td>21.41</td><td>1.93</td><td>81</td><td>2.8</td><td>115.62</td><td>NA</td><td>61460</td><td>99.1</td><td>99.2</td></tr>\n",
       "\t<tr><th scope=row>136</th><td>Poland</td><td>Europe</td><td>38211</td><td>14.91</td><td>20.48</td><td>1.39</td><td>76</td><td>5</td><td>130.97</td><td>99.5</td><td>20430</td><td>96.9</td><td>96.7</td></tr>\n",
       "\t<tr><th scope=row>137</th><td>Portugal</td><td>Europe</td><td>10604</td><td>14.92</td><td>24.39</td><td>1.33</td><td>80</td><td>3.6</td><td>115.39</td><td>95.2</td><td>24440</td><td>99.1</td><td>99.7</td></tr>\n",
       "\t<tr><th scope=row>140</th><td>Republic of Moldova</td><td>Europe</td><td>3514</td><td>16.52</td><td>16.72</td><td>1.47</td><td>71</td><td>17.6</td><td>104.8</td><td>98.5</td><td>3640</td><td>90.1</td><td>90.1</td></tr>\n",
       "\t<tr><th scope=row>141</th><td>Romania</td><td>Europe</td><td>21755</td><td>15.05</td><td>20.66</td><td>1.39</td><td>74</td><td>12.2</td><td>109.16</td><td>97.7</td><td>15120</td><td>87.9</td><td>87.3</td></tr>\n",
       "\t<tr><th scope=row>142</th><td>Russian Federation</td><td>Europe</td><td>143000</td><td>15.45</td><td>18.6</td><td>1.51</td><td>69</td><td>10.3</td><td>179.31</td><td>99.6</td><td>20560</td><td>NA</td><td>NA</td></tr>\n",
       "\t<tr><th scope=row>148</th><td>San Marino</td><td>Europe</td><td>31</td><td>14.04</td><td>26.97</td><td>NA</td><td>83</td><td>3.3</td><td>111.75</td><td>NA</td><td>NA</td><td>NA</td><td>NA</td></tr>\n",
       "\t<tr><th scope=row>152</th><td>Serbia</td><td>Europe</td><td>9553</td><td>16.45</td><td>20.52</td><td>1.37</td><td>74</td><td>6.6</td><td>125.39</td><td>97.9</td><td>11540</td><td>94.7</td><td>94.4</td></tr>\n",
       "\t<tr><th scope=row>156</th><td>Slovakia</td><td>Europe</td><td>5446</td><td>15</td><td>18.6</td><td>1.37</td><td>76</td><td>7.5</td><td>109.35</td><td>NA</td><td>22130</td><td>NA</td><td>NA</td></tr>\n",
       "\t<tr><th scope=row>157</th><td>Slovenia</td><td>Europe</td><td>2068</td><td>14.16</td><td>23.16</td><td>1.49</td><td>80</td><td>3.1</td><td>106.56</td><td>99.7</td><td>26510</td><td>97.7</td><td>97.3</td></tr>\n",
       "\t<tr><th scope=row>162</th><td>Spain</td><td>Europe</td><td>46755</td><td>15.2</td><td>22.86</td><td>1.47</td><td>82</td><td>4.5</td><td>113.22</td><td>97.7</td><td>31400</td><td>99.7</td><td>99.8</td></tr>\n",
       "\t<tr><th scope=row>167</th><td>Sweden</td><td>Europe</td><td>9511</td><td>16.71</td><td>25.32</td><td>1.93</td><td>82</td><td>2.9</td><td>118.57</td><td>NA</td><td>42200</td><td>99.7</td><td>99</td></tr>\n",
       "\t<tr><th scope=row>168</th><td>Switzerland</td><td>Europe</td><td>7997</td><td>14.79</td><td>23.25</td><td>1.51</td><td>83</td><td>4.3</td><td>131.43</td><td>NA</td><td>52570</td><td>98.9</td><td>99.5</td></tr>\n",
       "\t<tr><th scope=row>170</th><td>Tajikistan</td><td>Europe</td><td>8009</td><td>35.75</td><td>4.8</td><td>3.81</td><td>68</td><td>58.3</td><td>90.64</td><td>99.7</td><td>2300</td><td>99.5</td><td>96</td></tr>\n",
       "\t<tr><th scope=row>172</th><td>The former Yugoslav Republic of Macedonia</td><td>Europe</td><td>2106</td><td>16.89</td><td>17.56</td><td>1.44</td><td>75</td><td>7.4</td><td>107.24</td><td>97.3</td><td>11090</td><td>97.3</td><td>99.2</td></tr>\n",
       "\t<tr><th scope=row>178</th><td>Turkey</td><td>Europe</td><td>73997</td><td>26</td><td>10.56</td><td>2.08</td><td>76</td><td>14.2</td><td>88.7</td><td>NA</td><td>16940</td><td>99.5</td><td>98.3</td></tr>\n",
       "\t<tr><th scope=row>179</th><td>Turkmenistan</td><td>Europe</td><td>5173</td><td>28.65</td><td>6.3</td><td>2.38</td><td>63</td><td>52.8</td><td>68.77</td><td>99.6</td><td>8690</td><td>NA</td><td>NA</td></tr>\n",
       "\t<tr><th scope=row>182</th><td>Ukraine</td><td>Europe</td><td>45530</td><td>14.18</td><td>20.76</td><td>1.45</td><td>71</td><td>10.7</td><td>122.98</td><td>99.7</td><td>7040</td><td>90.8</td><td>91.5</td></tr>\n",
       "\t<tr><th scope=row>184</th><td>United Kingdom</td><td>Europe</td><td>62783</td><td>17.54</td><td>23.06</td><td>1.9</td><td>80</td><td>4.8</td><td>130.75</td><td>NA</td><td>36010</td><td>99.8</td><td>99.6</td></tr>\n",
       "\t<tr><th scope=row>188</th><td>Uzbekistan</td><td>Europe</td><td>28541</td><td>28.9</td><td>6.38</td><td>2.38</td><td>68</td><td>39.6</td><td>91.65</td><td>99.4</td><td>3420</td><td>93.3</td><td>91</td></tr>\n",
       "</tbody>\n",
       "</table>\n"
      ],
      "text/latex": [
       "\\begin{tabular}{r|lllllllllllll}\n",
       "  & Country & Region & Population & Under15 & Over60 & FertilityRate & LifeExpectancy & ChildMortality & CellularSubscribers & LiteracyRate & GNI & PrimarySchoolEnrollmentMale & PrimarySchoolEnrollmentFemale\\\\\n",
       "\\hline\n",
       "\t2 & Albania & Europe & 3162 & 21.33 & 14.93 & 1.75 & 74 & 16.7 & 96.39 & NA & 8820 & NA & NA\\\\\n",
       "\t4 & Andorra & Europe & 78 & 15.2 & 22.86 & NA & 82 & 3.2 & 75.49 & NA & NA & 78.4 & 79.4\\\\\n",
       "\t8 & Armenia & Europe & 2969 & 20.34 & 14.06 & 1.74 & 71 & 16.4 & 103.57 & 99.6 & 6100 & NA & NA\\\\\n",
       "\t10 & Austria & Europe & 8464 & 14.51 & 23.52 & 1.44 & 81 & 4 & 154.78 & NA & 42050 & NA & NA\\\\\n",
       "\t11 & Azerbaijan & Europe & 9309 & 22.25 & 8.24 & 1.96 & 71 & 35.2 & 108.75 & NA & 8960 & 85.3 & 84.1\\\\\n",
       "\t16 & Belarus & Europe & 9405 & 15.1 & 19.31 & 1.47 & 71 & 5.2 & 111.88 & NA & 14460 & NA & NA\\\\\n",
       "\t17 & Belgium & Europe & 11060 & 16.88 & 23.81 & 1.85 & 80 & 4.2 & 116.61 & NA & 39190 & 98.9 & 99.2\\\\\n",
       "\t22 & Bosnia and Herzegovina & Europe & 3834 & 16.35 & 20.52 & 1.26 & 76 & 6.7 & 84.52 & 97.9 & 9190 & 86.5 & 88.4\\\\\n",
       "\t26 & Bulgaria & Europe & 7278 & 13.53 & 26.11 & 1.51 & 74 & 12.1 & 140.68 & NA & 14160 & 99.3 & 99.7\\\\\n",
       "\t43 & Croatia & Europe & 4307 & 14.98 & 24.69 & 1.48 & 77 & 4.7 & 116.37 & 98.8 & 18760 & 94.8 & 97\\\\\n",
       "\t45 & Cyprus & Europe & 1129 & 17.16 & 16.92 & 1.47 & 81 & 3.2 & 97.71 & 98.3 & NA & 99.1 & 99.5\\\\\n",
       "\t46 & Czech Republic & Europe & 10660 & 14.56 & 23.23 & 1.53 & 78 & 3.8 & 123.44 & NA & 24370 & NA & NA\\\\\n",
       "\t49 & Denmark & Europe & 5598 & 17.66 & 23.9 & 1.88 & 79 & 3.7 & 128.47 & NA & 41900 & 94.8 & 96.9\\\\\n",
       "\t58 & Estonia & Europe & 1291 & 15.69 & 23.92 & 1.62 & 76 & 3.6 & 138.98 & 99.8 & 20850 & 97.7 & 97\\\\\n",
       "\t61 & Finland & Europe & 5408 & 16.42 & 25.9 & 1.85 & 81 & 2.9 & 166.02 & NA & 37670 & 97.7 & 97.9\\\\\n",
       "\t62 & France & Europe & 63937 & 18.26 & 23.82 & 1.98 & 82 & 4.1 & 94.79 & NA & 35910 & 99.1 & 99.3\\\\\n",
       "\t65 & Georgia & Europe & 4358 & 17.62 & 19.47 & 1.82 & 72 & 19.9 & 102.31 & 99.7 & 5350 & NA & NA\\\\\n",
       "\t66 & Germany & Europe & 82800 & 13.17 & 26.72 & 1.4 & 81 & 4.1 & 132.3 & NA & 40230 & NA & NA\\\\\n",
       "\t68 & Greece & Europe & 11125 & 14.6 & 25.41 & 1.51 & 81 & 4.8 & 106.48 & 97.2 & 25100 & 98.8 & 99.3\\\\\n",
       "\t76 & Hungary & Europe & 9976 & 14.62 & 23.41 & 1.38 & 75 & 6.2 & 117.3 & 99 & 20310 & 97.8 & 98.3\\\\\n",
       "\t77 & Iceland & Europe & 326 & 20.71 & 17.62 & 2.11 & 82 & 2.3 & 106.08 & NA & 31020 & 98.8 & 99.2\\\\\n",
       "\t82 & Ireland & Europe & 4576 & 21.54 & 16.59 & 2 & 81 & 4 & 108.41 & NA & 34180 & 99.4 & 100\\\\\n",
       "\t83 & Israel & Europe & 7644 & 27.53 & 15.15 & 2.92 & 82 & 4.2 & 121.66 & NA & 27110 & 97 & 97.8\\\\\n",
       "\t84 & Italy & Europe & 60885 & 14.04 & 26.97 & 1.45 & 82 & 3.8 & 157.93 & 98.9 & 32400 & 99.6 & 98.5\\\\\n",
       "\t88 & Kazakhstan & Europe & 16271 & 25.46 & 10.04 & 2.52 & 67 & 18.7 & 155.74 & 99.7 & 11250 & NA & NA\\\\\n",
       "\t92 & Kyrgyzstan & Europe & 5474 & 30.21 & 6.34 & 3.03 & 69 & 26.6 & 116.4 & NA & 2180 & 95.5 & 95.1\\\\\n",
       "\t94 & Latvia & Europe & 2060 & 14.57 & 24.24 & 1.57 & 74 & 8.7 & 102.94 & 99.8 & 17700 & 95 & 96.8\\\\\n",
       "\t99 & Lithuania & Europe & 3028 & 15.13 & 20.57 & 1.49 & 74 & 5.4 & 151.3 & 99.7 & 19640 & 95.6 & 95.8\\\\\n",
       "\t100 & Luxembourg & Europe & 524 & 17.46 & 19.15 & 1.65 & 82 & 2.2 & 148.27 & NA & 64260 & 93.6 & 95.7\\\\\n",
       "\t106 & Malta & Europe & 428 & 14.98 & 22.87 & 1.37 & 80 & 6.8 & 124.86 & NA & NA & 93.3 & 94.3\\\\\n",
       "\t112 & Monaco & Europe & 38 & 18.26 & 23.82 & NA & 82 & 3.8 & 89.73 & NA & NA & NA & NA\\\\\n",
       "\t114 & Montenegro & Europe & 621 & 19.01 & 18.58 & 1.69 & 76 & 5.9 & NA & 98.4 & 13700 & NA & NA\\\\\n",
       "\t121 & Netherlands & Europe & 16714 & 17.21 & 23.02 & 1.76 & 81 & 4.1 & NA & NA & 43140 & NA & NA\\\\\n",
       "\t127 & Norway & Europe & 4994 & 18.64 & 21.41 & 1.93 & 81 & 2.8 & 115.62 & NA & 61460 & 99.1 & 99.2\\\\\n",
       "\t136 & Poland & Europe & 38211 & 14.91 & 20.48 & 1.39 & 76 & 5 & 130.97 & 99.5 & 20430 & 96.9 & 96.7\\\\\n",
       "\t137 & Portugal & Europe & 10604 & 14.92 & 24.39 & 1.33 & 80 & 3.6 & 115.39 & 95.2 & 24440 & 99.1 & 99.7\\\\\n",
       "\t140 & Republic of Moldova & Europe & 3514 & 16.52 & 16.72 & 1.47 & 71 & 17.6 & 104.8 & 98.5 & 3640 & 90.1 & 90.1\\\\\n",
       "\t141 & Romania & Europe & 21755 & 15.05 & 20.66 & 1.39 & 74 & 12.2 & 109.16 & 97.7 & 15120 & 87.9 & 87.3\\\\\n",
       "\t142 & Russian Federation & Europe & 143000 & 15.45 & 18.6 & 1.51 & 69 & 10.3 & 179.31 & 99.6 & 20560 & NA & NA\\\\\n",
       "\t148 & San Marino & Europe & 31 & 14.04 & 26.97 & NA & 83 & 3.3 & 111.75 & NA & NA & NA & NA\\\\\n",
       "\t152 & Serbia & Europe & 9553 & 16.45 & 20.52 & 1.37 & 74 & 6.6 & 125.39 & 97.9 & 11540 & 94.7 & 94.4\\\\\n",
       "\t156 & Slovakia & Europe & 5446 & 15 & 18.6 & 1.37 & 76 & 7.5 & 109.35 & NA & 22130 & NA & NA\\\\\n",
       "\t157 & Slovenia & Europe & 2068 & 14.16 & 23.16 & 1.49 & 80 & 3.1 & 106.56 & 99.7 & 26510 & 97.7 & 97.3\\\\\n",
       "\t162 & Spain & Europe & 46755 & 15.2 & 22.86 & 1.47 & 82 & 4.5 & 113.22 & 97.7 & 31400 & 99.7 & 99.8\\\\\n",
       "\t167 & Sweden & Europe & 9511 & 16.71 & 25.32 & 1.93 & 82 & 2.9 & 118.57 & NA & 42200 & 99.7 & 99\\\\\n",
       "\t168 & Switzerland & Europe & 7997 & 14.79 & 23.25 & 1.51 & 83 & 4.3 & 131.43 & NA & 52570 & 98.9 & 99.5\\\\\n",
       "\t170 & Tajikistan & Europe & 8009 & 35.75 & 4.8 & 3.81 & 68 & 58.3 & 90.64 & 99.7 & 2300 & 99.5 & 96\\\\\n",
       "\t172 & The former Yugoslav Republic of Macedonia & Europe & 2106 & 16.89 & 17.56 & 1.44 & 75 & 7.4 & 107.24 & 97.3 & 11090 & 97.3 & 99.2\\\\\n",
       "\t178 & Turkey & Europe & 73997 & 26 & 10.56 & 2.08 & 76 & 14.2 & 88.7 & NA & 16940 & 99.5 & 98.3\\\\\n",
       "\t179 & Turkmenistan & Europe & 5173 & 28.65 & 6.3 & 2.38 & 63 & 52.8 & 68.77 & 99.6 & 8690 & NA & NA\\\\\n",
       "\t182 & Ukraine & Europe & 45530 & 14.18 & 20.76 & 1.45 & 71 & 10.7 & 122.98 & 99.7 & 7040 & 90.8 & 91.5\\\\\n",
       "\t184 & United Kingdom & Europe & 62783 & 17.54 & 23.06 & 1.9 & 80 & 4.8 & 130.75 & NA & 36010 & 99.8 & 99.6\\\\\n",
       "\t188 & Uzbekistan & Europe & 28541 & 28.9 & 6.38 & 2.38 & 68 & 39.6 & 91.65 & 99.4 & 3420 & 93.3 & 91\\\\\n",
       "\\end{tabular}\n"
      ],
      "text/plain": [
       "                                      Country Region Population Under15 Over60\n",
       "2                                     Albania Europe       3162   21.33  14.93\n",
       "4                                     Andorra Europe         78   15.20  22.86\n",
       "8                                     Armenia Europe       2969   20.34  14.06\n",
       "10                                    Austria Europe       8464   14.51  23.52\n",
       "11                                 Azerbaijan Europe       9309   22.25   8.24\n",
       "16                                    Belarus Europe       9405   15.10  19.31\n",
       "17                                    Belgium Europe      11060   16.88  23.81\n",
       "22                     Bosnia and Herzegovina Europe       3834   16.35  20.52\n",
       "26                                   Bulgaria Europe       7278   13.53  26.11\n",
       "43                                    Croatia Europe       4307   14.98  24.69\n",
       "45                                     Cyprus Europe       1129   17.16  16.92\n",
       "46                             Czech Republic Europe      10660   14.56  23.23\n",
       "49                                    Denmark Europe       5598   17.66  23.90\n",
       "58                                    Estonia Europe       1291   15.69  23.92\n",
       "61                                    Finland Europe       5408   16.42  25.90\n",
       "62                                     France Europe      63937   18.26  23.82\n",
       "65                                    Georgia Europe       4358   17.62  19.47\n",
       "66                                    Germany Europe      82800   13.17  26.72\n",
       "68                                     Greece Europe      11125   14.60  25.41\n",
       "76                                    Hungary Europe       9976   14.62  23.41\n",
       "77                                    Iceland Europe        326   20.71  17.62\n",
       "82                                    Ireland Europe       4576   21.54  16.59\n",
       "83                                     Israel Europe       7644   27.53  15.15\n",
       "84                                      Italy Europe      60885   14.04  26.97\n",
       "88                                 Kazakhstan Europe      16271   25.46  10.04\n",
       "92                                 Kyrgyzstan Europe       5474   30.21   6.34\n",
       "94                                     Latvia Europe       2060   14.57  24.24\n",
       "99                                  Lithuania Europe       3028   15.13  20.57\n",
       "100                                Luxembourg Europe        524   17.46  19.15\n",
       "106                                     Malta Europe        428   14.98  22.87\n",
       "112                                    Monaco Europe         38   18.26  23.82\n",
       "114                                Montenegro Europe        621   19.01  18.58\n",
       "121                               Netherlands Europe      16714   17.21  23.02\n",
       "127                                    Norway Europe       4994   18.64  21.41\n",
       "136                                    Poland Europe      38211   14.91  20.48\n",
       "137                                  Portugal Europe      10604   14.92  24.39\n",
       "140                       Republic of Moldova Europe       3514   16.52  16.72\n",
       "141                                   Romania Europe      21755   15.05  20.66\n",
       "142                        Russian Federation Europe     143000   15.45  18.60\n",
       "148                                San Marino Europe         31   14.04  26.97\n",
       "152                                    Serbia Europe       9553   16.45  20.52\n",
       "156                                  Slovakia Europe       5446   15.00  18.60\n",
       "157                                  Slovenia Europe       2068   14.16  23.16\n",
       "162                                     Spain Europe      46755   15.20  22.86\n",
       "167                                    Sweden Europe       9511   16.71  25.32\n",
       "168                               Switzerland Europe       7997   14.79  23.25\n",
       "170                                Tajikistan Europe       8009   35.75   4.80\n",
       "172 The former Yugoslav Republic of Macedonia Europe       2106   16.89  17.56\n",
       "178                                    Turkey Europe      73997   26.00  10.56\n",
       "179                              Turkmenistan Europe       5173   28.65   6.30\n",
       "182                                   Ukraine Europe      45530   14.18  20.76\n",
       "184                            United Kingdom Europe      62783   17.54  23.06\n",
       "188                                Uzbekistan Europe      28541   28.90   6.38\n",
       "    FertilityRate LifeExpectancy ChildMortality CellularSubscribers\n",
       "2            1.75             74           16.7               96.39\n",
       "4              NA             82            3.2               75.49\n",
       "8            1.74             71           16.4              103.57\n",
       "10           1.44             81            4.0              154.78\n",
       "11           1.96             71           35.2              108.75\n",
       "16           1.47             71            5.2              111.88\n",
       "17           1.85             80            4.2              116.61\n",
       "22           1.26             76            6.7               84.52\n",
       "26           1.51             74           12.1              140.68\n",
       "43           1.48             77            4.7              116.37\n",
       "45           1.47             81            3.2               97.71\n",
       "46           1.53             78            3.8              123.44\n",
       "49           1.88             79            3.7              128.47\n",
       "58           1.62             76            3.6              138.98\n",
       "61           1.85             81            2.9              166.02\n",
       "62           1.98             82            4.1               94.79\n",
       "65           1.82             72           19.9              102.31\n",
       "66           1.40             81            4.1              132.30\n",
       "68           1.51             81            4.8              106.48\n",
       "76           1.38             75            6.2              117.30\n",
       "77           2.11             82            2.3              106.08\n",
       "82           2.00             81            4.0              108.41\n",
       "83           2.92             82            4.2              121.66\n",
       "84           1.45             82            3.8              157.93\n",
       "88           2.52             67           18.7              155.74\n",
       "92           3.03             69           26.6              116.40\n",
       "94           1.57             74            8.7              102.94\n",
       "99           1.49             74            5.4              151.30\n",
       "100          1.65             82            2.2              148.27\n",
       "106          1.37             80            6.8              124.86\n",
       "112            NA             82            3.8               89.73\n",
       "114          1.69             76            5.9                  NA\n",
       "121          1.76             81            4.1                  NA\n",
       "127          1.93             81            2.8              115.62\n",
       "136          1.39             76            5.0              130.97\n",
       "137          1.33             80            3.6              115.39\n",
       "140          1.47             71           17.6              104.80\n",
       "141          1.39             74           12.2              109.16\n",
       "142          1.51             69           10.3              179.31\n",
       "148            NA             83            3.3              111.75\n",
       "152          1.37             74            6.6              125.39\n",
       "156          1.37             76            7.5              109.35\n",
       "157          1.49             80            3.1              106.56\n",
       "162          1.47             82            4.5              113.22\n",
       "167          1.93             82            2.9              118.57\n",
       "168          1.51             83            4.3              131.43\n",
       "170          3.81             68           58.3               90.64\n",
       "172          1.44             75            7.4              107.24\n",
       "178          2.08             76           14.2               88.70\n",
       "179          2.38             63           52.8               68.77\n",
       "182          1.45             71           10.7              122.98\n",
       "184          1.90             80            4.8              130.75\n",
       "188          2.38             68           39.6               91.65\n",
       "    LiteracyRate   GNI PrimarySchoolEnrollmentMale\n",
       "2             NA  8820                          NA\n",
       "4             NA    NA                        78.4\n",
       "8           99.6  6100                          NA\n",
       "10            NA 42050                          NA\n",
       "11            NA  8960                        85.3\n",
       "16            NA 14460                          NA\n",
       "17            NA 39190                        98.9\n",
       "22          97.9  9190                        86.5\n",
       "26            NA 14160                        99.3\n",
       "43          98.8 18760                        94.8\n",
       "45          98.3    NA                        99.1\n",
       "46            NA 24370                          NA\n",
       "49            NA 41900                        94.8\n",
       "58          99.8 20850                        97.7\n",
       "61            NA 37670                        97.7\n",
       "62            NA 35910                        99.1\n",
       "65          99.7  5350                          NA\n",
       "66            NA 40230                          NA\n",
       "68          97.2 25100                        98.8\n",
       "76          99.0 20310                        97.8\n",
       "77            NA 31020                        98.8\n",
       "82            NA 34180                        99.4\n",
       "83            NA 27110                        97.0\n",
       "84          98.9 32400                        99.6\n",
       "88          99.7 11250                          NA\n",
       "92            NA  2180                        95.5\n",
       "94          99.8 17700                        95.0\n",
       "99          99.7 19640                        95.6\n",
       "100           NA 64260                        93.6\n",
       "106           NA    NA                        93.3\n",
       "112           NA    NA                          NA\n",
       "114         98.4 13700                          NA\n",
       "121           NA 43140                          NA\n",
       "127           NA 61460                        99.1\n",
       "136         99.5 20430                        96.9\n",
       "137         95.2 24440                        99.1\n",
       "140         98.5  3640                        90.1\n",
       "141         97.7 15120                        87.9\n",
       "142         99.6 20560                          NA\n",
       "148           NA    NA                          NA\n",
       "152         97.9 11540                        94.7\n",
       "156           NA 22130                          NA\n",
       "157         99.7 26510                        97.7\n",
       "162         97.7 31400                        99.7\n",
       "167           NA 42200                        99.7\n",
       "168           NA 52570                        98.9\n",
       "170         99.7  2300                        99.5\n",
       "172         97.3 11090                        97.3\n",
       "178           NA 16940                        99.5\n",
       "179         99.6  8690                          NA\n",
       "182         99.7  7040                        90.8\n",
       "184           NA 36010                        99.8\n",
       "188         99.4  3420                        93.3\n",
       "    PrimarySchoolEnrollmentFemale\n",
       "2                              NA\n",
       "4                            79.4\n",
       "8                              NA\n",
       "10                             NA\n",
       "11                           84.1\n",
       "16                             NA\n",
       "17                           99.2\n",
       "22                           88.4\n",
       "26                           99.7\n",
       "43                           97.0\n",
       "45                           99.5\n",
       "46                             NA\n",
       "49                           96.9\n",
       "58                           97.0\n",
       "61                           97.9\n",
       "62                           99.3\n",
       "65                             NA\n",
       "66                             NA\n",
       "68                           99.3\n",
       "76                           98.3\n",
       "77                           99.2\n",
       "82                          100.0\n",
       "83                           97.8\n",
       "84                           98.5\n",
       "88                             NA\n",
       "92                           95.1\n",
       "94                           96.8\n",
       "99                           95.8\n",
       "100                          95.7\n",
       "106                          94.3\n",
       "112                            NA\n",
       "114                            NA\n",
       "121                            NA\n",
       "127                          99.2\n",
       "136                          96.7\n",
       "137                          99.7\n",
       "140                          90.1\n",
       "141                          87.3\n",
       "142                            NA\n",
       "148                            NA\n",
       "152                          94.4\n",
       "156                            NA\n",
       "157                          97.3\n",
       "162                          99.8\n",
       "167                          99.0\n",
       "168                          99.5\n",
       "170                          96.0\n",
       "172                          99.2\n",
       "178                          98.3\n",
       "179                            NA\n",
       "182                          91.5\n",
       "184                          99.6\n",
       "188                          91.0"
      ]
     },
     "execution_count": 41,
     "metadata": {},
     "output_type": "execute_result"
    }
   ],
   "source": [
    "WHO_Europe"
   ]
  },
  {
   "cell_type": "code",
   "execution_count": 42,
   "metadata": {
    "collapsed": false
   },
   "outputs": [
    {
     "name": "stdout",
     "output_type": "stream",
     "text": [
      "'data.frame':\t53 obs. of  13 variables:\n",
      " $ Country                      : Factor w/ 194 levels \"Afghanistan\",..: 2 4 8 10 11 16 17 22 26 42 ...\n",
      " $ Region                       : Factor w/ 6 levels \"Africa\",\"Americas\",..: 4 4 4 4 4 4 4 4 4 4 ...\n",
      " $ Population                   : int  3162 78 2969 8464 9309 9405 11060 3834 7278 4307 ...\n",
      " $ Under15                      : num  21.3 15.2 20.3 14.5 22.2 ...\n",
      " $ Over60                       : num  14.93 22.86 14.06 23.52 8.24 ...\n",
      " $ FertilityRate                : num  1.75 NA 1.74 1.44 1.96 1.47 1.85 1.26 1.51 1.48 ...\n",
      " $ LifeExpectancy               : int  74 82 71 81 71 71 80 76 74 77 ...\n",
      " $ ChildMortality               : num  16.7 3.2 16.4 4 35.2 5.2 4.2 6.7 12.1 4.7 ...\n",
      " $ CellularSubscribers          : num  96.4 75.5 103.6 154.8 108.8 ...\n",
      " $ LiteracyRate                 : num  NA NA 99.6 NA NA NA NA 97.9 NA 98.8 ...\n",
      " $ GNI                          : num  8820 NA 6100 42050 8960 ...\n",
      " $ PrimarySchoolEnrollmentMale  : num  NA 78.4 NA NA 85.3 NA 98.9 86.5 99.3 94.8 ...\n",
      " $ PrimarySchoolEnrollmentFemale: num  NA 79.4 NA NA 84.1 NA 99.2 88.4 99.7 97 ...\n"
     ]
    }
   ],
   "source": [
    "str(WHO_Europe)"
   ]
  },
  {
   "cell_type": "markdown",
   "metadata": {},
   "source": [
    "## Writing to csv file"
   ]
  },
  {
   "cell_type": "markdown",
   "metadata": {},
   "source": [
    "write.csv(WHO_Europe,\"WHO_Europe.csv\")"
   ]
  },
  {
   "cell_type": "markdown",
   "metadata": {},
   "source": [
    "## Some usefull statistical functions"
   ]
  },
  {
   "cell_type": "code",
   "execution_count": 45,
   "metadata": {
    "collapsed": false
   },
   "outputs": [
    {
     "data": {
      "text/html": [
       "36"
      ],
      "text/latex": [
       "36"
      ],
      "text/markdown": [
       "36"
      ],
      "text/plain": [
       "[1] 36"
      ]
     },
     "execution_count": 45,
     "metadata": {},
     "output_type": "execute_result"
    }
   ],
   "source": [
    "#Max population\n",
    "which.max(WHO$Population)"
   ]
  },
  {
   "cell_type": "code",
   "execution_count": 46,
   "metadata": {
    "collapsed": false
   },
   "outputs": [
    {
     "data": {
      "text/html": [
       "China"
      ],
      "text/latex": [
       "China"
      ],
      "text/markdown": [
       "China"
      ],
      "text/plain": [
       "[1] China\n",
       "194 Levels: Afghanistan Albania Algeria Andorra Angola ... Zimbabwe"
      ]
     },
     "execution_count": 46,
     "metadata": {},
     "output_type": "execute_result"
    }
   ],
   "source": [
    "#Country with max population \n",
    "WHO$Country[which.max(WHO$Population)]"
   ]
  },
  {
   "cell_type": "code",
   "execution_count": 47,
   "metadata": {
    "collapsed": false
   },
   "outputs": [
    {
     "data": {
      "text/plain": [
       "   Min. 1st Qu.  Median    Mean 3rd Qu.    Max. \n",
       "      1    1696    7790   36360   24540 1390000 "
      ]
     },
     "execution_count": 47,
     "metadata": {},
     "output_type": "execute_result"
    }
   ],
   "source": [
    "summary(WHO$Population)"
   ]
  },
  {
   "cell_type": "code",
   "execution_count": 53,
   "metadata": {
    "collapsed": false
   },
   "outputs": [
    {
     "data": {
      "text/html": [
       "137903.14124139"
      ],
      "text/latex": [
       "137903.14124139"
      ],
      "text/markdown": [
       "137903.14124139"
      ],
      "text/plain": [
       "[1] 137903.1"
      ]
     },
     "execution_count": 53,
     "metadata": {},
     "output_type": "execute_result"
    }
   ],
   "source": [
    "sd(WHO$Population)"
   ]
  },
  {
   "cell_type": "code",
   "execution_count": 55,
   "metadata": {
    "collapsed": false
   },
   "outputs": [
    {
     "data": {
      "text/html": [
       "1"
      ],
      "text/latex": [
       "1"
      ],
      "text/markdown": [
       "1"
      ],
      "text/plain": [
       "[1] 1"
      ]
     },
     "execution_count": 55,
     "metadata": {},
     "output_type": "execute_result"
    }
   ],
   "source": [
    "min(WHO$Population)"
   ]
  },
  {
   "cell_type": "code",
   "execution_count": 58,
   "metadata": {
    "collapsed": false
   },
   "outputs": [
    {
     "data": {
      "text/html": [
       "36359.9742268041"
      ],
      "text/latex": [
       "36359.9742268041"
      ],
      "text/markdown": [
       "36359.9742268041"
      ],
      "text/plain": [
       "[1] 36359.97"
      ]
     },
     "execution_count": 58,
     "metadata": {},
     "output_type": "execute_result"
    }
   ],
   "source": [
    "mean(WHO$Population)"
   ]
  },
  {
   "cell_type": "code",
   "execution_count": 59,
   "metadata": {
    "collapsed": false
   },
   "outputs": [
    {
     "data": {
      "text/html": [
       "7790"
      ],
      "text/latex": [
       "7790"
      ],
      "text/markdown": [
       "7790"
      ],
      "text/plain": [
       "[1] 7790"
      ]
     },
     "execution_count": 59,
     "metadata": {},
     "output_type": "execute_result"
    }
   ],
   "source": [
    "median(WHO$Population)"
   ]
  },
  {
   "cell_type": "code",
   "execution_count": 60,
   "metadata": {
    "collapsed": false
   },
   "outputs": [
    {
     "data": {
      "text/html": [
       "Niue"
      ],
      "text/latex": [
       "Niue"
      ],
      "text/markdown": [
       "Niue"
      ],
      "text/plain": [
       "[1] Niue\n",
       "194 Levels: Afghanistan Albania Algeria Andorra Angola ... Zimbabwe"
      ]
     },
     "execution_count": 60,
     "metadata": {},
     "output_type": "execute_result"
    }
   ],
   "source": [
    "#Country with min population \n",
    "WHO$Country[which.min(WHO$Population)]"
   ]
  },
  {
   "cell_type": "markdown",
   "metadata": {},
   "source": [
    "## Plots"
   ]
  },
  {
   "cell_type": "code",
   "execution_count": 61,
   "metadata": {
    "collapsed": false
   },
   "outputs": [
    {
     "data": {
      "image/png": "[encoded data removed]",
      "text/plain": [
       "plot without title"
      ]
     },
     "metadata": {
      "image/svg+xml": {
       "isolated": true
      }
     },
     "output_type": "display_data"
    }
   ],
   "source": [
    "plot(WHO$GNI,WHO$FertilityRate)"
   ]
  },
  {
   "cell_type": "code",
   "execution_count": 63,
   "metadata": {
    "collapsed": false
   },
   "outputs": [
    {
     "data": {
      "text/html": [
       "<table>\n",
       "<thead><tr><th></th><th scope=col>Country</th><th scope=col>Region</th><th scope=col>Population</th><th scope=col>Under15</th><th scope=col>Over60</th><th scope=col>FertilityRate</th><th scope=col>LifeExpectancy</th><th scope=col>ChildMortality</th><th scope=col>CellularSubscribers</th><th scope=col>LiteracyRate</th><th scope=col>GNI</th><th scope=col>PrimarySchoolEnrollmentMale</th><th scope=col>PrimarySchoolEnrollmentFemale</th></tr></thead>\n",
       "<tbody>\n",
       "\t<tr><th scope=row>23</th><td>Botswana</td><td>Africa</td><td>2004</td><td>33.75</td><td>5.63</td><td>2.71</td><td>66</td><td>53.3</td><td>142.82</td><td>84.5</td><td>14550</td><td>NA</td><td>NA</td></tr>\n",
       "\t<tr><th scope=row>56</th><td>Equatorial Guinea</td><td>Africa</td><td>736</td><td>38.95</td><td>4.53</td><td>5.04</td><td>54</td><td>100.3</td><td>59.15</td><td>93.9</td><td>25620</td><td>56.5</td><td>56</td></tr>\n",
       "\t<tr><th scope=row>63</th><td>Gabon</td><td>Africa</td><td>1633</td><td>38.49</td><td>7.38</td><td>4.18</td><td>62</td><td>62</td><td>117.32</td><td>88.4</td><td>13740</td><td>NA</td><td>NA</td></tr>\n",
       "\t<tr><th scope=row>83</th><td>Israel</td><td>Europe</td><td>7644</td><td>27.53</td><td>15.15</td><td>2.92</td><td>82</td><td>4.2</td><td>121.66</td><td>NA</td><td>27110</td><td>97</td><td>97.8</td></tr>\n",
       "\t<tr><th scope=row>88</th><td>Kazakhstan</td><td>Europe</td><td>16271</td><td>25.46</td><td>10.04</td><td>2.52</td><td>67</td><td>18.7</td><td>155.74</td><td>99.7</td><td>11250</td><td>NA</td><td>NA</td></tr>\n",
       "\t<tr><th scope=row>131</th><td>Panama</td><td>Americas</td><td>3802</td><td>28.65</td><td>10.13</td><td>2.52</td><td>77</td><td>18.5</td><td>188.6</td><td>94.1</td><td>14510</td><td>99.1</td><td>98.2</td></tr>\n",
       "\t<tr><th scope=row>150</th><td>Saudi Arabia</td><td>Eastern Mediterranean</td><td>28288</td><td>29.69</td><td>4.59</td><td>2.76</td><td>76</td><td>8.6</td><td>191.24</td><td>86.6</td><td>24700</td><td>96.7</td><td>96.5</td></tr>\n",
       "</tbody>\n",
       "</table>\n"
      ],
      "text/latex": [
       "\\begin{tabular}{r|lllllllllllll}\n",
       "  & Country & Region & Population & Under15 & Over60 & FertilityRate & LifeExpectancy & ChildMortality & CellularSubscribers & LiteracyRate & GNI & PrimarySchoolEnrollmentMale & PrimarySchoolEnrollmentFemale\\\\\n",
       "\\hline\n",
       "\t23 & Botswana & Africa & 2004 & 33.75 & 5.63 & 2.71 & 66 & 53.3 & 142.82 & 84.5 & 14550 & NA & NA\\\\\n",
       "\t56 & Equatorial Guinea & Africa & 736 & 38.95 & 4.53 & 5.04 & 54 & 100.3 & 59.15 & 93.9 & 25620 & 56.5 & 56\\\\\n",
       "\t63 & Gabon & Africa & 1633 & 38.49 & 7.38 & 4.18 & 62 & 62 & 117.32 & 88.4 & 13740 & NA & NA\\\\\n",
       "\t83 & Israel & Europe & 7644 & 27.53 & 15.15 & 2.92 & 82 & 4.2 & 121.66 & NA & 27110 & 97 & 97.8\\\\\n",
       "\t88 & Kazakhstan & Europe & 16271 & 25.46 & 10.04 & 2.52 & 67 & 18.7 & 155.74 & 99.7 & 11250 & NA & NA\\\\\n",
       "\t131 & Panama & Americas & 3802 & 28.65 & 10.13 & 2.52 & 77 & 18.5 & 188.6 & 94.1 & 14510 & 99.1 & 98.2\\\\\n",
       "\t150 & Saudi Arabia & Eastern Mediterranean & 28288 & 29.69 & 4.59 & 2.76 & 76 & 8.6 & 191.24 & 86.6 & 24700 & 96.7 & 96.5\\\\\n",
       "\\end{tabular}\n"
      ],
      "text/plain": [
       "              Country                Region Population Under15 Over60\n",
       "23           Botswana                Africa       2004   33.75   5.63\n",
       "56  Equatorial Guinea                Africa        736   38.95   4.53\n",
       "63              Gabon                Africa       1633   38.49   7.38\n",
       "83             Israel                Europe       7644   27.53  15.15\n",
       "88         Kazakhstan                Europe      16271   25.46  10.04\n",
       "131            Panama              Americas       3802   28.65  10.13\n",
       "150      Saudi Arabia Eastern Mediterranean      28288   29.69   4.59\n",
       "    FertilityRate LifeExpectancy ChildMortality CellularSubscribers\n",
       "23           2.71             66           53.3              142.82\n",
       "56           5.04             54          100.3               59.15\n",
       "63           4.18             62           62.0              117.32\n",
       "83           2.92             82            4.2              121.66\n",
       "88           2.52             67           18.7              155.74\n",
       "131          2.52             77           18.5              188.60\n",
       "150          2.76             76            8.6              191.24\n",
       "    LiteracyRate   GNI PrimarySchoolEnrollmentMale\n",
       "23          84.5 14550                          NA\n",
       "56          93.9 25620                        56.5\n",
       "63          88.4 13740                          NA\n",
       "83            NA 27110                        97.0\n",
       "88          99.7 11250                          NA\n",
       "131         94.1 14510                        99.1\n",
       "150         86.6 24700                        96.7\n",
       "    PrimarySchoolEnrollmentFemale\n",
       "23                             NA\n",
       "56                           56.0\n",
       "63                             NA\n",
       "83                           97.8\n",
       "88                             NA\n",
       "131                          98.2\n",
       "150                          96.5"
      ]
     },
     "execution_count": 63,
     "metadata": {},
     "output_type": "execute_result"
    }
   ],
   "source": [
    "Outliers = subset(WHO, GNI>10000 & FertilityRate >2.5)\n",
    "Outliers"
   ]
  },
  {
   "cell_type": "code",
   "execution_count": 65,
   "metadata": {
    "collapsed": false
   },
   "outputs": [
    {
     "data": {
      "text/html": [
       "<table>\n",
       "<thead><tr><th></th><th scope=col>Country</th><th scope=col>GNI</th><th scope=col>FertilityRate</th></tr></thead>\n",
       "<tbody>\n",
       "\t<tr><th scope=row>23</th><td>Botswana</td><td>14550</td><td>2.71</td></tr>\n",
       "\t<tr><th scope=row>56</th><td>Equatorial Guinea</td><td>25620</td><td>5.04</td></tr>\n",
       "\t<tr><th scope=row>63</th><td>Gabon</td><td>13740</td><td>4.18</td></tr>\n",
       "\t<tr><th scope=row>83</th><td>Israel</td><td>27110</td><td>2.92</td></tr>\n",
       "\t<tr><th scope=row>88</th><td>Kazakhstan</td><td>11250</td><td>2.52</td></tr>\n",
       "\t<tr><th scope=row>131</th><td>Panama</td><td>14510</td><td>2.52</td></tr>\n",
       "\t<tr><th scope=row>150</th><td>Saudi Arabia</td><td>24700</td><td>2.76</td></tr>\n",
       "</tbody>\n",
       "</table>\n"
      ],
      "text/latex": [
       "\\begin{tabular}{r|lll}\n",
       "  & Country & GNI & FertilityRate\\\\\n",
       "\\hline\n",
       "\t23 & Botswana & 14550 & 2.71\\\\\n",
       "\t56 & Equatorial Guinea & 25620 & 5.04\\\\\n",
       "\t63 & Gabon & 13740 & 4.18\\\\\n",
       "\t83 & Israel & 27110 & 2.92\\\\\n",
       "\t88 & Kazakhstan & 11250 & 2.52\\\\\n",
       "\t131 & Panama & 14510 & 2.52\\\\\n",
       "\t150 & Saudi Arabia & 24700 & 2.76\\\\\n",
       "\\end{tabular}\n"
      ],
      "text/plain": [
       "              Country   GNI FertilityRate\n",
       "23           Botswana 14550          2.71\n",
       "56  Equatorial Guinea 25620          5.04\n",
       "63              Gabon 13740          4.18\n",
       "83             Israel 27110          2.92\n",
       "88         Kazakhstan 11250          2.52\n",
       "131            Panama 14510          2.52\n",
       "150      Saudi Arabia 24700          2.76"
      ]
     },
     "execution_count": 65,
     "metadata": {},
     "output_type": "execute_result"
    }
   ],
   "source": [
    "Outliers[c(\"Country\",\"GNI\",\"FertilityRate\")]"
   ]
  },
  {
   "cell_type": "code",
   "execution_count": 66,
   "metadata": {
    "collapsed": false
   },
   "outputs": [
    {
     "data": {
      "text/html": [
       "7"
      ],
      "text/latex": [
       "7"
      ],
      "text/markdown": [
       "7"
      ],
      "text/plain": [
       "[1] 7"
      ]
     },
     "execution_count": 66,
     "metadata": {},
     "output_type": "execute_result"
    }
   ],
   "source": [
    "nrow(Outliers)"
   ]
  },
  {
   "cell_type": "code",
   "execution_count": 67,
   "metadata": {
    "collapsed": false
   },
   "outputs": [
    {
     "data": {
      "image/png": "[encoded data removed]",
      "text/plain": [
       "Plot with title “Histogram of WHO$CellularSubscribers”"
      ]
     },
     "metadata": {
      "image/svg+xml": {
       "isolated": true
      }
     },
     "output_type": "display_data"
    }
   ],
   "source": [
    "hist(WHO$CellularSubscribers)"
   ]
  },
  {
   "cell_type": "code",
   "execution_count": 68,
   "metadata": {
    "collapsed": false
   },
   "outputs": [
    {
     "data": {
      "image/png": "[encoded data removed]",
      "text/plain": [
       "plot without title"
      ]
     },
     "metadata": {
      "image/svg+xml": {
       "isolated": true
      }
     },
     "output_type": "display_data"
    }
   ],
   "source": [
    "boxplot(WHO$LifeExpectancy~WHO$Region)"
   ]
  },
  {
   "cell_type": "code",
   "execution_count": 70,
   "metadata": {
    "collapsed": false
   },
   "outputs": [
    {
     "data": {
      "image/png": "[encoded data removed]",
      "text/plain": [
       "Plot with title “Life Expectancy for Different Regions”"
      ]
     },
     "metadata": {
      "image/svg+xml": {
       "isolated": true
      }
     },
     "output_type": "display_data"
    }
   ],
   "source": [
    "boxplot(WHO$LifeExpectancy~WHO$Region,ylab = \"Life Expectancy\", main = \"Life Expectancy for Different Regions\")"
   ]
  },
  {
   "cell_type": "code",
   "execution_count": 71,
   "metadata": {
    "collapsed": false
   },
   "outputs": [
    {
     "data": {
      "text/plain": [
       "\n",
       "               Africa              Americas Eastern Mediterranean \n",
       "                   46                    35                    22 \n",
       "               Europe       South-East Asia       Western Pacific \n",
       "                   53                    11                    27 "
      ]
     },
     "execution_count": 71,
     "metadata": {},
     "output_type": "execute_result"
    }
   ],
   "source": [
    "table(WHO$Region)"
   ]
  },
  {
   "cell_type": "code",
   "execution_count": 73,
   "metadata": {
    "collapsed": false
   },
   "outputs": [
    {
     "data": {
      "text/html": [
       "<dl class=dl-horizontal>\n",
       "\t<dt>Africa</dt>\n",
       "\t\t<dd>5.22065217391304</dd>\n",
       "\t<dt>Americas</dt>\n",
       "\t\t<dd>10.9437142857143</dd>\n",
       "\t<dt>Eastern Mediterranean</dt>\n",
       "\t\t<dd>5.62</dd>\n",
       "\t<dt>Europe</dt>\n",
       "\t\t<dd>19.7749056603774</dd>\n",
       "\t<dt>South-East Asia</dt>\n",
       "\t\t<dd>8.76909090909091</dd>\n",
       "\t<dt>Western Pacific</dt>\n",
       "\t\t<dd>10.162962962963</dd>\n",
       "</dl>\n"
      ],
      "text/latex": [
       "\\begin{description*}\n",
       "\\item[Africa] 5.22065217391304\n",
       "\\item[Americas] 10.9437142857143\n",
       "\\item[Eastern Mediterranean] 5.62\n",
       "\\item[Europe] 19.7749056603774\n",
       "\\item[South-East Asia] 8.76909090909091\n",
       "\\item[Western Pacific] 10.162962962963\n",
       "\\end{description*}\n"
      ],
      "text/markdown": [
       "Africa\n",
       ":   5.22065217391304Americas\n",
       ":   10.9437142857143Eastern Mediterranean\n",
       ":   5.62Europe\n",
       ":   19.7749056603774South-East Asia\n",
       ":   8.76909090909091Western Pacific\n",
       ":   10.162962962963\n",
       "\n"
      ],
      "text/plain": [
       "               Africa              Americas Eastern Mediterranean \n",
       "             5.220652             10.943714              5.620000 \n",
       "               Europe       South-East Asia       Western Pacific \n",
       "            19.774906              8.769091             10.162963 "
      ]
     },
     "execution_count": 73,
     "metadata": {},
     "output_type": "execute_result"
    }
   ],
   "source": [
    "tapply(WHO$Over60,WHO$Region, mean)"
   ]
  },
  {
   "cell_type": "code",
   "execution_count": 74,
   "metadata": {
    "collapsed": false
   },
   "outputs": [
    {
     "data": {
      "text/html": [
       "<dl class=dl-horizontal>\n",
       "\t<dt>Africa</dt>\n",
       "\t\t<dd>NA</dd>\n",
       "\t<dt>Americas</dt>\n",
       "\t\t<dd>NA</dd>\n",
       "\t<dt>Eastern Mediterranean</dt>\n",
       "\t\t<dd>NA</dd>\n",
       "\t<dt>Europe</dt>\n",
       "\t\t<dd>NA</dd>\n",
       "\t<dt>South-East Asia</dt>\n",
       "\t\t<dd>NA</dd>\n",
       "\t<dt>Western Pacific</dt>\n",
       "\t\t<dd>NA</dd>\n",
       "</dl>\n"
      ],
      "text/latex": [
       "\\begin{description*}\n",
       "\\item[Africa] NA\n",
       "\\item[Americas] NA\n",
       "\\item[Eastern Mediterranean] NA\n",
       "\\item[Europe] NA\n",
       "\\item[South-East Asia] NA\n",
       "\\item[Western Pacific] NA\n",
       "\\end{description*}\n"
      ],
      "text/markdown": [
       "Africa\n",
       ":   NAAmericas\n",
       ":   NAEastern Mediterranean\n",
       ":   NAEurope\n",
       ":   NASouth-East Asia\n",
       ":   NAWestern Pacific\n",
       ":   NA\n",
       "\n"
      ],
      "text/plain": [
       "               Africa              Americas Eastern Mediterranean \n",
       "                   NA                    NA                    NA \n",
       "               Europe       South-East Asia       Western Pacific \n",
       "                   NA                    NA                    NA "
      ]
     },
     "execution_count": 74,
     "metadata": {},
     "output_type": "execute_result"
    }
   ],
   "source": [
    "tapply(WHO$LiteracyRate,WHO$Region, min)"
   ]
  },
  {
   "cell_type": "code",
   "execution_count": 76,
   "metadata": {
    "collapsed": false
   },
   "outputs": [
    {
     "data": {
      "text/html": [
       "<dl class=dl-horizontal>\n",
       "\t<dt>Africa</dt>\n",
       "\t\t<dd>31.1</dd>\n",
       "\t<dt>Americas</dt>\n",
       "\t\t<dd>75.2</dd>\n",
       "\t<dt>Eastern Mediterranean</dt>\n",
       "\t\t<dd>63.9</dd>\n",
       "\t<dt>Europe</dt>\n",
       "\t\t<dd>95.2</dd>\n",
       "\t<dt>South-East Asia</dt>\n",
       "\t\t<dd>56.8</dd>\n",
       "\t<dt>Western Pacific</dt>\n",
       "\t\t<dd>60.6</dd>\n",
       "</dl>\n"
      ],
      "text/latex": [
       "\\begin{description*}\n",
       "\\item[Africa] 31.1\n",
       "\\item[Americas] 75.2\n",
       "\\item[Eastern Mediterranean] 63.9\n",
       "\\item[Europe] 95.2\n",
       "\\item[South-East Asia] 56.8\n",
       "\\item[Western Pacific] 60.6\n",
       "\\end{description*}\n"
      ],
      "text/markdown": [
       "Africa\n",
       ":   31.1Americas\n",
       ":   75.2Eastern Mediterranean\n",
       ":   63.9Europe\n",
       ":   95.2South-East Asia\n",
       ":   56.8Western Pacific\n",
       ":   60.6\n",
       "\n"
      ],
      "text/plain": [
       "               Africa              Americas Eastern Mediterranean \n",
       "                 31.1                  75.2                  63.9 \n",
       "               Europe       South-East Asia       Western Pacific \n",
       "                 95.2                  56.8                  60.6 "
      ]
     },
     "execution_count": 76,
     "metadata": {},
     "output_type": "execute_result"
    }
   ],
   "source": [
    "tapply(WHO$LiteracyRate,WHO$Region, min,na.rm=TRUE)"
   ]
  },
  {
   "cell_type": "code",
   "execution_count": 77,
   "metadata": {
    "collapsed": false
   },
   "outputs": [
    {
     "data": {
      "text/html": [
       "<dl class=dl-horizontal>\n",
       "\t<dt>Africa</dt>\n",
       "\t\t<dd>84.0369565217391</dd>\n",
       "\t<dt>Americas</dt>\n",
       "\t\t<dd>19.3228571428571</dd>\n",
       "\t<dt>Eastern Mediterranean</dt>\n",
       "\t\t<dd>40.25</dd>\n",
       "\t<dt>Europe</dt>\n",
       "\t\t<dd>10.0509433962264</dd>\n",
       "\t<dt>South-East Asia</dt>\n",
       "\t\t<dd>35.0454545454545</dd>\n",
       "\t<dt>Western Pacific</dt>\n",
       "\t\t<dd>24.7111111111111</dd>\n",
       "</dl>\n"
      ],
      "text/latex": [
       "\\begin{description*}\n",
       "\\item[Africa] 84.0369565217391\n",
       "\\item[Americas] 19.3228571428571\n",
       "\\item[Eastern Mediterranean] 40.25\n",
       "\\item[Europe] 10.0509433962264\n",
       "\\item[South-East Asia] 35.0454545454545\n",
       "\\item[Western Pacific] 24.7111111111111\n",
       "\\end{description*}\n"
      ],
      "text/markdown": [
       "Africa\n",
       ":   84.0369565217391Americas\n",
       ":   19.3228571428571Eastern Mediterranean\n",
       ":   40.25Europe\n",
       ":   10.0509433962264South-East Asia\n",
       ":   35.0454545454545Western Pacific\n",
       ":   24.7111111111111\n",
       "\n"
      ],
      "text/plain": [
       "               Africa              Americas Eastern Mediterranean \n",
       "             84.03696              19.32286              40.25000 \n",
       "               Europe       South-East Asia       Western Pacific \n",
       "             10.05094              35.04545              24.71111 "
      ]
     },
     "execution_count": 77,
     "metadata": {},
     "output_type": "execute_result"
    }
   ],
   "source": [
    "tapply(WHO$ChildMortality,WHO$Region,mean)"
   ]
  },
  {
   "cell_type": "code",
   "execution_count": 79,
   "metadata": {
    "collapsed": false
   },
   "outputs": [
    {
     "data": {
      "text/html": [
       "2"
      ],
      "text/latex": [
       "2"
      ],
      "text/markdown": [
       "2"
      ],
      "text/plain": [
       "[1] 2"
      ]
     },
     "execution_count": 79,
     "metadata": {},
     "output_type": "execute_result"
    }
   ],
   "source": [
    "which.min(c(4,1,6))"
   ]
  },
  {
   "cell_type": "code",
   "execution_count": null,
   "metadata": {
    "collapsed": true
   },
   "outputs": [],
   "source": []
  }
 ],
 "metadata": {
  "kernelspec": {
   "display_name": "R",
   "language": "R",
   "name": "ir"
  },
  "language_info": {
   "codemirror_mode": "r",
   "file_extension": ".r",
   "mimetype": "text/x-r-source",
   "name": "R",
   "pygments_lexer": "r",
   "version": "3.2.2"
  }
 },
 "nbformat": 4,
 "nbformat_minor": 0
}
