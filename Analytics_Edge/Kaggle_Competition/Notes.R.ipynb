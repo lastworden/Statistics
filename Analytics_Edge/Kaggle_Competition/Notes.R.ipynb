{
 "cells": [
  {
   "cell_type": "markdown",
   "metadata": {},
   "source": [
    "Refer   \n",
    "\n",
    "https://courses.edx.org/courses/course-v1:MITx+15.071x_3+1T2016/courseware/5893e4c5afb74898b8e7d9773e918208/26c038071b0743e99651501cb5a050dd/\n",
    "\n",
    "\n",
    "for data imputation as well as to know if glm automatically converts factor variables"
   ]
  },
  {
   "cell_type": "markdown",
   "metadata": {},
   "source": [
    "### Unit 3: Logistic Regression > Assignment 3 > Predicting Loan Repayment\n",
    "\n",
    "\n",
    "Predicting loan repayment\n",
    "\n",
    "In the lending industry, investors provide loans to borrowers in exchange for the promise of repayment with interest. If the borrower repays the loan, then the lender profits from the interest. However, if the borrower is unable to repay the loan, then the lender loses money. Therefore, lenders face the problem of predicting the risk of a borrower being unable to repay a loan.\n",
    "\n",
    "To address this problem, we will use publicly available data from LendingClub.com, a website that connects borrowers and investors over the Internet. This dataset represents 9,578 3-year loans that were funded through the LendingClub.com platform between May 2007 and February 2010. The binary dependent variable not_fully_paid indicates that the loan was not paid back in full (the borrower either defaulted or the loan was \"charged off,\" meaning the borrower was deemed unlikely to ever pay it back).\n",
    "\n",
    "To predict this dependent variable, we will use the following independent variables available to the investor when deciding whether to fund a loan:\n",
    "\n",
    "    credit.policy: 1 if the customer meets the credit underwriting criteria of LendingClub.com, and 0 otherwise.\n",
    "    purpose: The purpose of the loan (takes values \"credit_card\", \"debt_consolidation\", \"educational\", \"major_purchase\", \"small_business\", and \"all_other\").\n",
    "    int.rate: The interest rate of the loan, as a proportion (a rate of 11% would be stored as 0.11). Borrowers judged by LendingClub.com to be more risky are assigned higher interest rates.\n",
    "    installment: The monthly installments ($) owed by the borrower if the loan is funded.\n",
    "    log.annual.inc: The natural log of the self-reported annual income of the borrower.\n",
    "    dti: The debt-to-income ratio of the borrower (amount of debt divided by annual income).\n",
    "    fico: The FICO credit score of the borrower.\n",
    "    days.with.cr.line: The number of days the borrower has had a credit line.\n",
    "    revol.bal: The borrower's revolving balance (amount unpaid at the end of the credit card billing cycle).\n",
    "    revol.util: The borrower's revolving line utilization rate (the amount of the credit line used relative to total credit available).\n",
    "    inq.last.6mths: The borrower's number of inquiries by creditors in the last 6 months.\n",
    "    delinq.2yrs: The number of times the borrower had been 30+ days past due on a payment in the past 2 years.\n",
    "    pub.rec: The borrower's number of derogatory public records (bankruptcy filings, tax liens, or judgments).\n",
    "\n"
   ]
  },
  {
   "cell_type": "markdown",
   "metadata": {
    "collapsed": true
   },
   "source": [
    "lec04 in week4 for rnadomforest"
   ]
  },
  {
   "cell_type": "code",
   "execution_count": null,
   "metadata": {
    "collapsed": true
   },
   "outputs": [],
   "source": []
  }
 ],
 "metadata": {
  "kernelspec": {
   "display_name": "R",
   "language": "R",
   "name": "ir"
  },
  "language_info": {
   "codemirror_mode": "r",
   "file_extension": ".r",
   "mimetype": "text/x-r-source",
   "name": "R",
   "pygments_lexer": "r",
   "version": "3.2.2"
  }
 },
 "nbformat": 4,
 "nbformat_minor": 0
}
