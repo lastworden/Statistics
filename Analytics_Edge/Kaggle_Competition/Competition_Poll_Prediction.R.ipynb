{
 "cells": [
  {
   "cell_type": "code",
   "execution_count": 23,
   "metadata": {
    "collapsed": true
   },
   "outputs": [],
   "source": [
    "pollTrain = read.csv(\"train2016.csv\")"
   ]
  },
  {
   "cell_type": "code",
   "execution_count": 24,
   "metadata": {
    "collapsed": false
   },
   "outputs": [
    {
     "name": "stdout",
     "output_type": "stream",
     "text": [
      "'data.frame':\t5568 obs. of  108 variables:\n",
      " $ USER_ID        : int  1 4 5 8 9 10 11 12 13 15 ...\n",
      " $ YOB            : int  1938 1970 1997 1983 1984 1997 1983 1996 NA 1981 ...\n",
      " $ Gender         : Factor w/ 3 levels \"\",\"Female\",\"Male\": 3 2 3 3 2 2 3 3 3 2 ...\n",
      " $ Income         : Factor w/ 7 levels \"\",\"$100,001 - $150,000\",..: 1 6 5 2 4 6 3 5 1 4 ...\n",
      " $ HouseholdStatus: Factor w/ 7 levels \"\",\"Domestic Partners (no kids)\",..: 5 3 6 5 5 6 4 6 6 5 ...\n",
      " $ EducationLevel : Factor w/ 8 levels \"\",\"Associate's Degree\",..: 1 3 7 3 7 4 5 4 4 1 ...\n",
      " $ Party          : Factor w/ 2 levels \"Democrat\",\"Republican\": 1 1 2 1 2 1 1 2 2 2 ...\n",
      " $ Q124742        : Factor w/ 3 levels \"\",\"No\",\"Yes\": 2 1 1 2 2 1 1 3 2 2 ...\n",
      " $ Q124122        : Factor w/ 3 levels \"\",\"No\",\"Yes\": 1 3 3 3 3 1 1 3 1 2 ...\n",
      " $ Q123464        : Factor w/ 3 levels \"\",\"No\",\"Yes\": 2 2 3 2 2 1 1 2 3 2 ...\n",
      " $ Q123621        : Factor w/ 3 levels \"\",\"No\",\"Yes\": 2 2 2 3 2 1 1 2 2 2 ...\n",
      " $ Q122769        : Factor w/ 3 levels \"\",\"No\",\"Yes\": 2 2 1 2 2 2 1 2 1 3 ...\n",
      " $ Q122770        : Factor w/ 3 levels \"\",\"No\",\"Yes\": 3 3 3 2 3 3 1 3 3 2 ...\n",
      " $ Q122771        : Factor w/ 3 levels \"\",\"Private\",\"Public\": 3 3 2 3 3 3 1 2 3 3 ...\n",
      " $ Q122120        : Factor w/ 3 levels \"\",\"No\",\"Yes\": 2 2 2 2 2 2 1 3 3 2 ...\n",
      " $ Q121699        : Factor w/ 3 levels \"\",\"No\",\"Yes\": 3 3 2 3 3 2 1 2 2 3 ...\n",
      " $ Q121700        : Factor w/ 3 levels \"\",\"No\",\"Yes\": 2 2 2 2 2 2 1 2 2 2 ...\n",
      " $ Q120978        : Factor w/ 3 levels \"\",\"No\",\"Yes\": 1 3 3 3 3 3 1 2 3 3 ...\n",
      " $ Q121011        : Factor w/ 3 levels \"\",\"No\",\"Yes\": 2 2 2 2 3 2 1 2 2 3 ...\n",
      " $ Q120379        : Factor w/ 3 levels \"\",\"No\",\"Yes\": 2 2 2 2 2 3 1 3 3 2 ...\n",
      " $ Q120650        : Factor w/ 3 levels \"\",\"No\",\"Yes\": 3 3 3 3 3 3 1 3 1 3 ...\n",
      " $ Q120472        : Factor w/ 3 levels \"\",\"Art\",\"Science\": 1 3 3 3 2 3 1 3 3 2 ...\n",
      " $ Q120194        : Factor w/ 3 levels \"\",\"Study first\",..: 3 2 2 3 3 3 1 3 2 3 ...\n",
      " $ Q120012        : Factor w/ 3 levels \"\",\"No\",\"Yes\": 2 3 1 2 3 3 1 2 2 3 ...\n",
      " $ Q120014        : Factor w/ 3 levels \"\",\"No\",\"Yes\": 2 3 3 3 2 3 1 3 2 2 ...\n",
      " $ Q119334        : Factor w/ 3 levels \"\",\"No\",\"Yes\": 1 2 2 3 2 2 2 2 1 2 ...\n",
      " $ Q119851        : Factor w/ 3 levels \"\",\"No\",\"Yes\": 3 2 3 2 2 3 1 2 2 3 ...\n",
      " $ Q119650        : Factor w/ 3 levels \"\",\"Giving\",\"Receiving\": 1 3 3 2 2 3 1 3 3 2 ...\n",
      " $ Q118892        : Factor w/ 3 levels \"\",\"No\",\"Yes\": 3 2 2 3 2 2 2 3 1 2 ...\n",
      " $ Q118117        : Factor w/ 3 levels \"\",\"No\",\"Yes\": 3 2 3 2 2 2 2 2 3 3 ...\n",
      " $ Q118232        : Factor w/ 3 levels \"\",\"Idealist\",..: 2 3 3 2 2 3 3 2 1 2 ...\n",
      " $ Q118233        : Factor w/ 3 levels \"\",\"No\",\"Yes\": 2 2 2 2 3 2 2 2 2 3 ...\n",
      " $ Q118237        : Factor w/ 3 levels \"\",\"No\",\"Yes\": 2 2 3 2 3 2 3 3 3 3 ...\n",
      " $ Q117186        : Factor w/ 3 levels \"\",\"Cool headed\",..: 1 2 2 2 3 1 2 2 2 2 ...\n",
      " $ Q117193        : Factor w/ 3 levels \"\",\"Odd hours\",..: 1 3 2 3 3 3 2 3 1 3 ...\n",
      " $ Q116797        : Factor w/ 3 levels \"\",\"No\",\"Yes\": 3 2 2 2 2 1 2 2 2 3 ...\n",
      " $ Q116881        : Factor w/ 3 levels \"\",\"Happy\",\"Right\": 2 2 3 2 2 1 2 3 2 2 ...\n",
      " $ Q116953        : Factor w/ 3 levels \"\",\"No\",\"Yes\": 3 3 3 3 3 1 2 2 3 2 ...\n",
      " $ Q116601        : Factor w/ 3 levels \"\",\"No\",\"Yes\": 3 3 2 3 3 1 3 2 2 3 ...\n",
      " $ Q116441        : Factor w/ 3 levels \"\",\"No\",\"Yes\": 2 3 2 2 2 1 2 2 2 3 ...\n",
      " $ Q116448        : Factor w/ 3 levels \"\",\"No\",\"Yes\": 2 2 3 2 3 1 3 2 2 3 ...\n",
      " $ Q116197        : Factor w/ 3 levels \"\",\"A.M.\",\"P.M.\": 3 2 2 2 3 1 3 3 3 3 ...\n",
      " $ Q115602        : Factor w/ 3 levels \"\",\"No\",\"Yes\": 3 2 3 3 2 1 3 3 3 3 ...\n",
      " $ Q115777        : Factor w/ 3 levels \"\",\"End\",\"Start\": 3 2 3 3 2 1 2 3 3 3 ...\n",
      " $ Q115610        : Factor w/ 3 levels \"\",\"No\",\"Yes\": 3 3 3 3 2 1 3 3 3 3 ...\n",
      " $ Q115611        : Factor w/ 3 levels \"\",\"No\",\"Yes\": 2 2 3 2 2 1 2 3 2 3 ...\n",
      " $ Q115899        : Factor w/ 3 levels \"\",\"Circumstances\",..: 2 3 2 2 3 1 3 2 3 3 ...\n",
      " $ Q115390        : Factor w/ 3 levels \"\",\"No\",\"Yes\": 3 3 2 3 2 1 3 2 3 3 ...\n",
      " $ Q114961        : Factor w/ 3 levels \"\",\"No\",\"Yes\": 3 3 3 2 3 1 3 2 3 2 ...\n",
      " $ Q114748        : Factor w/ 3 levels \"\",\"No\",\"Yes\": 3 2 2 2 3 1 2 3 3 2 ...\n",
      " $ Q115195        : Factor w/ 3 levels \"\",\"No\",\"Yes\": 3 3 3 3 3 1 3 2 1 2 ...\n",
      " $ Q114517        : Factor w/ 3 levels \"\",\"No\",\"Yes\": 2 2 3 2 3 1 1 2 1 2 ...\n",
      " $ Q114386        : Factor w/ 3 levels \"\",\"Mysterious\",..: 1 2 2 3 3 1 1 2 1 3 ...\n",
      " $ Q113992        : Factor w/ 3 levels \"\",\"No\",\"Yes\": 3 2 2 2 3 1 1 2 1 2 ...\n",
      " $ Q114152        : Factor w/ 3 levels \"\",\"No\",\"Yes\": 3 2 2 2 2 1 1 2 1 3 ...\n",
      " $ Q113583        : Factor w/ 3 levels \"\",\"Talk\",\"Tunes\": 2 1 3 2 3 1 1 3 3 3 ...\n",
      " $ Q113584        : Factor w/ 3 levels \"\",\"People\",\"Technology\": 3 1 3 2 2 1 1 2 3 3 ...\n",
      " $ Q113181        : Factor w/ 3 levels \"\",\"No\",\"Yes\": 2 1 3 2 2 1 1 3 1 3 ...\n",
      " $ Q112478        : Factor w/ 3 levels \"\",\"No\",\"Yes\": 2 1 3 3 2 1 1 2 1 2 ...\n",
      " $ Q112512        : Factor w/ 3 levels \"\",\"No\",\"Yes\": 3 1 3 3 3 1 1 3 3 3 ...\n",
      " $ Q112270        : Factor w/ 3 levels \"\",\"No\",\"Yes\": 1 1 3 3 2 1 1 3 2 3 ...\n",
      " $ Q111848        : Factor w/ 3 levels \"\",\"No\",\"Yes\": 2 1 2 3 2 3 1 3 3 2 ...\n",
      " $ Q111580        : Factor w/ 3 levels \"\",\"Demanding\",..: 2 1 3 3 2 3 3 2 2 2 ...\n",
      " $ Q111220        : Factor w/ 3 levels \"\",\"No\",\"Yes\": 2 1 2 2 3 2 2 2 2 3 ...\n",
      " $ Q110740        : Factor w/ 3 levels \"\",\"Mac\",\"PC\": 1 2 3 2 3 3 3 3 3 3 ...\n",
      " $ Q109367        : Factor w/ 3 levels \"\",\"No\",\"Yes\": 2 3 2 3 3 1 3 2 2 3 ...\n",
      " $ Q108950        : Factor w/ 3 levels \"\",\"Cautious\",..: 2 2 2 3 2 1 2 2 1 2 ...\n",
      " $ Q109244        : Factor w/ 3 levels \"\",\"No\",\"Yes\": 2 2 2 2 2 1 3 2 2 2 ...\n",
      " $ Q108855        : Factor w/ 3 levels \"\",\"Umm...\",\"Yes!\": 3 2 2 2 3 1 2 3 1 3 ...\n",
      " $ Q108617        : Factor w/ 3 levels \"\",\"No\",\"Yes\": 2 2 2 2 2 1 2 2 2 2 ...\n",
      " $ Q108856        : Factor w/ 3 levels \"\",\"Socialize\",..: 3 3 3 2 2 1 1 2 3 2 ...\n",
      " $ Q108754        : Factor w/ 3 levels \"\",\"No\",\"Yes\": 2 3 2 3 2 1 2 2 2 2 ...\n",
      " $ Q108342        : Factor w/ 3 levels \"\",\"In-person\",..: 2 2 2 3 3 2 3 2 1 3 ...\n",
      " $ Q108343        : Factor w/ 3 levels \"\",\"No\",\"Yes\": 1 2 2 2 2 2 3 2 1 3 ...\n",
      " $ Q107869        : Factor w/ 3 levels \"\",\"No\",\"Yes\": 3 3 2 3 2 2 1 2 1 3 ...\n",
      " $ Q107491        : Factor w/ 3 levels \"\",\"No\",\"Yes\": 2 3 3 2 3 3 3 3 3 3 ...\n",
      " $ Q106993        : Factor w/ 3 levels \"\",\"No\",\"Yes\": 3 2 3 3 3 3 2 3 3 3 ...\n",
      " $ Q106997        : Factor w/ 3 levels \"\",\"Grrr people\",..: 3 3 2 2 3 2 2 2 2 3 ...\n",
      " $ Q106272        : Factor w/ 3 levels \"\",\"No\",\"Yes\": 3 3 3 2 3 3 3 3 1 2 ...\n",
      " $ Q106388        : Factor w/ 3 levels \"\",\"No\",\"Yes\": 2 3 2 2 2 2 2 2 2 2 ...\n",
      " $ Q106389        : Factor w/ 3 levels \"\",\"No\",\"Yes\": 3 3 2 3 3 3 3 3 3 2 ...\n",
      " $ Q106042        : Factor w/ 3 levels \"\",\"No\",\"Yes\": 3 3 2 3 3 3 1 2 2 3 ...\n",
      " $ Q105840        : Factor w/ 3 levels \"\",\"No\",\"Yes\": 1 3 2 2 3 2 3 2 2 3 ...\n",
      " $ Q105655        : Factor w/ 3 levels \"\",\"No\",\"Yes\": 2 2 2 3 3 2 2 3 3 3 ...\n",
      " $ Q104996        : Factor w/ 3 levels \"\",\"No\",\"Yes\": 3 3 2 3 2 3 2 2 2 3 ...\n",
      " $ Q103293        : Factor w/ 3 levels \"\",\"No\",\"Yes\": 2 1 3 2 2 3 3 3 3 3 ...\n",
      " $ Q102906        : Factor w/ 3 levels \"\",\"No\",\"Yes\": 2 1 2 2 2 3 3 2 2 3 ...\n",
      " $ Q102674        : Factor w/ 3 levels \"\",\"No\",\"Yes\": 2 1 2 2 3 2 2 2 1 2 ...\n",
      " $ Q102687        : Factor w/ 3 levels \"\",\"No\",\"Yes\": 3 1 3 3 2 3 2 3 3 2 ...\n",
      " $ Q102289        : Factor w/ 3 levels \"\",\"No\",\"Yes\": 2 1 2 3 2 1 1 2 2 2 ...\n",
      " $ Q102089        : Factor w/ 3 levels \"\",\"Own\",\"Rent\": 2 1 2 2 2 1 2 2 1 2 ...\n",
      " $ Q101162        : Factor w/ 3 levels \"\",\"Optimist\",..: 2 1 3 2 2 1 3 3 2 2 ...\n",
      " $ Q101163        : Factor w/ 3 levels \"\",\"Dad\",\"Mom\": 1 1 3 3 3 1 1 3 2 3 ...\n",
      " $ Q101596        : Factor w/ 3 levels \"\",\"No\",\"Yes\": 3 1 2 2 2 1 1 3 2 2 ...\n",
      " $ Q100689        : Factor w/ 3 levels \"\",\"No\",\"Yes\": 3 1 2 2 3 1 3 3 2 3 ...\n",
      " $ Q100680        : Factor w/ 3 levels \"\",\"No\",\"Yes\": 2 1 2 2 3 1 3 2 3 3 ...\n",
      " $ Q100562        : Factor w/ 3 levels \"\",\"No\",\"Yes\": 2 1 2 3 3 1 3 3 2 3 ...\n",
      " $ Q99982         : Factor w/ 3 levels \"\",\"Check!\",\"Nope\": 3 1 3 2 3 1 1 3 3 2 ...\n",
      " $ Q100010        : Factor w/ 3 levels \"\",\"No\",\"Yes\": 3 1 3 2 3 1 3 3 3 3 ...\n",
      "  [list output truncated]\n"
     ]
    }
   ],
   "source": [
    "str(pollTrain)"
   ]
  },
  {
   "cell_type": "code",
   "execution_count": 25,
   "metadata": {
    "collapsed": true
   },
   "outputs": [],
   "source": [
    "pollTest = read.csv(\"test2016.csv\")"
   ]
  },
  {
   "cell_type": "code",
   "execution_count": 26,
   "metadata": {
    "collapsed": false
   },
   "outputs": [
    {
     "data": {
      "text/html": [
       "<dl class=dl-horizontal>\n",
       "\t<dt>Democrat</dt>\n",
       "\t\t<dd>2951</dd>\n",
       "\t<dt>Republican</dt>\n",
       "\t\t<dd>2617</dd>\n",
       "</dl>\n"
      ],
      "text/latex": [
       "\\begin{description*}\n",
       "\\item[Democrat] 2951\n",
       "\\item[Republican] 2617\n",
       "\\end{description*}\n"
      ],
      "text/markdown": [
       "Democrat\n",
       ":   2951Republican\n",
       ":   2617\n",
       "\n"
      ],
      "text/plain": [
       "  Democrat Republican \n",
       "      2951       2617 "
      ]
     },
     "execution_count": 26,
     "metadata": {},
     "output_type": "execute_result"
    }
   ],
   "source": [
    "summary(pollTrain$Party)"
   ]
  },
  {
   "cell_type": "code",
   "execution_count": 27,
   "metadata": {
    "collapsed": false
   },
   "outputs": [
    {
     "data": {
      "text/html": [
       "<ol class=list-inline>\n",
       "\t<li>'USER_ID'</li>\n",
       "\t<li>'YOB'</li>\n",
       "\t<li>'Gender'</li>\n",
       "\t<li>'Income'</li>\n",
       "\t<li>'HouseholdStatus'</li>\n",
       "\t<li>'EducationLevel'</li>\n",
       "\t<li>'Party'</li>\n",
       "\t<li>'Q124742'</li>\n",
       "\t<li>'Q124122'</li>\n",
       "\t<li>'Q123464'</li>\n",
       "\t<li>'Q123621'</li>\n",
       "\t<li>'Q122769'</li>\n",
       "\t<li>'Q122770'</li>\n",
       "\t<li>'Q122771'</li>\n",
       "\t<li>'Q122120'</li>\n",
       "\t<li>'Q121699'</li>\n",
       "\t<li>'Q121700'</li>\n",
       "\t<li>'Q120978'</li>\n",
       "\t<li>'Q121011'</li>\n",
       "\t<li>'Q120379'</li>\n",
       "\t<li>'Q120650'</li>\n",
       "\t<li>'Q120472'</li>\n",
       "\t<li>'Q120194'</li>\n",
       "\t<li>'Q120012'</li>\n",
       "\t<li>'Q120014'</li>\n",
       "\t<li>'Q119334'</li>\n",
       "\t<li>'Q119851'</li>\n",
       "\t<li>'Q119650'</li>\n",
       "\t<li>'Q118892'</li>\n",
       "\t<li>'Q118117'</li>\n",
       "\t<li>'Q118232'</li>\n",
       "\t<li>'Q118233'</li>\n",
       "\t<li>'Q118237'</li>\n",
       "\t<li>'Q117186'</li>\n",
       "\t<li>'Q117193'</li>\n",
       "\t<li>'Q116797'</li>\n",
       "\t<li>'Q116881'</li>\n",
       "\t<li>'Q116953'</li>\n",
       "\t<li>'Q116601'</li>\n",
       "\t<li>'Q116441'</li>\n",
       "\t<li>'Q116448'</li>\n",
       "\t<li>'Q116197'</li>\n",
       "\t<li>'Q115602'</li>\n",
       "\t<li>'Q115777'</li>\n",
       "\t<li>'Q115610'</li>\n",
       "\t<li>'Q115611'</li>\n",
       "\t<li>'Q115899'</li>\n",
       "\t<li>'Q115390'</li>\n",
       "\t<li>'Q114961'</li>\n",
       "\t<li>'Q114748'</li>\n",
       "\t<li>'Q115195'</li>\n",
       "\t<li>'Q114517'</li>\n",
       "\t<li>'Q114386'</li>\n",
       "\t<li>'Q113992'</li>\n",
       "\t<li>'Q114152'</li>\n",
       "\t<li>'Q113583'</li>\n",
       "\t<li>'Q113584'</li>\n",
       "\t<li>'Q113181'</li>\n",
       "\t<li>'Q112478'</li>\n",
       "\t<li>'Q112512'</li>\n",
       "\t<li>'Q112270'</li>\n",
       "\t<li>'Q111848'</li>\n",
       "\t<li>'Q111580'</li>\n",
       "\t<li>'Q111220'</li>\n",
       "\t<li>'Q110740'</li>\n",
       "\t<li>'Q109367'</li>\n",
       "\t<li>'Q108950'</li>\n",
       "\t<li>'Q109244'</li>\n",
       "\t<li>'Q108855'</li>\n",
       "\t<li>'Q108617'</li>\n",
       "\t<li>'Q108856'</li>\n",
       "\t<li>'Q108754'</li>\n",
       "\t<li>'Q108342'</li>\n",
       "\t<li>'Q108343'</li>\n",
       "\t<li>'Q107869'</li>\n",
       "\t<li>'Q107491'</li>\n",
       "\t<li>'Q106993'</li>\n",
       "\t<li>'Q106997'</li>\n",
       "\t<li>'Q106272'</li>\n",
       "\t<li>'Q106388'</li>\n",
       "\t<li>'Q106389'</li>\n",
       "\t<li>'Q106042'</li>\n",
       "\t<li>'Q105840'</li>\n",
       "\t<li>'Q105655'</li>\n",
       "\t<li>'Q104996'</li>\n",
       "\t<li>'Q103293'</li>\n",
       "\t<li>'Q102906'</li>\n",
       "\t<li>'Q102674'</li>\n",
       "\t<li>'Q102687'</li>\n",
       "\t<li>'Q102289'</li>\n",
       "\t<li>'Q102089'</li>\n",
       "\t<li>'Q101162'</li>\n",
       "\t<li>'Q101163'</li>\n",
       "\t<li>'Q101596'</li>\n",
       "\t<li>'Q100689'</li>\n",
       "\t<li>'Q100680'</li>\n",
       "\t<li>'Q100562'</li>\n",
       "\t<li>'Q99982'</li>\n",
       "\t<li>'Q100010'</li>\n",
       "\t<li>'Q99716'</li>\n",
       "\t<li>'Q99581'</li>\n",
       "\t<li>'Q99480'</li>\n",
       "\t<li>'Q98869'</li>\n",
       "\t<li>'Q98578'</li>\n",
       "\t<li>'Q98059'</li>\n",
       "\t<li>'Q98078'</li>\n",
       "\t<li>'Q98197'</li>\n",
       "\t<li>'Q96024'</li>\n",
       "</ol>\n"
      ],
      "text/latex": [
       "\\begin{enumerate*}\n",
       "\\item 'USER_ID'\n",
       "\\item 'YOB'\n",
       "\\item 'Gender'\n",
       "\\item 'Income'\n",
       "\\item 'HouseholdStatus'\n",
       "\\item 'EducationLevel'\n",
       "\\item 'Party'\n",
       "\\item 'Q124742'\n",
       "\\item 'Q124122'\n",
       "\\item 'Q123464'\n",
       "\\item 'Q123621'\n",
       "\\item 'Q122769'\n",
       "\\item 'Q122770'\n",
       "\\item 'Q122771'\n",
       "\\item 'Q122120'\n",
       "\\item 'Q121699'\n",
       "\\item 'Q121700'\n",
       "\\item 'Q120978'\n",
       "\\item 'Q121011'\n",
       "\\item 'Q120379'\n",
       "\\item 'Q120650'\n",
       "\\item 'Q120472'\n",
       "\\item 'Q120194'\n",
       "\\item 'Q120012'\n",
       "\\item 'Q120014'\n",
       "\\item 'Q119334'\n",
       "\\item 'Q119851'\n",
       "\\item 'Q119650'\n",
       "\\item 'Q118892'\n",
       "\\item 'Q118117'\n",
       "\\item 'Q118232'\n",
       "\\item 'Q118233'\n",
       "\\item 'Q118237'\n",
       "\\item 'Q117186'\n",
       "\\item 'Q117193'\n",
       "\\item 'Q116797'\n",
       "\\item 'Q116881'\n",
       "\\item 'Q116953'\n",
       "\\item 'Q116601'\n",
       "\\item 'Q116441'\n",
       "\\item 'Q116448'\n",
       "\\item 'Q116197'\n",
       "\\item 'Q115602'\n",
       "\\item 'Q115777'\n",
       "\\item 'Q115610'\n",
       "\\item 'Q115611'\n",
       "\\item 'Q115899'\n",
       "\\item 'Q115390'\n",
       "\\item 'Q114961'\n",
       "\\item 'Q114748'\n",
       "\\item 'Q115195'\n",
       "\\item 'Q114517'\n",
       "\\item 'Q114386'\n",
       "\\item 'Q113992'\n",
       "\\item 'Q114152'\n",
       "\\item 'Q113583'\n",
       "\\item 'Q113584'\n",
       "\\item 'Q113181'\n",
       "\\item 'Q112478'\n",
       "\\item 'Q112512'\n",
       "\\item 'Q112270'\n",
       "\\item 'Q111848'\n",
       "\\item 'Q111580'\n",
       "\\item 'Q111220'\n",
       "\\item 'Q110740'\n",
       "\\item 'Q109367'\n",
       "\\item 'Q108950'\n",
       "\\item 'Q109244'\n",
       "\\item 'Q108855'\n",
       "\\item 'Q108617'\n",
       "\\item 'Q108856'\n",
       "\\item 'Q108754'\n",
       "\\item 'Q108342'\n",
       "\\item 'Q108343'\n",
       "\\item 'Q107869'\n",
       "\\item 'Q107491'\n",
       "\\item 'Q106993'\n",
       "\\item 'Q106997'\n",
       "\\item 'Q106272'\n",
       "\\item 'Q106388'\n",
       "\\item 'Q106389'\n",
       "\\item 'Q106042'\n",
       "\\item 'Q105840'\n",
       "\\item 'Q105655'\n",
       "\\item 'Q104996'\n",
       "\\item 'Q103293'\n",
       "\\item 'Q102906'\n",
       "\\item 'Q102674'\n",
       "\\item 'Q102687'\n",
       "\\item 'Q102289'\n",
       "\\item 'Q102089'\n",
       "\\item 'Q101162'\n",
       "\\item 'Q101163'\n",
       "\\item 'Q101596'\n",
       "\\item 'Q100689'\n",
       "\\item 'Q100680'\n",
       "\\item 'Q100562'\n",
       "\\item 'Q99982'\n",
       "\\item 'Q100010'\n",
       "\\item 'Q99716'\n",
       "\\item 'Q99581'\n",
       "\\item 'Q99480'\n",
       "\\item 'Q98869'\n",
       "\\item 'Q98578'\n",
       "\\item 'Q98059'\n",
       "\\item 'Q98078'\n",
       "\\item 'Q98197'\n",
       "\\item 'Q96024'\n",
       "\\end{enumerate*}\n"
      ],
      "text/markdown": [
       "1. 'USER_ID'\n",
       "2. 'YOB'\n",
       "3. 'Gender'\n",
       "4. 'Income'\n",
       "5. 'HouseholdStatus'\n",
       "6. 'EducationLevel'\n",
       "7. 'Party'\n",
       "8. 'Q124742'\n",
       "9. 'Q124122'\n",
       "10. 'Q123464'\n",
       "11. 'Q123621'\n",
       "12. 'Q122769'\n",
       "13. 'Q122770'\n",
       "14. 'Q122771'\n",
       "15. 'Q122120'\n",
       "16. 'Q121699'\n",
       "17. 'Q121700'\n",
       "18. 'Q120978'\n",
       "19. 'Q121011'\n",
       "20. 'Q120379'\n",
       "21. 'Q120650'\n",
       "22. 'Q120472'\n",
       "23. 'Q120194'\n",
       "24. 'Q120012'\n",
       "25. 'Q120014'\n",
       "26. 'Q119334'\n",
       "27. 'Q119851'\n",
       "28. 'Q119650'\n",
       "29. 'Q118892'\n",
       "30. 'Q118117'\n",
       "31. 'Q118232'\n",
       "32. 'Q118233'\n",
       "33. 'Q118237'\n",
       "34. 'Q117186'\n",
       "35. 'Q117193'\n",
       "36. 'Q116797'\n",
       "37. 'Q116881'\n",
       "38. 'Q116953'\n",
       "39. 'Q116601'\n",
       "40. 'Q116441'\n",
       "41. 'Q116448'\n",
       "42. 'Q116197'\n",
       "43. 'Q115602'\n",
       "44. 'Q115777'\n",
       "45. 'Q115610'\n",
       "46. 'Q115611'\n",
       "47. 'Q115899'\n",
       "48. 'Q115390'\n",
       "49. 'Q114961'\n",
       "50. 'Q114748'\n",
       "51. 'Q115195'\n",
       "52. 'Q114517'\n",
       "53. 'Q114386'\n",
       "54. 'Q113992'\n",
       "55. 'Q114152'\n",
       "56. 'Q113583'\n",
       "57. 'Q113584'\n",
       "58. 'Q113181'\n",
       "59. 'Q112478'\n",
       "60. 'Q112512'\n",
       "61. 'Q112270'\n",
       "62. 'Q111848'\n",
       "63. 'Q111580'\n",
       "64. 'Q111220'\n",
       "65. 'Q110740'\n",
       "66. 'Q109367'\n",
       "67. 'Q108950'\n",
       "68. 'Q109244'\n",
       "69. 'Q108855'\n",
       "70. 'Q108617'\n",
       "71. 'Q108856'\n",
       "72. 'Q108754'\n",
       "73. 'Q108342'\n",
       "74. 'Q108343'\n",
       "75. 'Q107869'\n",
       "76. 'Q107491'\n",
       "77. 'Q106993'\n",
       "78. 'Q106997'\n",
       "79. 'Q106272'\n",
       "80. 'Q106388'\n",
       "81. 'Q106389'\n",
       "82. 'Q106042'\n",
       "83. 'Q105840'\n",
       "84. 'Q105655'\n",
       "85. 'Q104996'\n",
       "86. 'Q103293'\n",
       "87. 'Q102906'\n",
       "88. 'Q102674'\n",
       "89. 'Q102687'\n",
       "90. 'Q102289'\n",
       "91. 'Q102089'\n",
       "92. 'Q101162'\n",
       "93. 'Q101163'\n",
       "94. 'Q101596'\n",
       "95. 'Q100689'\n",
       "96. 'Q100680'\n",
       "97. 'Q100562'\n",
       "98. 'Q99982'\n",
       "99. 'Q100010'\n",
       "100. 'Q99716'\n",
       "101. 'Q99581'\n",
       "102. 'Q99480'\n",
       "103. 'Q98869'\n",
       "104. 'Q98578'\n",
       "105. 'Q98059'\n",
       "106. 'Q98078'\n",
       "107. 'Q98197'\n",
       "108. 'Q96024'\n",
       "\n",
       "\n"
      ],
      "text/plain": [
       "  [1] \"USER_ID\"         \"YOB\"             \"Gender\"          \"Income\"         \n",
       "  [5] \"HouseholdStatus\" \"EducationLevel\"  \"Party\"           \"Q124742\"        \n",
       "  [9] \"Q124122\"         \"Q123464\"         \"Q123621\"         \"Q122769\"        \n",
       " [13] \"Q122770\"         \"Q122771\"         \"Q122120\"         \"Q121699\"        \n",
       " [17] \"Q121700\"         \"Q120978\"         \"Q121011\"         \"Q120379\"        \n",
       " [21] \"Q120650\"         \"Q120472\"         \"Q120194\"         \"Q120012\"        \n",
       " [25] \"Q120014\"         \"Q119334\"         \"Q119851\"         \"Q119650\"        \n",
       " [29] \"Q118892\"         \"Q118117\"         \"Q118232\"         \"Q118233\"        \n",
       " [33] \"Q118237\"         \"Q117186\"         \"Q117193\"         \"Q116797\"        \n",
       " [37] \"Q116881\"         \"Q116953\"         \"Q116601\"         \"Q116441\"        \n",
       " [41] \"Q116448\"         \"Q116197\"         \"Q115602\"         \"Q115777\"        \n",
       " [45] \"Q115610\"         \"Q115611\"         \"Q115899\"         \"Q115390\"        \n",
       " [49] \"Q114961\"         \"Q114748\"         \"Q115195\"         \"Q114517\"        \n",
       " [53] \"Q114386\"         \"Q113992\"         \"Q114152\"         \"Q113583\"        \n",
       " [57] \"Q113584\"         \"Q113181\"         \"Q112478\"         \"Q112512\"        \n",
       " [61] \"Q112270\"         \"Q111848\"         \"Q111580\"         \"Q111220\"        \n",
       " [65] \"Q110740\"         \"Q109367\"         \"Q108950\"         \"Q109244\"        \n",
       " [69] \"Q108855\"         \"Q108617\"         \"Q108856\"         \"Q108754\"        \n",
       " [73] \"Q108342\"         \"Q108343\"         \"Q107869\"         \"Q107491\"        \n",
       " [77] \"Q106993\"         \"Q106997\"         \"Q106272\"         \"Q106388\"        \n",
       " [81] \"Q106389\"         \"Q106042\"         \"Q105840\"         \"Q105655\"        \n",
       " [85] \"Q104996\"         \"Q103293\"         \"Q102906\"         \"Q102674\"        \n",
       " [89] \"Q102687\"         \"Q102289\"         \"Q102089\"         \"Q101162\"        \n",
       " [93] \"Q101163\"         \"Q101596\"         \"Q100689\"         \"Q100680\"        \n",
       " [97] \"Q100562\"         \"Q99982\"          \"Q100010\"         \"Q99716\"         \n",
       "[101] \"Q99581\"          \"Q99480\"          \"Q98869\"          \"Q98578\"         \n",
       "[105] \"Q98059\"          \"Q98078\"          \"Q98197\"          \"Q96024\"         "
      ]
     },
     "execution_count": 27,
     "metadata": {},
     "output_type": "execute_result"
    }
   ],
   "source": [
    "names(pollTrain)"
   ]
  },
  {
   "cell_type": "code",
   "execution_count": 28,
   "metadata": {
    "collapsed": false
   },
   "outputs": [
    {
     "data": {
      "text/plain": [
       "\n",
       "  Democrat Republican \n",
       "      2951       2617 "
      ]
     },
     "execution_count": 28,
     "metadata": {},
     "output_type": "execute_result"
    }
   ],
   "source": [
    "table(pollTrain$Party)"
   ]
  },
  {
   "cell_type": "code",
   "execution_count": 29,
   "metadata": {
    "collapsed": false
   },
   "outputs": [
    {
     "data": {
      "text/html": [
       "0.529992816091954"
      ],
      "text/latex": [
       "0.529992816091954"
      ],
      "text/markdown": [
       "0.529992816091954"
      ],
      "text/plain": [
       "[1] 0.5299928"
      ]
     },
     "execution_count": 29,
     "metadata": {},
     "output_type": "execute_result"
    }
   ],
   "source": [
    "2951/(2951+2617)"
   ]
  },
  {
   "cell_type": "code",
   "execution_count": 30,
   "metadata": {
    "collapsed": true
   },
   "outputs": [],
   "source": [
    "library(caTools)"
   ]
  },
  {
   "cell_type": "code",
   "execution_count": 31,
   "metadata": {
    "collapsed": false
   },
   "outputs": [
    {
     "data": {
      "text/html": [
       "<ol class=list-inline>\n",
       "\t<li>FALSE</li>\n",
       "\t<li>TRUE</li>\n",
       "\t<li>TRUE</li>\n",
       "\t<li>FALSE</li>\n",
       "\t<li>TRUE</li>\n",
       "\t<li>TRUE</li>\n",
       "\t<li>TRUE</li>\n",
       "\t<li>FALSE</li>\n",
       "\t<li>TRUE</li>\n",
       "\t<li>TRUE</li>\n",
       "</ol>\n"
      ],
      "text/latex": [
       "\\begin{enumerate*}\n",
       "\\item FALSE\n",
       "\\item TRUE\n",
       "\\item TRUE\n",
       "\\item FALSE\n",
       "\\item TRUE\n",
       "\\item TRUE\n",
       "\\item TRUE\n",
       "\\item FALSE\n",
       "\\item TRUE\n",
       "\\item TRUE\n",
       "\\end{enumerate*}\n"
      ],
      "text/markdown": [
       "1. FALSE\n",
       "2. TRUE\n",
       "3. TRUE\n",
       "4. FALSE\n",
       "5. TRUE\n",
       "6. TRUE\n",
       "7. TRUE\n",
       "8. FALSE\n",
       "9. TRUE\n",
       "10. TRUE\n",
       "\n",
       "\n"
      ],
      "text/plain": [
       " [1] FALSE  TRUE  TRUE FALSE  TRUE  TRUE  TRUE FALSE  TRUE  TRUE"
      ]
     },
     "execution_count": 31,
     "metadata": {},
     "output_type": "execute_result"
    },
    {
     "data": {
      "text/html": [
       "5568"
      ],
      "text/latex": [
       "5568"
      ],
      "text/markdown": [
       "5568"
      ],
      "text/plain": [
       "[1] 5568"
      ]
     },
     "execution_count": 31,
     "metadata": {},
     "output_type": "execute_result"
    },
    {
     "data": {
      "text/html": [
       "3866"
      ],
      "text/latex": [
       "3866"
      ],
      "text/markdown": [
       "3866"
      ],
      "text/plain": [
       "[1] 3866"
      ]
     },
     "execution_count": 31,
     "metadata": {},
     "output_type": "execute_result"
    },
    {
     "data": {
      "text/html": [
       "1702"
      ],
      "text/latex": [
       "1702"
      ],
      "text/markdown": [
       "1702"
      ],
      "text/plain": [
       "[1] 1702"
      ]
     },
     "execution_count": 31,
     "metadata": {},
     "output_type": "execute_result"
    }
   ],
   "source": [
    "split = sample.split(pollTrain, SplitRatio = 0.7)\n",
    "split[1:10]\n",
    "\n",
    "nrow(pollTrain)\n",
    "Train = pollTrain[split,setdiff(names(pollTrain), \"USER_ID\")]\n",
    "nrow(Train)\n",
    "Test = pollTrain[!split,setdiff(names(pollTrain), \"USER_ID\")]\n",
    "nrow(Test)"
   ]
  },
  {
   "cell_type": "code",
   "execution_count": 32,
   "metadata": {
    "collapsed": false
   },
   "outputs": [
    {
     "data": {
      "text/html": [
       "<ol class=list-inline>\n",
       "\t<li>'12'</li>\n",
       "\t<li>'as'</li>\n",
       "</ol>\n"
      ],
      "text/latex": [
       "\\begin{enumerate*}\n",
       "\\item '12'\n",
       "\\item 'as'\n",
       "\\end{enumerate*}\n"
      ],
      "text/markdown": [
       "1. '12'\n",
       "2. 'as'\n",
       "\n",
       "\n"
      ],
      "text/plain": [
       "[1] \"12\" \"as\""
      ]
     },
     "execution_count": 32,
     "metadata": {},
     "output_type": "execute_result"
    }
   ],
   "source": [
    "setdiff(c(\"12\",\"as\",\"de\"), \"de\")"
   ]
  },
  {
   "cell_type": "code",
   "execution_count": 33,
   "metadata": {
    "collapsed": false
   },
   "outputs": [
    {
     "data": {
      "text/html": [
       "<ol class=list-inline>\n",
       "\t<li>'YOB'</li>\n",
       "\t<li>'Gender'</li>\n",
       "\t<li>'Income'</li>\n",
       "\t<li>'HouseholdStatus'</li>\n",
       "\t<li>'EducationLevel'</li>\n",
       "\t<li>'Party'</li>\n",
       "\t<li>'Q124742'</li>\n",
       "\t<li>'Q124122'</li>\n",
       "\t<li>'Q123464'</li>\n",
       "\t<li>'Q123621'</li>\n",
       "\t<li>'Q122769'</li>\n",
       "\t<li>'Q122770'</li>\n",
       "\t<li>'Q122771'</li>\n",
       "\t<li>'Q122120'</li>\n",
       "\t<li>'Q121699'</li>\n",
       "\t<li>'Q121700'</li>\n",
       "\t<li>'Q120978'</li>\n",
       "\t<li>'Q121011'</li>\n",
       "\t<li>'Q120379'</li>\n",
       "\t<li>'Q120650'</li>\n",
       "\t<li>'Q120472'</li>\n",
       "\t<li>'Q120194'</li>\n",
       "\t<li>'Q120012'</li>\n",
       "\t<li>'Q120014'</li>\n",
       "\t<li>'Q119334'</li>\n",
       "\t<li>'Q119851'</li>\n",
       "\t<li>'Q119650'</li>\n",
       "\t<li>'Q118892'</li>\n",
       "\t<li>'Q118117'</li>\n",
       "\t<li>'Q118232'</li>\n",
       "\t<li>'Q118233'</li>\n",
       "\t<li>'Q118237'</li>\n",
       "\t<li>'Q117186'</li>\n",
       "\t<li>'Q117193'</li>\n",
       "\t<li>'Q116797'</li>\n",
       "\t<li>'Q116881'</li>\n",
       "\t<li>'Q116953'</li>\n",
       "\t<li>'Q116601'</li>\n",
       "\t<li>'Q116441'</li>\n",
       "\t<li>'Q116448'</li>\n",
       "\t<li>'Q116197'</li>\n",
       "\t<li>'Q115602'</li>\n",
       "\t<li>'Q115777'</li>\n",
       "\t<li>'Q115610'</li>\n",
       "\t<li>'Q115611'</li>\n",
       "\t<li>'Q115899'</li>\n",
       "\t<li>'Q115390'</li>\n",
       "\t<li>'Q114961'</li>\n",
       "\t<li>'Q114748'</li>\n",
       "\t<li>'Q115195'</li>\n",
       "\t<li>'Q114517'</li>\n",
       "\t<li>'Q114386'</li>\n",
       "\t<li>'Q113992'</li>\n",
       "\t<li>'Q114152'</li>\n",
       "\t<li>'Q113583'</li>\n",
       "\t<li>'Q113584'</li>\n",
       "\t<li>'Q113181'</li>\n",
       "\t<li>'Q112478'</li>\n",
       "\t<li>'Q112512'</li>\n",
       "\t<li>'Q112270'</li>\n",
       "\t<li>'Q111848'</li>\n",
       "\t<li>'Q111580'</li>\n",
       "\t<li>'Q111220'</li>\n",
       "\t<li>'Q110740'</li>\n",
       "\t<li>'Q109367'</li>\n",
       "\t<li>'Q108950'</li>\n",
       "\t<li>'Q109244'</li>\n",
       "\t<li>'Q108855'</li>\n",
       "\t<li>'Q108617'</li>\n",
       "\t<li>'Q108856'</li>\n",
       "\t<li>'Q108754'</li>\n",
       "\t<li>'Q108342'</li>\n",
       "\t<li>'Q108343'</li>\n",
       "\t<li>'Q107869'</li>\n",
       "\t<li>'Q107491'</li>\n",
       "\t<li>'Q106993'</li>\n",
       "\t<li>'Q106997'</li>\n",
       "\t<li>'Q106272'</li>\n",
       "\t<li>'Q106388'</li>\n",
       "\t<li>'Q106389'</li>\n",
       "\t<li>'Q106042'</li>\n",
       "\t<li>'Q105840'</li>\n",
       "\t<li>'Q105655'</li>\n",
       "\t<li>'Q104996'</li>\n",
       "\t<li>'Q103293'</li>\n",
       "\t<li>'Q102906'</li>\n",
       "\t<li>'Q102674'</li>\n",
       "\t<li>'Q102687'</li>\n",
       "\t<li>'Q102289'</li>\n",
       "\t<li>'Q102089'</li>\n",
       "\t<li>'Q101162'</li>\n",
       "\t<li>'Q101163'</li>\n",
       "\t<li>'Q101596'</li>\n",
       "\t<li>'Q100689'</li>\n",
       "\t<li>'Q100680'</li>\n",
       "\t<li>'Q100562'</li>\n",
       "\t<li>'Q99982'</li>\n",
       "\t<li>'Q100010'</li>\n",
       "\t<li>'Q99716'</li>\n",
       "\t<li>'Q99581'</li>\n",
       "\t<li>'Q99480'</li>\n",
       "\t<li>'Q98869'</li>\n",
       "\t<li>'Q98578'</li>\n",
       "\t<li>'Q98059'</li>\n",
       "\t<li>'Q98078'</li>\n",
       "\t<li>'Q98197'</li>\n",
       "\t<li>'Q96024'</li>\n",
       "</ol>\n"
      ],
      "text/latex": [
       "\\begin{enumerate*}\n",
       "\\item 'YOB'\n",
       "\\item 'Gender'\n",
       "\\item 'Income'\n",
       "\\item 'HouseholdStatus'\n",
       "\\item 'EducationLevel'\n",
       "\\item 'Party'\n",
       "\\item 'Q124742'\n",
       "\\item 'Q124122'\n",
       "\\item 'Q123464'\n",
       "\\item 'Q123621'\n",
       "\\item 'Q122769'\n",
       "\\item 'Q122770'\n",
       "\\item 'Q122771'\n",
       "\\item 'Q122120'\n",
       "\\item 'Q121699'\n",
       "\\item 'Q121700'\n",
       "\\item 'Q120978'\n",
       "\\item 'Q121011'\n",
       "\\item 'Q120379'\n",
       "\\item 'Q120650'\n",
       "\\item 'Q120472'\n",
       "\\item 'Q120194'\n",
       "\\item 'Q120012'\n",
       "\\item 'Q120014'\n",
       "\\item 'Q119334'\n",
       "\\item 'Q119851'\n",
       "\\item 'Q119650'\n",
       "\\item 'Q118892'\n",
       "\\item 'Q118117'\n",
       "\\item 'Q118232'\n",
       "\\item 'Q118233'\n",
       "\\item 'Q118237'\n",
       "\\item 'Q117186'\n",
       "\\item 'Q117193'\n",
       "\\item 'Q116797'\n",
       "\\item 'Q116881'\n",
       "\\item 'Q116953'\n",
       "\\item 'Q116601'\n",
       "\\item 'Q116441'\n",
       "\\item 'Q116448'\n",
       "\\item 'Q116197'\n",
       "\\item 'Q115602'\n",
       "\\item 'Q115777'\n",
       "\\item 'Q115610'\n",
       "\\item 'Q115611'\n",
       "\\item 'Q115899'\n",
       "\\item 'Q115390'\n",
       "\\item 'Q114961'\n",
       "\\item 'Q114748'\n",
       "\\item 'Q115195'\n",
       "\\item 'Q114517'\n",
       "\\item 'Q114386'\n",
       "\\item 'Q113992'\n",
       "\\item 'Q114152'\n",
       "\\item 'Q113583'\n",
       "\\item 'Q113584'\n",
       "\\item 'Q113181'\n",
       "\\item 'Q112478'\n",
       "\\item 'Q112512'\n",
       "\\item 'Q112270'\n",
       "\\item 'Q111848'\n",
       "\\item 'Q111580'\n",
       "\\item 'Q111220'\n",
       "\\item 'Q110740'\n",
       "\\item 'Q109367'\n",
       "\\item 'Q108950'\n",
       "\\item 'Q109244'\n",
       "\\item 'Q108855'\n",
       "\\item 'Q108617'\n",
       "\\item 'Q108856'\n",
       "\\item 'Q108754'\n",
       "\\item 'Q108342'\n",
       "\\item 'Q108343'\n",
       "\\item 'Q107869'\n",
       "\\item 'Q107491'\n",
       "\\item 'Q106993'\n",
       "\\item 'Q106997'\n",
       "\\item 'Q106272'\n",
       "\\item 'Q106388'\n",
       "\\item 'Q106389'\n",
       "\\item 'Q106042'\n",
       "\\item 'Q105840'\n",
       "\\item 'Q105655'\n",
       "\\item 'Q104996'\n",
       "\\item 'Q103293'\n",
       "\\item 'Q102906'\n",
       "\\item 'Q102674'\n",
       "\\item 'Q102687'\n",
       "\\item 'Q102289'\n",
       "\\item 'Q102089'\n",
       "\\item 'Q101162'\n",
       "\\item 'Q101163'\n",
       "\\item 'Q101596'\n",
       "\\item 'Q100689'\n",
       "\\item 'Q100680'\n",
       "\\item 'Q100562'\n",
       "\\item 'Q99982'\n",
       "\\item 'Q100010'\n",
       "\\item 'Q99716'\n",
       "\\item 'Q99581'\n",
       "\\item 'Q99480'\n",
       "\\item 'Q98869'\n",
       "\\item 'Q98578'\n",
       "\\item 'Q98059'\n",
       "\\item 'Q98078'\n",
       "\\item 'Q98197'\n",
       "\\item 'Q96024'\n",
       "\\end{enumerate*}\n"
      ],
      "text/markdown": [
       "1. 'YOB'\n",
       "2. 'Gender'\n",
       "3. 'Income'\n",
       "4. 'HouseholdStatus'\n",
       "5. 'EducationLevel'\n",
       "6. 'Party'\n",
       "7. 'Q124742'\n",
       "8. 'Q124122'\n",
       "9. 'Q123464'\n",
       "10. 'Q123621'\n",
       "11. 'Q122769'\n",
       "12. 'Q122770'\n",
       "13. 'Q122771'\n",
       "14. 'Q122120'\n",
       "15. 'Q121699'\n",
       "16. 'Q121700'\n",
       "17. 'Q120978'\n",
       "18. 'Q121011'\n",
       "19. 'Q120379'\n",
       "20. 'Q120650'\n",
       "21. 'Q120472'\n",
       "22. 'Q120194'\n",
       "23. 'Q120012'\n",
       "24. 'Q120014'\n",
       "25. 'Q119334'\n",
       "26. 'Q119851'\n",
       "27. 'Q119650'\n",
       "28. 'Q118892'\n",
       "29. 'Q118117'\n",
       "30. 'Q118232'\n",
       "31. 'Q118233'\n",
       "32. 'Q118237'\n",
       "33. 'Q117186'\n",
       "34. 'Q117193'\n",
       "35. 'Q116797'\n",
       "36. 'Q116881'\n",
       "37. 'Q116953'\n",
       "38. 'Q116601'\n",
       "39. 'Q116441'\n",
       "40. 'Q116448'\n",
       "41. 'Q116197'\n",
       "42. 'Q115602'\n",
       "43. 'Q115777'\n",
       "44. 'Q115610'\n",
       "45. 'Q115611'\n",
       "46. 'Q115899'\n",
       "47. 'Q115390'\n",
       "48. 'Q114961'\n",
       "49. 'Q114748'\n",
       "50. 'Q115195'\n",
       "51. 'Q114517'\n",
       "52. 'Q114386'\n",
       "53. 'Q113992'\n",
       "54. 'Q114152'\n",
       "55. 'Q113583'\n",
       "56. 'Q113584'\n",
       "57. 'Q113181'\n",
       "58. 'Q112478'\n",
       "59. 'Q112512'\n",
       "60. 'Q112270'\n",
       "61. 'Q111848'\n",
       "62. 'Q111580'\n",
       "63. 'Q111220'\n",
       "64. 'Q110740'\n",
       "65. 'Q109367'\n",
       "66. 'Q108950'\n",
       "67. 'Q109244'\n",
       "68. 'Q108855'\n",
       "69. 'Q108617'\n",
       "70. 'Q108856'\n",
       "71. 'Q108754'\n",
       "72. 'Q108342'\n",
       "73. 'Q108343'\n",
       "74. 'Q107869'\n",
       "75. 'Q107491'\n",
       "76. 'Q106993'\n",
       "77. 'Q106997'\n",
       "78. 'Q106272'\n",
       "79. 'Q106388'\n",
       "80. 'Q106389'\n",
       "81. 'Q106042'\n",
       "82. 'Q105840'\n",
       "83. 'Q105655'\n",
       "84. 'Q104996'\n",
       "85. 'Q103293'\n",
       "86. 'Q102906'\n",
       "87. 'Q102674'\n",
       "88. 'Q102687'\n",
       "89. 'Q102289'\n",
       "90. 'Q102089'\n",
       "91. 'Q101162'\n",
       "92. 'Q101163'\n",
       "93. 'Q101596'\n",
       "94. 'Q100689'\n",
       "95. 'Q100680'\n",
       "96. 'Q100562'\n",
       "97. 'Q99982'\n",
       "98. 'Q100010'\n",
       "99. 'Q99716'\n",
       "100. 'Q99581'\n",
       "101. 'Q99480'\n",
       "102. 'Q98869'\n",
       "103. 'Q98578'\n",
       "104. 'Q98059'\n",
       "105. 'Q98078'\n",
       "106. 'Q98197'\n",
       "107. 'Q96024'\n",
       "\n",
       "\n"
      ],
      "text/plain": [
       "  [1] \"YOB\"             \"Gender\"          \"Income\"          \"HouseholdStatus\"\n",
       "  [5] \"EducationLevel\"  \"Party\"           \"Q124742\"         \"Q124122\"        \n",
       "  [9] \"Q123464\"         \"Q123621\"         \"Q122769\"         \"Q122770\"        \n",
       " [13] \"Q122771\"         \"Q122120\"         \"Q121699\"         \"Q121700\"        \n",
       " [17] \"Q120978\"         \"Q121011\"         \"Q120379\"         \"Q120650\"        \n",
       " [21] \"Q120472\"         \"Q120194\"         \"Q120012\"         \"Q120014\"        \n",
       " [25] \"Q119334\"         \"Q119851\"         \"Q119650\"         \"Q118892\"        \n",
       " [29] \"Q118117\"         \"Q118232\"         \"Q118233\"         \"Q118237\"        \n",
       " [33] \"Q117186\"         \"Q117193\"         \"Q116797\"         \"Q116881\"        \n",
       " [37] \"Q116953\"         \"Q116601\"         \"Q116441\"         \"Q116448\"        \n",
       " [41] \"Q116197\"         \"Q115602\"         \"Q115777\"         \"Q115610\"        \n",
       " [45] \"Q115611\"         \"Q115899\"         \"Q115390\"         \"Q114961\"        \n",
       " [49] \"Q114748\"         \"Q115195\"         \"Q114517\"         \"Q114386\"        \n",
       " [53] \"Q113992\"         \"Q114152\"         \"Q113583\"         \"Q113584\"        \n",
       " [57] \"Q113181\"         \"Q112478\"         \"Q112512\"         \"Q112270\"        \n",
       " [61] \"Q111848\"         \"Q111580\"         \"Q111220\"         \"Q110740\"        \n",
       " [65] \"Q109367\"         \"Q108950\"         \"Q109244\"         \"Q108855\"        \n",
       " [69] \"Q108617\"         \"Q108856\"         \"Q108754\"         \"Q108342\"        \n",
       " [73] \"Q108343\"         \"Q107869\"         \"Q107491\"         \"Q106993\"        \n",
       " [77] \"Q106997\"         \"Q106272\"         \"Q106388\"         \"Q106389\"        \n",
       " [81] \"Q106042\"         \"Q105840\"         \"Q105655\"         \"Q104996\"        \n",
       " [85] \"Q103293\"         \"Q102906\"         \"Q102674\"         \"Q102687\"        \n",
       " [89] \"Q102289\"         \"Q102089\"         \"Q101162\"         \"Q101163\"        \n",
       " [93] \"Q101596\"         \"Q100689\"         \"Q100680\"         \"Q100562\"        \n",
       " [97] \"Q99982\"          \"Q100010\"         \"Q99716\"          \"Q99581\"         \n",
       "[101] \"Q99480\"          \"Q98869\"          \"Q98578\"          \"Q98059\"         \n",
       "[105] \"Q98078\"          \"Q98197\"          \"Q96024\"         "
      ]
     },
     "execution_count": 33,
     "metadata": {},
     "output_type": "execute_result"
    }
   ],
   "source": [
    "setdiff(names(pollTrain), \"USER_ID\")"
   ]
  },
  {
   "cell_type": "code",
   "execution_count": 34,
   "metadata": {
    "collapsed": false
   },
   "outputs": [
    {
     "data": {
      "text/html": [
       "<dl class=dl-horizontal>\n",
       "\t<dt>Democrat</dt>\n",
       "\t\t<dd>2038</dd>\n",
       "\t<dt>Republican</dt>\n",
       "\t\t<dd>1828</dd>\n",
       "</dl>\n"
      ],
      "text/latex": [
       "\\begin{description*}\n",
       "\\item[Democrat] 2038\n",
       "\\item[Republican] 1828\n",
       "\\end{description*}\n"
      ],
      "text/markdown": [
       "Democrat\n",
       ":   2038Republican\n",
       ":   1828\n",
       "\n"
      ],
      "text/plain": [
       "  Democrat Republican \n",
       "      2038       1828 "
      ]
     },
     "execution_count": 34,
     "metadata": {},
     "output_type": "execute_result"
    }
   ],
   "source": [
    "summary(Train$Party)"
   ]
  },
  {
   "cell_type": "code",
   "execution_count": 36,
   "metadata": {
    "collapsed": true
   },
   "outputs": [],
   "source": [
    "Train$Party = as.numeric(Train$Party==\"Democrat\")\n",
    "Test$Party = as.numeric(Test$Party==\"Democrat\")"
   ]
  },
  {
   "cell_type": "code",
   "execution_count": 38,
   "metadata": {
    "collapsed": false
   },
   "outputs": [
    {
     "data": {
      "text/plain": [
       "\n",
       "   0    1 \n",
       "1828 2038 "
      ]
     },
     "execution_count": 38,
     "metadata": {},
     "output_type": "execute_result"
    },
    {
     "data": {
      "text/plain": [
       "\n",
       "  0   1 \n",
       "789 913 "
      ]
     },
     "execution_count": 38,
     "metadata": {},
     "output_type": "execute_result"
    }
   ],
   "source": [
    "table(Train$Party)\n",
    "table(Test$Party)"
   ]
  },
  {
   "cell_type": "code",
   "execution_count": 39,
   "metadata": {
    "collapsed": false
   },
   "outputs": [],
   "source": [
    "LogModel1 = glm(Party~., data = Train, family = binomial)"
   ]
  },
  {
   "cell_type": "code",
   "execution_count": 45,
   "metadata": {
    "collapsed": false
   },
   "outputs": [
    {
     "data": {
      "text/html": [
       "79"
      ],
      "text/latex": [
       "79"
      ],
      "text/markdown": [
       "79"
      ],
      "text/plain": [
       "[1] 79"
      ]
     },
     "execution_count": 45,
     "metadata": {},
     "output_type": "execute_result"
    },
    {
     "data": {
      "text/html": [
       "3866"
      ],
      "text/latex": [
       "3866"
      ],
      "text/markdown": [
       "3866"
      ],
      "text/plain": [
       "[1] 3866"
      ]
     },
     "execution_count": 45,
     "metadata": {},
     "output_type": "execute_result"
    }
   ],
   "source": [
    "sum(Train$Gender==\"\")\n",
    "nrow(Train)"
   ]
  },
  {
   "cell_type": "code",
   "execution_count": 41,
   "metadata": {
    "collapsed": false
   },
   "outputs": [
    {
     "data": {
      "text/plain": [
       "\n",
       "Call:\n",
       "glm(formula = Party ~ ., family = binomial, data = Train)\n",
       "\n",
       "Deviance Residuals: \n",
       "    Min       1Q   Median       3Q      Max  \n",
       "-2.5097  -1.0350   0.4113   1.0181   2.2512  \n",
       "\n",
       "Coefficients:\n",
       "                                             Estimate Std. Error z value\n",
       "(Intercept)                                22.2479982  8.0530662   2.763\n",
       "YOB                                        -0.0112540  0.0040608  -2.771\n",
       "GenderFemale                                0.0006944  0.2996332   0.002\n",
       "GenderMale                                 -0.0200191  0.2962089  -0.068\n",
       "Income$100,001 - $150,000                   0.0685352  0.1532864   0.447\n",
       "Income$25,001 - $50,000                     0.0710538  0.1514590   0.469\n",
       "Income$50,000 - $74,999                    -0.0930262  0.1468681  -0.633\n",
       "Income$75,000 - $100,000                    0.0442658  0.1501022   0.295\n",
       "Incomeover $150,000                        -0.3377299  0.1554670  -2.172\n",
       "Incomeunder $25,000                        -0.1709781  0.1479141  -1.156\n",
       "HouseholdStatusDomestic Partners (no kids)  0.6894400  0.2859472   2.411\n",
       "HouseholdStatusDomestic Partners (w/kids)   0.3789693  0.3823981   0.991\n",
       "HouseholdStatusMarried (no kids)            0.0677225  0.2149901   0.315\n",
       "HouseholdStatusMarried (w/kids)            -0.0138793  0.2013920  -0.069\n",
       "HouseholdStatusSingle (no kids)             0.0788746  0.1756293   0.449\n",
       "HouseholdStatusSingle (w/kids)              0.2672888  0.2683611   0.996\n",
       "EducationLevelAssociate's Degree           -0.1907898  0.1826294  -1.045\n",
       "EducationLevelBachelor's Degree             0.0738556  0.1335180   0.553\n",
       "EducationLevelCurrent K-12                  0.1215492  0.1667863   0.729\n",
       "EducationLevelCurrent Undergraduate         0.1401905  0.1549411   0.905\n",
       "EducationLevelDoctoral Degree              -0.1048560  0.2338212  -0.448\n",
       "EducationLevelHigh School Diploma           0.0926294  0.1497949   0.618\n",
       "EducationLevelMaster's Degree               0.0391225  0.1644467   0.238\n",
       "Q124742No                                   0.2858819  0.1164477   2.455\n",
       "Q124742Yes                                  0.0373038  0.1348740   0.277\n",
       "Q124122No                                  -0.2053690  0.1515686  -1.355\n",
       "Q124122Yes                                 -0.1015938  0.1453858  -0.699\n",
       "Q123464No                                   0.0182538  0.1760842   0.104\n",
       "Q123464Yes                                 -0.1398253  0.2505005  -0.558\n",
       "Q123621No                                   0.0025520  0.1842985   0.014\n",
       "Q123621Yes                                 -0.0485746  0.1866063  -0.260\n",
       "Q122769No                                  -0.1199005  0.2243718  -0.534\n",
       "Q122769Yes                                 -0.1876571  0.2284472  -0.821\n",
       "Q122770No                                   0.5041543  0.2983027   1.690\n",
       "Q122770Yes                                  0.5012277  0.2952841   1.697\n",
       "Q122771Private                             -0.4425029  0.2910722  -1.520\n",
       "Q122771Public                              -0.3194625  0.2773881  -1.152\n",
       "Q122120No                                  -0.0798604  0.1544007  -0.517\n",
       "Q122120Yes                                 -0.1160593  0.1717749  -0.676\n",
       "Q121699No                                   0.2522589  0.2848706   0.886\n",
       "Q121699Yes                                  0.4013845  0.2745140   1.462\n",
       "Q121700No                                  -0.2936367  0.2786147  -1.054\n",
       "Q121700Yes                                 -0.0712228  0.2983371  -0.239\n",
       "Q120978No                                   0.0137146  0.1759844   0.078\n",
       "Q120978Yes                                  0.1012942  0.1720567   0.589\n",
       "Q121011No                                  -0.0197163  0.1760955  -0.112\n",
       "Q121011Yes                                  0.1077055  0.1741564   0.618\n",
       "Q120379No                                  -0.1449320  0.1733060  -0.836\n",
       "Q120379Yes                                  0.1771838  0.1707306   1.038\n",
       "Q120650No                                  -0.0551778  0.2273791  -0.243\n",
       "Q120650Yes                                 -0.2401741  0.1678436  -1.431\n",
       "Q120472Art                                  0.0480006  0.1829017   0.262\n",
       "Q120472Science                             -0.0845331  0.1715602  -0.493\n",
       "Q120194Study first                          0.3765064  0.1620445   2.323\n",
       "Q120194Try first                            0.2483993  0.1676217   1.482\n",
       "Q120012No                                   0.1430024  0.1861046   0.768\n",
       "Q120012Yes                                  0.2981887  0.1860600   1.603\n",
       "Q120014No                                  -0.0759071  0.1706497  -0.445\n",
       "Q120014Yes                                 -0.0849833  0.1632207  -0.521\n",
       "Q119334No                                  -0.0369682  0.1538773  -0.240\n",
       "Q119334Yes                                 -0.1578632  0.1498621  -1.053\n",
       "Q119851No                                  -0.2657834  0.1823772  -1.457\n",
       "Q119851Yes                                 -0.0119496  0.1841390  -0.065\n",
       "Q119650Giving                              -0.2094886  0.1607418  -1.303\n",
       "Q119650Receiving                           -0.1574328  0.1785357  -0.882\n",
       "Q118892No                                   0.1819739  0.1461163   1.245\n",
       "Q118892Yes                                  0.2143218  0.1395243   1.536\n",
       "Q118117No                                  -0.1575395  0.1714588  -0.919\n",
       "Q118117Yes                                 -0.1126793  0.1729723  -0.651\n",
       "Q118232Idealist                             0.4151702  0.1665854   2.492\n",
       "Q118232Pragmatist                           0.2576253  0.1657664   1.554\n",
       "Q118233No                                  -0.2334209  0.2117827  -1.102\n",
       "Q118233Yes                                 -0.1145127  0.2272157  -0.504\n",
       "Q118237No                                  -0.0413715  0.2179071  -0.190\n",
       "Q118237Yes                                 -0.0261388  0.2147186  -0.122\n",
       "Q117186Cool headed                          0.1552718  0.1826365   0.850\n",
       "Q117186Hot headed                           0.0427818  0.1917144   0.223\n",
       "Q117193Odd hours                           -0.1847196  0.1793604  -1.030\n",
       "Q117193Standard hours                      -0.2355340  0.1713511  -1.375\n",
       "Q116797No                                  -0.3919056  0.1879095  -2.086\n",
       "Q116797Yes                                 -0.3720165  0.1928795  -1.929\n",
       "Q116881Happy                                0.1869614  0.1864123   1.003\n",
       "Q116881Right                               -0.1167569  0.2020912  -0.578\n",
       "Q116953No                                  -0.1269978  0.2009560  -0.632\n",
       "Q116953Yes                                  0.1294170  0.1878419   0.689\n",
       "Q116601No                                   0.3560890  0.2189158   1.627\n",
       "Q116601Yes                                  0.3315616  0.1861326   1.781\n",
       "Q116441No                                   0.0555098  0.2022335   0.274\n",
       "Q116441Yes                                 -0.0437525  0.2156152  -0.203\n",
       "Q116448No                                  -0.0149582  0.1909310  -0.078\n",
       "Q116448Yes                                  0.1207695  0.1929317   0.626\n",
       "Q116197A.M.                                -0.3122486  0.1734526  -1.800\n",
       "Q116197P.M.                                -0.1391906  0.1598162  -0.871\n",
       "Q115602No                                  -0.0736873  0.2177393  -0.338\n",
       "Q115602Yes                                  0.0667847  0.1969173   0.339\n",
       "Q115777End                                 -0.1528114  0.1804406  -0.847\n",
       "Q115777Start                               -0.0517768  0.1762082  -0.294\n",
       "Q115610No                                  -0.0889447  0.2304783  -0.386\n",
       "Q115610Yes                                 -0.0211073  0.2049191  -0.103\n",
       "Q115611No                                   0.1588859  0.2196127   0.723\n",
       "Q115611Yes                                 -0.3210749  0.2275521  -1.411\n",
       "Q115899Circumstances                        0.1498115  0.1766647   0.848\n",
       "Q115899Me                                   0.0587277  0.1732879   0.339\n",
       "Q115390No                                  -0.1071955  0.1648933  -0.650\n",
       "Q115390Yes                                 -0.0075291  0.1562045  -0.048\n",
       "Q114961No                                   0.0205632  0.1863579   0.110\n",
       "Q114961Yes                                  0.0233025  0.1857053   0.125\n",
       "Q114748No                                  -0.2218913  0.1959076  -1.133\n",
       "Q114748Yes                                 -0.2621363  0.1947232  -1.346\n",
       "Q115195No                                   0.0088776  0.1861769   0.048\n",
       "Q115195Yes                                  0.1843886  0.1748346   1.055\n",
       "Q114517No                                   0.2976413  0.1857214   1.603\n",
       "Q114517Yes                                  0.1364395  0.1973637   0.691\n",
       "Q114386Mysterious                           0.1368754  0.1695555   0.807\n",
       "Q114386TMI                                  0.1532935  0.1718563   0.892\n",
       "Q113992No                                  -0.0033402  0.1703663  -0.020\n",
       "Q113992Yes                                 -0.0584462  0.1820391  -0.321\n",
       "Q114152No                                  -0.2356421  0.1639589  -1.437\n",
       "Q114152Yes                                  0.1442128  0.1790687   0.805\n",
       "Q113583Talk                                 0.2040285  0.2220594   0.919\n",
       "Q113583Tunes                                0.1926668  0.2127659   0.906\n",
       "Q113584People                               0.0613271  0.2179434   0.281\n",
       "Q113584Technology                           0.0151840  0.2162784   0.070\n",
       "Q113181No                                   0.1601079  0.1476908   1.084\n",
       "Q113181Yes                                 -0.3276625  0.1602801  -2.044\n",
       "Q112478No                                  -0.5159625  0.1950703  -2.645\n",
       "Q112478Yes                                 -0.4342266  0.1894978  -2.291\n",
       "Q112512No                                   0.3006529  0.2096601   1.434\n",
       "Q112512Yes                                  0.1939452  0.1779003   1.090\n",
       "Q112270No                                   0.2754818  0.1605052   1.716\n",
       "Q112270Yes                                  0.2459859  0.1599271   1.538\n",
       "Q111848No                                  -0.0029077  0.1666427  -0.017\n",
       "Q111848Yes                                  0.1360764  0.1636924   0.831\n",
       "Q111580Demanding                           -0.0030895  0.1674509  -0.018\n",
       "Q111580Supportive                          -0.0136164  0.1570041  -0.087\n",
       "Q111220No                                   0.0100539  0.1543528   0.065\n",
       "Q111220Yes                                  0.1485230  0.1682311   0.883\n",
       "Q110740Mac                                  0.0634980  0.1426758   0.445\n",
       "Q110740PC                                  -0.0965861  0.1387245  -0.696\n",
       "Q109367No                                  -0.0165862  0.1695738  -0.098\n",
       "Q109367Yes                                 -0.0687349  0.1632917  -0.421\n",
       "Q108950Cautious                             0.2093372  0.1740614   1.203\n",
       "Q108950Risk-friendly                        0.3242571  0.1873933   1.730\n",
       "Q109244No                                  -0.6143634  0.1633826  -3.760\n",
       "Q109244Yes                                  0.7214887  0.1873111   3.852\n",
       "Q108855Umm...                              -0.1790994  0.2350441  -0.762\n",
       "Q108855Yes!                                -0.3651901  0.2332452  -1.566\n",
       "Q108617No                                   0.0093943  0.1801227   0.052\n",
       "Q108617Yes                                 -0.1051347  0.2212191  -0.475\n",
       "Q108856Socialize                            0.0037646  0.2432171   0.015\n",
       "Q108856Space                                0.0188164  0.2273905   0.083\n",
       "Q108754No                                  -0.0413644  0.2040420  -0.203\n",
       "Q108754Yes                                 -0.0908844  0.2133385  -0.426\n",
       "Q108342In-person                            0.2493911  0.2057688   1.212\n",
       "Q108342Online                               0.2888970  0.2157828   1.339\n",
       "Q108343No                                  -0.0540135  0.2084378  -0.259\n",
       "Q108343Yes                                 -0.2336323  0.2184762  -1.069\n",
       "Q107869No                                  -0.0475104  0.1625445  -0.292\n",
       "Q107869Yes                                 -0.0609651  0.1629026  -0.374\n",
       "Q107491No                                   0.2721508  0.2060098   1.321\n",
       "Q107491Yes                                  0.2128926  0.1550141   1.373\n",
       "Q106993No                                  -0.2248592  0.2441443  -0.921\n",
       "Q106993Yes                                 -0.2614164  0.2191748  -1.193\n",
       "Q106997Grrr people                          0.0689424  0.2193149   0.314\n",
       "Q106997Yay people!                          0.1493676  0.2240202   0.667\n",
       "Q106272No                                   0.0917271  0.2214710   0.414\n",
       "Q106272Yes                                 -0.0027796  0.2071057  -0.013\n",
       "Q106388No                                   0.0253030  0.2510402   0.101\n",
       "Q106388Yes                                  0.0971018  0.2646882   0.367\n",
       "Q106389No                                  -0.0373111  0.2457938  -0.152\n",
       "Q106389Yes                                  0.0537351  0.2480427   0.217\n",
       "Q106042No                                  -0.1106730  0.1929079  -0.574\n",
       "Q106042Yes                                  0.0164054  0.1931507   0.085\n",
       "Q105840No                                  -0.0092899  0.1966302  -0.047\n",
       "Q105840Yes                                 -0.0003604  0.1991754  -0.002\n",
       "Q105655No                                  -0.1111861  0.1969730  -0.564\n",
       "Q105655Yes                                 -0.2160606  0.1943743  -1.112\n",
       "Q104996No                                   0.1108040  0.1588252   0.698\n",
       "Q104996Yes                                  0.1780628  0.1570821   1.134\n",
       "Q103293No                                  -0.1662285  0.1705828  -0.974\n",
       "Q103293Yes                                  0.0069409  0.1725066   0.040\n",
       "Q102906No                                  -0.2454295  0.1907418  -1.287\n",
       "Q102906Yes                                 -0.3369111  0.1954711  -1.724\n",
       "Q102674No                                  -0.2308744  0.2402035  -0.961\n",
       "Q102674Yes                                 -0.1497512  0.2522355  -0.594\n",
       "Q102687No                                   0.5790945  0.2544136   2.276\n",
       "Q102687Yes                                  0.5493703  0.2525199   2.176\n",
       "Q102289No                                   0.1133358  0.1877686   0.604\n",
       "Q102289Yes                                  0.0303926  0.1991489   0.153\n",
       "Q102089Own                                 -0.0573734  0.1822797  -0.315\n",
       "Q102089Rent                                 0.0311699  0.1934526   0.161\n",
       "Q101162Optimist                             0.0222803  0.2028758   0.110\n",
       "Q101162Pessimist                            0.0005662  0.2093029   0.003\n",
       "Q101163Dad                                 -0.1046190  0.1775106  -0.589\n",
       "Q101163Mom                                  0.2952287  0.1814243   1.627\n",
       "Q101596No                                  -0.4343698  0.1853629  -2.343\n",
       "Q101596Yes                                 -0.4720688  0.1964134  -2.403\n",
       "Q100689No                                   0.1954908  0.2188091   0.893\n",
       "Q100689Yes                                  0.4438138  0.2168835   2.046\n",
       "Q100680No                                  -0.0833537  0.2129433  -0.391\n",
       "Q100680Yes                                 -0.0928267  0.2058007  -0.451\n",
       "Q100562No                                  -0.0197223  0.2130494  -0.093\n",
       "Q100562Yes                                 -0.0557202  0.1855957  -0.300\n",
       "Q99982Check!                               -0.3028617  0.2252246  -1.345\n",
       "Q99982Nope                                 -0.0811447  0.2283306  -0.355\n",
       "Q100010No                                   0.3553043  0.2482798   1.431\n",
       "Q100010Yes                                  0.0921218  0.2271795   0.406\n",
       "Q99716No                                    0.3013084  0.2021362   1.491\n",
       "Q99716Yes                                   0.3004666  0.2510637   1.197\n",
       "Q99581No                                   -0.1996738  0.2315357  -0.862\n",
       "Q99581Yes                                  -0.1484612  0.2606949  -0.569\n",
       "Q99480No                                    0.0770328  0.2309804   0.334\n",
       "Q99480Yes                                  -0.1000927  0.2092951  -0.478\n",
       "Q98869No                                    0.4027067  0.1899632   2.120\n",
       "Q98869Yes                                   0.0509315  0.1628314   0.313\n",
       "Q98578No                                   -0.5041201  0.1759034  -2.866\n",
       "Q98578Yes                                  -0.3542885  0.1841702  -1.924\n",
       "Q98059Only-child                            0.1778165  0.2776297   0.640\n",
       "Q98059Yes                                   0.3534881  0.2326241   1.520\n",
       "Q98078No                                   -0.2381872  0.2221549  -1.072\n",
       "Q98078Yes                                  -0.0991242  0.2246323  -0.441\n",
       "Q98197No                                    0.4775258  0.2068914   2.308\n",
       "Q98197Yes                                   0.0247660  0.2158979   0.115\n",
       "Q96024No                                    0.1626759  0.1471500   1.106\n",
       "Q96024Yes                                   0.0523642  0.1381058   0.379\n",
       "                                           Pr(>|z|)    \n",
       "(Intercept)                                0.005733 ** \n",
       "YOB                                        0.005583 ** \n",
       "GenderFemale                               0.998151    \n",
       "GenderMale                                 0.946116    \n",
       "Income$100,001 - $150,000                  0.654799    \n",
       "Income$25,001 - $50,000                    0.638977    \n",
       "Income$50,000 - $74,999                    0.526473    \n",
       "Income$75,000 - $100,000                   0.768067    \n",
       "Incomeover $150,000                        0.029829 *  \n",
       "Incomeunder $25,000                        0.247711    \n",
       "HouseholdStatusDomestic Partners (no kids) 0.015906 *  \n",
       "HouseholdStatusDomestic Partners (w/kids)  0.321669    \n",
       "HouseholdStatusMarried (no kids)           0.752759    \n",
       "HouseholdStatusMarried (w/kids)            0.945056    \n",
       "HouseholdStatusSingle (no kids)            0.653362    \n",
       "HouseholdStatusSingle (w/kids)             0.319248    \n",
       "EducationLevelAssociate's Degree           0.296170    \n",
       "EducationLevelBachelor's Degree            0.580160    \n",
       "EducationLevelCurrent K-12                 0.466141    \n",
       "EducationLevelCurrent Undergraduate        0.365572    \n",
       "EducationLevelDoctoral Degree              0.653832    \n",
       "EducationLevelHigh School Diploma          0.536328    \n",
       "EducationLevelMaster's Degree              0.811956    \n",
       "Q124742No                                  0.014088 *  \n",
       "Q124742Yes                                 0.782100    \n",
       "Q124122No                                  0.175431    \n",
       "Q124122Yes                                 0.484685    \n",
       "Q123464No                                  0.917435    \n",
       "Q123464Yes                                 0.576719    \n",
       "Q123621No                                  0.988952    \n",
       "Q123621Yes                                 0.794628    \n",
       "Q122769No                                  0.593076    \n",
       "Q122769Yes                                 0.411392    \n",
       "Q122770No                                  0.091013 .  \n",
       "Q122770Yes                                 0.089613 .  \n",
       "Q122771Private                             0.128448    \n",
       "Q122771Public                              0.249452    \n",
       "Q122120No                                  0.604997    \n",
       "Q122120Yes                                 0.499264    \n",
       "Q121699No                                  0.375876    \n",
       "Q121699Yes                                 0.143696    \n",
       "Q121700No                                  0.291921    \n",
       "Q121700Yes                                 0.811313    \n",
       "Q120978No                                  0.937883    \n",
       "Q120978Yes                                 0.556046    \n",
       "Q121011No                                  0.910852    \n",
       "Q121011Yes                                 0.536285    \n",
       "Q120379No                                  0.402999    \n",
       "Q120379Yes                                 0.299365    \n",
       "Q120650No                                  0.808262    \n",
       "Q120650Yes                                 0.152447    \n",
       "Q120472Art                                 0.792983    \n",
       "Q120472Science                             0.622202    \n",
       "Q120194Study first                         0.020154 *  \n",
       "Q120194Try first                           0.138366    \n",
       "Q120012No                                  0.442251    \n",
       "Q120012Yes                                 0.109012    \n",
       "Q120014No                                  0.656456    \n",
       "Q120014Yes                                 0.602600    \n",
       "Q119334No                                  0.810141    \n",
       "Q119334Yes                                 0.292162    \n",
       "Q119851No                                  0.145026    \n",
       "Q119851Yes                                 0.948258    \n",
       "Q119650Giving                              0.192486    \n",
       "Q119650Receiving                           0.377885    \n",
       "Q118892No                                  0.212983    \n",
       "Q118892Yes                                 0.124516    \n",
       "Q118117No                                  0.358191    \n",
       "Q118117Yes                                 0.514769    \n",
       "Q118232Idealist                            0.012694 *  \n",
       "Q118232Pragmatist                          0.120149    \n",
       "Q118233No                                  0.270387    \n",
       "Q118233Yes                                 0.614274    \n",
       "Q118237No                                  0.849420    \n",
       "Q118237Yes                                 0.903109    \n",
       "Q117186Cool headed                         0.395231    \n",
       "Q117186Hot headed                          0.823416    \n",
       "Q117193Odd hours                           0.303067    \n",
       "Q117193Standard hours                      0.169265    \n",
       "Q116797No                                  0.037014 *  \n",
       "Q116797Yes                                 0.053762 .  \n",
       "Q116881Happy                               0.315887    \n",
       "Q116881Right                               0.563437    \n",
       "Q116953No                                  0.527408    \n",
       "Q116953Yes                                 0.490844    \n",
       "Q116601No                                  0.103822    \n",
       "Q116601Yes                                 0.074860 .  \n",
       "Q116441No                                  0.783713    \n",
       "Q116441Yes                                 0.839198    \n",
       "Q116448No                                  0.937555    \n",
       "Q116448Yes                                 0.531334    \n",
       "Q116197A.M.                                0.071830 .  \n",
       "Q116197P.M.                                0.383786    \n",
       "Q115602No                                  0.735047    \n",
       "Q115602Yes                                 0.734496    \n",
       "Q115777End                                 0.397062    \n",
       "Q115777Start                               0.768881    \n",
       "Q115610No                                  0.699561    \n",
       "Q115610Yes                                 0.917961    \n",
       "Q115611No                                  0.469383    \n",
       "Q115611Yes                                 0.158246    \n",
       "Q115899Circumstances                       0.396439    \n",
       "Q115899Me                                  0.734683    \n",
       "Q115390No                                  0.515634    \n",
       "Q115390Yes                                 0.961557    \n",
       "Q114961No                                  0.912138    \n",
       "Q114961Yes                                 0.900143    \n",
       "Q114748No                                  0.257369    \n",
       "Q114748Yes                                 0.178238    \n",
       "Q115195No                                  0.961968    \n",
       "Q115195Yes                                 0.291587    \n",
       "Q114517No                                  0.109018    \n",
       "Q114517Yes                                 0.489371    \n",
       "Q114386Mysterious                          0.419517    \n",
       "Q114386TMI                                 0.372400    \n",
       "Q113992No                                  0.984358    \n",
       "Q113992Yes                                 0.748162    \n",
       "Q114152No                                  0.150661    \n",
       "Q114152Yes                                 0.420618    \n",
       "Q113583Talk                                0.358199    \n",
       "Q113583Tunes                               0.365182    \n",
       "Q113584People                              0.778411    \n",
       "Q113584Technology                          0.944030    \n",
       "Q113181No                                  0.278332    \n",
       "Q113181Yes                                 0.040923 *  \n",
       "Q112478No                                  0.008169 ** \n",
       "Q112478Yes                                 0.021937 *  \n",
       "Q112512No                                  0.151572    \n",
       "Q112512Yes                                 0.275629    \n",
       "Q112270No                                  0.086100 .  \n",
       "Q112270Yes                                 0.124021    \n",
       "Q111848No                                  0.986079    \n",
       "Q111848Yes                                 0.405808    \n",
       "Q111580Demanding                           0.985280    \n",
       "Q111580Supportive                          0.930889    \n",
       "Q111220No                                  0.948066    \n",
       "Q111220Yes                                 0.377317    \n",
       "Q110740Mac                                 0.656283    \n",
       "Q110740PC                                  0.486276    \n",
       "Q109367No                                  0.922082    \n",
       "Q109367Yes                                 0.673804    \n",
       "Q108950Cautious                            0.229107    \n",
       "Q108950Risk-friendly                       0.083567 .  \n",
       "Q109244No                                  0.000170 ***\n",
       "Q109244Yes                                 0.000117 ***\n",
       "Q108855Umm...                              0.446071    \n",
       "Q108855Yes!                                0.117421    \n",
       "Q108617No                                  0.958405    \n",
       "Q108617Yes                                 0.634608    \n",
       "Q108856Socialize                           0.987650    \n",
       "Q108856Space                               0.934051    \n",
       "Q108754No                                  0.839350    \n",
       "Q108754Yes                                 0.670101    \n",
       "Q108342In-person                           0.225514    \n",
       "Q108342Online                              0.180625    \n",
       "Q108343No                                  0.795531    \n",
       "Q108343Yes                                 0.284902    \n",
       "Q107869No                                  0.770064    \n",
       "Q107869Yes                                 0.708224    \n",
       "Q107491No                                  0.186482    \n",
       "Q107491Yes                                 0.169636    \n",
       "Q106993No                                  0.357045    \n",
       "Q106993Yes                                 0.232975    \n",
       "Q106997Grrr people                         0.753252    \n",
       "Q106997Yay people!                         0.504926    \n",
       "Q106272No                                  0.678748    \n",
       "Q106272Yes                                 0.989292    \n",
       "Q106388No                                  0.919715    \n",
       "Q106388Yes                                 0.713728    \n",
       "Q106389No                                  0.879346    \n",
       "Q106389Yes                                 0.828492    \n",
       "Q106042No                                  0.566165    \n",
       "Q106042Yes                                 0.932312    \n",
       "Q105840No                                  0.962317    \n",
       "Q105840Yes                                 0.998556    \n",
       "Q105655No                                  0.572432    \n",
       "Q105655Yes                                 0.266323    \n",
       "Q104996No                                  0.485398    \n",
       "Q104996Yes                                 0.256977    \n",
       "Q103293No                                  0.329821    \n",
       "Q103293Yes                                 0.967905    \n",
       "Q102906No                                  0.198195    \n",
       "Q102906Yes                                 0.084783 .  \n",
       "Q102674No                                  0.336471    \n",
       "Q102674Yes                                 0.552715    \n",
       "Q102687No                                  0.022834 *  \n",
       "Q102687Yes                                 0.029589 *  \n",
       "Q102289No                                  0.546114    \n",
       "Q102289Yes                                 0.878704    \n",
       "Q102089Own                                 0.752948    \n",
       "Q102089Rent                                0.871996    \n",
       "Q101162Optimist                            0.912550    \n",
       "Q101162Pessimist                           0.997842    \n",
       "Q101163Dad                                 0.555615    \n",
       "Q101163Mom                                 0.103677    \n",
       "Q101596No                                  0.019112 *  \n",
       "Q101596Yes                                 0.016241 *  \n",
       "Q100689No                                  0.371627    \n",
       "Q100689Yes                                 0.040725 *  \n",
       "Q100680No                                  0.695475    \n",
       "Q100680Yes                                 0.651953    \n",
       "Q100562No                                  0.926244    \n",
       "Q100562Yes                                 0.764007    \n",
       "Q99982Check!                               0.178719    \n",
       "Q99982Nope                                 0.722303    \n",
       "Q100010No                                  0.152412    \n",
       "Q100010Yes                                 0.685108    \n",
       "Q99716No                                   0.136061    \n",
       "Q99716Yes                                  0.231395    \n",
       "Q99581No                                   0.388474    \n",
       "Q99581Yes                                  0.569029    \n",
       "Q99480No                                   0.738754    \n",
       "Q99480Yes                                  0.632481    \n",
       "Q98869No                                   0.034013 *  \n",
       "Q98869Yes                                  0.754443    \n",
       "Q98578No                                   0.004158 ** \n",
       "Q98578Yes                                  0.054392 .  \n",
       "Q98059Only-child                           0.521860    \n",
       "Q98059Yes                                  0.128620    \n",
       "Q98078No                                   0.283645    \n",
       "Q98078Yes                                  0.659015    \n",
       "Q98197No                                   0.020994 *  \n",
       "Q98197Yes                                  0.908674    \n",
       "Q96024No                                   0.268938    \n",
       "Q96024Yes                                  0.704569    \n",
       "---\n",
       "Signif. codes:  0 ‘***’ 0.001 ‘**’ 0.01 ‘*’ 0.05 ‘.’ 0.1 ‘ ’ 1\n",
       "\n",
       "(Dispersion parameter for binomial family taken to be 1)\n",
       "\n",
       "    Null deviance: 5024.1  on 3632  degrees of freedom\n",
       "Residual deviance: 4340.7  on 3408  degrees of freedom\n",
       "  (233 observations deleted due to missingness)\n",
       "AIC: 4790.7\n",
       "\n",
       "Number of Fisher Scoring iterations: 4\n"
      ]
     },
     "execution_count": 41,
     "metadata": {},
     "output_type": "execute_result"
    }
   ],
   "source": [
    "summary(LogModel1)"
   ]
  },
  {
   "cell_type": "code",
   "execution_count": 58,
   "metadata": {
    "collapsed": true
   },
   "outputs": [],
   "source": [
    "PrdTrain = predict(LogModel1,newdata = Train, type = \"response\")"
   ]
  },
  {
   "cell_type": "code",
   "execution_count": 59,
   "metadata": {
    "collapsed": false
   },
   "outputs": [
    {
     "data": {
      "text/plain": [
       "   \n",
       "    FALSE TRUE\n",
       "  0  1108  603\n",
       "  1   582 1340"
      ]
     },
     "execution_count": 59,
     "metadata": {},
     "output_type": "execute_result"
    }
   ],
   "source": [
    "t = table(Train$Party,PrdTrain>0.5)\n",
    "t"
   ]
  },
  {
   "cell_type": "code",
   "execution_count": 60,
   "metadata": {
    "collapsed": false
   },
   "outputs": [
    {
     "data": {
      "text/html": [
       "0.67382328654005"
      ],
      "text/latex": [
       "0.67382328654005"
      ],
      "text/markdown": [
       "0.67382328654005"
      ],
      "text/plain": [
       "[1] 0.6738233"
      ]
     },
     "execution_count": 60,
     "metadata": {},
     "output_type": "execute_result"
    }
   ],
   "source": [
    "sum(diag(t))/sum(t)"
   ]
  },
  {
   "cell_type": "code",
   "execution_count": 61,
   "metadata": {
    "collapsed": false
   },
   "outputs": [
    {
     "data": {
      "text/plain": [
       "\n",
       "   0    1 \n",
       "1828 2038 "
      ]
     },
     "execution_count": 61,
     "metadata": {},
     "output_type": "execute_result"
    }
   ],
   "source": [
    "table(Train$Party)"
   ]
  },
  {
   "cell_type": "code",
   "execution_count": 62,
   "metadata": {
    "collapsed": false
   },
   "outputs": [
    {
     "data": {
      "text/html": [
       "0.527159855147439"
      ],
      "text/latex": [
       "0.527159855147439"
      ],
      "text/markdown": [
       "0.527159855147439"
      ],
      "text/plain": [
       "[1] 0.5271599"
      ]
     },
     "execution_count": 62,
     "metadata": {},
     "output_type": "execute_result"
    }
   ],
   "source": [
    "2038/(2038+1828)"
   ]
  },
  {
   "cell_type": "code",
   "execution_count": 63,
   "metadata": {
    "collapsed": true
   },
   "outputs": [],
   "source": [
    "PrdTest = predict(LogModel1,newdata = Test, type = \"response\")"
   ]
  },
  {
   "cell_type": "code",
   "execution_count": 65,
   "metadata": {
    "collapsed": false
   },
   "outputs": [
    {
     "data": {
      "text/plain": [
       "   \n",
       "    FALSE TRUE\n",
       "  0   462  285\n",
       "  1   302  553"
      ]
     },
     "execution_count": 65,
     "metadata": {},
     "output_type": "execute_result"
    }
   ],
   "source": [
    "t = table(Test$Party,PrdTest>0.5)\n",
    "t"
   ]
  },
  {
   "cell_type": "code",
   "execution_count": 66,
   "metadata": {
    "collapsed": false
   },
   "outputs": [
    {
     "data": {
      "text/html": [
       "0.633583021223471"
      ],
      "text/latex": [
       "0.633583021223471"
      ],
      "text/markdown": [
       "0.633583021223471"
      ],
      "text/plain": [
       "[1] 0.633583"
      ]
     },
     "execution_count": 66,
     "metadata": {},
     "output_type": "execute_result"
    }
   ],
   "source": [
    "sum(diag(t))/sum(t)"
   ]
  },
  {
   "cell_type": "code",
   "execution_count": 67,
   "metadata": {
    "collapsed": true
   },
   "outputs": [],
   "source": [
    "prdFinTest = predict(LogModel1,newdata = pollTest, type = \"response\")"
   ]
  },
  {
   "cell_type": "code",
   "execution_count": 79,
   "metadata": {
    "collapsed": false
   },
   "outputs": [],
   "source": [
    "prdFinTest2 = prdFinTest"
   ]
  },
  {
   "cell_type": "code",
   "execution_count": 78,
   "metadata": {
    "collapsed": false
   },
   "outputs": [
    {
     "data": {
      "text/plain": [
       "   Mode   FALSE    TRUE    NA's \n",
       "logical     610     700      82 "
      ]
     },
     "execution_count": 78,
     "metadata": {},
     "output_type": "execute_result"
    }
   ],
   "source": [
    "summary(prdFinTest>0.5)"
   ]
  },
  {
   "cell_type": "code",
   "execution_count": 80,
   "metadata": {
    "collapsed": true
   },
   "outputs": [],
   "source": [
    "prdFinTest2[is.na(prdFinTest2)] = 1"
   ]
  },
  {
   "cell_type": "code",
   "execution_count": 86,
   "metadata": {
    "collapsed": false
   },
   "outputs": [
    {
     "data": {
      "text/plain": [
       "NULL"
      ]
     },
     "execution_count": 86,
     "metadata": {},
     "output_type": "execute_result"
    }
   ],
   "source": [
    "dim(as.vector(prdFinTest2))"
   ]
  },
  {
   "cell_type": "code",
   "execution_count": 88,
   "metadata": {
    "collapsed": false
   },
   "outputs": [
    {
     "data": {
      "text/html": [
       "0"
      ],
      "text/latex": [
       "0"
      ],
      "text/markdown": [
       "0"
      ],
      "text/plain": [
       "[1] 0"
      ]
     },
     "execution_count": 88,
     "metadata": {},
     "output_type": "execute_result"
    }
   ],
   "source": [
    "sum(is.na(prdFinTest2))"
   ]
  },
  {
   "cell_type": "code",
   "execution_count": 89,
   "metadata": {
    "collapsed": false
   },
   "outputs": [
    {
     "data": {
      "text/html": [
       "1392"
      ],
      "text/latex": [
       "1392"
      ],
      "text/markdown": [
       "1392"
      ],
      "text/plain": [
       "[1] 1392"
      ]
     },
     "execution_count": 89,
     "metadata": {},
     "output_type": "execute_result"
    }
   ],
   "source": [
    "length(prdFinTest2)"
   ]
  },
  {
   "cell_type": "code",
   "execution_count": 91,
   "metadata": {
    "collapsed": false
   },
   "outputs": [
    {
     "data": {
      "text/plain": [
       "\n",
       "FALSE  TRUE \n",
       "  610   782 "
      ]
     },
     "execution_count": 91,
     "metadata": {},
     "output_type": "execute_result"
    }
   ],
   "source": [
    "t = table(prdFinTest2>0.5)\n",
    "t"
   ]
  },
  {
   "cell_type": "code",
   "execution_count": 92,
   "metadata": {
    "collapsed": true
   },
   "outputs": [],
   "source": [
    "prdFinTest2 = prdFinTest2>0.5"
   ]
  },
  {
   "cell_type": "code",
   "execution_count": 93,
   "metadata": {
    "collapsed": false
   },
   "outputs": [
    {
     "data": {
      "text/html": [
       "<dl class=dl-horizontal>\n",
       "\t<dt>1</dt>\n",
       "\t\t<dd>TRUE</dd>\n",
       "\t<dt>2</dt>\n",
       "\t\t<dd>TRUE</dd>\n",
       "\t<dt>3</dt>\n",
       "\t\t<dd>FALSE</dd>\n",
       "\t<dt>4</dt>\n",
       "\t\t<dd>TRUE</dd>\n",
       "\t<dt>5</dt>\n",
       "\t\t<dd>TRUE</dd>\n",
       "\t<dt>6</dt>\n",
       "\t\t<dd>TRUE</dd>\n",
       "\t<dt>7</dt>\n",
       "\t\t<dd>TRUE</dd>\n",
       "\t<dt>8</dt>\n",
       "\t\t<dd>FALSE</dd>\n",
       "\t<dt>9</dt>\n",
       "\t\t<dd>TRUE</dd>\n",
       "\t<dt>10</dt>\n",
       "\t\t<dd>TRUE</dd>\n",
       "</dl>\n"
      ],
      "text/latex": [
       "\\begin{description*}\n",
       "\\item[1] TRUE\n",
       "\\item[2] TRUE\n",
       "\\item[3] FALSE\n",
       "\\item[4] TRUE\n",
       "\\item[5] TRUE\n",
       "\\item[6] TRUE\n",
       "\\item[7] TRUE\n",
       "\\item[8] FALSE\n",
       "\\item[9] TRUE\n",
       "\\item[10] TRUE\n",
       "\\end{description*}\n"
      ],
      "text/markdown": [
       "1\n",
       ":   TRUE2\n",
       ":   TRUE3\n",
       ":   FALSE4\n",
       ":   TRUE5\n",
       ":   TRUE6\n",
       ":   TRUE7\n",
       ":   TRUE8\n",
       ":   FALSE9\n",
       ":   TRUE10\n",
       ":   TRUE\n",
       "\n"
      ],
      "text/plain": [
       "    1     2     3     4     5     6     7     8     9    10 \n",
       " TRUE  TRUE FALSE  TRUE  TRUE  TRUE  TRUE FALSE  TRUE  TRUE "
      ]
     },
     "execution_count": 93,
     "metadata": {},
     "output_type": "execute_result"
    }
   ],
   "source": [
    "prdFinTest2[1:10]"
   ]
  },
  {
   "cell_type": "code",
   "execution_count": null,
   "metadata": {
    "collapsed": true
   },
   "outputs": [],
   "source": [
    "df = data.frame(pollTest$USER_ID,as.numericprdFinTest2>0.5)"
   ]
  },
  {
   "cell_type": "code",
   "execution_count": 94,
   "metadata": {
    "collapsed": true
   },
   "outputs": [],
   "source": [
    "Predictions = prdFinTest2"
   ]
  },
  {
   "cell_type": "code",
   "execution_count": 95,
   "metadata": {
    "collapsed": true
   },
   "outputs": [],
   "source": [
    "Predictions[prdFinTest2] = \"Democrat\""
   ]
  },
  {
   "cell_type": "code",
   "execution_count": 96,
   "metadata": {
    "collapsed": true
   },
   "outputs": [],
   "source": [
    "Predictions[!prdFinTest2] = \"Republican\""
   ]
  },
  {
   "cell_type": "code",
   "execution_count": 97,
   "metadata": {
    "collapsed": false
   },
   "outputs": [
    {
     "data": {
      "text/plain": [
       "Predictions\n",
       "  Democrat Republican \n",
       "       782        610 "
      ]
     },
     "execution_count": 97,
     "metadata": {},
     "output_type": "execute_result"
    }
   ],
   "source": [
    "table(Predictions)"
   ]
  },
  {
   "cell_type": "code",
   "execution_count": 98,
   "metadata": {
    "collapsed": true
   },
   "outputs": [],
   "source": [
    "df = data.frame(pollTest$USER_ID,Predictions)"
   ]
  },
  {
   "cell_type": "code",
   "execution_count": 99,
   "metadata": {
    "collapsed": false
   },
   "outputs": [
    {
     "name": "stdout",
     "output_type": "stream",
     "text": [
      "'data.frame':\t1392 obs. of  2 variables:\n",
      " $ pollTest.USER_ID: int  2 3 6 7 14 28 29 37 44 56 ...\n",
      " $ Predictions     : Factor w/ 2 levels \"Democrat\",\"Republican\": 1 1 2 1 1 1 1 2 1 1 ...\n"
     ]
    }
   ],
   "source": [
    "str(df)"
   ]
  },
  {
   "cell_type": "code",
   "execution_count": 103,
   "metadata": {
    "collapsed": false
   },
   "outputs": [],
   "source": [
    "names(df) = c(\"USER_ID\",\"Predictions\")"
   ]
  },
  {
   "cell_type": "code",
   "execution_count": 104,
   "metadata": {
    "collapsed": false
   },
   "outputs": [
    {
     "name": "stdout",
     "output_type": "stream",
     "text": [
      "'data.frame':\t1392 obs. of  2 variables:\n",
      " $ USER_ID    : int  2 3 6 7 14 28 29 37 44 56 ...\n",
      " $ Predictions: Factor w/ 2 levels \"Democrat\",\"Republican\": 1 1 2 1 1 1 1 2 1 1 ...\n"
     ]
    }
   ],
   "source": [
    "str(df)"
   ]
  },
  {
   "cell_type": "code",
   "execution_count": 105,
   "metadata": {
    "collapsed": false
   },
   "outputs": [
    {
     "data": {
      "text/plain": [
       "    USER_ID         Predictions \n",
       " Min.   :   2   Democrat  :782  \n",
       " 1st Qu.:1774   Republican:610  \n",
       " Median :3540                   \n",
       " Mean   :3524                   \n",
       " 3rd Qu.:5264                   \n",
       " Max.   :6947                   "
      ]
     },
     "execution_count": 105,
     "metadata": {},
     "output_type": "execute_result"
    }
   ],
   "source": [
    "summary(df)"
   ]
  },
  {
   "cell_type": "code",
   "execution_count": 106,
   "metadata": {
    "collapsed": false
   },
   "outputs": [
    {
     "data": {
      "text/plain": [
       "\n",
       "  Democrat Republican \n",
       "      2951       2617 "
      ]
     },
     "execution_count": 106,
     "metadata": {},
     "output_type": "execute_result"
    }
   ],
   "source": [
    "table(pollTrain$Party)"
   ]
  },
  {
   "cell_type": "code",
   "execution_count": 108,
   "metadata": {
    "collapsed": true
   },
   "outputs": [],
   "source": [
    "write.csv(df,\"submit1.csv\",row.names=FALSE)"
   ]
  },
  {
   "cell_type": "code",
   "execution_count": null,
   "metadata": {
    "collapsed": true
   },
   "outputs": [],
   "source": []
  }
 ],
 "metadata": {
  "kernelspec": {
   "display_name": "R",
   "language": "R",
   "name": "ir"
  },
  "language_info": {
   "codemirror_mode": "r",
   "file_extension": ".r",
   "mimetype": "text/x-r-source",
   "name": "R",
   "pygments_lexer": "r",
   "version": "3.2.2"
  }
 },
 "nbformat": 4,
 "nbformat_minor": 0
}
