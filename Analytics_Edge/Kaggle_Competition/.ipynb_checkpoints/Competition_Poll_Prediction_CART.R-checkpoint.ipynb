{
 "cells": [
  {
   "cell_type": "code",
   "execution_count": 1,
   "metadata": {
    "collapsed": true
   },
   "outputs": [],
   "source": [
    "PollTrainImp = read.csv(\"pollTrain_imputed.csv\")"
   ]
  },
  {
   "cell_type": "code",
   "execution_count": 2,
   "metadata": {
    "collapsed": false
   },
   "outputs": [
    {
     "name": "stdout",
     "output_type": "stream",
     "text": [
      "'data.frame':\t5568 obs. of  108 variables:\n",
      " $ USER_ID        : int  1 4 5 8 9 10 11 12 13 15 ...\n",
      " $ YOB            : int  1938 1970 1997 1983 1984 1997 1983 1996 1994 1981 ...\n",
      " $ Gender         : Factor w/ 2 levels \"Female\",\"Male\": 2 1 2 2 1 1 2 2 2 1 ...\n",
      " $ Income         : Factor w/ 6 levels \"$100,001 - $150,000\",..: 4 5 4 1 3 5 2 4 6 3 ...\n",
      " $ HouseholdStatus: Factor w/ 6 levels \"Domestic Partners (no kids)\",..: 4 2 5 4 4 5 3 5 5 4 ...\n",
      " $ EducationLevel : Factor w/ 7 levels \"Associate's Degree\",..: 2 2 6 2 6 3 4 3 3 2 ...\n",
      " $ Party          : Factor w/ 2 levels \"Democrat\",\"Republican\": 1 1 2 1 2 1 1 2 2 2 ...\n",
      " $ Q124742        : Factor w/ 2 levels \"No\",\"Yes\": 1 1 1 1 1 1 1 2 1 1 ...\n",
      " $ Q124122        : Factor w/ 2 levels \"No\",\"Yes\": 1 2 2 2 2 1 1 2 1 1 ...\n",
      " $ Q123464        : Factor w/ 2 levels \"No\",\"Yes\": 1 1 2 1 1 1 1 1 2 1 ...\n",
      " $ Q123621        : Factor w/ 2 levels \"No\",\"Yes\": 1 1 1 2 1 1 2 1 1 1 ...\n",
      " $ Q122769        : Factor w/ 2 levels \"No\",\"Yes\": 1 1 2 1 1 1 2 1 2 2 ...\n",
      " $ Q122770        : Factor w/ 2 levels \"No\",\"Yes\": 2 2 2 1 2 2 1 2 2 1 ...\n",
      " $ Q122771        : Factor w/ 2 levels \"Private\",\"Public\": 2 2 1 2 2 2 2 1 2 2 ...\n",
      " $ Q122120        : Factor w/ 2 levels \"No\",\"Yes\": 1 1 1 1 1 1 1 2 2 1 ...\n",
      " $ Q121699        : Factor w/ 2 levels \"No\",\"Yes\": 2 2 1 2 2 1 2 1 1 2 ...\n",
      " $ Q121700        : Factor w/ 2 levels \"No\",\"Yes\": 1 1 1 1 1 1 1 1 1 1 ...\n",
      " $ Q120978        : Factor w/ 2 levels \"No\",\"Yes\": 1 2 2 2 2 2 2 1 2 2 ...\n",
      " $ Q121011        : Factor w/ 2 levels \"No\",\"Yes\": 1 1 1 1 2 1 2 1 1 2 ...\n",
      " $ Q120379        : Factor w/ 2 levels \"No\",\"Yes\": 1 1 1 1 1 2 2 2 2 1 ...\n",
      " $ Q120650        : Factor w/ 2 levels \"No\",\"Yes\": 2 2 2 2 2 2 2 2 2 2 ...\n",
      " $ Q120472        : Factor w/ 2 levels \"Art\",\"Science\": 2 2 2 2 1 2 2 2 2 1 ...\n",
      " $ Q120194        : Factor w/ 2 levels \"Study first\",..: 2 1 1 2 2 2 1 2 1 2 ...\n",
      " $ Q120012        : Factor w/ 2 levels \"No\",\"Yes\": 1 2 1 1 2 2 2 1 1 2 ...\n",
      " $ Q120014        : Factor w/ 2 levels \"No\",\"Yes\": 1 2 2 2 1 2 1 2 1 1 ...\n",
      " $ Q119334        : Factor w/ 2 levels \"No\",\"Yes\": 2 1 1 2 1 1 1 1 1 1 ...\n",
      " $ Q119851        : Factor w/ 2 levels \"No\",\"Yes\": 2 1 2 1 1 2 2 1 1 2 ...\n",
      " $ Q119650        : Factor w/ 2 levels \"Giving\",\"Receiving\": 2 2 2 1 1 2 1 2 2 1 ...\n",
      " $ Q118892        : Factor w/ 2 levels \"No\",\"Yes\": 2 1 1 2 1 1 1 2 2 1 ...\n",
      " $ Q118117        : Factor w/ 2 levels \"No\",\"Yes\": 2 1 2 1 1 1 1 1 2 2 ...\n",
      " $ Q118232        : Factor w/ 2 levels \"Idealist\",\"Pragmatist\": 1 2 2 1 1 2 2 1 1 1 ...\n",
      " $ Q118233        : Factor w/ 2 levels \"No\",\"Yes\": 1 1 1 1 2 1 1 1 1 2 ...\n",
      " $ Q118237        : Factor w/ 2 levels \"No\",\"Yes\": 1 1 2 1 2 1 2 2 2 2 ...\n",
      " $ Q117186        : Factor w/ 2 levels \"Cool headed\",..: 2 1 1 1 2 1 1 1 1 1 ...\n",
      " $ Q117193        : Factor w/ 2 levels \"Odd hours\",\"Standard hours\": 1 2 1 2 2 2 1 2 2 2 ...\n",
      " $ Q116797        : Factor w/ 2 levels \"No\",\"Yes\": 2 1 1 1 1 1 1 1 1 2 ...\n",
      " $ Q116881        : Factor w/ 2 levels \"Happy\",\"Right\": 1 1 2 1 1 2 1 2 1 1 ...\n",
      " $ Q116953        : Factor w/ 2 levels \"No\",\"Yes\": 2 2 2 2 2 2 1 1 2 1 ...\n",
      " $ Q116601        : Factor w/ 2 levels \"No\",\"Yes\": 2 2 1 2 2 2 2 1 1 2 ...\n",
      " $ Q116441        : Factor w/ 2 levels \"No\",\"Yes\": 1 2 1 1 1 1 1 1 1 2 ...\n",
      " $ Q116448        : Factor w/ 2 levels \"No\",\"Yes\": 1 1 2 1 2 2 2 1 1 2 ...\n",
      " $ Q116197        : Factor w/ 2 levels \"A.M.\",\"P.M.\": 2 1 1 1 2 2 2 2 2 2 ...\n",
      " $ Q115602        : Factor w/ 2 levels \"No\",\"Yes\": 2 1 2 2 1 2 2 2 2 2 ...\n",
      " $ Q115777        : Factor w/ 2 levels \"End\",\"Start\": 2 1 2 2 1 2 1 2 2 2 ...\n",
      " $ Q115610        : Factor w/ 2 levels \"No\",\"Yes\": 2 2 2 2 1 2 2 2 2 2 ...\n",
      " $ Q115611        : Factor w/ 2 levels \"No\",\"Yes\": 1 1 2 1 1 1 1 2 1 2 ...\n",
      " $ Q115899        : Factor w/ 2 levels \"Circumstances\",..: 1 2 1 1 2 1 2 1 2 2 ...\n",
      " $ Q115390        : Factor w/ 2 levels \"No\",\"Yes\": 2 2 1 2 1 2 2 1 2 2 ...\n",
      " $ Q114961        : Factor w/ 2 levels \"No\",\"Yes\": 2 2 2 1 2 2 2 1 2 1 ...\n",
      " $ Q114748        : Factor w/ 2 levels \"No\",\"Yes\": 2 1 1 1 2 1 1 2 2 1 ...\n",
      " $ Q115195        : Factor w/ 2 levels \"No\",\"Yes\": 2 2 2 2 2 2 2 1 2 1 ...\n",
      " $ Q114517        : Factor w/ 2 levels \"No\",\"Yes\": 1 1 2 1 2 1 1 1 1 1 ...\n",
      " $ Q114386        : Factor w/ 2 levels \"Mysterious\",\"TMI\": 1 1 1 2 2 1 2 1 1 2 ...\n",
      " $ Q113992        : Factor w/ 2 levels \"No\",\"Yes\": 2 1 1 1 2 2 1 1 1 1 ...\n",
      " $ Q114152        : Factor w/ 2 levels \"No\",\"Yes\": 2 1 1 1 1 1 1 1 1 2 ...\n",
      " $ Q113583        : Factor w/ 2 levels \"Talk\",\"Tunes\": 1 1 2 1 2 2 2 2 2 2 ...\n",
      " $ Q113584        : Factor w/ 2 levels \"People\",\"Technology\": 2 2 2 1 1 2 2 1 2 2 ...\n",
      " $ Q113181        : Factor w/ 2 levels \"No\",\"Yes\": 1 1 2 1 1 1 2 2 1 2 ...\n",
      " $ Q112478        : Factor w/ 2 levels \"No\",\"Yes\": 1 2 2 2 1 2 1 1 2 1 ...\n",
      " $ Q112512        : Factor w/ 2 levels \"No\",\"Yes\": 2 2 2 2 2 2 2 2 2 2 ...\n",
      " $ Q112270        : Factor w/ 2 levels \"No\",\"Yes\": 2 2 2 2 1 2 1 2 1 2 ...\n",
      " $ Q111848        : Factor w/ 2 levels \"No\",\"Yes\": 1 1 1 2 1 2 2 2 2 1 ...\n",
      " $ Q111580        : Factor w/ 2 levels \"Demanding\",\"Supportive\": 1 1 2 2 1 2 2 1 1 1 ...\n",
      " $ Q111220        : Factor w/ 2 levels \"No\",\"Yes\": 1 1 1 1 2 1 1 1 1 2 ...\n",
      " $ Q110740        : Factor w/ 2 levels \"Mac\",\"PC\": 2 1 2 1 2 2 2 2 2 2 ...\n",
      " $ Q109367        : Factor w/ 2 levels \"No\",\"Yes\": 1 2 1 2 2 1 2 1 1 2 ...\n",
      " $ Q108950        : Factor w/ 2 levels \"Cautious\",\"Risk-friendly\": 1 1 1 2 1 1 1 1 1 1 ...\n",
      " $ Q109244        : Factor w/ 2 levels \"No\",\"Yes\": 1 1 1 1 1 1 2 1 1 1 ...\n",
      " $ Q108855        : Factor w/ 2 levels \"Umm...\",\"Yes!\": 2 1 1 1 2 2 1 2 1 2 ...\n",
      " $ Q108617        : Factor w/ 2 levels \"No\",\"Yes\": 1 1 1 1 1 1 1 1 1 1 ...\n",
      " $ Q108856        : Factor w/ 2 levels \"Socialize\",\"Space\": 2 2 2 1 1 2 2 1 2 1 ...\n",
      " $ Q108754        : Factor w/ 2 levels \"No\",\"Yes\": 1 2 1 2 1 2 1 1 1 1 ...\n",
      " $ Q108342        : Factor w/ 2 levels \"In-person\",\"Online\": 1 1 1 2 2 1 2 1 2 2 ...\n",
      " $ Q108343        : Factor w/ 2 levels \"No\",\"Yes\": 1 1 1 1 1 1 2 1 1 2 ...\n",
      " $ Q107869        : Factor w/ 2 levels \"No\",\"Yes\": 2 2 1 2 1 1 1 1 1 2 ...\n",
      " $ Q107491        : Factor w/ 2 levels \"No\",\"Yes\": 1 2 2 1 2 2 2 2 2 2 ...\n",
      " $ Q106993        : Factor w/ 2 levels \"No\",\"Yes\": 2 1 2 2 2 2 1 2 2 2 ...\n",
      " $ Q106997        : Factor w/ 2 levels \"Grrr people\",..: 2 2 1 1 2 1 1 1 1 2 ...\n",
      " $ Q106272        : Factor w/ 2 levels \"No\",\"Yes\": 2 2 2 1 2 2 2 2 1 1 ...\n",
      " $ Q106388        : Factor w/ 2 levels \"No\",\"Yes\": 1 2 1 1 1 1 1 1 1 1 ...\n",
      " $ Q106389        : Factor w/ 2 levels \"No\",\"Yes\": 2 2 1 2 2 2 2 2 2 1 ...\n",
      " $ Q106042        : Factor w/ 2 levels \"No\",\"Yes\": 2 2 1 2 2 2 1 1 1 2 ...\n",
      " $ Q105840        : Factor w/ 2 levels \"No\",\"Yes\": 1 2 1 1 2 1 2 1 1 2 ...\n",
      " $ Q105655        : Factor w/ 2 levels \"No\",\"Yes\": 1 1 1 2 2 1 1 2 2 2 ...\n",
      " $ Q104996        : Factor w/ 2 levels \"No\",\"Yes\": 2 2 1 2 1 2 1 1 1 2 ...\n",
      " $ Q103293        : Factor w/ 2 levels \"No\",\"Yes\": 1 2 2 1 1 2 2 2 2 2 ...\n",
      " $ Q102906        : Factor w/ 2 levels \"No\",\"Yes\": 1 2 1 1 1 2 2 1 1 2 ...\n",
      " $ Q102674        : Factor w/ 2 levels \"No\",\"Yes\": 1 1 1 1 2 1 1 1 1 1 ...\n",
      " $ Q102687        : Factor w/ 2 levels \"No\",\"Yes\": 2 2 2 2 1 2 1 2 2 1 ...\n",
      " $ Q102289        : Factor w/ 2 levels \"No\",\"Yes\": 1 1 1 2 1 1 1 1 1 1 ...\n",
      " $ Q102089        : Factor w/ 2 levels \"Own\",\"Rent\": 1 1 1 1 1 1 1 1 1 1 ...\n",
      " $ Q101162        : Factor w/ 2 levels \"Optimist\",\"Pessimist\": 1 1 2 1 1 2 2 2 1 1 ...\n",
      " $ Q101163        : Factor w/ 2 levels \"Dad\",\"Mom\": 2 2 2 2 2 2 2 2 1 2 ...\n",
      " $ Q101596        : Factor w/ 2 levels \"No\",\"Yes\": 2 1 1 1 1 1 1 2 1 1 ...\n",
      " $ Q100689        : Factor w/ 2 levels \"No\",\"Yes\": 2 2 1 1 2 1 2 2 1 2 ...\n",
      " $ Q100680        : Factor w/ 2 levels \"No\",\"Yes\": 1 2 1 1 2 2 2 1 2 2 ...\n",
      " $ Q100562        : Factor w/ 2 levels \"No\",\"Yes\": 1 1 1 2 2 2 2 2 1 2 ...\n",
      " $ Q99982         : Factor w/ 2 levels \"Check!\",\"Nope\": 2 2 2 1 2 2 2 2 2 1 ...\n",
      " $ Q100010        : Factor w/ 2 levels \"No\",\"Yes\": 2 1 2 1 2 2 2 2 2 2 ...\n",
      "  [list output truncated]\n"
     ]
    }
   ],
   "source": [
    "str(PollTrainImp)"
   ]
  },
  {
   "cell_type": "code",
   "execution_count": 3,
   "metadata": {
    "collapsed": true
   },
   "outputs": [],
   "source": [
    "library(caTools)"
   ]
  },
  {
   "cell_type": "code",
   "execution_count": 4,
   "metadata": {
    "collapsed": false
   },
   "outputs": [],
   "source": [
    "t = PollTrainImp$Party\n",
    "t = ifelse(PollTrainImp$Party==\"Democrat\", 1, 0)"
   ]
  },
  {
   "cell_type": "code",
   "execution_count": 5,
   "metadata": {
    "collapsed": false
   },
   "outputs": [],
   "source": [
    "PollTrainImp$Party = t"
   ]
  },
  {
   "cell_type": "code",
   "execution_count": 6,
   "metadata": {
    "collapsed": false
   },
   "outputs": [
    {
     "data": {
      "text/plain": [
       "\n",
       "   0    1 \n",
       "2617 2951 "
      ]
     },
     "execution_count": 6,
     "metadata": {},
     "output_type": "execute_result"
    }
   ],
   "source": [
    "table(PollTrainImp$Party)"
   ]
  },
  {
   "cell_type": "code",
   "execution_count": 7,
   "metadata": {
    "collapsed": true
   },
   "outputs": [],
   "source": [
    "split = sample.split(PollTrainImp$Party, SplitRatio = 0.7)"
   ]
  },
  {
   "cell_type": "code",
   "execution_count": 8,
   "metadata": {
    "collapsed": false
   },
   "outputs": [
    {
     "data": {
      "text/html": [
       "3898"
      ],
      "text/latex": [
       "3898"
      ],
      "text/markdown": [
       "3898"
      ],
      "text/plain": [
       "[1] 3898"
      ]
     },
     "execution_count": 8,
     "metadata": {},
     "output_type": "execute_result"
    },
    {
     "data": {
      "text/html": [
       "1670"
      ],
      "text/latex": [
       "1670"
      ],
      "text/markdown": [
       "1670"
      ],
      "text/plain": [
       "[1] 1670"
      ]
     },
     "execution_count": 8,
     "metadata": {},
     "output_type": "execute_result"
    }
   ],
   "source": [
    "Train = subset(PollTrainImp,split==TRUE)\n",
    "Test = subset(PollTrainImp, split == FALSE)\n",
    "nrow(Train)\n",
    "nrow(Test)"
   ]
  },
  {
   "cell_type": "code",
   "execution_count": 9,
   "metadata": {
    "collapsed": true
   },
   "outputs": [],
   "source": [
    "Train$Party= as.factor(Train$Party)\n",
    "Test$Party = as.factor(Test$Party)"
   ]
  },
  {
   "cell_type": "code",
   "execution_count": 10,
   "metadata": {
    "collapsed": false
   },
   "outputs": [
    {
     "name": "stderr",
     "output_type": "stream",
     "text": [
      "randomForest 4.6-12\n",
      "Type rfNews() to see new features/changes/bug fixes.\n"
     ]
    }
   ],
   "source": [
    "library(randomForest)"
   ]
  },
  {
   "cell_type": "code",
   "execution_count": 11,
   "metadata": {
    "collapsed": false
   },
   "outputs": [],
   "source": [
    "rfModel1 = randomForest(Party~., data = Train)"
   ]
  },
  {
   "cell_type": "code",
   "execution_count": 12,
   "metadata": {
    "collapsed": true
   },
   "outputs": [],
   "source": [
    "predForestTrain = predict(rfModel1, newdata = Train)"
   ]
  },
  {
   "cell_type": "code",
   "execution_count": 13,
   "metadata": {
    "collapsed": false
   },
   "outputs": [
    {
     "data": {
      "text/plain": [
       "   predForestTrain\n",
       "       0    1\n",
       "  0 1832    0\n",
       "  1    0 2066"
      ]
     },
     "execution_count": 13,
     "metadata": {},
     "output_type": "execute_result"
    }
   ],
   "source": [
    "t= table(Train$Party, predForestTrain)\n",
    "t"
   ]
  },
  {
   "cell_type": "code",
   "execution_count": 14,
   "metadata": {
    "collapsed": true
   },
   "outputs": [],
   "source": [
    "predForestTest = predict(rfModel1, newdata = Test)"
   ]
  },
  {
   "cell_type": "code",
   "execution_count": 15,
   "metadata": {
    "collapsed": false
   },
   "outputs": [
    {
     "data": {
      "text/plain": [
       "   predForestTest\n",
       "      0   1\n",
       "  0 418 367\n",
       "  1 274 611"
      ]
     },
     "execution_count": 15,
     "metadata": {},
     "output_type": "execute_result"
    }
   ],
   "source": [
    "t = table(Test$Party, predForestTest)\n",
    "t"
   ]
  },
  {
   "cell_type": "code",
   "execution_count": 16,
   "metadata": {
    "collapsed": false
   },
   "outputs": [
    {
     "data": {
      "text/html": [
       "0.616167664670659"
      ],
      "text/latex": [
       "0.616167664670659"
      ],
      "text/markdown": [
       "0.616167664670659"
      ],
      "text/plain": [
       "[1] 0.6161677"
      ]
     },
     "execution_count": 16,
     "metadata": {},
     "output_type": "execute_result"
    }
   ],
   "source": [
    "sum(diag(t))/nrow(Test)"
   ]
  },
  {
   "cell_type": "code",
   "execution_count": null,
   "metadata": {
    "collapsed": true
   },
   "outputs": [],
   "source": []
  }
 ],
 "metadata": {
  "kernelspec": {
   "display_name": "R",
   "language": "R",
   "name": "ir"
  },
  "language_info": {
   "codemirror_mode": "r",
   "file_extension": ".r",
   "mimetype": "text/x-r-source",
   "name": "R",
   "pygments_lexer": "r",
   "version": "3.2.2"
  }
 },
 "nbformat": 4,
 "nbformat_minor": 0
}
