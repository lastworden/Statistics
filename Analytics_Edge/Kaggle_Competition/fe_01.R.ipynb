{
 "cells": [
  {
   "cell_type": "code",
   "execution_count": 113,
   "metadata": {
    "collapsed": true
   },
   "outputs": [],
   "source": [
    "pollTrain = read.csv(\"train2016.csv\",na.strings=c(\"\",\"NA\"))\n",
    "pollTest = read.csv(\"test2016.csv\",na.strings=c(\"\",\"NA\"))\n",
    "\n",
    "trn_id = pollTrain$USER_ID\n",
    "tst_id = data.frame(USER_ID=pollTest$USER_ID)\n",
    "trn_lab = data.frame(USER_ID=pollTrain$USER_ID,Party=pollTrain$Party)\n",
    "\n",
    "\n",
    "pollTrain$Party = NULL"
   ]
  },
  {
   "cell_type": "code",
   "execution_count": 46,
   "metadata": {
    "collapsed": true
   },
   "outputs": [],
   "source": [
    "poll = rbind(pollTrain,pollTest)"
   ]
  },
  {
   "cell_type": "code",
   "execution_count": 47,
   "metadata": {
    "collapsed": false
   },
   "outputs": [
    {
     "name": "stdout",
     "output_type": "stream",
     "text": [
      "'data.frame':\t6960 obs. of  107 variables:\n",
      " $ USER_ID        : int  1 4 5 8 9 10 11 12 13 15 ...\n",
      " $ YOB            : int  1938 1970 1997 1983 1984 1997 1983 1996 NA 1981 ...\n",
      " $ Gender         : Factor w/ 2 levels \"Female\",\"Male\": 2 1 2 2 1 1 2 2 2 1 ...\n",
      " $ Income         : Factor w/ 6 levels \"$100,001 - $150,000\",..: NA 5 4 1 3 5 2 4 NA 3 ...\n",
      " $ HouseholdStatus: Factor w/ 6 levels \"Domestic Partners (no kids)\",..: 4 2 5 4 4 5 3 5 5 4 ...\n",
      " $ EducationLevel : Factor w/ 7 levels \"Associate's Degree\",..: NA 2 6 2 6 3 4 3 3 NA ...\n",
      " $ Q124742        : Factor w/ 2 levels \"No\",\"Yes\": 1 NA NA 1 1 NA NA 2 1 1 ...\n",
      " $ Q124122        : Factor w/ 2 levels \"No\",\"Yes\": NA 2 2 2 2 NA NA 2 NA 1 ...\n",
      " $ Q123464        : Factor w/ 2 levels \"No\",\"Yes\": 1 1 2 1 1 NA NA 1 2 1 ...\n",
      " $ Q123621        : Factor w/ 2 levels \"No\",\"Yes\": 1 1 1 2 1 NA NA 1 1 1 ...\n",
      " $ Q122769        : Factor w/ 2 levels \"No\",\"Yes\": 1 1 NA 1 1 1 NA 1 NA 2 ...\n",
      " $ Q122770        : Factor w/ 2 levels \"No\",\"Yes\": 2 2 2 1 2 2 NA 2 2 1 ...\n",
      " $ Q122771        : Factor w/ 2 levels \"Private\",\"Public\": 2 2 1 2 2 2 NA 1 2 2 ...\n",
      " $ Q122120        : Factor w/ 2 levels \"No\",\"Yes\": 1 1 1 1 1 1 NA 2 2 1 ...\n",
      " $ Q121699        : Factor w/ 2 levels \"No\",\"Yes\": 2 2 1 2 2 1 NA 1 1 2 ...\n",
      " $ Q121700        : Factor w/ 2 levels \"No\",\"Yes\": 1 1 1 1 1 1 NA 1 1 1 ...\n",
      " $ Q120978        : Factor w/ 2 levels \"No\",\"Yes\": NA 2 2 2 2 2 NA 1 2 2 ...\n",
      " $ Q121011        : Factor w/ 2 levels \"No\",\"Yes\": 1 1 1 1 2 1 NA 1 1 2 ...\n",
      " $ Q120379        : Factor w/ 2 levels \"No\",\"Yes\": 1 1 1 1 1 2 NA 2 2 1 ...\n",
      " $ Q120650        : Factor w/ 2 levels \"No\",\"Yes\": 2 2 2 2 2 2 NA 2 NA 2 ...\n",
      " $ Q120472        : Factor w/ 2 levels \"Art\",\"Science\": NA 2 2 2 1 2 NA 2 2 1 ...\n",
      " $ Q120194        : Factor w/ 2 levels \"Study first\",..: 2 1 1 2 2 2 NA 2 1 2 ...\n",
      " $ Q120012        : Factor w/ 2 levels \"No\",\"Yes\": 1 2 NA 1 2 2 NA 1 1 2 ...\n",
      " $ Q120014        : Factor w/ 2 levels \"No\",\"Yes\": 1 2 2 2 1 2 NA 2 1 1 ...\n",
      " $ Q119334        : Factor w/ 2 levels \"No\",\"Yes\": NA 1 1 2 1 1 1 1 NA 1 ...\n",
      " $ Q119851        : Factor w/ 2 levels \"No\",\"Yes\": 2 1 2 1 1 2 NA 1 1 2 ...\n",
      " $ Q119650        : Factor w/ 2 levels \"Giving\",\"Receiving\": NA 2 2 1 1 2 NA 2 2 1 ...\n",
      " $ Q118892        : Factor w/ 2 levels \"No\",\"Yes\": 2 1 1 2 1 1 1 2 NA 1 ...\n",
      " $ Q118117        : Factor w/ 2 levels \"No\",\"Yes\": 2 1 2 1 1 1 1 1 2 2 ...\n",
      " $ Q118232        : Factor w/ 2 levels \"Idealist\",\"Pragmatist\": 1 2 2 1 1 2 2 1 NA 1 ...\n",
      " $ Q118233        : Factor w/ 2 levels \"No\",\"Yes\": 1 1 1 1 2 1 1 1 1 2 ...\n",
      " $ Q118237        : Factor w/ 2 levels \"No\",\"Yes\": 1 1 2 1 2 1 2 2 2 2 ...\n",
      " $ Q117186        : Factor w/ 2 levels \"Cool headed\",..: NA 1 1 1 2 NA 1 1 1 1 ...\n",
      " $ Q117193        : Factor w/ 2 levels \"Odd hours\",\"Standard hours\": NA 2 1 2 2 2 1 2 NA 2 ...\n",
      " $ Q116797        : Factor w/ 2 levels \"No\",\"Yes\": 2 1 1 1 1 NA 1 1 1 2 ...\n",
      " $ Q116881        : Factor w/ 2 levels \"Happy\",\"Right\": 1 1 2 1 1 NA 1 2 1 1 ...\n",
      " $ Q116953        : Factor w/ 2 levels \"No\",\"Yes\": 2 2 2 2 2 NA 1 1 2 1 ...\n",
      " $ Q116601        : Factor w/ 2 levels \"No\",\"Yes\": 2 2 1 2 2 NA 2 1 1 2 ...\n",
      " $ Q116441        : Factor w/ 2 levels \"No\",\"Yes\": 1 2 1 1 1 NA 1 1 1 2 ...\n",
      " $ Q116448        : Factor w/ 2 levels \"No\",\"Yes\": 1 1 2 1 2 NA 2 1 1 2 ...\n",
      " $ Q116197        : Factor w/ 2 levels \"A.M.\",\"P.M.\": 2 1 1 1 2 NA 2 2 2 2 ...\n",
      " $ Q115602        : Factor w/ 2 levels \"No\",\"Yes\": 2 1 2 2 1 NA 2 2 2 2 ...\n",
      " $ Q115777        : Factor w/ 2 levels \"End\",\"Start\": 2 1 2 2 1 NA 1 2 2 2 ...\n",
      " $ Q115610        : Factor w/ 2 levels \"No\",\"Yes\": 2 2 2 2 1 NA 2 2 2 2 ...\n",
      " $ Q115611        : Factor w/ 2 levels \"No\",\"Yes\": 1 1 2 1 1 NA 1 2 1 2 ...\n",
      " $ Q115899        : Factor w/ 2 levels \"Circumstances\",..: 1 2 1 1 2 NA 2 1 2 2 ...\n",
      " $ Q115390        : Factor w/ 2 levels \"No\",\"Yes\": 2 2 1 2 1 NA 2 1 2 2 ...\n",
      " $ Q114961        : Factor w/ 2 levels \"No\",\"Yes\": 2 2 2 1 2 NA 2 1 2 1 ...\n",
      " $ Q114748        : Factor w/ 2 levels \"No\",\"Yes\": 2 1 1 1 2 NA 1 2 2 1 ...\n",
      " $ Q115195        : Factor w/ 2 levels \"No\",\"Yes\": 2 2 2 2 2 NA 2 1 NA 1 ...\n",
      " $ Q114517        : Factor w/ 2 levels \"No\",\"Yes\": 1 1 2 1 2 NA NA 1 NA 1 ...\n",
      " $ Q114386        : Factor w/ 2 levels \"Mysterious\",\"TMI\": NA 1 1 2 2 NA NA 1 NA 2 ...\n",
      " $ Q113992        : Factor w/ 2 levels \"No\",\"Yes\": 2 1 1 1 2 NA NA 1 NA 1 ...\n",
      " $ Q114152        : Factor w/ 2 levels \"No\",\"Yes\": 2 1 1 1 1 NA NA 1 NA 2 ...\n",
      " $ Q113583        : Factor w/ 2 levels \"Talk\",\"Tunes\": 1 NA 2 1 2 NA NA 2 2 2 ...\n",
      " $ Q113584        : Factor w/ 2 levels \"People\",\"Technology\": 2 NA 2 1 1 NA NA 1 2 2 ...\n",
      " $ Q113181        : Factor w/ 2 levels \"No\",\"Yes\": 1 NA 2 1 1 NA NA 2 NA 2 ...\n",
      " $ Q112478        : Factor w/ 2 levels \"No\",\"Yes\": 1 NA 2 2 1 NA NA 1 NA 1 ...\n",
      " $ Q112512        : Factor w/ 2 levels \"No\",\"Yes\": 2 NA 2 2 2 NA NA 2 2 2 ...\n",
      " $ Q112270        : Factor w/ 2 levels \"No\",\"Yes\": NA NA 2 2 1 NA NA 2 1 2 ...\n",
      " $ Q111848        : Factor w/ 2 levels \"No\",\"Yes\": 1 NA 1 2 1 2 NA 2 2 1 ...\n",
      " $ Q111580        : Factor w/ 2 levels \"Demanding\",\"Supportive\": 1 NA 2 2 1 2 2 1 1 1 ...\n",
      " $ Q111220        : Factor w/ 2 levels \"No\",\"Yes\": 1 NA 1 1 2 1 1 1 1 2 ...\n",
      " $ Q110740        : Factor w/ 2 levels \"Mac\",\"PC\": NA 1 2 1 2 2 2 2 2 2 ...\n",
      " $ Q109367        : Factor w/ 2 levels \"No\",\"Yes\": 1 2 1 2 2 NA 2 1 1 2 ...\n",
      " $ Q108950        : Factor w/ 2 levels \"Cautious\",\"Risk-friendly\": 1 1 1 2 1 NA 1 1 NA 1 ...\n",
      " $ Q109244        : Factor w/ 2 levels \"No\",\"Yes\": 1 1 1 1 1 NA 2 1 1 1 ...\n",
      " $ Q108855        : Factor w/ 2 levels \"Umm...\",\"Yes!\": 2 1 1 1 2 NA 1 2 NA 2 ...\n",
      " $ Q108617        : Factor w/ 2 levels \"No\",\"Yes\": 1 1 1 1 1 NA 1 1 1 1 ...\n",
      " $ Q108856        : Factor w/ 2 levels \"Socialize\",\"Space\": 2 2 2 1 1 NA NA 1 2 1 ...\n",
      " $ Q108754        : Factor w/ 2 levels \"No\",\"Yes\": 1 2 1 2 1 NA 1 1 1 1 ...\n",
      " $ Q108342        : Factor w/ 2 levels \"In-person\",\"Online\": 1 1 1 2 2 1 2 1 NA 2 ...\n",
      " $ Q108343        : Factor w/ 2 levels \"No\",\"Yes\": NA 1 1 1 1 1 2 1 NA 2 ...\n",
      " $ Q107869        : Factor w/ 2 levels \"No\",\"Yes\": 2 2 1 2 1 1 NA 1 NA 2 ...\n",
      " $ Q107491        : Factor w/ 2 levels \"No\",\"Yes\": 1 2 2 1 2 2 2 2 2 2 ...\n",
      " $ Q106993        : Factor w/ 2 levels \"No\",\"Yes\": 2 1 2 2 2 2 1 2 2 2 ...\n",
      " $ Q106997        : Factor w/ 2 levels \"Grrr people\",..: 2 2 1 1 2 1 1 1 1 2 ...\n",
      " $ Q106272        : Factor w/ 2 levels \"No\",\"Yes\": 2 2 2 1 2 2 2 2 NA 1 ...\n",
      " $ Q106388        : Factor w/ 2 levels \"No\",\"Yes\": 1 2 1 1 1 1 1 1 1 1 ...\n",
      " $ Q106389        : Factor w/ 2 levels \"No\",\"Yes\": 2 2 1 2 2 2 2 2 2 1 ...\n",
      " $ Q106042        : Factor w/ 2 levels \"No\",\"Yes\": 2 2 1 2 2 2 NA 1 1 2 ...\n",
      " $ Q105840        : Factor w/ 2 levels \"No\",\"Yes\": NA 2 1 1 2 1 2 1 1 2 ...\n",
      " $ Q105655        : Factor w/ 2 levels \"No\",\"Yes\": 1 1 1 2 2 1 1 2 2 2 ...\n",
      " $ Q104996        : Factor w/ 2 levels \"No\",\"Yes\": 2 2 1 2 1 2 1 1 1 2 ...\n",
      " $ Q103293        : Factor w/ 2 levels \"No\",\"Yes\": 1 NA 2 1 1 2 2 2 2 2 ...\n",
      " $ Q102906        : Factor w/ 2 levels \"No\",\"Yes\": 1 NA 1 1 1 2 2 1 1 2 ...\n",
      " $ Q102674        : Factor w/ 2 levels \"No\",\"Yes\": 1 NA 1 1 2 1 1 1 NA 1 ...\n",
      " $ Q102687        : Factor w/ 2 levels \"No\",\"Yes\": 2 NA 2 2 1 2 1 2 2 1 ...\n",
      " $ Q102289        : Factor w/ 2 levels \"No\",\"Yes\": 1 NA 1 2 1 NA NA 1 1 1 ...\n",
      " $ Q102089        : Factor w/ 2 levels \"Own\",\"Rent\": 1 NA 1 1 1 NA 1 1 NA 1 ...\n",
      " $ Q101162        : Factor w/ 2 levels \"Optimist\",\"Pessimist\": 1 NA 2 1 1 NA 2 2 1 1 ...\n",
      " $ Q101163        : Factor w/ 2 levels \"Dad\",\"Mom\": NA NA 2 2 2 NA NA 2 1 2 ...\n",
      " $ Q101596        : Factor w/ 2 levels \"No\",\"Yes\": 2 NA 1 1 1 NA NA 2 1 1 ...\n",
      " $ Q100689        : Factor w/ 2 levels \"No\",\"Yes\": 2 NA 1 1 2 NA 2 2 1 2 ...\n",
      " $ Q100680        : Factor w/ 2 levels \"No\",\"Yes\": 1 NA 1 1 2 NA 2 1 2 2 ...\n",
      " $ Q100562        : Factor w/ 2 levels \"No\",\"Yes\": 1 NA 1 2 2 NA 2 2 1 2 ...\n",
      " $ Q99982         : Factor w/ 2 levels \"Check!\",\"Nope\": 2 NA 2 1 2 NA NA 2 2 1 ...\n",
      " $ Q100010        : Factor w/ 2 levels \"No\",\"Yes\": 2 NA 2 1 2 NA 2 2 2 2 ...\n",
      " $ Q99716         : Factor w/ 2 levels \"No\",\"Yes\": 1 NA 1 1 1 NA NA 1 1 1 ...\n",
      "  [list output truncated]\n"
     ]
    }
   ],
   "source": [
    "str(poll)"
   ]
  },
  {
   "cell_type": "code",
   "execution_count": 50,
   "metadata": {
    "collapsed": true
   },
   "outputs": [],
   "source": [
    "poll$Income = as.character(poll$Income)"
   ]
  },
  {
   "cell_type": "code",
   "execution_count": 61,
   "metadata": {
    "collapsed": true
   },
   "outputs": [],
   "source": [
    "poll$Income = ifelse(poll$Income==\"under $25,000\",\"12\",poll$Income)"
   ]
  },
  {
   "cell_type": "code",
   "execution_count": 62,
   "metadata": {
    "collapsed": false
   },
   "outputs": [
    {
     "data": {
      "text/plain": [
       "\n",
       "  12  125  170 37.5 62.5 87.5 \n",
       " 949  953  922  903 1019  941 "
      ]
     },
     "execution_count": 62,
     "metadata": {},
     "output_type": "execute_result"
    }
   ],
   "source": [
    "table(poll$Income)"
   ]
  },
  {
   "cell_type": "code",
   "execution_count": 65,
   "metadata": {
    "collapsed": true
   },
   "outputs": [],
   "source": [
    "poll_bu = poll"
   ]
  },
  {
   "cell_type": "code",
   "execution_count": 82,
   "metadata": {
    "collapsed": true
   },
   "outputs": [],
   "source": [
    "poll = poll_bu"
   ]
  },
  {
   "cell_type": "code",
   "execution_count": 83,
   "metadata": {
    "collapsed": true
   },
   "outputs": [],
   "source": [
    "poll$Income = as.numeric(poll$Income)"
   ]
  },
  {
   "cell_type": "code",
   "execution_count": 84,
   "metadata": {
    "collapsed": false
   },
   "outputs": [
    {
     "data": {
      "text/plain": [
       "\n",
       "1880 1881 1896 1900 1901 1928 1931 1933 1935 1936 1937 1938 1939 1940 1941 1942 \n",
       "   1    1    1    6    1    1    2    4    2    6    3    7    9   16   17   22 \n",
       "1943 1944 1945 1946 1947 1948 1949 1950 1951 1952 1953 1954 1955 1956 1957 1958 \n",
       "  20   22   25   29   41   45   38   48   53   38   46   33   46   55   49   58 \n",
       "1959 1960 1961 1962 1963 1964 1965 1966 1967 1968 1969 1970 1971 1972 1973 1974 \n",
       "  58   61   68   69   67   75   68   83   85  105  106  137  114  115  101  112 \n",
       "1975 1976 1977 1978 1979 1980 1981 1982 1983 1984 1985 1986 1987 1988 1989 1990 \n",
       " 122  121  124  110  139  155  149  142  123  140  152  145  168  165  154  206 \n",
       "1991 1992 1993 1994 1995 1996 1997 1998 1999 2000 2001 2003 2011 2013 2039 \n",
       " 149  185  201  248  327  310  259  201  117   51    7    2    1    1    2 "
      ]
     },
     "execution_count": 84,
     "metadata": {},
     "output_type": "execute_result"
    }
   ],
   "source": [
    "table(poll$YOB)"
   ]
  },
  {
   "cell_type": "code",
   "execution_count": 79,
   "metadata": {
    "collapsed": false
   },
   "outputs": [
    {
     "data": {
      "text/plain": [
       "\n",
       "1880 1881 1896 1900 1901 1928 1931 1933 1935 1936 1937 1938 1939 1940 1941 1942 \n",
       "   1    1    1    4    1    1    1    4    2    5    2    6    7   13   15   16 \n",
       "1943 1944 1945 1946 1947 1948 1949 1950 1951 1952 1953 1954 1955 1956 1957 1958 \n",
       "  17   19   19   23   29   36   29   41   35   33   35   29   37   46   40   46 \n",
       "1959 1960 1961 1962 1963 1964 1965 1966 1967 1968 1969 1970 1971 1972 1973 1974 \n",
       "  47   47   52   60   54   61   59   62   67   85   80  107   91  101   82   92 \n",
       "1975 1976 1977 1978 1979 1980 1981 1982 1983 1984 1985 1986 1987 1988 1989 1990 \n",
       "  96   99  105   83  110  128  125  113  104  105  123  119  141  131  113  163 \n",
       "1991 1992 1993 1994 1995 1996 1997 1998 1999 2000 2001 2003 2011 2013 2039 \n",
       " 117  143  156  191  261  254  208  168   90   36    7    1    1    1    2 "
      ]
     },
     "execution_count": 79,
     "metadata": {},
     "output_type": "execute_result"
    }
   ],
   "source": [
    "orig = read.csv(\"train2016.csv\")\n",
    "table(orig$YOB)"
   ]
  },
  {
   "cell_type": "code",
   "execution_count": 74,
   "metadata": {
    "collapsed": false
   },
   "outputs": [
    {
     "data": {
      "text/plain": [
       "   Min. 1st Qu.  Median    Mean 3rd Qu.    Max.    NA's \n",
       " -24.00   22.00   32.00   35.31   45.00  135.00     415 "
      ]
     },
     "execution_count": 74,
     "metadata": {},
     "output_type": "execute_result"
    }
   ],
   "source": [
    "summary(2015-poll$YOB)"
   ]
  },
  {
   "cell_type": "code",
   "execution_count": 67,
   "metadata": {
    "collapsed": false
   },
   "outputs": [
    {
     "name": "stdout",
     "output_type": "stream",
     "text": [
      "'data.frame':\t6960 obs. of  107 variables:\n",
      " $ USER_ID        : int  1 4 5 8 9 10 11 12 13 15 ...\n",
      " $ YOB            : int  1938 1970 1997 1983 1984 1997 1983 1996 NA 1981 ...\n",
      " $ Gender         : Factor w/ 2 levels \"Female\",\"Male\": 2 1 2 2 1 1 2 2 2 1 ...\n",
      " $ Income         : num  NA 170 87.5 125 62.5 170 37.5 87.5 NA 62.5 ...\n",
      " $ HouseholdStatus: Factor w/ 6 levels \"Domestic Partners (no kids)\",..: 4 2 5 4 4 5 3 5 5 4 ...\n",
      " $ EducationLevel : Factor w/ 7 levels \"Associate's Degree\",..: NA 2 6 2 6 3 4 3 3 NA ...\n",
      " $ Q124742        : Factor w/ 2 levels \"No\",\"Yes\": 1 NA NA 1 1 NA NA 2 1 1 ...\n",
      " $ Q124122        : Factor w/ 2 levels \"No\",\"Yes\": NA 2 2 2 2 NA NA 2 NA 1 ...\n",
      " $ Q123464        : Factor w/ 2 levels \"No\",\"Yes\": 1 1 2 1 1 NA NA 1 2 1 ...\n",
      " $ Q123621        : Factor w/ 2 levels \"No\",\"Yes\": 1 1 1 2 1 NA NA 1 1 1 ...\n",
      " $ Q122769        : Factor w/ 2 levels \"No\",\"Yes\": 1 1 NA 1 1 1 NA 1 NA 2 ...\n",
      " $ Q122770        : Factor w/ 2 levels \"No\",\"Yes\": 2 2 2 1 2 2 NA 2 2 1 ...\n",
      " $ Q122771        : Factor w/ 2 levels \"Private\",\"Public\": 2 2 1 2 2 2 NA 1 2 2 ...\n",
      " $ Q122120        : Factor w/ 2 levels \"No\",\"Yes\": 1 1 1 1 1 1 NA 2 2 1 ...\n",
      " $ Q121699        : Factor w/ 2 levels \"No\",\"Yes\": 2 2 1 2 2 1 NA 1 1 2 ...\n",
      " $ Q121700        : Factor w/ 2 levels \"No\",\"Yes\": 1 1 1 1 1 1 NA 1 1 1 ...\n",
      " $ Q120978        : Factor w/ 2 levels \"No\",\"Yes\": NA 2 2 2 2 2 NA 1 2 2 ...\n",
      " $ Q121011        : Factor w/ 2 levels \"No\",\"Yes\": 1 1 1 1 2 1 NA 1 1 2 ...\n",
      " $ Q120379        : Factor w/ 2 levels \"No\",\"Yes\": 1 1 1 1 1 2 NA 2 2 1 ...\n",
      " $ Q120650        : Factor w/ 2 levels \"No\",\"Yes\": 2 2 2 2 2 2 NA 2 NA 2 ...\n",
      " $ Q120472        : Factor w/ 2 levels \"Art\",\"Science\": NA 2 2 2 1 2 NA 2 2 1 ...\n",
      " $ Q120194        : Factor w/ 2 levels \"Study first\",..: 2 1 1 2 2 2 NA 2 1 2 ...\n",
      " $ Q120012        : Factor w/ 2 levels \"No\",\"Yes\": 1 2 NA 1 2 2 NA 1 1 2 ...\n",
      " $ Q120014        : Factor w/ 2 levels \"No\",\"Yes\": 1 2 2 2 1 2 NA 2 1 1 ...\n",
      " $ Q119334        : Factor w/ 2 levels \"No\",\"Yes\": NA 1 1 2 1 1 1 1 NA 1 ...\n",
      " $ Q119851        : Factor w/ 2 levels \"No\",\"Yes\": 2 1 2 1 1 2 NA 1 1 2 ...\n",
      " $ Q119650        : Factor w/ 2 levels \"Giving\",\"Receiving\": NA 2 2 1 1 2 NA 2 2 1 ...\n",
      " $ Q118892        : Factor w/ 2 levels \"No\",\"Yes\": 2 1 1 2 1 1 1 2 NA 1 ...\n",
      " $ Q118117        : Factor w/ 2 levels \"No\",\"Yes\": 2 1 2 1 1 1 1 1 2 2 ...\n",
      " $ Q118232        : Factor w/ 2 levels \"Idealist\",\"Pragmatist\": 1 2 2 1 1 2 2 1 NA 1 ...\n",
      " $ Q118233        : Factor w/ 2 levels \"No\",\"Yes\": 1 1 1 1 2 1 1 1 1 2 ...\n",
      " $ Q118237        : Factor w/ 2 levels \"No\",\"Yes\": 1 1 2 1 2 1 2 2 2 2 ...\n",
      " $ Q117186        : Factor w/ 2 levels \"Cool headed\",..: NA 1 1 1 2 NA 1 1 1 1 ...\n",
      " $ Q117193        : Factor w/ 2 levels \"Odd hours\",\"Standard hours\": NA 2 1 2 2 2 1 2 NA 2 ...\n",
      " $ Q116797        : Factor w/ 2 levels \"No\",\"Yes\": 2 1 1 1 1 NA 1 1 1 2 ...\n",
      " $ Q116881        : Factor w/ 2 levels \"Happy\",\"Right\": 1 1 2 1 1 NA 1 2 1 1 ...\n",
      " $ Q116953        : Factor w/ 2 levels \"No\",\"Yes\": 2 2 2 2 2 NA 1 1 2 1 ...\n",
      " $ Q116601        : Factor w/ 2 levels \"No\",\"Yes\": 2 2 1 2 2 NA 2 1 1 2 ...\n",
      " $ Q116441        : Factor w/ 2 levels \"No\",\"Yes\": 1 2 1 1 1 NA 1 1 1 2 ...\n",
      " $ Q116448        : Factor w/ 2 levels \"No\",\"Yes\": 1 1 2 1 2 NA 2 1 1 2 ...\n",
      " $ Q116197        : Factor w/ 2 levels \"A.M.\",\"P.M.\": 2 1 1 1 2 NA 2 2 2 2 ...\n",
      " $ Q115602        : Factor w/ 2 levels \"No\",\"Yes\": 2 1 2 2 1 NA 2 2 2 2 ...\n",
      " $ Q115777        : Factor w/ 2 levels \"End\",\"Start\": 2 1 2 2 1 NA 1 2 2 2 ...\n",
      " $ Q115610        : Factor w/ 2 levels \"No\",\"Yes\": 2 2 2 2 1 NA 2 2 2 2 ...\n",
      " $ Q115611        : Factor w/ 2 levels \"No\",\"Yes\": 1 1 2 1 1 NA 1 2 1 2 ...\n",
      " $ Q115899        : Factor w/ 2 levels \"Circumstances\",..: 1 2 1 1 2 NA 2 1 2 2 ...\n",
      " $ Q115390        : Factor w/ 2 levels \"No\",\"Yes\": 2 2 1 2 1 NA 2 1 2 2 ...\n",
      " $ Q114961        : Factor w/ 2 levels \"No\",\"Yes\": 2 2 2 1 2 NA 2 1 2 1 ...\n",
      " $ Q114748        : Factor w/ 2 levels \"No\",\"Yes\": 2 1 1 1 2 NA 1 2 2 1 ...\n",
      " $ Q115195        : Factor w/ 2 levels \"No\",\"Yes\": 2 2 2 2 2 NA 2 1 NA 1 ...\n",
      " $ Q114517        : Factor w/ 2 levels \"No\",\"Yes\": 1 1 2 1 2 NA NA 1 NA 1 ...\n",
      " $ Q114386        : Factor w/ 2 levels \"Mysterious\",\"TMI\": NA 1 1 2 2 NA NA 1 NA 2 ...\n",
      " $ Q113992        : Factor w/ 2 levels \"No\",\"Yes\": 2 1 1 1 2 NA NA 1 NA 1 ...\n",
      " $ Q114152        : Factor w/ 2 levels \"No\",\"Yes\": 2 1 1 1 1 NA NA 1 NA 2 ...\n",
      " $ Q113583        : Factor w/ 2 levels \"Talk\",\"Tunes\": 1 NA 2 1 2 NA NA 2 2 2 ...\n",
      " $ Q113584        : Factor w/ 2 levels \"People\",\"Technology\": 2 NA 2 1 1 NA NA 1 2 2 ...\n",
      " $ Q113181        : Factor w/ 2 levels \"No\",\"Yes\": 1 NA 2 1 1 NA NA 2 NA 2 ...\n",
      " $ Q112478        : Factor w/ 2 levels \"No\",\"Yes\": 1 NA 2 2 1 NA NA 1 NA 1 ...\n",
      " $ Q112512        : Factor w/ 2 levels \"No\",\"Yes\": 2 NA 2 2 2 NA NA 2 2 2 ...\n",
      " $ Q112270        : Factor w/ 2 levels \"No\",\"Yes\": NA NA 2 2 1 NA NA 2 1 2 ...\n",
      " $ Q111848        : Factor w/ 2 levels \"No\",\"Yes\": 1 NA 1 2 1 2 NA 2 2 1 ...\n",
      " $ Q111580        : Factor w/ 2 levels \"Demanding\",\"Supportive\": 1 NA 2 2 1 2 2 1 1 1 ...\n",
      " $ Q111220        : Factor w/ 2 levels \"No\",\"Yes\": 1 NA 1 1 2 1 1 1 1 2 ...\n",
      " $ Q110740        : Factor w/ 2 levels \"Mac\",\"PC\": NA 1 2 1 2 2 2 2 2 2 ...\n",
      " $ Q109367        : Factor w/ 2 levels \"No\",\"Yes\": 1 2 1 2 2 NA 2 1 1 2 ...\n",
      " $ Q108950        : Factor w/ 2 levels \"Cautious\",\"Risk-friendly\": 1 1 1 2 1 NA 1 1 NA 1 ...\n",
      " $ Q109244        : Factor w/ 2 levels \"No\",\"Yes\": 1 1 1 1 1 NA 2 1 1 1 ...\n",
      " $ Q108855        : Factor w/ 2 levels \"Umm...\",\"Yes!\": 2 1 1 1 2 NA 1 2 NA 2 ...\n",
      " $ Q108617        : Factor w/ 2 levels \"No\",\"Yes\": 1 1 1 1 1 NA 1 1 1 1 ...\n",
      " $ Q108856        : Factor w/ 2 levels \"Socialize\",\"Space\": 2 2 2 1 1 NA NA 1 2 1 ...\n",
      " $ Q108754        : Factor w/ 2 levels \"No\",\"Yes\": 1 2 1 2 1 NA 1 1 1 1 ...\n",
      " $ Q108342        : Factor w/ 2 levels \"In-person\",\"Online\": 1 1 1 2 2 1 2 1 NA 2 ...\n",
      " $ Q108343        : Factor w/ 2 levels \"No\",\"Yes\": NA 1 1 1 1 1 2 1 NA 2 ...\n",
      " $ Q107869        : Factor w/ 2 levels \"No\",\"Yes\": 2 2 1 2 1 1 NA 1 NA 2 ...\n",
      " $ Q107491        : Factor w/ 2 levels \"No\",\"Yes\": 1 2 2 1 2 2 2 2 2 2 ...\n",
      " $ Q106993        : Factor w/ 2 levels \"No\",\"Yes\": 2 1 2 2 2 2 1 2 2 2 ...\n",
      " $ Q106997        : Factor w/ 2 levels \"Grrr people\",..: 2 2 1 1 2 1 1 1 1 2 ...\n",
      " $ Q106272        : Factor w/ 2 levels \"No\",\"Yes\": 2 2 2 1 2 2 2 2 NA 1 ...\n",
      " $ Q106388        : Factor w/ 2 levels \"No\",\"Yes\": 1 2 1 1 1 1 1 1 1 1 ...\n",
      " $ Q106389        : Factor w/ 2 levels \"No\",\"Yes\": 2 2 1 2 2 2 2 2 2 1 ...\n",
      " $ Q106042        : Factor w/ 2 levels \"No\",\"Yes\": 2 2 1 2 2 2 NA 1 1 2 ...\n",
      " $ Q105840        : Factor w/ 2 levels \"No\",\"Yes\": NA 2 1 1 2 1 2 1 1 2 ...\n",
      " $ Q105655        : Factor w/ 2 levels \"No\",\"Yes\": 1 1 1 2 2 1 1 2 2 2 ...\n",
      " $ Q104996        : Factor w/ 2 levels \"No\",\"Yes\": 2 2 1 2 1 2 1 1 1 2 ...\n",
      " $ Q103293        : Factor w/ 2 levels \"No\",\"Yes\": 1 NA 2 1 1 2 2 2 2 2 ...\n",
      " $ Q102906        : Factor w/ 2 levels \"No\",\"Yes\": 1 NA 1 1 1 2 2 1 1 2 ...\n",
      " $ Q102674        : Factor w/ 2 levels \"No\",\"Yes\": 1 NA 1 1 2 1 1 1 NA 1 ...\n",
      " $ Q102687        : Factor w/ 2 levels \"No\",\"Yes\": 2 NA 2 2 1 2 1 2 2 1 ...\n",
      " $ Q102289        : Factor w/ 2 levels \"No\",\"Yes\": 1 NA 1 2 1 NA NA 1 1 1 ...\n",
      " $ Q102089        : Factor w/ 2 levels \"Own\",\"Rent\": 1 NA 1 1 1 NA 1 1 NA 1 ...\n",
      " $ Q101162        : Factor w/ 2 levels \"Optimist\",\"Pessimist\": 1 NA 2 1 1 NA 2 2 1 1 ...\n",
      " $ Q101163        : Factor w/ 2 levels \"Dad\",\"Mom\": NA NA 2 2 2 NA NA 2 1 2 ...\n",
      " $ Q101596        : Factor w/ 2 levels \"No\",\"Yes\": 2 NA 1 1 1 NA NA 2 1 1 ...\n",
      " $ Q100689        : Factor w/ 2 levels \"No\",\"Yes\": 2 NA 1 1 2 NA 2 2 1 2 ...\n",
      " $ Q100680        : Factor w/ 2 levels \"No\",\"Yes\": 1 NA 1 1 2 NA 2 1 2 2 ...\n",
      " $ Q100562        : Factor w/ 2 levels \"No\",\"Yes\": 1 NA 1 2 2 NA 2 2 1 2 ...\n",
      " $ Q99982         : Factor w/ 2 levels \"Check!\",\"Nope\": 2 NA 2 1 2 NA NA 2 2 1 ...\n",
      " $ Q100010        : Factor w/ 2 levels \"No\",\"Yes\": 2 NA 2 1 2 NA 2 2 2 2 ...\n",
      " $ Q99716         : Factor w/ 2 levels \"No\",\"Yes\": 1 NA 1 1 1 NA NA 1 1 1 ...\n",
      "  [list output truncated]\n"
     ]
    }
   ],
   "source": [
    "str(poll)"
   ]
  },
  {
   "cell_type": "code",
   "execution_count": 86,
   "metadata": {
    "collapsed": false
   },
   "outputs": [],
   "source": [
    "poll=subset(poll,!poll$YOB %in% c(2011,2013,2039,1880,1881,1896))"
   ]
  },
  {
   "cell_type": "code",
   "execution_count": 87,
   "metadata": {
    "collapsed": false
   },
   "outputs": [
    {
     "data": {
      "text/html": [
       "6953"
      ],
      "text/latex": [
       "6953"
      ],
      "text/markdown": [
       "6953"
      ],
      "text/plain": [
       "[1] 6953"
      ]
     },
     "execution_count": 87,
     "metadata": {},
     "output_type": "execute_result"
    }
   ],
   "source": [
    "nrow(poll)"
   ]
  },
  {
   "cell_type": "code",
   "execution_count": 92,
   "metadata": {
    "collapsed": false
   },
   "outputs": [],
   "source": [
    "poll$YOB = ifelse(is.na(poll$YOB),poll$YOB,2015-poll$YOB)"
   ]
  },
  {
   "cell_type": "code",
   "execution_count": 94,
   "metadata": {
    "collapsed": false
   },
   "outputs": [
    {
     "name": "stdout",
     "output_type": "stream",
     "text": [
      "'data.frame':\t6953 obs. of  107 variables:\n",
      " $ USER_ID        : int  1 4 5 8 9 10 11 12 13 15 ...\n",
      " $ YOB            : num  77 45 18 32 31 18 32 19 NA 34 ...\n",
      " $ Gender         : Factor w/ 2 levels \"Female\",\"Male\": 2 1 2 2 1 1 2 2 2 1 ...\n",
      " $ Income         : num  NA 170 87.5 125 62.5 170 37.5 87.5 NA 62.5 ...\n",
      " $ HouseholdStatus: Factor w/ 6 levels \"Domestic Partners (no kids)\",..: 4 2 5 4 4 5 3 5 5 4 ...\n",
      " $ EducationLevel : Factor w/ 7 levels \"Associate's Degree\",..: NA 2 6 2 6 3 4 3 3 NA ...\n",
      " $ Q124742        : Factor w/ 2 levels \"No\",\"Yes\": 1 NA NA 1 1 NA NA 2 1 1 ...\n",
      " $ Q124122        : Factor w/ 2 levels \"No\",\"Yes\": NA 2 2 2 2 NA NA 2 NA 1 ...\n",
      " $ Q123464        : Factor w/ 2 levels \"No\",\"Yes\": 1 1 2 1 1 NA NA 1 2 1 ...\n",
      " $ Q123621        : Factor w/ 2 levels \"No\",\"Yes\": 1 1 1 2 1 NA NA 1 1 1 ...\n",
      " $ Q122769        : Factor w/ 2 levels \"No\",\"Yes\": 1 1 NA 1 1 1 NA 1 NA 2 ...\n",
      " $ Q122770        : Factor w/ 2 levels \"No\",\"Yes\": 2 2 2 1 2 2 NA 2 2 1 ...\n",
      " $ Q122771        : Factor w/ 2 levels \"Private\",\"Public\": 2 2 1 2 2 2 NA 1 2 2 ...\n",
      " $ Q122120        : Factor w/ 2 levels \"No\",\"Yes\": 1 1 1 1 1 1 NA 2 2 1 ...\n",
      " $ Q121699        : Factor w/ 2 levels \"No\",\"Yes\": 2 2 1 2 2 1 NA 1 1 2 ...\n",
      " $ Q121700        : Factor w/ 2 levels \"No\",\"Yes\": 1 1 1 1 1 1 NA 1 1 1 ...\n",
      " $ Q120978        : Factor w/ 2 levels \"No\",\"Yes\": NA 2 2 2 2 2 NA 1 2 2 ...\n",
      " $ Q121011        : Factor w/ 2 levels \"No\",\"Yes\": 1 1 1 1 2 1 NA 1 1 2 ...\n",
      " $ Q120379        : Factor w/ 2 levels \"No\",\"Yes\": 1 1 1 1 1 2 NA 2 2 1 ...\n",
      " $ Q120650        : Factor w/ 2 levels \"No\",\"Yes\": 2 2 2 2 2 2 NA 2 NA 2 ...\n",
      " $ Q120472        : Factor w/ 2 levels \"Art\",\"Science\": NA 2 2 2 1 2 NA 2 2 1 ...\n",
      " $ Q120194        : Factor w/ 2 levels \"Study first\",..: 2 1 1 2 2 2 NA 2 1 2 ...\n",
      " $ Q120012        : Factor w/ 2 levels \"No\",\"Yes\": 1 2 NA 1 2 2 NA 1 1 2 ...\n",
      " $ Q120014        : Factor w/ 2 levels \"No\",\"Yes\": 1 2 2 2 1 2 NA 2 1 1 ...\n",
      " $ Q119334        : Factor w/ 2 levels \"No\",\"Yes\": NA 1 1 2 1 1 1 1 NA 1 ...\n",
      " $ Q119851        : Factor w/ 2 levels \"No\",\"Yes\": 2 1 2 1 1 2 NA 1 1 2 ...\n",
      " $ Q119650        : Factor w/ 2 levels \"Giving\",\"Receiving\": NA 2 2 1 1 2 NA 2 2 1 ...\n",
      " $ Q118892        : Factor w/ 2 levels \"No\",\"Yes\": 2 1 1 2 1 1 1 2 NA 1 ...\n",
      " $ Q118117        : Factor w/ 2 levels \"No\",\"Yes\": 2 1 2 1 1 1 1 1 2 2 ...\n",
      " $ Q118232        : Factor w/ 2 levels \"Idealist\",\"Pragmatist\": 1 2 2 1 1 2 2 1 NA 1 ...\n",
      " $ Q118233        : Factor w/ 2 levels \"No\",\"Yes\": 1 1 1 1 2 1 1 1 1 2 ...\n",
      " $ Q118237        : Factor w/ 2 levels \"No\",\"Yes\": 1 1 2 1 2 1 2 2 2 2 ...\n",
      " $ Q117186        : Factor w/ 2 levels \"Cool headed\",..: NA 1 1 1 2 NA 1 1 1 1 ...\n",
      " $ Q117193        : Factor w/ 2 levels \"Odd hours\",\"Standard hours\": NA 2 1 2 2 2 1 2 NA 2 ...\n",
      " $ Q116797        : Factor w/ 2 levels \"No\",\"Yes\": 2 1 1 1 1 NA 1 1 1 2 ...\n",
      " $ Q116881        : Factor w/ 2 levels \"Happy\",\"Right\": 1 1 2 1 1 NA 1 2 1 1 ...\n",
      " $ Q116953        : Factor w/ 2 levels \"No\",\"Yes\": 2 2 2 2 2 NA 1 1 2 1 ...\n",
      " $ Q116601        : Factor w/ 2 levels \"No\",\"Yes\": 2 2 1 2 2 NA 2 1 1 2 ...\n",
      " $ Q116441        : Factor w/ 2 levels \"No\",\"Yes\": 1 2 1 1 1 NA 1 1 1 2 ...\n",
      " $ Q116448        : Factor w/ 2 levels \"No\",\"Yes\": 1 1 2 1 2 NA 2 1 1 2 ...\n",
      " $ Q116197        : Factor w/ 2 levels \"A.M.\",\"P.M.\": 2 1 1 1 2 NA 2 2 2 2 ...\n",
      " $ Q115602        : Factor w/ 2 levels \"No\",\"Yes\": 2 1 2 2 1 NA 2 2 2 2 ...\n",
      " $ Q115777        : Factor w/ 2 levels \"End\",\"Start\": 2 1 2 2 1 NA 1 2 2 2 ...\n",
      " $ Q115610        : Factor w/ 2 levels \"No\",\"Yes\": 2 2 2 2 1 NA 2 2 2 2 ...\n",
      " $ Q115611        : Factor w/ 2 levels \"No\",\"Yes\": 1 1 2 1 1 NA 1 2 1 2 ...\n",
      " $ Q115899        : Factor w/ 2 levels \"Circumstances\",..: 1 2 1 1 2 NA 2 1 2 2 ...\n",
      " $ Q115390        : Factor w/ 2 levels \"No\",\"Yes\": 2 2 1 2 1 NA 2 1 2 2 ...\n",
      " $ Q114961        : Factor w/ 2 levels \"No\",\"Yes\": 2 2 2 1 2 NA 2 1 2 1 ...\n",
      " $ Q114748        : Factor w/ 2 levels \"No\",\"Yes\": 2 1 1 1 2 NA 1 2 2 1 ...\n",
      " $ Q115195        : Factor w/ 2 levels \"No\",\"Yes\": 2 2 2 2 2 NA 2 1 NA 1 ...\n",
      " $ Q114517        : Factor w/ 2 levels \"No\",\"Yes\": 1 1 2 1 2 NA NA 1 NA 1 ...\n",
      " $ Q114386        : Factor w/ 2 levels \"Mysterious\",\"TMI\": NA 1 1 2 2 NA NA 1 NA 2 ...\n",
      " $ Q113992        : Factor w/ 2 levels \"No\",\"Yes\": 2 1 1 1 2 NA NA 1 NA 1 ...\n",
      " $ Q114152        : Factor w/ 2 levels \"No\",\"Yes\": 2 1 1 1 1 NA NA 1 NA 2 ...\n",
      " $ Q113583        : Factor w/ 2 levels \"Talk\",\"Tunes\": 1 NA 2 1 2 NA NA 2 2 2 ...\n",
      " $ Q113584        : Factor w/ 2 levels \"People\",\"Technology\": 2 NA 2 1 1 NA NA 1 2 2 ...\n",
      " $ Q113181        : Factor w/ 2 levels \"No\",\"Yes\": 1 NA 2 1 1 NA NA 2 NA 2 ...\n",
      " $ Q112478        : Factor w/ 2 levels \"No\",\"Yes\": 1 NA 2 2 1 NA NA 1 NA 1 ...\n",
      " $ Q112512        : Factor w/ 2 levels \"No\",\"Yes\": 2 NA 2 2 2 NA NA 2 2 2 ...\n",
      " $ Q112270        : Factor w/ 2 levels \"No\",\"Yes\": NA NA 2 2 1 NA NA 2 1 2 ...\n",
      " $ Q111848        : Factor w/ 2 levels \"No\",\"Yes\": 1 NA 1 2 1 2 NA 2 2 1 ...\n",
      " $ Q111580        : Factor w/ 2 levels \"Demanding\",\"Supportive\": 1 NA 2 2 1 2 2 1 1 1 ...\n",
      " $ Q111220        : Factor w/ 2 levels \"No\",\"Yes\": 1 NA 1 1 2 1 1 1 1 2 ...\n",
      " $ Q110740        : Factor w/ 2 levels \"Mac\",\"PC\": NA 1 2 1 2 2 2 2 2 2 ...\n",
      " $ Q109367        : Factor w/ 2 levels \"No\",\"Yes\": 1 2 1 2 2 NA 2 1 1 2 ...\n",
      " $ Q108950        : Factor w/ 2 levels \"Cautious\",\"Risk-friendly\": 1 1 1 2 1 NA 1 1 NA 1 ...\n",
      " $ Q109244        : Factor w/ 2 levels \"No\",\"Yes\": 1 1 1 1 1 NA 2 1 1 1 ...\n",
      " $ Q108855        : Factor w/ 2 levels \"Umm...\",\"Yes!\": 2 1 1 1 2 NA 1 2 NA 2 ...\n",
      " $ Q108617        : Factor w/ 2 levels \"No\",\"Yes\": 1 1 1 1 1 NA 1 1 1 1 ...\n",
      " $ Q108856        : Factor w/ 2 levels \"Socialize\",\"Space\": 2 2 2 1 1 NA NA 1 2 1 ...\n",
      " $ Q108754        : Factor w/ 2 levels \"No\",\"Yes\": 1 2 1 2 1 NA 1 1 1 1 ...\n",
      " $ Q108342        : Factor w/ 2 levels \"In-person\",\"Online\": 1 1 1 2 2 1 2 1 NA 2 ...\n",
      " $ Q108343        : Factor w/ 2 levels \"No\",\"Yes\": NA 1 1 1 1 1 2 1 NA 2 ...\n",
      " $ Q107869        : Factor w/ 2 levels \"No\",\"Yes\": 2 2 1 2 1 1 NA 1 NA 2 ...\n",
      " $ Q107491        : Factor w/ 2 levels \"No\",\"Yes\": 1 2 2 1 2 2 2 2 2 2 ...\n",
      " $ Q106993        : Factor w/ 2 levels \"No\",\"Yes\": 2 1 2 2 2 2 1 2 2 2 ...\n",
      " $ Q106997        : Factor w/ 2 levels \"Grrr people\",..: 2 2 1 1 2 1 1 1 1 2 ...\n",
      " $ Q106272        : Factor w/ 2 levels \"No\",\"Yes\": 2 2 2 1 2 2 2 2 NA 1 ...\n",
      " $ Q106388        : Factor w/ 2 levels \"No\",\"Yes\": 1 2 1 1 1 1 1 1 1 1 ...\n",
      " $ Q106389        : Factor w/ 2 levels \"No\",\"Yes\": 2 2 1 2 2 2 2 2 2 1 ...\n",
      " $ Q106042        : Factor w/ 2 levels \"No\",\"Yes\": 2 2 1 2 2 2 NA 1 1 2 ...\n",
      " $ Q105840        : Factor w/ 2 levels \"No\",\"Yes\": NA 2 1 1 2 1 2 1 1 2 ...\n",
      " $ Q105655        : Factor w/ 2 levels \"No\",\"Yes\": 1 1 1 2 2 1 1 2 2 2 ...\n",
      " $ Q104996        : Factor w/ 2 levels \"No\",\"Yes\": 2 2 1 2 1 2 1 1 1 2 ...\n",
      " $ Q103293        : Factor w/ 2 levels \"No\",\"Yes\": 1 NA 2 1 1 2 2 2 2 2 ...\n",
      " $ Q102906        : Factor w/ 2 levels \"No\",\"Yes\": 1 NA 1 1 1 2 2 1 1 2 ...\n",
      " $ Q102674        : Factor w/ 2 levels \"No\",\"Yes\": 1 NA 1 1 2 1 1 1 NA 1 ...\n",
      " $ Q102687        : Factor w/ 2 levels \"No\",\"Yes\": 2 NA 2 2 1 2 1 2 2 1 ...\n",
      " $ Q102289        : Factor w/ 2 levels \"No\",\"Yes\": 1 NA 1 2 1 NA NA 1 1 1 ...\n",
      " $ Q102089        : Factor w/ 2 levels \"Own\",\"Rent\": 1 NA 1 1 1 NA 1 1 NA 1 ...\n",
      " $ Q101162        : Factor w/ 2 levels \"Optimist\",\"Pessimist\": 1 NA 2 1 1 NA 2 2 1 1 ...\n",
      " $ Q101163        : Factor w/ 2 levels \"Dad\",\"Mom\": NA NA 2 2 2 NA NA 2 1 2 ...\n",
      " $ Q101596        : Factor w/ 2 levels \"No\",\"Yes\": 2 NA 1 1 1 NA NA 2 1 1 ...\n",
      " $ Q100689        : Factor w/ 2 levels \"No\",\"Yes\": 2 NA 1 1 2 NA 2 2 1 2 ...\n",
      " $ Q100680        : Factor w/ 2 levels \"No\",\"Yes\": 1 NA 1 1 2 NA 2 1 2 2 ...\n",
      " $ Q100562        : Factor w/ 2 levels \"No\",\"Yes\": 1 NA 1 2 2 NA 2 2 1 2 ...\n",
      " $ Q99982         : Factor w/ 2 levels \"Check!\",\"Nope\": 2 NA 2 1 2 NA NA 2 2 1 ...\n",
      " $ Q100010        : Factor w/ 2 levels \"No\",\"Yes\": 2 NA 2 1 2 NA 2 2 2 2 ...\n",
      " $ Q99716         : Factor w/ 2 levels \"No\",\"Yes\": 1 NA 1 1 1 NA NA 1 1 1 ...\n",
      "  [list output truncated]\n"
     ]
    }
   ],
   "source": [
    "str(poll)"
   ]
  },
  {
   "cell_type": "code",
   "execution_count": 73,
   "metadata": {
    "collapsed": false
   },
   "outputs": [
    {
     "name": "stderr",
     "output_type": "stream",
     "text": [
      "Loading required package: Rcpp\n",
      "Loading required package: lattice\n",
      "mice 2.22 2014-06-10\n"
     ]
    }
   ],
   "source": [
    "library(mice)"
   ]
  },
  {
   "cell_type": "code",
   "execution_count": 95,
   "metadata": {
    "collapsed": false
   },
   "outputs": [
    {
     "data": {
      "text/html": [
       "<ol class=list-inline>\n",
       "\t<li>'YOB'</li>\n",
       "\t<li>'Gender'</li>\n",
       "\t<li>'Income'</li>\n",
       "\t<li>'HouseholdStatus'</li>\n",
       "\t<li>'EducationLevel'</li>\n",
       "\t<li>'Q124742'</li>\n",
       "\t<li>'Q124122'</li>\n",
       "\t<li>'Q123464'</li>\n",
       "\t<li>'Q123621'</li>\n",
       "\t<li>'Q122769'</li>\n",
       "\t<li>'Q122770'</li>\n",
       "\t<li>'Q122771'</li>\n",
       "\t<li>'Q122120'</li>\n",
       "\t<li>'Q121699'</li>\n",
       "\t<li>'Q121700'</li>\n",
       "\t<li>'Q120978'</li>\n",
       "\t<li>'Q121011'</li>\n",
       "\t<li>'Q120379'</li>\n",
       "\t<li>'Q120650'</li>\n",
       "\t<li>'Q120472'</li>\n",
       "\t<li>'Q120194'</li>\n",
       "\t<li>'Q120012'</li>\n",
       "\t<li>'Q120014'</li>\n",
       "\t<li>'Q119334'</li>\n",
       "\t<li>'Q119851'</li>\n",
       "\t<li>'Q119650'</li>\n",
       "\t<li>'Q118892'</li>\n",
       "\t<li>'Q118117'</li>\n",
       "\t<li>'Q118232'</li>\n",
       "\t<li>'Q118233'</li>\n",
       "\t<li>'Q118237'</li>\n",
       "\t<li>'Q117186'</li>\n",
       "\t<li>'Q117193'</li>\n",
       "\t<li>'Q116797'</li>\n",
       "\t<li>'Q116881'</li>\n",
       "\t<li>'Q116953'</li>\n",
       "\t<li>'Q116601'</li>\n",
       "\t<li>'Q116441'</li>\n",
       "\t<li>'Q116448'</li>\n",
       "\t<li>'Q116197'</li>\n",
       "\t<li>'Q115602'</li>\n",
       "\t<li>'Q115777'</li>\n",
       "\t<li>'Q115610'</li>\n",
       "\t<li>'Q115611'</li>\n",
       "\t<li>'Q115899'</li>\n",
       "\t<li>'Q115390'</li>\n",
       "\t<li>'Q114961'</li>\n",
       "\t<li>'Q114748'</li>\n",
       "\t<li>'Q115195'</li>\n",
       "\t<li>'Q114517'</li>\n",
       "\t<li>'Q114386'</li>\n",
       "\t<li>'Q113992'</li>\n",
       "\t<li>'Q114152'</li>\n",
       "\t<li>'Q113583'</li>\n",
       "\t<li>'Q113584'</li>\n",
       "\t<li>'Q113181'</li>\n",
       "\t<li>'Q112478'</li>\n",
       "\t<li>'Q112512'</li>\n",
       "\t<li>'Q112270'</li>\n",
       "\t<li>'Q111848'</li>\n",
       "\t<li>'Q111580'</li>\n",
       "\t<li>'Q111220'</li>\n",
       "\t<li>'Q110740'</li>\n",
       "\t<li>'Q109367'</li>\n",
       "\t<li>'Q108950'</li>\n",
       "\t<li>'Q109244'</li>\n",
       "\t<li>'Q108855'</li>\n",
       "\t<li>'Q108617'</li>\n",
       "\t<li>'Q108856'</li>\n",
       "\t<li>'Q108754'</li>\n",
       "\t<li>'Q108342'</li>\n",
       "\t<li>'Q108343'</li>\n",
       "\t<li>'Q107869'</li>\n",
       "\t<li>'Q107491'</li>\n",
       "\t<li>'Q106993'</li>\n",
       "\t<li>'Q106997'</li>\n",
       "\t<li>'Q106272'</li>\n",
       "\t<li>'Q106388'</li>\n",
       "\t<li>'Q106389'</li>\n",
       "\t<li>'Q106042'</li>\n",
       "\t<li>'Q105840'</li>\n",
       "\t<li>'Q105655'</li>\n",
       "\t<li>'Q104996'</li>\n",
       "\t<li>'Q103293'</li>\n",
       "\t<li>'Q102906'</li>\n",
       "\t<li>'Q102674'</li>\n",
       "\t<li>'Q102687'</li>\n",
       "\t<li>'Q102289'</li>\n",
       "\t<li>'Q102089'</li>\n",
       "\t<li>'Q101162'</li>\n",
       "\t<li>'Q101163'</li>\n",
       "\t<li>'Q101596'</li>\n",
       "\t<li>'Q100689'</li>\n",
       "\t<li>'Q100680'</li>\n",
       "\t<li>'Q100562'</li>\n",
       "\t<li>'Q99982'</li>\n",
       "\t<li>'Q100010'</li>\n",
       "\t<li>'Q99716'</li>\n",
       "\t<li>'Q99581'</li>\n",
       "\t<li>'Q99480'</li>\n",
       "\t<li>'Q98869'</li>\n",
       "\t<li>'Q98578'</li>\n",
       "\t<li>'Q98059'</li>\n",
       "\t<li>'Q98078'</li>\n",
       "\t<li>'Q98197'</li>\n",
       "\t<li>'Q96024'</li>\n",
       "</ol>\n"
      ],
      "text/latex": [
       "\\begin{enumerate*}\n",
       "\\item 'YOB'\n",
       "\\item 'Gender'\n",
       "\\item 'Income'\n",
       "\\item 'HouseholdStatus'\n",
       "\\item 'EducationLevel'\n",
       "\\item 'Q124742'\n",
       "\\item 'Q124122'\n",
       "\\item 'Q123464'\n",
       "\\item 'Q123621'\n",
       "\\item 'Q122769'\n",
       "\\item 'Q122770'\n",
       "\\item 'Q122771'\n",
       "\\item 'Q122120'\n",
       "\\item 'Q121699'\n",
       "\\item 'Q121700'\n",
       "\\item 'Q120978'\n",
       "\\item 'Q121011'\n",
       "\\item 'Q120379'\n",
       "\\item 'Q120650'\n",
       "\\item 'Q120472'\n",
       "\\item 'Q120194'\n",
       "\\item 'Q120012'\n",
       "\\item 'Q120014'\n",
       "\\item 'Q119334'\n",
       "\\item 'Q119851'\n",
       "\\item 'Q119650'\n",
       "\\item 'Q118892'\n",
       "\\item 'Q118117'\n",
       "\\item 'Q118232'\n",
       "\\item 'Q118233'\n",
       "\\item 'Q118237'\n",
       "\\item 'Q117186'\n",
       "\\item 'Q117193'\n",
       "\\item 'Q116797'\n",
       "\\item 'Q116881'\n",
       "\\item 'Q116953'\n",
       "\\item 'Q116601'\n",
       "\\item 'Q116441'\n",
       "\\item 'Q116448'\n",
       "\\item 'Q116197'\n",
       "\\item 'Q115602'\n",
       "\\item 'Q115777'\n",
       "\\item 'Q115610'\n",
       "\\item 'Q115611'\n",
       "\\item 'Q115899'\n",
       "\\item 'Q115390'\n",
       "\\item 'Q114961'\n",
       "\\item 'Q114748'\n",
       "\\item 'Q115195'\n",
       "\\item 'Q114517'\n",
       "\\item 'Q114386'\n",
       "\\item 'Q113992'\n",
       "\\item 'Q114152'\n",
       "\\item 'Q113583'\n",
       "\\item 'Q113584'\n",
       "\\item 'Q113181'\n",
       "\\item 'Q112478'\n",
       "\\item 'Q112512'\n",
       "\\item 'Q112270'\n",
       "\\item 'Q111848'\n",
       "\\item 'Q111580'\n",
       "\\item 'Q111220'\n",
       "\\item 'Q110740'\n",
       "\\item 'Q109367'\n",
       "\\item 'Q108950'\n",
       "\\item 'Q109244'\n",
       "\\item 'Q108855'\n",
       "\\item 'Q108617'\n",
       "\\item 'Q108856'\n",
       "\\item 'Q108754'\n",
       "\\item 'Q108342'\n",
       "\\item 'Q108343'\n",
       "\\item 'Q107869'\n",
       "\\item 'Q107491'\n",
       "\\item 'Q106993'\n",
       "\\item 'Q106997'\n",
       "\\item 'Q106272'\n",
       "\\item 'Q106388'\n",
       "\\item 'Q106389'\n",
       "\\item 'Q106042'\n",
       "\\item 'Q105840'\n",
       "\\item 'Q105655'\n",
       "\\item 'Q104996'\n",
       "\\item 'Q103293'\n",
       "\\item 'Q102906'\n",
       "\\item 'Q102674'\n",
       "\\item 'Q102687'\n",
       "\\item 'Q102289'\n",
       "\\item 'Q102089'\n",
       "\\item 'Q101162'\n",
       "\\item 'Q101163'\n",
       "\\item 'Q101596'\n",
       "\\item 'Q100689'\n",
       "\\item 'Q100680'\n",
       "\\item 'Q100562'\n",
       "\\item 'Q99982'\n",
       "\\item 'Q100010'\n",
       "\\item 'Q99716'\n",
       "\\item 'Q99581'\n",
       "\\item 'Q99480'\n",
       "\\item 'Q98869'\n",
       "\\item 'Q98578'\n",
       "\\item 'Q98059'\n",
       "\\item 'Q98078'\n",
       "\\item 'Q98197'\n",
       "\\item 'Q96024'\n",
       "\\end{enumerate*}\n"
      ],
      "text/markdown": [
       "1. 'YOB'\n",
       "2. 'Gender'\n",
       "3. 'Income'\n",
       "4. 'HouseholdStatus'\n",
       "5. 'EducationLevel'\n",
       "6. 'Q124742'\n",
       "7. 'Q124122'\n",
       "8. 'Q123464'\n",
       "9. 'Q123621'\n",
       "10. 'Q122769'\n",
       "11. 'Q122770'\n",
       "12. 'Q122771'\n",
       "13. 'Q122120'\n",
       "14. 'Q121699'\n",
       "15. 'Q121700'\n",
       "16. 'Q120978'\n",
       "17. 'Q121011'\n",
       "18. 'Q120379'\n",
       "19. 'Q120650'\n",
       "20. 'Q120472'\n",
       "21. 'Q120194'\n",
       "22. 'Q120012'\n",
       "23. 'Q120014'\n",
       "24. 'Q119334'\n",
       "25. 'Q119851'\n",
       "26. 'Q119650'\n",
       "27. 'Q118892'\n",
       "28. 'Q118117'\n",
       "29. 'Q118232'\n",
       "30. 'Q118233'\n",
       "31. 'Q118237'\n",
       "32. 'Q117186'\n",
       "33. 'Q117193'\n",
       "34. 'Q116797'\n",
       "35. 'Q116881'\n",
       "36. 'Q116953'\n",
       "37. 'Q116601'\n",
       "38. 'Q116441'\n",
       "39. 'Q116448'\n",
       "40. 'Q116197'\n",
       "41. 'Q115602'\n",
       "42. 'Q115777'\n",
       "43. 'Q115610'\n",
       "44. 'Q115611'\n",
       "45. 'Q115899'\n",
       "46. 'Q115390'\n",
       "47. 'Q114961'\n",
       "48. 'Q114748'\n",
       "49. 'Q115195'\n",
       "50. 'Q114517'\n",
       "51. 'Q114386'\n",
       "52. 'Q113992'\n",
       "53. 'Q114152'\n",
       "54. 'Q113583'\n",
       "55. 'Q113584'\n",
       "56. 'Q113181'\n",
       "57. 'Q112478'\n",
       "58. 'Q112512'\n",
       "59. 'Q112270'\n",
       "60. 'Q111848'\n",
       "61. 'Q111580'\n",
       "62. 'Q111220'\n",
       "63. 'Q110740'\n",
       "64. 'Q109367'\n",
       "65. 'Q108950'\n",
       "66. 'Q109244'\n",
       "67. 'Q108855'\n",
       "68. 'Q108617'\n",
       "69. 'Q108856'\n",
       "70. 'Q108754'\n",
       "71. 'Q108342'\n",
       "72. 'Q108343'\n",
       "73. 'Q107869'\n",
       "74. 'Q107491'\n",
       "75. 'Q106993'\n",
       "76. 'Q106997'\n",
       "77. 'Q106272'\n",
       "78. 'Q106388'\n",
       "79. 'Q106389'\n",
       "80. 'Q106042'\n",
       "81. 'Q105840'\n",
       "82. 'Q105655'\n",
       "83. 'Q104996'\n",
       "84. 'Q103293'\n",
       "85. 'Q102906'\n",
       "86. 'Q102674'\n",
       "87. 'Q102687'\n",
       "88. 'Q102289'\n",
       "89. 'Q102089'\n",
       "90. 'Q101162'\n",
       "91. 'Q101163'\n",
       "92. 'Q101596'\n",
       "93. 'Q100689'\n",
       "94. 'Q100680'\n",
       "95. 'Q100562'\n",
       "96. 'Q99982'\n",
       "97. 'Q100010'\n",
       "98. 'Q99716'\n",
       "99. 'Q99581'\n",
       "100. 'Q99480'\n",
       "101. 'Q98869'\n",
       "102. 'Q98578'\n",
       "103. 'Q98059'\n",
       "104. 'Q98078'\n",
       "105. 'Q98197'\n",
       "106. 'Q96024'\n",
       "\n",
       "\n"
      ],
      "text/plain": [
       "  [1] \"YOB\"             \"Gender\"          \"Income\"          \"HouseholdStatus\"\n",
       "  [5] \"EducationLevel\"  \"Q124742\"         \"Q124122\"         \"Q123464\"        \n",
       "  [9] \"Q123621\"         \"Q122769\"         \"Q122770\"         \"Q122771\"        \n",
       " [13] \"Q122120\"         \"Q121699\"         \"Q121700\"         \"Q120978\"        \n",
       " [17] \"Q121011\"         \"Q120379\"         \"Q120650\"         \"Q120472\"        \n",
       " [21] \"Q120194\"         \"Q120012\"         \"Q120014\"         \"Q119334\"        \n",
       " [25] \"Q119851\"         \"Q119650\"         \"Q118892\"         \"Q118117\"        \n",
       " [29] \"Q118232\"         \"Q118233\"         \"Q118237\"         \"Q117186\"        \n",
       " [33] \"Q117193\"         \"Q116797\"         \"Q116881\"         \"Q116953\"        \n",
       " [37] \"Q116601\"         \"Q116441\"         \"Q116448\"         \"Q116197\"        \n",
       " [41] \"Q115602\"         \"Q115777\"         \"Q115610\"         \"Q115611\"        \n",
       " [45] \"Q115899\"         \"Q115390\"         \"Q114961\"         \"Q114748\"        \n",
       " [49] \"Q115195\"         \"Q114517\"         \"Q114386\"         \"Q113992\"        \n",
       " [53] \"Q114152\"         \"Q113583\"         \"Q113584\"         \"Q113181\"        \n",
       " [57] \"Q112478\"         \"Q112512\"         \"Q112270\"         \"Q111848\"        \n",
       " [61] \"Q111580\"         \"Q111220\"         \"Q110740\"         \"Q109367\"        \n",
       " [65] \"Q108950\"         \"Q109244\"         \"Q108855\"         \"Q108617\"        \n",
       " [69] \"Q108856\"         \"Q108754\"         \"Q108342\"         \"Q108343\"        \n",
       " [73] \"Q107869\"         \"Q107491\"         \"Q106993\"         \"Q106997\"        \n",
       " [77] \"Q106272\"         \"Q106388\"         \"Q106389\"         \"Q106042\"        \n",
       " [81] \"Q105840\"         \"Q105655\"         \"Q104996\"         \"Q103293\"        \n",
       " [85] \"Q102906\"         \"Q102674\"         \"Q102687\"         \"Q102289\"        \n",
       " [89] \"Q102089\"         \"Q101162\"         \"Q101163\"         \"Q101596\"        \n",
       " [93] \"Q100689\"         \"Q100680\"         \"Q100562\"         \"Q99982\"         \n",
       " [97] \"Q100010\"         \"Q99716\"          \"Q99581\"          \"Q99480\"         \n",
       "[101] \"Q98869\"          \"Q98578\"          \"Q98059\"          \"Q98078\"         \n",
       "[105] \"Q98197\"          \"Q96024\"         "
      ]
     },
     "execution_count": 95,
     "metadata": {},
     "output_type": "execute_result"
    },
    {
     "name": "stdout",
     "output_type": "stream",
     "text": [
      "\n",
      " iter imp variable\n",
      "  1   1  YOB  Gender  Income  HouseholdStatus  EducationLevel  Q124742  Q124122  Q123464  Q123621  Q122769  Q122770  Q122771  Q122120  Q121699  Q121700  Q120978  Q121011  Q120379  Q120650  Q120472  Q120194  Q120012  Q120014  Q119334  Q119851  Q119650  Q118892  Q118117  Q118232  Q118233  Q118237  Q117186  Q117193  Q116797  Q116881  Q116953  Q116601  Q116441  Q116448  Q116197  Q115602  Q115777  Q115610  Q115611  Q115899  Q115390  Q114961  Q114748  Q115195  Q114517  Q114386  Q113992  Q114152  Q113583  Q113584  Q113181  Q112478  Q112512  Q112270  Q111848  Q111580  Q111220  Q110740  Q109367  Q108950  Q109244  Q108855  Q108617  Q108856  Q108754  Q108342  Q108343  Q107869  Q107491  Q106993  Q106997  Q106272  Q106388  Q106389  Q106042  Q105840  Q105655  Q104996  Q103293  Q102906  Q102674  Q102687  Q102289  Q102089  Q101162  Q101163  Q101596  Q100689  Q100680  Q100562  Q99982  Q100010  Q99716  Q99581  Q99480  Q98869  Q98578  Q98059  Q98078  Q98197  Q96024\n",
      "  1   2  YOB  Gender  Income  HouseholdStatus  EducationLevel  Q124742  Q124122  Q123464  Q123621  Q122769  Q122770  Q122771  Q122120  Q121699  Q121700  Q120978  Q121011  Q120379  Q120650  Q120472  Q120194  Q120012  Q120014  Q119334  Q119851  Q119650  Q118892  Q118117  Q118232  Q118233  Q118237  Q117186  Q117193  Q116797  Q116881  Q116953  Q116601  Q116441  Q116448  Q116197  Q115602  Q115777  Q115610  Q115611  Q115899  Q115390  Q114961  Q114748  Q115195  Q114517  Q114386  Q113992  Q114152  Q113583  Q113584  Q113181  Q112478  Q112512  Q112270  Q111848  Q111580  Q111220  Q110740  Q109367  Q108950  Q109244  Q108855  Q108617  Q108856  Q108754  Q108342  Q108343  Q107869  Q107491  Q106993  Q106997  Q106272  Q106388  Q106389  Q106042  Q105840  Q105655  Q104996  Q103293  Q102906  Q102674  Q102687  Q102289  Q102089  Q101162  Q101163  Q101596  Q100689  Q100680  Q100562  Q99982  Q100010  Q99716  Q99581  Q99480  Q98869  Q98578  Q98059  Q98078  Q98197  Q96024\n",
      "  1   3  YOB  Gender  Income  HouseholdStatus  EducationLevel  Q124742  Q124122  Q123464  Q123621  Q122769  Q122770  Q122771  Q122120  Q121699  Q121700  Q120978  Q121011  Q120379  Q120650  Q120472  Q120194  Q120012  Q120014  Q119334  Q119851  Q119650  Q118892  Q118117  Q118232  Q118233  Q118237  Q117186  Q117193  Q116797  Q116881  Q116953  Q116601  Q116441  Q116448  Q116197  Q115602  Q115777  Q115610  Q115611  Q115899  Q115390  Q114961  Q114748  Q115195  Q114517  Q114386  Q113992  Q114152  Q113583  Q113584  Q113181  Q112478  Q112512  Q112270  Q111848  Q111580  Q111220  Q110740  Q109367  Q108950  Q109244  Q108855  Q108617  Q108856  Q108754  Q108342  Q108343  Q107869  Q107491  Q106993  Q106997  Q106272  Q106388  Q106389  Q106042  Q105840  Q105655  Q104996  Q103293  Q102906  Q102674  Q102687  Q102289  Q102089  Q101162  Q101163  Q101596  Q100689  Q100680  Q100562  Q99982  Q100010  Q99716  Q99581  Q99480  Q98869  Q98578  Q98059  Q98078  Q98197  Q96024\n",
      "  1   4  YOB  Gender  Income  HouseholdStatus  EducationLevel  Q124742  Q124122  Q123464  Q123621  Q122769  Q122770  Q122771  Q122120  Q121699  Q121700  Q120978  Q121011  Q120379  Q120650  Q120472  Q120194  Q120012  Q120014  Q119334  Q119851  Q119650  Q118892  Q118117  Q118232  Q118233  Q118237  Q117186  Q117193  Q116797  Q116881  Q116953  Q116601  Q116441  Q116448  Q116197  Q115602  Q115777  Q115610  Q115611  Q115899  Q115390  Q114961  Q114748  Q115195  Q114517  Q114386  Q113992  Q114152  Q113583  Q113584  Q113181  Q112478  Q112512  Q112270  Q111848  Q111580  Q111220  Q110740  Q109367  Q108950  Q109244  Q108855  Q108617  Q108856  Q108754  Q108342  Q108343  Q107869  Q107491  Q106993  Q106997  Q106272  Q106388  Q106389  Q106042  Q105840  Q105655  Q104996  Q103293  Q102906  Q102674  Q102687  Q102289  Q102089  Q101162  Q101163  Q101596  Q100689  Q100680  Q100562  Q99982  Q100010  Q99716  Q99581  Q99480  Q98869  Q98578  Q98059  Q98078  Q98197  Q96024\n",
      "  1   5  YOB  Gender  Income  HouseholdStatus  EducationLevel  Q124742  Q124122  Q123464  Q123621  Q122769  Q122770  Q122771  Q122120  Q121699  Q121700  Q120978  Q121011  Q120379  Q120650  Q120472  Q120194  Q120012  Q120014  Q119334  Q119851  Q119650  Q118892  Q118117  Q118232  Q118233  Q118237  Q117186  Q117193  Q116797  Q116881  Q116953  Q116601  Q116441  Q116448  Q116197  Q115602  Q115777  Q115610  Q115611  Q115899  Q115390  Q114961  Q114748  Q115195  Q114517  Q114386  Q113992  Q114152  Q113583  Q113584  Q113181  Q112478  Q112512  Q112270  Q111848  Q111580  Q111220  Q110740  Q109367  Q108950  Q109244  Q108855  Q108617  Q108856  Q108754  Q108342  Q108343  Q107869  Q107491  Q106993  Q106997  Q106272  Q106388  Q106389  Q106042  Q105840  Q105655  Q104996  Q103293  Q102906  Q102674  Q102687  Q102289  Q102089  Q101162  Q101163  Q101596  Q100689  Q100680  Q100562  Q99982  Q100010  Q99716  Q99581  Q99480  Q98869  Q98578  Q98059  Q98078  Q98197  Q96024\n",
      "  2   1  YOB  Gender  Income  HouseholdStatus  EducationLevel  Q124742  Q124122  Q123464  Q123621  Q122769  Q122770  Q122771  Q122120  Q121699  Q121700  Q120978  Q121011  Q120379  Q120650  Q120472  Q120194  Q120012  Q120014  Q119334  Q119851  Q119650  Q118892  Q118117  Q118232  Q118233  Q118237  Q117186  Q117193  Q116797  Q116881  Q116953  Q116601  Q116441  Q116448  Q116197  Q115602  Q115777  Q115610  Q115611  Q115899  Q115390  Q114961  Q114748  Q115195  Q114517  Q114386  Q113992  Q114152  Q113583  Q113584  Q113181  Q112478  Q112512  Q112270  Q111848  Q111580  Q111220  Q110740  Q109367  Q108950  Q109244  Q108855  Q108617  Q108856  Q108754  Q108342  Q108343  Q107869  Q107491  Q106993  Q106997  Q106272  Q106388  Q106389  Q106042  Q105840  Q105655  Q104996  Q103293  Q102906  Q102674  Q102687  Q102289  Q102089  Q101162  Q101163  Q101596  Q100689  Q100680  Q100562  Q99982  Q100010  Q99716  Q99581  Q99480  Q98869  Q98578  Q98059  Q98078  Q98197  Q96024\n",
      "  2   2  YOB  Gender  Income  HouseholdStatus  EducationLevel  Q124742  Q124122  Q123464  Q123621  Q122769  Q122770  Q122771  Q122120  Q121699  Q121700  Q120978  Q121011  Q120379  Q120650  Q120472  Q120194  Q120012  Q120014  Q119334  Q119851  Q119650  Q118892  Q118117  Q118232  Q118233  Q118237  Q117186  Q117193  Q116797  Q116881  Q116953  Q116601  Q116441  Q116448  Q116197  Q115602  Q115777  Q115610  Q115611  Q115899  Q115390  Q114961  Q114748  Q115195  Q114517  Q114386  Q113992  Q114152  Q113583  Q113584  Q113181  Q112478  Q112512  Q112270  Q111848  Q111580  Q111220  Q110740  Q109367  Q108950  Q109244  Q108855  Q108617  Q108856  Q108754  Q108342  Q108343  Q107869  Q107491  Q106993  Q106997  Q106272  Q106388  Q106389  Q106042  Q105840  Q105655  Q104996  Q103293  Q102906  Q102674  Q102687  Q102289  Q102089  Q101162  Q101163  Q101596  Q100689  Q100680  Q100562  Q99982  Q100010  Q99716  Q99581  Q99480  Q98869  Q98578  Q98059  Q98078  Q98197  Q96024\n",
      "  2   3  YOB  Gender  Income  HouseholdStatus  EducationLevel  Q124742  Q124122  Q123464  Q123621  Q122769  Q122770  Q122771  Q122120  Q121699  Q121700  Q120978  Q121011  Q120379  Q120650  Q120472  Q120194  Q120012  Q120014  Q119334  Q119851  Q119650  Q118892  Q118117  Q118232  Q118233  Q118237  Q117186  Q117193  Q116797  Q116881  Q116953  Q116601  Q116441  Q116448  Q116197  Q115602  Q115777  Q115610  Q115611  Q115899  Q115390  Q114961  Q114748  Q115195  Q114517  Q114386  Q113992  Q114152  Q113583  Q113584  Q113181  Q112478  Q112512  Q112270  Q111848  Q111580  Q111220  Q110740  Q109367  Q108950  Q109244  Q108855  Q108617  Q108856  Q108754  Q108342  Q108343  Q107869  Q107491  Q106993  Q106997  Q106272  Q106388  Q106389  Q106042  Q105840  Q105655  Q104996  Q103293  Q102906  Q102674  Q102687  Q102289  Q102089  Q101162  Q101163  Q101596  Q100689  Q100680  Q100562  Q99982  Q100010  Q99716  Q99581  Q99480  Q98869  Q98578  Q98059  Q98078  Q98197  Q96024\n",
      "  2   4  YOB  Gender  Income  HouseholdStatus  EducationLevel  Q124742  Q124122  Q123464  Q123621  Q122769  Q122770  Q122771  Q122120  Q121699  Q121700  Q120978  Q121011  Q120379  Q120650  Q120472  Q120194  Q120012  Q120014  Q119334  Q119851  Q119650  Q118892  Q118117  Q118232  Q118233  Q118237  Q117186  Q117193  Q116797  Q116881  Q116953  Q116601  Q116441  Q116448  Q116197  Q115602  Q115777  Q115610  Q115611  Q115899  Q115390  Q114961  Q114748  Q115195  Q114517  Q114386  Q113992  Q114152  Q113583  Q113584  Q113181  Q112478  Q112512  Q112270  Q111848  Q111580  Q111220  Q110740  Q109367  Q108950  Q109244  Q108855  Q108617  Q108856  Q108754  Q108342  Q108343  Q107869  Q107491  Q106993  Q106997  Q106272  Q106388  Q106389  Q106042  Q105840  Q105655  Q104996  Q103293  Q102906  Q102674  Q102687  Q102289  Q102089  Q101162  Q101163  Q101596  Q100689  Q100680  Q100562  Q99982  Q100010  Q99716  Q99581  Q99480  Q98869  Q98578  Q98059  Q98078  Q98197  Q96024\n",
      "  2   5  YOB  Gender  Income  HouseholdStatus  EducationLevel  Q124742  Q124122  Q123464  Q123621  Q122769  Q122770  Q122771  Q122120  Q121699  Q121700  Q120978  Q121011  Q120379  Q120650  Q120472  Q120194  Q120012  Q120014  Q119334  Q119851  Q119650  Q118892  Q118117  Q118232  Q118233  Q118237  Q117186  Q117193  Q116797  Q116881  Q116953  Q116601  Q116441  Q116448  Q116197  Q115602  Q115777  Q115610  Q115611  Q115899  Q115390  Q114961  Q114748  Q115195  Q114517  Q114386  Q113992  Q114152  Q113583  Q113584  Q113181  Q112478  Q112512  Q112270  Q111848  Q111580  Q111220  Q110740  Q109367  Q108950  Q109244  Q108855  Q108617  Q108856  Q108754  Q108342  Q108343  Q107869  Q107491  Q106993  Q106997  Q106272  Q106388  Q106389  Q106042  Q105840  Q105655  Q104996  Q103293  Q102906  Q102674  Q102687  Q102289  Q102089  Q101162  Q101163  Q101596  Q100689  Q100680  Q100562  Q99982  Q100010  Q99716  Q99581  Q99480  Q98869  Q98578  Q98059  Q98078  Q98197  Q96024\n",
      "  3   1  YOB  Gender  Income  HouseholdStatus  EducationLevel  Q124742  Q124122  Q123464  Q123621  Q122769  Q122770  Q122771  Q122120  Q121699  Q121700  Q120978  Q121011  Q120379  Q120650  Q120472  Q120194  Q120012  Q120014  Q119334  Q119851  Q119650  Q118892  Q118117  Q118232  Q118233  Q118237  Q117186  Q117193  Q116797  Q116881  Q116953  Q116601  Q116441  Q116448  Q116197  Q115602  Q115777  Q115610  Q115611  Q115899  Q115390  Q114961  Q114748  Q115195  Q114517  Q114386  Q113992  Q114152  Q113583  Q113584  Q113181  Q112478  Q112512  Q112270  Q111848  Q111580  Q111220  Q110740  Q109367  Q108950  Q109244  Q108855  Q108617  Q108856  Q108754  Q108342  Q108343  Q107869  Q107491  Q106993  Q106997  Q106272  Q106388  Q106389  Q106042  Q105840  Q105655  Q104996  Q103293  Q102906  Q102674  Q102687  Q102289  Q102089  Q101162  Q101163  Q101596  Q100689  Q100680  Q100562  Q99982  Q100010  Q99716  Q99581  Q99480  Q98869  Q98578  Q98059  Q98078  Q98197  Q96024\n",
      "  3   2  YOB  Gender  Income  HouseholdStatus  EducationLevel  Q124742  Q124122  Q123464  Q123621  Q122769  Q122770  Q122771  Q122120  Q121699  Q121700  Q120978  Q121011  Q120379  Q120650  Q120472  Q120194  Q120012  Q120014  Q119334  Q119851  Q119650  Q118892  Q118117  Q118232  Q118233  Q118237  Q117186  Q117193  Q116797  Q116881  Q116953  Q116601  Q116441  Q116448  Q116197  Q115602  Q115777  Q115610  Q115611  Q115899  Q115390  Q114961  Q114748  Q115195  Q114517  Q114386  Q113992  Q114152  Q113583  Q113584  Q113181  Q112478  Q112512  Q112270  Q111848  Q111580  Q111220  Q110740  Q109367  Q108950  Q109244  Q108855  Q108617  Q108856  Q108754  Q108342  Q108343  Q107869  Q107491  Q106993  Q106997  Q106272  Q106388  Q106389  Q106042  Q105840  Q105655  Q104996  Q103293  Q102906  Q102674  Q102687  Q102289  Q102089  Q101162  Q101163  Q101596  Q100689  Q100680  Q100562  Q99982  Q100010  Q99716  Q99581  Q99480  Q98869  Q98578  Q98059  Q98078  Q98197  Q96024\n",
      "  3   3  YOB  Gender  Income  HouseholdStatus  EducationLevel  Q124742  Q124122  Q123464  Q123621  Q122769  Q122770  Q122771  Q122120  Q121699  Q121700  Q120978  Q121011  Q120379  Q120650  Q120472  Q120194  Q120012  Q120014  Q119334  Q119851  Q119650  Q118892  Q118117  Q118232  Q118233  Q118237  Q117186  Q117193  Q116797  Q116881  Q116953  Q116601  Q116441  Q116448  Q116197  Q115602  Q115777  Q115610  Q115611  Q115899  Q115390  Q114961  Q114748  Q115195  Q114517  Q114386  Q113992  Q114152  Q113583  Q113584  Q113181  Q112478  Q112512  Q112270  Q111848  Q111580  Q111220  Q110740  Q109367  Q108950  Q109244  Q108855  Q108617  Q108856  Q108754  Q108342  Q108343  Q107869  Q107491  Q106993  Q106997  Q106272  Q106388  Q106389  Q106042  Q105840  Q105655  Q104996  Q103293  Q102906  Q102674  Q102687  Q102289  Q102089  Q101162  Q101163  Q101596  Q100689  Q100680  Q100562  Q99982  Q100010  Q99716  Q99581  Q99480  Q98869  Q98578  Q98059  Q98078  Q98197  Q96024\n",
      "  3   4  YOB  Gender  Income  HouseholdStatus  EducationLevel  Q124742  Q124122  Q123464  Q123621  Q122769  Q122770  Q122771  Q122120  Q121699  Q121700  Q120978  Q121011  Q120379  Q120650  Q120472  Q120194  Q120012  Q120014  Q119334  Q119851  Q119650  Q118892  Q118117  Q118232  Q118233  Q118237  Q117186  Q117193  Q116797  Q116881  Q116953  Q116601  Q116441  Q116448  Q116197  Q115602  Q115777  Q115610  Q115611  Q115899  Q115390  Q114961  Q114748  Q115195  Q114517  Q114386  Q113992  Q114152  Q113583  Q113584  Q113181  Q112478  Q112512  Q112270  Q111848  Q111580  Q111220  Q110740  Q109367  Q108950  Q109244  Q108855  Q108617  Q108856  Q108754  Q108342  Q108343  Q107869  Q107491  Q106993  Q106997  Q106272  Q106388  Q106389  Q106042  Q105840  Q105655  Q104996  Q103293  Q102906  Q102674  Q102687  Q102289  Q102089  Q101162  Q101163  Q101596  Q100689  Q100680  Q100562  Q99982  Q100010  Q99716  Q99581  Q99480  Q98869  Q98578  Q98059  Q98078  Q98197  Q96024\n",
      "  3   5  YOB  Gender  Income  HouseholdStatus  EducationLevel  Q124742  Q124122  Q123464  Q123621  Q122769  Q122770  Q122771  Q122120  Q121699  Q121700  Q120978  Q121011  Q120379  Q120650  Q120472  Q120194  Q120012  Q120014  Q119334  Q119851  Q119650  Q118892  Q118117  Q118232  Q118233  Q118237  Q117186  Q117193  Q116797  Q116881  Q116953  Q116601  Q116441  Q116448  Q116197  Q115602  Q115777  Q115610  Q115611  Q115899  Q115390  Q114961  Q114748  Q115195  Q114517  Q114386  Q113992  Q114152  Q113583  Q113584  Q113181  Q112478  Q112512  Q112270  Q111848  Q111580  Q111220  Q110740  Q109367  Q108950  Q109244  Q108855  Q108617  Q108856  Q108754  Q108342  Q108343  Q107869  Q107491  Q106993  Q106997  Q106272  Q106388  Q106389  Q106042  Q105840  Q105655  Q104996  Q103293  Q102906  Q102674  Q102687  Q102289  Q102089  Q101162  Q101163  Q101596  Q100689  Q100680  Q100562  Q99982  Q100010  Q99716  Q99581  Q99480  Q98869  Q98578  Q98059  Q98078  Q98197  Q96024\n",
      "  4   1  YOB  Gender  Income  HouseholdStatus  EducationLevel  Q124742  Q124122  Q123464  Q123621  Q122769  Q122770  Q122771  Q122120  Q121699  Q121700  Q120978  Q121011  Q120379  Q120650  Q120472  Q120194  Q120012  Q120014  Q119334  Q119851  Q119650  Q118892  Q118117  Q118232  Q118233  Q118237  Q117186  Q117193  Q116797  Q116881  Q116953  Q116601  Q116441  Q116448  Q116197  Q115602  Q115777  Q115610  Q115611  Q115899  Q115390  Q114961  Q114748  Q115195  Q114517  Q114386  Q113992  Q114152  Q113583  Q113584  Q113181  Q112478  Q112512  Q112270  Q111848  Q111580  Q111220  Q110740  Q109367  Q108950  Q109244  Q108855  Q108617  Q108856  Q108754  Q108342  Q108343  Q107869  Q107491  Q106993  Q106997  Q106272  Q106388  Q106389  Q106042  Q105840  Q105655  Q104996  Q103293  Q102906  Q102674  Q102687  Q102289  Q102089  Q101162  Q101163  Q101596  Q100689  Q100680  Q100562  Q99982  Q100010  Q99716  Q99581  Q99480  Q98869  Q98578  Q98059  Q98078  Q98197  Q96024\n",
      "  4   2  YOB  Gender  Income  HouseholdStatus  EducationLevel  Q124742  Q124122  Q123464  Q123621  Q122769  Q122770  Q122771  Q122120  Q121699  Q121700  Q120978  Q121011  Q120379  Q120650  Q120472  Q120194  Q120012  Q120014  Q119334  Q119851  Q119650  Q118892  Q118117  Q118232  Q118233  Q118237  Q117186  Q117193  Q116797  Q116881  Q116953  Q116601  Q116441  Q116448  Q116197  Q115602  Q115777  Q115610  Q115611  Q115899  Q115390  Q114961  Q114748  Q115195  Q114517  Q114386  Q113992  Q114152  Q113583  Q113584  Q113181  Q112478  Q112512  Q112270  Q111848  Q111580  Q111220  Q110740  Q109367  Q108950  Q109244  Q108855  Q108617  Q108856  Q108754  Q108342  Q108343  Q107869  Q107491  Q106993  Q106997  Q106272  Q106388  Q106389  Q106042  Q105840  Q105655  Q104996  Q103293  Q102906  Q102674  Q102687  Q102289  Q102089  Q101162  Q101163  Q101596  Q100689  Q100680  Q100562  Q99982  Q100010  Q99716  Q99581  Q99480  Q98869  Q98578  Q98059  Q98078  Q98197  Q96024\n",
      "  4   3  YOB  Gender  Income  HouseholdStatus  EducationLevel  Q124742  Q124122  Q123464  Q123621  Q122769  Q122770  Q122771  Q122120  Q121699  Q121700  Q120978  Q121011  Q120379  Q120650  Q120472  Q120194  Q120012  Q120014  Q119334  Q119851  Q119650  Q118892  Q118117  Q118232  Q118233  Q118237  Q117186  Q117193  Q116797  Q116881  Q116953  Q116601  Q116441  Q116448  Q116197  Q115602  Q115777  Q115610  Q115611  Q115899  Q115390  Q114961  Q114748  Q115195  Q114517  Q114386  Q113992  Q114152  Q113583  Q113584  Q113181  Q112478  Q112512  Q112270  Q111848  Q111580  Q111220  Q110740  Q109367  Q108950  Q109244  Q108855  Q108617  Q108856  Q108754  Q108342  Q108343  Q107869  Q107491  Q106993  Q106997  Q106272  Q106388  Q106389  Q106042  Q105840  Q105655  Q104996  Q103293  Q102906  Q102674  Q102687  Q102289  Q102089  Q101162  Q101163  Q101596  Q100689  Q100680  Q100562  Q99982  Q100010  Q99716  Q99581  Q99480  Q98869  Q98578  Q98059  Q98078  Q98197  Q96024\n",
      "  4   4  YOB  Gender  Income  HouseholdStatus  EducationLevel  Q124742  Q124122  Q123464  Q123621  Q122769  Q122770  Q122771  Q122120  Q121699  Q121700  Q120978  Q121011  Q120379  Q120650  Q120472  Q120194  Q120012  Q120014  Q119334  Q119851  Q119650  Q118892  Q118117  Q118232  Q118233  Q118237  Q117186  Q117193  Q116797  Q116881  Q116953  Q116601  Q116441  Q116448  Q116197  Q115602  Q115777  Q115610  Q115611  Q115899  Q115390  Q114961  Q114748  Q115195  Q114517  Q114386  Q113992  Q114152  Q113583  Q113584  Q113181  Q112478  Q112512  Q112270  Q111848  Q111580  Q111220  Q110740  Q109367  Q108950  Q109244  Q108855  Q108617  Q108856  Q108754  Q108342  Q108343  Q107869  Q107491  Q106993  Q106997  Q106272  Q106388  Q106389  Q106042  Q105840  Q105655  Q104996  Q103293  Q102906  Q102674  Q102687  Q102289  Q102089  Q101162  Q101163  Q101596  Q100689  Q100680  Q100562  Q99982  Q100010  Q99716  Q99581  Q99480  Q98869  Q98578  Q98059  Q98078  Q98197  Q96024\n",
      "  4   5  YOB  Gender  Income  HouseholdStatus  EducationLevel  Q124742  Q124122  Q123464  Q123621  Q122769  Q122770  Q122771  Q122120  Q121699  Q121700  Q120978  Q121011  Q120379  Q120650  Q120472  Q120194  Q120012  Q120014  Q119334  Q119851  Q119650  Q118892  Q118117  Q118232  Q118233  Q118237  Q117186  Q117193  Q116797  Q116881  Q116953  Q116601  Q116441  Q116448  Q116197  Q115602  Q115777  Q115610  Q115611  Q115899  Q115390  Q114961  Q114748  Q115195  Q114517  Q114386  Q113992  Q114152  Q113583  Q113584  Q113181  Q112478  Q112512  Q112270  Q111848  Q111580  Q111220  Q110740  Q109367  Q108950  Q109244  Q108855  Q108617  Q108856  Q108754  Q108342  Q108343  Q107869  Q107491  Q106993  Q106997  Q106272  Q106388  Q106389  Q106042  Q105840  Q105655  Q104996  Q103293  Q102906  Q102674  Q102687  Q102289  Q102089  Q101162  Q101163  Q101596  Q100689  Q100680  Q100562  Q99982  Q100010  Q99716  Q99581  Q99480  Q98869  Q98578  Q98059  Q98078  Q98197  Q96024\n",
      "  5   1  YOB  Gender  Income  HouseholdStatus  EducationLevel  Q124742  Q124122  Q123464  Q123621  Q122769  Q122770  Q122771  Q122120  Q121699  Q121700  Q120978  Q121011  Q120379  Q120650  Q120472  Q120194  Q120012  Q120014  Q119334  Q119851  Q119650  Q118892  Q118117  Q118232  Q118233  Q118237  Q117186  Q117193  Q116797  Q116881  Q116953  Q116601  Q116441  Q116448  Q116197  Q115602  Q115777  Q115610  Q115611  Q115899  Q115390  Q114961  Q114748  Q115195  Q114517  Q114386  Q113992  Q114152  Q113583  Q113584  Q113181  Q112478  Q112512  Q112270  Q111848  Q111580  Q111220  Q110740  Q109367  Q108950  Q109244  Q108855  Q108617  Q108856  Q108754  Q108342  Q108343  Q107869  Q107491  Q106993  Q106997  Q106272  Q106388  Q106389  Q106042  Q105840  Q105655  Q104996  Q103293  Q102906  Q102674  Q102687  Q102289  Q102089  Q101162  Q101163  Q101596  Q100689  Q100680  Q100562  Q99982  Q100010  Q99716  Q99581  Q99480  Q98869  Q98578  Q98059  Q98078  Q98197  Q96024\n",
      "  5   2  YOB  Gender  Income  HouseholdStatus  EducationLevel  Q124742  Q124122  Q123464  Q123621  Q122769  Q122770  Q122771  Q122120  Q121699  Q121700  Q120978  Q121011  Q120379  Q120650  Q120472  Q120194  Q120012  Q120014  Q119334  Q119851  Q119650  Q118892  Q118117  Q118232  Q118233  Q118237  Q117186  Q117193  Q116797  Q116881  Q116953  Q116601  Q116441  Q116448  Q116197  Q115602  Q115777  Q115610  Q115611  Q115899  Q115390  Q114961  Q114748  Q115195  Q114517  Q114386  Q113992  Q114152  Q113583  Q113584  Q113181  Q112478  Q112512  Q112270  Q111848  Q111580  Q111220  Q110740  Q109367  Q108950  Q109244  Q108855  Q108617  Q108856  Q108754  Q108342  Q108343  Q107869  Q107491  Q106993  Q106997  Q106272  Q106388  Q106389  Q106042  Q105840  Q105655  Q104996  Q103293  Q102906  Q102674  Q102687  Q102289  Q102089  Q101162  Q101163  Q101596  Q100689  Q100680  Q100562  Q99982  Q100010  Q99716  Q99581  Q99480  Q98869  Q98578  Q98059  Q98078  Q98197  Q96024\n",
      "  5   3  YOB  Gender  Income  HouseholdStatus  EducationLevel  Q124742  Q124122  Q123464  Q123621  Q122769  Q122770  Q122771  Q122120  Q121699  Q121700  Q120978  Q121011  Q120379  Q120650  Q120472  Q120194  Q120012  Q120014  Q119334  Q119851  Q119650  Q118892  Q118117  Q118232  Q118233  Q118237  Q117186  Q117193  Q116797  Q116881  Q116953  Q116601  Q116441  Q116448  Q116197  Q115602  Q115777  Q115610  Q115611  Q115899  Q115390  Q114961  Q114748  Q115195  Q114517  Q114386  Q113992  Q114152  Q113583  Q113584  Q113181  Q112478  Q112512  Q112270  Q111848  Q111580  Q111220  Q110740  Q109367  Q108950  Q109244  Q108855  Q108617  Q108856  Q108754  Q108342  Q108343  Q107869  Q107491  Q106993  Q106997  Q106272  Q106388  Q106389  Q106042  Q105840  Q105655  Q104996  Q103293  Q102906  Q102674  Q102687  Q102289  Q102089  Q101162  Q101163  Q101596  Q100689  Q100680  Q100562  Q99982  Q100010  Q99716  Q99581  Q99480  Q98869  Q98578  Q98059  Q98078  Q98197  Q96024\n",
      "  5   4  YOB  Gender  Income  HouseholdStatus  EducationLevel  Q124742  Q124122  Q123464  Q123621  Q122769  Q122770  Q122771  Q122120  Q121699  Q121700  Q120978  Q121011  Q120379  Q120650  Q120472  Q120194  Q120012  Q120014  Q119334  Q119851  Q119650  Q118892  Q118117  Q118232  Q118233  Q118237  Q117186  Q117193  Q116797  Q116881  Q116953  Q116601  Q116441  Q116448  Q116197  Q115602  Q115777  Q115610  Q115611  Q115899  Q115390  Q114961  Q114748  Q115195  Q114517  Q114386  Q113992  Q114152  Q113583  Q113584  Q113181  Q112478  Q112512  Q112270  Q111848  Q111580  Q111220  Q110740  Q109367  Q108950  Q109244  Q108855  Q108617  Q108856  Q108754  Q108342  Q108343  Q107869  Q107491  Q106993  Q106997  Q106272  Q106388  Q106389  Q106042  Q105840  Q105655  Q104996  Q103293  Q102906  Q102674  Q102687  Q102289  Q102089  Q101162  Q101163  Q101596  Q100689  Q100680  Q100562  Q99982  Q100010  Q99716  Q99581  Q99480  Q98869  Q98578  Q98059  Q98078  Q98197  Q96024\n",
      "  5   5  YOB  Gender  Income  HouseholdStatus  EducationLevel  Q124742  Q124122  Q123464  Q123621  Q122769  Q122770  Q122771  Q122120  Q121699  Q121700  Q120978  Q121011  Q120379  Q120650  Q120472  Q120194  Q120012  Q120014  Q119334  Q119851  Q119650  Q118892  Q118117  Q118232  Q118233  Q118237  Q117186  Q117193  Q116797  Q116881  Q116953  Q116601  Q116441  Q116448  Q116197  Q115602  Q115777  Q115610  Q115611  Q115899  Q115390  Q114961  Q114748  Q115195  Q114517  Q114386  Q113992  Q114152  Q113583  Q113584  Q113181  Q112478  Q112512  Q112270  Q111848  Q111580  Q111220  Q110740  Q109367  Q108950  Q109244  Q108855  Q108617  Q108856  Q108754  Q108342  Q108343  Q107869  Q107491  Q106993  Q106997  Q106272  Q106388  Q106389  Q106042  Q105840  Q105655  Q104996  Q103293  Q102906  Q102674  Q102687  Q102289  Q102089  Q101162  Q101163  Q101596  Q100689  Q100680  Q100562  Q99982  Q100010  Q99716  Q99581  Q99480  Q98869  Q98578  Q98059  Q98078  Q98197  Q96024\n",
      "'data.frame':\t6953 obs. of  107 variables:\n",
      " $ USER_ID        : int  1 4 5 8 9 10 11 12 13 15 ...\n",
      " $ YOB            : num  77 45 18 32 31 18 32 19 19 34 ...\n",
      " $ Gender         : Factor w/ 2 levels \"Female\",\"Male\": 2 1 2 2 1 1 2 2 2 1 ...\n",
      "  ..- attr(*, \"contrasts\")= num [1:2, 1] 0 1\n",
      "  .. ..- attr(*, \"dimnames\")=List of 2\n",
      "  .. .. ..$ : chr  \"Female\" \"Male\"\n",
      "  .. .. ..$ : chr \"2\"\n",
      " $ Income         : num  125 170 87.5 125 62.5 170 37.5 87.5 12 62.5 ...\n",
      " $ HouseholdStatus: Factor w/ 6 levels \"Domestic Partners (no kids)\",..: 4 2 5 4 4 5 3 5 5 4 ...\n",
      "  ..- attr(*, \"contrasts\")= num [1:6, 1:5] 0 1 0 0 0 0 0 0 1 0 ...\n",
      "  .. ..- attr(*, \"dimnames\")=List of 2\n",
      "  .. .. ..$ : chr  \"Domestic Partners (no kids)\" \"Domestic Partners (w/kids)\" \"Married (no kids)\" \"Married (w/kids)\" ...\n",
      "  .. .. ..$ : chr  \"2\" \"3\" \"4\" \"5\" ...\n",
      " $ EducationLevel : Factor w/ 7 levels \"Associate's Degree\",..: 1 2 6 2 6 3 4 3 3 6 ...\n",
      "  ..- attr(*, \"contrasts\")= num [1:7, 1:6] 0 1 0 0 0 0 0 0 0 1 ...\n",
      "  .. ..- attr(*, \"dimnames\")=List of 2\n",
      "  .. .. ..$ : chr  \"Associate's Degree\" \"Bachelor's Degree\" \"Current K-12\" \"Current Undergraduate\" ...\n",
      "  .. .. ..$ : chr  \"2\" \"3\" \"4\" \"5\" ...\n",
      " $ Q124742        : Factor w/ 2 levels \"No\",\"Yes\": 1 1 2 1 1 2 2 2 1 1 ...\n",
      "  ..- attr(*, \"contrasts\")= num [1:2, 1] 0 1\n",
      "  .. ..- attr(*, \"dimnames\")=List of 2\n",
      "  .. .. ..$ : chr  \"No\" \"Yes\"\n",
      "  .. .. ..$ : chr \"2\"\n",
      " $ Q124122        : Factor w/ 2 levels \"No\",\"Yes\": 2 2 2 2 2 1 1 2 1 1 ...\n",
      "  ..- attr(*, \"contrasts\")= num [1:2, 1] 0 1\n",
      "  .. ..- attr(*, \"dimnames\")=List of 2\n",
      "  .. .. ..$ : chr  \"No\" \"Yes\"\n",
      "  .. .. ..$ : chr \"2\"\n",
      " $ Q123464        : Factor w/ 2 levels \"No\",\"Yes\": 1 1 2 1 1 1 1 1 2 1 ...\n",
      "  ..- attr(*, \"contrasts\")= num [1:2, 1] 0 1\n",
      "  .. ..- attr(*, \"dimnames\")=List of 2\n",
      "  .. .. ..$ : chr  \"No\" \"Yes\"\n",
      "  .. .. ..$ : chr \"2\"\n",
      " $ Q123621        : Factor w/ 2 levels \"No\",\"Yes\": 1 1 1 2 1 1 1 1 1 1 ...\n",
      "  ..- attr(*, \"contrasts\")= num [1:2, 1] 0 1\n",
      "  .. ..- attr(*, \"dimnames\")=List of 2\n",
      "  .. .. ..$ : chr  \"No\" \"Yes\"\n",
      "  .. .. ..$ : chr \"2\"\n",
      " $ Q122769        : Factor w/ 2 levels \"No\",\"Yes\": 1 1 2 1 1 1 1 1 2 2 ...\n",
      "  ..- attr(*, \"contrasts\")= num [1:2, 1] 0 1\n",
      "  .. ..- attr(*, \"dimnames\")=List of 2\n",
      "  .. .. ..$ : chr  \"No\" \"Yes\"\n",
      "  .. .. ..$ : chr \"2\"\n",
      " $ Q122770        : Factor w/ 2 levels \"No\",\"Yes\": 2 2 2 1 2 2 2 2 2 1 ...\n",
      "  ..- attr(*, \"contrasts\")= num [1:2, 1] 0 1\n",
      "  .. ..- attr(*, \"dimnames\")=List of 2\n",
      "  .. .. ..$ : chr  \"No\" \"Yes\"\n",
      "  .. .. ..$ : chr \"2\"\n",
      " $ Q122771        : Factor w/ 2 levels \"Private\",\"Public\": 2 2 1 2 2 2 2 1 2 2 ...\n",
      "  ..- attr(*, \"contrasts\")= num [1:2, 1] 0 1\n",
      "  .. ..- attr(*, \"dimnames\")=List of 2\n",
      "  .. .. ..$ : chr  \"Private\" \"Public\"\n",
      "  .. .. ..$ : chr \"2\"\n",
      " $ Q122120        : Factor w/ 2 levels \"No\",\"Yes\": 1 1 1 1 1 1 1 2 2 1 ...\n",
      "  ..- attr(*, \"contrasts\")= num [1:2, 1] 0 1\n",
      "  .. ..- attr(*, \"dimnames\")=List of 2\n",
      "  .. .. ..$ : chr  \"No\" \"Yes\"\n",
      "  .. .. ..$ : chr \"2\"\n",
      " $ Q121699        : Factor w/ 2 levels \"No\",\"Yes\": 2 2 1 2 2 1 1 1 1 2 ...\n",
      "  ..- attr(*, \"contrasts\")= num [1:2, 1] 0 1\n",
      "  .. ..- attr(*, \"dimnames\")=List of 2\n",
      "  .. .. ..$ : chr  \"No\" \"Yes\"\n",
      "  .. .. ..$ : chr \"2\"\n",
      " $ Q121700        : Factor w/ 2 levels \"No\",\"Yes\": 1 1 1 1 1 1 1 1 1 1 ...\n",
      "  ..- attr(*, \"contrasts\")= num [1:2, 1] 0 1\n",
      "  .. ..- attr(*, \"dimnames\")=List of 2\n",
      "  .. .. ..$ : chr  \"No\" \"Yes\"\n",
      "  .. .. ..$ : chr \"2\"\n",
      " $ Q120978        : Factor w/ 2 levels \"No\",\"Yes\": 1 2 2 2 2 2 2 1 2 2 ...\n",
      "  ..- attr(*, \"contrasts\")= num [1:2, 1] 0 1\n",
      "  .. ..- attr(*, \"dimnames\")=List of 2\n",
      "  .. .. ..$ : chr  \"No\" \"Yes\"\n",
      "  .. .. ..$ : chr \"2\"\n",
      " $ Q121011        : Factor w/ 2 levels \"No\",\"Yes\": 1 1 1 1 2 1 1 1 1 2 ...\n",
      "  ..- attr(*, \"contrasts\")= num [1:2, 1] 0 1\n",
      "  .. ..- attr(*, \"dimnames\")=List of 2\n",
      "  .. .. ..$ : chr  \"No\" \"Yes\"\n",
      "  .. .. ..$ : chr \"2\"\n",
      " $ Q120379        : Factor w/ 2 levels \"No\",\"Yes\": 1 1 1 1 1 2 2 2 2 1 ...\n",
      "  ..- attr(*, \"contrasts\")= num [1:2, 1] 0 1\n",
      "  .. ..- attr(*, \"dimnames\")=List of 2\n",
      "  .. .. ..$ : chr  \"No\" \"Yes\"\n",
      "  .. .. ..$ : chr \"2\"\n",
      " $ Q120650        : Factor w/ 2 levels \"No\",\"Yes\": 2 2 2 2 2 2 2 2 2 2 ...\n",
      "  ..- attr(*, \"contrasts\")= num [1:2, 1] 0 1\n",
      "  .. ..- attr(*, \"dimnames\")=List of 2\n",
      "  .. .. ..$ : chr  \"No\" \"Yes\"\n",
      "  .. .. ..$ : chr \"2\"\n",
      " $ Q120472        : Factor w/ 2 levels \"Art\",\"Science\": 2 2 2 2 1 2 2 2 2 1 ...\n",
      "  ..- attr(*, \"contrasts\")= num [1:2, 1] 0 1\n",
      "  .. ..- attr(*, \"dimnames\")=List of 2\n",
      "  .. .. ..$ : chr  \"Art\" \"Science\"\n",
      "  .. .. ..$ : chr \"2\"\n",
      " $ Q120194        : Factor w/ 2 levels \"Study first\",..: 2 1 1 2 2 2 1 2 1 2 ...\n",
      "  ..- attr(*, \"contrasts\")= num [1:2, 1] 0 1\n",
      "  .. ..- attr(*, \"dimnames\")=List of 2\n",
      "  .. .. ..$ : chr  \"Study first\" \"Try first\"\n",
      "  .. .. ..$ : chr \"2\"\n",
      " $ Q120012        : Factor w/ 2 levels \"No\",\"Yes\": 1 2 1 1 2 2 1 1 1 2 ...\n",
      "  ..- attr(*, \"contrasts\")= num [1:2, 1] 0 1\n",
      "  .. ..- attr(*, \"dimnames\")=List of 2\n",
      "  .. .. ..$ : chr  \"No\" \"Yes\"\n",
      "  .. .. ..$ : chr \"2\"\n",
      " $ Q120014        : Factor w/ 2 levels \"No\",\"Yes\": 1 2 2 2 1 2 1 2 1 1 ...\n",
      "  ..- attr(*, \"contrasts\")= num [1:2, 1] 0 1\n",
      "  .. ..- attr(*, \"dimnames\")=List of 2\n",
      "  .. .. ..$ : chr  \"No\" \"Yes\"\n",
      "  .. .. ..$ : chr \"2\"\n",
      " $ Q119334        : Factor w/ 2 levels \"No\",\"Yes\": 1 1 1 2 1 1 1 1 1 1 ...\n",
      "  ..- attr(*, \"contrasts\")= num [1:2, 1] 0 1\n",
      "  .. ..- attr(*, \"dimnames\")=List of 2\n",
      "  .. .. ..$ : chr  \"No\" \"Yes\"\n",
      "  .. .. ..$ : chr \"2\"\n",
      " $ Q119851        : Factor w/ 2 levels \"No\",\"Yes\": 2 1 2 1 1 2 2 1 1 2 ...\n",
      "  ..- attr(*, \"contrasts\")= num [1:2, 1] 0 1\n",
      "  .. ..- attr(*, \"dimnames\")=List of 2\n",
      "  .. .. ..$ : chr  \"No\" \"Yes\"\n",
      "  .. .. ..$ : chr \"2\"\n",
      " $ Q119650        : Factor w/ 2 levels \"Giving\",\"Receiving\": 1 2 2 1 1 2 1 2 2 1 ...\n",
      "  ..- attr(*, \"contrasts\")= num [1:2, 1] 0 1\n",
      "  .. ..- attr(*, \"dimnames\")=List of 2\n",
      "  .. .. ..$ : chr  \"Giving\" \"Receiving\"\n",
      "  .. .. ..$ : chr \"2\"\n",
      " $ Q118892        : Factor w/ 2 levels \"No\",\"Yes\": 2 1 1 2 1 1 1 2 1 1 ...\n",
      "  ..- attr(*, \"contrasts\")= num [1:2, 1] 0 1\n",
      "  .. ..- attr(*, \"dimnames\")=List of 2\n",
      "  .. .. ..$ : chr  \"No\" \"Yes\"\n",
      "  .. .. ..$ : chr \"2\"\n",
      " $ Q118117        : Factor w/ 2 levels \"No\",\"Yes\": 2 1 2 1 1 1 1 1 2 2 ...\n",
      "  ..- attr(*, \"contrasts\")= num [1:2, 1] 0 1\n",
      "  .. ..- attr(*, \"dimnames\")=List of 2\n",
      "  .. .. ..$ : chr  \"No\" \"Yes\"\n",
      "  .. .. ..$ : chr \"2\"\n",
      " $ Q118232        : Factor w/ 2 levels \"Idealist\",\"Pragmatist\": 1 2 2 1 1 2 2 1 2 1 ...\n",
      "  ..- attr(*, \"contrasts\")= num [1:2, 1] 0 1\n",
      "  .. ..- attr(*, \"dimnames\")=List of 2\n",
      "  .. .. ..$ : chr  \"Idealist\" \"Pragmatist\"\n",
      "  .. .. ..$ : chr \"2\"\n",
      " $ Q118233        : Factor w/ 2 levels \"No\",\"Yes\": 1 1 1 1 2 1 1 1 1 2 ...\n",
      "  ..- attr(*, \"contrasts\")= num [1:2, 1] 0 1\n",
      "  .. ..- attr(*, \"dimnames\")=List of 2\n",
      "  .. .. ..$ : chr  \"No\" \"Yes\"\n",
      "  .. .. ..$ : chr \"2\"\n",
      " $ Q118237        : Factor w/ 2 levels \"No\",\"Yes\": 1 1 2 1 2 1 2 2 2 2 ...\n",
      "  ..- attr(*, \"contrasts\")= num [1:2, 1] 0 1\n",
      "  .. ..- attr(*, \"dimnames\")=List of 2\n",
      "  .. .. ..$ : chr  \"No\" \"Yes\"\n",
      "  .. .. ..$ : chr \"2\"\n",
      " $ Q117186        : Factor w/ 2 levels \"Cool headed\",..: 1 1 1 1 2 1 1 1 1 1 ...\n",
      "  ..- attr(*, \"contrasts\")= num [1:2, 1] 0 1\n",
      "  .. ..- attr(*, \"dimnames\")=List of 2\n",
      "  .. .. ..$ : chr  \"Cool headed\" \"Hot headed\"\n",
      "  .. .. ..$ : chr \"2\"\n",
      " $ Q117193        : Factor w/ 2 levels \"Odd hours\",\"Standard hours\": 1 2 1 2 2 2 1 2 2 2 ...\n",
      "  ..- attr(*, \"contrasts\")= num [1:2, 1] 0 1\n",
      "  .. ..- attr(*, \"dimnames\")=List of 2\n",
      "  .. .. ..$ : chr  \"Odd hours\" \"Standard hours\"\n",
      "  .. .. ..$ : chr \"2\"\n",
      " $ Q116797        : Factor w/ 2 levels \"No\",\"Yes\": 2 1 1 1 1 1 1 1 1 2 ...\n",
      "  ..- attr(*, \"contrasts\")= num [1:2, 1] 0 1\n",
      "  .. ..- attr(*, \"dimnames\")=List of 2\n",
      "  .. .. ..$ : chr  \"No\" \"Yes\"\n",
      "  .. .. ..$ : chr \"2\"\n",
      " $ Q116881        : Factor w/ 2 levels \"Happy\",\"Right\": 1 1 2 1 1 1 1 2 1 1 ...\n",
      "  ..- attr(*, \"contrasts\")= num [1:2, 1] 0 1\n",
      "  .. ..- attr(*, \"dimnames\")=List of 2\n",
      "  .. .. ..$ : chr  \"Happy\" \"Right\"\n",
      "  .. .. ..$ : chr \"2\"\n",
      " $ Q116953        : Factor w/ 2 levels \"No\",\"Yes\": 2 2 2 2 2 1 1 1 2 1 ...\n",
      "  ..- attr(*, \"contrasts\")= num [1:2, 1] 0 1\n",
      "  .. ..- attr(*, \"dimnames\")=List of 2\n",
      "  .. .. ..$ : chr  \"No\" \"Yes\"\n",
      "  .. .. ..$ : chr \"2\"\n",
      " $ Q116601        : Factor w/ 2 levels \"No\",\"Yes\": 2 2 1 2 2 1 2 1 1 2 ...\n",
      "  ..- attr(*, \"contrasts\")= num [1:2, 1] 0 1\n",
      "  .. ..- attr(*, \"dimnames\")=List of 2\n",
      "  .. .. ..$ : chr  \"No\" \"Yes\"\n",
      "  .. .. ..$ : chr \"2\"\n",
      " $ Q116441        : Factor w/ 2 levels \"No\",\"Yes\": 1 2 1 1 1 1 1 1 1 2 ...\n",
      "  ..- attr(*, \"contrasts\")= num [1:2, 1] 0 1\n",
      "  .. ..- attr(*, \"dimnames\")=List of 2\n",
      "  .. .. ..$ : chr  \"No\" \"Yes\"\n",
      "  .. .. ..$ : chr \"2\"\n",
      " $ Q116448        : Factor w/ 2 levels \"No\",\"Yes\": 1 1 2 1 2 2 2 1 1 2 ...\n",
      "  ..- attr(*, \"contrasts\")= num [1:2, 1] 0 1\n",
      "  .. ..- attr(*, \"dimnames\")=List of 2\n",
      "  .. .. ..$ : chr  \"No\" \"Yes\"\n",
      "  .. .. ..$ : chr \"2\"\n",
      " $ Q116197        : Factor w/ 2 levels \"A.M.\",\"P.M.\": 2 1 1 1 2 2 2 2 2 2 ...\n",
      "  ..- attr(*, \"contrasts\")= num [1:2, 1] 0 1\n",
      "  .. ..- attr(*, \"dimnames\")=List of 2\n",
      "  .. .. ..$ : chr  \"A.M.\" \"P.M.\"\n",
      "  .. .. ..$ : chr \"2\"\n",
      " $ Q115602        : Factor w/ 2 levels \"No\",\"Yes\": 2 1 2 2 1 2 2 2 2 2 ...\n",
      "  ..- attr(*, \"contrasts\")= num [1:2, 1] 0 1\n",
      "  .. ..- attr(*, \"dimnames\")=List of 2\n",
      "  .. .. ..$ : chr  \"No\" \"Yes\"\n",
      "  .. .. ..$ : chr \"2\"\n",
      " $ Q115777        : Factor w/ 2 levels \"End\",\"Start\": 2 1 2 2 1 2 1 2 2 2 ...\n",
      "  ..- attr(*, \"contrasts\")= num [1:2, 1] 0 1\n",
      "  .. ..- attr(*, \"dimnames\")=List of 2\n",
      "  .. .. ..$ : chr  \"End\" \"Start\"\n",
      "  .. .. ..$ : chr \"2\"\n",
      " $ Q115610        : Factor w/ 2 levels \"No\",\"Yes\": 2 2 2 2 1 2 2 2 2 2 ...\n",
      "  ..- attr(*, \"contrasts\")= num [1:2, 1] 0 1\n",
      "  .. ..- attr(*, \"dimnames\")=List of 2\n",
      "  .. .. ..$ : chr  \"No\" \"Yes\"\n",
      "  .. .. ..$ : chr \"2\"\n",
      " $ Q115611        : Factor w/ 2 levels \"No\",\"Yes\": 1 1 2 1 1 1 1 2 1 2 ...\n",
      "  ..- attr(*, \"contrasts\")= num [1:2, 1] 0 1\n",
      "  .. ..- attr(*, \"dimnames\")=List of 2\n",
      "  .. .. ..$ : chr  \"No\" \"Yes\"\n",
      "  .. .. ..$ : chr \"2\"\n",
      " $ Q115899        : Factor w/ 2 levels \"Circumstances\",..: 1 2 1 1 2 2 2 1 2 2 ...\n",
      "  ..- attr(*, \"contrasts\")= num [1:2, 1] 0 1\n",
      "  .. ..- attr(*, \"dimnames\")=List of 2\n",
      "  .. .. ..$ : chr  \"Circumstances\" \"Me\"\n",
      "  .. .. ..$ : chr \"2\"\n",
      " $ Q115390        : Factor w/ 2 levels \"No\",\"Yes\": 2 2 1 2 1 1 2 1 2 2 ...\n",
      "  ..- attr(*, \"contrasts\")= num [1:2, 1] 0 1\n",
      "  .. ..- attr(*, \"dimnames\")=List of 2\n",
      "  .. .. ..$ : chr  \"No\" \"Yes\"\n",
      "  .. .. ..$ : chr \"2\"\n",
      " $ Q114961        : Factor w/ 2 levels \"No\",\"Yes\": 2 2 2 1 2 2 2 1 2 1 ...\n",
      "  ..- attr(*, \"contrasts\")= num [1:2, 1] 0 1\n",
      "  .. ..- attr(*, \"dimnames\")=List of 2\n",
      "  .. .. ..$ : chr  \"No\" \"Yes\"\n",
      "  .. .. ..$ : chr \"2\"\n",
      " $ Q114748        : Factor w/ 2 levels \"No\",\"Yes\": 2 1 1 1 2 1 1 2 2 1 ...\n",
      "  ..- attr(*, \"contrasts\")= num [1:2, 1] 0 1\n",
      "  .. ..- attr(*, \"dimnames\")=List of 2\n",
      "  .. .. ..$ : chr  \"No\" \"Yes\"\n",
      "  .. .. ..$ : chr \"2\"\n",
      " $ Q115195        : Factor w/ 2 levels \"No\",\"Yes\": 2 2 2 2 2 2 2 1 2 1 ...\n",
      "  ..- attr(*, \"contrasts\")= num [1:2, 1] 0 1\n",
      "  .. ..- attr(*, \"dimnames\")=List of 2\n",
      "  .. .. ..$ : chr  \"No\" \"Yes\"\n",
      "  .. .. ..$ : chr \"2\"\n",
      " $ Q114517        : Factor w/ 2 levels \"No\",\"Yes\": 1 1 2 1 2 1 2 1 2 1 ...\n",
      "  ..- attr(*, \"contrasts\")= num [1:2, 1] 0 1\n",
      "  .. ..- attr(*, \"dimnames\")=List of 2\n",
      "  .. .. ..$ : chr  \"No\" \"Yes\"\n",
      "  .. .. ..$ : chr \"2\"\n",
      " $ Q114386        : Factor w/ 2 levels \"Mysterious\",\"TMI\": 1 1 1 2 2 1 1 1 1 2 ...\n",
      "  ..- attr(*, \"contrasts\")= num [1:2, 1] 0 1\n",
      "  .. ..- attr(*, \"dimnames\")=List of 2\n",
      "  .. .. ..$ : chr  \"Mysterious\" \"TMI\"\n",
      "  .. .. ..$ : chr \"2\"\n",
      " $ Q113992        : Factor w/ 2 levels \"No\",\"Yes\": 2 1 1 1 2 1 1 1 1 1 ...\n",
      "  ..- attr(*, \"contrasts\")= num [1:2, 1] 0 1\n",
      "  .. ..- attr(*, \"dimnames\")=List of 2\n",
      "  .. .. ..$ : chr  \"No\" \"Yes\"\n",
      "  .. .. ..$ : chr \"2\"\n",
      " $ Q114152        : Factor w/ 2 levels \"No\",\"Yes\": 2 1 1 1 1 2 1 1 2 2 ...\n",
      "  ..- attr(*, \"contrasts\")= num [1:2, 1] 0 1\n",
      "  .. ..- attr(*, \"dimnames\")=List of 2\n",
      "  .. .. ..$ : chr  \"No\" \"Yes\"\n",
      "  .. .. ..$ : chr \"2\"\n",
      " $ Q113583        : Factor w/ 2 levels \"Talk\",\"Tunes\": 1 2 2 1 2 1 2 2 2 2 ...\n",
      "  ..- attr(*, \"contrasts\")= num [1:2, 1] 0 1\n",
      "  .. ..- attr(*, \"dimnames\")=List of 2\n",
      "  .. .. ..$ : chr  \"Talk\" \"Tunes\"\n",
      "  .. .. ..$ : chr \"2\"\n",
      " $ Q113584        : Factor w/ 2 levels \"People\",\"Technology\": 2 2 2 1 1 1 2 1 2 2 ...\n",
      "  ..- attr(*, \"contrasts\")= num [1:2, 1] 0 1\n",
      "  .. ..- attr(*, \"dimnames\")=List of 2\n",
      "  .. .. ..$ : chr  \"People\" \"Technology\"\n",
      "  .. .. ..$ : chr \"2\"\n",
      " $ Q113181        : Factor w/ 2 levels \"No\",\"Yes\": 1 1 2 1 1 1 2 2 2 2 ...\n",
      "  ..- attr(*, \"contrasts\")= num [1:2, 1] 0 1\n",
      "  .. ..- attr(*, \"dimnames\")=List of 2\n",
      "  .. .. ..$ : chr  \"No\" \"Yes\"\n",
      "  .. .. ..$ : chr \"2\"\n",
      " $ Q112478        : Factor w/ 2 levels \"No\",\"Yes\": 1 1 2 2 1 2 2 1 2 1 ...\n",
      "  ..- attr(*, \"contrasts\")= num [1:2, 1] 0 1\n",
      "  .. ..- attr(*, \"dimnames\")=List of 2\n",
      "  .. .. ..$ : chr  \"No\" \"Yes\"\n",
      "  .. .. ..$ : chr \"2\"\n",
      " $ Q112512        : Factor w/ 2 levels \"No\",\"Yes\": 2 2 2 2 2 2 2 2 2 2 ...\n",
      "  ..- attr(*, \"contrasts\")= num [1:2, 1] 0 1\n",
      "  .. ..- attr(*, \"dimnames\")=List of 2\n",
      "  .. .. ..$ : chr  \"No\" \"Yes\"\n",
      "  .. .. ..$ : chr \"2\"\n",
      " $ Q112270        : Factor w/ 2 levels \"No\",\"Yes\": 2 2 2 2 1 1 2 2 1 2 ...\n",
      "  ..- attr(*, \"contrasts\")= num [1:2, 1] 0 1\n",
      "  .. ..- attr(*, \"dimnames\")=List of 2\n",
      "  .. .. ..$ : chr  \"No\" \"Yes\"\n",
      "  .. .. ..$ : chr \"2\"\n",
      " $ Q111848        : Factor w/ 2 levels \"No\",\"Yes\": 1 1 1 2 1 2 2 2 2 1 ...\n",
      "  ..- attr(*, \"contrasts\")= num [1:2, 1] 0 1\n",
      "  .. ..- attr(*, \"dimnames\")=List of 2\n",
      "  .. .. ..$ : chr  \"No\" \"Yes\"\n",
      "  .. .. ..$ : chr \"2\"\n",
      " $ Q111580        : Factor w/ 2 levels \"Demanding\",\"Supportive\": 1 1 2 2 1 2 2 1 1 1 ...\n",
      "  ..- attr(*, \"contrasts\")= num [1:2, 1] 0 1\n",
      "  .. ..- attr(*, \"dimnames\")=List of 2\n",
      "  .. .. ..$ : chr  \"Demanding\" \"Supportive\"\n",
      "  .. .. ..$ : chr \"2\"\n",
      " $ Q111220        : Factor w/ 2 levels \"No\",\"Yes\": 1 1 1 1 2 1 1 1 1 2 ...\n",
      "  ..- attr(*, \"contrasts\")= num [1:2, 1] 0 1\n",
      "  .. ..- attr(*, \"dimnames\")=List of 2\n",
      "  .. .. ..$ : chr  \"No\" \"Yes\"\n",
      "  .. .. ..$ : chr \"2\"\n",
      " $ Q110740        : Factor w/ 2 levels \"Mac\",\"PC\": 2 1 2 1 2 2 2 2 2 2 ...\n",
      "  ..- attr(*, \"contrasts\")= num [1:2, 1] 0 1\n",
      "  .. ..- attr(*, \"dimnames\")=List of 2\n",
      "  .. .. ..$ : chr  \"Mac\" \"PC\"\n",
      "  .. .. ..$ : chr \"2\"\n",
      " $ Q109367        : Factor w/ 2 levels \"No\",\"Yes\": 1 2 1 2 2 1 2 1 1 2 ...\n",
      "  ..- attr(*, \"contrasts\")= num [1:2, 1] 0 1\n",
      "  .. ..- attr(*, \"dimnames\")=List of 2\n",
      "  .. .. ..$ : chr  \"No\" \"Yes\"\n",
      "  .. .. ..$ : chr \"2\"\n",
      " $ Q108950        : Factor w/ 2 levels \"Cautious\",\"Risk-friendly\": 1 1 1 2 1 1 1 1 1 1 ...\n",
      "  ..- attr(*, \"contrasts\")= num [1:2, 1] 0 1\n",
      "  .. ..- attr(*, \"dimnames\")=List of 2\n",
      "  .. .. ..$ : chr  \"Cautious\" \"Risk-friendly\"\n",
      "  .. .. ..$ : chr \"2\"\n",
      " $ Q109244        : Factor w/ 2 levels \"No\",\"Yes\": 1 1 1 1 1 1 2 1 1 1 ...\n",
      "  ..- attr(*, \"contrasts\")= num [1:2, 1] 0 1\n",
      "  .. ..- attr(*, \"dimnames\")=List of 2\n",
      "  .. .. ..$ : chr  \"No\" \"Yes\"\n",
      "  .. .. ..$ : chr \"2\"\n",
      " $ Q108855        : Factor w/ 2 levels \"Umm...\",\"Yes!\": 2 1 1 1 2 1 1 2 2 2 ...\n",
      "  ..- attr(*, \"contrasts\")= num [1:2, 1] 0 1\n",
      "  .. ..- attr(*, \"dimnames\")=List of 2\n",
      "  .. .. ..$ : chr  \"Umm...\" \"Yes!\"\n",
      "  .. .. ..$ : chr \"2\"\n",
      " $ Q108617        : Factor w/ 2 levels \"No\",\"Yes\": 1 1 1 1 1 1 1 1 1 1 ...\n",
      "  ..- attr(*, \"contrasts\")= num [1:2, 1] 0 1\n",
      "  .. ..- attr(*, \"dimnames\")=List of 2\n",
      "  .. .. ..$ : chr  \"No\" \"Yes\"\n",
      "  .. .. ..$ : chr \"2\"\n",
      " $ Q108856        : Factor w/ 2 levels \"Socialize\",\"Space\": 2 2 2 1 1 2 2 1 2 1 ...\n",
      "  ..- attr(*, \"contrasts\")= num [1:2, 1] 0 1\n",
      "  .. ..- attr(*, \"dimnames\")=List of 2\n",
      "  .. .. ..$ : chr  \"Socialize\" \"Space\"\n",
      "  .. .. ..$ : chr \"2\"\n",
      " $ Q108754        : Factor w/ 2 levels \"No\",\"Yes\": 1 2 1 2 1 2 1 1 1 1 ...\n",
      "  ..- attr(*, \"contrasts\")= num [1:2, 1] 0 1\n",
      "  .. ..- attr(*, \"dimnames\")=List of 2\n",
      "  .. .. ..$ : chr  \"No\" \"Yes\"\n",
      "  .. .. ..$ : chr \"2\"\n",
      " $ Q108342        : Factor w/ 2 levels \"In-person\",\"Online\": 1 1 1 2 2 1 2 1 1 2 ...\n",
      "  ..- attr(*, \"contrasts\")= num [1:2, 1] 0 1\n",
      "  .. ..- attr(*, \"dimnames\")=List of 2\n",
      "  .. .. ..$ : chr  \"In-person\" \"Online\"\n",
      "  .. .. ..$ : chr \"2\"\n",
      " $ Q108343        : Factor w/ 2 levels \"No\",\"Yes\": 1 1 1 1 1 1 2 1 1 2 ...\n",
      "  ..- attr(*, \"contrasts\")= num [1:2, 1] 0 1\n",
      "  .. ..- attr(*, \"dimnames\")=List of 2\n",
      "  .. .. ..$ : chr  \"No\" \"Yes\"\n",
      "  .. .. ..$ : chr \"2\"\n",
      " $ Q107869        : Factor w/ 2 levels \"No\",\"Yes\": 2 2 1 2 1 1 1 1 1 2 ...\n",
      "  ..- attr(*, \"contrasts\")= num [1:2, 1] 0 1\n",
      "  .. ..- attr(*, \"dimnames\")=List of 2\n",
      "  .. .. ..$ : chr  \"No\" \"Yes\"\n",
      "  .. .. ..$ : chr \"2\"\n",
      " $ Q107491        : Factor w/ 2 levels \"No\",\"Yes\": 1 2 2 1 2 2 2 2 2 2 ...\n",
      "  ..- attr(*, \"contrasts\")= num [1:2, 1] 0 1\n",
      "  .. ..- attr(*, \"dimnames\")=List of 2\n",
      "  .. .. ..$ : chr  \"No\" \"Yes\"\n",
      "  .. .. ..$ : chr \"2\"\n",
      " $ Q106993        : Factor w/ 2 levels \"No\",\"Yes\": 2 1 2 2 2 2 1 2 2 2 ...\n",
      "  ..- attr(*, \"contrasts\")= num [1:2, 1] 0 1\n",
      "  .. ..- attr(*, \"dimnames\")=List of 2\n",
      "  .. .. ..$ : chr  \"No\" \"Yes\"\n",
      "  .. .. ..$ : chr \"2\"\n",
      " $ Q106997        : Factor w/ 2 levels \"Grrr people\",..: 2 2 1 1 2 1 1 1 1 2 ...\n",
      "  ..- attr(*, \"contrasts\")= num [1:2, 1] 0 1\n",
      "  .. ..- attr(*, \"dimnames\")=List of 2\n",
      "  .. .. ..$ : chr  \"Grrr people\" \"Yay people!\"\n",
      "  .. .. ..$ : chr \"2\"\n",
      " $ Q106272        : Factor w/ 2 levels \"No\",\"Yes\": 2 2 2 1 2 2 2 2 2 1 ...\n",
      "  ..- attr(*, \"contrasts\")= num [1:2, 1] 0 1\n",
      "  .. ..- attr(*, \"dimnames\")=List of 2\n",
      "  .. .. ..$ : chr  \"No\" \"Yes\"\n",
      "  .. .. ..$ : chr \"2\"\n",
      " $ Q106388        : Factor w/ 2 levels \"No\",\"Yes\": 1 2 1 1 1 1 1 1 1 1 ...\n",
      "  ..- attr(*, \"contrasts\")= num [1:2, 1] 0 1\n",
      "  .. ..- attr(*, \"dimnames\")=List of 2\n",
      "  .. .. ..$ : chr  \"No\" \"Yes\"\n",
      "  .. .. ..$ : chr \"2\"\n",
      " $ Q106389        : Factor w/ 2 levels \"No\",\"Yes\": 2 2 1 2 2 2 2 2 2 1 ...\n",
      "  ..- attr(*, \"contrasts\")= num [1:2, 1] 0 1\n",
      "  .. ..- attr(*, \"dimnames\")=List of 2\n",
      "  .. .. ..$ : chr  \"No\" \"Yes\"\n",
      "  .. .. ..$ : chr \"2\"\n",
      " $ Q106042        : Factor w/ 2 levels \"No\",\"Yes\": 2 2 1 2 2 2 2 1 1 2 ...\n",
      "  ..- attr(*, \"contrasts\")= num [1:2, 1] 0 1\n",
      "  .. ..- attr(*, \"dimnames\")=List of 2\n",
      "  .. .. ..$ : chr  \"No\" \"Yes\"\n",
      "  .. .. ..$ : chr \"2\"\n",
      " $ Q105840        : Factor w/ 2 levels \"No\",\"Yes\": 2 2 1 1 2 1 2 1 1 2 ...\n",
      "  ..- attr(*, \"contrasts\")= num [1:2, 1] 0 1\n",
      "  .. ..- attr(*, \"dimnames\")=List of 2\n",
      "  .. .. ..$ : chr  \"No\" \"Yes\"\n",
      "  .. .. ..$ : chr \"2\"\n",
      " $ Q105655        : Factor w/ 2 levels \"No\",\"Yes\": 1 1 1 2 2 1 1 2 2 2 ...\n",
      "  ..- attr(*, \"contrasts\")= num [1:2, 1] 0 1\n",
      "  .. ..- attr(*, \"dimnames\")=List of 2\n",
      "  .. .. ..$ : chr  \"No\" \"Yes\"\n",
      "  .. .. ..$ : chr \"2\"\n",
      " $ Q104996        : Factor w/ 2 levels \"No\",\"Yes\": 2 2 1 2 1 2 1 1 1 2 ...\n",
      "  ..- attr(*, \"contrasts\")= num [1:2, 1] 0 1\n",
      "  .. ..- attr(*, \"dimnames\")=List of 2\n",
      "  .. .. ..$ : chr  \"No\" \"Yes\"\n",
      "  .. .. ..$ : chr \"2\"\n",
      " $ Q103293        : Factor w/ 2 levels \"No\",\"Yes\": 1 1 2 1 1 2 2 2 2 2 ...\n",
      "  ..- attr(*, \"contrasts\")= num [1:2, 1] 0 1\n",
      "  .. ..- attr(*, \"dimnames\")=List of 2\n",
      "  .. .. ..$ : chr  \"No\" \"Yes\"\n",
      "  .. .. ..$ : chr \"2\"\n",
      " $ Q102906        : Factor w/ 2 levels \"No\",\"Yes\": 1 2 1 1 1 2 2 1 1 2 ...\n",
      "  ..- attr(*, \"contrasts\")= num [1:2, 1] 0 1\n",
      "  .. ..- attr(*, \"dimnames\")=List of 2\n",
      "  .. .. ..$ : chr  \"No\" \"Yes\"\n",
      "  .. .. ..$ : chr \"2\"\n",
      " $ Q102674        : Factor w/ 2 levels \"No\",\"Yes\": 1 2 1 1 2 1 1 1 1 1 ...\n",
      "  ..- attr(*, \"contrasts\")= num [1:2, 1] 0 1\n",
      "  .. ..- attr(*, \"dimnames\")=List of 2\n",
      "  .. .. ..$ : chr  \"No\" \"Yes\"\n",
      "  .. .. ..$ : chr \"2\"\n",
      " $ Q102687        : Factor w/ 2 levels \"No\",\"Yes\": 2 2 2 2 1 2 1 2 2 1 ...\n",
      "  ..- attr(*, \"contrasts\")= num [1:2, 1] 0 1\n",
      "  .. ..- attr(*, \"dimnames\")=List of 2\n",
      "  .. .. ..$ : chr  \"No\" \"Yes\"\n",
      "  .. .. ..$ : chr \"2\"\n",
      " $ Q102289        : Factor w/ 2 levels \"No\",\"Yes\": 1 2 1 2 1 1 1 1 1 1 ...\n",
      "  ..- attr(*, \"contrasts\")= num [1:2, 1] 0 1\n",
      "  .. ..- attr(*, \"dimnames\")=List of 2\n",
      "  .. .. ..$ : chr  \"No\" \"Yes\"\n",
      "  .. .. ..$ : chr \"2\"\n",
      " $ Q102089        : Factor w/ 2 levels \"Own\",\"Rent\": 1 2 1 1 1 1 1 1 1 1 ...\n",
      "  ..- attr(*, \"contrasts\")= num [1:2, 1] 0 1\n",
      "  .. ..- attr(*, \"dimnames\")=List of 2\n",
      "  .. .. ..$ : chr  \"Own\" \"Rent\"\n",
      "  .. .. ..$ : chr \"2\"\n",
      " $ Q101162        : Factor w/ 2 levels \"Optimist\",\"Pessimist\": 1 1 2 1 1 1 2 2 1 1 ...\n",
      "  ..- attr(*, \"contrasts\")= num [1:2, 1] 0 1\n",
      "  .. ..- attr(*, \"dimnames\")=List of 2\n",
      "  .. .. ..$ : chr  \"Optimist\" \"Pessimist\"\n",
      "  .. .. ..$ : chr \"2\"\n",
      " $ Q101163        : Factor w/ 2 levels \"Dad\",\"Mom\": 1 2 2 2 2 1 2 2 1 2 ...\n",
      "  ..- attr(*, \"contrasts\")= num [1:2, 1] 0 1\n",
      "  .. ..- attr(*, \"dimnames\")=List of 2\n",
      "  .. .. ..$ : chr  \"Dad\" \"Mom\"\n",
      "  .. .. ..$ : chr \"2\"\n",
      " $ Q101596        : Factor w/ 2 levels \"No\",\"Yes\": 2 1 1 1 1 1 1 2 1 1 ...\n",
      "  ..- attr(*, \"contrasts\")= num [1:2, 1] 0 1\n",
      "  .. ..- attr(*, \"dimnames\")=List of 2\n",
      "  .. .. ..$ : chr  \"No\" \"Yes\"\n",
      "  .. .. ..$ : chr \"2\"\n",
      " $ Q100689        : Factor w/ 2 levels \"No\",\"Yes\": 2 2 1 1 2 2 2 2 1 2 ...\n",
      "  ..- attr(*, \"contrasts\")= num [1:2, 1] 0 1\n",
      "  .. ..- attr(*, \"dimnames\")=List of 2\n",
      "  .. .. ..$ : chr  \"No\" \"Yes\"\n",
      "  .. .. ..$ : chr \"2\"\n",
      " $ Q100680        : Factor w/ 2 levels \"No\",\"Yes\": 1 1 1 1 2 2 2 1 2 2 ...\n",
      "  ..- attr(*, \"contrasts\")= num [1:2, 1] 0 1\n",
      "  .. ..- attr(*, \"dimnames\")=List of 2\n",
      "  .. .. ..$ : chr  \"No\" \"Yes\"\n",
      "  .. .. ..$ : chr \"2\"\n",
      " $ Q100562        : Factor w/ 2 levels \"No\",\"Yes\": 1 2 1 2 2 2 2 2 1 2 ...\n",
      "  ..- attr(*, \"contrasts\")= num [1:2, 1] 0 1\n",
      "  .. ..- attr(*, \"dimnames\")=List of 2\n",
      "  .. .. ..$ : chr  \"No\" \"Yes\"\n",
      "  .. .. ..$ : chr \"2\"\n",
      " $ Q99982         : Factor w/ 2 levels \"Check!\",\"Nope\": 2 2 2 1 2 1 2 2 2 1 ...\n",
      "  ..- attr(*, \"contrasts\")= num [1:2, 1] 0 1\n",
      "  .. ..- attr(*, \"dimnames\")=List of 2\n",
      "  .. .. ..$ : chr  \"Check!\" \"Nope\"\n",
      "  .. .. ..$ : chr \"2\"\n",
      " $ Q100010        : Factor w/ 2 levels \"No\",\"Yes\": 2 2 2 1 2 1 2 2 2 2 ...\n",
      "  ..- attr(*, \"contrasts\")= num [1:2, 1] 0 1\n",
      "  .. ..- attr(*, \"dimnames\")=List of 2\n",
      "  .. .. ..$ : chr  \"No\" \"Yes\"\n",
      "  .. .. ..$ : chr \"2\"\n",
      " $ Q99716         : Factor w/ 2 levels \"No\",\"Yes\": 1 1 1 1 1 1 1 1 1 1 ...\n",
      "  ..- attr(*, \"contrasts\")= num [1:2, 1] 0 1\n",
      "  .. ..- attr(*, \"dimnames\")=List of 2\n",
      "  .. .. ..$ : chr  \"No\" \"Yes\"\n",
      "  .. .. ..$ : chr \"2\"\n",
      "  [list output truncated]\n"
     ]
    }
   ],
   "source": [
    "vars_for_impute = setdiff(names(poll),c(\"USER_ID\"))\n",
    "vars_for_impute\n",
    "imputed_poll = complete(mice(poll[vars_for_impute]))\n",
    "poll[vars_for_impute] = imputed_poll\n",
    "str(poll)"
   ]
  },
  {
   "cell_type": "code",
   "execution_count": 96,
   "metadata": {
    "collapsed": false
   },
   "outputs": [],
   "source": [
    "#write.csv(poll, \"poll_full_IMP_FE.csv\", row.names=FALSE)"
   ]
  },
  {
   "cell_type": "code",
   "execution_count": 100,
   "metadata": {
    "collapsed": true
   },
   "outputs": [],
   "source": [
    "poll_imp = read.csv(\"poll_full_IMP_FE.csv\")"
   ]
  },
  {
   "cell_type": "code",
   "execution_count": 101,
   "metadata": {
    "collapsed": false
   },
   "outputs": [
    {
     "name": "stdout",
     "output_type": "stream",
     "text": [
      "'data.frame':\t6953 obs. of  107 variables:\n",
      " $ USER_ID        : int  1 4 5 8 9 10 11 12 13 15 ...\n",
      " $ YOB            : int  77 45 18 32 31 18 32 19 19 34 ...\n",
      " $ Gender         : Factor w/ 2 levels \"Female\",\"Male\": 2 1 2 2 1 1 2 2 2 1 ...\n",
      " $ Income         : num  125 170 87.5 125 62.5 170 37.5 87.5 12 62.5 ...\n",
      " $ HouseholdStatus: Factor w/ 6 levels \"Domestic Partners (no kids)\",..: 4 2 5 4 4 5 3 5 5 4 ...\n",
      " $ EducationLevel : Factor w/ 7 levels \"Associate's Degree\",..: 1 2 6 2 6 3 4 3 3 6 ...\n",
      " $ Q124742        : Factor w/ 2 levels \"No\",\"Yes\": 1 1 2 1 1 2 2 2 1 1 ...\n",
      " $ Q124122        : Factor w/ 2 levels \"No\",\"Yes\": 2 2 2 2 2 1 1 2 1 1 ...\n",
      " $ Q123464        : Factor w/ 2 levels \"No\",\"Yes\": 1 1 2 1 1 1 1 1 2 1 ...\n",
      " $ Q123621        : Factor w/ 2 levels \"No\",\"Yes\": 1 1 1 2 1 1 1 1 1 1 ...\n",
      " $ Q122769        : Factor w/ 2 levels \"No\",\"Yes\": 1 1 2 1 1 1 1 1 2 2 ...\n",
      " $ Q122770        : Factor w/ 2 levels \"No\",\"Yes\": 2 2 2 1 2 2 2 2 2 1 ...\n",
      " $ Q122771        : Factor w/ 2 levels \"Private\",\"Public\": 2 2 1 2 2 2 2 1 2 2 ...\n",
      " $ Q122120        : Factor w/ 2 levels \"No\",\"Yes\": 1 1 1 1 1 1 1 2 2 1 ...\n",
      " $ Q121699        : Factor w/ 2 levels \"No\",\"Yes\": 2 2 1 2 2 1 1 1 1 2 ...\n",
      " $ Q121700        : Factor w/ 2 levels \"No\",\"Yes\": 1 1 1 1 1 1 1 1 1 1 ...\n",
      " $ Q120978        : Factor w/ 2 levels \"No\",\"Yes\": 1 2 2 2 2 2 2 1 2 2 ...\n",
      " $ Q121011        : Factor w/ 2 levels \"No\",\"Yes\": 1 1 1 1 2 1 1 1 1 2 ...\n",
      " $ Q120379        : Factor w/ 2 levels \"No\",\"Yes\": 1 1 1 1 1 2 2 2 2 1 ...\n",
      " $ Q120650        : Factor w/ 2 levels \"No\",\"Yes\": 2 2 2 2 2 2 2 2 2 2 ...\n",
      " $ Q120472        : Factor w/ 2 levels \"Art\",\"Science\": 2 2 2 2 1 2 2 2 2 1 ...\n",
      " $ Q120194        : Factor w/ 2 levels \"Study first\",..: 2 1 1 2 2 2 1 2 1 2 ...\n",
      " $ Q120012        : Factor w/ 2 levels \"No\",\"Yes\": 1 2 1 1 2 2 1 1 1 2 ...\n",
      " $ Q120014        : Factor w/ 2 levels \"No\",\"Yes\": 1 2 2 2 1 2 1 2 1 1 ...\n",
      " $ Q119334        : Factor w/ 2 levels \"No\",\"Yes\": 1 1 1 2 1 1 1 1 1 1 ...\n",
      " $ Q119851        : Factor w/ 2 levels \"No\",\"Yes\": 2 1 2 1 1 2 2 1 1 2 ...\n",
      " $ Q119650        : Factor w/ 2 levels \"Giving\",\"Receiving\": 1 2 2 1 1 2 1 2 2 1 ...\n",
      " $ Q118892        : Factor w/ 2 levels \"No\",\"Yes\": 2 1 1 2 1 1 1 2 1 1 ...\n",
      " $ Q118117        : Factor w/ 2 levels \"No\",\"Yes\": 2 1 2 1 1 1 1 1 2 2 ...\n",
      " $ Q118232        : Factor w/ 2 levels \"Idealist\",\"Pragmatist\": 1 2 2 1 1 2 2 1 2 1 ...\n",
      " $ Q118233        : Factor w/ 2 levels \"No\",\"Yes\": 1 1 1 1 2 1 1 1 1 2 ...\n",
      " $ Q118237        : Factor w/ 2 levels \"No\",\"Yes\": 1 1 2 1 2 1 2 2 2 2 ...\n",
      " $ Q117186        : Factor w/ 2 levels \"Cool headed\",..: 1 1 1 1 2 1 1 1 1 1 ...\n",
      " $ Q117193        : Factor w/ 2 levels \"Odd hours\",\"Standard hours\": 1 2 1 2 2 2 1 2 2 2 ...\n",
      " $ Q116797        : Factor w/ 2 levels \"No\",\"Yes\": 2 1 1 1 1 1 1 1 1 2 ...\n",
      " $ Q116881        : Factor w/ 2 levels \"Happy\",\"Right\": 1 1 2 1 1 1 1 2 1 1 ...\n",
      " $ Q116953        : Factor w/ 2 levels \"No\",\"Yes\": 2 2 2 2 2 1 1 1 2 1 ...\n",
      " $ Q116601        : Factor w/ 2 levels \"No\",\"Yes\": 2 2 1 2 2 1 2 1 1 2 ...\n",
      " $ Q116441        : Factor w/ 2 levels \"No\",\"Yes\": 1 2 1 1 1 1 1 1 1 2 ...\n",
      " $ Q116448        : Factor w/ 2 levels \"No\",\"Yes\": 1 1 2 1 2 2 2 1 1 2 ...\n",
      " $ Q116197        : Factor w/ 2 levels \"A.M.\",\"P.M.\": 2 1 1 1 2 2 2 2 2 2 ...\n",
      " $ Q115602        : Factor w/ 2 levels \"No\",\"Yes\": 2 1 2 2 1 2 2 2 2 2 ...\n",
      " $ Q115777        : Factor w/ 2 levels \"End\",\"Start\": 2 1 2 2 1 2 1 2 2 2 ...\n",
      " $ Q115610        : Factor w/ 2 levels \"No\",\"Yes\": 2 2 2 2 1 2 2 2 2 2 ...\n",
      " $ Q115611        : Factor w/ 2 levels \"No\",\"Yes\": 1 1 2 1 1 1 1 2 1 2 ...\n",
      " $ Q115899        : Factor w/ 2 levels \"Circumstances\",..: 1 2 1 1 2 2 2 1 2 2 ...\n",
      " $ Q115390        : Factor w/ 2 levels \"No\",\"Yes\": 2 2 1 2 1 1 2 1 2 2 ...\n",
      " $ Q114961        : Factor w/ 2 levels \"No\",\"Yes\": 2 2 2 1 2 2 2 1 2 1 ...\n",
      " $ Q114748        : Factor w/ 2 levels \"No\",\"Yes\": 2 1 1 1 2 1 1 2 2 1 ...\n",
      " $ Q115195        : Factor w/ 2 levels \"No\",\"Yes\": 2 2 2 2 2 2 2 1 2 1 ...\n",
      " $ Q114517        : Factor w/ 2 levels \"No\",\"Yes\": 1 1 2 1 2 1 2 1 2 1 ...\n",
      " $ Q114386        : Factor w/ 2 levels \"Mysterious\",\"TMI\": 1 1 1 2 2 1 1 1 1 2 ...\n",
      " $ Q113992        : Factor w/ 2 levels \"No\",\"Yes\": 2 1 1 1 2 1 1 1 1 1 ...\n",
      " $ Q114152        : Factor w/ 2 levels \"No\",\"Yes\": 2 1 1 1 1 2 1 1 2 2 ...\n",
      " $ Q113583        : Factor w/ 2 levels \"Talk\",\"Tunes\": 1 2 2 1 2 1 2 2 2 2 ...\n",
      " $ Q113584        : Factor w/ 2 levels \"People\",\"Technology\": 2 2 2 1 1 1 2 1 2 2 ...\n",
      " $ Q113181        : Factor w/ 2 levels \"No\",\"Yes\": 1 1 2 1 1 1 2 2 2 2 ...\n",
      " $ Q112478        : Factor w/ 2 levels \"No\",\"Yes\": 1 1 2 2 1 2 2 1 2 1 ...\n",
      " $ Q112512        : Factor w/ 2 levels \"No\",\"Yes\": 2 2 2 2 2 2 2 2 2 2 ...\n",
      " $ Q112270        : Factor w/ 2 levels \"No\",\"Yes\": 2 2 2 2 1 1 2 2 1 2 ...\n",
      " $ Q111848        : Factor w/ 2 levels \"No\",\"Yes\": 1 1 1 2 1 2 2 2 2 1 ...\n",
      " $ Q111580        : Factor w/ 2 levels \"Demanding\",\"Supportive\": 1 1 2 2 1 2 2 1 1 1 ...\n",
      " $ Q111220        : Factor w/ 2 levels \"No\",\"Yes\": 1 1 1 1 2 1 1 1 1 2 ...\n",
      " $ Q110740        : Factor w/ 2 levels \"Mac\",\"PC\": 2 1 2 1 2 2 2 2 2 2 ...\n",
      " $ Q109367        : Factor w/ 2 levels \"No\",\"Yes\": 1 2 1 2 2 1 2 1 1 2 ...\n",
      " $ Q108950        : Factor w/ 2 levels \"Cautious\",\"Risk-friendly\": 1 1 1 2 1 1 1 1 1 1 ...\n",
      " $ Q109244        : Factor w/ 2 levels \"No\",\"Yes\": 1 1 1 1 1 1 2 1 1 1 ...\n",
      " $ Q108855        : Factor w/ 2 levels \"Umm...\",\"Yes!\": 2 1 1 1 2 1 1 2 2 2 ...\n",
      " $ Q108617        : Factor w/ 2 levels \"No\",\"Yes\": 1 1 1 1 1 1 1 1 1 1 ...\n",
      " $ Q108856        : Factor w/ 2 levels \"Socialize\",\"Space\": 2 2 2 1 1 2 2 1 2 1 ...\n",
      " $ Q108754        : Factor w/ 2 levels \"No\",\"Yes\": 1 2 1 2 1 2 1 1 1 1 ...\n",
      " $ Q108342        : Factor w/ 2 levels \"In-person\",\"Online\": 1 1 1 2 2 1 2 1 1 2 ...\n",
      " $ Q108343        : Factor w/ 2 levels \"No\",\"Yes\": 1 1 1 1 1 1 2 1 1 2 ...\n",
      " $ Q107869        : Factor w/ 2 levels \"No\",\"Yes\": 2 2 1 2 1 1 1 1 1 2 ...\n",
      " $ Q107491        : Factor w/ 2 levels \"No\",\"Yes\": 1 2 2 1 2 2 2 2 2 2 ...\n",
      " $ Q106993        : Factor w/ 2 levels \"No\",\"Yes\": 2 1 2 2 2 2 1 2 2 2 ...\n",
      " $ Q106997        : Factor w/ 2 levels \"Grrr people\",..: 2 2 1 1 2 1 1 1 1 2 ...\n",
      " $ Q106272        : Factor w/ 2 levels \"No\",\"Yes\": 2 2 2 1 2 2 2 2 2 1 ...\n",
      " $ Q106388        : Factor w/ 2 levels \"No\",\"Yes\": 1 2 1 1 1 1 1 1 1 1 ...\n",
      " $ Q106389        : Factor w/ 2 levels \"No\",\"Yes\": 2 2 1 2 2 2 2 2 2 1 ...\n",
      " $ Q106042        : Factor w/ 2 levels \"No\",\"Yes\": 2 2 1 2 2 2 2 1 1 2 ...\n",
      " $ Q105840        : Factor w/ 2 levels \"No\",\"Yes\": 2 2 1 1 2 1 2 1 1 2 ...\n",
      " $ Q105655        : Factor w/ 2 levels \"No\",\"Yes\": 1 1 1 2 2 1 1 2 2 2 ...\n",
      " $ Q104996        : Factor w/ 2 levels \"No\",\"Yes\": 2 2 1 2 1 2 1 1 1 2 ...\n",
      " $ Q103293        : Factor w/ 2 levels \"No\",\"Yes\": 1 1 2 1 1 2 2 2 2 2 ...\n",
      " $ Q102906        : Factor w/ 2 levels \"No\",\"Yes\": 1 2 1 1 1 2 2 1 1 2 ...\n",
      " $ Q102674        : Factor w/ 2 levels \"No\",\"Yes\": 1 2 1 1 2 1 1 1 1 1 ...\n",
      " $ Q102687        : Factor w/ 2 levels \"No\",\"Yes\": 2 2 2 2 1 2 1 2 2 1 ...\n",
      " $ Q102289        : Factor w/ 2 levels \"No\",\"Yes\": 1 2 1 2 1 1 1 1 1 1 ...\n",
      " $ Q102089        : Factor w/ 2 levels \"Own\",\"Rent\": 1 2 1 1 1 1 1 1 1 1 ...\n",
      " $ Q101162        : Factor w/ 2 levels \"Optimist\",\"Pessimist\": 1 1 2 1 1 1 2 2 1 1 ...\n",
      " $ Q101163        : Factor w/ 2 levels \"Dad\",\"Mom\": 1 2 2 2 2 1 2 2 1 2 ...\n",
      " $ Q101596        : Factor w/ 2 levels \"No\",\"Yes\": 2 1 1 1 1 1 1 2 1 1 ...\n",
      " $ Q100689        : Factor w/ 2 levels \"No\",\"Yes\": 2 2 1 1 2 2 2 2 1 2 ...\n",
      " $ Q100680        : Factor w/ 2 levels \"No\",\"Yes\": 1 1 1 1 2 2 2 1 2 2 ...\n",
      " $ Q100562        : Factor w/ 2 levels \"No\",\"Yes\": 1 2 1 2 2 2 2 2 1 2 ...\n",
      " $ Q99982         : Factor w/ 2 levels \"Check!\",\"Nope\": 2 2 2 1 2 1 2 2 2 1 ...\n",
      " $ Q100010        : Factor w/ 2 levels \"No\",\"Yes\": 2 2 2 1 2 1 2 2 2 2 ...\n",
      " $ Q99716         : Factor w/ 2 levels \"No\",\"Yes\": 1 1 1 1 1 1 1 1 1 1 ...\n",
      "  [list output truncated]\n"
     ]
    }
   ],
   "source": [
    "str(poll_imp)"
   ]
  },
  {
   "cell_type": "code",
   "execution_count": 110,
   "metadata": {
    "collapsed": false
   },
   "outputs": [
    {
     "data": {
      "text/html": [
       "5561"
      ],
      "text/latex": [
       "5561"
      ],
      "text/markdown": [
       "5561"
      ],
      "text/plain": [
       "[1] 5561"
      ]
     },
     "execution_count": 110,
     "metadata": {},
     "output_type": "execute_result"
    }
   ],
   "source": [
    "poll_train_imp = merge(poll_imp,trn_lab,by=\"USER_ID\")\n",
    "nrow(poll_train_imp)"
   ]
  },
  {
   "cell_type": "code",
   "execution_count": 112,
   "metadata": {
    "collapsed": false
   },
   "outputs": [
    {
     "data": {
      "text/plain": [
       "\n",
       "  Democrat Republican \n",
       "      2948       2613 "
      ]
     },
     "execution_count": 112,
     "metadata": {},
     "output_type": "execute_result"
    }
   ],
   "source": [
    "table(poll_train_imp$Party)"
   ]
  },
  {
   "cell_type": "code",
   "execution_count": 114,
   "metadata": {
    "collapsed": false
   },
   "outputs": [
    {
     "data": {
      "text/html": [
       "1392"
      ],
      "text/latex": [
       "1392"
      ],
      "text/markdown": [
       "1392"
      ],
      "text/plain": [
       "[1] 1392"
      ]
     },
     "execution_count": 114,
     "metadata": {},
     "output_type": "execute_result"
    }
   ],
   "source": [
    "poll_test_imp = merge(poll_imp,tst_id,by=\"USER_ID\")\n",
    "nrow(poll_test_imp)"
   ]
  },
  {
   "cell_type": "code",
   "execution_count": 115,
   "metadata": {
    "collapsed": true
   },
   "outputs": [],
   "source": [
    "#write.csv(poll_train_imp, \"poll_train_IMP_FE.csv\", row.names=FALSE)\n",
    "#write.csv(poll_test_imp, \"poll_test_IMP_FE.csv\", row.names=FALSE)"
   ]
  },
  {
   "cell_type": "code",
   "execution_count": 127,
   "metadata": {
    "collapsed": false
   },
   "outputs": [
    {
     "name": "stdout",
     "output_type": "stream",
     "text": [
      "'data.frame':\t5561 obs. of  108 variables:\n",
      " $ USER_ID        : int  1 4 5 8 9 10 11 12 13 15 ...\n",
      " $ YOB            : int  77 45 18 32 31 18 32 19 19 34 ...\n",
      " $ Gender         : Factor w/ 2 levels \"Female\",\"Male\": 2 1 2 2 1 1 2 2 2 1 ...\n",
      " $ Income         : num  125 170 87.5 125 62.5 170 37.5 87.5 12 62.5 ...\n",
      " $ HouseholdStatus: Factor w/ 6 levels \"Domestic Partners (no kids)\",..: 4 2 5 4 4 5 3 5 5 4 ...\n",
      " $ EducationLevel : Factor w/ 7 levels \"Associate's Degree\",..: 1 2 6 2 6 3 4 3 3 6 ...\n",
      " $ Q124742        : Factor w/ 2 levels \"No\",\"Yes\": 1 1 2 1 1 2 2 2 1 1 ...\n",
      " $ Q124122        : Factor w/ 2 levels \"No\",\"Yes\": 2 2 2 2 2 1 1 2 1 1 ...\n",
      " $ Q123464        : Factor w/ 2 levels \"No\",\"Yes\": 1 1 2 1 1 1 1 1 2 1 ...\n",
      " $ Q123621        : Factor w/ 2 levels \"No\",\"Yes\": 1 1 1 2 1 1 1 1 1 1 ...\n",
      " $ Q122769        : Factor w/ 2 levels \"No\",\"Yes\": 1 1 2 1 1 1 1 1 2 2 ...\n",
      " $ Q122770        : Factor w/ 2 levels \"No\",\"Yes\": 2 2 2 1 2 2 2 2 2 1 ...\n",
      " $ Q122771        : Factor w/ 2 levels \"Private\",\"Public\": 2 2 1 2 2 2 2 1 2 2 ...\n",
      " $ Q122120        : Factor w/ 2 levels \"No\",\"Yes\": 1 1 1 1 1 1 1 2 2 1 ...\n",
      " $ Q121699        : Factor w/ 2 levels \"No\",\"Yes\": 2 2 1 2 2 1 1 1 1 2 ...\n",
      " $ Q121700        : Factor w/ 2 levels \"No\",\"Yes\": 1 1 1 1 1 1 1 1 1 1 ...\n",
      " $ Q120978        : Factor w/ 2 levels \"No\",\"Yes\": 1 2 2 2 2 2 2 1 2 2 ...\n",
      " $ Q121011        : Factor w/ 2 levels \"No\",\"Yes\": 1 1 1 1 2 1 1 1 1 2 ...\n",
      " $ Q120379        : Factor w/ 2 levels \"No\",\"Yes\": 1 1 1 1 1 2 2 2 2 1 ...\n",
      " $ Q120650        : Factor w/ 2 levels \"No\",\"Yes\": 2 2 2 2 2 2 2 2 2 2 ...\n",
      " $ Q120472        : Factor w/ 2 levels \"Art\",\"Science\": 2 2 2 2 1 2 2 2 2 1 ...\n",
      " $ Q120194        : Factor w/ 2 levels \"Study first\",..: 2 1 1 2 2 2 1 2 1 2 ...\n",
      " $ Q120012        : Factor w/ 2 levels \"No\",\"Yes\": 1 2 1 1 2 2 1 1 1 2 ...\n",
      " $ Q120014        : Factor w/ 2 levels \"No\",\"Yes\": 1 2 2 2 1 2 1 2 1 1 ...\n",
      " $ Q119334        : Factor w/ 2 levels \"No\",\"Yes\": 1 1 1 2 1 1 1 1 1 1 ...\n",
      " $ Q119851        : Factor w/ 2 levels \"No\",\"Yes\": 2 1 2 1 1 2 2 1 1 2 ...\n",
      " $ Q119650        : Factor w/ 2 levels \"Giving\",\"Receiving\": 1 2 2 1 1 2 1 2 2 1 ...\n",
      " $ Q118892        : Factor w/ 2 levels \"No\",\"Yes\": 2 1 1 2 1 1 1 2 1 1 ...\n",
      " $ Q118117        : Factor w/ 2 levels \"No\",\"Yes\": 2 1 2 1 1 1 1 1 2 2 ...\n",
      " $ Q118232        : Factor w/ 2 levels \"Idealist\",\"Pragmatist\": 1 2 2 1 1 2 2 1 2 1 ...\n",
      " $ Q118233        : Factor w/ 2 levels \"No\",\"Yes\": 1 1 1 1 2 1 1 1 1 2 ...\n",
      " $ Q118237        : Factor w/ 2 levels \"No\",\"Yes\": 1 1 2 1 2 1 2 2 2 2 ...\n",
      " $ Q117186        : Factor w/ 2 levels \"Cool headed\",..: 1 1 1 1 2 1 1 1 1 1 ...\n",
      " $ Q117193        : Factor w/ 2 levels \"Odd hours\",\"Standard hours\": 1 2 1 2 2 2 1 2 2 2 ...\n",
      " $ Q116797        : Factor w/ 2 levels \"No\",\"Yes\": 2 1 1 1 1 1 1 1 1 2 ...\n",
      " $ Q116881        : Factor w/ 2 levels \"Happy\",\"Right\": 1 1 2 1 1 1 1 2 1 1 ...\n",
      " $ Q116953        : Factor w/ 2 levels \"No\",\"Yes\": 2 2 2 2 2 1 1 1 2 1 ...\n",
      " $ Q116601        : Factor w/ 2 levels \"No\",\"Yes\": 2 2 1 2 2 1 2 1 1 2 ...\n",
      " $ Q116441        : Factor w/ 2 levels \"No\",\"Yes\": 1 2 1 1 1 1 1 1 1 2 ...\n",
      " $ Q116448        : Factor w/ 2 levels \"No\",\"Yes\": 1 1 2 1 2 2 2 1 1 2 ...\n",
      " $ Q116197        : Factor w/ 2 levels \"A.M.\",\"P.M.\": 2 1 1 1 2 2 2 2 2 2 ...\n",
      " $ Q115602        : Factor w/ 2 levels \"No\",\"Yes\": 2 1 2 2 1 2 2 2 2 2 ...\n",
      " $ Q115777        : Factor w/ 2 levels \"End\",\"Start\": 2 1 2 2 1 2 1 2 2 2 ...\n",
      " $ Q115610        : Factor w/ 2 levels \"No\",\"Yes\": 2 2 2 2 1 2 2 2 2 2 ...\n",
      " $ Q115611        : Factor w/ 2 levels \"No\",\"Yes\": 1 1 2 1 1 1 1 2 1 2 ...\n",
      " $ Q115899        : Factor w/ 2 levels \"Circumstances\",..: 1 2 1 1 2 2 2 1 2 2 ...\n",
      " $ Q115390        : Factor w/ 2 levels \"No\",\"Yes\": 2 2 1 2 1 1 2 1 2 2 ...\n",
      " $ Q114961        : Factor w/ 2 levels \"No\",\"Yes\": 2 2 2 1 2 2 2 1 2 1 ...\n",
      " $ Q114748        : Factor w/ 2 levels \"No\",\"Yes\": 2 1 1 1 2 1 1 2 2 1 ...\n",
      " $ Q115195        : Factor w/ 2 levels \"No\",\"Yes\": 2 2 2 2 2 2 2 1 2 1 ...\n",
      " $ Q114517        : Factor w/ 2 levels \"No\",\"Yes\": 1 1 2 1 2 1 2 1 2 1 ...\n",
      " $ Q114386        : Factor w/ 2 levels \"Mysterious\",\"TMI\": 1 1 1 2 2 1 1 1 1 2 ...\n",
      " $ Q113992        : Factor w/ 2 levels \"No\",\"Yes\": 2 1 1 1 2 1 1 1 1 1 ...\n",
      " $ Q114152        : Factor w/ 2 levels \"No\",\"Yes\": 2 1 1 1 1 2 1 1 2 2 ...\n",
      " $ Q113583        : Factor w/ 2 levels \"Talk\",\"Tunes\": 1 2 2 1 2 1 2 2 2 2 ...\n",
      " $ Q113584        : Factor w/ 2 levels \"People\",\"Technology\": 2 2 2 1 1 1 2 1 2 2 ...\n",
      " $ Q113181        : Factor w/ 2 levels \"No\",\"Yes\": 1 1 2 1 1 1 2 2 2 2 ...\n",
      " $ Q112478        : Factor w/ 2 levels \"No\",\"Yes\": 1 1 2 2 1 2 2 1 2 1 ...\n",
      " $ Q112512        : Factor w/ 2 levels \"No\",\"Yes\": 2 2 2 2 2 2 2 2 2 2 ...\n",
      " $ Q112270        : Factor w/ 2 levels \"No\",\"Yes\": 2 2 2 2 1 1 2 2 1 2 ...\n",
      " $ Q111848        : Factor w/ 2 levels \"No\",\"Yes\": 1 1 1 2 1 2 2 2 2 1 ...\n",
      " $ Q111580        : Factor w/ 2 levels \"Demanding\",\"Supportive\": 1 1 2 2 1 2 2 1 1 1 ...\n",
      " $ Q111220        : Factor w/ 2 levels \"No\",\"Yes\": 1 1 1 1 2 1 1 1 1 2 ...\n",
      " $ Q110740        : Factor w/ 2 levels \"Mac\",\"PC\": 2 1 2 1 2 2 2 2 2 2 ...\n",
      " $ Q109367        : Factor w/ 2 levels \"No\",\"Yes\": 1 2 1 2 2 1 2 1 1 2 ...\n",
      " $ Q108950        : Factor w/ 2 levels \"Cautious\",\"Risk-friendly\": 1 1 1 2 1 1 1 1 1 1 ...\n",
      " $ Q109244        : Factor w/ 2 levels \"No\",\"Yes\": 1 1 1 1 1 1 2 1 1 1 ...\n",
      " $ Q108855        : Factor w/ 2 levels \"Umm...\",\"Yes!\": 2 1 1 1 2 1 1 2 2 2 ...\n",
      " $ Q108617        : Factor w/ 2 levels \"No\",\"Yes\": 1 1 1 1 1 1 1 1 1 1 ...\n",
      " $ Q108856        : Factor w/ 2 levels \"Socialize\",\"Space\": 2 2 2 1 1 2 2 1 2 1 ...\n",
      " $ Q108754        : Factor w/ 2 levels \"No\",\"Yes\": 1 2 1 2 1 2 1 1 1 1 ...\n",
      " $ Q108342        : Factor w/ 2 levels \"In-person\",\"Online\": 1 1 1 2 2 1 2 1 1 2 ...\n",
      " $ Q108343        : Factor w/ 2 levels \"No\",\"Yes\": 1 1 1 1 1 1 2 1 1 2 ...\n",
      " $ Q107869        : Factor w/ 2 levels \"No\",\"Yes\": 2 2 1 2 1 1 1 1 1 2 ...\n",
      " $ Q107491        : Factor w/ 2 levels \"No\",\"Yes\": 1 2 2 1 2 2 2 2 2 2 ...\n",
      " $ Q106993        : Factor w/ 2 levels \"No\",\"Yes\": 2 1 2 2 2 2 1 2 2 2 ...\n",
      " $ Q106997        : Factor w/ 2 levels \"Grrr people\",..: 2 2 1 1 2 1 1 1 1 2 ...\n",
      " $ Q106272        : Factor w/ 2 levels \"No\",\"Yes\": 2 2 2 1 2 2 2 2 2 1 ...\n",
      " $ Q106388        : Factor w/ 2 levels \"No\",\"Yes\": 1 2 1 1 1 1 1 1 1 1 ...\n",
      " $ Q106389        : Factor w/ 2 levels \"No\",\"Yes\": 2 2 1 2 2 2 2 2 2 1 ...\n",
      " $ Q106042        : Factor w/ 2 levels \"No\",\"Yes\": 2 2 1 2 2 2 2 1 1 2 ...\n",
      " $ Q105840        : Factor w/ 2 levels \"No\",\"Yes\": 2 2 1 1 2 1 2 1 1 2 ...\n",
      " $ Q105655        : Factor w/ 2 levels \"No\",\"Yes\": 1 1 1 2 2 1 1 2 2 2 ...\n",
      " $ Q104996        : Factor w/ 2 levels \"No\",\"Yes\": 2 2 1 2 1 2 1 1 1 2 ...\n",
      " $ Q103293        : Factor w/ 2 levels \"No\",\"Yes\": 1 1 2 1 1 2 2 2 2 2 ...\n",
      " $ Q102906        : Factor w/ 2 levels \"No\",\"Yes\": 1 2 1 1 1 2 2 1 1 2 ...\n",
      " $ Q102674        : Factor w/ 2 levels \"No\",\"Yes\": 1 2 1 1 2 1 1 1 1 1 ...\n",
      " $ Q102687        : Factor w/ 2 levels \"No\",\"Yes\": 2 2 2 2 1 2 1 2 2 1 ...\n",
      " $ Q102289        : Factor w/ 2 levels \"No\",\"Yes\": 1 2 1 2 1 1 1 1 1 1 ...\n",
      " $ Q102089        : Factor w/ 2 levels \"Own\",\"Rent\": 1 2 1 1 1 1 1 1 1 1 ...\n",
      " $ Q101162        : Factor w/ 2 levels \"Optimist\",\"Pessimist\": 1 1 2 1 1 1 2 2 1 1 ...\n",
      " $ Q101163        : Factor w/ 2 levels \"Dad\",\"Mom\": 1 2 2 2 2 1 2 2 1 2 ...\n",
      " $ Q101596        : Factor w/ 2 levels \"No\",\"Yes\": 2 1 1 1 1 1 1 2 1 1 ...\n",
      " $ Q100689        : Factor w/ 2 levels \"No\",\"Yes\": 2 2 1 1 2 2 2 2 1 2 ...\n",
      " $ Q100680        : Factor w/ 2 levels \"No\",\"Yes\": 1 1 1 1 2 2 2 1 2 2 ...\n",
      " $ Q100562        : Factor w/ 2 levels \"No\",\"Yes\": 1 2 1 2 2 2 2 2 1 2 ...\n",
      " $ Q99982         : Factor w/ 2 levels \"Check!\",\"Nope\": 2 2 2 1 2 1 2 2 2 1 ...\n",
      " $ Q100010        : Factor w/ 2 levels \"No\",\"Yes\": 2 2 2 1 2 1 2 2 2 2 ...\n",
      " $ Q99716         : Factor w/ 2 levels \"No\",\"Yes\": 1 1 1 1 1 1 1 1 1 1 ...\n",
      "  [list output truncated]\n"
     ]
    }
   ],
   "source": [
    "str(poll_train_imp)"
   ]
  },
  {
   "cell_type": "code",
   "execution_count": 116,
   "metadata": {
    "collapsed": true
   },
   "outputs": [],
   "source": [
    "library(caTools)"
   ]
  },
  {
   "cell_type": "code",
   "execution_count": 117,
   "metadata": {
    "collapsed": true
   },
   "outputs": [],
   "source": [
    "split = sample.split(poll_train_imp$Party,SplitRatio = 0.7)\n",
    "Train = subset(poll_train_imp, split == TRUE)\n",
    "Test = subset(poll_train_imp,split==FALSE)"
   ]
  },
  {
   "cell_type": "code",
   "execution_count": 118,
   "metadata": {
    "collapsed": false
   },
   "outputs": [
    {
     "data": {
      "text/html": [
       "3893"
      ],
      "text/latex": [
       "3893"
      ],
      "text/markdown": [
       "3893"
      ],
      "text/plain": [
       "[1] 3893"
      ]
     },
     "execution_count": 118,
     "metadata": {},
     "output_type": "execute_result"
    }
   ],
   "source": [
    "nrow(Train)"
   ]
  },
  {
   "cell_type": "code",
   "execution_count": 141,
   "metadata": {
    "collapsed": false
   },
   "outputs": [],
   "source": [
    "LogModel = glm(Party~YOB+Gender, data = Train, family = binomial)"
   ]
  },
  {
   "cell_type": "code",
   "execution_count": 142,
   "metadata": {
    "collapsed": false
   },
   "outputs": [
    {
     "data": {
      "text/plain": [
       "            \n",
       "             FALSE TRUE\n",
       "  Democrat    1095  969\n",
       "  Republican   840  989"
      ]
     },
     "execution_count": 142,
     "metadata": {},
     "output_type": "execute_result"
    }
   ],
   "source": [
    "t = table(Train$Party,predict(LogModel,type = \"response\")>0.5)\n",
    "t"
   ]
  },
  {
   "cell_type": "code",
   "execution_count": 143,
   "metadata": {
    "collapsed": false
   },
   "outputs": [
    {
     "data": {
      "text/html": [
       "0.535319804777806"
      ],
      "text/latex": [
       "0.535319804777806"
      ],
      "text/markdown": [
       "0.535319804777806"
      ],
      "text/plain": [
       "[1] 0.5353198"
      ]
     },
     "execution_count": 143,
     "metadata": {},
     "output_type": "execute_result"
    }
   ],
   "source": [
    "sum(diag(t))/sum(t)"
   ]
  },
  {
   "cell_type": "code",
   "execution_count": 144,
   "metadata": {
    "collapsed": false
   },
   "outputs": [
    {
     "data": {
      "text/plain": [
       "            \n",
       "             FALSE TRUE\n",
       "  Democrat     488  396\n",
       "  Republican   333  451"
      ]
     },
     "execution_count": 144,
     "metadata": {},
     "output_type": "execute_result"
    },
    {
     "data": {
      "text/html": [
       "0.56294964028777"
      ],
      "text/latex": [
       "0.56294964028777"
      ],
      "text/markdown": [
       "0.56294964028777"
      ],
      "text/plain": [
       "[1] 0.5629496"
      ]
     },
     "execution_count": 144,
     "metadata": {},
     "output_type": "execute_result"
    }
   ],
   "source": [
    "t = table(Test$Party,predict(LogModel,newdata = Test, type = \"response\")>0.5)\n",
    "t\n",
    "sum(diag(t))/sum(t)"
   ]
  },
  {
   "cell_type": "code",
   "execution_count": 125,
   "metadata": {
    "collapsed": false
   },
   "outputs": [
    {
     "name": "stderr",
     "output_type": "stream",
     "text": [
      "randomForest 4.6-12\n",
      "Type rfNews() to see new features/changes/bug fixes.\n"
     ]
    }
   ],
   "source": [
    "library(randomForest)"
   ]
  },
  {
   "cell_type": "code",
   "execution_count": 156,
   "metadata": {
    "collapsed": true
   },
   "outputs": [],
   "source": [
    "rf1 = randomForest(Party~.-USER_ID, data = Train, ntree = 300, nodesize = 30)"
   ]
  },
  {
   "cell_type": "code",
   "execution_count": 157,
   "metadata": {
    "collapsed": false
   },
   "outputs": [
    {
     "data": {
      "text/plain": [
       "            \n",
       "             Democrat Republican\n",
       "  Democrat       1420        644\n",
       "  Republican      877        952"
      ]
     },
     "execution_count": 157,
     "metadata": {},
     "output_type": "execute_result"
    },
    {
     "data": {
      "text/html": [
       "0.609298741330593"
      ],
      "text/latex": [
       "0.609298741330593"
      ],
      "text/markdown": [
       "0.609298741330593"
      ],
      "text/plain": [
       "[1] 0.6092987"
      ]
     },
     "execution_count": 157,
     "metadata": {},
     "output_type": "execute_result"
    }
   ],
   "source": [
    "t = table(Train$Party,predict(rf1))\n",
    "t\n",
    "sum(diag(t))/sum(t)"
   ]
  },
  {
   "cell_type": "code",
   "execution_count": 158,
   "metadata": {
    "collapsed": false
   },
   "outputs": [
    {
     "data": {
      "text/plain": [
       "            \n",
       "             Democrat Republican\n",
       "  Democrat        637        247\n",
       "  Republican      360        424"
      ]
     },
     "execution_count": 158,
     "metadata": {},
     "output_type": "execute_result"
    },
    {
     "data": {
      "text/html": [
       "0.636091127098321"
      ],
      "text/latex": [
       "0.636091127098321"
      ],
      "text/markdown": [
       "0.636091127098321"
      ],
      "text/plain": [
       "[1] 0.6360911"
      ]
     },
     "execution_count": 158,
     "metadata": {},
     "output_type": "execute_result"
    }
   ],
   "source": [
    "t = table(Test$Party,predict(rf1,newdata = Test))\n",
    "t\n",
    "sum(diag(t))/sum(t)"
   ]
  },
  {
   "cell_type": "code",
   "execution_count": 159,
   "metadata": {
    "collapsed": false
   },
   "outputs": [],
   "source": [
    "library(rpart)"
   ]
  },
  {
   "cell_type": "code",
   "execution_count": 183,
   "metadata": {
    "collapsed": false
   },
   "outputs": [],
   "source": [
    "Tree1 = rpart(Party~.-USER_ID, data = Train, method = \"class\",cp=0.008)"
   ]
  },
  {
   "cell_type": "code",
   "execution_count": 184,
   "metadata": {
    "collapsed": false
   },
   "outputs": [
    {
     "data": {
      "text/plain": [
       "            \n",
       "             Democrat Republican\n",
       "  Democrat       1323        741\n",
       "  Republican      730       1099"
      ]
     },
     "execution_count": 184,
     "metadata": {},
     "output_type": "execute_result"
    },
    {
     "data": {
      "text/html": [
       "0.622142306704341"
      ],
      "text/latex": [
       "0.622142306704341"
      ],
      "text/markdown": [
       "0.622142306704341"
      ],
      "text/plain": [
       "[1] 0.6221423"
      ]
     },
     "execution_count": 184,
     "metadata": {},
     "output_type": "execute_result"
    }
   ],
   "source": [
    "t = table(Train$Party,predict(Tree1,type = \"class\"))\n",
    "t\n",
    "sum(diag(t))/sum(t)"
   ]
  },
  {
   "cell_type": "code",
   "execution_count": 185,
   "metadata": {
    "collapsed": false
   },
   "outputs": [
    {
     "data": {
      "text/plain": [
       "            \n",
       "             Democrat Republican\n",
       "  Democrat        590        294\n",
       "  Republican      298        486"
      ]
     },
     "execution_count": 185,
     "metadata": {},
     "output_type": "execute_result"
    },
    {
     "data": {
      "text/html": [
       "0.645083932853717"
      ],
      "text/latex": [
       "0.645083932853717"
      ],
      "text/markdown": [
       "0.645083932853717"
      ],
      "text/plain": [
       "[1] 0.6450839"
      ]
     },
     "execution_count": 185,
     "metadata": {},
     "output_type": "execute_result"
    }
   ],
   "source": [
    "t = table(Test$Party,predict(Tree1,newdata = Test, type = \"class\"))\n",
    "t\n",
    "sum(diag(t))/sum(t)"
   ]
  },
  {
   "cell_type": "code",
   "execution_count": 186,
   "metadata": {
    "collapsed": true
   },
   "outputs": [],
   "source": [
    "Tree2 = rpart(Party~.-USER_ID, data = poll_train_imp, method = \"class\")"
   ]
  },
  {
   "cell_type": "code",
   "execution_count": 165,
   "metadata": {
    "collapsed": false
   },
   "outputs": [
    {
     "data": {
      "text/plain": [
       "            \n",
       "             Democrat Republican\n",
       "  Democrat       1913       1035\n",
       "  Republican     1028       1585"
      ]
     },
     "execution_count": 165,
     "metadata": {},
     "output_type": "execute_result"
    },
    {
     "data": {
      "text/html": [
       "0.629023556914224"
      ],
      "text/latex": [
       "0.629023556914224"
      ],
      "text/markdown": [
       "0.629023556914224"
      ],
      "text/plain": [
       "[1] 0.6290236"
      ]
     },
     "execution_count": 165,
     "metadata": {},
     "output_type": "execute_result"
    }
   ],
   "source": [
    "t = table(poll_train_imp$Party,predict(Tree2,type = \"class\"))\n",
    "t\n",
    "sum(diag(t))/sum(t)"
   ]
  },
  {
   "cell_type": "code",
   "execution_count": 187,
   "metadata": {
    "collapsed": false
   },
   "outputs": [],
   "source": [
    "predFinTest = predict(Tree1, newdata = poll_test_imp,type=\"class\")"
   ]
  },
  {
   "cell_type": "code",
   "execution_count": 188,
   "metadata": {
    "collapsed": false
   },
   "outputs": [
    {
     "data": {
      "text/plain": [
       "predFinTest\n",
       "  Democrat Republican \n",
       "       712        680 "
      ]
     },
     "execution_count": 188,
     "metadata": {},
     "output_type": "execute_result"
    }
   ],
   "source": [
    "table(predFinTest)"
   ]
  },
  {
   "cell_type": "code",
   "execution_count": 169,
   "metadata": {
    "collapsed": false
   },
   "outputs": [
    {
     "name": "stdout",
     "output_type": "stream",
     "text": [
      "'data.frame':\t1392 obs. of  2 variables:\n",
      " $ USER_ID    : int  2 3 6 7 14 28 29 37 44 56 ...\n",
      " $ Predictions: Factor w/ 2 levels \"Democrat\",\"Republican\": 1 2 2 1 1 2 1 2 1 1 ...\n"
     ]
    }
   ],
   "source": [
    "result = data.frame(USER_ID=poll_test_imp$USER_ID,Predictions=predFinTest)\n",
    "str(result)"
   ]
  },
  {
   "cell_type": "code",
   "execution_count": 170,
   "metadata": {
    "collapsed": true
   },
   "outputs": [],
   "source": [
    "#write.csv(result, \"Submission_FE_01.csv\", row.names=FALSE)"
   ]
  },
  {
   "cell_type": "code",
   "execution_count": 189,
   "metadata": {
    "collapsed": false
   },
   "outputs": [
    {
     "name": "stderr",
     "output_type": "stream",
     "text": [
      "Loading required package: ggplot2\n",
      "Warning message:\n",
      ": package ‘ggplot2’ was built under R version 3.3.0\n",
      "Attaching package: ‘ggplot2’\n",
      "\n",
      "The following object is masked from ‘package:randomForest’:\n",
      "\n",
      "    margin\n",
      "\n"
     ]
    }
   ],
   "source": [
    "library(caret)"
   ]
  },
  {
   "cell_type": "code",
   "execution_count": 198,
   "metadata": {
    "collapsed": false
   },
   "outputs": [
    {
     "data": {
      "text/plain": [
       "\n",
       "  Democrat Republican \n",
       "      2948       2613 "
      ]
     },
     "execution_count": 198,
     "metadata": {},
     "output_type": "execute_result"
    }
   ],
   "source": [
    "table(poll_train_imp$Party)\n",
    "train_poll = as.data.frame(model.matrix(Party~.,poll_train_imp))\n",
    "train_poll$Party = poll_train_imp$Party"
   ]
  },
  {
   "cell_type": "code",
   "execution_count": 202,
   "metadata": {
    "collapsed": false
   },
   "outputs": [
    {
     "ename": "ERROR",
     "evalue": "Error in parse(text = x, srcfile = src): <text>:2:18: unexpected '('\n1: table(train_poll$Party)\n2: names(train_poll$(\n                    ^\n",
     "output_type": "error",
     "traceback": [
      "Error in parse(text = x, srcfile = src): <text>:2:18: unexpected '('\n1: table(train_poll$Party)\n2: names(train_poll$(\n                    ^\n"
     ]
    }
   ],
   "source": [
    "table(train_poll$Party)\n",
    "names(train_poll$(Intercept) = NULL\n",
    "str(train_poll)"
   ]
  },
  {
   "cell_type": "code",
   "execution_count": 193,
   "metadata": {
    "collapsed": false
   },
   "outputs": [
    {
     "name": "stdout",
     "output_type": "stream",
     "text": [
      "'data.frame':\t5561 obs. of  108 variables:\n",
      " $ USER_ID        : num  -1.73 -1.72 -1.72 -1.72 -1.72 ...\n",
      " $ YOB            : num  2.725 0.636 -1.128 -0.213 -0.279 ...\n",
      " $ Gender         : Factor w/ 2 levels \"Female\",\"Male\": 2 1 2 2 1 1 2 2 2 1 ...\n",
      " $ Income         : num  0.842 1.698 0.128 0.842 -0.348 ...\n",
      " $ HouseholdStatus: Factor w/ 6 levels \"Domestic Partners (no kids)\",..: 4 2 5 4 4 5 3 5 5 4 ...\n",
      " $ EducationLevel : Factor w/ 7 levels \"Associate's Degree\",..: 1 2 6 2 6 3 4 3 3 6 ...\n",
      " $ Q124742        : Factor w/ 2 levels \"No\",\"Yes\": 1 1 2 1 1 2 2 2 1 1 ...\n",
      " $ Q124122        : Factor w/ 2 levels \"No\",\"Yes\": 2 2 2 2 2 1 1 2 1 1 ...\n",
      " $ Q123464        : Factor w/ 2 levels \"No\",\"Yes\": 1 1 2 1 1 1 1 1 2 1 ...\n",
      " $ Q123621        : Factor w/ 2 levels \"No\",\"Yes\": 1 1 1 2 1 1 1 1 1 1 ...\n",
      " $ Q122769        : Factor w/ 2 levels \"No\",\"Yes\": 1 1 2 1 1 1 1 1 2 2 ...\n",
      " $ Q122770        : Factor w/ 2 levels \"No\",\"Yes\": 2 2 2 1 2 2 2 2 2 1 ...\n",
      " $ Q122771        : Factor w/ 2 levels \"Private\",\"Public\": 2 2 1 2 2 2 2 1 2 2 ...\n",
      " $ Q122120        : Factor w/ 2 levels \"No\",\"Yes\": 1 1 1 1 1 1 1 2 2 1 ...\n",
      " $ Q121699        : Factor w/ 2 levels \"No\",\"Yes\": 2 2 1 2 2 1 1 1 1 2 ...\n",
      " $ Q121700        : Factor w/ 2 levels \"No\",\"Yes\": 1 1 1 1 1 1 1 1 1 1 ...\n",
      " $ Q120978        : Factor w/ 2 levels \"No\",\"Yes\": 1 2 2 2 2 2 2 1 2 2 ...\n",
      " $ Q121011        : Factor w/ 2 levels \"No\",\"Yes\": 1 1 1 1 2 1 1 1 1 2 ...\n",
      " $ Q120379        : Factor w/ 2 levels \"No\",\"Yes\": 1 1 1 1 1 2 2 2 2 1 ...\n",
      " $ Q120650        : Factor w/ 2 levels \"No\",\"Yes\": 2 2 2 2 2 2 2 2 2 2 ...\n",
      " $ Q120472        : Factor w/ 2 levels \"Art\",\"Science\": 2 2 2 2 1 2 2 2 2 1 ...\n",
      " $ Q120194        : Factor w/ 2 levels \"Study first\",..: 2 1 1 2 2 2 1 2 1 2 ...\n",
      " $ Q120012        : Factor w/ 2 levels \"No\",\"Yes\": 1 2 1 1 2 2 1 1 1 2 ...\n",
      " $ Q120014        : Factor w/ 2 levels \"No\",\"Yes\": 1 2 2 2 1 2 1 2 1 1 ...\n",
      " $ Q119334        : Factor w/ 2 levels \"No\",\"Yes\": 1 1 1 2 1 1 1 1 1 1 ...\n",
      " $ Q119851        : Factor w/ 2 levels \"No\",\"Yes\": 2 1 2 1 1 2 2 1 1 2 ...\n",
      " $ Q119650        : Factor w/ 2 levels \"Giving\",\"Receiving\": 1 2 2 1 1 2 1 2 2 1 ...\n",
      " $ Q118892        : Factor w/ 2 levels \"No\",\"Yes\": 2 1 1 2 1 1 1 2 1 1 ...\n",
      " $ Q118117        : Factor w/ 2 levels \"No\",\"Yes\": 2 1 2 1 1 1 1 1 2 2 ...\n",
      " $ Q118232        : Factor w/ 2 levels \"Idealist\",\"Pragmatist\": 1 2 2 1 1 2 2 1 2 1 ...\n",
      " $ Q118233        : Factor w/ 2 levels \"No\",\"Yes\": 1 1 1 1 2 1 1 1 1 2 ...\n",
      " $ Q118237        : Factor w/ 2 levels \"No\",\"Yes\": 1 1 2 1 2 1 2 2 2 2 ...\n",
      " $ Q117186        : Factor w/ 2 levels \"Cool headed\",..: 1 1 1 1 2 1 1 1 1 1 ...\n",
      " $ Q117193        : Factor w/ 2 levels \"Odd hours\",\"Standard hours\": 1 2 1 2 2 2 1 2 2 2 ...\n",
      " $ Q116797        : Factor w/ 2 levels \"No\",\"Yes\": 2 1 1 1 1 1 1 1 1 2 ...\n",
      " $ Q116881        : Factor w/ 2 levels \"Happy\",\"Right\": 1 1 2 1 1 1 1 2 1 1 ...\n",
      " $ Q116953        : Factor w/ 2 levels \"No\",\"Yes\": 2 2 2 2 2 1 1 1 2 1 ...\n",
      " $ Q116601        : Factor w/ 2 levels \"No\",\"Yes\": 2 2 1 2 2 1 2 1 1 2 ...\n",
      " $ Q116441        : Factor w/ 2 levels \"No\",\"Yes\": 1 2 1 1 1 1 1 1 1 2 ...\n",
      " $ Q116448        : Factor w/ 2 levels \"No\",\"Yes\": 1 1 2 1 2 2 2 1 1 2 ...\n",
      " $ Q116197        : Factor w/ 2 levels \"A.M.\",\"P.M.\": 2 1 1 1 2 2 2 2 2 2 ...\n",
      " $ Q115602        : Factor w/ 2 levels \"No\",\"Yes\": 2 1 2 2 1 2 2 2 2 2 ...\n",
      " $ Q115777        : Factor w/ 2 levels \"End\",\"Start\": 2 1 2 2 1 2 1 2 2 2 ...\n",
      " $ Q115610        : Factor w/ 2 levels \"No\",\"Yes\": 2 2 2 2 1 2 2 2 2 2 ...\n",
      " $ Q115611        : Factor w/ 2 levels \"No\",\"Yes\": 1 1 2 1 1 1 1 2 1 2 ...\n",
      " $ Q115899        : Factor w/ 2 levels \"Circumstances\",..: 1 2 1 1 2 2 2 1 2 2 ...\n",
      " $ Q115390        : Factor w/ 2 levels \"No\",\"Yes\": 2 2 1 2 1 1 2 1 2 2 ...\n",
      " $ Q114961        : Factor w/ 2 levels \"No\",\"Yes\": 2 2 2 1 2 2 2 1 2 1 ...\n",
      " $ Q114748        : Factor w/ 2 levels \"No\",\"Yes\": 2 1 1 1 2 1 1 2 2 1 ...\n",
      " $ Q115195        : Factor w/ 2 levels \"No\",\"Yes\": 2 2 2 2 2 2 2 1 2 1 ...\n",
      " $ Q114517        : Factor w/ 2 levels \"No\",\"Yes\": 1 1 2 1 2 1 2 1 2 1 ...\n",
      " $ Q114386        : Factor w/ 2 levels \"Mysterious\",\"TMI\": 1 1 1 2 2 1 1 1 1 2 ...\n",
      " $ Q113992        : Factor w/ 2 levels \"No\",\"Yes\": 2 1 1 1 2 1 1 1 1 1 ...\n",
      " $ Q114152        : Factor w/ 2 levels \"No\",\"Yes\": 2 1 1 1 1 2 1 1 2 2 ...\n",
      " $ Q113583        : Factor w/ 2 levels \"Talk\",\"Tunes\": 1 2 2 1 2 1 2 2 2 2 ...\n",
      " $ Q113584        : Factor w/ 2 levels \"People\",\"Technology\": 2 2 2 1 1 1 2 1 2 2 ...\n",
      " $ Q113181        : Factor w/ 2 levels \"No\",\"Yes\": 1 1 2 1 1 1 2 2 2 2 ...\n",
      " $ Q112478        : Factor w/ 2 levels \"No\",\"Yes\": 1 1 2 2 1 2 2 1 2 1 ...\n",
      " $ Q112512        : Factor w/ 2 levels \"No\",\"Yes\": 2 2 2 2 2 2 2 2 2 2 ...\n",
      " $ Q112270        : Factor w/ 2 levels \"No\",\"Yes\": 2 2 2 2 1 1 2 2 1 2 ...\n",
      " $ Q111848        : Factor w/ 2 levels \"No\",\"Yes\": 1 1 1 2 1 2 2 2 2 1 ...\n",
      " $ Q111580        : Factor w/ 2 levels \"Demanding\",\"Supportive\": 1 1 2 2 1 2 2 1 1 1 ...\n",
      " $ Q111220        : Factor w/ 2 levels \"No\",\"Yes\": 1 1 1 1 2 1 1 1 1 2 ...\n",
      " $ Q110740        : Factor w/ 2 levels \"Mac\",\"PC\": 2 1 2 1 2 2 2 2 2 2 ...\n",
      " $ Q109367        : Factor w/ 2 levels \"No\",\"Yes\": 1 2 1 2 2 1 2 1 1 2 ...\n",
      " $ Q108950        : Factor w/ 2 levels \"Cautious\",\"Risk-friendly\": 1 1 1 2 1 1 1 1 1 1 ...\n",
      " $ Q109244        : Factor w/ 2 levels \"No\",\"Yes\": 1 1 1 1 1 1 2 1 1 1 ...\n",
      " $ Q108855        : Factor w/ 2 levels \"Umm...\",\"Yes!\": 2 1 1 1 2 1 1 2 2 2 ...\n",
      " $ Q108617        : Factor w/ 2 levels \"No\",\"Yes\": 1 1 1 1 1 1 1 1 1 1 ...\n",
      " $ Q108856        : Factor w/ 2 levels \"Socialize\",\"Space\": 2 2 2 1 1 2 2 1 2 1 ...\n",
      " $ Q108754        : Factor w/ 2 levels \"No\",\"Yes\": 1 2 1 2 1 2 1 1 1 1 ...\n",
      " $ Q108342        : Factor w/ 2 levels \"In-person\",\"Online\": 1 1 1 2 2 1 2 1 1 2 ...\n",
      " $ Q108343        : Factor w/ 2 levels \"No\",\"Yes\": 1 1 1 1 1 1 2 1 1 2 ...\n",
      " $ Q107869        : Factor w/ 2 levels \"No\",\"Yes\": 2 2 1 2 1 1 1 1 1 2 ...\n",
      " $ Q107491        : Factor w/ 2 levels \"No\",\"Yes\": 1 2 2 1 2 2 2 2 2 2 ...\n",
      " $ Q106993        : Factor w/ 2 levels \"No\",\"Yes\": 2 1 2 2 2 2 1 2 2 2 ...\n",
      " $ Q106997        : Factor w/ 2 levels \"Grrr people\",..: 2 2 1 1 2 1 1 1 1 2 ...\n",
      " $ Q106272        : Factor w/ 2 levels \"No\",\"Yes\": 2 2 2 1 2 2 2 2 2 1 ...\n",
      " $ Q106388        : Factor w/ 2 levels \"No\",\"Yes\": 1 2 1 1 1 1 1 1 1 1 ...\n",
      " $ Q106389        : Factor w/ 2 levels \"No\",\"Yes\": 2 2 1 2 2 2 2 2 2 1 ...\n",
      " $ Q106042        : Factor w/ 2 levels \"No\",\"Yes\": 2 2 1 2 2 2 2 1 1 2 ...\n",
      " $ Q105840        : Factor w/ 2 levels \"No\",\"Yes\": 2 2 1 1 2 1 2 1 1 2 ...\n",
      " $ Q105655        : Factor w/ 2 levels \"No\",\"Yes\": 1 1 1 2 2 1 1 2 2 2 ...\n",
      " $ Q104996        : Factor w/ 2 levels \"No\",\"Yes\": 2 2 1 2 1 2 1 1 1 2 ...\n",
      " $ Q103293        : Factor w/ 2 levels \"No\",\"Yes\": 1 1 2 1 1 2 2 2 2 2 ...\n",
      " $ Q102906        : Factor w/ 2 levels \"No\",\"Yes\": 1 2 1 1 1 2 2 1 1 2 ...\n",
      " $ Q102674        : Factor w/ 2 levels \"No\",\"Yes\": 1 2 1 1 2 1 1 1 1 1 ...\n",
      " $ Q102687        : Factor w/ 2 levels \"No\",\"Yes\": 2 2 2 2 1 2 1 2 2 1 ...\n",
      " $ Q102289        : Factor w/ 2 levels \"No\",\"Yes\": 1 2 1 2 1 1 1 1 1 1 ...\n",
      " $ Q102089        : Factor w/ 2 levels \"Own\",\"Rent\": 1 2 1 1 1 1 1 1 1 1 ...\n",
      " $ Q101162        : Factor w/ 2 levels \"Optimist\",\"Pessimist\": 1 1 2 1 1 1 2 2 1 1 ...\n",
      " $ Q101163        : Factor w/ 2 levels \"Dad\",\"Mom\": 1 2 2 2 2 1 2 2 1 2 ...\n",
      " $ Q101596        : Factor w/ 2 levels \"No\",\"Yes\": 2 1 1 1 1 1 1 2 1 1 ...\n",
      " $ Q100689        : Factor w/ 2 levels \"No\",\"Yes\": 2 2 1 1 2 2 2 2 1 2 ...\n",
      " $ Q100680        : Factor w/ 2 levels \"No\",\"Yes\": 1 1 1 1 2 2 2 1 2 2 ...\n",
      " $ Q100562        : Factor w/ 2 levels \"No\",\"Yes\": 1 2 1 2 2 2 2 2 1 2 ...\n",
      " $ Q99982         : Factor w/ 2 levels \"Check!\",\"Nope\": 2 2 2 1 2 1 2 2 2 1 ...\n",
      " $ Q100010        : Factor w/ 2 levels \"No\",\"Yes\": 2 2 2 1 2 1 2 2 2 2 ...\n",
      " $ Q99716         : Factor w/ 2 levels \"No\",\"Yes\": 1 1 1 1 1 1 1 1 1 1 ...\n",
      "  [list output truncated]\n"
     ]
    }
   ],
   "source": [
    "str(train_poll)"
   ]
  },
  {
   "cell_type": "code",
   "execution_count": null,
   "metadata": {
    "collapsed": true
   },
   "outputs": [],
   "source": []
  }
 ],
 "metadata": {
  "kernelspec": {
   "display_name": "R",
   "language": "R",
   "name": "ir"
  },
  "language_info": {
   "codemirror_mode": "r",
   "file_extension": ".r",
   "mimetype": "text/x-r-source",
   "name": "R",
   "pygments_lexer": "r",
   "version": "3.2.2"
  }
 },
 "nbformat": 4,
 "nbformat_minor": 0
}
