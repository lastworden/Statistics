{
 "cells": [
  {
   "cell_type": "code",
   "execution_count": 1,
   "metadata": {
    "collapsed": true
   },
   "outputs": [],
   "source": [
    "pollTrain = read.csv(\"normPollElabTrain.csv\")\n",
    "pollTest = read.csv(\"normPollElabTest.csv\")"
   ]
  },
  {
   "cell_type": "code",
   "execution_count": 4,
   "metadata": {
    "collapsed": false
   },
   "outputs": [
    {
     "data": {
      "text/html": [
       "<ol class=list-inline>\n",
       "\t<li>'YOB'</li>\n",
       "\t<li>'GenderMale'</li>\n",
       "\t<li>'Income'</li>\n",
       "\t<li>'HouseholdStatusDomestic.Partners..w.kids.'</li>\n",
       "\t<li>'HouseholdStatusMarried..no.kids.'</li>\n",
       "\t<li>'HouseholdStatusMarried..w.kids.'</li>\n",
       "\t<li>'HouseholdStatusSingle..no.kids.'</li>\n",
       "\t<li>'HouseholdStatusSingle..w.kids.'</li>\n",
       "\t<li>'EducationLevelBachelor.s.Degree'</li>\n",
       "\t<li>'EducationLevelCurrent.K.12'</li>\n",
       "\t<li>'EducationLevelCurrent.Undergraduate'</li>\n",
       "\t<li>'EducationLevelDoctoral.Degree'</li>\n",
       "\t<li>'EducationLevelHigh.School.Diploma'</li>\n",
       "\t<li>'EducationLevelMaster.s.Degree'</li>\n",
       "\t<li>'Q124742Yes'</li>\n",
       "\t<li>'Q124122Yes'</li>\n",
       "\t<li>'Q123464Yes'</li>\n",
       "\t<li>'Q123621Yes'</li>\n",
       "\t<li>'Q122769Yes'</li>\n",
       "\t<li>'Q122770Yes'</li>\n",
       "\t<li>'Q122771Public'</li>\n",
       "\t<li>'Q122120Yes'</li>\n",
       "\t<li>'Q121699Yes'</li>\n",
       "\t<li>'Q121700Yes'</li>\n",
       "\t<li>'Q120978Yes'</li>\n",
       "\t<li>'Q121011Yes'</li>\n",
       "\t<li>'Q120379Yes'</li>\n",
       "\t<li>'Q120650Yes'</li>\n",
       "\t<li>'Q120472Science'</li>\n",
       "\t<li>'Q120194Try.first'</li>\n",
       "\t<li>'Q120012Yes'</li>\n",
       "\t<li>'Q120014Yes'</li>\n",
       "\t<li>'Q119334Yes'</li>\n",
       "\t<li>'Q119851Yes'</li>\n",
       "\t<li>'Q119650Receiving'</li>\n",
       "\t<li>'Q118892Yes'</li>\n",
       "\t<li>'Q118117Yes'</li>\n",
       "\t<li>'Q118232Pragmatist'</li>\n",
       "\t<li>'Q118233Yes'</li>\n",
       "\t<li>'Q118237Yes'</li>\n",
       "\t<li>'Q117186Hot.headed'</li>\n",
       "\t<li>'Q117193Standard.hours'</li>\n",
       "\t<li>'Q116797Yes'</li>\n",
       "\t<li>'Q116881Right'</li>\n",
       "\t<li>'Q116953Yes'</li>\n",
       "\t<li>'Q116601Yes'</li>\n",
       "\t<li>'Q116441Yes'</li>\n",
       "\t<li>'Q116448Yes'</li>\n",
       "\t<li>'Q116197P.M.'</li>\n",
       "\t<li>'Q115602Yes'</li>\n",
       "\t<li>'Q115777Start'</li>\n",
       "\t<li>'Q115610Yes'</li>\n",
       "\t<li>'Q115611Yes'</li>\n",
       "\t<li>'Q115899Me'</li>\n",
       "\t<li>'Q115390Yes'</li>\n",
       "\t<li>'Q114961Yes'</li>\n",
       "\t<li>'Q114748Yes'</li>\n",
       "\t<li>'Q115195Yes'</li>\n",
       "\t<li>'Q114517Yes'</li>\n",
       "\t<li>'Q114386TMI'</li>\n",
       "\t<li>'Q113992Yes'</li>\n",
       "\t<li>'Q114152Yes'</li>\n",
       "\t<li>'Q113583Tunes'</li>\n",
       "\t<li>'Q113584Technology'</li>\n",
       "\t<li>'Q113181Yes'</li>\n",
       "\t<li>'Q112478Yes'</li>\n",
       "\t<li>'Q112512Yes'</li>\n",
       "\t<li>'Q112270Yes'</li>\n",
       "\t<li>'Q111848Yes'</li>\n",
       "\t<li>'Q111580Supportive'</li>\n",
       "\t<li>'Q111220Yes'</li>\n",
       "\t<li>'Q110740PC'</li>\n",
       "\t<li>'Q109367Yes'</li>\n",
       "\t<li>'Q108950Risk.friendly'</li>\n",
       "\t<li>'Q109244Yes'</li>\n",
       "\t<li>'Q108855Yes.'</li>\n",
       "\t<li>'Q108617Yes'</li>\n",
       "\t<li>'Q108856Space'</li>\n",
       "\t<li>'Q108754Yes'</li>\n",
       "\t<li>'Q108342Online'</li>\n",
       "\t<li>'Q108343Yes'</li>\n",
       "\t<li>'Q107869Yes'</li>\n",
       "\t<li>'Q107491Yes'</li>\n",
       "\t<li>'Q106993Yes'</li>\n",
       "\t<li>'Q106997Yay.people.'</li>\n",
       "\t<li>'Q106272Yes'</li>\n",
       "\t<li>'Q106388Yes'</li>\n",
       "\t<li>'Q106389Yes'</li>\n",
       "\t<li>'Q106042Yes'</li>\n",
       "\t<li>'Q105840Yes'</li>\n",
       "\t<li>'Q105655Yes'</li>\n",
       "\t<li>'Q104996Yes'</li>\n",
       "\t<li>'Q103293Yes'</li>\n",
       "\t<li>'Q102906Yes'</li>\n",
       "\t<li>'Q102674Yes'</li>\n",
       "\t<li>'Q102687Yes'</li>\n",
       "\t<li>'Q102289Yes'</li>\n",
       "\t<li>'Q102089Rent'</li>\n",
       "\t<li>'Q101162Pessimist'</li>\n",
       "\t<li>'Q101163Mom'</li>\n",
       "\t<li>'Q101596Yes'</li>\n",
       "\t<li>'Q100689Yes'</li>\n",
       "\t<li>'Q100680Yes'</li>\n",
       "\t<li>'Q100562Yes'</li>\n",
       "\t<li>'Q99982Nope'</li>\n",
       "\t<li>'Q100010Yes'</li>\n",
       "\t<li>'Q99716Yes'</li>\n",
       "\t<li>'Q99581Yes'</li>\n",
       "\t<li>'Q99480Yes'</li>\n",
       "\t<li>'Q98869Yes'</li>\n",
       "\t<li>'Q98578Yes'</li>\n",
       "\t<li>'Q98059Yes'</li>\n",
       "\t<li>'Q98078Yes'</li>\n",
       "\t<li>'Q98197Yes'</li>\n",
       "\t<li>'Q96024Yes'</li>\n",
       "\t<li>'Party'</li>\n",
       "</ol>\n"
      ],
      "text/latex": [
       "\\begin{enumerate*}\n",
       "\\item 'YOB'\n",
       "\\item 'GenderMale'\n",
       "\\item 'Income'\n",
       "\\item 'HouseholdStatusDomestic.Partners..w.kids.'\n",
       "\\item 'HouseholdStatusMarried..no.kids.'\n",
       "\\item 'HouseholdStatusMarried..w.kids.'\n",
       "\\item 'HouseholdStatusSingle..no.kids.'\n",
       "\\item 'HouseholdStatusSingle..w.kids.'\n",
       "\\item 'EducationLevelBachelor.s.Degree'\n",
       "\\item 'EducationLevelCurrent.K.12'\n",
       "\\item 'EducationLevelCurrent.Undergraduate'\n",
       "\\item 'EducationLevelDoctoral.Degree'\n",
       "\\item 'EducationLevelHigh.School.Diploma'\n",
       "\\item 'EducationLevelMaster.s.Degree'\n",
       "\\item 'Q124742Yes'\n",
       "\\item 'Q124122Yes'\n",
       "\\item 'Q123464Yes'\n",
       "\\item 'Q123621Yes'\n",
       "\\item 'Q122769Yes'\n",
       "\\item 'Q122770Yes'\n",
       "\\item 'Q122771Public'\n",
       "\\item 'Q122120Yes'\n",
       "\\item 'Q121699Yes'\n",
       "\\item 'Q121700Yes'\n",
       "\\item 'Q120978Yes'\n",
       "\\item 'Q121011Yes'\n",
       "\\item 'Q120379Yes'\n",
       "\\item 'Q120650Yes'\n",
       "\\item 'Q120472Science'\n",
       "\\item 'Q120194Try.first'\n",
       "\\item 'Q120012Yes'\n",
       "\\item 'Q120014Yes'\n",
       "\\item 'Q119334Yes'\n",
       "\\item 'Q119851Yes'\n",
       "\\item 'Q119650Receiving'\n",
       "\\item 'Q118892Yes'\n",
       "\\item 'Q118117Yes'\n",
       "\\item 'Q118232Pragmatist'\n",
       "\\item 'Q118233Yes'\n",
       "\\item 'Q118237Yes'\n",
       "\\item 'Q117186Hot.headed'\n",
       "\\item 'Q117193Standard.hours'\n",
       "\\item 'Q116797Yes'\n",
       "\\item 'Q116881Right'\n",
       "\\item 'Q116953Yes'\n",
       "\\item 'Q116601Yes'\n",
       "\\item 'Q116441Yes'\n",
       "\\item 'Q116448Yes'\n",
       "\\item 'Q116197P.M.'\n",
       "\\item 'Q115602Yes'\n",
       "\\item 'Q115777Start'\n",
       "\\item 'Q115610Yes'\n",
       "\\item 'Q115611Yes'\n",
       "\\item 'Q115899Me'\n",
       "\\item 'Q115390Yes'\n",
       "\\item 'Q114961Yes'\n",
       "\\item 'Q114748Yes'\n",
       "\\item 'Q115195Yes'\n",
       "\\item 'Q114517Yes'\n",
       "\\item 'Q114386TMI'\n",
       "\\item 'Q113992Yes'\n",
       "\\item 'Q114152Yes'\n",
       "\\item 'Q113583Tunes'\n",
       "\\item 'Q113584Technology'\n",
       "\\item 'Q113181Yes'\n",
       "\\item 'Q112478Yes'\n",
       "\\item 'Q112512Yes'\n",
       "\\item 'Q112270Yes'\n",
       "\\item 'Q111848Yes'\n",
       "\\item 'Q111580Supportive'\n",
       "\\item 'Q111220Yes'\n",
       "\\item 'Q110740PC'\n",
       "\\item 'Q109367Yes'\n",
       "\\item 'Q108950Risk.friendly'\n",
       "\\item 'Q109244Yes'\n",
       "\\item 'Q108855Yes.'\n",
       "\\item 'Q108617Yes'\n",
       "\\item 'Q108856Space'\n",
       "\\item 'Q108754Yes'\n",
       "\\item 'Q108342Online'\n",
       "\\item 'Q108343Yes'\n",
       "\\item 'Q107869Yes'\n",
       "\\item 'Q107491Yes'\n",
       "\\item 'Q106993Yes'\n",
       "\\item 'Q106997Yay.people.'\n",
       "\\item 'Q106272Yes'\n",
       "\\item 'Q106388Yes'\n",
       "\\item 'Q106389Yes'\n",
       "\\item 'Q106042Yes'\n",
       "\\item 'Q105840Yes'\n",
       "\\item 'Q105655Yes'\n",
       "\\item 'Q104996Yes'\n",
       "\\item 'Q103293Yes'\n",
       "\\item 'Q102906Yes'\n",
       "\\item 'Q102674Yes'\n",
       "\\item 'Q102687Yes'\n",
       "\\item 'Q102289Yes'\n",
       "\\item 'Q102089Rent'\n",
       "\\item 'Q101162Pessimist'\n",
       "\\item 'Q101163Mom'\n",
       "\\item 'Q101596Yes'\n",
       "\\item 'Q100689Yes'\n",
       "\\item 'Q100680Yes'\n",
       "\\item 'Q100562Yes'\n",
       "\\item 'Q99982Nope'\n",
       "\\item 'Q100010Yes'\n",
       "\\item 'Q99716Yes'\n",
       "\\item 'Q99581Yes'\n",
       "\\item 'Q99480Yes'\n",
       "\\item 'Q98869Yes'\n",
       "\\item 'Q98578Yes'\n",
       "\\item 'Q98059Yes'\n",
       "\\item 'Q98078Yes'\n",
       "\\item 'Q98197Yes'\n",
       "\\item 'Q96024Yes'\n",
       "\\item 'Party'\n",
       "\\end{enumerate*}\n"
      ],
      "text/markdown": [
       "1. 'YOB'\n",
       "2. 'GenderMale'\n",
       "3. 'Income'\n",
       "4. 'HouseholdStatusDomestic.Partners..w.kids.'\n",
       "5. 'HouseholdStatusMarried..no.kids.'\n",
       "6. 'HouseholdStatusMarried..w.kids.'\n",
       "7. 'HouseholdStatusSingle..no.kids.'\n",
       "8. 'HouseholdStatusSingle..w.kids.'\n",
       "9. 'EducationLevelBachelor.s.Degree'\n",
       "10. 'EducationLevelCurrent.K.12'\n",
       "11. 'EducationLevelCurrent.Undergraduate'\n",
       "12. 'EducationLevelDoctoral.Degree'\n",
       "13. 'EducationLevelHigh.School.Diploma'\n",
       "14. 'EducationLevelMaster.s.Degree'\n",
       "15. 'Q124742Yes'\n",
       "16. 'Q124122Yes'\n",
       "17. 'Q123464Yes'\n",
       "18. 'Q123621Yes'\n",
       "19. 'Q122769Yes'\n",
       "20. 'Q122770Yes'\n",
       "21. 'Q122771Public'\n",
       "22. 'Q122120Yes'\n",
       "23. 'Q121699Yes'\n",
       "24. 'Q121700Yes'\n",
       "25. 'Q120978Yes'\n",
       "26. 'Q121011Yes'\n",
       "27. 'Q120379Yes'\n",
       "28. 'Q120650Yes'\n",
       "29. 'Q120472Science'\n",
       "30. 'Q120194Try.first'\n",
       "31. 'Q120012Yes'\n",
       "32. 'Q120014Yes'\n",
       "33. 'Q119334Yes'\n",
       "34. 'Q119851Yes'\n",
       "35. 'Q119650Receiving'\n",
       "36. 'Q118892Yes'\n",
       "37. 'Q118117Yes'\n",
       "38. 'Q118232Pragmatist'\n",
       "39. 'Q118233Yes'\n",
       "40. 'Q118237Yes'\n",
       "41. 'Q117186Hot.headed'\n",
       "42. 'Q117193Standard.hours'\n",
       "43. 'Q116797Yes'\n",
       "44. 'Q116881Right'\n",
       "45. 'Q116953Yes'\n",
       "46. 'Q116601Yes'\n",
       "47. 'Q116441Yes'\n",
       "48. 'Q116448Yes'\n",
       "49. 'Q116197P.M.'\n",
       "50. 'Q115602Yes'\n",
       "51. 'Q115777Start'\n",
       "52. 'Q115610Yes'\n",
       "53. 'Q115611Yes'\n",
       "54. 'Q115899Me'\n",
       "55. 'Q115390Yes'\n",
       "56. 'Q114961Yes'\n",
       "57. 'Q114748Yes'\n",
       "58. 'Q115195Yes'\n",
       "59. 'Q114517Yes'\n",
       "60. 'Q114386TMI'\n",
       "61. 'Q113992Yes'\n",
       "62. 'Q114152Yes'\n",
       "63. 'Q113583Tunes'\n",
       "64. 'Q113584Technology'\n",
       "65. 'Q113181Yes'\n",
       "66. 'Q112478Yes'\n",
       "67. 'Q112512Yes'\n",
       "68. 'Q112270Yes'\n",
       "69. 'Q111848Yes'\n",
       "70. 'Q111580Supportive'\n",
       "71. 'Q111220Yes'\n",
       "72. 'Q110740PC'\n",
       "73. 'Q109367Yes'\n",
       "74. 'Q108950Risk.friendly'\n",
       "75. 'Q109244Yes'\n",
       "76. 'Q108855Yes.'\n",
       "77. 'Q108617Yes'\n",
       "78. 'Q108856Space'\n",
       "79. 'Q108754Yes'\n",
       "80. 'Q108342Online'\n",
       "81. 'Q108343Yes'\n",
       "82. 'Q107869Yes'\n",
       "83. 'Q107491Yes'\n",
       "84. 'Q106993Yes'\n",
       "85. 'Q106997Yay.people.'\n",
       "86. 'Q106272Yes'\n",
       "87. 'Q106388Yes'\n",
       "88. 'Q106389Yes'\n",
       "89. 'Q106042Yes'\n",
       "90. 'Q105840Yes'\n",
       "91. 'Q105655Yes'\n",
       "92. 'Q104996Yes'\n",
       "93. 'Q103293Yes'\n",
       "94. 'Q102906Yes'\n",
       "95. 'Q102674Yes'\n",
       "96. 'Q102687Yes'\n",
       "97. 'Q102289Yes'\n",
       "98. 'Q102089Rent'\n",
       "99. 'Q101162Pessimist'\n",
       "100. 'Q101163Mom'\n",
       "101. 'Q101596Yes'\n",
       "102. 'Q100689Yes'\n",
       "103. 'Q100680Yes'\n",
       "104. 'Q100562Yes'\n",
       "105. 'Q99982Nope'\n",
       "106. 'Q100010Yes'\n",
       "107. 'Q99716Yes'\n",
       "108. 'Q99581Yes'\n",
       "109. 'Q99480Yes'\n",
       "110. 'Q98869Yes'\n",
       "111. 'Q98578Yes'\n",
       "112. 'Q98059Yes'\n",
       "113. 'Q98078Yes'\n",
       "114. 'Q98197Yes'\n",
       "115. 'Q96024Yes'\n",
       "116. 'Party'\n",
       "\n",
       "\n"
      ],
      "text/plain": [
       "  [1] \"YOB\"                                      \n",
       "  [2] \"GenderMale\"                               \n",
       "  [3] \"Income\"                                   \n",
       "  [4] \"HouseholdStatusDomestic.Partners..w.kids.\"\n",
       "  [5] \"HouseholdStatusMarried..no.kids.\"         \n",
       "  [6] \"HouseholdStatusMarried..w.kids.\"          \n",
       "  [7] \"HouseholdStatusSingle..no.kids.\"          \n",
       "  [8] \"HouseholdStatusSingle..w.kids.\"           \n",
       "  [9] \"EducationLevelBachelor.s.Degree\"          \n",
       " [10] \"EducationLevelCurrent.K.12\"               \n",
       " [11] \"EducationLevelCurrent.Undergraduate\"      \n",
       " [12] \"EducationLevelDoctoral.Degree\"            \n",
       " [13] \"EducationLevelHigh.School.Diploma\"        \n",
       " [14] \"EducationLevelMaster.s.Degree\"            \n",
       " [15] \"Q124742Yes\"                               \n",
       " [16] \"Q124122Yes\"                               \n",
       " [17] \"Q123464Yes\"                               \n",
       " [18] \"Q123621Yes\"                               \n",
       " [19] \"Q122769Yes\"                               \n",
       " [20] \"Q122770Yes\"                               \n",
       " [21] \"Q122771Public\"                            \n",
       " [22] \"Q122120Yes\"                               \n",
       " [23] \"Q121699Yes\"                               \n",
       " [24] \"Q121700Yes\"                               \n",
       " [25] \"Q120978Yes\"                               \n",
       " [26] \"Q121011Yes\"                               \n",
       " [27] \"Q120379Yes\"                               \n",
       " [28] \"Q120650Yes\"                               \n",
       " [29] \"Q120472Science\"                           \n",
       " [30] \"Q120194Try.first\"                         \n",
       " [31] \"Q120012Yes\"                               \n",
       " [32] \"Q120014Yes\"                               \n",
       " [33] \"Q119334Yes\"                               \n",
       " [34] \"Q119851Yes\"                               \n",
       " [35] \"Q119650Receiving\"                         \n",
       " [36] \"Q118892Yes\"                               \n",
       " [37] \"Q118117Yes\"                               \n",
       " [38] \"Q118232Pragmatist\"                        \n",
       " [39] \"Q118233Yes\"                               \n",
       " [40] \"Q118237Yes\"                               \n",
       " [41] \"Q117186Hot.headed\"                        \n",
       " [42] \"Q117193Standard.hours\"                    \n",
       " [43] \"Q116797Yes\"                               \n",
       " [44] \"Q116881Right\"                             \n",
       " [45] \"Q116953Yes\"                               \n",
       " [46] \"Q116601Yes\"                               \n",
       " [47] \"Q116441Yes\"                               \n",
       " [48] \"Q116448Yes\"                               \n",
       " [49] \"Q116197P.M.\"                              \n",
       " [50] \"Q115602Yes\"                               \n",
       " [51] \"Q115777Start\"                             \n",
       " [52] \"Q115610Yes\"                               \n",
       " [53] \"Q115611Yes\"                               \n",
       " [54] \"Q115899Me\"                                \n",
       " [55] \"Q115390Yes\"                               \n",
       " [56] \"Q114961Yes\"                               \n",
       " [57] \"Q114748Yes\"                               \n",
       " [58] \"Q115195Yes\"                               \n",
       " [59] \"Q114517Yes\"                               \n",
       " [60] \"Q114386TMI\"                               \n",
       " [61] \"Q113992Yes\"                               \n",
       " [62] \"Q114152Yes\"                               \n",
       " [63] \"Q113583Tunes\"                             \n",
       " [64] \"Q113584Technology\"                        \n",
       " [65] \"Q113181Yes\"                               \n",
       " [66] \"Q112478Yes\"                               \n",
       " [67] \"Q112512Yes\"                               \n",
       " [68] \"Q112270Yes\"                               \n",
       " [69] \"Q111848Yes\"                               \n",
       " [70] \"Q111580Supportive\"                        \n",
       " [71] \"Q111220Yes\"                               \n",
       " [72] \"Q110740PC\"                                \n",
       " [73] \"Q109367Yes\"                               \n",
       " [74] \"Q108950Risk.friendly\"                     \n",
       " [75] \"Q109244Yes\"                               \n",
       " [76] \"Q108855Yes.\"                              \n",
       " [77] \"Q108617Yes\"                               \n",
       " [78] \"Q108856Space\"                             \n",
       " [79] \"Q108754Yes\"                               \n",
       " [80] \"Q108342Online\"                            \n",
       " [81] \"Q108343Yes\"                               \n",
       " [82] \"Q107869Yes\"                               \n",
       " [83] \"Q107491Yes\"                               \n",
       " [84] \"Q106993Yes\"                               \n",
       " [85] \"Q106997Yay.people.\"                       \n",
       " [86] \"Q106272Yes\"                               \n",
       " [87] \"Q106388Yes\"                               \n",
       " [88] \"Q106389Yes\"                               \n",
       " [89] \"Q106042Yes\"                               \n",
       " [90] \"Q105840Yes\"                               \n",
       " [91] \"Q105655Yes\"                               \n",
       " [92] \"Q104996Yes\"                               \n",
       " [93] \"Q103293Yes\"                               \n",
       " [94] \"Q102906Yes\"                               \n",
       " [95] \"Q102674Yes\"                               \n",
       " [96] \"Q102687Yes\"                               \n",
       " [97] \"Q102289Yes\"                               \n",
       " [98] \"Q102089Rent\"                              \n",
       " [99] \"Q101162Pessimist\"                         \n",
       "[100] \"Q101163Mom\"                               \n",
       "[101] \"Q101596Yes\"                               \n",
       "[102] \"Q100689Yes\"                               \n",
       "[103] \"Q100680Yes\"                               \n",
       "[104] \"Q100562Yes\"                               \n",
       "[105] \"Q99982Nope\"                               \n",
       "[106] \"Q100010Yes\"                               \n",
       "[107] \"Q99716Yes\"                                \n",
       "[108] \"Q99581Yes\"                                \n",
       "[109] \"Q99480Yes\"                                \n",
       "[110] \"Q98869Yes\"                                \n",
       "[111] \"Q98578Yes\"                                \n",
       "[112] \"Q98059Yes\"                                \n",
       "[113] \"Q98078Yes\"                                \n",
       "[114] \"Q98197Yes\"                                \n",
       "[115] \"Q96024Yes\"                                \n",
       "[116] \"Party\"                                    "
      ]
     },
     "execution_count": 4,
     "metadata": {},
     "output_type": "execute_result"
    }
   ],
   "source": [
    "names(pollTrain)"
   ]
  },
  {
   "cell_type": "code",
   "execution_count": 5,
   "metadata": {
    "collapsed": false
   },
   "outputs": [
    {
     "data": {
      "text/html": [
       "<ol class=list-inline>\n",
       "\t<li>'YOB'</li>\n",
       "\t<li>'GenderMale'</li>\n",
       "\t<li>'Income'</li>\n",
       "\t<li>'HouseholdStatusDomestic.Partners..w.kids.'</li>\n",
       "\t<li>'HouseholdStatusMarried..no.kids.'</li>\n",
       "\t<li>'HouseholdStatusMarried..w.kids.'</li>\n",
       "\t<li>'HouseholdStatusSingle..no.kids.'</li>\n",
       "\t<li>'HouseholdStatusSingle..w.kids.'</li>\n",
       "\t<li>'EducationLevelBachelor.s.Degree'</li>\n",
       "\t<li>'EducationLevelCurrent.K.12'</li>\n",
       "\t<li>'EducationLevelCurrent.Undergraduate'</li>\n",
       "\t<li>'EducationLevelDoctoral.Degree'</li>\n",
       "\t<li>'EducationLevelHigh.School.Diploma'</li>\n",
       "\t<li>'EducationLevelMaster.s.Degree'</li>\n",
       "\t<li>'Q124742Yes'</li>\n",
       "\t<li>'Q124122Yes'</li>\n",
       "\t<li>'Q123464Yes'</li>\n",
       "\t<li>'Q123621Yes'</li>\n",
       "\t<li>'Q122769Yes'</li>\n",
       "\t<li>'Q122770Yes'</li>\n",
       "\t<li>'Q122771Public'</li>\n",
       "\t<li>'Q122120Yes'</li>\n",
       "\t<li>'Q121699Yes'</li>\n",
       "\t<li>'Q121700Yes'</li>\n",
       "\t<li>'Q120978Yes'</li>\n",
       "\t<li>'Q121011Yes'</li>\n",
       "\t<li>'Q120379Yes'</li>\n",
       "\t<li>'Q120650Yes'</li>\n",
       "\t<li>'Q120472Science'</li>\n",
       "\t<li>'Q120194Try.first'</li>\n",
       "\t<li>'Q120012Yes'</li>\n",
       "\t<li>'Q120014Yes'</li>\n",
       "\t<li>'Q119334Yes'</li>\n",
       "\t<li>'Q119851Yes'</li>\n",
       "\t<li>'Q119650Receiving'</li>\n",
       "\t<li>'Q118892Yes'</li>\n",
       "\t<li>'Q118117Yes'</li>\n",
       "\t<li>'Q118232Pragmatist'</li>\n",
       "\t<li>'Q118233Yes'</li>\n",
       "\t<li>'Q118237Yes'</li>\n",
       "\t<li>'Q117186Hot.headed'</li>\n",
       "\t<li>'Q117193Standard.hours'</li>\n",
       "\t<li>'Q116797Yes'</li>\n",
       "\t<li>'Q116881Right'</li>\n",
       "\t<li>'Q116953Yes'</li>\n",
       "\t<li>'Q116601Yes'</li>\n",
       "\t<li>'Q116441Yes'</li>\n",
       "\t<li>'Q116448Yes'</li>\n",
       "\t<li>'Q116197P.M.'</li>\n",
       "\t<li>'Q115602Yes'</li>\n",
       "\t<li>'Q115777Start'</li>\n",
       "\t<li>'Q115610Yes'</li>\n",
       "\t<li>'Q115611Yes'</li>\n",
       "\t<li>'Q115899Me'</li>\n",
       "\t<li>'Q115390Yes'</li>\n",
       "\t<li>'Q114961Yes'</li>\n",
       "\t<li>'Q114748Yes'</li>\n",
       "\t<li>'Q115195Yes'</li>\n",
       "\t<li>'Q114517Yes'</li>\n",
       "\t<li>'Q114386TMI'</li>\n",
       "\t<li>'Q113992Yes'</li>\n",
       "\t<li>'Q114152Yes'</li>\n",
       "\t<li>'Q113583Tunes'</li>\n",
       "\t<li>'Q113584Technology'</li>\n",
       "\t<li>'Q113181Yes'</li>\n",
       "\t<li>'Q112478Yes'</li>\n",
       "\t<li>'Q112512Yes'</li>\n",
       "\t<li>'Q112270Yes'</li>\n",
       "\t<li>'Q111848Yes'</li>\n",
       "\t<li>'Q111580Supportive'</li>\n",
       "\t<li>'Q111220Yes'</li>\n",
       "\t<li>'Q110740PC'</li>\n",
       "\t<li>'Q109367Yes'</li>\n",
       "\t<li>'Q108950Risk.friendly'</li>\n",
       "\t<li>'Q109244Yes'</li>\n",
       "\t<li>'Q108855Yes.'</li>\n",
       "\t<li>'Q108617Yes'</li>\n",
       "\t<li>'Q108856Space'</li>\n",
       "\t<li>'Q108754Yes'</li>\n",
       "\t<li>'Q108342Online'</li>\n",
       "\t<li>'Q108343Yes'</li>\n",
       "\t<li>'Q107869Yes'</li>\n",
       "\t<li>'Q107491Yes'</li>\n",
       "\t<li>'Q106993Yes'</li>\n",
       "\t<li>'Q106997Yay.people.'</li>\n",
       "\t<li>'Q106272Yes'</li>\n",
       "\t<li>'Q106388Yes'</li>\n",
       "\t<li>'Q106389Yes'</li>\n",
       "\t<li>'Q106042Yes'</li>\n",
       "\t<li>'Q105840Yes'</li>\n",
       "\t<li>'Q105655Yes'</li>\n",
       "\t<li>'Q104996Yes'</li>\n",
       "\t<li>'Q103293Yes'</li>\n",
       "\t<li>'Q102906Yes'</li>\n",
       "\t<li>'Q102674Yes'</li>\n",
       "\t<li>'Q102687Yes'</li>\n",
       "\t<li>'Q102289Yes'</li>\n",
       "\t<li>'Q102089Rent'</li>\n",
       "\t<li>'Q101162Pessimist'</li>\n",
       "\t<li>'Q101163Mom'</li>\n",
       "\t<li>'Q101596Yes'</li>\n",
       "\t<li>'Q100689Yes'</li>\n",
       "\t<li>'Q100680Yes'</li>\n",
       "\t<li>'Q100562Yes'</li>\n",
       "\t<li>'Q99982Nope'</li>\n",
       "\t<li>'Q100010Yes'</li>\n",
       "\t<li>'Q99716Yes'</li>\n",
       "\t<li>'Q99581Yes'</li>\n",
       "\t<li>'Q99480Yes'</li>\n",
       "\t<li>'Q98869Yes'</li>\n",
       "\t<li>'Q98578Yes'</li>\n",
       "\t<li>'Q98059Yes'</li>\n",
       "\t<li>'Q98078Yes'</li>\n",
       "\t<li>'Q98197Yes'</li>\n",
       "\t<li>'Q96024Yes'</li>\n",
       "\t<li>'USER_ID'</li>\n",
       "</ol>\n"
      ],
      "text/latex": [
       "\\begin{enumerate*}\n",
       "\\item 'YOB'\n",
       "\\item 'GenderMale'\n",
       "\\item 'Income'\n",
       "\\item 'HouseholdStatusDomestic.Partners..w.kids.'\n",
       "\\item 'HouseholdStatusMarried..no.kids.'\n",
       "\\item 'HouseholdStatusMarried..w.kids.'\n",
       "\\item 'HouseholdStatusSingle..no.kids.'\n",
       "\\item 'HouseholdStatusSingle..w.kids.'\n",
       "\\item 'EducationLevelBachelor.s.Degree'\n",
       "\\item 'EducationLevelCurrent.K.12'\n",
       "\\item 'EducationLevelCurrent.Undergraduate'\n",
       "\\item 'EducationLevelDoctoral.Degree'\n",
       "\\item 'EducationLevelHigh.School.Diploma'\n",
       "\\item 'EducationLevelMaster.s.Degree'\n",
       "\\item 'Q124742Yes'\n",
       "\\item 'Q124122Yes'\n",
       "\\item 'Q123464Yes'\n",
       "\\item 'Q123621Yes'\n",
       "\\item 'Q122769Yes'\n",
       "\\item 'Q122770Yes'\n",
       "\\item 'Q122771Public'\n",
       "\\item 'Q122120Yes'\n",
       "\\item 'Q121699Yes'\n",
       "\\item 'Q121700Yes'\n",
       "\\item 'Q120978Yes'\n",
       "\\item 'Q121011Yes'\n",
       "\\item 'Q120379Yes'\n",
       "\\item 'Q120650Yes'\n",
       "\\item 'Q120472Science'\n",
       "\\item 'Q120194Try.first'\n",
       "\\item 'Q120012Yes'\n",
       "\\item 'Q120014Yes'\n",
       "\\item 'Q119334Yes'\n",
       "\\item 'Q119851Yes'\n",
       "\\item 'Q119650Receiving'\n",
       "\\item 'Q118892Yes'\n",
       "\\item 'Q118117Yes'\n",
       "\\item 'Q118232Pragmatist'\n",
       "\\item 'Q118233Yes'\n",
       "\\item 'Q118237Yes'\n",
       "\\item 'Q117186Hot.headed'\n",
       "\\item 'Q117193Standard.hours'\n",
       "\\item 'Q116797Yes'\n",
       "\\item 'Q116881Right'\n",
       "\\item 'Q116953Yes'\n",
       "\\item 'Q116601Yes'\n",
       "\\item 'Q116441Yes'\n",
       "\\item 'Q116448Yes'\n",
       "\\item 'Q116197P.M.'\n",
       "\\item 'Q115602Yes'\n",
       "\\item 'Q115777Start'\n",
       "\\item 'Q115610Yes'\n",
       "\\item 'Q115611Yes'\n",
       "\\item 'Q115899Me'\n",
       "\\item 'Q115390Yes'\n",
       "\\item 'Q114961Yes'\n",
       "\\item 'Q114748Yes'\n",
       "\\item 'Q115195Yes'\n",
       "\\item 'Q114517Yes'\n",
       "\\item 'Q114386TMI'\n",
       "\\item 'Q113992Yes'\n",
       "\\item 'Q114152Yes'\n",
       "\\item 'Q113583Tunes'\n",
       "\\item 'Q113584Technology'\n",
       "\\item 'Q113181Yes'\n",
       "\\item 'Q112478Yes'\n",
       "\\item 'Q112512Yes'\n",
       "\\item 'Q112270Yes'\n",
       "\\item 'Q111848Yes'\n",
       "\\item 'Q111580Supportive'\n",
       "\\item 'Q111220Yes'\n",
       "\\item 'Q110740PC'\n",
       "\\item 'Q109367Yes'\n",
       "\\item 'Q108950Risk.friendly'\n",
       "\\item 'Q109244Yes'\n",
       "\\item 'Q108855Yes.'\n",
       "\\item 'Q108617Yes'\n",
       "\\item 'Q108856Space'\n",
       "\\item 'Q108754Yes'\n",
       "\\item 'Q108342Online'\n",
       "\\item 'Q108343Yes'\n",
       "\\item 'Q107869Yes'\n",
       "\\item 'Q107491Yes'\n",
       "\\item 'Q106993Yes'\n",
       "\\item 'Q106997Yay.people.'\n",
       "\\item 'Q106272Yes'\n",
       "\\item 'Q106388Yes'\n",
       "\\item 'Q106389Yes'\n",
       "\\item 'Q106042Yes'\n",
       "\\item 'Q105840Yes'\n",
       "\\item 'Q105655Yes'\n",
       "\\item 'Q104996Yes'\n",
       "\\item 'Q103293Yes'\n",
       "\\item 'Q102906Yes'\n",
       "\\item 'Q102674Yes'\n",
       "\\item 'Q102687Yes'\n",
       "\\item 'Q102289Yes'\n",
       "\\item 'Q102089Rent'\n",
       "\\item 'Q101162Pessimist'\n",
       "\\item 'Q101163Mom'\n",
       "\\item 'Q101596Yes'\n",
       "\\item 'Q100689Yes'\n",
       "\\item 'Q100680Yes'\n",
       "\\item 'Q100562Yes'\n",
       "\\item 'Q99982Nope'\n",
       "\\item 'Q100010Yes'\n",
       "\\item 'Q99716Yes'\n",
       "\\item 'Q99581Yes'\n",
       "\\item 'Q99480Yes'\n",
       "\\item 'Q98869Yes'\n",
       "\\item 'Q98578Yes'\n",
       "\\item 'Q98059Yes'\n",
       "\\item 'Q98078Yes'\n",
       "\\item 'Q98197Yes'\n",
       "\\item 'Q96024Yes'\n",
       "\\item 'USER_ID'\n",
       "\\end{enumerate*}\n"
      ],
      "text/markdown": [
       "1. 'YOB'\n",
       "2. 'GenderMale'\n",
       "3. 'Income'\n",
       "4. 'HouseholdStatusDomestic.Partners..w.kids.'\n",
       "5. 'HouseholdStatusMarried..no.kids.'\n",
       "6. 'HouseholdStatusMarried..w.kids.'\n",
       "7. 'HouseholdStatusSingle..no.kids.'\n",
       "8. 'HouseholdStatusSingle..w.kids.'\n",
       "9. 'EducationLevelBachelor.s.Degree'\n",
       "10. 'EducationLevelCurrent.K.12'\n",
       "11. 'EducationLevelCurrent.Undergraduate'\n",
       "12. 'EducationLevelDoctoral.Degree'\n",
       "13. 'EducationLevelHigh.School.Diploma'\n",
       "14. 'EducationLevelMaster.s.Degree'\n",
       "15. 'Q124742Yes'\n",
       "16. 'Q124122Yes'\n",
       "17. 'Q123464Yes'\n",
       "18. 'Q123621Yes'\n",
       "19. 'Q122769Yes'\n",
       "20. 'Q122770Yes'\n",
       "21. 'Q122771Public'\n",
       "22. 'Q122120Yes'\n",
       "23. 'Q121699Yes'\n",
       "24. 'Q121700Yes'\n",
       "25. 'Q120978Yes'\n",
       "26. 'Q121011Yes'\n",
       "27. 'Q120379Yes'\n",
       "28. 'Q120650Yes'\n",
       "29. 'Q120472Science'\n",
       "30. 'Q120194Try.first'\n",
       "31. 'Q120012Yes'\n",
       "32. 'Q120014Yes'\n",
       "33. 'Q119334Yes'\n",
       "34. 'Q119851Yes'\n",
       "35. 'Q119650Receiving'\n",
       "36. 'Q118892Yes'\n",
       "37. 'Q118117Yes'\n",
       "38. 'Q118232Pragmatist'\n",
       "39. 'Q118233Yes'\n",
       "40. 'Q118237Yes'\n",
       "41. 'Q117186Hot.headed'\n",
       "42. 'Q117193Standard.hours'\n",
       "43. 'Q116797Yes'\n",
       "44. 'Q116881Right'\n",
       "45. 'Q116953Yes'\n",
       "46. 'Q116601Yes'\n",
       "47. 'Q116441Yes'\n",
       "48. 'Q116448Yes'\n",
       "49. 'Q116197P.M.'\n",
       "50. 'Q115602Yes'\n",
       "51. 'Q115777Start'\n",
       "52. 'Q115610Yes'\n",
       "53. 'Q115611Yes'\n",
       "54. 'Q115899Me'\n",
       "55. 'Q115390Yes'\n",
       "56. 'Q114961Yes'\n",
       "57. 'Q114748Yes'\n",
       "58. 'Q115195Yes'\n",
       "59. 'Q114517Yes'\n",
       "60. 'Q114386TMI'\n",
       "61. 'Q113992Yes'\n",
       "62. 'Q114152Yes'\n",
       "63. 'Q113583Tunes'\n",
       "64. 'Q113584Technology'\n",
       "65. 'Q113181Yes'\n",
       "66. 'Q112478Yes'\n",
       "67. 'Q112512Yes'\n",
       "68. 'Q112270Yes'\n",
       "69. 'Q111848Yes'\n",
       "70. 'Q111580Supportive'\n",
       "71. 'Q111220Yes'\n",
       "72. 'Q110740PC'\n",
       "73. 'Q109367Yes'\n",
       "74. 'Q108950Risk.friendly'\n",
       "75. 'Q109244Yes'\n",
       "76. 'Q108855Yes.'\n",
       "77. 'Q108617Yes'\n",
       "78. 'Q108856Space'\n",
       "79. 'Q108754Yes'\n",
       "80. 'Q108342Online'\n",
       "81. 'Q108343Yes'\n",
       "82. 'Q107869Yes'\n",
       "83. 'Q107491Yes'\n",
       "84. 'Q106993Yes'\n",
       "85. 'Q106997Yay.people.'\n",
       "86. 'Q106272Yes'\n",
       "87. 'Q106388Yes'\n",
       "88. 'Q106389Yes'\n",
       "89. 'Q106042Yes'\n",
       "90. 'Q105840Yes'\n",
       "91. 'Q105655Yes'\n",
       "92. 'Q104996Yes'\n",
       "93. 'Q103293Yes'\n",
       "94. 'Q102906Yes'\n",
       "95. 'Q102674Yes'\n",
       "96. 'Q102687Yes'\n",
       "97. 'Q102289Yes'\n",
       "98. 'Q102089Rent'\n",
       "99. 'Q101162Pessimist'\n",
       "100. 'Q101163Mom'\n",
       "101. 'Q101596Yes'\n",
       "102. 'Q100689Yes'\n",
       "103. 'Q100680Yes'\n",
       "104. 'Q100562Yes'\n",
       "105. 'Q99982Nope'\n",
       "106. 'Q100010Yes'\n",
       "107. 'Q99716Yes'\n",
       "108. 'Q99581Yes'\n",
       "109. 'Q99480Yes'\n",
       "110. 'Q98869Yes'\n",
       "111. 'Q98578Yes'\n",
       "112. 'Q98059Yes'\n",
       "113. 'Q98078Yes'\n",
       "114. 'Q98197Yes'\n",
       "115. 'Q96024Yes'\n",
       "116. 'USER_ID'\n",
       "\n",
       "\n"
      ],
      "text/plain": [
       "  [1] \"YOB\"                                      \n",
       "  [2] \"GenderMale\"                               \n",
       "  [3] \"Income\"                                   \n",
       "  [4] \"HouseholdStatusDomestic.Partners..w.kids.\"\n",
       "  [5] \"HouseholdStatusMarried..no.kids.\"         \n",
       "  [6] \"HouseholdStatusMarried..w.kids.\"          \n",
       "  [7] \"HouseholdStatusSingle..no.kids.\"          \n",
       "  [8] \"HouseholdStatusSingle..w.kids.\"           \n",
       "  [9] \"EducationLevelBachelor.s.Degree\"          \n",
       " [10] \"EducationLevelCurrent.K.12\"               \n",
       " [11] \"EducationLevelCurrent.Undergraduate\"      \n",
       " [12] \"EducationLevelDoctoral.Degree\"            \n",
       " [13] \"EducationLevelHigh.School.Diploma\"        \n",
       " [14] \"EducationLevelMaster.s.Degree\"            \n",
       " [15] \"Q124742Yes\"                               \n",
       " [16] \"Q124122Yes\"                               \n",
       " [17] \"Q123464Yes\"                               \n",
       " [18] \"Q123621Yes\"                               \n",
       " [19] \"Q122769Yes\"                               \n",
       " [20] \"Q122770Yes\"                               \n",
       " [21] \"Q122771Public\"                            \n",
       " [22] \"Q122120Yes\"                               \n",
       " [23] \"Q121699Yes\"                               \n",
       " [24] \"Q121700Yes\"                               \n",
       " [25] \"Q120978Yes\"                               \n",
       " [26] \"Q121011Yes\"                               \n",
       " [27] \"Q120379Yes\"                               \n",
       " [28] \"Q120650Yes\"                               \n",
       " [29] \"Q120472Science\"                           \n",
       " [30] \"Q120194Try.first\"                         \n",
       " [31] \"Q120012Yes\"                               \n",
       " [32] \"Q120014Yes\"                               \n",
       " [33] \"Q119334Yes\"                               \n",
       " [34] \"Q119851Yes\"                               \n",
       " [35] \"Q119650Receiving\"                         \n",
       " [36] \"Q118892Yes\"                               \n",
       " [37] \"Q118117Yes\"                               \n",
       " [38] \"Q118232Pragmatist\"                        \n",
       " [39] \"Q118233Yes\"                               \n",
       " [40] \"Q118237Yes\"                               \n",
       " [41] \"Q117186Hot.headed\"                        \n",
       " [42] \"Q117193Standard.hours\"                    \n",
       " [43] \"Q116797Yes\"                               \n",
       " [44] \"Q116881Right\"                             \n",
       " [45] \"Q116953Yes\"                               \n",
       " [46] \"Q116601Yes\"                               \n",
       " [47] \"Q116441Yes\"                               \n",
       " [48] \"Q116448Yes\"                               \n",
       " [49] \"Q116197P.M.\"                              \n",
       " [50] \"Q115602Yes\"                               \n",
       " [51] \"Q115777Start\"                             \n",
       " [52] \"Q115610Yes\"                               \n",
       " [53] \"Q115611Yes\"                               \n",
       " [54] \"Q115899Me\"                                \n",
       " [55] \"Q115390Yes\"                               \n",
       " [56] \"Q114961Yes\"                               \n",
       " [57] \"Q114748Yes\"                               \n",
       " [58] \"Q115195Yes\"                               \n",
       " [59] \"Q114517Yes\"                               \n",
       " [60] \"Q114386TMI\"                               \n",
       " [61] \"Q113992Yes\"                               \n",
       " [62] \"Q114152Yes\"                               \n",
       " [63] \"Q113583Tunes\"                             \n",
       " [64] \"Q113584Technology\"                        \n",
       " [65] \"Q113181Yes\"                               \n",
       " [66] \"Q112478Yes\"                               \n",
       " [67] \"Q112512Yes\"                               \n",
       " [68] \"Q112270Yes\"                               \n",
       " [69] \"Q111848Yes\"                               \n",
       " [70] \"Q111580Supportive\"                        \n",
       " [71] \"Q111220Yes\"                               \n",
       " [72] \"Q110740PC\"                                \n",
       " [73] \"Q109367Yes\"                               \n",
       " [74] \"Q108950Risk.friendly\"                     \n",
       " [75] \"Q109244Yes\"                               \n",
       " [76] \"Q108855Yes.\"                              \n",
       " [77] \"Q108617Yes\"                               \n",
       " [78] \"Q108856Space\"                             \n",
       " [79] \"Q108754Yes\"                               \n",
       " [80] \"Q108342Online\"                            \n",
       " [81] \"Q108343Yes\"                               \n",
       " [82] \"Q107869Yes\"                               \n",
       " [83] \"Q107491Yes\"                               \n",
       " [84] \"Q106993Yes\"                               \n",
       " [85] \"Q106997Yay.people.\"                       \n",
       " [86] \"Q106272Yes\"                               \n",
       " [87] \"Q106388Yes\"                               \n",
       " [88] \"Q106389Yes\"                               \n",
       " [89] \"Q106042Yes\"                               \n",
       " [90] \"Q105840Yes\"                               \n",
       " [91] \"Q105655Yes\"                               \n",
       " [92] \"Q104996Yes\"                               \n",
       " [93] \"Q103293Yes\"                               \n",
       " [94] \"Q102906Yes\"                               \n",
       " [95] \"Q102674Yes\"                               \n",
       " [96] \"Q102687Yes\"                               \n",
       " [97] \"Q102289Yes\"                               \n",
       " [98] \"Q102089Rent\"                              \n",
       " [99] \"Q101162Pessimist\"                         \n",
       "[100] \"Q101163Mom\"                               \n",
       "[101] \"Q101596Yes\"                               \n",
       "[102] \"Q100689Yes\"                               \n",
       "[103] \"Q100680Yes\"                               \n",
       "[104] \"Q100562Yes\"                               \n",
       "[105] \"Q99982Nope\"                               \n",
       "[106] \"Q100010Yes\"                               \n",
       "[107] \"Q99716Yes\"                                \n",
       "[108] \"Q99581Yes\"                                \n",
       "[109] \"Q99480Yes\"                                \n",
       "[110] \"Q98869Yes\"                                \n",
       "[111] \"Q98578Yes\"                                \n",
       "[112] \"Q98059Yes\"                                \n",
       "[113] \"Q98078Yes\"                                \n",
       "[114] \"Q98197Yes\"                                \n",
       "[115] \"Q96024Yes\"                                \n",
       "[116] \"USER_ID\"                                  "
      ]
     },
     "execution_count": 5,
     "metadata": {},
     "output_type": "execute_result"
    }
   ],
   "source": [
    "names(pollTest)"
   ]
  },
  {
   "cell_type": "code",
   "execution_count": 13,
   "metadata": {
    "collapsed": true
   },
   "outputs": [],
   "source": [
    "tr_label = pollTrain$Party\n",
    "tst_ids = pollTest$USER_ID"
   ]
  },
  {
   "cell_type": "code",
   "execution_count": 14,
   "metadata": {
    "collapsed": true
   },
   "outputs": [],
   "source": [
    "Train = pollTrain\n",
    "Train$Party = NULL\n",
    "Test = pollTest\n",
    "Test$USER_ID = NULL\n"
   ]
  },
  {
   "cell_type": "code",
   "execution_count": 15,
   "metadata": {
    "collapsed": false
   },
   "outputs": [],
   "source": [
    "library(rpart)\n",
    "library(e1071)\n",
    "library(randomForest)\n",
    "library(caret)"
   ]
  },
  {
   "cell_type": "code",
   "execution_count": 16,
   "metadata": {
    "collapsed": false
   },
   "outputs": [],
   "source": [
    "preproc = preProcess(Train)"
   ]
  },
  {
   "cell_type": "code",
   "execution_count": 17,
   "metadata": {
    "collapsed": false
   },
   "outputs": [],
   "source": [
    "normTrain = predict(preproc,Train)\n",
    "normTest = predict(preproc, Test)"
   ]
  },
  {
   "cell_type": "code",
   "execution_count": 26,
   "metadata": {
    "collapsed": true
   },
   "outputs": [],
   "source": [
    "km = kmeans(normTrain, centers = 3)"
   ]
  },
  {
   "cell_type": "code",
   "execution_count": 27,
   "metadata": {
    "collapsed": false
   },
   "outputs": [],
   "source": [
    "library(flexclust)"
   ]
  },
  {
   "cell_type": "code",
   "execution_count": 28,
   "metadata": {
    "collapsed": false
   },
   "outputs": [],
   "source": [
    "km.kcca = as.kcca(km,normTrain)"
   ]
  },
  {
   "cell_type": "code",
   "execution_count": 29,
   "metadata": {
    "collapsed": true
   },
   "outputs": [],
   "source": [
    "clusterTrain = predict(km.kcca)\n",
    "clusterTest = predict(km.kcca, newdata = normTest)"
   ]
  },
  {
   "cell_type": "code",
   "execution_count": 30,
   "metadata": {
    "collapsed": false
   },
   "outputs": [
    {
     "data": {
      "text/plain": [
       "clusterTest\n",
       "  1   2   3 \n",
       "425 532 435 "
      ]
     },
     "execution_count": 30,
     "metadata": {},
     "output_type": "execute_result"
    }
   ],
   "source": [
    "table(clusterTest)"
   ]
  },
  {
   "cell_type": "code",
   "execution_count": 31,
   "metadata": {
    "collapsed": false
   },
   "outputs": [
    {
     "data": {
      "text/plain": [
       "clusterTrain\n",
       "   1    2    3 \n",
       "1662 2186 1713 "
      ]
     },
     "execution_count": 31,
     "metadata": {},
     "output_type": "execute_result"
    }
   ],
   "source": [
    "table(clusterTrain)"
   ]
  },
  {
   "cell_type": "code",
   "execution_count": 32,
   "metadata": {
    "collapsed": true
   },
   "outputs": [],
   "source": [
    "cTrain1 = subset(Train, clusterTrain == 1)\n",
    "cTrain2 = subset(Train, clusterTrain == 2)\n",
    "cTrain3 = subset(Train, clusterTrain == 3)\n"
   ]
  },
  {
   "cell_type": "code",
   "execution_count": 53,
   "metadata": {
    "collapsed": true
   },
   "outputs": [],
   "source": [
    "cTest1 = subset(Test, clusterTest == 1)\n",
    "cTest2 = subset(Test, clusterTest == 2)\n",
    "cTest3 = subset(Test, clusterTest == 3)\n",
    "\n",
    "cTest1$USER_ID = subset(tst_ids, clusterTest == 1)\n",
    "cTest2$USER_ID = subset(tst_ids, clusterTest == 2)\n",
    "cTest3$USER_ID = subset(tst_ids, clusterTest == 3)"
   ]
  },
  {
   "cell_type": "code",
   "execution_count": 33,
   "metadata": {
    "collapsed": true
   },
   "outputs": [],
   "source": [
    "cTrain1$Party = subset(tr_label, clusterTrain == 1)\n",
    "cTrain2$Party = subset(tr_label, clusterTrain == 2)\n",
    "cTrain3$Party = subset(tr_label, clusterTrain == 3)"
   ]
  },
  {
   "cell_type": "code",
   "execution_count": 35,
   "metadata": {
    "collapsed": false
   },
   "outputs": [
    {
     "data": {
      "text/plain": [
       "\n",
       "  Democrat Republican \n",
       "       989        724 "
      ]
     },
     "execution_count": 35,
     "metadata": {},
     "output_type": "execute_result"
    }
   ],
   "source": [
    "table(cTrain3$Party)"
   ]
  },
  {
   "cell_type": "code",
   "execution_count": 77,
   "metadata": {
    "collapsed": true
   },
   "outputs": [],
   "source": [
    "Tree1 = rpart(Party~exp(Q109244Yes) + exp(Q115611Yes) + exp(Q98197Yes) + \n",
    "    exp(Q98869Yes), data = cTrain1, method = \"class\")\n",
    "Tree2 = rpart(Party~exp(Q109244Yes) + exp(Q115611Yes) + exp(Q98197Yes) + \n",
    "    exp(Q98869Yes), data = cTrain2, method = \"class\")\n",
    "Tree3 = rpart(Party~exp(Q109244Yes) + exp(Q115611Yes) + exp(Q98197Yes) + \n",
    "    exp(Q98869Yes), data = cTrain3, method = \"class\")"
   ]
  },
  {
   "cell_type": "code",
   "execution_count": 78,
   "metadata": {
    "collapsed": true
   },
   "outputs": [],
   "source": [
    "predTree1= predict(Tree1,type=\"class\")\n",
    "predTree2= predict(Tree2,type=\"class\")\n",
    "predTree3= predict(Tree3,type=\"class\")"
   ]
  },
  {
   "cell_type": "code",
   "execution_count": 79,
   "metadata": {
    "collapsed": false
   },
   "outputs": [
    {
     "data": {
      "text/plain": [
       "            predTree1\n",
       "             Democrat Republican\n",
       "  Democrat        597        268\n",
       "  Republican      385        412"
      ]
     },
     "execution_count": 79,
     "metadata": {},
     "output_type": "execute_result"
    },
    {
     "data": {
      "text/html": [
       "0.607099879663057"
      ],
      "text/latex": [
       "0.607099879663057"
      ],
      "text/markdown": [
       "0.607099879663057"
      ],
      "text/plain": [
       "[1] 0.6070999"
      ]
     },
     "execution_count": 79,
     "metadata": {},
     "output_type": "execute_result"
    },
    {
     "data": {
      "text/plain": [
       "            predTree2\n",
       "             Democrat Republican\n",
       "  Democrat        604        490\n",
       "  Republican      276        816"
      ]
     },
     "execution_count": 79,
     "metadata": {},
     "output_type": "execute_result"
    },
    {
     "data": {
      "text/html": [
       "0.649588289112534"
      ],
      "text/latex": [
       "0.649588289112534"
      ],
      "text/markdown": [
       "0.649588289112534"
      ],
      "text/plain": [
       "[1] 0.6495883"
      ]
     },
     "execution_count": 79,
     "metadata": {},
     "output_type": "execute_result"
    },
    {
     "data": {
      "text/plain": [
       "            predTree3\n",
       "             Democrat Republican\n",
       "  Democrat        716        273\n",
       "  Republican      383        341"
      ]
     },
     "execution_count": 79,
     "metadata": {},
     "output_type": "execute_result"
    },
    {
     "data": {
      "text/html": [
       "0.617046117921775"
      ],
      "text/latex": [
       "0.617046117921775"
      ],
      "text/markdown": [
       "0.617046117921775"
      ],
      "text/plain": [
       "[1] 0.6170461"
      ]
     },
     "execution_count": 79,
     "metadata": {},
     "output_type": "execute_result"
    }
   ],
   "source": [
    "t1 = table(cTrain1$Party,predTree1)\n",
    "t1\n",
    "sum(diag(t1))/sum(t1)\n",
    "\n",
    "t2 = table(cTrain2$Party,predTree2)\n",
    "t2\n",
    "sum(diag(t2))/sum(t2)\n",
    "\n",
    "t3 = table(cTrain3$Party,predTree3)\n",
    "t3\n",
    "sum(diag(t3))/sum(t3)"
   ]
  },
  {
   "cell_type": "code",
   "execution_count": 54,
   "metadata": {
    "collapsed": true
   },
   "outputs": [],
   "source": [
    "predTree1= predict(Tree1,newdata = cTest1,type=\"class\")\n",
    "predTree2= predict(Tree2,newdata = cTest2,type=\"class\")\n",
    "predTree3= predict(Tree3,newdata = cTest3,type=\"class\")"
   ]
  },
  {
   "cell_type": "code",
   "execution_count": 71,
   "metadata": {
    "collapsed": false
   },
   "outputs": [],
   "source": [
    "result = data.frame(USER_ID = c(cTest1$USER_ID,cTest2$USER_ID,cTest3$USER_ID), Predictions=c(predTree1,predTree2,predTree3))"
   ]
  },
  {
   "cell_type": "code",
   "execution_count": 73,
   "metadata": {
    "collapsed": false
   },
   "outputs": [
    {
     "name": "stdout",
     "output_type": "stream",
     "text": [
      "'data.frame':\t1392 obs. of  2 variables:\n",
      " $ USER_ID    : int  6 7 80 92 105 127 128 130 185 195 ...\n",
      " $ Predictions: chr  \"Republican\" \"Democrat\" \"Democrat\" \"Democrat\" ...\n"
     ]
    }
   ],
   "source": [
    "result$Predictions = ifelse(result$Predictions==1, \"Democrat\",\"Republican\")\n",
    "str(result)\n"
   ]
  },
  {
   "cell_type": "code",
   "execution_count": 74,
   "metadata": {
    "collapsed": false
   },
   "outputs": [
    {
     "data": {
      "text/plain": [
       "\n",
       "  Democrat Republican \n",
       "       738        654 "
      ]
     },
     "execution_count": 74,
     "metadata": {},
     "output_type": "execute_result"
    }
   ],
   "source": [
    "table(result$Predictions)"
   ]
  },
  {
   "cell_type": "code",
   "execution_count": 75,
   "metadata": {
    "collapsed": true
   },
   "outputs": [],
   "source": [
    "write.csv(result, \"Submission_FE_03.csv\", row.names=FALSE)"
   ]
  },
  {
   "cell_type": "code",
   "execution_count": 92,
   "metadata": {
    "collapsed": false
   },
   "outputs": [],
   "source": [
    "datpca=prcomp(normTrain, scale. = T)"
   ]
  },
  {
   "cell_type": "code",
   "execution_count": 94,
   "metadata": {
    "collapsed": false
   },
   "outputs": [
    {
     "data": {
      "text/html": [
       "<ol class=list-inline>\n",
       "\t<li>5561</li>\n",
       "\t<li>115</li>\n",
       "</ol>\n"
      ],
      "text/latex": [
       "\\begin{enumerate*}\n",
       "\\item 5561\n",
       "\\item 115\n",
       "\\end{enumerate*}\n"
      ],
      "text/markdown": [
       "1. 5561\n",
       "2. 115\n",
       "\n",
       "\n"
      ],
      "text/plain": [
       "[1] 5561  115"
      ]
     },
     "execution_count": 94,
     "metadata": {},
     "output_type": "execute_result"
    }
   ],
   "source": [
    "dim(datpca$x)"
   ]
  },
  {
   "cell_type": "code",
   "execution_count": 98,
   "metadata": {
    "collapsed": false
   },
   "outputs": [
    {
     "data": {
      "text/plain": [
       "Importance of components:\n",
       "                           PC1     PC2     PC3    PC4     PC5     PC6     PC7\n",
       "Standard deviation     2.53168 2.06750 1.83047 1.6820 1.60441 1.55595 1.44728\n",
       "Proportion of Variance 0.05573 0.03717 0.02914 0.0246 0.02238 0.02105 0.01821\n",
       "Cumulative Proportion  0.05573 0.09290 0.12204 0.1466 0.16902 0.19008 0.20829\n",
       "                           PC8    PC9    PC10    PC11    PC12    PC13    PC14\n",
       "Standard deviation     1.41404 1.2734 1.25393 1.22902 1.21403 1.20241 1.18605\n",
       "Proportion of Variance 0.01739 0.0141 0.01367 0.01313 0.01282 0.01257 0.01223\n",
       "Cumulative Proportion  0.22568 0.2398 0.25345 0.26658 0.27940 0.29197 0.30421\n",
       "                          PC15    PC16    PC17    PC18    PC19    PC20    PC21\n",
       "Standard deviation     1.17069 1.15131 1.14902 1.13609 1.12233 1.11364 1.10743\n",
       "Proportion of Variance 0.01192 0.01153 0.01148 0.01122 0.01095 0.01078 0.01066\n",
       "Cumulative Proportion  0.31612 0.32765 0.33913 0.35035 0.36131 0.37209 0.38275\n",
       "                          PC22    PC23    PC24    PC25    PC26    PC27    PC28\n",
       "Standard deviation     1.10055 1.09053 1.09012 1.08109 1.07658 1.07019 1.06373\n",
       "Proportion of Variance 0.01053 0.01034 0.01033 0.01016 0.01008 0.00996 0.00984\n",
       "Cumulative Proportion  0.39329 0.40363 0.41396 0.42413 0.43420 0.44416 0.45400\n",
       "                          PC29    PC30    PC31    PC32    PC33    PC34    PC35\n",
       "Standard deviation     1.05577 1.04568 1.03748 1.03454 1.02407 1.02166 1.01948\n",
       "Proportion of Variance 0.00969 0.00951 0.00936 0.00931 0.00912 0.00908 0.00904\n",
       "Cumulative Proportion  0.46369 0.47320 0.48256 0.49187 0.50099 0.51006 0.51910\n",
       "                          PC36    PC37    PC38    PC39    PC40    PC41    PC42\n",
       "Standard deviation     1.00705 1.00634 0.99994 0.99389 0.99225 0.98632 0.98388\n",
       "Proportion of Variance 0.00882 0.00881 0.00869 0.00859 0.00856 0.00846 0.00842\n",
       "Cumulative Proportion  0.52792 0.53673 0.54542 0.55401 0.56257 0.57103 0.57945\n",
       "                          PC43    PC44    PC45    PC46    PC47    PC48    PC49\n",
       "Standard deviation     0.97800 0.97519 0.96872 0.96257 0.96099 0.95604 0.94985\n",
       "Proportion of Variance 0.00832 0.00827 0.00816 0.00806 0.00803 0.00795 0.00785\n",
       "Cumulative Proportion  0.58777 0.59604 0.60420 0.61225 0.62028 0.62823 0.63608\n",
       "                          PC50    PC51    PC52    PC53    PC54    PC55    PC56\n",
       "Standard deviation     0.94542 0.94464 0.93869 0.93424 0.93104 0.92585 0.92309\n",
       "Proportion of Variance 0.00777 0.00776 0.00766 0.00759 0.00754 0.00745 0.00741\n",
       "Cumulative Proportion  0.64385 0.65161 0.65927 0.66686 0.67440 0.68185 0.68926\n",
       "                          PC57    PC58    PC59    PC60    PC61    PC62    PC63\n",
       "Standard deviation     0.91524 0.91271 0.90959 0.90877 0.90076 0.89573 0.89244\n",
       "Proportion of Variance 0.00728 0.00724 0.00719 0.00718 0.00706 0.00698 0.00693\n",
       "Cumulative Proportion  0.69655 0.70379 0.71098 0.71817 0.72522 0.73220 0.73912\n",
       "                          PC64   PC65    PC66    PC67    PC68   PC69    PC70\n",
       "Standard deviation     0.88561 0.8841 0.88048 0.87580 0.87402 0.8715 0.86689\n",
       "Proportion of Variance 0.00682 0.0068 0.00674 0.00667 0.00664 0.0066 0.00653\n",
       "Cumulative Proportion  0.74594 0.7527 0.75948 0.76615 0.77279 0.7794 0.78593\n",
       "                         PC71    PC72    PC73   PC74   PC75    PC76    PC77\n",
       "Standard deviation     0.8649 0.85553 0.85513 0.8515 0.8443 0.84302 0.84037\n",
       "Proportion of Variance 0.0065 0.00636 0.00636 0.0063 0.0062 0.00618 0.00614\n",
       "Cumulative Proportion  0.7924 0.79880 0.80516 0.8115 0.8177 0.82384 0.82999\n",
       "                          PC78    PC79    PC80    PC81    PC82    PC83    PC84\n",
       "Standard deviation     0.83223 0.82828 0.82183 0.82030 0.81477 0.81067 0.80091\n",
       "Proportion of Variance 0.00602 0.00597 0.00587 0.00585 0.00577 0.00571 0.00558\n",
       "Cumulative Proportion  0.83601 0.84197 0.84785 0.85370 0.85947 0.86519 0.87076\n",
       "                          PC85    PC86    PC87    PC88    PC89    PC90    PC91\n",
       "Standard deviation     0.80005 0.79844 0.79275 0.78761 0.78545 0.78326 0.77572\n",
       "Proportion of Variance 0.00557 0.00554 0.00546 0.00539 0.00536 0.00533 0.00523\n",
       "Cumulative Proportion  0.87633 0.88187 0.88734 0.89273 0.89810 0.90343 0.90866\n",
       "                         PC92    PC93    PC94    PC95    PC96    PC97    PC98\n",
       "Standard deviation     0.7732 0.76377 0.76230 0.75931 0.75377 0.74410 0.74226\n",
       "Proportion of Variance 0.0052 0.00507 0.00505 0.00501 0.00494 0.00481 0.00479\n",
       "Cumulative Proportion  0.9139 0.91893 0.92399 0.92900 0.93394 0.93876 0.94355\n",
       "                          PC99   PC100   PC101   PC102   PC103   PC104   PC105\n",
       "Standard deviation     0.73228 0.72489 0.72434 0.71778 0.71661 0.70405 0.69260\n",
       "Proportion of Variance 0.00466 0.00457 0.00456 0.00448 0.00447 0.00431 0.00417\n",
       "Cumulative Proportion  0.94821 0.95278 0.95734 0.96182 0.96629 0.97060 0.97477\n",
       "                         PC106   PC107   PC108   PC109   PC110   PC111  PC112\n",
       "Standard deviation     0.67176 0.65095 0.64160 0.63820 0.60464 0.57396 0.4424\n",
       "Proportion of Variance 0.00392 0.00368 0.00358 0.00354 0.00318 0.00286 0.0017\n",
       "Cumulative Proportion  0.97869 0.98238 0.98596 0.98950 0.99268 0.99554 0.9972\n",
       "                        PC113   PC114   PC115\n",
       "Standard deviation     0.4285 0.28607 0.22685\n",
       "Proportion of Variance 0.0016 0.00071 0.00045\n",
       "Cumulative Proportion  0.9988 0.99955 1.00000"
      ]
     },
     "execution_count": 98,
     "metadata": {},
     "output_type": "execute_result"
    }
   ],
   "source": [
    "summary(datpca)"
   ]
  },
  {
   "cell_type": "code",
   "execution_count": 97,
   "metadata": {
    "collapsed": false
   },
   "outputs": [
    {
     "name": "stdout",
     "output_type": "stream",
     "text": [
      "'data.frame':\t5561 obs. of  115 variables:\n",
      " $ PC1  : num  2.756 1.203 -2.891 1.037 0.541 ...\n",
      " $ PC2  : num  1.265 -1.511 0.903 2.206 -3.575 ...\n",
      " $ PC3  : num  2.8347 1.68981 2.78608 0.68237 -0.00705 ...\n",
      " $ PC4  : num  -2.462 -0.713 -2.292 0.858 0.476 ...\n",
      " $ PC5  : num  -0.921 2.515 -3.004 0.861 -0.973 ...\n",
      " $ PC6  : num  -1.521 -1.887 2.634 -2.009 -0.504 ...\n",
      " $ PC7  : num  3.6233 1.6592 0.7657 -0.4036 0.0849 ...\n",
      " $ PC8  : num  1.062 2.132 -0.832 1.378 3.953 ...\n",
      " $ PC9  : num  -0.4511 -0.6249 0.0551 -0.4721 -0.8043 ...\n",
      " $ PC10 : num  1.413 -1.347 -0.205 -0.899 2.002 ...\n",
      " $ PC11 : num  -0.807 2.617 0.626 2.17 -1.628 ...\n",
      " $ PC12 : num  -0.648 0.853 -2.003 1.723 0.606 ...\n",
      " $ PC13 : num  -0.505 1.565 0.826 0.696 -0.907 ...\n",
      " $ PC14 : num  1.365 2.779 0.905 1.448 -0.127 ...\n",
      " $ PC15 : num  0.983 -0.544 -2.284 1.833 1.207 ...\n",
      " $ PC16 : num  0.593 -0.826 -1.209 0.863 0.491 ...\n",
      " $ PC17 : num  -0.04505 -0.63148 0.00938 -0.01745 1.19763 ...\n",
      " $ PC18 : num  -0.394 0.303 -0.266 1.012 -0.304 ...\n",
      " $ PC19 : num  -0.905 1.261 -0.935 -1.44 -1.254 ...\n",
      " $ PC20 : num  1.159 -0.011 -0.374 1.17 0.016 ...\n",
      " $ PC21 : num  0.322 -1.762 0.245 0.409 0.494 ...\n",
      " $ PC22 : num  0.152 1.115 1.477 0.487 -1.157 ...\n",
      " $ PC23 : num  1.016 -1.414 -0.485 -1.45 1.189 ...\n",
      " $ PC24 : num  1.474 5.134 1.616 -0.266 0.19 ...\n",
      " $ PC25 : num  -0.685 2.165 0.112 -1.129 0.211 ...\n",
      " $ PC26 : num  0.00448 0.70996 -0.64814 1.13015 -0.61757 ...\n",
      " $ PC27 : num  -1.398 -1.434 -0.877 -0.766 2.505 ...\n",
      " $ PC28 : num  0.8702 1.8723 0.4876 0.0392 -0.622 ...\n",
      " $ PC29 : num  -0.198 -0.311 0.142 -0.371 1.125 ...\n",
      " $ PC30 : num  0.829 -3.479 1.578 0.641 -0.326 ...\n",
      " $ PC31 : num  -1.2264 -0.1287 -0.0601 -0.6489 -0.3453 ...\n",
      " $ PC32 : num  -1.368 1.966 -0.197 0.778 0.625 ...\n",
      " $ PC33 : num  0.0658 -0.9754 -0.5067 -0.6346 -0.5081 ...\n",
      " $ PC34 : num  0.2182 -1.1554 -0.1221 -0.0737 -0.8133 ...\n",
      " $ PC35 : num  -0.421 2.025 -0.436 0.641 0.802 ...\n",
      " $ PC36 : num  0.00542 1.62777 0.95858 0.36619 -0.52124 ...\n",
      " $ PC37 : num  1.502 0.3 0.145 0.367 1.081 ...\n",
      " $ PC38 : num  -0.321 -0.436 1.168 0.412 1.199 ...\n",
      " $ PC39 : num  0.192 0.682 0.219 -1.923 0.687 ...\n",
      " $ PC40 : num  -1.24011 -1.54451 -0.72726 0.00916 1.23513 ...\n",
      " $ PC41 : num  1.28 -1.415 0.672 0.807 0.729 ...\n",
      " $ PC42 : num  -0.235 1.113 0.441 1.116 -1.154 ...\n",
      " $ PC43 : num  -0.953 -0.485 -2.156 0.436 -1.329 ...\n",
      " $ PC44 : num  -0.0269 -0.1498 -0.2246 -0.6631 -0.8559 ...\n",
      " $ PC45 : num  -0.101 1.628 -0.444 -0.295 1.24 ...\n",
      " $ PC46 : num  1.51 0.145 -2.177 1.23 -1.574 ...\n",
      " $ PC47 : num  0.573 1.067 -1.22 0.101 -0.6 ...\n",
      " $ PC48 : num  -0.992 0.376 -0.712 -0.494 -0.164 ...\n",
      " $ PC49 : num  1.103 -1.045 -1.893 0.403 -0.246 ...\n",
      " $ PC50 : num  -0.976 1.637 -0.343 1.869 0.534 ...\n",
      " $ PC51 : num  0.2614 -0.3388 0.0135 0.5274 -0.2961 ...\n",
      " $ PC52 : num  0.462 -0.703 -0.13 -0.324 0.472 ...\n",
      " $ PC53 : num  -1.688 -1.851 1.053 0.501 -0.328 ...\n",
      " $ PC54 : num  -1.556 -0.221 0.461 1.145 -0.235 ...\n",
      " $ PC55 : num  -0.12 0.474 0.551 0.134 -0.638 ...\n",
      " $ PC56 : num  0.697 -1.785 -1.403 0.976 -1.187 ...\n",
      " $ PC57 : num  -0.8909 -1.1584 -0.0114 0.8524 -0.3501 ...\n",
      " $ PC58 : num  1.057 -1.464 0.485 -0.492 0.128 ...\n",
      " $ PC59 : num  0.382 1.429 -0.229 -1.597 -0.815 ...\n",
      " $ PC60 : num  0.0524 2.4419 -0.834 -1.9222 0.8242 ...\n",
      " $ PC61 : num  -1.202 0.693 -0.966 0.101 0.527 ...\n",
      " $ PC62 : num  0.816 -0.593 -2.245 0.225 1.106 ...\n",
      " $ PC63 : num  -1.043 -0.351 0.835 -0.561 0.332 ...\n",
      " $ PC64 : num  1.333 1.2 -1.318 0.954 1.422 ...\n",
      " $ PC65 : num  0.1822 -1.1747 -0.9666 0.2841 -0.0444 ...\n",
      " $ PC66 : num  0.5586 -1.7742 -1.1701 -1.8925 -0.0673 ...\n",
      " $ PC67 : num  0.9855 1.0966 -0.0959 -2.0371 -0.055 ...\n",
      " $ PC68 : num  -0.0867 -1.0157 0.3511 -0.4313 -0.5168 ...\n",
      " $ PC69 : num  1.0229 -0.1769 0.0819 0.1463 1.1444 ...\n",
      " $ PC70 : num  -0.27 -1.76 0.96 0.817 -0.321 ...\n",
      " $ PC71 : num  -0.0968 0.0437 0.3796 -0.1552 1.2347 ...\n",
      " $ PC72 : num  1.7256 0.0902 -0.1745 -0.252 0.8717 ...\n",
      " $ PC73 : num  -0.486 0.136 -0.857 -1.294 -0.637 ...\n",
      " $ PC74 : num  0.252 0.146 -0.753 0.419 1.45 ...\n",
      " $ PC75 : num  -0.7847 0.6905 0.5529 -0.0854 -1.169 ...\n",
      " $ PC76 : num  -0.2131 -0.1281 1.5124 0.3975 0.0141 ...\n",
      " $ PC77 : num  0.399 -0.902 -1.325 0.433 -0.255 ...\n",
      " $ PC78 : num  1.18 -0.545 0.272 1.385 0.657 ...\n",
      " $ PC79 : num  0.695 -0.156 0.36 -0.909 0.162 ...\n",
      " $ PC80 : num  0.8919 1.2195 -0.5509 0.4254 -0.0452 ...\n",
      " $ PC81 : num  1.875 -0.299 0.307 1.26 -0.259 ...\n",
      " $ PC82 : num  0.423 -0.3 -0.239 -0.388 0.571 ...\n",
      " $ PC83 : num  0.853 -0.813 -1.141 -0.738 0.978 ...\n",
      " $ PC84 : num  0.941 -0.115 -0.588 0.53 0.344 ...\n",
      " $ PC85 : num  0.716 0.364 -0.102 0.619 -1.453 ...\n",
      " $ PC86 : num  0.393 -1.467 0.382 -0.365 -0.346 ...\n",
      " $ PC87 : num  1.05 -0.0687 -0.5379 0.6719 -1.0441 ...\n",
      " $ PC88 : num  -0.8714 -0.0366 1.2872 -1.2416 0.5069 ...\n",
      " $ PC89 : num  1.035 -0.982 -0.544 0.365 -1.508 ...\n",
      " $ PC90 : num  -0.62 -1.345 1.562 -2.076 -0.773 ...\n",
      " $ PC91 : num  0.229 -1.916 1.366 -0.635 0.316 ...\n",
      " $ PC92 : num  0.73 1.015 -0.239 -0.829 0.941 ...\n",
      " $ PC93 : num  -0.222 0.713 -1.144 0.302 1.724 ...\n",
      " $ PC94 : num  -0.449 -0.505 -0.453 -0.373 -0.114 ...\n",
      " $ PC95 : num  -1.715 -0.933 -0.116 0.489 -0.222 ...\n",
      " $ PC96 : num  -0.34 0.528 1.18 -0.442 -1.29 ...\n",
      " $ PC97 : num  0.278 1.312 0.411 0.34 0.254 ...\n",
      " $ PC98 : num  0.0986 -0.8096 -1.1827 1.1755 -0.839 ...\n",
      " $ PC99 : num  -0.359 1.2 0.457 -0.599 0.292 ...\n",
      "  [list output truncated]\n"
     ]
    }
   ],
   "source": [
    "str(as.data.frame(datpca$x))"
   ]
  },
  {
   "cell_type": "code",
   "execution_count": 99,
   "metadata": {
    "collapsed": true
   },
   "outputs": [],
   "source": [
    "pcaDat = as.data.frame(datpca$x)"
   ]
  },
  {
   "cell_type": "code",
   "execution_count": 100,
   "metadata": {
    "collapsed": false
   },
   "outputs": [
    {
     "name": "stdout",
     "output_type": "stream",
     "text": [
      "'data.frame':\t5561 obs. of  115 variables:\n",
      " $ PC1  : num  2.756 1.203 -2.891 1.037 0.541 ...\n",
      " $ PC2  : num  1.265 -1.511 0.903 2.206 -3.575 ...\n",
      " $ PC3  : num  2.8347 1.68981 2.78608 0.68237 -0.00705 ...\n",
      " $ PC4  : num  -2.462 -0.713 -2.292 0.858 0.476 ...\n",
      " $ PC5  : num  -0.921 2.515 -3.004 0.861 -0.973 ...\n",
      " $ PC6  : num  -1.521 -1.887 2.634 -2.009 -0.504 ...\n",
      " $ PC7  : num  3.6233 1.6592 0.7657 -0.4036 0.0849 ...\n",
      " $ PC8  : num  1.062 2.132 -0.832 1.378 3.953 ...\n",
      " $ PC9  : num  -0.4511 -0.6249 0.0551 -0.4721 -0.8043 ...\n",
      " $ PC10 : num  1.413 -1.347 -0.205 -0.899 2.002 ...\n",
      " $ PC11 : num  -0.807 2.617 0.626 2.17 -1.628 ...\n",
      " $ PC12 : num  -0.648 0.853 -2.003 1.723 0.606 ...\n",
      " $ PC13 : num  -0.505 1.565 0.826 0.696 -0.907 ...\n",
      " $ PC14 : num  1.365 2.779 0.905 1.448 -0.127 ...\n",
      " $ PC15 : num  0.983 -0.544 -2.284 1.833 1.207 ...\n",
      " $ PC16 : num  0.593 -0.826 -1.209 0.863 0.491 ...\n",
      " $ PC17 : num  -0.04505 -0.63148 0.00938 -0.01745 1.19763 ...\n",
      " $ PC18 : num  -0.394 0.303 -0.266 1.012 -0.304 ...\n",
      " $ PC19 : num  -0.905 1.261 -0.935 -1.44 -1.254 ...\n",
      " $ PC20 : num  1.159 -0.011 -0.374 1.17 0.016 ...\n",
      " $ PC21 : num  0.322 -1.762 0.245 0.409 0.494 ...\n",
      " $ PC22 : num  0.152 1.115 1.477 0.487 -1.157 ...\n",
      " $ PC23 : num  1.016 -1.414 -0.485 -1.45 1.189 ...\n",
      " $ PC24 : num  1.474 5.134 1.616 -0.266 0.19 ...\n",
      " $ PC25 : num  -0.685 2.165 0.112 -1.129 0.211 ...\n",
      " $ PC26 : num  0.00448 0.70996 -0.64814 1.13015 -0.61757 ...\n",
      " $ PC27 : num  -1.398 -1.434 -0.877 -0.766 2.505 ...\n",
      " $ PC28 : num  0.8702 1.8723 0.4876 0.0392 -0.622 ...\n",
      " $ PC29 : num  -0.198 -0.311 0.142 -0.371 1.125 ...\n",
      " $ PC30 : num  0.829 -3.479 1.578 0.641 -0.326 ...\n",
      " $ PC31 : num  -1.2264 -0.1287 -0.0601 -0.6489 -0.3453 ...\n",
      " $ PC32 : num  -1.368 1.966 -0.197 0.778 0.625 ...\n",
      " $ PC33 : num  0.0658 -0.9754 -0.5067 -0.6346 -0.5081 ...\n",
      " $ PC34 : num  0.2182 -1.1554 -0.1221 -0.0737 -0.8133 ...\n",
      " $ PC35 : num  -0.421 2.025 -0.436 0.641 0.802 ...\n",
      " $ PC36 : num  0.00542 1.62777 0.95858 0.36619 -0.52124 ...\n",
      " $ PC37 : num  1.502 0.3 0.145 0.367 1.081 ...\n",
      " $ PC38 : num  -0.321 -0.436 1.168 0.412 1.199 ...\n",
      " $ PC39 : num  0.192 0.682 0.219 -1.923 0.687 ...\n",
      " $ PC40 : num  -1.24011 -1.54451 -0.72726 0.00916 1.23513 ...\n",
      " $ PC41 : num  1.28 -1.415 0.672 0.807 0.729 ...\n",
      " $ PC42 : num  -0.235 1.113 0.441 1.116 -1.154 ...\n",
      " $ PC43 : num  -0.953 -0.485 -2.156 0.436 -1.329 ...\n",
      " $ PC44 : num  -0.0269 -0.1498 -0.2246 -0.6631 -0.8559 ...\n",
      " $ PC45 : num  -0.101 1.628 -0.444 -0.295 1.24 ...\n",
      " $ PC46 : num  1.51 0.145 -2.177 1.23 -1.574 ...\n",
      " $ PC47 : num  0.573 1.067 -1.22 0.101 -0.6 ...\n",
      " $ PC48 : num  -0.992 0.376 -0.712 -0.494 -0.164 ...\n",
      " $ PC49 : num  1.103 -1.045 -1.893 0.403 -0.246 ...\n",
      " $ PC50 : num  -0.976 1.637 -0.343 1.869 0.534 ...\n",
      " $ PC51 : num  0.2614 -0.3388 0.0135 0.5274 -0.2961 ...\n",
      " $ PC52 : num  0.462 -0.703 -0.13 -0.324 0.472 ...\n",
      " $ PC53 : num  -1.688 -1.851 1.053 0.501 -0.328 ...\n",
      " $ PC54 : num  -1.556 -0.221 0.461 1.145 -0.235 ...\n",
      " $ PC55 : num  -0.12 0.474 0.551 0.134 -0.638 ...\n",
      " $ PC56 : num  0.697 -1.785 -1.403 0.976 -1.187 ...\n",
      " $ PC57 : num  -0.8909 -1.1584 -0.0114 0.8524 -0.3501 ...\n",
      " $ PC58 : num  1.057 -1.464 0.485 -0.492 0.128 ...\n",
      " $ PC59 : num  0.382 1.429 -0.229 -1.597 -0.815 ...\n",
      " $ PC60 : num  0.0524 2.4419 -0.834 -1.9222 0.8242 ...\n",
      " $ PC61 : num  -1.202 0.693 -0.966 0.101 0.527 ...\n",
      " $ PC62 : num  0.816 -0.593 -2.245 0.225 1.106 ...\n",
      " $ PC63 : num  -1.043 -0.351 0.835 -0.561 0.332 ...\n",
      " $ PC64 : num  1.333 1.2 -1.318 0.954 1.422 ...\n",
      " $ PC65 : num  0.1822 -1.1747 -0.9666 0.2841 -0.0444 ...\n",
      " $ PC66 : num  0.5586 -1.7742 -1.1701 -1.8925 -0.0673 ...\n",
      " $ PC67 : num  0.9855 1.0966 -0.0959 -2.0371 -0.055 ...\n",
      " $ PC68 : num  -0.0867 -1.0157 0.3511 -0.4313 -0.5168 ...\n",
      " $ PC69 : num  1.0229 -0.1769 0.0819 0.1463 1.1444 ...\n",
      " $ PC70 : num  -0.27 -1.76 0.96 0.817 -0.321 ...\n",
      " $ PC71 : num  -0.0968 0.0437 0.3796 -0.1552 1.2347 ...\n",
      " $ PC72 : num  1.7256 0.0902 -0.1745 -0.252 0.8717 ...\n",
      " $ PC73 : num  -0.486 0.136 -0.857 -1.294 -0.637 ...\n",
      " $ PC74 : num  0.252 0.146 -0.753 0.419 1.45 ...\n",
      " $ PC75 : num  -0.7847 0.6905 0.5529 -0.0854 -1.169 ...\n",
      " $ PC76 : num  -0.2131 -0.1281 1.5124 0.3975 0.0141 ...\n",
      " $ PC77 : num  0.399 -0.902 -1.325 0.433 -0.255 ...\n",
      " $ PC78 : num  1.18 -0.545 0.272 1.385 0.657 ...\n",
      " $ PC79 : num  0.695 -0.156 0.36 -0.909 0.162 ...\n",
      " $ PC80 : num  0.8919 1.2195 -0.5509 0.4254 -0.0452 ...\n",
      " $ PC81 : num  1.875 -0.299 0.307 1.26 -0.259 ...\n",
      " $ PC82 : num  0.423 -0.3 -0.239 -0.388 0.571 ...\n",
      " $ PC83 : num  0.853 -0.813 -1.141 -0.738 0.978 ...\n",
      " $ PC84 : num  0.941 -0.115 -0.588 0.53 0.344 ...\n",
      " $ PC85 : num  0.716 0.364 -0.102 0.619 -1.453 ...\n",
      " $ PC86 : num  0.393 -1.467 0.382 -0.365 -0.346 ...\n",
      " $ PC87 : num  1.05 -0.0687 -0.5379 0.6719 -1.0441 ...\n",
      " $ PC88 : num  -0.8714 -0.0366 1.2872 -1.2416 0.5069 ...\n",
      " $ PC89 : num  1.035 -0.982 -0.544 0.365 -1.508 ...\n",
      " $ PC90 : num  -0.62 -1.345 1.562 -2.076 -0.773 ...\n",
      " $ PC91 : num  0.229 -1.916 1.366 -0.635 0.316 ...\n",
      " $ PC92 : num  0.73 1.015 -0.239 -0.829 0.941 ...\n",
      " $ PC93 : num  -0.222 0.713 -1.144 0.302 1.724 ...\n",
      " $ PC94 : num  -0.449 -0.505 -0.453 -0.373 -0.114 ...\n",
      " $ PC95 : num  -1.715 -0.933 -0.116 0.489 -0.222 ...\n",
      " $ PC96 : num  -0.34 0.528 1.18 -0.442 -1.29 ...\n",
      " $ PC97 : num  0.278 1.312 0.411 0.34 0.254 ...\n",
      " $ PC98 : num  0.0986 -0.8096 -1.1827 1.1755 -0.839 ...\n",
      " $ PC99 : num  -0.359 1.2 0.457 -0.599 0.292 ...\n",
      "  [list output truncated]\n"
     ]
    }
   ],
   "source": [
    "str(pcaDat)"
   ]
  },
  {
   "cell_type": "code",
   "execution_count": 101,
   "metadata": {
    "collapsed": true
   },
   "outputs": [],
   "source": [
    "pcaDat = pcaDat [,1:50]"
   ]
  },
  {
   "cell_type": "code",
   "execution_count": 102,
   "metadata": {
    "collapsed": false
   },
   "outputs": [
    {
     "name": "stdout",
     "output_type": "stream",
     "text": [
      "'data.frame':\t5561 obs. of  50 variables:\n",
      " $ PC1 : num  2.756 1.203 -2.891 1.037 0.541 ...\n",
      " $ PC2 : num  1.265 -1.511 0.903 2.206 -3.575 ...\n",
      " $ PC3 : num  2.8347 1.68981 2.78608 0.68237 -0.00705 ...\n",
      " $ PC4 : num  -2.462 -0.713 -2.292 0.858 0.476 ...\n",
      " $ PC5 : num  -0.921 2.515 -3.004 0.861 -0.973 ...\n",
      " $ PC6 : num  -1.521 -1.887 2.634 -2.009 -0.504 ...\n",
      " $ PC7 : num  3.6233 1.6592 0.7657 -0.4036 0.0849 ...\n",
      " $ PC8 : num  1.062 2.132 -0.832 1.378 3.953 ...\n",
      " $ PC9 : num  -0.4511 -0.6249 0.0551 -0.4721 -0.8043 ...\n",
      " $ PC10: num  1.413 -1.347 -0.205 -0.899 2.002 ...\n",
      " $ PC11: num  -0.807 2.617 0.626 2.17 -1.628 ...\n",
      " $ PC12: num  -0.648 0.853 -2.003 1.723 0.606 ...\n",
      " $ PC13: num  -0.505 1.565 0.826 0.696 -0.907 ...\n",
      " $ PC14: num  1.365 2.779 0.905 1.448 -0.127 ...\n",
      " $ PC15: num  0.983 -0.544 -2.284 1.833 1.207 ...\n",
      " $ PC16: num  0.593 -0.826 -1.209 0.863 0.491 ...\n",
      " $ PC17: num  -0.04505 -0.63148 0.00938 -0.01745 1.19763 ...\n",
      " $ PC18: num  -0.394 0.303 -0.266 1.012 -0.304 ...\n",
      " $ PC19: num  -0.905 1.261 -0.935 -1.44 -1.254 ...\n",
      " $ PC20: num  1.159 -0.011 -0.374 1.17 0.016 ...\n",
      " $ PC21: num  0.322 -1.762 0.245 0.409 0.494 ...\n",
      " $ PC22: num  0.152 1.115 1.477 0.487 -1.157 ...\n",
      " $ PC23: num  1.016 -1.414 -0.485 -1.45 1.189 ...\n",
      " $ PC24: num  1.474 5.134 1.616 -0.266 0.19 ...\n",
      " $ PC25: num  -0.685 2.165 0.112 -1.129 0.211 ...\n",
      " $ PC26: num  0.00448 0.70996 -0.64814 1.13015 -0.61757 ...\n",
      " $ PC27: num  -1.398 -1.434 -0.877 -0.766 2.505 ...\n",
      " $ PC28: num  0.8702 1.8723 0.4876 0.0392 -0.622 ...\n",
      " $ PC29: num  -0.198 -0.311 0.142 -0.371 1.125 ...\n",
      " $ PC30: num  0.829 -3.479 1.578 0.641 -0.326 ...\n",
      " $ PC31: num  -1.2264 -0.1287 -0.0601 -0.6489 -0.3453 ...\n",
      " $ PC32: num  -1.368 1.966 -0.197 0.778 0.625 ...\n",
      " $ PC33: num  0.0658 -0.9754 -0.5067 -0.6346 -0.5081 ...\n",
      " $ PC34: num  0.2182 -1.1554 -0.1221 -0.0737 -0.8133 ...\n",
      " $ PC35: num  -0.421 2.025 -0.436 0.641 0.802 ...\n",
      " $ PC36: num  0.00542 1.62777 0.95858 0.36619 -0.52124 ...\n",
      " $ PC37: num  1.502 0.3 0.145 0.367 1.081 ...\n",
      " $ PC38: num  -0.321 -0.436 1.168 0.412 1.199 ...\n",
      " $ PC39: num  0.192 0.682 0.219 -1.923 0.687 ...\n",
      " $ PC40: num  -1.24011 -1.54451 -0.72726 0.00916 1.23513 ...\n",
      " $ PC41: num  1.28 -1.415 0.672 0.807 0.729 ...\n",
      " $ PC42: num  -0.235 1.113 0.441 1.116 -1.154 ...\n",
      " $ PC43: num  -0.953 -0.485 -2.156 0.436 -1.329 ...\n",
      " $ PC44: num  -0.0269 -0.1498 -0.2246 -0.6631 -0.8559 ...\n",
      " $ PC45: num  -0.101 1.628 -0.444 -0.295 1.24 ...\n",
      " $ PC46: num  1.51 0.145 -2.177 1.23 -1.574 ...\n",
      " $ PC47: num  0.573 1.067 -1.22 0.101 -0.6 ...\n",
      " $ PC48: num  -0.992 0.376 -0.712 -0.494 -0.164 ...\n",
      " $ PC49: num  1.103 -1.045 -1.893 0.403 -0.246 ...\n",
      " $ PC50: num  -0.976 1.637 -0.343 1.869 0.534 ...\n"
     ]
    }
   ],
   "source": [
    "str(pcaDat)"
   ]
  },
  {
   "cell_type": "code",
   "execution_count": 104,
   "metadata": {
    "collapsed": true
   },
   "outputs": [],
   "source": [
    "pcaDat$Party = pollTrain$Party"
   ]
  },
  {
   "cell_type": "code",
   "execution_count": 108,
   "metadata": {
    "collapsed": false
   },
   "outputs": [
    {
     "name": "stdout",
     "output_type": "stream",
     "text": [
      " Factor w/ 2 levels \"Democrat\",\"Republican\": 1 1 2 1 2 1 1 2 2 2 ...\n"
     ]
    }
   ],
   "source": [
    "str(pcaDat$Party)"
   ]
  },
  {
   "cell_type": "code",
   "execution_count": 113,
   "metadata": {
    "collapsed": true
   },
   "outputs": [],
   "source": [
    "Log1 = randomForest(Party~., data = pcaDat)"
   ]
  },
  {
   "cell_type": "code",
   "execution_count": 114,
   "metadata": {
    "collapsed": false
   },
   "outputs": [
    {
     "data": {
      "text/plain": [
       "            \n",
       "             Democrat Republican\n",
       "  Democrat       2092        856\n",
       "  Republican     1328       1285"
      ]
     },
     "execution_count": 114,
     "metadata": {},
     "output_type": "execute_result"
    },
    {
     "data": {
      "text/html": [
       "0.607264880417191"
      ],
      "text/latex": [
       "0.607264880417191"
      ],
      "text/markdown": [
       "0.607264880417191"
      ],
      "text/plain": [
       "[1] 0.6072649"
      ]
     },
     "execution_count": 114,
     "metadata": {},
     "output_type": "execute_result"
    }
   ],
   "source": [
    "t = table(pcaDat$Party,predict(Log1))\n",
    "t\n",
    "sum(diag(t))/sum(t)"
   ]
  },
  {
   "cell_type": "code",
   "execution_count": null,
   "metadata": {
    "collapsed": true
   },
   "outputs": [],
   "source": []
  }
 ],
 "metadata": {
  "kernelspec": {
   "display_name": "R",
   "language": "R",
   "name": "ir"
  },
  "language_info": {
   "codemirror_mode": "r",
   "file_extension": ".r",
   "mimetype": "text/x-r-source",
   "name": "R",
   "pygments_lexer": "r",
   "version": "3.2.2"
  }
 },
 "nbformat": 4,
 "nbformat_minor": 0
}
