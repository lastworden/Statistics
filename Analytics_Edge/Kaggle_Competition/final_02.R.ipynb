{
 "cells": [
  {
   "cell_type": "code",
   "execution_count": 1,
   "metadata": {
    "collapsed": true
   },
   "outputs": [],
   "source": [
    "pollTrain = read.csv(\"poll_train_IMP_FE.csv\")\n",
    "pollTest = read.csv(\"poll_test_IMP_FE.csv\")"
   ]
  },
  {
   "cell_type": "code",
   "execution_count": 2,
   "metadata": {
    "collapsed": false
   },
   "outputs": [
    {
     "name": "stdout",
     "output_type": "stream",
     "text": [
      "'data.frame':\t5561 obs. of  108 variables:\n",
      " $ USER_ID        : int  1 4 5 8 9 10 11 12 13 15 ...\n",
      " $ YOB            : int  77 45 18 32 31 18 32 19 19 34 ...\n",
      " $ Gender         : Factor w/ 2 levels \"Female\",\"Male\": 2 1 2 2 1 1 2 2 2 1 ...\n",
      " $ Income         : num  125 170 87.5 125 62.5 170 37.5 87.5 12 62.5 ...\n",
      " $ HouseholdStatus: Factor w/ 6 levels \"Domestic Partners (no kids)\",..: 4 2 5 4 4 5 3 5 5 4 ...\n",
      " $ EducationLevel : Factor w/ 7 levels \"Associate's Degree\",..: 1 2 6 2 6 3 4 3 3 6 ...\n",
      " $ Q124742        : Factor w/ 2 levels \"No\",\"Yes\": 1 1 2 1 1 2 2 2 1 1 ...\n",
      " $ Q124122        : Factor w/ 2 levels \"No\",\"Yes\": 2 2 2 2 2 1 1 2 1 1 ...\n",
      " $ Q123464        : Factor w/ 2 levels \"No\",\"Yes\": 1 1 2 1 1 1 1 1 2 1 ...\n",
      " $ Q123621        : Factor w/ 2 levels \"No\",\"Yes\": 1 1 1 2 1 1 1 1 1 1 ...\n",
      " $ Q122769        : Factor w/ 2 levels \"No\",\"Yes\": 1 1 2 1 1 1 1 1 2 2 ...\n",
      " $ Q122770        : Factor w/ 2 levels \"No\",\"Yes\": 2 2 2 1 2 2 2 2 2 1 ...\n",
      " $ Q122771        : Factor w/ 2 levels \"Private\",\"Public\": 2 2 1 2 2 2 2 1 2 2 ...\n",
      " $ Q122120        : Factor w/ 2 levels \"No\",\"Yes\": 1 1 1 1 1 1 1 2 2 1 ...\n",
      " $ Q121699        : Factor w/ 2 levels \"No\",\"Yes\": 2 2 1 2 2 1 1 1 1 2 ...\n",
      " $ Q121700        : Factor w/ 2 levels \"No\",\"Yes\": 1 1 1 1 1 1 1 1 1 1 ...\n",
      " $ Q120978        : Factor w/ 2 levels \"No\",\"Yes\": 1 2 2 2 2 2 2 1 2 2 ...\n",
      " $ Q121011        : Factor w/ 2 levels \"No\",\"Yes\": 1 1 1 1 2 1 1 1 1 2 ...\n",
      " $ Q120379        : Factor w/ 2 levels \"No\",\"Yes\": 1 1 1 1 1 2 2 2 2 1 ...\n",
      " $ Q120650        : Factor w/ 2 levels \"No\",\"Yes\": 2 2 2 2 2 2 2 2 2 2 ...\n",
      " $ Q120472        : Factor w/ 2 levels \"Art\",\"Science\": 2 2 2 2 1 2 2 2 2 1 ...\n",
      " $ Q120194        : Factor w/ 2 levels \"Study first\",..: 2 1 1 2 2 2 1 2 1 2 ...\n",
      " $ Q120012        : Factor w/ 2 levels \"No\",\"Yes\": 1 2 1 1 2 2 1 1 1 2 ...\n",
      " $ Q120014        : Factor w/ 2 levels \"No\",\"Yes\": 1 2 2 2 1 2 1 2 1 1 ...\n",
      " $ Q119334        : Factor w/ 2 levels \"No\",\"Yes\": 1 1 1 2 1 1 1 1 1 1 ...\n",
      " $ Q119851        : Factor w/ 2 levels \"No\",\"Yes\": 2 1 2 1 1 2 2 1 1 2 ...\n",
      " $ Q119650        : Factor w/ 2 levels \"Giving\",\"Receiving\": 1 2 2 1 1 2 1 2 2 1 ...\n",
      " $ Q118892        : Factor w/ 2 levels \"No\",\"Yes\": 2 1 1 2 1 1 1 2 1 1 ...\n",
      " $ Q118117        : Factor w/ 2 levels \"No\",\"Yes\": 2 1 2 1 1 1 1 1 2 2 ...\n",
      " $ Q118232        : Factor w/ 2 levels \"Idealist\",\"Pragmatist\": 1 2 2 1 1 2 2 1 2 1 ...\n",
      " $ Q118233        : Factor w/ 2 levels \"No\",\"Yes\": 1 1 1 1 2 1 1 1 1 2 ...\n",
      " $ Q118237        : Factor w/ 2 levels \"No\",\"Yes\": 1 1 2 1 2 1 2 2 2 2 ...\n",
      " $ Q117186        : Factor w/ 2 levels \"Cool headed\",..: 1 1 1 1 2 1 1 1 1 1 ...\n",
      " $ Q117193        : Factor w/ 2 levels \"Odd hours\",\"Standard hours\": 1 2 1 2 2 2 1 2 2 2 ...\n",
      " $ Q116797        : Factor w/ 2 levels \"No\",\"Yes\": 2 1 1 1 1 1 1 1 1 2 ...\n",
      " $ Q116881        : Factor w/ 2 levels \"Happy\",\"Right\": 1 1 2 1 1 1 1 2 1 1 ...\n",
      " $ Q116953        : Factor w/ 2 levels \"No\",\"Yes\": 2 2 2 2 2 1 1 1 2 1 ...\n",
      " $ Q116601        : Factor w/ 2 levels \"No\",\"Yes\": 2 2 1 2 2 1 2 1 1 2 ...\n",
      " $ Q116441        : Factor w/ 2 levels \"No\",\"Yes\": 1 2 1 1 1 1 1 1 1 2 ...\n",
      " $ Q116448        : Factor w/ 2 levels \"No\",\"Yes\": 1 1 2 1 2 2 2 1 1 2 ...\n",
      " $ Q116197        : Factor w/ 2 levels \"A.M.\",\"P.M.\": 2 1 1 1 2 2 2 2 2 2 ...\n",
      " $ Q115602        : Factor w/ 2 levels \"No\",\"Yes\": 2 1 2 2 1 2 2 2 2 2 ...\n",
      " $ Q115777        : Factor w/ 2 levels \"End\",\"Start\": 2 1 2 2 1 2 1 2 2 2 ...\n",
      " $ Q115610        : Factor w/ 2 levels \"No\",\"Yes\": 2 2 2 2 1 2 2 2 2 2 ...\n",
      " $ Q115611        : Factor w/ 2 levels \"No\",\"Yes\": 1 1 2 1 1 1 1 2 1 2 ...\n",
      " $ Q115899        : Factor w/ 2 levels \"Circumstances\",..: 1 2 1 1 2 2 2 1 2 2 ...\n",
      " $ Q115390        : Factor w/ 2 levels \"No\",\"Yes\": 2 2 1 2 1 1 2 1 2 2 ...\n",
      " $ Q114961        : Factor w/ 2 levels \"No\",\"Yes\": 2 2 2 1 2 2 2 1 2 1 ...\n",
      " $ Q114748        : Factor w/ 2 levels \"No\",\"Yes\": 2 1 1 1 2 1 1 2 2 1 ...\n",
      " $ Q115195        : Factor w/ 2 levels \"No\",\"Yes\": 2 2 2 2 2 2 2 1 2 1 ...\n",
      " $ Q114517        : Factor w/ 2 levels \"No\",\"Yes\": 1 1 2 1 2 1 2 1 2 1 ...\n",
      " $ Q114386        : Factor w/ 2 levels \"Mysterious\",\"TMI\": 1 1 1 2 2 1 1 1 1 2 ...\n",
      " $ Q113992        : Factor w/ 2 levels \"No\",\"Yes\": 2 1 1 1 2 1 1 1 1 1 ...\n",
      " $ Q114152        : Factor w/ 2 levels \"No\",\"Yes\": 2 1 1 1 1 2 1 1 2 2 ...\n",
      " $ Q113583        : Factor w/ 2 levels \"Talk\",\"Tunes\": 1 2 2 1 2 1 2 2 2 2 ...\n",
      " $ Q113584        : Factor w/ 2 levels \"People\",\"Technology\": 2 2 2 1 1 1 2 1 2 2 ...\n",
      " $ Q113181        : Factor w/ 2 levels \"No\",\"Yes\": 1 1 2 1 1 1 2 2 2 2 ...\n",
      " $ Q112478        : Factor w/ 2 levels \"No\",\"Yes\": 1 1 2 2 1 2 2 1 2 1 ...\n",
      " $ Q112512        : Factor w/ 2 levels \"No\",\"Yes\": 2 2 2 2 2 2 2 2 2 2 ...\n",
      " $ Q112270        : Factor w/ 2 levels \"No\",\"Yes\": 2 2 2 2 1 1 2 2 1 2 ...\n",
      " $ Q111848        : Factor w/ 2 levels \"No\",\"Yes\": 1 1 1 2 1 2 2 2 2 1 ...\n",
      " $ Q111580        : Factor w/ 2 levels \"Demanding\",\"Supportive\": 1 1 2 2 1 2 2 1 1 1 ...\n",
      " $ Q111220        : Factor w/ 2 levels \"No\",\"Yes\": 1 1 1 1 2 1 1 1 1 2 ...\n",
      " $ Q110740        : Factor w/ 2 levels \"Mac\",\"PC\": 2 1 2 1 2 2 2 2 2 2 ...\n",
      " $ Q109367        : Factor w/ 2 levels \"No\",\"Yes\": 1 2 1 2 2 1 2 1 1 2 ...\n",
      " $ Q108950        : Factor w/ 2 levels \"Cautious\",\"Risk-friendly\": 1 1 1 2 1 1 1 1 1 1 ...\n",
      " $ Q109244        : Factor w/ 2 levels \"No\",\"Yes\": 1 1 1 1 1 1 2 1 1 1 ...\n",
      " $ Q108855        : Factor w/ 2 levels \"Umm...\",\"Yes!\": 2 1 1 1 2 1 1 2 2 2 ...\n",
      " $ Q108617        : Factor w/ 2 levels \"No\",\"Yes\": 1 1 1 1 1 1 1 1 1 1 ...\n",
      " $ Q108856        : Factor w/ 2 levels \"Socialize\",\"Space\": 2 2 2 1 1 2 2 1 2 1 ...\n",
      " $ Q108754        : Factor w/ 2 levels \"No\",\"Yes\": 1 2 1 2 1 2 1 1 1 1 ...\n",
      " $ Q108342        : Factor w/ 2 levels \"In-person\",\"Online\": 1 1 1 2 2 1 2 1 1 2 ...\n",
      " $ Q108343        : Factor w/ 2 levels \"No\",\"Yes\": 1 1 1 1 1 1 2 1 1 2 ...\n",
      " $ Q107869        : Factor w/ 2 levels \"No\",\"Yes\": 2 2 1 2 1 1 1 1 1 2 ...\n",
      " $ Q107491        : Factor w/ 2 levels \"No\",\"Yes\": 1 2 2 1 2 2 2 2 2 2 ...\n",
      " $ Q106993        : Factor w/ 2 levels \"No\",\"Yes\": 2 1 2 2 2 2 1 2 2 2 ...\n",
      " $ Q106997        : Factor w/ 2 levels \"Grrr people\",..: 2 2 1 1 2 1 1 1 1 2 ...\n",
      " $ Q106272        : Factor w/ 2 levels \"No\",\"Yes\": 2 2 2 1 2 2 2 2 2 1 ...\n",
      " $ Q106388        : Factor w/ 2 levels \"No\",\"Yes\": 1 2 1 1 1 1 1 1 1 1 ...\n",
      " $ Q106389        : Factor w/ 2 levels \"No\",\"Yes\": 2 2 1 2 2 2 2 2 2 1 ...\n",
      " $ Q106042        : Factor w/ 2 levels \"No\",\"Yes\": 2 2 1 2 2 2 2 1 1 2 ...\n",
      " $ Q105840        : Factor w/ 2 levels \"No\",\"Yes\": 2 2 1 1 2 1 2 1 1 2 ...\n",
      " $ Q105655        : Factor w/ 2 levels \"No\",\"Yes\": 1 1 1 2 2 1 1 2 2 2 ...\n",
      " $ Q104996        : Factor w/ 2 levels \"No\",\"Yes\": 2 2 1 2 1 2 1 1 1 2 ...\n",
      " $ Q103293        : Factor w/ 2 levels \"No\",\"Yes\": 1 1 2 1 1 2 2 2 2 2 ...\n",
      " $ Q102906        : Factor w/ 2 levels \"No\",\"Yes\": 1 2 1 1 1 2 2 1 1 2 ...\n",
      " $ Q102674        : Factor w/ 2 levels \"No\",\"Yes\": 1 2 1 1 2 1 1 1 1 1 ...\n",
      " $ Q102687        : Factor w/ 2 levels \"No\",\"Yes\": 2 2 2 2 1 2 1 2 2 1 ...\n",
      " $ Q102289        : Factor w/ 2 levels \"No\",\"Yes\": 1 2 1 2 1 1 1 1 1 1 ...\n",
      " $ Q102089        : Factor w/ 2 levels \"Own\",\"Rent\": 1 2 1 1 1 1 1 1 1 1 ...\n",
      " $ Q101162        : Factor w/ 2 levels \"Optimist\",\"Pessimist\": 1 1 2 1 1 1 2 2 1 1 ...\n",
      " $ Q101163        : Factor w/ 2 levels \"Dad\",\"Mom\": 1 2 2 2 2 1 2 2 1 2 ...\n",
      " $ Q101596        : Factor w/ 2 levels \"No\",\"Yes\": 2 1 1 1 1 1 1 2 1 1 ...\n",
      " $ Q100689        : Factor w/ 2 levels \"No\",\"Yes\": 2 2 1 1 2 2 2 2 1 2 ...\n",
      " $ Q100680        : Factor w/ 2 levels \"No\",\"Yes\": 1 1 1 1 2 2 2 1 2 2 ...\n",
      " $ Q100562        : Factor w/ 2 levels \"No\",\"Yes\": 1 2 1 2 2 2 2 2 1 2 ...\n",
      " $ Q99982         : Factor w/ 2 levels \"Check!\",\"Nope\": 2 2 2 1 2 1 2 2 2 1 ...\n",
      " $ Q100010        : Factor w/ 2 levels \"No\",\"Yes\": 2 2 2 1 2 1 2 2 2 2 ...\n",
      " $ Q99716         : Factor w/ 2 levels \"No\",\"Yes\": 1 1 1 1 1 1 1 1 1 1 ...\n",
      "  [list output truncated]\n"
     ]
    }
   ],
   "source": [
    "str(pollTrain)"
   ]
  },
  {
   "cell_type": "code",
   "execution_count": 3,
   "metadata": {
    "collapsed": false
   },
   "outputs": [
    {
     "name": "stderr",
     "output_type": "stream",
     "text": [
      "Loading required package: lattice\n",
      "Loading required package: ggplot2\n",
      "Warning message:\n",
      ": package ‘ggplot2’ was built under R version 3.3.0Warning message:\n",
      ": package ‘mlbench’ was built under R version 3.3.0"
     ]
    }
   ],
   "source": [
    "library(caret)\n",
    "library(mlbench)\n",
    "control <- rfeControl(functions=rfFuncs, method=\"cv\", number=20)"
   ]
  },
  {
   "cell_type": "code",
   "execution_count": 9,
   "metadata": {
    "collapsed": false
   },
   "outputs": [],
   "source": [
    "esults <- rfe(pollTrain[,setdiff(names(pollTrain),c(\"USER_ID\",\"Party\"))], pollTrain$Party, sizes=c(1:15), rfeControl=control)"
   ]
  },
  {
   "cell_type": "code",
   "execution_count": 10,
   "metadata": {
    "collapsed": false
   },
   "outputs": [
    {
     "data": {
      "text/html": [
       "<ol class=list-inline>\n",
       "\t<li>'Q109244'</li>\n",
       "\t<li>'Q115611'</li>\n",
       "\t<li>'Q98197'</li>\n",
       "\t<li>'Q113181'</li>\n",
       "\t<li>'Q98869'</li>\n",
       "</ol>\n"
      ],
      "text/latex": [
       "\\begin{enumerate*}\n",
       "\\item 'Q109244'\n",
       "\\item 'Q115611'\n",
       "\\item 'Q98197'\n",
       "\\item 'Q113181'\n",
       "\\item 'Q98869'\n",
       "\\end{enumerate*}\n"
      ],
      "text/markdown": [
       "1. 'Q109244'\n",
       "2. 'Q115611'\n",
       "3. 'Q98197'\n",
       "4. 'Q113181'\n",
       "5. 'Q98869'\n",
       "\n",
       "\n"
      ],
      "text/plain": [
       "[1] \"Q109244\" \"Q115611\" \"Q98197\"  \"Q113181\" \"Q98869\" "
      ]
     },
     "execution_count": 10,
     "metadata": {},
     "output_type": "execute_result"
    }
   ],
   "source": [
    "predictors(esults)"
   ]
  },
  {
   "cell_type": "code",
   "execution_count": 11,
   "metadata": {
    "collapsed": false
   },
   "outputs": [
    {
     "data": {
      "image/png": "[encoded data removed]",
      "image/svg+xml": [
       "<?xml version=\"1.0\" encoding=\"UTF-8\"?>\n",
       "<svg xmlns=\"http://www.w3.org/2000/svg\" xmlns:xlink=\"http://www.w3.org/1999/xlink\" width=\"504pt\" height=\"504pt\" viewBox=\"0 0 504 504\" version=\"1.1\">\n",
       "<defs>\n",
       "<g>\n",
       "<symbol overflow=\"visible\" id=\"glyph0-0\">\n",
       "<path style=\"stroke:none;\" d=\"\"/>\n",
       "</symbol>\n",
       "<symbol overflow=\"visible\" id=\"glyph0-1\">\n",
       "<path style=\"stroke:none;\" d=\"M 4.703125 0 L 7.734375 -8.75 L 6.546875 -8.75 L 4.125 -1.34375 L 1.5625 -8.75 L 0.359375 -8.75 L 3.5 0 Z \"/>\n",
       "</symbol>\n",
       "<symbol overflow=\"visible\" id=\"glyph0-2\">\n",
       "<path style=\"stroke:none;\" d=\"M 6.421875 -0.59375 C 6.3125 -0.5625 6.265625 -0.5625 6.203125 -0.5625 C 5.859375 -0.5625 5.65625 -0.75 5.65625 -1.0625 L 5.65625 -4.75 C 5.65625 -5.875 4.84375 -6.46875 3.296875 -6.46875 C 2.390625 -6.46875 1.625 -6.203125 1.21875 -5.734375 C 0.921875 -5.40625 0.796875 -5.046875 0.78125 -4.421875 L 1.78125 -4.421875 C 1.875 -5.203125 2.328125 -5.546875 3.265625 -5.546875 C 4.15625 -5.546875 4.671875 -5.203125 4.671875 -4.609375 L 4.671875 -4.34375 C 4.671875 -3.921875 4.421875 -3.75 3.625 -3.640625 C 2.203125 -3.46875 1.984375 -3.421875 1.609375 -3.265625 C 0.875 -2.96875 0.5 -2.40625 0.5 -1.578125 C 0.5 -0.4375 1.296875 0.28125 2.5625 0.28125 C 3.359375 0.28125 4 0 4.703125 -0.640625 C 4.78125 -0.015625 5.09375 0.28125 5.734375 0.28125 C 5.9375 0.28125 6.09375 0.25 6.421875 0.171875 Z M 4.671875 -1.984375 C 4.671875 -1.640625 4.578125 -1.4375 4.265625 -1.15625 C 3.859375 -0.796875 3.375 -0.59375 2.78125 -0.59375 C 2 -0.59375 1.546875 -0.96875 1.546875 -1.609375 C 1.546875 -2.265625 1.984375 -2.609375 3.0625 -2.765625 C 4.109375 -2.90625 4.328125 -2.953125 4.671875 -3.109375 Z \"/>\n",
       "</symbol>\n",
       "<symbol overflow=\"visible\" id=\"glyph0-3\">\n",
       "<path style=\"stroke:none;\" d=\"M 0.828125 -6.28125 L 0.828125 0 L 1.84375 0 L 1.84375 -3.265625 C 1.84375 -4.15625 2.0625 -4.75 2.546875 -5.09375 C 2.859375 -5.328125 3.15625 -5.40625 3.859375 -5.40625 L 3.859375 -6.4375 C 3.6875 -6.453125 3.59375 -6.46875 3.46875 -6.46875 C 2.8125 -6.46875 2.328125 -6.078125 1.75 -5.140625 L 1.75 -6.28125 Z \"/>\n",
       "</symbol>\n",
       "<symbol overflow=\"visible\" id=\"glyph0-4\">\n",
       "<path style=\"stroke:none;\" d=\"M 1.796875 -6.28125 L 0.796875 -6.28125 L 0.796875 0 L 1.796875 0 Z M 1.796875 -8.75 L 0.796875 -8.75 L 0.796875 -7.484375 L 1.796875 -7.484375 Z \"/>\n",
       "</symbol>\n",
       "<symbol overflow=\"visible\" id=\"glyph0-5\">\n",
       "<path style=\"stroke:none;\" d=\"M 0.640625 -8.75 L 0.640625 0 L 1.546875 0 L 1.546875 -0.796875 C 2.03125 -0.078125 2.65625 0.28125 3.546875 0.28125 C 5.203125 0.28125 6.28125 -1.078125 6.28125 -3.171875 C 6.28125 -5.203125 5.25 -6.46875 3.59375 -6.46875 C 2.71875 -6.46875 2.109375 -6.140625 1.640625 -5.4375 L 1.640625 -8.75 Z M 3.390625 -5.53125 C 4.515625 -5.53125 5.234375 -4.5625 5.234375 -3.0625 C 5.234375 -1.625 4.484375 -0.65625 3.390625 -0.65625 C 2.34375 -0.65625 1.640625 -1.625 1.640625 -3.09375 C 1.640625 -4.578125 2.34375 -5.53125 3.390625 -5.53125 Z \"/>\n",
       "</symbol>\n",
       "<symbol overflow=\"visible\" id=\"glyph0-6\">\n",
       "<path style=\"stroke:none;\" d=\"M 1.828125 -8.75 L 0.8125 -8.75 L 0.8125 0 L 1.828125 0 Z \"/>\n",
       "</symbol>\n",
       "<symbol overflow=\"visible\" id=\"glyph0-7\">\n",
       "<path style=\"stroke:none;\" d=\"M 6.15625 -2.8125 C 6.15625 -3.765625 6.078125 -4.34375 5.90625 -4.8125 C 5.5 -5.84375 4.53125 -6.46875 3.359375 -6.46875 C 1.609375 -6.46875 0.484375 -5.125 0.484375 -3.0625 C 0.484375 -1 1.578125 0.28125 3.34375 0.28125 C 4.78125 0.28125 5.765625 -0.546875 6.03125 -1.90625 L 5.015625 -1.90625 C 4.734375 -1.078125 4.171875 -0.640625 3.375 -0.640625 C 2.734375 -0.640625 2.203125 -0.9375 1.859375 -1.46875 C 1.625 -1.828125 1.53125 -2.1875 1.53125 -2.8125 Z M 1.546875 -3.625 C 1.625 -4.78125 2.34375 -5.546875 3.34375 -5.546875 C 4.328125 -5.546875 5.09375 -4.734375 5.09375 -3.703125 C 5.09375 -3.671875 5.09375 -3.640625 5.078125 -3.625 Z \"/>\n",
       "</symbol>\n",
       "<symbol overflow=\"visible\" id=\"glyph0-8\">\n",
       "<path style=\"stroke:none;\" d=\"M 5.25 -4.53125 C 5.25 -5.765625 4.421875 -6.46875 2.96875 -6.46875 C 1.515625 -6.46875 0.5625 -5.71875 0.5625 -4.546875 C 0.5625 -3.5625 1.0625 -3.09375 2.5625 -2.734375 L 3.484375 -2.515625 C 4.1875 -2.34375 4.46875 -2.09375 4.46875 -1.625 C 4.46875 -1.046875 3.875 -0.640625 3 -0.640625 C 2.453125 -0.640625 2 -0.796875 1.75 -1.0625 C 1.59375 -1.25 1.53125 -1.421875 1.46875 -1.875 L 0.40625 -1.875 C 0.453125 -0.421875 1.265625 0.28125 2.921875 0.28125 C 4.5 0.28125 5.515625 -0.5 5.515625 -1.71875 C 5.515625 -2.65625 4.984375 -3.171875 3.734375 -3.46875 L 2.765625 -3.703125 C 1.953125 -3.890625 1.609375 -4.15625 1.609375 -4.59375 C 1.609375 -5.171875 2.125 -5.546875 2.9375 -5.546875 C 3.75 -5.546875 4.171875 -5.203125 4.203125 -4.53125 Z \"/>\n",
       "</symbol>\n",
       "<symbol overflow=\"visible\" id=\"glyph1-0\">\n",
       "<path style=\"stroke:none;\" d=\"\"/>\n",
       "</symbol>\n",
       "<symbol overflow=\"visible\" id=\"glyph1-1\">\n",
       "<path style=\"stroke:none;\" d=\"M -2.625 -5.6875 L 0 -6.59375 L 0 -7.84375 L -8.75 -4.765625 L -8.75 -3.328125 L 0 -0.203125 L 0 -1.390625 L -2.625 -2.3125 Z M -3.5625 -5.375 L -3.5625 -2.59375 L -7.546875 -4.03125 Z \"/>\n",
       "</symbol>\n",
       "<symbol overflow=\"visible\" id=\"glyph1-2\">\n",
       "<path style=\"stroke:none;\" d=\"M -4.171875 -5.65625 C -4.78125 -5.609375 -5.1875 -5.46875 -5.53125 -5.234375 C -6.125 -4.796875 -6.46875 -4.046875 -6.46875 -3.171875 C -6.46875 -1.46875 -5.125 -0.375 -3.03125 -0.375 C -1.015625 -0.375 0.28125 -1.453125 0.28125 -3.15625 C 0.28125 -4.65625 -0.625 -5.609375 -2.15625 -5.71875 L -2.15625 -4.71875 C -1.15625 -4.546875 -0.640625 -4.03125 -0.640625 -3.1875 C -0.640625 -2.078125 -1.546875 -1.421875 -3.03125 -1.421875 C -4.609375 -1.421875 -5.546875 -2.0625 -5.546875 -3.15625 C -5.546875 -4 -5.046875 -4.53125 -4.171875 -4.640625 Z \"/>\n",
       "</symbol>\n",
       "<symbol overflow=\"visible\" id=\"glyph1-3\">\n",
       "<path style=\"stroke:none;\" d=\"M 0 -5.78125 L -6.28125 -5.78125 L -6.28125 -4.78125 L -2.71875 -4.78125 C -1.4375 -4.78125 -0.59375 -4.109375 -0.59375 -3.078125 C -0.59375 -2.28125 -1.078125 -1.78125 -1.84375 -1.78125 L -6.28125 -1.78125 L -6.28125 -0.78125 L -1.4375 -0.78125 C -0.390625 -0.78125 0.28125 -1.5625 0.28125 -2.78125 C 0.28125 -3.703125 -0.046875 -4.296875 -0.875 -4.890625 L 0 -4.890625 Z \"/>\n",
       "</symbol>\n",
       "<symbol overflow=\"visible\" id=\"glyph1-4\">\n",
       "<path style=\"stroke:none;\" d=\"M -6.28125 -0.828125 L 0 -0.828125 L 0 -1.84375 L -3.265625 -1.84375 C -4.15625 -1.84375 -4.75 -2.0625 -5.09375 -2.546875 C -5.328125 -2.859375 -5.40625 -3.15625 -5.40625 -3.859375 L -6.4375 -3.859375 C -6.453125 -3.6875 -6.46875 -3.59375 -6.46875 -3.46875 C -6.46875 -2.8125 -6.078125 -2.328125 -5.140625 -1.75 L -6.28125 -1.75 Z \"/>\n",
       "</symbol>\n",
       "<symbol overflow=\"visible\" id=\"glyph1-5\">\n",
       "<path style=\"stroke:none;\" d=\"M -0.59375 -6.421875 C -0.5625 -6.3125 -0.5625 -6.265625 -0.5625 -6.203125 C -0.5625 -5.859375 -0.75 -5.65625 -1.0625 -5.65625 L -4.75 -5.65625 C -5.875 -5.65625 -6.46875 -4.84375 -6.46875 -3.296875 C -6.46875 -2.390625 -6.203125 -1.625 -5.734375 -1.21875 C -5.40625 -0.921875 -5.046875 -0.796875 -4.421875 -0.78125 L -4.421875 -1.78125 C -5.203125 -1.875 -5.546875 -2.328125 -5.546875 -3.265625 C -5.546875 -4.15625 -5.203125 -4.671875 -4.609375 -4.671875 L -4.34375 -4.671875 C -3.921875 -4.671875 -3.75 -4.421875 -3.640625 -3.625 C -3.46875 -2.203125 -3.421875 -1.984375 -3.265625 -1.609375 C -2.96875 -0.875 -2.40625 -0.5 -1.578125 -0.5 C -0.4375 -0.5 0.28125 -1.296875 0.28125 -2.5625 C 0.28125 -3.359375 0 -4 -0.640625 -4.703125 C -0.015625 -4.78125 0.28125 -5.09375 0.28125 -5.734375 C 0.28125 -5.9375 0.25 -6.09375 0.171875 -6.421875 Z M -1.984375 -4.671875 C -1.640625 -4.671875 -1.4375 -4.578125 -1.15625 -4.265625 C -0.796875 -3.859375 -0.59375 -3.375 -0.59375 -2.78125 C -0.59375 -2 -0.96875 -1.546875 -1.609375 -1.546875 C -2.265625 -1.546875 -2.609375 -1.984375 -2.765625 -3.0625 C -2.90625 -4.109375 -2.953125 -4.328125 -3.109375 -4.671875 Z \"/>\n",
       "</symbol>\n",
       "<symbol overflow=\"visible\" id=\"glyph1-6\">\n",
       "<path style=\"stroke:none;\" d=\"M -6.28125 -4.65625 L -1.390625 -2.921875 L -6.28125 -1.3125 L -6.28125 -0.234375 L 0.03125 -2.359375 L 1.015625 -1.984375 C 1.46875 -1.828125 1.625 -1.59375 1.625 -1.171875 C 1.625 -1.03125 1.609375 -0.859375 1.5625 -0.640625 L 2.453125 -0.640625 C 2.5625 -0.859375 2.609375 -1.0625 2.609375 -1.3125 C 2.609375 -1.640625 2.515625 -1.984375 2.3125 -2.25 C 2.09375 -2.5625 1.828125 -2.75 1.3125 -2.9375 L -6.28125 -5.734375 Z \"/>\n",
       "</symbol>\n",
       "<symbol overflow=\"visible\" id=\"glyph1-7\">\n",
       "<path style=\"stroke:none;\" d=\"\"/>\n",
       "</symbol>\n",
       "<symbol overflow=\"visible\" id=\"glyph1-8\">\n",
       "<path style=\"stroke:none;\" d=\"M -8.75 -2.828125 C -7.171875 -1.625 -4.984375 -0.875 -3.109375 -0.875 C -1.21875 -0.875 0.96875 -1.625 2.546875 -2.828125 L 2.546875 -3.484375 C 0.828125 -2.4375 -1.1875 -1.84375 -3.109375 -1.84375 C -5.015625 -1.84375 -7.046875 -2.4375 -8.75 -3.484375 Z \"/>\n",
       "</symbol>\n",
       "<symbol overflow=\"visible\" id=\"glyph1-9\">\n",
       "<path style=\"stroke:none;\" d=\"M -6.03125 -7.9375 C -7.953125 -7.59375 -8.890625 -6.484375 -8.890625 -4.578125 C -8.890625 -3.390625 -8.515625 -2.453125 -7.796875 -1.796875 C -6.9375 -1.015625 -5.6875 -0.578125 -4.265625 -0.578125 C -2.828125 -0.578125 -1.59375 -1.015625 -0.75 -1.84375 C -0.046875 -2.515625 0.28125 -3.390625 0.28125 -4.53125 C 0.28125 -6.65625 -0.875 -7.859375 -3.1875 -8.125 L -3.1875 -6.96875 C -2.59375 -6.875 -2.1875 -6.75 -1.84375 -6.578125 C -1.109375 -6.21875 -0.703125 -5.46875 -0.703125 -4.53125 C -0.703125 -2.796875 -2.09375 -1.6875 -4.28125 -1.6875 C -6.53125 -1.6875 -7.90625 -2.75 -7.90625 -4.4375 C -7.90625 -5.140625 -7.6875 -5.8125 -7.359375 -6.171875 C -7.0625 -6.484375 -6.6875 -6.671875 -6.03125 -6.796875 Z \"/>\n",
       "</symbol>\n",
       "<symbol overflow=\"visible\" id=\"glyph1-10\">\n",
       "<path style=\"stroke:none;\" d=\"M -6.46875 -3.265625 C -6.46875 -1.5 -5.203125 -0.4375 -3.09375 -0.4375 C -0.984375 -0.4375 0.28125 -1.484375 0.28125 -3.28125 C 0.28125 -5.046875 -0.984375 -6.125 -3.046875 -6.125 C -5.21875 -6.125 -6.46875 -5.078125 -6.46875 -3.265625 Z M -5.546875 -3.28125 C -5.546875 -4.40625 -4.625 -5.078125 -3.0625 -5.078125 C -1.578125 -5.078125 -0.640625 -4.375 -0.640625 -3.28125 C -0.640625 -2.15625 -1.578125 -1.46875 -3.09375 -1.46875 C -4.609375 -1.46875 -5.546875 -2.15625 -5.546875 -3.28125 Z \"/>\n",
       "</symbol>\n",
       "<symbol overflow=\"visible\" id=\"glyph1-11\">\n",
       "<path style=\"stroke:none;\" d=\"M -4.53125 -5.25 C -5.765625 -5.25 -6.46875 -4.421875 -6.46875 -2.96875 C -6.46875 -1.515625 -5.71875 -0.5625 -4.546875 -0.5625 C -3.5625 -0.5625 -3.09375 -1.0625 -2.734375 -2.5625 L -2.515625 -3.484375 C -2.34375 -4.1875 -2.09375 -4.46875 -1.625 -4.46875 C -1.046875 -4.46875 -0.640625 -3.875 -0.640625 -3 C -0.640625 -2.453125 -0.796875 -2 -1.0625 -1.75 C -1.25 -1.59375 -1.421875 -1.53125 -1.875 -1.46875 L -1.875 -0.40625 C -0.421875 -0.453125 0.28125 -1.265625 0.28125 -2.921875 C 0.28125 -4.5 -0.5 -5.515625 -1.71875 -5.515625 C -2.65625 -5.515625 -3.171875 -4.984375 -3.46875 -3.734375 L -3.703125 -2.765625 C -3.890625 -1.953125 -4.15625 -1.609375 -4.59375 -1.609375 C -5.171875 -1.609375 -5.546875 -2.125 -5.546875 -2.9375 C -5.546875 -3.75 -5.203125 -4.171875 -4.53125 -4.203125 Z \"/>\n",
       "</symbol>\n",
       "<symbol overflow=\"visible\" id=\"glyph1-12\">\n",
       "<path style=\"stroke:none;\" d=\"M -3.75 -3.40625 L -3.75 -0.546875 L -2.875 -0.546875 L -2.875 -3.40625 Z \"/>\n",
       "</symbol>\n",
       "<symbol overflow=\"visible\" id=\"glyph1-13\">\n",
       "<path style=\"stroke:none;\" d=\"M 0 -4.703125 L -8.75 -7.734375 L -8.75 -6.546875 L -1.34375 -4.125 L -8.75 -1.5625 L -8.75 -0.359375 L 0 -3.5 Z \"/>\n",
       "</symbol>\n",
       "<symbol overflow=\"visible\" id=\"glyph1-14\">\n",
       "<path style=\"stroke:none;\" d=\"M -8.75 -1.828125 L -8.75 -0.8125 L 0 -0.8125 L 0 -1.828125 Z \"/>\n",
       "</symbol>\n",
       "<symbol overflow=\"visible\" id=\"glyph1-15\">\n",
       "<path style=\"stroke:none;\" d=\"M -6.28125 -1.796875 L -6.28125 -0.796875 L 0 -0.796875 L 0 -1.796875 Z M -8.75 -1.796875 L -8.75 -0.796875 L -7.484375 -0.796875 L -7.484375 -1.796875 Z \"/>\n",
       "</symbol>\n",
       "<symbol overflow=\"visible\" id=\"glyph1-16\">\n",
       "<path style=\"stroke:none;\" d=\"M -8.75 -5.9375 L -8.75 -4.9375 L -5.5 -4.9375 C -6.125 -4.53125 -6.46875 -3.859375 -6.46875 -3.015625 C -6.46875 -1.375 -5.15625 -0.3125 -3.15625 -0.3125 C -1.03125 -0.3125 0.28125 -1.359375 0.28125 -3.046875 C 0.28125 -3.90625 -0.046875 -4.515625 -0.828125 -5.046875 L 0 -5.046875 L 0 -5.9375 Z M -5.53125 -3.1875 C -5.53125 -4.265625 -4.578125 -4.9375 -3.078125 -4.9375 C -1.625 -4.9375 -0.65625 -4.25 -0.65625 -3.1875 C -0.65625 -2.09375 -1.625 -1.359375 -3.09375 -1.359375 C -4.5625 -1.359375 -5.53125 -2.09375 -5.53125 -3.1875 Z \"/>\n",
       "</symbol>\n",
       "<symbol overflow=\"visible\" id=\"glyph1-17\">\n",
       "<path style=\"stroke:none;\" d=\"M -6.28125 -3.046875 L -6.28125 -2.015625 L -8.015625 -2.015625 L -8.015625 -1.015625 L -6.28125 -1.015625 L -6.28125 -0.171875 L -5.46875 -0.171875 L -5.46875 -1.015625 L -0.71875 -1.015625 C -0.078125 -1.015625 0.28125 -1.453125 0.28125 -2.234375 C 0.28125 -2.46875 0.25 -2.71875 0.1875 -3.046875 L -0.640625 -3.046875 C -0.609375 -2.921875 -0.59375 -2.765625 -0.59375 -2.5625 C -0.59375 -2.140625 -0.71875 -2.015625 -1.15625 -2.015625 L -5.46875 -2.015625 L -5.46875 -3.046875 Z \"/>\n",
       "</symbol>\n",
       "<symbol overflow=\"visible\" id=\"glyph1-18\">\n",
       "<path style=\"stroke:none;\" d=\"M -6.28125 -0.84375 L 0 -0.84375 L 0 -1.84375 L -3.46875 -1.84375 C -4.75 -1.84375 -5.59375 -2.515625 -5.59375 -3.546875 C -5.59375 -4.34375 -5.109375 -4.84375 -4.359375 -4.84375 L 0 -4.84375 L 0 -5.84375 L -4.75 -5.84375 C -5.796875 -5.84375 -6.46875 -5.0625 -6.46875 -3.859375 C -6.46875 -2.921875 -6.109375 -2.3125 -5.234375 -1.765625 L -6.28125 -1.765625 Z \"/>\n",
       "</symbol>\n",
       "<symbol overflow=\"visible\" id=\"glyph1-19\">\n",
       "<path style=\"stroke:none;\" d=\"M 2.546875 -1.109375 C 0.96875 -2.3125 -1.21875 -3.078125 -3.09375 -3.078125 C -4.984375 -3.078125 -7.171875 -2.3125 -8.75 -1.109375 L -8.75 -0.453125 C -7.03125 -1.515625 -5.015625 -2.09375 -3.09375 -2.09375 C -1.1875 -2.09375 0.84375 -1.515625 2.546875 -0.453125 Z \"/>\n",
       "</symbol>\n",
       "<symbol overflow=\"visible\" id=\"glyph2-0\">\n",
       "<path style=\"stroke:none;\" d=\"\"/>\n",
       "</symbol>\n",
       "<symbol overflow=\"visible\" id=\"glyph2-1\">\n",
       "<path style=\"stroke:none;\" d=\"M 2.640625 -6.796875 C 2 -6.796875 1.421875 -6.53125 1.078125 -6.046875 C 0.640625 -5.453125 0.40625 -4.546875 0.40625 -3.296875 C 0.40625 -1 1.1875 0.21875 2.640625 0.21875 C 4.078125 0.21875 4.859375 -1 4.859375 -3.234375 C 4.859375 -4.5625 4.65625 -5.4375 4.203125 -6.046875 C 3.84375 -6.53125 3.28125 -6.796875 2.640625 -6.796875 Z M 2.640625 -6.046875 C 3.546875 -6.046875 4 -5.125 4 -3.3125 C 4 -1.375 3.5625 -0.484375 2.625 -0.484375 C 1.734375 -0.484375 1.28125 -1.421875 1.28125 -3.28125 C 1.28125 -5.140625 1.734375 -6.046875 2.640625 -6.046875 Z \"/>\n",
       "</symbol>\n",
       "<symbol overflow=\"visible\" id=\"glyph2-2\">\n",
       "<path style=\"stroke:none;\" d=\"M 1.828125 -1 L 0.828125 -1 L 0.828125 0 L 1.828125 0 Z \"/>\n",
       "</symbol>\n",
       "<symbol overflow=\"visible\" id=\"glyph2-3\">\n",
       "<path style=\"stroke:none;\" d=\"M 4.5625 -6.796875 L 1.0625 -6.796875 L 0.546875 -3.09375 L 1.328125 -3.09375 C 1.71875 -3.5625 2.046875 -3.734375 2.578125 -3.734375 C 3.484375 -3.734375 4.0625 -3.109375 4.0625 -2.09375 C 4.0625 -1.125 3.484375 -0.53125 2.578125 -0.53125 C 1.828125 -0.53125 1.375 -0.90625 1.1875 -1.671875 L 0.328125 -1.671875 C 0.453125 -1.109375 0.546875 -0.84375 0.75 -0.59375 C 1.125 -0.078125 1.828125 0.21875 2.59375 0.21875 C 3.96875 0.21875 4.921875 -0.78125 4.921875 -2.21875 C 4.921875 -3.5625 4.03125 -4.484375 2.71875 -4.484375 C 2.25 -4.484375 1.859375 -4.359375 1.46875 -4.0625 L 1.734375 -5.96875 L 4.5625 -5.96875 Z \"/>\n",
       "</symbol>\n",
       "<symbol overflow=\"visible\" id=\"glyph2-4\">\n",
       "<path style=\"stroke:none;\" d=\"M 0.515625 -1.546875 C 0.671875 -0.4375 1.40625 0.21875 2.4375 0.21875 C 3.1875 0.21875 3.859375 -0.140625 4.265625 -0.75 C 4.6875 -1.40625 4.890625 -2.25 4.890625 -3.484375 C 4.890625 -4.625 4.703125 -5.359375 4.3125 -5.953125 C 3.9375 -6.5 3.34375 -6.796875 2.59375 -6.796875 C 1.296875 -6.796875 0.359375 -5.84375 0.359375 -4.515625 C 0.359375 -3.25 1.234375 -2.34375 2.453125 -2.34375 C 3.09375 -2.34375 3.5625 -2.578125 4.015625 -3.109375 C 4 -1.453125 3.46875 -0.53125 2.5 -0.53125 C 1.90625 -0.53125 1.484375 -0.90625 1.359375 -1.546875 Z M 2.578125 -6.0625 C 3.375 -6.0625 3.96875 -5.40625 3.96875 -4.53125 C 3.96875 -3.6875 3.375 -3.09375 2.546875 -3.09375 C 1.734375 -3.09375 1.234375 -3.671875 1.234375 -4.578125 C 1.234375 -5.4375 1.796875 -6.0625 2.578125 -6.0625 Z \"/>\n",
       "</symbol>\n",
       "<symbol overflow=\"visible\" id=\"glyph2-5\">\n",
       "<path style=\"stroke:none;\" d=\"M 4.78125 -5.03125 C 4.609375 -6.140625 3.890625 -6.796875 2.84375 -6.796875 C 2.09375 -6.796875 1.421875 -6.4375 1.03125 -5.828125 C 0.609375 -5.171875 0.40625 -4.34375 0.40625 -3.09375 C 0.40625 -1.953125 0.578125 -1.234375 0.984375 -0.625 C 1.359375 -0.078125 1.953125 0.21875 2.703125 0.21875 C 3.984375 0.21875 4.921875 -0.734375 4.921875 -2.078125 C 4.921875 -3.34375 4.0625 -4.234375 2.84375 -4.234375 C 2.171875 -4.234375 1.640625 -3.96875 1.28125 -3.46875 C 1.28125 -5.125 1.828125 -6.046875 2.796875 -6.046875 C 3.390625 -6.046875 3.796875 -5.671875 3.9375 -5.03125 Z M 2.734375 -3.484375 C 3.546875 -3.484375 4.0625 -2.921875 4.0625 -2 C 4.0625 -1.15625 3.484375 -0.53125 2.703125 -0.53125 C 1.921875 -0.53125 1.328125 -1.1875 1.328125 -2.046875 C 1.328125 -2.890625 1.90625 -3.484375 2.734375 -3.484375 Z \"/>\n",
       "</symbol>\n",
       "<symbol overflow=\"visible\" id=\"glyph2-6\">\n",
       "<path style=\"stroke:none;\" d=\"M 2.484375 -4.84375 L 2.484375 0 L 3.328125 0 L 3.328125 -6.796875 L 2.765625 -6.796875 C 2.46875 -5.75 2.28125 -5.609375 0.984375 -5.453125 L 0.984375 -4.84375 Z \"/>\n",
       "</symbol>\n",
       "<symbol overflow=\"visible\" id=\"glyph2-7\">\n",
       "<path style=\"stroke:none;\" d=\"M 4.859375 -0.828125 L 1.28125 -0.828125 C 1.359375 -1.390625 1.671875 -1.75 2.5 -2.234375 L 3.46875 -2.75 C 4.40625 -3.265625 4.90625 -3.96875 4.90625 -4.8125 C 4.90625 -5.375 4.671875 -5.90625 4.265625 -6.265625 C 3.859375 -6.625 3.375 -6.796875 2.71875 -6.796875 C 1.859375 -6.796875 1.21875 -6.5 0.84375 -5.921875 C 0.609375 -5.5625 0.5 -5.125 0.484375 -4.4375 L 1.328125 -4.4375 C 1.359375 -4.90625 1.40625 -5.1875 1.53125 -5.40625 C 1.75 -5.8125 2.1875 -6.0625 2.703125 -6.0625 C 3.46875 -6.0625 4.03125 -5.515625 4.03125 -4.78125 C 4.03125 -4.25 3.71875 -3.796875 3.125 -3.4375 L 2.234375 -2.9375 C 0.8125 -2.140625 0.40625 -1.5 0.328125 0 L 4.859375 0 Z \"/>\n",
       "</symbol>\n",
       "<symbol overflow=\"visible\" id=\"glyph2-8\">\n",
       "<path style=\"stroke:none;\" d=\"M 2.125 -3.125 L 2.578125 -3.125 C 3.515625 -3.125 3.984375 -2.703125 3.984375 -1.890625 C 3.984375 -1.03125 3.46875 -0.53125 2.578125 -0.53125 C 1.65625 -0.53125 1.203125 -0.984375 1.15625 -1.96875 L 0.3125 -1.96875 C 0.34375 -1.421875 0.4375 -1.078125 0.609375 -0.765625 C 0.953125 -0.109375 1.625 0.21875 2.546875 0.21875 C 3.953125 0.21875 4.859375 -0.609375 4.859375 -1.90625 C 4.859375 -2.765625 4.515625 -3.25 3.703125 -3.515625 C 4.34375 -3.765625 4.65625 -4.25 4.65625 -4.9375 C 4.65625 -6.109375 3.875 -6.796875 2.578125 -6.796875 C 1.203125 -6.796875 0.484375 -6.046875 0.453125 -4.609375 L 1.296875 -4.609375 C 1.3125 -5.015625 1.34375 -5.25 1.453125 -5.453125 C 1.640625 -5.828125 2.0625 -6.0625 2.59375 -6.0625 C 3.34375 -6.0625 3.796875 -5.625 3.796875 -4.90625 C 3.796875 -4.421875 3.609375 -4.140625 3.25 -3.984375 C 3.015625 -3.890625 2.71875 -3.84375 2.125 -3.84375 Z \"/>\n",
       "</symbol>\n",
       "<symbol overflow=\"visible\" id=\"glyph2-9\">\n",
       "<path style=\"stroke:none;\" d=\"M 3.140625 -1.625 L 3.140625 0 L 3.984375 0 L 3.984375 -1.625 L 4.984375 -1.625 L 4.984375 -2.390625 L 3.984375 -2.390625 L 3.984375 -6.796875 L 3.359375 -6.796875 L 0.265625 -2.515625 L 0.265625 -1.625 Z M 3.140625 -2.390625 L 1 -2.390625 L 3.140625 -5.359375 Z \"/>\n",
       "</symbol>\n",
       "<symbol overflow=\"visible\" id=\"glyph2-10\">\n",
       "<path style=\"stroke:none;\" d=\"M 3.75 -3.578125 C 4.453125 -4 4.6875 -4.34375 4.6875 -4.984375 C 4.6875 -6.046875 3.84375 -6.796875 2.640625 -6.796875 C 1.4375 -6.796875 0.59375 -6.046875 0.59375 -4.984375 C 0.59375 -4.359375 0.828125 -4.015625 1.515625 -3.578125 C 0.734375 -3.203125 0.359375 -2.640625 0.359375 -1.890625 C 0.359375 -0.640625 1.296875 0.21875 2.640625 0.21875 C 3.984375 0.21875 4.921875 -0.640625 4.921875 -1.875 C 4.921875 -2.640625 4.53125 -3.203125 3.75 -3.578125 Z M 2.640625 -6.046875 C 3.359375 -6.046875 3.8125 -5.625 3.8125 -4.96875 C 3.8125 -4.34375 3.34375 -3.921875 2.640625 -3.921875 C 1.921875 -3.921875 1.453125 -4.34375 1.453125 -4.984375 C 1.453125 -5.625 1.921875 -6.046875 2.640625 -6.046875 Z M 2.640625 -3.203125 C 3.484375 -3.203125 4.0625 -2.671875 4.0625 -1.875 C 4.0625 -1.0625 3.484375 -0.53125 2.625 -0.53125 C 1.796875 -0.53125 1.21875 -1.078125 1.21875 -1.875 C 1.21875 -2.671875 1.796875 -3.203125 2.640625 -3.203125 Z \"/>\n",
       "</symbol>\n",
       "</g>\n",
       "</defs>\n",
       "<g id=\"surface71\">\n",
       "<rect x=\"0\" y=\"0\" width=\"504\" height=\"504\" style=\"fill:rgb(100%,100%,100%);fill-opacity:1;stroke:none;\"/>\n",
       "<g style=\"fill:rgb(0%,0%,0%);fill-opacity:1;\">\n",
       "  <use xlink:href=\"#glyph0-1\" x=\"240.5\" y=\"491.435547\"/>\n",
       "  <use xlink:href=\"#glyph0-2\" x=\"248.503906\" y=\"491.435547\"/>\n",
       "  <use xlink:href=\"#glyph0-3\" x=\"255.175781\" y=\"491.435547\"/>\n",
       "  <use xlink:href=\"#glyph0-4\" x=\"259.171875\" y=\"491.435547\"/>\n",
       "  <use xlink:href=\"#glyph0-2\" x=\"261.835938\" y=\"491.435547\"/>\n",
       "  <use xlink:href=\"#glyph0-5\" x=\"268.507812\" y=\"491.435547\"/>\n",
       "  <use xlink:href=\"#glyph0-6\" x=\"275.179688\" y=\"491.435547\"/>\n",
       "  <use xlink:href=\"#glyph0-7\" x=\"277.84375\" y=\"491.435547\"/>\n",
       "  <use xlink:href=\"#glyph0-8\" x=\"284.515625\" y=\"491.435547\"/>\n",
       "</g>\n",
       "<g style=\"fill:rgb(0%,0%,0%);fill-opacity:1;\">\n",
       "  <use xlink:href=\"#glyph1-1\" x=\"14.435547\" y=\"318.5\"/>\n",
       "  <use xlink:href=\"#glyph1-2\" x=\"14.435547\" y=\"310.496094\"/>\n",
       "  <use xlink:href=\"#glyph1-2\" x=\"14.435547\" y=\"304.496094\"/>\n",
       "  <use xlink:href=\"#glyph1-3\" x=\"14.435547\" y=\"298.496094\"/>\n",
       "  <use xlink:href=\"#glyph1-4\" x=\"14.435547\" y=\"291.824219\"/>\n",
       "  <use xlink:href=\"#glyph1-5\" x=\"14.435547\" y=\"287.828125\"/>\n",
       "  <use xlink:href=\"#glyph1-2\" x=\"14.435547\" y=\"281.15625\"/>\n",
       "  <use xlink:href=\"#glyph1-6\" x=\"14.435547\" y=\"275.15625\"/>\n",
       "  <use xlink:href=\"#glyph1-7\" x=\"14.435547\" y=\"269.15625\"/>\n",
       "  <use xlink:href=\"#glyph1-8\" x=\"14.435547\" y=\"265.820312\"/>\n",
       "  <use xlink:href=\"#glyph1-9\" x=\"14.435547\" y=\"261.824219\"/>\n",
       "  <use xlink:href=\"#glyph1-4\" x=\"14.435547\" y=\"253.160156\"/>\n",
       "  <use xlink:href=\"#glyph1-10\" x=\"14.435547\" y=\"249.164062\"/>\n",
       "  <use xlink:href=\"#glyph1-11\" x=\"14.435547\" y=\"242.492188\"/>\n",
       "  <use xlink:href=\"#glyph1-11\" x=\"14.435547\" y=\"236.492188\"/>\n",
       "  <use xlink:href=\"#glyph1-12\" x=\"14.435547\" y=\"230.492188\"/>\n",
       "  <use xlink:href=\"#glyph1-13\" x=\"14.435547\" y=\"226.496094\"/>\n",
       "  <use xlink:href=\"#glyph1-5\" x=\"14.435547\" y=\"218.492188\"/>\n",
       "  <use xlink:href=\"#glyph1-14\" x=\"14.435547\" y=\"211.820312\"/>\n",
       "  <use xlink:href=\"#glyph1-15\" x=\"14.435547\" y=\"209.15625\"/>\n",
       "  <use xlink:href=\"#glyph1-16\" x=\"14.435547\" y=\"206.492188\"/>\n",
       "  <use xlink:href=\"#glyph1-5\" x=\"14.435547\" y=\"199.820312\"/>\n",
       "  <use xlink:href=\"#glyph1-17\" x=\"14.435547\" y=\"193.148438\"/>\n",
       "  <use xlink:href=\"#glyph1-15\" x=\"14.435547\" y=\"189.8125\"/>\n",
       "  <use xlink:href=\"#glyph1-10\" x=\"14.435547\" y=\"187.148438\"/>\n",
       "  <use xlink:href=\"#glyph1-18\" x=\"14.435547\" y=\"180.476562\"/>\n",
       "  <use xlink:href=\"#glyph1-19\" x=\"14.435547\" y=\"173.804688\"/>\n",
       "</g>\n",
       "<path style=\"fill:none;stroke-width:0.75;stroke-linecap:round;stroke-linejoin:round;stroke:rgb(0%,0%,0%);stroke-opacity:1;stroke-miterlimit:10;\" d=\"M 79.183594 35.007812 L 79.183594 29.339844 \"/>\n",
       "<path style=\"fill:none;stroke-width:0.75;stroke-linecap:round;stroke-linejoin:round;stroke:rgb(0%,0%,0%);stroke-opacity:1;stroke-miterlimit:10;\" d=\"M 149.019531 35.007812 L 149.019531 29.339844 \"/>\n",
       "<path style=\"fill:none;stroke-width:0.75;stroke-linecap:round;stroke-linejoin:round;stroke:rgb(0%,0%,0%);stroke-opacity:1;stroke-miterlimit:10;\" d=\"M 218.859375 35.007812 L 218.859375 29.339844 \"/>\n",
       "<path style=\"fill:none;stroke-width:0.75;stroke-linecap:round;stroke-linejoin:round;stroke:rgb(0%,0%,0%);stroke-opacity:1;stroke-miterlimit:10;\" d=\"M 288.699219 35.007812 L 288.699219 29.339844 \"/>\n",
       "<path style=\"fill:none;stroke-width:0.75;stroke-linecap:round;stroke-linejoin:round;stroke:rgb(0%,0%,0%);stroke-opacity:1;stroke-miterlimit:10;\" d=\"M 358.535156 35.007812 L 358.535156 29.339844 \"/>\n",
       "<path style=\"fill:none;stroke-width:0.75;stroke-linecap:round;stroke-linejoin:round;stroke:rgb(0%,0%,0%);stroke-opacity:1;stroke-miterlimit:10;\" d=\"M 428.375 35.007812 L 428.375 29.339844 \"/>\n",
       "<path style=\"fill:none;stroke-width:0.75;stroke-linecap:round;stroke-linejoin:round;stroke:rgb(0%,0%,0%);stroke-opacity:1;stroke-miterlimit:10;\" d=\"M 57.007812 439.289062 L 51.339844 439.289062 \"/>\n",
       "<path style=\"fill:none;stroke-width:0.75;stroke-linecap:round;stroke-linejoin:round;stroke:rgb(0%,0%,0%);stroke-opacity:1;stroke-miterlimit:10;\" d=\"M 57.007812 343.59375 L 51.339844 343.59375 \"/>\n",
       "<path style=\"fill:none;stroke-width:0.75;stroke-linecap:round;stroke-linejoin:round;stroke:rgb(0%,0%,0%);stroke-opacity:1;stroke-miterlimit:10;\" d=\"M 57.007812 247.894531 L 51.339844 247.894531 \"/>\n",
       "<path style=\"fill:none;stroke-width:0.75;stroke-linecap:round;stroke-linejoin:round;stroke:rgb(0%,0%,0%);stroke-opacity:1;stroke-miterlimit:10;\" d=\"M 57.007812 152.199219 L 51.339844 152.199219 \"/>\n",
       "<path style=\"fill:none;stroke-width:0.75;stroke-linecap:round;stroke-linejoin:round;stroke:rgb(0%,0%,0%);stroke-opacity:1;stroke-miterlimit:10;\" d=\"M 57.007812 56.503906 L 51.339844 56.503906 \"/>\n",
       "<g style=\"fill:rgb(0%,0%,0%);fill-opacity:1;\">\n",
       "  <use xlink:href=\"#glyph2-1\" x=\"26.667969\" y=\"441.936523\"/>\n",
       "  <use xlink:href=\"#glyph2-2\" x=\"32.001953\" y=\"441.936523\"/>\n",
       "  <use xlink:href=\"#glyph2-3\" x=\"34.668945\" y=\"441.936523\"/>\n",
       "  <use xlink:href=\"#glyph2-4\" x=\"40.00293\" y=\"441.936523\"/>\n",
       "</g>\n",
       "<g style=\"fill:rgb(0%,0%,0%);fill-opacity:1;\">\n",
       "  <use xlink:href=\"#glyph2-1\" x=\"26.667969\" y=\"346.241211\"/>\n",
       "  <use xlink:href=\"#glyph2-2\" x=\"32.001953\" y=\"346.241211\"/>\n",
       "  <use xlink:href=\"#glyph2-5\" x=\"34.668945\" y=\"346.241211\"/>\n",
       "  <use xlink:href=\"#glyph2-1\" x=\"40.00293\" y=\"346.241211\"/>\n",
       "</g>\n",
       "<g style=\"fill:rgb(0%,0%,0%);fill-opacity:1;\">\n",
       "  <use xlink:href=\"#glyph2-1\" x=\"26.667969\" y=\"250.541992\"/>\n",
       "  <use xlink:href=\"#glyph2-2\" x=\"32.001953\" y=\"250.541992\"/>\n",
       "  <use xlink:href=\"#glyph2-5\" x=\"34.668945\" y=\"250.541992\"/>\n",
       "  <use xlink:href=\"#glyph2-6\" x=\"40.00293\" y=\"250.541992\"/>\n",
       "</g>\n",
       "<g style=\"fill:rgb(0%,0%,0%);fill-opacity:1;\">\n",
       "  <use xlink:href=\"#glyph2-1\" x=\"26.667969\" y=\"154.84668\"/>\n",
       "  <use xlink:href=\"#glyph2-2\" x=\"32.001953\" y=\"154.84668\"/>\n",
       "  <use xlink:href=\"#glyph2-5\" x=\"34.668945\" y=\"154.84668\"/>\n",
       "  <use xlink:href=\"#glyph2-7\" x=\"40.00293\" y=\"154.84668\"/>\n",
       "</g>\n",
       "<g style=\"fill:rgb(0%,0%,0%);fill-opacity:1;\">\n",
       "  <use xlink:href=\"#glyph2-1\" x=\"26.667969\" y=\"59.151367\"/>\n",
       "  <use xlink:href=\"#glyph2-2\" x=\"32.001953\" y=\"59.151367\"/>\n",
       "  <use xlink:href=\"#glyph2-5\" x=\"34.668945\" y=\"59.151367\"/>\n",
       "  <use xlink:href=\"#glyph2-8\" x=\"40.00293\" y=\"59.151367\"/>\n",
       "</g>\n",
       "<path style=\"fill:none;stroke-width:0.75;stroke-linecap:round;stroke-linejoin:round;stroke:rgb(0%,0%,0%);stroke-opacity:1;stroke-miterlimit:10;\" d=\"M 79.183594 452.992188 L 79.183594 458.660156 \"/>\n",
       "<path style=\"fill:none;stroke-width:0.75;stroke-linecap:round;stroke-linejoin:round;stroke:rgb(0%,0%,0%);stroke-opacity:1;stroke-miterlimit:10;\" d=\"M 149.019531 452.992188 L 149.019531 458.660156 \"/>\n",
       "<path style=\"fill:none;stroke-width:0.75;stroke-linecap:round;stroke-linejoin:round;stroke:rgb(0%,0%,0%);stroke-opacity:1;stroke-miterlimit:10;\" d=\"M 218.859375 452.992188 L 218.859375 458.660156 \"/>\n",
       "<path style=\"fill:none;stroke-width:0.75;stroke-linecap:round;stroke-linejoin:round;stroke:rgb(0%,0%,0%);stroke-opacity:1;stroke-miterlimit:10;\" d=\"M 288.699219 452.992188 L 288.699219 458.660156 \"/>\n",
       "<path style=\"fill:none;stroke-width:0.75;stroke-linecap:round;stroke-linejoin:round;stroke:rgb(0%,0%,0%);stroke-opacity:1;stroke-miterlimit:10;\" d=\"M 358.535156 452.992188 L 358.535156 458.660156 \"/>\n",
       "<path style=\"fill:none;stroke-width:0.75;stroke-linecap:round;stroke-linejoin:round;stroke:rgb(0%,0%,0%);stroke-opacity:1;stroke-miterlimit:10;\" d=\"M 428.375 452.992188 L 428.375 458.660156 \"/>\n",
       "<g style=\"fill:rgb(0%,0%,0%);fill-opacity:1;\">\n",
       "  <use xlink:href=\"#glyph2-1\" x=\"76.183594\" y=\"470.479492\"/>\n",
       "</g>\n",
       "<g style=\"fill:rgb(0%,0%,0%);fill-opacity:1;\">\n",
       "  <use xlink:href=\"#glyph2-7\" x=\"143.519531\" y=\"470.479492\"/>\n",
       "  <use xlink:href=\"#glyph2-1\" x=\"148.853516\" y=\"470.479492\"/>\n",
       "</g>\n",
       "<g style=\"fill:rgb(0%,0%,0%);fill-opacity:1;\">\n",
       "  <use xlink:href=\"#glyph2-9\" x=\"213.359375\" y=\"470.479492\"/>\n",
       "  <use xlink:href=\"#glyph2-1\" x=\"218.693359\" y=\"470.479492\"/>\n",
       "</g>\n",
       "<g style=\"fill:rgb(0%,0%,0%);fill-opacity:1;\">\n",
       "  <use xlink:href=\"#glyph2-5\" x=\"283.199219\" y=\"470.479492\"/>\n",
       "  <use xlink:href=\"#glyph2-1\" x=\"288.533203\" y=\"470.479492\"/>\n",
       "</g>\n",
       "<g style=\"fill:rgb(0%,0%,0%);fill-opacity:1;\">\n",
       "  <use xlink:href=\"#glyph2-10\" x=\"353.035156\" y=\"470.479492\"/>\n",
       "  <use xlink:href=\"#glyph2-1\" x=\"358.369141\" y=\"470.479492\"/>\n",
       "</g>\n",
       "<g style=\"fill:rgb(0%,0%,0%);fill-opacity:1;\">\n",
       "  <use xlink:href=\"#glyph2-6\" x=\"419.875\" y=\"470.479492\"/>\n",
       "  <use xlink:href=\"#glyph2-1\" x=\"425.208984\" y=\"470.479492\"/>\n",
       "  <use xlink:href=\"#glyph2-1\" x=\"430.542969\" y=\"470.479492\"/>\n",
       "</g>\n",
       "<path style=\"fill:none;stroke-width:0.75;stroke-linecap:round;stroke-linejoin:round;stroke:rgb(0%,0%,0%);stroke-opacity:1;stroke-miterlimit:10;\" d=\"M 474.992188 439.289062 L 480.660156 439.289062 \"/>\n",
       "<path style=\"fill:none;stroke-width:0.75;stroke-linecap:round;stroke-linejoin:round;stroke:rgb(0%,0%,0%);stroke-opacity:1;stroke-miterlimit:10;\" d=\"M 474.992188 343.59375 L 480.660156 343.59375 \"/>\n",
       "<path style=\"fill:none;stroke-width:0.75;stroke-linecap:round;stroke-linejoin:round;stroke:rgb(0%,0%,0%);stroke-opacity:1;stroke-miterlimit:10;\" d=\"M 474.992188 247.894531 L 480.660156 247.894531 \"/>\n",
       "<path style=\"fill:none;stroke-width:0.75;stroke-linecap:round;stroke-linejoin:round;stroke:rgb(0%,0%,0%);stroke-opacity:1;stroke-miterlimit:10;\" d=\"M 474.992188 152.199219 L 480.660156 152.199219 \"/>\n",
       "<path style=\"fill:none;stroke-width:0.75;stroke-linecap:round;stroke-linejoin:round;stroke:rgb(0%,0%,0%);stroke-opacity:1;stroke-miterlimit:10;\" d=\"M 474.992188 56.503906 L 480.660156 56.503906 \"/>\n",
       "<path style=\"fill:none;stroke-width:0.75;stroke-linecap:round;stroke-linejoin:round;stroke:rgb(0%,50.196078%,100%);stroke-opacity:1;stroke-miterlimit:10;\" d=\"M 85.074219 427.328125 C 85.074219 430.527344 80.273438 430.527344 80.273438 427.328125 C 80.273438 424.125 85.074219 424.125 85.074219 427.328125 \"/>\n",
       "<path style=\"fill:none;stroke-width:0.75;stroke-linecap:round;stroke-linejoin:round;stroke:rgb(0%,50.196078%,100%);stroke-opacity:1;stroke-miterlimit:10;\" d=\"M 88.566406 310.242188 C 88.566406 313.445312 83.765625 313.445312 83.765625 310.242188 C 83.765625 307.042969 88.566406 307.042969 88.566406 310.242188 \"/>\n",
       "<path style=\"fill:none;stroke-width:0.75;stroke-linecap:round;stroke-linejoin:round;stroke:rgb(0%,50.196078%,100%);stroke-opacity:1;stroke-miterlimit:10;\" d=\"M 92.058594 91.585938 C 92.058594 94.785156 87.257812 94.785156 87.257812 91.585938 C 87.257812 88.386719 92.058594 88.386719 92.058594 91.585938 \"/>\n",
       "<path style=\"fill:none;stroke-width:0.75;stroke-linecap:round;stroke-linejoin:round;stroke:rgb(0%,50.196078%,100%);stroke-opacity:1;stroke-miterlimit:10;\" d=\"M 95.550781 88.238281 C 95.550781 91.4375 90.75 91.4375 90.75 88.238281 C 90.75 85.035156 95.550781 85.035156 95.550781 88.238281 \"/>\n",
       "<path style=\"fill:none;stroke-width:0.75;stroke-linecap:round;stroke-linejoin:round;stroke:rgb(0%,50.196078%,100%);stroke-opacity:1;stroke-miterlimit:10;\" d=\"M 99.042969 60.671875 C 99.042969 63.875 94.242188 63.875 94.242188 60.671875 C 94.242188 57.472656 99.042969 57.472656 99.042969 60.671875 \"/>\n",
       "<path style=\"fill:none;stroke-width:0.75;stroke-linecap:round;stroke-linejoin:round;stroke:rgb(0%,50.196078%,100%);stroke-opacity:1;stroke-miterlimit:10;\" d=\"M 102.535156 62.417969 C 102.535156 65.621094 97.734375 65.621094 97.734375 62.417969 C 97.734375 59.21875 102.535156 59.21875 102.535156 62.417969 \"/>\n",
       "<path style=\"fill:none;stroke-width:0.75;stroke-linecap:round;stroke-linejoin:round;stroke:rgb(0%,50.196078%,100%);stroke-opacity:1;stroke-miterlimit:10;\" d=\"M 106.023438 71.039062 C 106.023438 74.238281 101.226562 74.238281 101.226562 71.039062 C 101.226562 67.835938 106.023438 67.835938 106.023438 71.039062 \"/>\n",
       "<path style=\"fill:none;stroke-width:0.75;stroke-linecap:round;stroke-linejoin:round;stroke:rgb(0%,50.196078%,100%);stroke-opacity:1;stroke-miterlimit:10;\" d=\"M 109.515625 105.480469 C 109.515625 108.679688 104.71875 108.679688 104.71875 105.480469 C 104.71875 102.28125 109.515625 102.28125 109.515625 105.480469 \"/>\n",
       "<path style=\"fill:none;stroke-width:0.75;stroke-linecap:round;stroke-linejoin:round;stroke:rgb(0%,50.196078%,100%);stroke-opacity:1;stroke-miterlimit:10;\" d=\"M 113.007812 122.660156 C 113.007812 125.859375 108.210938 125.859375 108.210938 122.660156 C 108.210938 119.460938 113.007812 119.460938 113.007812 122.660156 \"/>\n",
       "<path style=\"fill:none;stroke-width:0.75;stroke-linecap:round;stroke-linejoin:round;stroke:rgb(0%,50.196078%,100%);stroke-opacity:1;stroke-miterlimit:10;\" d=\"M 116.5 126.023438 C 116.5 129.222656 111.699219 129.222656 111.699219 126.023438 C 111.699219 122.824219 116.5 122.824219 116.5 126.023438 \"/>\n",
       "<path style=\"fill:none;stroke-width:0.75;stroke-linecap:round;stroke-linejoin:round;stroke:rgb(0%,50.196078%,100%);stroke-opacity:1;stroke-miterlimit:10;\" d=\"M 119.992188 165.628906 C 119.992188 168.828125 115.191406 168.828125 115.191406 165.628906 C 115.191406 162.429688 119.992188 162.429688 119.992188 165.628906 \"/>\n",
       "<path style=\"fill:none;stroke-width:0.75;stroke-linecap:round;stroke-linejoin:round;stroke:rgb(0%,50.196078%,100%);stroke-opacity:1;stroke-miterlimit:10;\" d=\"M 123.484375 169.027344 C 123.484375 172.226562 118.683594 172.226562 118.683594 169.027344 C 118.683594 165.828125 123.484375 165.828125 123.484375 169.027344 \"/>\n",
       "<path style=\"fill:none;stroke-width:0.75;stroke-linecap:round;stroke-linejoin:round;stroke:rgb(0%,50.196078%,100%);stroke-opacity:1;stroke-miterlimit:10;\" d=\"M 126.976562 212.148438 C 126.976562 215.347656 122.175781 215.347656 122.175781 212.148438 C 122.175781 208.949219 126.976562 208.949219 126.976562 212.148438 \"/>\n",
       "<path style=\"fill:none;stroke-width:0.75;stroke-linecap:round;stroke-linejoin:round;stroke:rgb(0%,50.196078%,100%);stroke-opacity:1;stroke-miterlimit:10;\" d=\"M 130.46875 200.101562 C 130.46875 203.300781 125.667969 203.300781 125.667969 200.101562 C 125.667969 196.902344 130.46875 196.902344 130.46875 200.101562 \"/>\n",
       "<path style=\"fill:none;stroke-width:0.75;stroke-linecap:round;stroke-linejoin:round;stroke:rgb(0%,50.196078%,100%);stroke-opacity:1;stroke-miterlimit:10;\" d=\"M 133.960938 256.910156 C 133.960938 260.113281 129.160156 260.113281 129.160156 256.910156 C 129.160156 253.710938 133.960938 253.710938 133.960938 256.910156 \"/>\n",
       "<path style=\"fill:none;stroke-width:0.75;stroke-linecap:round;stroke-linejoin:round;stroke:rgb(0%,50.196078%,100%);stroke-opacity:1;stroke-miterlimit:10;\" d=\"M 451.726562 93.234375 C 451.726562 96.433594 446.925781 96.433594 446.925781 93.234375 C 446.925781 90.035156 451.726562 90.035156 451.726562 93.234375 \"/>\n",
       "<path style=\" stroke:none;fill-rule:nonzero;fill:rgb(0%,50.196078%,100%);fill-opacity:1;\" d=\"M 99.042969 60.671875 C 99.042969 63.875 94.242188 63.875 94.242188 60.671875 C 94.242188 57.472656 99.042969 57.472656 99.042969 60.671875 \"/>\n",
       "<path style=\"fill:none;stroke-width:0.75;stroke-linecap:round;stroke-linejoin:round;stroke:rgb(0%,0%,0%);stroke-opacity:1;stroke-miterlimit:10;\" d=\"M 57.007812 452.992188 L 474.992188 452.992188 L 474.992188 35.007812 L 57.007812 35.007812 Z \"/>\n",
       "</g>\n",
       "</svg>\n"
      ],
      "text/plain": [
       "plot without title"
      ]
     },
     "metadata": {
      "image/svg+xml": {
       "isolated": true
      }
     },
     "output_type": "display_data"
    }
   ],
   "source": [
    "plot(esults)"
   ]
  },
  {
   "cell_type": "code",
   "execution_count": 12,
   "metadata": {
    "collapsed": true
   },
   "outputs": [],
   "source": [
    "library(rpart)"
   ]
  },
  {
   "cell_type": "code",
   "execution_count": 13,
   "metadata": {
    "collapsed": true
   },
   "outputs": [],
   "source": [
    "library(caTools)"
   ]
  },
  {
   "cell_type": "code",
   "execution_count": 23,
   "metadata": {
    "collapsed": true
   },
   "outputs": [],
   "source": [
    "Tree1 = rpart(Party~Q109244+Q115611+Q98197+Q113181+Q98869, data = pollTrain, method = \"class\",cp=0.001)"
   ]
  },
  {
   "cell_type": "code",
   "execution_count": 24,
   "metadata": {
    "collapsed": false
   },
   "outputs": [
    {
     "data": {
      "text/plain": [
       "            \n",
       "             Democrat Republican\n",
       "  Democrat       1928       1020\n",
       "  Republican     1034       1579"
      ]
     },
     "execution_count": 24,
     "metadata": {},
     "output_type": "execute_result"
    },
    {
     "data": {
      "text/html": [
       "0.630641970868549"
      ],
      "text/latex": [
       "0.630641970868549"
      ],
      "text/markdown": [
       "0.630641970868549"
      ],
      "text/plain": [
       "[1] 0.630642"
      ]
     },
     "execution_count": 24,
     "metadata": {},
     "output_type": "execute_result"
    }
   ],
   "source": [
    "t = table(pollTrain$Party,predict(Tree1,type = \"class\"))\n",
    "t\n",
    "sum(diag(t))/sum(t)"
   ]
  },
  {
   "cell_type": "code",
   "execution_count": 25,
   "metadata": {
    "collapsed": true
   },
   "outputs": [],
   "source": [
    "predTest = predict(Tree1, newdata = pollTest, type = \"class\")"
   ]
  },
  {
   "cell_type": "code",
   "execution_count": 26,
   "metadata": {
    "collapsed": false
   },
   "outputs": [
    {
     "data": {
      "text/plain": [
       "predTest\n",
       "  Democrat Republican \n",
       "       719        673 "
      ]
     },
     "execution_count": 26,
     "metadata": {},
     "output_type": "execute_result"
    }
   ],
   "source": [
    "table(predTest)"
   ]
  },
  {
   "cell_type": "code",
   "execution_count": 27,
   "metadata": {
    "collapsed": true
   },
   "outputs": [],
   "source": [
    "result = data.frame(USER_ID=pollTest$USER_ID,Predictions=predTest)"
   ]
  },
  {
   "cell_type": "code",
   "execution_count": 28,
   "metadata": {
    "collapsed": true
   },
   "outputs": [],
   "source": [
    "#write.csv(result, \"Submission_FE_02.csv\", row.names=FALSE)"
   ]
  },
  {
   "cell_type": "code",
   "execution_count": 30,
   "metadata": {
    "collapsed": true
   },
   "outputs": [],
   "source": [
    "library(e1071)"
   ]
  },
  {
   "cell_type": "code",
   "execution_count": 54,
   "metadata": {
    "collapsed": false
   },
   "outputs": [],
   "source": [
    "svmModel = svm(Party~Q109244+Q115611+Q98197+Q113181+Q98869, data = pollTrain, gamma=0.01,nu=0.4)#, gamma = 0.1, c=1000)"
   ]
  },
  {
   "cell_type": "code",
   "execution_count": 55,
   "metadata": {
    "collapsed": false
   },
   "outputs": [
    {
     "data": {
      "text/plain": [
       "\n",
       "Call:\n",
       "svm(formula = Party ~ Q109244 + Q115611 + Q98197 + Q113181 + Q98869, \n",
       "    data = pollTrain, gamma = 0.01, nu = 0.4)\n",
       "\n",
       "\n",
       "Parameters:\n",
       "   SVM-Type:  C-classification \n",
       " SVM-Kernel:  radial \n",
       "       cost:  1 \n",
       "      gamma:  0.01 \n",
       "\n",
       "Number of Support Vectors:  4627\n",
       "\n",
       " ( 2315 2312 )\n",
       "\n",
       "\n",
       "Number of Classes:  2 \n",
       "\n",
       "Levels: \n",
       " Democrat Republican\n",
       "\n",
       "\n"
      ]
     },
     "execution_count": 55,
     "metadata": {},
     "output_type": "execute_result"
    }
   ],
   "source": [
    "summary(svmModel)"
   ]
  },
  {
   "cell_type": "code",
   "execution_count": 56,
   "metadata": {
    "collapsed": false
   },
   "outputs": [
    {
     "data": {
      "text/plain": [
       "            \n",
       "             Democrat Republican\n",
       "  Democrat       1115       1833\n",
       "  Republican      440       2173"
      ]
     },
     "execution_count": 56,
     "metadata": {},
     "output_type": "execute_result"
    },
    {
     "data": {
      "text/html": [
       "0.591260564646646"
      ],
      "text/latex": [
       "0.591260564646646"
      ],
      "text/markdown": [
       "0.591260564646646"
      ],
      "text/plain": [
       "[1] 0.5912606"
      ]
     },
     "execution_count": 56,
     "metadata": {},
     "output_type": "execute_result"
    }
   ],
   "source": [
    "t = table(pollTrain$Party,predict(svmModel))\n",
    "t\n",
    "sum(diag(t))/sum(t)"
   ]
  },
  {
   "cell_type": "code",
   "execution_count": 57,
   "metadata": {
    "collapsed": false
   },
   "outputs": [
    {
     "data": {
      "text/plain": [
       "\n",
       "  Democrat Republican \n",
       "       393        999 "
      ]
     },
     "execution_count": 57,
     "metadata": {},
     "output_type": "execute_result"
    }
   ],
   "source": [
    "table(predict(svmModel,newdata = pollTest))"
   ]
  },
  {
   "cell_type": "code",
   "execution_count": null,
   "metadata": {
    "collapsed": true
   },
   "outputs": [],
   "source": []
  }
 ],
 "metadata": {
  "kernelspec": {
   "display_name": "R",
   "language": "R",
   "name": "ir"
  },
  "language_info": {
   "codemirror_mode": "r",
   "file_extension": ".r",
   "mimetype": "text/x-r-source",
   "name": "R",
   "pygments_lexer": "r",
   "version": "3.2.2"
  }
 },
 "nbformat": 4,
 "nbformat_minor": 0
}
