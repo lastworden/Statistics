{
 "cells": [
  {
   "cell_type": "code",
   "execution_count": 1,
   "metadata": {
    "collapsed": true
   },
   "outputs": [],
   "source": [
    "PollTrainImp = read.csv(\"pollTrain_imputed.csv\")"
   ]
  },
  {
   "cell_type": "code",
   "execution_count": 2,
   "metadata": {
    "collapsed": false
   },
   "outputs": [
    {
     "name": "stdout",
     "output_type": "stream",
     "text": [
      "'data.frame':\t5568 obs. of  108 variables:\n",
      " $ USER_ID        : int  1 4 5 8 9 10 11 12 13 15 ...\n",
      " $ YOB            : int  1938 1970 1997 1983 1984 1997 1983 1996 1994 1981 ...\n",
      " $ Gender         : Factor w/ 2 levels \"Female\",\"Male\": 2 1 2 2 1 1 2 2 2 1 ...\n",
      " $ Income         : Factor w/ 6 levels \"$100,001 - $150,000\",..: 4 5 4 1 3 5 2 4 6 3 ...\n",
      " $ HouseholdStatus: Factor w/ 6 levels \"Domestic Partners (no kids)\",..: 4 2 5 4 4 5 3 5 5 4 ...\n",
      " $ EducationLevel : Factor w/ 7 levels \"Associate's Degree\",..: 2 2 6 2 6 3 4 3 3 2 ...\n",
      " $ Party          : Factor w/ 2 levels \"Democrat\",\"Republican\": 1 1 2 1 2 1 1 2 2 2 ...\n",
      " $ Q124742        : Factor w/ 2 levels \"No\",\"Yes\": 1 1 1 1 1 1 1 2 1 1 ...\n",
      " $ Q124122        : Factor w/ 2 levels \"No\",\"Yes\": 1 2 2 2 2 1 1 2 1 1 ...\n",
      " $ Q123464        : Factor w/ 2 levels \"No\",\"Yes\": 1 1 2 1 1 1 1 1 2 1 ...\n",
      " $ Q123621        : Factor w/ 2 levels \"No\",\"Yes\": 1 1 1 2 1 1 2 1 1 1 ...\n",
      " $ Q122769        : Factor w/ 2 levels \"No\",\"Yes\": 1 1 2 1 1 1 2 1 2 2 ...\n",
      " $ Q122770        : Factor w/ 2 levels \"No\",\"Yes\": 2 2 2 1 2 2 1 2 2 1 ...\n",
      " $ Q122771        : Factor w/ 2 levels \"Private\",\"Public\": 2 2 1 2 2 2 2 1 2 2 ...\n",
      " $ Q122120        : Factor w/ 2 levels \"No\",\"Yes\": 1 1 1 1 1 1 1 2 2 1 ...\n",
      " $ Q121699        : Factor w/ 2 levels \"No\",\"Yes\": 2 2 1 2 2 1 2 1 1 2 ...\n",
      " $ Q121700        : Factor w/ 2 levels \"No\",\"Yes\": 1 1 1 1 1 1 1 1 1 1 ...\n",
      " $ Q120978        : Factor w/ 2 levels \"No\",\"Yes\": 1 2 2 2 2 2 2 1 2 2 ...\n",
      " $ Q121011        : Factor w/ 2 levels \"No\",\"Yes\": 1 1 1 1 2 1 2 1 1 2 ...\n",
      " $ Q120379        : Factor w/ 2 levels \"No\",\"Yes\": 1 1 1 1 1 2 2 2 2 1 ...\n",
      " $ Q120650        : Factor w/ 2 levels \"No\",\"Yes\": 2 2 2 2 2 2 2 2 2 2 ...\n",
      " $ Q120472        : Factor w/ 2 levels \"Art\",\"Science\": 2 2 2 2 1 2 2 2 2 1 ...\n",
      " $ Q120194        : Factor w/ 2 levels \"Study first\",..: 2 1 1 2 2 2 1 2 1 2 ...\n",
      " $ Q120012        : Factor w/ 2 levels \"No\",\"Yes\": 1 2 1 1 2 2 2 1 1 2 ...\n",
      " $ Q120014        : Factor w/ 2 levels \"No\",\"Yes\": 1 2 2 2 1 2 1 2 1 1 ...\n",
      " $ Q119334        : Factor w/ 2 levels \"No\",\"Yes\": 2 1 1 2 1 1 1 1 1 1 ...\n",
      " $ Q119851        : Factor w/ 2 levels \"No\",\"Yes\": 2 1 2 1 1 2 2 1 1 2 ...\n",
      " $ Q119650        : Factor w/ 2 levels \"Giving\",\"Receiving\": 2 2 2 1 1 2 1 2 2 1 ...\n",
      " $ Q118892        : Factor w/ 2 levels \"No\",\"Yes\": 2 1 1 2 1 1 1 2 2 1 ...\n",
      " $ Q118117        : Factor w/ 2 levels \"No\",\"Yes\": 2 1 2 1 1 1 1 1 2 2 ...\n",
      " $ Q118232        : Factor w/ 2 levels \"Idealist\",\"Pragmatist\": 1 2 2 1 1 2 2 1 1 1 ...\n",
      " $ Q118233        : Factor w/ 2 levels \"No\",\"Yes\": 1 1 1 1 2 1 1 1 1 2 ...\n",
      " $ Q118237        : Factor w/ 2 levels \"No\",\"Yes\": 1 1 2 1 2 1 2 2 2 2 ...\n",
      " $ Q117186        : Factor w/ 2 levels \"Cool headed\",..: 2 1 1 1 2 1 1 1 1 1 ...\n",
      " $ Q117193        : Factor w/ 2 levels \"Odd hours\",\"Standard hours\": 1 2 1 2 2 2 1 2 2 2 ...\n",
      " $ Q116797        : Factor w/ 2 levels \"No\",\"Yes\": 2 1 1 1 1 1 1 1 1 2 ...\n",
      " $ Q116881        : Factor w/ 2 levels \"Happy\",\"Right\": 1 1 2 1 1 2 1 2 1 1 ...\n",
      " $ Q116953        : Factor w/ 2 levels \"No\",\"Yes\": 2 2 2 2 2 2 1 1 2 1 ...\n",
      " $ Q116601        : Factor w/ 2 levels \"No\",\"Yes\": 2 2 1 2 2 2 2 1 1 2 ...\n",
      " $ Q116441        : Factor w/ 2 levels \"No\",\"Yes\": 1 2 1 1 1 1 1 1 1 2 ...\n",
      " $ Q116448        : Factor w/ 2 levels \"No\",\"Yes\": 1 1 2 1 2 2 2 1 1 2 ...\n",
      " $ Q116197        : Factor w/ 2 levels \"A.M.\",\"P.M.\": 2 1 1 1 2 2 2 2 2 2 ...\n",
      " $ Q115602        : Factor w/ 2 levels \"No\",\"Yes\": 2 1 2 2 1 2 2 2 2 2 ...\n",
      " $ Q115777        : Factor w/ 2 levels \"End\",\"Start\": 2 1 2 2 1 2 1 2 2 2 ...\n",
      " $ Q115610        : Factor w/ 2 levels \"No\",\"Yes\": 2 2 2 2 1 2 2 2 2 2 ...\n",
      " $ Q115611        : Factor w/ 2 levels \"No\",\"Yes\": 1 1 2 1 1 1 1 2 1 2 ...\n",
      " $ Q115899        : Factor w/ 2 levels \"Circumstances\",..: 1 2 1 1 2 1 2 1 2 2 ...\n",
      " $ Q115390        : Factor w/ 2 levels \"No\",\"Yes\": 2 2 1 2 1 2 2 1 2 2 ...\n",
      " $ Q114961        : Factor w/ 2 levels \"No\",\"Yes\": 2 2 2 1 2 2 2 1 2 1 ...\n",
      " $ Q114748        : Factor w/ 2 levels \"No\",\"Yes\": 2 1 1 1 2 1 1 2 2 1 ...\n",
      " $ Q115195        : Factor w/ 2 levels \"No\",\"Yes\": 2 2 2 2 2 2 2 1 2 1 ...\n",
      " $ Q114517        : Factor w/ 2 levels \"No\",\"Yes\": 1 1 2 1 2 1 1 1 1 1 ...\n",
      " $ Q114386        : Factor w/ 2 levels \"Mysterious\",\"TMI\": 1 1 1 2 2 1 2 1 1 2 ...\n",
      " $ Q113992        : Factor w/ 2 levels \"No\",\"Yes\": 2 1 1 1 2 2 1 1 1 1 ...\n",
      " $ Q114152        : Factor w/ 2 levels \"No\",\"Yes\": 2 1 1 1 1 1 1 1 1 2 ...\n",
      " $ Q113583        : Factor w/ 2 levels \"Talk\",\"Tunes\": 1 1 2 1 2 2 2 2 2 2 ...\n",
      " $ Q113584        : Factor w/ 2 levels \"People\",\"Technology\": 2 2 2 1 1 2 2 1 2 2 ...\n",
      " $ Q113181        : Factor w/ 2 levels \"No\",\"Yes\": 1 1 2 1 1 1 2 2 1 2 ...\n",
      " $ Q112478        : Factor w/ 2 levels \"No\",\"Yes\": 1 2 2 2 1 2 1 1 2 1 ...\n",
      " $ Q112512        : Factor w/ 2 levels \"No\",\"Yes\": 2 2 2 2 2 2 2 2 2 2 ...\n",
      " $ Q112270        : Factor w/ 2 levels \"No\",\"Yes\": 2 2 2 2 1 2 1 2 1 2 ...\n",
      " $ Q111848        : Factor w/ 2 levels \"No\",\"Yes\": 1 1 1 2 1 2 2 2 2 1 ...\n",
      " $ Q111580        : Factor w/ 2 levels \"Demanding\",\"Supportive\": 1 1 2 2 1 2 2 1 1 1 ...\n",
      " $ Q111220        : Factor w/ 2 levels \"No\",\"Yes\": 1 1 1 1 2 1 1 1 1 2 ...\n",
      " $ Q110740        : Factor w/ 2 levels \"Mac\",\"PC\": 2 1 2 1 2 2 2 2 2 2 ...\n",
      " $ Q109367        : Factor w/ 2 levels \"No\",\"Yes\": 1 2 1 2 2 1 2 1 1 2 ...\n",
      " $ Q108950        : Factor w/ 2 levels \"Cautious\",\"Risk-friendly\": 1 1 1 2 1 1 1 1 1 1 ...\n",
      " $ Q109244        : Factor w/ 2 levels \"No\",\"Yes\": 1 1 1 1 1 1 2 1 1 1 ...\n",
      " $ Q108855        : Factor w/ 2 levels \"Umm...\",\"Yes!\": 2 1 1 1 2 2 1 2 1 2 ...\n",
      " $ Q108617        : Factor w/ 2 levels \"No\",\"Yes\": 1 1 1 1 1 1 1 1 1 1 ...\n",
      " $ Q108856        : Factor w/ 2 levels \"Socialize\",\"Space\": 2 2 2 1 1 2 2 1 2 1 ...\n",
      " $ Q108754        : Factor w/ 2 levels \"No\",\"Yes\": 1 2 1 2 1 2 1 1 1 1 ...\n",
      " $ Q108342        : Factor w/ 2 levels \"In-person\",\"Online\": 1 1 1 2 2 1 2 1 2 2 ...\n",
      " $ Q108343        : Factor w/ 2 levels \"No\",\"Yes\": 1 1 1 1 1 1 2 1 1 2 ...\n",
      " $ Q107869        : Factor w/ 2 levels \"No\",\"Yes\": 2 2 1 2 1 1 1 1 1 2 ...\n",
      " $ Q107491        : Factor w/ 2 levels \"No\",\"Yes\": 1 2 2 1 2 2 2 2 2 2 ...\n",
      " $ Q106993        : Factor w/ 2 levels \"No\",\"Yes\": 2 1 2 2 2 2 1 2 2 2 ...\n",
      " $ Q106997        : Factor w/ 2 levels \"Grrr people\",..: 2 2 1 1 2 1 1 1 1 2 ...\n",
      " $ Q106272        : Factor w/ 2 levels \"No\",\"Yes\": 2 2 2 1 2 2 2 2 1 1 ...\n",
      " $ Q106388        : Factor w/ 2 levels \"No\",\"Yes\": 1 2 1 1 1 1 1 1 1 1 ...\n",
      " $ Q106389        : Factor w/ 2 levels \"No\",\"Yes\": 2 2 1 2 2 2 2 2 2 1 ...\n",
      " $ Q106042        : Factor w/ 2 levels \"No\",\"Yes\": 2 2 1 2 2 2 1 1 1 2 ...\n",
      " $ Q105840        : Factor w/ 2 levels \"No\",\"Yes\": 1 2 1 1 2 1 2 1 1 2 ...\n",
      " $ Q105655        : Factor w/ 2 levels \"No\",\"Yes\": 1 1 1 2 2 1 1 2 2 2 ...\n",
      " $ Q104996        : Factor w/ 2 levels \"No\",\"Yes\": 2 2 1 2 1 2 1 1 1 2 ...\n",
      " $ Q103293        : Factor w/ 2 levels \"No\",\"Yes\": 1 2 2 1 1 2 2 2 2 2 ...\n",
      " $ Q102906        : Factor w/ 2 levels \"No\",\"Yes\": 1 2 1 1 1 2 2 1 1 2 ...\n",
      " $ Q102674        : Factor w/ 2 levels \"No\",\"Yes\": 1 1 1 1 2 1 1 1 1 1 ...\n",
      " $ Q102687        : Factor w/ 2 levels \"No\",\"Yes\": 2 2 2 2 1 2 1 2 2 1 ...\n",
      " $ Q102289        : Factor w/ 2 levels \"No\",\"Yes\": 1 1 1 2 1 1 1 1 1 1 ...\n",
      " $ Q102089        : Factor w/ 2 levels \"Own\",\"Rent\": 1 1 1 1 1 1 1 1 1 1 ...\n",
      " $ Q101162        : Factor w/ 2 levels \"Optimist\",\"Pessimist\": 1 1 2 1 1 2 2 2 1 1 ...\n",
      " $ Q101163        : Factor w/ 2 levels \"Dad\",\"Mom\": 2 2 2 2 2 2 2 2 1 2 ...\n",
      " $ Q101596        : Factor w/ 2 levels \"No\",\"Yes\": 2 1 1 1 1 1 1 2 1 1 ...\n",
      " $ Q100689        : Factor w/ 2 levels \"No\",\"Yes\": 2 2 1 1 2 1 2 2 1 2 ...\n",
      " $ Q100680        : Factor w/ 2 levels \"No\",\"Yes\": 1 2 1 1 2 2 2 1 2 2 ...\n",
      " $ Q100562        : Factor w/ 2 levels \"No\",\"Yes\": 1 1 1 2 2 2 2 2 1 2 ...\n",
      " $ Q99982         : Factor w/ 2 levels \"Check!\",\"Nope\": 2 2 2 1 2 2 2 2 2 1 ...\n",
      " $ Q100010        : Factor w/ 2 levels \"No\",\"Yes\": 2 1 2 1 2 2 2 2 2 2 ...\n",
      "  [list output truncated]\n"
     ]
    }
   ],
   "source": [
    "str(PollTrainImp)"
   ]
  },
  {
   "cell_type": "code",
   "execution_count": 3,
   "metadata": {
    "collapsed": true
   },
   "outputs": [],
   "source": [
    "library(caTools)"
   ]
  },
  {
   "cell_type": "code",
   "execution_count": 4,
   "metadata": {
    "collapsed": false
   },
   "outputs": [],
   "source": [
    "t = PollTrainImp$Party\n",
    "t = ifelse(PollTrainImp$Party==\"Democrat\", 1, 0)"
   ]
  },
  {
   "cell_type": "code",
   "execution_count": 5,
   "metadata": {
    "collapsed": false
   },
   "outputs": [],
   "source": [
    "PollTrainImp$Party = t"
   ]
  },
  {
   "cell_type": "code",
   "execution_count": 6,
   "metadata": {
    "collapsed": false
   },
   "outputs": [
    {
     "data": {
      "text/plain": [
       "\n",
       "   0    1 \n",
       "2617 2951 "
      ]
     },
     "execution_count": 6,
     "metadata": {},
     "output_type": "execute_result"
    }
   ],
   "source": [
    "table(PollTrainImp$Party)"
   ]
  },
  {
   "cell_type": "code",
   "execution_count": 7,
   "metadata": {
    "collapsed": true
   },
   "outputs": [],
   "source": [
    "split = sample.split(PollTrainImp$Party, SplitRatio = 0.7)"
   ]
  },
  {
   "cell_type": "code",
   "execution_count": 8,
   "metadata": {
    "collapsed": false
   },
   "outputs": [
    {
     "data": {
      "text/html": [
       "3898"
      ],
      "text/latex": [
       "3898"
      ],
      "text/markdown": [
       "3898"
      ],
      "text/plain": [
       "[1] 3898"
      ]
     },
     "execution_count": 8,
     "metadata": {},
     "output_type": "execute_result"
    },
    {
     "data": {
      "text/html": [
       "1670"
      ],
      "text/latex": [
       "1670"
      ],
      "text/markdown": [
       "1670"
      ],
      "text/plain": [
       "[1] 1670"
      ]
     },
     "execution_count": 8,
     "metadata": {},
     "output_type": "execute_result"
    }
   ],
   "source": [
    "Train = subset(PollTrainImp,split==TRUE)\n",
    "Test = subset(PollTrainImp, split == FALSE)\n",
    "nrow(Train)\n",
    "nrow(Test)"
   ]
  },
  {
   "cell_type": "code",
   "execution_count": 9,
   "metadata": {
    "collapsed": true
   },
   "outputs": [],
   "source": [
    "Train$Party= as.factor(Train$Party)\n",
    "Test$Party = as.factor(Test$Party)"
   ]
  },
  {
   "cell_type": "code",
   "execution_count": 10,
   "metadata": {
    "collapsed": false
   },
   "outputs": [
    {
     "name": "stderr",
     "output_type": "stream",
     "text": [
      "randomForest 4.6-12\n",
      "Type rfNews() to see new features/changes/bug fixes.\n"
     ]
    }
   ],
   "source": [
    "library(randomForest)"
   ]
  },
  {
   "cell_type": "code",
   "execution_count": 53,
   "metadata": {
    "collapsed": false
   },
   "outputs": [],
   "source": [
    "rfModel1 = randomForest(Party~.-USER_ID, data = Train, ntree = 50, nodesize = 10)"
   ]
  },
  {
   "cell_type": "code",
   "execution_count": 54,
   "metadata": {
    "collapsed": true
   },
   "outputs": [],
   "source": [
    "predForestTrain = predict(rfModel1, newdata = Train)"
   ]
  },
  {
   "cell_type": "code",
   "execution_count": 55,
   "metadata": {
    "collapsed": false
   },
   "outputs": [
    {
     "data": {
      "text/plain": [
       "   predForestTrain\n",
       "       0    1\n",
       "  0 1757   75\n",
       "  1   30 2036"
      ]
     },
     "execution_count": 55,
     "metadata": {},
     "output_type": "execute_result"
    }
   ],
   "source": [
    "t= table(Train$Party, predForestTrain)\n",
    "t"
   ]
  },
  {
   "cell_type": "code",
   "execution_count": 56,
   "metadata": {
    "collapsed": true
   },
   "outputs": [],
   "source": [
    "predForestTest = predict(rfModel1, newdata = Test)"
   ]
  },
  {
   "cell_type": "code",
   "execution_count": 57,
   "metadata": {
    "collapsed": false
   },
   "outputs": [
    {
     "data": {
      "text/plain": [
       "   predForestTest\n",
       "      0   1\n",
       "  0 386 399\n",
       "  1 297 588"
      ]
     },
     "execution_count": 57,
     "metadata": {},
     "output_type": "execute_result"
    }
   ],
   "source": [
    "t = table(Test$Party, predForestTest)\n",
    "t"
   ]
  },
  {
   "cell_type": "code",
   "execution_count": 58,
   "metadata": {
    "collapsed": false
   },
   "outputs": [
    {
     "data": {
      "text/html": [
       "0.583233532934132"
      ],
      "text/latex": [
       "0.583233532934132"
      ],
      "text/markdown": [
       "0.583233532934132"
      ],
      "text/plain": [
       "[1] 0.5832335"
      ]
     },
     "execution_count": 58,
     "metadata": {},
     "output_type": "execute_result"
    }
   ],
   "source": [
    "sum(diag(t))/nrow(Test)"
   ]
  },
  {
   "cell_type": "code",
   "execution_count": 46,
   "metadata": {
    "collapsed": false
   },
   "outputs": [
    {
     "name": "stdout",
     "output_type": "stream",
     "text": [
      "'data.frame':\t1392 obs. of  107 variables:\n",
      " $ USER_ID        : int  2 3 6 7 14 28 29 37 44 56 ...\n",
      " $ YOB            : int  1985 1983 1995 1980 1980 1973 1968 1961 1989 1975 ...\n",
      " $ Gender         : Factor w/ 2 levels \"Female\",\"Male\": 1 2 2 1 1 2 1 2 1 2 ...\n",
      " $ Income         : Factor w/ 6 levels \"$100,001 - $150,000\",..: 2 3 4 3 1 5 3 5 6 4 ...\n",
      " $ HouseholdStatus: Factor w/ 6 levels \"Domestic Partners (no kids)\",..: 5 4 5 5 3 3 5 1 5 4 ...\n",
      " $ EducationLevel : Factor w/ 7 levels \"Associate's Degree\",..: 7 4 3 7 4 7 2 6 6 2 ...\n",
      " $ Q124742        : Factor w/ 2 levels \"No\",\"Yes\": 1 1 1 2 1 1 2 1 1 1 ...\n",
      " $ Q124122        : Factor w/ 2 levels \"No\",\"Yes\": 2 1 2 2 2 2 1 2 2 2 ...\n",
      " $ Q123464        : Factor w/ 2 levels \"No\",\"Yes\": 1 1 1 1 1 1 1 1 1 1 ...\n",
      " $ Q123621        : Factor w/ 2 levels \"No\",\"Yes\": 2 2 1 2 2 2 2 2 2 2 ...\n",
      " $ Q122769        : Factor w/ 2 levels \"No\",\"Yes\": 1 2 2 2 1 1 2 2 1 2 ...\n",
      " $ Q122770        : Factor w/ 2 levels \"No\",\"Yes\": 1 2 2 2 1 1 2 2 2 1 ...\n",
      " $ Q122771        : Factor w/ 2 levels \"Private\",\"Public\": 2 2 1 2 2 2 2 2 2 2 ...\n",
      " $ Q122120        : Factor w/ 2 levels \"No\",\"Yes\": 1 1 1 1 2 1 2 1 1 1 ...\n",
      " $ Q121699        : Factor w/ 2 levels \"No\",\"Yes\": 2 2 1 2 2 2 2 2 2 2 ...\n",
      " $ Q121700        : Factor w/ 2 levels \"No\",\"Yes\": 2 1 1 1 1 1 1 1 1 1 ...\n",
      " $ Q120978        : Factor w/ 2 levels \"No\",\"Yes\": 2 1 1 2 2 2 2 1 1 2 ...\n",
      " $ Q121011        : Factor w/ 2 levels \"No\",\"Yes\": 1 2 2 1 2 2 2 1 2 2 ...\n",
      " $ Q120379        : Factor w/ 2 levels \"No\",\"Yes\": 2 2 1 2 1 2 2 1 2 1 ...\n",
      " $ Q120650        : Factor w/ 2 levels \"No\",\"Yes\": 2 2 2 2 2 2 2 2 1 2 ...\n",
      " $ Q120472        : Factor w/ 2 levels \"Art\",\"Science\": 2 2 2 2 1 2 2 2 1 1 ...\n",
      " $ Q120194        : Factor w/ 2 levels \"Study first\",..: 1 1 2 2 2 2 2 1 1 2 ...\n",
      " $ Q120012        : Factor w/ 2 levels \"No\",\"Yes\": 2 1 1 2 2 2 2 2 2 2 ...\n",
      " $ Q120014        : Factor w/ 2 levels \"No\",\"Yes\": 2 2 2 1 2 2 2 2 2 1 ...\n",
      " $ Q119334        : Factor w/ 2 levels \"No\",\"Yes\": 2 1 1 1 2 1 2 2 1 1 ...\n",
      " $ Q119851        : Factor w/ 2 levels \"No\",\"Yes\": 1 1 2 2 2 1 1 1 2 2 ...\n",
      " $ Q119650        : Factor w/ 2 levels \"Giving\",\"Receiving\": 1 2 1 1 1 1 1 2 2 1 ...\n",
      " $ Q118892        : Factor w/ 2 levels \"No\",\"Yes\": 2 2 1 2 1 1 2 2 1 2 ...\n",
      " $ Q118117        : Factor w/ 2 levels \"No\",\"Yes\": 1 2 2 2 1 2 1 1 1 1 ...\n",
      " $ Q118232        : Factor w/ 2 levels \"Idealist\",\"Pragmatist\": 1 1 1 1 1 2 1 2 1 1 ...\n",
      " $ Q118233        : Factor w/ 2 levels \"No\",\"Yes\": 1 2 1 1 1 2 2 1 2 1 ...\n",
      " $ Q118237        : Factor w/ 2 levels \"No\",\"Yes\": 2 1 1 1 2 1 1 1 1 2 ...\n",
      " $ Q117186        : Factor w/ 2 levels \"Cool headed\",..: 1 1 1 1 2 2 2 1 2 2 ...\n",
      " $ Q117193        : Factor w/ 2 levels \"Odd hours\",\"Standard hours\": 1 1 1 2 2 1 1 1 2 2 ...\n",
      " $ Q116797        : Factor w/ 2 levels \"No\",\"Yes\": 2 1 1 1 2 2 1 2 1 1 ...\n",
      " $ Q116881        : Factor w/ 2 levels \"Happy\",\"Right\": 1 1 2 1 1 2 1 1 1 1 ...\n",
      " $ Q116953        : Factor w/ 2 levels \"No\",\"Yes\": 2 2 2 2 2 2 2 1 1 1 ...\n",
      " $ Q116601        : Factor w/ 2 levels \"No\",\"Yes\": 2 2 1 1 2 2 1 2 2 2 ...\n",
      " $ Q116441        : Factor w/ 2 levels \"No\",\"Yes\": 1 1 1 1 2 2 2 1 1 2 ...\n",
      " $ Q116448        : Factor w/ 2 levels \"No\",\"Yes\": 2 2 2 2 1 2 2 2 1 2 ...\n",
      " $ Q116197        : Factor w/ 2 levels \"A.M.\",\"P.M.\": 1 2 2 1 2 2 1 2 1 2 ...\n",
      " $ Q115602        : Factor w/ 2 levels \"No\",\"Yes\": 2 2 2 2 2 2 2 2 2 1 ...\n",
      " $ Q115777        : Factor w/ 2 levels \"End\",\"Start\": 1 2 1 2 1 1 2 2 2 1 ...\n",
      " $ Q115610        : Factor w/ 2 levels \"No\",\"Yes\": 2 2 2 2 1 2 2 2 2 2 ...\n",
      " $ Q115611        : Factor w/ 2 levels \"No\",\"Yes\": 1 2 2 1 1 2 1 2 1 1 ...\n",
      " $ Q115899        : Factor w/ 2 levels \"Circumstances\",..: 2 2 2 2 2 1 2 1 1 2 ...\n",
      " $ Q115390        : Factor w/ 2 levels \"No\",\"Yes\": 1 2 2 2 1 1 2 1 1 2 ...\n",
      " $ Q114961        : Factor w/ 2 levels \"No\",\"Yes\": 2 1 1 1 1 2 1 2 2 2 ...\n",
      " $ Q114748        : Factor w/ 2 levels \"No\",\"Yes\": 1 1 2 2 1 1 1 2 2 1 ...\n",
      " $ Q115195        : Factor w/ 2 levels \"No\",\"Yes\": 2 1 2 2 2 2 2 2 2 1 ...\n",
      " $ Q114517        : Factor w/ 2 levels \"No\",\"Yes\": 2 1 1 2 1 1 1 1 1 1 ...\n",
      " $ Q114386        : Factor w/ 2 levels \"Mysterious\",\"TMI\": 2 1 2 2 2 2 2 2 2 2 ...\n",
      " $ Q113992        : Factor w/ 2 levels \"No\",\"Yes\": 1 2 1 1 1 2 2 2 1 1 ...\n",
      " $ Q114152        : Factor w/ 2 levels \"No\",\"Yes\": 1 1 1 2 1 1 2 1 2 1 ...\n",
      " $ Q113583        : Factor w/ 2 levels \"Talk\",\"Tunes\": 2 2 2 1 2 1 1 1 2 1 ...\n",
      " $ Q113584        : Factor w/ 2 levels \"People\",\"Technology\": 1 1 2 1 2 2 2 2 2 2 ...\n",
      " $ Q113181        : Factor w/ 2 levels \"No\",\"Yes\": 2 1 2 1 1 1 2 1 1 1 ...\n",
      " $ Q112478        : Factor w/ 2 levels \"No\",\"Yes\": 2 2 1 1 2 2 2 2 1 2 ...\n",
      " $ Q112512        : Factor w/ 2 levels \"No\",\"Yes\": 1 2 2 2 2 2 1 2 1 2 ...\n",
      " $ Q112270        : Factor w/ 2 levels \"No\",\"Yes\": 2 1 1 1 1 1 1 1 1 1 ...\n",
      " $ Q111848        : Factor w/ 2 levels \"No\",\"Yes\": 2 2 2 2 2 2 2 1 1 1 ...\n",
      " $ Q111580        : Factor w/ 2 levels \"Demanding\",\"Supportive\": 2 2 2 2 2 1 2 1 1 2 ...\n",
      " $ Q111220        : Factor w/ 2 levels \"No\",\"Yes\": 1 1 1 1 2 1 2 1 1 1 ...\n",
      " $ Q110740        : Factor w/ 2 levels \"Mac\",\"PC\": 1 1 1 2 1 2 2 2 2 2 ...\n",
      " $ Q109367        : Factor w/ 2 levels \"No\",\"Yes\": 2 2 1 1 2 2 2 1 2 2 ...\n",
      " $ Q108950        : Factor w/ 2 levels \"Cautious\",\"Risk-friendly\": 1 1 2 1 1 1 2 1 1 2 ...\n",
      " $ Q109244        : Factor w/ 2 levels \"No\",\"Yes\": 2 1 1 2 1 1 2 1 2 1 ...\n",
      " $ Q108855        : Factor w/ 2 levels \"Umm...\",\"Yes!\": 2 2 2 2 2 1 2 2 2 1 ...\n",
      " $ Q108617        : Factor w/ 2 levels \"No\",\"Yes\": 1 1 1 1 1 1 2 2 1 1 ...\n",
      " $ Q108856        : Factor w/ 2 levels \"Socialize\",\"Space\": 2 2 1 2 2 2 2 2 1 2 ...\n",
      " $ Q108754        : Factor w/ 2 levels \"No\",\"Yes\": 2 1 2 1 1 1 1 1 1 1 ...\n",
      " $ Q108342        : Factor w/ 2 levels \"In-person\",\"Online\": 1 1 1 2 1 1 1 2 1 1 ...\n",
      " $ Q108343        : Factor w/ 2 levels \"No\",\"Yes\": 2 1 1 1 1 2 2 1 1 2 ...\n",
      " $ Q107869        : Factor w/ 2 levels \"No\",\"Yes\": 2 2 1 1 1 1 2 2 2 2 ...\n",
      " $ Q107491        : Factor w/ 2 levels \"No\",\"Yes\": 2 2 2 2 2 2 2 1 2 2 ...\n",
      " $ Q106993        : Factor w/ 2 levels \"No\",\"Yes\": 2 2 2 2 1 2 2 2 2 2 ...\n",
      " $ Q106997        : Factor w/ 2 levels \"Grrr people\",..: 2 1 2 2 1 1 2 2 2 1 ...\n",
      " $ Q106272        : Factor w/ 2 levels \"No\",\"Yes\": 1 2 2 1 1 2 2 2 1 2 ...\n",
      " $ Q106388        : Factor w/ 2 levels \"No\",\"Yes\": 1 1 1 1 1 1 1 2 1 1 ...\n",
      " $ Q106389        : Factor w/ 2 levels \"No\",\"Yes\": 2 1 2 1 1 2 1 1 1 1 ...\n",
      " $ Q106042        : Factor w/ 2 levels \"No\",\"Yes\": 2 2 1 1 2 2 2 2 2 2 ...\n",
      " $ Q105840        : Factor w/ 2 levels \"No\",\"Yes\": 2 1 1 1 2 1 2 1 1 1 ...\n",
      " $ Q105655        : Factor w/ 2 levels \"No\",\"Yes\": 2 2 2 2 2 1 2 2 2 2 ...\n",
      " $ Q104996        : Factor w/ 2 levels \"No\",\"Yes\": 2 1 2 2 2 1 2 1 1 1 ...\n",
      " $ Q103293        : Factor w/ 2 levels \"No\",\"Yes\": 2 1 1 1 2 2 1 1 1 1 ...\n",
      " $ Q102906        : Factor w/ 2 levels \"No\",\"Yes\": 2 1 1 1 1 2 2 1 1 1 ...\n",
      " $ Q102674        : Factor w/ 2 levels \"No\",\"Yes\": 2 1 1 1 2 2 2 1 1 2 ...\n",
      " $ Q102687        : Factor w/ 2 levels \"No\",\"Yes\": 2 1 1 1 1 2 2 1 2 1 ...\n",
      " $ Q102289        : Factor w/ 2 levels \"No\",\"Yes\": 1 1 2 1 1 1 1 1 1 1 ...\n",
      " $ Q102089        : Factor w/ 2 levels \"Own\",\"Rent\": 1 2 1 1 1 1 2 1 2 1 ...\n",
      " $ Q101162        : Factor w/ 2 levels \"Optimist\",\"Pessimist\": 1 2 1 1 2 2 1 1 1 2 ...\n",
      " $ Q101163        : Factor w/ 2 levels \"Dad\",\"Mom\": 2 1 2 1 2 2 1 1 2 2 ...\n",
      " $ Q101596        : Factor w/ 2 levels \"No\",\"Yes\": 1 1 1 1 1 1 2 1 1 1 ...\n",
      " $ Q100689        : Factor w/ 2 levels \"No\",\"Yes\": 1 2 1 1 2 2 2 1 1 2 ...\n",
      " $ Q100680        : Factor w/ 2 levels \"No\",\"Yes\": 2 1 2 2 2 2 2 1 2 1 ...\n",
      " $ Q100562        : Factor w/ 2 levels \"No\",\"Yes\": 2 2 2 2 2 2 2 2 2 2 ...\n",
      " $ Q99982         : Factor w/ 2 levels \"Check!\",\"Nope\": 1 1 2 2 2 2 2 1 2 2 ...\n",
      " $ Q100010        : Factor w/ 2 levels \"No\",\"Yes\": 2 2 1 2 2 2 2 2 1 2 ...\n",
      " $ Q99716         : Factor w/ 2 levels \"No\",\"Yes\": 2 1 1 1 1 1 2 1 2 1 ...\n",
      "  [list output truncated]\n"
     ]
    }
   ],
   "source": [
    "PollTestImp = read.csv(\"pollTest_imputed.csv\")\n",
    "str(PollTestImp)"
   ]
  },
  {
   "cell_type": "code",
   "execution_count": 47,
   "metadata": {
    "collapsed": true
   },
   "outputs": [],
   "source": [
    "predForestFin = predict(rfModel1, newdata = PollTestImp)"
   ]
  },
  {
   "cell_type": "code",
   "execution_count": 48,
   "metadata": {
    "collapsed": false
   },
   "outputs": [
    {
     "data": {
      "text/plain": [
       "predForestFin\n",
       "  0   1 \n",
       "563 829 "
      ]
     },
     "execution_count": 48,
     "metadata": {},
     "output_type": "execute_result"
    }
   ],
   "source": [
    "table(predForestFin)"
   ]
  },
  {
   "cell_type": "code",
   "execution_count": 49,
   "metadata": {
    "collapsed": true
   },
   "outputs": [],
   "source": [
    "PredTestLabels = as.factor(ifelse(predForestFin == 1, \"Democrat\", \"Republican\"))"
   ]
  },
  {
   "cell_type": "code",
   "execution_count": 50,
   "metadata": {
    "collapsed": false
   },
   "outputs": [
    {
     "data": {
      "text/plain": [
       "PredTestLabels\n",
       "  Democrat Republican \n",
       "       829        563 "
      ]
     },
     "execution_count": 50,
     "metadata": {},
     "output_type": "execute_result"
    }
   ],
   "source": [
    "table(PredTestLabels)"
   ]
  },
  {
   "cell_type": "code",
   "execution_count": 53,
   "metadata": {
    "collapsed": false
   },
   "outputs": [
    {
     "name": "stdout",
     "output_type": "stream",
     "text": [
      "'data.frame':\t1392 obs. of  2 variables:\n",
      " $ USER_ID    : int  2 3 6 7 14 28 29 37 44 56 ...\n",
      " $ Predictions: Factor w/ 2 levels \"Democrat\",\"Republican\": 1 2 2 1 1 2 1 1 1 1 ...\n"
     ]
    }
   ],
   "source": [
    "MySubmission = data.frame(USER_ID = PollTestImp$USER_ID, Predictions = PredTestLabels)\n",
    "str(MySubmission)"
   ]
  },
  {
   "cell_type": "code",
   "execution_count": 54,
   "metadata": {
    "collapsed": true
   },
   "outputs": [],
   "source": [
    "\n",
    "write.csv(MySubmission, \"Submission2.csv\", row.names=FALSE)"
   ]
  },
  {
   "cell_type": "code",
   "execution_count": 44,
   "metadata": {
    "collapsed": true
   },
   "outputs": [],
   "source": [
    "pollTrain = read.csv(\"train2016.csv\")"
   ]
  },
  {
   "cell_type": "code",
   "execution_count": 18,
   "metadata": {
    "collapsed": false
   },
   "outputs": [
    {
     "name": "stdout",
     "output_type": "stream",
     "text": [
      "'data.frame':\t5568 obs. of  108 variables:\n",
      " $ USER_ID        : int  1 4 5 8 9 10 11 12 13 15 ...\n",
      " $ YOB            : int  1938 1970 1997 1983 1984 1997 1983 1996 NA 1981 ...\n",
      " $ Gender         : Factor w/ 3 levels \"\",\"Female\",\"Male\": 3 2 3 3 2 2 3 3 3 2 ...\n",
      " $ Income         : Factor w/ 7 levels \"\",\"$100,001 - $150,000\",..: 1 6 5 2 4 6 3 5 1 4 ...\n",
      " $ HouseholdStatus: Factor w/ 7 levels \"\",\"Domestic Partners (no kids)\",..: 5 3 6 5 5 6 4 6 6 5 ...\n",
      " $ EducationLevel : Factor w/ 8 levels \"\",\"Associate's Degree\",..: 1 3 7 3 7 4 5 4 4 1 ...\n",
      " $ Party          : Factor w/ 2 levels \"Democrat\",\"Republican\": 1 1 2 1 2 1 1 2 2 2 ...\n",
      " $ Q124742        : Factor w/ 3 levels \"\",\"No\",\"Yes\": 2 1 1 2 2 1 1 3 2 2 ...\n",
      " $ Q124122        : Factor w/ 3 levels \"\",\"No\",\"Yes\": 1 3 3 3 3 1 1 3 1 2 ...\n",
      " $ Q123464        : Factor w/ 3 levels \"\",\"No\",\"Yes\": 2 2 3 2 2 1 1 2 3 2 ...\n",
      " $ Q123621        : Factor w/ 3 levels \"\",\"No\",\"Yes\": 2 2 2 3 2 1 1 2 2 2 ...\n",
      " $ Q122769        : Factor w/ 3 levels \"\",\"No\",\"Yes\": 2 2 1 2 2 2 1 2 1 3 ...\n",
      " $ Q122770        : Factor w/ 3 levels \"\",\"No\",\"Yes\": 3 3 3 2 3 3 1 3 3 2 ...\n",
      " $ Q122771        : Factor w/ 3 levels \"\",\"Private\",\"Public\": 3 3 2 3 3 3 1 2 3 3 ...\n",
      " $ Q122120        : Factor w/ 3 levels \"\",\"No\",\"Yes\": 2 2 2 2 2 2 1 3 3 2 ...\n",
      " $ Q121699        : Factor w/ 3 levels \"\",\"No\",\"Yes\": 3 3 2 3 3 2 1 2 2 3 ...\n",
      " $ Q121700        : Factor w/ 3 levels \"\",\"No\",\"Yes\": 2 2 2 2 2 2 1 2 2 2 ...\n",
      " $ Q120978        : Factor w/ 3 levels \"\",\"No\",\"Yes\": 1 3 3 3 3 3 1 2 3 3 ...\n",
      " $ Q121011        : Factor w/ 3 levels \"\",\"No\",\"Yes\": 2 2 2 2 3 2 1 2 2 3 ...\n",
      " $ Q120379        : Factor w/ 3 levels \"\",\"No\",\"Yes\": 2 2 2 2 2 3 1 3 3 2 ...\n",
      " $ Q120650        : Factor w/ 3 levels \"\",\"No\",\"Yes\": 3 3 3 3 3 3 1 3 1 3 ...\n",
      " $ Q120472        : Factor w/ 3 levels \"\",\"Art\",\"Science\": 1 3 3 3 2 3 1 3 3 2 ...\n",
      " $ Q120194        : Factor w/ 3 levels \"\",\"Study first\",..: 3 2 2 3 3 3 1 3 2 3 ...\n",
      " $ Q120012        : Factor w/ 3 levels \"\",\"No\",\"Yes\": 2 3 1 2 3 3 1 2 2 3 ...\n",
      " $ Q120014        : Factor w/ 3 levels \"\",\"No\",\"Yes\": 2 3 3 3 2 3 1 3 2 2 ...\n",
      " $ Q119334        : Factor w/ 3 levels \"\",\"No\",\"Yes\": 1 2 2 3 2 2 2 2 1 2 ...\n",
      " $ Q119851        : Factor w/ 3 levels \"\",\"No\",\"Yes\": 3 2 3 2 2 3 1 2 2 3 ...\n",
      " $ Q119650        : Factor w/ 3 levels \"\",\"Giving\",\"Receiving\": 1 3 3 2 2 3 1 3 3 2 ...\n",
      " $ Q118892        : Factor w/ 3 levels \"\",\"No\",\"Yes\": 3 2 2 3 2 2 2 3 1 2 ...\n",
      " $ Q118117        : Factor w/ 3 levels \"\",\"No\",\"Yes\": 3 2 3 2 2 2 2 2 3 3 ...\n",
      " $ Q118232        : Factor w/ 3 levels \"\",\"Idealist\",..: 2 3 3 2 2 3 3 2 1 2 ...\n",
      " $ Q118233        : Factor w/ 3 levels \"\",\"No\",\"Yes\": 2 2 2 2 3 2 2 2 2 3 ...\n",
      " $ Q118237        : Factor w/ 3 levels \"\",\"No\",\"Yes\": 2 2 3 2 3 2 3 3 3 3 ...\n",
      " $ Q117186        : Factor w/ 3 levels \"\",\"Cool headed\",..: 1 2 2 2 3 1 2 2 2 2 ...\n",
      " $ Q117193        : Factor w/ 3 levels \"\",\"Odd hours\",..: 1 3 2 3 3 3 2 3 1 3 ...\n",
      " $ Q116797        : Factor w/ 3 levels \"\",\"No\",\"Yes\": 3 2 2 2 2 1 2 2 2 3 ...\n",
      " $ Q116881        : Factor w/ 3 levels \"\",\"Happy\",\"Right\": 2 2 3 2 2 1 2 3 2 2 ...\n",
      " $ Q116953        : Factor w/ 3 levels \"\",\"No\",\"Yes\": 3 3 3 3 3 1 2 2 3 2 ...\n",
      " $ Q116601        : Factor w/ 3 levels \"\",\"No\",\"Yes\": 3 3 2 3 3 1 3 2 2 3 ...\n",
      " $ Q116441        : Factor w/ 3 levels \"\",\"No\",\"Yes\": 2 3 2 2 2 1 2 2 2 3 ...\n",
      " $ Q116448        : Factor w/ 3 levels \"\",\"No\",\"Yes\": 2 2 3 2 3 1 3 2 2 3 ...\n",
      " $ Q116197        : Factor w/ 3 levels \"\",\"A.M.\",\"P.M.\": 3 2 2 2 3 1 3 3 3 3 ...\n",
      " $ Q115602        : Factor w/ 3 levels \"\",\"No\",\"Yes\": 3 2 3 3 2 1 3 3 3 3 ...\n",
      " $ Q115777        : Factor w/ 3 levels \"\",\"End\",\"Start\": 3 2 3 3 2 1 2 3 3 3 ...\n",
      " $ Q115610        : Factor w/ 3 levels \"\",\"No\",\"Yes\": 3 3 3 3 2 1 3 3 3 3 ...\n",
      " $ Q115611        : Factor w/ 3 levels \"\",\"No\",\"Yes\": 2 2 3 2 2 1 2 3 2 3 ...\n",
      " $ Q115899        : Factor w/ 3 levels \"\",\"Circumstances\",..: 2 3 2 2 3 1 3 2 3 3 ...\n",
      " $ Q115390        : Factor w/ 3 levels \"\",\"No\",\"Yes\": 3 3 2 3 2 1 3 2 3 3 ...\n",
      " $ Q114961        : Factor w/ 3 levels \"\",\"No\",\"Yes\": 3 3 3 2 3 1 3 2 3 2 ...\n",
      " $ Q114748        : Factor w/ 3 levels \"\",\"No\",\"Yes\": 3 2 2 2 3 1 2 3 3 2 ...\n",
      " $ Q115195        : Factor w/ 3 levels \"\",\"No\",\"Yes\": 3 3 3 3 3 1 3 2 1 2 ...\n",
      " $ Q114517        : Factor w/ 3 levels \"\",\"No\",\"Yes\": 2 2 3 2 3 1 1 2 1 2 ...\n",
      " $ Q114386        : Factor w/ 3 levels \"\",\"Mysterious\",..: 1 2 2 3 3 1 1 2 1 3 ...\n",
      " $ Q113992        : Factor w/ 3 levels \"\",\"No\",\"Yes\": 3 2 2 2 3 1 1 2 1 2 ...\n",
      " $ Q114152        : Factor w/ 3 levels \"\",\"No\",\"Yes\": 3 2 2 2 2 1 1 2 1 3 ...\n",
      " $ Q113583        : Factor w/ 3 levels \"\",\"Talk\",\"Tunes\": 2 1 3 2 3 1 1 3 3 3 ...\n",
      " $ Q113584        : Factor w/ 3 levels \"\",\"People\",\"Technology\": 3 1 3 2 2 1 1 2 3 3 ...\n",
      " $ Q113181        : Factor w/ 3 levels \"\",\"No\",\"Yes\": 2 1 3 2 2 1 1 3 1 3 ...\n",
      " $ Q112478        : Factor w/ 3 levels \"\",\"No\",\"Yes\": 2 1 3 3 2 1 1 2 1 2 ...\n",
      " $ Q112512        : Factor w/ 3 levels \"\",\"No\",\"Yes\": 3 1 3 3 3 1 1 3 3 3 ...\n",
      " $ Q112270        : Factor w/ 3 levels \"\",\"No\",\"Yes\": 1 1 3 3 2 1 1 3 2 3 ...\n",
      " $ Q111848        : Factor w/ 3 levels \"\",\"No\",\"Yes\": 2 1 2 3 2 3 1 3 3 2 ...\n",
      " $ Q111580        : Factor w/ 3 levels \"\",\"Demanding\",..: 2 1 3 3 2 3 3 2 2 2 ...\n",
      " $ Q111220        : Factor w/ 3 levels \"\",\"No\",\"Yes\": 2 1 2 2 3 2 2 2 2 3 ...\n",
      " $ Q110740        : Factor w/ 3 levels \"\",\"Mac\",\"PC\": 1 2 3 2 3 3 3 3 3 3 ...\n",
      " $ Q109367        : Factor w/ 3 levels \"\",\"No\",\"Yes\": 2 3 2 3 3 1 3 2 2 3 ...\n",
      " $ Q108950        : Factor w/ 3 levels \"\",\"Cautious\",..: 2 2 2 3 2 1 2 2 1 2 ...\n",
      " $ Q109244        : Factor w/ 3 levels \"\",\"No\",\"Yes\": 2 2 2 2 2 1 3 2 2 2 ...\n",
      " $ Q108855        : Factor w/ 3 levels \"\",\"Umm...\",\"Yes!\": 3 2 2 2 3 1 2 3 1 3 ...\n",
      " $ Q108617        : Factor w/ 3 levels \"\",\"No\",\"Yes\": 2 2 2 2 2 1 2 2 2 2 ...\n",
      " $ Q108856        : Factor w/ 3 levels \"\",\"Socialize\",..: 3 3 3 2 2 1 1 2 3 2 ...\n",
      " $ Q108754        : Factor w/ 3 levels \"\",\"No\",\"Yes\": 2 3 2 3 2 1 2 2 2 2 ...\n",
      " $ Q108342        : Factor w/ 3 levels \"\",\"In-person\",..: 2 2 2 3 3 2 3 2 1 3 ...\n",
      " $ Q108343        : Factor w/ 3 levels \"\",\"No\",\"Yes\": 1 2 2 2 2 2 3 2 1 3 ...\n",
      " $ Q107869        : Factor w/ 3 levels \"\",\"No\",\"Yes\": 3 3 2 3 2 2 1 2 1 3 ...\n",
      " $ Q107491        : Factor w/ 3 levels \"\",\"No\",\"Yes\": 2 3 3 2 3 3 3 3 3 3 ...\n",
      " $ Q106993        : Factor w/ 3 levels \"\",\"No\",\"Yes\": 3 2 3 3 3 3 2 3 3 3 ...\n",
      " $ Q106997        : Factor w/ 3 levels \"\",\"Grrr people\",..: 3 3 2 2 3 2 2 2 2 3 ...\n",
      " $ Q106272        : Factor w/ 3 levels \"\",\"No\",\"Yes\": 3 3 3 2 3 3 3 3 1 2 ...\n",
      " $ Q106388        : Factor w/ 3 levels \"\",\"No\",\"Yes\": 2 3 2 2 2 2 2 2 2 2 ...\n",
      " $ Q106389        : Factor w/ 3 levels \"\",\"No\",\"Yes\": 3 3 2 3 3 3 3 3 3 2 ...\n",
      " $ Q106042        : Factor w/ 3 levels \"\",\"No\",\"Yes\": 3 3 2 3 3 3 1 2 2 3 ...\n",
      " $ Q105840        : Factor w/ 3 levels \"\",\"No\",\"Yes\": 1 3 2 2 3 2 3 2 2 3 ...\n",
      " $ Q105655        : Factor w/ 3 levels \"\",\"No\",\"Yes\": 2 2 2 3 3 2 2 3 3 3 ...\n",
      " $ Q104996        : Factor w/ 3 levels \"\",\"No\",\"Yes\": 3 3 2 3 2 3 2 2 2 3 ...\n",
      " $ Q103293        : Factor w/ 3 levels \"\",\"No\",\"Yes\": 2 1 3 2 2 3 3 3 3 3 ...\n",
      " $ Q102906        : Factor w/ 3 levels \"\",\"No\",\"Yes\": 2 1 2 2 2 3 3 2 2 3 ...\n",
      " $ Q102674        : Factor w/ 3 levels \"\",\"No\",\"Yes\": 2 1 2 2 3 2 2 2 1 2 ...\n",
      " $ Q102687        : Factor w/ 3 levels \"\",\"No\",\"Yes\": 3 1 3 3 2 3 2 3 3 2 ...\n",
      " $ Q102289        : Factor w/ 3 levels \"\",\"No\",\"Yes\": 2 1 2 3 2 1 1 2 2 2 ...\n",
      " $ Q102089        : Factor w/ 3 levels \"\",\"Own\",\"Rent\": 2 1 2 2 2 1 2 2 1 2 ...\n",
      " $ Q101162        : Factor w/ 3 levels \"\",\"Optimist\",..: 2 1 3 2 2 1 3 3 2 2 ...\n",
      " $ Q101163        : Factor w/ 3 levels \"\",\"Dad\",\"Mom\": 1 1 3 3 3 1 1 3 2 3 ...\n",
      " $ Q101596        : Factor w/ 3 levels \"\",\"No\",\"Yes\": 3 1 2 2 2 1 1 3 2 2 ...\n",
      " $ Q100689        : Factor w/ 3 levels \"\",\"No\",\"Yes\": 3 1 2 2 3 1 3 3 2 3 ...\n",
      " $ Q100680        : Factor w/ 3 levels \"\",\"No\",\"Yes\": 2 1 2 2 3 1 3 2 3 3 ...\n",
      " $ Q100562        : Factor w/ 3 levels \"\",\"No\",\"Yes\": 2 1 2 3 3 1 3 3 2 3 ...\n",
      " $ Q99982         : Factor w/ 3 levels \"\",\"Check!\",\"Nope\": 3 1 3 2 3 1 1 3 3 2 ...\n",
      " $ Q100010        : Factor w/ 3 levels \"\",\"No\",\"Yes\": 3 1 3 2 3 1 3 3 3 3 ...\n",
      "  [list output truncated]\n"
     ]
    }
   ],
   "source": [
    "str(pollTrain)"
   ]
  },
  {
   "cell_type": "code",
   "execution_count": 19,
   "metadata": {
    "collapsed": true
   },
   "outputs": [],
   "source": [
    "t = pollTrain\n",
    "t = ifelse(pollTrain$Party==\"Democrat\", 1, 0)"
   ]
  },
  {
   "cell_type": "code",
   "execution_count": 20,
   "metadata": {
    "collapsed": true
   },
   "outputs": [],
   "source": [
    "pollTrain$Party = t"
   ]
  },
  {
   "cell_type": "code",
   "execution_count": 21,
   "metadata": {
    "collapsed": false
   },
   "outputs": [
    {
     "data": {
      "text/plain": [
       "\n",
       "   0    1 \n",
       "2617 2951 "
      ]
     },
     "execution_count": 21,
     "metadata": {},
     "output_type": "execute_result"
    }
   ],
   "source": [
    "table(pollTrain$Party)"
   ]
  },
  {
   "cell_type": "code",
   "execution_count": 22,
   "metadata": {
    "collapsed": true
   },
   "outputs": [],
   "source": [
    "split = sample.split(pollTrain$Party, SplitRatio = 0.7)"
   ]
  },
  {
   "cell_type": "code",
   "execution_count": 23,
   "metadata": {
    "collapsed": true
   },
   "outputs": [],
   "source": [
    "Train = subset(pollTrain, split==TRUE)\n",
    "Test = subset(pollTrain, split==FALSE)"
   ]
  },
  {
   "cell_type": "code",
   "execution_count": 24,
   "metadata": {
    "collapsed": true
   },
   "outputs": [],
   "source": [
    "Train$Party = as.factor(Train$Party)\n",
    "Test$Party = as.factor(Test$Party)"
   ]
  },
  {
   "cell_type": "code",
   "execution_count": 27,
   "metadata": {
    "collapsed": false
   },
   "outputs": [
    {
     "ename": "ERROR",
     "evalue": "Error in na.fail.default(structure(list(Party = structure(c(2L, 1L, 2L, : missing values in object\n",
     "output_type": "error",
     "traceback": [
      "Error in na.fail.default(structure(list(Party = structure(c(2L, 1L, 2L, : missing values in object\n"
     ]
    }
   ],
   "source": [
    "rfModel2 = randomForest(Party ~ . , data = Train)"
   ]
  },
  {
   "cell_type": "code",
   "execution_count": null,
   "metadata": {
    "collapsed": true
   },
   "outputs": [],
   "source": []
  }
 ],
 "metadata": {
  "kernelspec": {
   "display_name": "R",
   "language": "R",
   "name": "ir"
  },
  "language_info": {
   "codemirror_mode": "r",
   "file_extension": ".r",
   "mimetype": "text/x-r-source",
   "name": "R",
   "pygments_lexer": "r",
   "version": "3.2.2"
  }
 },
 "nbformat": 4,
 "nbformat_minor": 0
}
