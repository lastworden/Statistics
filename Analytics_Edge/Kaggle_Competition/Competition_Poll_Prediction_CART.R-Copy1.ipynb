{
 "cells": [
  {
   "cell_type": "code",
   "execution_count": 2,
   "metadata": {
    "collapsed": true
   },
   "outputs": [],
   "source": [
    "PollTrainImp = read.csv(\"pollTrain_imputed.csv\")"
   ]
  },
  {
   "cell_type": "code",
   "execution_count": 3,
   "metadata": {
    "collapsed": false
   },
   "outputs": [
    {
     "name": "stdout",
     "output_type": "stream",
     "text": [
      "'data.frame':\t5568 obs. of  108 variables:\n",
      " $ USER_ID        : int  1 4 5 8 9 10 11 12 13 15 ...\n",
      " $ YOB            : int  1938 1970 1997 1983 1984 1997 1983 1996 1994 1981 ...\n",
      " $ Gender         : Factor w/ 2 levels \"Female\",\"Male\": 2 1 2 2 1 1 2 2 2 1 ...\n",
      " $ Income         : Factor w/ 6 levels \"$100,001 - $150,000\",..: 4 5 4 1 3 5 2 4 6 3 ...\n",
      " $ HouseholdStatus: Factor w/ 6 levels \"Domestic Partners (no kids)\",..: 4 2 5 4 4 5 3 5 5 4 ...\n",
      " $ EducationLevel : Factor w/ 7 levels \"Associate's Degree\",..: 2 2 6 2 6 3 4 3 3 2 ...\n",
      " $ Party          : Factor w/ 2 levels \"Democrat\",\"Republican\": 1 1 2 1 2 1 1 2 2 2 ...\n",
      " $ Q124742        : Factor w/ 2 levels \"No\",\"Yes\": 1 1 1 1 1 1 1 2 1 1 ...\n",
      " $ Q124122        : Factor w/ 2 levels \"No\",\"Yes\": 1 2 2 2 2 1 1 2 1 1 ...\n",
      " $ Q123464        : Factor w/ 2 levels \"No\",\"Yes\": 1 1 2 1 1 1 1 1 2 1 ...\n",
      " $ Q123621        : Factor w/ 2 levels \"No\",\"Yes\": 1 1 1 2 1 1 2 1 1 1 ...\n",
      " $ Q122769        : Factor w/ 2 levels \"No\",\"Yes\": 1 1 2 1 1 1 2 1 2 2 ...\n",
      " $ Q122770        : Factor w/ 2 levels \"No\",\"Yes\": 2 2 2 1 2 2 1 2 2 1 ...\n",
      " $ Q122771        : Factor w/ 2 levels \"Private\",\"Public\": 2 2 1 2 2 2 2 1 2 2 ...\n",
      " $ Q122120        : Factor w/ 2 levels \"No\",\"Yes\": 1 1 1 1 1 1 1 2 2 1 ...\n",
      " $ Q121699        : Factor w/ 2 levels \"No\",\"Yes\": 2 2 1 2 2 1 2 1 1 2 ...\n",
      " $ Q121700        : Factor w/ 2 levels \"No\",\"Yes\": 1 1 1 1 1 1 1 1 1 1 ...\n",
      " $ Q120978        : Factor w/ 2 levels \"No\",\"Yes\": 1 2 2 2 2 2 2 1 2 2 ...\n",
      " $ Q121011        : Factor w/ 2 levels \"No\",\"Yes\": 1 1 1 1 2 1 2 1 1 2 ...\n",
      " $ Q120379        : Factor w/ 2 levels \"No\",\"Yes\": 1 1 1 1 1 2 2 2 2 1 ...\n",
      " $ Q120650        : Factor w/ 2 levels \"No\",\"Yes\": 2 2 2 2 2 2 2 2 2 2 ...\n",
      " $ Q120472        : Factor w/ 2 levels \"Art\",\"Science\": 2 2 2 2 1 2 2 2 2 1 ...\n",
      " $ Q120194        : Factor w/ 2 levels \"Study first\",..: 2 1 1 2 2 2 1 2 1 2 ...\n",
      " $ Q120012        : Factor w/ 2 levels \"No\",\"Yes\": 1 2 1 1 2 2 2 1 1 2 ...\n",
      " $ Q120014        : Factor w/ 2 levels \"No\",\"Yes\": 1 2 2 2 1 2 1 2 1 1 ...\n",
      " $ Q119334        : Factor w/ 2 levels \"No\",\"Yes\": 2 1 1 2 1 1 1 1 1 1 ...\n",
      " $ Q119851        : Factor w/ 2 levels \"No\",\"Yes\": 2 1 2 1 1 2 2 1 1 2 ...\n",
      " $ Q119650        : Factor w/ 2 levels \"Giving\",\"Receiving\": 2 2 2 1 1 2 1 2 2 1 ...\n",
      " $ Q118892        : Factor w/ 2 levels \"No\",\"Yes\": 2 1 1 2 1 1 1 2 2 1 ...\n",
      " $ Q118117        : Factor w/ 2 levels \"No\",\"Yes\": 2 1 2 1 1 1 1 1 2 2 ...\n",
      " $ Q118232        : Factor w/ 2 levels \"Idealist\",\"Pragmatist\": 1 2 2 1 1 2 2 1 1 1 ...\n",
      " $ Q118233        : Factor w/ 2 levels \"No\",\"Yes\": 1 1 1 1 2 1 1 1 1 2 ...\n",
      " $ Q118237        : Factor w/ 2 levels \"No\",\"Yes\": 1 1 2 1 2 1 2 2 2 2 ...\n",
      " $ Q117186        : Factor w/ 2 levels \"Cool headed\",..: 2 1 1 1 2 1 1 1 1 1 ...\n",
      " $ Q117193        : Factor w/ 2 levels \"Odd hours\",\"Standard hours\": 1 2 1 2 2 2 1 2 2 2 ...\n",
      " $ Q116797        : Factor w/ 2 levels \"No\",\"Yes\": 2 1 1 1 1 1 1 1 1 2 ...\n",
      " $ Q116881        : Factor w/ 2 levels \"Happy\",\"Right\": 1 1 2 1 1 2 1 2 1 1 ...\n",
      " $ Q116953        : Factor w/ 2 levels \"No\",\"Yes\": 2 2 2 2 2 2 1 1 2 1 ...\n",
      " $ Q116601        : Factor w/ 2 levels \"No\",\"Yes\": 2 2 1 2 2 2 2 1 1 2 ...\n",
      " $ Q116441        : Factor w/ 2 levels \"No\",\"Yes\": 1 2 1 1 1 1 1 1 1 2 ...\n",
      " $ Q116448        : Factor w/ 2 levels \"No\",\"Yes\": 1 1 2 1 2 2 2 1 1 2 ...\n",
      " $ Q116197        : Factor w/ 2 levels \"A.M.\",\"P.M.\": 2 1 1 1 2 2 2 2 2 2 ...\n",
      " $ Q115602        : Factor w/ 2 levels \"No\",\"Yes\": 2 1 2 2 1 2 2 2 2 2 ...\n",
      " $ Q115777        : Factor w/ 2 levels \"End\",\"Start\": 2 1 2 2 1 2 1 2 2 2 ...\n",
      " $ Q115610        : Factor w/ 2 levels \"No\",\"Yes\": 2 2 2 2 1 2 2 2 2 2 ...\n",
      " $ Q115611        : Factor w/ 2 levels \"No\",\"Yes\": 1 1 2 1 1 1 1 2 1 2 ...\n",
      " $ Q115899        : Factor w/ 2 levels \"Circumstances\",..: 1 2 1 1 2 1 2 1 2 2 ...\n",
      " $ Q115390        : Factor w/ 2 levels \"No\",\"Yes\": 2 2 1 2 1 2 2 1 2 2 ...\n",
      " $ Q114961        : Factor w/ 2 levels \"No\",\"Yes\": 2 2 2 1 2 2 2 1 2 1 ...\n",
      " $ Q114748        : Factor w/ 2 levels \"No\",\"Yes\": 2 1 1 1 2 1 1 2 2 1 ...\n",
      " $ Q115195        : Factor w/ 2 levels \"No\",\"Yes\": 2 2 2 2 2 2 2 1 2 1 ...\n",
      " $ Q114517        : Factor w/ 2 levels \"No\",\"Yes\": 1 1 2 1 2 1 1 1 1 1 ...\n",
      " $ Q114386        : Factor w/ 2 levels \"Mysterious\",\"TMI\": 1 1 1 2 2 1 2 1 1 2 ...\n",
      " $ Q113992        : Factor w/ 2 levels \"No\",\"Yes\": 2 1 1 1 2 2 1 1 1 1 ...\n",
      " $ Q114152        : Factor w/ 2 levels \"No\",\"Yes\": 2 1 1 1 1 1 1 1 1 2 ...\n",
      " $ Q113583        : Factor w/ 2 levels \"Talk\",\"Tunes\": 1 1 2 1 2 2 2 2 2 2 ...\n",
      " $ Q113584        : Factor w/ 2 levels \"People\",\"Technology\": 2 2 2 1 1 2 2 1 2 2 ...\n",
      " $ Q113181        : Factor w/ 2 levels \"No\",\"Yes\": 1 1 2 1 1 1 2 2 1 2 ...\n",
      " $ Q112478        : Factor w/ 2 levels \"No\",\"Yes\": 1 2 2 2 1 2 1 1 2 1 ...\n",
      " $ Q112512        : Factor w/ 2 levels \"No\",\"Yes\": 2 2 2 2 2 2 2 2 2 2 ...\n",
      " $ Q112270        : Factor w/ 2 levels \"No\",\"Yes\": 2 2 2 2 1 2 1 2 1 2 ...\n",
      " $ Q111848        : Factor w/ 2 levels \"No\",\"Yes\": 1 1 1 2 1 2 2 2 2 1 ...\n",
      " $ Q111580        : Factor w/ 2 levels \"Demanding\",\"Supportive\": 1 1 2 2 1 2 2 1 1 1 ...\n",
      " $ Q111220        : Factor w/ 2 levels \"No\",\"Yes\": 1 1 1 1 2 1 1 1 1 2 ...\n",
      " $ Q110740        : Factor w/ 2 levels \"Mac\",\"PC\": 2 1 2 1 2 2 2 2 2 2 ...\n",
      " $ Q109367        : Factor w/ 2 levels \"No\",\"Yes\": 1 2 1 2 2 1 2 1 1 2 ...\n",
      " $ Q108950        : Factor w/ 2 levels \"Cautious\",\"Risk-friendly\": 1 1 1 2 1 1 1 1 1 1 ...\n",
      " $ Q109244        : Factor w/ 2 levels \"No\",\"Yes\": 1 1 1 1 1 1 2 1 1 1 ...\n",
      " $ Q108855        : Factor w/ 2 levels \"Umm...\",\"Yes!\": 2 1 1 1 2 2 1 2 1 2 ...\n",
      " $ Q108617        : Factor w/ 2 levels \"No\",\"Yes\": 1 1 1 1 1 1 1 1 1 1 ...\n",
      " $ Q108856        : Factor w/ 2 levels \"Socialize\",\"Space\": 2 2 2 1 1 2 2 1 2 1 ...\n",
      " $ Q108754        : Factor w/ 2 levels \"No\",\"Yes\": 1 2 1 2 1 2 1 1 1 1 ...\n",
      " $ Q108342        : Factor w/ 2 levels \"In-person\",\"Online\": 1 1 1 2 2 1 2 1 2 2 ...\n",
      " $ Q108343        : Factor w/ 2 levels \"No\",\"Yes\": 1 1 1 1 1 1 2 1 1 2 ...\n",
      " $ Q107869        : Factor w/ 2 levels \"No\",\"Yes\": 2 2 1 2 1 1 1 1 1 2 ...\n",
      " $ Q107491        : Factor w/ 2 levels \"No\",\"Yes\": 1 2 2 1 2 2 2 2 2 2 ...\n",
      " $ Q106993        : Factor w/ 2 levels \"No\",\"Yes\": 2 1 2 2 2 2 1 2 2 2 ...\n",
      " $ Q106997        : Factor w/ 2 levels \"Grrr people\",..: 2 2 1 1 2 1 1 1 1 2 ...\n",
      " $ Q106272        : Factor w/ 2 levels \"No\",\"Yes\": 2 2 2 1 2 2 2 2 1 1 ...\n",
      " $ Q106388        : Factor w/ 2 levels \"No\",\"Yes\": 1 2 1 1 1 1 1 1 1 1 ...\n",
      " $ Q106389        : Factor w/ 2 levels \"No\",\"Yes\": 2 2 1 2 2 2 2 2 2 1 ...\n",
      " $ Q106042        : Factor w/ 2 levels \"No\",\"Yes\": 2 2 1 2 2 2 1 1 1 2 ...\n",
      " $ Q105840        : Factor w/ 2 levels \"No\",\"Yes\": 1 2 1 1 2 1 2 1 1 2 ...\n",
      " $ Q105655        : Factor w/ 2 levels \"No\",\"Yes\": 1 1 1 2 2 1 1 2 2 2 ...\n",
      " $ Q104996        : Factor w/ 2 levels \"No\",\"Yes\": 2 2 1 2 1 2 1 1 1 2 ...\n",
      " $ Q103293        : Factor w/ 2 levels \"No\",\"Yes\": 1 2 2 1 1 2 2 2 2 2 ...\n",
      " $ Q102906        : Factor w/ 2 levels \"No\",\"Yes\": 1 2 1 1 1 2 2 1 1 2 ...\n",
      " $ Q102674        : Factor w/ 2 levels \"No\",\"Yes\": 1 1 1 1 2 1 1 1 1 1 ...\n",
      " $ Q102687        : Factor w/ 2 levels \"No\",\"Yes\": 2 2 2 2 1 2 1 2 2 1 ...\n",
      " $ Q102289        : Factor w/ 2 levels \"No\",\"Yes\": 1 1 1 2 1 1 1 1 1 1 ...\n",
      " $ Q102089        : Factor w/ 2 levels \"Own\",\"Rent\": 1 1 1 1 1 1 1 1 1 1 ...\n",
      " $ Q101162        : Factor w/ 2 levels \"Optimist\",\"Pessimist\": 1 1 2 1 1 2 2 2 1 1 ...\n",
      " $ Q101163        : Factor w/ 2 levels \"Dad\",\"Mom\": 2 2 2 2 2 2 2 2 1 2 ...\n",
      " $ Q101596        : Factor w/ 2 levels \"No\",\"Yes\": 2 1 1 1 1 1 1 2 1 1 ...\n",
      " $ Q100689        : Factor w/ 2 levels \"No\",\"Yes\": 2 2 1 1 2 1 2 2 1 2 ...\n",
      " $ Q100680        : Factor w/ 2 levels \"No\",\"Yes\": 1 2 1 1 2 2 2 1 2 2 ...\n",
      " $ Q100562        : Factor w/ 2 levels \"No\",\"Yes\": 1 1 1 2 2 2 2 2 1 2 ...\n",
      " $ Q99982         : Factor w/ 2 levels \"Check!\",\"Nope\": 2 2 2 1 2 2 2 2 2 1 ...\n",
      " $ Q100010        : Factor w/ 2 levels \"No\",\"Yes\": 2 1 2 1 2 2 2 2 2 2 ...\n",
      "  [list output truncated]\n"
     ]
    }
   ],
   "source": [
    "str(PollTrainImp)"
   ]
  },
  {
   "cell_type": "code",
   "execution_count": 4,
   "metadata": {
    "collapsed": true
   },
   "outputs": [],
   "source": [
    "library(caTools)"
   ]
  },
  {
   "cell_type": "code",
   "execution_count": 5,
   "metadata": {
    "collapsed": false
   },
   "outputs": [],
   "source": [
    "t = PollTrainImp$Party\n",
    "t = ifelse(PollTrainImp$Party==\"Democrat\", 1, 0)"
   ]
  },
  {
   "cell_type": "code",
   "execution_count": 6,
   "metadata": {
    "collapsed": false
   },
   "outputs": [],
   "source": [
    "PollTrainImp$Party = t"
   ]
  },
  {
   "cell_type": "code",
   "execution_count": 10,
   "metadata": {
    "collapsed": false
   },
   "outputs": [
    {
     "data": {
      "text/plain": [
       "\n",
       "   0    1 \n",
       "2617 2951 "
      ]
     },
     "execution_count": 10,
     "metadata": {},
     "output_type": "execute_result"
    }
   ],
   "source": [
    "table(PollTrainImp$Party)"
   ]
  },
  {
   "cell_type": "code",
   "execution_count": 12,
   "metadata": {
    "collapsed": false
   },
   "outputs": [],
   "source": [
    "PollTrainImp$Party = as.factor(PollTrainImp$Party)"
   ]
  },
  {
   "cell_type": "code",
   "execution_count": 13,
   "metadata": {
    "collapsed": false
   },
   "outputs": [
    {
     "data": {
      "text/plain": [
       "\n",
       "   0    1 \n",
       "2617 2951 "
      ]
     },
     "execution_count": 13,
     "metadata": {},
     "output_type": "execute_result"
    }
   ],
   "source": [
    "table(PollTrainImp$Party)"
   ]
  },
  {
   "cell_type": "code",
   "execution_count": 14,
   "metadata": {
    "collapsed": false
   },
   "outputs": [
    {
     "name": "stderr",
     "output_type": "stream",
     "text": [
      "Loading required package: lattice\n",
      "Loading required package: ggplot2\n",
      "Warning message:\n",
      ": package ‘ggplot2’ was built under R version 3.3.0"
     ]
    }
   ],
   "source": [
    "library(caret)"
   ]
  },
  {
   "cell_type": "code",
   "execution_count": 15,
   "metadata": {
    "collapsed": true
   },
   "outputs": [],
   "source": [
    "library(e1071)"
   ]
  },
  {
   "cell_type": "code",
   "execution_count": 16,
   "metadata": {
    "collapsed": true
   },
   "outputs": [],
   "source": [
    "numFolds = trainControl(method = \"cv\",number = 10)"
   ]
  },
  {
   "cell_type": "code",
   "execution_count": 17,
   "metadata": {
    "collapsed": true
   },
   "outputs": [],
   "source": [
    "cpGrid = expand.grid(.cp=seq(0.01,0.5,0.01))"
   ]
  },
  {
   "cell_type": "code",
   "execution_count": 19,
   "metadata": {
    "collapsed": false
   },
   "outputs": [
    {
     "data": {
      "text/plain": [
       "      .cp        \n",
       " Min.   :0.0100  \n",
       " 1st Qu.:0.1325  \n",
       " Median :0.2550  \n",
       " Mean   :0.2550  \n",
       " 3rd Qu.:0.3775  \n",
       " Max.   :0.5000  "
      ]
     },
     "execution_count": 19,
     "metadata": {},
     "output_type": "execute_result"
    }
   ],
   "source": [
    "summary(cpGrid)"
   ]
  },
  {
   "cell_type": "code",
   "execution_count": 20,
   "metadata": {
    "collapsed": false
   },
   "outputs": [
    {
     "name": "stderr",
     "output_type": "stream",
     "text": [
      "Loading required package: rpart\n"
     ]
    },
    {
     "data": {
      "text/plain": [
       "CART \n",
       "\n",
       "5568 samples\n",
       " 107 predictors\n",
       "   2 classes: '0', '1' \n",
       "\n",
       "No pre-processing\n",
       "Resampling: Cross-Validated (10 fold) \n",
       "Summary of sample sizes: 5011, 5011, 5012, 5011, 5010, 5011, ... \n",
       "Resampling results across tuning parameters:\n",
       "\n",
       "  cp    Accuracy   Kappa       Accuracy SD   Kappa SD  \n",
       "  0.01  0.6233794  0.24392217  0.0240251402  0.04833846\n",
       "  0.02  0.6233794  0.24392217  0.0240251402  0.04833846\n",
       "  0.03  0.6073919  0.21900077  0.0211693359  0.03666324\n",
       "  0.04  0.5937442  0.20795853  0.0169929450  0.03281077\n",
       "  0.05  0.5937442  0.20795853  0.0169929450  0.03281077\n",
       "  0.06  0.5937442  0.20795853  0.0169929450  0.03281077\n",
       "  0.07  0.5937442  0.20795853  0.0169929450  0.03281077\n",
       "  0.08  0.5937442  0.20795853  0.0169929450  0.03281077\n",
       "  0.09  0.5937442  0.20795853  0.0169929450  0.03281077\n",
       "  0.10  0.5937442  0.20795853  0.0169929450  0.03281077\n",
       "  0.11  0.5937442  0.20795853  0.0169929450  0.03281077\n",
       "  0.12  0.5937442  0.20795853  0.0169929450  0.03281077\n",
       "  0.13  0.5836903  0.18027249  0.0220437426  0.06710111\n",
       "  0.14  0.5341297  0.01660806  0.0132930812  0.05251929\n",
       "  0.15  0.5299930  0.00000000  0.0004787978  0.00000000\n",
       "  0.16  0.5299930  0.00000000  0.0004787978  0.00000000\n",
       "  0.17  0.5299930  0.00000000  0.0004787978  0.00000000\n",
       "  0.18  0.5299930  0.00000000  0.0004787978  0.00000000\n",
       "  0.19  0.5299930  0.00000000  0.0004787978  0.00000000\n",
       "  0.20  0.5299930  0.00000000  0.0004787978  0.00000000\n",
       "  0.21  0.5299930  0.00000000  0.0004787978  0.00000000\n",
       "  0.22  0.5299930  0.00000000  0.0004787978  0.00000000\n",
       "  0.23  0.5299930  0.00000000  0.0004787978  0.00000000\n",
       "  0.24  0.5299930  0.00000000  0.0004787978  0.00000000\n",
       "  0.25  0.5299930  0.00000000  0.0004787978  0.00000000\n",
       "  0.26  0.5299930  0.00000000  0.0004787978  0.00000000\n",
       "  0.27  0.5299930  0.00000000  0.0004787978  0.00000000\n",
       "  0.28  0.5299930  0.00000000  0.0004787978  0.00000000\n",
       "  0.29  0.5299930  0.00000000  0.0004787978  0.00000000\n",
       "  0.30  0.5299930  0.00000000  0.0004787978  0.00000000\n",
       "  0.31  0.5299930  0.00000000  0.0004787978  0.00000000\n",
       "  0.32  0.5299930  0.00000000  0.0004787978  0.00000000\n",
       "  0.33  0.5299930  0.00000000  0.0004787978  0.00000000\n",
       "  0.34  0.5299930  0.00000000  0.0004787978  0.00000000\n",
       "  0.35  0.5299930  0.00000000  0.0004787978  0.00000000\n",
       "  0.36  0.5299930  0.00000000  0.0004787978  0.00000000\n",
       "  0.37  0.5299930  0.00000000  0.0004787978  0.00000000\n",
       "  0.38  0.5299930  0.00000000  0.0004787978  0.00000000\n",
       "  0.39  0.5299930  0.00000000  0.0004787978  0.00000000\n",
       "  0.40  0.5299930  0.00000000  0.0004787978  0.00000000\n",
       "  0.41  0.5299930  0.00000000  0.0004787978  0.00000000\n",
       "  0.42  0.5299930  0.00000000  0.0004787978  0.00000000\n",
       "  0.43  0.5299930  0.00000000  0.0004787978  0.00000000\n",
       "  0.44  0.5299930  0.00000000  0.0004787978  0.00000000\n",
       "  0.45  0.5299930  0.00000000  0.0004787978  0.00000000\n",
       "  0.46  0.5299930  0.00000000  0.0004787978  0.00000000\n",
       "  0.47  0.5299930  0.00000000  0.0004787978  0.00000000\n",
       "  0.48  0.5299930  0.00000000  0.0004787978  0.00000000\n",
       "  0.49  0.5299930  0.00000000  0.0004787978  0.00000000\n",
       "  0.50  0.5299930  0.00000000  0.0004787978  0.00000000\n",
       "\n",
       "Accuracy was used to select the optimal model using  the largest value.\n",
       "The final value used for the model was cp = 0.02. "
      ]
     },
     "execution_count": 20,
     "metadata": {},
     "output_type": "execute_result"
    }
   ],
   "source": [
    "train(Party~ . - USER_ID,data = PollTrainImp, method = \"rpart\", trControl = numFolds, tuneGrid = cpGrid)"
   ]
  },
  {
   "cell_type": "code",
   "execution_count": 21,
   "metadata": {
    "collapsed": true
   },
   "outputs": [],
   "source": [
    "CARTModel1 = rpart(Party~. - USER_ID, data = PollTrainImp, method = \"class\", cp = 0.02)"
   ]
  },
  {
   "cell_type": "code",
   "execution_count": 22,
   "metadata": {
    "collapsed": true
   },
   "outputs": [],
   "source": [
    "PollTestImp = read.csv(\"pollTest_imputed.csv\")"
   ]
  },
  {
   "cell_type": "code",
   "execution_count": 23,
   "metadata": {
    "collapsed": true
   },
   "outputs": [],
   "source": [
    "Predictions = predict(CARTModel1, newdata = PollTestImp, type = \"class\")"
   ]
  },
  {
   "cell_type": "code",
   "execution_count": 24,
   "metadata": {
    "collapsed": false
   },
   "outputs": [
    {
     "data": {
      "text/plain": [
       "Predictions\n",
       "  0   1 \n",
       "666 726 "
      ]
     },
     "execution_count": 24,
     "metadata": {},
     "output_type": "execute_result"
    }
   ],
   "source": [
    "table(Predictions)"
   ]
  },
  {
   "cell_type": "code",
   "execution_count": 25,
   "metadata": {
    "collapsed": true
   },
   "outputs": [],
   "source": [
    "PredTestLabels = as.factor(ifelse(Predictions == 1, \"Democrat\", \"Republican\"))"
   ]
  },
  {
   "cell_type": "code",
   "execution_count": 26,
   "metadata": {
    "collapsed": false
   },
   "outputs": [
    {
     "data": {
      "text/plain": [
       "PredTestLabels\n",
       "  Democrat Republican \n",
       "       726        666 "
      ]
     },
     "execution_count": 26,
     "metadata": {},
     "output_type": "execute_result"
    }
   ],
   "source": [
    "table(PredTestLabels)"
   ]
  },
  {
   "cell_type": "code",
   "execution_count": 27,
   "metadata": {
    "collapsed": false
   },
   "outputs": [
    {
     "name": "stdout",
     "output_type": "stream",
     "text": [
      "'data.frame':\t1392 obs. of  2 variables:\n",
      " $ USER_ID    : int  2 3 6 7 14 28 29 37 44 56 ...\n",
      " $ Predictions: Factor w/ 2 levels \"Democrat\",\"Republican\": 1 2 2 1 1 2 1 2 1 1 ...\n"
     ]
    }
   ],
   "source": [
    "MySubmission = data.frame(USER_ID = PollTestImp$USER_ID, Predictions = PredTestLabels)\n",
    "str(MySubmission)\n",
    "write.csv(MySubmission, \"SubmissionCART_CV.csv\", row.names=FALSE)"
   ]
  },
  {
   "cell_type": "code",
   "execution_count": 28,
   "metadata": {
    "collapsed": true
   },
   "outputs": [],
   "source": [
    "predTrain = predict(CARTModel1, newdata = PollTrainImp, type = \"class\")"
   ]
  },
  {
   "cell_type": "code",
   "execution_count": 29,
   "metadata": {
    "collapsed": false
   },
   "outputs": [
    {
     "data": {
      "text/plain": [
       "   predTrain\n",
       "       0    1\n",
       "  0 1565 1052\n",
       "  1 1045 1906"
      ]
     },
     "execution_count": 29,
     "metadata": {},
     "output_type": "execute_result"
    }
   ],
   "source": [
    "t= table(PollTrainImp$Party,predTrain)\n",
    "t"
   ]
  },
  {
   "cell_type": "code",
   "execution_count": 30,
   "metadata": {
    "collapsed": false
   },
   "outputs": [
    {
     "data": {
      "text/html": [
       "0.623383620689655"
      ],
      "text/latex": [
       "0.623383620689655"
      ],
      "text/markdown": [
       "0.623383620689655"
      ],
      "text/plain": [
       "[1] 0.6233836"
      ]
     },
     "execution_count": 30,
     "metadata": {},
     "output_type": "execute_result"
    }
   ],
   "source": [
    "sum(diag(t))/nrow(PollTrainImp)"
   ]
  },
  {
   "cell_type": "code",
   "execution_count": 31,
   "metadata": {
    "collapsed": true
   },
   "outputs": [],
   "source": [
    "pollTrain = read.csv(\"train2016.csv\")"
   ]
  },
  {
   "cell_type": "code",
   "execution_count": 32,
   "metadata": {
    "collapsed": false
   },
   "outputs": [
    {
     "name": "stdout",
     "output_type": "stream",
     "text": [
      "'data.frame':\t5568 obs. of  108 variables:\n",
      " $ USER_ID        : int  1 4 5 8 9 10 11 12 13 15 ...\n",
      " $ YOB            : int  1938 1970 1997 1983 1984 1997 1983 1996 NA 1981 ...\n",
      " $ Gender         : Factor w/ 3 levels \"\",\"Female\",\"Male\": 3 2 3 3 2 2 3 3 3 2 ...\n",
      " $ Income         : Factor w/ 7 levels \"\",\"$100,001 - $150,000\",..: 1 6 5 2 4 6 3 5 1 4 ...\n",
      " $ HouseholdStatus: Factor w/ 7 levels \"\",\"Domestic Partners (no kids)\",..: 5 3 6 5 5 6 4 6 6 5 ...\n",
      " $ EducationLevel : Factor w/ 8 levels \"\",\"Associate's Degree\",..: 1 3 7 3 7 4 5 4 4 1 ...\n",
      " $ Party          : Factor w/ 2 levels \"Democrat\",\"Republican\": 1 1 2 1 2 1 1 2 2 2 ...\n",
      " $ Q124742        : Factor w/ 3 levels \"\",\"No\",\"Yes\": 2 1 1 2 2 1 1 3 2 2 ...\n",
      " $ Q124122        : Factor w/ 3 levels \"\",\"No\",\"Yes\": 1 3 3 3 3 1 1 3 1 2 ...\n",
      " $ Q123464        : Factor w/ 3 levels \"\",\"No\",\"Yes\": 2 2 3 2 2 1 1 2 3 2 ...\n",
      " $ Q123621        : Factor w/ 3 levels \"\",\"No\",\"Yes\": 2 2 2 3 2 1 1 2 2 2 ...\n",
      " $ Q122769        : Factor w/ 3 levels \"\",\"No\",\"Yes\": 2 2 1 2 2 2 1 2 1 3 ...\n",
      " $ Q122770        : Factor w/ 3 levels \"\",\"No\",\"Yes\": 3 3 3 2 3 3 1 3 3 2 ...\n",
      " $ Q122771        : Factor w/ 3 levels \"\",\"Private\",\"Public\": 3 3 2 3 3 3 1 2 3 3 ...\n",
      " $ Q122120        : Factor w/ 3 levels \"\",\"No\",\"Yes\": 2 2 2 2 2 2 1 3 3 2 ...\n",
      " $ Q121699        : Factor w/ 3 levels \"\",\"No\",\"Yes\": 3 3 2 3 3 2 1 2 2 3 ...\n",
      " $ Q121700        : Factor w/ 3 levels \"\",\"No\",\"Yes\": 2 2 2 2 2 2 1 2 2 2 ...\n",
      " $ Q120978        : Factor w/ 3 levels \"\",\"No\",\"Yes\": 1 3 3 3 3 3 1 2 3 3 ...\n",
      " $ Q121011        : Factor w/ 3 levels \"\",\"No\",\"Yes\": 2 2 2 2 3 2 1 2 2 3 ...\n",
      " $ Q120379        : Factor w/ 3 levels \"\",\"No\",\"Yes\": 2 2 2 2 2 3 1 3 3 2 ...\n",
      " $ Q120650        : Factor w/ 3 levels \"\",\"No\",\"Yes\": 3 3 3 3 3 3 1 3 1 3 ...\n",
      " $ Q120472        : Factor w/ 3 levels \"\",\"Art\",\"Science\": 1 3 3 3 2 3 1 3 3 2 ...\n",
      " $ Q120194        : Factor w/ 3 levels \"\",\"Study first\",..: 3 2 2 3 3 3 1 3 2 3 ...\n",
      " $ Q120012        : Factor w/ 3 levels \"\",\"No\",\"Yes\": 2 3 1 2 3 3 1 2 2 3 ...\n",
      " $ Q120014        : Factor w/ 3 levels \"\",\"No\",\"Yes\": 2 3 3 3 2 3 1 3 2 2 ...\n",
      " $ Q119334        : Factor w/ 3 levels \"\",\"No\",\"Yes\": 1 2 2 3 2 2 2 2 1 2 ...\n",
      " $ Q119851        : Factor w/ 3 levels \"\",\"No\",\"Yes\": 3 2 3 2 2 3 1 2 2 3 ...\n",
      " $ Q119650        : Factor w/ 3 levels \"\",\"Giving\",\"Receiving\": 1 3 3 2 2 3 1 3 3 2 ...\n",
      " $ Q118892        : Factor w/ 3 levels \"\",\"No\",\"Yes\": 3 2 2 3 2 2 2 3 1 2 ...\n",
      " $ Q118117        : Factor w/ 3 levels \"\",\"No\",\"Yes\": 3 2 3 2 2 2 2 2 3 3 ...\n",
      " $ Q118232        : Factor w/ 3 levels \"\",\"Idealist\",..: 2 3 3 2 2 3 3 2 1 2 ...\n",
      " $ Q118233        : Factor w/ 3 levels \"\",\"No\",\"Yes\": 2 2 2 2 3 2 2 2 2 3 ...\n",
      " $ Q118237        : Factor w/ 3 levels \"\",\"No\",\"Yes\": 2 2 3 2 3 2 3 3 3 3 ...\n",
      " $ Q117186        : Factor w/ 3 levels \"\",\"Cool headed\",..: 1 2 2 2 3 1 2 2 2 2 ...\n",
      " $ Q117193        : Factor w/ 3 levels \"\",\"Odd hours\",..: 1 3 2 3 3 3 2 3 1 3 ...\n",
      " $ Q116797        : Factor w/ 3 levels \"\",\"No\",\"Yes\": 3 2 2 2 2 1 2 2 2 3 ...\n",
      " $ Q116881        : Factor w/ 3 levels \"\",\"Happy\",\"Right\": 2 2 3 2 2 1 2 3 2 2 ...\n",
      " $ Q116953        : Factor w/ 3 levels \"\",\"No\",\"Yes\": 3 3 3 3 3 1 2 2 3 2 ...\n",
      " $ Q116601        : Factor w/ 3 levels \"\",\"No\",\"Yes\": 3 3 2 3 3 1 3 2 2 3 ...\n",
      " $ Q116441        : Factor w/ 3 levels \"\",\"No\",\"Yes\": 2 3 2 2 2 1 2 2 2 3 ...\n",
      " $ Q116448        : Factor w/ 3 levels \"\",\"No\",\"Yes\": 2 2 3 2 3 1 3 2 2 3 ...\n",
      " $ Q116197        : Factor w/ 3 levels \"\",\"A.M.\",\"P.M.\": 3 2 2 2 3 1 3 3 3 3 ...\n",
      " $ Q115602        : Factor w/ 3 levels \"\",\"No\",\"Yes\": 3 2 3 3 2 1 3 3 3 3 ...\n",
      " $ Q115777        : Factor w/ 3 levels \"\",\"End\",\"Start\": 3 2 3 3 2 1 2 3 3 3 ...\n",
      " $ Q115610        : Factor w/ 3 levels \"\",\"No\",\"Yes\": 3 3 3 3 2 1 3 3 3 3 ...\n",
      " $ Q115611        : Factor w/ 3 levels \"\",\"No\",\"Yes\": 2 2 3 2 2 1 2 3 2 3 ...\n",
      " $ Q115899        : Factor w/ 3 levels \"\",\"Circumstances\",..: 2 3 2 2 3 1 3 2 3 3 ...\n",
      " $ Q115390        : Factor w/ 3 levels \"\",\"No\",\"Yes\": 3 3 2 3 2 1 3 2 3 3 ...\n",
      " $ Q114961        : Factor w/ 3 levels \"\",\"No\",\"Yes\": 3 3 3 2 3 1 3 2 3 2 ...\n",
      " $ Q114748        : Factor w/ 3 levels \"\",\"No\",\"Yes\": 3 2 2 2 3 1 2 3 3 2 ...\n",
      " $ Q115195        : Factor w/ 3 levels \"\",\"No\",\"Yes\": 3 3 3 3 3 1 3 2 1 2 ...\n",
      " $ Q114517        : Factor w/ 3 levels \"\",\"No\",\"Yes\": 2 2 3 2 3 1 1 2 1 2 ...\n",
      " $ Q114386        : Factor w/ 3 levels \"\",\"Mysterious\",..: 1 2 2 3 3 1 1 2 1 3 ...\n",
      " $ Q113992        : Factor w/ 3 levels \"\",\"No\",\"Yes\": 3 2 2 2 3 1 1 2 1 2 ...\n",
      " $ Q114152        : Factor w/ 3 levels \"\",\"No\",\"Yes\": 3 2 2 2 2 1 1 2 1 3 ...\n",
      " $ Q113583        : Factor w/ 3 levels \"\",\"Talk\",\"Tunes\": 2 1 3 2 3 1 1 3 3 3 ...\n",
      " $ Q113584        : Factor w/ 3 levels \"\",\"People\",\"Technology\": 3 1 3 2 2 1 1 2 3 3 ...\n",
      " $ Q113181        : Factor w/ 3 levels \"\",\"No\",\"Yes\": 2 1 3 2 2 1 1 3 1 3 ...\n",
      " $ Q112478        : Factor w/ 3 levels \"\",\"No\",\"Yes\": 2 1 3 3 2 1 1 2 1 2 ...\n",
      " $ Q112512        : Factor w/ 3 levels \"\",\"No\",\"Yes\": 3 1 3 3 3 1 1 3 3 3 ...\n",
      " $ Q112270        : Factor w/ 3 levels \"\",\"No\",\"Yes\": 1 1 3 3 2 1 1 3 2 3 ...\n",
      " $ Q111848        : Factor w/ 3 levels \"\",\"No\",\"Yes\": 2 1 2 3 2 3 1 3 3 2 ...\n",
      " $ Q111580        : Factor w/ 3 levels \"\",\"Demanding\",..: 2 1 3 3 2 3 3 2 2 2 ...\n",
      " $ Q111220        : Factor w/ 3 levels \"\",\"No\",\"Yes\": 2 1 2 2 3 2 2 2 2 3 ...\n",
      " $ Q110740        : Factor w/ 3 levels \"\",\"Mac\",\"PC\": 1 2 3 2 3 3 3 3 3 3 ...\n",
      " $ Q109367        : Factor w/ 3 levels \"\",\"No\",\"Yes\": 2 3 2 3 3 1 3 2 2 3 ...\n",
      " $ Q108950        : Factor w/ 3 levels \"\",\"Cautious\",..: 2 2 2 3 2 1 2 2 1 2 ...\n",
      " $ Q109244        : Factor w/ 3 levels \"\",\"No\",\"Yes\": 2 2 2 2 2 1 3 2 2 2 ...\n",
      " $ Q108855        : Factor w/ 3 levels \"\",\"Umm...\",\"Yes!\": 3 2 2 2 3 1 2 3 1 3 ...\n",
      " $ Q108617        : Factor w/ 3 levels \"\",\"No\",\"Yes\": 2 2 2 2 2 1 2 2 2 2 ...\n",
      " $ Q108856        : Factor w/ 3 levels \"\",\"Socialize\",..: 3 3 3 2 2 1 1 2 3 2 ...\n",
      " $ Q108754        : Factor w/ 3 levels \"\",\"No\",\"Yes\": 2 3 2 3 2 1 2 2 2 2 ...\n",
      " $ Q108342        : Factor w/ 3 levels \"\",\"In-person\",..: 2 2 2 3 3 2 3 2 1 3 ...\n",
      " $ Q108343        : Factor w/ 3 levels \"\",\"No\",\"Yes\": 1 2 2 2 2 2 3 2 1 3 ...\n",
      " $ Q107869        : Factor w/ 3 levels \"\",\"No\",\"Yes\": 3 3 2 3 2 2 1 2 1 3 ...\n",
      " $ Q107491        : Factor w/ 3 levels \"\",\"No\",\"Yes\": 2 3 3 2 3 3 3 3 3 3 ...\n",
      " $ Q106993        : Factor w/ 3 levels \"\",\"No\",\"Yes\": 3 2 3 3 3 3 2 3 3 3 ...\n",
      " $ Q106997        : Factor w/ 3 levels \"\",\"Grrr people\",..: 3 3 2 2 3 2 2 2 2 3 ...\n",
      " $ Q106272        : Factor w/ 3 levels \"\",\"No\",\"Yes\": 3 3 3 2 3 3 3 3 1 2 ...\n",
      " $ Q106388        : Factor w/ 3 levels \"\",\"No\",\"Yes\": 2 3 2 2 2 2 2 2 2 2 ...\n",
      " $ Q106389        : Factor w/ 3 levels \"\",\"No\",\"Yes\": 3 3 2 3 3 3 3 3 3 2 ...\n",
      " $ Q106042        : Factor w/ 3 levels \"\",\"No\",\"Yes\": 3 3 2 3 3 3 1 2 2 3 ...\n",
      " $ Q105840        : Factor w/ 3 levels \"\",\"No\",\"Yes\": 1 3 2 2 3 2 3 2 2 3 ...\n",
      " $ Q105655        : Factor w/ 3 levels \"\",\"No\",\"Yes\": 2 2 2 3 3 2 2 3 3 3 ...\n",
      " $ Q104996        : Factor w/ 3 levels \"\",\"No\",\"Yes\": 3 3 2 3 2 3 2 2 2 3 ...\n",
      " $ Q103293        : Factor w/ 3 levels \"\",\"No\",\"Yes\": 2 1 3 2 2 3 3 3 3 3 ...\n",
      " $ Q102906        : Factor w/ 3 levels \"\",\"No\",\"Yes\": 2 1 2 2 2 3 3 2 2 3 ...\n",
      " $ Q102674        : Factor w/ 3 levels \"\",\"No\",\"Yes\": 2 1 2 2 3 2 2 2 1 2 ...\n",
      " $ Q102687        : Factor w/ 3 levels \"\",\"No\",\"Yes\": 3 1 3 3 2 3 2 3 3 2 ...\n",
      " $ Q102289        : Factor w/ 3 levels \"\",\"No\",\"Yes\": 2 1 2 3 2 1 1 2 2 2 ...\n",
      " $ Q102089        : Factor w/ 3 levels \"\",\"Own\",\"Rent\": 2 1 2 2 2 1 2 2 1 2 ...\n",
      " $ Q101162        : Factor w/ 3 levels \"\",\"Optimist\",..: 2 1 3 2 2 1 3 3 2 2 ...\n",
      " $ Q101163        : Factor w/ 3 levels \"\",\"Dad\",\"Mom\": 1 1 3 3 3 1 1 3 2 3 ...\n",
      " $ Q101596        : Factor w/ 3 levels \"\",\"No\",\"Yes\": 3 1 2 2 2 1 1 3 2 2 ...\n",
      " $ Q100689        : Factor w/ 3 levels \"\",\"No\",\"Yes\": 3 1 2 2 3 1 3 3 2 3 ...\n",
      " $ Q100680        : Factor w/ 3 levels \"\",\"No\",\"Yes\": 2 1 2 2 3 1 3 2 3 3 ...\n",
      " $ Q100562        : Factor w/ 3 levels \"\",\"No\",\"Yes\": 2 1 2 3 3 1 3 3 2 3 ...\n",
      " $ Q99982         : Factor w/ 3 levels \"\",\"Check!\",\"Nope\": 3 1 3 2 3 1 1 3 3 2 ...\n",
      " $ Q100010        : Factor w/ 3 levels \"\",\"No\",\"Yes\": 3 1 3 2 3 1 3 3 3 3 ...\n",
      "  [list output truncated]\n"
     ]
    }
   ],
   "source": [
    "str(pollTrain)"
   ]
  },
  {
   "cell_type": "code",
   "execution_count": 33,
   "metadata": {
    "collapsed": true
   },
   "outputs": [],
   "source": [
    "pollTrain$Party = ifelse(pollTrain$Party==\"Democrat\", 1, 0)"
   ]
  },
  {
   "cell_type": "code",
   "execution_count": 34,
   "metadata": {
    "collapsed": false
   },
   "outputs": [
    {
     "data": {
      "text/plain": [
       "\n",
       "   0    1 \n",
       "2617 2951 "
      ]
     },
     "execution_count": 34,
     "metadata": {},
     "output_type": "execute_result"
    }
   ],
   "source": [
    "table(pollTrain$Party)"
   ]
  },
  {
   "cell_type": "code",
   "execution_count": 36,
   "metadata": {
    "collapsed": false
   },
   "outputs": [],
   "source": [
    "split = sample.split(pollTrain$Party, SplitRatio = 0.7)"
   ]
  },
  {
   "cell_type": "code",
   "execution_count": 37,
   "metadata": {
    "collapsed": true
   },
   "outputs": [],
   "source": [
    "Train = subset(pollTrain,split == TRUE)\n",
    "Test = subset(pollTrain, split == FALSE)"
   ]
  },
  {
   "cell_type": "code",
   "execution_count": 38,
   "metadata": {
    "collapsed": false
   },
   "outputs": [
    {
     "data": {
      "text/plain": [
       "      .cp        \n",
       " Min.   :0.0100  \n",
       " 1st Qu.:0.1325  \n",
       " Median :0.2550  \n",
       " Mean   :0.2550  \n",
       " 3rd Qu.:0.3775  \n",
       " Max.   :0.5000  "
      ]
     },
     "execution_count": 38,
     "metadata": {},
     "output_type": "execute_result"
    }
   ],
   "source": [
    "numFolds = trainControl(method = \"cv\",number = 10)\n",
    "cpGrid = expand.grid(.cp=seq(0.01,0.5,0.01))\n",
    "summary(cpGrid)"
   ]
  },
  {
   "cell_type": "code",
   "execution_count": 40,
   "metadata": {
    "collapsed": true
   },
   "outputs": [],
   "source": [
    "pollTrain$Party = as.factor(pollTrain$Party)"
   ]
  },
  {
   "cell_type": "code",
   "execution_count": 41,
   "metadata": {
    "collapsed": false
   },
   "outputs": [
    {
     "data": {
      "text/plain": [
       "CART \n",
       "\n",
       "5568 samples\n",
       " 107 predictors\n",
       "   2 classes: '0', '1' \n",
       "\n",
       "No pre-processing\n",
       "Resampling: Cross-Validated (10 fold) \n",
       "Summary of sample sizes: 4712, 4711, 4711, 4711, 4711, 4712, ... \n",
       "Resampling results across tuning parameters:\n",
       "\n",
       "  cp    Accuracy   Kappa      Accuracy SD   Kappa SD  \n",
       "  0.01  0.6189139  0.2227836  0.0223783108  0.04513673\n",
       "  0.02  0.6189139  0.2227836  0.0223783108  0.04513673\n",
       "  0.03  0.6189139  0.2227836  0.0223783108  0.04513673\n",
       "  0.04  0.6189139  0.2227836  0.0223783108  0.04513673\n",
       "  0.05  0.5988608  0.1742822  0.0213379064  0.04835300\n",
       "  0.06  0.5725019  0.1716044  0.0135900049  0.03639464\n",
       "  0.07  0.5711661  0.1755347  0.0151924165  0.02858508\n",
       "  0.08  0.5711661  0.1755347  0.0151924165  0.02858508\n",
       "  0.09  0.5339031  0.0262520  0.0073656726  0.05537397\n",
       "  0.10  0.5304679  0.0000000  0.0007016811  0.00000000\n",
       "  0.11  0.5304679  0.0000000  0.0007016811  0.00000000\n",
       "  0.12  0.5304679  0.0000000  0.0007016811  0.00000000\n",
       "  0.13  0.5304679  0.0000000  0.0007016811  0.00000000\n",
       "  0.14  0.5304679  0.0000000  0.0007016811  0.00000000\n",
       "  0.15  0.5304679  0.0000000  0.0007016811  0.00000000\n",
       "  0.16  0.5304679  0.0000000  0.0007016811  0.00000000\n",
       "  0.17  0.5304679  0.0000000  0.0007016811  0.00000000\n",
       "  0.18  0.5304679  0.0000000  0.0007016811  0.00000000\n",
       "  0.19  0.5304679  0.0000000  0.0007016811  0.00000000\n",
       "  0.20  0.5304679  0.0000000  0.0007016811  0.00000000\n",
       "  0.21  0.5304679  0.0000000  0.0007016811  0.00000000\n",
       "  0.22  0.5304679  0.0000000  0.0007016811  0.00000000\n",
       "  0.23  0.5304679  0.0000000  0.0007016811  0.00000000\n",
       "  0.24  0.5304679  0.0000000  0.0007016811  0.00000000\n",
       "  0.25  0.5304679  0.0000000  0.0007016811  0.00000000\n",
       "  0.26  0.5304679  0.0000000  0.0007016811  0.00000000\n",
       "  0.27  0.5304679  0.0000000  0.0007016811  0.00000000\n",
       "  0.28  0.5304679  0.0000000  0.0007016811  0.00000000\n",
       "  0.29  0.5304679  0.0000000  0.0007016811  0.00000000\n",
       "  0.30  0.5304679  0.0000000  0.0007016811  0.00000000\n",
       "  0.31  0.5304679  0.0000000  0.0007016811  0.00000000\n",
       "  0.32  0.5304679  0.0000000  0.0007016811  0.00000000\n",
       "  0.33  0.5304679  0.0000000  0.0007016811  0.00000000\n",
       "  0.34  0.5304679  0.0000000  0.0007016811  0.00000000\n",
       "  0.35  0.5304679  0.0000000  0.0007016811  0.00000000\n",
       "  0.36  0.5304679  0.0000000  0.0007016811  0.00000000\n",
       "  0.37  0.5304679  0.0000000  0.0007016811  0.00000000\n",
       "  0.38  0.5304679  0.0000000  0.0007016811  0.00000000\n",
       "  0.39  0.5304679  0.0000000  0.0007016811  0.00000000\n",
       "  0.40  0.5304679  0.0000000  0.0007016811  0.00000000\n",
       "  0.41  0.5304679  0.0000000  0.0007016811  0.00000000\n",
       "  0.42  0.5304679  0.0000000  0.0007016811  0.00000000\n",
       "  0.43  0.5304679  0.0000000  0.0007016811  0.00000000\n",
       "  0.44  0.5304679  0.0000000  0.0007016811  0.00000000\n",
       "  0.45  0.5304679  0.0000000  0.0007016811  0.00000000\n",
       "  0.46  0.5304679  0.0000000  0.0007016811  0.00000000\n",
       "  0.47  0.5304679  0.0000000  0.0007016811  0.00000000\n",
       "  0.48  0.5304679  0.0000000  0.0007016811  0.00000000\n",
       "  0.49  0.5304679  0.0000000  0.0007016811  0.00000000\n",
       "  0.50  0.5304679  0.0000000  0.0007016811  0.00000000\n",
       "\n",
       "Accuracy was used to select the optimal model using  the largest value.\n",
       "The final value used for the model was cp = 0.04. "
      ]
     },
     "execution_count": 41,
     "metadata": {},
     "output_type": "execute_result"
    }
   ],
   "source": [
    "train(Party~ . - USER_ID,data = pollTrain, method = \"rpart\", trControl = numFolds, tuneGrid = cpGrid)"
   ]
  },
  {
   "cell_type": "code",
   "execution_count": 43,
   "metadata": {
    "collapsed": false
   },
   "outputs": [],
   "source": [
    "CARTModel2 = rpart(Party~. -USER_ID, data = pollTrain, method = \"class\", cp = 0.04)"
   ]
  },
  {
   "cell_type": "code",
   "execution_count": 44,
   "metadata": {
    "collapsed": true
   },
   "outputs": [],
   "source": [
    "pollTest = read.csv(\"test2016.csv\")"
   ]
  },
  {
   "cell_type": "code",
   "execution_count": 45,
   "metadata": {
    "collapsed": true
   },
   "outputs": [],
   "source": [
    "PredCartTest = predict(CARTModel2, newdata = pollTest, type = \"class\")"
   ]
  },
  {
   "cell_type": "code",
   "execution_count": 46,
   "metadata": {
    "collapsed": false
   },
   "outputs": [
    {
     "data": {
      "text/plain": [
       "PredCartTest\n",
       "  0   1 \n",
       "487 905 "
      ]
     },
     "execution_count": 46,
     "metadata": {},
     "output_type": "execute_result"
    }
   ],
   "source": [
    "table(PredCartTest)"
   ]
  },
  {
   "cell_type": "code",
   "execution_count": 48,
   "metadata": {
    "collapsed": false
   },
   "outputs": [
    {
     "data": {
      "text/plain": [
       "PredTestLabels2\n",
       "  Democrat Republican \n",
       "       905        487 "
      ]
     },
     "execution_count": 48,
     "metadata": {},
     "output_type": "execute_result"
    },
    {
     "ename": "ERROR",
     "evalue": "Error in data.frame(USER_ID = pollTestt$USER_ID, Predictions = PredTestLabels2): object 'pollTestt' not found\n",
     "output_type": "error",
     "traceback": [
      "Error in data.frame(USER_ID = pollTestt$USER_ID, Predictions = PredTestLabels2): object 'pollTestt' not found\n"
     ]
    }
   ],
   "source": [
    "PredTestLabels2 = as.factor(ifelse(PredCartTest==1, \"Democrat\", \"Republican\"))\n",
    "table(PredTestLabels2)\n",
    "\n",
    "# However, you can submit the file on Kaggle to see how well the model performs. You can make up to 5 submissions per day, so don't hesitate to just upload a solution to see how you did.\n",
    "\n",
    "# Let's prepare a submission file for Kaggle (for more about this, see the \"Evaluation\" page on the competition site):\n",
    "\n",
    "\n"
   ]
  },
  {
   "cell_type": "code",
   "execution_count": 49,
   "metadata": {
    "collapsed": true
   },
   "outputs": [],
   "source": [
    "MySubmission = data.frame(USER_ID = pollTest$USER_ID, Predictions = PredTestLabels2)\n",
    "\n",
    "write.csv(MySubmission, \"SubmissionRPART_NO_IMP_CV.csv\", row.names=FALSE)"
   ]
  },
  {
   "cell_type": "code",
   "execution_count": null,
   "metadata": {
    "collapsed": true
   },
   "outputs": [],
   "source": []
  }
 ],
 "metadata": {
  "kernelspec": {
   "display_name": "R",
   "language": "R",
   "name": "ir"
  },
  "language_info": {
   "codemirror_mode": "r",
   "file_extension": ".r",
   "mimetype": "text/x-r-source",
   "name": "R",
   "pygments_lexer": "r",
   "version": "3.2.2"
  }
 },
 "nbformat": 4,
 "nbformat_minor": 0
}
