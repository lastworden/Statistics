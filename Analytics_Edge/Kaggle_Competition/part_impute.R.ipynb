{
 "cells": [
  {
   "cell_type": "code",
   "execution_count": 27,
   "metadata": {
    "collapsed": true
   },
   "outputs": [],
   "source": [
    "main_cols=c(\"USER_ID\",\"YOB\",\"Gender\",\"Income\",\"HouseholdStatus\",\"EducationLevel\",\"Party\")"
   ]
  },
  {
   "cell_type": "code",
   "execution_count": 164,
   "metadata": {
    "collapsed": false
   },
   "outputs": [],
   "source": [
    "TrainImp = read.csv(\"pollTrain_imputed.csv\")"
   ]
  },
  {
   "cell_type": "code",
   "execution_count": 166,
   "metadata": {
    "collapsed": false
   },
   "outputs": [
    {
     "data": {
      "text/plain": [
       "\n",
       "1880 1881 1896 1900 1901 1928 1931 1933 1935 1936 1937 1938 1939 1940 1941 1942 \n",
       "   1    1    1    4    1    2    1    4    2    5    2    8    7   13   15   18 \n",
       "1943 1944 1945 1946 1947 1948 1949 1950 1951 1952 1953 1954 1955 1956 1957 1958 \n",
       "  17   20   20   23   31   40   30   41   37   37   36   30   43   47   43   47 \n",
       "1959 1960 1961 1962 1963 1964 1965 1966 1967 1968 1969 1970 1971 1972 1973 1974 \n",
       "  52   48   54   63   55   62   61   65   69   94   84  117   93  108   86   98 \n",
       "1975 1976 1977 1978 1979 1980 1981 1982 1983 1984 1985 1986 1987 1988 1989 1990 \n",
       "  98  104  110   87  116  136  131  118  110  111  134  124  152  145  119  174 \n",
       "1991 1992 1993 1994 1995 1996 1997 1998 1999 2000 2001 2003 2011 2013 2039 \n",
       " 122  157  172  202  285  276  218  183   97   38    8    1    1    1    2 "
      ]
     },
     "execution_count": 166,
     "metadata": {},
     "output_type": "execute_result"
    }
   ],
   "source": [
    "table(TrainImp$YOB)"
   ]
  },
  {
   "cell_type": "code",
   "execution_count": 178,
   "metadata": {
    "collapsed": false
   },
   "outputs": [
    {
     "data": {
      "text/html": [
       "5568"
      ],
      "text/latex": [
       "5568"
      ],
      "text/markdown": [
       "5568"
      ],
      "text/plain": [
       "[1] 5568"
      ]
     },
     "execution_count": 178,
     "metadata": {},
     "output_type": "execute_result"
    },
    {
     "data": {
      "text/html": [
       "5561"
      ],
      "text/latex": [
       "5561"
      ],
      "text/markdown": [
       "5561"
      ],
      "text/plain": [
       "[1] 5561"
      ]
     },
     "execution_count": 178,
     "metadata": {},
     "output_type": "execute_result"
    }
   ],
   "source": [
    "otrain1 = read.csv(\"train2016.csv\")\n",
    "nrow(otrain1)\n",
    "\n",
    "trlab = subset(otrain1$Party,!otrain1$YOB %in% c(\"2011\",\"2013\",\"2039\",\"1880\",\"1881\",\"1896\"))\n",
    "length(trlab)"
   ]
  },
  {
   "cell_type": "code",
   "execution_count": 29,
   "metadata": {
    "collapsed": false
   },
   "outputs": [
    {
     "data": {
      "text/plain": [
       "\n",
       "   0    1 \n",
       "2617 2951 "
      ]
     },
     "execution_count": 29,
     "metadata": {},
     "output_type": "execute_result"
    }
   ],
   "source": [
    "TrainImp$Party = ifelse(TrainImp$Party==\"Democrat\",1,0)\n",
    "table(TrainImp$Party)"
   ]
  },
  {
   "cell_type": "code",
   "execution_count": 30,
   "metadata": {
    "collapsed": false
   },
   "outputs": [
    {
     "data": {
      "text/plain": [
       "NULL"
      ]
     },
     "execution_count": 30,
     "metadata": {},
     "output_type": "execute_result"
    },
    {
     "name": "stdout",
     "output_type": "stream",
     "text": [
      "YOB cor: -0.01367359 \n",
      "Gender cor: -0.1086779 \n",
      "Income cor: -0.009572352 \n",
      "HouseholdStatus cor: -0.009958228 \n",
      "EducationLevel cor: 0.03703605 \n",
      "Q124742 cor: -0.008830977 \n",
      "Q124122 cor: 0.01242852 \n",
      "Q123464 cor: -0.01076514 \n",
      "Q123621 cor: -0.02126713 \n",
      "Q122769 cor: -0.00353109 \n",
      "Q122770 cor: -0.01845403 \n",
      "Q122771 cor: 0.05248717 \n",
      "Q122120 cor: -0.009991358 \n",
      "Q121699 cor: 0.04793204 \n",
      "Q121700 cor: 0.03235938 \n",
      "Q120978 cor: 0.01267589 \n",
      "Q121011 cor: 0.03004657 \n",
      "Q120379 cor: 0.05930057 \n",
      "Q120650 cor: -0.009312594 \n",
      "Q120472 cor: -0.05475901 \n",
      "Q120194 cor: -0.02854448 \n",
      "Q120012 cor: 0.03511101 \n",
      "Q120014 cor: -0.03205501 \n",
      "Q119334 cor: 0.00373549 \n",
      "Q119851 cor: 0.04069271 \n",
      "Q119650 cor: 0.01673535 \n",
      "Q118892 cor: 0.03792097 \n",
      "Q118117 cor: -0.02412698 \n",
      "Q118232 cor: -0.02633558 \n",
      "Q118233 cor: -0.0123694 \n",
      "Q118237 cor: 0.02351877 \n",
      "Q117186 cor: -0.01388236 \n",
      "Q117193 cor: -0.003145904 \n",
      "Q116797 cor: 0.003528791 \n",
      "Q116881 cor: -0.06630518 \n",
      "Q116953 cor: 0.02124064 \n",
      "Q116601 cor: 0.01601747 \n",
      "Q116441 cor: -0.01068603 \n",
      "Q116448 cor: 0.01724993 \n",
      "Q116197 cor: 0.01561077 \n",
      "Q115602 cor: 0.007302318 \n",
      "Q115777 cor: -0.001140735 \n",
      "Q115610 cor: 0.01373875 \n",
      "Q115611 cor: -0.1611402 \n",
      "Q115899 cor: -0.04678275 \n",
      "Q115390 cor: 0.01846549 \n",
      "Q114961 cor: 0.02939304 \n",
      "Q114748 cor: 0.003023854 \n",
      "Q115195 cor: 0.02486011 \n",
      "Q114517 cor: -0.01533863 \n",
      "Q114386 cor: 0.02274933 \n",
      "Q113992 cor: 0.003199652 \n",
      "Q114152 cor: -0.0323819 \n",
      "Q113583 cor: 0.03303755 \n",
      "Q113584 cor: 0.01491923 \n",
      "Q113181 cor: -0.1419209 \n",
      "Q112478 cor: 0.03397331 \n",
      "Q112512 cor: -0.01360303 \n",
      "Q112270 cor: -0.027386 \n",
      "Q111848 cor: 0.03458336 \n",
      "Q111580 cor: 0.002858395 \n",
      "Q111220 cor: 0.01678688 \n",
      "Q110740 cor: -0.04292869 \n",
      "Q109367 cor: 0.03071209 \n",
      "Q108950 cor: 0.005982108 \n",
      "Q109244 cor: 0.2368061 \n",
      "Q108855 cor: -0.01510728 \n",
      "Q108617 cor: 0.03135686 \n",
      "Q108856 cor: 0.008465805 \n",
      "Q108754 cor: 0.004855676 \n",
      "Q108342 cor: 0.02823669 \n",
      "Q108343 cor: 0.01398434 \n",
      "Q107869 cor: -0.0457128 \n",
      "Q107491 cor: 0.01528221 \n",
      "Q106993 cor: -0.01852179 \n",
      "Q106997 cor: 0.03664004 \n",
      "Q106272 cor: -0.0589841 \n",
      "Q106388 cor: -0.03900598 \n",
      "Q106389 cor: 0.02238273 \n",
      "Q106042 cor: 0.04936947 \n",
      "Q105840 cor: 0.08150745 \n",
      "Q105655 cor: -0.001685814 \n",
      "Q104996 cor: 0.0127704 \n",
      "Q103293 cor: 0.02630626 \n",
      "Q102906 cor: 0.006987396 \n",
      "Q102674 cor: 0.01745492 \n",
      "Q102687 cor: 0.001043483 \n",
      "Q102289 cor: -0.01452887 \n",
      "Q102089 cor: 0.04566249 \n",
      "Q101162 cor: -0.01461036 \n",
      "Q101163 cor: 0.07251152 \n",
      "Q101596 cor: -0.04211756 \n",
      "Q100689 cor: 0.0442595 \n",
      "Q100680 cor: 0.05241449 \n",
      "Q100562 cor: 0.01388967 \n",
      "Q99982 cor: -0.02434136 \n",
      "Q100010 cor: -0.004557837 \n",
      "Q99716 cor: 0.04875259 \n",
      "Q99581 cor: -0.004104003 \n",
      "Q99480 cor: -0.07597523 \n",
      "Q98869 cor: -0.08307943 \n",
      "Q98578 cor: 0.01646904 \n",
      "Q98059 cor: -0.01107271 \n",
      "Q98078 cor: 0.0473669 \n",
      "Q98197 cor: -0.131648 \n",
      "Q96024 cor: -0.03730098 \n"
     ]
    }
   ],
   "source": [
    "t=c()\n",
    "t\n",
    "for (col in setdiff(names(TrainImp),c(\"USER_ID\",\"Party\"))){\n",
    "  #if mean(is.na(pollTrain[,col])\n",
    "    cat(col,\"cor:\",cor(as.numeric(TrainImp[,col]),as.numeric(TrainImp$Party)),\"\\n\")\n",
    "    val = cor(as.numeric(TrainImp[,col]),as.numeric(TrainImp$Party))\n",
    "    t = c(t,c(col=val))\n",
    "    \n",
    "  #print(paste(\"The year is\", year))\n",
    "}\n",
    "names(t) = setdiff(names(TrainImp),c(\"USER_ID\",\"Party\"))"
   ]
  },
  {
   "cell_type": "code",
   "execution_count": 32,
   "metadata": {
    "collapsed": false
   },
   "outputs": [],
   "source": [
    "t1=which(abs(t)>0.09)"
   ]
  },
  {
   "cell_type": "code",
   "execution_count": 33,
   "metadata": {
    "collapsed": false,
    "scrolled": true
   },
   "outputs": [
    {
     "data": {
      "text/html": [
       "<ol class=list-inline>\n",
       "\t<li>'Gender'</li>\n",
       "\t<li>'Q115611'</li>\n",
       "\t<li>'Q113181'</li>\n",
       "\t<li>'Q109244'</li>\n",
       "\t<li>'Q98197'</li>\n",
       "</ol>\n"
      ],
      "text/latex": [
       "\\begin{enumerate*}\n",
       "\\item 'Gender'\n",
       "\\item 'Q115611'\n",
       "\\item 'Q113181'\n",
       "\\item 'Q109244'\n",
       "\\item 'Q98197'\n",
       "\\end{enumerate*}\n"
      ],
      "text/markdown": [
       "1. 'Gender'\n",
       "2. 'Q115611'\n",
       "3. 'Q113181'\n",
       "4. 'Q109244'\n",
       "5. 'Q98197'\n",
       "\n",
       "\n"
      ],
      "text/plain": [
       "[1] \"Gender\"  \"Q115611\" \"Q113181\" \"Q109244\" \"Q98197\" "
      ]
     },
     "execution_count": 33,
     "metadata": {},
     "output_type": "execute_result"
    }
   ],
   "source": [
    "names(t1)"
   ]
  },
  {
   "cell_type": "code",
   "execution_count": 34,
   "metadata": {
    "collapsed": true
   },
   "outputs": [],
   "source": [
    "TrainImp$Party = as.factor(TrainImp$Party)"
   ]
  },
  {
   "cell_type": "code",
   "execution_count": 35,
   "metadata": {
    "collapsed": true
   },
   "outputs": [],
   "source": [
    "library(caTools)\n",
    "split = sample.split(TrainImp$Party, SplitRatio = 0.75)\n",
    "Train = subset(TrainImp, split == TRUE)\n",
    "Test = subset(TrainImp, split == FALSE)"
   ]
  },
  {
   "cell_type": "code",
   "execution_count": 36,
   "metadata": {
    "collapsed": false
   },
   "outputs": [],
   "source": [
    "library(rpart)\n",
    "library(e1071)\n",
    "library(randomForest)"
   ]
  },
  {
   "cell_type": "code",
   "execution_count": 40,
   "metadata": {
    "collapsed": false
   },
   "outputs": [],
   "source": [
    "rfModel1 = randomForest(Party~ Gender+Q115611+Q113181+Q109244+Q98197, data = Train)#, ntree = 1000, sampsize = 300)"
   ]
  },
  {
   "cell_type": "code",
   "execution_count": 41,
   "metadata": {
    "collapsed": false
   },
   "outputs": [],
   "source": [
    "predTrain = predict(rfModel1)"
   ]
  },
  {
   "cell_type": "code",
   "execution_count": 42,
   "metadata": {
    "collapsed": false,
    "scrolled": true
   },
   "outputs": [
    {
     "data": {
      "text/plain": [
       "   predTrain\n",
       "       0    1\n",
       "  0 1144  819\n",
       "  1  771 1442"
      ]
     },
     "execution_count": 42,
     "metadata": {},
     "output_type": "execute_result"
    }
   ],
   "source": [
    "t = table(Train$Party,predTrain)\n",
    "t"
   ]
  },
  {
   "cell_type": "code",
   "execution_count": 43,
   "metadata": {
    "collapsed": false
   },
   "outputs": [
    {
     "data": {
      "text/html": [
       "0.619252873563218"
      ],
      "text/latex": [
       "0.619252873563218"
      ],
      "text/markdown": [
       "0.619252873563218"
      ],
      "text/plain": [
       "[1] 0.6192529"
      ]
     },
     "execution_count": 43,
     "metadata": {},
     "output_type": "execute_result"
    }
   ],
   "source": [
    "sum(diag(t))/sum(t)"
   ]
  },
  {
   "cell_type": "code",
   "execution_count": 44,
   "metadata": {
    "collapsed": false,
    "scrolled": true
   },
   "outputs": [],
   "source": [
    "predTest = predict(rfModel1,newdata = Test)"
   ]
  },
  {
   "cell_type": "code",
   "execution_count": 45,
   "metadata": {
    "collapsed": false
   },
   "outputs": [
    {
     "data": {
      "text/plain": [
       "   predTest\n",
       "      0   1\n",
       "  0 402 252\n",
       "  1 285 453"
      ]
     },
     "execution_count": 45,
     "metadata": {},
     "output_type": "execute_result"
    }
   ],
   "source": [
    "t = table(Test$Party,predTest)\n",
    "t"
   ]
  },
  {
   "cell_type": "code",
   "execution_count": 46,
   "metadata": {
    "collapsed": false
   },
   "outputs": [
    {
     "data": {
      "text/html": [
       "0.614224137931034"
      ],
      "text/latex": [
       "0.614224137931034"
      ],
      "text/markdown": [
       "0.614224137931034"
      ],
      "text/plain": [
       "[1] 0.6142241"
      ]
     },
     "execution_count": 46,
     "metadata": {},
     "output_type": "execute_result"
    }
   ],
   "source": [
    "sum(diag(t))/sum(t)"
   ]
  },
  {
   "cell_type": "markdown",
   "metadata": {},
   "source": [
    " ntree = 100, nodesize = 50, 0.625718390804598"
   ]
  },
  {
   "cell_type": "code",
   "execution_count": 158,
   "metadata": {
    "collapsed": true
   },
   "outputs": [],
   "source": [
    "LogModel = glm(Party~YOB+Gender+HouseholdStatus+EducationLevel+Q98197+Q98078+\n",
    "               Q98869+Q99480+Q100689+Q101163+Q105840+Q107869+Q109244, data = Train, family=binomial)"
   ]
  },
  {
   "cell_type": "code",
   "execution_count": 159,
   "metadata": {
    "collapsed": false
   },
   "outputs": [
    {
     "data": {
      "text/plain": [
       "\n",
       "Call:\n",
       "glm(formula = Party ~ YOB + Gender + HouseholdStatus + EducationLevel + \n",
       "    Q98197 + Q98078 + Q98869 + Q99480 + Q100689 + Q101163 + Q105840 + \n",
       "    Q107869 + Q109244, family = binomial, data = Train)\n",
       "\n",
       "Deviance Residuals: \n",
       "    Min       1Q   Median       3Q      Max  \n",
       "-2.1417  -1.0885   0.6546   1.1089   1.7618  \n",
       "\n",
       "Coefficients:\n",
       "                                           Estimate Std. Error z value Pr(>|z|)\n",
       "(Intercept)                               15.284091   5.997615   2.548 0.010823\n",
       "YOB                                       -0.007455   0.003020  -2.468 0.013570\n",
       "GenderMale                                -0.172025   0.075116  -2.290 0.022015\n",
       "HouseholdStatusDomestic Partners (w/kids) -0.598289   0.342992  -1.744 0.081102\n",
       "HouseholdStatusMarried (no kids)          -0.720701   0.217664  -3.311 0.000929\n",
       "HouseholdStatusMarried (w/kids)           -0.919149   0.207180  -4.436 9.14e-06\n",
       "HouseholdStatusSingle (no kids)           -0.573698   0.202752  -2.830 0.004661\n",
       "HouseholdStatusSingle (w/kids)            -0.317441   0.258742  -1.227 0.219874\n",
       "EducationLevelBachelor's Degree            0.265086   0.128053   2.070 0.038440\n",
       "EducationLevelCurrent K-12                 0.328684   0.153397   2.143 0.032137\n",
       "EducationLevelCurrent Undergraduate        0.359044   0.146178   2.456 0.014041\n",
       "EducationLevelDoctoral Degree              0.204197   0.200259   1.020 0.307888\n",
       "EducationLevelHigh School Diploma          0.335686   0.139320   2.409 0.015976\n",
       "EducationLevelMaster's Degree              0.592587   0.143508   4.129 3.64e-05\n",
       "Q98197Yes                                 -0.411797   0.072426  -5.686 1.30e-08\n",
       "Q98078Yes                                  0.126733   0.066905   1.894 0.058197\n",
       "Q98869Yes                                 -0.094810   0.084246  -1.125 0.260420\n",
       "Q99480Yes                                 -0.232065   0.079396  -2.923 0.003468\n",
       "Q100689Yes                                 0.186495   0.072533   2.571 0.010135\n",
       "Q101163Mom                                 0.099329   0.066809   1.487 0.137080\n",
       "Q105840Yes                                 0.136089   0.072433   1.879 0.060267\n",
       "Q107869Yes                                -0.103400   0.068893  -1.501 0.133387\n",
       "Q109244Yes                                 0.910659   0.079978  11.386  < 2e-16\n",
       "                                             \n",
       "(Intercept)                               *  \n",
       "YOB                                       *  \n",
       "GenderMale                                *  \n",
       "HouseholdStatusDomestic Partners (w/kids) .  \n",
       "HouseholdStatusMarried (no kids)          ***\n",
       "HouseholdStatusMarried (w/kids)           ***\n",
       "HouseholdStatusSingle (no kids)           ** \n",
       "HouseholdStatusSingle (w/kids)               \n",
       "EducationLevelBachelor's Degree           *  \n",
       "EducationLevelCurrent K-12                *  \n",
       "EducationLevelCurrent Undergraduate       *  \n",
       "EducationLevelDoctoral Degree                \n",
       "EducationLevelHigh School Diploma         *  \n",
       "EducationLevelMaster's Degree             ***\n",
       "Q98197Yes                                 ***\n",
       "Q98078Yes                                 .  \n",
       "Q98869Yes                                    \n",
       "Q99480Yes                                 ** \n",
       "Q100689Yes                                *  \n",
       "Q101163Mom                                   \n",
       "Q105840Yes                                .  \n",
       "Q107869Yes                                   \n",
       "Q109244Yes                                ***\n",
       "---\n",
       "Signif. codes:  0 ‘***’ 0.001 ‘**’ 0.01 ‘*’ 0.05 ‘.’ 0.1 ‘ ’ 1\n",
       "\n",
       "(Dispersion parameter for binomial family taken to be 1)\n",
       "\n",
       "    Null deviance: 5774.2  on 4175  degrees of freedom\n",
       "Residual deviance: 5363.6  on 4153  degrees of freedom\n",
       "AIC: 5409.6\n",
       "\n",
       "Number of Fisher Scoring iterations: 4\n"
      ]
     },
     "execution_count": 159,
     "metadata": {},
     "output_type": "execute_result"
    }
   ],
   "source": [
    "summary(LogModel)"
   ]
  },
  {
   "cell_type": "code",
   "execution_count": 160,
   "metadata": {
    "collapsed": true
   },
   "outputs": [],
   "source": [
    "predLogTrain = predict(LogModel,type = \"response\")"
   ]
  },
  {
   "cell_type": "code",
   "execution_count": 161,
   "metadata": {
    "collapsed": false
   },
   "outputs": [
    {
     "data": {
      "text/plain": [
       "   \n",
       "    FALSE TRUE\n",
       "  0  1236  727\n",
       "  1   856 1357"
      ]
     },
     "execution_count": 161,
     "metadata": {},
     "output_type": "execute_result"
    },
    {
     "data": {
      "text/html": [
       "0.620929118773946"
      ],
      "text/latex": [
       "0.620929118773946"
      ],
      "text/markdown": [
       "0.620929118773946"
      ],
      "text/plain": [
       "[1] 0.6209291"
      ]
     },
     "execution_count": 161,
     "metadata": {},
     "output_type": "execute_result"
    }
   ],
   "source": [
    "t = table(Train$Party,predLogTrain>0.5)\n",
    "t\n",
    "sum(diag(t))/sum(t)"
   ]
  },
  {
   "cell_type": "code",
   "execution_count": 162,
   "metadata": {
    "collapsed": false
   },
   "outputs": [
    {
     "data": {
      "text/plain": [
       "   \n",
       "    FALSE TRUE\n",
       "  0   400  254\n",
       "  1   314  424"
      ]
     },
     "execution_count": 162,
     "metadata": {},
     "output_type": "execute_result"
    },
    {
     "data": {
      "text/html": [
       "0.591954022988506"
      ],
      "text/latex": [
       "0.591954022988506"
      ],
      "text/markdown": [
       "0.591954022988506"
      ],
      "text/plain": [
       "[1] 0.591954"
      ]
     },
     "execution_count": 162,
     "metadata": {},
     "output_type": "execute_result"
    }
   ],
   "source": [
    "predLogTest = predict(LogModel,newdata = Test,type=\"response\")\n",
    "t = table(Test$Party,predLogTest>0.5)\n",
    "t\n",
    "sum(diag(t))/sum(t)"
   ]
  },
  {
   "cell_type": "code",
   "execution_count": 163,
   "metadata": {
    "collapsed": true
   },
   "outputs": [],
   "source": [
    "Tree1 = rpart(Party~YOB+Gender+Income+HouseholdStatus+EducationLevel+Q122771+Q121699+\n",
    "              Q120379+Q120472+Q119851+Q116881+Q115611+Q115899+Q113181+Q110740+Q109244+\n",
    "              Q107869+Q106272+Q106042+Q105840+Q102089+Q101163+Q101596+\n",
    "               Q100689+Q100680+Q99716+Q99480+Q98869+Q98078+Q98197, data = Train, method=\"class\")"
   ]
  },
  {
   "cell_type": "code",
   "execution_count": 168,
   "metadata": {
    "collapsed": false
   },
   "outputs": [
    {
     "data": {
      "text/plain": [
       "   predtreeTest\n",
       "      0   1\n",
       "  0 398 256\n",
       "  1 264 474"
      ]
     },
     "execution_count": 168,
     "metadata": {},
     "output_type": "execute_result"
    },
    {
     "data": {
      "text/html": [
       "0.626436781609195"
      ],
      "text/latex": [
       "0.626436781609195"
      ],
      "text/markdown": [
       "0.626436781609195"
      ],
      "text/plain": [
       "[1] 0.6264368"
      ]
     },
     "execution_count": 168,
     "metadata": {},
     "output_type": "execute_result"
    }
   ],
   "source": [
    "predtreeTest = predict(Tree1,newdata = Test, type = \"class\")\n",
    "t = table(Test$Party,predtreeTest)\n",
    "t\n",
    "sum(diag(t))/sum(t)"
   ]
  },
  {
   "cell_type": "code",
   "execution_count": 212,
   "metadata": {
    "collapsed": false
   },
   "outputs": [
    {
     "data": {
      "text/plain": [
       "      .cp         \n",
       " Min.   :0.00100  \n",
       " 1st Qu.:0.00325  \n",
       " Median :0.00550  \n",
       " Mean   :0.00550  \n",
       " 3rd Qu.:0.00775  \n",
       " Max.   :0.01000  "
      ]
     },
     "execution_count": 212,
     "metadata": {},
     "output_type": "execute_result"
    }
   ],
   "source": [
    "library(e1071)\n",
    "library(caret)\n",
    "numFolds = trainControl(method = \"cv\",number = 10)\n",
    "cpGrid = expand.grid(.cp=seq(0.001,0.01,0.001))\n",
    "summary(cpGrid)"
   ]
  },
  {
   "cell_type": "code",
   "execution_count": 213,
   "metadata": {
    "collapsed": false
   },
   "outputs": [
    {
     "data": {
      "text/plain": [
       "CART \n",
       "\n",
       "4176 samples\n",
       " 107 predictors\n",
       "   2 classes: '0', '1' \n",
       "\n",
       "No pre-processing\n",
       "Resampling: Cross-Validated (10 fold) \n",
       "Summary of sample sizes: 3757, 3759, 3758, 3758, 3759, 3759, ... \n",
       "Resampling results across tuning parameters:\n",
       "\n",
       "  cp     Accuracy   Kappa      Accuracy SD  Kappa SD  \n",
       "  0.001  0.5948202  0.1850309  0.02095196   0.04106294\n",
       "  0.002  0.6094324  0.2124329  0.02213074   0.04440824\n",
       "  0.003  0.6075214  0.2078185  0.02142081   0.04383429\n",
       "  0.004  0.6183122  0.2304300  0.02887626   0.05655684\n",
       "  0.005  0.6180764  0.2299932  0.02984652   0.05864051\n",
       "  0.006  0.6183156  0.2297567  0.02939771   0.05795685\n",
       "  0.007  0.6195106  0.2344838  0.02851419   0.05656812\n",
       "  0.008  0.6223860  0.2417913  0.02861469   0.05670796\n",
       "  0.009  0.6223860  0.2417913  0.02861469   0.05670796\n",
       "  0.010  0.6223860  0.2417913  0.02861469   0.05670796\n",
       "\n",
       "Accuracy was used to select the optimal model using  the largest value.\n",
       "The final value used for the model was cp = 0.01. "
      ]
     },
     "execution_count": 213,
     "metadata": {},
     "output_type": "execute_result"
    }
   ],
   "source": [
    "train(Party~ YOB+Gender+Income+HouseholdStatus+EducationLevel+Q122771+Q121699+Q120379+Q120472+Q119851+Q116881+Q115611+Q115899+Q113181+Q110740+Q109244+Q107869+Q106272+Q106042+Q105840+Q102089+Q101163+Q101596+\n",
    "               Q100689+Q100680+Q99716+Q99480+Q98869+Q98078+Q98197,data = Train, method = \"rpart\", trControl = numFolds, tuneGrid = cpGrid)"
   ]
  },
  {
   "cell_type": "code",
   "execution_count": 214,
   "metadata": {
    "collapsed": true
   },
   "outputs": [],
   "source": [
    "TestFinal = read.csv(\"pollTest_imputed.csv\")"
   ]
  },
  {
   "cell_type": "code",
   "execution_count": 217,
   "metadata": {
    "collapsed": false
   },
   "outputs": [
    {
     "data": {
      "text/plain": [
       "PredTreeTestFin\n",
       "  Democrat Republican \n",
       "       726        666 "
      ]
     },
     "execution_count": 217,
     "metadata": {},
     "output_type": "execute_result"
    },
    {
     "name": "stdout",
     "output_type": "stream",
     "text": [
      "'data.frame':\t1392 obs. of  2 variables:\n",
      " $ USER_ID    : int  2 3 6 7 14 28 29 37 44 56 ...\n",
      " $ Predictions: Factor w/ 2 levels \"Democrat\",\"Republican\": 1 2 2 1 1 2 1 2 1 1 ...\n"
     ]
    }
   ],
   "source": [
    "PredTreeTestFin = predict(Tree1,newdata = TestFinal,type = \"class\")\n",
    "PredTreeTestFin = as.factor(ifelse(PredTreeTestFin==1, \"Democrat\", \"Republican\"))\n",
    "table(PredTreeTestFin)\n",
    "MySubmission = data.frame(USER_ID = TestFinal$USER_ID, Predictions = PredTreeTestFin)\n",
    "str(MySubmission)\n",
    "write.csv(MySubmission, \"SubmissionRPART_IMP_FE_01.csv\", row.names=FALSE)"
   ]
  },
  {
   "cell_type": "code",
   "execution_count": 382,
   "metadata": {
    "collapsed": false
   },
   "outputs": [],
   "source": [
    "Train2 = Train[,c(\"YOB\",\"Gender\",\"Income\",\"HouseholdStatus\",\"EducationLevel\")]\n",
    "Test2 = Test[,c(\"YOB\",\"Gender\",\"Income\",\"HouseholdStatus\",\"EducationLevel\")]"
   ]
  },
  {
   "cell_type": "code",
   "execution_count": 383,
   "metadata": {
    "collapsed": false
   },
   "outputs": [
    {
     "data": {
      "text/html": [],
      "text/latex": [],
      "text/markdown": [],
      "text/plain": [
       "character(0)"
      ]
     },
     "execution_count": 383,
     "metadata": {},
     "output_type": "execute_result"
    }
   ],
   "source": [
    "setdiff(names(Train2),names(Test2))"
   ]
  },
  {
   "cell_type": "code",
   "execution_count": 384,
   "metadata": {
    "collapsed": true
   },
   "outputs": [],
   "source": [
    "for (col in setdiff(names(Train2),c(\"Party\"))){\n",
    "  #if mean(is.na(pollTrain[,col])\n",
    "    Train2[,col] = as.numeric(Train2[,col])\n",
    "    Test2[,col] = as.numeric(Test2[,col])\n",
    "\n",
    "\n",
    "    \n",
    "  #print(paste(\"The year is\", year))\n",
    "}"
   ]
  },
  {
   "cell_type": "code",
   "execution_count": 385,
   "metadata": {
    "collapsed": false
   },
   "outputs": [
    {
     "name": "stdout",
     "output_type": "stream",
     "text": [
      "'data.frame':\t4176 obs. of  5 variables:\n",
      " $ YOB            : num  1983 1984 1997 1983 1996 ...\n",
      " $ Gender         : num  2 1 1 2 2 2 2 2 2 2 ...\n",
      " $ Income         : num  1 3 5 2 4 6 5 4 4 5 ...\n",
      " $ HouseholdStatus: num  4 4 5 3 5 5 3 5 4 4 ...\n",
      " $ EducationLevel : num  2 6 3 4 3 3 2 3 2 2 ...\n"
     ]
    }
   ],
   "source": [
    "str(Train2)"
   ]
  },
  {
   "cell_type": "code",
   "execution_count": 386,
   "metadata": {
    "collapsed": false
   },
   "outputs": [],
   "source": [
    "\n",
    "preproc = preProcess(Train2)"
   ]
  },
  {
   "cell_type": "code",
   "execution_count": 421,
   "metadata": {
    "collapsed": true
   },
   "outputs": [],
   "source": [
    "normTrain = predict(preproc, Train2)\n",
    "normTest = predict(preproc, Test2)"
   ]
  },
  {
   "cell_type": "code",
   "execution_count": 422,
   "metadata": {
    "collapsed": false
   },
   "outputs": [
    {
     "name": "stdout",
     "output_type": "stream",
     "text": [
      "'data.frame':\t1392 obs. of  5 variables:\n",
      " $ YOB            : num  -2.7163 -0.6308 1.1288 0.0861 -0.1746 ...\n",
      " $ Gender         : num  0.809 -1.237 0.809 -1.237 -1.237 ...\n",
      " $ Income         : num  0.275 0.858 0.275 -0.308 -1.475 ...\n",
      " $ HouseholdStatus: num  -0.291 -2.227 0.677 -0.291 -3.195 ...\n",
      " $ EducationLevel : num  -0.908 -0.908 1.136 -0.908 -0.908 ...\n"
     ]
    }
   ],
   "source": [
    "str(normTest)"
   ]
  },
  {
   "cell_type": "code",
   "execution_count": 423,
   "metadata": {
    "collapsed": true
   },
   "outputs": [],
   "source": [
    "km = kmeans(normTrain, centers = 2)"
   ]
  },
  {
   "cell_type": "code",
   "execution_count": 424,
   "metadata": {
    "collapsed": false
   },
   "outputs": [
    {
     "data": {
      "text/plain": [
       "\n",
       "   1    2 \n",
       "2222 1954 "
      ]
     },
     "execution_count": 424,
     "metadata": {},
     "output_type": "execute_result"
    }
   ],
   "source": [
    "table(km$cluster)"
   ]
  },
  {
   "cell_type": "code",
   "execution_count": 425,
   "metadata": {
    "collapsed": false
   },
   "outputs": [],
   "source": [
    "library(flexclust)"
   ]
  },
  {
   "cell_type": "code",
   "execution_count": 426,
   "metadata": {
    "collapsed": false
   },
   "outputs": [],
   "source": [
    "km.kcca = as.kcca(km,normTrain)"
   ]
  },
  {
   "cell_type": "code",
   "execution_count": 427,
   "metadata": {
    "collapsed": true
   },
   "outputs": [],
   "source": [
    "clusterTrain = predict(km.kcca)\n",
    "clusterTest = predict(km.kcca, newdata = normTest)"
   ]
  },
  {
   "cell_type": "code",
   "execution_count": 428,
   "metadata": {
    "collapsed": false
   },
   "outputs": [
    {
     "data": {
      "text/plain": [
       "clusterTest\n",
       "  1   2 \n",
       "755 637 "
      ]
     },
     "execution_count": 428,
     "metadata": {},
     "output_type": "execute_result"
    }
   ],
   "source": [
    "table(clusterTest)"
   ]
  },
  {
   "cell_type": "code",
   "execution_count": 429,
   "metadata": {
    "collapsed": false
   },
   "outputs": [
    {
     "data": {
      "text/html": [
       "1392"
      ],
      "text/latex": [
       "1392"
      ],
      "text/markdown": [
       "1392"
      ],
      "text/plain": [
       "[1] 1392"
      ]
     },
     "execution_count": 429,
     "metadata": {},
     "output_type": "execute_result"
    }
   ],
   "source": [
    "length(clusterTest)"
   ]
  },
  {
   "cell_type": "code",
   "execution_count": 430,
   "metadata": {
    "collapsed": false
   },
   "outputs": [
    {
     "data": {
      "text/html": [
       "4176"
      ],
      "text/latex": [
       "4176"
      ],
      "text/markdown": [
       "4176"
      ],
      "text/plain": [
       "[1] 4176"
      ]
     },
     "execution_count": 430,
     "metadata": {},
     "output_type": "execute_result"
    }
   ],
   "source": [
    "length(clusterTrain)"
   ]
  },
  {
   "cell_type": "code",
   "execution_count": 602,
   "metadata": {
    "collapsed": true
   },
   "outputs": [],
   "source": [
    "cTrain1 = subset(Train, clusterTrain == 1)\n",
    "cTrain2 = subset(Train, clusterTrain == 2)\n"
   ]
  },
  {
   "cell_type": "code",
   "execution_count": 432,
   "metadata": {
    "collapsed": false
   },
   "outputs": [
    {
     "data": {
      "text/html": [
       "<ol class=list-inline>\n",
       "\t<li>'USER_ID'</li>\n",
       "\t<li>'YOB'</li>\n",
       "\t<li>'Gender'</li>\n",
       "\t<li>'Income'</li>\n",
       "\t<li>'HouseholdStatus'</li>\n",
       "\t<li>'EducationLevel'</li>\n",
       "\t<li>'Party'</li>\n",
       "\t<li>'Q124742'</li>\n",
       "\t<li>'Q124122'</li>\n",
       "\t<li>'Q123464'</li>\n",
       "\t<li>'Q123621'</li>\n",
       "\t<li>'Q122769'</li>\n",
       "\t<li>'Q122770'</li>\n",
       "\t<li>'Q122771'</li>\n",
       "\t<li>'Q122120'</li>\n",
       "\t<li>'Q121699'</li>\n",
       "\t<li>'Q121700'</li>\n",
       "\t<li>'Q120978'</li>\n",
       "\t<li>'Q121011'</li>\n",
       "\t<li>'Q120379'</li>\n",
       "\t<li>'Q120650'</li>\n",
       "\t<li>'Q120472'</li>\n",
       "\t<li>'Q120194'</li>\n",
       "\t<li>'Q120012'</li>\n",
       "\t<li>'Q120014'</li>\n",
       "\t<li>'Q119334'</li>\n",
       "\t<li>'Q119851'</li>\n",
       "\t<li>'Q119650'</li>\n",
       "\t<li>'Q118892'</li>\n",
       "\t<li>'Q118117'</li>\n",
       "\t<li>'Q118232'</li>\n",
       "\t<li>'Q118233'</li>\n",
       "\t<li>'Q118237'</li>\n",
       "\t<li>'Q117186'</li>\n",
       "\t<li>'Q117193'</li>\n",
       "\t<li>'Q116797'</li>\n",
       "\t<li>'Q116881'</li>\n",
       "\t<li>'Q116953'</li>\n",
       "\t<li>'Q116601'</li>\n",
       "\t<li>'Q116441'</li>\n",
       "\t<li>'Q116448'</li>\n",
       "\t<li>'Q116197'</li>\n",
       "\t<li>'Q115602'</li>\n",
       "\t<li>'Q115777'</li>\n",
       "\t<li>'Q115610'</li>\n",
       "\t<li>'Q115611'</li>\n",
       "\t<li>'Q115899'</li>\n",
       "\t<li>'Q115390'</li>\n",
       "\t<li>'Q114961'</li>\n",
       "\t<li>'Q114748'</li>\n",
       "\t<li>'Q115195'</li>\n",
       "\t<li>'Q114517'</li>\n",
       "\t<li>'Q114386'</li>\n",
       "\t<li>'Q113992'</li>\n",
       "\t<li>'Q114152'</li>\n",
       "\t<li>'Q113583'</li>\n",
       "\t<li>'Q113584'</li>\n",
       "\t<li>'Q113181'</li>\n",
       "\t<li>'Q112478'</li>\n",
       "\t<li>'Q112512'</li>\n",
       "\t<li>'Q112270'</li>\n",
       "\t<li>'Q111848'</li>\n",
       "\t<li>'Q111580'</li>\n",
       "\t<li>'Q111220'</li>\n",
       "\t<li>'Q110740'</li>\n",
       "\t<li>'Q109367'</li>\n",
       "\t<li>'Q108950'</li>\n",
       "\t<li>'Q109244'</li>\n",
       "\t<li>'Q108855'</li>\n",
       "\t<li>'Q108617'</li>\n",
       "\t<li>'Q108856'</li>\n",
       "\t<li>'Q108754'</li>\n",
       "\t<li>'Q108342'</li>\n",
       "\t<li>'Q108343'</li>\n",
       "\t<li>'Q107869'</li>\n",
       "\t<li>'Q107491'</li>\n",
       "\t<li>'Q106993'</li>\n",
       "\t<li>'Q106997'</li>\n",
       "\t<li>'Q106272'</li>\n",
       "\t<li>'Q106388'</li>\n",
       "\t<li>'Q106389'</li>\n",
       "\t<li>'Q106042'</li>\n",
       "\t<li>'Q105840'</li>\n",
       "\t<li>'Q105655'</li>\n",
       "\t<li>'Q104996'</li>\n",
       "\t<li>'Q103293'</li>\n",
       "\t<li>'Q102906'</li>\n",
       "\t<li>'Q102674'</li>\n",
       "\t<li>'Q102687'</li>\n",
       "\t<li>'Q102289'</li>\n",
       "\t<li>'Q102089'</li>\n",
       "\t<li>'Q101162'</li>\n",
       "\t<li>'Q101163'</li>\n",
       "\t<li>'Q101596'</li>\n",
       "\t<li>'Q100689'</li>\n",
       "\t<li>'Q100680'</li>\n",
       "\t<li>'Q100562'</li>\n",
       "\t<li>'Q99982'</li>\n",
       "\t<li>'Q100010'</li>\n",
       "\t<li>'Q99716'</li>\n",
       "\t<li>'Q99581'</li>\n",
       "\t<li>'Q99480'</li>\n",
       "\t<li>'Q98869'</li>\n",
       "\t<li>'Q98578'</li>\n",
       "\t<li>'Q98059'</li>\n",
       "\t<li>'Q98078'</li>\n",
       "\t<li>'Q98197'</li>\n",
       "\t<li>'Q96024'</li>\n",
       "</ol>\n"
      ],
      "text/latex": [
       "\\begin{enumerate*}\n",
       "\\item 'USER_ID'\n",
       "\\item 'YOB'\n",
       "\\item 'Gender'\n",
       "\\item 'Income'\n",
       "\\item 'HouseholdStatus'\n",
       "\\item 'EducationLevel'\n",
       "\\item 'Party'\n",
       "\\item 'Q124742'\n",
       "\\item 'Q124122'\n",
       "\\item 'Q123464'\n",
       "\\item 'Q123621'\n",
       "\\item 'Q122769'\n",
       "\\item 'Q122770'\n",
       "\\item 'Q122771'\n",
       "\\item 'Q122120'\n",
       "\\item 'Q121699'\n",
       "\\item 'Q121700'\n",
       "\\item 'Q120978'\n",
       "\\item 'Q121011'\n",
       "\\item 'Q120379'\n",
       "\\item 'Q120650'\n",
       "\\item 'Q120472'\n",
       "\\item 'Q120194'\n",
       "\\item 'Q120012'\n",
       "\\item 'Q120014'\n",
       "\\item 'Q119334'\n",
       "\\item 'Q119851'\n",
       "\\item 'Q119650'\n",
       "\\item 'Q118892'\n",
       "\\item 'Q118117'\n",
       "\\item 'Q118232'\n",
       "\\item 'Q118233'\n",
       "\\item 'Q118237'\n",
       "\\item 'Q117186'\n",
       "\\item 'Q117193'\n",
       "\\item 'Q116797'\n",
       "\\item 'Q116881'\n",
       "\\item 'Q116953'\n",
       "\\item 'Q116601'\n",
       "\\item 'Q116441'\n",
       "\\item 'Q116448'\n",
       "\\item 'Q116197'\n",
       "\\item 'Q115602'\n",
       "\\item 'Q115777'\n",
       "\\item 'Q115610'\n",
       "\\item 'Q115611'\n",
       "\\item 'Q115899'\n",
       "\\item 'Q115390'\n",
       "\\item 'Q114961'\n",
       "\\item 'Q114748'\n",
       "\\item 'Q115195'\n",
       "\\item 'Q114517'\n",
       "\\item 'Q114386'\n",
       "\\item 'Q113992'\n",
       "\\item 'Q114152'\n",
       "\\item 'Q113583'\n",
       "\\item 'Q113584'\n",
       "\\item 'Q113181'\n",
       "\\item 'Q112478'\n",
       "\\item 'Q112512'\n",
       "\\item 'Q112270'\n",
       "\\item 'Q111848'\n",
       "\\item 'Q111580'\n",
       "\\item 'Q111220'\n",
       "\\item 'Q110740'\n",
       "\\item 'Q109367'\n",
       "\\item 'Q108950'\n",
       "\\item 'Q109244'\n",
       "\\item 'Q108855'\n",
       "\\item 'Q108617'\n",
       "\\item 'Q108856'\n",
       "\\item 'Q108754'\n",
       "\\item 'Q108342'\n",
       "\\item 'Q108343'\n",
       "\\item 'Q107869'\n",
       "\\item 'Q107491'\n",
       "\\item 'Q106993'\n",
       "\\item 'Q106997'\n",
       "\\item 'Q106272'\n",
       "\\item 'Q106388'\n",
       "\\item 'Q106389'\n",
       "\\item 'Q106042'\n",
       "\\item 'Q105840'\n",
       "\\item 'Q105655'\n",
       "\\item 'Q104996'\n",
       "\\item 'Q103293'\n",
       "\\item 'Q102906'\n",
       "\\item 'Q102674'\n",
       "\\item 'Q102687'\n",
       "\\item 'Q102289'\n",
       "\\item 'Q102089'\n",
       "\\item 'Q101162'\n",
       "\\item 'Q101163'\n",
       "\\item 'Q101596'\n",
       "\\item 'Q100689'\n",
       "\\item 'Q100680'\n",
       "\\item 'Q100562'\n",
       "\\item 'Q99982'\n",
       "\\item 'Q100010'\n",
       "\\item 'Q99716'\n",
       "\\item 'Q99581'\n",
       "\\item 'Q99480'\n",
       "\\item 'Q98869'\n",
       "\\item 'Q98578'\n",
       "\\item 'Q98059'\n",
       "\\item 'Q98078'\n",
       "\\item 'Q98197'\n",
       "\\item 'Q96024'\n",
       "\\end{enumerate*}\n"
      ],
      "text/markdown": [
       "1. 'USER_ID'\n",
       "2. 'YOB'\n",
       "3. 'Gender'\n",
       "4. 'Income'\n",
       "5. 'HouseholdStatus'\n",
       "6. 'EducationLevel'\n",
       "7. 'Party'\n",
       "8. 'Q124742'\n",
       "9. 'Q124122'\n",
       "10. 'Q123464'\n",
       "11. 'Q123621'\n",
       "12. 'Q122769'\n",
       "13. 'Q122770'\n",
       "14. 'Q122771'\n",
       "15. 'Q122120'\n",
       "16. 'Q121699'\n",
       "17. 'Q121700'\n",
       "18. 'Q120978'\n",
       "19. 'Q121011'\n",
       "20. 'Q120379'\n",
       "21. 'Q120650'\n",
       "22. 'Q120472'\n",
       "23. 'Q120194'\n",
       "24. 'Q120012'\n",
       "25. 'Q120014'\n",
       "26. 'Q119334'\n",
       "27. 'Q119851'\n",
       "28. 'Q119650'\n",
       "29. 'Q118892'\n",
       "30. 'Q118117'\n",
       "31. 'Q118232'\n",
       "32. 'Q118233'\n",
       "33. 'Q118237'\n",
       "34. 'Q117186'\n",
       "35. 'Q117193'\n",
       "36. 'Q116797'\n",
       "37. 'Q116881'\n",
       "38. 'Q116953'\n",
       "39. 'Q116601'\n",
       "40. 'Q116441'\n",
       "41. 'Q116448'\n",
       "42. 'Q116197'\n",
       "43. 'Q115602'\n",
       "44. 'Q115777'\n",
       "45. 'Q115610'\n",
       "46. 'Q115611'\n",
       "47. 'Q115899'\n",
       "48. 'Q115390'\n",
       "49. 'Q114961'\n",
       "50. 'Q114748'\n",
       "51. 'Q115195'\n",
       "52. 'Q114517'\n",
       "53. 'Q114386'\n",
       "54. 'Q113992'\n",
       "55. 'Q114152'\n",
       "56. 'Q113583'\n",
       "57. 'Q113584'\n",
       "58. 'Q113181'\n",
       "59. 'Q112478'\n",
       "60. 'Q112512'\n",
       "61. 'Q112270'\n",
       "62. 'Q111848'\n",
       "63. 'Q111580'\n",
       "64. 'Q111220'\n",
       "65. 'Q110740'\n",
       "66. 'Q109367'\n",
       "67. 'Q108950'\n",
       "68. 'Q109244'\n",
       "69. 'Q108855'\n",
       "70. 'Q108617'\n",
       "71. 'Q108856'\n",
       "72. 'Q108754'\n",
       "73. 'Q108342'\n",
       "74. 'Q108343'\n",
       "75. 'Q107869'\n",
       "76. 'Q107491'\n",
       "77. 'Q106993'\n",
       "78. 'Q106997'\n",
       "79. 'Q106272'\n",
       "80. 'Q106388'\n",
       "81. 'Q106389'\n",
       "82. 'Q106042'\n",
       "83. 'Q105840'\n",
       "84. 'Q105655'\n",
       "85. 'Q104996'\n",
       "86. 'Q103293'\n",
       "87. 'Q102906'\n",
       "88. 'Q102674'\n",
       "89. 'Q102687'\n",
       "90. 'Q102289'\n",
       "91. 'Q102089'\n",
       "92. 'Q101162'\n",
       "93. 'Q101163'\n",
       "94. 'Q101596'\n",
       "95. 'Q100689'\n",
       "96. 'Q100680'\n",
       "97. 'Q100562'\n",
       "98. 'Q99982'\n",
       "99. 'Q100010'\n",
       "100. 'Q99716'\n",
       "101. 'Q99581'\n",
       "102. 'Q99480'\n",
       "103. 'Q98869'\n",
       "104. 'Q98578'\n",
       "105. 'Q98059'\n",
       "106. 'Q98078'\n",
       "107. 'Q98197'\n",
       "108. 'Q96024'\n",
       "\n",
       "\n"
      ],
      "text/plain": [
       "  [1] \"USER_ID\"         \"YOB\"             \"Gender\"          \"Income\"         \n",
       "  [5] \"HouseholdStatus\" \"EducationLevel\"  \"Party\"           \"Q124742\"        \n",
       "  [9] \"Q124122\"         \"Q123464\"         \"Q123621\"         \"Q122769\"        \n",
       " [13] \"Q122770\"         \"Q122771\"         \"Q122120\"         \"Q121699\"        \n",
       " [17] \"Q121700\"         \"Q120978\"         \"Q121011\"         \"Q120379\"        \n",
       " [21] \"Q120650\"         \"Q120472\"         \"Q120194\"         \"Q120012\"        \n",
       " [25] \"Q120014\"         \"Q119334\"         \"Q119851\"         \"Q119650\"        \n",
       " [29] \"Q118892\"         \"Q118117\"         \"Q118232\"         \"Q118233\"        \n",
       " [33] \"Q118237\"         \"Q117186\"         \"Q117193\"         \"Q116797\"        \n",
       " [37] \"Q116881\"         \"Q116953\"         \"Q116601\"         \"Q116441\"        \n",
       " [41] \"Q116448\"         \"Q116197\"         \"Q115602\"         \"Q115777\"        \n",
       " [45] \"Q115610\"         \"Q115611\"         \"Q115899\"         \"Q115390\"        \n",
       " [49] \"Q114961\"         \"Q114748\"         \"Q115195\"         \"Q114517\"        \n",
       " [53] \"Q114386\"         \"Q113992\"         \"Q114152\"         \"Q113583\"        \n",
       " [57] \"Q113584\"         \"Q113181\"         \"Q112478\"         \"Q112512\"        \n",
       " [61] \"Q112270\"         \"Q111848\"         \"Q111580\"         \"Q111220\"        \n",
       " [65] \"Q110740\"         \"Q109367\"         \"Q108950\"         \"Q109244\"        \n",
       " [69] \"Q108855\"         \"Q108617\"         \"Q108856\"         \"Q108754\"        \n",
       " [73] \"Q108342\"         \"Q108343\"         \"Q107869\"         \"Q107491\"        \n",
       " [77] \"Q106993\"         \"Q106997\"         \"Q106272\"         \"Q106388\"        \n",
       " [81] \"Q106389\"         \"Q106042\"         \"Q105840\"         \"Q105655\"        \n",
       " [85] \"Q104996\"         \"Q103293\"         \"Q102906\"         \"Q102674\"        \n",
       " [89] \"Q102687\"         \"Q102289\"         \"Q102089\"         \"Q101162\"        \n",
       " [93] \"Q101163\"         \"Q101596\"         \"Q100689\"         \"Q100680\"        \n",
       " [97] \"Q100562\"         \"Q99982\"          \"Q100010\"         \"Q99716\"         \n",
       "[101] \"Q99581\"          \"Q99480\"          \"Q98869\"          \"Q98578\"         \n",
       "[105] \"Q98059\"          \"Q98078\"          \"Q98197\"          \"Q96024\"         "
      ]
     },
     "execution_count": 432,
     "metadata": {},
     "output_type": "execute_result"
    }
   ],
   "source": [
    "names(cTrain1)"
   ]
  },
  {
   "cell_type": "code",
   "execution_count": 593,
   "metadata": {
    "collapsed": true
   },
   "outputs": [],
   "source": [
    "cTest1 = subset(Test, clusterTest == 1)\n",
    "cTest2 = subset(Test, clusterTest == 2)"
   ]
  },
  {
   "cell_type": "code",
   "execution_count": 549,
   "metadata": {
    "collapsed": false
   },
   "outputs": [],
   "source": [
    "cTree1 = rpart(Party~YOB+Gender+Income+HouseholdStatus+EducationLevel+Q122771+Q121699+Q120379+Q120472+Q119851+Q116881+Q115611+Q115899+Q113181+Q110740+Q109244+Q107869+Q106272+Q106042+Q105840+Q102089+Q101163+Q101596+\n",
    "               Q100689+Q100680+Q99716+Q99480+Q98869+Q98078+Q98197, data=cTrain1, method = \"class\",cp=0.006)"
   ]
  },
  {
   "cell_type": "code",
   "execution_count": 550,
   "metadata": {
    "collapsed": false
   },
   "outputs": [
    {
     "data": {
      "text/plain": [
       "   \n",
       "      0   1\n",
       "  0 662 369\n",
       "  1 448 743"
      ]
     },
     "execution_count": 550,
     "metadata": {},
     "output_type": "execute_result"
    },
    {
     "data": {
      "text/html": [
       "0.632313231323132"
      ],
      "text/latex": [
       "0.632313231323132"
      ],
      "text/markdown": [
       "0.632313231323132"
      ],
      "text/plain": [
       "[1] 0.6323132"
      ]
     },
     "execution_count": 550,
     "metadata": {},
     "output_type": "execute_result"
    }
   ],
   "source": [
    "t= table(cTrain1$Party,predict(cTree1,type=\"class\"))\n",
    "t\n",
    "sum(diag(t))/sum(t)"
   ]
  },
  {
   "cell_type": "code",
   "execution_count": 551,
   "metadata": {
    "collapsed": false
   },
   "outputs": [
    {
     "data": {
      "text/plain": [
       "   \n",
       "      0   1\n",
       "  0 223 134\n",
       "  1 155 243"
      ]
     },
     "execution_count": 551,
     "metadata": {},
     "output_type": "execute_result"
    },
    {
     "data": {
      "text/html": [
       "0.617218543046358"
      ],
      "text/latex": [
       "0.617218543046358"
      ],
      "text/markdown": [
       "0.617218543046358"
      ],
      "text/plain": [
       "[1] 0.6172185"
      ]
     },
     "execution_count": 551,
     "metadata": {},
     "output_type": "execute_result"
    }
   ],
   "source": [
    "t= table(cTest1$Party,predict(cTree1,newdata = cTest1,type=\"class\"))\n",
    "t\n",
    "sum(diag(t))/sum(t)"
   ]
  },
  {
   "cell_type": "code",
   "execution_count": 567,
   "metadata": {
    "collapsed": false
   },
   "outputs": [],
   "source": [
    "cTree2 = rpart(Party~YOB+Gender+Income+HouseholdStatus+EducationLevel+Q122771+Q121699+Q120379+Q120472+Q119851+Q116881+Q115611+Q115899+Q113181+Q110740+Q109244+Q107869+Q106272+Q106042+Q105840+Q102089+Q101163+Q101596+\n",
    "               Q100689+Q100680+Q99716+Q99480+Q98869+Q98078+Q98197, data=cTrain2, method = \"class\")"
   ]
  },
  {
   "cell_type": "code",
   "execution_count": 568,
   "metadata": {
    "collapsed": false
   },
   "outputs": [
    {
     "data": {
      "text/plain": [
       "   \n",
       "      0   1\n",
       "  0 617 315\n",
       "  1 390 632"
      ]
     },
     "execution_count": 568,
     "metadata": {},
     "output_type": "execute_result"
    },
    {
     "data": {
      "text/html": [
       "0.639201637666326"
      ],
      "text/latex": [
       "0.639201637666326"
      ],
      "text/markdown": [
       "0.639201637666326"
      ],
      "text/plain": [
       "[1] 0.6392016"
      ]
     },
     "execution_count": 568,
     "metadata": {},
     "output_type": "execute_result"
    }
   ],
   "source": [
    "t= table(cTrain2$Party,predict(cTree2,type=\"class\"))\n",
    "t\n",
    "sum(diag(t))/sum(t)"
   ]
  },
  {
   "cell_type": "code",
   "execution_count": 569,
   "metadata": {
    "collapsed": false
   },
   "outputs": [
    {
     "data": {
      "text/plain": [
       "   \n",
       "      0   1\n",
       "  0 192 105\n",
       "  1 132 208"
      ]
     },
     "execution_count": 569,
     "metadata": {},
     "output_type": "execute_result"
    },
    {
     "data": {
      "text/html": [
       "0.627943485086342"
      ],
      "text/latex": [
       "0.627943485086342"
      ],
      "text/markdown": [
       "0.627943485086342"
      ],
      "text/plain": [
       "[1] 0.6279435"
      ]
     },
     "execution_count": 569,
     "metadata": {},
     "output_type": "execute_result"
    }
   ],
   "source": [
    "t= table(cTest2$Party,predict(cTree2,newdata = cTest2,type=\"class\"))\n",
    "t\n",
    "sum(diag(t))/sum(t)"
   ]
  },
  {
   "cell_type": "code",
   "execution_count": 502,
   "metadata": {
    "collapsed": true
   },
   "outputs": [],
   "source": [
    "cLog1 = glm(Party~YOB+Gender+Income+HouseholdStatus+EducationLevel+Q122771+Q121699+Q120379+Q120472+Q119851+Q116881+Q115611+Q115899+Q113181+Q110740+Q109244+Q107869+Q106272+Q106042+Q105840+Q102089+Q101163+Q101596+\n",
    "               Q100689+Q100680+Q99716+Q99480+Q98869+Q98078+Q98197, data=cTrain1, family=binomial)"
   ]
  },
  {
   "cell_type": "code",
   "execution_count": 503,
   "metadata": {
    "collapsed": false
   },
   "outputs": [
    {
     "data": {
      "text/plain": [
       "   \n",
       "    FALSE TRUE\n",
       "  0   549  482\n",
       "  1   357  834"
      ]
     },
     "execution_count": 503,
     "metadata": {},
     "output_type": "execute_result"
    },
    {
     "data": {
      "text/html": [
       "0.622412241224122"
      ],
      "text/latex": [
       "0.622412241224122"
      ],
      "text/markdown": [
       "0.622412241224122"
      ],
      "text/plain": [
       "[1] 0.6224122"
      ]
     },
     "execution_count": 503,
     "metadata": {},
     "output_type": "execute_result"
    }
   ],
   "source": [
    "t= table(cTrain1$Party,predict(cLog1,type=\"response\")>0.5)\n",
    "t\n",
    "sum(diag(t))/sum(t)"
   ]
  },
  {
   "cell_type": "code",
   "execution_count": 504,
   "metadata": {
    "collapsed": false
   },
   "outputs": [
    {
     "data": {
      "text/plain": [
       "   \n",
       "    FALSE TRUE\n",
       "  0   198  159\n",
       "  1   134  264"
      ]
     },
     "execution_count": 504,
     "metadata": {},
     "output_type": "execute_result"
    },
    {
     "data": {
      "text/html": [
       "0.611920529801324"
      ],
      "text/latex": [
       "0.611920529801324"
      ],
      "text/markdown": [
       "0.611920529801324"
      ],
      "text/plain": [
       "[1] 0.6119205"
      ]
     },
     "execution_count": 504,
     "metadata": {},
     "output_type": "execute_result"
    }
   ],
   "source": [
    "t= table(cTest1$Party,predict(cLog1,newdata = cTest1,type=\"response\")>0.5)\n",
    "t\n",
    "sum(diag(t))/sum(t)"
   ]
  },
  {
   "cell_type": "code",
   "execution_count": 570,
   "metadata": {
    "collapsed": true
   },
   "outputs": [],
   "source": [
    "cLog2 = glm(Party~YOB+Gender+Income+HouseholdStatus+EducationLevel+Q122771+Q121699+Q120379+Q120472+Q119851+Q116881+Q115611+Q115899+Q113181+Q110740+Q109244+Q107869+Q106272+Q106042+Q105840+Q102089+Q101163+Q101596+\n",
    "               Q100689+Q100680+Q99716+Q99480+Q98869+Q98078+Q98197, data=cTrain2, family=binomial)"
   ]
  },
  {
   "cell_type": "code",
   "execution_count": 571,
   "metadata": {
    "collapsed": false
   },
   "outputs": [
    {
     "data": {
      "text/plain": [
       "   \n",
       "    FALSE TRUE\n",
       "  0   609  323\n",
       "  1   369  653"
      ]
     },
     "execution_count": 571,
     "metadata": {},
     "output_type": "execute_result"
    },
    {
     "data": {
      "text/html": [
       "0.645854657113613"
      ],
      "text/latex": [
       "0.645854657113613"
      ],
      "text/markdown": [
       "0.645854657113613"
      ],
      "text/plain": [
       "[1] 0.6458547"
      ]
     },
     "execution_count": 571,
     "metadata": {},
     "output_type": "execute_result"
    }
   ],
   "source": [
    "t= table(cTrain2$Party,predict(cLog2,type=\"response\")>0.5)\n",
    "t\n",
    "sum(diag(t))/sum(t)"
   ]
  },
  {
   "cell_type": "code",
   "execution_count": 574,
   "metadata": {
    "collapsed": false
   },
   "outputs": [
    {
     "data": {
      "text/plain": [
       "   \n",
       "    FALSE TRUE\n",
       "  0   235   62\n",
       "  1   186  154"
      ]
     },
     "execution_count": 574,
     "metadata": {},
     "output_type": "execute_result"
    },
    {
     "data": {
      "text/html": [
       "0.610675039246468"
      ],
      "text/latex": [
       "0.610675039246468"
      ],
      "text/markdown": [
       "0.610675039246468"
      ],
      "text/plain": [
       "[1] 0.610675"
      ]
     },
     "execution_count": 574,
     "metadata": {},
     "output_type": "execute_result"
    }
   ],
   "source": [
    "t= table(cTest2$Party,predict(cLog2,newdata = cTest2,type=\"response\")>0.6)\n",
    "t\n",
    "sum(diag(t))/sum(t)"
   ]
  },
  {
   "cell_type": "code",
   "execution_count": 578,
   "metadata": {
    "collapsed": false
   },
   "outputs": [],
   "source": [
    "library(class)"
   ]
  },
  {
   "cell_type": "code",
   "execution_count": 582,
   "metadata": {
    "collapsed": false
   },
   "outputs": [
    {
     "name": "stderr",
     "output_type": "stream",
     "text": [
      "Warning message:\n",
      "In knn(cTrain1, cTest1, cTrain1$Party): NAs introduced by coercionWarning message:\n",
      "In knn(cTrain1, cTest1, cTrain1$Party): NAs introduced by coercion"
     ]
    },
    {
     "ename": "ERROR",
     "evalue": "Error in knn(cTrain1, cTest1, cTrain1$Party): NA/NaN/Inf in foreign function call (arg 6)\n",
     "output_type": "error",
     "traceback": [
      "Error in knn(cTrain1, cTest1, cTrain1$Party): NA/NaN/Inf in foreign function call (arg 6)\n"
     ]
    }
   ],
   "source": [
    "knn(cTrain1,cTest1,cTrain1$Party)"
   ]
  },
  {
   "cell_type": "code",
   "execution_count": 16,
   "metadata": {
    "collapsed": false
   },
   "outputs": [],
   "source": [
    "Train3 = Train\n",
    "Test3 = Test\n",
    "\n",
    "tr_lab= Train3$Party\n",
    "ts_lab = Test3$Party\n",
    "\n",
    "Train3$USER_ID = NULL\n",
    "Test3$USER_ID = NULL\n",
    "Train3$Party =NULL\n",
    "Test3$Party = NULL\n",
    "\n",
    "library(caret)\n",
    "library(class)"
   ]
  },
  {
   "cell_type": "code",
   "execution_count": 17,
   "metadata": {
    "collapsed": false
   },
   "outputs": [],
   "source": [
    "for (col in setdiff(names(Train3),c(\"Party\"))){\n",
    "  #if mean(is.na(pollTrain[,col])\n",
    "    Train3[,col] = as.numeric(Train3[,col])\n",
    "    Test3[,col] = as.numeric(Test3[,col])\n",
    "\n",
    "\n",
    "    \n",
    "  #print(paste(\"The year is\", year))\n",
    "}\n",
    "\n",
    "preproc1 = preProcess(Train3)\n",
    "Train4 = predict(preproc1,Train3)\n",
    "Test4= predict(preproc1,Test3)"
   ]
  },
  {
   "cell_type": "code",
   "execution_count": 18,
   "metadata": {
    "collapsed": false
   },
   "outputs": [
    {
     "name": "stdout",
     "output_type": "stream",
     "text": [
      "'data.frame':\t4176 obs. of  106 variables:\n",
      " $ YOB            : num  -2.688 -0.626 0.276 1.113 1.049 ...\n",
      " $ Gender         : num  0.796 -1.257 -1.257 -1.257 0.796 ...\n",
      " $ Income         : num  0.272 0.85 -0.306 0.85 0.272 ...\n",
      " $ HouseholdStatus: num  -0.297 -2.243 -0.297 0.676 0.676 ...\n",
      " $ EducationLevel : num  -0.918 -0.918 1.135 -0.405 -0.405 ...\n",
      " $ Q124742        : num  -0.799 -0.799 -0.799 -0.799 1.252 ...\n",
      " $ Q124122        : num  -1.15 0.869 0.869 -1.15 0.869 ...\n",
      " $ Q123464        : num  -0.307 -0.307 -0.307 -0.307 -0.307 ...\n",
      " $ Q123621        : num  -0.993 -0.993 -0.993 -0.993 -0.993 ...\n",
      " $ Q122769        : num  -0.789 -0.789 -0.789 -0.789 -0.789 ...\n",
      " $ Q122770        : num  0.853 0.853 0.853 0.853 0.853 ...\n",
      " $ Q122771        : num  0.481 0.481 0.481 0.481 -2.078 ...\n",
      " $ Q122120        : num  -0.601 -0.601 -0.601 -0.601 1.665 ...\n",
      " $ Q121699        : num  0.619 0.619 0.619 -1.614 -1.614 ...\n",
      " $ Q121700        : num  -0.443 -0.443 -0.443 -0.443 -0.443 ...\n",
      " $ Q120978        : num  -1.12 0.89 0.89 0.89 -1.12 ...\n",
      " $ Q121011        : num  -1.128 -1.128 0.886 -1.128 -1.128 ...\n",
      " $ Q120379        : num  -0.946 -0.946 -0.946 1.057 1.057 ...\n",
      " $ Q120650        : num  0.326 0.326 0.326 0.326 0.326 ...\n",
      " $ Q120472        : num  0.681 0.681 -1.468 0.681 0.681 ...\n",
      " $ Q120194        : num  1.169 -0.856 1.169 1.169 1.169 ...\n",
      " $ Q120012        : num  -0.945 1.058 1.058 1.058 -0.945 ...\n",
      " $ Q120014        : num  -1.242 0.805 -1.242 0.805 0.805 ...\n",
      " $ Q119334        : num  0.982 -1.018 -1.018 -1.018 -1.018 ...\n",
      " $ Q119851        : num  1.168 -0.856 -0.856 1.168 -0.856 ...\n",
      " $ Q119650        : num  1.689 1.689 -0.592 1.689 1.689 ...\n",
      " $ Q118892        : num  0.801 -1.248 -1.248 -1.248 0.801 ...\n",
      " $ Q118117        : num  1.19 -0.84 -0.84 -0.84 -0.84 ...\n",
      " $ Q118232        : num  -1.073 0.931 -1.073 0.931 -1.073 ...\n",
      " $ Q118233        : num  -0.625 -0.625 1.6 -0.625 -0.625 ...\n",
      " $ Q118237        : num  -0.958 -0.958 1.044 -0.958 1.044 ...\n",
      " $ Q117186        : num  1.365 -0.732 1.365 -0.732 -0.732 ...\n",
      " $ Q117193        : num  -1.178 0.848 0.848 0.848 0.848 ...\n",
      " $ Q116797        : num  1.373 -0.728 -0.728 -0.728 -0.728 ...\n",
      " $ Q116881        : num  -0.681 -0.681 -0.681 1.468 1.468 ...\n",
      " $ Q116953        : num  0.725 0.725 0.725 0.725 -1.379 ...\n",
      " $ Q116601        : num  0.472 0.472 0.472 0.472 -2.118 ...\n",
      " $ Q116441        : num  -0.737 1.357 -0.737 -0.737 -0.737 ...\n",
      " $ Q116448        : num  -0.917 -0.917 1.091 1.091 -0.917 ...\n",
      " $ Q116197        : num  0.719 -1.391 0.719 0.719 0.719 ...\n",
      " $ Q115602        : num  0.535 -1.868 -1.868 0.535 0.535 ...\n",
      " $ Q115777        : num  0.86 -1.16 -1.16 0.86 0.86 ...\n",
      " $ Q115610        : num  0.492 0.492 -2.034 0.492 0.492 ...\n",
      " $ Q115611        : num  -0.744 -0.744 -0.744 -0.744 1.345 ...\n",
      " $ Q115899        : num  -1.09 0.92 0.92 -1.09 -1.09 ...\n",
      " $ Q115390        : num  0.831 0.831 -1.203 0.831 -1.203 ...\n",
      " $ Q114961        : num  0.983 0.983 0.983 0.983 -1.017 ...\n",
      " $ Q114748        : num  0.878 -1.139 0.878 -1.139 0.878 ...\n",
      " $ Q115195        : num  0.737 0.737 0.737 0.737 -1.356 ...\n",
      " $ Q114517        : num  -0.674 -0.674 1.483 -0.674 -0.674 ...\n",
      " $ Q114386        : num  -0.864 -0.864 1.157 -0.864 -0.864 ...\n",
      " $ Q113992        : num  1.527 -0.655 1.527 1.527 -0.655 ...\n",
      " $ Q114152        : num  1.479 -0.676 -0.676 -0.676 -0.676 ...\n",
      " $ Q113583        : num  -1.451 -1.451 0.689 0.689 0.689 ...\n",
      " $ Q113584        : num  0.993 0.993 -1.007 0.993 -1.007 ...\n",
      " $ Q113181        : num  -0.842 -0.842 -0.842 -0.842 1.188 ...\n",
      " $ Q112478        : num  -1.257 0.795 -1.257 0.795 -1.257 ...\n",
      " $ Q112512        : num  0.495 0.495 0.495 0.495 0.495 ...\n",
      " $ Q112270        : num  1.094 1.094 -0.914 1.094 1.094 ...\n",
      " $ Q111848        : num  -1.226 -1.226 -1.226 0.815 0.815 ...\n",
      " $ Q111580        : num  -1.335 -1.335 -1.335 0.749 -1.335 ...\n",
      " $ Q111220        : num  -0.614 -0.614 1.628 -0.614 -0.614 ...\n",
      " $ Q110740        : num  0.86 -1.16 0.86 0.86 0.86 ...\n",
      " $ Q109367        : num  -1.223 0.817 0.817 -1.223 -1.223 ...\n",
      " $ Q108950        : num  -0.714 -0.714 -0.714 -0.714 -0.714 ...\n",
      " $ Q109244        : num  -0.629 -0.629 -0.629 -0.629 -0.629 ...\n",
      " $ Q108855        : num  0.859 -1.163 0.859 0.859 0.859 ...\n",
      " $ Q108617        : num  -0.401 -0.401 -0.401 -0.401 -0.401 ...\n",
      " $ Q108856        : num  0.662 0.662 -1.509 0.662 -1.509 ...\n",
      " $ Q108754        : num  -0.725 1.378 -0.725 1.378 -0.725 ...\n",
      " $ Q108342        : num  -0.698 -0.698 1.432 -0.698 -0.698 ...\n",
      " $ Q108343        : num  -0.779 -0.779 -0.779 -0.779 -0.779 ...\n",
      " $ Q107869        : num  0.972 0.972 -1.028 -1.028 -1.028 ...\n",
      " $ Q107491        : num  -2.477 0.404 0.404 0.404 0.404 ...\n",
      " $ Q106993        : num  0.483 -2.068 0.483 0.483 0.483 ...\n",
      " $ Q106997        : num  1.078 1.078 1.078 -0.927 -0.927 ...\n",
      " $ Q106272        : num  0.676 0.676 0.676 0.676 0.676 ...\n",
      " $ Q106388        : num  -0.632 1.582 -0.632 -0.632 -0.632 ...\n",
      " $ Q106389        : num  1.01 1.01 1.01 1.01 1.01 ...\n",
      " $ Q106042        : num  1.05 1.05 1.05 1.05 -0.952 ...\n",
      " $ Q105840        : num  -0.914 1.094 1.094 -0.914 -0.914 ...\n",
      " $ Q105655        : num  -1.12 -1.12 0.89 -1.12 0.89 ...\n",
      " $ Q104996        : num  0.957 0.957 -1.044 0.957 -1.044 ...\n",
      " $ Q103293        : num  -0.902 1.108 -0.902 1.108 1.108 ...\n",
      " $ Q102906        : num  -0.799 1.251 -0.799 1.251 -0.799 ...\n",
      " $ Q102674        : num  -0.705 -0.705 1.417 -0.705 -0.705 ...\n",
      " $ Q102687        : num  1.013 1.013 -0.987 1.013 1.013 ...\n",
      " $ Q102289        : num  -0.667 -0.667 -0.667 -0.667 -0.667 ...\n",
      " $ Q102089        : num  -0.707 -0.707 -0.707 -0.707 -0.707 ...\n",
      " $ Q101162        : num  -0.796 -0.796 -0.796 1.257 1.257 ...\n",
      " $ Q101163        : num  1.12 1.12 1.12 1.12 1.12 ...\n",
      " $ Q101596        : num  1.386 -0.722 -0.722 -0.722 1.386 ...\n",
      " $ Q100689        : num  0.838 0.838 0.838 -1.194 0.838 ...\n",
      " $ Q100680        : num  -1.232 0.811 0.811 0.811 -1.232 ...\n",
      " $ Q100562        : num  -2.002 -2.002 0.499 0.499 0.499 ...\n",
      " $ Q99982         : num  1.02 1.02 1.02 1.02 1.02 ...\n",
      " $ Q100010        : num  0.551 -1.814 0.551 0.551 0.551 ...\n",
      " $ Q99716         : num  -0.363 -0.363 -0.363 -0.363 -0.363 ...\n",
      " $ Q99581         : num  -0.431 -0.431 -0.431 -0.431 -0.431 ...\n",
      "  [list output truncated]\n"
     ]
    }
   ],
   "source": [
    "str(Train4)"
   ]
  },
  {
   "cell_type": "code",
   "execution_count": 25,
   "metadata": {
    "collapsed": false
   },
   "outputs": [],
   "source": [
    "PredKnn=knn(Train4,Test4,tr_lab,k=40)"
   ]
  },
  {
   "cell_type": "code",
   "execution_count": 26,
   "metadata": {
    "collapsed": false
   },
   "outputs": [
    {
     "data": {
      "text/plain": [
       "      PredKnn\n",
       "ts_lab   0   1\n",
       "     0 354 300\n",
       "     1 252 486"
      ]
     },
     "execution_count": 26,
     "metadata": {},
     "output_type": "execute_result"
    },
    {
     "data": {
      "text/html": [
       "0.603448275862069"
      ],
      "text/latex": [
       "0.603448275862069"
      ],
      "text/markdown": [
       "0.603448275862069"
      ],
      "text/plain": [
       "[1] 0.6034483"
      ]
     },
     "execution_count": 26,
     "metadata": {},
     "output_type": "execute_result"
    }
   ],
   "source": [
    "t=table(ts_lab,PredKnn)\n",
    "t\n",
    "sum(diag(t))/sum(t)"
   ]
  },
  {
   "cell_type": "code",
   "execution_count": 629,
   "metadata": {
    "collapsed": false
   },
   "outputs": [
    {
     "data": {
      "text/html": [
       "\n",
       "<table width=\"100%\" summary=\"page for knn {class}\"><tr><td>knn {class}</td><td style=\"text-align: right;\">R Documentation</td></tr></table>\n",
       "\n",
       "<h2>\n",
       "k-Nearest Neighbour Classification\n",
       "</h2>\n",
       "\n",
       "<h3>Description</h3>\n",
       "\n",
       "<p>k-nearest neighbour classification for test set from training set. For\n",
       "each row of the test set, the <code>k</code> nearest (in Euclidean distance)\n",
       "training set vectors are found, and the classification is decided by\n",
       "majority vote, with ties broken at random. If there are ties for the\n",
       "<code>k</code>th nearest vector, all candidates are included in the vote.\n",
       "</p>\n",
       "\n",
       "\n",
       "<h3>Usage</h3>\n",
       "\n",
       "<pre>\n",
       "knn(train, test, cl, k = 1, l = 0, prob = FALSE, use.all = TRUE)\n",
       "</pre>\n",
       "\n",
       "\n",
       "<h3>Arguments</h3>\n",
       "\n",
       "<table summary=\"R argblock\">\n",
       "<tr valign=\"top\"><td><code>train</code></td>\n",
       "<td>\n",
       "\n",
       "<p>matrix or data frame of training set cases.\n",
       "</p>\n",
       "</td></tr>\n",
       "<tr valign=\"top\"><td><code>test</code></td>\n",
       "<td>\n",
       "\n",
       "<p>matrix or data frame of test set cases. A vector will be interpreted\n",
       "as a row vector for a single case.\n",
       "</p>\n",
       "</td></tr>\n",
       "<tr valign=\"top\"><td><code>cl</code></td>\n",
       "<td>\n",
       "\n",
       "<p>factor of true classifications of training set\n",
       "</p>\n",
       "</td></tr>\n",
       "<tr valign=\"top\"><td><code>k</code></td>\n",
       "<td>\n",
       "\n",
       "<p>number of neighbours considered.\n",
       "</p>\n",
       "</td></tr>\n",
       "<tr valign=\"top\"><td><code>l</code></td>\n",
       "<td>\n",
       "\n",
       "<p>minimum vote for definite decision, otherwise <code>doubt</code>. (More\n",
       "precisely, less than <code>k-l</code> dissenting votes are allowed, even if <code>k</code>\n",
       "is increased by ties.)\n",
       "</p>\n",
       "</td></tr>\n",
       "<tr valign=\"top\"><td><code>prob</code></td>\n",
       "<td>\n",
       "\n",
       "<p>If this is true, the proportion of the votes for the winning class\n",
       "are returned as attribute <code>prob</code>.\n",
       "</p>\n",
       "</td></tr>\n",
       "<tr valign=\"top\"><td><code>use.all</code></td>\n",
       "<td>\n",
       "\n",
       "<p>controls handling of ties. If true, all distances equal to the <code>k</code>th\n",
       "largest are included. If false, a random selection of distances\n",
       "equal to the <code>k</code>th is chosen to use exactly <code>k</code> neighbours.\n",
       "</p>\n",
       "</td></tr></table>\n",
       "\n",
       "\n",
       "<h3>Value</h3>\n",
       "\n",
       "<p>Factor of classifications of test set. <code>doubt</code> will be returned as <code>NA</code>.\n",
       "</p>\n",
       "\n",
       "\n",
       "<h3>References</h3>\n",
       "\n",
       "<p>Ripley, B. D. (1996)\n",
       "<em>Pattern Recognition and Neural Networks.</em> Cambridge.\n",
       "</p>\n",
       "<p>Venables, W. N. and Ripley, B. D. (2002)\n",
       "<em>Modern Applied Statistics with S.</em> Fourth edition.  Springer.\n",
       "</p>\n",
       "\n",
       "\n",
       "<h3>See Also</h3>\n",
       "\n",
       "<p><code>knn1</code>, <code>knn.cv</code>\n",
       "</p>\n",
       "\n",
       "\n",
       "<h3>Examples</h3>\n",
       "\n",
       "<pre>\n",
       "train &lt;- rbind(iris3[1:25,,1], iris3[1:25,,2], iris3[1:25,,3])\n",
       "test &lt;- rbind(iris3[26:50,,1], iris3[26:50,,2], iris3[26:50,,3])\n",
       "cl &lt;- factor(c(rep(\"s\",25), rep(\"c\",25), rep(\"v\",25)))\n",
       "knn(train, test, cl, k = 3, prob=TRUE)\n",
       "attributes(.Last.value)\n",
       "</pre>\n",
       "\n",
       "<hr /><div style=\"text-align: center;\">[Package <em>class</em> version 7.3-14 ]</div>"
      ],
      "text/latex": [
       "\\inputencoding{utf8}\n",
       "\\HeaderA{knn}{k-Nearest Neighbour Classification}{knn}\n",
       "\\keyword{classif}{knn}\n",
       "%\n",
       "\\begin{Description}\\relax\n",
       "k-nearest neighbour classification for test set from training set. For\n",
       "each row of the test set, the \\code{k} nearest (in Euclidean distance)\n",
       "training set vectors are found, and the classification is decided by\n",
       "majority vote, with ties broken at random. If there are ties for the\n",
       "\\code{k}th nearest vector, all candidates are included in the vote.\n",
       "\\end{Description}\n",
       "%\n",
       "\\begin{Usage}\n",
       "\\begin{verbatim}\n",
       "knn(train, test, cl, k = 1, l = 0, prob = FALSE, use.all = TRUE)\n",
       "\\end{verbatim}\n",
       "\\end{Usage}\n",
       "%\n",
       "\\begin{Arguments}\n",
       "\\begin{ldescription}\n",
       "\\item[\\code{train}] \n",
       "matrix or data frame of training set cases.\n",
       "\n",
       "\\item[\\code{test}] \n",
       "matrix or data frame of test set cases. A vector will be interpreted\n",
       "as a row vector for a single case.\n",
       "\n",
       "\\item[\\code{cl}] \n",
       "factor of true classifications of training set\n",
       "\n",
       "\\item[\\code{k}] \n",
       "number of neighbours considered.\n",
       "\n",
       "\\item[\\code{l}] \n",
       "minimum vote for definite decision, otherwise \\code{doubt}. (More\n",
       "precisely, less than \\code{k-l} dissenting votes are allowed, even if \\code{k}\n",
       "is increased by ties.)\n",
       "\n",
       "\\item[\\code{prob}] \n",
       "If this is true, the proportion of the votes for the winning class\n",
       "are returned as attribute \\code{prob}.\n",
       "\n",
       "\\item[\\code{use.all}] \n",
       "controls handling of ties. If true, all distances equal to the \\code{k}th\n",
       "largest are included. If false, a random selection of distances\n",
       "equal to the \\code{k}th is chosen to use exactly \\code{k} neighbours.\n",
       "\\end{ldescription}\n",
       "\\end{Arguments}\n",
       "%\n",
       "\\begin{Value}\n",
       "Factor of classifications of test set. \\code{doubt} will be returned as \\code{NA}.\n",
       "\\end{Value}\n",
       "%\n",
       "\\begin{References}\\relax\n",
       "Ripley, B. D. (1996)\n",
       "\\emph{Pattern Recognition and Neural Networks.} Cambridge.\n",
       "\n",
       "Venables, W. N. and Ripley, B. D. (2002)\n",
       "\\emph{Modern Applied Statistics with S.} Fourth edition.  Springer.\n",
       "\\end{References}\n",
       "%\n",
       "\\begin{SeeAlso}\\relax\n",
       "\\code{\\LinkA{knn1}{knn1}}, \\code{\\LinkA{knn.cv}{knn.cv}}\n",
       "\\end{SeeAlso}\n",
       "%\n",
       "\\begin{Examples}\n",
       "\\begin{ExampleCode}\n",
       "train <- rbind(iris3[1:25,,1], iris3[1:25,,2], iris3[1:25,,3])\n",
       "test <- rbind(iris3[26:50,,1], iris3[26:50,,2], iris3[26:50,,3])\n",
       "cl <- factor(c(rep(\"s\",25), rep(\"c\",25), rep(\"v\",25)))\n",
       "knn(train, test, cl, k = 3, prob=TRUE)\n",
       "attributes(.Last.value)\n",
       "\\end{ExampleCode}\n",
       "\\end{Examples}"
      ],
      "text/plain": [
       "knn                   package:class                    R Documentation\n",
       "\n",
       "_\bk-_\bN_\be_\ba_\br_\be_\bs_\bt _\bN_\be_\bi_\bg_\bh_\bb_\bo_\bu_\br _\bC_\bl_\ba_\bs_\bs_\bi_\bf_\bi_\bc_\ba_\bt_\bi_\bo_\bn\n",
       "\n",
       "_\bD_\be_\bs_\bc_\br_\bi_\bp_\bt_\bi_\bo_\bn:\n",
       "\n",
       "     k-nearest neighbour classification for test set from training set.\n",
       "     For each row of the test set, the ‘k’ nearest (in Euclidean\n",
       "     distance) training set vectors are found, and the classification\n",
       "     is decided by majority vote, with ties broken at random. If there\n",
       "     are ties for the ‘k’th nearest vector, all candidates are included\n",
       "     in the vote.\n",
       "\n",
       "_\bU_\bs_\ba_\bg_\be:\n",
       "\n",
       "     knn(train, test, cl, k = 1, l = 0, prob = FALSE, use.all = TRUE)\n",
       "     \n",
       "_\bA_\br_\bg_\bu_\bm_\be_\bn_\bt_\bs:\n",
       "\n",
       "   train: matrix or data frame of training set cases.\n",
       "\n",
       "    test: matrix or data frame of test set cases. A vector will be\n",
       "          interpreted as a row vector for a single case.\n",
       "\n",
       "      cl: factor of true classifications of training set\n",
       "\n",
       "       k: number of neighbours considered.\n",
       "\n",
       "       l: minimum vote for definite decision, otherwise ‘doubt’. (More\n",
       "          precisely, less than ‘k-l’ dissenting votes are allowed, even\n",
       "          if ‘k’ is increased by ties.)\n",
       "\n",
       "    prob: If this is true, the proportion of the votes for the winning\n",
       "          class are returned as attribute ‘prob’.\n",
       "\n",
       " use.all: controls handling of ties. If true, all distances equal to\n",
       "          the ‘k’th largest are included. If false, a random selection\n",
       "          of distances equal to the ‘k’th is chosen to use exactly ‘k’\n",
       "          neighbours.\n",
       "\n",
       "_\bV_\ba_\bl_\bu_\be:\n",
       "\n",
       "     Factor of classifications of test set. ‘doubt’ will be returned as\n",
       "     ‘NA’.\n",
       "\n",
       "_\bR_\be_\bf_\be_\br_\be_\bn_\bc_\be_\bs:\n",
       "\n",
       "     Ripley, B. D. (1996) _Pattern Recognition and Neural Networks._\n",
       "     Cambridge.\n",
       "\n",
       "     Venables, W. N. and Ripley, B. D. (2002) _Modern Applied\n",
       "     Statistics with S._ Fourth edition.  Springer.\n",
       "\n",
       "_\bS_\be_\be _\bA_\bl_\bs_\bo:\n",
       "\n",
       "     ‘knn1’, ‘knn.cv’\n",
       "\n",
       "_\bE_\bx_\ba_\bm_\bp_\bl_\be_\bs:\n",
       "\n",
       "     train <- rbind(iris3[1:25,,1], iris3[1:25,,2], iris3[1:25,,3])\n",
       "     test <- rbind(iris3[26:50,,1], iris3[26:50,,2], iris3[26:50,,3])\n",
       "     cl <- factor(c(rep(\"s\",25), rep(\"c\",25), rep(\"v\",25)))\n",
       "     knn(train, test, cl, k = 3, prob=TRUE)\n",
       "     attributes(.Last.value)\n",
       "     "
      ]
     },
     "execution_count": 629,
     "metadata": {},
     "output_type": "execute_result"
    }
   ],
   "source": [
    "?knn"
   ]
  },
  {
   "cell_type": "code",
   "execution_count": null,
   "metadata": {
    "collapsed": true
   },
   "outputs": [],
   "source": []
  }
 ],
 "metadata": {
  "kernelspec": {
   "display_name": "R",
   "language": "R",
   "name": "ir"
  },
  "language_info": {
   "codemirror_mode": "r",
   "file_extension": ".r",
   "mimetype": "text/x-r-source",
   "name": "R",
   "pygments_lexer": "r",
   "version": "3.2.2"
  }
 },
 "nbformat": 4,
 "nbformat_minor": 0
}
