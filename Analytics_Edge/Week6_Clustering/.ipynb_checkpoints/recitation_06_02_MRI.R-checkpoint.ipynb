{
 "cells": [
  {
   "cell_type": "markdown",
   "metadata": {},
   "source": [
    "https://courses.edx.org/courses/course-v1:MITx+15.071x_3+1T2016/courseware/d32b0c36ff484c228b8117257349d0e6/312aa7d9e6f9438397c13b1cfb3ea76b/"
   ]
  },
  {
   "cell_type": "code",
   "execution_count": 2,
   "metadata": {
    "collapsed": true
   },
   "outputs": [],
   "source": [
    "healthy = read.csv(\"healthy.csv\", header = FALSE)"
   ]
  },
  {
   "cell_type": "code",
   "execution_count": 3,
   "metadata": {
    "collapsed": false
   },
   "outputs": [
    {
     "name": "stdout",
     "output_type": "stream",
     "text": [
      "'data.frame':\t566 obs. of  646 variables:\n",
      " $ V1  : num  0.00427 0.00855 0.01282 0.01282 0.01282 ...\n",
      " $ V2  : num  0.00427 0.00427 0.00855 0.00855 0.00855 ...\n",
      " $ V3  : num  0.00427 0.00427 0.00427 0.00427 0.00427 ...\n",
      " $ V4  : num  0.00427 0.00427 0.00427 0.00427 0.00427 ...\n",
      " $ V5  : num  0.00855 0.00855 0.00855 0.00427 0.00855 ...\n",
      " $ V6  : num  0.01282 0.01282 0.00855 0.00427 0.00855 ...\n",
      " $ V7  : num  0.00855 0.00855 0.00427 0 0.00427 ...\n",
      " $ V8  : num  0 0 0 0 0 ...\n",
      " $ V9  : num  0 0 0 0 0 0 0 0 0 0 ...\n",
      " $ V10 : num  0 0 0 0 0 0 0 0 0 0 ...\n",
      " $ V11 : num  0 0 0 0 0 0 0 0 0 0 ...\n",
      " $ V12 : num  0 0 0 0 0 0 0 0 0 0 ...\n",
      " $ V13 : num  0 0 0 0 0 0 0 0 0 0 ...\n",
      " $ V14 : num  0 0 0 0 0 0 0 0 0 0 ...\n",
      " $ V15 : num  0 0 0 0 0 0 0 0 0 0 ...\n",
      " $ V16 : num  0 0 0 0 0 0 0 0 0 0 ...\n",
      " $ V17 : num  0 0 0 0 0 0 0 0 0 0 ...\n",
      " $ V18 : num  0 0 0 0 0 0 0 0 0 0 ...\n",
      " $ V19 : num  0 0 0 0 0 0 0 0 0 0 ...\n",
      " $ V20 : num  0 0 0 0 0 0 0 0 0 0 ...\n",
      " $ V21 : num  0 0 0 0 0 0 0 0 0 0 ...\n",
      " $ V22 : num  0 0 0 0 0 0 0 0 0 0 ...\n",
      " $ V23 : num  0 0 0 0 0 0 0 0 0 0 ...\n",
      " $ V24 : num  0 0 0 0 0 0 0 0 0 0 ...\n",
      " $ V25 : num  0 0 0 0 0 0 0 0 0 0 ...\n",
      " $ V26 : num  0 0 0 0 0 0 0 0 0 0 ...\n",
      " $ V27 : num  0 0 0 0 0 0 0 0 0 0 ...\n",
      " $ V28 : num  0 0 0 0 0 0 0 0 0 0 ...\n",
      " $ V29 : num  0 0 0 0 0 0 0 0 0 0 ...\n",
      " $ V30 : num  0 0 0 0 0 0 0 0 0 0 ...\n",
      " $ V31 : num  0 0 0 0 0 0 0 0 0 0 ...\n",
      " $ V32 : num  0 0 0 0 0 0 0 0 0 0 ...\n",
      " $ V33 : num  0 0 0 0 0 0 0 0 0 0 ...\n",
      " $ V34 : num  0 0 0 0 0 0 0 0 0 0 ...\n",
      " $ V35 : num  0 0 0 0 0 0 0 0 0 0 ...\n",
      " $ V36 : num  0 0 0 0 0 0 0 0 0 0 ...\n",
      " $ V37 : num  0 0 0 0 0 0 0 0 0 0 ...\n",
      " $ V38 : num  0 0 0 0 0 0 0 0 0 0 ...\n",
      " $ V39 : num  0 0 0 0 0 0 0 0 0 0 ...\n",
      " $ V40 : num  0 0 0 0 0 0 0 0 0 0 ...\n",
      " $ V41 : num  0 0 0 0 0 0 0 0 0 0 ...\n",
      " $ V42 : num  0 0 0 0 0 0 0 0 0 0 ...\n",
      " $ V43 : num  0 0 0 0 0 0 0 0 0 0 ...\n",
      " $ V44 : num  0 0 0 0 0 0 0 0 0 0 ...\n",
      " $ V45 : num  0 0 0 0 0 0 0 0 0 0 ...\n",
      " $ V46 : num  0 0 0 0 0 0 0 0 0 0 ...\n",
      " $ V47 : num  0 0 0 0 0 0 0 0 0 0 ...\n",
      " $ V48 : num  0 0 0 0 0 0 0 0 0 0 ...\n",
      " $ V49 : num  0 0 0 0 0 0 0 0 0 0 ...\n",
      " $ V50 : num  0 0 0 0 0 0 0 0 0 0 ...\n",
      " $ V51 : num  0 0 0 0 0 0 0 0 0 0 ...\n",
      " $ V52 : num  0 0 0 0 0 0 0 0 0 0 ...\n",
      " $ V53 : num  0 0 0 0 0 0 0 0 0 0 ...\n",
      " $ V54 : num  0 0 0 0 0 ...\n",
      " $ V55 : num  0 0 0 0 0 ...\n",
      " $ V56 : num  0 0 0 0 0 ...\n",
      " $ V57 : num  0 0 0 0 0 0 0 0 0 0 ...\n",
      " $ V58 : num  0 0 0 0 0 0 0 0 0 0 ...\n",
      " $ V59 : num  0 0 0 0 0 0 0 0 0 0 ...\n",
      " $ V60 : num  0 0 0 0 0 ...\n",
      " $ V61 : num  0 0 0 0 0 ...\n",
      " $ V62 : num  0 0 0 0 0 ...\n",
      " $ V63 : num  0 0 0 0 0 ...\n",
      " $ V64 : num  0 0 0 0 0 ...\n",
      " $ V65 : num  0 0 0 0.00427 0.00427 ...\n",
      " $ V66 : num  0 0.00427 0.00427 0.00855 0.01282 ...\n",
      " $ V67 : num  0 0.00427 0.00855 0.01282 0.01709 ...\n",
      " $ V68 : num  0 0 0.00427 0.01282 0.01709 ...\n",
      " $ V69 : num  0 0 0.00855 0.01282 0.02137 ...\n",
      " $ V70 : num  0.00855 0.00855 0.01282 0.02137 0.02564 ...\n",
      " $ V71 : num  0.0171 0.0171 0.0214 0.0214 0.0256 ...\n",
      " $ V72 : num  0.0214 0.0214 0.0214 0.0214 0.0256 ...\n",
      " $ V73 : num  0.0214 0.0214 0.0171 0.0171 0.0171 ...\n",
      " $ V74 : num  0.0171 0.0171 0.0171 0.0171 0.0171 ...\n",
      " $ V75 : num  0.0171 0.0128 0.0128 0.0128 0.0128 ...\n",
      " $ V76 : num  0.0214 0.0214 0.0171 0.0171 0.0171 ...\n",
      " $ V77 : num  0.0299 0.0299 0.0256 0.0256 0.0214 ...\n",
      " $ V78 : num  0.0299 0.0299 0.0299 0.0299 0.0299 ...\n",
      " $ V79 : num  0.0214 0.0256 0.0299 0.0299 0.0299 ...\n",
      " $ V80 : num  0.0171 0.0214 0.0256 0.0299 0.0299 ...\n",
      " $ V81 : num  0.0214 0.0214 0.0214 0.0214 0.0214 ...\n",
      " $ V82 : num  0.0214 0.0171 0.0171 0.0128 0.0128 ...\n",
      " $ V83 : num  0.0214 0.0171 0.0171 0.0128 0.0128 ...\n",
      " $ V84 : num  0.0171 0.0214 0.0214 0.0214 0.0214 ...\n",
      " $ V85 : num  0.0128 0.0214 0.0256 0.0342 0.0342 ...\n",
      " $ V86 : num  0.0128 0.0214 0.0299 0.0342 0.0385 ...\n",
      " $ V87 : num  0.0171 0.0214 0.0256 0.0256 0.0299 ...\n",
      " $ V88 : num  0.0214 0.0171 0.0171 0.0171 0.0214 ...\n",
      " $ V89 : num  0.03846 0.02564 0.00855 0 0 ...\n",
      " $ V90 : num  0.02564 0.02137 0.01282 0.00855 0.00855 ...\n",
      " $ V91 : num  0.0128 0.0171 0.0214 0.0214 0.0171 ...\n",
      " $ V92 : num  0.00855 0.01709 0.02564 0.02564 0.02137 ...\n",
      " $ V93 : num  0.0128 0.0171 0.0214 0.0171 0.0171 ...\n",
      " $ V94 : num  0.0214 0.0214 0.0171 0.0128 0.0171 ...\n",
      " $ V95 : num  0.0256 0.0256 0.0214 0.0171 0.0171 ...\n",
      " $ V96 : num  0.0299 0.0256 0.0214 0.0214 0.0214 ...\n",
      " $ V97 : num  0.0214 0.0256 0.0299 0.0299 0.0256 ...\n",
      " $ V98 : num  0.0171 0.0214 0.0299 0.0299 0.0299 ...\n",
      " $ V99 : num  0.0171 0.0214 0.0299 0.0299 0.0299 ...\n",
      "  [list output truncated]\n"
     ]
    }
   ],
   "source": [
    "str(healthy)"
   ]
  },
  {
   "cell_type": "code",
   "execution_count": 4,
   "metadata": {
    "collapsed": true
   },
   "outputs": [],
   "source": [
    "healthyMatrix = as.matrix(healthy)"
   ]
  },
  {
   "cell_type": "code",
   "execution_count": 5,
   "metadata": {
    "collapsed": false
   },
   "outputs": [
    {
     "name": "stdout",
     "output_type": "stream",
     "text": [
      " num [1:566, 1:646] 0.00427 0.00855 0.01282 0.01282 0.01282 ...\n",
      " - attr(*, \"dimnames\")=List of 2\n",
      "  ..$ : NULL\n",
      "  ..$ : chr [1:646] \"V1\" \"V2\" \"V3\" \"V4\" ...\n"
     ]
    }
   ],
   "source": [
    "str(healthyMatrix)"
   ]
  },
  {
   "cell_type": "markdown",
   "metadata": {
    "collapsed": false
   },
   "source": [
    "\n",
    "### execute the below command on r to see the pic. doesnt work well on notebook\n",
    "\n",
    "image(healthyMatrix, axes = FALSE, col = grey(seq(0,1,length = 256)))"
   ]
  },
  {
   "cell_type": "code",
   "execution_count": null,
   "metadata": {
    "collapsed": true
   },
   "outputs": [],
   "source": [
    "#image(healthyMatrix, axes = FALSE, col = grey(seq(0,1,length = 256)))"
   ]
  },
  {
   "cell_type": "code",
   "execution_count": 7,
   "metadata": {
    "collapsed": true
   },
   "outputs": [],
   "source": [
    "healthyVector = as.vector(healthyMatrix)"
   ]
  },
  {
   "cell_type": "code",
   "execution_count": 8,
   "metadata": {
    "collapsed": false
   },
   "outputs": [
    {
     "name": "stdout",
     "output_type": "stream",
     "text": [
      " num [1:365636] 0.00427 0.00855 0.01282 0.01282 0.01282 ...\n"
     ]
    }
   ],
   "source": [
    "str(healthyVector)"
   ]
  },
  {
   "cell_type": "code",
   "execution_count": 9,
   "metadata": {
    "collapsed": false
   },
   "outputs": [
    {
     "data": {
      "text/html": [
       "66844659430"
      ],
      "text/latex": [
       "66844659430"
      ],
      "text/markdown": [
       "66844659430"
      ],
      "text/plain": [
       "[1] 66844659430"
      ]
     },
     "execution_count": 9,
     "metadata": {},
     "output_type": "execute_result"
    }
   ],
   "source": [
    "n = 365636\n",
    "n*(n-1)/2"
   ]
  },
  {
   "cell_type": "markdown",
   "metadata": {},
   "source": [
    "if we try to compute the ditance matrix with such huge no. of elements, it is likely to error out due to limitation of memmory. So dont try the following command\n",
    "    "
   ]
  },
  {
   "cell_type": "code",
   "execution_count": 10,
   "metadata": {
    "collapsed": true
   },
   "outputs": [],
   "source": [
    "#distance = dist(healthyVector, method = \"euclidean\")"
   ]
  },
  {
   "cell_type": "markdown",
   "metadata": {},
   "source": [
    "This also mean we may need to look for an alternative method to heirarchichal clustering"
   ]
  },
  {
   "cell_type": "code",
   "execution_count": 11,
   "metadata": {
    "collapsed": true
   },
   "outputs": [],
   "source": [
    "k = 5\n",
    "set.seed(1)"
   ]
  },
  {
   "cell_type": "code",
   "execution_count": 13,
   "metadata": {
    "collapsed": false
   },
   "outputs": [],
   "source": [
    "KMC = kmeans(healthyVector, centers = k, iter.max = 1000)"
   ]
  },
  {
   "cell_type": "code",
   "execution_count": 14,
   "metadata": {
    "collapsed": false
   },
   "outputs": [
    {
     "name": "stdout",
     "output_type": "stream",
     "text": [
      "List of 9\n",
      " $ cluster     : int [1:365636] 3 3 3 3 3 3 3 3 3 3 ...\n",
      " $ centers     : num [1:5, 1] 0.4818 0.1062 0.0196 0.3094 0.1842\n",
      "  ..- attr(*, \"dimnames\")=List of 2\n",
      "  .. ..$ : chr [1:5] \"1\" \"2\" \"3\" \"4\" ...\n",
      "  .. ..$ : NULL\n",
      " $ totss       : num 5775\n",
      " $ withinss    : num [1:5] 96.6 47.2 39.2 57.5 62.3\n",
      " $ tot.withinss: num 303\n",
      " $ betweenss   : num 5472\n",
      " $ size        : int [1:5] 20556 101085 133162 31555 79278\n",
      " $ iter        : int 2\n",
      " $ ifault      : int 0\n",
      " - attr(*, \"class\")= chr \"kmeans\"\n"
     ]
    }
   ],
   "source": [
    "str(KMC)"
   ]
  },
  {
   "cell_type": "code",
   "execution_count": 15,
   "metadata": {
    "collapsed": true
   },
   "outputs": [],
   "source": [
    "healthyClusters = KMC$cluster"
   ]
  },
  {
   "cell_type": "code",
   "execution_count": 16,
   "metadata": {
    "collapsed": false
   },
   "outputs": [
    {
     "data": {
      "text/html": [
       "<table>\n",
       "<tbody>\n",
       "\t<tr><th scope=row>1</th><td>0.4817719</td></tr>\n",
       "\t<tr><th scope=row>2</th><td>0.1061945</td></tr>\n",
       "\t<tr><th scope=row>3</th><td>0.01961886</td></tr>\n",
       "\t<tr><th scope=row>4</th><td>0.3094283</td></tr>\n",
       "\t<tr><th scope=row>5</th><td>0.1842058</td></tr>\n",
       "</tbody>\n",
       "</table>\n"
      ],
      "text/latex": [
       "\\begin{tabular}{r|l}\n",
       "\t1 & 0.4817719\\\\\n",
       "\t2 & 0.1061945\\\\\n",
       "\t3 & 0.01961886\\\\\n",
       "\t4 & 0.3094283\\\\\n",
       "\t5 & 0.1842058\\\\\n",
       "\\end{tabular}\n"
      ],
      "text/markdown": [
       "1. 0.481771911794954\n",
       "2. 0.106194499058868\n",
       "3. 0.0196188640921\n",
       "4. 0.309428253776135\n",
       "5. 0.184205779787935\n",
       "\n",
       "\n"
      ],
      "text/plain": [
       "        [,1]\n",
       "1 0.48177191\n",
       "2 0.10619450\n",
       "3 0.01961886\n",
       "4 0.30942825\n",
       "5 0.18420578"
      ]
     },
     "execution_count": 16,
     "metadata": {},
     "output_type": "execute_result"
    }
   ],
   "source": [
    "KMC$centers"
   ]
  },
  {
   "cell_type": "code",
   "execution_count": 17,
   "metadata": {
    "collapsed": true
   },
   "outputs": [],
   "source": [
    "dim(healthyClusters) = dim(healthyMatrix)"
   ]
  },
  {
   "cell_type": "code",
   "execution_count": 18,
   "metadata": {
    "collapsed": false
   },
   "outputs": [
    {
     "data": {
      "text/html": [
       "<ol class=list-inline>\n",
       "\t<li>566</li>\n",
       "\t<li>646</li>\n",
       "</ol>\n"
      ],
      "text/latex": [
       "\\begin{enumerate*}\n",
       "\\item 566\n",
       "\\item 646\n",
       "\\end{enumerate*}\n"
      ],
      "text/markdown": [
       "1. 566\n",
       "2. 646\n",
       "\n",
       "\n"
      ],
      "text/plain": [
       "[1] 566 646"
      ]
     },
     "execution_count": 18,
     "metadata": {},
     "output_type": "execute_result"
    }
   ],
   "source": [
    "dim(healthyClusters)"
   ]
  },
  {
   "cell_type": "markdown",
   "metadata": {},
   "source": [
    "### Again execute the following command directly on r to see the clustered image\n"
   ]
  },
  {
   "cell_type": "code",
   "execution_count": 21,
   "metadata": {
    "collapsed": true
   },
   "outputs": [],
   "source": [
    "\n",
    "#image(healthyClusters, axes = FALSE, col = rainbow(k))"
   ]
  },
  {
   "cell_type": "code",
   "execution_count": 23,
   "metadata": {
    "collapsed": false
   },
   "outputs": [],
   "source": [
    "tumor = read.csv(\"tumor.csv\", header = FALSE)"
   ]
  },
  {
   "cell_type": "code",
   "execution_count": 24,
   "metadata": {
    "collapsed": true
   },
   "outputs": [],
   "source": [
    "tumorMatrix = as.matrix(tumor)"
   ]
  },
  {
   "cell_type": "code",
   "execution_count": 25,
   "metadata": {
    "collapsed": true
   },
   "outputs": [],
   "source": [
    "tumorVector = as.vector(tumorMatrix)"
   ]
  },
  {
   "cell_type": "code",
   "execution_count": 26,
   "metadata": {
    "collapsed": false
   },
   "outputs": [
    {
     "name": "stdout",
     "output_type": "stream",
     "text": [
      " num [1:292352] 0 0 0 0 0 0 0 0 0 0 ...\n"
     ]
    }
   ],
   "source": [
    "str(tumorVector)"
   ]
  },
  {
   "cell_type": "code",
   "execution_count": 27,
   "metadata": {
    "collapsed": false
   },
   "outputs": [
    {
     "data": {
      "text/html": [
       "<ol class=list-inline>\n",
       "\t<li>571</li>\n",
       "\t<li>512</li>\n",
       "</ol>\n"
      ],
      "text/latex": [
       "\\begin{enumerate*}\n",
       "\\item 571\n",
       "\\item 512\n",
       "\\end{enumerate*}\n"
      ],
      "text/markdown": [
       "1. 571\n",
       "2. 512\n",
       "\n",
       "\n"
      ],
      "text/plain": [
       "[1] 571 512"
      ]
     },
     "execution_count": 27,
     "metadata": {},
     "output_type": "execute_result"
    }
   ],
   "source": [
    "dim(tumorMatrix)"
   ]
  },
  {
   "cell_type": "code",
   "execution_count": 29,
   "metadata": {
    "collapsed": false
   },
   "outputs": [
    {
     "name": "stderr",
     "output_type": "stream",
     "text": [
      "Warning message:\n",
      ": package ‘flexclust’ was built under R version 3.3.0Loading required package: grid\n",
      "Loading required package: lattice\n",
      "Loading required package: modeltools\n",
      "Warning message:\n",
      ": package ‘modeltools’ was built under R version 3.3.0Loading required package: stats4\n"
     ]
    }
   ],
   "source": [
    "library(flexclust)"
   ]
  },
  {
   "cell_type": "markdown",
   "metadata": {},
   "source": [
    "The flexclust package contains the object class KCCA,\n",
    "which stands for K-Centroids Cluster Analysis.\n",
    "We need to convert the information from the clustering\n",
    "algorithm to an object of the class KCCA.\n",
    "And this conversion is needed before we\n",
    "can use the predict function on the test set tumorVector.\n",
    "So calling our new variable KMC.kcca\n",
    "and then using the as.kcca function, which\n",
    "takes as a first input the original KMC variable that\n",
    "stored all the information from the k-means clustering\n",
    "function, and the second input is the data that we clustered.\n",
    "And in this case, it's the training set,\n",
    "which is the healthyVector.\n"
   ]
  },
  {
   "cell_type": "code",
   "execution_count": 30,
   "metadata": {
    "collapsed": true
   },
   "outputs": [],
   "source": [
    "KMC.kcca = as.kcca(KMC, healthyVector)"
   ]
  },
  {
   "cell_type": "code",
   "execution_count": 31,
   "metadata": {
    "collapsed": true
   },
   "outputs": [],
   "source": [
    "tumorClusters = predict(KMC.kcca, newdata = tumorVector)"
   ]
  },
  {
   "cell_type": "markdown",
   "metadata": {},
   "source": [
    "And now, the tumorClusters is a vector\n",
    "that assigns a value 1 through 5 to each of the intensity\n",
    "values in the tumorVector, as predicted\n",
    "by the k-means algorithm.\n",
    "To output the segmented image, we first\n",
    "need to convert the tumor clusters to a matrix.\n",
    "So let's use the dimension function,\n",
    "and then the input is simply tumorClusters,\n",
    "and then using the c function with the first input\n",
    "as the number of rows in the tumorMatrix\n",
    "and the second input as the number\n",
    "of columns in the tumorMatrix.\n"
   ]
  },
  {
   "cell_type": "code",
   "execution_count": 32,
   "metadata": {
    "collapsed": true
   },
   "outputs": [],
   "source": [
    "dim(tumorClusters) = dim(tumorMatrix)"
   ]
  },
  {
   "cell_type": "code",
   "execution_count": 33,
   "metadata": {
    "collapsed": true
   },
   "outputs": [],
   "source": [
    "#image(tumorClusters, axes = FALSE, col = rainbow(k))"
   ]
  },
  {
   "cell_type": "markdown",
   "metadata": {},
   "source": [
    "SCREE PLOTS\n",
    "\n",
    "While dendrograms can be used to select the final number of clusters for Hierarchical Clustering, we can't use dendrograms for k-means clustering. However, there are several other ways that the number of clusters can be selected. One common way to select the number of clusters is by using a scree plot, which works for any clustering algorithm.\n",
    "\n",
    "A standard scree plot has the number of clusters on the x-axis, and the sum of the within-cluster sum of squares on the y-axis. The within-cluster sum of squares for a cluster is the sum, across all points in the cluster, of the squared distance between each point and the centroid of the cluster.  We ideally want very small within-cluster sum of squares, since this means that the points are all very close to their centroid. \n",
    "\n",
    "To create the scree plot, the clustering algorithm is run with a range of values for the number of clusters. For each number of clusters, the within-cluster sum of squares can easily be extracted when using k-means clustering. For example, suppose that we want to cluster the MRI image from this video into two clusters. We can first run the k-means algorithm with two clusters:\n",
    "\n",
    "KMC2 = kmeans(healthyVector, centers = 2, iter.max = 1000)\n",
    "\n",
    "Then, the within-cluster sum of squares is just an element of KMC2:\n",
    "\n",
    "KMC2$withinss\n",
    "\n",
    "This gives a vector of the within-cluster sum of squares for each cluster (in this case, there should be two numbers). \n",
    "\n",
    "Now suppose we want to determine the best number of clusters for this dataset. We would first repeat the kmeans function call above with centers = 3, centers = 4, etc. to create KMC3, KMC4, and so on. Then, we could generate the following plot:\n",
    "\n",
    "NumClusters = seq(2,10,1)\n",
    "\n",
    "SumWithinss = c(sum(KMC2$withinss), sum(KMC3$withinss), sum(KMC4$withinss), sum(KMC5$withinss), sum(KMC6$withinss), sum(KMC7$withinss), sum(KMC8$withinss), sum(KMC9$withinss), sum(KMC10$withinss))\n",
    "\n",
    "plot(NumClusters, SumWithinss, type=\"b\")\n",
    "\n",
    "The plot looks like this (the type=\"b\" argument just told the plot command to give us points and lines):"
   ]
  },
  {
   "cell_type": "code",
   "execution_count": 34,
   "metadata": {
    "collapsed": true
   },
   "outputs": [],
   "source": [
    "KMC2 = kmeans(healthyVector, centers = 2, iter.max = 1000)\n",
    "KMC3 = kmeans(healthyVector, centers = 3, iter.max = 1000)\n",
    "KMC4 = kmeans(healthyVector, centers = 4, iter.max = 1000)\n",
    "KMC5 = kmeans(healthyVector, centers = 5, iter.max = 1000)\n",
    "KMC6 = kmeans(healthyVector, centers = 6, iter.max = 1000)\n",
    "KMC7 = kmeans(healthyVector, centers = 7, iter.max = 1000)\n",
    "KMC8 = kmeans(healthyVector, centers = 8, iter.max = 1000)"
   ]
  },
  {
   "cell_type": "code",
   "execution_count": 35,
   "metadata": {
    "collapsed": true
   },
   "outputs": [],
   "source": [
    "NumClusters = seq(2,8,1)\n",
    "\n",
    "SumWithinss = c(sum(KMC2$withinss), sum(KMC3$withinss), sum(KMC4$withinss), sum(KMC5$withinss), sum(KMC6$withinss), sum(KMC7$withinss), sum(KMC8$withinss))"
   ]
  },
  {
   "cell_type": "code",
   "execution_count": 36,
   "metadata": {
    "collapsed": false
   },
   "outputs": [
    {
     "data": {
      "image/png": "[encoded data removed]",
      "image/svg+xml": [
       "<?xml version=\"1.0\" encoding=\"UTF-8\"?>\n",
       "<svg xmlns=\"http://www.w3.org/2000/svg\" xmlns:xlink=\"http://www.w3.org/1999/xlink\" width=\"504pt\" height=\"504pt\" viewBox=\"0 0 504 504\" version=\"1.1\">\n",
       "<defs>\n",
       "<g>\n",
       "<symbol overflow=\"visible\" id=\"glyph0-0\">\n",
       "<path style=\"stroke:none;\" d=\"\"/>\n",
       "</symbol>\n",
       "<symbol overflow=\"visible\" id=\"glyph0-1\">\n",
       "<path style=\"stroke:none;\" d=\"M 6.078125 -1.046875 L 1.59375 -1.046875 C 1.703125 -1.734375 2.09375 -2.1875 3.125 -2.796875 L 4.328125 -3.4375 C 5.515625 -4.09375 6.125 -4.96875 6.125 -6.015625 C 6.125 -6.71875 5.84375 -7.375 5.34375 -7.84375 C 4.84375 -8.296875 4.21875 -8.515625 3.40625 -8.515625 C 2.328125 -8.515625 1.53125 -8.125 1.0625 -7.40625 C 0.75 -6.953125 0.625 -6.421875 0.59375 -5.5625 L 1.65625 -5.5625 C 1.6875 -6.125 1.765625 -6.484375 1.90625 -6.75 C 2.1875 -7.265625 2.734375 -7.578125 3.375 -7.578125 C 4.328125 -7.578125 5.046875 -6.90625 5.046875 -5.984375 C 5.046875 -5.3125 4.65625 -4.734375 3.90625 -4.3125 L 2.796875 -3.6875 C 1.015625 -2.671875 0.5 -1.875 0.40625 0 L 6.078125 0 Z \"/>\n",
       "</symbol>\n",
       "<symbol overflow=\"visible\" id=\"glyph0-2\">\n",
       "<path style=\"stroke:none;\" d=\"M 2.65625 -3.90625 L 3.234375 -3.90625 C 4.390625 -3.90625 4.984375 -3.390625 4.984375 -2.359375 C 4.984375 -1.296875 4.328125 -0.65625 3.234375 -0.65625 C 2.078125 -0.65625 1.515625 -1.234375 1.4375 -2.46875 L 0.390625 -2.46875 C 0.4375 -1.78125 0.546875 -1.34375 0.75 -0.953125 C 1.1875 -0.140625 2.03125 0.28125 3.1875 0.28125 C 4.9375 0.28125 6.078125 -0.765625 6.078125 -2.375 C 6.078125 -3.453125 5.65625 -4.0625 4.625 -4.40625 C 5.421875 -4.71875 5.8125 -5.3125 5.8125 -6.171875 C 5.8125 -7.625 4.84375 -8.515625 3.234375 -8.515625 C 1.515625 -8.515625 0.59375 -7.578125 0.5625 -5.765625 L 1.625 -5.765625 C 1.625 -6.28125 1.6875 -6.5625 1.8125 -6.828125 C 2.046875 -7.296875 2.578125 -7.578125 3.234375 -7.578125 C 4.171875 -7.578125 4.734375 -7.03125 4.734375 -6.125 C 4.734375 -5.53125 4.53125 -5.171875 4.0625 -4.984375 C 3.765625 -4.859375 3.390625 -4.8125 2.65625 -4.796875 Z \"/>\n",
       "</symbol>\n",
       "<symbol overflow=\"visible\" id=\"glyph0-3\">\n",
       "<path style=\"stroke:none;\" d=\"M 3.921875 -2.046875 L 3.921875 0 L 4.984375 0 L 4.984375 -2.046875 L 6.234375 -2.046875 L 6.234375 -2.984375 L 4.984375 -2.984375 L 4.984375 -8.515625 L 4.203125 -8.515625 L 0.34375 -3.15625 L 0.34375 -2.046875 Z M 3.921875 -2.984375 L 1.265625 -2.984375 L 3.921875 -6.703125 Z \"/>\n",
       "</symbol>\n",
       "<symbol overflow=\"visible\" id=\"glyph0-4\">\n",
       "<path style=\"stroke:none;\" d=\"M 5.71875 -8.515625 L 1.3125 -8.515625 L 0.6875 -3.875 L 1.65625 -3.875 C 2.140625 -4.46875 2.5625 -4.671875 3.21875 -4.671875 C 4.359375 -4.671875 5.078125 -3.890625 5.078125 -2.625 C 5.078125 -1.40625 4.375 -0.65625 3.21875 -0.65625 C 2.296875 -0.65625 1.734375 -1.125 1.46875 -2.09375 L 0.421875 -2.09375 C 0.5625 -1.390625 0.6875 -1.0625 0.9375 -0.75 C 1.421875 -0.09375 2.28125 0.28125 3.234375 0.28125 C 4.953125 0.28125 6.15625 -0.96875 6.15625 -2.765625 C 6.15625 -4.453125 5.046875 -5.609375 3.40625 -5.609375 C 2.8125 -5.609375 2.328125 -5.453125 1.84375 -5.09375 L 2.171875 -7.46875 L 5.71875 -7.46875 Z \"/>\n",
       "</symbol>\n",
       "<symbol overflow=\"visible\" id=\"glyph0-5\">\n",
       "<path style=\"stroke:none;\" d=\"M 5.96875 -6.28125 C 5.765625 -7.6875 4.859375 -8.515625 3.5625 -8.515625 C 2.625 -8.515625 1.78125 -8.046875 1.28125 -7.296875 C 0.75 -6.46875 0.515625 -5.421875 0.515625 -3.875 C 0.515625 -2.453125 0.734375 -1.53125 1.234375 -0.78125 C 1.6875 -0.09375 2.4375 0.28125 3.375 0.28125 C 4.984375 0.28125 6.15625 -0.921875 6.15625 -2.59375 C 6.15625 -4.171875 5.078125 -5.296875 3.546875 -5.296875 C 2.71875 -5.296875 2.046875 -4.96875 1.59375 -4.34375 C 1.609375 -6.421875 2.28125 -7.578125 3.484375 -7.578125 C 4.234375 -7.578125 4.75 -7.109375 4.921875 -6.28125 Z M 3.421875 -4.359375 C 4.4375 -4.359375 5.078125 -3.640625 5.078125 -2.515625 C 5.078125 -1.4375 4.359375 -0.65625 3.390625 -0.65625 C 2.40625 -0.65625 1.65625 -1.46875 1.65625 -2.5625 C 1.65625 -3.625 2.375 -4.359375 3.421875 -4.359375 Z \"/>\n",
       "</symbol>\n",
       "<symbol overflow=\"visible\" id=\"glyph0-6\">\n",
       "<path style=\"stroke:none;\" d=\"M 6.234375 -8.515625 L 0.546875 -8.515625 L 0.546875 -7.46875 L 5.140625 -7.46875 C 3.125 -4.578125 2.296875 -2.796875 1.65625 0 L 2.78125 0 C 3.25 -2.71875 4.3125 -5.0625 6.234375 -7.625 Z \"/>\n",
       "</symbol>\n",
       "<symbol overflow=\"visible\" id=\"glyph0-7\">\n",
       "<path style=\"stroke:none;\" d=\"M 4.6875 -4.46875 C 5.5625 -5 5.859375 -5.4375 5.859375 -6.234375 C 5.859375 -7.578125 4.8125 -8.515625 3.296875 -8.515625 C 1.796875 -8.515625 0.75 -7.578125 0.75 -6.234375 C 0.75 -5.453125 1.03125 -5.015625 1.890625 -4.46875 C 0.921875 -4.015625 0.4375 -3.296875 0.4375 -2.359375 C 0.4375 -0.796875 1.625 0.28125 3.296875 0.28125 C 4.984375 0.28125 6.15625 -0.796875 6.15625 -2.359375 C 6.15625 -3.296875 5.671875 -4.015625 4.6875 -4.46875 Z M 3.296875 -7.578125 C 4.203125 -7.578125 4.78125 -7.046875 4.78125 -6.21875 C 4.78125 -5.421875 4.1875 -4.890625 3.296875 -4.890625 C 2.40625 -4.890625 1.828125 -5.421875 1.828125 -6.234375 C 1.828125 -7.046875 2.40625 -7.578125 3.296875 -7.578125 Z M 3.296875 -4.015625 C 4.359375 -4.015625 5.078125 -3.34375 5.078125 -2.34375 C 5.078125 -1.328125 4.359375 -0.65625 3.28125 -0.65625 C 2.25 -0.65625 1.53125 -1.34375 1.53125 -2.34375 C 1.53125 -3.34375 2.25 -4.015625 3.296875 -4.015625 Z \"/>\n",
       "</symbol>\n",
       "<symbol overflow=\"visible\" id=\"glyph0-8\">\n",
       "<path style=\"stroke:none;\" d=\"M 7.75 -8.75 L 6.703125 -8.75 L 6.703125 -1.59375 L 2.125 -8.75 L 0.90625 -8.75 L 0.90625 0 L 1.96875 0 L 1.96875 -7.09375 L 6.484375 0 L 7.75 0 Z \"/>\n",
       "</symbol>\n",
       "<symbol overflow=\"visible\" id=\"glyph0-9\">\n",
       "<path style=\"stroke:none;\" d=\"M 5.78125 0 L 5.78125 -6.28125 L 4.78125 -6.28125 L 4.78125 -2.71875 C 4.78125 -1.4375 4.109375 -0.59375 3.078125 -0.59375 C 2.28125 -0.59375 1.78125 -1.078125 1.78125 -1.84375 L 1.78125 -6.28125 L 0.78125 -6.28125 L 0.78125 -1.4375 C 0.78125 -0.390625 1.5625 0.28125 2.78125 0.28125 C 3.703125 0.28125 4.296875 -0.046875 4.890625 -0.875 L 4.890625 0 Z \"/>\n",
       "</symbol>\n",
       "<symbol overflow=\"visible\" id=\"glyph0-10\">\n",
       "<path style=\"stroke:none;\" d=\"M 0.84375 -6.28125 L 0.84375 0 L 1.84375 0 L 1.84375 -3.953125 C 1.84375 -4.859375 2.515625 -5.59375 3.328125 -5.59375 C 4.0625 -5.59375 4.484375 -5.140625 4.484375 -4.328125 L 4.484375 0 L 5.5 0 L 5.5 -3.953125 C 5.5 -4.859375 6.15625 -5.59375 6.96875 -5.59375 C 7.703125 -5.59375 8.140625 -5.125 8.140625 -4.328125 L 8.140625 0 L 9.140625 0 L 9.140625 -4.71875 C 9.140625 -5.84375 8.5 -6.46875 7.3125 -6.46875 C 6.484375 -6.46875 5.96875 -6.21875 5.390625 -5.515625 C 5.015625 -6.1875 4.515625 -6.46875 3.703125 -6.46875 C 2.859375 -6.46875 2.296875 -6.15625 1.765625 -5.40625 L 1.765625 -6.28125 Z \"/>\n",
       "</symbol>\n",
       "<symbol overflow=\"visible\" id=\"glyph0-11\">\n",
       "<path style=\"stroke:none;\" d=\"M 7.9375 -6.03125 C 7.59375 -7.953125 6.484375 -8.890625 4.578125 -8.890625 C 3.390625 -8.890625 2.453125 -8.515625 1.796875 -7.796875 C 1.015625 -6.9375 0.578125 -5.6875 0.578125 -4.265625 C 0.578125 -2.828125 1.015625 -1.59375 1.84375 -0.75 C 2.515625 -0.046875 3.390625 0.28125 4.53125 0.28125 C 6.65625 0.28125 7.859375 -0.875 8.125 -3.1875 L 6.96875 -3.1875 C 6.875 -2.59375 6.75 -2.1875 6.578125 -1.84375 C 6.21875 -1.109375 5.46875 -0.703125 4.53125 -0.703125 C 2.796875 -0.703125 1.6875 -2.09375 1.6875 -4.28125 C 1.6875 -6.53125 2.75 -7.90625 4.4375 -7.90625 C 5.140625 -7.90625 5.8125 -7.6875 6.171875 -7.359375 C 6.484375 -7.0625 6.671875 -6.6875 6.796875 -6.03125 Z \"/>\n",
       "</symbol>\n",
       "<symbol overflow=\"visible\" id=\"glyph0-12\">\n",
       "<path style=\"stroke:none;\" d=\"M 1.828125 -8.75 L 0.8125 -8.75 L 0.8125 0 L 1.828125 0 Z \"/>\n",
       "</symbol>\n",
       "<symbol overflow=\"visible\" id=\"glyph0-13\">\n",
       "<path style=\"stroke:none;\" d=\"M 5.25 -4.53125 C 5.25 -5.765625 4.421875 -6.46875 2.96875 -6.46875 C 1.515625 -6.46875 0.5625 -5.71875 0.5625 -4.546875 C 0.5625 -3.5625 1.0625 -3.09375 2.5625 -2.734375 L 3.484375 -2.515625 C 4.1875 -2.34375 4.46875 -2.09375 4.46875 -1.625 C 4.46875 -1.046875 3.875 -0.640625 3 -0.640625 C 2.453125 -0.640625 2 -0.796875 1.75 -1.0625 C 1.59375 -1.25 1.53125 -1.421875 1.46875 -1.875 L 0.40625 -1.875 C 0.453125 -0.421875 1.265625 0.28125 2.921875 0.28125 C 4.5 0.28125 5.515625 -0.5 5.515625 -1.71875 C 5.515625 -2.65625 4.984375 -3.171875 3.734375 -3.46875 L 2.765625 -3.703125 C 1.953125 -3.890625 1.609375 -4.15625 1.609375 -4.59375 C 1.609375 -5.171875 2.125 -5.546875 2.9375 -5.546875 C 3.75 -5.546875 4.171875 -5.203125 4.203125 -4.53125 Z \"/>\n",
       "</symbol>\n",
       "<symbol overflow=\"visible\" id=\"glyph0-14\">\n",
       "<path style=\"stroke:none;\" d=\"M 3.046875 -6.28125 L 2.015625 -6.28125 L 2.015625 -8.015625 L 1.015625 -8.015625 L 1.015625 -6.28125 L 0.171875 -6.28125 L 0.171875 -5.46875 L 1.015625 -5.46875 L 1.015625 -0.71875 C 1.015625 -0.078125 1.453125 0.28125 2.234375 0.28125 C 2.46875 0.28125 2.71875 0.25 3.046875 0.1875 L 3.046875 -0.640625 C 2.921875 -0.609375 2.765625 -0.59375 2.5625 -0.59375 C 2.140625 -0.59375 2.015625 -0.71875 2.015625 -1.15625 L 2.015625 -5.46875 L 3.046875 -5.46875 Z \"/>\n",
       "</symbol>\n",
       "<symbol overflow=\"visible\" id=\"glyph0-15\">\n",
       "<path style=\"stroke:none;\" d=\"M 6.15625 -2.8125 C 6.15625 -3.765625 6.078125 -4.34375 5.90625 -4.8125 C 5.5 -5.84375 4.53125 -6.46875 3.359375 -6.46875 C 1.609375 -6.46875 0.484375 -5.125 0.484375 -3.0625 C 0.484375 -1 1.578125 0.28125 3.34375 0.28125 C 4.78125 0.28125 5.765625 -0.546875 6.03125 -1.90625 L 5.015625 -1.90625 C 4.734375 -1.078125 4.171875 -0.640625 3.375 -0.640625 C 2.734375 -0.640625 2.203125 -0.9375 1.859375 -1.46875 C 1.625 -1.828125 1.53125 -2.1875 1.53125 -2.8125 Z M 1.546875 -3.625 C 1.625 -4.78125 2.34375 -5.546875 3.34375 -5.546875 C 4.328125 -5.546875 5.09375 -4.734375 5.09375 -3.703125 C 5.09375 -3.671875 5.09375 -3.640625 5.078125 -3.625 Z \"/>\n",
       "</symbol>\n",
       "<symbol overflow=\"visible\" id=\"glyph0-16\">\n",
       "<path style=\"stroke:none;\" d=\"M 0.828125 -6.28125 L 0.828125 0 L 1.84375 0 L 1.84375 -3.265625 C 1.84375 -4.15625 2.0625 -4.75 2.546875 -5.09375 C 2.859375 -5.328125 3.15625 -5.40625 3.859375 -5.40625 L 3.859375 -6.4375 C 3.6875 -6.453125 3.59375 -6.46875 3.46875 -6.46875 C 2.8125 -6.46875 2.328125 -6.078125 1.75 -5.140625 L 1.75 -6.28125 Z \"/>\n",
       "</symbol>\n",
       "<symbol overflow=\"visible\" id=\"glyph1-0\">\n",
       "<path style=\"stroke:none;\" d=\"\"/>\n",
       "</symbol>\n",
       "<symbol overflow=\"visible\" id=\"glyph1-1\">\n",
       "<path style=\"stroke:none;\" d=\"M -8.515625 -5.71875 L -8.515625 -1.3125 L -3.875 -0.6875 L -3.875 -1.65625 C -4.46875 -2.140625 -4.671875 -2.5625 -4.671875 -3.21875 C -4.671875 -4.359375 -3.890625 -5.078125 -2.625 -5.078125 C -1.40625 -5.078125 -0.65625 -4.375 -0.65625 -3.21875 C -0.65625 -2.296875 -1.125 -1.734375 -2.09375 -1.46875 L -2.09375 -0.421875 C -1.390625 -0.5625 -1.0625 -0.6875 -0.75 -0.9375 C -0.09375 -1.421875 0.28125 -2.28125 0.28125 -3.234375 C 0.28125 -4.953125 -0.96875 -6.15625 -2.765625 -6.15625 C -4.453125 -6.15625 -5.609375 -5.046875 -5.609375 -3.40625 C -5.609375 -2.8125 -5.453125 -2.328125 -5.09375 -1.84375 L -7.46875 -2.171875 L -7.46875 -5.71875 Z \"/>\n",
       "</symbol>\n",
       "<symbol overflow=\"visible\" id=\"glyph1-2\">\n",
       "<path style=\"stroke:none;\" d=\"M -8.515625 -3.296875 C -8.515625 -2.515625 -8.15625 -1.78125 -7.578125 -1.34375 C -6.828125 -0.796875 -5.6875 -0.515625 -4.109375 -0.515625 C -1.25 -0.515625 0.28125 -1.46875 0.28125 -3.296875 C 0.28125 -5.09375 -1.25 -6.078125 -4.046875 -6.078125 C -5.703125 -6.078125 -6.796875 -5.8125 -7.578125 -5.25 C -8.171875 -4.8125 -8.515625 -4.109375 -8.515625 -3.296875 Z M -7.578125 -3.296875 C -7.578125 -4.4375 -6.421875 -5 -4.140625 -5 C -1.734375 -5 -0.59375 -4.453125 -0.59375 -3.28125 C -0.59375 -2.15625 -1.78125 -1.59375 -4.109375 -1.59375 C -6.4375 -1.59375 -7.578125 -2.15625 -7.578125 -3.296875 Z \"/>\n",
       "</symbol>\n",
       "<symbol overflow=\"visible\" id=\"glyph1-3\">\n",
       "<path style=\"stroke:none;\" d=\"M -6.0625 -3.109375 L 0 -3.109375 L 0 -4.15625 L -8.515625 -4.15625 L -8.515625 -3.46875 C -7.203125 -3.09375 -7.015625 -2.859375 -6.8125 -1.21875 L -6.0625 -1.21875 Z \"/>\n",
       "</symbol>\n",
       "<symbol overflow=\"visible\" id=\"glyph1-4\">\n",
       "<path style=\"stroke:none;\" d=\"M -1.046875 -6.078125 L -1.046875 -1.59375 C -1.734375 -1.703125 -2.1875 -2.09375 -2.796875 -3.125 L -3.4375 -4.328125 C -4.09375 -5.515625 -4.96875 -6.125 -6.015625 -6.125 C -6.71875 -6.125 -7.375 -5.84375 -7.84375 -5.34375 C -8.296875 -4.84375 -8.515625 -4.21875 -8.515625 -3.40625 C -8.515625 -2.328125 -8.125 -1.53125 -7.40625 -1.0625 C -6.953125 -0.75 -6.421875 -0.625 -5.5625 -0.59375 L -5.5625 -1.65625 C -6.125 -1.6875 -6.484375 -1.765625 -6.75 -1.90625 C -7.265625 -2.1875 -7.578125 -2.734375 -7.578125 -3.375 C -7.578125 -4.328125 -6.90625 -5.046875 -5.984375 -5.046875 C -5.3125 -5.046875 -4.734375 -4.65625 -4.3125 -3.90625 L -3.6875 -2.796875 C -2.671875 -1.015625 -1.875 -0.5 0 -0.40625 L 0 -6.078125 Z \"/>\n",
       "</symbol>\n",
       "<symbol overflow=\"visible\" id=\"glyph1-5\">\n",
       "<path style=\"stroke:none;\" d=\"M -6.1875 -7.15625 C -7.890625 -7.140625 -8.890625 -5.96875 -8.890625 -3.953125 C -8.890625 -2.03125 -7.90625 -0.84375 -6.328125 -0.84375 C -5.25 -0.84375 -4.578125 -1.40625 -4.28125 -2.5625 L -3.703125 -4.734375 C -3.421875 -5.828125 -2.96875 -6.34375 -2.296875 -6.34375 C -1.828125 -6.34375 -1.34375 -6.078125 -1.078125 -5.71875 C -0.84375 -5.359375 -0.703125 -4.8125 -0.703125 -4.109375 C -0.703125 -3.15625 -0.9375 -2.515625 -1.4375 -2.09375 C -1.828125 -1.765625 -2.25 -1.625 -2.78125 -1.625 L -2.78125 -0.578125 C -1.984375 -0.59375 -1.453125 -0.75 -0.96875 -1.09375 C -0.15625 -1.6875 0.28125 -2.703125 0.28125 -4.03125 C 0.28125 -5.078125 0.03125 -5.921875 -0.390625 -6.484375 C -0.859375 -7.078125 -1.640625 -7.453125 -2.40625 -7.453125 C -3.484375 -7.453125 -4.265625 -6.78125 -4.59375 -5.59375 L -5.1875 -3.390625 C -5.46875 -2.34375 -5.8125 -1.953125 -6.484375 -1.953125 C -7.375 -1.953125 -7.953125 -2.734375 -7.953125 -3.90625 C -7.953125 -5.296875 -7.3125 -6.078125 -6.1875 -6.09375 Z \"/>\n",
       "</symbol>\n",
       "<symbol overflow=\"visible\" id=\"glyph1-6\">\n",
       "<path style=\"stroke:none;\" d=\"M 0 -5.78125 L -6.28125 -5.78125 L -6.28125 -4.78125 L -2.71875 -4.78125 C -1.4375 -4.78125 -0.59375 -4.109375 -0.59375 -3.078125 C -0.59375 -2.28125 -1.078125 -1.78125 -1.84375 -1.78125 L -6.28125 -1.78125 L -6.28125 -0.78125 L -1.4375 -0.78125 C -0.390625 -0.78125 0.28125 -1.5625 0.28125 -2.78125 C 0.28125 -3.703125 -0.046875 -4.296875 -0.875 -4.890625 L 0 -4.890625 Z \"/>\n",
       "</symbol>\n",
       "<symbol overflow=\"visible\" id=\"glyph1-7\">\n",
       "<path style=\"stroke:none;\" d=\"M -6.28125 -0.84375 L 0 -0.84375 L 0 -1.84375 L -3.953125 -1.84375 C -4.859375 -1.84375 -5.59375 -2.515625 -5.59375 -3.328125 C -5.59375 -4.0625 -5.140625 -4.484375 -4.328125 -4.484375 L 0 -4.484375 L 0 -5.5 L -3.953125 -5.5 C -4.859375 -5.5 -5.59375 -6.15625 -5.59375 -6.96875 C -5.59375 -7.703125 -5.125 -8.140625 -4.328125 -8.140625 L 0 -8.140625 L 0 -9.140625 L -4.71875 -9.140625 C -5.84375 -9.140625 -6.46875 -8.5 -6.46875 -7.3125 C -6.46875 -6.484375 -6.21875 -5.96875 -5.515625 -5.390625 C -6.1875 -5.015625 -6.46875 -4.515625 -6.46875 -3.703125 C -6.46875 -2.859375 -6.15625 -2.296875 -5.40625 -1.765625 L -6.28125 -1.765625 Z \"/>\n",
       "</symbol>\n",
       "<symbol overflow=\"visible\" id=\"glyph1-8\">\n",
       "<path style=\"stroke:none;\" d=\"M 0 -8.921875 L -8.75 -11.140625 L -8.75 -9.90625 L -1.640625 -8.296875 L -8.75 -6.296875 L -8.75 -5.09375 L -1.640625 -3.15625 L -8.75 -1.515625 L -8.75 -0.265625 L 0 -2.515625 L 0 -3.734375 L -7.1875 -5.6875 L 0 -7.703125 Z \"/>\n",
       "</symbol>\n",
       "<symbol overflow=\"visible\" id=\"glyph1-9\">\n",
       "<path style=\"stroke:none;\" d=\"M -6.28125 -1.796875 L -6.28125 -0.796875 L 0 -0.796875 L 0 -1.796875 Z M -8.75 -1.796875 L -8.75 -0.796875 L -7.484375 -0.796875 L -7.484375 -1.796875 Z \"/>\n",
       "</symbol>\n",
       "<symbol overflow=\"visible\" id=\"glyph1-10\">\n",
       "<path style=\"stroke:none;\" d=\"M -6.28125 -3.046875 L -6.28125 -2.015625 L -8.015625 -2.015625 L -8.015625 -1.015625 L -6.28125 -1.015625 L -6.28125 -0.171875 L -5.46875 -0.171875 L -5.46875 -1.015625 L -0.71875 -1.015625 C -0.078125 -1.015625 0.28125 -1.453125 0.28125 -2.234375 C 0.28125 -2.46875 0.25 -2.71875 0.1875 -3.046875 L -0.640625 -3.046875 C -0.609375 -2.921875 -0.59375 -2.765625 -0.59375 -2.5625 C -0.59375 -2.140625 -0.71875 -2.015625 -1.15625 -2.015625 L -5.46875 -2.015625 L -5.46875 -3.046875 Z \"/>\n",
       "</symbol>\n",
       "<symbol overflow=\"visible\" id=\"glyph1-11\">\n",
       "<path style=\"stroke:none;\" d=\"M -8.75 -0.84375 L 0 -0.84375 L 0 -1.84375 L -3.46875 -1.84375 C -4.75 -1.84375 -5.59375 -2.515625 -5.59375 -3.546875 C -5.59375 -3.859375 -5.484375 -4.1875 -5.296875 -4.421875 C -5.09375 -4.71875 -4.796875 -4.84375 -4.359375 -4.84375 L 0 -4.84375 L 0 -5.828125 L -4.75 -5.828125 C -5.8125 -5.828125 -6.46875 -5.078125 -6.46875 -3.859375 C -6.46875 -2.96875 -6.1875 -2.421875 -5.421875 -1.84375 L -8.75 -1.84375 Z \"/>\n",
       "</symbol>\n",
       "<symbol overflow=\"visible\" id=\"glyph1-12\">\n",
       "<path style=\"stroke:none;\" d=\"M -6.28125 -0.84375 L 0 -0.84375 L 0 -1.84375 L -3.46875 -1.84375 C -4.75 -1.84375 -5.59375 -2.515625 -5.59375 -3.546875 C -5.59375 -4.34375 -5.109375 -4.84375 -4.359375 -4.84375 L 0 -4.84375 L 0 -5.84375 L -4.75 -5.84375 C -5.796875 -5.84375 -6.46875 -5.0625 -6.46875 -3.859375 C -6.46875 -2.921875 -6.109375 -2.3125 -5.234375 -1.765625 L -6.28125 -1.765625 Z \"/>\n",
       "</symbol>\n",
       "<symbol overflow=\"visible\" id=\"glyph1-13\">\n",
       "<path style=\"stroke:none;\" d=\"M -4.53125 -5.25 C -5.765625 -5.25 -6.46875 -4.421875 -6.46875 -2.96875 C -6.46875 -1.515625 -5.71875 -0.5625 -4.546875 -0.5625 C -3.5625 -0.5625 -3.09375 -1.0625 -2.734375 -2.5625 L -2.515625 -3.484375 C -2.34375 -4.1875 -2.09375 -4.46875 -1.625 -4.46875 C -1.046875 -4.46875 -0.640625 -3.875 -0.640625 -3 C -0.640625 -2.453125 -0.796875 -2 -1.0625 -1.75 C -1.25 -1.59375 -1.421875 -1.53125 -1.875 -1.46875 L -1.875 -0.40625 C -0.421875 -0.453125 0.28125 -1.265625 0.28125 -2.921875 C 0.28125 -4.5 -0.5 -5.515625 -1.71875 -5.515625 C -2.65625 -5.515625 -3.171875 -4.984375 -3.46875 -3.734375 L -3.703125 -2.765625 C -3.890625 -1.953125 -4.15625 -1.609375 -4.59375 -1.609375 C -5.171875 -1.609375 -5.546875 -2.125 -5.546875 -2.9375 C -5.546875 -3.75 -5.203125 -4.171875 -4.53125 -4.203125 Z \"/>\n",
       "</symbol>\n",
       "</g>\n",
       "</defs>\n",
       "<g id=\"surface50\">\n",
       "<rect x=\"0\" y=\"0\" width=\"504\" height=\"504\" style=\"fill:rgb(100%,100%,100%);fill-opacity:1;stroke:none;\"/>\n",
       "<path style=\"fill:none;stroke-width:0.75;stroke-linecap:round;stroke-linejoin:round;stroke:rgb(0%,0%,0%);stroke-opacity:1;stroke-miterlimit:10;\" d=\"M 76.429688 79.707031 L 136.371094 283.785156 \"/>\n",
       "<path style=\"fill:none;stroke-width:0.75;stroke-linecap:round;stroke-linejoin:round;stroke:rgb(0%,0%,0%);stroke-opacity:1;stroke-miterlimit:10;\" d=\"M 143.289062 295.980469 L 197.507812 354.5625 \"/>\n",
       "<path style=\"fill:none;stroke-width:0.75;stroke-linecap:round;stroke-linejoin:round;stroke:rgb(0%,0%,0%);stroke-opacity:1;stroke-miterlimit:10;\" d=\"M 208.875 363 L 259.925781 387.863281 \"/>\n",
       "<path style=\"fill:none;stroke-width:0.75;stroke-linecap:round;stroke-linejoin:round;stroke:rgb(0%,0%,0%);stroke-opacity:1;stroke-miterlimit:10;\" d=\"M 273.414062 392.632812 L 323.382812 404.167969 \"/>\n",
       "<path style=\"fill:none;stroke-width:0.75;stroke-linecap:round;stroke-linejoin:round;stroke:rgb(0%,0%,0%);stroke-opacity:1;stroke-miterlimit:10;\" d=\"M 337.5625 406.515625 L 387.238281 411.558594 \"/>\n",
       "<path style=\"fill:none;stroke-width:0.75;stroke-linecap:round;stroke-linejoin:round;stroke:rgb(0%,0%,0%);stroke-opacity:1;stroke-miterlimit:10;\" d=\"M 401.582031 412.792969 L 451.21875 416.292969 \"/>\n",
       "<path style=\"fill:none;stroke-width:0.75;stroke-linecap:round;stroke-linejoin:round;stroke:rgb(0%,0%,0%);stroke-opacity:1;stroke-miterlimit:10;\" d=\"M 77.101562 72.800781 C 77.101562 76.398438 71.699219 76.398438 71.699219 72.800781 C 71.699219 69.199219 77.101562 69.199219 77.101562 72.800781 \"/>\n",
       "<path style=\"fill:none;stroke-width:0.75;stroke-linecap:round;stroke-linejoin:round;stroke:rgb(0%,0%,0%);stroke-opacity:1;stroke-miterlimit:10;\" d=\"M 141.101562 290.695312 C 141.101562 294.292969 135.699219 294.292969 135.699219 290.695312 C 135.699219 287.09375 141.101562 287.09375 141.101562 290.695312 \"/>\n",
       "<path style=\"fill:none;stroke-width:0.75;stroke-linecap:round;stroke-linejoin:round;stroke:rgb(0%,0%,0%);stroke-opacity:1;stroke-miterlimit:10;\" d=\"M 205.101562 359.847656 C 205.101562 363.445312 199.699219 363.445312 199.699219 359.847656 C 199.699219 356.246094 205.101562 356.246094 205.101562 359.847656 \"/>\n",
       "<path style=\"fill:none;stroke-width:0.75;stroke-linecap:round;stroke-linejoin:round;stroke:rgb(0%,0%,0%);stroke-opacity:1;stroke-miterlimit:10;\" d=\"M 269.101562 391.015625 C 269.101562 394.613281 263.699219 394.613281 263.699219 391.015625 C 263.699219 387.414062 269.101562 387.414062 269.101562 391.015625 \"/>\n",
       "<path style=\"fill:none;stroke-width:0.75;stroke-linecap:round;stroke-linejoin:round;stroke:rgb(0%,0%,0%);stroke-opacity:1;stroke-miterlimit:10;\" d=\"M 333.101562 405.785156 C 333.101562 409.386719 327.699219 409.386719 327.699219 405.785156 C 327.699219 402.1875 333.101562 402.1875 333.101562 405.785156 \"/>\n",
       "<path style=\"fill:none;stroke-width:0.75;stroke-linecap:round;stroke-linejoin:round;stroke:rgb(0%,0%,0%);stroke-opacity:1;stroke-miterlimit:10;\" d=\"M 397.101562 412.285156 C 397.101562 415.882812 391.699219 415.882812 391.699219 412.285156 C 391.699219 408.683594 397.101562 408.683594 397.101562 412.285156 \"/>\n",
       "<path style=\"fill:none;stroke-width:0.75;stroke-linecap:round;stroke-linejoin:round;stroke:rgb(0%,0%,0%);stroke-opacity:1;stroke-miterlimit:10;\" d=\"M 461.101562 416.800781 C 461.101562 420.398438 455.699219 420.398438 455.699219 416.800781 C 455.699219 413.199219 461.101562 413.199219 461.101562 416.800781 \"/>\n",
       "<path style=\"fill:none;stroke-width:0.75;stroke-linecap:round;stroke-linejoin:round;stroke:rgb(0%,0%,0%);stroke-opacity:1;stroke-miterlimit:10;\" d=\"M 74.398438 430.558594 L 458.398438 430.558594 \"/>\n",
       "<path style=\"fill:none;stroke-width:0.75;stroke-linecap:round;stroke-linejoin:round;stroke:rgb(0%,0%,0%);stroke-opacity:1;stroke-miterlimit:10;\" d=\"M 74.398438 430.558594 L 74.398438 437.761719 \"/>\n",
       "<path style=\"fill:none;stroke-width:0.75;stroke-linecap:round;stroke-linejoin:round;stroke:rgb(0%,0%,0%);stroke-opacity:1;stroke-miterlimit:10;\" d=\"M 138.398438 430.558594 L 138.398438 437.761719 \"/>\n",
       "<path style=\"fill:none;stroke-width:0.75;stroke-linecap:round;stroke-linejoin:round;stroke:rgb(0%,0%,0%);stroke-opacity:1;stroke-miterlimit:10;\" d=\"M 202.398438 430.558594 L 202.398438 437.761719 \"/>\n",
       "<path style=\"fill:none;stroke-width:0.75;stroke-linecap:round;stroke-linejoin:round;stroke:rgb(0%,0%,0%);stroke-opacity:1;stroke-miterlimit:10;\" d=\"M 266.398438 430.558594 L 266.398438 437.761719 \"/>\n",
       "<path style=\"fill:none;stroke-width:0.75;stroke-linecap:round;stroke-linejoin:round;stroke:rgb(0%,0%,0%);stroke-opacity:1;stroke-miterlimit:10;\" d=\"M 330.398438 430.558594 L 330.398438 437.761719 \"/>\n",
       "<path style=\"fill:none;stroke-width:0.75;stroke-linecap:round;stroke-linejoin:round;stroke:rgb(0%,0%,0%);stroke-opacity:1;stroke-miterlimit:10;\" d=\"M 394.398438 430.558594 L 394.398438 437.761719 \"/>\n",
       "<path style=\"fill:none;stroke-width:0.75;stroke-linecap:round;stroke-linejoin:round;stroke:rgb(0%,0%,0%);stroke-opacity:1;stroke-miterlimit:10;\" d=\"M 458.398438 430.558594 L 458.398438 437.761719 \"/>\n",
       "<g style=\"fill:rgb(0%,0%,0%);fill-opacity:1;\">\n",
       "  <use xlink:href=\"#glyph0-1\" x=\"70.898438\" y=\"455.916016\"/>\n",
       "</g>\n",
       "<g style=\"fill:rgb(0%,0%,0%);fill-opacity:1;\">\n",
       "  <use xlink:href=\"#glyph0-2\" x=\"134.898438\" y=\"455.916016\"/>\n",
       "</g>\n",
       "<g style=\"fill:rgb(0%,0%,0%);fill-opacity:1;\">\n",
       "  <use xlink:href=\"#glyph0-3\" x=\"198.898438\" y=\"455.916016\"/>\n",
       "</g>\n",
       "<g style=\"fill:rgb(0%,0%,0%);fill-opacity:1;\">\n",
       "  <use xlink:href=\"#glyph0-4\" x=\"262.898438\" y=\"455.916016\"/>\n",
       "</g>\n",
       "<g style=\"fill:rgb(0%,0%,0%);fill-opacity:1;\">\n",
       "  <use xlink:href=\"#glyph0-5\" x=\"326.898438\" y=\"455.916016\"/>\n",
       "</g>\n",
       "<g style=\"fill:rgb(0%,0%,0%);fill-opacity:1;\">\n",
       "  <use xlink:href=\"#glyph0-6\" x=\"390.898438\" y=\"455.916016\"/>\n",
       "</g>\n",
       "<g style=\"fill:rgb(0%,0%,0%);fill-opacity:1;\">\n",
       "  <use xlink:href=\"#glyph0-7\" x=\"454.898438\" y=\"455.916016\"/>\n",
       "</g>\n",
       "<path style=\"fill:none;stroke-width:0.75;stroke-linecap:round;stroke-linejoin:round;stroke:rgb(0%,0%,0%);stroke-opacity:1;stroke-miterlimit:10;\" d=\"M 59.039062 354.433594 L 59.039062 76.277344 \"/>\n",
       "<path style=\"fill:none;stroke-width:0.75;stroke-linecap:round;stroke-linejoin:round;stroke:rgb(0%,0%,0%);stroke-opacity:1;stroke-miterlimit:10;\" d=\"M 59.039062 354.433594 L 51.839844 354.433594 \"/>\n",
       "<path style=\"fill:none;stroke-width:0.75;stroke-linecap:round;stroke-linejoin:round;stroke:rgb(0%,0%,0%);stroke-opacity:1;stroke-miterlimit:10;\" d=\"M 59.039062 261.714844 L 51.839844 261.714844 \"/>\n",
       "<path style=\"fill:none;stroke-width:0.75;stroke-linecap:round;stroke-linejoin:round;stroke:rgb(0%,0%,0%);stroke-opacity:1;stroke-miterlimit:10;\" d=\"M 59.039062 168.996094 L 51.839844 168.996094 \"/>\n",
       "<path style=\"fill:none;stroke-width:0.75;stroke-linecap:round;stroke-linejoin:round;stroke:rgb(0%,0%,0%);stroke-opacity:1;stroke-miterlimit:10;\" d=\"M 59.039062 76.277344 L 51.839844 76.277344 \"/>\n",
       "<g style=\"fill:rgb(0%,0%,0%);fill-opacity:1;\">\n",
       "  <use xlink:href=\"#glyph1-1\" x=\"41.197266\" y=\"364.933594\"/>\n",
       "  <use xlink:href=\"#glyph1-2\" x=\"41.197266\" y=\"358.261719\"/>\n",
       "  <use xlink:href=\"#glyph1-2\" x=\"41.197266\" y=\"351.589844\"/>\n",
       "</g>\n",
       "<g style=\"fill:rgb(0%,0%,0%);fill-opacity:1;\">\n",
       "  <use xlink:href=\"#glyph1-3\" x=\"41.197266\" y=\"275.214844\"/>\n",
       "  <use xlink:href=\"#glyph1-2\" x=\"41.197266\" y=\"268.542969\"/>\n",
       "  <use xlink:href=\"#glyph1-2\" x=\"41.197266\" y=\"261.871094\"/>\n",
       "  <use xlink:href=\"#glyph1-2\" x=\"41.197266\" y=\"255.199219\"/>\n",
       "</g>\n",
       "<g style=\"fill:rgb(0%,0%,0%);fill-opacity:1;\">\n",
       "  <use xlink:href=\"#glyph1-3\" x=\"41.197266\" y=\"182.496094\"/>\n",
       "  <use xlink:href=\"#glyph1-1\" x=\"41.197266\" y=\"175.824219\"/>\n",
       "  <use xlink:href=\"#glyph1-2\" x=\"41.197266\" y=\"169.152344\"/>\n",
       "  <use xlink:href=\"#glyph1-2\" x=\"41.197266\" y=\"162.480469\"/>\n",
       "</g>\n",
       "<g style=\"fill:rgb(0%,0%,0%);fill-opacity:1;\">\n",
       "  <use xlink:href=\"#glyph1-4\" x=\"41.197266\" y=\"89.777344\"/>\n",
       "  <use xlink:href=\"#glyph1-2\" x=\"41.197266\" y=\"83.105469\"/>\n",
       "  <use xlink:href=\"#glyph1-2\" x=\"41.197266\" y=\"76.433594\"/>\n",
       "  <use xlink:href=\"#glyph1-2\" x=\"41.197266\" y=\"69.761719\"/>\n",
       "</g>\n",
       "<path style=\"fill:none;stroke-width:0.75;stroke-linecap:round;stroke-linejoin:round;stroke:rgb(0%,0%,0%);stroke-opacity:1;stroke-miterlimit:10;\" d=\"M 59.039062 430.558594 L 473.761719 430.558594 L 473.761719 59.039062 L 59.039062 59.039062 L 59.039062 430.558594 \"/>\n",
       "<g style=\"fill:rgb(0%,0%,0%);fill-opacity:1;\">\n",
       "  <use xlink:href=\"#glyph0-8\" x=\"231.398438\" y=\"484.716797\"/>\n",
       "  <use xlink:href=\"#glyph0-9\" x=\"240.0625\" y=\"484.716797\"/>\n",
       "  <use xlink:href=\"#glyph0-10\" x=\"246.734375\" y=\"484.716797\"/>\n",
       "  <use xlink:href=\"#glyph0-11\" x=\"256.730469\" y=\"484.716797\"/>\n",
       "  <use xlink:href=\"#glyph0-12\" x=\"265.394531\" y=\"484.716797\"/>\n",
       "  <use xlink:href=\"#glyph0-9\" x=\"268.058594\" y=\"484.716797\"/>\n",
       "  <use xlink:href=\"#glyph0-13\" x=\"274.730469\" y=\"484.716797\"/>\n",
       "  <use xlink:href=\"#glyph0-14\" x=\"280.730469\" y=\"484.716797\"/>\n",
       "  <use xlink:href=\"#glyph0-15\" x=\"284.066406\" y=\"484.716797\"/>\n",
       "  <use xlink:href=\"#glyph0-16\" x=\"290.738281\" y=\"484.716797\"/>\n",
       "  <use xlink:href=\"#glyph0-13\" x=\"294.734375\" y=\"484.716797\"/>\n",
       "</g>\n",
       "<g style=\"fill:rgb(0%,0%,0%);fill-opacity:1;\">\n",
       "  <use xlink:href=\"#glyph1-5\" x=\"12.396484\" y=\"280.300781\"/>\n",
       "  <use xlink:href=\"#glyph1-6\" x=\"12.396484\" y=\"272.296875\"/>\n",
       "  <use xlink:href=\"#glyph1-7\" x=\"12.396484\" y=\"265.625\"/>\n",
       "  <use xlink:href=\"#glyph1-8\" x=\"12.396484\" y=\"255.628906\"/>\n",
       "  <use xlink:href=\"#glyph1-9\" x=\"12.396484\" y=\"244.300781\"/>\n",
       "  <use xlink:href=\"#glyph1-10\" x=\"12.396484\" y=\"241.636719\"/>\n",
       "  <use xlink:href=\"#glyph1-11\" x=\"12.396484\" y=\"238.300781\"/>\n",
       "  <use xlink:href=\"#glyph1-9\" x=\"12.396484\" y=\"231.628906\"/>\n",
       "  <use xlink:href=\"#glyph1-12\" x=\"12.396484\" y=\"228.964844\"/>\n",
       "  <use xlink:href=\"#glyph1-13\" x=\"12.396484\" y=\"222.292969\"/>\n",
       "  <use xlink:href=\"#glyph1-13\" x=\"12.396484\" y=\"216.292969\"/>\n",
       "</g>\n",
       "</g>\n",
       "</svg>\n"
      ],
      "text/plain": [
       "plot without title"
      ]
     },
     "metadata": {
      "image/svg+xml": {
       "isolated": true
      }
     },
     "output_type": "display_data"
    }
   ],
   "source": [
    "plot(NumClusters, SumWithinss, type=\"b\")"
   ]
  },
  {
   "cell_type": "markdown",
   "metadata": {},
   "source": [
    "\n",
    "\n",
    "Note: You may have noticed it took a lot of typing to generate SumWithinss; this is because we limited ourselves to R functions we've learned so far in the course. In fact, R has powerful functions for repeating tasks with a different input (in this case running kmeans with different cluster sizes). For instance, we could generate SumWithinss with:\n",
    "\n",
    "SumWithinss = sapply(2:10, function(x) sum(kmeans(healthyVector, centers=x, iter.max=1000)$withinss))"
   ]
  },
  {
   "cell_type": "code",
   "execution_count": null,
   "metadata": {
    "collapsed": true
   },
   "outputs": [],
   "source": []
  }
 ],
 "metadata": {
  "kernelspec": {
   "display_name": "R",
   "language": "R",
   "name": "ir"
  },
  "language_info": {
   "codemirror_mode": "r",
   "file_extension": ".r",
   "mimetype": "text/x-r-source",
   "name": "R",
   "pygments_lexer": "r",
   "version": "3.2.2"
  }
 },
 "nbformat": 4,
 "nbformat_minor": 0
}
