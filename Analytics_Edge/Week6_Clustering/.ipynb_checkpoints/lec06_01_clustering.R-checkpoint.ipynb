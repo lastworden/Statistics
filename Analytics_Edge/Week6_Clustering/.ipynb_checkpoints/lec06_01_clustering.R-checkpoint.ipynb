{
 "cells": [
  {
   "cell_type": "markdown",
   "metadata": {},
   "source": [
    "https://courses.edx.org/courses/course-v1:MITx+15.071x_3+1T2016/courseware/d32b0c36ff484c228b8117257349d0e6/4652e5b0f0f44493b96a61186ec0da38/"
   ]
  },
  {
   "cell_type": "code",
   "execution_count": 1,
   "metadata": {
    "collapsed": true
   },
   "outputs": [],
   "source": [
    "movies = read.table(\"movieLens.txt\", header = FALSE, sep = \"|\", quote = \"\\\"\")"
   ]
  },
  {
   "cell_type": "code",
   "execution_count": 2,
   "metadata": {
    "collapsed": false
   },
   "outputs": [
    {
     "data": {
      "text/plain": [
       "       V1                                      V2                 V3     \n",
       " Min.   :   1.0   Body Snatchers (1993)         :   2   01-Jan-1995:215  \n",
       " 1st Qu.: 421.2   Butcher Boy, The (1998)       :   2   01-Jan-1994:213  \n",
       " Median : 841.5   Chairman of the Board (1998)  :   2   01-Jan-1993:126  \n",
       " Mean   : 841.5   Chasing Amy (1997)            :   2   01-Jan-1997: 98  \n",
       " 3rd Qu.:1261.8   Deceiver (1997)               :   2   01-Jan-1992: 37  \n",
       " Max.   :1682.0   Designated Mourner, The (1997):   2   01-Jan-1996: 26  \n",
       "                  (Other)                       :1670   (Other)    :967  \n",
       "    V4         \n",
       " Mode:logical  \n",
       " NA's:1682     \n",
       "               \n",
       "               \n",
       "               \n",
       "               \n",
       "               \n",
       "                                                                           V5      \n",
       "                                                                            :   3  \n",
       " http://us.imdb.com/M/title-exact?Body%20Snatchers%20(1993)                 :   2  \n",
       " http://us.imdb.com/M/title-exact?Chasing+Amy+(1997)                        :   2  \n",
       " http://us.imdb.com/M/title-exact?Designated%20Mourner%2C%20The%20%281997%29:   2  \n",
       " http://us.imdb.com/M/title-exact?Fly%20Away%20Home%20(1996)                :   2  \n",
       " http://us.imdb.com/M/title-exact?Hugo+Pool+(1997)                          :   2  \n",
       " (Other)                                                                    :1669  \n",
       "       V6                 V7               V8                V9         \n",
       " Min.   :0.000000   Min.   :0.0000   Min.   :0.00000   Min.   :0.00000  \n",
       " 1st Qu.:0.000000   1st Qu.:0.0000   1st Qu.:0.00000   1st Qu.:0.00000  \n",
       " Median :0.000000   Median :0.0000   Median :0.00000   Median :0.00000  \n",
       " Mean   :0.001189   Mean   :0.1492   Mean   :0.08026   Mean   :0.02497  \n",
       " 3rd Qu.:0.000000   3rd Qu.:0.0000   3rd Qu.:0.00000   3rd Qu.:0.00000  \n",
       " Max.   :1.000000   Max.   :1.0000   Max.   :1.00000   Max.   :1.00000  \n",
       "                                                                        \n",
       "      V10               V11              V12              V13         \n",
       " Min.   :0.00000   Min.   :0.0000   Min.   :0.0000   Min.   :0.00000  \n",
       " 1st Qu.:0.00000   1st Qu.:0.0000   1st Qu.:0.0000   1st Qu.:0.00000  \n",
       " Median :0.00000   Median :0.0000   Median :0.0000   Median :0.00000  \n",
       " Mean   :0.07253   Mean   :0.3002   Mean   :0.0648   Mean   :0.02973  \n",
       " 3rd Qu.:0.00000   3rd Qu.:1.0000   3rd Qu.:0.0000   3rd Qu.:0.00000  \n",
       " Max.   :1.00000   Max.   :1.0000   Max.   :1.0000   Max.   :1.00000  \n",
       "                                                                      \n",
       "      V14             V15               V16               V17        \n",
       " Min.   :0.000   Min.   :0.00000   Min.   :0.00000   Min.   :0.0000  \n",
       " 1st Qu.:0.000   1st Qu.:0.00000   1st Qu.:0.00000   1st Qu.:0.0000  \n",
       " Median :0.000   Median :0.00000   Median :0.00000   Median :0.0000  \n",
       " Mean   :0.431   Mean   :0.01308   Mean   :0.01427   Mean   :0.0547  \n",
       " 3rd Qu.:1.000   3rd Qu.:0.00000   3rd Qu.:0.00000   3rd Qu.:0.0000  \n",
       " Max.   :1.000   Max.   :1.00000   Max.   :1.00000   Max.   :1.0000  \n",
       "                                                                     \n",
       "      V18               V19               V20              V21         \n",
       " Min.   :0.00000   Min.   :0.00000   Min.   :0.0000   Min.   :0.00000  \n",
       " 1st Qu.:0.00000   1st Qu.:0.00000   1st Qu.:0.0000   1st Qu.:0.00000  \n",
       " Median :0.00000   Median :0.00000   Median :0.0000   Median :0.00000  \n",
       " Mean   :0.03329   Mean   :0.03627   Mean   :0.1468   Mean   :0.06005  \n",
       " 3rd Qu.:0.00000   3rd Qu.:0.00000   3rd Qu.:0.0000   3rd Qu.:0.00000  \n",
       " Max.   :1.00000   Max.   :1.00000   Max.   :1.0000   Max.   :1.00000  \n",
       "                                                                       \n",
       "      V22              V23               V24         \n",
       " Min.   :0.0000   Min.   :0.00000   Min.   :0.00000  \n",
       " 1st Qu.:0.0000   1st Qu.:0.00000   1st Qu.:0.00000  \n",
       " Median :0.0000   Median :0.00000   Median :0.00000  \n",
       " Mean   :0.1492   Mean   :0.04221   Mean   :0.01605  \n",
       " 3rd Qu.:0.0000   3rd Qu.:0.00000   3rd Qu.:0.00000  \n",
       " Max.   :1.0000   Max.   :1.00000   Max.   :1.00000  \n",
       "                                                     "
      ]
     },
     "execution_count": 2,
     "metadata": {},
     "output_type": "execute_result"
    }
   ],
   "source": [
    "summary(movies)"
   ]
  },
  {
   "cell_type": "code",
   "execution_count": 3,
   "metadata": {
    "collapsed": false
   },
   "outputs": [
    {
     "name": "stdout",
     "output_type": "stream",
     "text": [
      "'data.frame':\t1682 obs. of  24 variables:\n",
      " $ V1 : int  1 2 3 4 5 6 7 8 9 10 ...\n",
      " $ V2 : Factor w/ 1664 levels \"101 Dalmatians (1996)\",..: 1525 617 554 593 343 1317 1545 108 390 1238 ...\n",
      " $ V3 : Factor w/ 241 levels \"\",\"01-Aug-1997\",..: 71 71 71 71 71 71 71 71 71 182 ...\n",
      " $ V4 : logi  NA NA NA NA NA NA ...\n",
      " $ V5 : Factor w/ 1661 levels \"\",\"http://us.imdb.com/M/title-exact?06%20(1994)\",..: 1431 564 504 542 309 1661 1453 102 356 1183 ...\n",
      " $ V6 : int  0 0 0 0 0 0 0 0 0 0 ...\n",
      " $ V7 : int  0 1 0 1 0 0 0 0 0 0 ...\n",
      " $ V8 : int  0 1 0 0 0 0 0 0 0 0 ...\n",
      " $ V9 : int  1 0 0 0 0 0 0 0 0 0 ...\n",
      " $ V10: int  1 0 0 0 0 0 0 1 0 0 ...\n",
      " $ V11: int  1 0 0 1 0 0 0 1 0 0 ...\n",
      " $ V12: int  0 0 0 0 1 0 0 0 0 0 ...\n",
      " $ V13: int  0 0 0 0 0 0 0 0 0 0 ...\n",
      " $ V14: int  0 0 0 1 1 1 1 1 1 1 ...\n",
      " $ V15: int  0 0 0 0 0 0 0 0 0 0 ...\n",
      " $ V16: int  0 0 0 0 0 0 0 0 0 0 ...\n",
      " $ V17: int  0 0 0 0 0 0 0 0 0 0 ...\n",
      " $ V18: int  0 0 0 0 0 0 0 0 0 0 ...\n",
      " $ V19: int  0 0 0 0 0 0 0 0 0 0 ...\n",
      " $ V20: int  0 0 0 0 0 0 0 0 0 0 ...\n",
      " $ V21: int  0 0 0 0 0 0 1 0 0 0 ...\n",
      " $ V22: int  0 1 1 0 1 0 0 0 0 0 ...\n",
      " $ V23: int  0 0 0 0 0 0 0 0 0 1 ...\n",
      " $ V24: int  0 0 0 0 0 0 0 0 0 0 ...\n"
     ]
    }
   ],
   "source": [
    "str(movies)"
   ]
  },
  {
   "cell_type": "code",
   "execution_count": 4,
   "metadata": {
    "collapsed": true
   },
   "outputs": [],
   "source": [
    "colnames(movies) = c(\"ID\", \"Title\", \"ReleaseDate\", \"VideoReleaseDate\", \"IMDB\", \"Unknown\", \"Action\", \"Adventure\", \"Animation\", \"Childrens\", \"Comedy\", \"Crime\", \"Documentary\", \"Drama\", \"Fantasy\", \"FilmNoir\", \"Horror\", \"Musical\", \"Mystery\", \"Romance\", \"SciFi\", \"Thriller\", \"War\", \"Western\")"
   ]
  },
  {
   "cell_type": "code",
   "execution_count": 5,
   "metadata": {
    "collapsed": false
   },
   "outputs": [
    {
     "name": "stdout",
     "output_type": "stream",
     "text": [
      "'data.frame':\t1682 obs. of  24 variables:\n",
      " $ ID              : int  1 2 3 4 5 6 7 8 9 10 ...\n",
      " $ Title           : Factor w/ 1664 levels \"101 Dalmatians (1996)\",..: 1525 617 554 593 343 1317 1545 108 390 1238 ...\n",
      " $ ReleaseDate     : Factor w/ 241 levels \"\",\"01-Aug-1997\",..: 71 71 71 71 71 71 71 71 71 182 ...\n",
      " $ VideoReleaseDate: logi  NA NA NA NA NA NA ...\n",
      " $ IMDB            : Factor w/ 1661 levels \"\",\"http://us.imdb.com/M/title-exact?06%20(1994)\",..: 1431 564 504 542 309 1661 1453 102 356 1183 ...\n",
      " $ Unknown         : int  0 0 0 0 0 0 0 0 0 0 ...\n",
      " $ Action          : int  0 1 0 1 0 0 0 0 0 0 ...\n",
      " $ Adventure       : int  0 1 0 0 0 0 0 0 0 0 ...\n",
      " $ Animation       : int  1 0 0 0 0 0 0 0 0 0 ...\n",
      " $ Childrens       : int  1 0 0 0 0 0 0 1 0 0 ...\n",
      " $ Comedy          : int  1 0 0 1 0 0 0 1 0 0 ...\n",
      " $ Crime           : int  0 0 0 0 1 0 0 0 0 0 ...\n",
      " $ Documentary     : int  0 0 0 0 0 0 0 0 0 0 ...\n",
      " $ Drama           : int  0 0 0 1 1 1 1 1 1 1 ...\n",
      " $ Fantasy         : int  0 0 0 0 0 0 0 0 0 0 ...\n",
      " $ FilmNoir        : int  0 0 0 0 0 0 0 0 0 0 ...\n",
      " $ Horror          : int  0 0 0 0 0 0 0 0 0 0 ...\n",
      " $ Musical         : int  0 0 0 0 0 0 0 0 0 0 ...\n",
      " $ Mystery         : int  0 0 0 0 0 0 0 0 0 0 ...\n",
      " $ Romance         : int  0 0 0 0 0 0 0 0 0 0 ...\n",
      " $ SciFi           : int  0 0 0 0 0 0 1 0 0 0 ...\n",
      " $ Thriller        : int  0 1 1 0 1 0 0 0 0 0 ...\n",
      " $ War             : int  0 0 0 0 0 0 0 0 0 1 ...\n",
      " $ Western         : int  0 0 0 0 0 0 0 0 0 0 ...\n"
     ]
    }
   ],
   "source": [
    "str(movies)"
   ]
  },
  {
   "cell_type": "code",
   "execution_count": 6,
   "metadata": {
    "collapsed": true
   },
   "outputs": [],
   "source": [
    "movies$ID = NULL\n",
    "movies$ReleaseDate = NULL\n",
    "movies$VideoReleaseDate = NULL\n",
    "movies$IMDB = NULL"
   ]
  },
  {
   "cell_type": "code",
   "execution_count": 7,
   "metadata": {
    "collapsed": true
   },
   "outputs": [],
   "source": [
    "movies = unique(movies)"
   ]
  },
  {
   "cell_type": "code",
   "execution_count": 8,
   "metadata": {
    "collapsed": false
   },
   "outputs": [
    {
     "name": "stdout",
     "output_type": "stream",
     "text": [
      "'data.frame':\t1664 obs. of  20 variables:\n",
      " $ Title      : Factor w/ 1664 levels \"101 Dalmatians (1996)\",..: 1525 617 554 593 343 1317 1545 108 390 1238 ...\n",
      " $ Unknown    : int  0 0 0 0 0 0 0 0 0 0 ...\n",
      " $ Action     : int  0 1 0 1 0 0 0 0 0 0 ...\n",
      " $ Adventure  : int  0 1 0 0 0 0 0 0 0 0 ...\n",
      " $ Animation  : int  1 0 0 0 0 0 0 0 0 0 ...\n",
      " $ Childrens  : int  1 0 0 0 0 0 0 1 0 0 ...\n",
      " $ Comedy     : int  1 0 0 1 0 0 0 1 0 0 ...\n",
      " $ Crime      : int  0 0 0 0 1 0 0 0 0 0 ...\n",
      " $ Documentary: int  0 0 0 0 0 0 0 0 0 0 ...\n",
      " $ Drama      : int  0 0 0 1 1 1 1 1 1 1 ...\n",
      " $ Fantasy    : int  0 0 0 0 0 0 0 0 0 0 ...\n",
      " $ FilmNoir   : int  0 0 0 0 0 0 0 0 0 0 ...\n",
      " $ Horror     : int  0 0 0 0 0 0 0 0 0 0 ...\n",
      " $ Musical    : int  0 0 0 0 0 0 0 0 0 0 ...\n",
      " $ Mystery    : int  0 0 0 0 0 0 0 0 0 0 ...\n",
      " $ Romance    : int  0 0 0 0 0 0 0 0 0 0 ...\n",
      " $ SciFi      : int  0 0 0 0 0 0 1 0 0 0 ...\n",
      " $ Thriller   : int  0 1 1 0 1 0 0 0 0 0 ...\n",
      " $ War        : int  0 0 0 0 0 0 0 0 0 1 ...\n",
      " $ Western    : int  0 0 0 0 0 0 0 0 0 0 ...\n"
     ]
    }
   ],
   "source": [
    "str(movies)"
   ]
  },
  {
   "cell_type": "code",
   "execution_count": 9,
   "metadata": {
    "collapsed": false
   },
   "outputs": [
    {
     "data": {
      "text/plain": [
       "\n",
       "   0    1 \n",
       "1162  502 "
      ]
     },
     "execution_count": 9,
     "metadata": {},
     "output_type": "execute_result"
    }
   ],
   "source": [
    "table(movies$Comedy)"
   ]
  },
  {
   "cell_type": "code",
   "execution_count": 11,
   "metadata": {
    "collapsed": false
   },
   "outputs": [
    {
     "data": {
      "text/plain": [
       "\n",
       "   0    1 \n",
       "1637   27 "
      ]
     },
     "execution_count": 11,
     "metadata": {},
     "output_type": "execute_result"
    }
   ],
   "source": [
    "table(movies$Western)"
   ]
  },
  {
   "cell_type": "code",
   "execution_count": 12,
   "metadata": {
    "collapsed": false
   },
   "outputs": [
    {
     "data": {
      "text/plain": [
       "   \n",
       "      0   1\n",
       "  0 801 619\n",
       "  1 147  97"
      ]
     },
     "execution_count": 12,
     "metadata": {},
     "output_type": "execute_result"
    }
   ],
   "source": [
    "table(movies$Romance,movies$Drama)"
   ]
  },
  {
   "cell_type": "code",
   "execution_count": null,
   "metadata": {
    "collapsed": true
   },
   "outputs": [],
   "source": []
  }
 ],
 "metadata": {
  "kernelspec": {
   "display_name": "R",
   "language": "R",
   "name": "ir"
  },
  "language_info": {
   "codemirror_mode": "r",
   "file_extension": ".r",
   "mimetype": "text/x-r-source",
   "name": "R",
   "pygments_lexer": "r",
   "version": "3.2.2"
  }
 },
 "nbformat": 4,
 "nbformat_minor": 0
}
