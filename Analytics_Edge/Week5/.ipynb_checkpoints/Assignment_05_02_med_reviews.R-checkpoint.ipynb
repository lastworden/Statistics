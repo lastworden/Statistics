{
 "cells": [
  {
   "cell_type": "markdown",
   "metadata": {},
   "source": [
    "https://courses.edx.org/courses/course-v1:MITx+15.071x_3+1T2016/courseware/78a8f19e5e54432a938ae62dc0246780/ac54e7a579bd44258ab0b446ac8091c4/\n",
    "\n",
    "The medical literature is enormous. Pubmed, a database of medical publications maintained by the U.S. National Library of Medicine, has indexed over 23 million medical publications. Further, the rate of medical publication has increased over time, and now there are nearly 1 million new publications in the field each year, or more than one per minute.\n",
    "\n",
    "The large size and fast-changing nature of the medical literature has increased the need for reviews, which search databases like Pubmed for papers on a particular topic and then report results from the papers found. While such reviews are often performed manually, with multiple people reviewing each search result, this is tedious and time consuming. In this problem, we will see how text analytics can be used to automate the process of information retrieval.\n",
    "\n",
    "The dataset consists of the titles (variable title) and abstracts (variable abstract) of papers retrieved in a Pubmed search. Each search result is labeled with whether the paper is a clinical trial testing a drug therapy for cancer (variable trial). These labels were obtained by two people reviewing each search result and accessing the actual paper if necessary, as part of a literature review of clinical trials testing drug therapies for advanced and metastatic breast cancer."
   ]
  },
  {
   "cell_type": "code",
   "execution_count": 1,
   "metadata": {
    "collapsed": false
   },
   "outputs": [],
   "source": [
    "trials = read.csv(\"clinical_trial.csv\", stringsAsFactors = FALSE)"
   ]
  },
  {
   "cell_type": "code",
   "execution_count": 2,
   "metadata": {
    "collapsed": false
   },
   "outputs": [
    {
     "name": "stdout",
     "output_type": "stream",
     "text": [
      "'data.frame':\t1860 obs. of  3 variables:\n",
      " $ title   : chr  \"Treatment of Hodgkin's disease and other cancers with 1,3-bis(2-chloroethyl)-1-nitrosourea (BCNU; NSC-409962).\" \"Cell mediated immune status in malignancy--pretherapy and post-therapy assessment.\" \"Neoadjuvant vinorelbine-capecitabine versus docetaxel-doxorubicin-cyclophosphamide in early nonresponsive breast cancer: phase \"| __truncated__ \"Randomized phase 3 trial of fluorouracil, epirubicin, and cyclophosphamide alone or followed by Paclitaxel for early breast can\"| __truncated__ ...\n",
      " $ abstract: chr  \"\" \"Twenty-eight cases of malignancies of different kinds were studied to assess T-cell activity and population before and after in\"| __truncated__ \"BACKGROUND: Among breast cancer patients, nonresponse to initial neoadjuvant chemotherapy is associated with unfavorable outcom\"| __truncated__ \"BACKGROUND: Taxanes are among the most active drugs for the treatment of metastatic breast cancer, and, as a consequence, they \"| __truncated__ ...\n",
      " $ trial   : int  1 0 1 1 1 0 1 0 0 0 ...\n"
     ]
    }
   ],
   "source": [
    "str(trials)"
   ]
  },
  {
   "cell_type": "code",
   "execution_count": 3,
   "metadata": {
    "collapsed": false
   },
   "outputs": [
    {
     "data": {
      "text/plain": [
       "    title             abstract             trial       \n",
       " Length:1860        Length:1860        Min.   :0.0000  \n",
       " Class :character   Class :character   1st Qu.:0.0000  \n",
       " Mode  :character   Mode  :character   Median :0.0000  \n",
       "                                       Mean   :0.4392  \n",
       "                                       3rd Qu.:1.0000  \n",
       "                                       Max.   :1.0000  "
      ]
     },
     "execution_count": 3,
     "metadata": {},
     "output_type": "execute_result"
    }
   ],
   "source": [
    "summary(trials)"
   ]
  },
  {
   "cell_type": "code",
   "execution_count": 4,
   "metadata": {
    "collapsed": false
   },
   "outputs": [
    {
     "data": {
      "text/html": [
       "3708"
      ],
      "text/latex": [
       "3708"
      ],
      "text/markdown": [
       "3708"
      ],
      "text/plain": [
       "[1] 3708"
      ]
     },
     "execution_count": 4,
     "metadata": {},
     "output_type": "execute_result"
    }
   ],
   "source": [
    "max(nchar(trials$abstract))"
   ]
  },
  {
   "cell_type": "code",
   "execution_count": 5,
   "metadata": {
    "collapsed": false
   },
   "outputs": [
    {
     "data": {
      "text/html": [
       "112"
      ],
      "text/latex": [
       "112"
      ],
      "text/markdown": [
       "112"
      ],
      "text/plain": [
       "[1] 112"
      ]
     },
     "execution_count": 5,
     "metadata": {},
     "output_type": "execute_result"
    }
   ],
   "source": [
    "sum(nchar(trials$abstract) == 0)"
   ]
  },
  {
   "cell_type": "code",
   "execution_count": 6,
   "metadata": {
    "collapsed": false
   },
   "outputs": [
    {
     "data": {
      "text/html": [
       "1258"
      ],
      "text/latex": [
       "1258"
      ],
      "text/markdown": [
       "1258"
      ],
      "text/plain": [
       "[1] 1258"
      ]
     },
     "execution_count": 6,
     "metadata": {},
     "output_type": "execute_result"
    }
   ],
   "source": [
    "which.min(nchar(trials$title))"
   ]
  },
  {
   "cell_type": "code",
   "execution_count": 7,
   "metadata": {
    "collapsed": false
   },
   "outputs": [
    {
     "data": {
      "text/html": [
       "'A decade of letrozole: FACE.'"
      ],
      "text/latex": [
       "'A decade of letrozole: FACE.'"
      ],
      "text/markdown": [
       "'A decade of letrozole: FACE.'"
      ],
      "text/plain": [
       "[1] \"A decade of letrozole: FACE.\""
      ]
     },
     "execution_count": 7,
     "metadata": {},
     "output_type": "execute_result"
    }
   ],
   "source": [
    "trials$title[1258]"
   ]
  },
  {
   "cell_type": "code",
   "execution_count": 8,
   "metadata": {
    "collapsed": false
   },
   "outputs": [
    {
     "name": "stderr",
     "output_type": "stream",
     "text": [
      "Loading required package: NLP\n"
     ]
    }
   ],
   "source": [
    "library(tm)"
   ]
  },
  {
   "cell_type": "code",
   "execution_count": 9,
   "metadata": {
    "collapsed": false
   },
   "outputs": [
    {
     "name": "stderr",
     "output_type": "stream",
     "text": [
      "Warning message:\n",
      ": package ‘SnowballC’ was built under R version 3.3.0"
     ]
    }
   ],
   "source": [
    "library(SnowballC)"
   ]
  },
  {
   "cell_type": "code",
   "execution_count": 10,
   "metadata": {
    "collapsed": true
   },
   "outputs": [],
   "source": [
    "corpusTitle = Corpus(VectorSource(trials$title))"
   ]
  },
  {
   "cell_type": "code",
   "execution_count": 11,
   "metadata": {
    "collapsed": true
   },
   "outputs": [],
   "source": [
    "corpusAbstract = Corpus(VectorSource(trials$abstract))"
   ]
  },
  {
   "cell_type": "code",
   "execution_count": 12,
   "metadata": {
    "collapsed": true
   },
   "outputs": [],
   "source": [
    "corpusTitle = tm_map(corpusTitle, tolower)\n",
    "corpusTitle = tm_map(corpusTitle, PlainTextDocument)\n",
    "corpusTitle = tm_map(corpusTitle, removePunctuation)\n",
    "corpusTitle = tm_map(corpusTitle, removeWords, stopwords(\"english\"))\n",
    "corpusTitle = tm_map(corpusTitle, stemDocument)"
   ]
  },
  {
   "cell_type": "code",
   "execution_count": 13,
   "metadata": {
    "collapsed": false
   },
   "outputs": [
    {
     "data": {
      "text/html": [
       "'treatment  hodgkin diseas   cancer  13bis2chloroethyl1nitrosourea bcnu nsc409962'"
      ],
      "text/latex": [
       "'treatment  hodgkin diseas   cancer  13bis2chloroethyl1nitrosourea bcnu nsc409962'"
      ],
      "text/markdown": [
       "'treatment  hodgkin diseas   cancer  13bis2chloroethyl1nitrosourea bcnu nsc409962'"
      ],
      "text/plain": [
       "[1] \"treatment  hodgkin diseas   cancer  13bis2chloroethyl1nitrosourea bcnu nsc409962\""
      ]
     },
     "execution_count": 13,
     "metadata": {},
     "output_type": "execute_result"
    }
   ],
   "source": [
    "corpusTitle[[1]]$content"
   ]
  },
  {
   "cell_type": "code",
   "execution_count": 14,
   "metadata": {
    "collapsed": true
   },
   "outputs": [],
   "source": [
    "dtmTitle = DocumentTermMatrix(corpusTitle)"
   ]
  },
  {
   "cell_type": "code",
   "execution_count": 15,
   "metadata": {
    "collapsed": false
   },
   "outputs": [
    {
     "data": {
      "text/html": [
       "''"
      ],
      "text/latex": [
       "''"
      ],
      "text/markdown": [
       "''"
      ],
      "text/plain": [
       "[1] \"\""
      ]
     },
     "execution_count": 15,
     "metadata": {},
     "output_type": "execute_result"
    }
   ],
   "source": [
    "corpusAbstract = tm_map(corpusAbstract, tolower)\n",
    "corpusAbstract = tm_map(corpusAbstract, PlainTextDocument)\n",
    "corpusAbstract = tm_map(corpusAbstract, removePunctuation)\n",
    "corpusAbstract = tm_map(corpusAbstract, removeWords, stopwords(\"english\"))\n",
    "corpusAbstract = tm_map(corpusAbstract, stemDocument)\n",
    "corpusAbstract[[1]]$content"
   ]
  },
  {
   "cell_type": "code",
   "execution_count": 16,
   "metadata": {
    "collapsed": true
   },
   "outputs": [],
   "source": [
    "dtmAbstract = DocumentTermMatrix(corpusAbstract)"
   ]
  },
  {
   "cell_type": "code",
   "execution_count": 17,
   "metadata": {
    "collapsed": false
   },
   "outputs": [
    {
     "data": {
      "text/plain": [
       "<<DocumentTermMatrix (documents: 1860, terms: 31)>>\n",
       "Non-/sparse entries: 10683/46977\n",
       "Sparsity           : 81%\n",
       "Maximal term length: 15\n",
       "Weighting          : term frequency (tf)"
      ]
     },
     "execution_count": 17,
     "metadata": {},
     "output_type": "execute_result"
    }
   ],
   "source": [
    "dtmTitle = removeSparseTerms(dtmTitle, 0.95)\n",
    "dtmTitle"
   ]
  },
  {
   "cell_type": "code",
   "execution_count": 18,
   "metadata": {
    "collapsed": false
   },
   "outputs": [
    {
     "data": {
      "text/plain": [
       "<<DocumentTermMatrix (documents: 1860, terms: 335)>>\n",
       "Non-/sparse entries: 91977/531123\n",
       "Sparsity           : 85%\n",
       "Maximal term length: 15\n",
       "Weighting          : term frequency (tf)"
      ]
     },
     "execution_count": 18,
     "metadata": {},
     "output_type": "execute_result"
    }
   ],
   "source": [
    "dtmAbstract = removeSparseTerms(dtmAbstract, 0.95)\n",
    "dtmAbstract"
   ]
  },
  {
   "cell_type": "code",
   "execution_count": 19,
   "metadata": {
    "collapsed": false
   },
   "outputs": [],
   "source": [
    "dtmTitle = as.data.frame(as.matrix(dtmTitle))"
   ]
  },
  {
   "cell_type": "code",
   "execution_count": 20,
   "metadata": {
    "collapsed": true
   },
   "outputs": [],
   "source": [
    "dtmAbstract = as.data.frame(as.matrix(dtmAbstract))"
   ]
  },
  {
   "cell_type": "code",
   "execution_count": 21,
   "metadata": {
    "collapsed": false
   },
   "outputs": [
    {
     "name": "stdout",
     "output_type": "stream",
     "text": [
      "'data.frame':\t1860 obs. of  31 variables:\n",
      " $ adjuv          : num  0 0 0 0 0 0 0 0 1 0 ...\n",
      " $ advanc         : num  0 0 0 0 0 0 1 0 0 0 ...\n",
      " $ breast         : num  0 0 1 1 1 1 0 1 1 1 ...\n",
      " $ cancer         : num  1 0 1 1 1 1 0 1 1 2 ...\n",
      " $ chemotherapi   : num  0 0 0 0 1 1 0 0 0 0 ...\n",
      " $ clinic         : num  0 0 0 0 0 0 0 0 0 0 ...\n",
      " $ combin         : num  0 0 0 0 1 0 1 0 0 0 ...\n",
      " $ compar         : num  0 0 0 0 0 0 0 0 0 0 ...\n",
      " $ cyclophosphamid: num  0 0 0 1 0 0 0 0 0 0 ...\n",
      " $ docetaxel      : num  0 0 0 0 0 0 0 0 0 0 ...\n",
      " $ doxorubicin    : num  0 0 0 0 0 0 0 0 0 0 ...\n",
      " $ earli          : num  0 0 1 1 0 0 0 1 0 0 ...\n",
      " $ effect         : num  0 0 0 0 1 0 0 1 0 1 ...\n",
      " $ group          : num  0 0 0 0 0 0 0 0 1 1 ...\n",
      " $ iii            : num  0 0 1 0 0 0 0 0 0 1 ...\n",
      " $ metastat       : num  0 0 0 0 1 0 0 0 0 0 ...\n",
      " $ patient        : num  0 0 0 0 1 0 1 0 1 1 ...\n",
      " $ phase          : num  0 0 1 1 0 0 0 0 0 1 ...\n",
      " $ plus           : num  0 0 0 0 0 0 0 0 0 0 ...\n",
      " $ postmenopaus   : num  0 0 0 0 0 0 0 1 1 0 ...\n",
      " $ random         : num  0 0 1 1 1 0 0 0 0 1 ...\n",
      " $ randomis       : num  0 0 0 0 0 0 0 1 1 0 ...\n",
      " $ respons        : num  0 0 0 0 0 1 0 0 0 0 ...\n",
      " $ result         : num  0 0 0 0 0 0 0 0 0 0 ...\n",
      " $ studi          : num  0 0 0 0 0 0 0 1 0 0 ...\n",
      " $ tamoxifen      : num  0 0 0 0 0 0 0 2 1 0 ...\n",
      " $ therapi        : num  0 0 0 0 0 0 0 0 0 0 ...\n",
      " $ treatment      : num  1 0 0 0 1 0 0 0 0 1 ...\n",
      " $ trial          : num  0 0 1 1 1 0 0 1 1 1 ...\n",
      " $ versus         : num  0 0 1 0 0 0 0 1 0 0 ...\n",
      " $ women          : num  0 0 0 0 0 0 0 1 0 0 ...\n"
     ]
    }
   ],
   "source": [
    "str(dtmTitle)"
   ]
  },
  {
   "cell_type": "code",
   "execution_count": 22,
   "metadata": {
    "collapsed": false
   },
   "outputs": [
    {
     "name": "stdout",
     "output_type": "stream",
     "text": [
      "'data.frame':\t1860 obs. of  335 variables:\n",
      " $ 0001           : num  0 0 0 0 0 7 0 0 0 0 ...\n",
      " $ 001            : num  0 0 0 1 0 0 0 1 0 0 ...\n",
      " $ 005            : num  0 0 0 0 0 0 0 0 0 0 ...\n",
      " $ 100            : num  0 1 0 0 0 0 0 0 0 0 ...\n",
      " $ 500            : num  0 0 1 0 2 0 0 0 0 0 ...\n",
      " $ 5fluorouracil  : num  0 0 0 0 0 1 0 0 0 0 ...\n",
      " $ accord         : num  0 0 0 0 0 0 0 0 0 0 ...\n",
      " $ achiev         : num  0 0 0 0 0 0 1 0 1 0 ...\n",
      " $ activ          : num  0 2 0 1 0 0 1 0 0 0 ...\n",
      " $ addit          : num  0 0 2 0 0 0 0 0 0 0 ...\n",
      " $ adjuv          : num  0 0 0 2 0 1 0 2 4 0 ...\n",
      " $ administ       : num  0 0 0 0 0 0 1 0 0 0 ...\n",
      " $ administr      : num  0 0 0 0 0 0 0 0 0 0 ...\n",
      " $ advanc         : num  0 0 0 0 0 0 1 0 0 0 ...\n",
      " $ advers         : num  0 0 0 0 0 0 0 0 0 4 ...\n",
      " $ age            : num  0 0 0 1 0 0 0 0 0 0 ...\n",
      " $ agent          : num  0 0 0 0 1 0 1 0 0 0 ...\n",
      " $ aim            : num  0 0 0 0 0 1 0 0 0 0 ...\n",
      " $ alon           : num  0 0 0 0 0 0 0 0 3 0 ...\n",
      " $ also           : num  0 0 0 1 0 0 0 0 2 0 ...\n",
      " $ although       : num  0 0 0 0 0 0 0 0 0 0 ...\n",
      " $ among          : num  0 0 2 4 0 0 0 0 1 0 ...\n",
      " $ analys         : num  0 0 0 0 0 0 0 0 0 0 ...\n",
      " $ analysi        : num  0 0 0 2 0 0 0 1 0 0 ...\n",
      " $ analyz         : num  0 0 0 1 0 0 0 0 0 0 ...\n",
      " $ andor          : num  0 0 0 0 0 0 0 0 0 0 ...\n",
      " $ anthracyclin   : num  0 0 0 0 0 0 0 0 0 0 ...\n",
      " $ appear         : num  0 0 0 0 0 0 0 0 0 0 ...\n",
      " $ arm            : num  0 0 7 4 2 0 0 1 0 1 ...\n",
      " $ aromatas       : num  0 0 0 0 0 0 0 1 0 0 ...\n",
      " $ assess         : num  0 2 1 2 0 1 0 0 0 3 ...\n",
      " $ assign         : num  0 0 2 1 0 0 0 1 1 1 ...\n",
      " $ associ         : num  0 0 1 3 0 2 0 1 2 0 ...\n",
      " $ avail          : num  0 0 0 0 0 0 0 0 0 0 ...\n",
      " $ axillari       : num  0 0 0 1 0 0 0 0 1 0 ...\n",
      " $ background     : num  0 0 1 1 1 0 0 1 1 0 ...\n",
      " $ base           : num  0 0 0 0 0 0 0 0 0 0 ...\n",
      " $ baselin        : num  0 0 0 0 0 0 0 0 0 1 ...\n",
      " $ benefit        : num  0 0 0 0 2 0 0 1 1 0 ...\n",
      " $ better         : num  0 0 1 0 1 1 0 0 0 0 ...\n",
      " $ bone           : num  0 0 0 0 0 0 0 0 0 0 ...\n",
      " $ breast         : num  0 2 3 3 3 4 2 2 2 3 ...\n",
      " $ can            : num  0 0 0 0 0 0 0 0 1 0 ...\n",
      " $ cancer         : num  0 0 2 3 3 3 2 2 3 0 ...\n",
      " $ carcinoma      : num  0 5 0 0 0 0 0 0 0 2 ...\n",
      " $ case           : num  0 11 0 0 1 0 0 0 0 0 ...\n",
      " $ caus           : num  0 0 0 0 0 0 0 1 0 0 ...\n",
      " $ cell           : num  0 3 0 0 0 1 0 0 0 0 ...\n",
      " $ chang          : num  0 0 1 0 0 0 0 0 0 0 ...\n",
      " $ characterist   : num  0 0 0 0 0 0 0 0 0 0 ...\n",
      " $ chemotherapi   : num  0 0 1 2 3 5 2 0 1 0 ...\n",
      " $ clinic         : num  0 1 0 1 0 0 0 0 0 0 ...\n",
      " $ cmf            : num  0 0 0 0 0 0 0 0 0 0 ...\n",
      " $ combin         : num  0 0 0 0 6 0 2 0 1 0 ...\n",
      " $ common         : num  0 0 0 0 0 0 0 0 0 3 ...\n",
      " $ compar         : num  0 0 1 2 0 0 0 1 1 1 ...\n",
      " $ comparison     : num  0 0 0 0 0 0 0 0 0 0 ...\n",
      " $ complet        : num  0 0 3 0 1 1 1 2 0 0 ...\n",
      " $ conclus        : num  0 0 1 0 1 0 0 0 0 0 ...\n",
      " $ conduct        : num  0 0 0 0 0 0 0 0 0 0 ...\n",
      " $ confid         : num  0 0 1 1 0 0 0 0 0 0 ...\n",
      " $ confirm        : num  0 0 0 0 0 0 0 0 0 0 ...\n",
      " $ consid         : num  0 0 0 0 0 0 0 0 0 0 ...\n",
      " $ consist        : num  0 1 0 0 0 0 0 0 0 0 ...\n",
      " $ continu        : num  0 0 2 0 1 0 0 2 0 0 ...\n",
      " $ control        : num  0 1 0 0 0 0 0 0 1 0 ...\n",
      " $ correl         : num  0 0 0 0 0 2 0 0 0 0 ...\n",
      " $ cours          : num  0 0 0 0 0 0 0 0 0 0 ...\n",
      " $ cycl           : num  0 0 6 0 2 0 1 0 0 0 ...\n",
      " $ cyclophosphamid: num  0 0 1 1 1 1 3 0 0 0 ...\n",
      " $ daili          : num  0 0 0 0 0 0 1 0 1 2 ...\n",
      " $ data           : num  0 0 0 0 0 0 0 0 0 0 ...\n",
      " $ day            : num  0 0 1 0 0 0 3 0 0 0 ...\n",
      " $ death          : num  0 0 0 2 0 0 0 0 1 0 ...\n",
      " $ decreas        : num  0 0 1 0 0 0 0 0 1 0 ...\n",
      " $ defin          : num  0 0 2 0 0 0 0 0 0 0 ...\n",
      " $ demonstr       : num  0 0 1 0 0 0 0 0 0 0 ...\n",
      " $ design         : num  0 0 0 0 0 0 0 0 0 0 ...\n",
      " $ detect         : num  0 0 0 0 1 0 0 0 0 0 ...\n",
      " $ determin       : num  0 0 0 0 1 1 1 0 0 0 ...\n",
      " $ develop        : num  0 0 0 0 0 0 0 0 0 0 ...\n",
      " $ dfs            : num  0 0 0 3 0 0 0 0 0 0 ...\n",
      " $ differ         : num  0 1 2 1 3 0 0 1 0 1 ...\n",
      " $ diseas         : num  0 1 0 1 3 0 0 1 0 0 ...\n",
      " $ diseasefre     : num  0 0 0 1 0 2 0 0 3 0 ...\n",
      " $ distant        : num  0 0 0 0 0 0 0 0 1 0 ...\n",
      " $ docetaxel      : num  0 0 1 0 0 0 3 0 0 0 ...\n",
      " $ dose           : num  0 0 0 0 0 0 4 0 0 0 ...\n",
      " $ doubleblind    : num  0 0 0 0 0 0 0 0 0 1 ...\n",
      " $ doxorubicin    : num  0 0 1 0 0 1 0 0 0 0 ...\n",
      " $ drug           : num  0 0 0 1 0 0 0 0 0 0 ...\n",
      " $ due            : num  0 0 0 0 0 0 0 1 0 0 ...\n",
      " $ durat          : num  0 0 0 0 1 0 0 0 0 0 ...\n",
      " $ earli          : num  0 0 0 0 0 0 0 2 0 0 ...\n",
      " $ effect         : num  0 0 2 0 0 1 0 2 0 1 ...\n",
      " $ efficaci       : num  0 0 1 0 0 0 0 0 0 0 ...\n",
      " $ eight          : num  0 0 0 0 0 0 0 0 0 0 ...\n",
      " $ either         : num  0 0 0 0 1 0 0 0 0 0 ...\n",
      " $ elig           : num  0 0 0 1 0 0 0 0 0 0 ...\n",
      "  [list output truncated]\n"
     ]
    }
   ],
   "source": [
    "str(dtmAbstract)"
   ]
  },
  {
   "cell_type": "code",
   "execution_count": 23,
   "metadata": {
    "collapsed": false
   },
   "outputs": [
    {
     "data": {
      "text/html": [
       "174"
      ],
      "text/latex": [
       "174"
      ],
      "text/markdown": [
       "174"
      ],
      "text/plain": [
       "[1] 174"
      ]
     },
     "execution_count": 23,
     "metadata": {},
     "output_type": "execute_result"
    }
   ],
   "source": [
    " length(stopwords(\"english\"))"
   ]
  },
  {
   "cell_type": "code",
   "execution_count": 24,
   "metadata": {
    "collapsed": true
   },
   "outputs": [],
   "source": [
    "t = colSums(dtmAbstract)"
   ]
  },
  {
   "cell_type": "code",
   "execution_count": 25,
   "metadata": {
    "collapsed": false
   },
   "outputs": [
    {
     "data": {
      "text/html": [
       "<strong>patient:</strong> 212"
      ],
      "text/latex": [
       "\\textbf{patient:} 212"
      ],
      "text/markdown": [
       "**patient:** 212"
      ],
      "text/plain": [
       "patient \n",
       "    212 "
      ]
     },
     "execution_count": 25,
     "metadata": {},
     "output_type": "execute_result"
    }
   ],
   "source": [
    "which.max(t)"
   ]
  },
  {
   "cell_type": "code",
   "execution_count": 26,
   "metadata": {
    "collapsed": false
   },
   "outputs": [],
   "source": [
    "colnames(dtmTitle) = paste0(\"T\", colnames(dtmTitle))"
   ]
  },
  {
   "cell_type": "code",
   "execution_count": 27,
   "metadata": {
    "collapsed": true
   },
   "outputs": [],
   "source": [
    "colnames(dtmAbstract) = paste0(\"A\",colnames(dtmAbstract))"
   ]
  },
  {
   "cell_type": "code",
   "execution_count": 28,
   "metadata": {
    "collapsed": false
   },
   "outputs": [
    {
     "data": {
      "text/html": [
       "<ol class=list-inline>\n",
       "\t<li>'Tadjuv'</li>\n",
       "\t<li>'Tadvanc'</li>\n",
       "\t<li>'Tbreast'</li>\n",
       "\t<li>'Tcancer'</li>\n",
       "\t<li>'Tchemotherapi'</li>\n",
       "\t<li>'Tclinic'</li>\n",
       "\t<li>'Tcombin'</li>\n",
       "\t<li>'Tcompar'</li>\n",
       "\t<li>'Tcyclophosphamid'</li>\n",
       "\t<li>'Tdocetaxel'</li>\n",
       "\t<li>'Tdoxorubicin'</li>\n",
       "\t<li>'Tearli'</li>\n",
       "\t<li>'Teffect'</li>\n",
       "\t<li>'Tgroup'</li>\n",
       "\t<li>'Tiii'</li>\n",
       "\t<li>'Tmetastat'</li>\n",
       "\t<li>'Tpatient'</li>\n",
       "\t<li>'Tphase'</li>\n",
       "\t<li>'Tplus'</li>\n",
       "\t<li>'Tpostmenopaus'</li>\n",
       "\t<li>'Trandom'</li>\n",
       "\t<li>'Trandomis'</li>\n",
       "\t<li>'Trespons'</li>\n",
       "\t<li>'Tresult'</li>\n",
       "\t<li>'Tstudi'</li>\n",
       "\t<li>'Ttamoxifen'</li>\n",
       "\t<li>'Ttherapi'</li>\n",
       "\t<li>'Ttreatment'</li>\n",
       "\t<li>'Ttrial'</li>\n",
       "\t<li>'Tversus'</li>\n",
       "\t<li>'Twomen'</li>\n",
       "</ol>\n"
      ],
      "text/latex": [
       "\\begin{enumerate*}\n",
       "\\item 'Tadjuv'\n",
       "\\item 'Tadvanc'\n",
       "\\item 'Tbreast'\n",
       "\\item 'Tcancer'\n",
       "\\item 'Tchemotherapi'\n",
       "\\item 'Tclinic'\n",
       "\\item 'Tcombin'\n",
       "\\item 'Tcompar'\n",
       "\\item 'Tcyclophosphamid'\n",
       "\\item 'Tdocetaxel'\n",
       "\\item 'Tdoxorubicin'\n",
       "\\item 'Tearli'\n",
       "\\item 'Teffect'\n",
       "\\item 'Tgroup'\n",
       "\\item 'Tiii'\n",
       "\\item 'Tmetastat'\n",
       "\\item 'Tpatient'\n",
       "\\item 'Tphase'\n",
       "\\item 'Tplus'\n",
       "\\item 'Tpostmenopaus'\n",
       "\\item 'Trandom'\n",
       "\\item 'Trandomis'\n",
       "\\item 'Trespons'\n",
       "\\item 'Tresult'\n",
       "\\item 'Tstudi'\n",
       "\\item 'Ttamoxifen'\n",
       "\\item 'Ttherapi'\n",
       "\\item 'Ttreatment'\n",
       "\\item 'Ttrial'\n",
       "\\item 'Tversus'\n",
       "\\item 'Twomen'\n",
       "\\end{enumerate*}\n"
      ],
      "text/markdown": [
       "1. 'Tadjuv'\n",
       "2. 'Tadvanc'\n",
       "3. 'Tbreast'\n",
       "4. 'Tcancer'\n",
       "5. 'Tchemotherapi'\n",
       "6. 'Tclinic'\n",
       "7. 'Tcombin'\n",
       "8. 'Tcompar'\n",
       "9. 'Tcyclophosphamid'\n",
       "10. 'Tdocetaxel'\n",
       "11. 'Tdoxorubicin'\n",
       "12. 'Tearli'\n",
       "13. 'Teffect'\n",
       "14. 'Tgroup'\n",
       "15. 'Tiii'\n",
       "16. 'Tmetastat'\n",
       "17. 'Tpatient'\n",
       "18. 'Tphase'\n",
       "19. 'Tplus'\n",
       "20. 'Tpostmenopaus'\n",
       "21. 'Trandom'\n",
       "22. 'Trandomis'\n",
       "23. 'Trespons'\n",
       "24. 'Tresult'\n",
       "25. 'Tstudi'\n",
       "26. 'Ttamoxifen'\n",
       "27. 'Ttherapi'\n",
       "28. 'Ttreatment'\n",
       "29. 'Ttrial'\n",
       "30. 'Tversus'\n",
       "31. 'Twomen'\n",
       "\n",
       "\n"
      ],
      "text/plain": [
       " [1] \"Tadjuv\"           \"Tadvanc\"          \"Tbreast\"          \"Tcancer\"         \n",
       " [5] \"Tchemotherapi\"    \"Tclinic\"          \"Tcombin\"          \"Tcompar\"         \n",
       " [9] \"Tcyclophosphamid\" \"Tdocetaxel\"       \"Tdoxorubicin\"     \"Tearli\"          \n",
       "[13] \"Teffect\"          \"Tgroup\"           \"Tiii\"             \"Tmetastat\"       \n",
       "[17] \"Tpatient\"         \"Tphase\"           \"Tplus\"            \"Tpostmenopaus\"   \n",
       "[21] \"Trandom\"          \"Trandomis\"        \"Trespons\"         \"Tresult\"         \n",
       "[25] \"Tstudi\"           \"Ttamoxifen\"       \"Ttherapi\"         \"Ttreatment\"      \n",
       "[29] \"Ttrial\"           \"Tversus\"          \"Twomen\"          "
      ]
     },
     "execution_count": 28,
     "metadata": {},
     "output_type": "execute_result"
    }
   ],
   "source": [
    "colnames(dtmTitle)"
   ]
  },
  {
   "cell_type": "code",
   "execution_count": 29,
   "metadata": {
    "collapsed": false
   },
   "outputs": [
    {
     "name": "stderr",
     "output_type": "stream",
     "text": [
      "Warning message:\n",
      "In data.row.names(row.names, rowsi, i): some row.names duplicated: 2,3,4,5,6,7,8,9,10,11,12,13,14,15,16,17,18,19,20,21,22,23,24,25,26,27,28,29,30,31,32,33,34,35,36,37,38,39,40,41,42,43,44,45,46,47,48,49,50,51,52,53,54,55,56,57,58,59,60,61,62,63,64,65,66,67,68,69,70,71,72,73,74,75,76,77,78,79,80,81,82,83,84,85,86,87,88,89,90,91,92,93,94,95,96,97,98,99,100,101,102,103,104,105,106,107,108,109,110,111,112,113,114,115,116,117,118,119,120,121,122,123,124,125,126,127,128,129,130,131,132,133,134,135,136,137,138,139,140,141,142,143,144,145,146,147,148,149,150,151,152,153,154,155,156,157,158,159,160,161,162,163,164,165,166,167,168,169,170,171,172,173,174,175,176,177,178,179,180,181,182,183,184,185,186,187,188,189,190,191,192,193,194,195,196,197,198,199,200,201,202,203,204,205,206,207,208,209,210,211,212,213,214,215,216,217,218,219,220,221,222,223,224,225,226,227,228,229,230,231,232,233,234,235,236,237,238,239,240,241,242,243,244,245,246,247,248,249,250,251,252,253,254,255,256,257,258,259,260,261,262,263,264,265,266,267,268,269,270,271,272,273,274,275,276,277,278,279,280,281,282,283,284,285,286,287,288,289,290,291,292,293,294,295,296,297,298,299,300,301,302,303,304,305,306,307,308,309,310,311,312,313,314,315,316,317,318,319,320,321,322,323,324,325,326,327,328,329,330,331,332,333,334,335,336,337,338,339,340,341,342,343,344,345,346,347,348,349,350,351,352,353,354,355,356,357,358,359,360,361,362,363,364,365,366,367,368,369,370,371,372,373,374,375,376,377,378,379,380,381,382,383,384,385,386,387,388,389,390,391,392,393,394,395,396,397,398,399,400,401,402,403,404,405,406,407,408,409,410,411,412,413,414,415,416,417,418,419,420,421,422,423,424,425,426,427,428,429,430,431,432,433,434,435,436,437,438,439,440,441,442,443,444,445,446,447,448,449,450,451,452,453,454,455,456,457,458,459,460,461,462,463,464,465,466,467,468,469,470,471,472,473,474,475,476,477,478,479,480,481,482,483,484,485,486,487,488,489,490,491,492,493,494,495,496,497,498,499,500,501,502,503,504,505,506,507,508,509,510,511,512,513,514,515,516,517,518,519,520,521,522,523,524,525,526,527,528,529,530,531,532,533,534,535,536,537,538,539,540,541,542,543,544,545,546,547,548,549,550,551,552,553,554,555,556,557,558,559,560,561,562,563,564,565,566,567,568,569,570,571,572,573,574,575,576,577,578,579,580,581,582,583,584,585,586,587,588,589,590,591,592,593,594,595,596,597,598,599,600,601,602,603,604,605,606,607,608,609,610,611,612,613,614,615,616,617,618,619,620,621,622,623,624,625,626,627,628,629,630,631,632,633,634,635,636,637,638,639,640,641,642,643,644,645,646,647,648,649,650,651,652,653,654,655,656,657,658,659,660,661,662,663,664,665,666,667,668,669,670,671,672,673,674,675,676,677,678,679,680,681,682,683,684,685,686,687,688,689,690,691,692,693,694,695,696,697,698,699,700,701,702,703,704,705,706,707,708,709,710,711,712,713,714,715,716,717,718,719,720,721,722,723,724,725,726,727,728,729,730,731,732,733,734,735,736,737,738,739,740,741,742,743,744,745,746,747,748,749,750,751,752,753,754,755,756,757,758,759,760,761,762,763,764,765,766,767,768,769,770,771,772,773,774,775,776,777,778,779,780,781,782,783,784,785,786,787,788,789,790,791,792,793,794,795,796,797,798,799,800,801,802,803,804,805,806,807,808,809,810,811,812,813,814,815,816,817,818,819,820,821,822,823,824,825,826,827,828,829,830,831,832,833,834,835,836,837,838,839,840,841,842,843,844,845,846,847,848,849,850,851,852,853,854,855,856,857,858,859,860,861,862,863,864,865,866,867,868,869,870,871,872,873,874,875,876,877,878,879,880,881,882,883,884,885,886,887,888,889,890,891,892,893,894,895,896,897,898,899,900,901,902,903,904,905,906,907,908,909,910,911,912,913,914,915,916,917,918,919,920,921,922,923,924,925,926,927,928,929,930,931,932,933,934,935,936,937,938,939,940,941,942,943,944,945,946,947,948,949,950,951,952,953,954,955,956,957,958,959,960,961,962,963,964,965,966,967,968,969,970,971,972,973,974,975,976,977,978,979,980,981,982,983,984,985,986,987,988,989,990,991,992,993,994,995,996,997,998,999,1000,1001,1002,1003,1004,1005,1006,1007,1008,1009,1010,1011,1012,1013,1014,1015,1016,1017,1018,1019,1020,1021,1022,1023,1024,1025,1026,1027,1028,1029,1030,1031,1032,1033,1034,1035,1036,1037,1038,1039,1040,1041,1042,1043,1044,1045,1046,1047,1048,1049,1050,1051,1052,1053,1054,1055,1056,1057,1058,1059,1060,1061,1062,1063,1064,1065,1066,1067,1068,1069,1070,1071,1072,1073,1074,1075,1076,1077,1078,1079,1080,1081,1082,1083,1084,1085,1086,1087,1088,1089,1090,1091,1092,1093,1094,1095,1096,1097,1098,1099,1100,1101,1102,1103,1104,1105,1106,1107,1108,1109,1110,1111,1112,1113,1114,1115,1116,1117,1118,1119,1120,1121,1122,1123,1124,1125,1126,1127,1128,1129,1130,1131,1132,1133,1134,1135,1136,1137,1138,1139,1140,1141,1142,1143,1144,1145,1146,1147,1148,1149,1150,1151,1152,1153,1154,1155,1156,1157,1158,1159,1160,1161,1162,1163,1164,1165,1166,1167,1168,1169,1170,1171,1172,1173,1174,1175,1176,1177,1178,1179,1180,1181,1182,1183,1184,1185,1186,1187,1188,1189,1190,1191,1192,1193,1194,1195,1196,1197,1198,1199,1200,1201,1202,1203,1204,1205,1206,1207,1208,1209,1210,1211,1212,1213,1214,1215,1216,1217,1218,1219,1220,1221,1222,1223,1224,1225,1226,1227,1228,1229,1230,1231,1232,1233,1234,1235,1236,1237,1238,1239,1240,1241,1242,1243,1244,1245,1246,1247,1248,1249,1250,1251,1252,1253,1254,1255,1256,1257,1258,1259,1260,1261,1262,1263,1264,1265,1266,1267,1268,1269,1270,1271,1272,1273,1274,1275,1276,1277,1278,1279,1280,1281,1282,1283,1284,1285,1286,1287,1288,1289,1290,1291,1292,1293,1294,1295,1296,1297,1298,1299,1300,1301,1302,1303,1304,1305,1306,1307,1308,1309,1310,1311,1312,1313,1314,1315,1316,1317,1318,1319,1320,1321,1322,1323,1324,1325,1326,1327,1328,1329,1330,1331,1332,1333,1334,1335,1336,1337,1338,1339,1340,1341,1342,1343,1344,1345,1346,1347,1348,1349,1350,1351,1352,1353,1354,1355,1356,1357,1358,1359,1360,1361,1362,1363,1364,1365,1366,1367,1368,1369,1370,1371,1372,1373,1374,1375,1376,1377,1378,1379,1380,1381,1382,1383,1384,1385,1386,1387,1388,1389,1390,1391,1392,1393,1394,1395,1396,1397,1398,1399,1400,1401,1402,1403,1404,1405,1406,1407,1408,1409,1410,1411,1412,1413,1414,1415,1416,1417,1418,1419,1420,1421,1422,1423,1424,1425,1426,1427,1428,1429,1430,1431,1432,1433,1434,1435,1436,1437,1438,1439,1440,1441,1442,1443,1444,1445,1446,1447,1448,1449,1450,1451,1452,1453,1454,1455,1456,1457,1458,1459,1460,1461,1462,1463,1464,1465,1466,1467,1468,1469,1470,1471,1472,1473,1474,1475,1476,1477,1478,1479,1480,1481,1482,1483,1484,1485,1486,1487,1488,1489,1490,1491,1492,1493,1494,1495,1496,1497,1498,1499,1500,1501,1502,1503,1504,1505,1506,1507,1508,1509,1510,1511,1512,1513,1514,1515,1516,1517,1518,1519,1520,1521,1522,1523,1524,1525,1526,1527,1528,1529,1530,1531,1532,1533,1534,1535,1536,1537,1538,1539,1540,1541,1542,1543,1544,1545,1546,1547,1548,1549,1550,1551,1552,1553,1554,1555,1556,1557,1558,1559,1560,1561,1562,1563,1564,1565,1566,1567,1568,1569,1570,1571,1572,1573,1574,1575,1576,1577,1578,1579,1580,1581,1582,1583,1584,1585,1586,1587,1588,1589,1590,1591,1592,1593,1594,1595,1596,1597,1598,1599,1600,1601,1602,1603,1604,1605,1606,1607,1608,1609,1610,1611,1612,1613,1614,1615,1616,1617,1618,1619,1620,1621,1622,1623,1624,1625,1626,1627,1628,1629,1630,1631,1632,1633,1634,1635,1636,1637,1638,1639,1640,1641,1642,1643,1644,1645,1646,1647,1648,1649,1650,1651,1652,1653,1654,1655,1656,1657,1658,1659,1660,1661,1662,1663,1664,1665,1666,1667,1668,1669,1670,1671,1672,1673,1674,1675,1676,1677,1678,1679,1680,1681,1682,1683,1684,1685,1686,1687,1688,1689,1690,1691,1692,1693,1694,1695,1696,1697,1698,1699,1700,1701,1702,1703,1704,1705,1706,1707,1708,1709,1710,1711,1712,1713,1714,1715,1716,1717,1718,1719,1720,1721,1722,1723,1724,1725,1726,1727,1728,1729,1730,1731,1732,1733,1734,1735,1736,1737,1738,1739,1740,1741,1742,1743,1744,1745,1746,1747,1748,1749,1750,1751,1752,1753,1754,1755,1756,1757,1758,1759,1760,1761,1762,1763,1764,1765,1766,1767,1768,1769,1770,1771,1772,1773,1774,1775,1776,1777,1778,1779,1780,1781,1782,1783,1784,1785,1786,1787,1788,1789,1790,1791,1792,1793,1794,1795,1796,1797,1798,1799,1800,1801,1802,1803,1804,1805,1806,1807,1808,1809,1810,1811,1812,1813,1814,1815,1816,1817,1818,1819,1820,1821,1822,1823,1824,1825,1826,1827,1828,1829,1830,1831,1832,1833,1834,1835,1836,1837,1838,1839,1840,1841,1842,1843,1844,1845,1846,1847,1848,1849,1850,1851,1852,1853,1854,18Warning message:\n",
      "In data.row.names(row.names, rowsi, i): some row.names duplicated: 2,3,4,5,6,7,8,9,10,11,12,13,14,15,16,17,18,19,20,21,22,23,24,25,26,27,28,29,30,31,32,33,34,35,36,37,38,39,40,41,42,43,44,45,46,47,48,49,50,51,52,53,54,55,56,57,58,59,60,61,62,63,64,65,66,67,68,69,70,71,72,73,74,75,76,77,78,79,80,81,82,83,84,85,86,87,88,89,90,91,92,93,94,95,96,97,98,99,100,101,102,103,104,105,106,107,108,109,110,111,112,113,114,115,116,117,118,119,120,121,122,123,124,125,126,127,128,129,130,131,132,133,134,135,136,137,138,139,140,141,142,143,144,145,146,147,148,149,150,151,152,153,154,155,156,157,158,159,160,161,162,163,164,165,166,167,168,169,170,171,172,173,174,175,176,177,178,179,180,181,182,183,184,185,186,187,188,189,190,191,192,193,194,195,196,197,198,199,200,201,202,203,204,205,206,207,208,209,210,211,212,213,214,215,216,217,218,219,220,221,222,223,224,225,226,227,228,229,230,231,232,233,234,235,236,237,238,239,240,241,242,243,244,245,246,247,248,249,250,251,252,253,254,255,256,257,258,259,260,261,262,263,264,265,266,267,268,269,270,271,272,273,274,275,276,277,278,279,280,281,282,283,284,285,286,287,288,289,290,291,292,293,294,295,296,297,298,299,300,301,302,303,304,305,306,307,308,309,310,311,312,313,314,315,316,317,318,319,320,321,322,323,324,325,326,327,328,329,330,331,332,333,334,335,336,337,338,339,340,341,342,343,344,345,346,347,348,349,350,351,352,353,354,355,356,357,358,359,360,361,362,363,364,365,366,367,368,369,370,371,372,373,374,375,376,377,378,379,380,381,382,383,384,385,386,387,388,389,390,391,392,393,394,395,396,397,398,399,400,401,402,403,404,405,406,407,408,409,410,411,412,413,414,415,416,417,418,419,420,421,422,423,424,425,426,427,428,429,430,431,432,433,434,435,436,437,438,439,440,441,442,443,444,445,446,447,448,449,450,451,452,453,454,455,456,457,458,459,460,461,462,463,464,465,466,467,468,469,470,471,472,473,474,475,476,477,478,479,480,481,482,483,484,485,486,487,488,489,490,491,492,493,494,495,496,497,498,499,500,501,502,503,504,505,506,507,508,509,510,511,512,513,514,515,516,517,518,519,520,521,522,523,524,525,526,527,528,529,530,531,532,533,534,535,536,537,538,539,540,541,542,543,544,545,546,547,548,549,550,551,552,553,554,555,556,557,558,559,560,561,562,563,564,565,566,567,568,569,570,571,572,573,574,575,576,577,578,579,580,581,582,583,584,585,586,587,588,589,590,591,592,593,594,595,596,597,598,599,600,601,602,603,604,605,606,607,608,609,610,611,612,613,614,615,616,617,618,619,620,621,622,623,624,625,626,627,628,629,630,631,632,633,634,635,636,637,638,639,640,641,642,643,644,645,646,647,648,649,650,651,652,653,654,655,656,657,658,659,660,661,662,663,664,665,666,667,668,669,670,671,672,673,674,675,676,677,678,679,680,681,682,683,684,685,686,687,688,689,690,691,692,693,694,695,696,697,698,699,700,701,702,703,704,705,706,707,708,709,710,711,712,713,714,715,716,717,718,719,720,721,722,723,724,725,726,727,728,729,730,731,732,733,734,735,736,737,738,739,740,741,742,743,744,745,746,747,748,749,750,751,752,753,754,755,756,757,758,759,760,761,762,763,764,765,766,767,768,769,770,771,772,773,774,775,776,777,778,779,780,781,782,783,784,785,786,787,788,789,790,791,792,793,794,795,796,797,798,799,800,801,802,803,804,805,806,807,808,809,810,811,812,813,814,815,816,817,818,819,820,821,822,823,824,825,826,827,828,829,830,831,832,833,834,835,836,837,838,839,840,841,842,843,844,845,846,847,848,849,850,851,852,853,854,855,856,857,858,859,860,861,862,863,864,865,866,867,868,869,870,871,872,873,874,875,876,877,878,879,880,881,882,883,884,885,886,887,888,889,890,891,892,893,894,895,896,897,898,899,900,901,902,903,904,905,906,907,908,909,910,911,912,913,914,915,916,917,918,919,920,921,922,923,924,925,926,927,928,929,930,931,932,933,934,935,936,937,938,939,940,941,942,943,944,945,946,947,948,949,950,951,952,953,954,955,956,957,958,959,960,961,962,963,964,965,966,967,968,969,970,971,972,973,974,975,976,977,978,979,980,981,982,983,984,985,986,987,988,989,990,991,992,993,994,995,996,997,998,999,1000,1001,1002,1003,1004,1005,1006,1007,1008,1009,1010,1011,1012,1013,1014,1015,1016,1017,1018,1019,1020,1021,1022,1023,1024,1025,1026,1027,1028,1029,1030,1031,1032,1033,1034,1035,1036,1037,1038,1039,1040,1041,1042,1043,1044,1045,1046,1047,1048,1049,1050,1051,1052,1053,1054,1055,1056,1057,1058,1059,1060,1061,1062,1063,1064,1065,1066,1067,1068,1069,1070,1071,1072,1073,1074,1075,1076,1077,1078,1079,1080,1081,1082,1083,1084,1085,1086,1087,1088,1089,1090,1091,1092,1093,1094,1095,1096,1097,1098,1099,1100,1101,1102,1103,1104,1105,1106,1107,1108,1109,1110,1111,1112,1113,1114,1115,1116,1117,1118,1119,1120,1121,1122,1123,1124,1125,1126,1127,1128,1129,1130,1131,1132,1133,1134,1135,1136,1137,1138,1139,1140,1141,1142,1143,1144,1145,1146,1147,1148,1149,1150,1151,1152,1153,1154,1155,1156,1157,1158,1159,1160,1161,1162,1163,1164,1165,1166,1167,1168,1169,1170,1171,1172,1173,1174,1175,1176,1177,1178,1179,1180,1181,1182,1183,1184,1185,1186,1187,1188,1189,1190,1191,1192,1193,1194,1195,1196,1197,1198,1199,1200,1201,1202,1203,1204,1205,1206,1207,1208,1209,1210,1211,1212,1213,1214,1215,1216,1217,1218,1219,1220,1221,1222,1223,1224,1225,1226,1227,1228,1229,1230,1231,1232,1233,1234,1235,1236,1237,1238,1239,1240,1241,1242,1243,1244,1245,1246,1247,1248,1249,1250,1251,1252,1253,1254,1255,1256,1257,1258,1259,1260,1261,1262,1263,1264,1265,1266,1267,1268,1269,1270,1271,1272,1273,1274,1275,1276,1277,1278,1279,1280,1281,1282,1283,1284,1285,1286,1287,1288,1289,1290,1291,1292,1293,1294,1295,1296,1297,1298,1299,1300,1301,1302,1303,1304,1305,1306,1307,1308,1309,1310,1311,1312,1313,1314,1315,1316,1317,1318,1319,1320,1321,1322,1323,1324,1325,1326,1327,1328,1329,1330,1331,1332,1333,1334,1335,1336,1337,1338,1339,1340,1341,1342,1343,1344,1345,1346,1347,1348,1349,1350,1351,1352,1353,1354,1355,1356,1357,1358,1359,1360,1361,1362,1363,1364,1365,1366,1367,1368,1369,1370,1371,1372,1373,1374,1375,1376,1377,1378,1379,1380,1381,1382,1383,1384,1385,1386,1387,1388,1389,1390,1391,1392,1393,1394,1395,1396,1397,1398,1399,1400,1401,1402,1403,1404,1405,1406,1407,1408,1409,1410,1411,1412,1413,1414,1415,1416,1417,1418,1419,1420,1421,1422,1423,1424,1425,1426,1427,1428,1429,1430,1431,1432,1433,1434,1435,1436,1437,1438,1439,1440,1441,1442,1443,1444,1445,1446,1447,1448,1449,1450,1451,1452,1453,1454,1455,1456,1457,1458,1459,1460,1461,1462,1463,1464,1465,1466,1467,1468,1469,1470,1471,1472,1473,1474,1475,1476,1477,1478,1479,1480,1481,1482,1483,1484,1485,1486,1487,1488,1489,1490,1491,1492,1493,1494,1495,1496,1497,1498,1499,1500,1501,1502,1503,1504,1505,1506,1507,1508,1509,1510,1511,1512,1513,1514,1515,1516,1517,1518,1519,1520,1521,1522,1523,1524,1525,1526,1527,1528,1529,1530,1531,1532,1533,1534,1535,1536,1537,1538,1539,1540,1541,1542,1543,1544,1545,1546,1547,1548,1549,1550,1551,1552,1553,1554,1555,1556,1557,1558,1559,1560,1561,1562,1563,1564,1565,1566,1567,1568,1569,1570,1571,1572,1573,1574,1575,1576,1577,1578,1579,1580,1581,1582,1583,1584,1585,1586,1587,1588,1589,1590,1591,1592,1593,1594,1595,1596,1597,1598,1599,1600,1601,1602,1603,1604,1605,1606,1607,1608,1609,1610,1611,1612,1613,1614,1615,1616,1617,1618,1619,1620,1621,1622,1623,1624,1625,1626,1627,1628,1629,1630,1631,1632,1633,1634,1635,1636,1637,1638,1639,1640,1641,1642,1643,1644,1645,1646,1647,1648,1649,1650,1651,1652,1653,1654,1655,1656,1657,1658,1659,1660,1661,1662,1663,1664,1665,1666,1667,1668,1669,1670,1671,1672,1673,1674,1675,1676,1677,1678,1679,1680,1681,1682,1683,1684,1685,1686,1687,1688,1689,1690,1691,1692,1693,1694,1695,1696,1697,1698,1699,1700,1701,1702,1703,1704,1705,1706,1707,1708,1709,1710,1711,1712,1713,1714,1715,1716,1717,1718,1719,1720,1721,1722,1723,1724,1725,1726,1727,1728,1729,1730,1731,1732,1733,1734,1735,1736,1737,1738,1739,1740,1741,1742,1743,1744,1745,1746,1747,1748,1749,1750,1751,1752,1753,1754,1755,1756,1757,1758,1759,1760,1761,1762,1763,1764,1765,1766,1767,1768,1769,1770,1771,1772,1773,1774,1775,1776,1777,1778,1779,1780,1781,1782,1783,1784,1785,1786,1787,1788,1789,1790,1791,1792,1793,1794,1795,1796,1797,1798,1799,1800,1801,1802,1803,1804,1805,1806,1807,1808,1809,1810,1811,1812,1813,1814,1815,1816,1817,1818,1819,1820,1821,1822,1823,1824,1825,1826,1827,1828,1829,1830,1831,1832,1833,1834,1835,1836,1837,1838,1839,1840,1841,1842,1843,1844,1845,1846,1847,1848,1849,1850,1851,1852,1853,1854,18"
     ]
    }
   ],
   "source": [
    "dtm = cbind(dtmTitle, dtmAbstract)"
   ]
  },
  {
   "cell_type": "code",
   "execution_count": 30,
   "metadata": {
    "collapsed": true
   },
   "outputs": [],
   "source": [
    "dtm$trial = trials$trial"
   ]
  },
  {
   "cell_type": "code",
   "execution_count": 31,
   "metadata": {
    "collapsed": false
   },
   "outputs": [
    {
     "name": "stdout",
     "output_type": "stream",
     "text": [
      "'data.frame':\t1860 obs. of  367 variables:\n",
      " $ Tadjuv          : num  0 0 0 0 0 0 0 0 1 0 ...\n",
      " $ Tadvanc         : num  0 0 0 0 0 0 1 0 0 0 ...\n",
      " $ Tbreast         : num  0 0 1 1 1 1 0 1 1 1 ...\n",
      " $ Tcancer         : num  1 0 1 1 1 1 0 1 1 2 ...\n",
      " $ Tchemotherapi   : num  0 0 0 0 1 1 0 0 0 0 ...\n",
      " $ Tclinic         : num  0 0 0 0 0 0 0 0 0 0 ...\n",
      " $ Tcombin         : num  0 0 0 0 1 0 1 0 0 0 ...\n",
      " $ Tcompar         : num  0 0 0 0 0 0 0 0 0 0 ...\n",
      " $ Tcyclophosphamid: num  0 0 0 1 0 0 0 0 0 0 ...\n",
      " $ Tdocetaxel      : num  0 0 0 0 0 0 0 0 0 0 ...\n",
      " $ Tdoxorubicin    : num  0 0 0 0 0 0 0 0 0 0 ...\n",
      " $ Tearli          : num  0 0 1 1 0 0 0 1 0 0 ...\n",
      " $ Teffect         : num  0 0 0 0 1 0 0 1 0 1 ...\n",
      " $ Tgroup          : num  0 0 0 0 0 0 0 0 1 1 ...\n",
      " $ Tiii            : num  0 0 1 0 0 0 0 0 0 1 ...\n",
      " $ Tmetastat       : num  0 0 0 0 1 0 0 0 0 0 ...\n",
      " $ Tpatient        : num  0 0 0 0 1 0 1 0 1 1 ...\n",
      " $ Tphase          : num  0 0 1 1 0 0 0 0 0 1 ...\n",
      " $ Tplus           : num  0 0 0 0 0 0 0 0 0 0 ...\n",
      " $ Tpostmenopaus   : num  0 0 0 0 0 0 0 1 1 0 ...\n",
      " $ Trandom         : num  0 0 1 1 1 0 0 0 0 1 ...\n",
      " $ Trandomis       : num  0 0 0 0 0 0 0 1 1 0 ...\n",
      " $ Trespons        : num  0 0 0 0 0 1 0 0 0 0 ...\n",
      " $ Tresult         : num  0 0 0 0 0 0 0 0 0 0 ...\n",
      " $ Tstudi          : num  0 0 0 0 0 0 0 1 0 0 ...\n",
      " $ Ttamoxifen      : num  0 0 0 0 0 0 0 2 1 0 ...\n",
      " $ Ttherapi        : num  0 0 0 0 0 0 0 0 0 0 ...\n",
      " $ Ttreatment      : num  1 0 0 0 1 0 0 0 0 1 ...\n",
      " $ Ttrial          : num  0 0 1 1 1 0 0 1 1 1 ...\n",
      " $ Tversus         : num  0 0 1 0 0 0 0 1 0 0 ...\n",
      " $ Twomen          : num  0 0 0 0 0 0 0 1 0 0 ...\n",
      " $ A0001           : num  0 0 0 0 0 7 0 0 0 0 ...\n",
      " $ A001            : num  0 0 0 1 0 0 0 1 0 0 ...\n",
      " $ A005            : num  0 0 0 0 0 0 0 0 0 0 ...\n",
      " $ A100            : num  0 1 0 0 0 0 0 0 0 0 ...\n",
      " $ A500            : num  0 0 1 0 2 0 0 0 0 0 ...\n",
      " $ A5fluorouracil  : num  0 0 0 0 0 1 0 0 0 0 ...\n",
      " $ Aaccord         : num  0 0 0 0 0 0 0 0 0 0 ...\n",
      " $ Aachiev         : num  0 0 0 0 0 0 1 0 1 0 ...\n",
      " $ Aactiv          : num  0 2 0 1 0 0 1 0 0 0 ...\n",
      " $ Aaddit          : num  0 0 2 0 0 0 0 0 0 0 ...\n",
      " $ Aadjuv          : num  0 0 0 2 0 1 0 2 4 0 ...\n",
      " $ Aadminist       : num  0 0 0 0 0 0 1 0 0 0 ...\n",
      " $ Aadministr      : num  0 0 0 0 0 0 0 0 0 0 ...\n",
      " $ Aadvanc         : num  0 0 0 0 0 0 1 0 0 0 ...\n",
      " $ Aadvers         : num  0 0 0 0 0 0 0 0 0 4 ...\n",
      " $ Aage            : num  0 0 0 1 0 0 0 0 0 0 ...\n",
      " $ Aagent          : num  0 0 0 0 1 0 1 0 0 0 ...\n",
      " $ Aaim            : num  0 0 0 0 0 1 0 0 0 0 ...\n",
      " $ Aalon           : num  0 0 0 0 0 0 0 0 3 0 ...\n",
      " $ Aalso           : num  0 0 0 1 0 0 0 0 2 0 ...\n",
      " $ Aalthough       : num  0 0 0 0 0 0 0 0 0 0 ...\n",
      " $ Aamong          : num  0 0 2 4 0 0 0 0 1 0 ...\n",
      " $ Aanalys         : num  0 0 0 0 0 0 0 0 0 0 ...\n",
      " $ Aanalysi        : num  0 0 0 2 0 0 0 1 0 0 ...\n",
      " $ Aanalyz         : num  0 0 0 1 0 0 0 0 0 0 ...\n",
      " $ Aandor          : num  0 0 0 0 0 0 0 0 0 0 ...\n",
      " $ Aanthracyclin   : num  0 0 0 0 0 0 0 0 0 0 ...\n",
      " $ Aappear         : num  0 0 0 0 0 0 0 0 0 0 ...\n",
      " $ Aarm            : num  0 0 7 4 2 0 0 1 0 1 ...\n",
      " $ Aaromatas       : num  0 0 0 0 0 0 0 1 0 0 ...\n",
      " $ Aassess         : num  0 2 1 2 0 1 0 0 0 3 ...\n",
      " $ Aassign         : num  0 0 2 1 0 0 0 1 1 1 ...\n",
      " $ Aassoci         : num  0 0 1 3 0 2 0 1 2 0 ...\n",
      " $ Aavail          : num  0 0 0 0 0 0 0 0 0 0 ...\n",
      " $ Aaxillari       : num  0 0 0 1 0 0 0 0 1 0 ...\n",
      " $ Abackground     : num  0 0 1 1 1 0 0 1 1 0 ...\n",
      " $ Abase           : num  0 0 0 0 0 0 0 0 0 0 ...\n",
      " $ Abaselin        : num  0 0 0 0 0 0 0 0 0 1 ...\n",
      " $ Abenefit        : num  0 0 0 0 2 0 0 1 1 0 ...\n",
      " $ Abetter         : num  0 0 1 0 1 1 0 0 0 0 ...\n",
      " $ Abone           : num  0 0 0 0 0 0 0 0 0 0 ...\n",
      " $ Abreast         : num  0 2 3 3 3 4 2 2 2 3 ...\n",
      " $ Acan            : num  0 0 0 0 0 0 0 0 1 0 ...\n",
      " $ Acancer         : num  0 0 2 3 3 3 2 2 3 0 ...\n",
      " $ Acarcinoma      : num  0 5 0 0 0 0 0 0 0 2 ...\n",
      " $ Acase           : num  0 11 0 0 1 0 0 0 0 0 ...\n",
      " $ Acaus           : num  0 0 0 0 0 0 0 1 0 0 ...\n",
      " $ Acell           : num  0 3 0 0 0 1 0 0 0 0 ...\n",
      " $ Achang          : num  0 0 1 0 0 0 0 0 0 0 ...\n",
      " $ Acharacterist   : num  0 0 0 0 0 0 0 0 0 0 ...\n",
      " $ Achemotherapi   : num  0 0 1 2 3 5 2 0 1 0 ...\n",
      " $ Aclinic         : num  0 1 0 1 0 0 0 0 0 0 ...\n",
      " $ Acmf            : num  0 0 0 0 0 0 0 0 0 0 ...\n",
      " $ Acombin         : num  0 0 0 0 6 0 2 0 1 0 ...\n",
      " $ Acommon         : num  0 0 0 0 0 0 0 0 0 3 ...\n",
      " $ Acompar         : num  0 0 1 2 0 0 0 1 1 1 ...\n",
      " $ Acomparison     : num  0 0 0 0 0 0 0 0 0 0 ...\n",
      " $ Acomplet        : num  0 0 3 0 1 1 1 2 0 0 ...\n",
      " $ Aconclus        : num  0 0 1 0 1 0 0 0 0 0 ...\n",
      " $ Aconduct        : num  0 0 0 0 0 0 0 0 0 0 ...\n",
      " $ Aconfid         : num  0 0 1 1 0 0 0 0 0 0 ...\n",
      " $ Aconfirm        : num  0 0 0 0 0 0 0 0 0 0 ...\n",
      " $ Aconsid         : num  0 0 0 0 0 0 0 0 0 0 ...\n",
      " $ Aconsist        : num  0 1 0 0 0 0 0 0 0 0 ...\n",
      " $ Acontinu        : num  0 0 2 0 1 0 0 2 0 0 ...\n",
      " $ Acontrol        : num  0 1 0 0 0 0 0 0 1 0 ...\n",
      " $ Acorrel         : num  0 0 0 0 0 2 0 0 0 0 ...\n",
      " $ Acours          : num  0 0 0 0 0 0 0 0 0 0 ...\n",
      "  [list output truncated]\n"
     ]
    }
   ],
   "source": [
    "str(dtm)"
   ]
  },
  {
   "cell_type": "code",
   "execution_count": 32,
   "metadata": {
    "collapsed": true
   },
   "outputs": [],
   "source": [
    "set.seed(144)"
   ]
  },
  {
   "cell_type": "code",
   "execution_count": 33,
   "metadata": {
    "collapsed": true
   },
   "outputs": [],
   "source": [
    "library(caTools)"
   ]
  },
  {
   "cell_type": "code",
   "execution_count": 34,
   "metadata": {
    "collapsed": true
   },
   "outputs": [],
   "source": [
    "split = sample.split(dtm$trial, SplitRatio = 0.7)"
   ]
  },
  {
   "cell_type": "code",
   "execution_count": 35,
   "metadata": {
    "collapsed": true
   },
   "outputs": [],
   "source": [
    "train = subset(dtm, split == TRUE)"
   ]
  },
  {
   "cell_type": "code",
   "execution_count": 36,
   "metadata": {
    "collapsed": true
   },
   "outputs": [],
   "source": [
    "test = subset(dtm, split == FALSE)"
   ]
  },
  {
   "cell_type": "code",
   "execution_count": 37,
   "metadata": {
    "collapsed": false
   },
   "outputs": [
    {
     "data": {
      "text/plain": [
       "\n",
       "  0   1 \n",
       "730 572 "
      ]
     },
     "execution_count": 37,
     "metadata": {},
     "output_type": "execute_result"
    }
   ],
   "source": [
    "table(train$trial)"
   ]
  },
  {
   "cell_type": "code",
   "execution_count": 38,
   "metadata": {
    "collapsed": false
   },
   "outputs": [
    {
     "data": {
      "text/html": [
       "0.560675883256528"
      ],
      "text/latex": [
       "0.560675883256528"
      ],
      "text/markdown": [
       "0.560675883256528"
      ],
      "text/plain": [
       "[1] 0.5606759"
      ]
     },
     "execution_count": 38,
     "metadata": {},
     "output_type": "execute_result"
    },
    {
     "name": "stderr",
     "output_type": "stream",
     "text": [
      "Warning message:\n",
      ": package ‘rpart.plot’ was built under R version 3.3.0"
     ]
    }
   ],
   "source": [
    "730/(730+572)\n",
    "library(rpart)\n",
    "library(rpart.plot)"
   ]
  },
  {
   "cell_type": "markdown",
   "metadata": {},
   "source": [
    "Build a CART model called trialCART, using all the independent variables in the training set to train the model, and then plot the CART model. Just use the default parameters to build the model (don't add a minbucket or cp value). Remember to add the method=\"class\" argument, since this is a classification problem."
   ]
  },
  {
   "cell_type": "code",
   "execution_count": 39,
   "metadata": {
    "collapsed": false
   },
   "outputs": [],
   "source": [
    "trialCART = rpart(trial~., data = train, method = \"class\")"
   ]
  },
  {
   "cell_type": "code",
   "execution_count": 47,
   "metadata": {
    "collapsed": false
   },
   "outputs": [
    {
     "data": {
      "image/png": "[encoded data removed]",
      "image/svg+xml": [
       "<?xml version=\"1.0\" encoding=\"UTF-8\"?>\n",
       "<svg xmlns=\"http://www.w3.org/2000/svg\" xmlns:xlink=\"http://www.w3.org/1999/xlink\" width=\"504pt\" height=\"504pt\" viewBox=\"0 0 504 504\" version=\"1.1\">\n",
       "<defs>\n",
       "<g>\n",
       "<symbol overflow=\"visible\" id=\"glyph0-0\">\n",
       "<path style=\"stroke:none;\" d=\"\"/>\n",
       "</symbol>\n",
       "<symbol overflow=\"visible\" id=\"glyph0-1\">\n",
       "<path style=\"stroke:none;\" d=\"M 4.625 -7.25 L 7.171875 -7.25 L 7.171875 -8.75 L 0.171875 -8.75 L 0.171875 -7.25 L 2.8125 -7.25 L 2.8125 0 L 4.625 0 Z \"/>\n",
       "</symbol>\n",
       "<symbol overflow=\"visible\" id=\"glyph0-2\">\n",
       "<path style=\"stroke:none;\" d=\"M 2.375 -6.484375 L 0.703125 -6.484375 L 0.703125 2.609375 L 2.375 2.609375 L 2.375 -0.765625 C 2.78125 -0.046875 3.359375 0.28125 4.171875 0.28125 C 5.734375 0.28125 6.890625 -1.171875 6.890625 -3.140625 C 6.890625 -4.0625 6.625 -4.96875 6.1875 -5.5625 C 5.765625 -6.1875 4.953125 -6.59375 4.171875 -6.59375 C 3.359375 -6.59375 2.78125 -6.234375 2.375 -5.515625 Z M 3.796875 -5.1875 C 4.640625 -5.1875 5.203125 -4.359375 5.203125 -3.125 C 5.203125 -1.9375 4.625 -1.109375 3.796875 -1.109375 C 2.953125 -1.109375 2.375 -1.9375 2.375 -3.140625 C 2.375 -4.359375 2.953125 -5.1875 3.796875 -5.1875 Z \"/>\n",
       "</symbol>\n",
       "<symbol overflow=\"visible\" id=\"glyph0-3\">\n",
       "<path style=\"stroke:none;\" d=\"M 0.796875 -8.75 L 0.796875 0 L 2.484375 0 L 2.484375 -3.890625 C 2.484375 -4.625 3.03125 -5.15625 3.78125 -5.15625 C 4.140625 -5.15625 4.421875 -5.03125 4.625 -4.765625 C 4.765625 -4.546875 4.8125 -4.375 4.8125 -3.953125 L 4.8125 0 L 6.484375 0 L 6.484375 -4.34375 C 6.484375 -5.140625 6.28125 -5.71875 5.828125 -6.09375 C 5.453125 -6.40625 4.921875 -6.59375 4.375 -6.59375 C 3.546875 -6.59375 2.953125 -6.25 2.484375 -5.546875 L 2.484375 -8.75 Z \"/>\n",
       "</symbol>\n",
       "<symbol overflow=\"visible\" id=\"glyph0-4\">\n",
       "<path style=\"stroke:none;\" d=\"M 6.28125 -0.203125 C 5.984375 -0.484375 5.90625 -0.65625 5.90625 -1 L 5.90625 -4.59375 C 5.90625 -5.921875 5 -6.59375 3.25 -6.59375 C 1.5 -6.59375 0.59375 -5.84375 0.484375 -4.34375 L 2.09375 -4.34375 C 2.1875 -5.015625 2.453125 -5.234375 3.28125 -5.234375 C 3.9375 -5.234375 4.265625 -5.015625 4.265625 -4.578125 C 4.265625 -4.375 4.15625 -4.171875 3.96875 -4.078125 C 3.75 -3.953125 3.75 -3.953125 2.921875 -3.828125 L 2.25 -3.703125 C 0.953125 -3.484375 0.34375 -2.828125 0.34375 -1.671875 C 0.34375 -1.109375 0.484375 -0.65625 0.796875 -0.34375 C 1.15625 0.046875 1.734375 0.28125 2.296875 0.28125 C 3.03125 0.28125 3.6875 -0.03125 4.265625 -0.640625 C 4.265625 -0.3125 4.3125 -0.1875 4.46875 0 L 6.28125 0 Z M 4.265625 -2.609375 C 4.265625 -1.625 3.78125 -1.078125 2.921875 -1.078125 C 2.359375 -1.078125 2.015625 -1.375 2.015625 -1.859375 C 2.015625 -2.359375 2.28125 -2.609375 2.96875 -2.75 L 3.546875 -2.859375 C 4 -2.9375 4.0625 -2.96875 4.265625 -3.0625 Z \"/>\n",
       "</symbol>\n",
       "<symbol overflow=\"visible\" id=\"glyph0-5\">\n",
       "<path style=\"stroke:none;\" d=\"M 6.0625 -4.390625 C 6.03125 -5.765625 4.984375 -6.59375 3.234375 -6.59375 C 1.59375 -6.59375 0.578125 -5.765625 0.578125 -4.421875 C 0.578125 -4 0.703125 -3.625 0.9375 -3.375 C 1.15625 -3.140625 1.375 -3.03125 1.984375 -2.828125 L 4 -2.203125 C 4.421875 -2.078125 4.5625 -1.9375 4.5625 -1.6875 C 4.5625 -1.28125 4.09375 -1.046875 3.3125 -1.046875 C 2.875 -1.046875 2.53125 -1.125 2.3125 -1.265625 C 2.140625 -1.40625 2.0625 -1.53125 1.984375 -1.890625 L 0.34375 -1.890625 C 0.390625 -0.46875 1.4375 0.28125 3.40625 0.28125 C 4.3125 0.28125 4.984375 0.078125 5.46875 -0.296875 C 5.953125 -0.6875 6.234375 -1.28125 6.234375 -1.921875 C 6.234375 -2.765625 5.8125 -3.296875 4.96875 -3.546875 L 2.84375 -4.15625 C 2.375 -4.3125 2.25 -4.40625 2.25 -4.671875 C 2.25 -5.03125 2.640625 -5.265625 3.234375 -5.265625 C 4.03125 -5.265625 4.421875 -4.984375 4.4375 -4.390625 Z \"/>\n",
       "</symbol>\n",
       "<symbol overflow=\"visible\" id=\"glyph0-6\">\n",
       "<path style=\"stroke:none;\" d=\"M 6.28125 -2.71875 C 6.296875 -2.859375 6.296875 -2.921875 6.296875 -3 C 6.296875 -3.640625 6.203125 -4.25 6.046875 -4.703125 C 5.609375 -5.875 4.578125 -6.59375 3.265625 -6.59375 C 1.40625 -6.59375 0.265625 -5.25 0.265625 -3.078125 C 0.265625 -1 1.390625 0.28125 3.234375 0.28125 C 4.6875 0.28125 5.859375 -0.546875 6.234375 -1.828125 L 4.578125 -1.828125 C 4.375 -1.3125 3.90625 -1.015625 3.28125 -1.015625 C 2.8125 -1.015625 2.421875 -1.21875 2.1875 -1.578125 C 2.03125 -1.8125 1.96875 -2.09375 1.9375 -2.71875 Z M 1.96875 -3.828125 C 2.078125 -4.8125 2.5 -5.296875 3.234375 -5.296875 C 3.65625 -5.296875 4.046875 -5.09375 4.28125 -4.765625 C 4.4375 -4.53125 4.515625 -4.265625 4.546875 -3.828125 Z \"/>\n",
       "</symbol>\n",
       "<symbol overflow=\"visible\" id=\"glyph0-7\">\n",
       "<path style=\"stroke:none;\" d=\"\"/>\n",
       "</symbol>\n",
       "<symbol overflow=\"visible\" id=\"glyph0-8\">\n",
       "<path style=\"stroke:none;\" d=\"M 6.34375 -5.6875 L 0.484375 -3.515625 L 0.484375 -2.0625 L 6.34375 0.125 L 6.34375 -1.21875 L 1.765625 -2.78125 L 6.34375 -4.375 Z \"/>\n",
       "</symbol>\n",
       "<symbol overflow=\"visible\" id=\"glyph0-9\">\n",
       "<path style=\"stroke:none;\" d=\"M 3.28125 -8.6875 C 2.359375 -8.6875 1.578125 -8.296875 1.0625 -7.59375 C 0.578125 -6.9375 0.34375 -5.84375 0.34375 -4.203125 C 0.34375 -2.703125 0.546875 -1.625 0.953125 -0.984375 C 1.453125 -0.1875 2.28125 0.28125 3.28125 0.28125 C 4.203125 0.28125 4.953125 -0.09375 5.484375 -0.8125 C 5.96875 -1.46875 6.203125 -2.5625 6.203125 -4.15625 C 6.203125 -5.71875 6.015625 -6.765625 5.609375 -7.421875 C 5.09375 -8.25 4.265625 -8.6875 3.28125 -8.6875 Z M 3.28125 -7.328125 C 3.703125 -7.328125 4.0625 -7.09375 4.265625 -6.640625 C 4.421875 -6.28125 4.53125 -5.359375 4.53125 -4.1875 C 4.53125 -3.234375 4.421875 -2.28125 4.3125 -1.9375 C 4.109375 -1.4375 3.75 -1.15625 3.28125 -1.15625 C 2.828125 -1.15625 2.5 -1.390625 2.296875 -1.828125 C 2.125 -2.1875 2.03125 -3.078125 2.03125 -4.21875 C 2.03125 -5.203125 2.125 -6.1875 2.25 -6.53125 C 2.4375 -7.046875 2.796875 -7.328125 3.28125 -7.328125 Z \"/>\n",
       "</symbol>\n",
       "<symbol overflow=\"visible\" id=\"glyph0-10\">\n",
       "<path style=\"stroke:none;\" d=\"M 2.5625 -1.75 L 0.765625 -1.75 L 0.765625 0 L 2.5625 0 Z \"/>\n",
       "</symbol>\n",
       "<symbol overflow=\"visible\" id=\"glyph0-11\">\n",
       "<path style=\"stroke:none;\" d=\"M 5.875 -8.515625 L 1.3125 -8.515625 L 0.5625 -3.765625 L 2.078125 -3.765625 C 2.25 -4.1875 2.640625 -4.421875 3.15625 -4.421875 C 4.015625 -4.421875 4.53125 -3.796875 4.53125 -2.765625 C 4.53125 -1.78125 4 -1.15625 3.15625 -1.15625 C 2.421875 -1.15625 2.015625 -1.53125 1.984375 -2.21875 L 0.328125 -2.21875 C 0.34375 -0.734375 1.46875 0.28125 3.125 0.28125 C 4.953125 0.28125 6.203125 -0.96875 6.203125 -2.8125 C 6.203125 -4.546875 5.125 -5.75 3.546875 -5.75 C 2.984375 -5.75 2.5625 -5.609375 2.078125 -5.234375 L 2.359375 -7.015625 L 5.875 -7.015625 Z \"/>\n",
       "</symbol>\n",
       "<symbol overflow=\"visible\" id=\"glyph0-12\">\n",
       "<path style=\"stroke:none;\" d=\"M 6.015625 -1.765625 L 6.59375 0 L 8.4375 0 L 5.40625 -8.75 L 3.421875 -8.75 L 0.3125 0 L 2.140625 0 L 2.734375 -1.765625 Z M 5.515625 -3.265625 L 3.234375 -3.265625 L 4.375 -6.6875 Z \"/>\n",
       "</symbol>\n",
       "<symbol overflow=\"visible\" id=\"glyph0-13\">\n",
       "<path style=\"stroke:none;\" d=\"M 3.609375 -6.34375 L 2.671875 -6.34375 L 2.671875 -8.09375 L 1 -8.09375 L 1 -6.34375 L 0.171875 -6.34375 L 0.171875 -5.234375 L 1 -5.234375 L 1 -1.25 C 1 -0.234375 1.53125 0.28125 2.640625 0.28125 C 3.015625 0.28125 3.3125 0.234375 3.609375 0.140625 L 3.609375 -1.03125 C 3.4375 -1.015625 3.34375 -1 3.234375 -1 C 2.78125 -1 2.671875 -1.125 2.671875 -1.703125 L 2.671875 -5.234375 L 3.609375 -5.234375 Z \"/>\n",
       "</symbol>\n",
       "<symbol overflow=\"visible\" id=\"glyph0-14\">\n",
       "<path style=\"stroke:none;\" d=\"M 3.609375 -6.59375 C 1.625 -6.59375 0.421875 -5.28125 0.421875 -3.15625 C 0.421875 -1.015625 1.625 0.28125 3.625 0.28125 C 5.59375 0.28125 6.828125 -1.03125 6.828125 -3.109375 C 6.828125 -5.296875 5.640625 -6.59375 3.609375 -6.59375 Z M 3.625 -5.234375 C 4.546875 -5.234375 5.140625 -4.40625 5.140625 -3.125 C 5.140625 -1.921875 4.53125 -1.078125 3.625 -1.078125 C 2.71875 -1.078125 2.09375 -1.921875 2.09375 -3.15625 C 2.09375 -4.390625 2.71875 -5.234375 3.625 -5.234375 Z \"/>\n",
       "</symbol>\n",
       "<symbol overflow=\"visible\" id=\"glyph0-15\">\n",
       "<path style=\"stroke:none;\" d=\"M 4.265625 -3.265625 L 6.375 -6.484375 L 4.359375 -6.484375 L 3.3125 -4.53125 L 2.25 -6.484375 L 0.234375 -6.484375 L 2.359375 -3.265625 L 0.1875 0 L 2.203125 0 L 3.3125 -2.015625 L 4.40625 0 L 6.421875 0 Z \"/>\n",
       "</symbol>\n",
       "<symbol overflow=\"visible\" id=\"glyph0-16\">\n",
       "<path style=\"stroke:none;\" d=\"M 2.484375 -6.484375 L 0.796875 -6.484375 L 0.796875 0 L 2.484375 0 Z M 2.484375 -8.75 L 0.796875 -8.75 L 0.796875 -7.25 L 2.484375 -7.25 Z \"/>\n",
       "</symbol>\n",
       "<symbol overflow=\"visible\" id=\"glyph0-17\">\n",
       "<path style=\"stroke:none;\" d=\"M 6.265625 -4.0625 C 6.140625 -5.640625 5.09375 -6.59375 3.46875 -6.59375 C 1.53125 -6.59375 0.40625 -5.3125 0.40625 -3.109375 C 0.40625 -0.96875 1.53125 0.28125 3.4375 0.28125 C 5.015625 0.28125 6.109375 -0.703125 6.265625 -2.25 L 4.65625 -2.25 C 4.4375 -1.40625 4.109375 -1.078125 3.453125 -1.078125 C 2.609375 -1.078125 2.09375 -1.84375 2.09375 -3.109375 C 2.09375 -3.71875 2.203125 -4.296875 2.40625 -4.6875 C 2.609375 -5.046875 2.96875 -5.234375 3.453125 -5.234375 C 4.140625 -5.234375 4.46875 -4.90625 4.65625 -4.0625 Z \"/>\n",
       "</symbol>\n",
       "<symbol overflow=\"visible\" id=\"glyph0-18\">\n",
       "<path style=\"stroke:none;\" d=\"M 6.484375 0 L 6.484375 -6.484375 L 4.8125 -6.484375 L 4.8125 -2.421875 C 4.8125 -1.65625 4.265625 -1.15625 3.453125 -1.15625 C 2.734375 -1.15625 2.375 -1.53125 2.375 -2.3125 L 2.375 -6.484375 L 0.703125 -6.484375 L 0.703125 -1.96875 C 0.703125 -0.546875 1.484375 0.28125 2.875 0.28125 C 3.75 0.28125 4.328125 -0.046875 4.8125 -0.765625 L 4.8125 0 Z \"/>\n",
       "</symbol>\n",
       "<symbol overflow=\"visible\" id=\"glyph0-19\">\n",
       "<path style=\"stroke:none;\" d=\"M 0.75 -6.484375 L 0.75 0 L 2.4375 0 L 2.4375 -3.4375 C 2.4375 -4.421875 2.921875 -4.921875 3.90625 -4.921875 C 4.09375 -4.921875 4.21875 -4.90625 4.4375 -4.875 L 4.4375 -6.578125 C 4.34375 -6.59375 4.28125 -6.59375 4.234375 -6.59375 C 3.46875 -6.59375 2.796875 -6.078125 2.4375 -5.203125 L 2.4375 -6.484375 Z \"/>\n",
       "</symbol>\n",
       "<symbol overflow=\"visible\" id=\"glyph0-20\">\n",
       "<path style=\"stroke:none;\" d=\"M 4.203125 0 L 6.4375 -6.484375 L 4.65625 -6.484375 L 3.34375 -1.734375 L 1.9375 -6.484375 L 0.171875 -6.484375 L 2.4375 0 Z \"/>\n",
       "</symbol>\n",
       "<symbol overflow=\"visible\" id=\"glyph0-21\">\n",
       "<path style=\"stroke:none;\" d=\"M 4.859375 0 L 6.546875 0 L 6.546875 -8.75 L 4.859375 -8.75 L 4.859375 -5.640625 C 4.4375 -6.28125 3.875 -6.59375 3.078125 -6.59375 C 1.53125 -6.59375 0.34375 -5.09375 0.34375 -3.140625 C 0.34375 -2.265625 0.609375 -1.375 1.046875 -0.75 C 1.484375 -0.125 2.28125 0.28125 3.078125 0.28125 C 3.875 0.28125 4.4375 -0.03125 4.859375 -0.65625 Z M 3.4375 -5.1875 C 4.296875 -5.1875 4.859375 -4.359375 4.859375 -3.125 C 4.859375 -1.9375 4.28125 -1.125 3.4375 -1.125 C 2.609375 -1.125 2.03125 -1.953125 2.03125 -3.140625 C 2.03125 -4.34375 2.609375 -5.1875 3.4375 -5.1875 Z \"/>\n",
       "</symbol>\n",
       "<symbol overflow=\"visible\" id=\"glyph0-22\">\n",
       "<path style=\"stroke:none;\" d=\"M 0.484375 0.125 L 6.34375 -2.046875 L 6.34375 -3.5 L 0.484375 -5.6875 L 0.484375 -4.359375 L 5.0625 -2.78125 L 0.484375 -1.1875 Z \"/>\n",
       "</symbol>\n",
       "<symbol overflow=\"visible\" id=\"glyph0-23\">\n",
       "<path style=\"stroke:none;\" d=\"M 6.40625 -4.9375 L 0.59375 -4.9375 L 0.59375 -3.5 L 6.40625 -3.5 Z M 6.40625 -2.046875 L 0.59375 -2.046875 L 0.59375 -0.625 L 6.40625 -0.625 Z \"/>\n",
       "</symbol>\n",
       "<symbol overflow=\"visible\" id=\"glyph0-24\">\n",
       "<path style=\"stroke:none;\" d=\"M 4.734375 -6.484375 L 3.390625 -1.765625 L 1.953125 -6.484375 L 0.109375 -6.484375 L 2.515625 0.265625 L 2.515625 0.3125 C 2.515625 0.921875 2.0625 1.390625 1.46875 1.390625 C 1.34375 1.390625 1.25 1.375 1.03125 1.3125 L 1.03125 2.578125 C 1.28125 2.609375 1.421875 2.625 1.625 2.625 C 2.046875 2.625 2.5625 2.546875 2.84375 2.421875 C 3.3125 2.234375 3.515625 1.953125 3.796875 1.1875 L 6.453125 -6.484375 Z \"/>\n",
       "</symbol>\n",
       "<symbol overflow=\"visible\" id=\"glyph0-25\">\n",
       "<path style=\"stroke:none;\" d=\"M 2.484375 -8.75 L 0.796875 -8.75 L 0.796875 0 L 2.484375 0 Z \"/>\n",
       "</symbol>\n",
       "<symbol overflow=\"visible\" id=\"glyph0-26\">\n",
       "<path style=\"stroke:none;\" d=\"M 3.75 -6.34375 L 2.765625 -6.34375 L 2.765625 -6.984375 C 2.765625 -7.3125 2.90625 -7.484375 3.21875 -7.484375 C 3.359375 -7.484375 3.546875 -7.46875 3.703125 -7.453125 L 3.703125 -8.71875 C 3.390625 -8.734375 2.96875 -8.75 2.734375 -8.75 C 1.625 -8.75 1.078125 -8.21875 1.078125 -7.125 L 1.078125 -6.34375 L 0.171875 -6.34375 L 0.171875 -5.234375 L 1.078125 -5.234375 L 1.078125 0 L 2.765625 0 L 2.765625 -5.234375 L 3.75 -5.234375 Z \"/>\n",
       "</symbol>\n",
       "<symbol overflow=\"visible\" id=\"glyph0-27\">\n",
       "<path style=\"stroke:none;\" d=\"M 0.75 -6.484375 L 0.75 0 L 2.4375 0 L 2.4375 -3.890625 C 2.4375 -4.65625 2.96875 -5.15625 3.796875 -5.15625 C 4.515625 -5.15625 4.875 -4.765625 4.875 -4 L 4.875 0 L 6.546875 0 L 6.546875 -4.34375 C 6.546875 -5.765625 5.765625 -6.59375 4.375 -6.59375 C 3.5 -6.59375 2.921875 -6.265625 2.4375 -5.546875 L 2.4375 -6.484375 Z \"/>\n",
       "</symbol>\n",
       "<symbol overflow=\"visible\" id=\"glyph0-28\">\n",
       "<path style=\"stroke:none;\" d=\"M 4.890625 -6.484375 L 4.890625 -5.484375 C 4.390625 -6.25 3.84375 -6.59375 3.09375 -6.59375 C 1.5625 -6.59375 0.40625 -5.09375 0.40625 -3.078125 C 0.40625 -1.0625 1.46875 0.28125 3.0625 0.28125 C 3.8125 0.28125 4.265625 0.046875 4.890625 -0.65625 L 4.890625 0.21875 C 4.890625 1 4.3125 1.53125 3.46875 1.53125 C 2.828125 1.53125 2.40625 1.265625 2.28125 0.78125 L 0.546875 0.78125 C 0.546875 1.28125 0.75 1.625 1.171875 1.984375 C 1.6875 2.40625 2.40625 2.609375 3.40625 2.609375 C 5.359375 2.609375 6.484375 1.734375 6.484375 0.21875 L 6.484375 -6.484375 Z M 3.453125 -5.1875 C 4.296875 -5.1875 4.921875 -4.3125 4.921875 -3.109375 C 4.921875 -1.9375 4.3125 -1.125 3.4375 -1.125 C 2.640625 -1.125 2.09375 -1.9375 2.09375 -3.109375 C 2.09375 -4.328125 2.640625 -5.1875 3.453125 -5.1875 Z \"/>\n",
       "</symbol>\n",
       "<symbol overflow=\"visible\" id=\"glyph0-29\">\n",
       "<path style=\"stroke:none;\" d=\"M 0.703125 -8.75 L 0.703125 0 L 2.390625 0 L 2.390625 -0.65625 C 2.796875 -0.03125 3.359375 0.28125 4.171875 0.28125 C 5.71875 0.28125 6.90625 -1.203125 6.90625 -3.15625 C 6.90625 -4.03125 6.640625 -4.921875 6.203125 -5.546875 C 5.765625 -6.1875 4.96875 -6.59375 4.171875 -6.59375 C 3.375 -6.59375 2.796875 -6.28125 2.390625 -5.640625 L 2.390625 -8.75 Z M 3.796875 -5.1875 C 4.625 -5.1875 5.21875 -4.34375 5.21875 -3.140625 C 5.21875 -1.96875 4.625 -1.125 3.796875 -1.125 C 2.953125 -1.125 2.390625 -1.9375 2.390625 -3.1875 C 2.390625 -4.359375 2.96875 -5.1875 3.796875 -5.1875 Z \"/>\n",
       "</symbol>\n",
       "<symbol overflow=\"visible\" id=\"glyph1-0\">\n",
       "<path style=\"stroke:none;\" d=\"\"/>\n",
       "</symbol>\n",
       "<symbol overflow=\"visible\" id=\"glyph1-1\">\n",
       "<path style=\"stroke:none;\" d=\"M 3.296875 -8.515625 C 2.515625 -8.515625 1.78125 -8.15625 1.34375 -7.578125 C 0.796875 -6.828125 0.515625 -5.6875 0.515625 -4.109375 C 0.515625 -1.25 1.46875 0.28125 3.296875 0.28125 C 5.09375 0.28125 6.078125 -1.25 6.078125 -4.046875 C 6.078125 -5.703125 5.8125 -6.796875 5.25 -7.578125 C 4.8125 -8.171875 4.109375 -8.515625 3.296875 -8.515625 Z M 3.296875 -7.578125 C 4.4375 -7.578125 5 -6.421875 5 -4.140625 C 5 -1.734375 4.453125 -0.59375 3.28125 -0.59375 C 2.15625 -0.59375 1.59375 -1.78125 1.59375 -4.109375 C 1.59375 -6.4375 2.15625 -7.578125 3.296875 -7.578125 Z \"/>\n",
       "</symbol>\n",
       "<symbol overflow=\"visible\" id=\"glyph1-2\">\n",
       "<path style=\"stroke:none;\" d=\"M 3.109375 -6.0625 L 3.109375 0 L 4.15625 0 L 4.15625 -8.515625 L 3.46875 -8.515625 C 3.09375 -7.203125 2.859375 -7.015625 1.21875 -6.8125 L 1.21875 -6.0625 Z \"/>\n",
       "</symbol>\n",
       "<symbol overflow=\"visible\" id=\"glyph2-0\">\n",
       "<path style=\"stroke:none;\" d=\"\"/>\n",
       "</symbol>\n",
       "<symbol overflow=\"visible\" id=\"glyph2-1\">\n",
       "<path style=\"stroke:none;\" d=\"M 4.8125 -5.03125 L 2.578125 -1.125 L 2.125 -5.03125 L 1.265625 -5.03125 L 1.921875 0.03125 L 1.421875 0.8125 C 1.15625 1.21875 1 1.3125 0.65625 1.3125 C 0.5625 1.3125 0.484375 1.3125 0.234375 1.28125 L 0.078125 2 C 0.25 2.078125 0.359375 2.09375 0.546875 2.09375 C 1.234375 2.09375 1.71875 1.765625 2.125 1.0625 L 5.65625 -5.03125 Z \"/>\n",
       "</symbol>\n",
       "<symbol overflow=\"visible\" id=\"glyph2-2\">\n",
       "<path style=\"stroke:none;\" d=\"M 5.40625 -2.25 L 5.4375 -2.40625 C 5.515625 -2.875 5.5625 -3.265625 5.5625 -3.53125 C 5.5625 -4.453125 4.765625 -5.171875 3.734375 -5.171875 C 2.890625 -5.171875 2.09375 -4.78125 1.609375 -4.140625 C 1.15625 -3.53125 0.8125 -2.4375 0.8125 -1.65625 C 0.8125 -1.140625 1.03125 -0.609375 1.40625 -0.265625 C 1.734375 0.0625 2.15625 0.21875 2.703125 0.21875 C 3.859375 0.21875 4.84375 -0.484375 5.140625 -1.53125 L 4.34375 -1.53125 C 3.984375 -0.859375 3.484375 -0.515625 2.84375 -0.515625 C 2.078125 -0.515625 1.65625 -0.984375 1.65625 -1.796875 C 1.65625 -2 1.65625 -2.09375 1.703125 -2.25 Z M 1.875 -2.9375 C 2.125 -3.8125 2.828125 -4.4375 3.609375 -4.4375 C 4.28125 -4.4375 4.71875 -3.96875 4.71875 -3.25 C 4.71875 -3.15625 4.703125 -3.09375 4.6875 -2.9375 Z \"/>\n",
       "</symbol>\n",
       "<symbol overflow=\"visible\" id=\"glyph2-3\">\n",
       "<path style=\"stroke:none;\" d=\"M 4.9375 -3.625 C 4.984375 -3.828125 4.984375 -3.921875 4.984375 -4.03125 C 4.984375 -4.703125 4.34375 -5.171875 3.421875 -5.171875 C 2.734375 -5.171875 2.15625 -4.96875 1.75 -4.59375 C 1.40625 -4.265625 1.1875 -3.765625 1.1875 -3.3125 C 1.1875 -2.71875 1.515625 -2.453125 2.5 -2.1875 L 3.21875 -2 C 3.53125 -1.921875 3.671875 -1.859375 3.765625 -1.75 C 3.828125 -1.671875 3.890625 -1.53125 3.890625 -1.4375 C 3.890625 -1.265625 3.734375 -0.96875 3.578125 -0.84375 C 3.34375 -0.640625 2.921875 -0.515625 2.515625 -0.515625 C 1.859375 -0.515625 1.484375 -0.78125 1.484375 -1.25 C 1.484375 -1.3125 1.484375 -1.40625 1.5 -1.5 L 0.640625 -1.5 C 0.59375 -1.28125 0.578125 -1.15625 0.578125 -1 C 0.578125 -0.234375 1.25 0.21875 2.375 0.21875 C 3.796875 0.21875 4.734375 -0.515625 4.734375 -1.65625 C 4.734375 -2.25 4.40625 -2.546875 3.5625 -2.765625 L 2.84375 -2.9375 C 2.296875 -3.078125 2.03125 -3.265625 2.03125 -3.515625 C 2.03125 -3.71875 2.140625 -3.953125 2.3125 -4.109375 C 2.546875 -4.34375 2.828125 -4.4375 3.25 -4.4375 C 3.8125 -4.4375 4.140625 -4.21875 4.140625 -3.84375 C 4.140625 -3.765625 4.140625 -3.703125 4.125 -3.625 Z \"/>\n",
       "</symbol>\n",
       "<symbol overflow=\"visible\" id=\"glyph2-4\">\n",
       "<path style=\"stroke:none;\" d=\"M 1.734375 -5.03125 L 0.671875 0 L 1.484375 0 L 2.0625 -2.765625 C 2.296875 -3.828125 2.96875 -4.484375 3.828125 -4.484375 C 4.3125 -4.484375 4.65625 -4.140625 4.65625 -3.703125 C 4.65625 -3.640625 4.640625 -3.5 4.609375 -3.34375 L 3.890625 0 L 4.703125 0 L 5.46875 -3.609375 C 5.5 -3.734375 5.5 -3.84375 5.5 -3.96875 C 5.5 -4.703125 5 -5.171875 4.203125 -5.171875 C 3.46875 -5.171875 2.84375 -4.90625 2.34375 -4.40625 L 2.46875 -5.03125 Z \"/>\n",
       "</symbol>\n",
       "<symbol overflow=\"visible\" id=\"glyph2-5\">\n",
       "<path style=\"stroke:none;\" d=\"M 3.6875 -5.171875 C 2.796875 -5.171875 2 -4.765625 1.515625 -4.0625 C 1.078125 -3.4375 0.765625 -2.390625 0.765625 -1.578125 C 0.765625 -0.515625 1.5 0.21875 2.578125 0.21875 C 3.5 0.21875 4.234375 -0.15625 4.765625 -0.890625 C 5.203125 -1.5 5.53125 -2.546875 5.53125 -3.375 C 5.53125 -3.890625 5.328125 -4.375 5 -4.703125 C 4.671875 -5.015625 4.234375 -5.171875 3.6875 -5.171875 Z M 3.5625 -4.4375 C 4.265625 -4.4375 4.6875 -3.96875 4.6875 -3.1875 C 4.6875 -2.625 4.515625 -2 4.265625 -1.53125 C 3.890625 -0.859375 3.375 -0.515625 2.71875 -0.515625 C 2.03125 -0.515625 1.609375 -1 1.609375 -1.765625 C 1.609375 -2.3125 1.78125 -2.9375 2.03125 -3.421875 C 2.390625 -4.078125 2.921875 -4.4375 3.5625 -4.4375 Z \"/>\n",
       "</symbol>\n",
       "</g>\n",
       "</defs>\n",
       "<g id=\"surface90\">\n",
       "<rect x=\"0\" y=\"0\" width=\"504\" height=\"504\" style=\"fill:rgb(100%,100%,100%);fill-opacity:1;stroke:none;\"/>\n",
       "<path style=\"fill:none;stroke-width:0.75;stroke-linecap:butt;stroke-linejoin:round;stroke:rgb(0%,0%,0%);stroke-opacity:1;stroke-miterlimit:10;\" d=\"M 184.878906 118.429688 L 278.78125 65.128906 L 302.257812 65.128906 \"/>\n",
       "<path style=\"fill:none;stroke-width:0.75;stroke-linecap:butt;stroke-linejoin:round;stroke:rgb(0%,0%,0%);stroke-opacity:1;stroke-miterlimit:10;\" d=\"M 89.160156 173.160156 L 165.734375 119.859375 L 184.878906 119.859375 \"/>\n",
       "<path style=\"fill:none;stroke-width:0.75;stroke-linecap:butt;stroke-linejoin:round;stroke:rgb(0%,0%,0%);stroke-opacity:1;stroke-miterlimit:10;\" d=\"M 41.183594 216.398438 L 79.566406 174.589844 L 89.160156 174.589844 \"/>\n",
       "<path style=\"fill:none;stroke-width:0.75;stroke-linecap:butt;stroke-linejoin:round;stroke:rgb(0%,0%,0%);stroke-opacity:1;stroke-miterlimit:10;\" d=\"M 137.140625 227.894531 L 98.757812 174.589844 L 89.160156 174.589844 \"/>\n",
       "<path style=\"fill:none;stroke-width:0.75;stroke-linecap:butt;stroke-linejoin:round;stroke:rgb(0%,0%,0%);stroke-opacity:1;stroke-miterlimit:10;\" d=\"M 89.164062 271.128906 L 127.542969 229.324219 L 137.140625 229.324219 \"/>\n",
       "<path style=\"fill:none;stroke-width:0.75;stroke-linecap:butt;stroke-linejoin:round;stroke:rgb(0%,0%,0%);stroke-opacity:1;stroke-miterlimit:10;\" d=\"M 185.113281 282.625 L 146.734375 229.324219 L 137.140625 229.324219 \"/>\n",
       "<path style=\"fill:none;stroke-width:0.75;stroke-linecap:butt;stroke-linejoin:round;stroke:rgb(0%,0%,0%);stroke-opacity:1;stroke-miterlimit:10;\" d=\"M 137.183594 337.355469 L 175.527344 284.054688 L 185.113281 284.054688 \"/>\n",
       "<path style=\"fill:none;stroke-width:0.75;stroke-linecap:butt;stroke-linejoin:round;stroke:rgb(0%,0%,0%);stroke-opacity:1;stroke-miterlimit:10;\" d=\"M 89.683594 392.085938 L 127.683594 338.785156 L 137.183594 338.785156 \"/>\n",
       "<path style=\"fill:none;stroke-width:0.75;stroke-linecap:butt;stroke-linejoin:round;stroke:rgb(0%,0%,0%);stroke-opacity:1;stroke-miterlimit:10;\" d=\"M 46.503906 435.324219 L 81.046875 393.515625 L 89.683594 393.515625 \"/>\n",
       "<path style=\"fill:none;stroke-width:0.75;stroke-linecap:butt;stroke-linejoin:round;stroke:rgb(0%,0%,0%);stroke-opacity:1;stroke-miterlimit:10;\" d=\"M 132.863281 435.324219 L 98.320312 393.515625 L 89.683594 393.515625 \"/>\n",
       "<path style=\"fill:none;stroke-width:0.75;stroke-linecap:butt;stroke-linejoin:round;stroke:rgb(0%,0%,0%);stroke-opacity:1;stroke-miterlimit:10;\" d=\"M 184.679688 380.59375 L 146.683594 338.785156 L 137.183594 338.785156 \"/>\n",
       "<path style=\"fill:none;stroke-width:0.75;stroke-linecap:butt;stroke-linejoin:round;stroke:rgb(0%,0%,0%);stroke-opacity:1;stroke-miterlimit:10;\" d=\"M 233.042969 325.863281 L 194.699219 284.054688 L 185.113281 284.054688 \"/>\n",
       "<path style=\"fill:none;stroke-width:0.75;stroke-linecap:butt;stroke-linejoin:round;stroke:rgb(0%,0%,0%);stroke-opacity:1;stroke-miterlimit:10;\" d=\"M 280.59375 173.160156 L 204.019531 119.859375 L 184.878906 119.859375 \"/>\n",
       "<path style=\"fill:none;stroke-width:0.75;stroke-linecap:butt;stroke-linejoin:round;stroke:rgb(0%,0%,0%);stroke-opacity:1;stroke-miterlimit:10;\" d=\"M 233.09375 216.398438 L 271.09375 174.589844 L 280.59375 174.589844 \"/>\n",
       "<path style=\"fill:none;stroke-width:0.75;stroke-linecap:butt;stroke-linejoin:round;stroke:rgb(0%,0%,0%);stroke-opacity:1;stroke-miterlimit:10;\" d=\"M 328.09375 227.894531 L 290.09375 174.589844 L 280.59375 174.589844 \"/>\n",
       "<path style=\"fill:none;stroke-width:0.75;stroke-linecap:butt;stroke-linejoin:round;stroke:rgb(0%,0%,0%);stroke-opacity:1;stroke-miterlimit:10;\" d=\"M 284.914062 271.128906 L 319.457031 229.324219 L 328.09375 229.324219 \"/>\n",
       "<path style=\"fill:none;stroke-width:0.75;stroke-linecap:butt;stroke-linejoin:round;stroke:rgb(0%,0%,0%);stroke-opacity:1;stroke-miterlimit:10;\" d=\"M 371.273438 271.128906 L 336.730469 229.324219 L 328.09375 229.324219 \"/>\n",
       "<path style=\"fill:none;stroke-width:0.75;stroke-linecap:butt;stroke-linejoin:round;stroke:rgb(0%,0%,0%);stroke-opacity:1;stroke-miterlimit:10;\" d=\"M 419.636719 118.429688 L 325.734375 65.128906 L 302.257812 65.128906 \"/>\n",
       "<path style=\"fill:none;stroke-width:0.75;stroke-linecap:butt;stroke-linejoin:round;stroke:rgb(0%,0%,0%);stroke-opacity:1;stroke-miterlimit:10;\" d=\"M 376.457031 161.667969 L 411 119.859375 L 419.636719 119.859375 \"/>\n",
       "<path style=\"fill:none;stroke-width:0.75;stroke-linecap:butt;stroke-linejoin:round;stroke:rgb(0%,0%,0%);stroke-opacity:1;stroke-miterlimit:10;\" d=\"M 462.816406 161.667969 L 428.273438 119.859375 L 419.636719 119.859375 \"/>\n",
       "<path style=\" stroke:none;fill-rule:nonzero;fill:rgb(100%,100%,100%);fill-opacity:1;\" d=\"M 261.074219 69.4375 L 261.074219 52.203125 L 343.441406 52.203125 L 343.441406 69.4375 Z \"/>\n",
       "<path style=\" stroke:none;fill-rule:nonzero;fill:rgb(100%,100%,100%);fill-opacity:1;\" d=\"M 146.542969 124.167969 L 146.542969 106.9375 L 223.210938 106.9375 L 223.210938 124.167969 Z \"/>\n",
       "<path style=\" stroke:none;fill-rule:nonzero;fill:rgb(100%,100%,100%);fill-opacity:1;\" d=\"M 46.914062 178.898438 L 46.914062 161.667969 L 131.40625 161.667969 L 131.40625 178.898438 Z \"/>\n",
       "<path style=\" stroke:none;fill-rule:nonzero;fill:rgb(100%,100%,100%);fill-opacity:1;\" d=\"M 89.121094 233.632812 L 89.121094 216.398438 L 185.15625 216.398438 L 185.15625 233.632812 Z \"/>\n",
       "<path style=\" stroke:none;fill-rule:nonzero;fill:rgb(100%,100%,100%);fill-opacity:1;\" d=\"M 149.105469 288.363281 L 149.105469 271.128906 L 221.121094 271.128906 L 221.121094 288.363281 Z \"/>\n",
       "<path style=\" stroke:none;fill-rule:nonzero;fill:rgb(100%,100%,100%);fill-opacity:1;\" d=\"M 97.671875 343.09375 L 97.671875 325.863281 L 176.691406 325.863281 L 176.691406 343.09375 Z \"/>\n",
       "<path style=\" stroke:none;fill-rule:nonzero;fill:rgb(100%,100%,100%);fill-opacity:1;\" d=\"M 46.164062 397.824219 L 46.164062 380.59375 L 133.203125 380.59375 L 133.203125 397.824219 Z \"/>\n",
       "<path style=\" stroke:none;fill-rule:nonzero;fill:rgb(100%,100%,100%);fill-opacity:1;\" d=\"M 236.242188 178.898438 L 236.242188 161.667969 L 324.945312 161.667969 L 324.945312 178.898438 Z \"/>\n",
       "<path style=\" stroke:none;fill-rule:nonzero;fill:rgb(100%,100%,100%);fill-opacity:1;\" d=\"M 282.46875 233.632812 L 282.46875 216.398438 L 373.71875 216.398438 L 373.71875 233.632812 Z \"/>\n",
       "<path style=\" stroke:none;fill-rule:nonzero;fill:rgb(100%,100%,100%);fill-opacity:1;\" d=\"M 377.785156 124.167969 L 377.785156 106.9375 L 461.484375 106.9375 L 461.484375 124.167969 Z \"/>\n",
       "<g style=\"fill:rgb(0%,0%,0%);fill-opacity:1;\">\n",
       "  <use xlink:href=\"#glyph0-1\" x=\"265.757812\" y=\"63.568359\"/>\n",
       "  <use xlink:href=\"#glyph0-2\" x=\"273.089844\" y=\"63.568359\"/>\n",
       "  <use xlink:href=\"#glyph0-3\" x=\"280.421875\" y=\"63.568359\"/>\n",
       "  <use xlink:href=\"#glyph0-4\" x=\"287.753906\" y=\"63.568359\"/>\n",
       "  <use xlink:href=\"#glyph0-5\" x=\"294.425781\" y=\"63.568359\"/>\n",
       "  <use xlink:href=\"#glyph0-6\" x=\"301.097656\" y=\"63.568359\"/>\n",
       "  <use xlink:href=\"#glyph0-7\" x=\"307.769531\" y=\"63.568359\"/>\n",
       "  <use xlink:href=\"#glyph0-8\" x=\"311.105469\" y=\"63.568359\"/>\n",
       "  <use xlink:href=\"#glyph0-7\" x=\"318.113281\" y=\"63.568359\"/>\n",
       "  <use xlink:href=\"#glyph0-9\" x=\"321.449219\" y=\"63.568359\"/>\n",
       "  <use xlink:href=\"#glyph0-10\" x=\"328.121094\" y=\"63.568359\"/>\n",
       "  <use xlink:href=\"#glyph0-11\" x=\"331.457031\" y=\"63.568359\"/>\n",
       "</g>\n",
       "<g style=\"fill:rgb(0%,0%,0%);fill-opacity:1;\">\n",
       "  <use xlink:href=\"#glyph0-12\" x=\"150.878906\" y=\"119.298828\"/>\n",
       "  <use xlink:href=\"#glyph0-13\" x=\"159.542969\" y=\"119.298828\"/>\n",
       "  <use xlink:href=\"#glyph0-14\" x=\"163.539062\" y=\"119.298828\"/>\n",
       "  <use xlink:href=\"#glyph0-15\" x=\"170.871094\" y=\"119.298828\"/>\n",
       "  <use xlink:href=\"#glyph0-16\" x=\"177.542969\" y=\"119.298828\"/>\n",
       "  <use xlink:href=\"#glyph0-17\" x=\"180.878906\" y=\"119.298828\"/>\n",
       "  <use xlink:href=\"#glyph0-7\" x=\"187.550781\" y=\"119.298828\"/>\n",
       "  <use xlink:href=\"#glyph0-8\" x=\"190.886719\" y=\"119.298828\"/>\n",
       "  <use xlink:href=\"#glyph0-7\" x=\"197.894531\" y=\"119.298828\"/>\n",
       "  <use xlink:href=\"#glyph0-9\" x=\"201.230469\" y=\"119.298828\"/>\n",
       "  <use xlink:href=\"#glyph0-10\" x=\"207.902344\" y=\"119.298828\"/>\n",
       "  <use xlink:href=\"#glyph0-11\" x=\"211.238281\" y=\"119.298828\"/>\n",
       "</g>\n",
       "<g style=\"fill:rgb(0%,0%,0%);fill-opacity:1;\">\n",
       "  <use xlink:href=\"#glyph0-12\" x=\"51.660156\" y=\"174.033203\"/>\n",
       "  <use xlink:href=\"#glyph0-5\" x=\"60.324219\" y=\"174.033203\"/>\n",
       "  <use xlink:href=\"#glyph0-18\" x=\"66.996094\" y=\"174.033203\"/>\n",
       "  <use xlink:href=\"#glyph0-19\" x=\"74.328125\" y=\"174.033203\"/>\n",
       "  <use xlink:href=\"#glyph0-20\" x=\"78.996094\" y=\"174.033203\"/>\n",
       "  <use xlink:href=\"#glyph0-16\" x=\"85.667969\" y=\"174.033203\"/>\n",
       "  <use xlink:href=\"#glyph0-20\" x=\"89.003906\" y=\"174.033203\"/>\n",
       "  <use xlink:href=\"#glyph0-7\" x=\"95.675781\" y=\"174.033203\"/>\n",
       "  <use xlink:href=\"#glyph0-8\" x=\"99.011719\" y=\"174.033203\"/>\n",
       "  <use xlink:href=\"#glyph0-7\" x=\"106.019531\" y=\"174.033203\"/>\n",
       "  <use xlink:href=\"#glyph0-9\" x=\"109.355469\" y=\"174.033203\"/>\n",
       "  <use xlink:href=\"#glyph0-10\" x=\"116.027344\" y=\"174.033203\"/>\n",
       "  <use xlink:href=\"#glyph0-11\" x=\"119.363281\" y=\"174.033203\"/>\n",
       "</g>\n",
       "<g style=\"fill:rgb(0%,0%,0%);fill-opacity:1;\">\n",
       "  <use xlink:href=\"#glyph0-12\" x=\"93.640625\" y=\"227.763672\"/>\n",
       "  <use xlink:href=\"#glyph0-2\" x=\"102.304688\" y=\"227.763672\"/>\n",
       "  <use xlink:href=\"#glyph0-19\" x=\"109.636719\" y=\"227.763672\"/>\n",
       "  <use xlink:href=\"#glyph0-6\" x=\"114.304688\" y=\"227.763672\"/>\n",
       "  <use xlink:href=\"#glyph0-21\" x=\"120.976562\" y=\"227.763672\"/>\n",
       "  <use xlink:href=\"#glyph0-16\" x=\"128.308594\" y=\"227.763672\"/>\n",
       "  <use xlink:href=\"#glyph0-17\" x=\"131.644531\" y=\"227.763672\"/>\n",
       "  <use xlink:href=\"#glyph0-13\" x=\"138.316406\" y=\"227.763672\"/>\n",
       "  <use xlink:href=\"#glyph0-7\" x=\"142.3125\" y=\"227.763672\"/>\n",
       "  <use xlink:href=\"#glyph0-22\" x=\"145.648438\" y=\"227.763672\"/>\n",
       "  <use xlink:href=\"#glyph0-23\" x=\"152.65625\" y=\"227.763672\"/>\n",
       "  <use xlink:href=\"#glyph0-7\" x=\"159.664062\" y=\"227.763672\"/>\n",
       "  <use xlink:href=\"#glyph0-9\" x=\"163\" y=\"227.763672\"/>\n",
       "  <use xlink:href=\"#glyph0-10\" x=\"169.671875\" y=\"227.763672\"/>\n",
       "  <use xlink:href=\"#glyph0-11\" x=\"173.007812\" y=\"227.763672\"/>\n",
       "</g>\n",
       "<g style=\"fill:rgb(0%,0%,0%);fill-opacity:1;\">\n",
       "  <use xlink:href=\"#glyph0-12\" x=\"153.613281\" y=\"282.494141\"/>\n",
       "  <use xlink:href=\"#glyph0-17\" x=\"162.277344\" y=\"282.494141\"/>\n",
       "  <use xlink:href=\"#glyph0-24\" x=\"168.949219\" y=\"282.494141\"/>\n",
       "  <use xlink:href=\"#glyph0-17\" x=\"175.621094\" y=\"282.494141\"/>\n",
       "  <use xlink:href=\"#glyph0-25\" x=\"182.292969\" y=\"282.494141\"/>\n",
       "  <use xlink:href=\"#glyph0-7\" x=\"185.628906\" y=\"282.494141\"/>\n",
       "  <use xlink:href=\"#glyph0-8\" x=\"188.964844\" y=\"282.494141\"/>\n",
       "  <use xlink:href=\"#glyph0-7\" x=\"195.972656\" y=\"282.494141\"/>\n",
       "  <use xlink:href=\"#glyph0-9\" x=\"199.308594\" y=\"282.494141\"/>\n",
       "  <use xlink:href=\"#glyph0-10\" x=\"205.980469\" y=\"282.494141\"/>\n",
       "  <use xlink:href=\"#glyph0-11\" x=\"209.316406\" y=\"282.494141\"/>\n",
       "</g>\n",
       "<g style=\"fill:rgb(0%,0%,0%);fill-opacity:1;\">\n",
       "  <use xlink:href=\"#glyph0-12\" x=\"102.183594\" y=\"338.224609\"/>\n",
       "  <use xlink:href=\"#glyph0-21\" x=\"110.847656\" y=\"338.224609\"/>\n",
       "  <use xlink:href=\"#glyph0-18\" x=\"118.179688\" y=\"338.224609\"/>\n",
       "  <use xlink:href=\"#glyph0-19\" x=\"125.511719\" y=\"338.224609\"/>\n",
       "  <use xlink:href=\"#glyph0-4\" x=\"130.179688\" y=\"338.224609\"/>\n",
       "  <use xlink:href=\"#glyph0-13\" x=\"136.851562\" y=\"338.224609\"/>\n",
       "  <use xlink:href=\"#glyph0-7\" x=\"140.847656\" y=\"338.224609\"/>\n",
       "  <use xlink:href=\"#glyph0-8\" x=\"144.183594\" y=\"338.224609\"/>\n",
       "  <use xlink:href=\"#glyph0-7\" x=\"151.191406\" y=\"338.224609\"/>\n",
       "  <use xlink:href=\"#glyph0-9\" x=\"154.527344\" y=\"338.224609\"/>\n",
       "  <use xlink:href=\"#glyph0-10\" x=\"161.199219\" y=\"338.224609\"/>\n",
       "  <use xlink:href=\"#glyph0-11\" x=\"164.535156\" y=\"338.224609\"/>\n",
       "</g>\n",
       "<g style=\"fill:rgb(0%,0%,0%);fill-opacity:1;\">\n",
       "  <use xlink:href=\"#glyph0-12\" x=\"50.683594\" y=\"392.958984\"/>\n",
       "  <use xlink:href=\"#glyph0-6\" x=\"59.347656\" y=\"392.958984\"/>\n",
       "  <use xlink:href=\"#glyph0-26\" x=\"66.019531\" y=\"392.958984\"/>\n",
       "  <use xlink:href=\"#glyph0-26\" x=\"70.015625\" y=\"392.958984\"/>\n",
       "  <use xlink:href=\"#glyph0-16\" x=\"74.011719\" y=\"392.958984\"/>\n",
       "  <use xlink:href=\"#glyph0-17\" x=\"77.347656\" y=\"392.958984\"/>\n",
       "  <use xlink:href=\"#glyph0-4\" x=\"84.019531\" y=\"392.958984\"/>\n",
       "  <use xlink:href=\"#glyph0-17\" x=\"90.691406\" y=\"392.958984\"/>\n",
       "  <use xlink:href=\"#glyph0-7\" x=\"97.363281\" y=\"392.958984\"/>\n",
       "  <use xlink:href=\"#glyph0-8\" x=\"100.699219\" y=\"392.958984\"/>\n",
       "  <use xlink:href=\"#glyph0-7\" x=\"107.707031\" y=\"392.958984\"/>\n",
       "  <use xlink:href=\"#glyph0-9\" x=\"111.042969\" y=\"392.958984\"/>\n",
       "  <use xlink:href=\"#glyph0-10\" x=\"117.714844\" y=\"392.958984\"/>\n",
       "  <use xlink:href=\"#glyph0-11\" x=\"121.050781\" y=\"392.958984\"/>\n",
       "</g>\n",
       "<g style=\"fill:rgb(0%,0%,0%);fill-opacity:1;\">\n",
       "  <use xlink:href=\"#glyph0-12\" x=\"241.09375\" y=\"174.033203\"/>\n",
       "  <use xlink:href=\"#glyph0-19\" x=\"249.757812\" y=\"174.033203\"/>\n",
       "  <use xlink:href=\"#glyph0-6\" x=\"254.425781\" y=\"174.033203\"/>\n",
       "  <use xlink:href=\"#glyph0-21\" x=\"261.097656\" y=\"174.033203\"/>\n",
       "  <use xlink:href=\"#glyph0-18\" x=\"268.429688\" y=\"174.033203\"/>\n",
       "  <use xlink:href=\"#glyph0-17\" x=\"275.761719\" y=\"174.033203\"/>\n",
       "  <use xlink:href=\"#glyph0-7\" x=\"282.433594\" y=\"174.033203\"/>\n",
       "  <use xlink:href=\"#glyph0-22\" x=\"285.769531\" y=\"174.033203\"/>\n",
       "  <use xlink:href=\"#glyph0-23\" x=\"292.777344\" y=\"174.033203\"/>\n",
       "  <use xlink:href=\"#glyph0-7\" x=\"299.785156\" y=\"174.033203\"/>\n",
       "  <use xlink:href=\"#glyph0-9\" x=\"303.121094\" y=\"174.033203\"/>\n",
       "  <use xlink:href=\"#glyph0-10\" x=\"309.792969\" y=\"174.033203\"/>\n",
       "  <use xlink:href=\"#glyph0-11\" x=\"313.128906\" y=\"174.033203\"/>\n",
       "</g>\n",
       "<g style=\"fill:rgb(0%,0%,0%);fill-opacity:1;\">\n",
       "  <use xlink:href=\"#glyph0-12\" x=\"287.09375\" y=\"227.763672\"/>\n",
       "  <use xlink:href=\"#glyph0-17\" x=\"295.757812\" y=\"227.763672\"/>\n",
       "  <use xlink:href=\"#glyph0-3\" x=\"302.429688\" y=\"227.763672\"/>\n",
       "  <use xlink:href=\"#glyph0-4\" x=\"309.761719\" y=\"227.763672\"/>\n",
       "  <use xlink:href=\"#glyph0-27\" x=\"316.433594\" y=\"227.763672\"/>\n",
       "  <use xlink:href=\"#glyph0-28\" x=\"323.765625\" y=\"227.763672\"/>\n",
       "  <use xlink:href=\"#glyph0-7\" x=\"331.097656\" y=\"227.763672\"/>\n",
       "  <use xlink:href=\"#glyph0-22\" x=\"334.433594\" y=\"227.763672\"/>\n",
       "  <use xlink:href=\"#glyph0-23\" x=\"341.441406\" y=\"227.763672\"/>\n",
       "  <use xlink:href=\"#glyph0-7\" x=\"348.449219\" y=\"227.763672\"/>\n",
       "  <use xlink:href=\"#glyph0-9\" x=\"351.785156\" y=\"227.763672\"/>\n",
       "  <use xlink:href=\"#glyph0-10\" x=\"358.457031\" y=\"227.763672\"/>\n",
       "  <use xlink:href=\"#glyph0-11\" x=\"361.792969\" y=\"227.763672\"/>\n",
       "</g>\n",
       "<g style=\"fill:rgb(0%,0%,0%);fill-opacity:1;\">\n",
       "  <use xlink:href=\"#glyph0-1\" x=\"382.636719\" y=\"119.298828\"/>\n",
       "  <use xlink:href=\"#glyph0-29\" x=\"389.96875\" y=\"119.298828\"/>\n",
       "  <use xlink:href=\"#glyph0-19\" x=\"397.300781\" y=\"119.298828\"/>\n",
       "  <use xlink:href=\"#glyph0-6\" x=\"401.96875\" y=\"119.298828\"/>\n",
       "  <use xlink:href=\"#glyph0-4\" x=\"408.640625\" y=\"119.298828\"/>\n",
       "  <use xlink:href=\"#glyph0-5\" x=\"415.3125\" y=\"119.298828\"/>\n",
       "  <use xlink:href=\"#glyph0-13\" x=\"421.984375\" y=\"119.298828\"/>\n",
       "  <use xlink:href=\"#glyph0-7\" x=\"425.980469\" y=\"119.298828\"/>\n",
       "  <use xlink:href=\"#glyph0-8\" x=\"429.316406\" y=\"119.298828\"/>\n",
       "  <use xlink:href=\"#glyph0-7\" x=\"436.324219\" y=\"119.298828\"/>\n",
       "  <use xlink:href=\"#glyph0-9\" x=\"439.660156\" y=\"119.298828\"/>\n",
       "  <use xlink:href=\"#glyph0-10\" x=\"446.332031\" y=\"119.298828\"/>\n",
       "  <use xlink:href=\"#glyph0-11\" x=\"449.667969\" y=\"119.298828\"/>\n",
       "</g>\n",
       "<path style=\"fill-rule:nonzero;fill:rgb(100%,100%,100%);fill-opacity:1;stroke-width:0.75;stroke-linecap:round;stroke-linejoin:round;stroke:rgb(0%,0%,0%);stroke-opacity:1;stroke-miterlimit:10;\" d=\"M 32.847656 223.976562 L 33.132812 222.015625 L 33.964844 220.1875 L 35.289062 218.617188 L 37.015625 217.414062 L 39.027344 216.65625 L 41.183594 216.398438 L 43.339844 216.65625 L 45.351562 217.414062 L 47.078125 218.617188 L 48.402344 220.1875 L 49.234375 222.015625 L 49.515625 223.976562 L 49.515625 226.054688 L 49.234375 228.015625 L 48.402344 229.84375 L 47.078125 231.410156 L 45.351562 232.617188 L 43.339844 233.371094 L 41.183594 233.632812 L 39.027344 233.371094 L 37.015625 232.617188 L 35.289062 231.410156 L 33.964844 229.84375 L 33.132812 228.015625 L 32.847656 226.054688 Z \"/>\n",
       "<path style=\"fill-rule:nonzero;fill:rgb(100%,100%,100%);fill-opacity:1;stroke-width:0.75;stroke-linecap:round;stroke-linejoin:round;stroke:rgb(0%,0%,0%);stroke-opacity:1;stroke-miterlimit:10;\" d=\"M 80.832031 278.707031 L 81.117188 276.746094 L 81.949219 274.917969 L 83.273438 273.351562 L 85 272.144531 L 87.007812 271.390625 L 89.164062 271.128906 L 91.324219 271.390625 L 93.332031 272.144531 L 95.058594 273.351562 L 96.382812 274.917969 L 97.214844 276.746094 L 97.5 278.707031 L 97.5 280.785156 L 97.214844 282.746094 L 96.382812 284.574219 L 95.058594 286.144531 L 93.332031 287.347656 L 91.324219 288.105469 L 89.164062 288.363281 L 87.007812 288.105469 L 85 287.347656 L 83.273438 286.144531 L 81.949219 284.574219 L 81.117188 282.746094 L 80.832031 280.785156 Z \"/>\n",
       "<path style=\"fill-rule:nonzero;fill:rgb(100%,100%,100%);fill-opacity:1;stroke-width:0.75;stroke-linecap:round;stroke-linejoin:round;stroke:rgb(0%,0%,0%);stroke-opacity:1;stroke-miterlimit:10;\" d=\"M 38.167969 442.902344 L 38.453125 440.941406 L 39.285156 439.113281 L 40.609375 437.542969 L 42.335938 436.339844 L 44.347656 435.582031 L 46.503906 435.324219 L 48.660156 435.582031 L 50.671875 436.339844 L 52.394531 437.542969 L 53.722656 439.113281 L 54.554688 440.941406 L 54.835938 442.902344 L 54.835938 444.980469 L 54.554688 446.941406 L 53.722656 448.769531 L 52.394531 450.335938 L 50.671875 451.542969 L 48.660156 452.296875 L 46.503906 452.558594 L 44.347656 452.296875 L 42.335938 451.542969 L 40.609375 450.335938 L 39.285156 448.769531 L 38.453125 446.941406 L 38.167969 444.980469 Z \"/>\n",
       "<path style=\"fill-rule:nonzero;fill:rgb(100%,100%,100%);fill-opacity:1;stroke-width:0.75;stroke-linecap:round;stroke-linejoin:round;stroke:rgb(0%,0%,0%);stroke-opacity:1;stroke-miterlimit:10;\" d=\"M 124.53125 442.902344 L 124.816406 440.941406 L 125.648438 439.113281 L 126.972656 437.542969 L 128.699219 436.339844 L 130.707031 435.582031 L 132.863281 435.324219 L 135.023438 435.582031 L 137.03125 436.339844 L 138.757812 437.542969 L 140.082031 439.113281 L 140.914062 440.941406 L 141.199219 442.902344 L 141.199219 444.980469 L 140.914062 446.941406 L 140.082031 448.769531 L 138.757812 450.335938 L 137.03125 451.542969 L 135.023438 452.296875 L 132.863281 452.558594 L 130.707031 452.296875 L 128.699219 451.542969 L 126.972656 450.335938 L 125.648438 448.769531 L 124.816406 446.941406 L 124.53125 444.980469 Z \"/>\n",
       "<path style=\"fill-rule:nonzero;fill:rgb(100%,100%,100%);fill-opacity:1;stroke-width:0.75;stroke-linecap:round;stroke-linejoin:round;stroke:rgb(0%,0%,0%);stroke-opacity:1;stroke-miterlimit:10;\" d=\"M 176.347656 388.167969 L 176.632812 386.207031 L 177.464844 384.382812 L 178.789062 382.8125 L 180.515625 381.609375 L 182.523438 380.851562 L 184.679688 380.59375 L 186.839844 380.851562 L 188.847656 381.609375 L 190.574219 382.8125 L 191.898438 384.382812 L 192.730469 386.207031 L 193.015625 388.167969 L 193.015625 390.25 L 192.730469 392.210938 L 191.898438 394.039062 L 190.574219 395.605469 L 188.847656 396.808594 L 186.839844 397.566406 L 184.679688 397.824219 L 182.523438 397.566406 L 180.515625 396.808594 L 178.789062 395.605469 L 177.464844 394.039062 L 176.632812 392.210938 L 176.347656 390.25 Z \"/>\n",
       "<path style=\"fill-rule:nonzero;fill:rgb(100%,100%,100%);fill-opacity:1;stroke-width:0.75;stroke-linecap:round;stroke-linejoin:round;stroke:rgb(0%,0%,0%);stroke-opacity:1;stroke-miterlimit:10;\" d=\"M 224.710938 333.4375 L 224.992188 331.476562 L 225.828125 329.648438 L 227.152344 328.082031 L 228.875 326.878906 L 230.886719 326.121094 L 233.042969 325.863281 L 235.199219 326.121094 L 237.210938 326.878906 L 238.9375 328.082031 L 240.261719 329.648438 L 241.09375 331.476562 L 241.378906 333.4375 L 241.378906 335.519531 L 241.09375 337.480469 L 240.261719 339.304688 L 238.9375 340.875 L 237.210938 342.078125 L 235.199219 342.835938 L 233.042969 343.09375 L 230.886719 342.835938 L 228.875 342.078125 L 227.152344 340.875 L 225.828125 339.304688 L 224.992188 337.480469 L 224.710938 335.519531 Z \"/>\n",
       "<path style=\"fill-rule:nonzero;fill:rgb(100%,100%,100%);fill-opacity:1;stroke-width:0.75;stroke-linecap:round;stroke-linejoin:round;stroke:rgb(0%,0%,0%);stroke-opacity:1;stroke-miterlimit:10;\" d=\"M 224.761719 223.976562 L 225.046875 222.015625 L 225.878906 220.1875 L 227.203125 218.617188 L 228.929688 217.414062 L 230.9375 216.65625 L 233.09375 216.398438 L 235.253906 216.65625 L 237.261719 217.414062 L 238.988281 218.617188 L 240.3125 220.1875 L 241.144531 222.015625 L 241.429688 223.976562 L 241.429688 226.054688 L 241.144531 228.015625 L 240.3125 229.84375 L 238.988281 231.410156 L 237.261719 232.617188 L 235.253906 233.371094 L 233.09375 233.632812 L 230.9375 233.371094 L 228.929688 232.617188 L 227.203125 231.410156 L 225.878906 229.84375 L 225.046875 228.015625 L 224.761719 226.054688 Z \"/>\n",
       "<path style=\"fill-rule:nonzero;fill:rgb(100%,100%,100%);fill-opacity:1;stroke-width:0.75;stroke-linecap:round;stroke-linejoin:round;stroke:rgb(0%,0%,0%);stroke-opacity:1;stroke-miterlimit:10;\" d=\"M 276.578125 278.707031 L 276.863281 276.746094 L 277.695312 274.917969 L 279.019531 273.351562 L 280.746094 272.144531 L 282.753906 271.390625 L 284.914062 271.128906 L 287.070312 271.390625 L 289.078125 272.144531 L 290.804688 273.351562 L 292.128906 274.917969 L 292.960938 276.746094 L 293.246094 278.707031 L 293.246094 280.785156 L 292.960938 282.746094 L 292.128906 284.574219 L 290.804688 286.144531 L 289.078125 287.347656 L 287.070312 288.105469 L 284.914062 288.363281 L 282.753906 288.105469 L 280.746094 287.347656 L 279.019531 286.144531 L 277.695312 284.574219 L 276.863281 282.746094 L 276.578125 280.785156 Z \"/>\n",
       "<path style=\"fill-rule:nonzero;fill:rgb(100%,100%,100%);fill-opacity:1;stroke-width:0.75;stroke-linecap:round;stroke-linejoin:round;stroke:rgb(0%,0%,0%);stroke-opacity:1;stroke-miterlimit:10;\" d=\"M 362.941406 278.707031 L 363.222656 276.746094 L 364.054688 274.917969 L 365.378906 273.351562 L 367.105469 272.144531 L 369.117188 271.390625 L 371.273438 271.128906 L 373.429688 271.390625 L 375.441406 272.144531 L 377.167969 273.351562 L 378.492188 274.917969 L 379.324219 276.746094 L 379.609375 278.707031 L 379.609375 280.785156 L 379.324219 282.746094 L 378.492188 284.574219 L 377.167969 286.144531 L 375.441406 287.347656 L 373.429688 288.105469 L 371.273438 288.363281 L 369.117188 288.105469 L 367.105469 287.347656 L 365.378906 286.144531 L 364.054688 284.574219 L 363.222656 282.746094 L 362.941406 280.785156 Z \"/>\n",
       "<path style=\"fill-rule:nonzero;fill:rgb(100%,100%,100%);fill-opacity:1;stroke-width:0.75;stroke-linecap:round;stroke-linejoin:round;stroke:rgb(0%,0%,0%);stroke-opacity:1;stroke-miterlimit:10;\" d=\"M 368.121094 169.242188 L 368.40625 167.28125 L 369.238281 165.457031 L 370.5625 163.886719 L 372.289062 162.683594 L 374.296875 161.925781 L 376.457031 161.667969 L 378.613281 161.925781 L 380.621094 162.683594 L 382.347656 163.886719 L 383.671875 165.457031 L 384.503906 167.28125 L 384.789062 169.242188 L 384.789062 171.324219 L 384.503906 173.285156 L 383.671875 175.113281 L 382.347656 176.679688 L 380.621094 177.882812 L 378.613281 178.640625 L 376.457031 178.898438 L 374.296875 178.640625 L 372.289062 177.882812 L 370.5625 176.679688 L 369.238281 175.113281 L 368.40625 173.285156 L 368.121094 171.324219 Z \"/>\n",
       "<path style=\"fill-rule:nonzero;fill:rgb(100%,100%,100%);fill-opacity:1;stroke-width:0.75;stroke-linecap:round;stroke-linejoin:round;stroke:rgb(0%,0%,0%);stroke-opacity:1;stroke-miterlimit:10;\" d=\"M 454.484375 169.242188 L 454.765625 167.28125 L 455.597656 165.457031 L 456.921875 163.886719 L 458.648438 162.683594 L 460.660156 161.925781 L 462.816406 161.667969 L 464.972656 161.925781 L 466.984375 162.683594 L 468.710938 163.886719 L 470.035156 165.457031 L 470.867188 167.28125 L 471.152344 169.242188 L 471.152344 171.324219 L 470.867188 173.285156 L 470.035156 175.113281 L 468.710938 176.679688 L 466.984375 177.882812 L 464.972656 178.640625 L 462.816406 178.898438 L 460.660156 178.640625 L 458.648438 177.882812 L 456.921875 176.679688 L 455.597656 175.113281 L 454.765625 173.285156 L 454.484375 171.324219 Z \"/>\n",
       "<g style=\"fill:rgb(0%,0%,0%);fill-opacity:1;\">\n",
       "  <use xlink:href=\"#glyph1-1\" x=\"37.683594\" y=\"228.451172\"/>\n",
       "</g>\n",
       "<g style=\"fill:rgb(0%,0%,0%);fill-opacity:1;\">\n",
       "  <use xlink:href=\"#glyph1-1\" x=\"85.664062\" y=\"283.181641\"/>\n",
       "</g>\n",
       "<g style=\"fill:rgb(0%,0%,0%);fill-opacity:1;\">\n",
       "  <use xlink:href=\"#glyph1-1\" x=\"43.003906\" y=\"447.376953\"/>\n",
       "</g>\n",
       "<g style=\"fill:rgb(0%,0%,0%);fill-opacity:1;\">\n",
       "  <use xlink:href=\"#glyph1-2\" x=\"129.363281\" y=\"447.876953\"/>\n",
       "</g>\n",
       "<g style=\"fill:rgb(0%,0%,0%);fill-opacity:1;\">\n",
       "  <use xlink:href=\"#glyph1-2\" x=\"181.179688\" y=\"393.146484\"/>\n",
       "</g>\n",
       "<g style=\"fill:rgb(0%,0%,0%);fill-opacity:1;\">\n",
       "  <use xlink:href=\"#glyph1-2\" x=\"229.542969\" y=\"338.412109\"/>\n",
       "</g>\n",
       "<g style=\"fill:rgb(0%,0%,0%);fill-opacity:1;\">\n",
       "  <use xlink:href=\"#glyph1-1\" x=\"229.59375\" y=\"228.451172\"/>\n",
       "</g>\n",
       "<g style=\"fill:rgb(0%,0%,0%);fill-opacity:1;\">\n",
       "  <use xlink:href=\"#glyph1-1\" x=\"281.414062\" y=\"283.181641\"/>\n",
       "</g>\n",
       "<g style=\"fill:rgb(0%,0%,0%);fill-opacity:1;\">\n",
       "  <use xlink:href=\"#glyph1-2\" x=\"367.773438\" y=\"283.681641\"/>\n",
       "</g>\n",
       "<g style=\"fill:rgb(0%,0%,0%);fill-opacity:1;\">\n",
       "  <use xlink:href=\"#glyph1-1\" x=\"372.957031\" y=\"173.720703\"/>\n",
       "</g>\n",
       "<g style=\"fill:rgb(0%,0%,0%);fill-opacity:1;\">\n",
       "  <use xlink:href=\"#glyph1-2\" x=\"459.316406\" y=\"174.220703\"/>\n",
       "</g>\n",
       "<path style=\"fill-rule:nonzero;fill:rgb(100%,100%,100%);fill-opacity:1;stroke-width:0.75;stroke-linecap:round;stroke-linejoin:round;stroke:rgb(0%,0%,0%);stroke-opacity:1;stroke-miterlimit:10;\" d=\"M 233.425781 60.28125 L 233.480469 59.863281 L 233.640625 59.472656 L 233.898438 59.140625 L 234.234375 58.882812 L 234.621094 58.722656 L 235.039062 58.667969 L 254.847656 58.667969 L 255.265625 58.722656 L 255.65625 58.882812 L 255.992188 59.140625 L 256.25 59.472656 L 256.410156 59.863281 L 256.464844 60.28125 L 256.464844 69.976562 L 256.410156 70.394531 L 256.25 70.78125 L 255.992188 71.117188 L 255.65625 71.375 L 255.265625 71.535156 L 254.847656 71.589844 L 235.039062 71.589844 L 234.621094 71.535156 L 234.234375 71.375 L 233.898438 71.117188 L 233.640625 70.78125 L 233.480469 70.394531 L 233.425781 69.976562 Z \"/>\n",
       "<path style=\"fill-rule:nonzero;fill:rgb(100%,100%,100%);fill-opacity:1;stroke-width:0.75;stroke-linecap:round;stroke-linejoin:round;stroke:rgb(0%,0%,0%);stroke-opacity:1;stroke-miterlimit:10;\" d=\"M 348.050781 60.28125 L 348.105469 59.863281 L 348.265625 59.472656 L 348.523438 59.140625 L 348.855469 58.882812 L 349.246094 58.722656 L 349.664062 58.667969 L 369.472656 58.667969 L 369.890625 58.722656 L 370.28125 58.882812 L 370.617188 59.140625 L 370.871094 59.472656 L 371.035156 59.863281 L 371.089844 60.28125 L 371.089844 69.976562 L 371.035156 70.394531 L 370.871094 70.78125 L 370.617188 71.117188 L 370.28125 71.375 L 369.890625 71.535156 L 369.472656 71.589844 L 349.664062 71.589844 L 349.246094 71.535156 L 348.855469 71.375 L 348.523438 71.117188 L 348.265625 70.78125 L 348.105469 70.394531 L 348.050781 69.976562 Z \"/>\n",
       "<g style=\"fill:rgb(0%,0%,0%);fill-opacity:1;\">\n",
       "  <use xlink:href=\"#glyph2-1\" x=\"237.445312\" y=\"67.104492\"/>\n",
       "  <use xlink:href=\"#glyph2-2\" x=\"242.242188\" y=\"67.104492\"/>\n",
       "  <use xlink:href=\"#glyph2-3\" x=\"247.576172\" y=\"67.104492\"/>\n",
       "</g>\n",
       "<g style=\"fill:rgb(0%,0%,0%);fill-opacity:1;\">\n",
       "  <use xlink:href=\"#glyph2-4\" x=\"354.070312\" y=\"67.026367\"/>\n",
       "  <use xlink:href=\"#glyph2-5\" x=\"359.404297\" y=\"67.026367\"/>\n",
       "</g>\n",
       "</g>\n",
       "</svg>\n"
      ],
      "text/plain": [
       "plot without title"
      ]
     },
     "metadata": {
      "image/svg+xml": {
       "isolated": true
      }
     },
     "output_type": "display_data"
    }
   ],
   "source": [
    "prp(trialCART)"
   ]
  },
  {
   "cell_type": "code",
   "execution_count": 41,
   "metadata": {
    "collapsed": true
   },
   "outputs": [],
   "source": []
  },
  {
   "cell_type": "code",
   "execution_count": 44,
   "metadata": {
    "collapsed": false
   },
   "outputs": [],
   "source": [
    "CARTTrainPred = predict(trialCART, newdata = train)"
   ]
  },
  {
   "cell_type": "code",
   "execution_count": 49,
   "metadata": {
    "collapsed": false
   },
   "outputs": [
    {
     "data": {
      "text/html": [
       "0.871886120996441"
      ],
      "text/latex": [
       "0.871886120996441"
      ],
      "text/markdown": [
       "0.871886120996441"
      ],
      "text/plain": [
       "[1] 0.8718861"
      ]
     },
     "execution_count": 49,
     "metadata": {},
     "output_type": "execute_result"
    }
   ],
   "source": [
    "max(CARTTrainPred[,2])"
   ]
  },
  {
   "cell_type": "code",
   "execution_count": 50,
   "metadata": {
    "collapsed": true
   },
   "outputs": [],
   "source": [
    "CARTTestPred = predict(trialCART, newdata = test)"
   ]
  },
  {
   "cell_type": "code",
   "execution_count": 51,
   "metadata": {
    "collapsed": false
   },
   "outputs": [
    {
     "data": {
      "text/html": [
       "0.871886120996441"
      ],
      "text/latex": [
       "0.871886120996441"
      ],
      "text/markdown": [
       "0.871886120996441"
      ],
      "text/plain": [
       "[1] 0.8718861"
      ]
     },
     "execution_count": 51,
     "metadata": {},
     "output_type": "execute_result"
    }
   ],
   "source": [
    "max(CARTTestPred[,2])"
   ]
  },
  {
   "cell_type": "code",
   "execution_count": 52,
   "metadata": {
    "collapsed": true
   },
   "outputs": [],
   "source": [
    "CARTTrainPred = predict(trialCART, newdata = train, type = \"class\")"
   ]
  },
  {
   "cell_type": "code",
   "execution_count": 53,
   "metadata": {
    "collapsed": false
   },
   "outputs": [
    {
     "data": {
      "text/html": [
       "<dl class=dl-horizontal>\n",
       "\t<dt>0</dt>\n",
       "\t\t<dd>762</dd>\n",
       "\t<dt>1</dt>\n",
       "\t\t<dd>540</dd>\n",
       "</dl>\n"
      ],
      "text/latex": [
       "\\begin{description*}\n",
       "\\item[0] 762\n",
       "\\item[1] 540\n",
       "\\end{description*}\n"
      ],
      "text/markdown": [
       "0\n",
       ":   7621\n",
       ":   540\n",
       "\n"
      ],
      "text/plain": [
       "  0   1 \n",
       "762 540 "
      ]
     },
     "execution_count": 53,
     "metadata": {},
     "output_type": "execute_result"
    }
   ],
   "source": [
    "summary(CARTTrainPred)"
   ]
  },
  {
   "cell_type": "code",
   "execution_count": 54,
   "metadata": {
    "collapsed": false
   },
   "outputs": [
    {
     "data": {
      "text/plain": [
       "   CARTTrainPred\n",
       "      0   1\n",
       "  0 631  99\n",
       "  1 131 441"
      ]
     },
     "execution_count": 54,
     "metadata": {},
     "output_type": "execute_result"
    }
   ],
   "source": [
    "t= table(train$trial, CARTTrainPred)\n",
    "t\n"
   ]
  },
  {
   "cell_type": "code",
   "execution_count": 55,
   "metadata": {
    "collapsed": false
   },
   "outputs": [
    {
     "data": {
      "text/html": [
       "0.823348694316436"
      ],
      "text/latex": [
       "0.823348694316436"
      ],
      "text/markdown": [
       "0.823348694316436"
      ],
      "text/plain": [
       "[1] 0.8233487"
      ]
     },
     "execution_count": 55,
     "metadata": {},
     "output_type": "execute_result"
    }
   ],
   "source": [
    "sum(diag(t))/sum(t)"
   ]
  },
  {
   "cell_type": "code",
   "execution_count": 56,
   "metadata": {
    "collapsed": false
   },
   "outputs": [
    {
     "data": {
      "text/html": [
       "0.770979020979021"
      ],
      "text/latex": [
       "0.770979020979021"
      ],
      "text/markdown": [
       "0.770979020979021"
      ],
      "text/plain": [
       "[1] 0.770979"
      ]
     },
     "execution_count": 56,
     "metadata": {},
     "output_type": "execute_result"
    }
   ],
   "source": [
    "441/(441+131)"
   ]
  },
  {
   "cell_type": "code",
   "execution_count": 57,
   "metadata": {
    "collapsed": false
   },
   "outputs": [
    {
     "data": {
      "text/html": [
       "0.864383561643836"
      ],
      "text/latex": [
       "0.864383561643836"
      ],
      "text/markdown": [
       "0.864383561643836"
      ],
      "text/plain": [
       "[1] 0.8643836"
      ]
     },
     "execution_count": 57,
     "metadata": {},
     "output_type": "execute_result"
    }
   ],
   "source": [
    "631/(631+99)"
   ]
  },
  {
   "cell_type": "code",
   "execution_count": 58,
   "metadata": {
    "collapsed": true
   },
   "outputs": [],
   "source": [
    "CARTTestPred = predict(trialCART, newdata = test)"
   ]
  },
  {
   "cell_type": "code",
   "execution_count": 61,
   "metadata": {
    "collapsed": false
   },
   "outputs": [
    {
     "data": {
      "text/plain": [
       "   \n",
       "    FALSE TRUE\n",
       "  0   261   52\n",
       "  1    83  162"
      ]
     },
     "execution_count": 61,
     "metadata": {},
     "output_type": "execute_result"
    }
   ],
   "source": [
    "t = table(test$trial, CARTTestPred[,2]>0.5)\n",
    "t"
   ]
  },
  {
   "cell_type": "code",
   "execution_count": 62,
   "metadata": {
    "collapsed": false
   },
   "outputs": [
    {
     "data": {
      "text/html": [
       "0.758064516129032"
      ],
      "text/latex": [
       "0.758064516129032"
      ],
      "text/markdown": [
       "0.758064516129032"
      ],
      "text/plain": [
       "[1] 0.7580645"
      ]
     },
     "execution_count": 62,
     "metadata": {},
     "output_type": "execute_result"
    }
   ],
   "source": [
    "sum(diag(t))/sum(t)"
   ]
  },
  {
   "cell_type": "code",
   "execution_count": 63,
   "metadata": {
    "collapsed": false
   },
   "outputs": [
    {
     "name": "stderr",
     "output_type": "stream",
     "text": [
      "Loading required package: gplots\n",
      "\n",
      "Attaching package: ‘gplots’\n",
      "\n",
      "The following object is masked from ‘package:stats’:\n",
      "\n",
      "    lowess\n",
      "\n"
     ]
    }
   ],
   "source": [
    "library(ROCR)"
   ]
  },
  {
   "cell_type": "code",
   "execution_count": 64,
   "metadata": {
    "collapsed": true
   },
   "outputs": [],
   "source": [
    "CARTTestPredRes = CARTTestPred[,2]"
   ]
  },
  {
   "cell_type": "code",
   "execution_count": 65,
   "metadata": {
    "collapsed": false
   },
   "outputs": [
    {
     "data": {
      "text/html": [
       "0.837106344135098"
      ],
      "text/latex": [
       "0.837106344135098"
      ],
      "text/markdown": [
       "0.837106344135098"
      ],
      "text/plain": [
       "[1] 0.8371063"
      ]
     },
     "execution_count": 65,
     "metadata": {},
     "output_type": "execute_result"
    }
   ],
   "source": [
    "as.numeric(performance(prediction(CARTTestPredRes,test$trial),\"auc\")@y.values)"
   ]
  },
  {
   "cell_type": "code",
   "execution_count": 66,
   "metadata": {
    "collapsed": false
   },
   "outputs": [
    {
     "data": {
      "image/png": "[encoded data removed]",
      "image/svg+xml": [
       "<?xml version=\"1.0\" encoding=\"UTF-8\"?>\n",
       "<svg xmlns=\"http://www.w3.org/2000/svg\" xmlns:xlink=\"http://www.w3.org/1999/xlink\" width=\"504pt\" height=\"504pt\" viewBox=\"0 0 504 504\" version=\"1.1\">\n",
       "<defs>\n",
       "<g>\n",
       "<symbol overflow=\"visible\" id=\"glyph0-0\">\n",
       "<path style=\"stroke:none;\" d=\"\"/>\n",
       "</symbol>\n",
       "<symbol overflow=\"visible\" id=\"glyph0-1\">\n",
       "<path style=\"stroke:none;\" d=\"M 2.203125 -3.984375 L 6.375 -3.984375 L 6.375 -4.96875 L 2.203125 -4.96875 L 2.203125 -7.765625 L 6.953125 -7.765625 L 6.953125 -8.75 L 1.078125 -8.75 L 1.078125 0 L 2.203125 0 Z \"/>\n",
       "</symbol>\n",
       "<symbol overflow=\"visible\" id=\"glyph0-2\">\n",
       "<path style=\"stroke:none;\" d=\"M 6.421875 -0.59375 C 6.3125 -0.5625 6.265625 -0.5625 6.203125 -0.5625 C 5.859375 -0.5625 5.65625 -0.75 5.65625 -1.0625 L 5.65625 -4.75 C 5.65625 -5.875 4.84375 -6.46875 3.296875 -6.46875 C 2.390625 -6.46875 1.625 -6.203125 1.21875 -5.734375 C 0.921875 -5.40625 0.796875 -5.046875 0.78125 -4.421875 L 1.78125 -4.421875 C 1.875 -5.203125 2.328125 -5.546875 3.265625 -5.546875 C 4.15625 -5.546875 4.671875 -5.203125 4.671875 -4.609375 L 4.671875 -4.34375 C 4.671875 -3.921875 4.421875 -3.75 3.625 -3.640625 C 2.203125 -3.46875 1.984375 -3.421875 1.609375 -3.265625 C 0.875 -2.96875 0.5 -2.40625 0.5 -1.578125 C 0.5 -0.4375 1.296875 0.28125 2.5625 0.28125 C 3.359375 0.28125 4 0 4.703125 -0.640625 C 4.78125 -0.015625 5.09375 0.28125 5.734375 0.28125 C 5.9375 0.28125 6.09375 0.25 6.421875 0.171875 Z M 4.671875 -1.984375 C 4.671875 -1.640625 4.578125 -1.4375 4.265625 -1.15625 C 3.859375 -0.796875 3.375 -0.59375 2.78125 -0.59375 C 2 -0.59375 1.546875 -0.96875 1.546875 -1.609375 C 1.546875 -2.265625 1.984375 -2.609375 3.0625 -2.765625 C 4.109375 -2.90625 4.328125 -2.953125 4.671875 -3.109375 Z \"/>\n",
       "</symbol>\n",
       "<symbol overflow=\"visible\" id=\"glyph0-3\">\n",
       "<path style=\"stroke:none;\" d=\"M 1.828125 -8.75 L 0.8125 -8.75 L 0.8125 0 L 1.828125 0 Z \"/>\n",
       "</symbol>\n",
       "<symbol overflow=\"visible\" id=\"glyph0-4\">\n",
       "<path style=\"stroke:none;\" d=\"M 5.25 -4.53125 C 5.25 -5.765625 4.421875 -6.46875 2.96875 -6.46875 C 1.515625 -6.46875 0.5625 -5.71875 0.5625 -4.546875 C 0.5625 -3.5625 1.0625 -3.09375 2.5625 -2.734375 L 3.484375 -2.515625 C 4.1875 -2.34375 4.46875 -2.09375 4.46875 -1.625 C 4.46875 -1.046875 3.875 -0.640625 3 -0.640625 C 2.453125 -0.640625 2 -0.796875 1.75 -1.0625 C 1.59375 -1.25 1.53125 -1.421875 1.46875 -1.875 L 0.40625 -1.875 C 0.453125 -0.421875 1.265625 0.28125 2.921875 0.28125 C 4.5 0.28125 5.515625 -0.5 5.515625 -1.71875 C 5.515625 -2.65625 4.984375 -3.171875 3.734375 -3.46875 L 2.765625 -3.703125 C 1.953125 -3.890625 1.609375 -4.15625 1.609375 -4.59375 C 1.609375 -5.171875 2.125 -5.546875 2.9375 -5.546875 C 3.75 -5.546875 4.171875 -5.203125 4.203125 -4.53125 Z \"/>\n",
       "</symbol>\n",
       "<symbol overflow=\"visible\" id=\"glyph0-5\">\n",
       "<path style=\"stroke:none;\" d=\"M 6.15625 -2.8125 C 6.15625 -3.765625 6.078125 -4.34375 5.90625 -4.8125 C 5.5 -5.84375 4.53125 -6.46875 3.359375 -6.46875 C 1.609375 -6.46875 0.484375 -5.125 0.484375 -3.0625 C 0.484375 -1 1.578125 0.28125 3.34375 0.28125 C 4.78125 0.28125 5.765625 -0.546875 6.03125 -1.90625 L 5.015625 -1.90625 C 4.734375 -1.078125 4.171875 -0.640625 3.375 -0.640625 C 2.734375 -0.640625 2.203125 -0.9375 1.859375 -1.46875 C 1.625 -1.828125 1.53125 -2.1875 1.53125 -2.8125 Z M 1.546875 -3.625 C 1.625 -4.78125 2.34375 -5.546875 3.34375 -5.546875 C 4.328125 -5.546875 5.09375 -4.734375 5.09375 -3.703125 C 5.09375 -3.671875 5.09375 -3.640625 5.078125 -3.625 Z \"/>\n",
       "</symbol>\n",
       "<symbol overflow=\"visible\" id=\"glyph0-6\">\n",
       "<path style=\"stroke:none;\" d=\"\"/>\n",
       "</symbol>\n",
       "<symbol overflow=\"visible\" id=\"glyph0-7\">\n",
       "<path style=\"stroke:none;\" d=\"M 0.640625 2.609375 L 1.65625 2.609375 L 1.65625 -0.65625 C 2.1875 -0.015625 2.765625 0.28125 3.59375 0.28125 C 5.203125 0.28125 6.28125 -1.03125 6.28125 -3.03125 C 6.28125 -5.140625 5.25 -6.46875 3.578125 -6.46875 C 2.71875 -6.46875 2.046875 -6.078125 1.578125 -5.34375 L 1.578125 -6.28125 L 0.640625 -6.28125 Z M 3.40625 -5.53125 C 4.515625 -5.53125 5.234375 -4.5625 5.234375 -3.0625 C 5.234375 -1.625 4.5 -0.65625 3.40625 -0.65625 C 2.359375 -0.65625 1.65625 -1.625 1.65625 -3.09375 C 1.65625 -4.578125 2.359375 -5.53125 3.40625 -5.53125 Z \"/>\n",
       "</symbol>\n",
       "<symbol overflow=\"visible\" id=\"glyph0-8\">\n",
       "<path style=\"stroke:none;\" d=\"M 3.265625 -6.46875 C 1.5 -6.46875 0.4375 -5.203125 0.4375 -3.09375 C 0.4375 -0.984375 1.484375 0.28125 3.28125 0.28125 C 5.046875 0.28125 6.125 -0.984375 6.125 -3.046875 C 6.125 -5.21875 5.078125 -6.46875 3.265625 -6.46875 Z M 3.28125 -5.546875 C 4.40625 -5.546875 5.078125 -4.625 5.078125 -3.0625 C 5.078125 -1.578125 4.375 -0.640625 3.28125 -0.640625 C 2.15625 -0.640625 1.46875 -1.578125 1.46875 -3.09375 C 1.46875 -4.609375 2.15625 -5.546875 3.28125 -5.546875 Z \"/>\n",
       "</symbol>\n",
       "<symbol overflow=\"visible\" id=\"glyph0-9\">\n",
       "<path style=\"stroke:none;\" d=\"M 1.796875 -6.28125 L 0.796875 -6.28125 L 0.796875 0 L 1.796875 0 Z M 1.796875 -8.75 L 0.796875 -8.75 L 0.796875 -7.484375 L 1.796875 -7.484375 Z \"/>\n",
       "</symbol>\n",
       "<symbol overflow=\"visible\" id=\"glyph0-10\">\n",
       "<path style=\"stroke:none;\" d=\"M 3.046875 -6.28125 L 2.015625 -6.28125 L 2.015625 -8.015625 L 1.015625 -8.015625 L 1.015625 -6.28125 L 0.171875 -6.28125 L 0.171875 -5.46875 L 1.015625 -5.46875 L 1.015625 -0.71875 C 1.015625 -0.078125 1.453125 0.28125 2.234375 0.28125 C 2.46875 0.28125 2.71875 0.25 3.046875 0.1875 L 3.046875 -0.640625 C 2.921875 -0.609375 2.765625 -0.59375 2.5625 -0.59375 C 2.140625 -0.59375 2.015625 -0.71875 2.015625 -1.15625 L 2.015625 -5.46875 L 3.046875 -5.46875 Z \"/>\n",
       "</symbol>\n",
       "<symbol overflow=\"visible\" id=\"glyph0-11\">\n",
       "<path style=\"stroke:none;\" d=\"M 3.421875 0 L 5.828125 -6.28125 L 4.703125 -6.28125 L 2.921875 -1.1875 L 1.25 -6.28125 L 0.125 -6.28125 L 2.328125 0 Z \"/>\n",
       "</symbol>\n",
       "<symbol overflow=\"visible\" id=\"glyph0-12\">\n",
       "<path style=\"stroke:none;\" d=\"M 0.828125 -6.28125 L 0.828125 0 L 1.84375 0 L 1.84375 -3.265625 C 1.84375 -4.15625 2.0625 -4.75 2.546875 -5.09375 C 2.859375 -5.328125 3.15625 -5.40625 3.859375 -5.40625 L 3.859375 -6.4375 C 3.6875 -6.453125 3.59375 -6.46875 3.46875 -6.46875 C 2.8125 -6.46875 2.328125 -6.078125 1.75 -5.140625 L 1.75 -6.28125 Z \"/>\n",
       "</symbol>\n",
       "<symbol overflow=\"visible\" id=\"glyph0-13\">\n",
       "<path style=\"stroke:none;\" d=\"M 3.296875 -8.515625 C 2.515625 -8.515625 1.78125 -8.15625 1.34375 -7.578125 C 0.796875 -6.828125 0.515625 -5.6875 0.515625 -4.109375 C 0.515625 -1.25 1.46875 0.28125 3.296875 0.28125 C 5.09375 0.28125 6.078125 -1.25 6.078125 -4.046875 C 6.078125 -5.703125 5.8125 -6.796875 5.25 -7.578125 C 4.8125 -8.171875 4.109375 -8.515625 3.296875 -8.515625 Z M 3.296875 -7.578125 C 4.4375 -7.578125 5 -6.421875 5 -4.140625 C 5 -1.734375 4.453125 -0.59375 3.28125 -0.59375 C 2.15625 -0.59375 1.59375 -1.78125 1.59375 -4.109375 C 1.59375 -6.4375 2.15625 -7.578125 3.296875 -7.578125 Z \"/>\n",
       "</symbol>\n",
       "<symbol overflow=\"visible\" id=\"glyph0-14\">\n",
       "<path style=\"stroke:none;\" d=\"M 2.296875 -1.25 L 1.046875 -1.25 L 1.046875 0 L 2.296875 0 Z \"/>\n",
       "</symbol>\n",
       "<symbol overflow=\"visible\" id=\"glyph0-15\">\n",
       "<path style=\"stroke:none;\" d=\"M 6.078125 -1.046875 L 1.59375 -1.046875 C 1.703125 -1.734375 2.09375 -2.1875 3.125 -2.796875 L 4.328125 -3.4375 C 5.515625 -4.09375 6.125 -4.96875 6.125 -6.015625 C 6.125 -6.71875 5.84375 -7.375 5.34375 -7.84375 C 4.84375 -8.296875 4.21875 -8.515625 3.40625 -8.515625 C 2.328125 -8.515625 1.53125 -8.125 1.0625 -7.40625 C 0.75 -6.953125 0.625 -6.421875 0.59375 -5.5625 L 1.65625 -5.5625 C 1.6875 -6.125 1.765625 -6.484375 1.90625 -6.75 C 2.1875 -7.265625 2.734375 -7.578125 3.375 -7.578125 C 4.328125 -7.578125 5.046875 -6.90625 5.046875 -5.984375 C 5.046875 -5.3125 4.65625 -4.734375 3.90625 -4.3125 L 2.796875 -3.6875 C 1.015625 -2.671875 0.5 -1.875 0.40625 0 L 6.078125 0 Z \"/>\n",
       "</symbol>\n",
       "<symbol overflow=\"visible\" id=\"glyph0-16\">\n",
       "<path style=\"stroke:none;\" d=\"M 3.921875 -2.046875 L 3.921875 0 L 4.984375 0 L 4.984375 -2.046875 L 6.234375 -2.046875 L 6.234375 -2.984375 L 4.984375 -2.984375 L 4.984375 -8.515625 L 4.203125 -8.515625 L 0.34375 -3.15625 L 0.34375 -2.046875 Z M 3.921875 -2.984375 L 1.265625 -2.984375 L 3.921875 -6.703125 Z \"/>\n",
       "</symbol>\n",
       "<symbol overflow=\"visible\" id=\"glyph0-17\">\n",
       "<path style=\"stroke:none;\" d=\"M 5.96875 -6.28125 C 5.765625 -7.6875 4.859375 -8.515625 3.5625 -8.515625 C 2.625 -8.515625 1.78125 -8.046875 1.28125 -7.296875 C 0.75 -6.46875 0.515625 -5.421875 0.515625 -3.875 C 0.515625 -2.453125 0.734375 -1.53125 1.234375 -0.78125 C 1.6875 -0.09375 2.4375 0.28125 3.375 0.28125 C 4.984375 0.28125 6.15625 -0.921875 6.15625 -2.59375 C 6.15625 -4.171875 5.078125 -5.296875 3.546875 -5.296875 C 2.71875 -5.296875 2.046875 -4.96875 1.59375 -4.34375 C 1.609375 -6.421875 2.28125 -7.578125 3.484375 -7.578125 C 4.234375 -7.578125 4.75 -7.109375 4.921875 -6.28125 Z M 3.421875 -4.359375 C 4.4375 -4.359375 5.078125 -3.640625 5.078125 -2.515625 C 5.078125 -1.4375 4.359375 -0.65625 3.390625 -0.65625 C 2.40625 -0.65625 1.65625 -1.46875 1.65625 -2.5625 C 1.65625 -3.625 2.375 -4.359375 3.421875 -4.359375 Z \"/>\n",
       "</symbol>\n",
       "<symbol overflow=\"visible\" id=\"glyph0-18\">\n",
       "<path style=\"stroke:none;\" d=\"M 4.6875 -4.46875 C 5.5625 -5 5.859375 -5.4375 5.859375 -6.234375 C 5.859375 -7.578125 4.8125 -8.515625 3.296875 -8.515625 C 1.796875 -8.515625 0.75 -7.578125 0.75 -6.234375 C 0.75 -5.453125 1.03125 -5.015625 1.890625 -4.46875 C 0.921875 -4.015625 0.4375 -3.296875 0.4375 -2.359375 C 0.4375 -0.796875 1.625 0.28125 3.296875 0.28125 C 4.984375 0.28125 6.15625 -0.796875 6.15625 -2.359375 C 6.15625 -3.296875 5.671875 -4.015625 4.6875 -4.46875 Z M 3.296875 -7.578125 C 4.203125 -7.578125 4.78125 -7.046875 4.78125 -6.21875 C 4.78125 -5.421875 4.1875 -4.890625 3.296875 -4.890625 C 2.40625 -4.890625 1.828125 -5.421875 1.828125 -6.234375 C 1.828125 -7.046875 2.40625 -7.578125 3.296875 -7.578125 Z M 3.296875 -4.015625 C 4.359375 -4.015625 5.078125 -3.34375 5.078125 -2.34375 C 5.078125 -1.328125 4.359375 -0.65625 3.28125 -0.65625 C 2.25 -0.65625 1.53125 -1.34375 1.53125 -2.34375 C 1.53125 -3.34375 2.25 -4.015625 3.296875 -4.015625 Z \"/>\n",
       "</symbol>\n",
       "<symbol overflow=\"visible\" id=\"glyph0-19\">\n",
       "<path style=\"stroke:none;\" d=\"M 3.109375 -6.0625 L 3.109375 0 L 4.15625 0 L 4.15625 -8.515625 L 3.46875 -8.515625 C 3.09375 -7.203125 2.859375 -7.015625 1.21875 -6.8125 L 1.21875 -6.0625 Z \"/>\n",
       "</symbol>\n",
       "<symbol overflow=\"visible\" id=\"glyph1-0\">\n",
       "<path style=\"stroke:none;\" d=\"\"/>\n",
       "</symbol>\n",
       "<symbol overflow=\"visible\" id=\"glyph1-1\">\n",
       "<path style=\"stroke:none;\" d=\"M -7.765625 -4.25 L -7.765625 -7.109375 L -8.75 -7.109375 L -8.75 -0.25 L -7.765625 -0.25 L -7.765625 -3.125 L 0 -3.125 L 0 -4.25 Z \"/>\n",
       "</symbol>\n",
       "<symbol overflow=\"visible\" id=\"glyph1-2\">\n",
       "<path style=\"stroke:none;\" d=\"M -6.28125 -0.828125 L 0 -0.828125 L 0 -1.84375 L -3.265625 -1.84375 C -4.15625 -1.84375 -4.75 -2.0625 -5.09375 -2.546875 C -5.328125 -2.859375 -5.40625 -3.15625 -5.40625 -3.859375 L -6.4375 -3.859375 C -6.453125 -3.6875 -6.46875 -3.59375 -6.46875 -3.46875 C -6.46875 -2.8125 -6.078125 -2.328125 -5.140625 -1.75 L -6.28125 -1.75 Z \"/>\n",
       "</symbol>\n",
       "<symbol overflow=\"visible\" id=\"glyph1-3\">\n",
       "<path style=\"stroke:none;\" d=\"M 0 -5.78125 L -6.28125 -5.78125 L -6.28125 -4.78125 L -2.71875 -4.78125 C -1.4375 -4.78125 -0.59375 -4.109375 -0.59375 -3.078125 C -0.59375 -2.28125 -1.078125 -1.78125 -1.84375 -1.78125 L -6.28125 -1.78125 L -6.28125 -0.78125 L -1.4375 -0.78125 C -0.390625 -0.78125 0.28125 -1.5625 0.28125 -2.78125 C 0.28125 -3.703125 -0.046875 -4.296875 -0.875 -4.890625 L 0 -4.890625 Z \"/>\n",
       "</symbol>\n",
       "<symbol overflow=\"visible\" id=\"glyph1-4\">\n",
       "<path style=\"stroke:none;\" d=\"M -2.8125 -6.15625 C -3.765625 -6.15625 -4.34375 -6.078125 -4.8125 -5.90625 C -5.84375 -5.5 -6.46875 -4.53125 -6.46875 -3.359375 C -6.46875 -1.609375 -5.125 -0.484375 -3.0625 -0.484375 C -1 -0.484375 0.28125 -1.578125 0.28125 -3.34375 C 0.28125 -4.78125 -0.546875 -5.765625 -1.90625 -6.03125 L -1.90625 -5.015625 C -1.078125 -4.734375 -0.640625 -4.171875 -0.640625 -3.375 C -0.640625 -2.734375 -0.9375 -2.203125 -1.46875 -1.859375 C -1.828125 -1.625 -2.1875 -1.53125 -2.8125 -1.53125 Z M -3.625 -1.546875 C -4.78125 -1.625 -5.546875 -2.34375 -5.546875 -3.34375 C -5.546875 -4.328125 -4.734375 -5.09375 -3.703125 -5.09375 C -3.671875 -5.09375 -3.640625 -5.09375 -3.625 -5.078125 Z \"/>\n",
       "</symbol>\n",
       "<symbol overflow=\"visible\" id=\"glyph1-5\">\n",
       "<path style=\"stroke:none;\" d=\"\"/>\n",
       "</symbol>\n",
       "<symbol overflow=\"visible\" id=\"glyph1-6\">\n",
       "<path style=\"stroke:none;\" d=\"M 2.609375 -0.640625 L 2.609375 -1.65625 L -0.65625 -1.65625 C -0.015625 -2.1875 0.28125 -2.765625 0.28125 -3.59375 C 0.28125 -5.203125 -1.03125 -6.28125 -3.03125 -6.28125 C -5.140625 -6.28125 -6.46875 -5.25 -6.46875 -3.578125 C -6.46875 -2.71875 -6.078125 -2.046875 -5.34375 -1.578125 L -6.28125 -1.578125 L -6.28125 -0.640625 Z M -5.53125 -3.40625 C -5.53125 -4.515625 -4.5625 -5.234375 -3.0625 -5.234375 C -1.625 -5.234375 -0.65625 -4.5 -0.65625 -3.40625 C -0.65625 -2.359375 -1.625 -1.65625 -3.09375 -1.65625 C -4.578125 -1.65625 -5.53125 -2.359375 -5.53125 -3.40625 Z \"/>\n",
       "</symbol>\n",
       "<symbol overflow=\"visible\" id=\"glyph1-7\">\n",
       "<path style=\"stroke:none;\" d=\"M -6.46875 -3.265625 C -6.46875 -1.5 -5.203125 -0.4375 -3.09375 -0.4375 C -0.984375 -0.4375 0.28125 -1.484375 0.28125 -3.28125 C 0.28125 -5.046875 -0.984375 -6.125 -3.046875 -6.125 C -5.21875 -6.125 -6.46875 -5.078125 -6.46875 -3.265625 Z M -5.546875 -3.28125 C -5.546875 -4.40625 -4.625 -5.078125 -3.0625 -5.078125 C -1.578125 -5.078125 -0.640625 -4.375 -0.640625 -3.28125 C -0.640625 -2.15625 -1.578125 -1.46875 -3.09375 -1.46875 C -4.609375 -1.46875 -5.546875 -2.15625 -5.546875 -3.28125 Z \"/>\n",
       "</symbol>\n",
       "<symbol overflow=\"visible\" id=\"glyph1-8\">\n",
       "<path style=\"stroke:none;\" d=\"M -4.53125 -5.25 C -5.765625 -5.25 -6.46875 -4.421875 -6.46875 -2.96875 C -6.46875 -1.515625 -5.71875 -0.5625 -4.546875 -0.5625 C -3.5625 -0.5625 -3.09375 -1.0625 -2.734375 -2.5625 L -2.515625 -3.484375 C -2.34375 -4.1875 -2.09375 -4.46875 -1.625 -4.46875 C -1.046875 -4.46875 -0.640625 -3.875 -0.640625 -3 C -0.640625 -2.453125 -0.796875 -2 -1.0625 -1.75 C -1.25 -1.59375 -1.421875 -1.53125 -1.875 -1.46875 L -1.875 -0.40625 C -0.421875 -0.453125 0.28125 -1.265625 0.28125 -2.921875 C 0.28125 -4.5 -0.5 -5.515625 -1.71875 -5.515625 C -2.65625 -5.515625 -3.171875 -4.984375 -3.46875 -3.734375 L -3.703125 -2.765625 C -3.890625 -1.953125 -4.15625 -1.609375 -4.59375 -1.609375 C -5.171875 -1.609375 -5.546875 -2.125 -5.546875 -2.9375 C -5.546875 -3.75 -5.203125 -4.171875 -4.53125 -4.203125 Z \"/>\n",
       "</symbol>\n",
       "<symbol overflow=\"visible\" id=\"glyph1-9\">\n",
       "<path style=\"stroke:none;\" d=\"M -6.28125 -1.796875 L -6.28125 -0.796875 L 0 -0.796875 L 0 -1.796875 Z M -8.75 -1.796875 L -8.75 -0.796875 L -7.484375 -0.796875 L -7.484375 -1.796875 Z \"/>\n",
       "</symbol>\n",
       "<symbol overflow=\"visible\" id=\"glyph1-10\">\n",
       "<path style=\"stroke:none;\" d=\"M -6.28125 -3.046875 L -6.28125 -2.015625 L -8.015625 -2.015625 L -8.015625 -1.015625 L -6.28125 -1.015625 L -6.28125 -0.171875 L -5.46875 -0.171875 L -5.46875 -1.015625 L -0.71875 -1.015625 C -0.078125 -1.015625 0.28125 -1.453125 0.28125 -2.234375 C 0.28125 -2.46875 0.25 -2.71875 0.1875 -3.046875 L -0.640625 -3.046875 C -0.609375 -2.921875 -0.59375 -2.765625 -0.59375 -2.5625 C -0.59375 -2.140625 -0.71875 -2.015625 -1.15625 -2.015625 L -5.46875 -2.015625 L -5.46875 -3.046875 Z \"/>\n",
       "</symbol>\n",
       "<symbol overflow=\"visible\" id=\"glyph1-11\">\n",
       "<path style=\"stroke:none;\" d=\"M 0 -3.421875 L -6.28125 -5.828125 L -6.28125 -4.703125 L -1.1875 -2.921875 L -6.28125 -1.25 L -6.28125 -0.125 L 0 -2.328125 Z \"/>\n",
       "</symbol>\n",
       "<symbol overflow=\"visible\" id=\"glyph1-12\">\n",
       "<path style=\"stroke:none;\" d=\"M -0.59375 -6.421875 C -0.5625 -6.3125 -0.5625 -6.265625 -0.5625 -6.203125 C -0.5625 -5.859375 -0.75 -5.65625 -1.0625 -5.65625 L -4.75 -5.65625 C -5.875 -5.65625 -6.46875 -4.84375 -6.46875 -3.296875 C -6.46875 -2.390625 -6.203125 -1.625 -5.734375 -1.21875 C -5.40625 -0.921875 -5.046875 -0.796875 -4.421875 -0.78125 L -4.421875 -1.78125 C -5.203125 -1.875 -5.546875 -2.328125 -5.546875 -3.265625 C -5.546875 -4.15625 -5.203125 -4.671875 -4.609375 -4.671875 L -4.34375 -4.671875 C -3.921875 -4.671875 -3.75 -4.421875 -3.640625 -3.625 C -3.46875 -2.203125 -3.421875 -1.984375 -3.265625 -1.609375 C -2.96875 -0.875 -2.40625 -0.5 -1.578125 -0.5 C -0.4375 -0.5 0.28125 -1.296875 0.28125 -2.5625 C 0.28125 -3.359375 0 -4 -0.640625 -4.703125 C -0.015625 -4.78125 0.28125 -5.09375 0.28125 -5.734375 C 0.28125 -5.9375 0.25 -6.09375 0.171875 -6.421875 Z M -1.984375 -4.671875 C -1.640625 -4.671875 -1.4375 -4.578125 -1.15625 -4.265625 C -0.796875 -3.859375 -0.59375 -3.375 -0.59375 -2.78125 C -0.59375 -2 -0.96875 -1.546875 -1.609375 -1.546875 C -2.265625 -1.546875 -2.609375 -1.984375 -2.765625 -3.0625 C -2.90625 -4.109375 -2.953125 -4.328125 -3.109375 -4.671875 Z \"/>\n",
       "</symbol>\n",
       "<symbol overflow=\"visible\" id=\"glyph1-13\">\n",
       "<path style=\"stroke:none;\" d=\"M -8.515625 -3.296875 C -8.515625 -2.515625 -8.15625 -1.78125 -7.578125 -1.34375 C -6.828125 -0.796875 -5.6875 -0.515625 -4.109375 -0.515625 C -1.25 -0.515625 0.28125 -1.46875 0.28125 -3.296875 C 0.28125 -5.09375 -1.25 -6.078125 -4.046875 -6.078125 C -5.703125 -6.078125 -6.796875 -5.8125 -7.578125 -5.25 C -8.171875 -4.8125 -8.515625 -4.109375 -8.515625 -3.296875 Z M -7.578125 -3.296875 C -7.578125 -4.4375 -6.421875 -5 -4.140625 -5 C -1.734375 -5 -0.59375 -4.453125 -0.59375 -3.28125 C -0.59375 -2.15625 -1.78125 -1.59375 -4.109375 -1.59375 C -6.4375 -1.59375 -7.578125 -2.15625 -7.578125 -3.296875 Z \"/>\n",
       "</symbol>\n",
       "<symbol overflow=\"visible\" id=\"glyph1-14\">\n",
       "<path style=\"stroke:none;\" d=\"M -1.25 -2.296875 L -1.25 -1.046875 L 0 -1.046875 L 0 -2.296875 Z \"/>\n",
       "</symbol>\n",
       "<symbol overflow=\"visible\" id=\"glyph1-15\">\n",
       "<path style=\"stroke:none;\" d=\"M -1.046875 -6.078125 L -1.046875 -1.59375 C -1.734375 -1.703125 -2.1875 -2.09375 -2.796875 -3.125 L -3.4375 -4.328125 C -4.09375 -5.515625 -4.96875 -6.125 -6.015625 -6.125 C -6.71875 -6.125 -7.375 -5.84375 -7.84375 -5.34375 C -8.296875 -4.84375 -8.515625 -4.21875 -8.515625 -3.40625 C -8.515625 -2.328125 -8.125 -1.53125 -7.40625 -1.0625 C -6.953125 -0.75 -6.421875 -0.625 -5.5625 -0.59375 L -5.5625 -1.65625 C -6.125 -1.6875 -6.484375 -1.765625 -6.75 -1.90625 C -7.265625 -2.1875 -7.578125 -2.734375 -7.578125 -3.375 C -7.578125 -4.328125 -6.90625 -5.046875 -5.984375 -5.046875 C -5.3125 -5.046875 -4.734375 -4.65625 -4.3125 -3.90625 L -3.6875 -2.796875 C -2.671875 -1.015625 -1.875 -0.5 0 -0.40625 L 0 -6.078125 Z \"/>\n",
       "</symbol>\n",
       "<symbol overflow=\"visible\" id=\"glyph1-16\">\n",
       "<path style=\"stroke:none;\" d=\"M -2.046875 -3.921875 L 0 -3.921875 L 0 -4.984375 L -2.046875 -4.984375 L -2.046875 -6.234375 L -2.984375 -6.234375 L -2.984375 -4.984375 L -8.515625 -4.984375 L -8.515625 -4.203125 L -3.15625 -0.34375 L -2.046875 -0.34375 Z M -2.984375 -3.921875 L -2.984375 -1.265625 L -6.703125 -3.921875 Z \"/>\n",
       "</symbol>\n",
       "<symbol overflow=\"visible\" id=\"glyph1-17\">\n",
       "<path style=\"stroke:none;\" d=\"M -6.28125 -5.96875 C -7.6875 -5.765625 -8.515625 -4.859375 -8.515625 -3.5625 C -8.515625 -2.625 -8.046875 -1.78125 -7.296875 -1.28125 C -6.46875 -0.75 -5.421875 -0.515625 -3.875 -0.515625 C -2.453125 -0.515625 -1.53125 -0.734375 -0.78125 -1.234375 C -0.09375 -1.6875 0.28125 -2.4375 0.28125 -3.375 C 0.28125 -4.984375 -0.921875 -6.15625 -2.59375 -6.15625 C -4.171875 -6.15625 -5.296875 -5.078125 -5.296875 -3.546875 C -5.296875 -2.71875 -4.96875 -2.046875 -4.34375 -1.59375 C -6.421875 -1.609375 -7.578125 -2.28125 -7.578125 -3.484375 C -7.578125 -4.234375 -7.109375 -4.75 -6.28125 -4.921875 Z M -4.359375 -3.421875 C -4.359375 -4.4375 -3.640625 -5.078125 -2.515625 -5.078125 C -1.4375 -5.078125 -0.65625 -4.359375 -0.65625 -3.390625 C -0.65625 -2.40625 -1.46875 -1.65625 -2.5625 -1.65625 C -3.625 -1.65625 -4.359375 -2.375 -4.359375 -3.421875 Z \"/>\n",
       "</symbol>\n",
       "<symbol overflow=\"visible\" id=\"glyph1-18\">\n",
       "<path style=\"stroke:none;\" d=\"M -4.46875 -4.6875 C -5 -5.5625 -5.4375 -5.859375 -6.234375 -5.859375 C -7.578125 -5.859375 -8.515625 -4.8125 -8.515625 -3.296875 C -8.515625 -1.796875 -7.578125 -0.75 -6.234375 -0.75 C -5.453125 -0.75 -5.015625 -1.03125 -4.46875 -1.890625 C -4.015625 -0.921875 -3.296875 -0.4375 -2.359375 -0.4375 C -0.796875 -0.4375 0.28125 -1.625 0.28125 -3.296875 C 0.28125 -4.984375 -0.796875 -6.15625 -2.359375 -6.15625 C -3.296875 -6.15625 -4.015625 -5.671875 -4.46875 -4.6875 Z M -7.578125 -3.296875 C -7.578125 -4.203125 -7.046875 -4.78125 -6.21875 -4.78125 C -5.421875 -4.78125 -4.890625 -4.1875 -4.890625 -3.296875 C -4.890625 -2.40625 -5.421875 -1.828125 -6.234375 -1.828125 C -7.046875 -1.828125 -7.578125 -2.40625 -7.578125 -3.296875 Z M -4.015625 -3.296875 C -4.015625 -4.359375 -3.34375 -5.078125 -2.34375 -5.078125 C -1.328125 -5.078125 -0.65625 -4.359375 -0.65625 -3.28125 C -0.65625 -2.25 -1.34375 -1.53125 -2.34375 -1.53125 C -3.34375 -1.53125 -4.015625 -2.25 -4.015625 -3.296875 Z \"/>\n",
       "</symbol>\n",
       "<symbol overflow=\"visible\" id=\"glyph1-19\">\n",
       "<path style=\"stroke:none;\" d=\"M -6.0625 -3.109375 L 0 -3.109375 L 0 -4.15625 L -8.515625 -4.15625 L -8.515625 -3.46875 C -7.203125 -3.09375 -7.015625 -2.859375 -6.8125 -1.21875 L -6.0625 -1.21875 Z \"/>\n",
       "</symbol>\n",
       "</g>\n",
       "</defs>\n",
       "<g id=\"surface146\">\n",
       "<rect x=\"0\" y=\"0\" width=\"504\" height=\"504\" style=\"fill:rgb(100%,100%,100%);fill-opacity:1;stroke:none;\"/>\n",
       "<g style=\"fill:rgb(0%,0%,0%);fill-opacity:1;\">\n",
       "  <use xlink:href=\"#glyph0-1\" x=\"217.398438\" y=\"484.716797\"/>\n",
       "  <use xlink:href=\"#glyph0-2\" x=\"224.730469\" y=\"484.716797\"/>\n",
       "  <use xlink:href=\"#glyph0-3\" x=\"231.402344\" y=\"484.716797\"/>\n",
       "  <use xlink:href=\"#glyph0-4\" x=\"234.066406\" y=\"484.716797\"/>\n",
       "  <use xlink:href=\"#glyph0-5\" x=\"240.066406\" y=\"484.716797\"/>\n",
       "  <use xlink:href=\"#glyph0-6\" x=\"246.738281\" y=\"484.716797\"/>\n",
       "  <use xlink:href=\"#glyph0-7\" x=\"250.074219\" y=\"484.716797\"/>\n",
       "  <use xlink:href=\"#glyph0-8\" x=\"256.746094\" y=\"484.716797\"/>\n",
       "  <use xlink:href=\"#glyph0-4\" x=\"263.417969\" y=\"484.716797\"/>\n",
       "  <use xlink:href=\"#glyph0-9\" x=\"269.417969\" y=\"484.716797\"/>\n",
       "  <use xlink:href=\"#glyph0-10\" x=\"272.082031\" y=\"484.716797\"/>\n",
       "  <use xlink:href=\"#glyph0-9\" x=\"275.417969\" y=\"484.716797\"/>\n",
       "  <use xlink:href=\"#glyph0-11\" x=\"278.082031\" y=\"484.716797\"/>\n",
       "  <use xlink:href=\"#glyph0-5\" x=\"284.082031\" y=\"484.716797\"/>\n",
       "  <use xlink:href=\"#glyph0-6\" x=\"290.753906\" y=\"484.716797\"/>\n",
       "  <use xlink:href=\"#glyph0-12\" x=\"294.089844\" y=\"484.716797\"/>\n",
       "  <use xlink:href=\"#glyph0-2\" x=\"298.085938\" y=\"484.716797\"/>\n",
       "  <use xlink:href=\"#glyph0-10\" x=\"304.757812\" y=\"484.716797\"/>\n",
       "  <use xlink:href=\"#glyph0-5\" x=\"308.09375\" y=\"484.716797\"/>\n",
       "</g>\n",
       "<g style=\"fill:rgb(0%,0%,0%);fill-opacity:1;\">\n",
       "  <use xlink:href=\"#glyph1-1\" x=\"12.396484\" y=\"291.300781\"/>\n",
       "  <use xlink:href=\"#glyph1-2\" x=\"12.396484\" y=\"283.96875\"/>\n",
       "  <use xlink:href=\"#glyph1-3\" x=\"12.396484\" y=\"279.972656\"/>\n",
       "  <use xlink:href=\"#glyph1-4\" x=\"12.396484\" y=\"273.300781\"/>\n",
       "  <use xlink:href=\"#glyph1-5\" x=\"12.396484\" y=\"266.628906\"/>\n",
       "  <use xlink:href=\"#glyph1-6\" x=\"12.396484\" y=\"263.292969\"/>\n",
       "  <use xlink:href=\"#glyph1-7\" x=\"12.396484\" y=\"256.621094\"/>\n",
       "  <use xlink:href=\"#glyph1-8\" x=\"12.396484\" y=\"249.949219\"/>\n",
       "  <use xlink:href=\"#glyph1-9\" x=\"12.396484\" y=\"243.949219\"/>\n",
       "  <use xlink:href=\"#glyph1-10\" x=\"12.396484\" y=\"241.285156\"/>\n",
       "  <use xlink:href=\"#glyph1-9\" x=\"12.396484\" y=\"237.949219\"/>\n",
       "  <use xlink:href=\"#glyph1-11\" x=\"12.396484\" y=\"235.285156\"/>\n",
       "  <use xlink:href=\"#glyph1-4\" x=\"12.396484\" y=\"229.285156\"/>\n",
       "  <use xlink:href=\"#glyph1-5\" x=\"12.396484\" y=\"222.613281\"/>\n",
       "  <use xlink:href=\"#glyph1-2\" x=\"12.396484\" y=\"219.277344\"/>\n",
       "  <use xlink:href=\"#glyph1-12\" x=\"12.396484\" y=\"215.28125\"/>\n",
       "  <use xlink:href=\"#glyph1-10\" x=\"12.396484\" y=\"208.609375\"/>\n",
       "  <use xlink:href=\"#glyph1-4\" x=\"12.396484\" y=\"205.273438\"/>\n",
       "</g>\n",
       "<path style=\"fill:none;stroke-width:0.75;stroke-linecap:round;stroke-linejoin:round;stroke:rgb(0%,0%,0%);stroke-opacity:1;stroke-miterlimit:10;\" d=\"M 74.398438 430.558594 L 458.398438 430.558594 \"/>\n",
       "<path style=\"fill:none;stroke-width:0.75;stroke-linecap:round;stroke-linejoin:round;stroke:rgb(0%,0%,0%);stroke-opacity:1;stroke-miterlimit:10;\" d=\"M 74.398438 430.558594 L 74.398438 437.761719 \"/>\n",
       "<path style=\"fill:none;stroke-width:0.75;stroke-linecap:round;stroke-linejoin:round;stroke:rgb(0%,0%,0%);stroke-opacity:1;stroke-miterlimit:10;\" d=\"M 151.199219 430.558594 L 151.199219 437.761719 \"/>\n",
       "<path style=\"fill:none;stroke-width:0.75;stroke-linecap:round;stroke-linejoin:round;stroke:rgb(0%,0%,0%);stroke-opacity:1;stroke-miterlimit:10;\" d=\"M 228 430.558594 L 228 437.761719 \"/>\n",
       "<path style=\"fill:none;stroke-width:0.75;stroke-linecap:round;stroke-linejoin:round;stroke:rgb(0%,0%,0%);stroke-opacity:1;stroke-miterlimit:10;\" d=\"M 304.800781 430.558594 L 304.800781 437.761719 \"/>\n",
       "<path style=\"fill:none;stroke-width:0.75;stroke-linecap:round;stroke-linejoin:round;stroke:rgb(0%,0%,0%);stroke-opacity:1;stroke-miterlimit:10;\" d=\"M 381.601562 430.558594 L 381.601562 437.761719 \"/>\n",
       "<path style=\"fill:none;stroke-width:0.75;stroke-linecap:round;stroke-linejoin:round;stroke:rgb(0%,0%,0%);stroke-opacity:1;stroke-miterlimit:10;\" d=\"M 458.398438 430.558594 L 458.398438 437.761719 \"/>\n",
       "<g style=\"fill:rgb(0%,0%,0%);fill-opacity:1;\">\n",
       "  <use xlink:href=\"#glyph0-13\" x=\"65.898438\" y=\"455.916016\"/>\n",
       "  <use xlink:href=\"#glyph0-14\" x=\"72.570312\" y=\"455.916016\"/>\n",
       "  <use xlink:href=\"#glyph0-13\" x=\"75.90625\" y=\"455.916016\"/>\n",
       "</g>\n",
       "<g style=\"fill:rgb(0%,0%,0%);fill-opacity:1;\">\n",
       "  <use xlink:href=\"#glyph0-13\" x=\"142.699219\" y=\"455.916016\"/>\n",
       "  <use xlink:href=\"#glyph0-14\" x=\"149.371094\" y=\"455.916016\"/>\n",
       "  <use xlink:href=\"#glyph0-15\" x=\"152.707031\" y=\"455.916016\"/>\n",
       "</g>\n",
       "<g style=\"fill:rgb(0%,0%,0%);fill-opacity:1;\">\n",
       "  <use xlink:href=\"#glyph0-13\" x=\"219.5\" y=\"455.916016\"/>\n",
       "  <use xlink:href=\"#glyph0-14\" x=\"226.171875\" y=\"455.916016\"/>\n",
       "  <use xlink:href=\"#glyph0-16\" x=\"229.507812\" y=\"455.916016\"/>\n",
       "</g>\n",
       "<g style=\"fill:rgb(0%,0%,0%);fill-opacity:1;\">\n",
       "  <use xlink:href=\"#glyph0-13\" x=\"296.300781\" y=\"455.916016\"/>\n",
       "  <use xlink:href=\"#glyph0-14\" x=\"302.972656\" y=\"455.916016\"/>\n",
       "  <use xlink:href=\"#glyph0-17\" x=\"306.308594\" y=\"455.916016\"/>\n",
       "</g>\n",
       "<g style=\"fill:rgb(0%,0%,0%);fill-opacity:1;\">\n",
       "  <use xlink:href=\"#glyph0-13\" x=\"373.101562\" y=\"455.916016\"/>\n",
       "  <use xlink:href=\"#glyph0-14\" x=\"379.773438\" y=\"455.916016\"/>\n",
       "  <use xlink:href=\"#glyph0-18\" x=\"383.109375\" y=\"455.916016\"/>\n",
       "</g>\n",
       "<g style=\"fill:rgb(0%,0%,0%);fill-opacity:1;\">\n",
       "  <use xlink:href=\"#glyph0-19\" x=\"449.898438\" y=\"455.916016\"/>\n",
       "  <use xlink:href=\"#glyph0-14\" x=\"456.570312\" y=\"455.916016\"/>\n",
       "  <use xlink:href=\"#glyph0-13\" x=\"459.90625\" y=\"455.916016\"/>\n",
       "</g>\n",
       "<path style=\"fill:none;stroke-width:0.75;stroke-linecap:round;stroke-linejoin:round;stroke:rgb(0%,0%,0%);stroke-opacity:1;stroke-miterlimit:10;\" d=\"M 59.039062 416.800781 L 59.039062 72.800781 \"/>\n",
       "<path style=\"fill:none;stroke-width:0.75;stroke-linecap:round;stroke-linejoin:round;stroke:rgb(0%,0%,0%);stroke-opacity:1;stroke-miterlimit:10;\" d=\"M 59.039062 416.800781 L 51.839844 416.800781 \"/>\n",
       "<path style=\"fill:none;stroke-width:0.75;stroke-linecap:round;stroke-linejoin:round;stroke:rgb(0%,0%,0%);stroke-opacity:1;stroke-miterlimit:10;\" d=\"M 59.039062 348 L 51.839844 348 \"/>\n",
       "<path style=\"fill:none;stroke-width:0.75;stroke-linecap:round;stroke-linejoin:round;stroke:rgb(0%,0%,0%);stroke-opacity:1;stroke-miterlimit:10;\" d=\"M 59.039062 279.199219 L 51.839844 279.199219 \"/>\n",
       "<path style=\"fill:none;stroke-width:0.75;stroke-linecap:round;stroke-linejoin:round;stroke:rgb(0%,0%,0%);stroke-opacity:1;stroke-miterlimit:10;\" d=\"M 59.039062 210.398438 L 51.839844 210.398438 \"/>\n",
       "<path style=\"fill:none;stroke-width:0.75;stroke-linecap:round;stroke-linejoin:round;stroke:rgb(0%,0%,0%);stroke-opacity:1;stroke-miterlimit:10;\" d=\"M 59.039062 141.601562 L 51.839844 141.601562 \"/>\n",
       "<path style=\"fill:none;stroke-width:0.75;stroke-linecap:round;stroke-linejoin:round;stroke:rgb(0%,0%,0%);stroke-opacity:1;stroke-miterlimit:10;\" d=\"M 59.039062 72.800781 L 51.839844 72.800781 \"/>\n",
       "<g style=\"fill:rgb(0%,0%,0%);fill-opacity:1;\">\n",
       "  <use xlink:href=\"#glyph1-13\" x=\"41.197266\" y=\"425.300781\"/>\n",
       "  <use xlink:href=\"#glyph1-14\" x=\"41.197266\" y=\"418.628906\"/>\n",
       "  <use xlink:href=\"#glyph1-13\" x=\"41.197266\" y=\"415.292969\"/>\n",
       "</g>\n",
       "<g style=\"fill:rgb(0%,0%,0%);fill-opacity:1;\">\n",
       "  <use xlink:href=\"#glyph1-13\" x=\"41.197266\" y=\"356.5\"/>\n",
       "  <use xlink:href=\"#glyph1-14\" x=\"41.197266\" y=\"349.828125\"/>\n",
       "  <use xlink:href=\"#glyph1-15\" x=\"41.197266\" y=\"346.492188\"/>\n",
       "</g>\n",
       "<g style=\"fill:rgb(0%,0%,0%);fill-opacity:1;\">\n",
       "  <use xlink:href=\"#glyph1-13\" x=\"41.197266\" y=\"287.699219\"/>\n",
       "  <use xlink:href=\"#glyph1-14\" x=\"41.197266\" y=\"281.027344\"/>\n",
       "  <use xlink:href=\"#glyph1-16\" x=\"41.197266\" y=\"277.691406\"/>\n",
       "</g>\n",
       "<g style=\"fill:rgb(0%,0%,0%);fill-opacity:1;\">\n",
       "  <use xlink:href=\"#glyph1-13\" x=\"41.197266\" y=\"218.898438\"/>\n",
       "  <use xlink:href=\"#glyph1-14\" x=\"41.197266\" y=\"212.226562\"/>\n",
       "  <use xlink:href=\"#glyph1-17\" x=\"41.197266\" y=\"208.890625\"/>\n",
       "</g>\n",
       "<g style=\"fill:rgb(0%,0%,0%);fill-opacity:1;\">\n",
       "  <use xlink:href=\"#glyph1-13\" x=\"41.197266\" y=\"150.101562\"/>\n",
       "  <use xlink:href=\"#glyph1-14\" x=\"41.197266\" y=\"143.429688\"/>\n",
       "  <use xlink:href=\"#glyph1-18\" x=\"41.197266\" y=\"140.09375\"/>\n",
       "</g>\n",
       "<g style=\"fill:rgb(0%,0%,0%);fill-opacity:1;\">\n",
       "  <use xlink:href=\"#glyph1-19\" x=\"41.197266\" y=\"81.300781\"/>\n",
       "  <use xlink:href=\"#glyph1-14\" x=\"41.197266\" y=\"74.628906\"/>\n",
       "  <use xlink:href=\"#glyph1-13\" x=\"41.197266\" y=\"71.292969\"/>\n",
       "</g>\n",
       "<path style=\"fill:none;stroke-width:0.75;stroke-linecap:round;stroke-linejoin:round;stroke:rgb(0%,0%,0%);stroke-opacity:1;stroke-miterlimit:10;\" d=\"M 59.039062 430.558594 L 473.761719 430.558594 L 473.761719 59.039062 L 59.039062 59.039062 L 59.039062 430.558594 \"/>\n",
       "<path style=\"fill:none;stroke-width:0.75;stroke-linecap:round;stroke-linejoin:round;stroke:rgb(0%,0%,0%);stroke-opacity:1;stroke-miterlimit:10;\" d=\"M 74.398438 416.800781 L 89.121094 286.21875 L 112.433594 225.84375 L 125.925781 207.59375 L 129.609375 194.957031 L 138.195312 189.339844 L 141.875 183.722656 L 183.589844 137.386719 L 192.175781 119.132812 L 194.628906 113.519531 L 424.046875 75.609375 L 458.398438 72.800781 \"/>\n",
       "</g>\n",
       "</svg>\n"
      ],
      "text/plain": [
       "plot without title"
      ]
     },
     "metadata": {
      "image/svg+xml": {
       "isolated": true
      }
     },
     "output_type": "display_data"
    }
   ],
   "source": [
    "plot(performance(prediction(CARTTestPredRes,test$trial),\"tpr\",\"fpr\"))"
   ]
  },
  {
   "cell_type": "code",
   "execution_count": null,
   "metadata": {
    "collapsed": true
   },
   "outputs": [],
   "source": []
  }
 ],
 "metadata": {
  "kernelspec": {
   "display_name": "R",
   "language": "R",
   "name": "ir"
  },
  "language_info": {
   "codemirror_mode": "r",
   "file_extension": ".r",
   "mimetype": "text/x-r-source",
   "name": "R",
   "pygments_lexer": "r",
   "version": "3.2.2"
  }
 },
 "nbformat": 4,
 "nbformat_minor": 0
}
