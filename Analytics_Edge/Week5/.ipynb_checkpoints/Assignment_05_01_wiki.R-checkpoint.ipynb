{
 "cells": [
  {
   "cell_type": "markdown",
   "metadata": {},
   "source": [
    "https://courses.edx.org/courses/course-v1:MITx+15.071x_3+1T2016/courseware/78a8f19e5e54432a938ae62dc0246780/ac54e7a579bd44258ab0b446ac8091c4/\n",
    "\n",
    "One of the consequences of being editable by anyone is that some people vandalize pages. This can take the form of removing content, adding promotional or inappropriate content, or more subtle shifts that change the meaning of the article. With this many articles and edits per day it is difficult for humans to detect all instances of vandalism and revert (undo) them. As a result, Wikipedia uses bots - computer programs that automatically revert edits that look like vandalism. In this assignment we will attempt to develop a vandalism detector that uses machine learning to distinguish between a valid edit and vandalism.\n",
    "\n",
    "The data for this problem is based on the revision history of the page Language. Wikipedia provides a history for each page that consists of the state of the page at each revision. Rather than manually considering each revision, a script was run that checked whether edits stayed or were reverted. If a change was eventually reverted then that revision is marked as vandalism. This may result in some misclassifications, but the script performs well enough for our needs.\n",
    "\n",
    "As a result of this preprocessing, some common processing tasks have already been done, including lower-casing and punctuation removal. The columns in the dataset are:\n",
    "\n",
    "    Vandal = 1 if this edit was vandalism, 0 if not.\n",
    "    Minor = 1 if the user marked this edit as a \"minor edit\", 0 if not.\n",
    "    Loggedin = 1 if the user made this edit while using a Wikipedia account, 0 if they did not.\n",
    "    Added = The unique words added.\n",
    "    Removed = The unique words removed.\n",
    "\n"
   ]
  },
  {
   "cell_type": "code",
   "execution_count": 1,
   "metadata": {
    "collapsed": true
   },
   "outputs": [],
   "source": [
    "wiki = read.csv(\"wiki.csv\", stringsAsFactors = FALSE)"
   ]
  },
  {
   "cell_type": "code",
   "execution_count": 2,
   "metadata": {
    "collapsed": false
   },
   "outputs": [
    {
     "name": "stdout",
     "output_type": "stream",
     "text": [
      "'data.frame':\t3876 obs. of  7 variables:\n",
      " $ X.1     : int  1 2 3 4 5 6 7 8 9 10 ...\n",
      " $ X       : int  1 2 3 4 5 6 7 8 9 10 ...\n",
      " $ Vandal  : int  0 0 0 0 0 0 0 0 0 0 ...\n",
      " $ Minor   : int  1 1 0 1 1 0 0 0 1 0 ...\n",
      " $ Loggedin: int  1 1 1 0 1 1 1 1 1 0 ...\n",
      " $ Added   : chr  \"  represent psycholinguisticspsycholinguistics orthographyorthography help text all actions through human ethnologue relationsh\"| __truncated__ \" website external links\" \" \" \" afghanistan used iran mostly that farsiis is countries some xmlspacepreservepersian parts tajikestan region\" ...\n",
      " $ Removed : chr  \" \" \" talklanguagetalk\" \" regarded as technologytechnologies human first\" \"  represent psycholinguisticspsycholinguistics orthographyorthography help all actions through ethnologue relationships linguis\"| __truncated__ ...\n"
     ]
    }
   ],
   "source": [
    "str(wiki)"
   ]
  },
  {
   "cell_type": "code",
   "execution_count": 3,
   "metadata": {
    "collapsed": false
   },
   "outputs": [
    {
     "data": {
      "text/html": [
       "1815"
      ],
      "text/latex": [
       "1815"
      ],
      "text/markdown": [
       "1815"
      ],
      "text/plain": [
       "[1] 1815"
      ]
     },
     "execution_count": 3,
     "metadata": {},
     "output_type": "execute_result"
    }
   ],
   "source": [
    "sum(wiki$Vandal)"
   ]
  },
  {
   "cell_type": "code",
   "execution_count": 4,
   "metadata": {
    "collapsed": false
   },
   "outputs": [
    {
     "name": "stderr",
     "output_type": "stream",
     "text": [
      "Loading required package: NLP\n"
     ]
    }
   ],
   "source": [
    "library(tm)"
   ]
  },
  {
   "cell_type": "code",
   "execution_count": 5,
   "metadata": {
    "collapsed": true
   },
   "outputs": [],
   "source": [
    "corpusAdded = Corpus(VectorSource(wiki$Added))"
   ]
  },
  {
   "cell_type": "code",
   "execution_count": 6,
   "metadata": {
    "collapsed": false
   },
   "outputs": [
    {
     "data": {
      "text/html": [
       "'  represent psycholinguisticspsycholinguistics orthographyorthography help text all actions through human ethnologue relationships linguistics regarded writing languages to other listing xmlspacepreservelanguages metaverse formal term philology common each including phonologyphonology often ten list humans affiliation see computer are speechpathologyspeech our what for ways dialects please artificial written body be of quite hypothesis found alone refers by about language profanity study programming priorities rosenfelders technologytechnologies makes or first among useful languagephilosophy one sounds use area create phrases mark their genetic basic families complete but sapirwhorfhypothesissapirwhorf with talklanguagetalk population animals this science up vocal can concepts called at and topics locations as numbers have in pathology different develop 4000 things ideas grouped complex animal mathematics fairly literature httpwwwzompistcom philosophy most important meaningful a historicallinguisticsorphilologyhistorical semanticssemantics patterns the oral'"
      ],
      "text/latex": [
       "'  represent psycholinguisticspsycholinguistics orthographyorthography help text all actions through human ethnologue relationships linguistics regarded writing languages to other listing xmlspacepreservelanguages metaverse formal term philology common each including phonologyphonology often ten list humans affiliation see computer are speechpathologyspeech our what for ways dialects please artificial written body be of quite hypothesis found alone refers by about language profanity study programming priorities rosenfelders technologytechnologies makes or first among useful languagephilosophy one sounds use area create phrases mark their genetic basic families complete but sapirwhorfhypothesissapirwhorf with talklanguagetalk population animals this science up vocal can concepts called at and topics locations as numbers have in pathology different develop 4000 things ideas grouped complex animal mathematics fairly literature httpwwwzompistcom philosophy most important meaningful a historicallinguisticsorphilologyhistorical semanticssemantics patterns the oral'"
      ],
      "text/markdown": [
       "'  represent psycholinguisticspsycholinguistics orthographyorthography help text all actions through human ethnologue relationships linguistics regarded writing languages to other listing xmlspacepreservelanguages metaverse formal term philology common each including phonologyphonology often ten list humans affiliation see computer are speechpathologyspeech our what for ways dialects please artificial written body be of quite hypothesis found alone refers by about language profanity study programming priorities rosenfelders technologytechnologies makes or first among useful languagephilosophy one sounds use area create phrases mark their genetic basic families complete but sapirwhorfhypothesissapirwhorf with talklanguagetalk population animals this science up vocal can concepts called at and topics locations as numbers have in pathology different develop 4000 things ideas grouped complex animal mathematics fairly literature httpwwwzompistcom philosophy most important meaningful a historicallinguisticsorphilologyhistorical semanticssemantics patterns the oral'"
      ],
      "text/plain": [
       "[1] \"  represent psycholinguisticspsycholinguistics orthographyorthography help text all actions through human ethnologue relationships linguistics regarded writing languages to other listing xmlspacepreservelanguages metaverse formal term philology common each including phonologyphonology often ten list humans affiliation see computer are speechpathologyspeech our what for ways dialects please artificial written body be of quite hypothesis found alone refers by about language profanity study programming priorities rosenfelders technologytechnologies makes or first among useful languagephilosophy one sounds use area create phrases mark their genetic basic families complete but sapirwhorfhypothesissapirwhorf with talklanguagetalk population animals this science up vocal can concepts called at and topics locations as numbers have in pathology different develop 4000 things ideas grouped complex animal mathematics fairly literature httpwwwzompistcom philosophy most important meaningful a historicallinguisticsorphilologyhistorical semanticssemantics patterns the oral\""
      ]
     },
     "execution_count": 6,
     "metadata": {},
     "output_type": "execute_result"
    }
   ],
   "source": [
    "corpusAdded[[1]]$content"
   ]
  },
  {
   "cell_type": "code",
   "execution_count": 7,
   "metadata": {
    "collapsed": false
   },
   "outputs": [
    {
     "data": {
      "text/plain": [
       "<<VCorpus>>\n",
       "Metadata:  corpus specific: 0, document level (indexed): 0\n",
       "Content:  documents: 3876"
      ]
     },
     "execution_count": 7,
     "metadata": {},
     "output_type": "execute_result"
    }
   ],
   "source": [
    "corpusAdded"
   ]
  },
  {
   "cell_type": "code",
   "execution_count": 8,
   "metadata": {
    "collapsed": false
   },
   "outputs": [
    {
     "data": {
      "text/html": [
       "174"
      ],
      "text/latex": [
       "174"
      ],
      "text/markdown": [
       "174"
      ],
      "text/plain": [
       "[1] 174"
      ]
     },
     "execution_count": 8,
     "metadata": {},
     "output_type": "execute_result"
    }
   ],
   "source": [
    "length(stopwords(\"english\"))"
   ]
  },
  {
   "cell_type": "code",
   "execution_count": 9,
   "metadata": {
    "collapsed": true
   },
   "outputs": [],
   "source": [
    "corpusAdded = tm_map(corpusAdded, removeWords, stopwords(\"english\"))"
   ]
  },
  {
   "cell_type": "code",
   "execution_count": 10,
   "metadata": {
    "collapsed": false
   },
   "outputs": [
    {
     "data": {
      "text/html": [
       "'  represent psycholinguisticspsycholinguistics orthographyorthography help text  actions  human ethnologue relationships linguistics regarded writing languages   listing xmlspacepreservelanguages metaverse formal term philology common  including phonologyphonology often ten list humans affiliation see computer  speechpathologyspeech    ways dialects please artificial written body   quite hypothesis found alone refers   language profanity study programming priorities rosenfelders technologytechnologies makes  first among useful languagephilosophy one sounds use area create phrases mark  genetic basic families complete  sapirwhorfhypothesissapirwhorf  talklanguagetalk population animals  science  vocal can concepts called   topics locations  numbers   pathology different develop 4000 things ideas grouped complex animal mathematics fairly literature httpwwwzompistcom philosophy  important meaningful  historicallinguisticsorphilologyhistorical semanticssemantics patterns  oral'"
      ],
      "text/latex": [
       "'  represent psycholinguisticspsycholinguistics orthographyorthography help text  actions  human ethnologue relationships linguistics regarded writing languages   listing xmlspacepreservelanguages metaverse formal term philology common  including phonologyphonology often ten list humans affiliation see computer  speechpathologyspeech    ways dialects please artificial written body   quite hypothesis found alone refers   language profanity study programming priorities rosenfelders technologytechnologies makes  first among useful languagephilosophy one sounds use area create phrases mark  genetic basic families complete  sapirwhorfhypothesissapirwhorf  talklanguagetalk population animals  science  vocal can concepts called   topics locations  numbers   pathology different develop 4000 things ideas grouped complex animal mathematics fairly literature httpwwwzompistcom philosophy  important meaningful  historicallinguisticsorphilologyhistorical semanticssemantics patterns  oral'"
      ],
      "text/markdown": [
       "'  represent psycholinguisticspsycholinguistics orthographyorthography help text  actions  human ethnologue relationships linguistics regarded writing languages   listing xmlspacepreservelanguages metaverse formal term philology common  including phonologyphonology often ten list humans affiliation see computer  speechpathologyspeech    ways dialects please artificial written body   quite hypothesis found alone refers   language profanity study programming priorities rosenfelders technologytechnologies makes  first among useful languagephilosophy one sounds use area create phrases mark  genetic basic families complete  sapirwhorfhypothesissapirwhorf  talklanguagetalk population animals  science  vocal can concepts called   topics locations  numbers   pathology different develop 4000 things ideas grouped complex animal mathematics fairly literature httpwwwzompistcom philosophy  important meaningful  historicallinguisticsorphilologyhistorical semanticssemantics patterns  oral'"
      ],
      "text/plain": [
       "[1] \"  represent psycholinguisticspsycholinguistics orthographyorthography help text  actions  human ethnologue relationships linguistics regarded writing languages   listing xmlspacepreservelanguages metaverse formal term philology common  including phonologyphonology often ten list humans affiliation see computer  speechpathologyspeech    ways dialects please artificial written body   quite hypothesis found alone refers   language profanity study programming priorities rosenfelders technologytechnologies makes  first among useful languagephilosophy one sounds use area create phrases mark  genetic basic families complete  sapirwhorfhypothesissapirwhorf  talklanguagetalk population animals  science  vocal can concepts called   topics locations  numbers   pathology different develop 4000 things ideas grouped complex animal mathematics fairly literature httpwwwzompistcom philosophy  important meaningful  historicallinguisticsorphilologyhistorical semanticssemantics patterns  oral\""
      ]
     },
     "execution_count": 10,
     "metadata": {},
     "output_type": "execute_result"
    }
   ],
   "source": [
    "corpusAdded[[1]]$content"
   ]
  },
  {
   "cell_type": "code",
   "execution_count": 11,
   "metadata": {
    "collapsed": true
   },
   "outputs": [],
   "source": [
    "corpusAdded = tm_map(corpusAdded, stemDocument)"
   ]
  },
  {
   "cell_type": "code",
   "execution_count": 12,
   "metadata": {
    "collapsed": false
   },
   "outputs": [
    {
     "data": {
      "text/html": [
       "'  repres psycholinguisticspsycholinguist orthographyorthographi help text  action  human ethnologu relationship linguist regard write languag   list xmlspacepreservelanguag metavers formal term philolog common  includ phonologyphonolog often ten list human affili see comput  speechpathologyspeech    way dialect pleas artifici written bodi   quit hypothesi found alon refer   languag profan studi program prioriti rosenfeld technologytechnolog make  first among use languagephilosophi one sound use area creat phrase mark  genet basic famili complet  sapirwhorfhypothesissapirwhorf  talklanguagetalk popul anim  scienc  vocal can concept call   topic locat  number   patholog differ develop 4000 thing idea group complex anim mathemat fair literatur httpwwwzompistcom philosophi  import meaning  historicallinguisticsorphilologyhistor semanticssemant pattern  oral'"
      ],
      "text/latex": [
       "'  repres psycholinguisticspsycholinguist orthographyorthographi help text  action  human ethnologu relationship linguist regard write languag   list xmlspacepreservelanguag metavers formal term philolog common  includ phonologyphonolog often ten list human affili see comput  speechpathologyspeech    way dialect pleas artifici written bodi   quit hypothesi found alon refer   languag profan studi program prioriti rosenfeld technologytechnolog make  first among use languagephilosophi one sound use area creat phrase mark  genet basic famili complet  sapirwhorfhypothesissapirwhorf  talklanguagetalk popul anim  scienc  vocal can concept call   topic locat  number   patholog differ develop 4000 thing idea group complex anim mathemat fair literatur httpwwwzompistcom philosophi  import meaning  historicallinguisticsorphilologyhistor semanticssemant pattern  oral'"
      ],
      "text/markdown": [
       "'  repres psycholinguisticspsycholinguist orthographyorthographi help text  action  human ethnologu relationship linguist regard write languag   list xmlspacepreservelanguag metavers formal term philolog common  includ phonologyphonolog often ten list human affili see comput  speechpathologyspeech    way dialect pleas artifici written bodi   quit hypothesi found alon refer   languag profan studi program prioriti rosenfeld technologytechnolog make  first among use languagephilosophi one sound use area creat phrase mark  genet basic famili complet  sapirwhorfhypothesissapirwhorf  talklanguagetalk popul anim  scienc  vocal can concept call   topic locat  number   patholog differ develop 4000 thing idea group complex anim mathemat fair literatur httpwwwzompistcom philosophi  import meaning  historicallinguisticsorphilologyhistor semanticssemant pattern  oral'"
      ],
      "text/plain": [
       "[1] \"  repres psycholinguisticspsycholinguist orthographyorthographi help text  action  human ethnologu relationship linguist regard write languag   list xmlspacepreservelanguag metavers formal term philolog common  includ phonologyphonolog often ten list human affili see comput  speechpathologyspeech    way dialect pleas artifici written bodi   quit hypothesi found alon refer   languag profan studi program prioriti rosenfeld technologytechnolog make  first among use languagephilosophi one sound use area creat phrase mark  genet basic famili complet  sapirwhorfhypothesissapirwhorf  talklanguagetalk popul anim  scienc  vocal can concept call   topic locat  number   patholog differ develop 4000 thing idea group complex anim mathemat fair literatur httpwwwzompistcom philosophi  import meaning  historicallinguisticsorphilologyhistor semanticssemant pattern  oral\""
      ]
     },
     "execution_count": 12,
     "metadata": {},
     "output_type": "execute_result"
    }
   ],
   "source": [
    "corpusAdded[[1]]$content"
   ]
  },
  {
   "cell_type": "code",
   "execution_count": 13,
   "metadata": {
    "collapsed": true
   },
   "outputs": [],
   "source": [
    "dtmAdded = DocumentTermMatrix(corpusAdded)"
   ]
  },
  {
   "cell_type": "code",
   "execution_count": 14,
   "metadata": {
    "collapsed": false
   },
   "outputs": [
    {
     "data": {
      "text/plain": [
       "<<DocumentTermMatrix (documents: 3876, terms: 6675)>>\n",
       "Non-/sparse entries: 15368/25856932\n",
       "Sparsity           : 100%\n",
       "Maximal term length: 784\n",
       "Weighting          : term frequency (tf)"
      ]
     },
     "execution_count": 14,
     "metadata": {},
     "output_type": "execute_result"
    }
   ],
   "source": [
    "dtmAdded"
   ]
  },
  {
   "cell_type": "code",
   "execution_count": 15,
   "metadata": {
    "collapsed": true
   },
   "outputs": [],
   "source": [
    "sparseAdded = removeSparseTerms(dtmAdded, 0.997)"
   ]
  },
  {
   "cell_type": "code",
   "execution_count": 16,
   "metadata": {
    "collapsed": false
   },
   "outputs": [
    {
     "data": {
      "text/plain": [
       "<<DocumentTermMatrix (documents: 3876, terms: 166)>>\n",
       "Non-/sparse entries: 2681/640735\n",
       "Sparsity           : 100%\n",
       "Maximal term length: 28\n",
       "Weighting          : term frequency (tf)"
      ]
     },
     "execution_count": 16,
     "metadata": {},
     "output_type": "execute_result"
    }
   ],
   "source": [
    "sparseAdded"
   ]
  },
  {
   "cell_type": "code",
   "execution_count": 17,
   "metadata": {
    "collapsed": true
   },
   "outputs": [],
   "source": [
    "wordsAdded = as.data.frame(as.matrix(sparseAdded))"
   ]
  },
  {
   "cell_type": "code",
   "execution_count": 18,
   "metadata": {
    "collapsed": false
   },
   "outputs": [
    {
     "name": "stdout",
     "output_type": "stream",
     "text": [
      "'data.frame':\t3876 obs. of  166 variables:\n",
      " $ accord                      : num  0 0 0 0 0 0 0 0 0 0 ...\n",
      " $ actual                      : num  0 0 0 0 0 0 0 0 0 0 ...\n",
      " $ ago                         : num  0 0 0 0 0 0 0 0 0 0 ...\n",
      " $ agre                        : num  0 0 0 0 0 0 0 0 0 0 ...\n",
      " $ analog                      : num  0 0 0 0 0 0 0 0 0 0 ...\n",
      " $ appar                       : num  0 0 0 0 0 0 0 0 0 0 ...\n",
      " $ arbitrari                   : num  0 0 0 0 0 0 0 0 0 0 ...\n",
      " $ believ                      : num  0 0 0 0 0 0 0 0 0 0 ...\n",
      " $ biolog                      : num  0 0 0 0 0 0 0 0 0 0 ...\n",
      " $ biologyanalog               : num  0 0 0 0 0 0 0 0 0 0 ...\n",
      " $ bodi                        : num  1 0 0 0 1 0 0 0 0 0 ...\n",
      " $ call                        : num  1 0 0 0 1 0 0 0 0 0 ...\n",
      " $ clear                       : num  0 0 0 0 0 0 0 0 0 0 ...\n",
      " $ close                       : num  0 0 0 0 0 0 0 0 0 0 ...\n",
      " $ combin                      : num  0 0 0 0 0 0 0 0 0 0 ...\n",
      " $ communic                    : num  0 0 0 0 0 0 0 0 0 0 ...\n",
      " $ communiti                   : num  0 0 0 0 0 0 0 0 0 0 ...\n",
      " $ compar                      : num  0 0 0 0 0 0 0 0 0 0 ...\n",
      " $ complet                     : num  1 0 0 0 1 0 0 0 0 0 ...\n",
      " $ concept                     : num  1 0 0 0 1 0 0 0 0 0 ...\n",
      " $ consid                      : num  0 0 0 0 0 0 0 0 0 0 ...\n",
      " $ contain                     : num  0 0 0 0 0 0 0 0 0 0 ...\n",
      " $ converg                     : num  0 0 0 0 0 0 0 0 0 0 ...\n",
      " $ correl                      : num  0 0 0 0 0 0 0 0 0 0 ...\n",
      " $ cours                       : num  0 0 0 0 0 0 0 0 0 0 ...\n",
      " $ creat                       : num  1 0 0 0 1 0 0 0 0 0 ...\n",
      " $ croatian                    : num  0 0 0 0 0 0 0 0 0 0 ...\n",
      " $ cultur                      : num  0 0 0 0 0 0 0 0 0 0 ...\n",
      " $ defin                       : num  0 0 0 0 0 0 0 0 0 0 ...\n",
      " $ deriv                       : num  0 0 0 0 0 0 0 0 0 0 ...\n",
      " $ describ                     : num  0 0 0 0 0 0 0 0 0 0 ...\n",
      " $ develop                     : num  1 0 0 0 1 0 0 0 0 0 ...\n",
      " $ differ                      : num  1 0 0 0 1 0 0 0 0 0 ...\n",
      " $ direct                      : num  0 0 0 0 0 0 0 0 0 0 ...\n",
      " $ discuss                     : num  0 0 0 0 0 0 0 0 0 0 ...\n",
      " $ distinct                    : num  0 0 0 0 0 0 0 0 0 0 ...\n",
      " $ dutch                       : num  0 0 0 0 0 0 0 0 0 0 ...\n",
      " $ estim                       : num  0 0 0 0 0 0 0 0 0 0 ...\n",
      " $ exampl                      : num  0 0 0 0 0 0 0 0 0 0 ...\n",
      " $ exist                       : num  0 0 0 0 0 0 0 0 0 0 ...\n",
      " $ experiment                  : num  0 0 0 0 0 0 0 0 0 0 ...\n",
      " $ express                     : num  0 0 0 0 0 0 0 0 0 0 ...\n",
      " $ famili                      : num  1 0 0 0 1 0 0 0 0 0 ...\n",
      " $ fantasi                     : num  0 0 0 0 0 0 0 0 0 0 ...\n",
      " $ featur                      : num  0 0 0 0 0 0 0 0 0 0 ...\n",
      " $ first                       : num  1 0 0 0 0 0 0 0 0 0 ...\n",
      " $ follow                      : num  0 0 0 0 0 0 0 0 0 0 ...\n",
      " $ forc                        : num  0 0 0 0 0 0 0 0 0 0 ...\n",
      " $ form                        : num  0 0 0 0 0 0 0 0 0 0 ...\n",
      " $ fuck                        : num  0 0 0 0 0 0 0 0 0 0 ...\n",
      " $ general                     : num  0 0 0 0 0 0 0 0 0 0 ...\n",
      " $ geograph                    : num  0 0 0 0 0 0 0 0 0 0 ...\n",
      " $ german                      : num  0 0 0 0 0 0 0 0 0 0 ...\n",
      " $ gestur                      : num  0 0 0 0 0 0 0 0 0 0 ...\n",
      " $ get                         : num  0 0 0 0 0 0 0 0 0 0 ...\n",
      " $ govern                      : num  0 0 0 0 0 0 0 0 0 0 ...\n",
      " $ group                       : num  1 0 0 0 1 0 0 0 0 0 ...\n",
      " $ help                        : num  1 0 0 0 1 0 0 0 0 0 ...\n",
      " $ icon                        : num  0 0 0 0 0 0 0 0 0 0 ...\n",
      " $ idea                        : num  1 0 0 0 1 0 0 0 0 0 ...\n",
      " $ identifi                    : num  0 0 0 0 0 0 0 0 0 0 ...\n",
      " $ ideolog                     : num  0 0 0 0 0 0 0 0 0 0 ...\n",
      " $ import                      : num  1 0 0 0 1 0 0 0 0 0 ...\n",
      " $ imposs                      : num  0 0 0 0 0 0 0 0 0 0 ...\n",
      " $ includ                      : num  1 0 0 0 1 0 0 0 0 0 ...\n",
      " $ individu                    : num  0 0 0 0 0 0 0 0 0 0 ...\n",
      " $ intellig                    : num  0 0 0 0 0 0 0 0 0 0 ...\n",
      " $ interact                    : num  0 0 0 0 0 0 0 0 0 0 ...\n",
      " $ invent                      : num  0 0 0 0 0 0 0 0 0 0 ...\n",
      " $ just                        : num  0 0 0 0 0 0 0 0 0 0 ...\n",
      " $ know                        : num  0 0 0 0 0 0 0 0 0 0 ...\n",
      " $ langesnada                  : num  0 0 0 0 0 0 0 0 0 0 ...\n",
      " $ languagecroatian            : num  0 0 0 0 0 0 0 0 0 0 ...\n",
      " $ languageenglish             : num  0 0 0 0 0 0 0 0 0 0 ...\n",
      " $ languageserbian             : num  0 0 0 0 0 0 0 0 0 0 ...\n",
      " $ languagespanish             : num  0 0 0 0 0 0 0 0 0 0 ...\n",
      " $ learn                       : num  0 0 0 0 0 0 0 0 0 0 ...\n",
      " $ least                       : num  0 0 0 0 0 0 0 0 0 0 ...\n",
      " $ linguist                    : num  1 0 0 0 1 0 0 0 0 0 ...\n",
      " $ literari                    : num  0 0 0 0 0 0 0 0 0 0 ...\n",
      " $ logic                       : num  0 0 0 0 0 0 0 0 0 0 ...\n",
      " $ mainlinguist                : num  0 0 0 0 0 0 0 0 0 0 ...\n",
      " $ mainorigin                  : num  0 0 0 0 0 0 0 0 0 0 ...\n",
      " $ make                        : num  1 0 0 0 1 0 0 0 0 0 ...\n",
      " $ manipul                     : num  0 0 0 0 0 0 0 0 0 0 ...\n",
      " $ map                         : num  0 0 0 0 0 0 0 0 0 0 ...\n",
      " $ mean                        : num  0 0 0 0 0 0 0 0 0 0 ...\n",
      " $ million                     : num  0 0 0 0 0 0 0 0 0 0 ...\n",
      " $ must                        : num  0 0 0 0 0 0 0 0 0 0 ...\n",
      " $ name                        : num  0 0 0 0 0 0 0 0 0 0 ...\n",
      " $ note                        : num  0 0 0 0 0 0 0 0 0 0 ...\n",
      " $ noth                        : num  0 0 0 0 0 0 0 0 0 0 ...\n",
      " $ notion                      : num  0 0 0 0 0 0 0 0 0 0 ...\n",
      " $ number                      : num  1 0 0 0 1 0 0 0 0 0 ...\n",
      " $ object                      : num  0 0 0 0 0 0 0 0 0 0 ...\n",
      " $ onlin                       : num  0 0 0 0 0 0 0 0 0 0 ...\n",
      " $ onto                        : num  0 0 0 0 0 0 0 0 0 0 ...\n",
      " $ origin                      : num  0 0 0 0 0 0 0 0 0 0 ...\n",
      " $ parallel                    : num  0 0 0 0 0 0 0 0 0 0 ...\n",
      "  [list output truncated]\n"
     ]
    }
   ],
   "source": [
    "str(wordsAdded)"
   ]
  },
  {
   "cell_type": "code",
   "execution_count": 19,
   "metadata": {
    "collapsed": true
   },
   "outputs": [],
   "source": [
    "colnames(wordsAdded) = paste(\"A\",colnames(wordsAdded))"
   ]
  },
  {
   "cell_type": "code",
   "execution_count": 20,
   "metadata": {
    "collapsed": true
   },
   "outputs": [],
   "source": [
    "corpusRemoved = Corpus(VectorSource(wiki$Removed))"
   ]
  },
  {
   "cell_type": "code",
   "execution_count": 21,
   "metadata": {
    "collapsed": true
   },
   "outputs": [],
   "source": [
    "corpusRemoved = tm_map(corpusRemoved, removeWords, stopwords(\"english\"))"
   ]
  },
  {
   "cell_type": "code",
   "execution_count": 22,
   "metadata": {
    "collapsed": true
   },
   "outputs": [],
   "source": [
    "corpusRemoved = tm_map(corpusRemoved, stemDocument)"
   ]
  },
  {
   "cell_type": "code",
   "execution_count": 23,
   "metadata": {
    "collapsed": false
   },
   "outputs": [
    {
     "data": {
      "text/html": [
       "' talklanguagetalk'"
      ],
      "text/latex": [
       "' talklanguagetalk'"
      ],
      "text/markdown": [
       "' talklanguagetalk'"
      ],
      "text/plain": [
       "[1] \" talklanguagetalk\""
      ]
     },
     "execution_count": 23,
     "metadata": {},
     "output_type": "execute_result"
    }
   ],
   "source": [
    "corpusRemoved[[2]]$content"
   ]
  },
  {
   "cell_type": "code",
   "execution_count": 24,
   "metadata": {
    "collapsed": true
   },
   "outputs": [],
   "source": [
    "dtmRemoved = DocumentTermMatrix(corpusRemoved)"
   ]
  },
  {
   "cell_type": "code",
   "execution_count": 25,
   "metadata": {
    "collapsed": true
   },
   "outputs": [],
   "source": [
    "sparseRemoved = removeSparseTerms(dtmRemoved, 0.997)"
   ]
  },
  {
   "cell_type": "code",
   "execution_count": 26,
   "metadata": {
    "collapsed": true
   },
   "outputs": [],
   "source": [
    "wordsRemoved = as.data.frame(as.matrix(sparseRemoved))"
   ]
  },
  {
   "cell_type": "code",
   "execution_count": 27,
   "metadata": {
    "collapsed": false
   },
   "outputs": [
    {
     "name": "stdout",
     "output_type": "stream",
     "text": [
      "'data.frame':\t3876 obs. of  162 variables:\n",
      " $ 2000000                     : num  0 0 0 0 0 0 0 0 0 0 ...\n",
      " $ 40000                       : num  0 0 0 0 0 0 0 0 0 0 ...\n",
      " $ accord                      : num  0 0 0 0 0 0 0 0 0 0 ...\n",
      " $ actual                      : num  0 0 0 0 0 0 0 0 0 0 ...\n",
      " $ ago                         : num  0 0 0 0 0 0 0 0 0 0 ...\n",
      " $ agre                        : num  0 0 0 0 0 0 0 0 0 0 ...\n",
      " $ analog                      : num  0 0 0 0 0 0 0 0 0 0 ...\n",
      " $ appar                       : num  0 0 0 0 0 0 0 0 0 0 ...\n",
      " $ arbitrari                   : num  0 0 0 0 0 0 0 0 0 0 ...\n",
      " $ believ                      : num  0 0 0 0 0 0 0 0 0 0 ...\n",
      " $ bigger                      : num  0 0 0 0 0 0 0 0 0 0 ...\n",
      " $ biolog                      : num  0 0 0 0 0 0 0 0 0 0 ...\n",
      " $ biologyanalog               : num  0 0 0 0 0 0 0 0 0 0 ...\n",
      " $ bodi                        : num  0 0 0 1 0 0 0 0 0 0 ...\n",
      " $ call                        : num  0 0 0 1 0 0 0 0 0 0 ...\n",
      " $ care                        : num  0 0 0 0 0 0 0 0 0 0 ...\n",
      " $ clear                       : num  0 0 0 0 0 0 0 0 0 0 ...\n",
      " $ close                       : num  0 0 0 0 0 0 0 0 0 0 ...\n",
      " $ combin                      : num  0 0 0 0 0 0 0 0 0 0 ...\n",
      " $ communic                    : num  0 0 0 0 0 0 0 0 0 0 ...\n",
      " $ communiti                   : num  0 0 0 0 0 0 0 0 0 0 ...\n",
      " $ compar                      : num  0 0 0 0 0 0 0 0 0 0 ...\n",
      " $ complet                     : num  0 0 0 1 0 0 0 0 0 0 ...\n",
      " $ concept                     : num  0 0 0 1 0 0 0 0 0 0 ...\n",
      " $ contact                     : num  0 0 0 0 0 0 0 0 0 0 ...\n",
      " $ contain                     : num  0 0 0 0 0 0 0 0 0 0 ...\n",
      " $ correl                      : num  0 0 0 0 0 0 0 0 0 0 ...\n",
      " $ cours                       : num  0 0 0 0 0 0 0 0 0 0 ...\n",
      " $ creat                       : num  0 0 0 1 0 0 0 0 0 0 ...\n",
      " $ cromagnon                   : num  0 0 0 0 0 0 0 0 0 0 ...\n",
      " $ defin                       : num  0 0 0 0 0 0 0 0 0 0 ...\n",
      " $ deriv                       : num  0 0 0 0 0 0 0 0 0 0 ...\n",
      " $ develop                     : num  0 0 0 1 0 0 0 0 0 0 ...\n",
      " $ differ                      : num  0 0 0 1 0 0 0 0 0 0 ...\n",
      " $ direct                      : num  0 0 0 0 0 0 0 0 0 0 ...\n",
      " $ discuss                     : num  0 0 0 0 0 0 0 0 0 0 ...\n",
      " $ distinct                    : num  0 0 0 0 0 0 0 0 0 0 ...\n",
      " $ dutch                       : num  0 0 0 0 0 0 0 0 0 0 ...\n",
      " $ easytolearn                 : num  0 0 0 0 0 0 0 0 0 0 ...\n",
      " $ estim                       : num  0 0 0 0 0 0 0 0 0 0 ...\n",
      " $ exampl                      : num  0 0 0 0 0 0 0 0 0 0 ...\n",
      " $ experiment                  : num  0 0 0 0 0 0 0 0 0 0 ...\n",
      " $ express                     : num  0 0 0 0 0 0 0 0 0 0 ...\n",
      " $ famili                      : num  0 0 0 1 0 0 0 0 0 0 ...\n",
      " $ fantasi                     : num  0 0 0 0 0 0 0 0 0 0 ...\n",
      " $ featur                      : num  0 0 0 0 0 0 0 0 0 0 ...\n",
      " $ first                       : num  0 0 1 0 0 0 0 0 0 0 ...\n",
      " $ follow                      : num  0 0 0 0 0 0 0 0 0 0 ...\n",
      " $ forc                        : num  0 0 0 0 0 0 0 0 0 0 ...\n",
      " $ forti                       : num  0 0 0 0 0 0 0 0 0 0 ...\n",
      " $ fuck                        : num  0 0 0 0 0 0 0 0 0 0 ...\n",
      " $ general                     : num  0 0 0 0 0 0 0 0 0 0 ...\n",
      " $ geograph                    : num  0 0 0 0 0 0 0 0 0 0 ...\n",
      " $ german                      : num  0 0 0 0 0 0 0 0 0 0 ...\n",
      " $ gestur                      : num  0 0 0 0 0 0 0 0 0 0 ...\n",
      " $ get                         : num  0 0 0 0 0 0 0 0 0 0 ...\n",
      " $ given                       : num  0 0 0 0 0 0 0 0 0 0 ...\n",
      " $ govern                      : num  0 0 0 0 0 0 0 0 0 0 ...\n",
      " $ group                       : num  0 0 0 1 0 0 0 0 0 0 ...\n",
      " $ habili                      : num  0 0 0 0 0 0 0 0 0 0 ...\n",
      " $ homo                        : num  0 0 0 0 0 0 0 0 0 0 ...\n",
      " $ homolog                     : num  0 0 0 0 0 0 0 0 0 0 ...\n",
      " $ icon                        : num  0 0 0 0 0 0 0 0 0 0 ...\n",
      " $ idea                        : num  0 0 0 1 0 0 0 0 0 0 ...\n",
      " $ ideolog                     : num  0 0 0 0 0 0 0 0 0 0 ...\n",
      " $ imposs                      : num  0 0 0 0 0 0 0 0 0 0 ...\n",
      " $ includ                      : num  0 0 0 1 0 0 0 0 0 0 ...\n",
      " $ individu                    : num  0 0 0 0 0 0 0 0 0 0 ...\n",
      " $ intern                      : num  0 0 0 0 0 0 0 0 0 0 ...\n",
      " $ just                        : num  0 0 0 0 0 0 0 0 0 0 ...\n",
      " $ know                        : num  0 0 0 0 0 0 0 0 0 0 ...\n",
      " $ langesnada                  : num  0 0 0 0 0 0 0 0 0 0 ...\n",
      " $ languageenglish             : num  0 0 0 0 0 0 0 0 0 0 ...\n",
      " $ languagespanish             : num  0 0 0 0 0 0 0 0 0 0 ...\n",
      " $ learn                       : num  0 0 0 0 0 0 0 0 0 0 ...\n",
      " $ least                       : num  0 0 0 0 0 0 0 0 0 0 ...\n",
      " $ linguist                    : num  0 0 0 1 0 0 0 0 0 0 ...\n",
      " $ linguisticssent             : num  0 0 0 0 0 0 0 0 0 0 ...\n",
      " $ literari                    : num  0 0 0 0 0 0 0 0 0 0 ...\n",
      " $ logic                       : num  0 0 0 0 0 0 0 0 0 0 ...\n",
      " $ mainlinguist                : num  0 0 0 0 0 0 0 0 0 0 ...\n",
      " $ mainorigin                  : num  0 0 0 0 0 0 0 0 0 0 ...\n",
      " $ make                        : num  0 0 0 1 0 0 0 0 0 0 ...\n",
      " $ manipul                     : num  0 0 0 0 0 0 0 0 0 0 ...\n",
      " $ map                         : num  0 0 0 0 0 0 0 0 0 0 ...\n",
      " $ mean                        : num  0 0 0 0 0 0 0 0 0 0 ...\n",
      " $ method                      : num  0 0 0 0 0 0 0 0 0 0 ...\n",
      " $ million                     : num  0 0 0 0 0 0 0 0 0 0 ...\n",
      " $ must                        : num  0 0 0 0 0 0 0 0 0 0 ...\n",
      " $ name                        : num  0 0 0 0 0 0 0 0 0 0 ...\n",
      " $ nation                      : num  0 0 0 0 0 0 0 0 0 0 ...\n",
      " $ notion                      : num  0 0 0 0 0 0 0 0 0 0 ...\n",
      " $ object                      : num  0 0 0 0 0 0 0 0 0 0 ...\n",
      " $ onlin                       : num  0 0 0 0 0 0 0 0 0 0 ...\n",
      " $ onto                        : num  0 0 0 0 0 0 0 0 0 0 ...\n",
      " $ origin                      : num  0 0 0 0 0 0 0 0 0 0 ...\n",
      " $ parallel                    : num  0 0 0 0 0 0 0 0 0 0 ...\n",
      " $ part                        : num  0 0 0 0 1 0 0 0 0 0 ...\n",
      " $ pattern                     : num  0 0 0 1 0 0 0 0 0 0 ...\n",
      "  [list output truncated]\n"
     ]
    }
   ],
   "source": [
    "str(wordsRemoved)"
   ]
  },
  {
   "cell_type": "code",
   "execution_count": 28,
   "metadata": {
    "collapsed": true
   },
   "outputs": [],
   "source": [
    "colnames(wordsRemoved) = paste(\"R\", colnames(wordsRemoved))"
   ]
  },
  {
   "cell_type": "code",
   "execution_count": 29,
   "metadata": {
    "collapsed": true
   },
   "outputs": [],
   "source": [
    "wikiWords = cbind(wordsAdded,wordsRemoved)"
   ]
  },
  {
   "cell_type": "code",
   "execution_count": 30,
   "metadata": {
    "collapsed": false
   },
   "outputs": [
    {
     "name": "stdout",
     "output_type": "stream",
     "text": [
      "'data.frame':\t3876 obs. of  328 variables:\n",
      " $ A accord                      : num  0 0 0 0 0 0 0 0 0 0 ...\n",
      " $ A actual                      : num  0 0 0 0 0 0 0 0 0 0 ...\n",
      " $ A ago                         : num  0 0 0 0 0 0 0 0 0 0 ...\n",
      " $ A agre                        : num  0 0 0 0 0 0 0 0 0 0 ...\n",
      " $ A analog                      : num  0 0 0 0 0 0 0 0 0 0 ...\n",
      " $ A appar                       : num  0 0 0 0 0 0 0 0 0 0 ...\n",
      " $ A arbitrari                   : num  0 0 0 0 0 0 0 0 0 0 ...\n",
      " $ A believ                      : num  0 0 0 0 0 0 0 0 0 0 ...\n",
      " $ A biolog                      : num  0 0 0 0 0 0 0 0 0 0 ...\n",
      " $ A biologyanalog               : num  0 0 0 0 0 0 0 0 0 0 ...\n",
      " $ A bodi                        : num  1 0 0 0 1 0 0 0 0 0 ...\n",
      " $ A call                        : num  1 0 0 0 1 0 0 0 0 0 ...\n",
      " $ A clear                       : num  0 0 0 0 0 0 0 0 0 0 ...\n",
      " $ A close                       : num  0 0 0 0 0 0 0 0 0 0 ...\n",
      " $ A combin                      : num  0 0 0 0 0 0 0 0 0 0 ...\n",
      " $ A communic                    : num  0 0 0 0 0 0 0 0 0 0 ...\n",
      " $ A communiti                   : num  0 0 0 0 0 0 0 0 0 0 ...\n",
      " $ A compar                      : num  0 0 0 0 0 0 0 0 0 0 ...\n",
      " $ A complet                     : num  1 0 0 0 1 0 0 0 0 0 ...\n",
      " $ A concept                     : num  1 0 0 0 1 0 0 0 0 0 ...\n",
      " $ A consid                      : num  0 0 0 0 0 0 0 0 0 0 ...\n",
      " $ A contain                     : num  0 0 0 0 0 0 0 0 0 0 ...\n",
      " $ A converg                     : num  0 0 0 0 0 0 0 0 0 0 ...\n",
      " $ A correl                      : num  0 0 0 0 0 0 0 0 0 0 ...\n",
      " $ A cours                       : num  0 0 0 0 0 0 0 0 0 0 ...\n",
      " $ A creat                       : num  1 0 0 0 1 0 0 0 0 0 ...\n",
      " $ A croatian                    : num  0 0 0 0 0 0 0 0 0 0 ...\n",
      " $ A cultur                      : num  0 0 0 0 0 0 0 0 0 0 ...\n",
      " $ A defin                       : num  0 0 0 0 0 0 0 0 0 0 ...\n",
      " $ A deriv                       : num  0 0 0 0 0 0 0 0 0 0 ...\n",
      " $ A describ                     : num  0 0 0 0 0 0 0 0 0 0 ...\n",
      " $ A develop                     : num  1 0 0 0 1 0 0 0 0 0 ...\n",
      " $ A differ                      : num  1 0 0 0 1 0 0 0 0 0 ...\n",
      " $ A direct                      : num  0 0 0 0 0 0 0 0 0 0 ...\n",
      " $ A discuss                     : num  0 0 0 0 0 0 0 0 0 0 ...\n",
      " $ A distinct                    : num  0 0 0 0 0 0 0 0 0 0 ...\n",
      " $ A dutch                       : num  0 0 0 0 0 0 0 0 0 0 ...\n",
      " $ A estim                       : num  0 0 0 0 0 0 0 0 0 0 ...\n",
      " $ A exampl                      : num  0 0 0 0 0 0 0 0 0 0 ...\n",
      " $ A exist                       : num  0 0 0 0 0 0 0 0 0 0 ...\n",
      " $ A experiment                  : num  0 0 0 0 0 0 0 0 0 0 ...\n",
      " $ A express                     : num  0 0 0 0 0 0 0 0 0 0 ...\n",
      " $ A famili                      : num  1 0 0 0 1 0 0 0 0 0 ...\n",
      " $ A fantasi                     : num  0 0 0 0 0 0 0 0 0 0 ...\n",
      " $ A featur                      : num  0 0 0 0 0 0 0 0 0 0 ...\n",
      " $ A first                       : num  1 0 0 0 0 0 0 0 0 0 ...\n",
      " $ A follow                      : num  0 0 0 0 0 0 0 0 0 0 ...\n",
      " $ A forc                        : num  0 0 0 0 0 0 0 0 0 0 ...\n",
      " $ A form                        : num  0 0 0 0 0 0 0 0 0 0 ...\n",
      " $ A fuck                        : num  0 0 0 0 0 0 0 0 0 0 ...\n",
      " $ A general                     : num  0 0 0 0 0 0 0 0 0 0 ...\n",
      " $ A geograph                    : num  0 0 0 0 0 0 0 0 0 0 ...\n",
      " $ A german                      : num  0 0 0 0 0 0 0 0 0 0 ...\n",
      " $ A gestur                      : num  0 0 0 0 0 0 0 0 0 0 ...\n",
      " $ A get                         : num  0 0 0 0 0 0 0 0 0 0 ...\n",
      " $ A govern                      : num  0 0 0 0 0 0 0 0 0 0 ...\n",
      " $ A group                       : num  1 0 0 0 1 0 0 0 0 0 ...\n",
      " $ A help                        : num  1 0 0 0 1 0 0 0 0 0 ...\n",
      " $ A icon                        : num  0 0 0 0 0 0 0 0 0 0 ...\n",
      " $ A idea                        : num  1 0 0 0 1 0 0 0 0 0 ...\n",
      " $ A identifi                    : num  0 0 0 0 0 0 0 0 0 0 ...\n",
      " $ A ideolog                     : num  0 0 0 0 0 0 0 0 0 0 ...\n",
      " $ A import                      : num  1 0 0 0 1 0 0 0 0 0 ...\n",
      " $ A imposs                      : num  0 0 0 0 0 0 0 0 0 0 ...\n",
      " $ A includ                      : num  1 0 0 0 1 0 0 0 0 0 ...\n",
      " $ A individu                    : num  0 0 0 0 0 0 0 0 0 0 ...\n",
      " $ A intellig                    : num  0 0 0 0 0 0 0 0 0 0 ...\n",
      " $ A interact                    : num  0 0 0 0 0 0 0 0 0 0 ...\n",
      " $ A invent                      : num  0 0 0 0 0 0 0 0 0 0 ...\n",
      " $ A just                        : num  0 0 0 0 0 0 0 0 0 0 ...\n",
      " $ A know                        : num  0 0 0 0 0 0 0 0 0 0 ...\n",
      " $ A langesnada                  : num  0 0 0 0 0 0 0 0 0 0 ...\n",
      " $ A languagecroatian            : num  0 0 0 0 0 0 0 0 0 0 ...\n",
      " $ A languageenglish             : num  0 0 0 0 0 0 0 0 0 0 ...\n",
      " $ A languageserbian             : num  0 0 0 0 0 0 0 0 0 0 ...\n",
      " $ A languagespanish             : num  0 0 0 0 0 0 0 0 0 0 ...\n",
      " $ A learn                       : num  0 0 0 0 0 0 0 0 0 0 ...\n",
      " $ A least                       : num  0 0 0 0 0 0 0 0 0 0 ...\n",
      " $ A linguist                    : num  1 0 0 0 1 0 0 0 0 0 ...\n",
      " $ A literari                    : num  0 0 0 0 0 0 0 0 0 0 ...\n",
      " $ A logic                       : num  0 0 0 0 0 0 0 0 0 0 ...\n",
      " $ A mainlinguist                : num  0 0 0 0 0 0 0 0 0 0 ...\n",
      " $ A mainorigin                  : num  0 0 0 0 0 0 0 0 0 0 ...\n",
      " $ A make                        : num  1 0 0 0 1 0 0 0 0 0 ...\n",
      " $ A manipul                     : num  0 0 0 0 0 0 0 0 0 0 ...\n",
      " $ A map                         : num  0 0 0 0 0 0 0 0 0 0 ...\n",
      " $ A mean                        : num  0 0 0 0 0 0 0 0 0 0 ...\n",
      " $ A million                     : num  0 0 0 0 0 0 0 0 0 0 ...\n",
      " $ A must                        : num  0 0 0 0 0 0 0 0 0 0 ...\n",
      " $ A name                        : num  0 0 0 0 0 0 0 0 0 0 ...\n",
      " $ A note                        : num  0 0 0 0 0 0 0 0 0 0 ...\n",
      " $ A noth                        : num  0 0 0 0 0 0 0 0 0 0 ...\n",
      " $ A notion                      : num  0 0 0 0 0 0 0 0 0 0 ...\n",
      " $ A number                      : num  1 0 0 0 1 0 0 0 0 0 ...\n",
      " $ A object                      : num  0 0 0 0 0 0 0 0 0 0 ...\n",
      " $ A onlin                       : num  0 0 0 0 0 0 0 0 0 0 ...\n",
      " $ A onto                        : num  0 0 0 0 0 0 0 0 0 0 ...\n",
      " $ A origin                      : num  0 0 0 0 0 0 0 0 0 0 ...\n",
      " $ A parallel                    : num  0 0 0 0 0 0 0 0 0 0 ...\n",
      "  [list output truncated]\n"
     ]
    }
   ],
   "source": [
    "str(wikiWords)"
   ]
  },
  {
   "cell_type": "code",
   "execution_count": 31,
   "metadata": {
    "collapsed": true
   },
   "outputs": [],
   "source": [
    "wikiWords$Vandal = wiki$Vandal"
   ]
  },
  {
   "cell_type": "code",
   "execution_count": 32,
   "metadata": {
    "collapsed": true
   },
   "outputs": [],
   "source": [
    "library(caTools)"
   ]
  },
  {
   "cell_type": "code",
   "execution_count": 33,
   "metadata": {
    "collapsed": true
   },
   "outputs": [],
   "source": [
    "set.seed(123)\n",
    "split = sample.split(wikiWords$Vandal, SplitRatio = 0.7)"
   ]
  },
  {
   "cell_type": "code",
   "execution_count": 34,
   "metadata": {
    "collapsed": true
   },
   "outputs": [],
   "source": [
    "Train = subset(wikiWords, split == TRUE)\n",
    "Test = subset(wikiWords, split == FALSE)"
   ]
  },
  {
   "cell_type": "code",
   "execution_count": 35,
   "metadata": {
    "collapsed": false
   },
   "outputs": [
    {
     "data": {
      "text/plain": [
       "\n",
       "   0    1 \n",
       "1443 1270 "
      ]
     },
     "execution_count": 35,
     "metadata": {},
     "output_type": "execute_result"
    }
   ],
   "source": [
    "table(Train$Vandal)"
   ]
  },
  {
   "cell_type": "code",
   "execution_count": 36,
   "metadata": {
    "collapsed": false
   },
   "outputs": [
    {
     "data": {
      "text/html": [
       "0.531883523774419"
      ],
      "text/latex": [
       "0.531883523774419"
      ],
      "text/markdown": [
       "0.531883523774419"
      ],
      "text/plain": [
       "[1] 0.5318835"
      ]
     },
     "execution_count": 36,
     "metadata": {},
     "output_type": "execute_result"
    }
   ],
   "source": [
    "1443/(1443+1270)"
   ]
  },
  {
   "cell_type": "code",
   "execution_count": 37,
   "metadata": {
    "collapsed": false
   },
   "outputs": [
    {
     "name": "stderr",
     "output_type": "stream",
     "text": [
      "Warning message:\n",
      ": package ‘rpart.plot’ was built under R version 3.3.0"
     ]
    }
   ],
   "source": [
    "library(rpart)\n",
    "library(rpart.plot)"
   ]
  },
  {
   "cell_type": "code",
   "execution_count": 38,
   "metadata": {
    "collapsed": true
   },
   "outputs": [],
   "source": [
    "wikiCART = rpart(Vandal~., data = Train, method = \"class\")"
   ]
  },
  {
   "cell_type": "code",
   "execution_count": 39,
   "metadata": {
    "collapsed": true
   },
   "outputs": [],
   "source": [
    "CARTPredWiki = predict(wikiCART, newdata = Test, type = \"class\")"
   ]
  },
  {
   "cell_type": "code",
   "execution_count": 40,
   "metadata": {
    "collapsed": false
   },
   "outputs": [
    {
     "data": {
      "text/plain": [
       "   CARTPredWiki\n",
       "      0   1\n",
       "  0 618   0\n",
       "  1 533  12"
      ]
     },
     "execution_count": 40,
     "metadata": {},
     "output_type": "execute_result"
    }
   ],
   "source": [
    "t = table(Test$Vandal,CARTPredWiki)\n",
    "t"
   ]
  },
  {
   "cell_type": "code",
   "execution_count": 41,
   "metadata": {
    "collapsed": false
   },
   "outputs": [
    {
     "data": {
      "text/html": [
       "0.541702493551161"
      ],
      "text/latex": [
       "0.541702493551161"
      ],
      "text/markdown": [
       "0.541702493551161"
      ],
      "text/plain": [
       "[1] 0.5417025"
      ]
     },
     "execution_count": 41,
     "metadata": {},
     "output_type": "execute_result"
    }
   ],
   "source": [
    "sum(diag(t))/sum(t)"
   ]
  },
  {
   "cell_type": "code",
   "execution_count": 42,
   "metadata": {
    "collapsed": false
   },
   "outputs": [
    {
     "data": {
      "image/png": "[encoded data removed]",
      "image/svg+xml": [
       "<?xml version=\"1.0\" encoding=\"UTF-8\"?>\n",
       "<svg xmlns=\"http://www.w3.org/2000/svg\" xmlns:xlink=\"http://www.w3.org/1999/xlink\" width=\"504pt\" height=\"504pt\" viewBox=\"0 0 504 504\" version=\"1.1\">\n",
       "<defs>\n",
       "<g>\n",
       "<symbol overflow=\"visible\" id=\"glyph0-0\">\n",
       "<path style=\"stroke:none;\" d=\"\"/>\n",
       "</symbol>\n",
       "<symbol overflow=\"visible\" id=\"glyph0-1\">\n",
       "<path style=\"stroke:none;\" d=\"M 2.765625 -3.46875 L 4.828125 -3.46875 C 5.609375 -3.46875 5.9375 -3.15625 5.9375 -2.421875 C 5.9375 -2.359375 5.9375 -2.234375 5.921875 -2.078125 C 5.921875 -1.84375 5.921875 -1.625 5.921875 -1.5 C 5.921875 -0.6875 5.96875 -0.421875 6.1875 0 L 8.125 0 L 8.125 -0.328125 C 7.84375 -0.484375 7.734375 -0.65625 7.734375 -1.046875 C 7.6875 -3.625 7.640625 -3.75 6.53125 -4.21875 C 7.515625 -4.609375 8 -5.3125 8 -6.390625 C 8 -7.078125 7.765625 -7.71875 7.34375 -8.140625 C 6.953125 -8.5625 6.390625 -8.75 5.65625 -8.75 L 0.953125 -8.75 L 0.953125 0 L 2.765625 0 Z M 2.765625 -4.96875 L 2.765625 -7.25 L 4.9375 -7.25 C 5.453125 -7.25 5.65625 -7.203125 5.875 -7.015625 C 6.09375 -6.84375 6.203125 -6.546875 6.203125 -6.125 C 6.203125 -5.71875 6.078125 -5.375 5.875 -5.203125 C 5.6875 -5.03125 5.453125 -4.96875 4.9375 -4.96875 Z \"/>\n",
       "</symbol>\n",
       "<symbol overflow=\"visible\" id=\"glyph0-2\">\n",
       "<path style=\"stroke:none;\" d=\"\"/>\n",
       "</symbol>\n",
       "<symbol overflow=\"visible\" id=\"glyph0-3\">\n",
       "<path style=\"stroke:none;\" d=\"M 3.609375 -6.34375 L 2.671875 -6.34375 L 2.671875 -8.09375 L 1 -8.09375 L 1 -6.34375 L 0.171875 -6.34375 L 0.171875 -5.234375 L 1 -5.234375 L 1 -1.25 C 1 -0.234375 1.53125 0.28125 2.640625 0.28125 C 3.015625 0.28125 3.3125 0.234375 3.609375 0.140625 L 3.609375 -1.03125 C 3.4375 -1.015625 3.34375 -1 3.234375 -1 C 2.78125 -1 2.671875 -1.125 2.671875 -1.703125 L 2.671875 -5.234375 L 3.609375 -5.234375 Z \"/>\n",
       "</symbol>\n",
       "<symbol overflow=\"visible\" id=\"glyph0-4\">\n",
       "<path style=\"stroke:none;\" d=\"M 0.796875 -8.75 L 0.796875 0 L 2.484375 0 L 2.484375 -3.890625 C 2.484375 -4.625 3.03125 -5.15625 3.78125 -5.15625 C 4.140625 -5.15625 4.421875 -5.03125 4.625 -4.765625 C 4.765625 -4.546875 4.8125 -4.375 4.8125 -3.953125 L 4.8125 0 L 6.484375 0 L 6.484375 -4.34375 C 6.484375 -5.140625 6.28125 -5.71875 5.828125 -6.09375 C 5.453125 -6.40625 4.921875 -6.59375 4.375 -6.59375 C 3.546875 -6.59375 2.953125 -6.25 2.484375 -5.546875 L 2.484375 -8.75 Z \"/>\n",
       "</symbol>\n",
       "<symbol overflow=\"visible\" id=\"glyph0-5\">\n",
       "<path style=\"stroke:none;\" d=\"M 3.609375 -6.59375 C 1.625 -6.59375 0.421875 -5.28125 0.421875 -3.15625 C 0.421875 -1.015625 1.625 0.28125 3.625 0.28125 C 5.59375 0.28125 6.828125 -1.03125 6.828125 -3.109375 C 6.828125 -5.296875 5.640625 -6.59375 3.609375 -6.59375 Z M 3.625 -5.234375 C 4.546875 -5.234375 5.140625 -4.40625 5.140625 -3.125 C 5.140625 -1.921875 4.53125 -1.078125 3.625 -1.078125 C 2.71875 -1.078125 2.09375 -1.921875 2.09375 -3.15625 C 2.09375 -4.390625 2.71875 -5.234375 3.625 -5.234375 Z \"/>\n",
       "</symbol>\n",
       "<symbol overflow=\"visible\" id=\"glyph0-6\">\n",
       "<path style=\"stroke:none;\" d=\"M 6.484375 0 L 6.484375 -6.484375 L 4.8125 -6.484375 L 4.8125 -2.421875 C 4.8125 -1.65625 4.265625 -1.15625 3.453125 -1.15625 C 2.734375 -1.15625 2.375 -1.53125 2.375 -2.3125 L 2.375 -6.484375 L 0.703125 -6.484375 L 0.703125 -1.96875 C 0.703125 -0.546875 1.484375 0.28125 2.875 0.28125 C 3.75 0.28125 4.328125 -0.046875 4.8125 -0.765625 L 4.8125 0 Z \"/>\n",
       "</symbol>\n",
       "<symbol overflow=\"visible\" id=\"glyph0-7\">\n",
       "<path style=\"stroke:none;\" d=\"M 6.0625 -4.390625 C 6.03125 -5.765625 4.984375 -6.59375 3.234375 -6.59375 C 1.59375 -6.59375 0.578125 -5.765625 0.578125 -4.421875 C 0.578125 -4 0.703125 -3.625 0.9375 -3.375 C 1.15625 -3.140625 1.375 -3.03125 1.984375 -2.828125 L 4 -2.203125 C 4.421875 -2.078125 4.5625 -1.9375 4.5625 -1.6875 C 4.5625 -1.28125 4.09375 -1.046875 3.3125 -1.046875 C 2.875 -1.046875 2.53125 -1.125 2.3125 -1.265625 C 2.140625 -1.40625 2.0625 -1.53125 1.984375 -1.890625 L 0.34375 -1.890625 C 0.390625 -0.46875 1.4375 0.28125 3.40625 0.28125 C 4.3125 0.28125 4.984375 0.078125 5.46875 -0.296875 C 5.953125 -0.6875 6.234375 -1.28125 6.234375 -1.921875 C 6.234375 -2.765625 5.8125 -3.296875 4.96875 -3.546875 L 2.84375 -4.15625 C 2.375 -4.3125 2.25 -4.40625 2.25 -4.671875 C 2.25 -5.03125 2.640625 -5.265625 3.234375 -5.265625 C 4.03125 -5.265625 4.421875 -4.984375 4.4375 -4.390625 Z \"/>\n",
       "</symbol>\n",
       "<symbol overflow=\"visible\" id=\"glyph0-8\">\n",
       "<path style=\"stroke:none;\" d=\"M 6.28125 -0.203125 C 5.984375 -0.484375 5.90625 -0.65625 5.90625 -1 L 5.90625 -4.59375 C 5.90625 -5.921875 5 -6.59375 3.25 -6.59375 C 1.5 -6.59375 0.59375 -5.84375 0.484375 -4.34375 L 2.09375 -4.34375 C 2.1875 -5.015625 2.453125 -5.234375 3.28125 -5.234375 C 3.9375 -5.234375 4.265625 -5.015625 4.265625 -4.578125 C 4.265625 -4.375 4.15625 -4.171875 3.96875 -4.078125 C 3.75 -3.953125 3.75 -3.953125 2.921875 -3.828125 L 2.25 -3.703125 C 0.953125 -3.484375 0.34375 -2.828125 0.34375 -1.671875 C 0.34375 -1.109375 0.484375 -0.65625 0.796875 -0.34375 C 1.15625 0.046875 1.734375 0.28125 2.296875 0.28125 C 3.03125 0.28125 3.6875 -0.03125 4.265625 -0.640625 C 4.265625 -0.3125 4.3125 -0.1875 4.46875 0 L 6.28125 0 Z M 4.265625 -2.609375 C 4.265625 -1.625 3.78125 -1.078125 2.921875 -1.078125 C 2.359375 -1.078125 2.015625 -1.375 2.015625 -1.859375 C 2.015625 -2.359375 2.28125 -2.609375 2.96875 -2.75 L 3.546875 -2.859375 C 4 -2.9375 4.0625 -2.96875 4.265625 -3.0625 Z \"/>\n",
       "</symbol>\n",
       "<symbol overflow=\"visible\" id=\"glyph0-9\">\n",
       "<path style=\"stroke:none;\" d=\"M 6.34375 -5.6875 L 0.484375 -3.515625 L 0.484375 -2.0625 L 6.34375 0.125 L 6.34375 -1.21875 L 1.765625 -2.78125 L 6.34375 -4.375 Z \"/>\n",
       "</symbol>\n",
       "<symbol overflow=\"visible\" id=\"glyph0-10\">\n",
       "<path style=\"stroke:none;\" d=\"M 3.28125 -8.6875 C 2.359375 -8.6875 1.578125 -8.296875 1.0625 -7.59375 C 0.578125 -6.9375 0.34375 -5.84375 0.34375 -4.203125 C 0.34375 -2.703125 0.546875 -1.625 0.953125 -0.984375 C 1.453125 -0.1875 2.28125 0.28125 3.28125 0.28125 C 4.203125 0.28125 4.953125 -0.09375 5.484375 -0.8125 C 5.96875 -1.46875 6.203125 -2.5625 6.203125 -4.15625 C 6.203125 -5.71875 6.015625 -6.765625 5.609375 -7.421875 C 5.09375 -8.25 4.265625 -8.6875 3.28125 -8.6875 Z M 3.28125 -7.328125 C 3.703125 -7.328125 4.0625 -7.09375 4.265625 -6.640625 C 4.421875 -6.28125 4.53125 -5.359375 4.53125 -4.1875 C 4.53125 -3.234375 4.421875 -2.28125 4.3125 -1.9375 C 4.109375 -1.4375 3.75 -1.15625 3.28125 -1.15625 C 2.828125 -1.15625 2.5 -1.390625 2.296875 -1.828125 C 2.125 -2.1875 2.03125 -3.078125 2.03125 -4.21875 C 2.03125 -5.203125 2.125 -6.1875 2.25 -6.53125 C 2.4375 -7.046875 2.796875 -7.328125 3.28125 -7.328125 Z \"/>\n",
       "</symbol>\n",
       "<symbol overflow=\"visible\" id=\"glyph0-11\">\n",
       "<path style=\"stroke:none;\" d=\"M 2.5625 -1.75 L 0.765625 -1.75 L 0.765625 0 L 2.5625 0 Z \"/>\n",
       "</symbol>\n",
       "<symbol overflow=\"visible\" id=\"glyph0-12\">\n",
       "<path style=\"stroke:none;\" d=\"M 5.875 -8.515625 L 1.3125 -8.515625 L 0.5625 -3.765625 L 2.078125 -3.765625 C 2.25 -4.1875 2.640625 -4.421875 3.15625 -4.421875 C 4.015625 -4.421875 4.53125 -3.796875 4.53125 -2.765625 C 4.53125 -1.78125 4 -1.15625 3.15625 -1.15625 C 2.421875 -1.15625 2.015625 -1.53125 1.984375 -2.21875 L 0.328125 -2.21875 C 0.34375 -0.734375 1.46875 0.28125 3.125 0.28125 C 4.953125 0.28125 6.203125 -0.96875 6.203125 -2.8125 C 6.203125 -4.546875 5.125 -5.75 3.546875 -5.75 C 2.984375 -5.75 2.5625 -5.609375 2.078125 -5.234375 L 2.359375 -7.015625 L 5.875 -7.015625 Z \"/>\n",
       "</symbol>\n",
       "<symbol overflow=\"visible\" id=\"glyph0-13\">\n",
       "<path style=\"stroke:none;\" d=\"M 0.75 -6.484375 L 0.75 0 L 2.4375 0 L 2.4375 -3.4375 C 2.4375 -4.421875 2.921875 -4.921875 3.90625 -4.921875 C 4.09375 -4.921875 4.21875 -4.90625 4.4375 -4.875 L 4.4375 -6.578125 C 4.34375 -6.59375 4.28125 -6.59375 4.234375 -6.59375 C 3.46875 -6.59375 2.796875 -6.078125 2.4375 -5.203125 L 2.4375 -6.484375 Z \"/>\n",
       "</symbol>\n",
       "<symbol overflow=\"visible\" id=\"glyph0-14\">\n",
       "<path style=\"stroke:none;\" d=\"M 0.703125 -8.75 L 0.703125 0 L 2.390625 0 L 2.390625 -0.65625 C 2.796875 -0.03125 3.359375 0.28125 4.171875 0.28125 C 5.71875 0.28125 6.90625 -1.203125 6.90625 -3.15625 C 6.90625 -4.03125 6.640625 -4.921875 6.203125 -5.546875 C 5.765625 -6.1875 4.96875 -6.59375 4.171875 -6.59375 C 3.375 -6.59375 2.796875 -6.28125 2.390625 -5.640625 L 2.390625 -8.75 Z M 3.796875 -5.1875 C 4.625 -5.1875 5.21875 -4.34375 5.21875 -3.140625 C 5.21875 -1.96875 4.625 -1.125 3.796875 -1.125 C 2.953125 -1.125 2.390625 -1.9375 2.390625 -3.1875 C 2.390625 -4.359375 2.96875 -5.1875 3.796875 -5.1875 Z \"/>\n",
       "</symbol>\n",
       "<symbol overflow=\"visible\" id=\"glyph0-15\">\n",
       "<path style=\"stroke:none;\" d=\"M 2.484375 -6.484375 L 0.796875 -6.484375 L 0.796875 0 L 2.484375 0 Z M 2.484375 -8.75 L 0.796875 -8.75 L 0.796875 -7.25 L 2.484375 -7.25 Z \"/>\n",
       "</symbol>\n",
       "<symbol overflow=\"visible\" id=\"glyph1-0\">\n",
       "<path style=\"stroke:none;\" d=\"\"/>\n",
       "</symbol>\n",
       "<symbol overflow=\"visible\" id=\"glyph1-1\">\n",
       "<path style=\"stroke:none;\" d=\"M 3.296875 -8.515625 C 2.515625 -8.515625 1.78125 -8.15625 1.34375 -7.578125 C 0.796875 -6.828125 0.515625 -5.6875 0.515625 -4.109375 C 0.515625 -1.25 1.46875 0.28125 3.296875 0.28125 C 5.09375 0.28125 6.078125 -1.25 6.078125 -4.046875 C 6.078125 -5.703125 5.8125 -6.796875 5.25 -7.578125 C 4.8125 -8.171875 4.109375 -8.515625 3.296875 -8.515625 Z M 3.296875 -7.578125 C 4.4375 -7.578125 5 -6.421875 5 -4.140625 C 5 -1.734375 4.453125 -0.59375 3.28125 -0.59375 C 2.15625 -0.59375 1.59375 -1.78125 1.59375 -4.109375 C 1.59375 -6.4375 2.15625 -7.578125 3.296875 -7.578125 Z \"/>\n",
       "</symbol>\n",
       "<symbol overflow=\"visible\" id=\"glyph1-2\">\n",
       "<path style=\"stroke:none;\" d=\"M 3.109375 -6.0625 L 3.109375 0 L 4.15625 0 L 4.15625 -8.515625 L 3.46875 -8.515625 C 3.09375 -7.203125 2.859375 -7.015625 1.21875 -6.8125 L 1.21875 -6.0625 Z \"/>\n",
       "</symbol>\n",
       "<symbol overflow=\"visible\" id=\"glyph2-0\">\n",
       "<path style=\"stroke:none;\" d=\"\"/>\n",
       "</symbol>\n",
       "<symbol overflow=\"visible\" id=\"glyph2-1\">\n",
       "<path style=\"stroke:none;\" d=\"M 4.8125 -5.03125 L 2.578125 -1.125 L 2.125 -5.03125 L 1.265625 -5.03125 L 1.921875 0.03125 L 1.421875 0.8125 C 1.15625 1.21875 1 1.3125 0.65625 1.3125 C 0.5625 1.3125 0.484375 1.3125 0.234375 1.28125 L 0.078125 2 C 0.25 2.078125 0.359375 2.09375 0.546875 2.09375 C 1.234375 2.09375 1.71875 1.765625 2.125 1.0625 L 5.65625 -5.03125 Z \"/>\n",
       "</symbol>\n",
       "<symbol overflow=\"visible\" id=\"glyph2-2\">\n",
       "<path style=\"stroke:none;\" d=\"M 5.40625 -2.25 L 5.4375 -2.40625 C 5.515625 -2.875 5.5625 -3.265625 5.5625 -3.53125 C 5.5625 -4.453125 4.765625 -5.171875 3.734375 -5.171875 C 2.890625 -5.171875 2.09375 -4.78125 1.609375 -4.140625 C 1.15625 -3.53125 0.8125 -2.4375 0.8125 -1.65625 C 0.8125 -1.140625 1.03125 -0.609375 1.40625 -0.265625 C 1.734375 0.0625 2.15625 0.21875 2.703125 0.21875 C 3.859375 0.21875 4.84375 -0.484375 5.140625 -1.53125 L 4.34375 -1.53125 C 3.984375 -0.859375 3.484375 -0.515625 2.84375 -0.515625 C 2.078125 -0.515625 1.65625 -0.984375 1.65625 -1.796875 C 1.65625 -2 1.65625 -2.09375 1.703125 -2.25 Z M 1.875 -2.9375 C 2.125 -3.8125 2.828125 -4.4375 3.609375 -4.4375 C 4.28125 -4.4375 4.71875 -3.96875 4.71875 -3.25 C 4.71875 -3.15625 4.703125 -3.09375 4.6875 -2.9375 Z \"/>\n",
       "</symbol>\n",
       "<symbol overflow=\"visible\" id=\"glyph2-3\">\n",
       "<path style=\"stroke:none;\" d=\"M 4.9375 -3.625 C 4.984375 -3.828125 4.984375 -3.921875 4.984375 -4.03125 C 4.984375 -4.703125 4.34375 -5.171875 3.421875 -5.171875 C 2.734375 -5.171875 2.15625 -4.96875 1.75 -4.59375 C 1.40625 -4.265625 1.1875 -3.765625 1.1875 -3.3125 C 1.1875 -2.71875 1.515625 -2.453125 2.5 -2.1875 L 3.21875 -2 C 3.53125 -1.921875 3.671875 -1.859375 3.765625 -1.75 C 3.828125 -1.671875 3.890625 -1.53125 3.890625 -1.4375 C 3.890625 -1.265625 3.734375 -0.96875 3.578125 -0.84375 C 3.34375 -0.640625 2.921875 -0.515625 2.515625 -0.515625 C 1.859375 -0.515625 1.484375 -0.78125 1.484375 -1.25 C 1.484375 -1.3125 1.484375 -1.40625 1.5 -1.5 L 0.640625 -1.5 C 0.59375 -1.28125 0.578125 -1.15625 0.578125 -1 C 0.578125 -0.234375 1.25 0.21875 2.375 0.21875 C 3.796875 0.21875 4.734375 -0.515625 4.734375 -1.65625 C 4.734375 -2.25 4.40625 -2.546875 3.5625 -2.765625 L 2.84375 -2.9375 C 2.296875 -3.078125 2.03125 -3.265625 2.03125 -3.515625 C 2.03125 -3.71875 2.140625 -3.953125 2.3125 -4.109375 C 2.546875 -4.34375 2.828125 -4.4375 3.25 -4.4375 C 3.8125 -4.4375 4.140625 -4.21875 4.140625 -3.84375 C 4.140625 -3.765625 4.140625 -3.703125 4.125 -3.625 Z \"/>\n",
       "</symbol>\n",
       "<symbol overflow=\"visible\" id=\"glyph2-4\">\n",
       "<path style=\"stroke:none;\" d=\"M 1.734375 -5.03125 L 0.671875 0 L 1.484375 0 L 2.0625 -2.765625 C 2.296875 -3.828125 2.96875 -4.484375 3.828125 -4.484375 C 4.3125 -4.484375 4.65625 -4.140625 4.65625 -3.703125 C 4.65625 -3.640625 4.640625 -3.5 4.609375 -3.34375 L 3.890625 0 L 4.703125 0 L 5.46875 -3.609375 C 5.5 -3.734375 5.5 -3.84375 5.5 -3.96875 C 5.5 -4.703125 5 -5.171875 4.203125 -5.171875 C 3.46875 -5.171875 2.84375 -4.90625 2.34375 -4.40625 L 2.46875 -5.03125 Z \"/>\n",
       "</symbol>\n",
       "<symbol overflow=\"visible\" id=\"glyph2-5\">\n",
       "<path style=\"stroke:none;\" d=\"M 3.6875 -5.171875 C 2.796875 -5.171875 2 -4.765625 1.515625 -4.0625 C 1.078125 -3.4375 0.765625 -2.390625 0.765625 -1.578125 C 0.765625 -0.515625 1.5 0.21875 2.578125 0.21875 C 3.5 0.21875 4.234375 -0.15625 4.765625 -0.890625 C 5.203125 -1.5 5.53125 -2.546875 5.53125 -3.375 C 5.53125 -3.890625 5.328125 -4.375 5 -4.703125 C 4.671875 -5.015625 4.234375 -5.171875 3.6875 -5.171875 Z M 3.5625 -4.4375 C 4.265625 -4.4375 4.6875 -3.96875 4.6875 -3.1875 C 4.6875 -2.625 4.515625 -2 4.265625 -1.53125 C 3.890625 -0.859375 3.375 -0.515625 2.71875 -0.515625 C 2.03125 -0.515625 1.609375 -1 1.609375 -1.765625 C 1.609375 -2.3125 1.78125 -2.9375 2.03125 -3.421875 C 2.390625 -4.078125 2.921875 -4.4375 3.5625 -4.4375 Z \"/>\n",
       "</symbol>\n",
       "</g>\n",
       "</defs>\n",
       "<g id=\"surface31\">\n",
       "<rect x=\"0\" y=\"0\" width=\"504\" height=\"504\" style=\"fill:rgb(100%,100%,100%);fill-opacity:1;stroke:none;\"/>\n",
       "<path style=\"fill:none;stroke-width:0.75;stroke-linecap:butt;stroke-linejoin:round;stroke:rgb(0%,0%,0%);stroke-opacity:1;stroke-miterlimit:10;\" d=\"M 217.628906 252.042969 L 268.039062 193.269531 L 280.644531 193.269531 \"/>\n",
       "<path style=\"fill:none;stroke-width:0.75;stroke-linecap:butt;stroke-linejoin:round;stroke:rgb(0%,0%,0%);stroke-opacity:1;stroke-miterlimit:10;\" d=\"M 160.339844 300.753906 L 206.171875 253.472656 L 217.628906 253.472656 \"/>\n",
       "<path style=\"fill:none;stroke-width:0.75;stroke-linecap:butt;stroke-linejoin:round;stroke:rgb(0%,0%,0%);stroke-opacity:1;stroke-miterlimit:10;\" d=\"M 274.914062 300.753906 L 229.085938 253.472656 L 217.628906 253.472656 \"/>\n",
       "<path style=\"fill:none;stroke-width:0.75;stroke-linecap:butt;stroke-linejoin:round;stroke:rgb(0%,0%,0%);stroke-opacity:1;stroke-miterlimit:10;\" d=\"M 343.660156 240.550781 L 293.246094 193.269531 L 280.644531 193.269531 \"/>\n",
       "<path style=\" stroke:none;fill-rule:nonzero;fill:rgb(100%,100%,100%);fill-opacity:1;\" d=\"M 234.796875 197.578125 L 234.796875 180.34375 L 326.488281 180.34375 L 326.488281 197.578125 Z \"/>\n",
       "<path style=\" stroke:none;fill-rule:nonzero;fill:rgb(100%,100%,100%);fill-opacity:1;\" d=\"M 176.113281 257.78125 L 176.113281 240.550781 L 259.140625 240.550781 L 259.140625 257.78125 Z \"/>\n",
       "<g style=\"fill:rgb(0%,0%,0%);fill-opacity:1;\">\n",
       "  <use xlink:href=\"#glyph0-1\" x=\"239.644531\" y=\"192.708984\"/>\n",
       "  <use xlink:href=\"#glyph0-2\" x=\"248.308594\" y=\"192.708984\"/>\n",
       "  <use xlink:href=\"#glyph0-3\" x=\"251.644531\" y=\"192.708984\"/>\n",
       "  <use xlink:href=\"#glyph0-4\" x=\"255.640625\" y=\"192.708984\"/>\n",
       "  <use xlink:href=\"#glyph0-5\" x=\"262.972656\" y=\"192.708984\"/>\n",
       "  <use xlink:href=\"#glyph0-6\" x=\"270.304688\" y=\"192.708984\"/>\n",
       "  <use xlink:href=\"#glyph0-7\" x=\"277.636719\" y=\"192.708984\"/>\n",
       "  <use xlink:href=\"#glyph0-8\" x=\"284.308594\" y=\"192.708984\"/>\n",
       "  <use xlink:href=\"#glyph0-2\" x=\"290.980469\" y=\"192.708984\"/>\n",
       "  <use xlink:href=\"#glyph0-9\" x=\"294.316406\" y=\"192.708984\"/>\n",
       "  <use xlink:href=\"#glyph0-2\" x=\"301.324219\" y=\"192.708984\"/>\n",
       "  <use xlink:href=\"#glyph0-10\" x=\"304.660156\" y=\"192.708984\"/>\n",
       "  <use xlink:href=\"#glyph0-11\" x=\"311.332031\" y=\"192.708984\"/>\n",
       "  <use xlink:href=\"#glyph0-12\" x=\"314.667969\" y=\"192.708984\"/>\n",
       "</g>\n",
       "<g style=\"fill:rgb(0%,0%,0%);fill-opacity:1;\">\n",
       "  <use xlink:href=\"#glyph0-1\" x=\"180.628906\" y=\"252.912109\"/>\n",
       "  <use xlink:href=\"#glyph0-2\" x=\"189.292969\" y=\"252.912109\"/>\n",
       "  <use xlink:href=\"#glyph0-8\" x=\"192.628906\" y=\"252.912109\"/>\n",
       "  <use xlink:href=\"#glyph0-13\" x=\"199.300781\" y=\"252.912109\"/>\n",
       "  <use xlink:href=\"#glyph0-14\" x=\"203.96875\" y=\"252.912109\"/>\n",
       "  <use xlink:href=\"#glyph0-15\" x=\"211.300781\" y=\"252.912109\"/>\n",
       "  <use xlink:href=\"#glyph0-3\" x=\"214.636719\" y=\"252.912109\"/>\n",
       "  <use xlink:href=\"#glyph0-13\" x=\"218.632812\" y=\"252.912109\"/>\n",
       "  <use xlink:href=\"#glyph0-2\" x=\"223.300781\" y=\"252.912109\"/>\n",
       "  <use xlink:href=\"#glyph0-9\" x=\"226.636719\" y=\"252.912109\"/>\n",
       "  <use xlink:href=\"#glyph0-2\" x=\"233.644531\" y=\"252.912109\"/>\n",
       "  <use xlink:href=\"#glyph0-10\" x=\"236.980469\" y=\"252.912109\"/>\n",
       "  <use xlink:href=\"#glyph0-11\" x=\"243.652344\" y=\"252.912109\"/>\n",
       "  <use xlink:href=\"#glyph0-12\" x=\"246.988281\" y=\"252.912109\"/>\n",
       "</g>\n",
       "<path style=\"fill-rule:nonzero;fill:rgb(100%,100%,100%);fill-opacity:1;stroke-width:0.75;stroke-linecap:round;stroke-linejoin:round;stroke:rgb(0%,0%,0%);stroke-opacity:1;stroke-miterlimit:10;\" d=\"M 152.007812 306.230469 L 152.289062 304.8125 L 153.125 303.492188 L 154.449219 302.359375 L 156.171875 301.488281 L 158.183594 300.941406 L 160.339844 300.753906 L 162.496094 300.941406 L 164.507812 301.488281 L 166.234375 302.359375 L 167.558594 303.492188 L 168.390625 304.8125 L 168.675781 306.230469 L 168.675781 312.507812 L 168.390625 313.925781 L 167.558594 315.246094 L 166.234375 316.382812 L 164.507812 317.253906 L 162.496094 317.800781 L 160.339844 317.984375 L 158.183594 317.800781 L 156.171875 317.253906 L 154.449219 316.382812 L 153.125 315.246094 L 152.289062 313.925781 L 152.007812 312.507812 Z \"/>\n",
       "<path style=\"fill-rule:nonzero;fill:rgb(100%,100%,100%);fill-opacity:1;stroke-width:0.75;stroke-linecap:round;stroke-linejoin:round;stroke:rgb(0%,0%,0%);stroke-opacity:1;stroke-miterlimit:10;\" d=\"M 266.582031 306.230469 L 266.863281 304.8125 L 267.699219 303.492188 L 269.023438 302.359375 L 270.746094 301.488281 L 272.757812 300.941406 L 274.914062 300.753906 L 277.070312 300.941406 L 279.082031 301.488281 L 280.808594 302.359375 L 282.132812 303.492188 L 282.964844 304.8125 L 283.25 306.230469 L 283.25 312.507812 L 282.964844 313.925781 L 282.132812 315.246094 L 280.808594 316.382812 L 279.082031 317.253906 L 277.070312 317.800781 L 274.914062 317.984375 L 272.757812 317.800781 L 270.746094 317.253906 L 269.023438 316.382812 L 267.699219 315.246094 L 266.863281 313.925781 L 266.582031 312.507812 Z \"/>\n",
       "<path style=\"fill-rule:nonzero;fill:rgb(100%,100%,100%);fill-opacity:1;stroke-width:0.75;stroke-linecap:round;stroke-linejoin:round;stroke:rgb(0%,0%,0%);stroke-opacity:1;stroke-miterlimit:10;\" d=\"M 335.324219 246.027344 L 335.609375 244.609375 L 336.441406 243.289062 L 337.765625 242.152344 L 339.492188 241.285156 L 341.503906 240.734375 L 343.660156 240.550781 L 345.816406 240.734375 L 347.828125 241.285156 L 349.550781 242.152344 L 350.875 243.289062 L 351.710938 244.609375 L 351.992188 246.027344 L 351.992188 252.304688 L 351.710938 253.722656 L 350.875 255.042969 L 349.550781 256.175781 L 347.828125 257.046875 L 345.816406 257.59375 L 343.660156 257.78125 L 341.503906 257.59375 L 339.492188 257.046875 L 337.765625 256.175781 L 336.441406 255.042969 L 335.609375 253.722656 L 335.324219 252.304688 Z \"/>\n",
       "<g style=\"fill:rgb(0%,0%,0%);fill-opacity:1;\">\n",
       "  <use xlink:href=\"#glyph1-1\" x=\"156.839844\" y=\"312.806641\"/>\n",
       "</g>\n",
       "<g style=\"fill:rgb(0%,0%,0%);fill-opacity:1;\">\n",
       "  <use xlink:href=\"#glyph1-2\" x=\"271.414062\" y=\"313.306641\"/>\n",
       "</g>\n",
       "<g style=\"fill:rgb(0%,0%,0%);fill-opacity:1;\">\n",
       "  <use xlink:href=\"#glyph1-2\" x=\"340.160156\" y=\"253.099609\"/>\n",
       "</g>\n",
       "<path style=\"fill-rule:nonzero;fill:rgb(100%,100%,100%);fill-opacity:1;stroke-width:0.75;stroke-linecap:round;stroke-linejoin:round;stroke:rgb(0%,0%,0%);stroke-opacity:1;stroke-miterlimit:10;\" d=\"M 207.148438 188.421875 L 207.203125 188.003906 L 207.367188 187.613281 L 207.621094 187.28125 L 207.957031 187.023438 L 208.347656 186.863281 L 208.765625 186.808594 L 228.574219 186.808594 L 228.992188 186.863281 L 229.382812 187.023438 L 229.714844 187.28125 L 229.972656 187.613281 L 230.132812 188.003906 L 230.191406 188.421875 L 230.191406 198.117188 L 230.132812 198.535156 L 229.972656 198.921875 L 229.714844 199.257812 L 229.382812 199.515625 L 228.992188 199.675781 L 228.574219 199.730469 L 208.765625 199.730469 L 208.347656 199.675781 L 207.957031 199.515625 L 207.621094 199.257812 L 207.367188 198.921875 L 207.203125 198.535156 L 207.148438 198.117188 Z \"/>\n",
       "<path style=\"fill-rule:nonzero;fill:rgb(100%,100%,100%);fill-opacity:1;stroke-width:0.75;stroke-linecap:round;stroke-linejoin:round;stroke:rgb(0%,0%,0%);stroke-opacity:1;stroke-miterlimit:10;\" d=\"M 331.097656 188.421875 L 331.152344 188.003906 L 331.3125 187.613281 L 331.570312 187.28125 L 331.90625 187.023438 L 332.296875 186.863281 L 332.714844 186.808594 L 352.523438 186.808594 L 352.941406 186.863281 L 353.328125 187.023438 L 353.664062 187.28125 L 353.921875 187.613281 L 354.082031 188.003906 L 354.136719 188.421875 L 354.136719 198.117188 L 354.082031 198.535156 L 353.921875 198.921875 L 353.664062 199.257812 L 353.328125 199.515625 L 352.941406 199.675781 L 352.523438 199.730469 L 332.714844 199.730469 L 332.296875 199.675781 L 331.90625 199.515625 L 331.570312 199.257812 L 331.3125 198.921875 L 331.152344 198.535156 L 331.097656 198.117188 Z \"/>\n",
       "<g style=\"fill:rgb(0%,0%,0%);fill-opacity:1;\">\n",
       "  <use xlink:href=\"#glyph2-1\" x=\"211.167969\" y=\"195.245117\"/>\n",
       "  <use xlink:href=\"#glyph2-2\" x=\"215.964844\" y=\"195.245117\"/>\n",
       "  <use xlink:href=\"#glyph2-3\" x=\"221.298828\" y=\"195.245117\"/>\n",
       "</g>\n",
       "<g style=\"fill:rgb(0%,0%,0%);fill-opacity:1;\">\n",
       "  <use xlink:href=\"#glyph2-4\" x=\"337.117188\" y=\"195.166992\"/>\n",
       "  <use xlink:href=\"#glyph2-5\" x=\"342.451172\" y=\"195.166992\"/>\n",
       "</g>\n",
       "</g>\n",
       "</svg>\n"
      ],
      "text/plain": [
       "plot without title"
      ]
     },
     "metadata": {
      "image/svg+xml": {
       "isolated": true
      }
     },
     "output_type": "display_data"
    }
   ],
   "source": [
    "prp(wikiCART)"
   ]
  },
  {
   "cell_type": "markdown",
   "metadata": {},
   "source": [
    "We weren't able to improve on the baseline using the raw textual information. More specifically, the words themselves were not useful. There are other options though, and in this section we will try two techniques - identifying a key class of words, and counting words.\n",
    "\n",
    "The key class of words we will use are website addresses. \"Website addresses\" (also known as URLs - Uniform Resource Locators) are comprised of two main parts. An example would be \"http://www.google.com\". The first part is the protocol, which is usually \"http\" (HyperText Transfer Protocol). The second part is the address of the site, e.g. \"www.google.com\". We have stripped all punctuation so links to websites appear in the data as one word, e.g. \"httpwwwgooglecom\". We hypothesize that given that a lot of vandalism seems to be adding links to promotional or irrelevant websites, the presence of a web address is a sign of vandalism.\n",
    "\n",
    "We can search for the presence of a web address in the words added by searching for \"http\" in the Added column."
   ]
  },
  {
   "cell_type": "code",
   "execution_count": 44,
   "metadata": {
    "collapsed": false
   },
   "outputs": [],
   "source": [
    "wikiWords2 = wikiWords"
   ]
  },
  {
   "cell_type": "code",
   "execution_count": 45,
   "metadata": {
    "collapsed": true
   },
   "outputs": [],
   "source": [
    "wikiWords2$HTTP = ifelse(grepl(\"http\", wiki$Added, fixed = TRUE),1,0)"
   ]
  },
  {
   "cell_type": "code",
   "execution_count": 46,
   "metadata": {
    "collapsed": false
   },
   "outputs": [
    {
     "data": {
      "text/html": [
       "217"
      ],
      "text/latex": [
       "217"
      ],
      "text/markdown": [
       "217"
      ],
      "text/plain": [
       "[1] 217"
      ]
     },
     "execution_count": 46,
     "metadata": {},
     "output_type": "execute_result"
    }
   ],
   "source": [
    "sum(wikiWords2$HTTP)"
   ]
  },
  {
   "cell_type": "code",
   "execution_count": 47,
   "metadata": {
    "collapsed": true
   },
   "outputs": [],
   "source": [
    "Train2 = subset(wikiWords2, split == TRUE)\n",
    "Test2 = subset(wikiWords2, split == FALSE)"
   ]
  },
  {
   "cell_type": "code",
   "execution_count": 48,
   "metadata": {
    "collapsed": true
   },
   "outputs": [],
   "source": [
    "wikiCART2 = rpart(Vandal~., data = Train2, method = \"class\")"
   ]
  },
  {
   "cell_type": "code",
   "execution_count": 49,
   "metadata": {
    "collapsed": true
   },
   "outputs": [],
   "source": [
    "CARTPredWiki2 = predict(wikiCART2, newdata = Test2, type = \"class\")"
   ]
  },
  {
   "cell_type": "code",
   "execution_count": 50,
   "metadata": {
    "collapsed": false
   },
   "outputs": [
    {
     "data": {
      "text/plain": [
       "   CARTPredWiki2\n",
       "      0   1\n",
       "  0 609   9\n",
       "  1 488  57"
      ]
     },
     "execution_count": 50,
     "metadata": {},
     "output_type": "execute_result"
    }
   ],
   "source": [
    "t = table(Test2$Vandal,CARTPredWiki2)\n",
    "t"
   ]
  },
  {
   "cell_type": "code",
   "execution_count": 51,
   "metadata": {
    "collapsed": false
   },
   "outputs": [
    {
     "data": {
      "text/html": [
       "0.572656921754084"
      ],
      "text/latex": [
       "0.572656921754084"
      ],
      "text/markdown": [
       "0.572656921754084"
      ],
      "text/plain": [
       "[1] 0.5726569"
      ]
     },
     "execution_count": 51,
     "metadata": {},
     "output_type": "execute_result"
    }
   ],
   "source": [
    "sum(diag(t))/sum(t)"
   ]
  },
  {
   "cell_type": "markdown",
   "metadata": {},
   "source": [
    "Another possibility is that the number of words added and removed is predictive, perhaps more so than the actual words themselves. We already have a word count available in the form of the document-term matrices (DTMs).\n",
    "\n",
    "Sum the rows of dtmAdded and dtmRemoved and add them as new variables in your data frame wikiWords2 "
   ]
  },
  {
   "cell_type": "code",
   "execution_count": 52,
   "metadata": {
    "collapsed": true
   },
   "outputs": [],
   "source": [
    "wikiWords2$NumWordsAdded = rowSums(as.matrix(dtmAdded))\n",
    "wikiWords2$NumWordsRemoved = rowSums(as.matrix(dtmRemoved))"
   ]
  },
  {
   "cell_type": "code",
   "execution_count": 53,
   "metadata": {
    "collapsed": false
   },
   "outputs": [
    {
     "data": {
      "text/html": [
       "4.0500515995872"
      ],
      "text/latex": [
       "4.0500515995872"
      ],
      "text/markdown": [
       "4.0500515995872"
      ],
      "text/plain": [
       "[1] 4.050052"
      ]
     },
     "execution_count": 53,
     "metadata": {},
     "output_type": "execute_result"
    }
   ],
   "source": [
    "mean(wikiWords2$NumWordsAdded)"
   ]
  },
  {
   "cell_type": "code",
   "execution_count": 54,
   "metadata": {
    "collapsed": true
   },
   "outputs": [],
   "source": [
    "Train3 = subset(wikiWords2, split == TRUE)\n",
    "Test3 = subset(wikiWords2, split == FALSE)"
   ]
  },
  {
   "cell_type": "code",
   "execution_count": 55,
   "metadata": {
    "collapsed": true
   },
   "outputs": [],
   "source": [
    "wikiCART3 = rpart(Vandal~., data = Train3, method = \"class\")"
   ]
  },
  {
   "cell_type": "code",
   "execution_count": 56,
   "metadata": {
    "collapsed": true
   },
   "outputs": [],
   "source": [
    "CARTPredWiki3 = predict(wikiCART3, newdata = Test3, type = \"class\")"
   ]
  },
  {
   "cell_type": "code",
   "execution_count": 59,
   "metadata": {
    "collapsed": false
   },
   "outputs": [
    {
     "data": {
      "text/plain": [
       "   CARTPredWiki3\n",
       "      0   1\n",
       "  0 514 104\n",
       "  1 297 248"
      ]
     },
     "execution_count": 59,
     "metadata": {},
     "output_type": "execute_result"
    }
   ],
   "source": [
    "t = table(Test3$Vandal,CARTPredWiki3)\n",
    "t"
   ]
  },
  {
   "cell_type": "code",
   "execution_count": 60,
   "metadata": {
    "collapsed": false
   },
   "outputs": [
    {
     "data": {
      "text/html": [
       "0.655202063628547"
      ],
      "text/latex": [
       "0.655202063628547"
      ],
      "text/markdown": [
       "0.655202063628547"
      ],
      "text/plain": [
       "[1] 0.6552021"
      ]
     },
     "execution_count": 60,
     "metadata": {},
     "output_type": "execute_result"
    }
   ],
   "source": [
    "sum(diag(t))/sum(t)"
   ]
  },
  {
   "cell_type": "code",
   "execution_count": 61,
   "metadata": {
    "collapsed": true
   },
   "outputs": [],
   "source": [
    "wikiWords4 = wikiWords2"
   ]
  },
  {
   "cell_type": "code",
   "execution_count": 63,
   "metadata": {
    "collapsed": false
   },
   "outputs": [],
   "source": [
    "wikiWords4$Minor = wiki$Minor\n",
    "wikiWords4$Loggedin = wiki$Loggedin"
   ]
  },
  {
   "cell_type": "code",
   "execution_count": 64,
   "metadata": {
    "collapsed": true
   },
   "outputs": [],
   "source": [
    "Train4 = subset(wikiWords4, split == TRUE)\n",
    "Test4 = subset(wikiWords4, split == FALSE)"
   ]
  },
  {
   "cell_type": "code",
   "execution_count": 65,
   "metadata": {
    "collapsed": true
   },
   "outputs": [],
   "source": [
    "wikiCART4 = rpart(Vandal~., data = Train4, method = \"class\")"
   ]
  },
  {
   "cell_type": "code",
   "execution_count": 66,
   "metadata": {
    "collapsed": true
   },
   "outputs": [],
   "source": [
    "CARTPredWiki4 = predict(wikiCART4, newdata = Test4, type = \"class\")"
   ]
  },
  {
   "cell_type": "code",
   "execution_count": 67,
   "metadata": {
    "collapsed": false
   },
   "outputs": [
    {
     "data": {
      "text/plain": [
       "   CARTPredWiki4\n",
       "      0   1\n",
       "  0 595  23\n",
       "  1 304 241"
      ]
     },
     "execution_count": 67,
     "metadata": {},
     "output_type": "execute_result"
    }
   ],
   "source": [
    "t = table(Test4$Vandal,CARTPredWiki4)\n",
    "t"
   ]
  },
  {
   "cell_type": "code",
   "execution_count": 68,
   "metadata": {
    "collapsed": false
   },
   "outputs": [
    {
     "data": {
      "text/html": [
       "0.718830610490112"
      ],
      "text/latex": [
       "0.718830610490112"
      ],
      "text/markdown": [
       "0.718830610490112"
      ],
      "text/plain": [
       "[1] 0.7188306"
      ]
     },
     "execution_count": 68,
     "metadata": {},
     "output_type": "execute_result"
    }
   ],
   "source": [
    "sum(diag(t))/sum(t)"
   ]
  },
  {
   "cell_type": "code",
   "execution_count": 69,
   "metadata": {
    "collapsed": false
   },
   "outputs": [
    {
     "data": {
      "image/png": "[encoded data removed]",
      "image/svg+xml": [
       "<?xml version=\"1.0\" encoding=\"UTF-8\"?>\n",
       "<svg xmlns=\"http://www.w3.org/2000/svg\" xmlns:xlink=\"http://www.w3.org/1999/xlink\" width=\"504pt\" height=\"504pt\" viewBox=\"0 0 504 504\" version=\"1.1\">\n",
       "<defs>\n",
       "<g>\n",
       "<symbol overflow=\"visible\" id=\"glyph0-0\">\n",
       "<path style=\"stroke:none;\" d=\"\"/>\n",
       "</symbol>\n",
       "<symbol overflow=\"visible\" id=\"glyph0-1\">\n",
       "<path style=\"stroke:none;\" d=\"M 2.765625 -8.75 L 0.953125 -8.75 L 0.953125 0 L 6.953125 0 L 6.953125 -1.5 L 2.765625 -1.5 Z \"/>\n",
       "</symbol>\n",
       "<symbol overflow=\"visible\" id=\"glyph0-2\">\n",
       "<path style=\"stroke:none;\" d=\"M 3.609375 -6.59375 C 1.625 -6.59375 0.421875 -5.28125 0.421875 -3.15625 C 0.421875 -1.015625 1.625 0.28125 3.625 0.28125 C 5.59375 0.28125 6.828125 -1.03125 6.828125 -3.109375 C 6.828125 -5.296875 5.640625 -6.59375 3.609375 -6.59375 Z M 3.625 -5.234375 C 4.546875 -5.234375 5.140625 -4.40625 5.140625 -3.125 C 5.140625 -1.921875 4.53125 -1.078125 3.625 -1.078125 C 2.71875 -1.078125 2.09375 -1.921875 2.09375 -3.15625 C 2.09375 -4.390625 2.71875 -5.234375 3.625 -5.234375 Z \"/>\n",
       "</symbol>\n",
       "<symbol overflow=\"visible\" id=\"glyph0-3\">\n",
       "<path style=\"stroke:none;\" d=\"M 4.890625 -6.484375 L 4.890625 -5.484375 C 4.390625 -6.25 3.84375 -6.59375 3.09375 -6.59375 C 1.5625 -6.59375 0.40625 -5.09375 0.40625 -3.078125 C 0.40625 -1.0625 1.46875 0.28125 3.0625 0.28125 C 3.8125 0.28125 4.265625 0.046875 4.890625 -0.65625 L 4.890625 0.21875 C 4.890625 1 4.3125 1.53125 3.46875 1.53125 C 2.828125 1.53125 2.40625 1.265625 2.28125 0.78125 L 0.546875 0.78125 C 0.546875 1.28125 0.75 1.625 1.171875 1.984375 C 1.6875 2.40625 2.40625 2.609375 3.40625 2.609375 C 5.359375 2.609375 6.484375 1.734375 6.484375 0.21875 L 6.484375 -6.484375 Z M 3.453125 -5.1875 C 4.296875 -5.1875 4.921875 -4.3125 4.921875 -3.109375 C 4.921875 -1.9375 4.3125 -1.125 3.4375 -1.125 C 2.640625 -1.125 2.09375 -1.9375 2.09375 -3.109375 C 2.09375 -4.328125 2.640625 -5.1875 3.453125 -5.1875 Z \"/>\n",
       "</symbol>\n",
       "<symbol overflow=\"visible\" id=\"glyph0-4\">\n",
       "<path style=\"stroke:none;\" d=\"M 6.28125 -2.71875 C 6.296875 -2.859375 6.296875 -2.921875 6.296875 -3 C 6.296875 -3.640625 6.203125 -4.25 6.046875 -4.703125 C 5.609375 -5.875 4.578125 -6.59375 3.265625 -6.59375 C 1.40625 -6.59375 0.265625 -5.25 0.265625 -3.078125 C 0.265625 -1 1.390625 0.28125 3.234375 0.28125 C 4.6875 0.28125 5.859375 -0.546875 6.234375 -1.828125 L 4.578125 -1.828125 C 4.375 -1.3125 3.90625 -1.015625 3.28125 -1.015625 C 2.8125 -1.015625 2.421875 -1.21875 2.1875 -1.578125 C 2.03125 -1.8125 1.96875 -2.09375 1.9375 -2.71875 Z M 1.96875 -3.828125 C 2.078125 -4.8125 2.5 -5.296875 3.234375 -5.296875 C 3.65625 -5.296875 4.046875 -5.09375 4.28125 -4.765625 C 4.4375 -4.53125 4.515625 -4.265625 4.546875 -3.828125 Z \"/>\n",
       "</symbol>\n",
       "<symbol overflow=\"visible\" id=\"glyph0-5\">\n",
       "<path style=\"stroke:none;\" d=\"M 4.859375 0 L 6.546875 0 L 6.546875 -8.75 L 4.859375 -8.75 L 4.859375 -5.640625 C 4.4375 -6.28125 3.875 -6.59375 3.078125 -6.59375 C 1.53125 -6.59375 0.34375 -5.09375 0.34375 -3.140625 C 0.34375 -2.265625 0.609375 -1.375 1.046875 -0.75 C 1.484375 -0.125 2.28125 0.28125 3.078125 0.28125 C 3.875 0.28125 4.4375 -0.03125 4.859375 -0.65625 Z M 3.4375 -5.1875 C 4.296875 -5.1875 4.859375 -4.359375 4.859375 -3.125 C 4.859375 -1.9375 4.28125 -1.125 3.4375 -1.125 C 2.609375 -1.125 2.03125 -1.953125 2.03125 -3.140625 C 2.03125 -4.34375 2.609375 -5.1875 3.4375 -5.1875 Z \"/>\n",
       "</symbol>\n",
       "<symbol overflow=\"visible\" id=\"glyph0-6\">\n",
       "<path style=\"stroke:none;\" d=\"M 2.484375 -6.484375 L 0.796875 -6.484375 L 0.796875 0 L 2.484375 0 Z M 2.484375 -8.75 L 0.796875 -8.75 L 0.796875 -7.25 L 2.484375 -7.25 Z \"/>\n",
       "</symbol>\n",
       "<symbol overflow=\"visible\" id=\"glyph0-7\">\n",
       "<path style=\"stroke:none;\" d=\"M 0.75 -6.484375 L 0.75 0 L 2.4375 0 L 2.4375 -3.890625 C 2.4375 -4.65625 2.96875 -5.15625 3.796875 -5.15625 C 4.515625 -5.15625 4.875 -4.765625 4.875 -4 L 4.875 0 L 6.546875 0 L 6.546875 -4.34375 C 6.546875 -5.765625 5.765625 -6.59375 4.375 -6.59375 C 3.5 -6.59375 2.921875 -6.265625 2.4375 -5.546875 L 2.4375 -6.484375 Z \"/>\n",
       "</symbol>\n",
       "<symbol overflow=\"visible\" id=\"glyph0-8\">\n",
       "<path style=\"stroke:none;\" d=\"\"/>\n",
       "</symbol>\n",
       "<symbol overflow=\"visible\" id=\"glyph0-9\">\n",
       "<path style=\"stroke:none;\" d=\"M 0.484375 0.125 L 6.34375 -2.046875 L 6.34375 -3.5 L 0.484375 -5.6875 L 0.484375 -4.359375 L 5.0625 -2.78125 L 0.484375 -1.1875 Z \"/>\n",
       "</symbol>\n",
       "<symbol overflow=\"visible\" id=\"glyph0-10\">\n",
       "<path style=\"stroke:none;\" d=\"M 6.40625 -4.9375 L 0.59375 -4.9375 L 0.59375 -3.5 L 6.40625 -3.5 Z M 6.40625 -2.046875 L 0.59375 -2.046875 L 0.59375 -0.625 L 6.40625 -0.625 Z \"/>\n",
       "</symbol>\n",
       "<symbol overflow=\"visible\" id=\"glyph0-11\">\n",
       "<path style=\"stroke:none;\" d=\"M 3.28125 -8.6875 C 2.359375 -8.6875 1.578125 -8.296875 1.0625 -7.59375 C 0.578125 -6.9375 0.34375 -5.84375 0.34375 -4.203125 C 0.34375 -2.703125 0.546875 -1.625 0.953125 -0.984375 C 1.453125 -0.1875 2.28125 0.28125 3.28125 0.28125 C 4.203125 0.28125 4.953125 -0.09375 5.484375 -0.8125 C 5.96875 -1.46875 6.203125 -2.5625 6.203125 -4.15625 C 6.203125 -5.71875 6.015625 -6.765625 5.609375 -7.421875 C 5.09375 -8.25 4.265625 -8.6875 3.28125 -8.6875 Z M 3.28125 -7.328125 C 3.703125 -7.328125 4.0625 -7.09375 4.265625 -6.640625 C 4.421875 -6.28125 4.53125 -5.359375 4.53125 -4.1875 C 4.53125 -3.234375 4.421875 -2.28125 4.3125 -1.9375 C 4.109375 -1.4375 3.75 -1.15625 3.28125 -1.15625 C 2.828125 -1.15625 2.5 -1.390625 2.296875 -1.828125 C 2.125 -2.1875 2.03125 -3.078125 2.03125 -4.21875 C 2.03125 -5.203125 2.125 -6.1875 2.25 -6.53125 C 2.4375 -7.046875 2.796875 -7.328125 3.28125 -7.328125 Z \"/>\n",
       "</symbol>\n",
       "<symbol overflow=\"visible\" id=\"glyph0-12\">\n",
       "<path style=\"stroke:none;\" d=\"M 2.5625 -1.75 L 0.765625 -1.75 L 0.765625 0 L 2.5625 0 Z \"/>\n",
       "</symbol>\n",
       "<symbol overflow=\"visible\" id=\"glyph0-13\">\n",
       "<path style=\"stroke:none;\" d=\"M 5.875 -8.515625 L 1.3125 -8.515625 L 0.5625 -3.765625 L 2.078125 -3.765625 C 2.25 -4.1875 2.640625 -4.421875 3.15625 -4.421875 C 4.015625 -4.421875 4.53125 -3.796875 4.53125 -2.765625 C 4.53125 -1.78125 4 -1.15625 3.15625 -1.15625 C 2.421875 -1.15625 2.015625 -1.53125 1.984375 -2.21875 L 0.328125 -2.21875 C 0.34375 -0.734375 1.46875 0.28125 3.125 0.28125 C 4.953125 0.28125 6.203125 -0.96875 6.203125 -2.8125 C 6.203125 -4.546875 5.125 -5.75 3.546875 -5.75 C 2.984375 -5.75 2.5625 -5.609375 2.078125 -5.234375 L 2.359375 -7.015625 L 5.875 -7.015625 Z \"/>\n",
       "</symbol>\n",
       "<symbol overflow=\"visible\" id=\"glyph0-14\">\n",
       "<path style=\"stroke:none;\" d=\"M 6.125 0 L 7.9375 0 L 7.9375 -8.75 L 6.125 -8.75 L 6.125 -2.796875 L 2.65625 -8.75 L 0.8125 -8.75 L 0.8125 0 L 2.609375 0 L 2.609375 -6.046875 Z \"/>\n",
       "</symbol>\n",
       "<symbol overflow=\"visible\" id=\"glyph0-15\">\n",
       "<path style=\"stroke:none;\" d=\"M 6.484375 0 L 6.484375 -6.484375 L 4.8125 -6.484375 L 4.8125 -2.421875 C 4.8125 -1.65625 4.265625 -1.15625 3.453125 -1.15625 C 2.734375 -1.15625 2.375 -1.53125 2.375 -2.3125 L 2.375 -6.484375 L 0.703125 -6.484375 L 0.703125 -1.96875 C 0.703125 -0.546875 1.484375 0.28125 2.875 0.28125 C 3.75 0.28125 4.328125 -0.046875 4.8125 -0.765625 L 4.8125 0 Z \"/>\n",
       "</symbol>\n",
       "<symbol overflow=\"visible\" id=\"glyph0-16\">\n",
       "<path style=\"stroke:none;\" d=\"M 0.71875 -6.484375 L 0.71875 0 L 2.40625 0 L 2.40625 -3.890625 C 2.40625 -4.6875 2.828125 -5.15625 3.546875 -5.15625 C 4.109375 -5.15625 4.46875 -4.84375 4.46875 -4.3125 L 4.46875 0 L 6.140625 0 L 6.140625 -3.890625 C 6.140625 -4.6875 6.578125 -5.15625 7.296875 -5.15625 C 7.859375 -5.15625 8.203125 -4.84375 8.203125 -4.3125 L 8.203125 0 L 9.890625 0 L 9.890625 -4.578125 C 9.890625 -5.84375 9.125 -6.59375 7.828125 -6.59375 C 7.015625 -6.59375 6.4375 -6.296875 5.921875 -5.625 C 5.609375 -6.234375 4.96875 -6.59375 4.15625 -6.59375 C 3.421875 -6.59375 2.9375 -6.34375 2.390625 -5.671875 L 2.390625 -6.484375 Z \"/>\n",
       "</symbol>\n",
       "<symbol overflow=\"visible\" id=\"glyph0-17\">\n",
       "<path style=\"stroke:none;\" d=\"M 8.765625 0 L 11.1875 -8.75 L 9.28125 -8.75 L 7.96875 -2.1875 L 6.546875 -8.75 L 4.78125 -8.75 L 3.421875 -2.203125 L 2.0625 -8.75 L 0.15625 -8.75 L 2.625 0 L 4.25 0 L 5.671875 -6.828125 L 7.140625 0 Z \"/>\n",
       "</symbol>\n",
       "<symbol overflow=\"visible\" id=\"glyph0-18\">\n",
       "<path style=\"stroke:none;\" d=\"M 0.75 -6.484375 L 0.75 0 L 2.4375 0 L 2.4375 -3.4375 C 2.4375 -4.421875 2.921875 -4.921875 3.90625 -4.921875 C 4.09375 -4.921875 4.21875 -4.90625 4.4375 -4.875 L 4.4375 -6.578125 C 4.34375 -6.59375 4.28125 -6.59375 4.234375 -6.59375 C 3.46875 -6.59375 2.796875 -6.078125 2.4375 -5.203125 L 2.4375 -6.484375 Z \"/>\n",
       "</symbol>\n",
       "<symbol overflow=\"visible\" id=\"glyph0-19\">\n",
       "<path style=\"stroke:none;\" d=\"M 6.0625 -4.390625 C 6.03125 -5.765625 4.984375 -6.59375 3.234375 -6.59375 C 1.59375 -6.59375 0.578125 -5.765625 0.578125 -4.421875 C 0.578125 -4 0.703125 -3.625 0.9375 -3.375 C 1.15625 -3.140625 1.375 -3.03125 1.984375 -2.828125 L 4 -2.203125 C 4.421875 -2.078125 4.5625 -1.9375 4.5625 -1.6875 C 4.5625 -1.28125 4.09375 -1.046875 3.3125 -1.046875 C 2.875 -1.046875 2.53125 -1.125 2.3125 -1.265625 C 2.140625 -1.40625 2.0625 -1.53125 1.984375 -1.890625 L 0.34375 -1.890625 C 0.390625 -0.46875 1.4375 0.28125 3.40625 0.28125 C 4.3125 0.28125 4.984375 0.078125 5.46875 -0.296875 C 5.953125 -0.6875 6.234375 -1.28125 6.234375 -1.921875 C 6.234375 -2.765625 5.8125 -3.296875 4.96875 -3.546875 L 2.84375 -4.15625 C 2.375 -4.3125 2.25 -4.40625 2.25 -4.671875 C 2.25 -5.03125 2.640625 -5.265625 3.234375 -5.265625 C 4.03125 -5.265625 4.421875 -4.984375 4.4375 -4.390625 Z \"/>\n",
       "</symbol>\n",
       "<symbol overflow=\"visible\" id=\"glyph0-20\">\n",
       "<path style=\"stroke:none;\" d=\"M 6.015625 -1.765625 L 6.59375 0 L 8.4375 0 L 5.40625 -8.75 L 3.421875 -8.75 L 0.3125 0 L 2.140625 0 L 2.734375 -1.765625 Z M 5.515625 -3.265625 L 3.234375 -3.265625 L 4.375 -6.6875 Z \"/>\n",
       "</symbol>\n",
       "<symbol overflow=\"visible\" id=\"glyph0-21\">\n",
       "<path style=\"stroke:none;\" d=\"M 6.34375 -5.6875 L 0.484375 -3.515625 L 0.484375 -2.0625 L 6.34375 0.125 L 6.34375 -1.21875 L 1.765625 -2.78125 L 6.34375 -4.375 Z \"/>\n",
       "</symbol>\n",
       "<symbol overflow=\"visible\" id=\"glyph0-22\">\n",
       "<path style=\"stroke:none;\" d=\"M 2.765625 -3.46875 L 4.828125 -3.46875 C 5.609375 -3.46875 5.9375 -3.15625 5.9375 -2.421875 C 5.9375 -2.359375 5.9375 -2.234375 5.921875 -2.078125 C 5.921875 -1.84375 5.921875 -1.625 5.921875 -1.5 C 5.921875 -0.6875 5.96875 -0.421875 6.1875 0 L 8.125 0 L 8.125 -0.328125 C 7.84375 -0.484375 7.734375 -0.65625 7.734375 -1.046875 C 7.6875 -3.625 7.640625 -3.75 6.53125 -4.21875 C 7.515625 -4.609375 8 -5.3125 8 -6.390625 C 8 -7.078125 7.765625 -7.71875 7.34375 -8.140625 C 6.953125 -8.5625 6.390625 -8.75 5.65625 -8.75 L 0.953125 -8.75 L 0.953125 0 L 2.765625 0 Z M 2.765625 -4.96875 L 2.765625 -7.25 L 4.9375 -7.25 C 5.453125 -7.25 5.65625 -7.203125 5.875 -7.015625 C 6.09375 -6.84375 6.203125 -6.546875 6.203125 -6.125 C 6.203125 -5.71875 6.078125 -5.375 5.875 -5.203125 C 5.6875 -5.03125 5.453125 -4.96875 4.9375 -4.96875 Z \"/>\n",
       "</symbol>\n",
       "<symbol overflow=\"visible\" id=\"glyph0-23\">\n",
       "<path style=\"stroke:none;\" d=\"M 2.859375 -5.875 L 2.859375 0 L 4.53125 0 L 4.53125 -8.515625 L 3.421875 -8.515625 C 3.15625 -7.5 2.28125 -6.984375 0.8125 -6.984375 L 0.8125 -5.875 Z \"/>\n",
       "</symbol>\n",
       "<symbol overflow=\"visible\" id=\"glyph0-24\">\n",
       "<path style=\"stroke:none;\" d=\"M 6.140625 -1.5 L 2.546875 -1.5 C 2.765625 -1.953125 3.03125 -2.203125 4.265625 -3.109375 C 5.75 -4.1875 6.1875 -4.84375 6.1875 -5.984375 C 6.1875 -7.625 5.046875 -8.6875 3.265625 -8.6875 C 1.5 -8.6875 0.46875 -7.640625 0.46875 -5.84375 C 0.46875 -5.765625 0.46875 -5.671875 0.484375 -5.546875 L 2.09375 -5.546875 L 2.09375 -5.8125 C 2.09375 -6.765625 2.53125 -7.3125 3.296875 -7.3125 C 4.046875 -7.3125 4.5 -6.796875 4.5 -5.953125 C 4.5 -5.015625 4.203125 -4.640625 2.328125 -3.3125 C 0.890625 -2.328125 0.4375 -1.578125 0.359375 0 L 6.140625 0 Z \"/>\n",
       "</symbol>\n",
       "<symbol overflow=\"visible\" id=\"glyph1-0\">\n",
       "<path style=\"stroke:none;\" d=\"\"/>\n",
       "</symbol>\n",
       "<symbol overflow=\"visible\" id=\"glyph1-1\">\n",
       "<path style=\"stroke:none;\" d=\"M 3.296875 -8.515625 C 2.515625 -8.515625 1.78125 -8.15625 1.34375 -7.578125 C 0.796875 -6.828125 0.515625 -5.6875 0.515625 -4.109375 C 0.515625 -1.25 1.46875 0.28125 3.296875 0.28125 C 5.09375 0.28125 6.078125 -1.25 6.078125 -4.046875 C 6.078125 -5.703125 5.8125 -6.796875 5.25 -7.578125 C 4.8125 -8.171875 4.109375 -8.515625 3.296875 -8.515625 Z M 3.296875 -7.578125 C 4.4375 -7.578125 5 -6.421875 5 -4.140625 C 5 -1.734375 4.453125 -0.59375 3.28125 -0.59375 C 2.15625 -0.59375 1.59375 -1.78125 1.59375 -4.109375 C 1.59375 -6.4375 2.15625 -7.578125 3.296875 -7.578125 Z \"/>\n",
       "</symbol>\n",
       "<symbol overflow=\"visible\" id=\"glyph1-2\">\n",
       "<path style=\"stroke:none;\" d=\"M 3.109375 -6.0625 L 3.109375 0 L 4.15625 0 L 4.15625 -8.515625 L 3.46875 -8.515625 C 3.09375 -7.203125 2.859375 -7.015625 1.21875 -6.8125 L 1.21875 -6.0625 Z \"/>\n",
       "</symbol>\n",
       "<symbol overflow=\"visible\" id=\"glyph2-0\">\n",
       "<path style=\"stroke:none;\" d=\"\"/>\n",
       "</symbol>\n",
       "<symbol overflow=\"visible\" id=\"glyph2-1\">\n",
       "<path style=\"stroke:none;\" d=\"M 4.8125 -5.03125 L 2.578125 -1.125 L 2.125 -5.03125 L 1.265625 -5.03125 L 1.921875 0.03125 L 1.421875 0.8125 C 1.15625 1.21875 1 1.3125 0.65625 1.3125 C 0.5625 1.3125 0.484375 1.3125 0.234375 1.28125 L 0.078125 2 C 0.25 2.078125 0.359375 2.09375 0.546875 2.09375 C 1.234375 2.09375 1.71875 1.765625 2.125 1.0625 L 5.65625 -5.03125 Z \"/>\n",
       "</symbol>\n",
       "<symbol overflow=\"visible\" id=\"glyph2-2\">\n",
       "<path style=\"stroke:none;\" d=\"M 5.40625 -2.25 L 5.4375 -2.40625 C 5.515625 -2.875 5.5625 -3.265625 5.5625 -3.53125 C 5.5625 -4.453125 4.765625 -5.171875 3.734375 -5.171875 C 2.890625 -5.171875 2.09375 -4.78125 1.609375 -4.140625 C 1.15625 -3.53125 0.8125 -2.4375 0.8125 -1.65625 C 0.8125 -1.140625 1.03125 -0.609375 1.40625 -0.265625 C 1.734375 0.0625 2.15625 0.21875 2.703125 0.21875 C 3.859375 0.21875 4.84375 -0.484375 5.140625 -1.53125 L 4.34375 -1.53125 C 3.984375 -0.859375 3.484375 -0.515625 2.84375 -0.515625 C 2.078125 -0.515625 1.65625 -0.984375 1.65625 -1.796875 C 1.65625 -2 1.65625 -2.09375 1.703125 -2.25 Z M 1.875 -2.9375 C 2.125 -3.8125 2.828125 -4.4375 3.609375 -4.4375 C 4.28125 -4.4375 4.71875 -3.96875 4.71875 -3.25 C 4.71875 -3.15625 4.703125 -3.09375 4.6875 -2.9375 Z \"/>\n",
       "</symbol>\n",
       "<symbol overflow=\"visible\" id=\"glyph2-3\">\n",
       "<path style=\"stroke:none;\" d=\"M 4.9375 -3.625 C 4.984375 -3.828125 4.984375 -3.921875 4.984375 -4.03125 C 4.984375 -4.703125 4.34375 -5.171875 3.421875 -5.171875 C 2.734375 -5.171875 2.15625 -4.96875 1.75 -4.59375 C 1.40625 -4.265625 1.1875 -3.765625 1.1875 -3.3125 C 1.1875 -2.71875 1.515625 -2.453125 2.5 -2.1875 L 3.21875 -2 C 3.53125 -1.921875 3.671875 -1.859375 3.765625 -1.75 C 3.828125 -1.671875 3.890625 -1.53125 3.890625 -1.4375 C 3.890625 -1.265625 3.734375 -0.96875 3.578125 -0.84375 C 3.34375 -0.640625 2.921875 -0.515625 2.515625 -0.515625 C 1.859375 -0.515625 1.484375 -0.78125 1.484375 -1.25 C 1.484375 -1.3125 1.484375 -1.40625 1.5 -1.5 L 0.640625 -1.5 C 0.59375 -1.28125 0.578125 -1.15625 0.578125 -1 C 0.578125 -0.234375 1.25 0.21875 2.375 0.21875 C 3.796875 0.21875 4.734375 -0.515625 4.734375 -1.65625 C 4.734375 -2.25 4.40625 -2.546875 3.5625 -2.765625 L 2.84375 -2.9375 C 2.296875 -3.078125 2.03125 -3.265625 2.03125 -3.515625 C 2.03125 -3.71875 2.140625 -3.953125 2.3125 -4.109375 C 2.546875 -4.34375 2.828125 -4.4375 3.25 -4.4375 C 3.8125 -4.4375 4.140625 -4.21875 4.140625 -3.84375 C 4.140625 -3.765625 4.140625 -3.703125 4.125 -3.625 Z \"/>\n",
       "</symbol>\n",
       "<symbol overflow=\"visible\" id=\"glyph2-4\">\n",
       "<path style=\"stroke:none;\" d=\"M 1.734375 -5.03125 L 0.671875 0 L 1.484375 0 L 2.0625 -2.765625 C 2.296875 -3.828125 2.96875 -4.484375 3.828125 -4.484375 C 4.3125 -4.484375 4.65625 -4.140625 4.65625 -3.703125 C 4.65625 -3.640625 4.640625 -3.5 4.609375 -3.34375 L 3.890625 0 L 4.703125 0 L 5.46875 -3.609375 C 5.5 -3.734375 5.5 -3.84375 5.5 -3.96875 C 5.5 -4.703125 5 -5.171875 4.203125 -5.171875 C 3.46875 -5.171875 2.84375 -4.90625 2.34375 -4.40625 L 2.46875 -5.03125 Z \"/>\n",
       "</symbol>\n",
       "<symbol overflow=\"visible\" id=\"glyph2-5\">\n",
       "<path style=\"stroke:none;\" d=\"M 3.6875 -5.171875 C 2.796875 -5.171875 2 -4.765625 1.515625 -4.0625 C 1.078125 -3.4375 0.765625 -2.390625 0.765625 -1.578125 C 0.765625 -0.515625 1.5 0.21875 2.578125 0.21875 C 3.5 0.21875 4.234375 -0.15625 4.765625 -0.890625 C 5.203125 -1.5 5.53125 -2.546875 5.53125 -3.375 C 5.53125 -3.890625 5.328125 -4.375 5 -4.703125 C 4.671875 -5.015625 4.234375 -5.171875 3.6875 -5.171875 Z M 3.5625 -4.4375 C 4.265625 -4.4375 4.6875 -3.96875 4.6875 -3.1875 C 4.6875 -2.625 4.515625 -2 4.265625 -1.53125 C 3.890625 -0.859375 3.375 -0.515625 2.71875 -0.515625 C 2.03125 -0.515625 1.609375 -1 1.609375 -1.765625 C 1.609375 -2.3125 1.78125 -2.9375 2.03125 -3.421875 C 2.390625 -4.078125 2.921875 -4.4375 3.5625 -4.4375 Z \"/>\n",
       "</symbol>\n",
       "</g>\n",
       "</defs>\n",
       "<g id=\"surface59\">\n",
       "<rect x=\"0\" y=\"0\" width=\"504\" height=\"504\" style=\"fill:rgb(100%,100%,100%);fill-opacity:1;stroke:none;\"/>\n",
       "<path style=\"fill:none;stroke-width:0.75;stroke-linecap:butt;stroke-linejoin:round;stroke:rgb(0%,0%,0%);stroke-opacity:1;stroke-miterlimit:10;\" d=\"M 160.339844 211.957031 L 209.371094 166.351562 L 221.632812 166.351562 \"/>\n",
       "<path style=\"fill:none;stroke-width:0.75;stroke-linecap:butt;stroke-linejoin:round;stroke:rgb(0%,0%,0%);stroke-opacity:1;stroke-miterlimit:10;\" d=\"M 282.921875 223.453125 L 233.890625 166.351562 L 221.632812 166.351562 \"/>\n",
       "<path style=\"fill:none;stroke-width:0.75;stroke-linecap:butt;stroke-linejoin:round;stroke:rgb(0%,0%,0%);stroke-opacity:1;stroke-miterlimit:10;\" d=\"M 222.183594 281.984375 L 270.773438 224.882812 L 282.921875 224.882812 \"/>\n",
       "<path style=\"fill:none;stroke-width:0.75;stroke-linecap:butt;stroke-linejoin:round;stroke:rgb(0%,0%,0%);stroke-opacity:1;stroke-miterlimit:10;\" d=\"M 166.964844 329.023438 L 211.140625 283.414062 L 222.183594 283.414062 \"/>\n",
       "<path style=\"fill:none;stroke-width:0.75;stroke-linecap:butt;stroke-linejoin:round;stroke:rgb(0%,0%,0%);stroke-opacity:1;stroke-miterlimit:10;\" d=\"M 277.398438 329.023438 L 233.226562 283.414062 L 222.183594 283.414062 \"/>\n",
       "<path style=\"fill:none;stroke-width:0.75;stroke-linecap:butt;stroke-linejoin:round;stroke:rgb(0%,0%,0%);stroke-opacity:1;stroke-miterlimit:10;\" d=\"M 343.660156 270.492188 L 295.070312 224.882812 L 282.921875 224.882812 \"/>\n",
       "<path style=\" stroke:none;fill-rule:nonzero;fill:rgb(100%,100%,100%);fill-opacity:1;\" d=\"M 170.890625 170.660156 L 170.890625 153.425781 L 272.371094 153.425781 L 272.371094 170.660156 Z \"/>\n",
       "<path style=\" stroke:none;fill-rule:nonzero;fill:rgb(100%,100%,100%);fill-opacity:1;\" d=\"M 226.894531 229.191406 L 226.894531 211.957031 L 338.949219 211.957031 L 338.949219 229.191406 Z \"/>\n",
       "<path style=\" stroke:none;fill-rule:nonzero;fill:rgb(100%,100%,100%);fill-opacity:1;\" d=\"M 167.824219 287.722656 L 167.824219 270.492188 L 276.542969 270.492188 L 276.542969 287.722656 Z \"/>\n",
       "<g style=\"fill:rgb(0%,0%,0%);fill-opacity:1;\">\n",
       "  <use xlink:href=\"#glyph0-1\" x=\"175.632812\" y=\"164.791016\"/>\n",
       "  <use xlink:href=\"#glyph0-2\" x=\"182.964844\" y=\"164.791016\"/>\n",
       "  <use xlink:href=\"#glyph0-3\" x=\"190.296875\" y=\"164.791016\"/>\n",
       "  <use xlink:href=\"#glyph0-3\" x=\"197.628906\" y=\"164.791016\"/>\n",
       "  <use xlink:href=\"#glyph0-4\" x=\"204.960938\" y=\"164.791016\"/>\n",
       "  <use xlink:href=\"#glyph0-5\" x=\"211.632812\" y=\"164.791016\"/>\n",
       "  <use xlink:href=\"#glyph0-6\" x=\"218.964844\" y=\"164.791016\"/>\n",
       "  <use xlink:href=\"#glyph0-7\" x=\"222.300781\" y=\"164.791016\"/>\n",
       "  <use xlink:href=\"#glyph0-8\" x=\"229.632812\" y=\"164.791016\"/>\n",
       "  <use xlink:href=\"#glyph0-9\" x=\"232.96875\" y=\"164.791016\"/>\n",
       "  <use xlink:href=\"#glyph0-10\" x=\"239.976562\" y=\"164.791016\"/>\n",
       "  <use xlink:href=\"#glyph0-8\" x=\"246.984375\" y=\"164.791016\"/>\n",
       "  <use xlink:href=\"#glyph0-11\" x=\"250.320312\" y=\"164.791016\"/>\n",
       "  <use xlink:href=\"#glyph0-12\" x=\"256.992188\" y=\"164.791016\"/>\n",
       "  <use xlink:href=\"#glyph0-13\" x=\"260.328125\" y=\"164.791016\"/>\n",
       "</g>\n",
       "<g style=\"fill:rgb(0%,0%,0%);fill-opacity:1;\">\n",
       "  <use xlink:href=\"#glyph0-14\" x=\"230.921875\" y=\"224.322266\"/>\n",
       "  <use xlink:href=\"#glyph0-15\" x=\"239.585938\" y=\"224.322266\"/>\n",
       "  <use xlink:href=\"#glyph0-16\" x=\"246.917969\" y=\"224.322266\"/>\n",
       "  <use xlink:href=\"#glyph0-17\" x=\"257.585938\" y=\"224.322266\"/>\n",
       "  <use xlink:href=\"#glyph0-2\" x=\"268.914062\" y=\"224.322266\"/>\n",
       "  <use xlink:href=\"#glyph0-18\" x=\"276.246094\" y=\"224.322266\"/>\n",
       "  <use xlink:href=\"#glyph0-5\" x=\"280.914062\" y=\"224.322266\"/>\n",
       "  <use xlink:href=\"#glyph0-19\" x=\"288.246094\" y=\"224.322266\"/>\n",
       "  <use xlink:href=\"#glyph0-20\" x=\"294.917969\" y=\"224.322266\"/>\n",
       "  <use xlink:href=\"#glyph0-8\" x=\"303.582031\" y=\"224.322266\"/>\n",
       "  <use xlink:href=\"#glyph0-21\" x=\"306.917969\" y=\"224.322266\"/>\n",
       "  <use xlink:href=\"#glyph0-8\" x=\"313.925781\" y=\"224.322266\"/>\n",
       "  <use xlink:href=\"#glyph0-11\" x=\"317.261719\" y=\"224.322266\"/>\n",
       "  <use xlink:href=\"#glyph0-12\" x=\"323.933594\" y=\"224.322266\"/>\n",
       "  <use xlink:href=\"#glyph0-13\" x=\"327.269531\" y=\"224.322266\"/>\n",
       "</g>\n",
       "<g style=\"fill:rgb(0%,0%,0%);fill-opacity:1;\">\n",
       "  <use xlink:href=\"#glyph0-14\" x=\"172.183594\" y=\"282.853516\"/>\n",
       "  <use xlink:href=\"#glyph0-15\" x=\"180.847656\" y=\"282.853516\"/>\n",
       "  <use xlink:href=\"#glyph0-16\" x=\"188.179688\" y=\"282.853516\"/>\n",
       "  <use xlink:href=\"#glyph0-17\" x=\"198.847656\" y=\"282.853516\"/>\n",
       "  <use xlink:href=\"#glyph0-2\" x=\"210.175781\" y=\"282.853516\"/>\n",
       "  <use xlink:href=\"#glyph0-18\" x=\"217.507812\" y=\"282.853516\"/>\n",
       "  <use xlink:href=\"#glyph0-5\" x=\"222.175781\" y=\"282.853516\"/>\n",
       "  <use xlink:href=\"#glyph0-19\" x=\"229.507812\" y=\"282.853516\"/>\n",
       "  <use xlink:href=\"#glyph0-22\" x=\"236.179688\" y=\"282.853516\"/>\n",
       "  <use xlink:href=\"#glyph0-8\" x=\"244.84375\" y=\"282.853516\"/>\n",
       "  <use xlink:href=\"#glyph0-21\" x=\"248.179688\" y=\"282.853516\"/>\n",
       "  <use xlink:href=\"#glyph0-8\" x=\"255.1875\" y=\"282.853516\"/>\n",
       "  <use xlink:href=\"#glyph0-23\" x=\"258.523438\" y=\"282.853516\"/>\n",
       "  <use xlink:href=\"#glyph0-24\" x=\"265.195312\" y=\"282.853516\"/>\n",
       "</g>\n",
       "<path style=\"fill-rule:nonzero;fill:rgb(100%,100%,100%);fill-opacity:1;stroke-width:0.75;stroke-linecap:round;stroke-linejoin:round;stroke:rgb(0%,0%,0%);stroke-opacity:1;stroke-miterlimit:10;\" d=\"M 152.007812 219.945312 L 152.289062 217.878906 L 153.125 215.953125 L 154.449219 214.296875 L 156.171875 213.027344 L 158.183594 212.230469 L 160.339844 211.957031 L 162.496094 212.230469 L 164.507812 213.027344 L 166.234375 214.296875 L 167.558594 215.953125 L 168.390625 217.878906 L 168.675781 219.945312 L 168.675781 221.203125 L 168.390625 223.269531 L 167.558594 225.199219 L 166.234375 226.851562 L 164.507812 228.121094 L 162.496094 228.917969 L 160.339844 229.191406 L 158.183594 228.917969 L 156.171875 228.121094 L 154.449219 226.851562 L 153.125 225.199219 L 152.289062 223.269531 L 152.007812 221.203125 Z \"/>\n",
       "<path style=\"fill-rule:nonzero;fill:rgb(100%,100%,100%);fill-opacity:1;stroke-width:0.75;stroke-linecap:round;stroke-linejoin:round;stroke:rgb(0%,0%,0%);stroke-opacity:1;stroke-miterlimit:10;\" d=\"M 158.632812 337.011719 L 158.917969 334.941406 L 159.75 333.015625 L 161.074219 331.363281 L 162.800781 330.09375 L 164.808594 329.296875 L 166.964844 329.023438 L 169.125 329.296875 L 171.132812 330.09375 L 172.859375 331.363281 L 174.183594 333.015625 L 175.015625 334.941406 L 175.300781 337.011719 L 175.300781 338.269531 L 175.015625 340.335938 L 174.183594 342.261719 L 172.859375 343.917969 L 171.132812 345.183594 L 169.125 345.984375 L 166.964844 346.253906 L 164.808594 345.984375 L 162.800781 345.183594 L 161.074219 343.917969 L 159.75 342.261719 L 158.917969 340.335938 L 158.632812 338.269531 Z \"/>\n",
       "<path style=\"fill-rule:nonzero;fill:rgb(100%,100%,100%);fill-opacity:1;stroke-width:0.75;stroke-linecap:round;stroke-linejoin:round;stroke:rgb(0%,0%,0%);stroke-opacity:1;stroke-miterlimit:10;\" d=\"M 269.066406 337.011719 L 269.347656 334.941406 L 270.183594 333.015625 L 271.507812 331.363281 L 273.234375 330.09375 L 275.242188 329.296875 L 277.398438 329.023438 L 279.554688 329.296875 L 281.566406 330.09375 L 283.292969 331.363281 L 284.617188 333.015625 L 285.449219 334.941406 L 285.734375 337.011719 L 285.734375 338.269531 L 285.449219 340.335938 L 284.617188 342.261719 L 283.292969 343.917969 L 281.566406 345.183594 L 279.554688 345.984375 L 277.398438 346.253906 L 275.242188 345.984375 L 273.234375 345.183594 L 271.507812 343.917969 L 270.183594 342.261719 L 269.347656 340.335938 L 269.066406 338.269531 Z \"/>\n",
       "<path style=\"fill-rule:nonzero;fill:rgb(100%,100%,100%);fill-opacity:1;stroke-width:0.75;stroke-linecap:round;stroke-linejoin:round;stroke:rgb(0%,0%,0%);stroke-opacity:1;stroke-miterlimit:10;\" d=\"M 335.324219 278.476562 L 335.609375 276.410156 L 336.441406 274.484375 L 337.765625 272.832031 L 339.492188 271.5625 L 341.503906 270.761719 L 343.660156 270.492188 L 345.816406 270.761719 L 347.828125 271.5625 L 349.550781 272.832031 L 350.875 274.484375 L 351.710938 276.410156 L 351.992188 278.476562 L 351.992188 279.738281 L 351.710938 281.804688 L 350.875 283.730469 L 349.550781 285.382812 L 347.828125 286.652344 L 345.816406 287.449219 L 343.660156 287.722656 L 341.503906 287.449219 L 339.492188 286.652344 L 337.765625 285.382812 L 336.441406 283.730469 L 335.609375 281.804688 L 335.324219 279.738281 Z \"/>\n",
       "<g style=\"fill:rgb(0%,0%,0%);fill-opacity:1;\">\n",
       "  <use xlink:href=\"#glyph1-1\" x=\"156.839844\" y=\"224.009766\"/>\n",
       "</g>\n",
       "<g style=\"fill:rgb(0%,0%,0%);fill-opacity:1;\">\n",
       "  <use xlink:href=\"#glyph1-1\" x=\"163.464844\" y=\"341.076172\"/>\n",
       "</g>\n",
       "<g style=\"fill:rgb(0%,0%,0%);fill-opacity:1;\">\n",
       "  <use xlink:href=\"#glyph1-2\" x=\"273.898438\" y=\"341.576172\"/>\n",
       "</g>\n",
       "<g style=\"fill:rgb(0%,0%,0%);fill-opacity:1;\">\n",
       "  <use xlink:href=\"#glyph1-2\" x=\"340.160156\" y=\"283.041016\"/>\n",
       "</g>\n",
       "<path style=\"fill-rule:nonzero;fill:rgb(100%,100%,100%);fill-opacity:1;stroke-width:0.75;stroke-linecap:round;stroke-linejoin:round;stroke:rgb(0%,0%,0%);stroke-opacity:1;stroke-miterlimit:10;\" d=\"M 143.242188 161.503906 L 143.296875 161.085938 L 143.457031 160.695312 L 143.714844 160.363281 L 144.046875 160.105469 L 144.4375 159.945312 L 144.855469 159.890625 L 164.664062 159.890625 L 165.082031 159.945312 L 165.472656 160.105469 L 165.808594 160.363281 L 166.066406 160.695312 L 166.226562 161.085938 L 166.28125 161.503906 L 166.28125 171.195312 L 166.226562 171.617188 L 166.066406 172.003906 L 165.808594 172.339844 L 165.472656 172.597656 L 165.082031 172.757812 L 164.664062 172.8125 L 144.855469 172.8125 L 144.4375 172.757812 L 144.046875 172.597656 L 143.714844 172.339844 L 143.457031 172.003906 L 143.296875 171.617188 L 143.242188 171.195312 Z \"/>\n",
       "<path style=\"fill-rule:nonzero;fill:rgb(100%,100%,100%);fill-opacity:1;stroke-width:0.75;stroke-linecap:round;stroke-linejoin:round;stroke:rgb(0%,0%,0%);stroke-opacity:1;stroke-miterlimit:10;\" d=\"M 276.980469 161.503906 L 277.035156 161.085938 L 277.199219 160.695312 L 277.453125 160.363281 L 277.789062 160.105469 L 278.179688 159.945312 L 278.597656 159.890625 L 298.40625 159.890625 L 298.824219 159.945312 L 299.214844 160.105469 L 299.546875 160.363281 L 299.804688 160.695312 L 299.964844 161.085938 L 300.019531 161.503906 L 300.019531 171.195312 L 299.964844 171.617188 L 299.804688 172.003906 L 299.546875 172.339844 L 299.214844 172.597656 L 298.824219 172.757812 L 298.40625 172.8125 L 278.597656 172.8125 L 278.179688 172.757812 L 277.789062 172.597656 L 277.453125 172.339844 L 277.199219 172.003906 L 277.035156 171.617188 L 276.980469 171.195312 Z \"/>\n",
       "<g style=\"fill:rgb(0%,0%,0%);fill-opacity:1;\">\n",
       "  <use xlink:href=\"#glyph2-1\" x=\"147.261719\" y=\"168.323242\"/>\n",
       "  <use xlink:href=\"#glyph2-2\" x=\"152.058594\" y=\"168.323242\"/>\n",
       "  <use xlink:href=\"#glyph2-3\" x=\"157.392578\" y=\"168.323242\"/>\n",
       "</g>\n",
       "<g style=\"fill:rgb(0%,0%,0%);fill-opacity:1;\">\n",
       "  <use xlink:href=\"#glyph2-4\" x=\"283\" y=\"168.249023\"/>\n",
       "  <use xlink:href=\"#glyph2-5\" x=\"288.333984\" y=\"168.249023\"/>\n",
       "</g>\n",
       "</g>\n",
       "</svg>\n"
      ],
      "text/plain": [
       "plot without title"
      ]
     },
     "metadata": {
      "image/svg+xml": {
       "isolated": true
      }
     },
     "output_type": "display_data"
    }
   ],
   "source": [
    "prp(wikiCART4)"
   ]
  },
  {
   "cell_type": "code",
   "execution_count": null,
   "metadata": {
    "collapsed": true
   },
   "outputs": [],
   "source": []
  }
 ],
 "metadata": {
  "kernelspec": {
   "display_name": "R",
   "language": "R",
   "name": "ir"
  },
  "language_info": {
   "codemirror_mode": "r",
   "file_extension": ".r",
   "mimetype": "text/x-r-source",
   "name": "R",
   "pygments_lexer": "r",
   "version": "3.2.2"
  }
 },
 "nbformat": 4,
 "nbformat_minor": 0
}
