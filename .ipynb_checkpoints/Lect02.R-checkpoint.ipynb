{
 "cells": [
  {
   "cell_type": "code",
   "execution_count": 1,
   "metadata": {
    "collapsed": false
   },
   "outputs": [
    {
     "data": {
      "text/html": [
       "'/Users/varunm/Projects/vm/R'"
      ],
      "text/latex": [
       "'/Users/varunm/Projects/vm/R'"
      ],
      "text/markdown": [
       "'/Users/varunm/Projects/vm/R'"
      ],
      "text/plain": [
       "[1] \"/Users/varunm/Projects/vm/R\""
      ]
     },
     "execution_count": 1,
     "metadata": {},
     "output_type": "execute_result"
    }
   ],
   "source": [
    "getwd()"
   ]
  },
  {
   "cell_type": "code",
   "execution_count": 2,
   "metadata": {
    "collapsed": true
   },
   "outputs": [],
   "source": [
    "wine = read.csv(\"wine.csv\")"
   ]
  },
  {
   "cell_type": "code",
   "execution_count": 3,
   "metadata": {
    "collapsed": false
   },
   "outputs": [
    {
     "name": "stdout",
     "output_type": "stream",
     "text": [
      "'data.frame':\t25 obs. of  7 variables:\n",
      " $ Year       : int  1952 1953 1955 1957 1958 1959 1960 1961 1962 1963 ...\n",
      " $ Price      : num  7.5 8.04 7.69 6.98 6.78 ...\n",
      " $ WinterRain : int  600 690 502 420 582 485 763 830 697 608 ...\n",
      " $ AGST       : num  17.1 16.7 17.1 16.1 16.4 ...\n",
      " $ HarvestRain: int  160 80 130 110 187 187 290 38 52 155 ...\n",
      " $ Age        : int  31 30 28 26 25 24 23 22 21 20 ...\n",
      " $ FrancePop  : num  43184 43495 44218 45152 45654 ...\n"
     ]
    }
   ],
   "source": [
    "str(wine)"
   ]
  },
  {
   "cell_type": "code",
   "execution_count": 5,
   "metadata": {
    "collapsed": false
   },
   "outputs": [
    {
     "data": {
      "text/plain": [
       "      Year          Price         WinterRain         AGST        HarvestRain   \n",
       " Min.   :1952   Min.   :6.205   Min.   :376.0   Min.   :14.98   Min.   : 38.0  \n",
       " 1st Qu.:1960   1st Qu.:6.519   1st Qu.:536.0   1st Qu.:16.20   1st Qu.: 89.0  \n",
       " Median :1966   Median :7.121   Median :600.0   Median :16.53   Median :130.0  \n",
       " Mean   :1966   Mean   :7.067   Mean   :605.3   Mean   :16.51   Mean   :148.6  \n",
       " 3rd Qu.:1972   3rd Qu.:7.495   3rd Qu.:697.0   3rd Qu.:17.07   3rd Qu.:187.0  \n",
       " Max.   :1978   Max.   :8.494   Max.   :830.0   Max.   :17.65   Max.   :292.0  \n",
       "      Age         FrancePop    \n",
       " Min.   : 5.0   Min.   :43184  \n",
       " 1st Qu.:11.0   1st Qu.:46584  \n",
       " Median :17.0   Median :50255  \n",
       " Mean   :17.2   Mean   :49694  \n",
       " 3rd Qu.:23.0   3rd Qu.:52894  \n",
       " Max.   :31.0   Max.   :54602  "
      ]
     },
     "execution_count": 5,
     "metadata": {},
     "output_type": "execute_result"
    }
   ],
   "source": [
    "summary(wine)"
   ]
  },
  {
   "cell_type": "code",
   "execution_count": 6,
   "metadata": {
    "collapsed": true
   },
   "outputs": [],
   "source": [
    "##Create a linear regression model. Price Vs AGST alone"
   ]
  },
  {
   "cell_type": "code",
   "execution_count": 8,
   "metadata": {
    "collapsed": true
   },
   "outputs": [],
   "source": [
    "model1 = lm(Price~AGST,data=wine)"
   ]
  },
  {
   "cell_type": "code",
   "execution_count": 9,
   "metadata": {
    "collapsed": false
   },
   "outputs": [
    {
     "data": {
      "text/html": [
       "<ol class=list-inline>\n",
       "\t<li>'model'</li>\n",
       "\t<li>'model1'</li>\n",
       "\t<li>'wine'</li>\n",
       "</ol>\n"
      ],
      "text/latex": [
       "\\begin{enumerate*}\n",
       "\\item 'model'\n",
       "\\item 'model1'\n",
       "\\item 'wine'\n",
       "\\end{enumerate*}\n"
      ],
      "text/markdown": [
       "1. 'model'\n",
       "2. 'model1'\n",
       "3. 'wine'\n",
       "\n",
       "\n"
      ],
      "text/plain": [
       "[1] \"model\"  \"model1\" \"wine\"  "
      ]
     },
     "execution_count": 9,
     "metadata": {},
     "output_type": "execute_result"
    }
   ],
   "source": [
    "ls()"
   ]
  },
  {
   "cell_type": "code",
   "execution_count": 10,
   "metadata": {
    "collapsed": true
   },
   "outputs": [],
   "source": [
    "rm(model)"
   ]
  },
  {
   "cell_type": "code",
   "execution_count": 11,
   "metadata": {
    "collapsed": false
   },
   "outputs": [
    {
     "data": {
      "text/html": [
       "<ol class=list-inline>\n",
       "\t<li>'model1'</li>\n",
       "\t<li>'wine'</li>\n",
       "</ol>\n"
      ],
      "text/latex": [
       "\\begin{enumerate*}\n",
       "\\item 'model1'\n",
       "\\item 'wine'\n",
       "\\end{enumerate*}\n"
      ],
      "text/markdown": [
       "1. 'model1'\n",
       "2. 'wine'\n",
       "\n",
       "\n"
      ],
      "text/plain": [
       "[1] \"model1\" \"wine\"  "
      ]
     },
     "execution_count": 11,
     "metadata": {},
     "output_type": "execute_result"
    }
   ],
   "source": [
    "ls()"
   ]
  },
  {
   "cell_type": "code",
   "execution_count": 13,
   "metadata": {
    "collapsed": false
   },
   "outputs": [
    {
     "data": {
      "text/plain": [
       "\n",
       "Call:\n",
       "lm(formula = Price ~ AGST, data = wine)\n",
       "\n",
       "Residuals:\n",
       "     Min       1Q   Median       3Q      Max \n",
       "-0.78450 -0.23882 -0.03727  0.38992  0.90318 \n",
       "\n",
       "Coefficients:\n",
       "            Estimate Std. Error t value Pr(>|t|)    \n",
       "(Intercept)  -3.4178     2.4935  -1.371 0.183710    \n",
       "AGST          0.6351     0.1509   4.208 0.000335 ***\n",
       "---\n",
       "Signif. codes:  0 ‘***’ 0.001 ‘**’ 0.01 ‘*’ 0.05 ‘.’ 0.1 ‘ ’ 1\n",
       "\n",
       "Residual standard error: 0.4993 on 23 degrees of freedom\n",
       "Multiple R-squared:  0.435,\tAdjusted R-squared:  0.4105 \n",
       "F-statistic: 17.71 on 1 and 23 DF,  p-value: 0.000335\n"
      ]
     },
     "execution_count": 13,
     "metadata": {},
     "output_type": "execute_result"
    }
   ],
   "source": [
    "summary(model1)"
   ]
  },
  {
   "cell_type": "code",
   "execution_count": 15,
   "metadata": {
    "collapsed": false
   },
   "outputs": [
    {
     "data": {
      "text/html": [
       "<dl class=dl-horizontal>\n",
       "\t<dt>1</dt>\n",
       "\t\t<dd>0.0420425810460168</dd>\n",
       "\t<dt>2</dt>\n",
       "\t\t<dd>0.82983773852483</dd>\n",
       "\t<dt>3</dt>\n",
       "\t\t<dd>0.211693940607738</dd>\n",
       "\t<dt>4</dt>\n",
       "\t\t<dd>0.156094322998686</dd>\n",
       "\t<dt>5</dt>\n",
       "\t\t<dd>-0.231191403734465</dd>\n",
       "\t<dt>6</dt>\n",
       "\t\t<dd>0.389917007932509</dd>\n",
       "\t<dt>7</dt>\n",
       "\t\t<dd>-0.489591403734465</dd>\n",
       "\t<dt>8</dt>\n",
       "\t\t<dd>0.903181154050973</dd>\n",
       "\t<dt>9</dt>\n",
       "\t\t<dd>0.453724101945698</dd>\n",
       "\t<dt>10</dt>\n",
       "\t\t<dd>0.148874611485033</dd>\n",
       "\t<dt>11</dt>\n",
       "\t\t<dd>-0.238821565072428</dd>\n",
       "\t<dt>12</dt>\n",
       "\t\t<dd>-0.0897423809052179</dd>\n",
       "\t<dt>13</dt>\n",
       "\t\t<dd>0.661856600016114</dd>\n",
       "\t<dt>14</dt>\n",
       "\t\t<dd>-0.0521151077469569</dd>\n",
       "\t<dt>15</dt>\n",
       "\t\t<dd>-0.627266467308658</dd>\n",
       "\t<dt>16</dt>\n",
       "\t\t<dd>-0.747149474918408</dd>\n",
       "\t<dt>17</dt>\n",
       "\t\t<dd>0.421135019401429</dd>\n",
       "\t<dt>18</dt>\n",
       "\t\t<dd>-0.0372744113442156</dd>\n",
       "\t<dt>19</dt>\n",
       "\t\t<dd>0.106852776573576</dd>\n",
       "\t<dt>20</dt>\n",
       "\t\t<dd>-0.784502703581143</dd>\n",
       "\t<dt>21</dt>\n",
       "\t\t<dd>-0.640175898054301</dd>\n",
       "\t<dt>22</dt>\n",
       "\t\t<dd>-0.0550871979009778</dd>\n",
       "\t<dt>23</dt>\n",
       "\t\t<dd>-0.670553213120475</dd>\n",
       "\t<dt>24</dt>\n",
       "\t\t<dd>-0.22040380790028</dd>\n",
       "\t<dt>25</dt>\n",
       "\t\t<dd>0.558665180739389</dd>\n",
       "</dl>\n"
      ],
      "text/latex": [
       "\\begin{description*}\n",
       "\\item[1] 0.0420425810460168\n",
       "\\item[2] 0.82983773852483\n",
       "\\item[3] 0.211693940607738\n",
       "\\item[4] 0.156094322998686\n",
       "\\item[5] -0.231191403734465\n",
       "\\item[6] 0.389917007932509\n",
       "\\item[7] -0.489591403734465\n",
       "\\item[8] 0.903181154050973\n",
       "\\item[9] 0.453724101945698\n",
       "\\item[10] 0.148874611485033\n",
       "\\item[11] -0.238821565072428\n",
       "\\item[12] -0.0897423809052179\n",
       "\\item[13] 0.661856600016114\n",
       "\\item[14] -0.0521151077469569\n",
       "\\item[15] -0.627266467308658\n",
       "\\item[16] -0.747149474918408\n",
       "\\item[17] 0.421135019401429\n",
       "\\item[18] -0.0372744113442156\n",
       "\\item[19] 0.106852776573576\n",
       "\\item[20] -0.784502703581143\n",
       "\\item[21] -0.640175898054301\n",
       "\\item[22] -0.0550871979009778\n",
       "\\item[23] -0.670553213120475\n",
       "\\item[24] -0.22040380790028\n",
       "\\item[25] 0.558665180739389\n",
       "\\end{description*}\n"
      ],
      "text/markdown": [
       "1\n",
       ":   0.04204258104601682\n",
       ":   0.829837738524833\n",
       ":   0.2116939406077384\n",
       ":   0.1560943229986865\n",
       ":   -0.2311914037344656\n",
       ":   0.3899170079325097\n",
       ":   -0.4895914037344658\n",
       ":   0.9031811540509739\n",
       ":   0.45372410194569810\n",
       ":   0.14887461148503311\n",
       ":   -0.23882156507242812\n",
       ":   -0.089742380905217913\n",
       ":   0.66185660001611414\n",
       ":   -0.052115107746956915\n",
       ":   -0.62726646730865816\n",
       ":   -0.74714947491840817\n",
       ":   0.42113501940142918\n",
       ":   -0.037274411344215619\n",
       ":   0.10685277657357620\n",
       ":   -0.78450270358114321\n",
       ":   -0.64017589805430122\n",
       ":   -0.055087197900977823\n",
       ":   -0.67055321312047524\n",
       ":   -0.2204038079002825\n",
       ":   0.558665180739389\n",
       "\n"
      ],
      "text/plain": [
       "          1           2           3           4           5           6 \n",
       " 0.04204258  0.82983774  0.21169394  0.15609432 -0.23119140  0.38991701 \n",
       "          7           8           9          10          11          12 \n",
       "-0.48959140  0.90318115  0.45372410  0.14887461 -0.23882157 -0.08974238 \n",
       "         13          14          15          16          17          18 \n",
       " 0.66185660 -0.05211511 -0.62726647 -0.74714947  0.42113502 -0.03727441 \n",
       "         19          20          21          22          23          24 \n",
       " 0.10685278 -0.78450270 -0.64017590 -0.05508720 -0.67055321 -0.22040381 \n",
       "         25 \n",
       " 0.55866518 "
      ]
     },
     "execution_count": 15,
     "metadata": {},
     "output_type": "execute_result"
    }
   ],
   "source": [
    "model1$residuals\n"
   ]
  },
  {
   "cell_type": "code",
   "execution_count": 16,
   "metadata": {
    "collapsed": true
   },
   "outputs": [],
   "source": [
    "SSE = sum(model1$residuals^2)"
   ]
  },
  {
   "cell_type": "code",
   "execution_count": 17,
   "metadata": {
    "collapsed": false
   },
   "outputs": [
    {
     "data": {
      "text/html": [
       "5.73487514702011"
      ],
      "text/latex": [
       "5.73487514702011"
      ],
      "text/markdown": [
       "5.73487514702011"
      ],
      "text/plain": [
       "[1] 5.734875"
      ]
     },
     "execution_count": 17,
     "metadata": {},
     "output_type": "execute_result"
    }
   ],
   "source": [
    "SSE"
   ]
  },
  {
   "cell_type": "code",
   "execution_count": 18,
   "metadata": {
    "collapsed": true
   },
   "outputs": [],
   "source": [
    "model2 = lm(Price ~ AGST + HarvestRain,data = wine)"
   ]
  },
  {
   "cell_type": "code",
   "execution_count": 19,
   "metadata": {
    "collapsed": false
   },
   "outputs": [
    {
     "data": {
      "text/plain": [
       "\n",
       "Call:\n",
       "lm(formula = Price ~ AGST + HarvestRain, data = wine)\n",
       "\n",
       "Residuals:\n",
       "     Min       1Q   Median       3Q      Max \n",
       "-0.88321 -0.19600  0.06178  0.15379  0.59722 \n",
       "\n",
       "Coefficients:\n",
       "            Estimate Std. Error t value Pr(>|t|)    \n",
       "(Intercept) -2.20265    1.85443  -1.188 0.247585    \n",
       "AGST         0.60262    0.11128   5.415 1.94e-05 ***\n",
       "HarvestRain -0.00457    0.00101  -4.525 0.000167 ***\n",
       "---\n",
       "Signif. codes:  0 ‘***’ 0.001 ‘**’ 0.01 ‘*’ 0.05 ‘.’ 0.1 ‘ ’ 1\n",
       "\n",
       "Residual standard error: 0.3674 on 22 degrees of freedom\n",
       "Multiple R-squared:  0.7074,\tAdjusted R-squared:  0.6808 \n",
       "F-statistic: 26.59 on 2 and 22 DF,  p-value: 1.347e-06\n"
      ]
     },
     "execution_count": 19,
     "metadata": {},
     "output_type": "execute_result"
    }
   ],
   "source": [
    "summary(model2)"
   ]
  },
  {
   "cell_type": "code",
   "execution_count": 20,
   "metadata": {
    "collapsed": true
   },
   "outputs": [],
   "source": [
    "SSE = sum(model2$residuals^2)"
   ]
  },
  {
   "cell_type": "code",
   "execution_count": 21,
   "metadata": {
    "collapsed": false
   },
   "outputs": [
    {
     "data": {
      "text/html": [
       "2.97037334017354"
      ],
      "text/latex": [
       "2.97037334017354"
      ],
      "text/markdown": [
       "2.97037334017354"
      ],
      "text/plain": [
       "[1] 2.970373"
      ]
     },
     "execution_count": 21,
     "metadata": {},
     "output_type": "execute_result"
    }
   ],
   "source": [
    "SSE"
   ]
  },
  {
   "cell_type": "code",
   "execution_count": 22,
   "metadata": {
    "collapsed": false
   },
   "outputs": [
    {
     "data": {
      "text/html": [
       "<ol class=list-inline>\n",
       "\t<li>'Year'</li>\n",
       "\t<li>'Price'</li>\n",
       "\t<li>'WinterRain'</li>\n",
       "\t<li>'AGST'</li>\n",
       "\t<li>'HarvestRain'</li>\n",
       "\t<li>'Age'</li>\n",
       "\t<li>'FrancePop'</li>\n",
       "</ol>\n"
      ],
      "text/latex": [
       "\\begin{enumerate*}\n",
       "\\item 'Year'\n",
       "\\item 'Price'\n",
       "\\item 'WinterRain'\n",
       "\\item 'AGST'\n",
       "\\item 'HarvestRain'\n",
       "\\item 'Age'\n",
       "\\item 'FrancePop'\n",
       "\\end{enumerate*}\n"
      ],
      "text/markdown": [
       "1. 'Year'\n",
       "2. 'Price'\n",
       "3. 'WinterRain'\n",
       "4. 'AGST'\n",
       "5. 'HarvestRain'\n",
       "6. 'Age'\n",
       "7. 'FrancePop'\n",
       "\n",
       "\n"
      ],
      "text/plain": [
       "[1] \"Year\"        \"Price\"       \"WinterRain\"  \"AGST\"        \"HarvestRain\"\n",
       "[6] \"Age\"         \"FrancePop\"  "
      ]
     },
     "execution_count": 22,
     "metadata": {},
     "output_type": "execute_result"
    }
   ],
   "source": [
    "names(wine)"
   ]
  },
  {
   "cell_type": "code",
   "execution_count": 23,
   "metadata": {
    "collapsed": true
   },
   "outputs": [],
   "source": [
    "model3 = lm(Price~AGST+HarvestRain+WinterRain+Age+FrancePop, data = wine)"
   ]
  },
  {
   "cell_type": "code",
   "execution_count": 24,
   "metadata": {
    "collapsed": false
   },
   "outputs": [
    {
     "data": {
      "text/plain": [
       "\n",
       "Call:\n",
       "lm(formula = Price ~ AGST + HarvestRain + WinterRain + Age + \n",
       "    FrancePop, data = wine)\n",
       "\n",
       "Residuals:\n",
       "     Min       1Q   Median       3Q      Max \n",
       "-0.48179 -0.24662 -0.00726  0.22012  0.51987 \n",
       "\n",
       "Coefficients:\n",
       "              Estimate Std. Error t value Pr(>|t|)    \n",
       "(Intercept) -4.504e-01  1.019e+01  -0.044 0.965202    \n",
       "AGST         6.012e-01  1.030e-01   5.836 1.27e-05 ***\n",
       "HarvestRain -3.958e-03  8.751e-04  -4.523 0.000233 ***\n",
       "WinterRain   1.043e-03  5.310e-04   1.963 0.064416 .  \n",
       "Age          5.847e-04  7.900e-02   0.007 0.994172    \n",
       "FrancePop   -4.953e-05  1.667e-04  -0.297 0.769578    \n",
       "---\n",
       "Signif. codes:  0 ‘***’ 0.001 ‘**’ 0.01 ‘*’ 0.05 ‘.’ 0.1 ‘ ’ 1\n",
       "\n",
       "Residual standard error: 0.3019 on 19 degrees of freedom\n",
       "Multiple R-squared:  0.8294,\tAdjusted R-squared:  0.7845 \n",
       "F-statistic: 18.47 on 5 and 19 DF,  p-value: 1.044e-06\n"
      ]
     },
     "execution_count": 24,
     "metadata": {},
     "output_type": "execute_result"
    }
   ],
   "source": [
    "summary(model3)"
   ]
  },
  {
   "cell_type": "code",
   "execution_count": 25,
   "metadata": {
    "collapsed": false
   },
   "outputs": [
    {
     "data": {
      "text/html": [
       "1.7321127153438"
      ],
      "text/latex": [
       "1.7321127153438"
      ],
      "text/markdown": [
       "1.7321127153438"
      ],
      "text/plain": [
       "[1] 1.732113"
      ]
     },
     "execution_count": 25,
     "metadata": {},
     "output_type": "execute_result"
    }
   ],
   "source": [
    "SSE = sum(model3$residuals^2)\n",
    "SSE"
   ]
  },
  {
   "cell_type": "markdown",
   "metadata": {},
   "source": [
    "## Notes"
   ]
  },
  {
   "cell_type": "markdown",
   "metadata": {},
   "source": [
    "1. Std.Err indicates the possible error for the coefficients\n",
    "2. t value = Estimate/(Std Error) : Higher absolute values would indicate the variable is important\n",
    "3. Pr(>|t|) : To be interpreted as proabability. Indicates how likely the coefficient is likely to be 0. Lower value indicate the variable is important\n",
    "4. The number of stars and dot\n",
    "\n",
    "\\*\\*\\* Variable very important. Probability of coeff being 0 between 0 and 0.001  \n",
    "\\*\\* Variable important. Probability between 0.001 and 0.01  \n",
    "\\* Variable important. Probability between 0.01 and 0.05  \n",
    ". Variable somewhat important. Probability between 0.05 and 0.1  \n",
    "Nothing : Variable not important . Probability between 0.1 and 1  \n",
    "\n",
    "Signif. codes:  0 ‘***’ 0.001 ‘**’ 0.01 ‘*’ 0.05 ‘.’ 0.1 ‘ ’ 1\n"
   ]
  },
  {
   "cell_type": "markdown",
   "metadata": {},
   "source": [
    "#### Now that variables Age and FrancePop look insignificant, let us try to create a model by removing 'FrancePop'"
   ]
  },
  {
   "cell_type": "code",
   "execution_count": 26,
   "metadata": {
    "collapsed": true
   },
   "outputs": [],
   "source": [
    "model4 = lm(Price~AGST+HarvestRain+WinterRain+Age,data=wine)"
   ]
  },
  {
   "cell_type": "code",
   "execution_count": 27,
   "metadata": {
    "collapsed": false
   },
   "outputs": [
    {
     "data": {
      "text/plain": [
       "\n",
       "Call:\n",
       "lm(formula = Price ~ AGST + HarvestRain + WinterRain + Age, data = wine)\n",
       "\n",
       "Residuals:\n",
       "     Min       1Q   Median       3Q      Max \n",
       "-0.45470 -0.24273  0.00752  0.19773  0.53637 \n",
       "\n",
       "Coefficients:\n",
       "              Estimate Std. Error t value Pr(>|t|)    \n",
       "(Intercept) -3.4299802  1.7658975  -1.942 0.066311 .  \n",
       "AGST         0.6072093  0.0987022   6.152  5.2e-06 ***\n",
       "HarvestRain -0.0039715  0.0008538  -4.652 0.000154 ***\n",
       "WinterRain   0.0010755  0.0005073   2.120 0.046694 *  \n",
       "Age          0.0239308  0.0080969   2.956 0.007819 ** \n",
       "---\n",
       "Signif. codes:  0 ‘***’ 0.001 ‘**’ 0.01 ‘*’ 0.05 ‘.’ 0.1 ‘ ’ 1\n",
       "\n",
       "Residual standard error: 0.295 on 20 degrees of freedom\n",
       "Multiple R-squared:  0.8286,\tAdjusted R-squared:  0.7943 \n",
       "F-statistic: 24.17 on 4 and 20 DF,  p-value: 2.036e-07\n"
      ]
     },
     "execution_count": 27,
     "metadata": {},
     "output_type": "execute_result"
    }
   ],
   "source": [
    "summary(model4)"
   ]
  },
  {
   "cell_type": "code",
   "execution_count": 29,
   "metadata": {
    "collapsed": false
   },
   "outputs": [
    {
     "data": {
      "text/html": [
       "1.74016220138498"
      ],
      "text/latex": [
       "1.74016220138498"
      ],
      "text/markdown": [
       "1.74016220138498"
      ],
      "text/plain": [
       "[1] 1.740162"
      ]
     },
     "execution_count": 29,
     "metadata": {},
     "output_type": "execute_result"
    }
   ],
   "source": [
    "SSE = sum(model4$residuals^2)\n",
    "SSE"
   ]
  },
  {
   "cell_type": "markdown",
   "metadata": {},
   "source": [
    "#### Observation is that the model is almost as good as earlier one. Another important thing to note is that the variable Age became important now. This is because it is highly correlated with 'FrancePop'"
   ]
  },
  {
   "cell_type": "code",
   "execution_count": 31,
   "metadata": {
    "collapsed": true
   },
   "outputs": [],
   "source": [
    "model5 = lm(Price~AGST+HarvestRain+WinterRain+FrancePop,data = wine)"
   ]
  },
  {
   "cell_type": "code",
   "execution_count": 32,
   "metadata": {
    "collapsed": false
   },
   "outputs": [
    {
     "data": {
      "text/plain": [
       "\n",
       "Call:\n",
       "lm(formula = Price ~ AGST + HarvestRain + WinterRain + FrancePop, \n",
       "    data = wine)\n",
       "\n",
       "Residuals:\n",
       "     Min       1Q   Median       3Q      Max \n",
       "-0.48252 -0.24636 -0.00699  0.22089  0.51949 \n",
       "\n",
       "Coefficients:\n",
       "              Estimate Std. Error t value Pr(>|t|)    \n",
       "(Intercept) -3.768e-01  2.180e+00  -0.173 0.864529    \n",
       "AGST         6.011e-01  9.898e-02   6.073 6.17e-06 ***\n",
       "HarvestRain -3.958e-03  8.518e-04  -4.646 0.000156 ***\n",
       "WinterRain   1.042e-03  5.070e-04   2.055 0.053202 .  \n",
       "FrancePop   -5.075e-05  1.704e-05  -2.978 0.007434 ** \n",
       "---\n",
       "Signif. codes:  0 ‘***’ 0.001 ‘**’ 0.01 ‘*’ 0.05 ‘.’ 0.1 ‘ ’ 1\n",
       "\n",
       "Residual standard error: 0.2943 on 20 degrees of freedom\n",
       "Multiple R-squared:  0.8294,\tAdjusted R-squared:  0.7952 \n",
       "F-statistic:  24.3 on 4 and 20 DF,  p-value: 1.945e-07\n"
      ]
     },
     "execution_count": 32,
     "metadata": {},
     "output_type": "execute_result"
    }
   ],
   "source": [
    "summary(model5)"
   ]
  },
  {
   "cell_type": "markdown",
   "metadata": {},
   "source": [
    "#### Quiz"
   ]
  },
  {
   "cell_type": "code",
   "execution_count": 33,
   "metadata": {
    "collapsed": false
   },
   "outputs": [
    {
     "data": {
      "text/plain": [
       "\n",
       "Call:\n",
       "lm(formula = Price ~ HarvestRain + WinterRain, data = wine)\n",
       "\n",
       "Residuals:\n",
       "    Min      1Q  Median      3Q     Max \n",
       "-1.0933 -0.3222 -0.1012  0.3871  1.1877 \n",
       "\n",
       "Coefficients:\n",
       "              Estimate Std. Error t value Pr(>|t|)    \n",
       "(Intercept)  7.865e+00  6.616e-01  11.888 4.76e-11 ***\n",
       "HarvestRain -4.971e-03  1.601e-03  -3.105  0.00516 ** \n",
       "WinterRain  -9.848e-05  9.007e-04  -0.109  0.91392    \n",
       "---\n",
       "Signif. codes:  0 ‘***’ 0.001 ‘**’ 0.01 ‘*’ 0.05 ‘.’ 0.1 ‘ ’ 1\n",
       "\n",
       "Residual standard error: 0.5611 on 22 degrees of freedom\n",
       "Multiple R-squared:  0.3177,\tAdjusted R-squared:  0.2557 \n",
       "F-statistic: 5.122 on 2 and 22 DF,  p-value: 0.01492\n"
      ]
     },
     "execution_count": 33,
     "metadata": {},
     "output_type": "execute_result"
    }
   ],
   "source": [
    "model6 = lm(Price~HarvestRain+WinterRain,data = wine)\n",
    "summary(model6)"
   ]
  },
  {
   "cell_type": "code",
   "execution_count": 34,
   "metadata": {
    "collapsed": false
   },
   "outputs": [
    {
     "data": {
      "text/html": [
       "6.92575608658695"
      ],
      "text/latex": [
       "6.92575608658695"
      ],
      "text/markdown": [
       "6.92575608658695"
      ],
      "text/plain": [
       "[1] 6.925756"
      ]
     },
     "execution_count": 34,
     "metadata": {},
     "output_type": "execute_result"
    }
   ],
   "source": [
    "sum(model6$residuals^2)"
   ]
  },
  {
   "cell_type": "markdown",
   "metadata": {},
   "source": [
    "## Correlation"
   ]
  },
  {
   "cell_type": "markdown",
   "metadata": {},
   "source": [
    "Correlation measures the linear relationship between two\n",
    "variables and is a number between -1 and +1.\n",
    "\n",
    "A correlation of +1 means a perfect positive linear\n",
    "relationship.\n",
    "\n",
    "A correlation of -1 means a perfect negative linear\n",
    "relationship.\n",
    "\n",
    "In the middle of these two extremes is a correlation of 0, which means\n",
    "that there is no linear relationship between the two variables."
   ]
  },
  {
   "cell_type": "code",
   "execution_count": 36,
   "metadata": {
    "collapsed": false
   },
   "outputs": [
    {
     "data": {
      "text/html": [
       "0.13665054738763"
      ],
      "text/latex": [
       "0.13665054738763"
      ],
      "text/markdown": [
       "0.13665054738763"
      ],
      "text/plain": [
       "[1] 0.1366505"
      ]
     },
     "execution_count": 36,
     "metadata": {},
     "output_type": "execute_result"
    }
   ],
   "source": [
    "#correlation between winter rain and price\n",
    "cor(wine$WinterRain,wine$Price)"
   ]
  },
  {
   "cell_type": "code",
   "execution_count": 37,
   "metadata": {
    "collapsed": false
   },
   "outputs": [
    {
     "data": {
      "text/html": [
       "-0.994485097111455"
      ],
      "text/latex": [
       "-0.994485097111455"
      ],
      "text/markdown": [
       "-0.994485097111455"
      ],
      "text/plain": [
       "[1] -0.9944851"
      ]
     },
     "execution_count": 37,
     "metadata": {},
     "output_type": "execute_result"
    }
   ],
   "source": [
    "cor(wine$Age,wine$FrancePop)"
   ]
  },
  {
   "cell_type": "code",
   "execution_count": 38,
   "metadata": {
    "collapsed": false
   },
   "outputs": [
    {
     "data": {
      "image/png": "[encoded data removed]",
      "text/plain": [
       "plot without title"
      ]
     },
     "metadata": {
      "image/svg+xml": {
       "isolated": true
      }
     },
     "output_type": "display_data"
    }
   ],
   "source": [
    "plot(wine$Age,wine$FrancePop)"
   ]
  },
  {
   "cell_type": "code",
   "execution_count": 42,
   "metadata": {
    "collapsed": false
   },
   "outputs": [
    {
     "name": "stdout",
     "output_type": "stream",
     "text": [
      "'data.frame':\t25 obs. of  7 variables:\n",
      " $ Year       : int  1952 1953 1955 1957 1958 1959 1960 1961 1962 1963 ...\n",
      " $ Price      : num  7.5 8.04 7.69 6.98 6.78 ...\n",
      " $ WinterRain : int  600 690 502 420 582 485 763 830 697 608 ...\n",
      " $ AGST       : num  17.1 16.7 17.1 16.1 16.4 ...\n",
      " $ HarvestRain: int  160 80 130 110 187 187 290 38 52 155 ...\n",
      " $ Age        : int  31 30 28 26 25 24 23 22 21 20 ...\n",
      " $ FrancePop  : num  43184 43495 44218 45152 45654 ...\n"
     ]
    },
    {
     "data": {
      "text/html": [
       "25"
      ],
      "text/latex": [
       "25"
      ],
      "text/markdown": [
       "25"
      ],
      "text/plain": [
       "[1] 25"
      ]
     },
     "execution_count": 42,
     "metadata": {},
     "output_type": "execute_result"
    },
    {
     "data": {
      "text/html": [
       "7"
      ],
      "text/latex": [
       "7"
      ],
      "text/markdown": [
       "7"
      ],
      "text/plain": [
       "[1] 7"
      ]
     },
     "execution_count": 42,
     "metadata": {},
     "output_type": "execute_result"
    }
   ],
   "source": [
    "str(wine)\n",
    "nrow(wine)\n",
    "ncol(wine)"
   ]
  },
  {
   "cell_type": "code",
   "execution_count": 43,
   "metadata": {
    "collapsed": false
   },
   "outputs": [
    {
     "data": {
      "text/html": [
       "'data.frame'"
      ],
      "text/latex": [
       "'data.frame'"
      ],
      "text/markdown": [
       "'data.frame'"
      ],
      "text/plain": [
       "[1] \"data.frame\""
      ]
     },
     "execution_count": 43,
     "metadata": {},
     "output_type": "execute_result"
    }
   ],
   "source": [
    "class(wine)"
   ]
  },
  {
   "cell_type": "code",
   "execution_count": 45,
   "metadata": {
    "collapsed": false
   },
   "outputs": [
    {
     "data": {
      "text/html": [
       "<table>\n",
       "<thead><tr><th></th><th scope=col>Year</th><th scope=col>Price</th><th scope=col>WinterRain</th><th scope=col>AGST</th><th scope=col>HarvestRain</th><th scope=col>Age</th><th scope=col>FrancePop</th></tr></thead>\n",
       "<tbody>\n",
       "\t<tr><th scope=row>Year</th><td> 1.00000000</td><td>-0.44776786</td><td> 0.01697002</td><td>-0.24691585</td><td> 0.02800907</td><td>-1.00000000</td><td> 0.99448510</td></tr>\n",
       "\t<tr><th scope=row>Price</th><td>-0.4477679</td><td> 1.0000000</td><td> 0.1366505</td><td> 0.6595629</td><td>-0.5633219</td><td> 0.4477679</td><td>-0.4668616</td></tr>\n",
       "\t<tr><th scope=row>WinterRain</th><td> 0.016970024</td><td> 0.136650547</td><td> 1.000000000</td><td>-0.321090611</td><td>-0.275440854</td><td>-0.016970024</td><td>-0.001621627</td></tr>\n",
       "\t<tr><th scope=row>AGST</th><td>-0.24691585</td><td> 0.65956286</td><td>-0.32109061</td><td> 1.00000000</td><td>-0.06449593</td><td> 0.24691585</td><td>-0.25916227</td></tr>\n",
       "\t<tr><th scope=row>HarvestRain</th><td> 0.02800907</td><td>-0.56332190</td><td>-0.27544085</td><td>-0.06449593</td><td> 1.00000000</td><td>-0.02800907</td><td> 0.04126439</td></tr>\n",
       "\t<tr><th scope=row>Age</th><td>-1.00000000</td><td> 0.44776786</td><td>-0.01697002</td><td> 0.24691585</td><td>-0.02800907</td><td> 1.00000000</td><td>-0.99448510</td></tr>\n",
       "\t<tr><th scope=row>FrancePop</th><td> 0.994485097</td><td>-0.466861641</td><td>-0.001621627</td><td>-0.259162274</td><td> 0.041264394</td><td>-0.994485097</td><td> 1.000000000</td></tr>\n",
       "</tbody>\n",
       "</table>\n"
      ],
      "text/latex": [
       "\\begin{tabular}{r|lllllll}\n",
       "  & Year & Price & WinterRain & AGST & HarvestRain & Age & FrancePop\\\\\n",
       "\\hline\n",
       "\tYear &  1.00000000 & -0.44776786 &  0.01697002 & -0.24691585 &  0.02800907 & -1.00000000 &  0.99448510\\\\\n",
       "\tPrice & -0.4477679 &  1.0000000 &  0.1366505 &  0.6595629 & -0.5633219 &  0.4477679 & -0.4668616\\\\\n",
       "\tWinterRain &  0.016970024 &  0.136650547 &  1.000000000 & -0.321090611 & -0.275440854 & -0.016970024 & -0.001621627\\\\\n",
       "\tAGST & -0.24691585 &  0.65956286 & -0.32109061 &  1.00000000 & -0.06449593 &  0.24691585 & -0.25916227\\\\\n",
       "\tHarvestRain &  0.02800907 & -0.56332190 & -0.27544085 & -0.06449593 &  1.00000000 & -0.02800907 &  0.04126439\\\\\n",
       "\tAge & -1.00000000 &  0.44776786 & -0.01697002 &  0.24691585 & -0.02800907 &  1.00000000 & -0.99448510\\\\\n",
       "\tFrancePop &  0.994485097 & -0.466861641 & -0.001621627 & -0.259162274 &  0.041264394 & -0.994485097 &  1.000000000\\\\\n",
       "\\end{tabular}\n"
      ],
      "text/markdown": [
       "1. 1\n",
       "2. -0.447767855382989\n",
       "3. 0.0169700237062503\n",
       "4. -0.246915850391149\n",
       "5. 0.0280090727015615\n",
       "6. -1\n",
       "7. 0.994485097111455\n",
       "8. -0.447767855382989\n",
       "9. 1\n",
       "10. 0.13665054738763\n",
       "11. 0.659562861143591\n",
       "12. -0.563321903510208\n",
       "13. 0.447767855382989\n",
       "14. -0.466861641249636\n",
       "15. 0.0169700237062503\n",
       "16. 0.13665054738763\n",
       "17. 1\n",
       "18. -0.321090610600727\n",
       "19. -0.275440854498618\n",
       "20. -0.0169700237062503\n",
       "21. -0.00162162696466083\n",
       "22. -0.246915850391149\n",
       "23. 0.659562861143591\n",
       "24. -0.321090610600727\n",
       "25. 1\n",
       "26. -0.0644959302726223\n",
       "27. 0.246915850391149\n",
       "28. -0.259162273546354\n",
       "29. 0.0280090727015615\n",
       "30. -0.563321903510208\n",
       "31. -0.275440854498618\n",
       "32. -0.0644959302726223\n",
       "33. 1\n",
       "34. -0.0280090727015615\n",
       "35. 0.041264394415047\n",
       "36. -1\n",
       "37. 0.447767855382989\n",
       "38. -0.0169700237062503\n",
       "39. 0.246915850391149\n",
       "40. -0.0280090727015615\n",
       "41. 1\n",
       "42. -0.994485097111455\n",
       "43. 0.994485097111455\n",
       "44. -0.466861641249636\n",
       "45. -0.00162162696466083\n",
       "46. -0.259162273546354\n",
       "47. 0.041264394415047\n",
       "48. -0.994485097111455\n",
       "49. 1\n",
       "\n",
       "\n"
      ],
      "text/plain": [
       "                   Year      Price   WinterRain        AGST HarvestRain\n",
       "Year         1.00000000 -0.4477679  0.016970024 -0.24691585  0.02800907\n",
       "Price       -0.44776786  1.0000000  0.136650547  0.65956286 -0.56332190\n",
       "WinterRain   0.01697002  0.1366505  1.000000000 -0.32109061 -0.27544085\n",
       "AGST        -0.24691585  0.6595629 -0.321090611  1.00000000 -0.06449593\n",
       "HarvestRain  0.02800907 -0.5633219 -0.275440854 -0.06449593  1.00000000\n",
       "Age         -1.00000000  0.4477679 -0.016970024  0.24691585 -0.02800907\n",
       "FrancePop    0.99448510 -0.4668616 -0.001621627 -0.25916227  0.04126439\n",
       "                    Age    FrancePop\n",
       "Year        -1.00000000  0.994485097\n",
       "Price        0.44776786 -0.466861641\n",
       "WinterRain  -0.01697002 -0.001621627\n",
       "AGST         0.24691585 -0.259162274\n",
       "HarvestRain -0.02800907  0.041264394\n",
       "Age          1.00000000 -0.994485097\n",
       "FrancePop   -0.99448510  1.000000000"
      ]
     },
     "execution_count": 45,
     "metadata": {},
     "output_type": "execute_result"
    }
   ],
   "source": [
    "t=cor(wine)\n",
    "t"
   ]
  },
  {
   "cell_type": "code",
   "execution_count": 51,
   "metadata": {
    "collapsed": false
   },
   "outputs": [
    {
     "data": {
      "text/html": [
       "<dl class=dl-horizontal>\n",
       "\t<dt>Year</dt>\n",
       "\t\t<dd>-0.447767855382989</dd>\n",
       "\t<dt>Price</dt>\n",
       "\t\t<dd>1</dd>\n",
       "\t<dt>WinterRain</dt>\n",
       "\t\t<dd>0.13665054738763</dd>\n",
       "\t<dt>AGST</dt>\n",
       "\t\t<dd>0.659562861143591</dd>\n",
       "\t<dt>HarvestRain</dt>\n",
       "\t\t<dd>-0.563321903510208</dd>\n",
       "\t<dt>Age</dt>\n",
       "\t\t<dd>0.447767855382989</dd>\n",
       "\t<dt>FrancePop</dt>\n",
       "\t\t<dd>-0.466861641249636</dd>\n",
       "</dl>\n"
      ],
      "text/latex": [
       "\\begin{description*}\n",
       "\\item[Year] -0.447767855382989\n",
       "\\item[Price] 1\n",
       "\\item[WinterRain] 0.13665054738763\n",
       "\\item[AGST] 0.659562861143591\n",
       "\\item[HarvestRain] -0.563321903510208\n",
       "\\item[Age] 0.447767855382989\n",
       "\\item[FrancePop] -0.466861641249636\n",
       "\\end{description*}\n"
      ],
      "text/markdown": [
       "Year\n",
       ":   -0.447767855382989Price\n",
       ":   1WinterRain\n",
       ":   0.13665054738763AGST\n",
       ":   0.659562861143591HarvestRain\n",
       ":   -0.563321903510208Age\n",
       ":   0.447767855382989FrancePop\n",
       ":   -0.466861641249636\n",
       "\n"
      ],
      "text/plain": [
       "       Year       Price  WinterRain        AGST HarvestRain         Age \n",
       " -0.4477679   1.0000000   0.1366505   0.6595629  -0.5633219   0.4477679 \n",
       "  FrancePop \n",
       " -0.4668616 "
      ]
     },
     "execution_count": 51,
     "metadata": {},
     "output_type": "execute_result"
    }
   ],
   "source": [
    "t[,\"Price\"]"
   ]
  },
  {
   "cell_type": "markdown",
   "metadata": {},
   "source": [
    "### Multicollinearity : Situation where two independent variable are highly correlated"
   ]
  },
  {
   "cell_type": "markdown",
   "metadata": {},
   "source": [
    "### 1.A high correlation between the independent variable and the dependent variable is a good thing  \n",
    "### 2. Now due to the possibility of multicollinearity,you always want to remove the insignificant variables one at a time"
   ]
  },
  {
   "cell_type": "markdown",
   "metadata": {},
   "source": [
    "Check out what would have happened if we removed both age and francepop together"
   ]
  },
  {
   "cell_type": "code",
   "execution_count": 54,
   "metadata": {
    "collapsed": false
   },
   "outputs": [
    {
     "data": {
      "text/plain": [
       "\n",
       "Call:\n",
       "lm(formula = Price ~ AGST + HarvestRain + WinterRain, data = wine)\n",
       "\n",
       "Residuals:\n",
       "     Min       1Q   Median       3Q      Max \n",
       "-0.67472 -0.12958  0.01973  0.20751  0.63846 \n",
       "\n",
       "Coefficients:\n",
       "              Estimate Std. Error t value Pr(>|t|)    \n",
       "(Intercept) -4.3016263  2.0366743  -2.112 0.046831 *  \n",
       "AGST         0.6810242  0.1117011   6.097 4.75e-06 ***\n",
       "HarvestRain -0.0039481  0.0009987  -3.953 0.000726 ***\n",
       "WinterRain   0.0011765  0.0005920   1.987 0.060097 .  \n",
       "---\n",
       "Signif. codes:  0 ‘***’ 0.001 ‘**’ 0.01 ‘*’ 0.05 ‘.’ 0.1 ‘ ’ 1\n",
       "\n",
       "Residual standard error: 0.345 on 21 degrees of freedom\n",
       "Multiple R-squared:  0.7537,\tAdjusted R-squared:  0.7185 \n",
       "F-statistic: 21.42 on 3 and 21 DF,  p-value: 1.359e-06\n"
      ]
     },
     "execution_count": 54,
     "metadata": {},
     "output_type": "execute_result"
    }
   ],
   "source": [
    "model7 = lm(Price~AGST+HarvestRain+WinterRain,data = wine)\n",
    "summary(model7)"
   ]
  },
  {
   "cell_type": "markdown",
   "metadata": {},
   "source": [
    "##### Multicollinearity reminds us that coefficients are only interpretable in the presence of other variables being used. High correlations can even cause coefficients to have an unintuitive sign."
   ]
  },
  {
   "cell_type": "markdown",
   "metadata": {},
   "source": [
    " typically, a correlation greater than 0.7\n",
    "or less than -0.7 is cause for concern."
   ]
  },
  {
   "cell_type": "code",
   "execution_count": 57,
   "metadata": {
    "collapsed": false
   },
   "outputs": [
    {
     "data": {
      "text/html": [
       "<table>\n",
       "<thead><tr><th></th><th scope=col>Year</th><th scope=col>Price</th><th scope=col>WinterRain</th><th scope=col>AGST</th><th scope=col>HarvestRain</th><th scope=col>Age</th><th scope=col>FrancePop</th></tr></thead>\n",
       "<tbody>\n",
       "\t<tr><th scope=row>Year</th><td> TRUE</td><td>FALSE</td><td>FALSE</td><td>FALSE</td><td>FALSE</td><td> TRUE</td><td> TRUE</td></tr>\n",
       "\t<tr><th scope=row>Price</th><td>FALSE</td><td> TRUE</td><td>FALSE</td><td>FALSE</td><td>FALSE</td><td>FALSE</td><td>FALSE</td></tr>\n",
       "\t<tr><th scope=row>WinterRain</th><td>FALSE</td><td>FALSE</td><td> TRUE</td><td>FALSE</td><td>FALSE</td><td>FALSE</td><td>FALSE</td></tr>\n",
       "\t<tr><th scope=row>AGST</th><td>FALSE</td><td>FALSE</td><td>FALSE</td><td> TRUE</td><td>FALSE</td><td>FALSE</td><td>FALSE</td></tr>\n",
       "\t<tr><th scope=row>HarvestRain</th><td>FALSE</td><td>FALSE</td><td>FALSE</td><td>FALSE</td><td> TRUE</td><td>FALSE</td><td>FALSE</td></tr>\n",
       "\t<tr><th scope=row>Age</th><td> TRUE</td><td>FALSE</td><td>FALSE</td><td>FALSE</td><td>FALSE</td><td> TRUE</td><td> TRUE</td></tr>\n",
       "\t<tr><th scope=row>FrancePop</th><td> TRUE</td><td>FALSE</td><td>FALSE</td><td>FALSE</td><td>FALSE</td><td> TRUE</td><td> TRUE</td></tr>\n",
       "</tbody>\n",
       "</table>\n"
      ],
      "text/latex": [
       "\\begin{tabular}{r|lllllll}\n",
       "  & Year & Price & WinterRain & AGST & HarvestRain & Age & FrancePop\\\\\n",
       "\\hline\n",
       "\tYear &  TRUE & FALSE & FALSE & FALSE & FALSE &  TRUE &  TRUE\\\\\n",
       "\tPrice & FALSE &  TRUE & FALSE & FALSE & FALSE & FALSE & FALSE\\\\\n",
       "\tWinterRain & FALSE & FALSE &  TRUE & FALSE & FALSE & FALSE & FALSE\\\\\n",
       "\tAGST & FALSE & FALSE & FALSE &  TRUE & FALSE & FALSE & FALSE\\\\\n",
       "\tHarvestRain & FALSE & FALSE & FALSE & FALSE &  TRUE & FALSE & FALSE\\\\\n",
       "\tAge &  TRUE & FALSE & FALSE & FALSE & FALSE &  TRUE &  TRUE\\\\\n",
       "\tFrancePop &  TRUE & FALSE & FALSE & FALSE & FALSE &  TRUE &  TRUE\\\\\n",
       "\\end{tabular}\n"
      ],
      "text/markdown": [
       "1. TRUE\n",
       "2. FALSE\n",
       "3. FALSE\n",
       "4. FALSE\n",
       "5. FALSE\n",
       "6. TRUE\n",
       "7. TRUE\n",
       "8. FALSE\n",
       "9. TRUE\n",
       "10. FALSE\n",
       "11. FALSE\n",
       "12. FALSE\n",
       "13. FALSE\n",
       "14. FALSE\n",
       "15. FALSE\n",
       "16. FALSE\n",
       "17. TRUE\n",
       "18. FALSE\n",
       "19. FALSE\n",
       "20. FALSE\n",
       "21. FALSE\n",
       "22. FALSE\n",
       "23. FALSE\n",
       "24. FALSE\n",
       "25. TRUE\n",
       "26. FALSE\n",
       "27. FALSE\n",
       "28. FALSE\n",
       "29. FALSE\n",
       "30. FALSE\n",
       "31. FALSE\n",
       "32. FALSE\n",
       "33. TRUE\n",
       "34. FALSE\n",
       "35. FALSE\n",
       "36. TRUE\n",
       "37. FALSE\n",
       "38. FALSE\n",
       "39. FALSE\n",
       "40. FALSE\n",
       "41. TRUE\n",
       "42. TRUE\n",
       "43. TRUE\n",
       "44. FALSE\n",
       "45. FALSE\n",
       "46. FALSE\n",
       "47. FALSE\n",
       "48. TRUE\n",
       "49. TRUE\n",
       "\n",
       "\n"
      ],
      "text/plain": [
       "             Year Price WinterRain  AGST HarvestRain   Age FrancePop\n",
       "Year         TRUE FALSE      FALSE FALSE       FALSE  TRUE      TRUE\n",
       "Price       FALSE  TRUE      FALSE FALSE       FALSE FALSE     FALSE\n",
       "WinterRain  FALSE FALSE       TRUE FALSE       FALSE FALSE     FALSE\n",
       "AGST        FALSE FALSE      FALSE  TRUE       FALSE FALSE     FALSE\n",
       "HarvestRain FALSE FALSE      FALSE FALSE        TRUE FALSE     FALSE\n",
       "Age          TRUE FALSE      FALSE FALSE       FALSE  TRUE      TRUE\n",
       "FrancePop    TRUE FALSE      FALSE FALSE       FALSE  TRUE      TRUE"
      ]
     },
     "execution_count": 57,
     "metadata": {},
     "output_type": "execute_result"
    }
   ],
   "source": [
    "t>0.7 | t< -0.7"
   ]
  },
  {
   "cell_type": "code",
   "execution_count": 58,
   "metadata": {
    "collapsed": false
   },
   "outputs": [
    {
     "data": {
      "text/html": [
       "<table>\n",
       "<thead><tr><th></th><th scope=col>Year</th><th scope=col>Price</th><th scope=col>WinterRain</th><th scope=col>AGST</th><th scope=col>HarvestRain</th><th scope=col>Age</th><th scope=col>FrancePop</th></tr></thead>\n",
       "<tbody>\n",
       "\t<tr><th scope=row>Year</th><td> 1.00000000</td><td>-0.44776786</td><td> 0.01697002</td><td>-0.24691585</td><td> 0.02800907</td><td>-1.00000000</td><td> 0.99448510</td></tr>\n",
       "\t<tr><th scope=row>Price</th><td>-0.4477679</td><td> 1.0000000</td><td> 0.1366505</td><td> 0.6595629</td><td>-0.5633219</td><td> 0.4477679</td><td>-0.4668616</td></tr>\n",
       "\t<tr><th scope=row>WinterRain</th><td> 0.016970024</td><td> 0.136650547</td><td> 1.000000000</td><td>-0.321090611</td><td>-0.275440854</td><td>-0.016970024</td><td>-0.001621627</td></tr>\n",
       "\t<tr><th scope=row>AGST</th><td>-0.24691585</td><td> 0.65956286</td><td>-0.32109061</td><td> 1.00000000</td><td>-0.06449593</td><td> 0.24691585</td><td>-0.25916227</td></tr>\n",
       "\t<tr><th scope=row>HarvestRain</th><td> 0.02800907</td><td>-0.56332190</td><td>-0.27544085</td><td>-0.06449593</td><td> 1.00000000</td><td>-0.02800907</td><td> 0.04126439</td></tr>\n",
       "\t<tr><th scope=row>Age</th><td>-1.00000000</td><td> 0.44776786</td><td>-0.01697002</td><td> 0.24691585</td><td>-0.02800907</td><td> 1.00000000</td><td>-0.99448510</td></tr>\n",
       "\t<tr><th scope=row>FrancePop</th><td> 0.994485097</td><td>-0.466861641</td><td>-0.001621627</td><td>-0.259162274</td><td> 0.041264394</td><td>-0.994485097</td><td> 1.000000000</td></tr>\n",
       "</tbody>\n",
       "</table>\n"
      ],
      "text/latex": [
       "\\begin{tabular}{r|lllllll}\n",
       "  & Year & Price & WinterRain & AGST & HarvestRain & Age & FrancePop\\\\\n",
       "\\hline\n",
       "\tYear &  1.00000000 & -0.44776786 &  0.01697002 & -0.24691585 &  0.02800907 & -1.00000000 &  0.99448510\\\\\n",
       "\tPrice & -0.4477679 &  1.0000000 &  0.1366505 &  0.6595629 & -0.5633219 &  0.4477679 & -0.4668616\\\\\n",
       "\tWinterRain &  0.016970024 &  0.136650547 &  1.000000000 & -0.321090611 & -0.275440854 & -0.016970024 & -0.001621627\\\\\n",
       "\tAGST & -0.24691585 &  0.65956286 & -0.32109061 &  1.00000000 & -0.06449593 &  0.24691585 & -0.25916227\\\\\n",
       "\tHarvestRain &  0.02800907 & -0.56332190 & -0.27544085 & -0.06449593 &  1.00000000 & -0.02800907 &  0.04126439\\\\\n",
       "\tAge & -1.00000000 &  0.44776786 & -0.01697002 &  0.24691585 & -0.02800907 &  1.00000000 & -0.99448510\\\\\n",
       "\tFrancePop &  0.994485097 & -0.466861641 & -0.001621627 & -0.259162274 &  0.041264394 & -0.994485097 &  1.000000000\\\\\n",
       "\\end{tabular}\n"
      ],
      "text/markdown": [
       "1. 1\n",
       "2. -0.447767855382989\n",
       "3. 0.0169700237062503\n",
       "4. -0.246915850391149\n",
       "5. 0.0280090727015615\n",
       "6. -1\n",
       "7. 0.994485097111455\n",
       "8. -0.447767855382989\n",
       "9. 1\n",
       "10. 0.13665054738763\n",
       "11. 0.659562861143591\n",
       "12. -0.563321903510208\n",
       "13. 0.447767855382989\n",
       "14. -0.466861641249636\n",
       "15. 0.0169700237062503\n",
       "16. 0.13665054738763\n",
       "17. 1\n",
       "18. -0.321090610600727\n",
       "19. -0.275440854498618\n",
       "20. -0.0169700237062503\n",
       "21. -0.00162162696466083\n",
       "22. -0.246915850391149\n",
       "23. 0.659562861143591\n",
       "24. -0.321090610600727\n",
       "25. 1\n",
       "26. -0.0644959302726223\n",
       "27. 0.246915850391149\n",
       "28. -0.259162273546354\n",
       "29. 0.0280090727015615\n",
       "30. -0.563321903510208\n",
       "31. -0.275440854498618\n",
       "32. -0.0644959302726223\n",
       "33. 1\n",
       "34. -0.0280090727015615\n",
       "35. 0.041264394415047\n",
       "36. -1\n",
       "37. 0.447767855382989\n",
       "38. -0.0169700237062503\n",
       "39. 0.246915850391149\n",
       "40. -0.0280090727015615\n",
       "41. 1\n",
       "42. -0.994485097111455\n",
       "43. 0.994485097111455\n",
       "44. -0.466861641249636\n",
       "45. -0.00162162696466083\n",
       "46. -0.259162273546354\n",
       "47. 0.041264394415047\n",
       "48. -0.994485097111455\n",
       "49. 1\n",
       "\n",
       "\n"
      ],
      "text/plain": [
       "                   Year      Price   WinterRain        AGST HarvestRain\n",
       "Year         1.00000000 -0.4477679  0.016970024 -0.24691585  0.02800907\n",
       "Price       -0.44776786  1.0000000  0.136650547  0.65956286 -0.56332190\n",
       "WinterRain   0.01697002  0.1366505  1.000000000 -0.32109061 -0.27544085\n",
       "AGST        -0.24691585  0.6595629 -0.321090611  1.00000000 -0.06449593\n",
       "HarvestRain  0.02800907 -0.5633219 -0.275440854 -0.06449593  1.00000000\n",
       "Age         -1.00000000  0.4477679 -0.016970024  0.24691585 -0.02800907\n",
       "FrancePop    0.99448510 -0.4668616 -0.001621627 -0.25916227  0.04126439\n",
       "                    Age    FrancePop\n",
       "Year        -1.00000000  0.994485097\n",
       "Price        0.44776786 -0.466861641\n",
       "WinterRain  -0.01697002 -0.001621627\n",
       "AGST         0.24691585 -0.259162274\n",
       "HarvestRain -0.02800907  0.041264394\n",
       "Age          1.00000000 -0.994485097\n",
       "FrancePop   -0.99448510  1.000000000"
      ]
     },
     "execution_count": 58,
     "metadata": {},
     "output_type": "execute_result"
    }
   ],
   "source": [
    "t"
   ]
  },
  {
   "cell_type": "code",
   "execution_count": 59,
   "metadata": {
    "collapsed": false
   },
   "outputs": [
    {
     "data": {
      "text/html": [
       "-0.275440854498618"
      ],
      "text/latex": [
       "-0.275440854498618"
      ],
      "text/markdown": [
       "-0.275440854498618"
      ],
      "text/plain": [
       "[1] -0.2754409"
      ]
     },
     "execution_count": 59,
     "metadata": {},
     "output_type": "execute_result"
    }
   ],
   "source": [
    "cor(wine$HarvestRain,wine$WinterRain)"
   ]
  },
  {
   "cell_type": "code",
   "execution_count": 60,
   "metadata": {
    "collapsed": true
   },
   "outputs": [],
   "source": [
    "### Evaluate performance on test data"
   ]
  },
  {
   "cell_type": "code",
   "execution_count": 62,
   "metadata": {
    "collapsed": false
   },
   "outputs": [],
   "source": [
    "wine_test = read.csv(\"wine_test.csv\")"
   ]
  },
  {
   "cell_type": "code",
   "execution_count": 63,
   "metadata": {
    "collapsed": false
   },
   "outputs": [
    {
     "name": "stdout",
     "output_type": "stream",
     "text": [
      "'data.frame':\t2 obs. of  7 variables:\n",
      " $ Year       : int  1979 1980\n",
      " $ Price      : num  6.95 6.5\n",
      " $ WinterRain : int  717 578\n",
      " $ AGST       : num  16.2 16\n",
      " $ HarvestRain: int  122 74\n",
      " $ Age        : int  4 3\n",
      " $ FrancePop  : num  54836 55110\n"
     ]
    }
   ],
   "source": [
    "str(wine_test)"
   ]
  },
  {
   "cell_type": "code",
   "execution_count": 65,
   "metadata": {
    "collapsed": false
   },
   "outputs": [],
   "source": [
    "TestPredict = predict(model4, newdata = wine_test)"
   ]
  },
  {
   "cell_type": "code",
   "execution_count": 66,
   "metadata": {
    "collapsed": false
   },
   "outputs": [
    {
     "data": {
      "text/html": [
       "<dl class=dl-horizontal>\n",
       "\t<dt>1</dt>\n",
       "\t\t<dd>6.7689246296813</dd>\n",
       "\t<dt>2</dt>\n",
       "\t\t<dd>6.68491040269209</dd>\n",
       "</dl>\n"
      ],
      "text/latex": [
       "\\begin{description*}\n",
       "\\item[1] 6.7689246296813\n",
       "\\item[2] 6.68491040269209\n",
       "\\end{description*}\n"
      ],
      "text/markdown": [
       "1\n",
       ":   6.76892462968132\n",
       ":   6.68491040269209\n",
       "\n"
      ],
      "text/plain": [
       "       1        2 \n",
       "6.768925 6.684910 "
      ]
     },
     "execution_count": 66,
     "metadata": {},
     "output_type": "execute_result"
    }
   ],
   "source": [
    "TestPredict\n"
   ]
  },
  {
   "cell_type": "code",
   "execution_count": 68,
   "metadata": {
    "collapsed": false
   },
   "outputs": [
    {
     "data": {
      "text/html": [
       "<ol class=list-inline>\n",
       "\t<li>6.9541</li>\n",
       "\t<li>6.4979</li>\n",
       "</ol>\n"
      ],
      "text/latex": [
       "\\begin{enumerate*}\n",
       "\\item 6.9541\n",
       "\\item 6.4979\n",
       "\\end{enumerate*}\n"
      ],
      "text/markdown": [
       "1. 6.9541\n",
       "2. 6.4979\n",
       "\n",
       "\n"
      ],
      "text/plain": [
       "[1] 6.9541 6.4979"
      ]
     },
     "execution_count": 68,
     "metadata": {},
     "output_type": "execute_result"
    }
   ],
   "source": [
    "wine_test$Price"
   ]
  },
  {
   "cell_type": "code",
   "execution_count": 69,
   "metadata": {
    "collapsed": true
   },
   "outputs": [],
   "source": [
    "MSE = sum((TestPredict-wine_test$Price)^2)/nrow(wine_test)"
   ]
  },
  {
   "cell_type": "code",
   "execution_count": 70,
   "metadata": {
    "collapsed": false
   },
   "outputs": [
    {
     "data": {
      "text/html": [
       "0.0346314042438626"
      ],
      "text/latex": [
       "0.0346314042438626"
      ],
      "text/markdown": [
       "0.0346314042438626"
      ],
      "text/plain": [
       "[1] 0.0346314"
      ]
     },
     "execution_count": 70,
     "metadata": {},
     "output_type": "execute_result"
    }
   ],
   "source": [
    "MSE"
   ]
  },
  {
   "cell_type": "code",
   "execution_count": 71,
   "metadata": {
    "collapsed": true
   },
   "outputs": [],
   "source": [
    "SSE = sum((TestPredict-wine_test$Price)^2)"
   ]
  },
  {
   "cell_type": "code",
   "execution_count": 72,
   "metadata": {
    "collapsed": false
   },
   "outputs": [
    {
     "data": {
      "text/html": [
       "0.0692628084877252"
      ],
      "text/latex": [
       "0.0692628084877252"
      ],
      "text/markdown": [
       "0.0692628084877252"
      ],
      "text/plain": [
       "[1] 0.06926281"
      ]
     },
     "execution_count": 72,
     "metadata": {},
     "output_type": "execute_result"
    }
   ],
   "source": [
    "SSE"
   ]
  },
  {
   "cell_type": "code",
   "execution_count": 73,
   "metadata": {
    "collapsed": false
   },
   "outputs": [
    {
     "data": {
      "text/html": [
       "6.726"
      ],
      "text/latex": [
       "6.726"
      ],
      "text/markdown": [
       "6.726"
      ],
      "text/plain": [
       "[1] 6.726"
      ]
     },
     "execution_count": 73,
     "metadata": {},
     "output_type": "execute_result"
    }
   ],
   "source": [
    "mean(wine_test$Price)"
   ]
  },
  {
   "cell_type": "code",
   "execution_count": 82,
   "metadata": {
    "collapsed": true
   },
   "outputs": [],
   "source": [
    "SST = sum((wine_test$Price-mean(wine$Price))^2)"
   ]
  },
  {
   "cell_type": "code",
   "execution_count": 85,
   "metadata": {
    "collapsed": false
   },
   "outputs": [
    {
     "data": {
      "text/html": [
       "0.336926856352001"
      ],
      "text/latex": [
       "0.336926856352001"
      ],
      "text/markdown": [
       "0.336926856352001"
      ],
      "text/plain": [
       "[1] 0.3369269"
      ]
     },
     "execution_count": 85,
     "metadata": {},
     "output_type": "execute_result"
    }
   ],
   "source": [
    "SST"
   ]
  },
  {
   "cell_type": "code",
   "execution_count": 86,
   "metadata": {
    "collapsed": true
   },
   "outputs": [],
   "source": [
    "R_sq = 1-(SSE/SST)"
   ]
  },
  {
   "cell_type": "code",
   "execution_count": 87,
   "metadata": {
    "collapsed": false
   },
   "outputs": [
    {
     "data": {
      "text/html": [
       "0.794427760263303"
      ],
      "text/latex": [
       "0.794427760263303"
      ],
      "text/markdown": [
       "0.794427760263303"
      ],
      "text/plain": [
       "[1] 0.7944278"
      ]
     },
     "execution_count": 87,
     "metadata": {},
     "output_type": "execute_result"
    }
   ],
   "source": [
    "R_sq\n"
   ]
  },
  {
   "cell_type": "code",
   "execution_count": null,
   "metadata": {
    "collapsed": true
   },
   "outputs": [],
   "source": []
  }
 ],
 "metadata": {
  "kernelspec": {
   "display_name": "R",
   "language": "R",
   "name": "ir"
  },
  "language_info": {
   "codemirror_mode": "r",
   "file_extension": ".r",
   "mimetype": "text/x-r-source",
   "name": "R",
   "pygments_lexer": "r",
   "version": "3.2.2"
  }
 },
 "nbformat": 4,
 "nbformat_minor": 0
}
